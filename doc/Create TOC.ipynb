{
 "cells": [
  {
   "cell_type": "code",
   "execution_count": 4,
   "metadata": {},
   "outputs": [],
   "source": [
    "from bs4 import BeautifulSoup"
   ]
  },
  {
   "cell_type": "code",
   "execution_count": 77,
   "metadata": {
    "scrolled": true
   },
   "outputs": [],
   "source": [
    "from io import StringIO\n",
    "s = StringIO()\n",
    "with open(\"show_scipy_optimize_trials.html\") as f:\n",
    "    for line in f:\n",
    "        s.write(line)\n",
    "s.seek(0);"
   ]
  },
  {
   "cell_type": "code",
   "execution_count": 78,
   "metadata": {},
   "outputs": [],
   "source": [
    "b = BeautifulSoup(s, \"html5lib\")"
   ]
  },
  {
   "cell_type": "code",
   "execution_count": 79,
   "metadata": {},
   "outputs": [
    {
     "data": {
      "text/plain": [
       "<title>show_scipy_optimize_trials</title>"
      ]
     },
     "execution_count": 79,
     "metadata": {},
     "output_type": "execute_result"
    }
   ],
   "source": [
    "b.find('title')"
   ]
  },
  {
   "cell_type": "code",
   "execution_count": 80,
   "metadata": {},
   "outputs": [
    {
     "name": "stdout",
     "output_type": "stream",
     "text": [
      "  - [Early optimization trials](#Early-optimization-trials)\n",
      "    - [Background](#Background)\n",
      "      - [Handling constraints](#Handling-constraints)\n",
      "      - [Handling heat transfer](#Handling-heat-transfer)\n",
      "    - [Code samples](#Code-samples)\n",
      "      - [Input vectors](#Input-vectors)\n",
      "      - [Trials with scipy.optimize, constrained optimization](#Trials-with-scipy.optimize,-constrained-optimization)\n",
      "      - [Primitive barrier: first attempt](#Primitive-barrier:-first-attempt)\n",
      "      - [Primitive barrier: second attempt](#Primitive-barrier:-second-attempt)\n",
      "      - [Constraint mode 'genopt1'](#Constraint-mode-'genopt1')\n",
      "      - [Constraint mode ](#Constraint-mode-genopt2)\n",
      "    - [Trials with scipy.optimize](#Trials-with-scipy.optimize)\n",
      "      - [Setup for scipy.optimize trials](#Setup-for-scipy.optimize-trials)\n",
      "      - [Results with scipy.optimize](#Results-with-scipy.optimize)\n",
      "      - [Discussion](#Discussion)\n",
      "    - [GenOpt trials](#GenOpt-trials)\n",
      "      - [Setup for opt1](#Setup-for-opt1)\n",
      "      - [Setup for trial opt2](#Setup-for-trial-opt2)\n",
      "      - [Setup for trial opt3](#Setup-for-trial-opt3)\n",
      "      - [Setup for trial opt4](#Setup-for-trial-opt4)\n",
      "      - [Setup for trial opt5](#Setup-for-trial-opt5)\n",
      "      - [Results with GenOpt](#Results-with-GenOpt)\n",
      "      - [Discussion of GenOpt trials](#Discussion-of-GenOpt-trials)\n"
     ]
    }
   ],
   "source": [
    "for a in b.find_all('a'):\n",
    "    if 'class' in a.attrs and 'anchor-link' in a['class']:\n",
    "        pn = a.parent.name\n",
    "        heading = int(pn[1:])\n",
    "        text = a.parent.contents[0]\n",
    "        #print(pn, a['class'], a['href'])\n",
    "        print(\"{}- [{}]({})\".format(\"  \"*heading, text, a['href']))"
   ]
  },
  {
   "cell_type": "markdown",
   "metadata": {},
   "source": [
    "  - [Early optimization trials](#Early-optimization-trials)\n",
    "    - [Background](#Background)\n",
    "      - [Handling constraints](#Handling-constraints)\n",
    "      - [Handling heat transfer](#Handling-heat-transfer)\n",
    "    - [Code samples](#Code-samples)\n",
    "      - [Input vectors](#Input-vectors)\n",
    "      - [Trials with scipy.optimize, constrained optimization](#Trials-with-scipy.optimize,-constrained-optimization)\n",
    "      - [Primitive barrier: first attempt](#Primitive-barrier:-first-attempt)\n",
    "      - [Primitive barrier: second attempt](#Primitive-barrier:-second-attempt)\n",
    "      - [Constraint mode 'genopt1'](#Constraint-mode-'genopt1')\n",
    "      - [Constraint mode ](#Constraint-mode-genopt2)\n",
    "    - [Trials with scipy.optimize](#Trials-with-scipy.optimize)\n",
    "      - [Setup for scipy.optimize trials](#Setup-for-scipy.optimize-trials)\n",
    "      - [Results with scipy.optimize](#Results-with-scipy.optimize)\n",
    "      - [Discussion](#Discussion)\n",
    "    - [GenOpt trials](#GenOpt-trials)\n",
    "      - [Setup for opt1](#Setup-for-opt1)\n",
    "      - [Setup for trial opt2](#Setup-for-trial-opt2)\n",
    "      - [Setup for trial opt3](#Setup-for-trial-opt3)\n",
    "      - [Setup for trial opt4](#Setup-for-trial-opt4)\n",
    "      - [Setup for trial opt5](#Setup-for-trial-opt5)\n",
    "      - [Results with GenOpt](#Results-with-GenOpt)\n",
    "      - [Discussion of GenOpt trials](#Discussion-of-GenOpt-trials)"
   ]
  },
  {
   "cell_type": "code",
   "execution_count": null,
   "metadata": {
    "collapsed": true
   },
   "outputs": [],
   "source": []
  }
 ],
 "metadata": {
  "kernelspec": {
   "display_name": "Python 3",
   "language": "python",
   "name": "python3"
  },
  "language_info": {
   "codemirror_mode": {
    "name": "ipython",
    "version": 3
   },
   "file_extension": ".py",
   "mimetype": "text/x-python",
   "name": "python",
   "nbconvert_exporter": "python",
   "pygments_lexer": "ipython3",
   "version": "3.6.2"
  }
 },
 "nbformat": 4,
 "nbformat_minor": 2
}
