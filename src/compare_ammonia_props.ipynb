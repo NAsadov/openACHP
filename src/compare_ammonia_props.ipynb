{
 "cells": [
  {
   "cell_type": "code",
   "execution_count": null,
   "metadata": {},
   "outputs": [],
   "source": [
    "#%matplotlib inline\n",
    "%matplotlib notebook\n",
    "%load_ext autoreload\n",
    "%autoreload 2\n",
    "from __future__ import unicode_literals\n",
    "import numpy as np\n",
    "import matplotlib.pyplot as plt\n",
    "plt.rc('font',family='serif')\n",
    "#import matplotlib as mpl\n",
    "from mpl_toolkits.mplot3d import Axes3D\n",
    "import CoolProp\n",
    "from ammonia_props import AmmoniaProps, massFractionToMolar\n",
    "import tabulate"
   ]
  },
  {
   "cell_type": "code",
   "execution_count": null,
   "metadata": {},
   "outputs": [],
   "source": [
    "throwaway = CoolProp.AbstractState(\"REFPROP\",\"water\")"
   ]
  },
  {
   "cell_type": "code",
   "execution_count": null,
   "metadata": {},
   "outputs": [],
   "source": [
    "# Patek and Klomfar, my implementation\n",
    "# TODO\n",
    "\n",
    "# Ibrahim and Klein, 1995\n",
    "myammonia = AmmoniaProps()\n",
    "def wraph(**kwargs):\n",
    "    try:\n",
    "        return 1000*myammonia.h(**kwargs)\n",
    "    except:\n",
    "        return np.nan\n",
    "hfun1 = np.vectorize(wraph)\n",
    "\n",
    "# Tillner-Roth, 1998 \n",
    "#amm = lambda(x):'REFPROP::water[{}]&ammonia[{}]'.format(1-x,x)\n",
    "CPRP = CoolProp.AbstractState(\"REFPROP\",\"water&ammonia\")\n",
    "\n",
    "def hsat(T,Q,w,update=True):\n",
    "    #h = CP.PropsSI('H','T',T,'Q',Q,amm(x))\n",
    "    if update:\n",
    "        x = massFractionToMolar(w)\n",
    "        CPRP.set_mole_fractions([1-x,x])\n",
    "    try:\n",
    "        CPRP.update(CoolProp.QT_INPUTS,Q,T)\n",
    "        return CPRP.hmass()\n",
    "    except:\n",
    "        return np.nan\n",
    "hsatv = np.vectorize(hsat)\n"
   ]
  },
  {
   "cell_type": "code",
   "execution_count": null,
   "metadata": {},
   "outputs": [],
   "source": [
    "T_ref = 273.15\n",
    "h_amm_ref_rp = CoolProp.CoolProp.PropsSI(\"H\",\"T\",T_ref,\"Q\",0,\"REFPROP::ammonia\")\n",
    "h_amm_ref_ees = wraph(T=T_ref,x=1,Qu=0)\n",
    "h_offset_amm = h_amm_ref_rp - h_amm_ref_ees\n",
    "print(\"{}\\n-  {}\\n=======\\n{}\".format(h_amm_ref_rp, h_amm_ref_ees, h_offset_amm))"
   ]
  },
  {
   "cell_type": "code",
   "execution_count": null,
   "metadata": {},
   "outputs": [],
   "source": []
  },
  {
   "cell_type": "code",
   "execution_count": null,
   "metadata": {},
   "outputs": [],
   "source": [
    "help(AmmoniaProps)"
   ]
  },
  {
   "cell_type": "code",
   "execution_count": null,
   "metadata": {},
   "outputs": [],
   "source": [
    "x_w = np.logspace(-4,0)\n",
    "x = 1-x_w\n",
    "h_offset = x * h_offset_amm\n",
    "\n",
    "fig1 = plt.figure(1)\n",
    "plt.gca().ticklabel_format(axis='y', style = 'sci', scilimits=(-2,2), useOffset=False)\n",
    "plt.xlabel('Ammonia composition $x$ [kg/kg]')\n",
    "plt.ylabel('Enthalpy $h$ [J/kg]')\n",
    "plt.annotate('Saturated vapor',[0.02,2e6])\n",
    "plt.annotate('Saturated liquid',[0.02,1e6])\n",
    "fig2 = plt.figure(2)\n",
    "plt.gca().ticklabel_format(axis='y', style = 'sci', scilimits=(-2,2), useOffset=False)\n",
    "plt.xlabel('Water composition $x$ [kg/kg]')\n",
    "plt.ylabel('Enthalpy $h$ [J/kg]')\n",
    "first = True\n",
    "cc = 'b g r c m y'.split()\n",
    "TT = np.linspace(273.15,573.15,6)\n",
    "ees_hl_by_x = {}\n",
    "ees_hv_by_x = {}\n",
    "rp_hl_by_x = {}\n",
    "rp_hv_by_x = {}\n",
    "for T,c in zip(TT,cc):\n",
    "#for T in [373]:\n",
    "    print(T)\n",
    "    ees_hl_by_x[T] = hfun1(T=T,Qu=0,x=x) + h_offset\n",
    "    ees_hv_by_x[T] = hfun1(T=T,Qu=1,x=x) + h_offset\n",
    "    rp_hl_by_x[T] = hsatv(T,0,x)\n",
    "    rp_hv_by_x[T] = hsatv(T,1,x)"
   ]
  },
  {
   "cell_type": "code",
   "execution_count": null,
   "metadata": {},
   "outputs": [],
   "source": [
    "for T,c in zip(TT,cc):\n",
    "#for T in [373]:\n",
    "    plt.figure(1)\n",
    "    plt.plot(x,ees_hl_by_x[T],'--',color=c,label=\"EES+offset\" if first else None)\n",
    "    plt.plot(x,ees_hv_by_x[T],'--',color=c)\n",
    "    plt.plot(x,rp_hl_by_x[T],'-' ,color=c,label=\"REFPROP\" if first else None)\n",
    "    plt.plot(x,rp_hv_by_x[T],'-' ,color=c)\n",
    "    xtext = 0.4 + (T-273.15) * 0.001\n",
    "    htext = hfun1(T=T+5,Qu=0,x=xtext)\n",
    "    plt.annotate('{} $^\\circ$C'.format(T-273.15),[xtext,htext])\n",
    "    plt.figure(2)\n",
    "    plt.semilogx(x_w,ees_hl_by_x[T],'--',color=c)\n",
    "    plt.semilogx(x_w,ees_hv_by_x[T],'--',color=c)\n",
    "    plt.semilogx(x_w,rp_hl_by_x[T],'-' ,color=c)\n",
    "    plt.semilogx(x_w,rp_hv_by_x[T],'-' ,color=c)\n",
    "    plt.annotate('{} $^\\circ$C'.format(T-273.15),[1-xtext,htext])\n",
    "    first = False\n",
    "plt.figure(1)\n",
    "plt.legend(loc='best')\n",
    "plt.show()"
   ]
  },
  {
   "cell_type": "code",
   "execution_count": null,
   "metadata": {},
   "outputs": [],
   "source": [
    "# Saturation curve of pure ammonia, because REFPROP is not good near there\n",
    "rp_amm = CoolProp.AbstractState(\"HEOS\",\"ammonia\")\n",
    "rp_amm.build_phase_envelope(\"\")\n",
    "def h_amm_rp(T,Q):\n",
    "    try:\n",
    "        rp_amm.update(CoolProp.QT_INPUTS,Q,T)\n",
    "        return rp_amm.hmass()\n",
    "    except:\n",
    "        return np.nan\n",
    "hamham = np.vectorize(h_amm_rp)\n",
    "# Pure water, same\n",
    "rp_water = CoolProp.AbstractState(\"HEOS\",\"water\")\n",
    "rp_water.build_phase_envelope(\"\")\n",
    "def h_water_rp(T,Q):\n",
    "    try:\n",
    "        rp_water.update(CoolProp.QT_INPUTS,Q,T)\n",
    "        return rp_water.hmass()\n",
    "    except:\n",
    "        return np.nan\n",
    "humhum = np.vectorize(h_water_rp)\n",
    "\n",
    "T_c = {}\n",
    "P_c = {}\n",
    "h_c = {}\n",
    "T_c[1] = rp_amm.T_critical()\n",
    "P_c[1] = rp_amm.p_critical()\n",
    "rp_amm.specify_phase(CoolProp.iphase_critical_point)\n",
    "rp_amm.update(CoolProp.PT_INPUTS,P_c[1],T_c[1])\n",
    "h_c[1] = rp_amm.hmass()\n",
    "rp_amm.specify_phase(CoolProp.iphase_unknown)\n",
    "T_c[0] = rp_water.T_critical()\n",
    "P_c[0] = rp_water.p_critical()\n",
    "rp_water.specify_phase(CoolProp.iphase_critical_point)\n",
    "rp_water.update(CoolProp.PT_INPUTS,P_c[0],T_c[0])\n",
    "h_c[0] = rp_water.hmass()\n",
    "rp_water.specify_phase(CoolProp.iphase_unknown)\n",
    "\n",
    "ees_hl_by_T = {}\n",
    "ees_hv_by_T = {}\n",
    "rp_hl_by_T = {}\n",
    "rp_hv_by_T = {}\n",
    "\n",
    "x = 1\n",
    "Tee = np.linspace(273,T_c[1],100)\n",
    "xx=x*np.ones_like(Tee)\n",
    "rp_hl_by_T[x] = hamham(Tee,0)\n",
    "rp_hv_by_T[x] = hamham(Tee,1)\n",
    "\n",
    "for x in [0.2,0.4,0.6,0.8,0.9,0.99,0.999]:\n",
    "    xx = x*np.ones_like(Tee)\n",
    "    hsatv(300,0,x)\n",
    "    T_c[x] = CPRP.T_critical()\n",
    "    P_c[x] = CPRP.p_critical()\n",
    "    #CPRP.specify_phase(CoolProp.constants.iphase_critical_point)\n",
    "    CPRP.update(CoolProp.PT_INPUTS,P_c[x],T_c[x])\n",
    "    h_c[x] = CPRP.hmass()\n",
    "    #CPRP.specify_phase(CoolProp.constants.iphase_twophase)\n",
    "    print \"Tc_computed = {}\".format(T_c[x])\n",
    "    \n",
    "    Tee = np.linspace(273,T_c[x],100)\n",
    "    rp_hl_by_T[x] = hsatv(Tee,0,x,False)\n",
    "    rp_hv_by_T[x] = hsatv(Tee,1,x,False)\n",
    "    \n",
    "x = 0\n",
    "Tee = np.linspace(273, T_c[0],100)\n",
    "xx=x*np.ones_like(Tee)\n",
    "rp_hl_by_T[x] = humhum(Tee,0)\n",
    "rp_hv_by_T[x] = humhum(Tee,1)"
   ]
  },
  {
   "cell_type": "code",
   "execution_count": null,
   "metadata": {},
   "outputs": [],
   "source": [
    "keys = P_c.keys()\n",
    "keys.sort()\n",
    "critical_data = np.array([(k,P_c[k],T_c[k],h_c[k]) for k in keys])\n",
    "print tabulate.tabulate(critical_data,\"x P T h\".split())\n",
    "critical_data[:,0]"
   ]
  },
  {
   "cell_type": "code",
   "execution_count": null,
   "metadata": {},
   "outputs": [],
   "source": [
    "import ammonia1"
   ]
  },
  {
   "cell_type": "code",
   "execution_count": null,
   "metadata": {},
   "outputs": [],
   "source": [
    "chiller = ammonia1.AmmoniaChiller()\n",
    "chiller.update()\n",
    "display(chiller)\n",
    "cst=chiller.stateTable()\n",
    "cst['T']"
   ]
  },
  {
   "cell_type": "code",
   "execution_count": null,
   "metadata": {},
   "outputs": [],
   "source": [
    "fig = plt.figure()\n",
    "ax = fig.gca(projection='3d')\n",
    "ax.ticklabel_format(axis='x', style = 'sci', scilimits=(-2,2), useOffset=False)\n",
    "plt.xlabel('Mass specific enthalpy [J/kg]')\n",
    "plt.ylabel('Ammonia mass fraction')\n",
    "ax.set_zlabel('Temperature [$^\\circ$C]')\n",
    "\n",
    "x = 1\n",
    "Tee = np.linspace(273,T_c[x],100)\n",
    "xx=x*np.ones_like(Tee)\n",
    "plt.plot(rp_hl_by_T[x],xx,Tee-273.15,'b')\n",
    "plt.plot(rp_hv_by_T[x],xx,Tee-273.15,'r')\n",
    "\n",
    "#for x in [0.2,0.4,0.6,0.8,0.9,0.99,0.999]:\n",
    "for x in [0.4,0.6,0.8,0.9,0.99,0.999]:\n",
    "    Tee = np.linspace(273,T_c[x],100)\n",
    "    xx = x*np.ones_like(Tee)\n",
    "    indices = Tee < 273+200\n",
    "    plt.plot(rp_hl_by_T[x][indices],xx[indices],Tee[indices]-273.15,'b')\n",
    "    plt.plot(rp_hv_by_T[x][indices],xx[indices],Tee[indices]-273.15,'r')\n",
    "\n",
    "x = 0\n",
    "Tee = np.linspace(273, T_c[x],100)\n",
    "xx=x*np.ones_like(Tee)\n",
    "#plt.plot(rp_hl_by_T[x],xx,Tee-273.15,'b')\n",
    "#plt.plot(rp_hv_by_T[x],xx,Tee-273.15,'r')\n",
    "\n",
    "x_w = np.logspace(-4,0)\n",
    "x = 1-x_w\n",
    "for T,c in zip(TT,cc)[:3]:\n",
    "#for T in [373]:\n",
    "    indices = x >= 0.3\n",
    "    plt.plot(ees_hl_by_x[T][indices],x[indices],T-273.15,'b--')\n",
    "    plt.plot(ees_hv_by_x[T][indices],x[indices],T-273.15,'r--')\n",
    "    plt.plot(rp_hl_by_x[T][indices],x[indices],T-273.15,'b-' )\n",
    "    plt.plot(rp_hv_by_x[T][indices],x[indices],T-273.15,'r-' )\n",
    "\n",
    "indices = critical_data[:,2] < 500\n",
    "plt.plot(critical_data[indices,3],critical_data[indices,0],critical_data[indices,2]-273.15,\n",
    "         'k')\n",
    "\n",
    "h = cst['h']*1e3 + cst['x'] * h_offset_amm\n",
    "plt.plot(h,cst['x'],cst['T']-273.15,'o')\n",
    "for p,x,y,z in zip(chiller.points,h,cst['x'],cst['T']-273.15):\n",
    "    #ax.text(x,y,z,  p, size=20, zorder=1, color='k') \n",
    "    pass\n",
    "from Arrow3D import Arrow3D\n",
    "for (i,j) in chiller.getPaths():\n",
    "    #plt.plot(h[[i,j]],cst['x'][[i,j]],cst['T'][[i,j]]-273.15)\n",
    "    a=Arrow3D(h[[i,j]],cst['x'][[i,j]],cst['T'][[i,j]]-273.15,mutation_scale=20, lw=1, arrowstyle=\"-|>\", color=\"k\")\n",
    "    ax.add_artist(a)\n",
    "\n",
    "ax.margins(0)\n",
    "ax.autoscale_view('tight')\n",
    "ax.view_init(20,-36)\n",
    "fig.tight_layout()\n",
    "plt.savefig('../img/view1.svg')\n",
    "ax.view_init(20,-73)\n",
    "fig.tight_layout()\n",
    "plt.savefig('../img/view2.svg')\n",
    "ax.view_init(20,-109)\n",
    "fig.tight_layout()\n",
    "plt.savefig('../img/view3.svg')\n",
    "ax.set_ylim([0.4,1])\n",
    "ax.set_zlim([0,200])\n",
    "plt.show()"
   ]
  },
  {
   "cell_type": "code",
   "execution_count": null,
   "metadata": {},
   "outputs": [],
   "source": []
  },
  {
   "cell_type": "code",
   "execution_count": null,
   "metadata": {},
   "outputs": [],
   "source": [
    "from Arrow3D import Arrow3D\n",
    "fig = plt.figure()\n",
    "ax = fig.gca(projection='3d')\n",
    "#ax.quiver3D(6,6,6,1,1,1)\n",
    "a=Arrow3D((5,6),(5,6),(5,6),mutation_scale=20, lw=1, arrowstyle=\"-|>\", color=\"k\")\n",
    "ax.add_artist(a)\n",
    "ax.set_xlim([0,10])\n",
    "ax.set_ylim([0,10])\n",
    "ax.set_zlim([0,10])\n",
    "plt.show()"
   ]
  },
  {
   "cell_type": "code",
   "execution_count": null,
   "metadata": {},
   "outputs": [],
   "source": [
    "print CoolProp.CoolProp.PropsSI(\"H\",\"T\",373,\"Q\",0,\"REFPROP::ammonia\")\n",
    "print CoolProp.CoolProp.PropsSI(\"H\",\"T\",195.495,\"Q\",0,\"REFPROP::ammonia[1]&water[0]\")\n",
    "print CoolProp.CoolProp.PropsSI(\"H\",\"T\",195.495,\"Q\",0,\"REFPROP::ammonia\")\n",
    "print CoolProp.CoolProp.PropsSI(\"H\",\"T\",273.16,\"Q\",0,\"REFPROP::ammonia[0]&water[1]\")\n",
    "print CoolProp.CoolProp.PropsSI(\"H\",\"T\",273.16,\"Q\",0,\"REFPROP::water\")"
   ]
  },
  {
   "cell_type": "code",
   "execution_count": null,
   "metadata": {},
   "outputs": [],
   "source": [
    "CoolProp.CoolProp.set_reference_state('ammonia','DEF')\n",
    "CoolProp.CoolProp.PropsSI(\"H\",\"T\",373,\"Q\",0,\"HEOS::ammonia\")"
   ]
  },
  {
   "cell_type": "code",
   "execution_count": null,
   "metadata": {},
   "outputs": [],
   "source": [
    "CPRP.set_mole_fractions([0.001,0.999])\n",
    "CPRP.update(CoolProp.QT_INPUTS,0,373)\n",
    "CPRP.mole_fractions_liquid()"
   ]
  },
  {
   "cell_type": "code",
   "execution_count": null,
   "metadata": {},
   "outputs": [],
   "source": [
    "myammonia.h(T=273.15,x=1,Qu=0)"
   ]
  },
  {
   "cell_type": "code",
   "execution_count": null,
   "metadata": {},
   "outputs": [],
   "source": [
    "print CoolProp.CoolProp.PropsSI(\"H\",\"T\",273.16,\"Q\",0,\"REFPROP::ammonia[0]&water[1]\")\n",
    "print CoolProp.CoolProp.PropsSI(\"H\",\"T\",273.16,\"Q\",0,\"REFPROP::water\")"
   ]
  },
  {
   "cell_type": "code",
   "execution_count": null,
   "metadata": {},
   "outputs": [],
   "source": [
    "CoolProp.CoolProp.PropsSI(\"T\",\"H\",2e6,\"Q\",0,\"REFPROP::ammonia[1]&water[0]\")"
   ]
  },
  {
   "cell_type": "code",
   "execution_count": null,
   "metadata": {},
   "outputs": [],
   "source": [
    "reload(ammonia1)"
   ]
  },
  {
   "cell_type": "code",
   "execution_count": null,
   "metadata": {},
   "outputs": [],
   "source": []
  }
 ],
 "metadata": {
  "kernelspec": {
   "display_name": "Python 3",
   "language": "python",
   "name": "python3"
  },
  "language_info": {
   "codemirror_mode": {
    "name": "ipython",
    "version": 3
   },
   "file_extension": ".py",
   "mimetype": "text/x-python",
   "name": "python",
   "nbconvert_exporter": "python",
   "pygments_lexer": "ipython3",
   "version": "3.6.2"
  }
 },
 "nbformat": 4,
 "nbformat_minor": 1
}
