{
 "metadata": {
  "name": "",
  "signature": "sha256:2207ac9697579760c9acea36da60b4cc7ac2a3131f166289c2e80722ab7087ae"
 },
 "nbformat": 3,
 "nbformat_minor": 0,
 "worksheets": [
  {
   "cells": [
    {
     "cell_type": "code",
     "collapsed": false,
     "input": [
      "#%matplotlib inline\n",
      "from __future__ import unicode_literals\n",
      "import numpy as np\n",
      "import matplotlib.pyplot as plt\n",
      "plt.rc('font',family='serif')\n",
      "#import matplotlib as mpl\n",
      "from mpl_toolkits.mplot3d import Axes3D\n",
      "import CoolProp\n",
      "from ammonia_props import AmmoniaProps, massFractionToMolar\n",
      "import tabulate"
     ],
     "language": "python",
     "metadata": {},
     "outputs": [],
     "prompt_number": 1
    },
    {
     "cell_type": "code",
     "collapsed": false,
     "input": [
      "# Patek and Klomfar, my implementation\n",
      "# TODO\n",
      "\n",
      "# Ibrahim and Klein, 1995\n",
      "myammonia = AmmoniaProps()\n",
      "def wraph(**kwargs):\n",
      "    try:\n",
      "        return 1000*myammonia.h(**kwargs)\n",
      "    except:\n",
      "        return np.nan\n",
      "hfun1 = np.vectorize(wraph)\n",
      "\n",
      "# Tillner-Roth, 1998 \n",
      "#amm = lambda(x):'REFPROP::water[{}]&ammonia[{}]'.format(1-x,x)\n",
      "CPRP = CoolProp.AbstractState(\"REFPROP\",\"water&ammonia\")\n",
      "\n",
      "def hsat(T,Q,w,update=True):\n",
      "    #h = CP.PropsSI('H','T',T,'Q',Q,amm(x))\n",
      "    if update:\n",
      "        x = massFractionToMolar(w)\n",
      "        CPRP.set_mole_fractions([1-x,x])\n",
      "    try:\n",
      "        CPRP.update(CoolProp.QT_INPUTS,Q,T)\n",
      "        return CPRP.hmass()\n",
      "    except:\n",
      "        return np.nan\n",
      "hsatv = np.vectorize(hsat)\n"
     ],
     "language": "python",
     "metadata": {},
     "outputs": [
      {
       "output_type": "stream",
       "stream": "stdout",
       "text": [
        "NH3H2O\n"
       ]
      }
     ],
     "prompt_number": 2
    },
    {
     "cell_type": "code",
     "collapsed": false,
     "input": [
      "T_ref = 273.15\n",
      "h_amm_ref_rp = CoolProp.CoolProp.PropsSI(\"H\",\"T\",T_ref,\"Q\",0,\"REFPROP::ammonia\")\n",
      "h_amm_ref_ees = wraph(T=T_ref,x=1,Qu=0)\n",
      "h_offset_amm = h_amm_ref_rp - h_amm_ref_ees\n",
      "print \"{}\\n-  {}\\n=======\\n{}\".format(h_amm_ref_rp, h_amm_ref_ees, h_offset_amm)"
     ],
     "language": "python",
     "metadata": {},
     "outputs": [
      {
       "output_type": "stream",
       "stream": "stdout",
       "text": [
        "343154.634974\n",
        "-  9.74961674564\n",
        "=======\n",
        "343144.885357\n"
       ]
      }
     ],
     "prompt_number": 3
    },
    {
     "cell_type": "code",
     "collapsed": false,
     "input": [],
     "language": "python",
     "metadata": {},
     "outputs": [],
     "prompt_number": 3
    },
    {
     "cell_type": "code",
     "collapsed": false,
     "input": [
      "help(AmmoniaProps)"
     ],
     "language": "python",
     "metadata": {},
     "outputs": [
      {
       "output_type": "stream",
       "stream": "stdout",
       "text": [
        "Help on class AmmoniaProps in module ammonia_props:\n",
        "\n",
        "class AmmoniaProps\n",
        " |  Imports the EES NH3H2O library, if installed.\n",
        " |  \n",
        " |  Methods defined here:\n",
        " |  \n",
        " |  P(self, **kwargs)\n",
        " |  \n",
        " |  Qu(self, **kwargs)\n",
        " |  \n",
        " |  T(self, **kwargs)\n",
        " |  \n",
        " |  __init__(self, path=r'C:\\EES32\\Userlib\\EES_System\\nh3h2o.dlp')\n",
        " |      Args\n",
        " |      ----\n",
        " |          path : (string)\n",
        " |              The full path to the DLL file to load.\n",
        " |  \n",
        " |  h(self, **kwargs)\n",
        " |  \n",
        " |  props(self, code)\n",
        " |      Returns an instance of ammoniaWaterFunc instance for the given set\n",
        " |      of input parameters. The resulting object can be called as a functor.\n",
        " |      \n",
        " |      Args\n",
        " |      ----\n",
        " |          code : (string or number)\n",
        " |              Defines the three input parameters.\n",
        " |              Can be one of the numbers in availableCodes, or a string\n",
        " |              concatenation of the corresponding names.\n",
        " |  \n",
        " |  props2(self, **kwargs)\n",
        " |      Returns the state corresponding to the given set of inputs and\n",
        " |      values. To determine the units, you will have to use props().\n",
        " |      \n",
        " |      kwargs\n",
        " |      ------\n",
        " |      Choose three in a combination matching the availableCodes.\n",
        " |          T : (float)\n",
        " |              Temperature (K)\n",
        " |          P : (float)\n",
        " |              Pressure (bar)\n",
        " |          x : (float)\n",
        " |              Ammonia mass fraction (kg/kg)\n",
        " |          h : (float)\n",
        " |              Mass specific enthalpy (kJ/kg)\n",
        " |          s : (float)\n",
        " |              Mass specific entropy (kJ/kg-K)\n",
        " |          u : (float)\n",
        " |              Mass specific internal energy (kJ/kg)\n",
        " |          v : (float)\n",
        " |              Mass specific volume (m^3/kg)\n",
        " |          Qu : (float)\n",
        " |              Vapor quality (kg/kg)\n",
        " |          out : (string)\n",
        " |              [Optional] Just return the named variable instead of a State.\n",
        " |  \n",
        " |  s(self, **kwargs)\n",
        " |  \n",
        " |  u(self, **kwargs)\n",
        " |  \n",
        " |  x(self, **kwargs)\n",
        "\n"
       ]
      }
     ],
     "prompt_number": 4
    },
    {
     "cell_type": "code",
     "collapsed": false,
     "input": [
      "x_w = np.logspace(-4,0)\n",
      "x = 1-x_w\n",
      "h_offset = x * h_offset_amm\n",
      "\n",
      "fig1 = plt.figure(1)\n",
      "plt.gca().ticklabel_format(axis='y', style = 'sci', scilimits=(-2,2), useOffset=False)\n",
      "plt.xlabel('Ammonia composition $x$ [kg/kg]')\n",
      "plt.ylabel('Enthalpy $h$ [J/kg]')\n",
      "plt.annotate('Saturated vapor',[0.02,2e6])\n",
      "plt.annotate('Saturated liquid',[0.02,1e6])\n",
      "fig2 = plt.figure(2)\n",
      "plt.gca().ticklabel_format(axis='y', style = 'sci', scilimits=(-2,2), useOffset=False)\n",
      "plt.xlabel('Water composition $x$ [kg/kg]')\n",
      "plt.ylabel('Enthalpy $h$ [J/kg]')\n",
      "first = True\n",
      "cc = 'b g r c m y'.split()\n",
      "TT = np.linspace(273.15,573.15,6)\n",
      "ees_hl_by_x = {}\n",
      "ees_hv_by_x = {}\n",
      "rp_hl_by_x = {}\n",
      "rp_hv_by_x = {}\n",
      "for T,c in zip(TT,cc):\n",
      "#for T in [373]:\n",
      "    print T\n",
      "    ees_hl_by_x[T] = hfun1(T=T,Qu=0,x=x) + h_offset\n",
      "    ees_hv_by_x[T] = hfun1(T=T,Qu=1,x=x) + h_offset\n",
      "    rp_hl_by_x[T] = hsatv(T,0,x)\n",
      "    rp_hv_by_x[T] = hsatv(T,1,x)"
     ],
     "language": "python",
     "metadata": {},
     "outputs": [
      {
       "output_type": "stream",
       "stream": "stdout",
       "text": [
        "273.15\n",
        "333.15"
       ]
      },
      {
       "output_type": "stream",
       "stream": "stdout",
       "text": [
        "\n",
        "393.15"
       ]
      },
      {
       "output_type": "stream",
       "stream": "stdout",
       "text": [
        "\n",
        "453.15"
       ]
      },
      {
       "output_type": "stream",
       "stream": "stdout",
       "text": [
        "\n",
        "513.15"
       ]
      },
      {
       "output_type": "stream",
       "stream": "stdout",
       "text": [
        "\n",
        "573.15"
       ]
      },
      {
       "output_type": "stream",
       "stream": "stdout",
       "text": [
        "\n"
       ]
      },
      {
       "output_type": "stream",
       "stream": "stderr",
       "text": [
        "C:\\Python27\\lib\\site-packages\\numpy\\lib\\function_base.py:1880: RuntimeWarning: overflow encountered in func (vectorized)\n",
        "  outputs = ufunc(*inputs)\n",
        "C:\\Python27\\lib\\site-packages\\numpy\\lib\\function_base.py:1880: RuntimeWarning: invalid value encountered in func (vectorized)\n",
        "  outputs = ufunc(*inputs)\n"
       ]
      }
     ],
     "prompt_number": 5
    },
    {
     "cell_type": "code",
     "collapsed": false,
     "input": [
      "for T,c in zip(TT,cc):\n",
      "#for T in [373]:\n",
      "    plt.figure(1)\n",
      "    plt.plot(x,ees_hl_by_x[T],'--',color=c,label=\"EES+offset\" if first else None)\n",
      "    plt.plot(x,ees_hv_by_x[T],'--',color=c)\n",
      "    plt.plot(x,rp_hl_by_x[T],'-' ,color=c,label=\"REFPROP\" if first else None)\n",
      "    plt.plot(x,rp_hv_by_x[T],'-' ,color=c)\n",
      "    xtext = 0.4 + (T-273.15) * 0.001\n",
      "    htext = hfun1(T=T+5,Qu=0,x=xtext)\n",
      "    plt.annotate('{} $^\\circ$C'.format(T-273.15),[xtext,htext])\n",
      "    plt.figure(2)\n",
      "    plt.semilogx(x_w,ees_hl_by_x[T],'--',color=c)\n",
      "    plt.semilogx(x_w,ees_hv_by_x[T],'--',color=c)\n",
      "    plt.semilogx(x_w,rp_hl_by_x[T],'-' ,color=c)\n",
      "    plt.semilogx(x_w,rp_hv_by_x[T],'-' ,color=c)\n",
      "    plt.annotate('{} $^\\circ$C'.format(T-273.15),[1-xtext,htext])\n",
      "    first = False\n",
      "plt.figure(1)\n",
      "plt.legend(loc='best')\n",
      "plt.show()"
     ],
     "language": "python",
     "metadata": {},
     "outputs": [],
     "prompt_number": 6
    },
    {
     "cell_type": "code",
     "collapsed": false,
     "input": [
      "# Saturation curve of pure ammonia, because REFPROP is not good near there\n",
      "rp_amm = CoolProp.AbstractState(\"HEOS\",\"ammonia\")\n",
      "rp_amm.build_phase_envelope(\"\")\n",
      "def h_amm_rp(T,Q):\n",
      "    try:\n",
      "        rp_amm.update(CoolProp.QT_INPUTS,Q,T)\n",
      "        return rp_amm.hmass()\n",
      "    except:\n",
      "        return np.nan\n",
      "hamham = np.vectorize(h_amm_rp)\n",
      "# Pure water, same\n",
      "rp_water = CoolProp.AbstractState(\"HEOS\",\"water\")\n",
      "rp_water.build_phase_envelope(\"\")\n",
      "def h_water_rp(T,Q):\n",
      "    try:\n",
      "        rp_water.update(CoolProp.QT_INPUTS,Q,T)\n",
      "        return rp_water.hmass()\n",
      "    except:\n",
      "        return np.nan\n",
      "humhum = np.vectorize(h_water_rp)\n",
      "\n",
      "T_c = {}\n",
      "P_c = {}\n",
      "h_c = {}\n",
      "T_c[1] = rp_amm.T_critical()\n",
      "P_c[1] = rp_amm.p_critical()\n",
      "rp_amm.specify_phase(CoolProp.iphase_critical_point)\n",
      "rp_amm.update(CoolProp.PT_INPUTS,P_c[1],T_c[1])\n",
      "h_c[1] = rp_amm.hmass()\n",
      "rp_amm.specify_phase(CoolProp.iphase_unknown)\n",
      "T_c[0] = rp_water.T_critical()\n",
      "P_c[0] = rp_water.p_critical()\n",
      "rp_water.specify_phase(CoolProp.iphase_critical_point)\n",
      "rp_water.update(CoolProp.PT_INPUTS,P_c[0],T_c[0])\n",
      "h_c[0] = rp_water.hmass()\n",
      "rp_water.specify_phase(CoolProp.iphase_unknown)\n",
      "\n",
      "ees_hl_by_T = {}\n",
      "ees_hv_by_T = {}\n",
      "rp_hl_by_T = {}\n",
      "rp_hv_by_T = {}\n",
      "\n",
      "x = 1\n",
      "Tee = np.linspace(273,T_c[1],100)\n",
      "xx=x*np.ones_like(Tee)\n",
      "rp_hl_by_T[x] = hamham(Tee,0)\n",
      "rp_hv_by_T[x] = hamham(Tee,1)\n",
      "\n",
      "for x in [0.2,0.4,0.6,0.8,0.9,0.99,0.999]:\n",
      "    xx = x*np.ones_like(Tee)\n",
      "    hsatv(300,0,x)\n",
      "    T_c[x] = CPRP.T_critical()\n",
      "    P_c[x] = CPRP.p_critical()\n",
      "    #CPRP.specify_phase(CoolProp.constants.iphase_critical_point)\n",
      "    CPRP.update(CoolProp.PT_INPUTS,P_c[x],T_c[x])\n",
      "    h_c[x] = CPRP.hmass()\n",
      "    #CPRP.specify_phase(CoolProp.constants.iphase_twophase)\n",
      "    print \"Tc_computed = {}\".format(T_c[x])\n",
      "    \n",
      "    Tee = np.linspace(273,T_c[x],100)\n",
      "    rp_hl_by_T[x] = hsatv(Tee,0,x,False)\n",
      "    rp_hv_by_T[x] = hsatv(Tee,1,x,False)\n",
      "    \n",
      "x = 0\n",
      "Tee = np.linspace(273, T_c[0],100)\n",
      "xx=x*np.ones_like(Tee)\n",
      "rp_hl_by_T[x] = humhum(Tee,0)\n",
      "rp_hv_by_T[x] = humhum(Tee,1)"
     ],
     "language": "python",
     "metadata": {},
     "outputs": [
      {
       "output_type": "stream",
       "stream": "stdout",
       "text": [
        "Tc_computed = 609.562697839\n",
        "Tc_computed = 570.270575717"
       ]
      },
      {
       "output_type": "stream",
       "stream": "stdout",
       "text": [
        "\n",
        "Tc_computed = 528.292109976"
       ]
      },
      {
       "output_type": "stream",
       "stream": "stdout",
       "text": [
        "\n",
        "Tc_computed = 480.355074113"
       ]
      },
      {
       "output_type": "stream",
       "stream": "stdout",
       "text": [
        "\n",
        "Tc_computed = 448.580796769"
       ]
      },
      {
       "output_type": "stream",
       "stream": "stdout",
       "text": [
        "\n",
        "Tc_computed = 410.417698997"
       ]
      },
      {
       "output_type": "stream",
       "stream": "stdout",
       "text": [
        "\n",
        "Tc_computed = 405.909892271"
       ]
      },
      {
       "output_type": "stream",
       "stream": "stdout",
       "text": [
        "\n"
       ]
      }
     ],
     "prompt_number": 7
    },
    {
     "cell_type": "code",
     "collapsed": false,
     "input": [
      "keys = P_c.keys()\n",
      "keys.sort()\n",
      "critical_data = np.array([(k,P_c[k],T_c[k],h_c[k]) for k in keys])\n",
      "print tabulate.tabulate(critical_data,\"x P T h\".split())\n",
      "critical_data[:,0]"
     ],
     "language": "python",
     "metadata": {},
     "outputs": [
      {
       "output_type": "stream",
       "stream": "stdout",
       "text": [
        "    x            P        T            h\n",
        "-----  -----------  -------  -----------\n",
        "0      2.2064e+07   647.096  2.08812e+06\n",
        "0.2    2.10731e+07  609.563  1.99408e+06\n",
        "0.4    1.94653e+07  570.271  1.84762e+06\n",
        "0.6    1.80713e+07  528.292  1.68339e+06\n",
        "0.8    1.67177e+07  480.355  1.5212e+06\n",
        "0.9    1.49619e+07  448.581  1.41137e+06\n",
        "0.99   1.18128e+07  410.418  1.28287e+06\n",
        "0.999  1.13879e+07  405.91   1.26565e+06\n",
        "1      1.1333e+07   405.4    1.31622e+06\n"
       ]
      },
      {
       "metadata": {},
       "output_type": "pyout",
       "prompt_number": 8,
       "text": [
        "array([ 0.   ,  0.2  ,  0.4  ,  0.6  ,  0.8  ,  0.9  ,  0.99 ,  0.999,  1.   ])"
       ]
      }
     ],
     "prompt_number": 8
    },
    {
     "cell_type": "code",
     "collapsed": false,
     "input": [
      "from ammonia1 import AmmoniaChiller\n",
      "chiller = AmmoniaChiller()\n",
      "chiller.update()\n",
      "print chiller\n",
      "cst=chiller.stateTable()\n",
      "cst['T']"
     ],
     "language": "python",
     "metadata": {},
     "outputs": [
      {
       "output_type": "stream",
       "stream": "stdout",
       "text": [
        "                                 T         P         x          h         s          u           v           Qu\n",
        "-------------------------  -------  --------  --------  ---------  --------  ---------  ----------  -----------\n",
        "rich_abs_outlet            310.15    4.95842  0.516319   -73.3924  0.39369    -74.0037  0.00123283   0\n",
        "rich_pump_outlet           310.312  15.007    0.516319   -71.8442  0.394689   -73.6936  0.00123237  -0.001\n",
        "rich_shx_outlet            351.235  15.007    0.516319   122.249   0.980631   119.477   0.00184706   0.00529894\n",
        "rich_gen_sat_liquid        350.815  15.007    0.516319   113.61    0.95617    111.651   0.00130552   0\n",
        "weak_gen_outlet            374.15   15.007    0.392795   226.277   1.26127    224.375   0.00126746   0\n",
        "weak_shx_outlet            320.111  15.007    0.392795   -17.3975  0.558457   -19.1644  0.00117742  -0.001\n",
        "weak_exp_outlet            320.296   4.95842  0.392795   -17.3975  0.562153   -17.9818  0.00117827  -0.001\n",
        "gen_vapor_outlet           350.815  15.007    0.9888    1421.41    4.56943   1266.06    0.103522     1\n",
        "gen_reflux_inlet           350.815  15.007    0.516318   113.608   0.95616    111.648   0.00130552   0\n",
        "refrig_rect_outlet         313.65   15.007    0.999869  1299.17    4.20264   1168.41    0.0871322    1.001\n",
        "refrig_cond_outlet         311.85   15.007    0.999869   184.475   0.636894   181.884   0.00172641   0\n",
        "refrig_cehx_liquid_outlet  295.058  15.007    0.999869   102.848   0.368091   100.376   0.00164695  -0.001\n",
        "refrig_exp_outlet          277.061   4.95842  0.999869   102.848   0.382054    93.653   0.0185432    0.0676748\n",
        "refrig_evap_outlet         278.45    4.95842  0.999869  1273.57    4.5892    1147.85    0.25414      0.998\n",
        "refrig_cehx_sat_vapor      283.949   4.95842  0.999869  1290.09    4.64658   1160.92    0.260509     1\n",
        "refrig_cehx_vapor_outlet   310.071   4.95842  0.999869  1355.2     4.86531   1210.95    0.290926     1.001\n",
        "rectifier_liquid           313.65   15.007    0.949973   156.292   0.664603   153.798   0.00166202   0\n",
        "gen_vapor_formation        374.15   15.007    0.957957  1516.75    4.82893   1348.38    0.112192     1\n",
        "\n",
        "name          unit         value\n",
        "------------  ------  ----------\n",
        "Q_abs         W       0\n",
        "Q_gen         W       0\n",
        "Q_cond        W       0\n",
        "Q_evap        W       0\n",
        "W_pump        W       0\n",
        "m_rich        kg/s    0.4\n",
        "m_weak        kg/s    0.31861\n",
        "m_gen_vapor   kg/s    0.0832967\n",
        "m_gen_reflux  kg/s    0.00190674\n",
        "m_refrig      kg/s    0.08139\n"
       ]
      },
      {
       "metadata": {},
       "output_type": "pyout",
       "prompt_number": 11,
       "text": [
        "array([ 310.1499939 ,  310.31192017,  351.23522949,  350.81484985,\n",
        "        374.1499939 ,  320.11099243,  320.29577637,  350.81484985,\n",
        "        350.81484985,  313.6499939 ,  311.8500061 ,  295.05761719,\n",
        "        277.0614624 ,  278.45001221,  283.94909668,  310.07052612,\n",
        "        313.6499939 ,  374.1499939 ], dtype=float32)"
       ]
      }
     ],
     "prompt_number": 11
    },
    {
     "cell_type": "code",
     "collapsed": false,
     "input": [
      "fig = plt.figure()\n",
      "ax = fig.gca(projection='3d')\n",
      "ax.ticklabel_format(axis='x', style = 'sci', scilimits=(-2,2), useOffset=False)\n",
      "plt.xlabel('Mass specific enthalpy [J/kg]')\n",
      "plt.ylabel('Ammonia mass fraction')\n",
      "ax.set_zlabel('Temperature [$^\\circ C$]')\n",
      "\n",
      "x = 1\n",
      "Tee = np.linspace(273,T_c[x],100)\n",
      "xx=x*np.ones_like(Tee)\n",
      "plt.plot(rp_hl_by_T[x],xx,Tee-273.15,'b')\n",
      "plt.plot(rp_hv_by_T[x],xx,Tee-273.15,'r')\n",
      "\n",
      "for x in [0.2,0.4,0.6,0.8,0.9,0.99,0.999]:\n",
      "    Tee = np.linspace(273,T_c[x],100)\n",
      "    xx = x*np.ones_like(Tee)\n",
      "    plt.plot(rp_hl_by_T[x],xx,Tee-273.15,'b')\n",
      "    plt.plot(rp_hv_by_T[x],xx,Tee-273.15,'r')\n",
      "\n",
      "x = 0\n",
      "Tee = np.linspace(273, T_c[x],100)\n",
      "xx=x*np.ones_like(Tee)\n",
      "plt.plot(rp_hl_by_T[x],xx,Tee-273.15,'b')\n",
      "plt.plot(rp_hv_by_T[x],xx,Tee-273.15,'r')\n",
      "\n",
      "x_w = np.logspace(-4,0)\n",
      "x = 1-x_w\n",
      "for T,c in zip(TT,cc):\n",
      "#for T in [373]:\n",
      "    plt.plot(ees_hl_by_x[T],x,T-273.15,'b--')\n",
      "    plt.plot(ees_hv_by_x[T],x,T-273.15,'r--')\n",
      "    plt.plot(rp_hl_by_x[T],x,T-273.15,'b-' )\n",
      "    plt.plot(rp_hv_by_x[T],x,T-273.15,'r-' )\n",
      "\n",
      "plt.plot(critical_data[:,3],critical_data[:,0],critical_data[:,2]-273.15,\n",
      "         'k')\n",
      "\n",
      "h = cst['h']*1e3 + cst['x'] * h_offset_amm\n",
      "plt.plot(h,cst['x'],cst['T']-273.15,'o')\n",
      "\n",
      "ax.margins(0)\n",
      "ax.autoscale_view('tight')\n",
      "ax.view_init(20,-36)\n",
      "fig.tight_layout()\n",
      "plt.savefig('../img/view1.svg')\n",
      "ax.view_init(20,-73)\n",
      "fig.tight_layout()\n",
      "plt.savefig('../img/view2.svg')\n",
      "ax.view_init(20,-109)\n",
      "fig.tight_layout()\n",
      "plt.savefig('../img/view3.svg')\n",
      "plt.show()"
     ],
     "language": "python",
     "metadata": {},
     "outputs": [],
     "prompt_number": 14
    },
    {
     "cell_type": "code",
     "collapsed": false,
     "input": [
      "<a href=\"../img/views.html\">views</a>\n"
     ],
     "language": "python",
     "metadata": {},
     "outputs": []
    },
    {
     "cell_type": "code",
     "collapsed": false,
     "input": [
      "print CoolProp.CoolProp.PropsSI(\"H\",\"T\",373,\"Q\",0,\"REFPROP::ammonia\")\n",
      "print CoolProp.CoolProp.PropsSI(\"H\",\"T\",195.495,\"Q\",0,\"REFPROP::ammonia[1]&water[0]\")\n",
      "print CoolProp.CoolProp.PropsSI(\"H\",\"T\",195.495,\"Q\",0,\"REFPROP::ammonia\")\n",
      "print CoolProp.CoolProp.PropsSI(\"H\",\"T\",273.16,\"Q\",0,\"REFPROP::ammonia[0]&water[1]\")\n",
      "print CoolProp.CoolProp.PropsSI(\"H\",\"T\",273.16,\"Q\",0,\"REFPROP::water\")"
     ],
     "language": "python",
     "metadata": {},
     "outputs": [
      {
       "output_type": "stream",
       "stream": "stdout",
       "text": [
        "863182.17178\n",
        "8.31109023148\n",
        "8.31109023148\n",
        "-29.9654775138"
       ]
      },
      {
       "output_type": "stream",
       "stream": "stdout",
       "text": [
        "\n",
        "0.61178165961\n"
       ]
      }
     ],
     "prompt_number": 79
    },
    {
     "cell_type": "code",
     "collapsed": false,
     "input": [
      "CoolProp.CoolProp.set_reference_state('ammonia','DEF')\n",
      "CoolProp.CoolProp.PropsSI(\"H\",\"T\",373,\"Q\",0,\"HEOS::ammonia\")"
     ],
     "language": "python",
     "metadata": {},
     "outputs": [
      {
       "metadata": {},
       "output_type": "pyout",
       "prompt_number": 78,
       "text": [
        "863182.2542360559"
       ]
      }
     ],
     "prompt_number": 78
    },
    {
     "cell_type": "code",
     "collapsed": false,
     "input": [
      "CPRP.set_mole_fractions([0.001,0.999])\n",
      "CPRP.update(CoolProp.QT_INPUTS,0,373)\n",
      "CPRP.mole_fractions_liquid()"
     ],
     "language": "python",
     "metadata": {},
     "outputs": [
      {
       "metadata": {},
       "output_type": "pyout",
       "prompt_number": 38,
       "text": [
        "[0.001, 0.999]"
       ]
      }
     ],
     "prompt_number": 38
    },
    {
     "cell_type": "code",
     "collapsed": false,
     "input": [
      "myammonia.h(T=273.15,x=1,Qu=0)"
     ],
     "language": "python",
     "metadata": {},
     "outputs": [
      {
       "metadata": {},
       "output_type": "pyout",
       "prompt_number": 58,
       "text": [
        "0.009749616745638465"
       ]
      }
     ],
     "prompt_number": 58
    },
    {
     "cell_type": "code",
     "collapsed": false,
     "input": [
      "print CoolProp.CoolProp.PropsSI(\"H\",\"T\",273.16,\"Q\",0,\"REFPROP::ammonia[0]&water[1]\")\n",
      "print CoolProp.CoolProp.PropsSI(\"H\",\"T\",273.16,\"Q\",0,\"REFPROP::water\")"
     ],
     "language": "python",
     "metadata": {},
     "outputs": [
      {
       "output_type": "stream",
       "stream": "stdout",
       "text": [
        "-29.9654775138\n",
        "0.61178165961\n"
       ]
      }
     ],
     "prompt_number": 73
    },
    {
     "cell_type": "code",
     "collapsed": false,
     "input": [
      "CoolProp.CoolProp.PropsSI(\"T\",\"H\",2e6,\"Q\",0,\"REFPROP::ammonia[1]&water[0]\")"
     ],
     "language": "python",
     "metadata": {},
     "outputs": [
      {
       "ename": "ValueError",
       "evalue": "Input pair variable is invalid and output(s) are non-trivial; cannot do state update : PropsSI(\"T\",\"H\",2000000,\"Q\",0,\"REFPROP::ammonia[1]&water[0]\")",
       "output_type": "pyerr",
       "traceback": [
        "\u001b[1;31m---------------------------------------------------------------------------\u001b[0m\n\u001b[1;31mValueError\u001b[0m                                Traceback (most recent call last)",
        "\u001b[1;32m<ipython-input-7-33f5c8df7ab9>\u001b[0m in \u001b[0;36m<module>\u001b[1;34m()\u001b[0m\n\u001b[1;32m----> 1\u001b[1;33m \u001b[0mCoolProp\u001b[0m\u001b[1;33m.\u001b[0m\u001b[0mCoolProp\u001b[0m\u001b[1;33m.\u001b[0m\u001b[0mPropsSI\u001b[0m\u001b[1;33m(\u001b[0m\u001b[1;34m\"T\"\u001b[0m\u001b[1;33m,\u001b[0m\u001b[1;34m\"H\"\u001b[0m\u001b[1;33m,\u001b[0m\u001b[1;36m2e6\u001b[0m\u001b[1;33m,\u001b[0m\u001b[1;34m\"Q\"\u001b[0m\u001b[1;33m,\u001b[0m\u001b[1;36m0\u001b[0m\u001b[1;33m,\u001b[0m\u001b[1;34m\"REFPROP::ammonia[1]&water[0]\"\u001b[0m\u001b[1;33m)\u001b[0m\u001b[1;33m\u001b[0m\u001b[0m\n\u001b[0m",
        "\u001b[1;32mC:\\Python27\\lib\\site-packages\\CoolProp\\CoolProp.pyd\u001b[0m in \u001b[0;36mCoolProp.CoolProp.PropsSI (CoolProp\\CoolProp.cpp:30386)\u001b[1;34m()\u001b[0m\n",
        "\u001b[1;32mC:\\Python27\\lib\\site-packages\\CoolProp\\CoolProp.pyd\u001b[0m in \u001b[0;36mCoolProp.CoolProp.PropsSI (CoolProp\\CoolProp.cpp:30187)\u001b[1;34m()\u001b[0m\n",
        "\u001b[1;32mC:\\Python27\\lib\\site-packages\\CoolProp\\CoolProp.pyd\u001b[0m in \u001b[0;36mCoolProp.CoolProp.__Props_err2 (CoolProp\\CoolProp.cpp:28512)\u001b[1;34m()\u001b[0m\n",
        "\u001b[1;31mValueError\u001b[0m: Input pair variable is invalid and output(s) are non-trivial; cannot do state update : PropsSI(\"T\",\"H\",2000000,\"Q\",0,\"REFPROP::ammonia[1]&water[0]\")"
       ]
      }
     ],
     "prompt_number": 7
    },
    {
     "cell_type": "code",
     "collapsed": false,
     "input": [
      "del AmmoniaChiller"
     ],
     "language": "python",
     "metadata": {},
     "outputs": [],
     "prompt_number": 17
    },
    {
     "cell_type": "code",
     "collapsed": false,
     "input": [],
     "language": "python",
     "metadata": {},
     "outputs": []
    }
   ],
   "metadata": {}
  }
 ]
}