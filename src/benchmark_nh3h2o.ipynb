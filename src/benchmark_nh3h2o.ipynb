{
 "cells": [
  {
   "cell_type": "code",
   "execution_count": 1,
   "metadata": {
    "collapsed": true
   },
   "outputs": [],
   "source": [
    "import numpy\n",
    "import matplotlib.pyplot as plt\n",
    "import ammonia_props\n",
    "amm = ammonia_props.AmmoniaProps()"
   ]
  },
  {
   "cell_type": "code",
   "execution_count": null,
   "metadata": {
    "collapsed": true
   },
   "outputs": [],
   "source": [
    "0.8**20"
   ]
  },
  {
   "cell_type": "code",
   "execution_count": null,
   "metadata": {
    "collapsed": true
   },
   "outputs": [],
   "source": [
    "def bracket_p_min(x, p_low=0.002, p_high=0.2, max_iter=10):\n",
    "    for i in range(max_iter):\n",
    "        p = 0.5 * (p_low + p_high)\n",
    "        try:\n",
    "            state=amm.props2(x=x,P=p,Qu=0)\n",
    "            # This p is valid, so reduce the upper bracket\n",
    "            p_high = p\n",
    "        except:\n",
    "            # This p is invalid (too high), so set as lower bracket\n",
    "            p_low = p\n",
    "            \n",
    "    return (p_low, p_high, state)"
   ]
  },
  {
   "cell_type": "code",
   "execution_count": null,
   "metadata": {
    "collapsed": true
   },
   "outputs": [],
   "source": [
    "x_range = numpy.linspace(0,1,1001)\n",
    "p_min = numpy.empty_like(x_range)\n",
    "p_min.fill(numpy.nan)\n",
    "t_out = p_min.copy()\n",
    "for i, x in enumerate(x_range):\n",
    "    p_low, p_high, state = bracket_p_min(x)\n",
    "    p_min[i] = p_low\n",
    "    t_out[i] = state.T"
   ]
  },
  {
   "cell_type": "code",
   "execution_count": null,
   "metadata": {
    "collapsed": true
   },
   "outputs": [],
   "source": [
    "print(p_min.max())\n",
    "p_above = p_min.max() * 1.1\n",
    "t2 = amm.props2v(x=x_range,P=p_above,Qu=0,out='T')"
   ]
  },
  {
   "cell_type": "code",
   "execution_count": null,
   "metadata": {
    "collapsed": true
   },
   "outputs": [],
   "source": [
    "fig=plt.figure(figsize=(4,6))\n",
    "ax1=fig.add_subplot(211)\n",
    "#plt.xlabel('Ammonia mass fraction')\n",
    "plt.ylabel('Minimum pressure (bar)\\nbefore function fails')\n",
    "plt.plot(x_range,p_min,'.')\n",
    "ax2=fig.add_subplot(212,sharex=ax1)\n",
    "#ax2 = ax1.twinx()\n",
    "plt.xlabel('Ammonia mass fraction')\n",
    "plt.ylabel('Temperature (K)\\nof saturated liquid (Qu=0) ')\n",
    "plt.plot(x_range,t_out,'.',label='At min pressure')\n",
    "plt.plot(x_range,t2,'-',label='At p={:g} bar'.format(p_above))\n",
    "plt.legend()\n",
    "plt.show()"
   ]
  },
  {
   "cell_type": "markdown",
   "metadata": {},
   "source": [
    "So, on my desktop, for any pressure no less than about 0.177957 bar, we can evaluate the liquid state for all x. But on the laptop, we can evaluate the function across the entire domain for any pressure down to about 0.00586719. That indicates a significant problem with evaluation on the desktop."
   ]
  },
  {
   "cell_type": "code",
   "execution_count": 8,
   "metadata": {
    "collapsed": true
   },
   "outputs": [],
   "source": [
    "def bracket_p_max(x, p_low=0., p_high=2000., max_iter=10):\n",
    "    for i in range(max_iter):\n",
    "        p = 0.5 * (p_low + p_high)\n",
    "        try:\n",
    "            state=amm.props2(x=x,P=p,Qu=0)\n",
    "            # This p is valid, so ... set as lower bracket\n",
    "            p_low = p\n",
    "        except:\n",
    "            # This p is invalid (too high), reduce the upper bracket\n",
    "            p_high = p\n",
    "            \n",
    "    return (p_low, p_high, state)"
   ]
  },
  {
   "cell_type": "code",
   "execution_count": 9,
   "metadata": {},
   "outputs": [],
   "source": [
    "x_range = numpy.linspace(0,1,1001)\n",
    "p_max = numpy.empty_like(x_range)\n",
    "p_max.fill(numpy.nan)\n",
    "t_out = p_max.copy()\n",
    "for i, x in enumerate(x_range):\n",
    "    p_low, p_high, state = bracket_p_max(x)\n",
    "    p_max[i] = p_high\n",
    "    t_out[i] = state.T"
   ]
  },
  {
   "cell_type": "code",
   "execution_count": 28,
   "metadata": {},
   "outputs": [
    {
     "name": "stdout",
     "output_type": "stream",
     "text": [
      "89.84375\n"
     ]
    }
   ],
   "source": [
    "print(p_max.min())\n",
    "p_below = p_max.min() * 0.9\n",
    "t2 = amm.props2v(x=x_range,P=p_below,Qu=0,out='T')"
   ]
  },
  {
   "cell_type": "code",
   "execution_count": 29,
   "metadata": {},
   "outputs": [
    {
     "data": {
      "image/png": "[encoded data removed]",
      "text/plain": [
       "<matplotlib.figure.Figure at 0x53f7bb0>"
      ]
     },
     "metadata": {},
     "output_type": "display_data"
    }
   ],
   "source": [
    "fig=plt.figure(figsize=(4,6))\n",
    "ax1=fig.add_subplot(211)\n",
    "#plt.xlabel('Ammonia mass fraction')\n",
    "plt.ylabel('Maximum pressure (bar)\\nbefore function fails')\n",
    "plt.plot(x_range,p_max,'.')\n",
    "ax2=fig.add_subplot(212,sharex=ax1)\n",
    "#ax2 = ax1.twinx()\n",
    "plt.xlabel('Ammonia mass fraction')\n",
    "plt.ylabel('Temperature (K)\\nof saturated liquid (Qu=0) ')\n",
    "plt.plot(x_range,t_out,'.',label='At max pressure')\n",
    "plt.plot(x_range,t2,'-',label='At p={:g} bar'.format(p_below))\n",
    "plt.legend()\n",
    "plt.show()"
   ]
  },
  {
   "cell_type": "code",
   "execution_count": null,
   "metadata": {
    "collapsed": true
   },
   "outputs": [],
   "source": []
  }
 ],
 "metadata": {
  "kernelspec": {
   "display_name": "Python 3",
   "language": "python",
   "name": "python3"
  },
  "language_info": {
   "codemirror_mode": {
    "name": "ipython",
    "version": 3
   },
   "file_extension": ".py",
   "mimetype": "text/x-python",
   "name": "python",
   "nbconvert_exporter": "python",
   "pygments_lexer": "ipython3",
   "version": "3.6.2"
  }
 },
 "nbformat": 4,
 "nbformat_minor": 2
}
