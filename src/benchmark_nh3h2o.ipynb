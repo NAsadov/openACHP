{
 "cells": [
  {
   "cell_type": "code",
   "execution_count": null,
   "metadata": {
    "collapsed": true
   },
   "outputs": [],
   "source": [
    "import numpy\n",
    "import matplotlib.pyplot as plt\n",
    "import ammonia_props\n",
    "amm = ammonia_props.AmmoniaProps()"
   ]
  },
  {
   "cell_type": "code",
   "execution_count": null,
   "metadata": {},
   "outputs": [],
   "source": [
    "0.8**20"
   ]
  },
  {
   "cell_type": "code",
   "execution_count": null,
   "metadata": {
    "collapsed": true
   },
   "outputs": [],
   "source": [
    "def bracket_p_min(x, p_low=0.002, p_high=0.2, max_iter=10):\n",
    "    for i in range(max_iter):\n",
    "        p = 0.5 * (p_low + p_high)\n",
    "        try:\n",
    "            state=amm.props2(x=x,P=p,Qu=0)\n",
    "            # This p is valid, so reduce the upper bracket\n",
    "            p_high = p\n",
    "        except:\n",
    "            # This p is invalid (too high), so set as lower bracket\n",
    "            p_low = p\n",
    "            \n",
    "    return (p_low, p_high, state)"
   ]
  },
  {
   "cell_type": "code",
   "execution_count": null,
   "metadata": {},
   "outputs": [],
   "source": [
    "x_range = numpy.linspace(0,1,1001)\n",
    "p_min = numpy.empty_like(x_range)\n",
    "p_min.fill(numpy.nan)\n",
    "t_out = p_min.copy()\n",
    "for i, x in enumerate(x_range):\n",
    "    p_low, p_high, state = bracket_p_min(x)\n",
    "    p_min[i] = p_low\n",
    "    t_out[i] = state.T"
   ]
  },
  {
   "cell_type": "code",
   "execution_count": null,
   "metadata": {},
   "outputs": [],
   "source": [
    "print(p_min.max())\n",
    "p_above = p_min.max() * 1.1\n",
    "t2 = amm.props2v(x=x_range,P=p_above,Qu=0,out='T')"
   ]
  },
  {
   "cell_type": "code",
   "execution_count": null,
   "metadata": {},
   "outputs": [],
   "source": [
    "fig=plt.figure(figsize=(4,6))\n",
    "ax1=fig.add_subplot(211)\n",
    "#plt.xlabel('Ammonia mass fraction')\n",
    "plt.ylabel('Minimum pressure (bar)\\nbefore function fails')\n",
    "plt.plot(x_range,p_min,'.')\n",
    "ax2=fig.add_subplot(212,sharex=ax1)\n",
    "#ax2 = ax1.twinx()\n",
    "plt.xlabel('Ammonia mass fraction')\n",
    "plt.ylabel('Temperature (K)\\nof saturated liquid (Qu=0) ')\n",
    "plt.plot(x_range,t_out,'.',label='At min pressure')\n",
    "plt.plot(x_range,t2,'-',label='At p={:g} bar'.format(p_above))\n",
    "plt.legend()\n",
    "plt.show()"
   ]
  },
  {
   "cell_type": "markdown",
   "metadata": {},
   "source": [
    "So, on my desktop, we can pull low pressure no less than 0.177957 bar."
   ]
  },
  {
   "cell_type": "code",
   "execution_count": null,
   "metadata": {
    "collapsed": true
   },
   "outputs": [],
   "source": []
  }
 ],
 "metadata": {
  "kernelspec": {
   "display_name": "Python 3",
   "language": "python",
   "name": "python3"
  },
  "language_info": {
   "codemirror_mode": {
    "name": "ipython",
    "version": 3
   },
   "file_extension": ".py",
   "mimetype": "text/x-python",
   "name": "python",
   "nbconvert_exporter": "python",
   "pygments_lexer": "ipython3",
   "version": "3.6.2"
  }
 },
 "nbformat": 4,
 "nbformat_minor": 2
}
