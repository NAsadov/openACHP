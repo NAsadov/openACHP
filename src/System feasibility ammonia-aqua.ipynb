{
 "cells": [
  {
   "cell_type": "markdown",
   "metadata": {},
   "source": [
    "Contents\n",
    "\n",
    "  - <a href='#Feasibility-of-ammonia-aqua-system'>Feasibility of ammonia-aqua system¶</a>\n",
    "    - <a href='#System-diagram'>System diagram¶</a>\n",
    "    - <a href='#Code'>Code¶</a>\n",
    "      - <a href='#Constrained-input-chiller-usage'>Constrained input chiller usage¶</a>\n",
    "      - <a href='#Optimization-method'>Optimization method¶</a>\n",
    "    - <a href='#Run-the-thing-already'>Run the thing already¶</a>\n",
    "    - <a href='#Appendix'>Appendix¶</a>\n"
   ]
  },
  {
   "cell_type": "markdown",
   "metadata": {},
   "source": [
    "# Optimization of ammonia-aqua system"
   ]
  },
  {
   "cell_type": "markdown",
   "metadata": {},
   "source": [
    "The purpose of this notebook is to integrate the feasibility constraints developed for the ammonia-aqua chiller (in notebook `Feasibility of ammonia-aqua chiller`) into the previously attempted optimization methods (`optimize_trials2_5`). "
   ]
  },
  {
   "cell_type": "markdown",
   "metadata": {},
   "source": [
    "## System diagram"
   ]
  },
  {
   "cell_type": "code",
   "execution_count": 1,
   "metadata": {},
   "outputs": [
    {
     "data": {
      "text/html": [
       "<img src=\"../img/Diagram_for_ammonia.svg\">\n",
       "<img src=\"./img/Diagram_for_ammonia.svg\">"
      ],
      "text/plain": [
       "<IPython.core.display.HTML object>"
      ]
     },
     "metadata": {},
     "output_type": "display_data"
    }
   ],
   "source": [
    "%%html\n",
    "<img src=\"../img/Diagram_for_ammonia.svg\">\n",
    "<img src=\"./img/Diagram_for_ammonia.svg\">"
   ]
  },
  {
   "cell_type": "markdown",
   "metadata": {},
   "source": [
    "## Code"
   ]
  },
  {
   "cell_type": "code",
   "execution_count": 1,
   "metadata": {
    "collapsed": true
   },
   "outputs": [],
   "source": [
    "%load_ext autoreload\n",
    "%autoreload 2"
   ]
  },
  {
   "cell_type": "code",
   "execution_count": 2,
   "metadata": {
    "collapsed": true
   },
   "outputs": [],
   "source": [
    "import CoolProp.CoolProp as CP\n",
    "from ammonia_props import massFractionToMolar, AmmoniaProps\n",
    "import numpy\n",
    "from numpy import array, nan, inf\n",
    "import matplotlib.pyplot as plt\n",
    "from IPython.display import HTML, SVG, clear_output"
   ]
  },
  {
   "cell_type": "markdown",
   "metadata": {},
   "source": [
    "### Constrained input chiller usage"
   ]
  },
  {
   "cell_type": "code",
   "execution_count": 3,
   "metadata": {
    "collapsed": true
   },
   "outputs": [],
   "source": [
    "from aqua_chiller_spec1 import AquaChillerSpec1, makeSpec"
   ]
  },
  {
   "cell_type": "code",
   "execution_count": 4,
   "metadata": {},
   "outputs": [
    {
     "data": {
      "text/plain": [
       "T_abs       300.0000\n",
       "T_cond      300.0000\n",
       "T_evap      278.0000\n",
       "T_gen       380.0000\n",
       "T_rect      310.0000\n",
       "x_refrig      0.9998\n",
       "dtype: float64"
      ]
     },
     "execution_count": 4,
     "metadata": {},
     "output_type": "execute_result"
    }
   ],
   "source": [
    "spec=makeSpec()\n",
    "spec"
   ]
  },
  {
   "cell_type": "code",
   "execution_count": 12,
   "metadata": {},
   "outputs": [
    {
     "data": {
      "text/plain": [
       "[('T_abs', 300.0),\n",
       " ('T_cond', 300.0),\n",
       " ('T_evap', 278.0),\n",
       " ('T_gen', 380.0),\n",
       " ('T_rect', 310.0),\n",
       " ('x_refrig', 0.99980000000000002)]"
      ]
     },
     "execution_count": 12,
     "metadata": {},
     "output_type": "execute_result"
    }
   ],
   "source": [
    "list(spec.items())"
   ]
  },
  {
   "cell_type": "code",
   "execution_count": 15,
   "metadata": {},
   "outputs": [
    {
     "data": {
      "text/plain": [
       "[300.0, 300.0, 278.0, 380.0, 310.0, 0.9998]"
      ]
     },
     "execution_count": 15,
     "metadata": {},
     "output_type": "execute_result"
    }
   ],
   "source": [
    "spec.tolist()"
   ]
  },
  {
   "cell_type": "code",
   "execution_count": 47,
   "metadata": {},
   "outputs": [
    {
     "data": {
      "text/plain": [
       "array([ 300.    ,  300.    ,  278.    ,  380.    ,  310.    ,    0.9998])"
      ]
     },
     "execution_count": 47,
     "metadata": {},
     "output_type": "execute_result"
    }
   ],
   "source": [
    "numpy.array(spec)"
   ]
  },
  {
   "cell_type": "code",
   "execution_count": 48,
   "metadata": {},
   "outputs": [
    {
     "data": {
      "text/html": [
       "<h5>Inputs</h5><pre>T_abs       300.0000\n",
       "T_cond      300.0000\n",
       "T_evap      278.0000\n",
       "T_gen       380.0000\n",
       "T_rect      310.0000\n",
       "x_refrig      0.9998\n",
       "dtype: float64</pre><h5>Computed limits</h5><pre>x_refrig_min           NaN\n",
       "x_refrig_max           NaN\n",
       "T_cond_max      384.638824\n",
       "T_evap_min      175.933577\n",
       "P_cond           10.616063\n",
       "P_evap            4.750714\n",
       "T_abs_max1      395.353588\n",
       "x_rich_max        0.581104\n",
       "x_rich            0.581104\n",
       "T_abs_max2      316.949410\n",
       "T_gen_min       327.236580\n",
       "dtype: float64</pre><h5>Mapped inputs</h5><pre>T_abs       300.0000\n",
       "T_cond      300.0000\n",
       "T_evap      278.0000\n",
       "T_gen       380.0000\n",
       "T_rect      310.0000\n",
       "x_refrig      0.9998\n",
       "dtype: float64</pre><h5>Constraint functions</h5><pre>0      0.000000\n",
       "1      0.099800\n",
       "2      0.000200\n",
       "3    102.066423\n",
       "4     84.638824\n",
       "5     22.000000\n",
       "6     95.353588\n",
       "7     16.949410\n",
       "8     52.763420\n",
       "dtype: float64</pre><h5>Warnings</h5>\n",
       "                <ul><li>None.</li></ul>"
      ],
      "text/plain": [
       "<aqua_chiller_spec1.AquaChillerSpec1 at 0x7c3ca30>"
      ]
     },
     "metadata": {},
     "output_type": "display_data"
    }
   ],
   "source": [
    "a1 = AquaChillerSpec1(spec)\n",
    "display(a1)"
   ]
  },
  {
   "cell_type": "code",
   "execution_count": 49,
   "metadata": {},
   "outputs": [
    {
     "data": {
      "image/png": "[encoded data removed]",
      "text/plain": [
       "<matplotlib.figure.Figure at 0x7b8b4b0>"
      ]
     },
     "metadata": {},
     "output_type": "display_data"
    }
   ],
   "source": [
    "import matplotlib.pyplot as plt\n",
    "cons = a1.C\n",
    "colors = cons.map(lambda c: 'b' if c > 0 else 'r')\n",
    "b = cons.plot.bar(color=\"\".join(colors.tolist()))\n",
    "plt.xlabel(\"Index of constraint\")\n",
    "plt.ylabel(\"Goodness\")\n",
    "plt.show()"
   ]
  },
  {
   "cell_type": "code",
   "execution_count": 50,
   "metadata": {},
   "outputs": [
    {
     "data": {
      "text/html": [
       "<h3>State points</h3>\n",
       "        <table>\n",
       "<thead>\n",
       "<tr><th>                         </th><th style=\"text-align: right;\">      T</th><th style=\"text-align: right;\">       P</th><th style=\"text-align: right;\">       x</th><th style=\"text-align: right;\">         h</th><th style=\"text-align: right;\">       s</th><th style=\"text-align: right;\">         u</th><th style=\"text-align: right;\">         v</th><th style=\"text-align: right;\">        Qu</th></tr>\n",
       "</thead>\n",
       "<tbody>\n",
       "<tr><td>rich_abs_outlet          </td><td style=\"text-align: right;\">300    </td><td style=\"text-align: right;\"> 4.75071</td><td style=\"text-align: right;\">0.581104</td><td style=\"text-align: right;\">-110.759  </td><td style=\"text-align: right;\">0.247664</td><td style=\"text-align: right;\">-111.357  </td><td style=\"text-align: right;\">0.00125933</td><td style=\"text-align: right;\"> 0        </td></tr>\n",
       "<tr><td>rich_pump_outlet         </td><td style=\"text-align: right;\">300.093</td><td style=\"text-align: right;\">10.6161 </td><td style=\"text-align: right;\">0.581104</td><td style=\"text-align: right;\">-109.835  </td><td style=\"text-align: right;\">0.248279</td><td style=\"text-align: right;\">-111.172  </td><td style=\"text-align: right;\">0.00125904</td><td style=\"text-align: right;\">-0.001    </td></tr>\n",
       "<tr><td>rich_shx_outlet          </td><td style=\"text-align: right;\">328.029</td><td style=\"text-align: right;\">10.6161 </td><td style=\"text-align: right;\">0.581104</td><td style=\"text-align: right;\">  35.8367 </td><td style=\"text-align: right;\">0.709608</td><td style=\"text-align: right;\">  32.4073 </td><td style=\"text-align: right;\">0.00323039</td><td style=\"text-align: right;\"> 0.0140751</td></tr>\n",
       "<tr><td>rich_gen_sat_liquid      </td><td style=\"text-align: right;\">327.237</td><td style=\"text-align: right;\">10.6161 </td><td style=\"text-align: right;\">0.581104</td><td style=\"text-align: right;\">  14.5218 </td><td style=\"text-align: right;\">0.645112</td><td style=\"text-align: right;\">  13.1365 </td><td style=\"text-align: right;\">0.00130494</td><td style=\"text-align: right;\"> 0        </td></tr>\n",
       "<tr><td>weak_gen_outlet          </td><td style=\"text-align: right;\">380    </td><td style=\"text-align: right;\">10.6161 </td><td style=\"text-align: right;\">0.296492</td><td style=\"text-align: right;\"> 278.322  </td><td style=\"text-align: right;\">1.35832 </td><td style=\"text-align: right;\"> 277.029  </td><td style=\"text-align: right;\">0.00121791</td><td style=\"text-align: right;\"> 0        </td></tr>\n",
       "<tr><td>weak_shx_outlet          </td><td style=\"text-align: right;\">324.469</td><td style=\"text-align: right;\">10.6161 </td><td style=\"text-align: right;\">0.296492</td><td style=\"text-align: right;\">  33.6281 </td><td style=\"text-align: right;\">0.662697</td><td style=\"text-align: right;\">  32.42   </td><td style=\"text-align: right;\">0.00113796</td><td style=\"text-align: right;\">-0.001    </td></tr>\n",
       "<tr><td>weak_exp_outlet          </td><td style=\"text-align: right;\">324.58 </td><td style=\"text-align: right;\"> 4.75071</td><td style=\"text-align: right;\">0.296492</td><td style=\"text-align: right;\">  33.6281 </td><td style=\"text-align: right;\">0.664754</td><td style=\"text-align: right;\">  33.0873 </td><td style=\"text-align: right;\">0.00113842</td><td style=\"text-align: right;\">-0.001    </td></tr>\n",
       "<tr><td>gen_vapor_outlet         </td><td style=\"text-align: right;\">327.237</td><td style=\"text-align: right;\">10.6161 </td><td style=\"text-align: right;\">0.996394</td><td style=\"text-align: right;\">1370.77   </td><td style=\"text-align: right;\">4.57101 </td><td style=\"text-align: right;\">1224.43   </td><td style=\"text-align: right;\">0.137843  </td><td style=\"text-align: right;\"> 1        </td></tr>\n",
       "<tr><td>gen_reflux_inlet         </td><td style=\"text-align: right;\">327.237</td><td style=\"text-align: right;\">10.6161 </td><td style=\"text-align: right;\">0.581024</td><td style=\"text-align: right;\">  14.3941 </td><td style=\"text-align: right;\">0.644571</td><td style=\"text-align: right;\">  13.0086 </td><td style=\"text-align: right;\">0.0013051 </td><td style=\"text-align: right;\"> 0        </td></tr>\n",
       "<tr><td>refrig_rect_outlet       </td><td style=\"text-align: right;\">310    </td><td style=\"text-align: right;\">10.6161 </td><td style=\"text-align: right;\">0.9998  </td><td style=\"text-align: right;\">1319.41   </td><td style=\"text-align: right;\">4.40903 </td><td style=\"text-align: right;\">1183.88   </td><td style=\"text-align: right;\">0.127667  </td><td style=\"text-align: right;\"> 1.001    </td></tr>\n",
       "<tr><td>refrig_cond_outlet       </td><td style=\"text-align: right;\">300    </td><td style=\"text-align: right;\">10.6161 </td><td style=\"text-align: right;\">0.9998  </td><td style=\"text-align: right;\"> 126.371  </td><td style=\"text-align: right;\">0.449872</td><td style=\"text-align: right;\"> 124.599  </td><td style=\"text-align: right;\">0.00166955</td><td style=\"text-align: right;\"> 0        </td></tr>\n",
       "<tr><td>refrig_cehx_liquid_outlet</td><td style=\"text-align: right;\">288.531</td><td style=\"text-align: right;\">10.6161 </td><td style=\"text-align: right;\">0.9998  </td><td style=\"text-align: right;\">  71.6979 </td><td style=\"text-align: right;\">0.264117</td><td style=\"text-align: right;\">  69.979  </td><td style=\"text-align: right;\">0.00161918</td><td style=\"text-align: right;\">-0.001    </td></tr>\n",
       "<tr><td>refrig_exp_outlet        </td><td style=\"text-align: right;\">275.888</td><td style=\"text-align: right;\"> 4.75071</td><td style=\"text-align: right;\">0.9998  </td><td style=\"text-align: right;\">  71.6979 </td><td style=\"text-align: right;\">0.271305</td><td style=\"text-align: right;\">  65.1137 </td><td style=\"text-align: right;\">0.0138595 </td><td style=\"text-align: right;\"> 0.0470472</td></tr>\n",
       "<tr><td>refrig_evap_outlet       </td><td style=\"text-align: right;\">278    </td><td style=\"text-align: right;\"> 4.75071</td><td style=\"text-align: right;\">0.9998  </td><td style=\"text-align: right;\">1274.56   </td><td style=\"text-align: right;\">4.61607 </td><td style=\"text-align: right;\">1148.58   </td><td style=\"text-align: right;\">0.268136  </td><td style=\"text-align: right;\"> 0.998    </td></tr>\n",
       "<tr><td>refrig_cehx_sat_vapor    </td><td style=\"text-align: right;\">283.116</td><td style=\"text-align: right;\"> 4.75071</td><td style=\"text-align: right;\">0.9998  </td><td style=\"text-align: right;\">1277.44   </td><td style=\"text-align: right;\">4.62101 </td><td style=\"text-align: right;\">1151.16   </td><td style=\"text-align: right;\">0.265812  </td><td style=\"text-align: right;\"> 1        </td></tr>\n",
       "<tr><td>refrig_cehx_vapor_outlet </td><td style=\"text-align: right;\">298.823</td><td style=\"text-align: right;\"> 4.75071</td><td style=\"text-align: right;\">0.9998  </td><td style=\"text-align: right;\">1329.23   </td><td style=\"text-align: right;\">4.80012 </td><td style=\"text-align: right;\">1190.99   </td><td style=\"text-align: right;\">0.291     </td><td style=\"text-align: right;\"> 1.001    </td></tr>\n",
       "<tr><td>rectifier_liquid         </td><td style=\"text-align: right;\">310    </td><td style=\"text-align: right;\">10.6161 </td><td style=\"text-align: right;\">0.754255</td><td style=\"text-align: right;\">   4.87593</td><td style=\"text-align: right;\">0.474284</td><td style=\"text-align: right;\">   3.37182</td><td style=\"text-align: right;\">0.00141683</td><td style=\"text-align: right;\"> 0        </td></tr>\n",
       "<tr><td>gen_vapor_formation      </td><td style=\"text-align: right;\">380    </td><td style=\"text-align: right;\">10.6161 </td><td style=\"text-align: right;\">0.911714</td><td style=\"text-align: right;\">1597.75   </td><td style=\"text-align: right;\">5.18047 </td><td style=\"text-align: right;\">1423.34   </td><td style=\"text-align: right;\">0.16429   </td><td style=\"text-align: right;\"> 1        </td></tr>\n",
       "<tr><td>abs_vapor_final          </td><td style=\"text-align: right;\">324.58 </td><td style=\"text-align: right;\"> 4.75071</td><td style=\"text-align: right;\">0.987731</td><td style=\"text-align: right;\">1404.32   </td><td style=\"text-align: right;\">5.04212 </td><td style=\"text-align: right;\">1252.11   </td><td style=\"text-align: right;\">0.3204    </td><td style=\"text-align: right;\"> 1        </td></tr>\n",
       "</tbody>\n",
       "</table>\n",
       "        <br/>\n",
       "        <h3>Performance variables</h3>\n",
       "        <table>\n",
       "<thead>\n",
       "<tr><th>name                   </th><th>unit  </th><th style=\"text-align: right;\">         value</th></tr>\n",
       "</thead>\n",
       "<tbody>\n",
       "<tr><td>Q_abs                  </td><td>kW    </td><td style=\"text-align: right;\">-267.475      </td></tr>\n",
       "<tr><td>Q_gen                  </td><td>kW    </td><td style=\"text-align: right;\"> 275.629      </td></tr>\n",
       "<tr><td>Q_cond                 </td><td>kW    </td><td style=\"text-align: right;\">-193.118      </td></tr>\n",
       "<tr><td>Q_evap                 </td><td>kW    </td><td style=\"text-align: right;\"> 194.708      </td></tr>\n",
       "<tr><td>Q_reflux               </td><td>kW    </td><td style=\"text-align: right;\"> -10.1129     </td></tr>\n",
       "<tr><td>Q_shx                  </td><td>kW    </td><td style=\"text-align: right;\">  58.2689     </td></tr>\n",
       "<tr><td>Q_cehx                 </td><td>kW    </td><td style=\"text-align: right;\">   8.85002    </td></tr>\n",
       "<tr><td>W_pump                 </td><td>kW    </td><td style=\"text-align: right;\">   0.369299   </td></tr>\n",
       "<tr><td>COP                    </td><td>kW/kW </td><td style=\"text-align: right;\">   0.706413   </td></tr>\n",
       "<tr><td>ZeroCheck              </td><td>kW    </td><td style=\"text-align: right;\">  -9.67011e-06</td></tr>\n",
       "<tr><td>ZeroCheckSHX           </td><td>kW    </td><td style=\"text-align: right;\">   9.22384e-07</td></tr>\n",
       "<tr><td>ZeroCheckCEHX          </td><td>kW    </td><td style=\"text-align: right;\">  -4.75293e-09</td></tr>\n",
       "<tr><td>Q_gen_rect_combo       </td><td>kW    </td><td style=\"text-align: right;\"> 265.516      </td></tr>\n",
       "<tr><td>Q_refrig_side          </td><td>kW    </td><td style=\"text-align: right;\">  -1.58977    </td></tr>\n",
       "<tr><td>ZeroCheckRect          </td><td>kg/s  </td><td style=\"text-align: right;\">   2.77556e-17</td></tr>\n",
       "<tr><td>m_rich                 </td><td>kg/s  </td><td style=\"text-align: right;\">   0.4        </td></tr>\n",
       "<tr><td>m_weak                 </td><td>kg/s  </td><td style=\"text-align: right;\">   0.23813    </td></tr>\n",
       "<tr><td>m_gen_vapor            </td><td>kg/s  </td><td style=\"text-align: right;\">   0.163198   </td></tr>\n",
       "<tr><td>m_gen_reflux           </td><td>kg/s  </td><td style=\"text-align: right;\">   0.00132716 </td></tr>\n",
       "<tr><td>m_refrig               </td><td>kg/s  </td><td style=\"text-align: right;\">   0.16187    </td></tr>\n",
       "<tr><td>check_rectifier_delta_T</td><td>K     </td><td style=\"text-align: right;\">  17.2366     </td></tr>\n",
       "<tr><td>is_degenerate          </td><td>bool  </td><td style=\"text-align: right;\">   0          </td></tr>\n",
       "</tbody>\n",
       "</table>\n",
       "        "
      ],
      "text/plain": [
       "                                 T         P         x           h         s           u           v          Qu\n",
       "-------------------------  -------  --------  --------  ----------  --------  ----------  ----------  ----------\n",
       "rich_abs_outlet            300       4.75071  0.581104  -110.759    0.247664  -111.357    0.00125933   0\n",
       "rich_pump_outlet           300.093  10.6161   0.581104  -109.835    0.248279  -111.172    0.00125904  -0.001\n",
       "rich_shx_outlet            328.029  10.6161   0.581104    35.8367   0.709608    32.4073   0.00323039   0.0140751\n",
       "rich_gen_sat_liquid        327.237  10.6161   0.581104    14.5218   0.645112    13.1365   0.00130494   0\n",
       "weak_gen_outlet            380      10.6161   0.296492   278.322    1.35832    277.029    0.00121791   0\n",
       "weak_shx_outlet            324.469  10.6161   0.296492    33.6281   0.662697    32.42     0.00113796  -0.001\n",
       "weak_exp_outlet            324.58    4.75071  0.296492    33.6281   0.664754    33.0873   0.00113842  -0.001\n",
       "gen_vapor_outlet           327.237  10.6161   0.996394  1370.77     4.57101   1224.43     0.137843     1\n",
       "gen_reflux_inlet           327.237  10.6161   0.581024    14.3941   0.644571    13.0086   0.0013051    0\n",
       "refrig_rect_outlet         310      10.6161   0.9998    1319.41     4.40903   1183.88     0.127667     1.001\n",
       "refrig_cond_outlet         300      10.6161   0.9998     126.371    0.449872   124.599    0.00166955   0\n",
       "refrig_cehx_liquid_outlet  288.531  10.6161   0.9998      71.6979   0.264117    69.979    0.00161918  -0.001\n",
       "refrig_exp_outlet          275.888   4.75071  0.9998      71.6979   0.271305    65.1137   0.0138595    0.0470472\n",
       "refrig_evap_outlet         278       4.75071  0.9998    1274.56     4.61607   1148.58     0.268136     0.998\n",
       "refrig_cehx_sat_vapor      283.116   4.75071  0.9998    1277.44     4.62101   1151.16     0.265812     1\n",
       "refrig_cehx_vapor_outlet   298.823   4.75071  0.9998    1329.23     4.80012   1190.99     0.291        1.001\n",
       "rectifier_liquid           310      10.6161   0.754255     4.87593  0.474284     3.37182  0.00141683   0\n",
       "gen_vapor_formation        380      10.6161   0.911714  1597.75     5.18047   1423.34     0.16429      1\n",
       "abs_vapor_final            324.58    4.75071  0.987731  1404.32     5.04212   1252.11     0.3204       1\n",
       "name                     unit             value\n",
       "-----------------------  ------  --------------\n",
       "Q_abs                    kW      -267.475\n",
       "Q_gen                    kW       275.629\n",
       "Q_cond                   kW      -193.118\n",
       "Q_evap                   kW       194.708\n",
       "Q_reflux                 kW       -10.1129\n",
       "Q_shx                    kW        58.2689\n",
       "Q_cehx                   kW         8.85002\n",
       "W_pump                   kW         0.369299\n",
       "COP                      kW/kW      0.706413\n",
       "ZeroCheck                kW        -9.67011e-06\n",
       "ZeroCheckSHX             kW         9.22384e-07\n",
       "ZeroCheckCEHX            kW        -4.75293e-09\n",
       "Q_gen_rect_combo         kW       265.516\n",
       "Q_refrig_side            kW        -1.58977\n",
       "ZeroCheckRect            kg/s       2.77556e-17\n",
       "m_rich                   kg/s       0.4\n",
       "m_weak                   kg/s       0.23813\n",
       "m_gen_vapor              kg/s       0.163198\n",
       "m_gen_reflux             kg/s       0.00132716\n",
       "m_refrig                 kg/s       0.16187\n",
       "check_rectifier_delta_T  K         17.2366\n",
       "is_degenerate            bool       0"
      ]
     },
     "execution_count": 50,
     "metadata": {},
     "output_type": "execute_result"
    }
   ],
   "source": [
    "import ammonia1\n",
    "mspec = a1.mapped\n",
    "ch = ammonia1.AmmoniaChiller()\n",
    "ch.update(x_refrig=mspec.x_refrig, T_evap=mspec.T_evap, T_cond=mspec.T_cond,\n",
    "          T_abs_outlet=mspec.T_abs, T_gen_outlet=mspec.T_gen, T_rect=mspec.T_rect)\n",
    "ch"
   ]
  },
  {
   "cell_type": "code",
   "execution_count": 51,
   "metadata": {},
   "outputs": [
    {
     "data": {
      "text/html": [
       "<table>\n",
       "<thead>\n",
       "<tr><th>stream         </th><th style=\"text-align: right;\">  T_inlet</th><th style=\"text-align: right;\">  mdot</th><th style=\"text-align: right;\">   cp</th></tr>\n",
       "</thead>\n",
       "<tbody>\n",
       "<tr><td>heat           </td><td style=\"text-align: right;\">      400</td><td style=\"text-align: right;\">  1   </td><td style=\"text-align: right;\">4.179</td></tr>\n",
       "<tr><td>absorberReject </td><td style=\"text-align: right;\">      310</td><td style=\"text-align: right;\">  3   </td><td style=\"text-align: right;\">4.179</td></tr>\n",
       "<tr><td>condReject     </td><td style=\"text-align: right;\">      310</td><td style=\"text-align: right;\">  5   </td><td style=\"text-align: right;\">4.179</td></tr>\n",
       "<tr><td>cold           </td><td style=\"text-align: right;\">      285</td><td style=\"text-align: right;\">  4   </td><td style=\"text-align: right;\">4.179</td></tr>\n",
       "<tr><td>rectifierReject</td><td style=\"text-align: right;\">      310</td><td style=\"text-align: right;\">  0.15</td><td style=\"text-align: right;\">4.179</td></tr>\n",
       "</tbody>\n",
       "</table>"
      ],
      "text/plain": [
       "stream             T_inlet    mdot     cp\n",
       "---------------  ---------  ------  -----\n",
       "heat                   400    1     4.179\n",
       "absorberReject         310    3     4.179\n",
       "condReject             310    5     4.179\n",
       "cold                   285    4     4.179\n",
       "rectifierReject        310    0.15  4.179"
      ]
     },
     "execution_count": 51,
     "metadata": {},
     "output_type": "execute_result"
    }
   ],
   "source": [
    "import system_aqua1\n",
    "T_heat_reject = 310\n",
    "xB = [400, 1, T_heat_reject, 3, T_heat_reject, 5, 285, 4, T_heat_reject, 0.15]\n",
    "bdry = system_aqua1.makeBoundary(xB)\n",
    "bdry"
   ]
  },
  {
   "cell_type": "code",
   "execution_count": 52,
   "metadata": {},
   "outputs": [
    {
     "name": "stderr",
     "output_type": "stream",
     "text": [
      "C:\\Users\\user1\\Miniconda3\\envs\\openACHP\\lib\\site-packages\\scipy\\interpolate\\_cubic.py:147: RuntimeWarning: divide by zero encountered in true_divide\n",
      "  mk = (y[1:] - y[:-1]) / hk\n",
      "C:\\Users\\user1\\Miniconda3\\envs\\openACHP\\lib\\site-packages\\scipy\\interpolate\\_cubic.py:165: RuntimeWarning: invalid value encountered in true_divide\n",
      "  whmean = (w1/mk[:-1] + w2/mk[1:]) / (w1 + w2)\n"
     ]
    },
    {
     "data": {
      "text/html": [
       "<table>\n",
       "<thead>\n",
       "<tr><th>name  </th><th style=\"text-align: right;\">    deltaT</th><th style=\"text-align: right;\">     epsilon</th><th style=\"text-align: right;\">      UA</th><th style=\"text-align: right;\">       Q</th></tr>\n",
       "</thead>\n",
       "<tbody>\n",
       "<tr><td>gen   </td><td style=\"text-align: right;\">  5.9575  </td><td style=\"text-align: right;\">    0.917157</td><td style=\"text-align: right;\"> 17.8013</td><td style=\"text-align: right;\">275.629 </td></tr>\n",
       "<tr><td>rect  </td><td style=\"text-align: right;\"> -0.686558</td><td style=\"text-align: right;\">    1.0374  </td><td style=\"text-align: right;\">inf     </td><td style=\"text-align: right;\"> 10.1129</td></tr>\n",
       "<tr><td>abs   </td><td style=\"text-align: right;\">-16.1173  </td><td style=\"text-align: right;\">    2.87336 </td><td style=\"text-align: right;\">inf     </td><td style=\"text-align: right;\">267.475 </td></tr>\n",
       "<tr><td>cond  </td><td style=\"text-align: right;\">-18.5222  </td><td style=\"text-align: right;\">-7305.71    </td><td style=\"text-align: right;\">inf     </td><td style=\"text-align: right;\">193.118 </td></tr>\n",
       "<tr><td>evap  </td><td style=\"text-align: right;\"> -2.53549 </td><td style=\"text-align: right;\">    1.27824 </td><td style=\"text-align: right;\">inf     </td><td style=\"text-align: right;\">194.708 </td></tr>\n",
       "<tr><td>total </td><td style=\"text-align: right;\">  0       </td><td style=\"text-align: right;\">    0       </td><td style=\"text-align: right;\">inf     </td><td style=\"text-align: right;\">  0     </td></tr>\n",
       "</tbody>\n",
       "</table>"
      ],
      "text/plain": [
       "name        deltaT       epsilon        UA         Q\n",
       "------  ----------  ------------  --------  --------\n",
       "gen       5.9575        0.917157   17.8013  275.629\n",
       "rect     -0.686558      1.0374    inf        10.1129\n",
       "abs     -16.1173        2.87336   inf       267.475\n",
       "cond    -18.5222    -7305.71      inf       193.118\n",
       "evap     -2.53549       1.27824   inf       194.708\n",
       "totalUA = inf"
      ]
     },
     "execution_count": 52,
     "metadata": {},
     "output_type": "execute_result"
    }
   ],
   "source": [
    "sys = system_aqua1.System(bdry, ch)\n",
    "sys"
   ]
  },
  {
   "cell_type": "code",
   "execution_count": 85,
   "metadata": {},
   "outputs": [
    {
     "data": {
      "text/plain": [
       "0             0\n",
       "1        0.0998\n",
       "2        0.0002\n",
       "3       102.066\n",
       "4       84.6388\n",
       "5            22\n",
       "6       95.3536\n",
       "7       16.9494\n",
       "8       52.7634\n",
       "gen      4.9575\n",
       "rect   -1.68656\n",
       "abs    -17.1173\n",
       "cond   -19.5222\n",
       "evap   -3.53549\n",
       "dtype: object"
      ]
     },
     "execution_count": 85,
     "metadata": {},
     "output_type": "execute_result"
    }
   ],
   "source": [
    "# Concatenate the chiller and system constraints with Scipy sign convention (`g_i >= 0` = feasible).\n",
    "# Chiller constraints already have correct sign.\n",
    "# System level constraints are: each HX closest approach temperature is above a minimum threshold.\n",
    "# The optimizer can cast this to numpy.array or treat as integer-indexed list.\n",
    "all_constraints=pandas.concat([cons, sys.df.deltaT - 1.0])\n",
    "all_constraints"
   ]
  },
  {
   "cell_type": "code",
   "execution_count": 82,
   "metadata": {},
   "outputs": [
    {
     "data": {
      "text/plain": [
       "(14,)"
      ]
     },
     "execution_count": 82,
     "metadata": {},
     "output_type": "execute_result"
    }
   ],
   "source": [
    "all_constraints.shape"
   ]
  },
  {
   "cell_type": "markdown",
   "metadata": {},
   "source": [
    "### Optimization method"
   ]
  },
  {
   "cell_type": "code",
   "execution_count": 6,
   "metadata": {
    "collapsed": true
   },
   "outputs": [],
   "source": [
    "import matplotlib.pyplot as plt\n",
    "import ammonia1\n",
    "import system_aqua1"
   ]
  },
  {
   "cell_type": "code",
   "execution_count": 7,
   "metadata": {},
   "outputs": [],
   "source": [
    "?system_aqua1.makeChiller"
   ]
  },
  {
   "cell_type": "code",
   "execution_count": 47,
   "metadata": {},
   "outputs": [],
   "source": [
    "from optimize_aqua import Problem_A, Problem_B\n",
    "import scipy\n",
    "\n",
    "def standard_boundary(t_heat_reject):\n",
    "    tr = t_heat_reject\n",
    "    xB = [400, 1, tr, 3, tr, 5, 285, 4, tr, 0.15]\n",
    "    bdry = system_aqua1.makeBoundary(xB)\n",
    "    return bdry\n",
    "\n",
    "def standard_chiller_guess(t_heat_reject):\n",
    "    rt = t_heat_reject\n",
    "    #makeSpec(T_abs=300,T_cond=300,T_evap=278,T_gen=380,T_rect=310,x_refrig=0.9998)\n",
    "    #ch.update(x_refrig=spec.x_refrig, T_evap=spec.T_evap, T_cond=spec.T_cond,\n",
    "    #      T_abs_outlet=spec.T_abs, T_gen_outlet=spec.T_gen, T_rect=spec.T_rect)\n",
    "    #x0 = numpy.array([0.05, 278.45, rT+7, rT+8, rT+5, 395.15])\n",
    "    x0 = makeSpec(T_abs=rt+5, T_cond=rt+8, T_evap=278.45, T_gen=395.15, T_rect=rt+7, x_refrig=0.9998)\n",
    "    return x0\n",
    "\n",
    "def display_result(x):\n",
    "    try:\n",
    "        print(\"X = \")\n",
    "        display(x)\n",
    "        ch = system_aqua1.makeChiller(x)\n",
    "        sys = system_aqua1.System(bdry, ch)\n",
    "        display(sys)\n",
    "    except KeyboardInterrupt as e:\n",
    "        raise e\n",
    "    except Exception as e:\n",
    "        display(e)\n",
    "\n",
    "def optimize_progressive(P, x0, n_calls=[10,30,50], maxiter=[50,50,50], rhobeg=[1,1,1]):\n",
    "    # P: Problem_A or Problem_B object\n",
    "    x = x0.copy()\n",
    "    for nc, mi, rb in zip(n_calls, maxiter, rhobeg):\n",
    "        display(\"Progressing toward one pass at optimization\")\n",
    "        P.n_calls = 7 * nc\n",
    "        # For constraints argument:\n",
    "        # COBYLA accepts funs that return a list (P.constraints_all)\n",
    "        # SLSQP accepts only funs that return one constraint (P.constraints_each)\n",
    "        opt = scipy.optimize.minimize(P.objective, x, method=\"COBYLA\",\n",
    "                              constraints=P.constraints_all, #callback=P.callback,\n",
    "                              options={'disp':True,'maxiter':mi,'rhobeg':rb})\n",
    "        \n",
    "        print(opt)\n",
    "        print(P.constraint(opt.x))\n",
    "        #display_result(x)\n",
    "    return opt\n",
    "\n",
    "\n",
    "def opt_step_1(t_heat_reject):\n",
    "    # Step 1: optimize heat \n",
    "    rT = t_heat_reject\n",
    "    bdry = standard_boundary(rT)\n",
    "    PA = Problem_A(bdry)\n",
    "    x0 = standard_chiller_guess(rT)\n",
    "    opt = optimize_progressive(PA, x0, n_calls=[10,30,50], maxiter=[5,5,5], rhobeg=[0.001,0.001,0.001])\n",
    "    return opt\n",
    "\n",
    "def post_step_1():\n",
    "    # Post-process something ... get maximum feasible Q\n",
    "    ch = system_aqua1.makeChiller(opt.x)\n",
    "    sys = system_aqua1.System(self.bdry, ch)\n",
    "    q_max_feasible = sys.Q\n",
    "    \n",
    "    return q_max_feasible,xopt\n",
    "\n",
    "def opt_step_2(t_heat_reject, q_frac):\n",
    "    # Step 2: optimize design costs given minimum output\n",
    "    q_goal = q_frac * q_max_feasible\n",
    "    rT = t_heat_reject\n",
    "    bdry = standard_boundary(rT)\n",
    "    PB = Problem_B(bdry,q_goal)\n",
    "    x0 = standard_chiller_guess(rT)\n",
    "    opt = optimize_progressive(PB, x0, n_calls=[10,30,50], maxiter=[50,50,50], rhobeg=[0.1,0.1,0.01])\n",
    "    \n",
    "    # Post-process something ... get maximum feasible Q\n",
    "    ch = system_aqua1.makeChiller(opt.x)\n",
    "    sys = system_aqua1.System(self.bdry, ch)\n",
    "    totalUA = sys.totalUA\n",
    "    \n",
    "    return opt\n"
   ]
  },
  {
   "cell_type": "code",
   "execution_count": 45,
   "metadata": {
    "collapsed": true
   },
   "outputs": [],
   "source": [
    "t_heat_reject=293.15"
   ]
  },
  {
   "cell_type": "code",
   "execution_count": 48,
   "metadata": {},
   "outputs": [
    {
     "data": {
      "text/plain": [
       "'Progressing toward one pass at optimization'"
      ]
     },
     "metadata": {},
     "output_type": "display_data"
    },
    {
     "name": "stdout",
     "output_type": "stream",
     "text": [
      "[Problem_A.constraint] Input vector:\n",
      "[ 298.15    301.15    278.45    395.15    300.15      0.9998]\n",
      "Mapped chiller spec:\n",
      "T_abs       298.1500\n",
      "T_cond      301.1500\n",
      "T_evap      278.4500\n",
      "T_gen       395.1500\n",
      "T_rect      300.1500\n",
      "x_refrig      0.9998\n",
      "dtype: float64\n"
     ]
    },
    {
     "name": "stderr",
     "output_type": "stream",
     "text": [
      "C:\\Users\\user1\\Miniconda3\\envs\\openachp\\lib\\site-packages\\scipy\\interpolate\\_cubic.py:147: RuntimeWarning: divide by zero encountered in true_divide\n",
      "  mk = (y[1:] - y[:-1]) / hk\n",
      "C:\\Users\\user1\\Miniconda3\\envs\\openachp\\lib\\site-packages\\scipy\\interpolate\\_cubic.py:165: RuntimeWarning: invalid value encountered in true_divide\n",
      "  whmean = (w1/mk[:-1] + w2/mk[1:]) / (w1 + w2)\n"
     ]
    },
    {
     "name": "stdout",
     "output_type": "stream",
     "text": [
      "[Problem_A.objective] Input vector:\n",
      "[ 298.15    301.15    278.45    395.15    300.15      0.9998]\n",
      "Chiller Q =  228.272567149\n",
      "71 10.0 228.272567149 3.20090621368e-28 0.0 \n",
      "\n",
      "[Problem_A.constraint] Input vector:\n",
      "[ 298.15    301.15    278.45    395.15    300.15      0.9998]\n",
      "Mapped chiller spec:\n",
      "T_abs       298.1500\n",
      "T_cond      301.1500\n",
      "T_evap      278.4500\n",
      "T_gen       395.1500\n",
      "T_rect      300.1500\n",
      "x_refrig      0.9998\n",
      "dtype: float64\n",
      "[Problem_A.objective] Input vector:\n",
      "[ 298.151   301.15    278.45    395.15    300.15      0.9998]\n",
      "Chiller Q =  228.267145682\n",
      "72 10.0 228.267145682 3.19140487345e-28 0.0 \n",
      "\n",
      "[Problem_A.constraint] Input vector:\n",
      "[ 298.151   301.15    278.45    395.15    300.15      0.9998]\n",
      "Mapped chiller spec:\n",
      "T_abs       298.1510\n",
      "T_cond      301.1500\n",
      "T_evap      278.4500\n",
      "T_gen       395.1500\n",
      "T_rect      300.1500\n",
      "x_refrig      0.9998\n",
      "dtype: float64\n",
      "[Problem_A.objective] Input vector:\n",
      "[ 298.15    301.151   278.45    395.15    300.15      0.9998]\n",
      "Chiller Q =  228.270252978\n",
      "73 10.0 228.270252978 3.19104565462e-28 0.0 \n",
      "\n",
      "[Problem_A.constraint] Input vector:\n",
      "[ 298.15    301.151   278.45    395.15    300.15      0.9998]\n",
      "Mapped chiller spec:\n",
      "T_abs       298.1500\n",
      "T_cond      301.1510\n",
      "T_evap      278.4500\n",
      "T_gen       395.1500\n",
      "T_rect      300.1500\n",
      "x_refrig      0.9998\n",
      "dtype: float64\n",
      "[Problem_A.objective] Input vector:\n",
      "[ 298.15    301.15    278.451   395.15    300.15      0.9998]\n",
      "Chiller Q =  228.27838049\n",
      "74 10.0 228.27838049 3.2114712051e-28 0.0 \n",
      "\n",
      "[Problem_A.constraint] Input vector:\n",
      "[ 298.15    301.15    278.451   395.15    300.15      0.9998]\n",
      "Mapped chiller spec:\n",
      "T_abs       298.1500\n",
      "T_cond      301.1500\n",
      "T_evap      278.4510\n",
      "T_gen       395.1500\n",
      "T_rect      300.1500\n",
      "x_refrig      0.9998\n",
      "dtype: float64\n",
      "[Problem_A.objective] Input vector:\n",
      "[ 298.15    301.15    278.451   395.151   300.15      0.9998]\n",
      "Chiller Q =  228.27974648\n",
      "75 10.0 228.27974648 3.2114712051e-28 0.0 \n",
      "\n",
      "[Problem_A.constraint] Input vector:\n",
      "[ 298.15    301.15    278.451   395.151   300.15      0.9998]\n",
      "Mapped chiller spec:\n",
      "T_abs       298.1500\n",
      "T_cond      301.1500\n",
      "T_evap      278.4510\n",
      "T_gen       395.1510\n",
      "T_rect      300.1500\n",
      "x_refrig      0.9998\n",
      "dtype: float64\n",
      "     fun: -228.27974648019853\n",
      "   maxcv: 5.9942232168626219\n",
      " message: 'Did not converge to a solution satisfying the constraints. See `maxcv` for magnitude of violation.'\n",
      "    nfev: 5\n",
      "  status: 4\n",
      " success: False\n",
      "       x: array([ 298.15  ,  301.15  ,  278.451 ,  395.151 ,  300.15  ,    0.9998])\n",
      "[Problem_A.constraint] Input vector:\n",
      "[ 298.15    301.15    278.451   395.151   300.15      0.9998]\n",
      "Mapped chiller spec:\n",
      "T_abs       298.1500\n",
      "T_cond      301.1500\n",
      "T_evap      278.4510\n",
      "T_gen       395.1510\n",
      "T_rect      300.1500\n",
      "x_refrig      0.9998\n",
      "dtype: float64\n",
      "0              0\n",
      "1         0.0998\n",
      "2       0.000199\n",
      "3        102.517\n",
      "4        83.4888\n",
      "5         22.699\n",
      "6        72.9577\n",
      "7        15.7791\n",
      "8        69.1709\n",
      "gen     -5.29637\n",
      "rect    -346.791\n",
      "abs     -3.21784\n",
      "cond         NaN\n",
      "evap    -5.99422\n",
      "dtype: object\n"
     ]
    },
    {
     "data": {
      "text/plain": [
       "'Progressing toward one pass at optimization'"
      ]
     },
     "metadata": {},
     "output_type": "display_data"
    },
    {
     "name": "stdout",
     "output_type": "stream",
     "text": [
      "[Problem_A.constraint] Input vector:\n",
      "[ 298.15    301.15    278.45    395.15    300.15      0.9998]\n",
      "Mapped chiller spec:\n",
      "T_abs       298.1500\n",
      "T_cond      301.1500\n",
      "T_evap      278.4500\n",
      "T_gen       395.1500\n",
      "T_rect      300.1500\n",
      "x_refrig      0.9998\n",
      "dtype: float64\n",
      "[Problem_A.objective] Input vector:\n",
      "[ 298.15    301.15    278.45    395.15    300.15      0.9998]\n",
      "Chiller Q =  228.272567149\n",
      "211 30.0 228.272567149 4.70707483038e-223 0.0 \n",
      "\n",
      "[Problem_A.constraint] Input vector:\n",
      "[ 298.15    301.15    278.45    395.15    300.15      0.9998]\n",
      "Mapped chiller spec:\n",
      "T_abs       298.1500\n",
      "T_cond      301.1500\n",
      "T_evap      278.4500\n",
      "T_gen       395.1500\n",
      "T_rect      300.1500\n",
      "x_refrig      0.9998\n",
      "dtype: float64\n",
      "[Problem_A.objective] Input vector:\n",
      "[ 298.151   301.15    278.45    395.15    300.15      0.9998]\n",
      "Chiller Q =  228.267145682\n",
      "212 30.0 228.267145682 4.60480765142e-223 0.0 \n",
      "\n",
      "[Problem_A.constraint] Input vector:\n",
      "[ 298.151   301.15    278.45    395.15    300.15      0.9998]\n",
      "Mapped chiller spec:\n",
      "T_abs       298.1510\n",
      "T_cond      301.1500\n",
      "T_evap      278.4500\n",
      "T_gen       395.1500\n",
      "T_rect      300.1500\n",
      "x_refrig      0.9998\n",
      "dtype: float64\n",
      "[Problem_A.objective] Input vector:\n",
      "[ 298.15    301.151   278.45    395.15    300.15      0.9998]\n",
      "Chiller Q =  228.270252978\n",
      "213 30.0 228.270252978 4.60097921448e-223 0.0 \n",
      "\n",
      "[Problem_A.constraint] Input vector:\n",
      "[ 298.15    301.151   278.45    395.15    300.15      0.9998]\n",
      "Mapped chiller spec:\n",
      "T_abs       298.1500\n",
      "T_cond      301.1510\n",
      "T_evap      278.4500\n",
      "T_gen       395.1500\n",
      "T_rect      300.1500\n",
      "x_refrig      0.9998\n",
      "dtype: float64\n",
      "[Problem_A.objective] Input vector:\n",
      "[ 298.15    301.15    278.451   395.15    300.15      0.9998]\n",
      "Chiller Q =  228.27838049\n",
      "214 30.0 228.27838049 4.82309097547e-223 0.0 \n",
      "\n",
      "[Problem_A.constraint] Input vector:\n",
      "[ 298.15    301.15    278.451   395.15    300.15      0.9998]\n",
      "Mapped chiller spec:\n",
      "T_abs       298.1500\n",
      "T_cond      301.1500\n",
      "T_evap      278.4510\n",
      "T_gen       395.1500\n",
      "T_rect      300.1500\n",
      "x_refrig      0.9998\n",
      "dtype: float64\n",
      "[Problem_A.objective] Input vector:\n",
      "[ 298.15    301.15    278.451   395.151   300.15      0.9998]\n",
      "Chiller Q =  228.27974648\n",
      "215 30.0 228.27974648 4.82309097547e-223 0.0 \n",
      "\n",
      "[Problem_A.constraint] Input vector:\n",
      "[ 298.15    301.15    278.451   395.151   300.15      0.9998]\n",
      "Mapped chiller spec:\n",
      "T_abs       298.1500\n",
      "T_cond      301.1500\n",
      "T_evap      278.4510\n",
      "T_gen       395.1510\n",
      "T_rect      300.1500\n",
      "x_refrig      0.9998\n",
      "dtype: float64\n",
      "     fun: -228.27974648019853\n",
      "   maxcv: 5.9942232168626219\n",
      " message: 'Did not converge to a solution satisfying the constraints. See `maxcv` for magnitude of violation.'\n",
      "    nfev: 5\n",
      "  status: 4\n",
      " success: False\n",
      "       x: array([ 298.15  ,  301.15  ,  278.451 ,  395.151 ,  300.15  ,    0.9998])\n",
      "[Problem_A.constraint] Input vector:\n",
      "[ 298.15    301.15    278.451   395.151   300.15      0.9998]\n",
      "Mapped chiller spec:\n",
      "T_abs       298.1500\n",
      "T_cond      301.1500\n",
      "T_evap      278.4510\n",
      "T_gen       395.1510\n",
      "T_rect      300.1500\n",
      "x_refrig      0.9998\n",
      "dtype: float64\n",
      "0              0\n",
      "1         0.0998\n",
      "2       0.000199\n",
      "3        102.517\n",
      "4        83.4888\n",
      "5         22.699\n",
      "6        72.9577\n",
      "7        15.7791\n",
      "8        69.1709\n",
      "gen     -5.29637\n",
      "rect    -346.791\n",
      "abs     -3.21784\n",
      "cond         NaN\n",
      "evap    -5.99422\n",
      "dtype: object\n"
     ]
    },
    {
     "data": {
      "text/plain": [
       "'Progressing toward one pass at optimization'"
      ]
     },
     "metadata": {},
     "output_type": "display_data"
    },
    {
     "name": "stdout",
     "output_type": "stream",
     "text": [
      "[Problem_A.constraint] Input vector:\n",
      "[ 298.15    301.15    278.45    395.15    300.15      0.9998]\n",
      "Mapped chiller spec:\n",
      "T_abs       298.1500\n",
      "T_cond      301.1500\n",
      "T_evap      278.4500\n",
      "T_gen       395.1500\n",
      "T_rect      300.1500\n",
      "x_refrig      0.9998\n",
      "dtype: float64\n",
      "[Problem_A.objective] Input vector:\n",
      "[ 298.15    301.15    278.45    395.15    300.15      0.9998]\n",
      "Chiller Q =  228.272567149\n",
      "351 50.0 228.272567149 0.0 0.0 \n",
      "\n",
      "[Problem_A.constraint] Input vector:\n",
      "[ 298.15    301.15    278.45    395.15    300.15      0.9998]\n",
      "Mapped chiller spec:\n",
      "T_abs       298.1500\n",
      "T_cond      301.1500\n",
      "T_evap      278.4500\n",
      "T_gen       395.1500\n",
      "T_rect      300.1500\n",
      "x_refrig      0.9998\n",
      "dtype: float64\n",
      "[Problem_A.objective] Input vector:\n",
      "[ 298.151   301.15    278.45    395.15    300.15      0.9998]\n",
      "Chiller Q =  228.267145682\n",
      "352 50.0 228.267145682 0.0 0.0 \n",
      "\n",
      "[Problem_A.constraint] Input vector:\n",
      "[ 298.151   301.15    278.45    395.15    300.15      0.9998]\n",
      "Mapped chiller spec:\n",
      "T_abs       298.1510\n",
      "T_cond      301.1500\n",
      "T_evap      278.4500\n",
      "T_gen       395.1500\n",
      "T_rect      300.1500\n",
      "x_refrig      0.9998\n",
      "dtype: float64\n",
      "[Problem_A.objective] Input vector:\n",
      "[ 298.15    301.151   278.45    395.15    300.15      0.9998]\n",
      "Chiller Q =  228.270252978\n",
      "353 50.0 228.270252978 0.0 0.0 \n",
      "\n",
      "[Problem_A.constraint] Input vector:\n",
      "[ 298.15    301.151   278.45    395.15    300.15      0.9998]\n",
      "Mapped chiller spec:\n",
      "T_abs       298.1500\n",
      "T_cond      301.1510\n",
      "T_evap      278.4500\n",
      "T_gen       395.1500\n",
      "T_rect      300.1500\n",
      "x_refrig      0.9998\n",
      "dtype: float64\n",
      "[Problem_A.objective] Input vector:\n",
      "[ 298.15    301.15    278.451   395.15    300.15      0.9998]\n",
      "Chiller Q =  228.27838049\n",
      "354 50.0 228.27838049 0.0 0.0 \n",
      "\n",
      "[Problem_A.constraint] Input vector:\n",
      "[ 298.15    301.15    278.451   395.15    300.15      0.9998]\n",
      "Mapped chiller spec:\n",
      "T_abs       298.1500\n",
      "T_cond      301.1500\n",
      "T_evap      278.4510\n",
      "T_gen       395.1500\n",
      "T_rect      300.1500\n",
      "x_refrig      0.9998\n",
      "dtype: float64\n",
      "[Problem_A.objective] Input vector:\n",
      "[ 298.15    301.15    278.451   395.151   300.15      0.9998]\n",
      "Chiller Q =  228.27974648\n",
      "355 50.0 228.27974648 0.0 0.0 \n",
      "\n",
      "[Problem_A.constraint] Input vector:\n",
      "[ 298.15    301.15    278.451   395.151   300.15      0.9998]\n",
      "Mapped chiller spec:\n",
      "T_abs       298.1500\n",
      "T_cond      301.1500\n",
      "T_evap      278.4510\n",
      "T_gen       395.1510\n",
      "T_rect      300.1500\n",
      "x_refrig      0.9998\n",
      "dtype: float64\n",
      "     fun: -228.27974648019853\n",
      "   maxcv: 5.9942232168626219\n",
      " message: 'Did not converge to a solution satisfying the constraints. See `maxcv` for magnitude of violation.'\n",
      "    nfev: 5\n",
      "  status: 4\n",
      " success: False\n",
      "       x: array([ 298.15  ,  301.15  ,  278.451 ,  395.151 ,  300.15  ,    0.9998])\n",
      "[Problem_A.constraint] Input vector:\n",
      "[ 298.15    301.15    278.451   395.151   300.15      0.9998]\n",
      "Mapped chiller spec:\n",
      "T_abs       298.1500\n",
      "T_cond      301.1500\n",
      "T_evap      278.4510\n",
      "T_gen       395.1510\n",
      "T_rect      300.1500\n",
      "x_refrig      0.9998\n",
      "dtype: float64\n",
      "0              0\n",
      "1         0.0998\n",
      "2       0.000199\n",
      "3        102.517\n",
      "4        83.4888\n",
      "5         22.699\n",
      "6        72.9577\n",
      "7        15.7791\n",
      "8        69.1709\n",
      "gen     -5.29637\n",
      "rect    -346.791\n",
      "abs     -3.21784\n",
      "cond         NaN\n",
      "evap    -5.99422\n",
      "dtype: object\n"
     ]
    }
   ],
   "source": [
    "opt=opt_step_1(t_heat_reject)"
   ]
  },
  {
   "cell_type": "markdown",
   "metadata": {},
   "source": [
    "Debug failed case"
   ]
  },
  {
   "cell_type": "code",
   "execution_count": 49,
   "metadata": {},
   "outputs": [
    {
     "data": {
      "text/html": [
       "<h5>Inputs</h5><pre>T_abs       298.145464\n",
       "T_cond      301.275729\n",
       "T_evap      278.463883\n",
       "T_gen       395.149066\n",
       "T_rect      300.150764\n",
       "x_refrig      0.899877\n",
       "dtype: float64</pre><h5>Computed limits</h5><pre>x_refrig_min           NaN\n",
       "x_refrig_max           NaN\n",
       "T_cond_max      393.445314\n",
       "T_evap_min      251.135316\n",
       "P_cond           10.035024\n",
       "P_evap            0.079741\n",
       "T_abs_max1      267.212898\n",
       "x_rich_max        0.199829\n",
       "x_rich            0.199829\n",
       "T_abs_max2      296.009550\n",
       "T_gen_min       400.611307\n",
       "dtype: float64</pre><h5>Mapped inputs</h5><pre>T_abs       267.212898\n",
       "T_cond      301.275729\n",
       "T_evap      278.463883\n",
       "T_gen       400.611307\n",
       "T_rect      300.150764\n",
       "x_refrig      0.900000\n",
       "dtype: float64</pre><h5>Constraint functions</h5><pre>0     0.000000\n",
       "1    -0.000123\n",
       "2     0.100122\n",
       "3    27.328566\n",
       "4    92.169585\n",
       "5    22.811847\n",
       "6   -30.932566\n",
       "7    -2.135914\n",
       "8    -5.462241\n",
       "dtype: float64</pre><h5>Warnings</h5>\n",
       "                <ul><li>x_refrig (0.899877) should be greater than 0.9 but is not.</li><li>T_abs (298.14546404) should be less than 267.213 but is not.</li><li>T_abs (298.145) should be less than 296.01 but is not.</li><li>T_gen (395.149) should be greater than 400.611 but is not.</li></ul>"
      ],
      "text/plain": [
       "<aqua_chiller_spec1.AquaChillerSpec1 at 0x8969570>"
      ]
     },
     "execution_count": 49,
     "metadata": {},
     "output_type": "execute_result"
    }
   ],
   "source": [
    "s=\"298.14546404 301.27572934 278.46388254 395.14906616 300.15076358 0.89987692\"\n",
    "x=numpy.fromstring(s,sep=\" \")\n",
    "bdry = standard_boundary(t_heat_reject)\n",
    "import aqua_chiller_spec1\n",
    "spec=aqua_chiller_spec1.makeSpec(*x)\n",
    "feas=aqua_chiller_spec1.AquaChillerSpec1(spec)\n",
    "feas"
   ]
  },
  {
   "cell_type": "code",
   "execution_count": 50,
   "metadata": {},
   "outputs": [
    {
     "data": {
      "text/html": [
       "<h5>Inputs</h5><pre>T_abs       267.212898\n",
       "T_cond      301.275729\n",
       "T_evap      278.463883\n",
       "T_gen       400.611307\n",
       "T_rect      300.150764\n",
       "x_refrig      0.900000\n",
       "dtype: float64</pre><h5>Computed limits</h5><pre>x_refrig_min           NaN\n",
       "x_refrig_max           NaN\n",
       "T_cond_max      393.445314\n",
       "T_evap_min      251.135316\n",
       "P_cond           10.035024\n",
       "P_evap            0.079741\n",
       "T_abs_max1      267.212898\n",
       "x_rich_max        0.199829\n",
       "x_rich            0.199829\n",
       "T_abs_max2      296.009550\n",
       "T_gen_min       400.611307\n",
       "dtype: float64</pre><h5>Mapped inputs</h5><pre>T_abs       267.212898\n",
       "T_cond      301.275729\n",
       "T_evap      278.463883\n",
       "T_gen       400.611307\n",
       "T_rect      300.150764\n",
       "x_refrig      0.900000\n",
       "dtype: float64</pre><h5>Constraint functions</h5><pre>0     0.000000\n",
       "1     0.000000\n",
       "2     0.099999\n",
       "3    27.328566\n",
       "4    92.169585\n",
       "5    22.811847\n",
       "6     0.000000\n",
       "7    28.796652\n",
       "8     0.000000\n",
       "dtype: float64</pre><h5>Warnings</h5>\n",
       "                <ul><li>None.</li></ul>"
      ],
      "text/plain": [
       "<aqua_chiller_spec1.AquaChillerSpec1 at 0x8bba970>"
      ]
     },
     "execution_count": 50,
     "metadata": {},
     "output_type": "execute_result"
    }
   ],
   "source": [
    "spec2=feas.mapped\n",
    "feas2=aqua_chiller_spec1.AquaChillerSpec1(spec2)\n",
    "feas2"
   ]
  },
  {
   "cell_type": "code",
   "execution_count": 51,
   "metadata": {},
   "outputs": [
    {
     "data": {
      "text/html": [
       "<h3>State points</h3>\n",
       "        <table>\n",
       "<thead>\n",
       "<tr><th>                         </th><th style=\"text-align: right;\">      T</th><th style=\"text-align: right;\">         P</th><th style=\"text-align: right;\">       x</th><th style=\"text-align: right;\">         h</th><th style=\"text-align: right;\">        s</th><th style=\"text-align: right;\">         u</th><th style=\"text-align: right;\">          v</th><th style=\"text-align: right;\">        Qu</th></tr>\n",
       "</thead>\n",
       "<tbody>\n",
       "<tr><td>rich_abs_outlet          </td><td style=\"text-align: right;\">267.213</td><td style=\"text-align: right;\"> 0.0797406</td><td style=\"text-align: right;\">0.199829</td><td style=\"text-align: right;\">-161.354  </td><td style=\"text-align: right;\">-0.11133 </td><td style=\"text-align: right;\">-161.362  </td><td style=\"text-align: right;\"> 0.00107495</td><td style=\"text-align: right;\"> 0        </td></tr>\n",
       "<tr><td>rich_pump_outlet         </td><td style=\"text-align: right;\">267.275</td><td style=\"text-align: right;\">10.035    </td><td style=\"text-align: right;\">0.199829</td><td style=\"text-align: right;\">-160.016  </td><td style=\"text-align: right;\">-0.110329</td><td style=\"text-align: right;\">-161.095  </td><td style=\"text-align: right;\"> 0.0010744 </td><td style=\"text-align: right;\">-0.001    </td></tr>\n",
       "<tr><td>rich_shx_outlet          </td><td style=\"text-align: right;\">361.521</td><td style=\"text-align: right;\">10.035    </td><td style=\"text-align: right;\">0.199829</td><td style=\"text-align: right;\"> 241.86   </td><td style=\"text-align: right;\"> 1.17804 </td><td style=\"text-align: right;\"> 240.72   </td><td style=\"text-align: right;\"> 0.0011364 </td><td style=\"text-align: right;\">-0.001    </td></tr>\n",
       "<tr><td>rich_gen_sat_liquid      </td><td style=\"text-align: right;\">400.611</td><td style=\"text-align: right;\">10.035    </td><td style=\"text-align: right;\">0.199829</td><td style=\"text-align: right;\"> 414.542  </td><td style=\"text-align: right;\"> 1.6311  </td><td style=\"text-align: right;\"> 413.341  </td><td style=\"text-align: right;\"> 0.00119727</td><td style=\"text-align: right;\"> 0        </td></tr>\n",
       "<tr><td>weak_gen_outlet          </td><td style=\"text-align: right;\">400.611</td><td style=\"text-align: right;\">10.035    </td><td style=\"text-align: right;\">0.199773</td><td style=\"text-align: right;\"> 414.175  </td><td style=\"text-align: right;\"> 1.6304  </td><td style=\"text-align: right;\"> 412.973  </td><td style=\"text-align: right;\"> 0.00119731</td><td style=\"text-align: right;\"> 0        </td></tr>\n",
       "<tr><td>weak_shx_outlet          </td><td style=\"text-align: right;\">307.491</td><td style=\"text-align: right;\">10.035    </td><td style=\"text-align: right;\">0.199773</td><td style=\"text-align: right;\">  12.2659 </td><td style=\"text-align: right;\"> 0.490297</td><td style=\"text-align: right;\">  11.1759 </td><td style=\"text-align: right;\"> 0.00108615</td><td style=\"text-align: right;\">-0.001    </td></tr>\n",
       "<tr><td>weak_exp_outlet          </td><td style=\"text-align: right;\">276.09 </td><td style=\"text-align: right;\"> 0.0797406</td><td style=\"text-align: right;\">0.199773</td><td style=\"text-align: right;\">  12.2659 </td><td style=\"text-align: right;\"> 0.525667</td><td style=\"text-align: right;\">   3.22891</td><td style=\"text-align: right;\"> 1.13329   </td><td style=\"text-align: right;\"> 0.0673955</td></tr>\n",
       "<tr><td>gen_vapor_outlet         </td><td style=\"text-align: right;\">400.611</td><td style=\"text-align: right;\">10.035    </td><td style=\"text-align: right;\">0.785591</td><td style=\"text-align: right;\">1789      </td><td style=\"text-align: right;\"> 5.59759 </td><td style=\"text-align: right;\">1605.92   </td><td style=\"text-align: right;\"> 0.182446  </td><td style=\"text-align: right;\"> 1        </td></tr>\n",
       "<tr><td>gen_reflux_inlet         </td><td style=\"text-align: right;\">400.611</td><td style=\"text-align: right;\">10.035    </td><td style=\"text-align: right;\">0.199773</td><td style=\"text-align: right;\"> 414.175  </td><td style=\"text-align: right;\"> 1.6304  </td><td style=\"text-align: right;\"> 412.973  </td><td style=\"text-align: right;\"> 0.00119731</td><td style=\"text-align: right;\"> 0        </td></tr>\n",
       "<tr><td>refrig_rect_outlet       </td><td style=\"text-align: right;\">300.151</td><td style=\"text-align: right;\">10.035    </td><td style=\"text-align: right;\">0.9     </td><td style=\"text-align: right;\">  54.1126 </td><td style=\"text-align: right;\"> 0.425364</td><td style=\"text-align: right;\">  52.5635 </td><td style=\"text-align: right;\"> 0.00154369</td><td style=\"text-align: right;\">-0.001    </td></tr>\n",
       "<tr><td>refrig_cond_outlet       </td><td style=\"text-align: right;\">301.276</td><td style=\"text-align: right;\">10.035    </td><td style=\"text-align: right;\">0.9     </td><td style=\"text-align: right;\">  59.483  </td><td style=\"text-align: right;\"> 0.443194</td><td style=\"text-align: right;\">  57.9299 </td><td style=\"text-align: right;\"> 0.0015477 </td><td style=\"text-align: right;\"> 0        </td></tr>\n",
       "<tr><td>refrig_cehx_liquid_outlet</td><td style=\"text-align: right;\">290.798</td><td style=\"text-align: right;\">10.035    </td><td style=\"text-align: right;\">0.9     </td><td style=\"text-align: right;\">   9.89884</td><td style=\"text-align: right;\"> 0.27572 </td><td style=\"text-align: right;\">   8.38143</td><td style=\"text-align: right;\"> 0.00151211</td><td style=\"text-align: right;\">-0.001    </td></tr>\n",
       "<tr><td>refrig_exp_outlet        </td><td style=\"text-align: right;\">200.885</td><td style=\"text-align: right;\"> 0.0797406</td><td style=\"text-align: right;\">0.9     </td><td style=\"text-align: right;\">   9.89884</td><td style=\"text-align: right;\"> 0.641584</td><td style=\"text-align: right;\"> -18.195  </td><td style=\"text-align: right;\"> 3.52316   </td><td style=\"text-align: right;\"> 0.287919 </td></tr>\n",
       "<tr><td>refrig_evap_outlet       </td><td style=\"text-align: right;\">278.464</td><td style=\"text-align: right;\"> 0.0797406</td><td style=\"text-align: right;\">0.9     </td><td style=\"text-align: right;\">1430.79   </td><td style=\"text-align: right;\"> 6.98478 </td><td style=\"text-align: right;\">1296.07   </td><td style=\"text-align: right;\">16.8938    </td><td style=\"text-align: right;\"> 0.998    </td></tr>\n",
       "<tr><td>refrig_cehx_sat_vapor    </td><td style=\"text-align: right;\">278.638</td><td style=\"text-align: right;\"> 0.0797406</td><td style=\"text-align: right;\">0.9     </td><td style=\"text-align: right;\">1434.73   </td><td style=\"text-align: right;\"> 7.0007  </td><td style=\"text-align: right;\">1299.7    </td><td style=\"text-align: right;\">16.9335    </td><td style=\"text-align: right;\"> 1        </td></tr>\n",
       "<tr><td>refrig_cehx_vapor_outlet </td><td style=\"text-align: right;\">300.025</td><td style=\"text-align: right;\"> 0.0797406</td><td style=\"text-align: right;\">0.9     </td><td style=\"text-align: right;\">1480.38   </td><td style=\"text-align: right;\"> 7.15692 </td><td style=\"text-align: right;\">1334.88   </td><td style=\"text-align: right;\">18.2469    </td><td style=\"text-align: right;\"> 1.001    </td></tr>\n",
       "<tr><td>rectifier_liquid         </td><td style=\"text-align: right;\">300.151</td><td style=\"text-align: right;\">10.035    </td><td style=\"text-align: right;\">0.936111</td><td style=\"text-align: right;\">  80.4268 </td><td style=\"text-align: right;\"> 0.44676 </td><td style=\"text-align: right;\">  78.834  </td><td style=\"text-align: right;\"> 0.00158725</td><td style=\"text-align: right;\"> 0        </td></tr>\n",
       "<tr><td>gen_vapor_formation      </td><td style=\"text-align: right;\">400.611</td><td style=\"text-align: right;\">10.035    </td><td style=\"text-align: right;\">0.785591</td><td style=\"text-align: right;\">1789      </td><td style=\"text-align: right;\"> 5.59759 </td><td style=\"text-align: right;\">1605.92   </td><td style=\"text-align: right;\"> 0.182446  </td><td style=\"text-align: right;\"> 1        </td></tr>\n",
       "<tr><td>abs_vapor_final          </td><td style=\"text-align: right;\">276.09 </td><td style=\"text-align: right;\"> 0.0797406</td><td style=\"text-align: right;\">0.918603</td><td style=\"text-align: right;\">1408.61   </td><td style=\"text-align: right;\"> 6.94062 </td><td style=\"text-align: right;\">1274.64   </td><td style=\"text-align: right;\">16.8009    </td><td style=\"text-align: right;\"> 1        </td></tr>\n",
       "</tbody>\n",
       "</table>\n",
       "        <br/>\n",
       "        <h3>Performance variables</h3>\n",
       "        <table>\n",
       "<thead>\n",
       "<tr><th>name                   </th><th>unit  </th><th style=\"text-align: right;\">        value</th></tr>\n",
       "</thead>\n",
       "<tbody>\n",
       "<tr><td>Q_abs                  </td><td>kW    </td><td style=\"text-align: right;\">-69.495      </td></tr>\n",
       "<tr><td>Q_gen                  </td><td>kW    </td><td style=\"text-align: right;\"> 68.9786     </td></tr>\n",
       "<tr><td>Q_cond                 </td><td>kW    </td><td style=\"text-align: right;\">  0.000172491</td></tr>\n",
       "<tr><td>Q_evap                 </td><td>kW    </td><td style=\"text-align: right;\">  0.0456373  </td></tr>\n",
       "<tr><td>Q_reflux               </td><td>kW    </td><td style=\"text-align: right;\"> -0.0643464  </td></tr>\n",
       "<tr><td>Q_shx                  </td><td>kW    </td><td style=\"text-align: right;\">160.751      </td></tr>\n",
       "<tr><td>Q_cehx                 </td><td>kW    </td><td style=\"text-align: right;\">  0.00159258 </td></tr>\n",
       "<tr><td>W_pump                 </td><td>kW    </td><td style=\"text-align: right;\">  0.534937   </td></tr>\n",
       "<tr><td>COP                    </td><td>kW/kW </td><td style=\"text-align: right;\">  0.000661615</td></tr>\n",
       "<tr><td>ZeroCheck              </td><td>kW    </td><td style=\"text-align: right;\">  1.0319e-05 </td></tr>\n",
       "<tr><td>ZeroCheckSHX           </td><td>kW    </td><td style=\"text-align: right;\"> -1.0319e-05 </td></tr>\n",
       "<tr><td>ZeroCheckCEHX          </td><td>kW    </td><td style=\"text-align: right;\"> -3.25208e-12</td></tr>\n",
       "<tr><td>Q_gen_rect_combo       </td><td>kW    </td><td style=\"text-align: right;\"> 68.9143     </td></tr>\n",
       "<tr><td>Q_refrig_side          </td><td>kW    </td><td style=\"text-align: right;\"> -0.0458098  </td></tr>\n",
       "<tr><td>ZeroCheckRect          </td><td>kg/s  </td><td style=\"text-align: right;\"> -6.77626e-21</td></tr>\n",
       "<tr><td>m_rich                 </td><td>kg/s  </td><td style=\"text-align: right;\">  0.4        </td></tr>\n",
       "<tr><td>m_weak                 </td><td>kg/s  </td><td style=\"text-align: right;\">  0.399968   </td></tr>\n",
       "<tr><td>m_gen_vapor            </td><td>kg/s  </td><td style=\"text-align: right;\">  3.83914e-05</td></tr>\n",
       "<tr><td>m_gen_reflux           </td><td>kg/s  </td><td style=\"text-align: right;\">  6.27271e-06</td></tr>\n",
       "<tr><td>m_refrig               </td><td>kg/s  </td><td style=\"text-align: right;\">  3.21187e-05</td></tr>\n",
       "<tr><td>check_rectifier_delta_T</td><td>K     </td><td style=\"text-align: right;\">100.461      </td></tr>\n",
       "<tr><td>is_degenerate          </td><td>bool  </td><td style=\"text-align: right;\">  0          </td></tr>\n",
       "</tbody>\n",
       "</table>\n",
       "        "
      ],
      "text/plain": [
       "                                 T           P         x           h          s           u            v          Qu\n",
       "-------------------------  -------  ----------  --------  ----------  ---------  ----------  -----------  ----------\n",
       "rich_abs_outlet            267.213   0.0797406  0.199829  -161.354    -0.11133   -161.362     0.00107495   0\n",
       "rich_pump_outlet           267.275  10.035      0.199829  -160.016    -0.110329  -161.095     0.0010744   -0.001\n",
       "rich_shx_outlet            361.521  10.035      0.199829   241.86      1.17804    240.72      0.0011364   -0.001\n",
       "rich_gen_sat_liquid        400.611  10.035      0.199829   414.542     1.6311     413.341     0.00119727   0\n",
       "weak_gen_outlet            400.611  10.035      0.199773   414.175     1.6304     412.973     0.00119731   0\n",
       "weak_shx_outlet            307.491  10.035      0.199773    12.2659    0.490297    11.1759    0.00108615  -0.001\n",
       "weak_exp_outlet            276.09    0.0797406  0.199773    12.2659    0.525667     3.22891   1.13329      0.0673955\n",
       "gen_vapor_outlet           400.611  10.035      0.785591  1789         5.59759   1605.92      0.182446     1\n",
       "gen_reflux_inlet           400.611  10.035      0.199773   414.175     1.6304     412.973     0.00119731   0\n",
       "refrig_rect_outlet         300.151  10.035      0.9         54.1126    0.425364    52.5635    0.00154369  -0.001\n",
       "refrig_cond_outlet         301.276  10.035      0.9         59.483     0.443194    57.9299    0.0015477    0\n",
       "refrig_cehx_liquid_outlet  290.798  10.035      0.9          9.89884   0.27572      8.38143   0.00151211  -0.001\n",
       "refrig_exp_outlet          200.885   0.0797406  0.9          9.89884   0.641584   -18.195     3.52316      0.287919\n",
       "refrig_evap_outlet         278.464   0.0797406  0.9       1430.79      6.98478   1296.07     16.8938       0.998\n",
       "refrig_cehx_sat_vapor      278.638   0.0797406  0.9       1434.73      7.0007    1299.7      16.9335       1\n",
       "refrig_cehx_vapor_outlet   300.025   0.0797406  0.9       1480.38      7.15692   1334.88     18.2469       1.001\n",
       "rectifier_liquid           300.151  10.035      0.936111    80.4268    0.44676     78.834     0.00158725   0\n",
       "gen_vapor_formation        400.611  10.035      0.785591  1789         5.59759   1605.92      0.182446     1\n",
       "abs_vapor_final            276.09    0.0797406  0.918603  1408.61      6.94062   1274.64     16.8009       1\n",
       "name                     unit            value\n",
       "-----------------------  ------  -------------\n",
       "Q_abs                    kW      -69.495\n",
       "Q_gen                    kW       68.9786\n",
       "Q_cond                   kW        0.000172491\n",
       "Q_evap                   kW        0.0456373\n",
       "Q_reflux                 kW       -0.0643464\n",
       "Q_shx                    kW      160.751\n",
       "Q_cehx                   kW        0.00159258\n",
       "W_pump                   kW        0.534937\n",
       "COP                      kW/kW     0.000661615\n",
       "ZeroCheck                kW        1.0319e-05\n",
       "ZeroCheckSHX             kW       -1.0319e-05\n",
       "ZeroCheckCEHX            kW       -3.25208e-12\n",
       "Q_gen_rect_combo         kW       68.9143\n",
       "Q_refrig_side            kW       -0.0458098\n",
       "ZeroCheckRect            kg/s     -6.77626e-21\n",
       "m_rich                   kg/s      0.4\n",
       "m_weak                   kg/s      0.399968\n",
       "m_gen_vapor              kg/s      3.83914e-05\n",
       "m_gen_reflux             kg/s      6.27271e-06\n",
       "m_refrig                 kg/s      3.21187e-05\n",
       "check_rectifier_delta_T  K       100.461\n",
       "is_degenerate            bool      0"
      ]
     },
     "execution_count": 51,
     "metadata": {},
     "output_type": "execute_result"
    }
   ],
   "source": [
    "ch=aqua_chiller_spec1.makeChiller(spec2)\n",
    "ch"
   ]
  },
  {
   "cell_type": "code",
   "execution_count": 53,
   "metadata": {},
   "outputs": [
    {
     "data": {
      "text/html": [
       "<table>\n",
       "<thead>\n",
       "<tr><th>name  </th><th style=\"text-align: right;\">    deltaT</th><th style=\"text-align: right;\">      epsilon</th><th style=\"text-align: right;\">           UA</th><th style=\"text-align: right;\">           Q</th></tr>\n",
       "</thead>\n",
       "<tbody>\n",
       "<tr><td>gen   </td><td style=\"text-align: right;\"> -0.589319</td><td style=\"text-align: right;\">  1.02528    </td><td style=\"text-align: right;\">inf          </td><td style=\"text-align: right;\">68.9786     </td></tr>\n",
       "<tr><td>rect  </td><td style=\"text-align: right;\"> 45.5979  </td><td style=\"text-align: right;\"> -0.843892   </td><td style=\"text-align: right;\">  0.000921602</td><td style=\"text-align: right;\"> 0.0643464  </td></tr>\n",
       "<tr><td>abs   </td><td style=\"text-align: right;\">-25.9643  </td><td style=\"text-align: right;\"> -0.324648   </td><td style=\"text-align: right;\">inf          </td><td style=\"text-align: right;\">69.495      </td></tr>\n",
       "<tr><td>cond  </td><td style=\"text-align: right;\">inf       </td><td style=\"text-align: right;\">inf          </td><td style=\"text-align: right;\">inf          </td><td style=\"text-align: right;\">-0.000172491</td></tr>\n",
       "<tr><td>evap  </td><td style=\"text-align: right;\">  6.55219 </td><td style=\"text-align: right;\"> -0.000394867</td><td style=\"text-align: right;\">  0.00133922 </td><td style=\"text-align: right;\"> 0.0456373  </td></tr>\n",
       "<tr><td>total </td><td style=\"text-align: right;\">  0       </td><td style=\"text-align: right;\">  0          </td><td style=\"text-align: right;\">inf          </td><td style=\"text-align: right;\"> 0          </td></tr>\n",
       "</tbody>\n",
       "</table>"
      ],
      "text/plain": [
       "name        deltaT        epsilon             UA             Q\n",
       "------  ----------  -------------  -------------  ------------\n",
       "gen      -0.589319    1.02528      inf            68.9786\n",
       "rect     45.5979     -0.843892       0.000921602   0.0643464\n",
       "abs     -25.9643     -0.324648     inf            69.495\n",
       "cond    inf         inf            inf            -0.000172491\n",
       "evap      6.55219    -0.000394867    0.00133922    0.0456373\n",
       "totalUA = inf"
      ]
     },
     "execution_count": 53,
     "metadata": {},
     "output_type": "execute_result"
    }
   ],
   "source": [
    "sys = system_aqua1.System(bdry, ch)\n",
    "sys"
   ]
  },
  {
   "cell_type": "code",
   "execution_count": 58,
   "metadata": {},
   "outputs": [
    {
     "data": {
      "text/plain": [
       "T_inlet = 293.15, mdot = 5, cp = 4.179"
      ]
     },
     "execution_count": 58,
     "metadata": {},
     "output_type": "execute_result"
    }
   ],
   "source": [
    "cond=sys.hxs['cond']\n",
    "cond.cold"
   ]
  },
  {
   "cell_type": "code",
   "execution_count": 62,
   "metadata": {},
   "outputs": [
    {
     "data": {
      "image/png": "[encoded data removed]",
      "text/plain": [
       "<matplotlib.figure.Figure at 0x8ba6130>"
      ]
     },
     "metadata": {},
     "output_type": "display_data"
    },
    {
     "data": {
      "image/png": "[encoded data removed]",
      "text/plain": [
       "<matplotlib.figure.Figure at 0x8972390>"
      ]
     },
     "metadata": {},
     "output_type": "display_data"
    },
    {
     "data": {
      "image/png": "[encoded data removed]",
      "text/plain": [
       "<matplotlib.figure.Figure at 0x916b930>"
      ]
     },
     "metadata": {},
     "output_type": "display_data"
    },
    {
     "data": {
      "image/png": "[encoded data removed]",
      "text/plain": [
       "<matplotlib.figure.Figure at 0x918d5f0>"
      ]
     },
     "metadata": {},
     "output_type": "display_data"
    },
    {
     "data": {
      "image/png": "[encoded data removed]",
      "text/plain": [
       "<matplotlib.figure.Figure at 0x8969270>"
      ]
     },
     "metadata": {},
     "output_type": "display_data"
    }
   ],
   "source": [
    "sys.display()\n",
    "plt.show()"
   ]
  },
  {
   "cell_type": "code",
   "execution_count": null,
   "metadata": {
    "collapsed": true
   },
   "outputs": [],
   "source": []
  },
  {
   "cell_type": "markdown",
   "metadata": {},
   "source": [
    "## Run the thing already"
   ]
  },
  {
   "cell_type": "code",
   "execution_count": null,
   "metadata": {
    "collapsed": true
   },
   "outputs": [],
   "source": [
    "t_heat_reject_range = 273.15 + numpy.arange(10,61,5)\n",
    "q_fraction_range = [1, 0.999, 0.99, 0.95, 0.9, 0.8, 0.5, 0.2, 0.1]\n",
    "study = pandas.DataFrame(index=pandas.MultiIndex.from_product([t_heat_reject_range,\n",
    "                                                               q_fraction_range],\n",
    "                                                             names=['T_r','q_frac']),\n",
    "                        columns=['Q'] + trendnames + ['opt', ] )\n",
    "\n",
    "ch = system_aqua1.makeChiller(opt['x'])\n"
   ]
  },
  {
   "cell_type": "code",
   "execution_count": null,
   "metadata": {
    "collapsed": true
   },
   "outputs": [],
   "source": [
    "dry_run = True\n",
    "# Loop step 1 for all reject temperature cases\n",
    "for i,index in enumerate(opts2.index):\n",
    "    tr,qf = index\n",
    "    q_max = opts2.Q[(tr,1)]\n",
    "    q_goal = q_max * qf\n",
    "    print(\"Case {}, T_heat_reject = {} K, Q_fraction = {}, Q_goal = {}\".format(i, tr, qf, q_goal))\n",
    "\n",
    "    if opts2.opt[index] is numpy.nan or opts2.opt[index] is None:\n",
    "        print(\"Case {}, T_heat_reject = {} K\".format(i, T_heat_reject))\n",
    "        q_max_feasible,xopt = opt_step_1(tr)\n",
    "        opts2.at[(rT,1),'Q'] = ch.Q_evap\n",
    "        \n",
    "# Loop step 2 for all reject temperature cases\n",
    "for i,index in enumerate(opts2.index):\n",
    "    tr,qf = index\n",
    "    q_max = opts2.Q[(tr,1)]\n",
    "    q_goal = q_max * qf\n",
    "    print(\"Case {}, T_heat_reject = {} K, Q_fraction = {}, Q_goal = {}\".format(i, tr, qf, q_goal))\n",
    "\n",
    "    if opts2.opt[index] is numpy.nan or opts2.opt[index] is None:\n",
    "        print(\"Case {}, T_heat_reject = {} K\".format(i, T_heat_reject))\n",
    "        opt = opt_step_2(tr, qf)\n",
    "        opts2.at[(rT,1),'Q'] = ch.Q_evap"
   ]
  },
  {
   "cell_type": "code",
   "execution_count": null,
   "metadata": {
    "collapsed": true
   },
   "outputs": [],
   "source": []
  },
  {
   "cell_type": "code",
   "execution_count": 82,
   "metadata": {
    "collapsed": true
   },
   "outputs": [],
   "source": [
    "from util import log_progress"
   ]
  },
  {
   "cell_type": "code",
   "execution_count": null,
   "metadata": {
    "scrolled": true
   },
   "outputs": [
    {
     "data": {
      "application/vnd.jupyter.widget-view+json": {
       "model_id": "c655517e8ee2478d89e6a829e7e5cbe0",
       "version_major": 2,
       "version_minor": 0
      },
      "text/plain": [
       "A Jupyter Widget"
      ]
     },
     "metadata": {},
     "output_type": "display_data"
    }
   ],
   "source": [
    "%%time\n",
    "for i in log_progress(range(len(study.index)), every=100):\n",
    "    (x_refrig,T_low,T_med,T_high) = study.index[i]\n",
    "    if numpy.isnan(study.iloc[i]['constraint',0]):\n",
    "        spec = makeSpec(T_abs=T_med,T_cond=T_med,T_evap=T_low,T_gen=T_high, x_refrig=x_refrig)\n",
    "        study.iloc[i]['spec'] = spec\n",
    "        a1 = AquaChillerSpec1(spec)\n",
    "        study.iloc[i]['constraint'] = a1.C\n",
    "        study.iloc[i]['calc'] = a1.calc\n",
    "        study.iloc[i]['mapped'] = a1.mapped\n",
    "print(\"Done.\")\n",
    "#violations[violations>0] = numpy.nan"
   ]
  },
  {
   "cell_type": "code",
   "execution_count": 65,
   "metadata": {
    "collapsed": true
   },
   "outputs": [],
   "source": [
    "a1=AquaChillerSpec1(spec,False)"
   ]
  },
  {
   "cell_type": "code",
   "execution_count": 66,
   "metadata": {},
   "outputs": [
    {
     "data": {
      "text/html": [
       "<h5>Inputs</h5><pre>T_abs       420.00000\n",
       "T_cond      420.00000\n",
       "T_evap      420.00000\n",
       "T_gen       600.00000\n",
       "T_rect      310.00000\n",
       "x_refrig      0.99998\n",
       "dtype: float64</pre><h5>Computed limits</h5><pre>x_refrig_min           NaN\n",
       "x_refrig_max           NaN\n",
       "T_cond_max      384.620083\n",
       "T_evap_min      177.547681\n",
       "P_cond           80.002448\n",
       "P_evap          176.503483\n",
       "T_abs_max1      596.538905\n",
       "x_rich_max        1.000000\n",
       "x_rich            1.000000\n",
       "T_abs_max2      419.827603\n",
       "T_gen_min       384.617885\n",
       "dtype: float64</pre><h5>Mapped inputs</h5><pre>T_abs       420.000000\n",
       "T_cond      384.620083\n",
       "T_evap      420.000000\n",
       "T_gen       600.000000\n",
       "T_rect      310.000000\n",
       "x_refrig      0.999980\n",
       "dtype: float64</pre><h5>Constraint functions</h5><pre>0      0.000000\n",
       "1      0.099980\n",
       "2      0.000020\n",
       "3    242.452319\n",
       "4    -35.379917\n",
       "5      0.000000\n",
       "6    176.538905\n",
       "7     -0.172397\n",
       "8    215.382115\n",
       "dtype: float64</pre><h5>Warnings</h5>\n",
       "                <ul><li>T_cond (420) should be less than 384.62 but is not.</li><li>T_abs (420) should be less than 419.828 but is not.</li></ul>"
      ],
      "text/plain": [
       "<__main__.AquaChillerSpec1 at 0x916d370>"
      ]
     },
     "execution_count": 66,
     "metadata": {},
     "output_type": "execute_result"
    }
   ],
   "source": [
    "a1"
   ]
  },
  {
   "cell_type": "markdown",
   "metadata": {},
   "source": [
    "## Appendix"
   ]
  },
  {
   "cell_type": "code",
   "execution_count": 28,
   "metadata": {},
   "outputs": [
    {
     "data": {
      "text/html": [
       "<textarea id=\"TOC-markdown\" style=\"font-family:monospace;width:80%;height:20em;\">TOC will be here</textarea>\n",
       "<script>\n",
       "$(\"#TOC-markdown\").html(\n",
       "    $('h1,h2,h3,h4').filter(\":has(a)\").map(function(){\n",
       "        return \"  \".repeat($(this).prop(\"tagName\")[1]) \n",
       "          + \"- <a href='\" + encodeURI($(this).children().attr(\"href\")) + \"'>\"\n",
       "          + $(this).text() + \"</a>\";}).get().join(\"\\n\")\n",
       "    );\n",
       "</script>"
      ],
      "text/plain": [
       "<IPython.core.display.HTML object>"
      ]
     },
     "metadata": {},
     "output_type": "display_data"
    }
   ],
   "source": [
    "%%html\n",
    "<textarea id=\"TOC-markdown\" style=\"font-family:monospace;width:80%;height:20em;\">TOC will be here</textarea>\n",
    "<script>\n",
    "$(\"#TOC-markdown\").html(\n",
    "    $('h1,h2,h3,h4').filter(\":has(a)\").map(function(){\n",
    "        return \"  \".repeat($(this).prop(\"tagName\")[1]) \n",
    "          + \"- <a href='\" + encodeURI($(this).children().attr(\"href\")) + \"'>\"\n",
    "          + $(this).text() + \"</a>\";}).get().join(\"\\n\")\n",
    "    );\n",
    "</script>"
   ]
  },
  {
   "cell_type": "code",
   "execution_count": null,
   "metadata": {
    "collapsed": true
   },
   "outputs": [],
   "source": []
  }
 ],
 "metadata": {
  "kernelspec": {
   "display_name": "Python 3",
   "language": "python",
   "name": "python3"
  },
  "language_info": {
   "codemirror_mode": {
    "name": "ipython",
    "version": 3
   },
   "file_extension": ".py",
   "mimetype": "text/x-python",
   "name": "python",
   "nbconvert_exporter": "python",
   "pygments_lexer": "ipython3",
   "version": "3.6.2"
  }
 },
 "nbformat": 4,
 "nbformat_minor": 2
}
