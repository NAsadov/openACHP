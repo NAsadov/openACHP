{
 "cells": [
  {
   "cell_type": "markdown",
   "metadata": {},
   "source": [
    "[Go to this directory index](./)\n",
    "\n",
    "Contents\n",
    "  - [More optimization trials¶](#More-optimization-trials)\n",
    "      - [Trial 2.1¶](#Trial-2.1)\n",
    "      - [State points](undefined)\n",
    "      - [Performance variables](undefined)\n",
    "      - [Trial 2.2¶](#Trial-2.2)\n",
    "        - [Aside¶](#Aside)\n",
    "      - [Trial 2.3¶](#Trial-2.3)\n",
    "      - [Trial 2.4¶](#Trial-2.4)\n",
    "      - [Trial 2.5¶](#Trial-2.5)\n",
    "  - [Scratch work¶](#Scratch-work)"
   ]
  },
  {
   "cell_type": "markdown",
   "metadata": {},
   "source": [
    "# Trial 2.3 - Use inputs that are more physical"
   ]
  },
  {
   "cell_type": "markdown",
   "metadata": {},
   "source": [
    "The idea here is to do something different with the heat exchange feasibility constraints. In previous trials, we have written a solver that inputs temperatures to solve the chiller cycle; then heat exchange feasibility is achieved by handing various constraints to the optimizer.\n",
    "\n",
    "Here we want to solve a system with UA inputs. One method to accomplish this can be easily implemented by using the existing code and a numerical solver as follows. With a guess for T inputs, we solve the system and for each heat exchanger, we can build the (T,q) curves on both hot and cold sides. Then we evaluate Q resulting from the given UA and compare it to Q determined by the chiller cycle. The vector of [disparity in Q for each heat exchanger] will be minimized by varying T. However, it should be noted that the numerical solver adds a computational burden, and furthermore my existing method to computate Q given UA also uses a numerical solve. So in short, although the choice of inputs may remove the need for some temperature constraints, it would yield a slow simulation."
   ]
  },
  {
   "cell_type": "code",
   "execution_count": 1,
   "metadata": {
    "collapsed": true,
    "scrolled": false
   },
   "outputs": [],
   "source": [
    "%load_ext autoreload\n",
    "%autoreload 2"
   ]
  },
  {
   "cell_type": "code",
   "execution_count": 2,
   "metadata": {
    "collapsed": true,
    "scrolled": false
   },
   "outputs": [],
   "source": [
    "import matplotlib\n",
    "import numpy\n",
    "from IPython.display import HTML, SVG"
   ]
  },
  {
   "cell_type": "code",
   "execution_count": 3,
   "metadata": {
    "collapsed": true,
    "scrolled": false
   },
   "outputs": [],
   "source": [
    "#matplotlib.use('svg')\n",
    "import matplotlib.pyplot as plt\n",
    "plt.rcParams['svg.fonttype'] = 'none'\n",
    "plt.rcParams['font.sans-serif'] = 'Arial'"
   ]
  },
  {
   "cell_type": "code",
   "execution_count": 4,
   "metadata": {
    "collapsed": true
   },
   "outputs": [],
   "source": [
    "from io import BytesIO\n",
    "def pltsvg():\n",
    "    imgdata = BytesIO()\n",
    "    plt.savefig(imgdata)\n",
    "    imgdata.seek(0)\n",
    "    display(SVG(data=imgdata.read()))"
   ]
  },
  {
   "cell_type": "code",
   "execution_count": 5,
   "metadata": {
    "collapsed": true
   },
   "outputs": [],
   "source": [
    "import ammonia1\n",
    "import system_aqua1\n",
    "import scipy.optimize"
   ]
  },
  {
   "cell_type": "code",
   "execution_count": 6,
   "metadata": {
    "collapsed": true
   },
   "outputs": [],
   "source": [
    "T_heat_reject = 305.\n",
    "UAgoal = 100\n",
    "xB = [400, 1, T_heat_reject, 3, T_heat_reject, 5, 285, 4, T_heat_reject, 0.15]\n",
    "bdry = system_aqua1.makeBoundary(xB)"
   ]
  },
  {
   "cell_type": "code",
   "execution_count": 7,
   "metadata": {
    "collapsed": true
   },
   "outputs": [],
   "source": [
    "def saturate(x, bottom=-numpy.inf, top=0):\n",
    "    a_bottom = numpy.empty_like(x)\n",
    "    a_top = numpy.empty_like(x)\n",
    "    a_bottom.fill(bottom)\n",
    "    a_top.fill(top)\n",
    "    return numpy.minimum(a_top,\n",
    "                         numpy.maximum(a_bottom,\n",
    "                                       x))\n",
    "\n",
    "def barrier1(c, length_scale):\n",
    "    \"\"\"The domain for B is the feasible set only.\n",
    "    We want B large near boundary, but small elsewhere.\n",
    "    Feasible means c > 0 and g < 0. Please input c.\n",
    "    \"\"\"\n",
    "    g = numpy.negative(c)\n",
    "    b = numpy.exp(g / length_scale)\n",
    "    return numpy.sum(b)\n",
    "\n",
    "def decay1(step_number, initial_value = 1., rate = 1.):\n",
    "    \"\"\"A decaying function to scale barrier functions.\n",
    "    step_number: as this increases, I decay.\n",
    "    initial_value: value when step_number = 0.\n",
    "    decay_rate: how fast to decay.\n",
    "    \"\"\"\n",
    "    # Magnitude tends to zero, slowly\n",
    "    mu_B = initial_value * numpy.exp(-rate * step_number)\n",
    "    return mu_B        \n",
    "\n",
    "def penalty1(c, length_scale):\n",
    "    \"\"\"We want P = 0 for feasible, P > 0 elsewhere\n",
    "    Feasible means c > 0 and g < 0.\n",
    "    \"\"\"\n",
    "    g = numpy.negative(c)\n",
    "    g = saturate(g,bottom=0,top=numpy.inf)\n",
    "    p = (g / length_scale)**2\n",
    "    return numpy.sum(p)\n",
    "\n",
    "def grow1(step_number, initial_value = 1., rate = 1.):\n",
    "    \"\"\"A growing function to scale penalty functions.\"\"\"\n",
    "    # Magnitude tends to infinite, bit more quickly\n",
    "    mu_P = initial_value * numpy.exp(rate * step_number)\n",
    "    return mu_P\n"
   ]
  },
  {
   "cell_type": "code",
   "execution_count": 49,
   "metadata": {},
   "outputs": [
    {
     "data": {
      "text/plain": [
       "numpy.int32"
      ]
     },
     "execution_count": 49,
     "metadata": {},
     "output_type": "execute_result"
    }
   ],
   "source": [
    "type(numpy.sum([1,2,3]))"
   ]
  },
  {
   "cell_type": "code",
   "execution_count": 50,
   "metadata": {
    "collapsed": true
   },
   "outputs": [],
   "source": [
    "class Problem_2_3:\n",
    "    def __init__(self, bdry, UAs):\n",
    "        \"\"\"Note: UAs to input are like this:\n",
    "            [gen,rect,abs,cond,evap]\n",
    "        \"\"\"\n",
    "        self.bdry = bdry\n",
    "        self.UAs = UAs\n",
    "        self.Ncons = 7\n",
    "        self.n_calls = 0\n",
    "        # Soft constraints mode: this is sent to minimizer\n",
    "        self.constraints = [{'type': 'ineq',\n",
    "                             'fun': self.constraint,\n",
    "                             'args': (i,)\n",
    "                            } for i in range(self.Ncons)]\n",
    "            \n",
    "    def objective(self, xC):\n",
    "        step_number = numpy.floor(self.n_calls / 7)\n",
    "        self.n_calls += 1\n",
    "        cost,B,P = 0.,0.,0.\n",
    "        #try:\n",
    "        ch = system_aqua1.makeChiller(xC)\n",
    "        sys = system_aqua1.System(self.bdry, ch)\n",
    "\n",
    "        # Barriers\n",
    "        # Magnitude tends to zero, slowly\n",
    "        mu_B = 1000. * numpy.exp(-0.1 * step_number)\n",
    "        length_scale_b = 1\n",
    "        # Or ... magnitude fixed, but shape changes\n",
    "        mu_B = 1000\n",
    "        length_scale_b = 1 * numpy.exp(-0.1 * step_number)\n",
    "\n",
    "        # These are zero at the boundary ...\n",
    "        barriers = [ch.check_rectifier_delta_T]\n",
    "        B = mu_B * barrier1(barriers,length_scale_b)\n",
    "\n",
    "        # Penalties\n",
    "        # Magnitude tends to infinite\n",
    "        mu_P = 1 * numpy.exp(0.1 * step_number)\n",
    "        penalties = []\n",
    "        P = mu_P * penalty1(penalties,1)\n",
    "\n",
    "        Q = numpy.zeros_like(sys.Q)\n",
    "        Q_excess = numpy.zeros_like(sys.Q)\n",
    "        for i, (name, hx) in enumerate(sys.hxs.items()):\n",
    "            Q[i] = hx.calcQ(self.UAs[i])\n",
    "            Q_excess[i] = Q - sys.Q[name]\n",
    "        print(Q)\n",
    "        cost = numpy.sum(numpy.square(Q_excess))\n",
    "        #except Exception as e:\n",
    "        #    print(e)\n",
    "        #    cost = numpy.inf\n",
    "        \n",
    "        print(self.n_calls, step_number, cost, B, P, \"\\n\", flush=True)\n",
    "        return cost + B + P\n",
    "    \n",
    "    def constraint(self, x, *args):\n",
    "        cons = [x[0] - 0.1,\n",
    "                1. - x[0],\n",
    "                x[2] - x[1] - 1.0,\n",
    "                x[3] - x[2] - 0.1,\n",
    "                x[4] - x[1] - 10.0,\n",
    "                x[5] - x[3] - 1.0,\n",
    "                x[5] - x[4] - 1.0]\n",
    "        if len(args) > 0:\n",
    "            i, = args\n",
    "            return cons[i]\n",
    "        else:\n",
    "            return cons\n",
    "\n",
    "    def callback(self, x):\n",
    "        print(\"Did an iteration at \", x)"
   ]
  },
  {
   "cell_type": "code",
   "execution_count": 51,
   "metadata": {
    "collapsed": true
   },
   "outputs": [],
   "source": [
    "# [gen,rect,abs,cond,evap]\n",
    "P = Problem_2_3(bdry, [30,1,30,30,30])"
   ]
  },
  {
   "cell_type": "code",
   "execution_count": 52,
   "metadata": {
    "collapsed": true
   },
   "outputs": [],
   "source": [
    "rT = T_heat_reject\n",
    "x = numpy.array([0.5, 278.45, rT+7, rT+8, rT+5, 395.15])"
   ]
  },
  {
   "cell_type": "code",
   "execution_count": 53,
   "metadata": {},
   "outputs": [
    {
     "name": "stderr",
     "output_type": "stream",
     "text": [
      "C:\\Users\\user1\\Miniconda3\\envs\\openachp\\lib\\site-packages\\scipy\\optimize\\_minimize.py:403: RuntimeWarning: Method COBYLA does not support callback.\n",
      "  warn('Method %s does not support callback.' % method, RuntimeWarning)\n"
     ]
    },
    {
     "name": "stdout",
     "output_type": "stream",
     "text": [
      "Note: Absorber inlet is subcooled\n"
     ]
    },
    {
     "name": "stderr",
     "output_type": "stream",
     "text": [
      "C:\\Users\\user1\\Miniconda3\\envs\\openachp\\lib\\site-packages\\scipy\\interpolate\\_cubic.py:147: RuntimeWarning: divide by zero encountered in true_divide\n",
      "  mk = (y[1:] - y[:-1]) / hk\n",
      "C:\\Users\\user1\\Miniconda3\\envs\\openachp\\lib\\site-packages\\scipy\\interpolate\\_cubic.py:165: RuntimeWarning: invalid value encountered in true_divide\n",
      "  whmean = (w1/mk[:-1] + w2/mk[1:]) / (w1 + w2)\n"
     ]
    },
    {
     "ename": "ValueError",
     "evalue": "Objective function must return a scalar",
     "output_type": "error",
     "traceback": [
      "\u001b[1;31m---------------------------------------------------------------------------\u001b[0m",
      "\u001b[1;31mValueError\u001b[0m                                Traceback (most recent call last)",
      "\u001b[1;32m~\\Miniconda3\\envs\\openachp\\lib\\site-packages\\scipy\\optimize\\slsqp.py\u001b[0m in \u001b[0;36m_minimize_slsqp\u001b[1;34m(func, x0, args, jac, bounds, constraints, maxiter, ftol, iprint, disp, eps, callback, **unknown_options)\u001b[0m\n\u001b[0;32m    367\u001b[0m             \u001b[1;32mtry\u001b[0m\u001b[1;33m:\u001b[0m\u001b[1;33m\u001b[0m\u001b[0m\n\u001b[1;32m--> 368\u001b[1;33m                 \u001b[0mfx\u001b[0m \u001b[1;33m=\u001b[0m \u001b[0mfloat\u001b[0m\u001b[1;33m(\u001b[0m\u001b[0mnp\u001b[0m\u001b[1;33m.\u001b[0m\u001b[0masarray\u001b[0m\u001b[1;33m(\u001b[0m\u001b[0mfunc\u001b[0m\u001b[1;33m(\u001b[0m\u001b[0mx\u001b[0m\u001b[1;33m)\u001b[0m\u001b[1;33m)\u001b[0m\u001b[1;33m)\u001b[0m\u001b[1;33m\u001b[0m\u001b[0m\n\u001b[0m\u001b[0;32m    369\u001b[0m             \u001b[1;32mexcept\u001b[0m\u001b[1;33m:\u001b[0m\u001b[1;33m\u001b[0m\u001b[0m\n",
      "\u001b[1;32m~\\Miniconda3\\envs\\openachp\\lib\\site-packages\\scipy\\optimize\\optimize.py\u001b[0m in \u001b[0;36mfunction_wrapper\u001b[1;34m(*wrapper_args)\u001b[0m\n\u001b[0;32m    291\u001b[0m         \u001b[0mncalls\u001b[0m\u001b[1;33m[\u001b[0m\u001b[1;36m0\u001b[0m\u001b[1;33m]\u001b[0m \u001b[1;33m+=\u001b[0m \u001b[1;36m1\u001b[0m\u001b[1;33m\u001b[0m\u001b[0m\n\u001b[1;32m--> 292\u001b[1;33m         \u001b[1;32mreturn\u001b[0m \u001b[0mfunction\u001b[0m\u001b[1;33m(\u001b[0m\u001b[1;33m*\u001b[0m\u001b[1;33m(\u001b[0m\u001b[0mwrapper_args\u001b[0m \u001b[1;33m+\u001b[0m \u001b[0margs\u001b[0m\u001b[1;33m)\u001b[0m\u001b[1;33m)\u001b[0m\u001b[1;33m\u001b[0m\u001b[0m\n\u001b[0m\u001b[0;32m    293\u001b[0m \u001b[1;33m\u001b[0m\u001b[0m\n",
      "\u001b[1;32m~\\Documents\\GitHub\\openACHP\\src\\HRHX_integral_model.py\u001b[0m in \u001b[0;36m<lambda>\u001b[1;34m(Q)\u001b[0m\n\u001b[0;32m    241\u001b[0m     \u001b[1;32mdef\u001b[0m \u001b[0mcalcQ\u001b[0m\u001b[1;33m(\u001b[0m\u001b[0mself\u001b[0m\u001b[1;33m,\u001b[0m\u001b[0mUA\u001b[0m\u001b[1;33m)\u001b[0m\u001b[1;33m:\u001b[0m\u001b[1;33m\u001b[0m\u001b[0m\n\u001b[1;32m--> 242\u001b[1;33m         \u001b[0mfunc\u001b[0m \u001b[1;33m=\u001b[0m \u001b[1;32mlambda\u001b[0m \u001b[0mQ\u001b[0m\u001b[1;33m:\u001b[0m\u001b[1;33m(\u001b[0m\u001b[0mself\u001b[0m\u001b[1;33m.\u001b[0m\u001b[0mcalcUA\u001b[0m\u001b[1;33m(\u001b[0m\u001b[0mQ\u001b[0m\u001b[1;33m)\u001b[0m\u001b[1;33m-\u001b[0m\u001b[0mUA\u001b[0m\u001b[1;33m)\u001b[0m\u001b[1;33m**\u001b[0m\u001b[1;36m2\u001b[0m\u001b[1;33m\u001b[0m\u001b[0m\n\u001b[0m\u001b[0;32m    243\u001b[0m         constraints = [{\"type\":\"ineq\",\n",
      "\u001b[1;32m~\\Documents\\GitHub\\openACHP\\src\\HRHX_integral_model.py\u001b[0m in \u001b[0;36mcalcUA\u001b[1;34m(self, Q, eff)\u001b[0m\n\u001b[0;32m    235\u001b[0m             raise ValueError(\"Q given [{}] is higher than Q maximum [{}];\"\\\n\u001b[1;32m--> 236\u001b[1;33m             \" effectiveness [{}] > 1.\".format(Q,self.Qmax,epsilon))\n\u001b[0m\u001b[0;32m    237\u001b[0m         \u001b[1;32mif\u001b[0m \u001b[0meff\u001b[0m\u001b[1;33m:\u001b[0m\u001b[1;33m\u001b[0m\u001b[0m\n",
      "\u001b[1;31mValueError\u001b[0m: Q given [[ 207.97481375]] is higher than Q maximum [207.97481374133434]; effectiveness [[ 1.]] > 1.",
      "\nDuring handling of the above exception, another exception occurred:\n",
      "\u001b[1;31mValueError\u001b[0m                                Traceback (most recent call last)",
      "\u001b[1;32m<ipython-input-53-6f8785abde7a>\u001b[0m in \u001b[0;36m<module>\u001b[1;34m()\u001b[0m\n\u001b[0;32m      2\u001b[0m opt = scipy.optimize.minimize(P.objective, x, method=\"COBYLA\",\n\u001b[0;32m      3\u001b[0m                               \u001b[0mconstraints\u001b[0m\u001b[1;33m=\u001b[0m\u001b[0mP\u001b[0m\u001b[1;33m.\u001b[0m\u001b[0mconstraints\u001b[0m\u001b[1;33m,\u001b[0m \u001b[0mcallback\u001b[0m\u001b[1;33m=\u001b[0m\u001b[0mP\u001b[0m\u001b[1;33m.\u001b[0m\u001b[0mcallback\u001b[0m\u001b[1;33m,\u001b[0m\u001b[1;33m\u001b[0m\u001b[0m\n\u001b[1;32m----> 4\u001b[1;33m                               options={'disp':True,'maxiter':100,'rhobeg':0.1})\n\u001b[0m\u001b[0;32m      5\u001b[0m \u001b[0mopt\u001b[0m\u001b[1;33m\u001b[0m\u001b[0m\n",
      "\u001b[1;32m~\\Miniconda3\\envs\\openachp\\lib\\site-packages\\scipy\\optimize\\_minimize.py\u001b[0m in \u001b[0;36mminimize\u001b[1;34m(fun, x0, args, method, jac, hess, hessp, bounds, constraints, tol, callback, options)\u001b[0m\n\u001b[0;32m    453\u001b[0m                              **options)\n\u001b[0;32m    454\u001b[0m     \u001b[1;32melif\u001b[0m \u001b[0mmeth\u001b[0m \u001b[1;33m==\u001b[0m \u001b[1;34m'cobyla'\u001b[0m\u001b[1;33m:\u001b[0m\u001b[1;33m\u001b[0m\u001b[0m\n\u001b[1;32m--> 455\u001b[1;33m         \u001b[1;32mreturn\u001b[0m \u001b[0m_minimize_cobyla\u001b[0m\u001b[1;33m(\u001b[0m\u001b[0mfun\u001b[0m\u001b[1;33m,\u001b[0m \u001b[0mx0\u001b[0m\u001b[1;33m,\u001b[0m \u001b[0margs\u001b[0m\u001b[1;33m,\u001b[0m \u001b[0mconstraints\u001b[0m\u001b[1;33m,\u001b[0m \u001b[1;33m**\u001b[0m\u001b[0moptions\u001b[0m\u001b[1;33m)\u001b[0m\u001b[1;33m\u001b[0m\u001b[0m\n\u001b[0m\u001b[0;32m    456\u001b[0m     \u001b[1;32melif\u001b[0m \u001b[0mmeth\u001b[0m \u001b[1;33m==\u001b[0m \u001b[1;34m'slsqp'\u001b[0m\u001b[1;33m:\u001b[0m\u001b[1;33m\u001b[0m\u001b[0m\n\u001b[0;32m    457\u001b[0m         return _minimize_slsqp(fun, x0, args, jac, bounds,\n",
      "\u001b[1;32m~\\Miniconda3\\envs\\openachp\\lib\\site-packages\\scipy\\optimize\\cobyla.py\u001b[0m in \u001b[0;36m_minimize_cobyla\u001b[1;34m(fun, x0, args, constraints, rhobeg, tol, iprint, maxiter, disp, catol, **unknown_options)\u001b[0m\n\u001b[0;32m    256\u001b[0m     xopt, info = _cobyla.minimize(calcfc, m=m, x=np.copy(x0), rhobeg=rhobeg,\n\u001b[0;32m    257\u001b[0m                                   \u001b[0mrhoend\u001b[0m\u001b[1;33m=\u001b[0m\u001b[0mrhoend\u001b[0m\u001b[1;33m,\u001b[0m \u001b[0miprint\u001b[0m\u001b[1;33m=\u001b[0m\u001b[0miprint\u001b[0m\u001b[1;33m,\u001b[0m \u001b[0mmaxfun\u001b[0m\u001b[1;33m=\u001b[0m\u001b[0mmaxfun\u001b[0m\u001b[1;33m,\u001b[0m\u001b[1;33m\u001b[0m\u001b[0m\n\u001b[1;32m--> 258\u001b[1;33m                                   dinfo=info)\n\u001b[0m\u001b[0;32m    259\u001b[0m \u001b[1;33m\u001b[0m\u001b[0m\n\u001b[0;32m    260\u001b[0m     \u001b[1;32mif\u001b[0m \u001b[0minfo\u001b[0m\u001b[1;33m[\u001b[0m\u001b[1;36m3\u001b[0m\u001b[1;33m]\u001b[0m \u001b[1;33m>\u001b[0m \u001b[0mcatol\u001b[0m\u001b[1;33m:\u001b[0m\u001b[1;33m\u001b[0m\u001b[0m\n",
      "\u001b[1;32m~\\Miniconda3\\envs\\openachp\\lib\\site-packages\\scipy\\optimize\\cobyla.py\u001b[0m in \u001b[0;36mcalcfc\u001b[1;34m(x, con)\u001b[0m\n\u001b[0;32m    246\u001b[0m \u001b[1;33m\u001b[0m\u001b[0m\n\u001b[0;32m    247\u001b[0m     \u001b[1;32mdef\u001b[0m \u001b[0mcalcfc\u001b[0m\u001b[1;33m(\u001b[0m\u001b[0mx\u001b[0m\u001b[1;33m,\u001b[0m \u001b[0mcon\u001b[0m\u001b[1;33m)\u001b[0m\u001b[1;33m:\u001b[0m\u001b[1;33m\u001b[0m\u001b[0m\n\u001b[1;32m--> 248\u001b[1;33m         \u001b[0mf\u001b[0m \u001b[1;33m=\u001b[0m \u001b[0mfun\u001b[0m\u001b[1;33m(\u001b[0m\u001b[0mx\u001b[0m\u001b[1;33m,\u001b[0m \u001b[1;33m*\u001b[0m\u001b[0margs\u001b[0m\u001b[1;33m)\u001b[0m\u001b[1;33m\u001b[0m\u001b[0m\n\u001b[0m\u001b[0;32m    249\u001b[0m         \u001b[0mi\u001b[0m \u001b[1;33m=\u001b[0m \u001b[1;36m0\u001b[0m\u001b[1;33m\u001b[0m\u001b[0m\n\u001b[0;32m    250\u001b[0m         \u001b[1;32mfor\u001b[0m \u001b[0msize\u001b[0m\u001b[1;33m,\u001b[0m \u001b[0mc\u001b[0m \u001b[1;32min\u001b[0m \u001b[0mizip\u001b[0m\u001b[1;33m(\u001b[0m\u001b[0mcons_lengths\u001b[0m\u001b[1;33m,\u001b[0m \u001b[0mconstraints\u001b[0m\u001b[1;33m)\u001b[0m\u001b[1;33m:\u001b[0m\u001b[1;33m\u001b[0m\u001b[0m\n",
      "\u001b[1;32m<ipython-input-50-535d6cde612e>\u001b[0m in \u001b[0;36mobjective\u001b[1;34m(self, xC)\u001b[0m\n\u001b[0;32m     43\u001b[0m         \u001b[0mQ_excess\u001b[0m \u001b[1;33m=\u001b[0m \u001b[0mnumpy\u001b[0m\u001b[1;33m.\u001b[0m\u001b[0mzeros_like\u001b[0m\u001b[1;33m(\u001b[0m\u001b[0msys\u001b[0m\u001b[1;33m.\u001b[0m\u001b[0mQ\u001b[0m\u001b[1;33m)\u001b[0m\u001b[1;33m\u001b[0m\u001b[0m\n\u001b[0;32m     44\u001b[0m         \u001b[1;32mfor\u001b[0m \u001b[0mi\u001b[0m\u001b[1;33m,\u001b[0m \u001b[1;33m(\u001b[0m\u001b[0mname\u001b[0m\u001b[1;33m,\u001b[0m \u001b[0mhx\u001b[0m\u001b[1;33m)\u001b[0m \u001b[1;32min\u001b[0m \u001b[0menumerate\u001b[0m\u001b[1;33m(\u001b[0m\u001b[0msys\u001b[0m\u001b[1;33m.\u001b[0m\u001b[0mhxs\u001b[0m\u001b[1;33m.\u001b[0m\u001b[0mitems\u001b[0m\u001b[1;33m(\u001b[0m\u001b[1;33m)\u001b[0m\u001b[1;33m)\u001b[0m\u001b[1;33m:\u001b[0m\u001b[1;33m\u001b[0m\u001b[0m\n\u001b[1;32m---> 45\u001b[1;33m             \u001b[0mQ\u001b[0m\u001b[1;33m[\u001b[0m\u001b[0mi\u001b[0m\u001b[1;33m]\u001b[0m \u001b[1;33m=\u001b[0m \u001b[0mhx\u001b[0m\u001b[1;33m.\u001b[0m\u001b[0mcalcQ\u001b[0m\u001b[1;33m(\u001b[0m\u001b[0mself\u001b[0m\u001b[1;33m.\u001b[0m\u001b[0mUAs\u001b[0m\u001b[1;33m[\u001b[0m\u001b[0mi\u001b[0m\u001b[1;33m]\u001b[0m\u001b[1;33m)\u001b[0m\u001b[1;33m\u001b[0m\u001b[0m\n\u001b[0m\u001b[0;32m     46\u001b[0m             \u001b[0mQ_excess\u001b[0m\u001b[1;33m[\u001b[0m\u001b[0mi\u001b[0m\u001b[1;33m]\u001b[0m \u001b[1;33m=\u001b[0m \u001b[0mQ\u001b[0m \u001b[1;33m-\u001b[0m \u001b[0msys\u001b[0m\u001b[1;33m.\u001b[0m\u001b[0mQ\u001b[0m\u001b[1;33m[\u001b[0m\u001b[0mname\u001b[0m\u001b[1;33m]\u001b[0m\u001b[1;33m\u001b[0m\u001b[0m\n\u001b[0;32m     47\u001b[0m         \u001b[0mprint\u001b[0m\u001b[1;33m(\u001b[0m\u001b[0mQ\u001b[0m\u001b[1;33m)\u001b[0m\u001b[1;33m\u001b[0m\u001b[0m\n",
      "\u001b[1;32m~\\Documents\\GitHub\\openACHP\\src\\HRHX_integral_model.py\u001b[0m in \u001b[0;36mcalcQ\u001b[1;34m(self, UA)\u001b[0m\n\u001b[0;32m    245\u001b[0m                         {\"type\":\"ineq\",\n\u001b[0;32m    246\u001b[0m                        \"fun\":lambda Q: self.Qmax-Q}]\n\u001b[1;32m--> 247\u001b[1;33m         \u001b[1;32mreturn\u001b[0m \u001b[0mscipy\u001b[0m\u001b[1;33m.\u001b[0m\u001b[0moptimize\u001b[0m\u001b[1;33m.\u001b[0m\u001b[0mminimize\u001b[0m\u001b[1;33m(\u001b[0m\u001b[0mfunc\u001b[0m\u001b[1;33m,\u001b[0m\u001b[1;36m0\u001b[0m\u001b[1;33m,\u001b[0m\u001b[0mconstraints\u001b[0m\u001b[1;33m=\u001b[0m\u001b[0mconstraints\u001b[0m\u001b[1;33m)\u001b[0m\u001b[1;33m.\u001b[0m\u001b[0mx\u001b[0m\u001b[1;33m[\u001b[0m\u001b[1;36m0\u001b[0m\u001b[1;33m]\u001b[0m\u001b[1;33m\u001b[0m\u001b[0m\n\u001b[0m\u001b[0;32m    248\u001b[0m     \u001b[1;32mdef\u001b[0m \u001b[0mcalcQmax\u001b[0m\u001b[1;33m(\u001b[0m\u001b[0mself\u001b[0m\u001b[1;33m,\u001b[0m\u001b[0mextra\u001b[0m\u001b[1;33m=\u001b[0m\u001b[1;32mFalse\u001b[0m\u001b[1;33m,\u001b[0m\u001b[0mbrute\u001b[0m\u001b[1;33m=\u001b[0m\u001b[1;32mFalse\u001b[0m\u001b[1;33m)\u001b[0m\u001b[1;33m:\u001b[0m\u001b[1;33m\u001b[0m\u001b[0m\n\u001b[0;32m    249\u001b[0m         \u001b[1;31m# Preliminary Max Q based on inlet temperatures only\u001b[0m\u001b[1;33m\u001b[0m\u001b[1;33m\u001b[0m\u001b[0m\n",
      "\u001b[1;32m~\\Miniconda3\\envs\\openachp\\lib\\site-packages\\scipy\\optimize\\_minimize.py\u001b[0m in \u001b[0;36mminimize\u001b[1;34m(fun, x0, args, method, jac, hess, hessp, bounds, constraints, tol, callback, options)\u001b[0m\n\u001b[0;32m    456\u001b[0m     \u001b[1;32melif\u001b[0m \u001b[0mmeth\u001b[0m \u001b[1;33m==\u001b[0m \u001b[1;34m'slsqp'\u001b[0m\u001b[1;33m:\u001b[0m\u001b[1;33m\u001b[0m\u001b[0m\n\u001b[0;32m    457\u001b[0m         return _minimize_slsqp(fun, x0, args, jac, bounds,\n\u001b[1;32m--> 458\u001b[1;33m                                constraints, callback=callback, **options)\n\u001b[0m\u001b[0;32m    459\u001b[0m     \u001b[1;32melif\u001b[0m \u001b[0mmeth\u001b[0m \u001b[1;33m==\u001b[0m \u001b[1;34m'dogleg'\u001b[0m\u001b[1;33m:\u001b[0m\u001b[1;33m\u001b[0m\u001b[0m\n\u001b[0;32m    460\u001b[0m         return _minimize_dogleg(fun, x0, args, jac, hess,\n",
      "\u001b[1;32m~\\Miniconda3\\envs\\openachp\\lib\\site-packages\\scipy\\optimize\\slsqp.py\u001b[0m in \u001b[0;36m_minimize_slsqp\u001b[1;34m(func, x0, args, jac, bounds, constraints, maxiter, ftol, iprint, disp, eps, callback, **unknown_options)\u001b[0m\n\u001b[0;32m    368\u001b[0m                 \u001b[0mfx\u001b[0m \u001b[1;33m=\u001b[0m \u001b[0mfloat\u001b[0m\u001b[1;33m(\u001b[0m\u001b[0mnp\u001b[0m\u001b[1;33m.\u001b[0m\u001b[0masarray\u001b[0m\u001b[1;33m(\u001b[0m\u001b[0mfunc\u001b[0m\u001b[1;33m(\u001b[0m\u001b[0mx\u001b[0m\u001b[1;33m)\u001b[0m\u001b[1;33m)\u001b[0m\u001b[1;33m)\u001b[0m\u001b[1;33m\u001b[0m\u001b[0m\n\u001b[0;32m    369\u001b[0m             \u001b[1;32mexcept\u001b[0m\u001b[1;33m:\u001b[0m\u001b[1;33m\u001b[0m\u001b[0m\n\u001b[1;32m--> 370\u001b[1;33m                 \u001b[1;32mraise\u001b[0m \u001b[0mValueError\u001b[0m\u001b[1;33m(\u001b[0m\u001b[1;34m\"Objective function must return a scalar\"\u001b[0m\u001b[1;33m)\u001b[0m\u001b[1;33m\u001b[0m\u001b[0m\n\u001b[0m\u001b[0;32m    371\u001b[0m             \u001b[1;31m# Compute the constraints\u001b[0m\u001b[1;33m\u001b[0m\u001b[1;33m\u001b[0m\u001b[0m\n\u001b[0;32m    372\u001b[0m             \u001b[1;32mif\u001b[0m \u001b[0mcons\u001b[0m\u001b[1;33m[\u001b[0m\u001b[1;34m'eq'\u001b[0m\u001b[1;33m]\u001b[0m\u001b[1;33m:\u001b[0m\u001b[1;33m\u001b[0m\u001b[0m\n",
      "\u001b[1;31mValueError\u001b[0m: Objective function must return a scalar"
     ]
    }
   ],
   "source": [
    "P.n_calls = 7 * numpy.floor(P.n_calls / 7)\n",
    "opt = scipy.optimize.minimize(P.objective, x, method=\"COBYLA\",\n",
    "                              constraints=P.constraints, callback=P.callback,\n",
    "                              options={'disp':True,'maxiter':100,'rhobeg':0.1})\n",
    "opt"
   ]
  },
  {
   "cell_type": "code",
   "execution_count": 33,
   "metadata": {},
   "outputs": [
    {
     "data": {
      "text/plain": [
       "array([   0.5 ,  278.45,  312.  ,  313.  ,  310.  ,  395.15])"
      ]
     },
     "execution_count": 33,
     "metadata": {},
     "output_type": "execute_result"
    }
   ],
   "source": [
    "x = opt.x\n",
    "x"
   ]
  },
  {
   "cell_type": "code",
   "execution_count": 34,
   "metadata": {},
   "outputs": [
    {
     "data": {
      "text/html": [
       "<h3>State points</h3>\n",
       "        <table>\n",
       "<thead>\n",
       "<tr><th>                         </th><th style=\"text-align: right;\">      T</th><th style=\"text-align: right;\">       P</th><th style=\"text-align: right;\">       x</th><th style=\"text-align: right;\">        h</th><th style=\"text-align: right;\">       s</th><th style=\"text-align: right;\">        u</th><th style=\"text-align: right;\">         v</th><th style=\"text-align: right;\">        Qu</th></tr>\n",
       "</thead>\n",
       "<tbody>\n",
       "<tr><td>rich_abs_outlet          </td><td style=\"text-align: right;\">310    </td><td style=\"text-align: right;\"> 4.95842</td><td style=\"text-align: right;\">0.517331</td><td style=\"text-align: right;\"> -74.0079</td><td style=\"text-align: right;\">0.391488</td><td style=\"text-align: right;\"> -74.6194</td><td style=\"text-align: right;\">0.00123323</td><td style=\"text-align: right;\"> 0        </td></tr>\n",
       "<tr><td>rich_pump_outlet         </td><td style=\"text-align: right;\">310.163</td><td style=\"text-align: right;\">15.0702 </td><td style=\"text-align: right;\">0.517331</td><td style=\"text-align: right;\"> -72.4494</td><td style=\"text-align: right;\">0.392494</td><td style=\"text-align: right;\"> -74.3072</td><td style=\"text-align: right;\">0.00123277</td><td style=\"text-align: right;\">-0.001    </td></tr>\n",
       "<tr><td>rich_shx_outlet          </td><td style=\"text-align: right;\">349.791</td><td style=\"text-align: right;\">15.0702 </td><td style=\"text-align: right;\">0.517331</td><td style=\"text-align: right;\"> 108.915 </td><td style=\"text-align: right;\">0.942551</td><td style=\"text-align: right;\"> 106.95  </td><td style=\"text-align: right;\">0.001304  </td><td style=\"text-align: right;\">-0.001    </td></tr>\n",
       "<tr><td>rich_gen_sat_liquid      </td><td style=\"text-align: right;\">350.848</td><td style=\"text-align: right;\">15.0702 </td><td style=\"text-align: right;\">0.517331</td><td style=\"text-align: right;\"> 114.24  </td><td style=\"text-align: right;\">0.957881</td><td style=\"text-align: right;\"> 112.272 </td><td style=\"text-align: right;\">0.00130605</td><td style=\"text-align: right;\"> 0        </td></tr>\n",
       "<tr><td>weak_gen_outlet          </td><td style=\"text-align: right;\">395.15 </td><td style=\"text-align: right;\">15.0702 </td><td style=\"text-align: right;\">0.299303</td><td style=\"text-align: right;\"> 347.389 </td><td style=\"text-align: right;\">1.53679 </td><td style=\"text-align: right;\"> 345.505 </td><td style=\"text-align: right;\">0.00125006</td><td style=\"text-align: right;\"> 0        </td></tr>\n",
       "<tr><td>weak_shx_outlet          </td><td style=\"text-align: right;\">336.341</td><td style=\"text-align: right;\">15.0702 </td><td style=\"text-align: right;\">0.299303</td><td style=\"text-align: right;\">  84.0774</td><td style=\"text-align: right;\">0.816023</td><td style=\"text-align: right;\">  82.3415</td><td style=\"text-align: right;\">0.00115187</td><td style=\"text-align: right;\">-0.001    </td></tr>\n",
       "<tr><td>weak_exp_outlet          </td><td style=\"text-align: right;\">336.516</td><td style=\"text-align: right;\"> 4.95842</td><td style=\"text-align: right;\">0.299303</td><td style=\"text-align: right;\">  84.0773</td><td style=\"text-align: right;\">0.819486</td><td style=\"text-align: right;\">  83.5058</td><td style=\"text-align: right;\">0.00115267</td><td style=\"text-align: right;\">-0.001    </td></tr>\n",
       "<tr><td>gen_vapor_outlet         </td><td style=\"text-align: right;\">350.848</td><td style=\"text-align: right;\">15.0702 </td><td style=\"text-align: right;\">0.988856</td><td style=\"text-align: right;\">1421.16  </td><td style=\"text-align: right;\">4.56687 </td><td style=\"text-align: right;\">1265.85  </td><td style=\"text-align: right;\">0.103057  </td><td style=\"text-align: right;\"> 1        </td></tr>\n",
       "<tr><td>gen_reflux_inlet         </td><td style=\"text-align: right;\">350.848</td><td style=\"text-align: right;\">15.0702 </td><td style=\"text-align: right;\">0.517197</td><td style=\"text-align: right;\"> 113.862 </td><td style=\"text-align: right;\">0.956699</td><td style=\"text-align: right;\"> 111.894 </td><td style=\"text-align: right;\">0.00130628</td><td style=\"text-align: right;\"> 0        </td></tr>\n",
       "<tr><td>refrig_rect_outlet       </td><td style=\"text-align: right;\">313    </td><td style=\"text-align: right;\">15.0702 </td><td style=\"text-align: right;\">0.999869</td><td style=\"text-align: right;\">1294.15  </td><td style=\"text-align: right;\">4.18526 </td><td style=\"text-align: right;\">1164.24  </td><td style=\"text-align: right;\">0.0861989 </td><td style=\"text-align: right;\"> 0.997922 </td></tr>\n",
       "<tr><td>refrig_cond_outlet       </td><td style=\"text-align: right;\">312    </td><td style=\"text-align: right;\">15.0702 </td><td style=\"text-align: right;\">0.999869</td><td style=\"text-align: right;\"> 185.219 </td><td style=\"text-align: right;\">0.639247</td><td style=\"text-align: right;\"> 182.616 </td><td style=\"text-align: right;\">0.00172716</td><td style=\"text-align: right;\"> 0        </td></tr>\n",
       "<tr><td>refrig_cehx_liquid_outlet</td><td style=\"text-align: right;\">295.141</td><td style=\"text-align: right;\">15.0702 </td><td style=\"text-align: right;\">0.999869</td><td style=\"text-align: right;\"> 103.248 </td><td style=\"text-align: right;\">0.369414</td><td style=\"text-align: right;\"> 100.766 </td><td style=\"text-align: right;\">0.00164732</td><td style=\"text-align: right;\">-0.001    </td></tr>\n",
       "<tr><td>refrig_exp_outlet        </td><td style=\"text-align: right;\">277.061</td><td style=\"text-align: right;\"> 4.95842</td><td style=\"text-align: right;\">0.999869</td><td style=\"text-align: right;\"> 103.248 </td><td style=\"text-align: right;\">0.383493</td><td style=\"text-align: right;\">  94.0139</td><td style=\"text-align: right;\">0.0186233 </td><td style=\"text-align: right;\"> 0.0679941</td></tr>\n",
       "<tr><td>refrig_evap_outlet       </td><td style=\"text-align: right;\">278.45 </td><td style=\"text-align: right;\"> 4.95842</td><td style=\"text-align: right;\">0.999869</td><td style=\"text-align: right;\">1273.57  </td><td style=\"text-align: right;\">4.5892  </td><td style=\"text-align: right;\">1147.85  </td><td style=\"text-align: right;\">0.25414   </td><td style=\"text-align: right;\"> 0.998    </td></tr>\n",
       "<tr><td>refrig_cehx_sat_vapor    </td><td style=\"text-align: right;\">283.822</td><td style=\"text-align: right;\"> 4.95842</td><td style=\"text-align: right;\">0.999869</td><td style=\"text-align: right;\">1276.98  </td><td style=\"text-align: right;\">4.6001  </td><td style=\"text-align: right;\">1150.82  </td><td style=\"text-align: right;\">0.254442  </td><td style=\"text-align: right;\"> 1        </td></tr>\n",
       "<tr><td>refrig_cehx_vapor_outlet </td><td style=\"text-align: right;\">310.213</td><td style=\"text-align: right;\"> 4.95842</td><td style=\"text-align: right;\">0.999869</td><td style=\"text-align: right;\">1355.55  </td><td style=\"text-align: right;\">4.86642 </td><td style=\"text-align: right;\">1211.21  </td><td style=\"text-align: right;\">0.291086  </td><td style=\"text-align: right;\"> 1.001    </td></tr>\n",
       "<tr><td>rectifier_liquid         </td><td style=\"text-align: right;\">313    </td><td style=\"text-align: right;\">15.0702 </td><td style=\"text-align: right;\">0.972851</td><td style=\"text-align: right;\"> 170.147 </td><td style=\"text-align: right;\">0.662002</td><td style=\"text-align: right;\"> 167.597 </td><td style=\"text-align: right;\">0.00169189</td><td style=\"text-align: right;\"> 0        </td></tr>\n",
       "<tr><td>gen_vapor_formation      </td><td style=\"text-align: right;\">395.15 </td><td style=\"text-align: right;\">15.0702 </td><td style=\"text-align: right;\">0.894504</td><td style=\"text-align: right;\">1638.85  </td><td style=\"text-align: right;\">5.11764 </td><td style=\"text-align: right;\">1460.43  </td><td style=\"text-align: right;\">0.118394  </td><td style=\"text-align: right;\"> 1        </td></tr>\n",
       "<tr><td>abs_vapor_final          </td><td style=\"text-align: right;\">336.516</td><td style=\"text-align: right;\"> 4.95842</td><td style=\"text-align: right;\">0.974216</td><td style=\"text-align: right;\">1446.6   </td><td style=\"text-align: right;\">5.14559 </td><td style=\"text-align: right;\">1288.5   </td><td style=\"text-align: right;\">0.318856  </td><td style=\"text-align: right;\"> 1        </td></tr>\n",
       "</tbody>\n",
       "</table>\n",
       "        <br/>\n",
       "        <h3>Performance variables</h3>\n",
       "        <table>\n",
       "<thead>\n",
       "<tr><th>name                   </th><th>unit  </th><th style=\"text-align: right;\">         value</th></tr>\n",
       "</thead>\n",
       "<tbody>\n",
       "<tr><td>Q_abs                  </td><td>kW    </td><td style=\"text-align: right;\">-276.894      </td></tr>\n",
       "<tr><td>Q_gen                  </td><td>kW    </td><td style=\"text-align: right;\"> 291.075      </td></tr>\n",
       "<tr><td>Q_cond                 </td><td>kW    </td><td style=\"text-align: right;\">-172.559      </td></tr>\n",
       "<tr><td>Q_evap                 </td><td>kW    </td><td style=\"text-align: right;\"> 182.113      </td></tr>\n",
       "<tr><td>Q_reflux               </td><td>kW    </td><td style=\"text-align: right;\"> -24.5144     </td></tr>\n",
       "<tr><td>Q_shx                  </td><td>kW    </td><td style=\"text-align: right;\">  90.6821     </td></tr>\n",
       "<tr><td>Q_cehx                 </td><td>kW    </td><td style=\"text-align: right;\">  12.7554     </td></tr>\n",
       "<tr><td>W_pump                 </td><td>kW    </td><td style=\"text-align: right;\">   0.779238   </td></tr>\n",
       "<tr><td>COP                    </td><td>kW/kW </td><td style=\"text-align: right;\">   0.625657   </td></tr>\n",
       "<tr><td>ZeroCheck              </td><td>kW    </td><td style=\"text-align: right;\">   3.99258e-05</td></tr>\n",
       "<tr><td>ZeroCheckSHX           </td><td>kW    </td><td style=\"text-align: right;\">   8.14384e-06</td></tr>\n",
       "<tr><td>ZeroCheckCEHX          </td><td>kW    </td><td style=\"text-align: right;\">  -2.72807e-05</td></tr>\n",
       "<tr><td>Q_gen_rect_combo       </td><td>kW    </td><td style=\"text-align: right;\"> 266.561      </td></tr>\n",
       "<tr><td>Q_refrig_side          </td><td>kW    </td><td style=\"text-align: right;\">  -9.55446    </td></tr>\n",
       "<tr><td>ZeroCheckRect          </td><td>kg/s  </td><td style=\"text-align: right;\">   0          </td></tr>\n",
       "<tr><td>m_rich                 </td><td>kg/s  </td><td style=\"text-align: right;\">   0.5        </td></tr>\n",
       "<tr><td>m_weak                 </td><td>kg/s  </td><td style=\"text-align: right;\">   0.344391   </td></tr>\n",
       "<tr><td>m_gen_vapor            </td><td>kg/s  </td><td style=\"text-align: right;\">   0.159242   </td></tr>\n",
       "<tr><td>m_gen_reflux           </td><td>kg/s  </td><td style=\"text-align: right;\">   0.00363327 </td></tr>\n",
       "<tr><td>m_refrig               </td><td>kg/s  </td><td style=\"text-align: right;\">   0.155609   </td></tr>\n",
       "<tr><td>check_rectifier_delta_T</td><td>K     </td><td style=\"text-align: right;\">  37.8481     </td></tr>\n",
       "<tr><td>is_degenerate          </td><td>bool  </td><td style=\"text-align: right;\">   0          </td></tr>\n",
       "</tbody>\n",
       "</table>\n",
       "        "
      ],
      "text/plain": [
       "                                 T         P         x          h         s          u           v          Qu\n",
       "-------------------------  -------  --------  --------  ---------  --------  ---------  ----------  ----------\n",
       "rich_abs_outlet            310       4.95842  0.517331   -74.0079  0.391488   -74.6194  0.00123323   0\n",
       "rich_pump_outlet           310.163  15.0702   0.517331   -72.4494  0.392494   -74.3072  0.00123277  -0.001\n",
       "rich_shx_outlet            349.791  15.0702   0.517331   108.915   0.942551   106.95    0.001304    -0.001\n",
       "rich_gen_sat_liquid        350.848  15.0702   0.517331   114.24    0.957881   112.272   0.00130605   0\n",
       "weak_gen_outlet            395.15   15.0702   0.299303   347.389   1.53679    345.505   0.00125006   0\n",
       "weak_shx_outlet            336.341  15.0702   0.299303    84.0774  0.816023    82.3415  0.00115187  -0.001\n",
       "weak_exp_outlet            336.516   4.95842  0.299303    84.0773  0.819486    83.5058  0.00115267  -0.001\n",
       "gen_vapor_outlet           350.848  15.0702   0.988856  1421.16    4.56687   1265.85    0.103057     1\n",
       "gen_reflux_inlet           350.848  15.0702   0.517197   113.862   0.956699   111.894   0.00130628   0\n",
       "refrig_rect_outlet         313      15.0702   0.999869  1294.15    4.18526   1164.24    0.0861989    0.997922\n",
       "refrig_cond_outlet         312      15.0702   0.999869   185.219   0.639247   182.616   0.00172716   0\n",
       "refrig_cehx_liquid_outlet  295.141  15.0702   0.999869   103.248   0.369414   100.766   0.00164732  -0.001\n",
       "refrig_exp_outlet          277.061   4.95842  0.999869   103.248   0.383493    94.0139  0.0186233    0.0679941\n",
       "refrig_evap_outlet         278.45    4.95842  0.999869  1273.57    4.5892    1147.85    0.25414      0.998\n",
       "refrig_cehx_sat_vapor      283.822   4.95842  0.999869  1276.98    4.6001    1150.82    0.254442     1\n",
       "refrig_cehx_vapor_outlet   310.213   4.95842  0.999869  1355.55    4.86642   1211.21    0.291086     1.001\n",
       "rectifier_liquid           313      15.0702   0.972851   170.147   0.662002   167.597   0.00169189   0\n",
       "gen_vapor_formation        395.15   15.0702   0.894504  1638.85    5.11764   1460.43    0.118394     1\n",
       "abs_vapor_final            336.516   4.95842  0.974216  1446.6     5.14559   1288.5     0.318856     1\n",
       "name                     unit             value\n",
       "-----------------------  ------  --------------\n",
       "Q_abs                    kW      -276.894\n",
       "Q_gen                    kW       291.075\n",
       "Q_cond                   kW      -172.559\n",
       "Q_evap                   kW       182.113\n",
       "Q_reflux                 kW       -24.5144\n",
       "Q_shx                    kW        90.6821\n",
       "Q_cehx                   kW        12.7554\n",
       "W_pump                   kW         0.779238\n",
       "COP                      kW/kW      0.625657\n",
       "ZeroCheck                kW         3.99258e-05\n",
       "ZeroCheckSHX             kW         8.14384e-06\n",
       "ZeroCheckCEHX            kW        -2.72807e-05\n",
       "Q_gen_rect_combo         kW       266.561\n",
       "Q_refrig_side            kW        -9.55446\n",
       "ZeroCheckRect            kg/s       0\n",
       "m_rich                   kg/s       0.5\n",
       "m_weak                   kg/s       0.344391\n",
       "m_gen_vapor              kg/s       0.159242\n",
       "m_gen_reflux             kg/s       0.00363327\n",
       "m_refrig                 kg/s       0.155609\n",
       "check_rectifier_delta_T  K         37.8481\n",
       "is_degenerate            bool       0"
      ]
     },
     "metadata": {},
     "output_type": "display_data"
    },
    {
     "data": {
      "text/plain": [
       "[0.40000000000000002,\n",
       " 0.5,\n",
       " 32.550000000000011,\n",
       " 0.90000000000000002,\n",
       " 21.550000000000011,\n",
       " 81.149999999999977,\n",
       " 84.149999999999977]"
      ]
     },
     "execution_count": 34,
     "metadata": {},
     "output_type": "execute_result"
    }
   ],
   "source": [
    "ch = system_aqua1.makeChiller(x)\n",
    "display(ch)\n",
    "P.constraint(x)"
   ]
  },
  {
   "cell_type": "code",
   "execution_count": 35,
   "metadata": {},
   "outputs": [
    {
     "name": "stdout",
     "output_type": "stream",
     "text": [
      "Note: Absorber inlet is subcooled\n"
     ]
    },
    {
     "name": "stderr",
     "output_type": "stream",
     "text": [
      "C:\\Users\\user1\\Miniconda3\\envs\\openachp\\lib\\site-packages\\scipy\\interpolate\\_cubic.py:147: RuntimeWarning: divide by zero encountered in true_divide\n",
      "  mk = (y[1:] - y[:-1]) / hk\n",
      "C:\\Users\\user1\\Miniconda3\\envs\\openachp\\lib\\site-packages\\scipy\\interpolate\\_cubic.py:165: RuntimeWarning: invalid value encountered in true_divide\n",
      "  whmean = (w1/mk[:-1] + w2/mk[1:]) / (w1 + w2)\n"
     ]
    },
    {
     "data": {
      "text/html": [
       "<table>\n",
       "<thead>\n",
       "<tr><th>name  </th><th style=\"text-align: right;\">    deltaT</th><th style=\"text-align: right;\">  epsilon</th><th style=\"text-align: right;\">       UA</th><th style=\"text-align: right;\">       Q</th></tr>\n",
       "</thead>\n",
       "<tbody>\n",
       "<tr><td>gen   </td><td style=\"text-align: right;\">-19.885   </td><td style=\"text-align: right;\"> 1.39957 </td><td style=\"text-align: right;\">inf      </td><td style=\"text-align: right;\">291.075 </td></tr>\n",
       "<tr><td>rect  </td><td style=\"text-align: right;\">  7.43783 </td><td style=\"text-align: right;\"> 0.852975</td><td style=\"text-align: right;\">  3.02295</td><td style=\"text-align: right;\"> 24.5144</td></tr>\n",
       "<tr><td>abs   </td><td style=\"text-align: right;\">  0.717942</td><td style=\"text-align: right;\"> 0.968517</td><td style=\"text-align: right;\">180.552  </td><td style=\"text-align: right;\">276.894 </td></tr>\n",
       "<tr><td>cond  </td><td style=\"text-align: right;\"> -0.871111</td><td style=\"text-align: right;\"> 1.11792 </td><td style=\"text-align: right;\">inf      </td><td style=\"text-align: right;\">172.559 </td></tr>\n",
       "<tr><td>evap  </td><td style=\"text-align: right;\"> -2.95602 </td><td style=\"text-align: right;\"> 1.37236 </td><td style=\"text-align: right;\">inf      </td><td style=\"text-align: right;\">182.113 </td></tr>\n",
       "<tr><td>total </td><td style=\"text-align: right;\">  0       </td><td style=\"text-align: right;\"> 0       </td><td style=\"text-align: right;\">inf      </td><td style=\"text-align: right;\">  0     </td></tr>\n",
       "</tbody>\n",
       "</table>"
      ],
      "text/plain": [
       "name        deltaT    epsilon         UA         Q\n",
       "------  ----------  ---------  ---------  --------\n",
       "gen     -19.885      1.39957   inf        291.075\n",
       "rect      7.43783    0.852975    3.02295   24.5144\n",
       "abs       0.717942   0.968517  180.552    276.894\n",
       "cond     -0.871111   1.11792   inf        172.559\n",
       "evap     -2.95602    1.37236   inf        182.113\n",
       "totalUA = inf"
      ]
     },
     "execution_count": 35,
     "metadata": {},
     "output_type": "execute_result"
    }
   ],
   "source": [
    "sys = system_aqua1.System(bdry, ch)\n",
    "sys"
   ]
  },
  {
   "cell_type": "markdown",
   "metadata": {},
   "source": [
    "### Trial 2.4\n",
    "New idea: use machine learning to build constraint functions, as follows. Let the optimization routine run. For each input evaluated, classify its feasibility (bonus: add dimensions for root cause of failure). Gather the data for classified points and generate a classification function through regression, etc. Restart the optimizer with this function"
   ]
  },
  {
   "cell_type": "markdown",
   "metadata": {},
   "source": [
    "### Trial 2.5\n",
    "An extension of a previous idea, kind of the dual problem -- Perform optimization in two steps: first with no constraint on UA (cost) to determine maximum Q (output). Then for each Q in a set of lesser values, optimize with respect to cost. This will deliver an optimal cost vs output curve.\n",
    "\n",
    "For the first step, since we are not interested in UA, we can be less strict with the constraints on heat exchange feasibility. Specifically, we can impose them via penalty constraints instead of barrier constraints."
   ]
  },
  {
   "cell_type": "code",
   "execution_count": 92,
   "metadata": {
    "collapsed": true
   },
   "outputs": [],
   "source": [
    "class Problem_2_5_A:\n",
    "    def __init__(self, bdry, UAgoal, mu=0.1):\n",
    "        self.bdry = bdry\n",
    "        self.UAgoal = UAgoal\n",
    "        self.mu = mu\n",
    "        self.Ncons = 7\n",
    "        self.n_calls = 0\n",
    "        # Soft constraints mode: this is sent to minimizer\n",
    "        self.constraints = [{'type': 'ineq',\n",
    "                             'fun': self.constraint,\n",
    "                             'args': (i,)\n",
    "                            } for i in range(self.Ncons)]\n",
    "            \n",
    "    def objective(self, xC):\n",
    "        step_number = numpy.floor(self.n_calls / 7)\n",
    "        self.n_calls += 1\n",
    "        print(xC,flush=True)\n",
    "        Q,B,P = 0.,0.,0.\n",
    "        try:\n",
    "            ch = system_aqua1.makeChiller(xC)\n",
    "            sys = system_aqua1.System(self.bdry, ch)\n",
    "            \n",
    "            # Barriers\n",
    "            # Magnitude tends to zero, slowly\n",
    "            mu_B = 1000. * numpy.exp(-0.1 * step_number)\n",
    "            length_scale_b = 1\n",
    "            # Or ... magnitude fixed, but shape changes\n",
    "            mu_B = 1000\n",
    "            length_scale_b = 1 * numpy.exp(-0.1 * step_number)\n",
    "            \n",
    "            # These are zero at the boundary ...\n",
    "            barriers = [ch.check_rectifier_delta_T]                        \n",
    "            B = mu_B * barrier1(barriers,length_scale_b)\n",
    "            \n",
    "            # Penalties\n",
    "            # Magnitude tends to infinite\n",
    "            mu_P = 1 * numpy.exp(0.3 * step_number)\n",
    "            penalties = [deltaT - 0.01\n",
    "                         for name, deltaT, epsilon, UA, Qhx in sys.data]\n",
    "            P = mu_P * penalty1(penalties,1)\n",
    "            \n",
    "            Q = sys.chiller.Q_evap\n",
    "        except:\n",
    "            Q = numpy.inf\n",
    "        \n",
    "        print(self.n_calls, step_number, Q, B, P, \"\\n\", flush=True)\n",
    "        return -Q + B + P\n",
    "    \n",
    "    def constraint(self, x, *args):\n",
    "        cons = [x[0] - 0.1,\n",
    "                1. - x[0],\n",
    "                x[2] - x[1] - 1.0,\n",
    "                x[3] - x[2] - 0.1,\n",
    "                x[4] - x[1] - 10.0,\n",
    "                x[5] - x[3] - 1.0,\n",
    "                x[5] - x[4] - 1.0]\n",
    "        if len(args) > 0:\n",
    "            i, = args\n",
    "            return cons[i]\n",
    "        else:\n",
    "            return cons\n",
    "\n",
    "    def callback(self, x):\n",
    "        print(\"Did an iteration at \", x)"
   ]
  },
  {
   "cell_type": "code",
   "execution_count": 93,
   "metadata": {
    "collapsed": true
   },
   "outputs": [],
   "source": [
    "P = Problem_2_5_A(bdry, UAgoal)\n",
    "rT = T_heat_reject\n",
    "x = numpy.array([0.05, 278.45, rT+7, rT+8, rT+5, 395.15])"
   ]
  },
  {
   "cell_type": "code",
   "execution_count": 119,
   "metadata": {},
   "outputs": [
    {
     "name": "stdout",
     "output_type": "stream",
     "text": [
      "[  3.54011747e-01   2.78602326e+02   3.11987016e+02   3.13008619e+02\n",
      "   3.09938338e+02   3.95252752e+02]\n"
     ]
    },
    {
     "name": "stderr",
     "output_type": "stream",
     "text": [
      "C:\\Users\\nfette\\Miniconda3\\envs\\openACHP\\lib\\site-packages\\scipy\\optimize\\_minimize.py:403: RuntimeWarning: Method COBYLA does not support callback.\n",
      "  warn('Method %s does not support callback.' % method, RuntimeWarning)\n"
     ]
    },
    {
     "name": "stdout",
     "output_type": "stream",
     "text": [
      "Note: Absorber inlet is subcooled\n"
     ]
    },
    {
     "name": "stderr",
     "output_type": "stream",
     "text": [
      "C:\\Users\\nfette\\Miniconda3\\envs\\openACHP\\lib\\site-packages\\scipy\\interpolate\\_cubic.py:147: RuntimeWarning: divide by zero encountered in true_divide\n",
      "  mk = (y[1:] - y[:-1]) / hk\n",
      "C:\\Users\\nfette\\Miniconda3\\envs\\openACHP\\lib\\site-packages\\scipy\\interpolate\\_cubic.py:165: RuntimeWarning: invalid value encountered in true_divide\n",
      "  whmean = (w1/mk[:-1] + w2/mk[1:]) / (w1 + w2)\n"
     ]
    },
    {
     "name": "stdout",
     "output_type": "stream",
     "text": [
      "183.0 26.0 130.079516499 3.2465978731e-217 0.0576251119286 \n",
      "\n",
      "[  3.55011747e-01   2.78602326e+02   3.11987016e+02   3.13008619e+02\n",
      "   3.09938338e+02   3.95252752e+02]\n",
      "Note: Absorber inlet is subcooled\n",
      "184.0 26.0 130.446960567 3.2465978731e-217 1.75826559506 \n",
      "\n",
      "[  3.54011747e-01   2.78603326e+02   3.11987016e+02   3.13008619e+02\n",
      "   3.09938338e+02   3.95252752e+02]\n",
      "Note: Absorber inlet is subcooled\n",
      "185.0 26.0 130.08398977 3.30312287019e-217 0.0914806458042 \n",
      "\n",
      "[  3.54011747e-01   2.78602326e+02   3.11988016e+02   3.13008619e+02\n",
      "   3.09938338e+02   3.95252752e+02]\n",
      "Note: Absorber inlet is subcooled\n",
      "186.0 26.0 130.076923393 3.19477325953e-217 0.0540044838839 \n",
      "\n",
      "[  3.54011747e-01   2.78602326e+02   3.11988016e+02   3.13009619e+02\n",
      "   3.09938338e+02   3.95252752e+02]\n",
      "Note: Absorber inlet is subcooled\n",
      "187.0 26.0 130.076923393 3.23807771555e-217 0.0540044838839 \n",
      "\n",
      "[  3.54011747e-01   2.78602326e+02   3.11988016e+02   3.13008619e+02\n",
      "   3.09939338e+02   3.95252752e+02]\n",
      "Note: Absorber inlet is subcooled\n",
      "188.0 26.0 130.072917502 3.14686552989e-217 0.0486421447564 \n",
      "\n",
      "[  3.54011747e-01   2.78602326e+02   3.11988016e+02   3.13008619e+02\n",
      "   3.09939338e+02   3.95253752e+02]\n",
      "Note: Absorber inlet is subcooled\n",
      "189.0 26.0 130.074644751 3.14686552989e-217 0.0509198869268 \n",
      "\n",
      "[  3.53011991e-01   2.78602304e+02   3.11988017e+02   3.13008619e+02\n",
      "   3.09939339e+02   3.95252752e+02]\n",
      "Note: Absorber inlet is subcooled\n",
      "190.0 27.0 129.705476555 2.58489344581e-240 0.0 \n",
      "\n",
      "[  3.54509639e-01   2.78602281e+02   3.11988018e+02   3.13008619e+02\n",
      "   3.09939340e+02   3.95252752e+02]\n",
      "Note: Absorber inlet is subcooled\n",
      "191.0 27.0 130.255636333 2.5836371161e-240 0.776204087277 \n",
      "\n",
      "[  3.53988855e-01   2.78602078e+02   3.11988016e+02   3.13008619e+02\n",
      "   3.09939338e+02   3.95252752e+02]\n",
      "Note: Absorber inlet is subcooled\n",
      "192.0 27.0 130.063392746 2.57380739799e-240 0.0438110675076 \n",
      "\n",
      "[  3.53514711e-01   2.78602381e+02   3.11988016e+02   3.13008619e+02\n",
      "   3.09939339e+02   3.95252752e+02]\n",
      "Note: Absorber inlet is subcooled\n",
      "193.0 27.0 129.890532457 2.58869373871e-240 0.0 \n",
      "\n",
      "[  3.54010950e-01   2.78602327e+02   3.11988266e+02   3.13008619e+02\n",
      "   3.09939338e+02   3.95252752e+02]\n",
      "Note: Absorber inlet is subcooled\n",
      "194.0 27.0 130.071976637 2.5745910952e-240 0.0640169357483 \n",
      "\n",
      "[  3.53515697e-01   2.78602381e+02   3.11987984e+02   3.13008619e+02\n",
      "   3.09939339e+02   3.95252752e+02]\n",
      "Note: Absorber inlet is subcooled\n",
      "195.0 27.0 129.89097716 2.59016014394e-240 0.0 \n",
      "\n",
      "[  3.54011747e-01   2.78602326e+02   3.11988016e+02   3.13008869e+02\n",
      "   3.09939338e+02   3.95252752e+02]\n",
      "Note: Absorber inlet is subcooled\n",
      "196.0 27.0 130.072917502 2.59569739233e-240 0.0656600275189 \n",
      "\n",
      "[  3.53516659e-01   2.78602381e+02   3.11987985e+02   3.13008588e+02\n",
      "   3.09939339e+02   3.95252752e+02]\n",
      "Note: Absorber inlet is subcooled\n",
      "197.0 28.0 129.891329747 7.94401007607e-266 0.0 \n",
      "\n",
      "[  3.53764203e-01   2.78602354e+02   3.11988000e+02   3.13008603e+02\n",
      "   3.09939339e+02   3.95252752e+02]\n",
      "Note: Absorber inlet is subcooled\n",
      "198.0 28.0 129.982123737 7.93910215056e-266 0.0 \n",
      "\n",
      "[  3.54011902e-01   2.78602326e+02   3.11988016e+02   3.13008619e+02\n",
      "   3.09939463e+02   3.95252752e+02]\n",
      "Note: Absorber inlet is subcooled\n",
      "199.0 28.0 130.072473635 7.91591325332e-266 0.0875800003394 \n",
      "\n",
      "[  3.54130994e-01   2.78602328e+02   3.11987973e+02   3.13008573e+02\n",
      "   3.09939128e+02   3.95252752e+02]\n",
      "Note: Absorber inlet is subcooled\n",
      "200.0 28.0 130.117694437 7.96617291264e-266 0.227005309549 \n",
      "\n",
      "[  3.54011810e-01   2.78602326e+02   3.11988016e+02   3.13008619e+02\n",
      "   3.09939338e+02   3.95252627e+02]\n",
      "Note: Absorber inlet is subcooled\n",
      "201.0 28.0 130.07272377 7.93415906736e-266 0.0881719523407 \n",
      "\n",
      "[  3.54064468e-01   2.78602327e+02   3.11987997e+02   3.13008599e+02\n",
      "   3.09939562e+02   3.95252846e+02]\n",
      "Note: Absorber inlet is subcooled\n",
      "202.0 28.0 130.091605282 7.9019316894e-266 0.138613782518 \n",
      "\n",
      "[  3.54040083e-01   2.78602327e+02   3.11988006e+02   3.13008608e+02\n",
      "   3.09939258e+02   3.95252803e+02]\n",
      "Note: Absorber inlet is subcooled\n",
      "203.0 28.0 130.083765748 7.94620850179e-266 0.116291007798 \n",
      "\n",
      "[  3.54011070e-01   2.78602376e+02   3.11988016e+02   3.13008619e+02\n",
      "   3.09939338e+02   3.95252752e+02]\n",
      "Note: Absorber inlet is subcooled\n",
      "204.0 29.0 130.072892451 5.0539807989e-294 0.12224190688 \n",
      "\n",
      "[  3.53928280e-01   2.78602273e+02   3.11988013e+02   3.13008616e+02\n",
      "   3.09939341e+02   3.95252764e+02]\n",
      "Note: Absorber inlet is subcooled\n",
      "205.0 29.0 130.042022571 5.04150739264e-294 0.0394228816244 \n",
      "\n",
      "[  3.54011632e-01   2.78602326e+02   3.11988052e+02   3.13008584e+02\n",
      "   3.09939338e+02   3.95252752e+02]\n",
      "Note: Absorber inlet is subcooled\n",
      "206.0 29.0 130.07278167 5.04096989069e-294 0.119205800851 \n",
      "\n",
      "[  3.54026579e-01   2.78602304e+02   3.11988066e+02   3.13008701e+02\n",
      "   3.09939340e+02   3.95252757e+02]\n",
      "Note: Absorber inlet is subcooled\n",
      "207.0 29.0 130.07814301 5.04750184842e-294 0.135729043157 \n",
      "\n",
      "[  3.54051235e-01   2.78602285e+02   3.11987952e+02   3.13008610e+02\n",
      "   3.09939387e+02   3.95252762e+02]\n",
      "Note: Absorber inlet is subcooled\n",
      "208.0 29.0 130.087226628 5.04438564639e-294 0.167294168501 \n",
      "\n"
     ]
    },
    {
     "data": {
      "text/plain": [
       "     fun: -129.91993245970548\n",
       "   maxcv: 0.0\n",
       " message: 'Optimization terminated successfully.'\n",
       "    nfev: 26\n",
       "  status: 1\n",
       " success: True\n",
       "       x: array([  3.54051235e-01,   2.78602285e+02,   3.11987952e+02,\n",
       "         3.13008610e+02,   3.09939387e+02,   3.95252762e+02])"
      ]
     },
     "execution_count": 119,
     "metadata": {},
     "output_type": "execute_result"
    }
   ],
   "source": [
    "P.n_calls = 7 * numpy.floor(P.n_calls / 7)\n",
    "opt = scipy.optimize.minimize(P.objective, x, method=\"COBYLA\",\n",
    "                              constraints=P.constraints, callback=P.callback,\n",
    "                              options={'disp':True,'maxiter':1000,'rhobeg':0.001})\n",
    "opt"
   ]
  },
  {
   "cell_type": "code",
   "execution_count": 120,
   "metadata": {},
   "outputs": [
    {
     "data": {
      "text/plain": [
       "array([  3.54051235e-01,   2.78602285e+02,   3.11987952e+02,\n",
       "         3.13008610e+02,   3.09939387e+02,   3.95252762e+02])"
      ]
     },
     "execution_count": 120,
     "metadata": {},
     "output_type": "execute_result"
    }
   ],
   "source": [
    "x = opt.x\n",
    "x"
   ]
  },
  {
   "cell_type": "code",
   "execution_count": 121,
   "metadata": {},
   "outputs": [
    {
     "data": {
      "text/html": [
       "<h3>State points</h3>\n",
       "        <table>\n",
       "<thead>\n",
       "<tr><th>                         </th><th style=\"text-align: right;\">      T</th><th style=\"text-align: right;\">       P</th><th style=\"text-align: right;\">       x</th><th style=\"text-align: right;\">        h</th><th style=\"text-align: right;\">       s</th><th style=\"text-align: right;\">        u</th><th style=\"text-align: right;\">         v</th><th style=\"text-align: right;\">        Qu</th></tr>\n",
       "</thead>\n",
       "<tbody>\n",
       "<tr><td>rich_abs_outlet          </td><td style=\"text-align: right;\">309.939</td><td style=\"text-align: right;\"> 4.98571</td><td style=\"text-align: right;\">0.518919</td><td style=\"text-align: right;\"> -74.179 </td><td style=\"text-align: right;\">0.390575</td><td style=\"text-align: right;\"> -74.7943</td><td style=\"text-align: right;\">0.0012341 </td><td style=\"text-align: right;\"> 0        </td></tr>\n",
       "<tr><td>rich_pump_outlet         </td><td style=\"text-align: right;\">310.102</td><td style=\"text-align: right;\">15.0651 </td><td style=\"text-align: right;\">0.518919</td><td style=\"text-align: right;\"> -72.6244</td><td style=\"text-align: right;\">0.391578</td><td style=\"text-align: right;\"> -74.4829</td><td style=\"text-align: right;\">0.00123364</td><td style=\"text-align: right;\">-0.001    </td></tr>\n",
       "<tr><td>rich_shx_outlet          </td><td style=\"text-align: right;\">349.632</td><td style=\"text-align: right;\">15.0651 </td><td style=\"text-align: right;\">0.518919</td><td style=\"text-align: right;\"> 108.341 </td><td style=\"text-align: right;\">0.940607</td><td style=\"text-align: right;\"> 106.375 </td><td style=\"text-align: right;\">0.00130486</td><td style=\"text-align: right;\">-0.001    </td></tr>\n",
       "<tr><td>rich_gen_sat_liquid      </td><td style=\"text-align: right;\">350.548</td><td style=\"text-align: right;\">15.0651 </td><td style=\"text-align: right;\">0.518919</td><td style=\"text-align: right;\"> 112.646 </td><td style=\"text-align: right;\">0.952907</td><td style=\"text-align: right;\"> 110.677 </td><td style=\"text-align: right;\">0.00130693</td><td style=\"text-align: right;\"> 0        </td></tr>\n",
       "<tr><td>weak_gen_outlet          </td><td style=\"text-align: right;\">395.253</td><td style=\"text-align: right;\">15.0651 </td><td style=\"text-align: right;\">0.298796</td><td style=\"text-align: right;\"> 348.035 </td><td style=\"text-align: right;\">1.53813 </td><td style=\"text-align: right;\"> 346.152 </td><td style=\"text-align: right;\">0.00124995</td><td style=\"text-align: right;\"> 0        </td></tr>\n",
       "<tr><td>weak_shx_outlet          </td><td style=\"text-align: right;\">336.331</td><td style=\"text-align: right;\">15.0651 </td><td style=\"text-align: right;\">0.298796</td><td style=\"text-align: right;\">  84.2451</td><td style=\"text-align: right;\">0.816148</td><td style=\"text-align: right;\">  82.5102</td><td style=\"text-align: right;\">0.00115162</td><td style=\"text-align: right;\">-0.001    </td></tr>\n",
       "<tr><td>weak_exp_outlet          </td><td style=\"text-align: right;\">336.506</td><td style=\"text-align: right;\"> 4.98571</td><td style=\"text-align: right;\">0.298796</td><td style=\"text-align: right;\">  84.2451</td><td style=\"text-align: right;\">0.819599</td><td style=\"text-align: right;\">  83.6705</td><td style=\"text-align: right;\">0.00115242</td><td style=\"text-align: right;\">-0.001    </td></tr>\n",
       "<tr><td>gen_vapor_outlet         </td><td style=\"text-align: right;\">350.548</td><td style=\"text-align: right;\">15.0651 </td><td style=\"text-align: right;\">0.989069</td><td style=\"text-align: right;\">1420.13  </td><td style=\"text-align: right;\">4.56407 </td><td style=\"text-align: right;\">1265     </td><td style=\"text-align: right;\">0.102976  </td><td style=\"text-align: right;\"> 1        </td></tr>\n",
       "<tr><td>gen_reflux_inlet         </td><td style=\"text-align: right;\">350.548</td><td style=\"text-align: right;\">15.0651 </td><td style=\"text-align: right;\">0.518918</td><td style=\"text-align: right;\"> 112.644 </td><td style=\"text-align: right;\">0.952898</td><td style=\"text-align: right;\"> 110.675 </td><td style=\"text-align: right;\">0.00130694</td><td style=\"text-align: right;\"> 0        </td></tr>\n",
       "<tr><td>refrig_rect_outlet       </td><td style=\"text-align: right;\">313.009</td><td style=\"text-align: right;\">15.0651 </td><td style=\"text-align: right;\">0.999869</td><td style=\"text-align: right;\">1294.32  </td><td style=\"text-align: right;\">4.18595 </td><td style=\"text-align: right;\">1164.39  </td><td style=\"text-align: right;\">0.0862463 </td><td style=\"text-align: right;\"> 0.998019 </td></tr>\n",
       "<tr><td>refrig_cond_outlet       </td><td style=\"text-align: right;\">311.988</td><td style=\"text-align: right;\">15.0651 </td><td style=\"text-align: right;\">0.999869</td><td style=\"text-align: right;\"> 185.16  </td><td style=\"text-align: right;\">0.639058</td><td style=\"text-align: right;\"> 182.558 </td><td style=\"text-align: right;\">0.0017271 </td><td style=\"text-align: right;\"> 0        </td></tr>\n",
       "<tr><td>refrig_cehx_liquid_outlet</td><td style=\"text-align: right;\">295.201</td><td style=\"text-align: right;\">15.0651 </td><td style=\"text-align: right;\">0.999869</td><td style=\"text-align: right;\"> 103.531 </td><td style=\"text-align: right;\">0.370375</td><td style=\"text-align: right;\"> 101.049 </td><td style=\"text-align: right;\">0.00164758</td><td style=\"text-align: right;\">-0.001    </td></tr>\n",
       "<tr><td>refrig_exp_outlet        </td><td style=\"text-align: right;\">277.213</td><td style=\"text-align: right;\"> 4.98571</td><td style=\"text-align: right;\">0.999869</td><td style=\"text-align: right;\"> 103.531 </td><td style=\"text-align: right;\">0.384338</td><td style=\"text-align: right;\">  94.3282</td><td style=\"text-align: right;\">0.0184585 </td><td style=\"text-align: right;\"> 0.0676894</td></tr>\n",
       "<tr><td>refrig_evap_outlet       </td><td style=\"text-align: right;\">278.602</td><td style=\"text-align: right;\"> 4.98571</td><td style=\"text-align: right;\">0.999869</td><td style=\"text-align: right;\">1273.75  </td><td style=\"text-align: right;\">4.58754 </td><td style=\"text-align: right;\">1147.98  </td><td style=\"text-align: right;\">0.252921  </td><td style=\"text-align: right;\"> 0.998    </td></tr>\n",
       "<tr><td>refrig_cehx_sat_vapor    </td><td style=\"text-align: right;\">284.063</td><td style=\"text-align: right;\"> 4.98571</td><td style=\"text-align: right;\">0.999869</td><td style=\"text-align: right;\">1290.14  </td><td style=\"text-align: right;\">4.64428 </td><td style=\"text-align: right;\">1160.96  </td><td style=\"text-align: right;\">0.259104  </td><td style=\"text-align: right;\"> 1        </td></tr>\n",
       "<tr><td>refrig_cehx_vapor_outlet </td><td style=\"text-align: right;\">310.209</td><td style=\"text-align: right;\"> 4.98571</td><td style=\"text-align: right;\">0.999869</td><td style=\"text-align: right;\">1355.38  </td><td style=\"text-align: right;\">4.86333 </td><td style=\"text-align: right;\">1211.09  </td><td style=\"text-align: right;\">0.289409  </td><td style=\"text-align: right;\"> 1.001    </td></tr>\n",
       "<tr><td>rectifier_liquid         </td><td style=\"text-align: right;\">313.009</td><td style=\"text-align: right;\">15.0651 </td><td style=\"text-align: right;\">0.972268</td><td style=\"text-align: right;\"> 169.756 </td><td style=\"text-align: right;\">0.662027</td><td style=\"text-align: right;\"> 167.209 </td><td style=\"text-align: right;\">0.00169108</td><td style=\"text-align: right;\"> 0        </td></tr>\n",
       "<tr><td>gen_vapor_formation      </td><td style=\"text-align: right;\">395.253</td><td style=\"text-align: right;\">15.0651 </td><td style=\"text-align: right;\">0.894028</td><td style=\"text-align: right;\">1639.65  </td><td style=\"text-align: right;\">5.11954 </td><td style=\"text-align: right;\">1461.18  </td><td style=\"text-align: right;\">0.118466  </td><td style=\"text-align: right;\"> 1        </td></tr>\n",
       "<tr><td>abs_vapor_final          </td><td style=\"text-align: right;\">336.506</td><td style=\"text-align: right;\"> 4.98571</td><td style=\"text-align: right;\">0.974441</td><td style=\"text-align: right;\">1446.2   </td><td style=\"text-align: right;\">5.1419  </td><td style=\"text-align: right;\">1288.13  </td><td style=\"text-align: right;\">0.317044  </td><td style=\"text-align: right;\"> 1        </td></tr>\n",
       "</tbody>\n",
       "</table>\n",
       "        <br/>\n",
       "        <h3>Performance variables</h3>\n",
       "        <table>\n",
       "<thead>\n",
       "<tr><th>name                   </th><th>unit  </th><th style=\"text-align: right;\">         value</th></tr>\n",
       "</thead>\n",
       "<tbody>\n",
       "<tr><td>Q_abs                  </td><td>kW    </td><td style=\"text-align: right;\">-197.396      </td></tr>\n",
       "<tr><td>Q_gen                  </td><td>kW    </td><td style=\"text-align: right;\"> 207.383      </td></tr>\n",
       "<tr><td>Q_cond                 </td><td>kW    </td><td style=\"text-align: right;\">-123.3        </td></tr>\n",
       "<tr><td>Q_evap                 </td><td>kW    </td><td style=\"text-align: right;\"> 130.087      </td></tr>\n",
       "<tr><td>Q_reflux               </td><td>kW    </td><td style=\"text-align: right;\"> -17.3245     </td></tr>\n",
       "<tr><td>Q_shx                  </td><td>kW    </td><td style=\"text-align: right;\">  64.0709     </td></tr>\n",
       "<tr><td>Q_cehx                 </td><td>kW    </td><td style=\"text-align: right;\">   9.07422    </td></tr>\n",
       "<tr><td>W_pump                 </td><td>kW    </td><td style=\"text-align: right;\">   0.550401   </td></tr>\n",
       "<tr><td>COP                    </td><td>kW/kW </td><td style=\"text-align: right;\">   0.627282   </td></tr>\n",
       "<tr><td>ZeroCheck              </td><td>kW    </td><td style=\"text-align: right;\">   2.52954e-05</td></tr>\n",
       "<tr><td>ZeroCheckSHX           </td><td>kW    </td><td style=\"text-align: right;\">   5.78258e-06</td></tr>\n",
       "<tr><td>ZeroCheckCEHX          </td><td>kW    </td><td style=\"text-align: right;\">  -1.87975e-05</td></tr>\n",
       "<tr><td>Q_gen_rect_combo       </td><td>kW    </td><td style=\"text-align: right;\"> 190.058      </td></tr>\n",
       "<tr><td>Q_refrig_side          </td><td>kW    </td><td style=\"text-align: right;\">  -6.78717    </td></tr>\n",
       "<tr><td>ZeroCheckRect          </td><td>kg/s  </td><td style=\"text-align: right;\">   1.38778e-17</td></tr>\n",
       "<tr><td>m_rich                 </td><td>kg/s  </td><td style=\"text-align: right;\">   0.354051   </td></tr>\n",
       "<tr><td>m_weak                 </td><td>kg/s  </td><td style=\"text-align: right;\">   0.242886   </td></tr>\n",
       "<tr><td>m_gen_vapor            </td><td>kg/s  </td><td style=\"text-align: right;\">   0.113719   </td></tr>\n",
       "<tr><td>m_gen_reflux           </td><td>kg/s  </td><td style=\"text-align: right;\">   0.00255368 </td></tr>\n",
       "<tr><td>m_refrig               </td><td>kg/s  </td><td style=\"text-align: right;\">   0.111165   </td></tr>\n",
       "<tr><td>check_rectifier_delta_T</td><td>K     </td><td style=\"text-align: right;\">  37.5396     </td></tr>\n",
       "<tr><td>is_degenerate          </td><td>bool  </td><td style=\"text-align: right;\">   0          </td></tr>\n",
       "</tbody>\n",
       "</table>\n",
       "        "
      ],
      "text/plain": [
       "                                 T         P         x          h         s          u           v          Qu\n",
       "-------------------------  -------  --------  --------  ---------  --------  ---------  ----------  ----------\n",
       "rich_abs_outlet            309.939   4.98571  0.518919   -74.179   0.390575   -74.7943  0.0012341    0\n",
       "rich_pump_outlet           310.102  15.0651   0.518919   -72.6244  0.391578   -74.4829  0.00123364  -0.001\n",
       "rich_shx_outlet            349.632  15.0651   0.518919   108.341   0.940607   106.375   0.00130486  -0.001\n",
       "rich_gen_sat_liquid        350.548  15.0651   0.518919   112.646   0.952907   110.677   0.00130693   0\n",
       "weak_gen_outlet            395.253  15.0651   0.298796   348.035   1.53813    346.152   0.00124995   0\n",
       "weak_shx_outlet            336.331  15.0651   0.298796    84.2451  0.816148    82.5102  0.00115162  -0.001\n",
       "weak_exp_outlet            336.506   4.98571  0.298796    84.2451  0.819599    83.6705  0.00115242  -0.001\n",
       "gen_vapor_outlet           350.548  15.0651   0.989069  1420.13    4.56407   1265       0.102976     1\n",
       "gen_reflux_inlet           350.548  15.0651   0.518918   112.644   0.952898   110.675   0.00130694   0\n",
       "refrig_rect_outlet         313.009  15.0651   0.999869  1294.32    4.18595   1164.39    0.0862463    0.998019\n",
       "refrig_cond_outlet         311.988  15.0651   0.999869   185.16    0.639058   182.558   0.0017271    0\n",
       "refrig_cehx_liquid_outlet  295.201  15.0651   0.999869   103.531   0.370375   101.049   0.00164758  -0.001\n",
       "refrig_exp_outlet          277.213   4.98571  0.999869   103.531   0.384338    94.3282  0.0184585    0.0676894\n",
       "refrig_evap_outlet         278.602   4.98571  0.999869  1273.75    4.58754   1147.98    0.252921     0.998\n",
       "refrig_cehx_sat_vapor      284.063   4.98571  0.999869  1290.14    4.64428   1160.96    0.259104     1\n",
       "refrig_cehx_vapor_outlet   310.209   4.98571  0.999869  1355.38    4.86333   1211.09    0.289409     1.001\n",
       "rectifier_liquid           313.009  15.0651   0.972268   169.756   0.662027   167.209   0.00169108   0\n",
       "gen_vapor_formation        395.253  15.0651   0.894028  1639.65    5.11954   1461.18    0.118466     1\n",
       "abs_vapor_final            336.506   4.98571  0.974441  1446.2     5.1419    1288.13    0.317044     1\n",
       "name                     unit             value\n",
       "-----------------------  ------  --------------\n",
       "Q_abs                    kW      -197.396\n",
       "Q_gen                    kW       207.383\n",
       "Q_cond                   kW      -123.3\n",
       "Q_evap                   kW       130.087\n",
       "Q_reflux                 kW       -17.3245\n",
       "Q_shx                    kW        64.0709\n",
       "Q_cehx                   kW         9.07422\n",
       "W_pump                   kW         0.550401\n",
       "COP                      kW/kW      0.627282\n",
       "ZeroCheck                kW         2.52954e-05\n",
       "ZeroCheckSHX             kW         5.78258e-06\n",
       "ZeroCheckCEHX            kW        -1.87975e-05\n",
       "Q_gen_rect_combo         kW       190.058\n",
       "Q_refrig_side            kW        -6.78717\n",
       "ZeroCheckRect            kg/s       1.38778e-17\n",
       "m_rich                   kg/s       0.354051\n",
       "m_weak                   kg/s       0.242886\n",
       "m_gen_vapor              kg/s       0.113719\n",
       "m_gen_reflux             kg/s       0.00255368\n",
       "m_refrig                 kg/s       0.111165\n",
       "check_rectifier_delta_T  K         37.5396\n",
       "is_degenerate            bool       0"
      ]
     },
     "metadata": {},
     "output_type": "display_data"
    }
   ],
   "source": [
    "ch = system_aqua1.makeChiller(x)\n",
    "display(ch)"
   ]
  },
  {
   "cell_type": "code",
   "execution_count": 122,
   "metadata": {},
   "outputs": [
    {
     "data": {
      "text/plain": [
       "[0.25405123492903559,\n",
       " 0.64594876507096444,\n",
       " 32.385666581057876,\n",
       " 0.92065803869669482,\n",
       " 21.337102338183058,\n",
       " 81.244151889835393,\n",
       " 84.313374171406906]"
      ]
     },
     "execution_count": 122,
     "metadata": {},
     "output_type": "execute_result"
    }
   ],
   "source": [
    "P.constraint(x)"
   ]
  },
  {
   "cell_type": "code",
   "execution_count": 123,
   "metadata": {},
   "outputs": [
    {
     "name": "stdout",
     "output_type": "stream",
     "text": [
      "Note: Absorber inlet is subcooled\n"
     ]
    },
    {
     "name": "stderr",
     "output_type": "stream",
     "text": [
      "C:\\Users\\nfette\\Miniconda3\\envs\\openACHP\\lib\\site-packages\\scipy\\interpolate\\_cubic.py:147: RuntimeWarning: divide by zero encountered in true_divide\n",
      "  mk = (y[1:] - y[:-1]) / hk\n",
      "C:\\Users\\nfette\\Miniconda3\\envs\\openACHP\\lib\\site-packages\\scipy\\interpolate\\_cubic.py:165: RuntimeWarning: invalid value encountered in true_divide\n",
      "  whmean = (w1/mk[:-1] + w2/mk[1:]) / (w1 + w2)\n"
     ]
    },
    {
     "data": {
      "text/html": [
       "<table>\n",
       "<thead>\n",
       "<tr><th>name  </th><th style=\"text-align: right;\">    deltaT</th><th style=\"text-align: right;\">  epsilon</th><th style=\"text-align: right;\">       UA</th><th style=\"text-align: right;\">       Q</th></tr>\n",
       "</thead>\n",
       "<tbody>\n",
       "<tr><td>gen   </td><td style=\"text-align: right;\">0.163144  </td><td style=\"text-align: right;\"> 0.996723</td><td style=\"text-align: right;\"> 78.2634 </td><td style=\"text-align: right;\">207.383 </td></tr>\n",
       "<tr><td>rect  </td><td style=\"text-align: right;\">7.88064   </td><td style=\"text-align: right;\"> 0.782762</td><td style=\"text-align: right;\">  1.34955</td><td style=\"text-align: right;\"> 17.3245</td></tr>\n",
       "<tr><td>abs   </td><td style=\"text-align: right;\">0.795894  </td><td style=\"text-align: right;\"> 0.959961</td><td style=\"text-align: right;\"> 63.3603 </td><td style=\"text-align: right;\">197.396 </td></tr>\n",
       "<tr><td>cond  </td><td style=\"text-align: right;\">1.42142   </td><td style=\"text-align: right;\"> 0.967853</td><td style=\"text-align: right;\"> 37.4399 </td><td style=\"text-align: right;\">123.3   </td></tr>\n",
       "<tr><td>evap  </td><td style=\"text-align: right;\">0.00472091</td><td style=\"text-align: right;\"> 0.999394</td><td style=\"text-align: right;\">123.917  </td><td style=\"text-align: right;\">130.087 </td></tr>\n",
       "<tr><td>total </td><td style=\"text-align: right;\">0         </td><td style=\"text-align: right;\"> 0       </td><td style=\"text-align: right;\">304.33   </td><td style=\"text-align: right;\">  0     </td></tr>\n",
       "</tbody>\n",
       "</table>"
      ],
      "text/plain": [
       "name        deltaT    epsilon         UA         Q\n",
       "------  ----------  ---------  ---------  --------\n",
       "gen     0.163144     0.996723   78.2634   207.383\n",
       "rect    7.88064      0.782762    1.34955   17.3245\n",
       "abs     0.795894     0.959961   63.3603   197.396\n",
       "cond    1.42142      0.967853   37.4399   123.3\n",
       "evap    0.00472091   0.999394  123.917    130.087\n",
       "totalUA = 304.33007565731174"
      ]
     },
     "execution_count": 123,
     "metadata": {},
     "output_type": "execute_result"
    }
   ],
   "source": [
    "sys = system_aqua1.System(bdry, ch)\n",
    "sys"
   ]
  },
  {
   "cell_type": "code",
   "execution_count": 124,
   "metadata": {},
   "outputs": [
    {
     "name": "stdout",
     "output_type": "stream",
     "text": [
      "[  3.04051235e-01   2.78602285e+02   3.11987952e+02   3.13008610e+02\n",
      "   3.09939387e+02   3.95252762e+02]\n",
      "Note: Absorber inlet is subcooled\n"
     ]
    },
    {
     "name": "stderr",
     "output_type": "stream",
     "text": [
      "C:\\Users\\nfette\\Miniconda3\\envs\\openACHP\\lib\\site-packages\\scipy\\interpolate\\_cubic.py:147: RuntimeWarning: divide by zero encountered in true_divide\n",
      "  mk = (y[1:] - y[:-1]) / hk\n",
      "C:\\Users\\nfette\\Miniconda3\\envs\\openACHP\\lib\\site-packages\\scipy\\interpolate\\_cubic.py:165: RuntimeWarning: invalid value encountered in true_divide\n",
      "  whmean = (w1/mk[:-1] + w2/mk[1:]) / (w1 + w2)\n"
     ]
    },
    {
     "name": "stdout",
     "output_type": "stream",
     "text": [
      "209.0 29.0 111.715983459 5.04438564639e-294 0.0 \n",
      "\n",
      "[  3.29051235e-01   2.78602285e+02   3.11987952e+02   3.13008610e+02\n",
      "   3.09939387e+02   3.95252762e+02]\n",
      "Note: Absorber inlet is subcooled\n",
      "210.0 29.0 120.901605043 5.04438564639e-294 0.0 \n",
      "\n",
      "[  3.54051235e-01   2.78602285e+02   3.11987952e+02   3.13008610e+02\n",
      "   3.09939387e+02   3.95252762e+02]\n",
      "Note: Absorber inlet is subcooled\n",
      "211.0 30.0 130.087226628 0.0 0.225823506808 \n",
      "\n",
      "[  3.79051235e-01   2.78602285e+02   3.11987952e+02   3.13008610e+02\n",
      "   3.09939387e+02   3.95252762e+02]\n",
      "Note: Absorber inlet is subcooled\n",
      "212.0 30.0 139.272848213 0.0 91312.5800127 \n",
      "\n",
      "[   0.40405123  278.60228502  311.98795161  313.00860964  309.93938736\n",
      "  395.25276153]\n",
      "Note: Absorber inlet is subcooled\n",
      "213.0 30.0 148.458469798 0.0 382344.140072 \n",
      "\n",
      "[  3.54051235e-01   2.77602285e+02   3.11987952e+02   3.13008610e+02\n",
      "   3.09939387e+02   3.95252762e+02]\n",
      "Note: Absorber inlet is subcooled\n",
      "214.0 30.0 125.639385167 0.0 0.0 \n",
      "\n",
      "[  3.54051235e-01   2.78102285e+02   3.11987952e+02   3.13008610e+02\n",
      "   3.09939387e+02   3.95252762e+02]\n",
      "Note: Absorber inlet is subcooled\n",
      "215.0 30.0 127.856921936 0.0 0.0 \n",
      "\n",
      "[  3.54051235e-01   2.78602285e+02   3.11987952e+02   3.13008610e+02\n",
      "   3.09939387e+02   3.95252762e+02]\n",
      "Note: Absorber inlet is subcooled\n",
      "216.0 30.0 130.087226628 0.0 0.225823506808 \n",
      "\n",
      "[  3.54051235e-01   2.79102285e+02   3.11987952e+02   3.13008610e+02\n",
      "   3.09939387e+02   3.95252762e+02]\n",
      "Note: Absorber inlet is subcooled\n",
      "217.0 30.0 132.330795742 1.33397724377e-319 3292.04125993 \n",
      "\n",
      "[  3.54051235e-01   2.79602285e+02   3.11987952e+02   3.13008610e+02\n",
      "   3.09939387e+02   3.95252762e+02]\n",
      "Note: Absorber inlet is subcooled\n",
      "218.0 31.0 134.588138876 0.0 17656.5666321 \n",
      "\n",
      "[  3.54051235e-01   2.78602285e+02   3.10987952e+02   3.13008610e+02\n",
      "   3.09939387e+02   3.95252762e+02]\n",
      "Note: Absorber inlet is subcooled\n",
      "219.0 31.0 132.663846055 0.0 277.986858117 \n",
      "\n",
      "[  3.54051235e-01   2.78602285e+02   3.11487952e+02   3.13008610e+02\n",
      "   3.09939387e+02   3.95252762e+02]\n",
      "Note: Absorber inlet is subcooled\n"
     ]
    },
    {
     "name": "stderr",
     "output_type": "stream",
     "text": [
      "C:\\Users\\nfette\\Miniconda3\\envs\\openACHP\\lib\\site-packages\\scipy\\integrate\\quadpack.py:364: IntegrationWarning: The maximum number of subdivisions (50) has been achieved.\n",
      "  If increasing the limit yields no improvement it is advised to analyze \n",
      "  the integrand in order to determine the difficulties.  If the position of a \n",
      "  local difficulty can be determined (singularity, discontinuity) one will \n",
      "  probably gain from splitting up the interval and calling the integrator \n",
      "  on the subranges.  Perhaps a special-purpose integrator should be used.\n",
      "  warnings.warn(msg, IntegrationWarning)\n"
     ]
    },
    {
     "name": "stdout",
     "output_type": "stream",
     "text": [
      "220.0 31.0 131.379717522 0.0 74.6268927787 \n",
      "\n",
      "[  3.54051235e-01   2.78602285e+02   3.11987952e+02   3.13008610e+02\n",
      "   3.09939387e+02   3.95252762e+02]\n",
      "Note: Absorber inlet is subcooled\n",
      "221.0 31.0 130.087226628 0.0 0.304829849622 \n",
      "\n",
      "[  3.54051235e-01   2.78602285e+02   3.12487952e+02   3.13008610e+02\n",
      "   3.09939387e+02   3.95252762e+02]\n",
      "Note: Absorber inlet is subcooled\n",
      "222.0 31.0 128.78623555 0.0 0.0 \n",
      "\n",
      "[  3.54051235e-01   2.78602285e+02   3.12987952e+02   3.13008610e+02\n",
      "   3.09939387e+02   3.95252762e+02]\n",
      "Note: Absorber inlet is subcooled\n",
      "223.0 31.0 127.476602663 0.0 9454794.92894 \n",
      "\n",
      "[  3.54051235e-01   2.78602285e+02   3.11987952e+02   3.12008610e+02\n",
      "   3.09939387e+02   3.95252762e+02]\n",
      "Note: Absorber inlet is subcooled\n",
      "224.0 31.0 130.087226628 0.0 10517865.4852 \n",
      "\n",
      "[  3.54051235e-01   2.78602285e+02   3.11987952e+02   3.12508610e+02\n",
      "   3.09939387e+02   3.95252762e+02]\n",
      "Note: Absorber inlet is subcooled\n",
      "225.0 32.0 130.087226628 0.0 0.411477257324 \n",
      "\n",
      "[  3.54051235e-01   2.78602285e+02   3.11987952e+02   3.13008610e+02\n",
      "   3.09939387e+02   3.95252762e+02]\n",
      "Note: Absorber inlet is subcooled\n",
      "226.0 32.0 130.087226628 0.0 0.411477257324 \n",
      "\n",
      "[  3.54051235e-01   2.78602285e+02   3.11987952e+02   3.13508610e+02\n",
      "   3.09939387e+02   3.95252762e+02]\n",
      "Note: Absorber inlet is subcooled\n",
      "227.0 32.0 130.087226628 0.0 0.411477257324 \n",
      "\n",
      "[  3.54051235e-01   2.78602285e+02   3.11987952e+02   3.14008610e+02\n",
      "   3.09939387e+02   3.95252762e+02]\n",
      "Note: Absorber inlet is subcooled\n",
      "228.0 32.0 130.087226628 0.0 0.411477257324 \n",
      "\n",
      "[  3.54051235e-01   2.78602285e+02   3.11987952e+02   3.13008610e+02\n",
      "   3.08939387e+02   3.95252762e+02]\n",
      "Note: Absorber inlet is subcooled\n",
      "229.0 32.0 134.127537546 0.0 2022.12107199 \n",
      "\n",
      "[  3.54051235e-01   2.78602285e+02   3.11987952e+02   3.13008610e+02\n",
      "   3.09439387e+02   3.95252762e+02]\n",
      "Note: Absorber inlet is subcooled\n",
      "230.0 32.0 132.098793535 0.0 232.982439684 \n",
      "\n",
      "[  3.54051235e-01   2.78602285e+02   3.11987952e+02   3.13008610e+02\n",
      "   3.09939387e+02   3.95252762e+02]\n",
      "Note: Absorber inlet is subcooled\n",
      "231.0 32.0 130.087226628 0.0 0.411477257324 \n",
      "\n",
      "[  3.54051235e-01   2.78602285e+02   3.11987952e+02   3.13008610e+02\n",
      "   3.10439387e+02   3.95252762e+02]\n",
      "Note: Absorber inlet is subcooled\n",
      "232.0 33.0 128.092331771 0.0 0.0 \n",
      "\n",
      "[  3.54051235e-01   2.78602285e+02   3.11987952e+02   3.13008610e+02\n",
      "   3.10939387e+02   3.95252762e+02]\n",
      "Note: Absorber inlet is subcooled\n",
      "233.0 33.0 126.11362588 0.0 0.0 \n",
      "\n",
      "[  3.54051235e-01   2.78602285e+02   3.11987952e+02   3.13008610e+02\n",
      "   3.09939387e+02   3.94252762e+02]\n",
      "Note: Absorber inlet is subcooled\n",
      "234.0 33.0 128.345359003 0.0 0.0 \n",
      "\n",
      "[  3.54051235e-01   2.78602285e+02   3.11987952e+02   3.13008610e+02\n",
      "   3.09939387e+02   3.94752762e+02]\n",
      "Note: Absorber inlet is subcooled\n",
      "235.0 33.0 129.219912195 0.0 0.0 \n",
      "\n",
      "[  3.54051235e-01   2.78602285e+02   3.11987952e+02   3.13008610e+02\n",
      "   3.09939387e+02   3.95252762e+02]\n",
      "Note: Absorber inlet is subcooled\n",
      "236.0 33.0 130.087226628 0.0 0.555436199917 \n",
      "\n",
      "[  3.54051235e-01   2.78602285e+02   3.11987952e+02   3.13008610e+02\n",
      "   3.09939387e+02   3.95752762e+02]\n",
      "Note: Absorber inlet is subcooled\n",
      "237.0 33.0 130.947401112 0.0 1003.50823437 \n",
      "\n",
      "[  3.54051235e-01   2.78602285e+02   3.11987952e+02   3.13008610e+02\n",
      "   3.09939387e+02   3.96252762e+02]\n",
      "Note: Absorber inlet is subcooled\n",
      "238.0 33.0 131.800531689 0.0 7052.36078554 \n",
      "\n"
     ]
    }
   ],
   "source": [
    "box = numpy.ones_like(x)\n",
    "box[0] = 0.05\n",
    "ss = numpy.linspace(-1,1,5)\n",
    "yyy = numpy.zeros([len(box),len(ss)])\n",
    "for i,boxi in enumerate(box):\n",
    "    yy = numpy.zeros_like(ss)\n",
    "    for j, s in enumerate(ss):\n",
    "        x_vary = x.copy()\n",
    "        x_vary[i] += boxi * s\n",
    "        yyy[i,j] = P.objective(x_vary)\n",
    "        if (numpy.array(P.constraint(x_vary)) < 0).any():\n",
    "            yyy[i,j] = numpy.nan"
   ]
  },
  {
   "cell_type": "code",
   "execution_count": 125,
   "metadata": {},
   "outputs": [
    {
     "data": {
      "image/png": "[encoded data removed]",
      "text/plain": [
       "<matplotlib.figure.Figure at 0x10c5cd0>"
      ]
     },
     "metadata": {},
     "output_type": "display_data"
    }
   ],
   "source": [
    "plt.close('all')\n",
    "plt.figure(figsize=(10, 4))\n",
    "ax1=plt.subplot(1,len(box), 1)\n",
    "for i,_ in enumerate(box):\n",
    "    ax=plt.subplot(1, len(box), i+1, sharey=ax1)\n",
    "    xxx = x[i] + ss * box[i]\n",
    "    plt.plot(xxx, yyy[i,:], '.-')\n",
    "    plt.setp(ax.get_yticklabels(), visible=bool(i==0))\n",
    "    plt.xlim(min(xxx),max(xxx))\n",
    "plt.ylim(min(yyy.flat),min(yyy.flat)*0.9)\n",
    "plt.show()"
   ]
  },
  {
   "cell_type": "markdown",
   "metadata": {},
   "source": [
    "Now that we have a guess for the maximum cooling we might get, let's optimize the cost function instead, and ask for that much cooling using a constraint. I'm thinking that a penalty constraint might be good, so that we add this to the objective:\n",
    "\n",
    "$$\n",
    "P = \\left(Q - Q_{goal}\\right) ^ 2\n",
    "$$"
   ]
  },
  {
   "cell_type": "code",
   "execution_count": 134,
   "metadata": {},
   "outputs": [
    {
     "data": {
      "text/plain": [
       "130.08722662820685"
      ]
     },
     "execution_count": 134,
     "metadata": {},
     "output_type": "execute_result"
    }
   ],
   "source": [
    "Q_opt = ch.Q_evap\n",
    "Q_opt"
   ]
  },
  {
   "cell_type": "code",
   "execution_count": 140,
   "metadata": {},
   "outputs": [
    {
     "data": {
      "text/plain": [
       "117.07850396538616"
      ]
     },
     "execution_count": 140,
     "metadata": {},
     "output_type": "execute_result"
    }
   ],
   "source": [
    "Q_goal = 0.9 * Q_opt\n",
    "Q_goal"
   ]
  },
  {
   "cell_type": "code",
   "execution_count": 170,
   "metadata": {
    "collapsed": true
   },
   "outputs": [],
   "source": [
    "class Problem_2_5_B:\n",
    "    def __init__(self, bdry, Q_goal, mu=0.1):\n",
    "        self.bdry = bdry\n",
    "        self.Q_goal = Q_goal\n",
    "        self.mu = mu\n",
    "        self.Ncons = 7\n",
    "        self.n_calls = 0\n",
    "        # Soft constraints mode: this is sent to minimizer\n",
    "        self.constraints = [{'type': 'ineq',\n",
    "                             'fun': self.constraint,\n",
    "                             'args': (i,)\n",
    "                            } for i in range(self.Ncons)]\n",
    "            \n",
    "    def objective_raw(self, xC):\n",
    "        try:\n",
    "            ch = system_aqua1.makeChiller(xC)\n",
    "            sys = system_aqua1.System(self.bdry, ch)\n",
    "            UA = sys.totalUA\n",
    "        except:\n",
    "            UA = numpy.nan\n",
    "        return UA\n",
    "\n",
    "        \n",
    "    def objective(self, xC):\n",
    "        step_number = numpy.floor(self.n_calls / 7)\n",
    "        self.n_calls += 1\n",
    "        print(xC,flush=True)\n",
    "        UA,B,P = 0.,0.,0.\n",
    "        try:\n",
    "            ch = system_aqua1.makeChiller(xC)\n",
    "            sys = system_aqua1.System(self.bdry, ch)\n",
    "            \n",
    "            # Barriers\n",
    "            # Magnitude tends to zero, slowly\n",
    "            mu_B = 1000. * numpy.exp(-0.1 * step_number)\n",
    "            length_scale_b = 1\n",
    "            # Or ... magnitude fixed, but shape changes\n",
    "            mu_B = 1000\n",
    "            length_scale_b = 1 * numpy.exp(-0.1 * step_number)\n",
    "            \n",
    "            # These are zero at the boundary ...\n",
    "            barriers = [ch.check_rectifier_delta_T] \\\n",
    "                       + [deltaT\n",
    "                          for name, deltaT, epsilon, UA, Qhx in sys.data]\n",
    "            B = mu_B * barrier1(barriers,length_scale_b)\n",
    "            \n",
    "            # Penalties\n",
    "            # Magnitude tends to infinite\n",
    "            mu_P = 1 * numpy.exp(0.3 * step_number)\n",
    "            penalties = [ch.Q_evap - self.Q_goal]\n",
    "            P = mu_P * penalty1(penalties,1)\n",
    "            \n",
    "            UA = sys.totalUA\n",
    "        except:\n",
    "            UA = numpy.inf\n",
    "        \n",
    "        print(self.n_calls, step_number, UA, B, P, \"\\n\", flush=True)\n",
    "        return UA + B + P\n",
    "    \n",
    "    def constraint(self, x, *args):\n",
    "        cons = [x[0] - 0.1,\n",
    "                1. - x[0],\n",
    "                x[2] - x[1] - 1.0,\n",
    "                x[3] - x[2] - 0.1,\n",
    "                x[4] - x[1] - 10.0,\n",
    "                x[5] - x[3] - 1.0,\n",
    "                x[5] - x[4] - 1.0]\n",
    "        if len(args) > 0:\n",
    "            i, = args\n",
    "            return cons[i]\n",
    "        else:\n",
    "            return cons\n",
    "\n",
    "    def callback(self, x):\n",
    "        print(\"Did an iteration at \", x)"
   ]
  },
  {
   "cell_type": "code",
   "execution_count": 171,
   "metadata": {
    "collapsed": true
   },
   "outputs": [],
   "source": [
    "P = Problem_2_5_B(bdry, Q_goal)\n",
    "rT = T_heat_reject\n",
    "x2 = x.copy()"
   ]
  },
  {
   "cell_type": "code",
   "execution_count": 159,
   "metadata": {},
   "outputs": [
    {
     "name": "stdout",
     "output_type": "stream",
     "text": [
      "[  3.23139528e-01   2.78641275e+02   3.12291755e+02   3.13259021e+02\n",
      "   3.10228713e+02   3.95250062e+02]\n"
     ]
    },
    {
     "name": "stderr",
     "output_type": "stream",
     "text": [
      "C:\\Users\\nfette\\Miniconda3\\envs\\openACHP\\lib\\site-packages\\scipy\\optimize\\_minimize.py:403: RuntimeWarning: Method COBYLA does not support callback.\n",
      "  warn('Method %s does not support callback.' % method, RuntimeWarning)\n"
     ]
    },
    {
     "name": "stdout",
     "output_type": "stream",
     "text": [
      "Note: Absorber inlet is subcooled\n"
     ]
    },
    {
     "name": "stderr",
     "output_type": "stream",
     "text": [
      "C:\\Users\\nfette\\Miniconda3\\envs\\openACHP\\lib\\site-packages\\scipy\\interpolate\\_cubic.py:147: RuntimeWarning: divide by zero encountered in true_divide\n",
      "  mk = (y[1:] - y[:-1]) / hk\n",
      "C:\\Users\\nfette\\Miniconda3\\envs\\openACHP\\lib\\site-packages\\scipy\\interpolate\\_cubic.py:165: RuntimeWarning: invalid value encountered in true_divide\n",
      "  whmean = (w1/mk[:-1] + w2/mk[1:]) / (w1 + w2)\n"
     ]
    },
    {
     "name": "stdout",
     "output_type": "stream",
     "text": [
      "176.0 25.0 138.19835208991435 0.118474468961 0.0 \n",
      "\n",
      "[  3.33139528e-01   2.78641275e+02   3.12291755e+02   3.13259021e+02\n",
      "   3.10228713e+02   3.95250062e+02]\n",
      "Note: Absorber inlet is subcooled\n",
      "177.0 25.0 153.19282242496664 1.65573909183 0.0 \n",
      "\n",
      "[  3.23139528e-01   2.78651275e+02   3.12291755e+02   3.13259021e+02\n",
      "   3.10228713e+02   3.95250062e+02]\n",
      "Note: Absorber inlet is subcooled\n",
      "178.0 25.0 138.537420450732 0.137721707638 0.0 \n",
      "\n",
      "[  3.23139528e-01   2.78641275e+02   3.12301755e+02   3.13259021e+02\n",
      "   3.10228713e+02   3.95250062e+02]\n",
      "Note: Absorber inlet is subcooled\n",
      "179.0 25.0 138.02564423858303 0.11642563615 0.0 \n",
      "\n",
      "[  3.23139528e-01   2.78641275e+02   3.12301755e+02   3.13269021e+02\n",
      "   3.10228713e+02   3.95250062e+02]\n",
      "Note: Absorber inlet is subcooled\n",
      "180.0 25.0 138.02541019578706 0.11642563615 0.0 \n",
      "\n",
      "[  3.23139528e-01   2.78641275e+02   3.12301755e+02   3.13269021e+02\n",
      "   3.10238713e+02   3.95250062e+02]\n",
      "Note: Absorber inlet is subcooled\n",
      "181.0 25.0 137.76089753239407 0.113325785726 1.90304608771 \n",
      "\n",
      "[  3.23139528e-01   2.78641275e+02   3.12301755e+02   3.13269021e+02\n",
      "   3.10228713e+02   3.95260062e+02]\n",
      "Note: Absorber inlet is subcooled\n",
      "182.0 25.0 138.11933928130702 0.117784938847 0.0 \n",
      "\n",
      "[  3.13191132e-01   2.78641059e+02   3.12301860e+02   3.13269021e+02\n",
      "   3.10227729e+02   3.95250004e+02]\n",
      "Note: Absorber inlet is subcooled\n",
      "183.0 26.0 126.25881782715973 0.00255257049659 31599.5423089 \n",
      "\n",
      "[  3.28139528e-01   2.78641275e+02   3.12301755e+02   3.13269021e+02\n",
      "   3.10228713e+02   3.95250062e+02]\n",
      "Note: Absorber inlet is subcooled\n",
      "184.0 26.0 144.99245977792415 0.192442355152 0.0 \n",
      "\n",
      "[  3.23139500e-01   2.78638775e+02   3.12301755e+02   3.13269021e+02\n",
      "   3.10228713e+02   3.95250062e+02]\n",
      "Note: Absorber inlet is subcooled\n",
      "185.0 26.0 137.9415595512446 0.0429795187076 0.0929791504778 \n",
      "\n",
      "[  3.18174167e-01   2.78638684e+02   3.12301816e+02   3.13269021e+02\n",
      "   3.10228137e+02   3.95250028e+02]\n",
      "Note: Absorber inlet is subcooled\n",
      "186.0 26.0 131.79251510559678 0.0101707660583 7939.0867178 \n",
      "\n",
      "[  3.23170513e-01   2.78638775e+02   3.12304255e+02   3.13269021e+02\n",
      "   3.10228713e+02   3.95250062e+02]\n",
      "Note: Absorber inlet is subcooled\n",
      "187.0 26.0 137.93913544693027 0.043161211038 0.00194016500195 \n",
      "\n",
      "[  3.28170130e-01   2.78638775e+02   3.12304193e+02   3.13269021e+02\n",
      "   3.10228713e+02   3.95250062e+02]\n",
      "Note: Absorber inlet is subcooled\n",
      "188.0 26.0 144.89640236352858 0.185329551922 0.0 \n",
      "\n",
      "[  3.23170513e-01   2.78638775e+02   3.12304255e+02   3.13271521e+02\n",
      "   3.10228713e+02   3.95250062e+02]\n",
      "Note: Absorber inlet is subcooled\n",
      "189.0 26.0 137.93907698114046 0.0431612105777 0.00194022274891 \n",
      "\n",
      "[  3.18207977e-01   2.78638685e+02   3.12304447e+02   3.13271521e+02\n",
      "   3.10228141e+02   3.95250028e+02]\n",
      "Note: Absorber inlet is subcooled\n",
      "190.0 27.0 131.78959358571416 0.00303699179993 10644.6754616 \n",
      "\n",
      "[  3.23456625e-01   2.78638775e+02   3.12304251e+02   3.13271521e+02\n",
      "   3.10226229e+02   3.95250062e+02]\n",
      "Note: Absorber inlet is subcooled\n",
      "191.0 27.0 138.38101250640327 0.0165576781242 0.0 \n",
      "\n",
      "[  3.28137230e-01   2.78638775e+02   3.12304193e+02   3.13271521e+02\n",
      "   3.10229286e+02   3.95250062e+02]\n",
      "Note: Absorber inlet is subcooled\n",
      "192.0 27.0 144.83136855962226 0.0741071005773 0.0 \n",
      "\n",
      "[  3.23170502e-01   2.78638775e+02   3.12304255e+02   3.13271521e+02\n",
      "   3.10228713e+02   3.95247562e+02]\n",
      "Note: Absorber inlet is subcooled\n",
      "193.0 27.0 137.91562184924953 0.0149248998166 0.0782271139283 \n",
      "\n",
      "[  3.18175364e-01   2.78638683e+02   3.12304450e+02   3.13271521e+02\n",
      "   3.10228734e+02   3.95250097e+02]\n",
      "Note: Absorber inlet is subcooled\n",
      "194.0 27.0 131.73679051802557 0.0029997222913 10809.3981417 \n",
      "\n",
      "[  3.20672938e-01   2.78638729e+02   3.12304353e+02   3.13271521e+02\n",
      "   3.10228724e+02   3.95250079e+02]\n",
      "Note: Absorber inlet is subcooled\n",
      "195.0 27.0 134.75616756934772 0.00669666290503 2705.03044583 \n",
      "\n",
      "[  3.24412182e-01   2.78638775e+02   3.12304239e+02   3.13271521e+02\n",
      "   3.10228856e+02   3.95250062e+02]\n",
      "Note: Absorber inlet is subcooled\n",
      "196.0 27.0 139.5841318766684 0.0223348953682 0.0 \n",
      "\n",
      "[  3.23170491e-01   2.78638150e+02   3.12304255e+02   3.13271521e+02\n",
      "   3.10228713e+02   3.95250062e+02]\n",
      "Note: Absorber inlet is subcooled\n",
      "197.0 28.0 137.91813679181814 0.00459398472166 0.052880816282 \n",
      "\n",
      "[  3.21921731e-01   2.78638137e+02   3.12304306e+02   3.13271521e+02\n",
      "   3.10228728e+02   3.95250071e+02]\n",
      "Note: Absorber inlet is subcooled\n",
      "198.0 28.0 136.3056217795911 0.00294356690507 924.912261782 \n",
      "\n",
      "[  3.23196083e-01   2.78638150e+02   3.12304879e+02   3.13271521e+02\n",
      "   3.10228715e+02   3.95250062e+02]\n",
      "Note: Absorber inlet is subcooled\n",
      "199.0 28.0 137.94083333831196 0.0046292303216 0.0 \n",
      "\n",
      "[  3.24436786e-01   2.78638150e+02   3.12304828e+02   3.13271521e+02\n",
      "   3.10228858e+02   3.95250062e+02]\n",
      "Note: Absorber inlet is subcooled\n",
      "200.0 28.0 139.58531636409097 0.00719901414724 0.0 \n",
      "\n",
      "[  3.23124417e-01   2.78638150e+02   3.12304880e+02   3.13271521e+02\n",
      "   3.10229336e+02   3.95250062e+02]\n",
      "Note: Absorber inlet is subcooled\n",
      "201.0 28.0 137.830647792373 0.00450248878287 2.54051460496 \n",
      "\n",
      "[  3.22934256e-01   2.78638146e+02   3.12304909e+02   3.13271521e+02\n",
      "   3.10227493e+02   3.95250065e+02]\n",
      "Note: Absorber inlet is subcooled\n",
      "202.0 28.0 137.63086512755058 0.00423500069504 33.0063063046 \n",
      "\n",
      "[  3.23195896e-01   2.78638150e+02   3.12304879e+02   3.13271521e+02\n",
      "   3.10228717e+02   3.95250687e+02]\n",
      "Note: Absorber inlet is subcooled\n",
      "203.0 28.0 137.94640932305342 0.00463342703171 0.0 \n",
      "\n",
      "[  3.22994816e-01   2.78638149e+02   3.12304885e+02   3.13271521e+02\n",
      "   3.10229949e+02   3.95250058e+02]\n",
      "Note: Absorber inlet is subcooled\n",
      "204.0 29.0 137.64522589915805 0.00116881441655 32.0825565008 \n",
      "\n",
      "[  3.23196083e-01   2.78638150e+02   3.12304879e+02   3.13272146e+02\n",
      "   3.10228715e+02   3.95250062e+02]\n",
      "Note: Absorber inlet is subcooled\n",
      "205.0 29.0 137.9408187875418 0.00127146745137 0.0 \n",
      "\n",
      "[  3.23275337e-01   2.78638149e+02   3.12304882e+02   3.13272146e+02\n",
      "   3.10227468e+02   3.95250064e+02]\n",
      "Note: Absorber inlet is subcooled\n",
      "206.0 29.0 138.07772782877868 0.0013182628598 0.0 \n",
      "\n",
      "[  3.22573113e-01   2.78638144e+02   3.12304927e+02   3.13272149e+02\n",
      "   3.10228727e+02   3.95250057e+02]\n",
      "Note: Absorber inlet is subcooled\n",
      "207.0 29.0 137.1297810912522 0.000994572490398 294.635677088 \n",
      "\n",
      "[  3.23819297e-01   2.78638150e+02   3.12304854e+02   3.13272146e+02\n",
      "   3.10228755e+02   3.95250062e+02]\n",
      "Note: Absorber inlet is subcooled\n",
      "208.0 29.0 138.76176955303305 0.00162495783917 0.0 \n",
      "\n",
      "[  3.22884610e-01   2.78638147e+02   3.12304903e+02   3.13272147e+02\n",
      "   3.10228721e+02   3.95250059e+02]\n",
      "Note: Absorber inlet is subcooled\n",
      "209.0 29.0 137.53387916997 0.00112453001743 70.8055021656 \n",
      "\n",
      "[  3.23199180e-01   2.78638150e+02   3.12304878e+02   3.13272146e+02\n",
      "   3.10228871e+02   3.95250061e+02]\n",
      "Note: Absorber inlet is subcooled\n",
      "210.0 29.0 137.94073692913108 0.00127223067623 0.0 \n",
      "\n",
      "[  3.23511359e-01   2.78638150e+02   3.12304866e+02   3.13272146e+02\n",
      "   3.10228865e+02   3.95250061e+02]\n",
      "Note: Absorber inlet is subcooled\n",
      "211.0 30.0 138.35119748488498 0.000349535840483 0.0 \n",
      "\n",
      "[  3.23199165e-01   2.78637994e+02   3.12304878e+02   3.13272146e+02\n",
      "   3.10228871e+02   3.95250061e+02]\n",
      "Note: Absorber inlet is subcooled\n",
      "212.0 30.0 137.9354895196941 0.000303922753886 0.0 \n",
      "\n",
      "[  3.22887826e-01   2.78637984e+02   3.12304903e+02   3.13272147e+02\n",
      "   3.10228878e+02   3.95250059e+02]\n",
      "Note: Absorber inlet is subcooled\n",
      "213.0 30.0 137.52854306959324 0.000265318931774 95.6938079625 \n",
      "\n",
      "[  3.23211300e-01   2.78637994e+02   3.12305034e+02   3.13272146e+02\n",
      "   3.10228872e+02   3.95250061e+02]\n",
      "Note: Absorber inlet is subcooled\n",
      "214.0 30.0 137.94868460909987 0.000305395400112 0.0 \n",
      "\n",
      "[  3.23510653e-01   2.78637994e+02   3.12304854e+02   3.13272146e+02\n",
      "   3.10228865e+02   3.95250061e+02]\n",
      "Note: Absorber inlet is subcooled\n",
      "215.0 30.0 138.34519547164257 0.000348082792236 0.0 \n",
      "\n",
      "[  3.23199207e-01   2.78637994e+02   3.12304878e+02   3.13272146e+02\n",
      "   3.10228871e+02   3.95249905e+02]\n",
      "Note: Absorber inlet is subcooled\n",
      "216.0 30.0 137.93408970605464 0.000303838083875 0.0 \n",
      "\n",
      "[  3.22886952e-01   2.78637984e+02   3.12304883e+02   3.13272147e+02\n",
      "   3.10228877e+02   3.95249903e+02]\n",
      "Note: Absorber inlet is subcooled\n",
      "217.0 30.0 137.52630767117532 0.0002651547836 96.6036498962 \n",
      "\n",
      "[  3.23199848e-01   2.78637994e+02   3.12304878e+02   3.13272302e+02\n",
      "   3.10228871e+02   3.95249905e+02]\n",
      "Note: Absorber inlet is subcooled\n"
     ]
    },
    {
     "name": "stdout",
     "output_type": "stream",
     "text": [
      "218.0 31.0 137.93492603309292 6.27051179198e-05 0.0 \n",
      "\n",
      "[  3.23510692e-01   2.78637994e+02   3.12304854e+02   3.13272145e+02\n",
      "   3.10228865e+02   3.95249905e+02]\n",
      "Note: Absorber inlet is subcooled\n",
      "219.0 31.0 138.3437832789862 7.28263703382e-05 0.0 \n",
      "\n",
      "[  3.23043078e-01   2.78637989e+02   3.12304881e+02   3.13272146e+02\n",
      "   3.10228874e+02   3.95249904e+02]\n",
      "Note: Absorber inlet is subcooled\n",
      "220.0 31.0 137.7298352782445 5.81412976511e-05 30.2527135588 \n",
      "\n",
      "[  3.23298881e-01   2.78637994e+02   3.12304871e+02   3.13272146e+02\n",
      "   3.10228869e+02   3.95249905e+02]\n",
      "Note: Absorber inlet is subcooled\n",
      "221.0 31.0 138.0648716512608 6.57668283439e-05 0.0 \n",
      "\n",
      "[  3.23200198e-01   2.78637994e+02   3.12304878e+02   3.13272146e+02\n",
      "   3.10228921e+02   3.95249905e+02]\n",
      "Note: Absorber inlet is subcooled\n",
      "222.0 31.0 137.93406342834837 6.27004958696e-05 0.0 \n",
      "\n",
      "[  3.23100284e-01   2.78637991e+02   3.12304880e+02   3.13272146e+02\n",
      "   3.10228923e+02   3.95249904e+02]\n",
      "Note: Absorber inlet is subcooled\n",
      "223.0 31.0 137.80325649488984 5.9752197614e-05 11.2269654583 \n",
      "\n",
      "[  3.23201711e-01   2.78637944e+02   3.12304878e+02   3.13272146e+02\n",
      "   3.10228921e+02   3.95249905e+02]\n",
      "Note: Absorber inlet is subcooled\n",
      "224.0 31.0 137.93437475328474 6.26599586024e-05 0.0 \n",
      "\n",
      "[  3.23299823e-01   2.78637997e+02   3.12304870e+02   3.13272146e+02\n",
      "   3.10228919e+02   3.95249905e+02]\n",
      "Note: Absorber inlet is subcooled\n",
      "225.0 32.0 138.0648863875587 1.1555744577e-05 0.0 \n",
      "\n",
      "[  3.23196277e-01   2.78637994e+02   3.12304828e+02   3.13272146e+02\n",
      "   3.10228921e+02   3.95249905e+02]\n",
      "Note: Absorber inlet is subcooled\n",
      "226.0 32.0 137.92979221852897 1.09372746236e-05 0.0 \n",
      "\n",
      "[  3.23096349e-01   2.78637991e+02   3.12304830e+02   3.13272146e+02\n",
      "   3.10228923e+02   3.95249904e+02]\n",
      "Note: Absorber inlet is subcooled\n",
      "227.0 32.0 137.7989944411681 1.03703770245e-05 16.4138635888 \n",
      "\n"
     ]
    },
    {
     "data": {
      "text/plain": [
       "     fun: 154.21286840036998\n",
       "   maxcv: 0.0\n",
       " message: 'Optimization terminated successfully.'\n",
       "    nfev: 52\n",
       "  status: 1\n",
       " success: True\n",
       "       x: array([  3.23096349e-01,   2.78637991e+02,   3.12304830e+02,\n",
       "         3.13272146e+02,   3.10228923e+02,   3.95249904e+02])"
      ]
     },
     "execution_count": 159,
     "metadata": {},
     "output_type": "execute_result"
    }
   ],
   "source": [
    "P.n_calls = 7 * numpy.floor(P.n_calls / 7)\n",
    "opt = scipy.optimize.minimize(P.objective, x2, method=\"COBYLA\",\n",
    "                              constraints=P.constraints, callback=P.callback,\n",
    "                              options={'disp':True,'maxiter':100,'rhobeg':0.01})\n",
    "opt"
   ]
  },
  {
   "cell_type": "code",
   "execution_count": 182,
   "metadata": {},
   "outputs": [
    {
     "data": {
      "text/plain": [
       "array([  3.23096349e-01,   2.78637991e+02,   3.12304830e+02,\n",
       "         3.13272146e+02,   3.10228923e+02,   3.95249904e+02])"
      ]
     },
     "execution_count": 182,
     "metadata": {},
     "output_type": "execute_result"
    }
   ],
   "source": [
    "x2 = opt.x\n",
    "x2"
   ]
  },
  {
   "cell_type": "code",
   "execution_count": 161,
   "metadata": {},
   "outputs": [
    {
     "data": {
      "text/html": [
       "<h3>State points</h3>\n",
       "        <table>\n",
       "<thead>\n",
       "<tr><th>                         </th><th style=\"text-align: right;\">      T</th><th style=\"text-align: right;\">       P</th><th style=\"text-align: right;\">       x</th><th style=\"text-align: right;\">        h</th><th style=\"text-align: right;\">       s</th><th style=\"text-align: right;\">        u</th><th style=\"text-align: right;\">         v</th><th style=\"text-align: right;\">        Qu</th></tr>\n",
       "</thead>\n",
       "<tbody>\n",
       "<tr><td>rich_abs_outlet          </td><td style=\"text-align: right;\">310.229</td><td style=\"text-align: right;\"> 4.99213</td><td style=\"text-align: right;\">0.517237</td><td style=\"text-align: right;\"> -72.9791</td><td style=\"text-align: right;\">0.394813</td><td style=\"text-align: right;\"> -73.5949</td><td style=\"text-align: right;\">0.00123348</td><td style=\"text-align: right;\"> 0        </td></tr>\n",
       "<tr><td>rich_pump_outlet         </td><td style=\"text-align: right;\">310.394</td><td style=\"text-align: right;\">15.1992 </td><td style=\"text-align: right;\">0.517237</td><td style=\"text-align: right;\"> -71.4056</td><td style=\"text-align: right;\">0.395827</td><td style=\"text-align: right;\"> -73.2797</td><td style=\"text-align: right;\">0.00123301</td><td style=\"text-align: right;\">-0.001    </td></tr>\n",
       "<tr><td>rich_shx_outlet          </td><td style=\"text-align: right;\">350.055</td><td style=\"text-align: right;\">15.1992 </td><td style=\"text-align: right;\">0.517237</td><td style=\"text-align: right;\"> 110.147 </td><td style=\"text-align: right;\">0.946042</td><td style=\"text-align: right;\"> 108.164 </td><td style=\"text-align: right;\">0.00130451</td><td style=\"text-align: right;\">-0.001    </td></tr>\n",
       "<tr><td>rich_gen_sat_liquid      </td><td style=\"text-align: right;\">351.206</td><td style=\"text-align: right;\">15.1992 </td><td style=\"text-align: right;\">0.517237</td><td style=\"text-align: right;\"> 115.56  </td><td style=\"text-align: right;\">0.961482</td><td style=\"text-align: right;\"> 113.573 </td><td style=\"text-align: right;\">0.00130711</td><td style=\"text-align: right;\"> 0        </td></tr>\n",
       "<tr><td>weak_gen_outlet          </td><td style=\"text-align: right;\">395.25 </td><td style=\"text-align: right;\">15.1992 </td><td style=\"text-align: right;\">0.300604</td><td style=\"text-align: right;\"> 347.435 </td><td style=\"text-align: right;\">1.53761 </td><td style=\"text-align: right;\"> 345.533 </td><td style=\"text-align: right;\">0.00125114</td><td style=\"text-align: right;\"> 0        </td></tr>\n",
       "<tr><td>weak_shx_outlet          </td><td style=\"text-align: right;\">336.536</td><td style=\"text-align: right;\">15.1992 </td><td style=\"text-align: right;\">0.300604</td><td style=\"text-align: right;\">  84.3913</td><td style=\"text-align: right;\">0.817873</td><td style=\"text-align: right;\">  82.6393</td><td style=\"text-align: right;\">0.0011527 </td><td style=\"text-align: right;\">-0.001    </td></tr>\n",
       "<tr><td>weak_exp_outlet          </td><td style=\"text-align: right;\">336.713</td><td style=\"text-align: right;\"> 4.99213</td><td style=\"text-align: right;\">0.300604</td><td style=\"text-align: right;\">  84.3913</td><td style=\"text-align: right;\">0.821369</td><td style=\"text-align: right;\">  83.8154</td><td style=\"text-align: right;\">0.00115351</td><td style=\"text-align: right;\">-0.001    </td></tr>\n",
       "<tr><td>gen_vapor_outlet         </td><td style=\"text-align: right;\">351.206</td><td style=\"text-align: right;\">15.1992 </td><td style=\"text-align: right;\">0.988756</td><td style=\"text-align: right;\">1421.67  </td><td style=\"text-align: right;\">4.56463 </td><td style=\"text-align: right;\">1266.29  </td><td style=\"text-align: right;\">0.102232  </td><td style=\"text-align: right;\"> 1        </td></tr>\n",
       "<tr><td>gen_reflux_inlet         </td><td style=\"text-align: right;\">351.206</td><td style=\"text-align: right;\">15.1992 </td><td style=\"text-align: right;\">0.517235</td><td style=\"text-align: right;\"> 115.557 </td><td style=\"text-align: right;\">0.961473</td><td style=\"text-align: right;\"> 113.57  </td><td style=\"text-align: right;\">0.00130711</td><td style=\"text-align: right;\"> 0        </td></tr>\n",
       "<tr><td>refrig_rect_outlet       </td><td style=\"text-align: right;\">313.272</td><td style=\"text-align: right;\">15.1992 </td><td style=\"text-align: right;\">0.999869</td><td style=\"text-align: right;\">1293.92  </td><td style=\"text-align: right;\">4.18118 </td><td style=\"text-align: right;\">1164.05  </td><td style=\"text-align: right;\">0.0854417 </td><td style=\"text-align: right;\"> 0.997783 </td></tr>\n",
       "<tr><td>refrig_cond_outlet       </td><td style=\"text-align: right;\">312.305</td><td style=\"text-align: right;\">15.1992 </td><td style=\"text-align: right;\">0.999869</td><td style=\"text-align: right;\"> 186.732 </td><td style=\"text-align: right;\">0.644028</td><td style=\"text-align: right;\"> 184.105 </td><td style=\"text-align: right;\">0.00172869</td><td style=\"text-align: right;\"> 0        </td></tr>\n",
       "<tr><td>refrig_cehx_liquid_outlet</td><td style=\"text-align: right;\">295.393</td><td style=\"text-align: right;\">15.1992 </td><td style=\"text-align: right;\">0.999869</td><td style=\"text-align: right;\"> 104.452 </td><td style=\"text-align: right;\">0.373417</td><td style=\"text-align: right;\"> 101.946 </td><td style=\"text-align: right;\">0.00164842</td><td style=\"text-align: right;\">-0.001    </td></tr>\n",
       "<tr><td>refrig_exp_outlet        </td><td style=\"text-align: right;\">277.249</td><td style=\"text-align: right;\"> 4.99213</td><td style=\"text-align: right;\">0.999869</td><td style=\"text-align: right;\"> 104.452 </td><td style=\"text-align: right;\">0.387603</td><td style=\"text-align: right;\">  95.1713</td><td style=\"text-align: right;\">0.0185898 </td><td style=\"text-align: right;\"> 0.0682992</td></tr>\n",
       "<tr><td>refrig_evap_outlet       </td><td style=\"text-align: right;\">278.638</td><td style=\"text-align: right;\"> 4.99213</td><td style=\"text-align: right;\">0.999869</td><td style=\"text-align: right;\">1273.79  </td><td style=\"text-align: right;\">4.58715 </td><td style=\"text-align: right;\">1148.02  </td><td style=\"text-align: right;\">0.252636  </td><td style=\"text-align: right;\"> 0.998    </td></tr>\n",
       "<tr><td>refrig_cehx_sat_vapor    </td><td style=\"text-align: right;\">284.09 </td><td style=\"text-align: right;\"> 4.99213</td><td style=\"text-align: right;\">0.999869</td><td style=\"text-align: right;\">1290.15  </td><td style=\"text-align: right;\">4.64374 </td><td style=\"text-align: right;\">1160.97  </td><td style=\"text-align: right;\">0.258776  </td><td style=\"text-align: right;\"> 1        </td></tr>\n",
       "<tr><td>refrig_cehx_vapor_outlet </td><td style=\"text-align: right;\">310.512</td><td style=\"text-align: right;\"> 4.99213</td><td style=\"text-align: right;\">0.999869</td><td style=\"text-align: right;\">1356.07  </td><td style=\"text-align: right;\">4.86496 </td><td style=\"text-align: right;\">1211.62  </td><td style=\"text-align: right;\">0.289356  </td><td style=\"text-align: right;\"> 1.001    </td></tr>\n",
       "<tr><td>rectifier_liquid         </td><td style=\"text-align: right;\">313.272</td><td style=\"text-align: right;\">15.1992 </td><td style=\"text-align: right;\">0.973847</td><td style=\"text-align: right;\"> 172.236 </td><td style=\"text-align: right;\">0.666416</td><td style=\"text-align: right;\"> 169.66  </td><td style=\"text-align: right;\">0.00169463</td><td style=\"text-align: right;\"> 0        </td></tr>\n",
       "<tr><td>gen_vapor_formation      </td><td style=\"text-align: right;\">395.25 </td><td style=\"text-align: right;\">15.1992 </td><td style=\"text-align: right;\">0.895238</td><td style=\"text-align: right;\">1637.88  </td><td style=\"text-align: right;\">5.11174 </td><td style=\"text-align: right;\">1459.49  </td><td style=\"text-align: right;\">0.117368  </td><td style=\"text-align: right;\"> 1        </td></tr>\n",
       "<tr><td>abs_vapor_final          </td><td style=\"text-align: right;\">336.713</td><td style=\"text-align: right;\"> 4.99213</td><td style=\"text-align: right;\">0.974155</td><td style=\"text-align: right;\">1446.98  </td><td style=\"text-align: right;\">5.14349 </td><td style=\"text-align: right;\">1288.81  </td><td style=\"text-align: right;\">0.316831  </td><td style=\"text-align: right;\"> 1        </td></tr>\n",
       "</tbody>\n",
       "</table>\n",
       "        <br/>\n",
       "        <h3>Performance variables</h3>\n",
       "        <table>\n",
       "<thead>\n",
       "<tr><th>name                   </th><th>unit  </th><th style=\"text-align: right;\">         value</th></tr>\n",
       "</thead>\n",
       "<tbody>\n",
       "<tr><td>Q_abs                  </td><td>kW    </td><td style=\"text-align: right;\">-178.135      </td></tr>\n",
       "<tr><td>Q_gen                  </td><td>kW    </td><td style=\"text-align: right;\"> 187.274      </td></tr>\n",
       "<tr><td>Q_cond                 </td><td>kW    </td><td style=\"text-align: right;\">-110.824      </td></tr>\n",
       "<tr><td>Q_evap                 </td><td>kW    </td><td style=\"text-align: right;\"> 117.045      </td></tr>\n",
       "<tr><td>Q_reflux               </td><td>kW    </td><td style=\"text-align: right;\"> -15.8689     </td></tr>\n",
       "<tr><td>Q_shx                  </td><td>kW    </td><td style=\"text-align: right;\">  58.659      </td></tr>\n",
       "<tr><td>Q_cehx                 </td><td>kW    </td><td style=\"text-align: right;\">   8.23591    </td></tr>\n",
       "<tr><td>W_pump                 </td><td>kW    </td><td style=\"text-align: right;\">   0.508389   </td></tr>\n",
       "<tr><td>COP                    </td><td>kW/kW </td><td style=\"text-align: right;\">   0.624994   </td></tr>\n",
       "<tr><td>ZeroCheck              </td><td>kW    </td><td style=\"text-align: right;\">   2.9251e-05 </td></tr>\n",
       "<tr><td>ZeroCheckSHX           </td><td>kW    </td><td style=\"text-align: right;\">   5.39052e-06</td></tr>\n",
       "<tr><td>ZeroCheckCEHX          </td><td>kW    </td><td style=\"text-align: right;\">  -1.90222e-05</td></tr>\n",
       "<tr><td>Q_gen_rect_combo       </td><td>kW    </td><td style=\"text-align: right;\"> 171.405      </td></tr>\n",
       "<tr><td>Q_refrig_side          </td><td>kW    </td><td style=\"text-align: right;\">  -6.22118    </td></tr>\n",
       "<tr><td>ZeroCheckRect          </td><td>kg/s  </td><td style=\"text-align: right;\">   1.38778e-17</td></tr>\n",
       "<tr><td>m_rich                 </td><td>kg/s  </td><td style=\"text-align: right;\">   0.323096   </td></tr>\n",
       "<tr><td>m_weak                 </td><td>kg/s  </td><td style=\"text-align: right;\">   0.223001   </td></tr>\n",
       "<tr><td>m_gen_vapor            </td><td>kg/s  </td><td style=\"text-align: right;\">   0.102454   </td></tr>\n",
       "<tr><td>m_gen_reflux           </td><td>kg/s  </td><td style=\"text-align: right;\">   0.00235899 </td></tr>\n",
       "<tr><td>m_refrig               </td><td>kg/s  </td><td style=\"text-align: right;\">   0.100095   </td></tr>\n",
       "<tr><td>check_rectifier_delta_T</td><td>K     </td><td style=\"text-align: right;\">  37.9343     </td></tr>\n",
       "<tr><td>is_degenerate          </td><td>bool  </td><td style=\"text-align: right;\">   0          </td></tr>\n",
       "</tbody>\n",
       "</table>\n",
       "        "
      ],
      "text/plain": [
       "                                 T         P         x          h         s          u           v          Qu\n",
       "-------------------------  -------  --------  --------  ---------  --------  ---------  ----------  ----------\n",
       "rich_abs_outlet            310.229   4.99213  0.517237   -72.9791  0.394813   -73.5949  0.00123348   0\n",
       "rich_pump_outlet           310.394  15.1992   0.517237   -71.4056  0.395827   -73.2797  0.00123301  -0.001\n",
       "rich_shx_outlet            350.055  15.1992   0.517237   110.147   0.946042   108.164   0.00130451  -0.001\n",
       "rich_gen_sat_liquid        351.206  15.1992   0.517237   115.56    0.961482   113.573   0.00130711   0\n",
       "weak_gen_outlet            395.25   15.1992   0.300604   347.435   1.53761    345.533   0.00125114   0\n",
       "weak_shx_outlet            336.536  15.1992   0.300604    84.3913  0.817873    82.6393  0.0011527   -0.001\n",
       "weak_exp_outlet            336.713   4.99213  0.300604    84.3913  0.821369    83.8154  0.00115351  -0.001\n",
       "gen_vapor_outlet           351.206  15.1992   0.988756  1421.67    4.56463   1266.29    0.102232     1\n",
       "gen_reflux_inlet           351.206  15.1992   0.517235   115.557   0.961473   113.57    0.00130711   0\n",
       "refrig_rect_outlet         313.272  15.1992   0.999869  1293.92    4.18118   1164.05    0.0854417    0.997783\n",
       "refrig_cond_outlet         312.305  15.1992   0.999869   186.732   0.644028   184.105   0.00172869   0\n",
       "refrig_cehx_liquid_outlet  295.393  15.1992   0.999869   104.452   0.373417   101.946   0.00164842  -0.001\n",
       "refrig_exp_outlet          277.249   4.99213  0.999869   104.452   0.387603    95.1713  0.0185898    0.0682992\n",
       "refrig_evap_outlet         278.638   4.99213  0.999869  1273.79    4.58715   1148.02    0.252636     0.998\n",
       "refrig_cehx_sat_vapor      284.09    4.99213  0.999869  1290.15    4.64374   1160.97    0.258776     1\n",
       "refrig_cehx_vapor_outlet   310.512   4.99213  0.999869  1356.07    4.86496   1211.62    0.289356     1.001\n",
       "rectifier_liquid           313.272  15.1992   0.973847   172.236   0.666416   169.66    0.00169463   0\n",
       "gen_vapor_formation        395.25   15.1992   0.895238  1637.88    5.11174   1459.49    0.117368     1\n",
       "abs_vapor_final            336.713   4.99213  0.974155  1446.98    5.14349   1288.81    0.316831     1\n",
       "name                     unit             value\n",
       "-----------------------  ------  --------------\n",
       "Q_abs                    kW      -178.135\n",
       "Q_gen                    kW       187.274\n",
       "Q_cond                   kW      -110.824\n",
       "Q_evap                   kW       117.045\n",
       "Q_reflux                 kW       -15.8689\n",
       "Q_shx                    kW        58.659\n",
       "Q_cehx                   kW         8.23591\n",
       "W_pump                   kW         0.508389\n",
       "COP                      kW/kW      0.624994\n",
       "ZeroCheck                kW         2.9251e-05\n",
       "ZeroCheckSHX             kW         5.39052e-06\n",
       "ZeroCheckCEHX            kW        -1.90222e-05\n",
       "Q_gen_rect_combo         kW       171.405\n",
       "Q_refrig_side            kW        -6.22118\n",
       "ZeroCheckRect            kg/s       1.38778e-17\n",
       "m_rich                   kg/s       0.323096\n",
       "m_weak                   kg/s       0.223001\n",
       "m_gen_vapor              kg/s       0.102454\n",
       "m_gen_reflux             kg/s       0.00235899\n",
       "m_refrig                 kg/s       0.100095\n",
       "check_rectifier_delta_T  K         37.9343\n",
       "is_degenerate            bool       0"
      ]
     },
     "metadata": {},
     "output_type": "display_data"
    }
   ],
   "source": [
    "ch2 = system_aqua1.makeChiller(x2)\n",
    "display(ch2)"
   ]
  },
  {
   "cell_type": "code",
   "execution_count": 162,
   "metadata": {},
   "outputs": [
    {
     "data": {
      "text/plain": [
       "[0.22309634851689678,\n",
       " 0.67690365148310327,\n",
       " 32.666838464731313,\n",
       " 0.86731647569055215,\n",
       " 21.590932006864364,\n",
       " 80.97775799049748,\n",
       " 84.020980924054982]"
      ]
     },
     "execution_count": 162,
     "metadata": {},
     "output_type": "execute_result"
    }
   ],
   "source": [
    "P.constraint(x2)"
   ]
  },
  {
   "cell_type": "code",
   "execution_count": 163,
   "metadata": {},
   "outputs": [
    {
     "name": "stdout",
     "output_type": "stream",
     "text": [
      "Note: Absorber inlet is subcooled\n"
     ]
    },
    {
     "name": "stderr",
     "output_type": "stream",
     "text": [
      "C:\\Users\\nfette\\Miniconda3\\envs\\openACHP\\lib\\site-packages\\scipy\\interpolate\\_cubic.py:147: RuntimeWarning: divide by zero encountered in true_divide\n",
      "  mk = (y[1:] - y[:-1]) / hk\n",
      "C:\\Users\\nfette\\Miniconda3\\envs\\openACHP\\lib\\site-packages\\scipy\\interpolate\\_cubic.py:165: RuntimeWarning: invalid value encountered in true_divide\n",
      "  whmean = (w1/mk[:-1] + w2/mk[1:]) / (w1 + w2)\n"
     ]
    },
    {
     "data": {
      "text/html": [
       "<table>\n",
       "<thead>\n",
       "<tr><th>name  </th><th style=\"text-align: right;\">  deltaT</th><th style=\"text-align: right;\">  epsilon</th><th style=\"text-align: right;\">       UA</th><th style=\"text-align: right;\">       Q</th></tr>\n",
       "</thead>\n",
       "<tbody>\n",
       "<tr><td>gen   </td><td style=\"text-align: right;\">4.75025 </td><td style=\"text-align: right;\"> 0.92018 </td><td style=\"text-align: right;\"> 28.5516 </td><td style=\"text-align: right;\">187.274 </td></tr>\n",
       "<tr><td>rect  </td><td style=\"text-align: right;\">8.15244 </td><td style=\"text-align: right;\"> 0.782637</td><td style=\"text-align: right;\">  1.12489</td><td style=\"text-align: right;\"> 15.8689</td></tr>\n",
       "<tr><td>abs   </td><td style=\"text-align: right;\">1.1977  </td><td style=\"text-align: right;\"> 0.940514</td><td style=\"text-align: right;\"> 42.4473 </td><td style=\"text-align: right;\">178.135 </td></tr>\n",
       "<tr><td>cond  </td><td style=\"text-align: right;\">2.31615 </td><td style=\"text-align: right;\"> 0.96672 </td><td style=\"text-align: right;\"> 26.5502 </td><td style=\"text-align: right;\">110.824 </td></tr>\n",
       "<tr><td>evap  </td><td style=\"text-align: right;\">0.749386</td><td style=\"text-align: right;\"> 0.983799</td><td style=\"text-align: right;\"> 39.125  </td><td style=\"text-align: right;\">117.045 </td></tr>\n",
       "<tr><td>total </td><td style=\"text-align: right;\">0       </td><td style=\"text-align: right;\"> 0       </td><td style=\"text-align: right;\">137.799  </td><td style=\"text-align: right;\">  0     </td></tr>\n",
       "</tbody>\n",
       "</table>"
      ],
      "text/plain": [
       "name      deltaT    epsilon        UA         Q\n",
       "------  --------  ---------  --------  --------\n",
       "gen     4.75025    0.92018   28.5516   187.274\n",
       "rect    8.15244    0.782637   1.12489   15.8689\n",
       "abs     1.1977     0.940514  42.4473   178.135\n",
       "cond    2.31615    0.96672   26.5502   110.824\n",
       "evap    0.749386   0.983799  39.125    117.045\n",
       "totalUA = 137.7989944411681"
      ]
     },
     "execution_count": 163,
     "metadata": {},
     "output_type": "execute_result"
    }
   ],
   "source": [
    "sys2 = system_aqua1.System(bdry, ch2)\n",
    "sys2"
   ]
  },
  {
   "cell_type": "code",
   "execution_count": 183,
   "metadata": {},
   "outputs": [
    {
     "name": "stdout",
     "output_type": "stream",
     "text": [
      "Note: Absorber inlet is subcooled\n"
     ]
    },
    {
     "name": "stderr",
     "output_type": "stream",
     "text": [
      "C:\\Users\\nfette\\Miniconda3\\envs\\openACHP\\lib\\site-packages\\scipy\\interpolate\\_cubic.py:147: RuntimeWarning: divide by zero encountered in true_divide\n",
      "  mk = (y[1:] - y[:-1]) / hk\n",
      "C:\\Users\\nfette\\Miniconda3\\envs\\openACHP\\lib\\site-packages\\scipy\\interpolate\\_cubic.py:165: RuntimeWarning: invalid value encountered in true_divide\n",
      "  whmean = (w1/mk[:-1] + w2/mk[1:]) / (w1 + w2)\n"
     ]
    },
    {
     "name": "stdout",
     "output_type": "stream",
     "text": [
      "Note: Absorber inlet is subcooled\n",
      "Note: Absorber inlet is subcooled\n",
      "Note: Absorber inlet is subcooled\n"
     ]
    },
    {
     "name": "stderr",
     "output_type": "stream",
     "text": [
      "C:\\Users\\nfette\\Miniconda3\\envs\\openACHP\\lib\\site-packages\\scipy\\integrate\\quadpack.py:364: IntegrationWarning: The maximum number of subdivisions (50) has been achieved.\n",
      "  If increasing the limit yields no improvement it is advised to analyze \n",
      "  the integrand in order to determine the difficulties.  If the position of a \n",
      "  local difficulty can be determined (singularity, discontinuity) one will \n",
      "  probably gain from splitting up the interval and calling the integrator \n",
      "  on the subranges.  Perhaps a special-purpose integrator should be used.\n",
      "  warnings.warn(msg, IntegrationWarning)\n"
     ]
    },
    {
     "name": "stdout",
     "output_type": "stream",
     "text": [
      "Note: Absorber inlet is subcooled\n",
      "Note: Absorber inlet is subcooled\n",
      "Note: Absorber inlet is subcooled\n",
      "Note: Absorber inlet is subcooled\n",
      "Note: Absorber inlet is subcooled\n",
      "Note: Absorber inlet is subcooled\n",
      "Note: Absorber inlet is subcooled\n",
      "Note: Absorber inlet is subcooled\n",
      "Note: Absorber inlet is subcooled\n",
      "Note: Absorber inlet is subcooled\n",
      "Note: Absorber inlet is subcooled\n",
      "Note: Absorber inlet is subcooled\n",
      "Note: Absorber inlet is subcooled\n",
      "Note: Absorber inlet is subcooled\n",
      "Note: Absorber inlet is subcooled\n",
      "Note: Absorber inlet is subcooled\n",
      "Note: Absorber inlet is subcooled\n",
      "Note: Absorber inlet is subcooled\n",
      "Note: Absorber inlet is subcooled\n",
      "Note: Absorber inlet is subcooled\n"
     ]
    },
    {
     "name": "stderr",
     "output_type": "stream",
     "text": [
      "C:\\Users\\nfette\\Miniconda3\\envs\\openACHP\\lib\\site-packages\\scipy\\integrate\\quadpack.py:364: IntegrationWarning: The occurrence of roundoff error is detected, which prevents \n",
      "  the requested tolerance from being achieved.  The error may be \n",
      "  underestimated.\n",
      "  warnings.warn(msg, IntegrationWarning)\n"
     ]
    },
    {
     "name": "stdout",
     "output_type": "stream",
     "text": [
      "Note: Absorber inlet is subcooled\n",
      "Note: Absorber inlet is subcooled\n",
      "Note: Absorber inlet is subcooled\n",
      "Note: Absorber inlet is subcooled\n",
      "Note: Absorber inlet is subcooled\n",
      "Note: Absorber inlet is subcooled\n"
     ]
    }
   ],
   "source": [
    "box = numpy.ones_like(x2)\n",
    "box[0] = 0.05\n",
    "ss = numpy.linspace(-1,1,5)\n",
    "yyy = numpy.zeros([len(box),len(ss)])\n",
    "for i,boxi in enumerate(box):\n",
    "    yy = numpy.zeros_like(ss)\n",
    "    for j, s in enumerate(ss):\n",
    "        x_vary = x2.copy()\n",
    "        x_vary[i] += boxi * s\n",
    "        yyy[i,j] = P.objective_raw(x_vary)\n",
    "        if (numpy.array(P.constraint(x_vary)) < 0).any():\n",
    "            yyy[i,j] = numpy.nan"
   ]
  },
  {
   "cell_type": "code",
   "execution_count": 184,
   "metadata": {},
   "outputs": [
    {
     "data": {
      "text/plain": [
       "array([[  92.85015493,  111.63476306,  137.79899444,  191.02442712,\n",
       "                  inf],\n",
       "       [ 116.37203437,  125.02773452,  137.79899444,  170.21816617,\n",
       "                  inf],\n",
       "       [ 160.89854932,  147.57478175,  137.79899444,  130.09642707,\n",
       "                  nan],\n",
       "       [          nan,  137.81416839,  137.79899444,  137.78949491,\n",
       "         137.78336925],\n",
       "       [ 209.06261669,  155.59632572,  137.79899444,  126.91870377,\n",
       "         119.04386542],\n",
       "       [ 129.11684491,  133.29755777,  137.79899444,  142.67851534,\n",
       "         148.01130393]])"
      ]
     },
     "execution_count": 184,
     "metadata": {},
     "output_type": "execute_result"
    }
   ],
   "source": [
    "yyy"
   ]
  },
  {
   "cell_type": "code",
   "execution_count": 187,
   "metadata": {},
   "outputs": [
    {
     "data": {
      "image/png": "[encoded data removed]",
      "text/plain": [
       "<matplotlib.figure.Figure at 0x616b430>"
      ]
     },
     "metadata": {},
     "output_type": "display_data"
    }
   ],
   "source": [
    "plt.close('all')\n",
    "plt.figure(figsize=(10, 4))\n",
    "ax1=plt.subplot(1,len(box), 1)\n",
    "for i,_ in enumerate(box):\n",
    "    ax=plt.subplot(1, len(box), i+1, sharey=ax1)\n",
    "    xxx = x2[i] + ss * box[i]\n",
    "    plt.plot(xxx, yyy[i,:], 'o-')\n",
    "    plt.setp(ax.get_yticklabels(), visible=bool(i==0))\n",
    "    plt.xlim(min(xxx),max(xxx))\n",
    "#plt.ylim(min(yyy.flat)*0.9,min(yyy.flat))\n",
    "plt.show()"
   ]
  },
  {
   "cell_type": "markdown",
   "metadata": {},
   "source": [
    "The sensitivity plot could go further by overlaying the constraint functions. Additionally, it would be nice to find the eigenvectors of the objective function and trace in those directions, indicating how far it is to the next constraint. But that is icing on the cake, so meanwhile I will continue with this approach in a new notebook and generate some parametric study data."
   ]
  },
  {
   "cell_type": "markdown",
   "metadata": {},
   "source": [
    "# Scratch work"
   ]
  },
  {
   "cell_type": "code",
   "execution_count": 15,
   "metadata": {
    "scrolled": false
   },
   "outputs": [
    {
     "data": {
      "text/plain": [
       "(1076, 0.0)"
      ]
     },
     "execution_count": 15,
     "metadata": {},
     "output_type": "execute_result"
    }
   ],
   "source": [
    "a=5\n",
    "for i in range(9999):\n",
    "    a*=0.5\n",
    "    if a==0:\n",
    "        break\n",
    "i,a"
   ]
  },
  {
   "cell_type": "code",
   "execution_count": 25,
   "metadata": {},
   "outputs": [
    {
     "data": {
      "text/plain": [
       "array([ 0.25,  0.5 ,  0.75,  1.  ])"
      ]
     },
     "execution_count": 25,
     "metadata": {},
     "output_type": "execute_result"
    }
   ],
   "source": [
    "gradient_step = numpy.array([1.,2.,3.,4.])\n",
    "for j, _ in enumerate(gradient_step):\n",
    "    for i in range(2):\n",
    "        gradient_step[j] *= 0.5\n",
    "gradient_step"
   ]
  },
  {
   "cell_type": "code",
   "execution_count": 30,
   "metadata": {},
   "outputs": [
    {
     "data": {
      "text/plain": [
       "array([ 0.,  0.,  0.,  1.])"
      ]
     },
     "execution_count": 30,
     "metadata": {},
     "output_type": "execute_result"
    }
   ],
   "source": [
    "numpy.diag(gradient_step)[3]"
   ]
  },
  {
   "cell_type": "code",
   "execution_count": 7,
   "metadata": {},
   "outputs": [
    {
     "data": {
      "text/html": [
       "<pre id=\"TOC-markdown\">TOC will be here</pre>\n",
       "<script>\n",
       "$(\"#TOC-markdown\").html(\n",
       "    $('h1,h2,h3,h4').filter(\":has(a)\").map(function(){return \"  \".repeat($(this).prop(\"tagName\")[1]) + \"- [\"+$(this).text()+\"](\" + $(this).children().attr(\"href\") + \")\";}).get().join(\"\\n\")\n",
       "    );\n",
       "</script>"
      ],
      "text/plain": [
       "<IPython.core.display.HTML object>"
      ]
     },
     "metadata": {},
     "output_type": "display_data"
    }
   ],
   "source": [
    "%%html\n",
    "<pre id=\"TOC-markdown\">TOC will be here</pre>\n",
    "<script>\n",
    "$(\"#TOC-markdown\").html(\n",
    "    $('h1,h2,h3,h4').filter(\":has(a)\").map(function(){return \"  \".repeat($(this).prop(\"tagName\")[1]) + \"- [\"+$(this).text()+\"](\" + $(this).children().attr(\"href\") + \")\";}).get().join(\"\\n\")\n",
    "    );\n",
    "</script>"
   ]
  },
  {
   "cell_type": "code",
   "execution_count": null,
   "metadata": {
    "collapsed": true
   },
   "outputs": [],
   "source": []
  }
 ],
 "metadata": {
  "celltoolbar": "Raw Cell Format",
  "kernelspec": {
   "display_name": "Python 3",
   "language": "python",
   "name": "python3"
  },
  "language_info": {
   "codemirror_mode": {
    "name": "ipython",
    "version": 3
   },
   "file_extension": ".py",
   "mimetype": "text/x-python",
   "name": "python",
   "nbconvert_exporter": "python",
   "pygments_lexer": "ipython3",
   "version": "3.6.2"
  }
 },
 "nbformat": 4,
 "nbformat_minor": 2
}
