{
 "cells": [
  {
   "cell_type": "markdown",
   "metadata": {},
   "source": [
    "# Feasibility of ammonia-aqua chiller"
   ]
  },
  {
   "cell_type": "code",
   "execution_count": 3,
   "metadata": {},
   "outputs": [
    {
     "data": {
      "text/html": [
       "<img src=\"../img/Diagram_for_ammonia.svg\">"
      ],
      "text/plain": [
       "<IPython.core.display.HTML object>"
      ]
     },
     "metadata": {},
     "output_type": "display_data"
    }
   ],
   "source": [
    "%%html\n",
    "<img src=\"../img/Diagram_for_ammonia.svg\">"
   ]
  },
  {
   "cell_type": "markdown",
   "metadata": {},
   "source": [
    "## Definitions\n",
    "\n",
    "- $T_{evap}$ : temperature at evaporator outlet (point 13)\n",
    "- $T_{cond}$ : temperature at condenser outlet (point 10)\n",
    "- $T_{abs}$ : Temperature at absorber liquid outlet (point 1)\n",
    "- $T_{gen}$ : Temperature at generator liquid outlet (point 4)\n",
    "- $T_{rect}$ : Temperature at rectifier vapor outlet (point 9)\n",
    "- $x_{refrig}$ : The ammonia mass fraction in the refrigerant stream (points 9, 10, 11, 12, 13, 14)\n",
    "- $x_{rich}$ : The ammonia mass fraction in the rich stream (points 1, 2, 3, 3')\n",
    "- $x_{weak}$ : The ammonia mass fraction in the weak stream (points 4, 5, 6)\n",
    "- $Qu_{evap}$ : the vapor quality at the evaporator outlet (point 13) (typically less than 1 because there is some water in the refrigerant)\n",
    "\n",
    "### Generator/desorber\n",
    "\n",
    "- Assumptions are designed to give the \"best case\" of performance.\n",
    "- Assumption: vapor produced in the desorber is everywhere locally in equilibrium with the liquid.\n",
    "- Assumption: vapor flows counter to liquid, ie. from near point 4 toward point 3', so all vapor going to rectifier comes from near point 3'. This assumption affects the computation of the heat vs temperature demand curve in the desorber HX.\n",
    "- Point 3 : Rich stream entering desorber, typically subcooled.\n",
    "- Point 3' : The point in the rich stream where external heating brings it to saturated state (Qu=0).\n",
    "- Unnamed point : The vapor stream\n",
    "- Point 8 : The vapor stream leaving the desorber and entering the rectifier.\n",
    "- Point 7 : The reflux (liquid) returned from the rectifier to the desorber.\n",
    "\n",
    "### Rectifier:\n",
    "\n",
    "- Assumptions are designed to give the best case of performance, equivalent to design with infinite number of plates and size.\n",
    "- Assumption: liquid formed is everywhere locally in equilibrium with vapor, and flowing counter to it. This assumption affects the computation of the heat vs temperature demand curve.\n",
    "- Vapor stream starts at point 8 and exits at point 9.\n",
    "- Liquid stream starts at (unnamed point in equilibrium with point 9) and exits at point 7.\n",
    "\n",
    "### Absorber:\n",
    "\n",
    "- Assumption : vapor absorbed is everywhere locally in equilibrium with liquid (or absorbs into subcooled liquid with no resistance) and flowing counter to it.\n",
    "- Point 1 : Liquid outlet at equilibrium with refrigerant vapor inlet (point 14).\n",
    "- Assumption : Computation of the heat rejection demand vs temperature curve in the absorber stream (for HX calculations) depends on the weak stream inlet state (point 6) as follows:\n",
    "  - If it is subcooled, then there is an imagined segment of the process near the weak inlet where the liquid stream absorbs refrigerant without any demand for heat rejection, until the liquid stream reaches saturation and equilibrium.\n",
    "  - Saturated liquid : The vapor-liquid interface extends through the entire absorber. Absorbing an incremental amount of vapor requires an amount of heat rejection depending on the local equilibrium state and mass flow rates of liquid and vapor.\n",
    "  - Partially vapor : there is an imagined segment of the absorber near the weak stream inlet where the weak stream just rejects heat via the HX and does not absorb any vapor. Throughout that process, the liquid and vapor are in equilibrium and are represented by one state with the mass fraction of the weak stream. Upon reaching a saturated liquid state, the weak stream enters the main segment of the absorber and begins to absorb from the refrigerant stream.\n",
    "  - All vapor : there is clearly a problem with the design. But nevertheless, I cool the weak stream all the way to saturated liquid state, just as for partial vapor at inlet.\n",
    "\n",
    "### Other assumptions\n",
    "\n",
    "- For purpose of this feasibility question, neglect friction losses and resulting pressure changes."
   ]
  },
  {
   "cell_type": "markdown",
   "metadata": {},
   "source": [
    "## Constraints\n",
    "\n",
    "There are some necessary conditions for the chiller to produce refrigerant flow. I'll try to write these as inequalities, so that we can develop constraint functions that can be used in a solver or optimizer. Drawing a cycle may be feasible for cases with equality, but to actually produce cooling and compute positive mass flow, the inequalities must hold strictly."
   ]
  },
  {
   "cell_type": "markdown",
   "metadata": {},
   "source": [
    "### Initial inputs\n",
    "We assume that $Qu_{evap}$, $x_{refrig}$, $T_{evap}$, and $T_{cond}$ are given. Clearly, we must require that\n",
    "\n",
    "* $T_{evap} \\le T_{cond}$\n",
    "* $T_{cond}$ less that critical temperature at x_refrig\n",
    "* $T_{evap}$ greater than freezing temperature at x_refrig\n",
    "\n",
    "Then we'll compute $P_{evap}$ and $P_{cond}$ from the other inputs."
   ]
  },
  {
   "cell_type": "markdown",
   "metadata": {},
   "source": [
    "### Absorber\n",
    "\n",
    "This is the heart of the cooling cycle, as the absorber is the component that draws a low pressure on the evaporator. So the constraint can be viewed in terms of pressure: $P_{vapor,absorber} \\le P_{evap}$ where the subscript refers to the vapor state at equilibrium with absorber rich outlet (point 1). That is,\n",
    "\n",
    "* $P(T=T_{abs}, x=x_{rich}, Qu=0) \\le P_{evap}$\n",
    "\n",
    "In the most generous case, the refrigerant vapor would be in equilibrium with the rich liquid, so we could substitute:\n",
    "\n",
    "* $P(T=T_{abs}, x=x_{refrig}, Qu=1) \\le P_{evap}$\n",
    "\n",
    "Since the state function is monotonic and increasing wrt. T and x inputs (decreasing wrt. Qu), we could try re-writing alternate forms:\n",
    "\n",
    "* $x(T=T_{abs}, P=P_{evap}, Qu=1) \\ge x_{refrig}$, or\n",
    "* $T(P=P_{evap}, x=x_{refrig}, Qu=1) \\ge T_{abs}$\n",
    "* $Qu(T=T_{abs}, P=P_{evap}, x=x_{refrig}) \\le 1$"
   ]
  },
  {
   "cell_type": "markdown",
   "metadata": {},
   "source": [
    "### Generator\n",
    "\n",
    "For the generator to produce vapor, we merely need it to heat the inlet stream beyond saturation. (We place no requirement on the mass fraction of the vapor coming off, since the rectifier will control what is ultimately delivered as refrigerant.) So to start, we can write the constraint:\n",
    "\n",
    "* $ Qu(T=T_{gen}, P=P_{cond}, x=x_{rich}) \\ge 0 $, with alternate forms:\n",
    "  * $ x(...) \\le x_{rich}$\n",
    "  * $ P(...) \\ge P_{cond}$\n",
    "  * $ T(...) \\le T_{gen}$\n",
    "\n",
    "Although we have not previously fixed the rich stream ammonia mass fraction, $x_{rich}$, we do have a constraint on that resulting from the constraints on the absorber:\n",
    "\n",
    "$$ x_{rich} \\le x(T=T_{abs}, P=P_{evap}, Qu=0) $$\n",
    "\n",
    "Via the transitive property, this relation together with the appropriate form of the constraint gives:\n",
    "\n",
    "* $ x(T=T_{gen}, P=P_{cond}, Qu=0) \\le x(T=T_{abs}, P=P_{evap}, Qu=0) $\n",
    "\n",
    "The right hand side may be called $x_{rich,max}$, so all the alternate versions of this constraint are:\n",
    "\n",
    "* $ x(T=T_{gen}, P=P_{cond}, Qu=0) \\le x_{rich,max} $\n",
    "* $ P(T=T_{gen}, x=x_{rich,max}, Qu=0) \\ge P_{cond} $\n",
    "* $ T(x=x_{rich,max}, P=P_{cond}, Qu=0) \\le T_{gen} $\n",
    "* $ Qu(T=T_{gen}, P=P_{cond}, x=x_{rich,max}) \\ge 0 $\n",
    "\n",
    "We should note that this new inequality is necessary to guarantee vapor formation, but since we dropped the intermediate inequality, it is worthwhile to ask whether it is sufficient. Well, as more refrigerant flows, $x_{rich}$ must drop below $x_{rich,max}$ (to be able to pick up a larger ammonia mass) and this pushes up the lower limit on $T_{gen}$. However, in the limiting case as refrigerant flow drops to zero (for fixed rich solution flow), $x_{rich}$ and $x_{weak}$ converge. Considering the supply heat demand, a goal of keeping $T_{gen}$ to a minimum favors that the ammonia solution be rich as possible. Considering the heat reject load, a goal of keeping $T_{abs}$ to a maximum favors that the ammonia solution be as weak as possible. So the absorber and desorber are in disagreement; but for a barely feasible case, we can use $x_{rich,max}$."
   ]
  },
  {
   "cell_type": "markdown",
   "metadata": {},
   "source": [
    "### Rectifier\n",
    "\n",
    "The rectifier must cool and purify the ammonia content of the vapor stream to $x_{refrig}$. However, once having determined the condenser pressure, the final extent of the process, assuming equilibrium, could be specified by either $x_{refrig}$ or $T_{rect}$. But in the previous constraints we already assumed that $x_{refrig}$ was used to determine pressure levels, so here let's just constrain $T_{rect}$ this way:\n",
    "\n",
    "- $x_{refrig} \\le x(T=T_{rect}, P=P_{cond}, Qu = 1)$\n",
    "- $T_{rect} \\le T(P=P_{cond}, x=x_{refrig}, Qu = 1)$\n",
    "\n",
    "In this case, the system can produce positive cooling even when strict equality holds, so we can justify throwing away the $T_{rect}$ as an unnecessary input."
   ]
  },
  {
   "cell_type": "markdown",
   "metadata": {},
   "source": [
    "### Visualize relations between a few variables of state"
   ]
  },
  {
   "cell_type": "code",
   "execution_count": 1,
   "metadata": {
    "collapsed": true
   },
   "outputs": [],
   "source": [
    "import CoolProp\n",
    "import CoolProp.CoolProp as CP\n",
    "import numpy\n",
    "from numpy import array, inf, nan\n",
    "import matplotlib.pyplot as plt\n",
    "T0, x0, Qu0 = 350., 0.8, 1.0\n",
    "P0 = CP.PropsSI('P','T',T0,'Q',Qu0,\"REFPROP::ammonia[{}]&water[{}]\".format(x0,1.-x0))"
   ]
  },
  {
   "cell_type": "code",
   "execution_count": 2,
   "metadata": {},
   "outputs": [
    {
     "data": {
      "image/png": "[encoded data removed]",
      "text/plain": [
       "<matplotlib.figure.Figure at 0x7ea7390>"
      ]
     },
     "metadata": {},
     "output_type": "display_data"
    }
   ],
   "source": [
    "T = numpy.linspace(300,400)\n",
    "Qu = numpy.linspace(0,1)\n",
    "x = numpy.linspace(0.4,0.99)\n",
    "\n",
    "plt.close('all')\n",
    "fig = plt.figure(figsize=[10,4])\n",
    "\n",
    "#CP.PropsSI('P','T',350, 'Q',1,\"REFPROP::ammonia[0.1]&water[0.9]\")\n",
    "P_vs_T = CP.PropsSI('P','T',T,'Q',Qu0,\"REFPROP::ammonia[{}]&water[{}]\".format(x0,1.-x0))\n",
    "fig.add_subplot(131)\n",
    "plt.plot(T, P_vs_T)\n",
    "plt.plot(T0, P0, 'o')\n",
    "plt.xlabel('T')\n",
    "plt.ylabel('P')\n",
    "\n",
    "P_vs_Qu = CP.PropsSI('P','T',T0,'Q',Qu,\"REFPROP::ammonia[{}]&water[{}]\".format(x0,1.-x0))\n",
    "fig.add_subplot(132)\n",
    "plt.plot(Qu, P_vs_Qu)\n",
    "plt.plot(Qu0, P0, 'o')\n",
    "plt.xlabel('Qu')\n",
    "\n",
    "P_vs_x = array([CP.PropsSI('P','T',T0,'Q',Qu0,\"REFPROP::ammonia[{}]&water[{}]\".format(xi,1.-xi))\n",
    "                for xi in x])\n",
    "fig.add_subplot(133)\n",
    "plt.plot(x, P_vs_x)\n",
    "plt.plot(x0, P0, 'o')\n",
    "plt.xlabel('x')\n",
    "\n",
    "plt.show()"
   ]
  },
  {
   "cell_type": "code",
   "execution_count": 15,
   "metadata": {},
   "outputs": [
    {
     "data": {
      "image/png": "[encoded data removed]",
      "text/plain": [
       "<matplotlib.figure.Figure at 0xa3c6cb0>"
      ]
     },
     "metadata": {},
     "output_type": "display_data"
    }
   ],
   "source": [
    "qt5 = False\n",
    "if qt5:\n",
    "    %matplotlib qt5\n",
    "else:\n",
    "    %matplotlib inline\n",
    "plt.close('all')\n",
    "fig = plt.figure(figsize=[10,4])\n",
    "ax1=fig.add_subplot(131)\n",
    "ax1.set_ylim(0,1)\n",
    "ax1.set_xlim(6e4, 6e5)\n",
    "ax1.set_ylabel('x')\n",
    "ax1.set_xlabel('P')\n",
    "\n",
    "ax2=fig.add_subplot(132)\n",
    "ax2.set_ylim(0,1)\n",
    "ax2.set_xlim(3e2, 4e2)\n",
    "ax2.set_xlabel('T')\n",
    "\n",
    "ax3=fig.add_subplot(133)\n",
    "ax3.set_ylim(0,1)\n",
    "ax3.set_xlim(-1e-2, 1+1e-2)\n",
    "ax3.set_xlabel('Qu')\n",
    "\n",
    "if qt5:\n",
    "    ax1.plot(P0, x0, 'o')\n",
    "    ax2.plot(T0, x0, 'o')\n",
    "    ax3.plot(Qu0, x0, 'o')\n",
    "\n",
    "pointopts = dict(color='grey', alpha=0.5, markersize=5.)\n",
    "\n",
    "CPRP = CoolProp.AbstractState(\"REFPROP\",\"ammonia&water\")\n",
    "PTQ = numpy.empty([3,len(x)])\n",
    "PTQ.fill(nan)\n",
    "try:\n",
    "    for i,xi in enumerate(x):\n",
    "        #print(\"Case\", i, flush=True)\n",
    "        if i > 45:\n",
    "            continue\n",
    "        CPRP.set_mole_fractions([xi,1-xi])\n",
    "        try:\n",
    "            CPRP.update(CoolProp.QT_INPUTS,Qu0,T0)\n",
    "            pi = CPRP.p()\n",
    "        except ValueError:\n",
    "            pi = nan\n",
    "            \n",
    "        try:\n",
    "            CPRP.update(CoolProp.PQ_INPUTS,P0,Qu0)\n",
    "            ti = CPRP.T()\n",
    "        except ValueError:\n",
    "            ti = nan\n",
    "            \n",
    "        try:\n",
    "            CPRP.update(CoolProp.PT_INPUTS,P0,T0)\n",
    "            qi = CPRP.Q()\n",
    "        except ValueError:\n",
    "            qi = nan\n",
    "        if qt5:\n",
    "            ax1.plot(pi, xi, 'o', **pointopts)\n",
    "            ax2.plot(ti, xi, 'o', **pointopts)\n",
    "            ax3.plot(qi, xi, 'o', **pointopts)\n",
    "            fig.canvas.draw()\n",
    "            fig.canvas.flush_events()\n",
    "        else:\n",
    "            PTQ[:,i] = pi, ti, qi\n",
    "except:\n",
    "    pass\n",
    "\n",
    "if not qt5:\n",
    "    ax1.plot(PTQ[0,:], x)\n",
    "    ax2.plot(PTQ[1,:], x)\n",
    "    ax3.plot(PTQ[2,:], x)\n",
    "    ax1.plot(P0, x0, 'o')\n",
    "    ax2.plot(T0, x0, 'o')\n",
    "    ax3.plot(Qu0, x0, 'o')\n",
    "\n",
    "    plt.show()"
   ]
  },
  {
   "cell_type": "code",
   "execution_count": 4,
   "metadata": {},
   "outputs": [
    {
     "data": {
      "text/plain": [
       "array([[  6.71149408e+04,   6.83799601e+04,   6.96941067e+04,\n",
       "          7.10603106e+04,   7.24817414e+04,   7.39618337e+04,\n",
       "          7.55043155e+04,   7.71132405e+04,   7.87930247e+04,\n",
       "          8.05484880e+04,   8.23849023e+04,   8.43080458e+04,\n",
       "          8.63242662e+04,   8.84405528e+04,   9.06646211e+04,\n",
       "          9.30050103e+04,   9.54711969e+04,   9.80737293e+04,\n",
       "          1.00824385e+05,   1.03736355e+05,   1.06824470e+05,\n",
       "          1.10105461e+05,   1.13598279e+05,   1.17324481e+05,\n",
       "          1.21308701e+05,   1.25579223e+05,   1.30168696e+05,\n",
       "          1.35115017e+05,   1.40462448e+05,   1.46263030e+05,\n",
       "          1.52578397e+05,   1.59482124e+05,   1.67062815e+05,\n",
       "          1.75428213e+05,   1.84710751e+05,   1.95075182e+05,\n",
       "          2.06729267e+05,   2.19939069e+05,   2.35051373e+05,\n",
       "          2.52527498e+05,   2.72995957e+05,   2.97337675e+05,\n",
       "          3.26830378e+05,   3.63407195e+05,   4.10153234e+05,\n",
       "          4.72348262e+05,              nan,              nan,\n",
       "                     nan,              nan],\n",
       "       [  3.75547417e+02,   3.75019858e+02,   3.74483764e+02,\n",
       "          3.73938788e+02,   3.73384613e+02,   3.72820872e+02,\n",
       "          3.72247181e+02,   3.71663133e+02,   3.71068290e+02,\n",
       "          3.70462187e+02,   3.69844326e+02,   3.69214173e+02,\n",
       "          3.68571154e+02,   3.67914652e+02,   3.67244000e+02,\n",
       "          3.66558480e+02,   3.65857314e+02,   3.65139657e+02,\n",
       "          3.64404592e+02,   3.63651117e+02,   3.62878138e+02,\n",
       "          3.62084454e+02,   3.61268745e+02,   3.60429583e+02,\n",
       "          3.59565304e+02,   3.58674138e+02,   3.57754085e+02,\n",
       "          3.56802903e+02,   3.55818065e+02,   3.54796710e+02,\n",
       "          3.53735581e+02,   3.52630947e+02,   3.51478500e+02,\n",
       "          3.50273233e+02,   3.49009277e+02,   3.47679682e+02,\n",
       "          3.46276134e+02,   3.44788559e+02,   3.43204589e+02,\n",
       "          3.41508778e+02,   3.39681473e+02,   3.37697093e+02,\n",
       "          3.35521412e+02,   3.33107064e+02,   3.30385607e+02,\n",
       "          3.27252420e+02,              nan,              nan,\n",
       "                     nan,              nan],\n",
       "       [  3.88166232e-01,   4.06583677e-01,   4.25001122e-01,\n",
       "          4.43418567e-01,   4.61836012e-01,   4.80253457e-01,\n",
       "          4.98670902e-01,   5.17088348e-01,   5.35505793e-01,\n",
       "          5.53923238e-01,   5.72340683e-01,   5.90758128e-01,\n",
       "          6.09175573e-01,   6.27593018e-01,   6.46010463e-01,\n",
       "          6.64427908e-01,   6.82845353e-01,   7.01262798e-01,\n",
       "          7.19680243e-01,   7.38097688e-01,   7.56515133e-01,\n",
       "          7.74932578e-01,   7.93350024e-01,   8.11767469e-01,\n",
       "          8.30184914e-01,   8.48602359e-01,   8.67019804e-01,\n",
       "          8.85437249e-01,   9.03854692e-01,   9.22272137e-01,\n",
       "          9.40689583e-01,   9.59107028e-01,   9.77524474e-01,\n",
       "          9.95941919e-01,   1.00024030e+00,   1.00056970e+00,\n",
       "          1.00092735e+00,   1.00131936e+00,   1.00175372e+00,\n",
       "          1.00224115e+00,   1.00279639e+00,   1.00344029e+00,\n",
       "          1.00420345e+00,   1.00513277e+00,   1.00630436e+00,\n",
       "          1.00785129e+00,              nan,              nan,\n",
       "                     nan,              nan]])"
      ]
     },
     "execution_count": 4,
     "metadata": {},
     "output_type": "execute_result"
    }
   ],
   "source": [
    "PTQ"
   ]
  },
  {
   "cell_type": "code",
   "execution_count": 57,
   "metadata": {},
   "outputs": [
    {
     "data": {
      "text/plain": [
       "0.9675526740934721"
      ]
     },
     "execution_count": 57,
     "metadata": {},
     "output_type": "execute_result"
    }
   ],
   "source": [
    "# Absorber \"Good case\": P_evap is greater than the equilibrium P0\n",
    "P_evap = P0 * 1.1\n",
    "Qu_imagined = CP.PropsSI('Q','T',T0,'P',P_evap,\"REFPROP::ammonia[{}]&water[{}]\".format(x0,1.-x0))\n",
    "Qu_imagined"
   ]
  },
  {
   "cell_type": "code",
   "execution_count": 58,
   "metadata": {},
   "outputs": [
    {
     "data": {
      "text/plain": [
       "1.0005894260535513"
      ]
     },
     "execution_count": 58,
     "metadata": {},
     "output_type": "execute_result"
    }
   ],
   "source": [
    "# Absorber \"Bad case\": P_evap is less than the equilibrium P0\n",
    "P_evap = P0 * 0.9\n",
    "Qu_imagined = CP.PropsSI('Q','T',T0,'P',P_evap,\"REFPROP::ammonia[{}]&water[{}]\".format(x0,1.-x0))\n",
    "Qu_imagined"
   ]
  },
  {
   "cell_type": "code",
   "execution_count": null,
   "metadata": {
    "collapsed": true
   },
   "outputs": [],
   "source": []
  }
 ],
 "metadata": {
  "kernelspec": {
   "display_name": "Python 3",
   "language": "python",
   "name": "python3"
  },
  "language_info": {
   "codemirror_mode": {
    "name": "ipython",
    "version": 3
   },
   "file_extension": ".py",
   "mimetype": "text/x-python",
   "name": "python",
   "nbconvert_exporter": "python",
   "pygments_lexer": "ipython3",
   "version": "3.6.2"
  }
 },
 "nbformat": 4,
 "nbformat_minor": 2
}
