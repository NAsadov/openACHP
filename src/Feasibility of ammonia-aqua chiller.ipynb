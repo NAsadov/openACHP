{
 "cells": [
  {
   "cell_type": "markdown",
   "metadata": {},
   "source": [
    "Contents\n",
    "  - <a href='#Feasibility-of-ammonia-aqua-chiller'>Feasibility of ammonia-aqua chiller¶</a>\n",
    "    - <a href='#Definitions'>Definitions¶</a>\n",
    "      - <a href='#Generator/desorber'>Generator/desorber¶</a>\n",
    "      - <a href='#Rectifier:'>Rectifier:¶</a>\n",
    "      - <a href='#Absorber:'>Absorber:¶</a>\n",
    "      - <a href='#Other-assumptions'>Other assumptions¶</a>\n",
    "    - <a href='#Constraints'>Constraints¶</a>\n",
    "      - <a href='#Initial-inputs'>Initial inputs¶</a>\n",
    "      - <a href='#Absorber'>Absorber¶</a>\n",
    "      - <a href='#Generator'>Generator¶</a>\n",
    "      - <a href='#Rectifier'>Rectifier¶</a>\n",
    "    - <a href='#Implementation'>Implementation¶</a>\n",
    "      - <a href='#Desired-behavior'>Desired behavior¶</a>\n",
    "      - <a href='#Code'>Code¶</a>\n",
    "      - <a href='#Absorber-maximum-allowed-outlet-temperature'>Absorber maximum allowed outlet temperature¶</a>\n",
    "      - <a href='#Object-oriented-constraint-evaluation'>Object-oriented constraint evaluation¶</a>\n",
    "      - <a href='#Widget-demonstration'>Widget demonstration¶</a>\n",
    "      - <a href='#Visualize-feasible-/-infeasible-regions'>Visualize feasible / infeasible regions¶</a>\n",
    "      - <a href='#Problem-cases'>Problem cases¶</a>\n",
    "    - <a href='#Appendix'>Appendix¶</a>\n",
    "      - <a href='#Visualize-relations-between-a-few-variables-of-state'>Visualize relations between a few variables of state¶</a>\n",
    "      - <a href='#Evaporator-vapor-quality-effect-on-operating-pressure-and-maximum-solution-rich-mass-fraction'>Evaporator vapor quality effect on operating pressure and maximum solution rich mass fraction¶</a>"
   ]
  },
  {
   "cell_type": "markdown",
   "metadata": {},
   "source": [
    "# Feasibility of ammonia-aqua chiller"
   ]
  },
  {
   "cell_type": "code",
   "execution_count": 1,
   "metadata": {},
   "outputs": [
    {
     "data": {
      "text/html": [
       "<img src=\"../img/Diagram_for_ammonia.svg\">\n",
       "<img src=\"./img/Diagram_for_ammonia.svg\">"
      ],
      "text/plain": [
       "<IPython.core.display.HTML object>"
      ]
     },
     "metadata": {},
     "output_type": "display_data"
    }
   ],
   "source": [
    "%%html\n",
    "<img src=\"../img/Diagram_for_ammonia.svg\">\n",
    "<img src=\"./img/Diagram_for_ammonia.svg\">"
   ]
  },
  {
   "cell_type": "markdown",
   "metadata": {},
   "source": [
    "## Definitions\n",
    "\n",
    "- $T_{evap}$ : temperature at evaporator outlet (point 13)\n",
    "- $T_{cond}$ : temperature at condenser outlet (point 10)\n",
    "- $T_{abs}$ : Temperature at absorber liquid outlet (point 1)\n",
    "- $T_{gen}$ : Temperature at generator liquid outlet (point 4)\n",
    "- $T_{rect}$ : Temperature at rectifier vapor outlet (point 9)\n",
    "- $x_{refrig}$ : The ammonia mass fraction in the refrigerant stream (points 9, 10, 11, 12, 13, 14)\n",
    "- $x_{rich}$ : The ammonia mass fraction in the rich stream (points 1, 2, 3, 3')\n",
    "- $x_{weak}$ : The ammonia mass fraction in the weak stream (points 4, 5, 6)\n",
    "- $Qu_{evap}$ : the vapor quality at the evaporator outlet (point 13) (typically less than 1 because there is some water in the refrigerant)\n",
    "\n",
    "### Generator/desorber\n",
    "\n",
    "- Assumptions are designed to give the \"best case\" of performance.\n",
    "- Assumption: vapor produced in the desorber is everywhere locally in equilibrium with the liquid.\n",
    "- Assumption: vapor flows counter to liquid, ie. from near point 4 toward point 3', so all vapor going to rectifier comes from near point 3'. This assumption affects the computation of the heat vs temperature demand curve in the desorber HX.\n",
    "- Point 3 : Rich stream entering desorber, typically subcooled.\n",
    "- Point 3' : The point in the rich stream where external heating brings it to saturated state (Qu=0).\n",
    "- Unnamed point : The vapor stream\n",
    "- Point 8 : The vapor stream leaving the desorber and entering the rectifier.\n",
    "- Point 7 : The reflux (liquid) returned from the rectifier to the desorber.\n",
    "\n",
    "### Rectifier:\n",
    "\n",
    "- Assumptions are designed to give the best case of performance, equivalent to design with infinite number of plates and size.\n",
    "- Assumption: liquid formed is everywhere locally in equilibrium with vapor, and flowing counter to it. This assumption affects the computation of the heat vs temperature demand curve.\n",
    "- Vapor stream starts at point 8 and exits at point 9.\n",
    "- Liquid stream starts at (unnamed point in equilibrium with point 9) and exits at point 7.\n",
    "\n",
    "### Absorber:\n",
    "\n",
    "- Assumption : vapor absorbed is everywhere locally in equilibrium with liquid (or absorbs into subcooled liquid with no resistance) and flowing counter to it.\n",
    "- Point 1 : Liquid outlet at equilibrium with refrigerant vapor inlet (point 14).\n",
    "- Assumption : Computation of the heat rejection demand vs temperature curve in the absorber stream (for HX calculations) depends on the weak stream inlet state (point 6) as follows:\n",
    "  - If it is subcooled, then there is an imagined segment of the process near the weak inlet where the liquid stream absorbs refrigerant without any demand for heat rejection, until the liquid stream reaches saturation and equilibrium.\n",
    "  - Saturated liquid : The vapor-liquid interface extends through the entire absorber. Absorbing an incremental amount of vapor requires an amount of heat rejection depending on the local equilibrium state and mass flow rates of liquid and vapor.\n",
    "  - Partially vapor : there is an imagined segment of the absorber near the weak stream inlet where the weak stream just rejects heat via the HX and does not absorb any vapor. Throughout that process, the liquid and vapor are in equilibrium and are represented by one state with the mass fraction of the weak stream. Upon reaching a saturated liquid state, the weak stream enters the main segment of the absorber and begins to absorb from the refrigerant stream.\n",
    "  - All vapor : there is clearly a problem with the design. But nevertheless, I cool the weak stream all the way to saturated liquid state, just as for partial vapor at inlet.\n",
    "\n",
    "### Other assumptions\n",
    "\n",
    "- For purpose of this feasibility question, neglect friction losses and resulting pressure changes."
   ]
  },
  {
   "cell_type": "markdown",
   "metadata": {},
   "source": [
    "## Constraints\n",
    "\n",
    "There are some necessary conditions for the chiller to produce refrigerant flow. I'll try to write these as inequalities, so that we can develop constraint functions that can be used in a solver or optimizer. Drawing a cycle may be feasible for cases with equality, but to actually produce cooling and compute positive mass flow, the inequalities must hold strictly."
   ]
  },
  {
   "cell_type": "markdown",
   "metadata": {},
   "source": [
    "### Initial inputs\n",
    "We assume that $Qu_{evap}$, $x_{refrig}$, $T_{evap}$, and $T_{cond}$ are given. Clearly, we must require that\n",
    "\n",
    "* $T_{evap} \\le T_{cond}$\n",
    "* $T_{cond}$ less that critical temperature at x_refrig\n",
    "* $T_{evap}$ greater than freezing temperature at x_refrig\n",
    "\n",
    "Then we'll compute $P_{evap}$ and $P_{cond}$ from the other inputs."
   ]
  },
  {
   "cell_type": "markdown",
   "metadata": {},
   "source": [
    "### Absorber\n",
    "\n",
    "This is the heart of the cooling cycle, as the absorber is the component that draws a low pressure on the evaporator. At first look, we can constrain the total pressure: $P_{vapor,absorber} \\le P_{evap}$. That is,\n",
    "\n",
    "* $P(T=T_{abs}, x=x_{rich}, Qu=0) \\le P_{evap}$\n",
    "\n",
    "Since the state function is monotonic and increasing wrt. T and x inputs (decreasing wrt. Qu), we could try re-writing alternate forms:\n",
    "\n",
    "* $ x_{rich,max} := x(T=T_{abs}, P=P_{evap}, Qu=0) \\ge x_{rich} $\n",
    "* $ T(P=P_{evap}, x=x_{rich}, Qu=0) \\ge T_{abs} $\n",
    "* $ Qu(T=T_{abs}, P=P_{evap}, x=x_{rich}) \\le 0 $\n",
    "\n",
    "Since we have not previously determined $x_{rich}$, we can use the constraint limiting it to define $x_{rich,max}$.\n",
    "\n",
    "Note that the refrigerant vapor coming into the absorber will not be in equilibrium with the rich liquid. This may be considered a loss mechanism intrinsic to the absorption cycle. A restriction more specific than the one above is that partial pressures of both species be less than the partial pressures in the vapor state in equilibrium with the rich saturated liquid (the same total pressure as the vapor state). Using $\\bar{x}$ for molar fraction, we have\n",
    "\n",
    "* Ammonia: $ \\bar{x}_{rich} P(T=T_{abs}, x=x_{rich}, Qu=0) \\le \\bar{x}_{refrig} P_{evap}$\n",
    "* Water: $ (1-\\bar{x}_{rich}) P(T=T_{abs}, x=x_{rich}, Qu=0) \\le (1- \\bar{x}_{refrig}) P_{evap}$\n",
    "\n",
    "Typically, $\\bar{x}_{rich}$ is on the order of 0.5, whereas $(1-\\bar{x}_{refrig})$ is on the order of 0.001 or less. So the constraint on the water vapor pressure is the stricter one; but it turns out that temperatures required to absorb such low pressure water vapor are much too low, so likely all water in the refrigerant stream must be pumped out of the evaporator. Taking $x_{rich}$ as given, we can put the ammonia absorption constraint in terms of $T_{abs}$, as follows. First, define\n",
    "\n",
    "$$ P_{abs}(x_{rich}) = \\frac{\\bar{x}_{refrig}}{\\bar{x}_{rich}} P_{evap} $$\n",
    "\n",
    "Now we have\n",
    "\n",
    "* $ T(P=P_{abs}(x_{rich}), x=x_{rich}, Qu=0) \\ge T_{abs} $\n",
    "\n",
    "or in other words\n",
    "\n",
    "$$ T_{abs,max}(x_{rich}) := T(P=P_{abs}(x_{rich}), x=x_{rich}, Qu=0) $$\n",
    "\n",
    "The saturation function on the right is decreasing wrt. $x_{rich}$ and increasing wrt. $P_{abs}$, which in turn is decreasing in $x_{rich}$; so all together $T_{abs,max}$ is decreasing. (Below, the function is explored numerically.) Thus\n",
    "\n",
    "\\begin{align}\n",
    "T_{abs} &\\le T_{abs,max}(x_{rich,max}) \\\\\n",
    "& \\le T_{abs,max}(x_{rich})\n",
    "\\end{align}\n",
    "\n",
    "The first inequality is sufficient to gaurantee feasible operation of the absorber, although not necessary. In a real system, mass flow resistance will prevent $x_{rich}$ from reaching its maximum, in which case the upper limit on $T_{abs}$ (favorably) increases; this would have an unfavorable effect on the temperature required in the generator, which will be seen in the next section.\n"
   ]
  },
  {
   "cell_type": "markdown",
   "metadata": {},
   "source": [
    "### Generator\n",
    "\n",
    "For the generator to produce vapor, we merely need it to heat the inlet stream beyond saturation. (We place no requirement on the mass fraction of the vapor coming off, since the rectifier will control what is ultimately delivered as refrigerant.) So to start, we can write the constraint:\n",
    "\n",
    "* $ Qu(T=T_{gen}, P=P_{cond}, x=x_{rich}) \\ge 0 $, with alternate forms:\n",
    "  * $ x(...) \\le x_{rich}$\n",
    "  * $ P(...) \\ge P_{cond}$\n",
    "  * $ T(...) \\le T_{gen}$\n",
    "\n",
    "Although we have not previously fixed the rich stream ammonia mass fraction, $x_{rich}$, we do have a constraint on that resulting from the constraints on the absorber:\n",
    "\n",
    "$$ x_{rich} \\le x_{rich,max} $$\n",
    "\n",
    "Via the transitive property, this relation together with the appropriate form of the constraint gives:\n",
    "\n",
    "* $ x(T=T_{gen}, P=P_{cond}, Qu=0) \\le x(T=T_{abs}, P=P_{evap}, Qu=0) $\n",
    "\n",
    "The right hand side may be called $x_{rich,max}$, so all the alternate versions of this constraint are:\n",
    "\n",
    "* $ x(T=T_{gen}, P=P_{cond}, Qu=0) \\le x_{rich,max} $\n",
    "* $ P(T=T_{gen}, x=x_{rich,max}, Qu=0) \\ge P_{cond} $\n",
    "* $ T(x=x_{rich,max}, P=P_{cond}, Qu=0) \\le T_{gen} $\n",
    "* $ Qu(T=T_{gen}, P=P_{cond}, x=x_{rich,max}) \\ge 0 $\n",
    "\n",
    "We should note that this new inequality is necessary to guarantee vapor formation, but since we dropped the intermediate inequality, it is worthwhile to ask whether it is sufficient. Well, as more refrigerant flows, $x_{rich}$ must drop below $x_{rich,max}$ (to be able to pick up a larger ammonia mass) and this pushes up the lower limit on $T_{gen}$. However, in the limiting case as refrigerant flow drops to zero (for fixed rich solution flow), $x_{rich}$ and $x_{weak}$ converge. Considering the supply heat demand, a goal of keeping $T_{gen}$ to a minimum favors that the ammonia solution be rich as possible. Considering the heat reject load, a goal of keeping $T_{abs}$ to a maximum favors that the ammonia solution be as weak as possible. So the absorber and desorber are in disagreement; but for a barely feasible case, we can use $x_{rich,max}$."
   ]
  },
  {
   "cell_type": "markdown",
   "metadata": {},
   "source": [
    "### Rectifier\n",
    "\n",
    "The rectifier must cool and purify the ammonia content of the vapor stream to $x_{refrig}$. However, once having determined the condenser pressure, the final extent of the process, assuming equilibrium, could be specified by either $x_{refrig}$ or $T_{rect}$. But in the previous constraints we already assumed that $x_{refrig}$ was used to determine pressure levels, so here let's just constrain $T_{rect}$ this way:\n",
    "\n",
    "- $x_{refrig} \\le x(T=T_{rect}, P=P_{cond}, Qu = 1)$\n",
    "- $T_{rect} \\le T(P=P_{cond}, x=x_{refrig}, Qu = 1)$\n",
    "\n",
    "In this case, the system can produce positive cooling even when strict equality holds, so we can justify throwing away the $T_{rect}$ as an unnecessary input."
   ]
  },
  {
   "cell_type": "markdown",
   "metadata": {},
   "source": [
    "## Implementation"
   ]
  },
  {
   "cell_type": "markdown",
   "metadata": {},
   "source": [
    "### Desired behavior"
   ]
  },
  {
   "cell_type": "markdown",
   "metadata": {},
   "source": [
    "The main reason we need to implement these constraints as functions is to help optimizers avoid infeasible domains. However, \"avoid\" is not yet clearly defined, and depends on the behavior of the optimizer.\n",
    "\n",
    "1. If we have an optimizer that strictly obeys constraints (ie. does not evaulate the objective outside the feasible domain), then we need only define the behavior of constraint functions in the feasible domain.\n",
    "2. If we have an optimizer that does not strictly obey constraints, we need to extend the definition of the constraint and objective functions to guarantee that the optimizer will not receive an exception and quit.\n",
    "\n",
    "The possibility of using a good, unconstrained optimizer is motivation for exploring case 2, but even some optimizers that accept constraints will need to evaluate those constraints at points slightly outside the feasible domain. Some of the constraint functions require property lookups that can fail by exception; in that case, a typical strategy is to return an arbitrary large cost for the constraint. Using an infinite cost results in bad behavior for gradient-based methods, but even with finite values the constraints are still discontinuous. So, can we extend the definition of the constraint and objective functions, and how? This \"patching\" should be continuous and create costs increasing outside the feasible domain. For a model as simple as this single-effect chiller, we know the boundaries of feasibility (per the above derivations). So considerably, we could map any infeasible input point to a feasible point on the boundary. The first trick would be to make the mapping continuous. Secondly, we still need at least one of the constraints to show an increasing cost. Indeed the following method allows us to extend the definitions of the constraint functions.\n",
    "\n",
    "* We define the constraints in terms of upper and lower bounds on input variables as functions of other variables.\n",
    "* We evaluate the constraints in a sequence. When a constraint does not hold, we *override* the value of the relavent input for successive evaluations.\n",
    "* For that, we preserve the original input variable for comparison to the derived boundary for that variable.\n",
    "\n",
    "It appears that this works for the present model because the model is solved fairly explicitly (without iteration and circular dependence) and because there is a sequence of constraints for which evaluation of the first boundary is guaranteed, and successive boundaries depend only on variables that are already constrained. In more general cases, here are some suggestions:\n",
    "\n",
    "1. Attempt to apply the override method, using sequential evaluation of constraints and adjustment of input variables.\n",
    "2. If that method does not work, insert a meta-model between the model and the optimizer to catch exceptions from infeasible inputs. The meta-model must do two things: for infeasible inputs, catch the exception and return a high cost. Meanwhile, it must collect all the points visited by the optimizer and classify them as feasible/infeasible, and use the data to develop via regression a constraint function that fits the infeasible domain and has properties that encourage convergence back to the feasible domain.\n",
    "3. Alternatively, if there is way to define a continuous mapping into the feasible domain (eg. by a backtracking linesearch to the boundary), the meta-model could apply this mapping.\n",
    "\n",
    "The question remains whether there are generic or universal algorithms for other types of models."
   ]
  },
  {
   "cell_type": "markdown",
   "metadata": {},
   "source": [
    "### Code"
   ]
  },
  {
   "cell_type": "markdown",
   "metadata": {},
   "source": [
    "Note that the above derivations make use of the molar fraction, $\\bar{x}$, but some of the implementation functions use mass basis."
   ]
  },
  {
   "cell_type": "code",
   "execution_count": 2,
   "metadata": {
    "collapsed": true
   },
   "outputs": [],
   "source": [
    "import CoolProp.CoolProp as CP\n",
    "from ammonia_props import massFractionToMolar, AmmoniaProps\n",
    "import ammonia1\n",
    "amm=ammonia1.amm\n",
    "import numpy\n",
    "from numpy import array, nan, inf\n",
    "import matplotlib.pyplot as plt\n"
   ]
  },
  {
   "cell_type": "code",
   "execution_count": 2,
   "metadata": {},
   "outputs": [
    {
     "data": {
      "text/plain": [
       "{123: ['T', 'P', 'x'],\n",
       " 128: ['T', 'P', 'Qu'],\n",
       " 137: ['T', 'x', 'v'],\n",
       " 138: ['T', 'x', 'Qu'],\n",
       " 148: ['T', 'h', 'Qu'],\n",
       " 158: ['T', 's', 'Qu'],\n",
       " 168: ['T', 'u', 'Qu'],\n",
       " 178: ['T', 'v', 'Qu'],\n",
       " 234: ['P', 'x', 'h'],\n",
       " 235: ['P', 'x', 's'],\n",
       " 238: ['P', 'x', 'Qu'],\n",
       " 248: ['P', 'h', 'Qu'],\n",
       " 258: ['P', 's', 'Qu'],\n",
       " 268: ['P', 'u', 'Qu'],\n",
       " 278: ['P', 'v', 'Qu']}"
      ]
     },
     "execution_count": 2,
     "metadata": {},
     "output_type": "execute_result"
    }
   ],
   "source": [
    "import ammonia_props\n",
    "ammonia_props.availableCodeStringsForward"
   ]
  },
  {
   "cell_type": "code",
   "execution_count": 4,
   "metadata": {},
   "outputs": [
    {
     "data": {
      "image/png": "[encoded data removed]",
      "text/plain": [
       "<matplotlib.figure.Figure at 0x9043d30>"
      ]
     },
     "metadata": {},
     "output_type": "display_data"
    }
   ],
   "source": [
    "p_min = 0.006 # (bar) -- refer to benchmark_nh3h2o.ipynb\n",
    "astate = amm.props2(P=p_min,x=0.998,Qu=0)\n",
    "astate\n",
    "import numpy\n",
    "x_refrig = 1-numpy.logspace(0,-8,base=2)\n",
    "T_min_cond = amm.props2v(P=p_min,x=x_refrig,Qu=0)[0]\n",
    "import matplotlib.pyplot as plt\n",
    "plt.plot(x_refrig, T_min_cond,'.-')\n",
    "plt.show()"
   ]
  },
  {
   "cell_type": "markdown",
   "metadata": {},
   "source": [
    "### Absorber maximum allowed outlet temperature"
   ]
  },
  {
   "cell_type": "code",
   "execution_count": 3,
   "metadata": {
    "collapsed": true
   },
   "outputs": [],
   "source": [
    "# Absorber: plotting T_abs,max vs x_rich to find maximum\n",
    "def P_abs_water(x_rich,x_refrig,P_evap):\n",
    "    x_molar_rich = massFractionToMolar(x_rich)\n",
    "    x_molar_refrig = massFractionToMolar(x_refrig)\n",
    "    alpha = (1 - x_molar_refrig) / (1 - x_molar_rich)\n",
    "    result = alpha * P_evap\n",
    "    return result\n",
    "\n",
    "def P_abs_ammonia(x_rich,x_refrig,P_evap):\n",
    "    x_molar_rich = massFractionToMolar(x_rich)\n",
    "    x_molar_refrig = massFractionToMolar(x_refrig)\n",
    "    #alpha = (1 - x_molar_refrig) / (1 - x_molar_rich)\n",
    "    alpha = (x_molar_refrig) / (x_molar_rich)\n",
    "    result = alpha * P_evap\n",
    "    return result\n",
    "\n",
    "def T_abs_max_func(x_rich,P_abs):\n",
    "    return amm.props2(x=x_rich,P=P_abs,Qu=0,out='T')"
   ]
  },
  {
   "cell_type": "code",
   "execution_count": 5,
   "metadata": {},
   "outputs": [
    {
     "data": {
      "image/png": "[encoded data removed]",
      "text/plain": [
       "<matplotlib.figure.Figure at 0x93e0110>"
      ]
     },
     "metadata": {},
     "output_type": "display_data"
    }
   ],
   "source": [
    "x_refrig = 0.9998\n",
    "P_evap = 5 # bar\n",
    "x_rich = numpy.linspace(0.1,0.99)\n",
    "T_abs_ammonia = numpy.empty_like(x_rich)\n",
    "T_abs_ammonia.fill(numpy.nan)\n",
    "T_abs_water = T_abs_ammonia.copy()\n",
    "\n",
    "p_min = 0.006\n",
    "for i, x_rich_i in enumerate(x_rich):\n",
    "    try:\n",
    "        p1 = P_abs_ammonia(x_rich_i, x_refrig, P_evap)\n",
    "        if p1 < p_min:\n",
    "            p1 = p_min\n",
    "        T_abs_ammonia[i] = T_abs_max_func(x_rich_i, p1)\n",
    "    except:\n",
    "        pass\n",
    "    try:\n",
    "        p2 = P_abs_water(x_rich_i, x_refrig, P_evap)\n",
    "        if p2 < p_min:\n",
    "            p2 = p_min\n",
    "        T_abs_water[i] = T_abs_max_func(x_rich_i, p2)\n",
    "    except:\n",
    "        pass\n",
    "plt.figure()\n",
    "plt.title(\"With $x_{{refrig}}={}$ and $P_{{evap}}={}$ bar\".format(x_refrig, P_evap))\n",
    "plt.xlabel(\"Ammonia mass fraction in rich solution\")\n",
    "plt.ylabel(\"Max. temperature to absorb ...\")\n",
    "plt.plot(x_rich,T_abs_water,label=\"water\")\n",
    "plt.plot(x_rich,T_abs_ammonia,label=\"ammonia\")\n",
    "plt.legend()\n",
    "\n",
    "plt.show()"
   ]
  },
  {
   "cell_type": "markdown",
   "metadata": {},
   "source": [
    "### Object-oriented constraint evaluation"
   ]
  },
  {
   "cell_type": "code",
   "execution_count": null,
   "metadata": {
    "collapsed": true
   },
   "outputs": [],
   "source": [
    "import pandas\n",
    "\n",
    "spec_columns = ['T_abs','T_cond','T_evap','T_gen','T_rect','x_refrig']\n",
    "constraint_columns = pandas.MultiIndex.from_product(\n",
    "    [['constraint'],\n",
    "     range(AquaChillerSpec1.n_cons)])\n",
    "calc_columns = pandas.MultiIndex.from_product(\n",
    "    [['calc'],\n",
    "     ['x_refrig_min','x_refrig_max','T_cond_max','T_evap_min',\n",
    "      'P_cond','P_evap','T_abs_max1','x_rich_max','x_rich',\n",
    "      'T_abs_max2','T_gen_min']])\n",
    "mapped_columns = pandas.MultiIndex.from_product(\n",
    "    [['mapped'],\n",
    "     spec_columns])\n",
    "def makeSpec(T_abs=300,T_cond=300,T_evap=278,T_gen=380,T_rect=310,\n",
    "                 x_refrig=0.9998):\n",
    "    pass"
   ]
  },
  {
   "cell_type": "code",
   "execution_count": 4,
   "metadata": {
    "collapsed": true
   },
   "outputs": [],
   "source": [
    "class AquaChillerSpec1:\n",
    "    \n",
    "    n_cons = 9\n",
    "    Qu_evap = 0.998\n",
    "    x_refrig_min = 0.9\n",
    "    x_refrig_max = 1.0\n",
    "    x_rich_min = 1e-1\n",
    "    x_rich_max_max = 1.0\n",
    "    \n",
    "    def __init__(self,,throws=False):\n",
    "        self.T_abs = T_abs\n",
    "        self.T_cond = T_cond\n",
    "        self.T_evap = T_evap\n",
    "        self.T_gen = T_gen\n",
    "        self.T_rect = T_rect\n",
    "        self.x_refrig = x_refrig\n",
    "        \n",
    "        self.x_rich = nan\n",
    "        self.T_abs_mapped = T_abs\n",
    "        self.T_cond_mapped = T_cond\n",
    "        self.T_evap_mapped = T_evap\n",
    "        self.T_gen_mapped = T_gen\n",
    "        self.T_rect_mapped = T_rect\n",
    "        self.x_refrig_mapped = x_refrig\n",
    "        \n",
    "        self.T_cond_max = nan\n",
    "        self.T_evap_min = nan\n",
    "        self.T_abs_max1 = nan\n",
    "        self.T_abs_max2 = nan\n",
    "        self.x_rich_max = nan\n",
    "        self.T_gen_min = nan\n",
    "        self.P_cond = nan\n",
    "        self.P_evap = nan\n",
    "        self.C = pandas.Series(data=[-999.0]*self.n_cons,dtype='float')\n",
    "        self.messages=[]\n",
    "        self.html_opts = dict(inputs=True,limits=True,mapped=True,constraints=True,warnings=True)\n",
    "        \n",
    "    def cons(self):\n",
    "        self.messages=[]\n",
    "        self.C[:] = -999.0\n",
    "        \n",
    "        try:\n",
    "            # A trivial constraint that is always satisfied\n",
    "            self.C[0] = 0\n",
    "            \n",
    "            # Basics\n",
    "            self.x_refrig_mapped = self.x_refrig\n",
    "            self.C[1] = self.x_refrig - self.x_refrig_min\n",
    "            if self.C[1] < 0:\n",
    "                self.messages.append(\"x_refrig ({:g}) should be greater than {:g} but is not.\"\n",
    "                                     .format(self.x_refrig,self.x_refrig_min))\n",
    "                self.x_refrig_mapped = self.x_refrig_min\n",
    "            \n",
    "            self.C[2] = self.x_refrig_max - self.x_refrig\n",
    "            if self.C[2] < 0:\n",
    "                self.messages.append(\"x_refrig ({:g}) should be less than {:g} but is not.\"\n",
    "                                    .format(self.x_refrig,self.x_refrig_max))\n",
    "                self.x_refrig_mapped = self.x_refrig_max\n",
    "            \n",
    "            self.T_evap_mapped = self.T_evap\n",
    "            self.T_evap_min = amm.props2(P=0.01,x=self.x_refrig_mapped,Qu=self.Qu_evap,out=\"T\")\n",
    "            self.C[3] = (self.T_evap - self.T_evap_min)\n",
    "            if self.C[3] < 0:\n",
    "                self.messages.append(\"T_evap ({:g}) should be greater than {:g} but is not.\"\n",
    "                                     .format(self.T_evap, self.T_evap_min))\n",
    "                self.T_evap_mapped = self.T_evap_min\n",
    "            \n",
    "            self.T_cond_mapped = self.T_cond\n",
    "            # convert mass fraction to molar only for Refprop\n",
    "            x_molar_refrig = massFractionToMolar(self.x_refrig_mapped)\n",
    "            self.T_cond_max = CP.PropsSI('Tcrit',\n",
    "                'REFPROP::ammonia[{}]&water[{}]'.format(\n",
    "                x_molar_refrig, 1.0 - x_molar_refrig))\n",
    "            self.C[4] = (self.T_cond_max - self.T_cond)\n",
    "            if self.C[4] < 0:\n",
    "                self.messages.append(\"T_cond ({:g}) should be less than {:g} but is not.\"\n",
    "                                     .format(self.T_cond, self.T_cond_max))\n",
    "                self.T_cond_mapped = self.T_cond_max\n",
    "                \n",
    "            self.C[5] = (self.T_cond - self.T_evap)\n",
    "            if self.C[5] < 0:\n",
    "                self.messages.append(\"T_cond ({:g}) should be greater than T_evap ({:g}) but is not.\"\n",
    "                                    .format(self.T_cond, self.T_evap))\n",
    "                if self.T_evap_mapped < self.T_cond_max:\n",
    "                    self.T_cond_mapped = self.T_evap_mapped\n",
    "                elif self.T_cond_mapped > self.T_evap_min:\n",
    "                    self.T_evap_mapped = self.T_cond_mapped\n",
    "                else:\n",
    "                    self.T_evap_mapped = self.T_cond_max\n",
    "                    self.T_cond_mapped = self.T_evap_mapped\n",
    "\n",
    "            self.P_cond = amm.props2(T=self.T_cond_mapped, x=self.x_refrig_mapped, Qu=0, out=\"P\")\n",
    "            self.P_evap = amm.props2(T=self.T_evap_mapped, x=self.x_refrig_mapped, Qu=self.Qu_evap, out=\"P\")\n",
    "\n",
    "            # TODO: explain in write-up above\n",
    "            # I had started off with constraint 'x_rich_max > 0',\n",
    "            # but it appears that an equivalent statement is 'T_abs < T(x=0, ...)'.\n",
    "            # This seems preferrable since following calculations depend on T_abs,\n",
    "            # so we can adjust T_abs to the allowed limit,\n",
    "            # whereas violation of limit on x_rich_max is not as easy to correct/override(?)\n",
    "            self.T_abs_mapped = self.T_abs\n",
    "            self.T_abs_max1 = amm.props2(x=self.x_rich_min, P=self.P_evap, Qu=0, out=\"T\")\n",
    "            self.C[6] = (self.T_abs_max1 - self.T_abs)\n",
    "            if self.C[6] < 0:\n",
    "                self.messages.append(\"T_abs ({:}) should be less than {:g} but is not.\"\n",
    "                                     .format(self.T_abs, self.T_abs_max1))\n",
    "                self.T_abs_mapped = self.T_abs_max1\n",
    "            \n",
    "            # Also, enforce 'x_rich_max < 1'\n",
    "            # First determine maximum equilibrium pressure at this temperature,\n",
    "            # that is, when x_rich is 1, so that we don't call State function with invalid inputs.\n",
    "            # If evaporator pressure is higher, no problem; even pure ammonia can absorb\n",
    "            # by simple condensation.\n",
    "            P_max = amm.props2(T=self.T_abs_mapped, x=self.x_rich_max_max, Qu=0, out=\"P\")\n",
    "            if P_max < self.P_evap:\n",
    "                self.x_rich_max = self.x_rich_max_max\n",
    "                self.x_rich = self.x_rich_max\n",
    "            else:\n",
    "                # This must be guarded by the above if-statement.\n",
    "                # For P_evap slightly in excess of max, the function\n",
    "                # returns x slightly greater than 1. For larger values, it fails altogether.\n",
    "                self.x_rich_max = amm.props2(T=self.T_abs_mapped, P=self.P_evap, Qu=0, out=\"x\")\n",
    "                self.x_rich = self.x_rich_max\n",
    "                if self.x_rich > self.x_rich_max_max:\n",
    "                    self.x_rich = self.x_rich_max_max\n",
    "            \n",
    "            self.T_abs_max2 = T_abs_max_func(self.x_rich,\n",
    "                                            P_abs_ammonia(self.x_rich, self.x_refrig_mapped, self.P_evap))\n",
    "            self.C[7] = (self.T_abs_max2 - self.T_abs)\n",
    "            if self.C[7] < 0:\n",
    "                self.messages.append(\"T_abs should be less than {:g} but is not.\".format(self.T_abs_max2))\n",
    "                # Should already have been fixed by previous constraint ... get rid of this one\n",
    "                # self.T_abs_mapped = self.T_abs_max2\n",
    "            \n",
    "            self.T_gen_min = amm.props2(P=self.P_cond, x=self.x_rich, Qu=0).T\n",
    "            self.C[8] = (self.T_gen - self.T_gen_min)\n",
    "            if self.C[8] < 0:\n",
    "                self.messages.append(\"T_gen should be greater than {:g} but is not.\".format(self.T_gen_min))\n",
    "                self.T_gen = self.T_gen_min\n",
    "        \n",
    "        except KeyError as e:\n",
    "            self.messages.append(e.__repr__())\n",
    "            raise\n",
    "        except ValueError as e:\n",
    "            self.messages.append(e.__repr__())\n",
    "            raise\n",
    "        except:\n",
    "            raise\n",
    "\n",
    "        return self.C\n",
    "    \n",
    "    def _repr_html_(self):\n",
    "        return self.html_helper(**self.html_opts)\n",
    "    \n",
    "    def html_helper(self,inputs=True,limits=True,mapped=True,constraints=True,warnings=True):\n",
    "        result = \"\"\n",
    "        if inputs:\n",
    "            result += \"\"\"<h5>Inputs</h5>\n",
    "                <ul><li>T_abs = {:g}</li><li>T_cond = {:g}</li><li>T_evap = {:g}</li>\n",
    "                <li>T_gen = {:g}</li><li>T_rect = {:g}</li><li>x_refrig = {:g}</li></ul>\"\"\".format(\n",
    "                self.T_abs, self.T_cond, self.T_evap, self.T_gen, self.T_rect, self.x_refrig)\n",
    "        if limits:\n",
    "            result += \"\"\"<h5>Computed limits</h5>\n",
    "                <ul>\n",
    "                <li>x_refrig_min = {:g}</li><li>x_refrig_max = {:g}</li>\n",
    "                <li>T_cond_max = {:g}</li><li>T_evap_min = {:g}</li>\n",
    "                <li>P_cond = {:g}</li><li>P_evap = {:g}</li>\n",
    "                <li>T_abs_max1 = {:g}</li><li>x_rich_max = {:g}</li>\n",
    "                <li>x_rich = {:g}</li>\n",
    "                <li>T_abs_max2 = {:g}</li><li>T_gen_min = {:g}</li></ul>\"\"\".format(\n",
    "                self.x_refrig_min, self.x_refrig_max,\n",
    "                self.T_cond_max, self.T_evap_min,\n",
    "                self.P_cond, self.P_evap,\n",
    "                self.T_abs_max1, self.x_rich_max,\n",
    "                self.x_rich,\n",
    "                self.T_abs_max2, self.T_gen_min)\n",
    "        if mapped:\n",
    "            result += \"\"\"<h5>Mapped inputs</h5>\n",
    "                <ul><li>T_abs = {:g}</li><li>T_cond = {:g}</li><li>T_evap = {:g}</li>\n",
    "                <li>T_gen = {:g}</li><li>T_rect = {:g}</li><li>x_refrig = {:g}</li></ul>\"\"\".format(\n",
    "                self.T_abs_mapped, self.T_cond_mapped, self.T_evap_mapped, self.T_gen_mapped,\n",
    "                self.T_rect_mapped, self.x_refrig_mapped)\n",
    "        if constraints:\n",
    "            result += \"\"\"<h5>Constraint functions</h5>\n",
    "                <pre>{}</pre>\"\"\".format(self.C)\n",
    "        if warnings:\n",
    "            result += \"\"\"<h5>Warnings</h5>\n",
    "                <ul>{}</ul>\"\"\".format(\"\".join(\n",
    "                map(lambda msg: \"<li>{}</li>\".format(msg),\n",
    "                    [\"None.\"] if len(self.messages) == 0 else self.messages)))\n",
    "        return result"
   ]
  },
  {
   "cell_type": "code",
   "execution_count": 35,
   "metadata": {},
   "outputs": [
    {
     "data": {
      "text/html": [
       "<h5>Inputs</h5>\n",
       "                <ul><li>T_abs = 310</li><li>T_cond = 300</li><li>T_evap = 278</li>\n",
       "                <li>T_gen = 380</li><li>T_rect = 310</li><li>x_refrig = 0.9998</li></ul><h5>Computed limits</h5>\n",
       "                <ul>\n",
       "                <li>x_refrig_min = 0.9</li><li>x_refrig_max = 1</li>\n",
       "                <li>T_cond_max = 405.502</li><li>T_evap_min = 175.934</li>\n",
       "                <li>P_cond = 10.6161</li><li>P_evap = 4.75071</li>\n",
       "                <li>T_abs_max1 = 395.354</li><li>x_rich_max = 0.508281</li>\n",
       "                <li>x_rich = 0.508281</li>\n",
       "                <li>T_abs_max2 = 332.218</li><li>T_gen_min = 338.09</li></ul><h5>Mapped inputs</h5>\n",
       "                <ul><li>T_abs = 310</li><li>T_cond = 300</li><li>T_evap = 278</li>\n",
       "                <li>T_gen = 380</li><li>T_rect = 310</li><li>x_refrig = 0.9998</li></ul><h5>Constraint functions</h5>\n",
       "                <pre>0      0.000000\n",
       "1      0.099800\n",
       "2      0.000200\n",
       "3    102.066423\n",
       "4    105.502125\n",
       "5     22.000000\n",
       "6     85.353588\n",
       "7     22.217686\n",
       "8     41.909976\n",
       "dtype: float64</pre><h5>Warnings</h5>\n",
       "                <ul><li>None.</li></ul>"
      ],
      "text/plain": [
       "<__main__.AquaChillerSpec1 at 0x19f6750>"
      ]
     },
     "metadata": {},
     "output_type": "display_data"
    },
    {
     "data": {
      "image/png": "[encoded data removed]",
      "text/plain": [
       "<matplotlib.figure.Figure at 0x19f69d0>"
      ]
     },
     "metadata": {},
     "output_type": "display_data"
    },
    {
     "data": {
      "text/html": [
       "<h3>State points</h3>\n",
       "        <table>\n",
       "<thead>\n",
       "<tr><th>                         </th><th style=\"text-align: right;\">      T</th><th style=\"text-align: right;\">       P</th><th style=\"text-align: right;\">       x</th><th style=\"text-align: right;\">         h</th><th style=\"text-align: right;\">       s</th><th style=\"text-align: right;\">         u</th><th style=\"text-align: right;\">         v</th><th style=\"text-align: right;\">        Qu</th></tr>\n",
       "</thead>\n",
       "<tbody>\n",
       "<tr><td>rich_abs_outlet          </td><td style=\"text-align: right;\">310    </td><td style=\"text-align: right;\"> 4.75071</td><td style=\"text-align: right;\">0.508281</td><td style=\"text-align: right;\"> -74.4766 </td><td style=\"text-align: right;\">0.391835</td><td style=\"text-align: right;\"> -75.0599 </td><td style=\"text-align: right;\">0.00122787</td><td style=\"text-align: right;\"> 0        </td></tr>\n",
       "<tr><td>rich_pump_outlet         </td><td style=\"text-align: right;\">310.093</td><td style=\"text-align: right;\">10.6161 </td><td style=\"text-align: right;\">0.508281</td><td style=\"text-align: right;\"> -73.5762 </td><td style=\"text-align: right;\">0.392416</td><td style=\"text-align: right;\"> -74.8794 </td><td style=\"text-align: right;\">0.0012276 </td><td style=\"text-align: right;\">-0.001    </td></tr>\n",
       "<tr><td>rich_shx_outlet          </td><td style=\"text-align: right;\">339.161</td><td style=\"text-align: right;\">10.6161 </td><td style=\"text-align: right;\">0.508281</td><td style=\"text-align: right;\">  76.3836 </td><td style=\"text-align: right;\">0.851874</td><td style=\"text-align: right;\">  72.9667 </td><td style=\"text-align: right;\">0.00321857</td><td style=\"text-align: right;\"> 0.0136051</td></tr>\n",
       "<tr><td>rich_gen_sat_liquid      </td><td style=\"text-align: right;\">338.09 </td><td style=\"text-align: right;\">10.6161 </td><td style=\"text-align: right;\">0.508281</td><td style=\"text-align: right;\">  53.8805 </td><td style=\"text-align: right;\">0.785932</td><td style=\"text-align: right;\">  52.5292 </td><td style=\"text-align: right;\">0.00127282</td><td style=\"text-align: right;\"> 0        </td></tr>\n",
       "<tr><td>weak_gen_outlet          </td><td style=\"text-align: right;\">380    </td><td style=\"text-align: right;\">10.6161 </td><td style=\"text-align: right;\">0.296492</td><td style=\"text-align: right;\"> 278.322  </td><td style=\"text-align: right;\">1.35832 </td><td style=\"text-align: right;\"> 277.029  </td><td style=\"text-align: right;\">0.00121791</td><td style=\"text-align: right;\"> 0        </td></tr>\n",
       "<tr><td>weak_shx_outlet          </td><td style=\"text-align: right;\">331.449</td><td style=\"text-align: right;\">10.6161 </td><td style=\"text-align: right;\">0.296492</td><td style=\"text-align: right;\">  63.7467 </td><td style=\"text-align: right;\">0.754536</td><td style=\"text-align: right;\">  62.5309 </td><td style=\"text-align: right;\">0.00114525</td><td style=\"text-align: right;\">-0.001    </td></tr>\n",
       "<tr><td>weak_exp_outlet          </td><td style=\"text-align: right;\">331.554</td><td style=\"text-align: right;\"> 4.75071</td><td style=\"text-align: right;\">0.296492</td><td style=\"text-align: right;\">  63.7467 </td><td style=\"text-align: right;\">0.756563</td><td style=\"text-align: right;\">  63.2024 </td><td style=\"text-align: right;\">0.00114571</td><td style=\"text-align: right;\">-0.001    </td></tr>\n",
       "<tr><td>gen_vapor_outlet         </td><td style=\"text-align: right;\">338.09 </td><td style=\"text-align: right;\">10.6161 </td><td style=\"text-align: right;\">0.991505</td><td style=\"text-align: right;\">1404.76   </td><td style=\"text-align: right;\">4.67404 </td><td style=\"text-align: right;\">1252.02   </td><td style=\"text-align: right;\">0.143873  </td><td style=\"text-align: right;\"> 1        </td></tr>\n",
       "<tr><td>gen_reflux_inlet         </td><td style=\"text-align: right;\">338.09 </td><td style=\"text-align: right;\">10.6161 </td><td style=\"text-align: right;\">0.508144</td><td style=\"text-align: right;\">  53.4903 </td><td style=\"text-align: right;\">0.784686</td><td style=\"text-align: right;\">  52.1388 </td><td style=\"text-align: right;\">0.00127304</td><td style=\"text-align: right;\"> 0        </td></tr>\n",
       "<tr><td>refrig_rect_outlet       </td><td style=\"text-align: right;\">310    </td><td style=\"text-align: right;\">10.6161 </td><td style=\"text-align: right;\">0.9998  </td><td style=\"text-align: right;\">1319.41   </td><td style=\"text-align: right;\">4.40903 </td><td style=\"text-align: right;\">1183.88   </td><td style=\"text-align: right;\">0.127667  </td><td style=\"text-align: right;\"> 1.001    </td></tr>\n",
       "<tr><td>refrig_cond_outlet       </td><td style=\"text-align: right;\">300    </td><td style=\"text-align: right;\">10.6161 </td><td style=\"text-align: right;\">0.9998  </td><td style=\"text-align: right;\"> 126.371  </td><td style=\"text-align: right;\">0.449872</td><td style=\"text-align: right;\"> 124.599  </td><td style=\"text-align: right;\">0.00166955</td><td style=\"text-align: right;\"> 0        </td></tr>\n",
       "<tr><td>refrig_cehx_liquid_outlet</td><td style=\"text-align: right;\">288.531</td><td style=\"text-align: right;\">10.6161 </td><td style=\"text-align: right;\">0.9998  </td><td style=\"text-align: right;\">  71.6979 </td><td style=\"text-align: right;\">0.264117</td><td style=\"text-align: right;\">  69.979  </td><td style=\"text-align: right;\">0.00161918</td><td style=\"text-align: right;\">-0.001    </td></tr>\n",
       "<tr><td>refrig_exp_outlet        </td><td style=\"text-align: right;\">275.888</td><td style=\"text-align: right;\"> 4.75071</td><td style=\"text-align: right;\">0.9998  </td><td style=\"text-align: right;\">  71.6979 </td><td style=\"text-align: right;\">0.271305</td><td style=\"text-align: right;\">  65.1137 </td><td style=\"text-align: right;\">0.0138595 </td><td style=\"text-align: right;\"> 0.0470472</td></tr>\n",
       "<tr><td>refrig_evap_outlet       </td><td style=\"text-align: right;\">278    </td><td style=\"text-align: right;\"> 4.75071</td><td style=\"text-align: right;\">0.9998  </td><td style=\"text-align: right;\">1274.56   </td><td style=\"text-align: right;\">4.61607 </td><td style=\"text-align: right;\">1148.58   </td><td style=\"text-align: right;\">0.268136  </td><td style=\"text-align: right;\"> 0.998    </td></tr>\n",
       "<tr><td>refrig_cehx_sat_vapor    </td><td style=\"text-align: right;\">283.116</td><td style=\"text-align: right;\"> 4.75071</td><td style=\"text-align: right;\">0.9998  </td><td style=\"text-align: right;\">1277.44   </td><td style=\"text-align: right;\">4.62101 </td><td style=\"text-align: right;\">1151.16   </td><td style=\"text-align: right;\">0.265812  </td><td style=\"text-align: right;\"> 1        </td></tr>\n",
       "<tr><td>refrig_cehx_vapor_outlet </td><td style=\"text-align: right;\">298.823</td><td style=\"text-align: right;\"> 4.75071</td><td style=\"text-align: right;\">0.9998  </td><td style=\"text-align: right;\">1329.23   </td><td style=\"text-align: right;\">4.80012 </td><td style=\"text-align: right;\">1190.99   </td><td style=\"text-align: right;\">0.291     </td><td style=\"text-align: right;\"> 1.001    </td></tr>\n",
       "<tr><td>rectifier_liquid         </td><td style=\"text-align: right;\">310    </td><td style=\"text-align: right;\">10.6161 </td><td style=\"text-align: right;\">0.754255</td><td style=\"text-align: right;\">   4.87593</td><td style=\"text-align: right;\">0.474284</td><td style=\"text-align: right;\">   3.37182</td><td style=\"text-align: right;\">0.00141683</td><td style=\"text-align: right;\"> 0        </td></tr>\n",
       "<tr><td>gen_vapor_formation      </td><td style=\"text-align: right;\">380    </td><td style=\"text-align: right;\">10.6161 </td><td style=\"text-align: right;\">0.911714</td><td style=\"text-align: right;\">1597.75   </td><td style=\"text-align: right;\">5.18047 </td><td style=\"text-align: right;\">1423.34   </td><td style=\"text-align: right;\">0.16429   </td><td style=\"text-align: right;\"> 1        </td></tr>\n",
       "<tr><td>abs_vapor_final          </td><td style=\"text-align: right;\">331.554</td><td style=\"text-align: right;\"> 4.75071</td><td style=\"text-align: right;\">0.980064</td><td style=\"text-align: right;\">1429.36   </td><td style=\"text-align: right;\">5.11629 </td><td style=\"text-align: right;\">1273.54   </td><td style=\"text-align: right;\">0.327978  </td><td style=\"text-align: right;\"> 1        </td></tr>\n",
       "</tbody>\n",
       "</table>\n",
       "        <br/>\n",
       "        <h3>Performance variables</h3>\n",
       "        <table>\n",
       "<thead>\n",
       "<tr><th>name                   </th><th>unit  </th><th style=\"text-align: right;\">         value</th></tr>\n",
       "</thead>\n",
       "<tbody>\n",
       "<tr><td>Q_abs                  </td><td>kW    </td><td style=\"text-align: right;\">-207.721      </td></tr>\n",
       "<tr><td>Q_gen                  </td><td>kW    </td><td style=\"text-align: right;\"> 219.251      </td></tr>\n",
       "<tr><td>Q_cond                 </td><td>kW    </td><td style=\"text-align: right;\">-143.705      </td></tr>\n",
       "<tr><td>Q_evap                 </td><td>kW    </td><td style=\"text-align: right;\"> 144.888      </td></tr>\n",
       "<tr><td>Q_reflux               </td><td>kW    </td><td style=\"text-align: right;\"> -13.0737     </td></tr>\n",
       "<tr><td>Q_shx                  </td><td>kW    </td><td style=\"text-align: right;\">  59.9839     </td></tr>\n",
       "<tr><td>Q_cehx                 </td><td>kW    </td><td style=\"text-align: right;\">   6.58557    </td></tr>\n",
       "<tr><td>W_pump                 </td><td>kW    </td><td style=\"text-align: right;\">   0.36015    </td></tr>\n",
       "<tr><td>COP                    </td><td>kW/kW </td><td style=\"text-align: right;\">   0.660831   </td></tr>\n",
       "<tr><td>ZeroCheck              </td><td>kW    </td><td style=\"text-align: right;\">  -6.37487e-07</td></tr>\n",
       "<tr><td>ZeroCheckSHX           </td><td>kW    </td><td style=\"text-align: right;\">   7.33205e-07</td></tr>\n",
       "<tr><td>ZeroCheckCEHX          </td><td>kW    </td><td style=\"text-align: right;\">  -3.53678e-09</td></tr>\n",
       "<tr><td>Q_gen_rect_combo       </td><td>kW    </td><td style=\"text-align: right;\"> 206.178      </td></tr>\n",
       "<tr><td>Q_refrig_side          </td><td>kW    </td><td style=\"text-align: right;\">  -1.183      </td></tr>\n",
       "<tr><td>ZeroCheckRect          </td><td>kg/s  </td><td style=\"text-align: right;\">   0          </td></tr>\n",
       "<tr><td>m_rich                 </td><td>kg/s  </td><td style=\"text-align: right;\">   0.4        </td></tr>\n",
       "<tr><td>m_weak                 </td><td>kg/s  </td><td style=\"text-align: right;\">   0.279547   </td></tr>\n",
       "<tr><td>m_gen_vapor            </td><td>kg/s  </td><td style=\"text-align: right;\">   0.12252    </td></tr>\n",
       "<tr><td>m_gen_reflux           </td><td>kg/s  </td><td style=\"text-align: right;\">   0.00206711 </td></tr>\n",
       "<tr><td>m_refrig               </td><td>kg/s  </td><td style=\"text-align: right;\">   0.120453   </td></tr>\n",
       "<tr><td>check_rectifier_delta_T</td><td>K     </td><td style=\"text-align: right;\">  28.09       </td></tr>\n",
       "<tr><td>is_degenerate          </td><td>bool  </td><td style=\"text-align: right;\">   0          </td></tr>\n",
       "</tbody>\n",
       "</table>\n",
       "        "
      ],
      "text/plain": [
       "                                 T         P         x           h         s           u           v          Qu\n",
       "-------------------------  -------  --------  --------  ----------  --------  ----------  ----------  ----------\n",
       "rich_abs_outlet            310       4.75071  0.508281   -74.4766   0.391835   -75.0599   0.00122787   0\n",
       "rich_pump_outlet           310.093  10.6161   0.508281   -73.5762   0.392416   -74.8794   0.0012276   -0.001\n",
       "rich_shx_outlet            339.161  10.6161   0.508281    76.3836   0.851874    72.9667   0.00321857   0.0136051\n",
       "rich_gen_sat_liquid        338.09   10.6161   0.508281    53.8805   0.785932    52.5292   0.00127282   0\n",
       "weak_gen_outlet            380      10.6161   0.296492   278.322    1.35832    277.029    0.00121791   0\n",
       "weak_shx_outlet            331.449  10.6161   0.296492    63.7467   0.754536    62.5309   0.00114525  -0.001\n",
       "weak_exp_outlet            331.554   4.75071  0.296492    63.7467   0.756563    63.2024   0.00114571  -0.001\n",
       "gen_vapor_outlet           338.09   10.6161   0.991505  1404.76     4.67404   1252.02     0.143873     1\n",
       "gen_reflux_inlet           338.09   10.6161   0.508144    53.4903   0.784686    52.1388   0.00127304   0\n",
       "refrig_rect_outlet         310      10.6161   0.9998    1319.41     4.40903   1183.88     0.127667     1.001\n",
       "refrig_cond_outlet         300      10.6161   0.9998     126.371    0.449872   124.599    0.00166955   0\n",
       "refrig_cehx_liquid_outlet  288.531  10.6161   0.9998      71.6979   0.264117    69.979    0.00161918  -0.001\n",
       "refrig_exp_outlet          275.888   4.75071  0.9998      71.6979   0.271305    65.1137   0.0138595    0.0470472\n",
       "refrig_evap_outlet         278       4.75071  0.9998    1274.56     4.61607   1148.58     0.268136     0.998\n",
       "refrig_cehx_sat_vapor      283.116   4.75071  0.9998    1277.44     4.62101   1151.16     0.265812     1\n",
       "refrig_cehx_vapor_outlet   298.823   4.75071  0.9998    1329.23     4.80012   1190.99     0.291        1.001\n",
       "rectifier_liquid           310      10.6161   0.754255     4.87593  0.474284     3.37182  0.00141683   0\n",
       "gen_vapor_formation        380      10.6161   0.911714  1597.75     5.18047   1423.34     0.16429      1\n",
       "abs_vapor_final            331.554   4.75071  0.980064  1429.36     5.11629   1273.54     0.327978     1\n",
       "name                     unit             value\n",
       "-----------------------  ------  --------------\n",
       "Q_abs                    kW      -207.721\n",
       "Q_gen                    kW       219.251\n",
       "Q_cond                   kW      -143.705\n",
       "Q_evap                   kW       144.888\n",
       "Q_reflux                 kW       -13.0737\n",
       "Q_shx                    kW        59.9839\n",
       "Q_cehx                   kW         6.58557\n",
       "W_pump                   kW         0.36015\n",
       "COP                      kW/kW      0.660831\n",
       "ZeroCheck                kW        -6.37487e-07\n",
       "ZeroCheckSHX             kW         7.33205e-07\n",
       "ZeroCheckCEHX            kW        -3.53678e-09\n",
       "Q_gen_rect_combo         kW       206.178\n",
       "Q_refrig_side            kW        -1.183\n",
       "ZeroCheckRect            kg/s       0\n",
       "m_rich                   kg/s       0.4\n",
       "m_weak                   kg/s       0.279547\n",
       "m_gen_vapor              kg/s       0.12252\n",
       "m_gen_reflux             kg/s       0.00206711\n",
       "m_refrig                 kg/s       0.120453\n",
       "check_rectifier_delta_T  K         28.09\n",
       "is_degenerate            bool       0"
      ]
     },
     "metadata": {},
     "output_type": "display_data"
    }
   ],
   "source": [
    "a1 = AquaChillerSpec1(T_abs=310)\n",
    "cons = a1.cons()\n",
    "display(a1)\n",
    "colors = cons.map(lambda c: 'b' if c > 0 else 'r')\n",
    "b = cons.plot.bar(color=\"\".join(colors.tolist()))\n",
    "plt.show()\n",
    "ch = ammonia1.AmmoniaChiller()\n",
    "ch.update(x_refrig=a1.x_refrig, T_evap=a1.T_evap, T_cond=a1.T_cond,\n",
    "          T_abs_outlet=a1.T_abs, T_gen_outlet=a1.T_gen, T_rect=a1.T_rect)\n",
    "display(ch)"
   ]
  },
  {
   "cell_type": "code",
   "execution_count": 43,
   "metadata": {},
   "outputs": [
    {
     "data": {
      "text/plain": [
       "True"
      ]
     },
     "execution_count": 43,
     "metadata": {},
     "output_type": "execute_result"
    }
   ],
   "source": [
    "'hello' == 'hello'"
   ]
  },
  {
   "cell_type": "markdown",
   "metadata": {},
   "source": [
    "### Widget demonstration"
   ]
  },
  {
   "cell_type": "code",
   "execution_count": 56,
   "metadata": {
    "scrolled": false
   },
   "outputs": [
    {
     "data": {
      "application/vnd.jupyter.widget-view+json": {
       "model_id": "1c09d71644ad412e9a7d95dc227a4a7a",
       "version_major": 2,
       "version_minor": 0
      },
      "text/plain": [
       "A Jupyter Widget"
      ]
     },
     "metadata": {},
     "output_type": "display_data"
    }
   ],
   "source": [
    "%matplotlib inline\n",
    "import ipywidgets as widgets\n",
    "import widgetsnbextension\n",
    "from ipywidgets import interactive\n",
    "\n",
    "import system_aqua1\n",
    "import ammonia1\n",
    "\n",
    "common_opts = dict(\n",
    "    disabled=False,\n",
    "    continuous_update=False,\n",
    "    orientation='horizontal',\n",
    "    readout=True\n",
    ")\n",
    "w_m_rich = widgets.FloatSlider(\n",
    "    value=0.5,\n",
    "    min=0.1,\n",
    "    max=2.0,\n",
    "    step=0.05,\n",
    "    description='m_rich',\n",
    "    readout_format='.2f',\n",
    "    **common_opts\n",
    ")\n",
    "w_T_evap = widgets.FloatSlider(\n",
    "    value=278.0,\n",
    "    min=200.0,\n",
    "    max=300.0,\n",
    "    step=0.1,\n",
    "    description='T_evap',\n",
    "    readout_format='.1f',\n",
    "    **common_opts\n",
    ")\n",
    "w_T_cond = widgets.FloatSlider(\n",
    "    value= 312.2,\n",
    "    min=200,\n",
    "    max=400,\n",
    "    step=0.1,\n",
    "    description='T_cond',\n",
    "    readout_format='.1f',\n",
    "    **common_opts\n",
    ")\n",
    "w_T_rect = widgets.FloatSlider(\n",
    "    value=313.7,\n",
    "    min=200.0,\n",
    "    max=400.0,\n",
    "    step=0.1,\n",
    "    description='T_rect',\n",
    "    readout_format='.1f',\n",
    "    **common_opts\n",
    ")\n",
    "w_T_abs_outlet = widgets.FloatSlider(\n",
    "    value=310.2,\n",
    "    min=200.0,\n",
    "    max=400.0,\n",
    "    step=0.1,\n",
    "    description='T_abs_outlet',\n",
    "    readout_format='.1f',\n",
    "    **common_opts\n",
    ")\n",
    "w_T_gen_outlet = widgets.FloatSlider(\n",
    "    value=374.1,\n",
    "    min=200.0,\n",
    "    max=500.0,\n",
    "    step=0.1,\n",
    "    description='T_gen_outlet',\n",
    "    readout_format='.1f',\n",
    "    **common_opts\n",
    ")\n",
    "w_x_refrig = widgets.FloatSlider(\n",
    "    value = 0.998,\n",
    "    min = 0.8,\n",
    "    max = 1.1,\n",
    "    step = 0.001,\n",
    "    description='x_refrig',\n",
    "    readout_format='.4f',\n",
    "    **common_opts\n",
    ")\n",
    "def f(m_rich, T_evap, T_cond, T_rect, T_abs_outlet, T_gen_outlet, x_refrig):\n",
    "    \n",
    "    a1 = AquaChillerSpec1(T_abs_outlet, T_cond, T_evap, T_gen_outlet, T_rect, x_refrig)\n",
    "    cons = a1.cons()\n",
    "    #a1.shows=['Warnings']\n",
    "    display(a1)\n",
    "    colors = \"\".join(cons.map(lambda c: 'b' if c > 0 else 'r').tolist())\n",
    "    b = cons.plot.bar(color=colors)\n",
    "    plt.show()\n",
    "    \n",
    "    ch = ammonia1.AmmoniaChiller()\n",
    "    try:\n",
    "        ch.update(x_refrig=a1.x_refrig, T_evap=a1.T_evap, T_cond=a1.T_cond,\n",
    "            T_abs_outlet=a1.T_abs, T_gen_outlet=a1.T_gen, T_rect=a1.T_rect)\n",
    "        display(ch)\n",
    "    except:\n",
    "        print(\"Couldn't create chiller\")\n",
    "    \n",
    "#widgets.VBox(w_m_rich,w_T_evap,w_T_cond,w_T_rect,w_T_abs_outlet,w_T_gen_outlet)\n",
    "interactive(f,\n",
    "            m_rich=w_m_rich,\n",
    "            T_evap=w_T_evap,\n",
    "            T_cond=w_T_cond,\n",
    "            T_rect=w_T_rect,\n",
    "            T_abs_outlet=w_T_abs_outlet,\n",
    "            T_gen_outlet=w_T_gen_outlet,\n",
    "            x_refrig=w_x_refrig\n",
    "           )"
   ]
  },
  {
   "cell_type": "code",
   "execution_count": 97,
   "metadata": {},
   "outputs": [
    {
     "data": {
      "text/plain": [
       "0"
      ]
     },
     "execution_count": 97,
     "metadata": {},
     "output_type": "execute_result"
    }
   ],
   "source": [
    "a1.C[1]"
   ]
  },
  {
   "cell_type": "markdown",
   "metadata": {},
   "source": [
    "### Visualize feasible / infeasible regions"
   ]
  },
  {
   "cell_type": "code",
   "execution_count": 7,
   "metadata": {},
   "outputs": [
    {
     "data": {
      "text/plain": [
       "[0, 1, 2, 3, 4, 5, 6, 7, 8]"
      ]
     },
     "execution_count": 7,
     "metadata": {},
     "output_type": "execute_result"
    }
   ],
   "source": [
    "list(range(AquaChillerSpec1.n_cons))"
   ]
  },
  {
   "cell_type": "code",
   "execution_count": 15,
   "metadata": {},
   "outputs": [
    {
     "name": "stdout",
     "output_type": "stream",
     "text": [
      "(5, 5, 5) 125\n"
     ]
    },
    {
     "data": {
      "text/html": [
       "<div>\n",
       "<style>\n",
       "    .dataframe thead tr:only-child th {\n",
       "        text-align: right;\n",
       "    }\n",
       "\n",
       "    .dataframe thead th {\n",
       "        text-align: left;\n",
       "    }\n",
       "\n",
       "    .dataframe tbody tr th {\n",
       "        vertical-align: top;\n",
       "    }\n",
       "</style>\n",
       "<table border=\"1\" class=\"dataframe\">\n",
       "  <thead>\n",
       "    <tr>\n",
       "      <th></th>\n",
       "      <th></th>\n",
       "      <th></th>\n",
       "      <th colspan=\"9\" halign=\"left\">constraint</th>\n",
       "      <th colspan=\"6\" halign=\"left\">calc</th>\n",
       "      <th colspan=\"6\" halign=\"left\">mapped</th>\n",
       "    </tr>\n",
       "    <tr>\n",
       "      <th></th>\n",
       "      <th></th>\n",
       "      <th></th>\n",
       "      <th>0</th>\n",
       "      <th>1</th>\n",
       "      <th>2</th>\n",
       "      <th>3</th>\n",
       "      <th>4</th>\n",
       "      <th>5</th>\n",
       "      <th>6</th>\n",
       "      <th>7</th>\n",
       "      <th>8</th>\n",
       "      <th>x_refrig_min</th>\n",
       "      <th>...</th>\n",
       "      <th>x_rich_max</th>\n",
       "      <th>x_rich</th>\n",
       "      <th>T_abs_max2</th>\n",
       "      <th>T_gen_min</th>\n",
       "      <th>T_abs</th>\n",
       "      <th>T_cond</th>\n",
       "      <th>T_evap</th>\n",
       "      <th>T_gen</th>\n",
       "      <th>T_rect</th>\n",
       "      <th>x_refrig</th>\n",
       "    </tr>\n",
       "    <tr>\n",
       "      <th>T_low</th>\n",
       "      <th>T_med</th>\n",
       "      <th>T_high</th>\n",
       "      <th></th>\n",
       "      <th></th>\n",
       "      <th></th>\n",
       "      <th></th>\n",
       "      <th></th>\n",
       "      <th></th>\n",
       "      <th></th>\n",
       "      <th></th>\n",
       "      <th></th>\n",
       "      <th></th>\n",
       "      <th></th>\n",
       "      <th></th>\n",
       "      <th></th>\n",
       "      <th></th>\n",
       "      <th></th>\n",
       "      <th></th>\n",
       "      <th></th>\n",
       "      <th></th>\n",
       "      <th></th>\n",
       "      <th></th>\n",
       "      <th></th>\n",
       "    </tr>\n",
       "  </thead>\n",
       "  <tbody>\n",
       "    <tr>\n",
       "      <th rowspan=\"5\" valign=\"top\">220.0</th>\n",
       "      <th rowspan=\"5\" valign=\"top\">220.0</th>\n",
       "      <th>220.0</th>\n",
       "      <td>NaN</td>\n",
       "      <td>NaN</td>\n",
       "      <td>NaN</td>\n",
       "      <td>NaN</td>\n",
       "      <td>NaN</td>\n",
       "      <td>NaN</td>\n",
       "      <td>NaN</td>\n",
       "      <td>NaN</td>\n",
       "      <td>NaN</td>\n",
       "      <td>NaN</td>\n",
       "      <td>...</td>\n",
       "      <td>NaN</td>\n",
       "      <td>NaN</td>\n",
       "      <td>NaN</td>\n",
       "      <td>NaN</td>\n",
       "      <td>NaN</td>\n",
       "      <td>NaN</td>\n",
       "      <td>NaN</td>\n",
       "      <td>NaN</td>\n",
       "      <td>NaN</td>\n",
       "      <td>NaN</td>\n",
       "    </tr>\n",
       "    <tr>\n",
       "      <th>315.0</th>\n",
       "      <td>NaN</td>\n",
       "      <td>NaN</td>\n",
       "      <td>NaN</td>\n",
       "      <td>NaN</td>\n",
       "      <td>NaN</td>\n",
       "      <td>NaN</td>\n",
       "      <td>NaN</td>\n",
       "      <td>NaN</td>\n",
       "      <td>NaN</td>\n",
       "      <td>NaN</td>\n",
       "      <td>...</td>\n",
       "      <td>NaN</td>\n",
       "      <td>NaN</td>\n",
       "      <td>NaN</td>\n",
       "      <td>NaN</td>\n",
       "      <td>NaN</td>\n",
       "      <td>NaN</td>\n",
       "      <td>NaN</td>\n",
       "      <td>NaN</td>\n",
       "      <td>NaN</td>\n",
       "      <td>NaN</td>\n",
       "    </tr>\n",
       "    <tr>\n",
       "      <th>410.0</th>\n",
       "      <td>NaN</td>\n",
       "      <td>NaN</td>\n",
       "      <td>NaN</td>\n",
       "      <td>NaN</td>\n",
       "      <td>NaN</td>\n",
       "      <td>NaN</td>\n",
       "      <td>NaN</td>\n",
       "      <td>NaN</td>\n",
       "      <td>NaN</td>\n",
       "      <td>NaN</td>\n",
       "      <td>...</td>\n",
       "      <td>NaN</td>\n",
       "      <td>NaN</td>\n",
       "      <td>NaN</td>\n",
       "      <td>NaN</td>\n",
       "      <td>NaN</td>\n",
       "      <td>NaN</td>\n",
       "      <td>NaN</td>\n",
       "      <td>NaN</td>\n",
       "      <td>NaN</td>\n",
       "      <td>NaN</td>\n",
       "    </tr>\n",
       "    <tr>\n",
       "      <th>505.0</th>\n",
       "      <td>NaN</td>\n",
       "      <td>NaN</td>\n",
       "      <td>NaN</td>\n",
       "      <td>NaN</td>\n",
       "      <td>NaN</td>\n",
       "      <td>NaN</td>\n",
       "      <td>NaN</td>\n",
       "      <td>NaN</td>\n",
       "      <td>NaN</td>\n",
       "      <td>NaN</td>\n",
       "      <td>...</td>\n",
       "      <td>NaN</td>\n",
       "      <td>NaN</td>\n",
       "      <td>NaN</td>\n",
       "      <td>NaN</td>\n",
       "      <td>NaN</td>\n",
       "      <td>NaN</td>\n",
       "      <td>NaN</td>\n",
       "      <td>NaN</td>\n",
       "      <td>NaN</td>\n",
       "      <td>NaN</td>\n",
       "    </tr>\n",
       "    <tr>\n",
       "      <th>600.0</th>\n",
       "      <td>NaN</td>\n",
       "      <td>NaN</td>\n",
       "      <td>NaN</td>\n",
       "      <td>NaN</td>\n",
       "      <td>NaN</td>\n",
       "      <td>NaN</td>\n",
       "      <td>NaN</td>\n",
       "      <td>NaN</td>\n",
       "      <td>NaN</td>\n",
       "      <td>NaN</td>\n",
       "      <td>...</td>\n",
       "      <td>NaN</td>\n",
       "      <td>NaN</td>\n",
       "      <td>NaN</td>\n",
       "      <td>NaN</td>\n",
       "      <td>NaN</td>\n",
       "      <td>NaN</td>\n",
       "      <td>NaN</td>\n",
       "      <td>NaN</td>\n",
       "      <td>NaN</td>\n",
       "      <td>NaN</td>\n",
       "    </tr>\n",
       "  </tbody>\n",
       "</table>\n",
       "<p>5 rows × 26 columns</p>\n",
       "</div>"
      ],
      "text/plain": [
       "                   constraint                                          \\\n",
       "                            0    1    2    3    4    5    6    7    8   \n",
       "T_low T_med T_high                                                      \n",
       "220.0 220.0 220.0         NaN  NaN  NaN  NaN  NaN  NaN  NaN  NaN  NaN   \n",
       "            315.0         NaN  NaN  NaN  NaN  NaN  NaN  NaN  NaN  NaN   \n",
       "            410.0         NaN  NaN  NaN  NaN  NaN  NaN  NaN  NaN  NaN   \n",
       "            505.0         NaN  NaN  NaN  NaN  NaN  NaN  NaN  NaN  NaN   \n",
       "            600.0         NaN  NaN  NaN  NaN  NaN  NaN  NaN  NaN  NaN   \n",
       "\n",
       "                           calc   ...                                  \\\n",
       "                   x_refrig_min   ...    x_rich_max x_rich T_abs_max2   \n",
       "T_low T_med T_high                ...                                   \n",
       "220.0 220.0 220.0           NaN   ...           NaN    NaN        NaN   \n",
       "            315.0           NaN   ...           NaN    NaN        NaN   \n",
       "            410.0           NaN   ...           NaN    NaN        NaN   \n",
       "            505.0           NaN   ...           NaN    NaN        NaN   \n",
       "            600.0           NaN   ...           NaN    NaN        NaN   \n",
       "\n",
       "                             mapped                                      \n",
       "                   T_gen_min  T_abs T_cond T_evap T_gen T_rect x_refrig  \n",
       "T_low T_med T_high                                                       \n",
       "220.0 220.0 220.0        NaN    NaN    NaN    NaN   NaN    NaN      NaN  \n",
       "            315.0        NaN    NaN    NaN    NaN   NaN    NaN      NaN  \n",
       "            410.0        NaN    NaN    NaN    NaN   NaN    NaN      NaN  \n",
       "            505.0        NaN    NaN    NaN    NaN   NaN    NaN      NaN  \n",
       "            600.0        NaN    NaN    NaN    NaN   NaN    NaN      NaN  \n",
       "\n",
       "[5 rows x 26 columns]"
      ]
     },
     "execution_count": 15,
     "metadata": {},
     "output_type": "execute_result"
    }
   ],
   "source": [
    "# Parametric study / visualize infeasible regions\n",
    "x_refrig = 0.99\n",
    "T_low = 250\n",
    "T_low_range = numpy.linspace(220, 420, 5)\n",
    "T_med_range = numpy.linspace(220, 420, 5)\n",
    "T_high_range = numpy.linspace(220, 600, 5)\n",
    "shape = (len(T_low_range),len(T_med_range),len(T_high_range))\n",
    "study_index = pandas.MultiIndex.from_product(\n",
    "    [T_low_range,T_med_range,T_high_range],\n",
    "    names=['T_low','T_med','T_high'])\n",
    "study_columns=constraint_columns.append(calc_columns).append(mapped_columns)\n",
    "study = pandas.DataFrame(\n",
    "    index=index,\n",
    "    columns=study_columns)\n",
    "print(shape, len(constraints))\n",
    "constraints.head()"
   ]
  },
  {
   "cell_type": "code",
   "execution_count": 16,
   "metadata": {},
   "outputs": [
    {
     "data": {
      "text/plain": [
       "T_low  T_med  T_high\n",
       "220.0  220.0  220.0     NaN\n",
       "              315.0     NaN\n",
       "              410.0     NaN\n",
       "              505.0     NaN\n",
       "              600.0     NaN\n",
       "Name: (constraint, 0), dtype: object"
      ]
     },
     "execution_count": 16,
     "metadata": {},
     "output_type": "execute_result"
    }
   ],
   "source": [
    "study['constraint',0].head()"
   ]
  },
  {
   "cell_type": "code",
   "execution_count": 18,
   "metadata": {},
   "outputs": [
    {
     "data": {
      "text/plain": [
       "0    NaN\n",
       "1    NaN\n",
       "2    NaN\n",
       "3    NaN\n",
       "4    NaN\n",
       "5    NaN\n",
       "6    NaN\n",
       "7    NaN\n",
       "8    NaN\n",
       "Name: (220.0, 220.0, 220.0), dtype: object"
      ]
     },
     "execution_count": 18,
     "metadata": {},
     "output_type": "execute_result"
    }
   ],
   "source": [
    "study.loc[220,220,220]['constraint']"
   ]
  },
  {
   "cell_type": "code",
   "execution_count": 19,
   "metadata": {},
   "outputs": [
    {
     "name": "stdout",
     "output_type": "stream",
     "text": [
      "Case 0 of 5\n",
      "Subcase 0 of 5\n",
      "Subcase 1 of 5\n",
      "Subcase 2 of 5\n",
      "Subcase 3 of 5\n",
      "Subcase 4 of 5\n",
      "Case 1 of 5\n",
      "Subcase 0 of 5\n",
      "Subcase 1 of 5\n",
      "Subcase 2 of 5\n",
      "Subcase 3 of 5\n",
      "Subcase 4 of 5\n",
      "Case 2 of 5\n",
      "Subcase 0 of 5\n",
      "Subcase 1 of 5\n",
      "Subcase 2 of 5\n",
      "Subcase 3 of 5\n",
      "Subcase 4 of 5\n",
      "Case 3 of 5\n",
      "Subcase 0 of 5\n",
      "Subcase 1 of 5\n",
      "Subcase 2 of 5\n",
      "Subcase 3 of 5\n",
      "Subcase 4 of 5\n",
      "Case 4 of 5\n",
      "Subcase 0 of 5\n",
      "Subcase 1 of 5\n",
      "Subcase 2 of 5\n",
      "Subcase 3 of 5\n",
      "Subcase 4 of 5\n",
      "Done.\n",
      "Wall time: 19.9 s\n"
     ]
    }
   ],
   "source": [
    "%%time\n",
    "for (i,T_low) in enumerate(T_low_range):\n",
    "    print(\"Case\",i,\"of\",len(T_low_range))\n",
    "    for (j,T_med) in enumerate(T_med_range):\n",
    "        print(\"Subcase\",j,\"of\",len(T_med_range))\n",
    "        for (k,T_high) in enumerate(T_high_range):\n",
    "            a1 = AquaChillerSpec1(x_refrig=x_refrig,T_evap=T_low,T_abs=T_med, T_cond=T_med, T_gen=T_high)\n",
    "            cons = a1.cons()\n",
    "            study.loc[T_low,T_med,T_high]['constraint'] = cons\n",
    "            study.loc[T_low,T_med,T_high]['calc'] = [a1.]\n",
    "            study.loc[T_low,T_med,T_high]['mapped']\n",
    "            if cons.min() == -999:\n",
    "                print(\"[{},{}] At T_med, T_high = {},{}, caught {}\".format(i,j,T_med,T_high,a1.messages[-1]))\n",
    "print(\"Done.\")\n",
    "#violations[violations>0] = numpy.nan"
   ]
  },
  {
   "cell_type": "code",
   "execution_count": 30,
   "metadata": {},
   "outputs": [
    {
     "data": {
      "text/plain": [
       "1.1105263157894736"
      ]
     },
     "execution_count": 30,
     "metadata": {},
     "output_type": "execute_result"
    }
   ],
   "source": [
    "211 / 190"
   ]
  },
  {
   "cell_type": "code",
   "execution_count": 12,
   "metadata": {},
   "outputs": [
    {
     "data": {
      "text/html": [
       "<h5>Inputs</h5>\n",
       "                <ul><li>T_abs = 400</li><li>T_cond = 400</li><li>T_evap = 400</li>\n",
       "                <li>T_gen = 570</li><li>T_rect = 310</li><li>x_refrig = 0.99</li></ul><h5>Computed limits</h5>\n",
       "                <ul>\n",
       "                <li>x_refrig_min = 0.9</li><li>x_refrig_max = 1</li>\n",
       "                <li>T_cond_max = 410.418</li><li>T_evap_min = 229.124</li>\n",
       "                <li>P_cond = 117.778</li><li>P_evap = 77.3125</li>\n",
       "                <li>T_abs_max1 = 537.894</li><li>x_rich_max = 0.808976</li>\n",
       "                <li>x_rich = 0.808976</li>\n",
       "                <li>T_abs_max2 = 413.914</li><li>T_gen_min = 432.132</li></ul><h5>Mapped inputs</h5>\n",
       "                <ul><li>T_abs = 400</li><li>T_cond = 400</li><li>T_evap = 400</li>\n",
       "                <li>T_gen = 570</li><li>T_rect = 310</li><li>x_refrig = 0.99</li></ul><h5>Constraint functions</h5>\n",
       "                <pre>0      0.000000\n",
       "1      0.090000\n",
       "2      0.010000\n",
       "3    170.876392\n",
       "4     10.417699\n",
       "5      0.000000\n",
       "6    137.894236\n",
       "7     13.913831\n",
       "8    137.867933\n",
       "dtype: float64</pre><h5>Warnings</h5>\n",
       "                <ul></ul>"
      ],
      "text/plain": [
       "<__main__.AquaChillerSpec1 at 0x7e6a170>"
      ]
     },
     "execution_count": 12,
     "metadata": {},
     "output_type": "execute_result"
    }
   ],
   "source": [
    "a1"
   ]
  },
  {
   "cell_type": "code",
   "execution_count": 2,
   "metadata": {
    "collapsed": true
   },
   "outputs": [],
   "source": [
    "fname = 'feasibility_ammonia_data.csv'"
   ]
  },
  {
   "cell_type": "code",
   "execution_count": 37,
   "metadata": {
    "collapsed": true
   },
   "outputs": [],
   "source": [
    "constraints.to_csv(fname)"
   ]
  },
  {
   "cell_type": "code",
   "execution_count": 44,
   "metadata": {
    "collapsed": true
   },
   "outputs": [],
   "source": [
    "import pandas\n",
    "constraints= pandas.read_csv(fname, header=0, index_col=[0,1,2])"
   ]
  },
  {
   "cell_type": "code",
   "execution_count": 21,
   "metadata": {},
   "outputs": [
    {
     "data": {
      "text/html": [
       "<div>\n",
       "<style>\n",
       "    .dataframe thead tr:only-child th {\n",
       "        text-align: right;\n",
       "    }\n",
       "\n",
       "    .dataframe thead th {\n",
       "        text-align: left;\n",
       "    }\n",
       "\n",
       "    .dataframe tbody tr th {\n",
       "        vertical-align: top;\n",
       "    }\n",
       "</style>\n",
       "<table border=\"1\" class=\"dataframe\">\n",
       "  <thead>\n",
       "    <tr>\n",
       "      <th></th>\n",
       "      <th></th>\n",
       "      <th></th>\n",
       "      <th colspan=\"9\" halign=\"left\">constraint</th>\n",
       "      <th colspan=\"6\" halign=\"left\">calc</th>\n",
       "      <th colspan=\"6\" halign=\"left\">mapped</th>\n",
       "    </tr>\n",
       "    <tr>\n",
       "      <th></th>\n",
       "      <th></th>\n",
       "      <th></th>\n",
       "      <th>0</th>\n",
       "      <th>1</th>\n",
       "      <th>2</th>\n",
       "      <th>3</th>\n",
       "      <th>4</th>\n",
       "      <th>5</th>\n",
       "      <th>6</th>\n",
       "      <th>7</th>\n",
       "      <th>8</th>\n",
       "      <th>x_refrig_min</th>\n",
       "      <th>...</th>\n",
       "      <th>x_rich_max</th>\n",
       "      <th>x_rich</th>\n",
       "      <th>T_abs_max2</th>\n",
       "      <th>T_gen_min</th>\n",
       "      <th>T_abs</th>\n",
       "      <th>T_cond</th>\n",
       "      <th>T_evap</th>\n",
       "      <th>T_gen</th>\n",
       "      <th>T_rect</th>\n",
       "      <th>x_refrig</th>\n",
       "    </tr>\n",
       "    <tr>\n",
       "      <th>T_low</th>\n",
       "      <th>T_med</th>\n",
       "      <th>T_high</th>\n",
       "      <th></th>\n",
       "      <th></th>\n",
       "      <th></th>\n",
       "      <th></th>\n",
       "      <th></th>\n",
       "      <th></th>\n",
       "      <th></th>\n",
       "      <th></th>\n",
       "      <th></th>\n",
       "      <th></th>\n",
       "      <th></th>\n",
       "      <th></th>\n",
       "      <th></th>\n",
       "      <th></th>\n",
       "      <th></th>\n",
       "      <th></th>\n",
       "      <th></th>\n",
       "      <th></th>\n",
       "      <th></th>\n",
       "      <th></th>\n",
       "      <th></th>\n",
       "    </tr>\n",
       "  </thead>\n",
       "  <tbody>\n",
       "    <tr>\n",
       "      <th rowspan=\"5\" valign=\"top\">220.0</th>\n",
       "      <th rowspan=\"5\" valign=\"top\">220.0</th>\n",
       "      <th>220.0</th>\n",
       "      <td>NaN</td>\n",
       "      <td>NaN</td>\n",
       "      <td>NaN</td>\n",
       "      <td>NaN</td>\n",
       "      <td>NaN</td>\n",
       "      <td>NaN</td>\n",
       "      <td>NaN</td>\n",
       "      <td>NaN</td>\n",
       "      <td>NaN</td>\n",
       "      <td>NaN</td>\n",
       "      <td>...</td>\n",
       "      <td>NaN</td>\n",
       "      <td>NaN</td>\n",
       "      <td>NaN</td>\n",
       "      <td>NaN</td>\n",
       "      <td>NaN</td>\n",
       "      <td>NaN</td>\n",
       "      <td>NaN</td>\n",
       "      <td>NaN</td>\n",
       "      <td>NaN</td>\n",
       "      <td>NaN</td>\n",
       "    </tr>\n",
       "    <tr>\n",
       "      <th>315.0</th>\n",
       "      <td>NaN</td>\n",
       "      <td>NaN</td>\n",
       "      <td>NaN</td>\n",
       "      <td>NaN</td>\n",
       "      <td>NaN</td>\n",
       "      <td>NaN</td>\n",
       "      <td>NaN</td>\n",
       "      <td>NaN</td>\n",
       "      <td>NaN</td>\n",
       "      <td>NaN</td>\n",
       "      <td>...</td>\n",
       "      <td>NaN</td>\n",
       "      <td>NaN</td>\n",
       "      <td>NaN</td>\n",
       "      <td>NaN</td>\n",
       "      <td>NaN</td>\n",
       "      <td>NaN</td>\n",
       "      <td>NaN</td>\n",
       "      <td>NaN</td>\n",
       "      <td>NaN</td>\n",
       "      <td>NaN</td>\n",
       "    </tr>\n",
       "    <tr>\n",
       "      <th>410.0</th>\n",
       "      <td>NaN</td>\n",
       "      <td>NaN</td>\n",
       "      <td>NaN</td>\n",
       "      <td>NaN</td>\n",
       "      <td>NaN</td>\n",
       "      <td>NaN</td>\n",
       "      <td>NaN</td>\n",
       "      <td>NaN</td>\n",
       "      <td>NaN</td>\n",
       "      <td>NaN</td>\n",
       "      <td>...</td>\n",
       "      <td>NaN</td>\n",
       "      <td>NaN</td>\n",
       "      <td>NaN</td>\n",
       "      <td>NaN</td>\n",
       "      <td>NaN</td>\n",
       "      <td>NaN</td>\n",
       "      <td>NaN</td>\n",
       "      <td>NaN</td>\n",
       "      <td>NaN</td>\n",
       "      <td>NaN</td>\n",
       "    </tr>\n",
       "    <tr>\n",
       "      <th>505.0</th>\n",
       "      <td>NaN</td>\n",
       "      <td>NaN</td>\n",
       "      <td>NaN</td>\n",
       "      <td>NaN</td>\n",
       "      <td>NaN</td>\n",
       "      <td>NaN</td>\n",
       "      <td>NaN</td>\n",
       "      <td>NaN</td>\n",
       "      <td>NaN</td>\n",
       "      <td>NaN</td>\n",
       "      <td>...</td>\n",
       "      <td>NaN</td>\n",
       "      <td>NaN</td>\n",
       "      <td>NaN</td>\n",
       "      <td>NaN</td>\n",
       "      <td>NaN</td>\n",
       "      <td>NaN</td>\n",
       "      <td>NaN</td>\n",
       "      <td>NaN</td>\n",
       "      <td>NaN</td>\n",
       "      <td>NaN</td>\n",
       "    </tr>\n",
       "    <tr>\n",
       "      <th>600.0</th>\n",
       "      <td>NaN</td>\n",
       "      <td>NaN</td>\n",
       "      <td>NaN</td>\n",
       "      <td>NaN</td>\n",
       "      <td>NaN</td>\n",
       "      <td>NaN</td>\n",
       "      <td>NaN</td>\n",
       "      <td>NaN</td>\n",
       "      <td>NaN</td>\n",
       "      <td>NaN</td>\n",
       "      <td>...</td>\n",
       "      <td>NaN</td>\n",
       "      <td>NaN</td>\n",
       "      <td>NaN</td>\n",
       "      <td>NaN</td>\n",
       "      <td>NaN</td>\n",
       "      <td>NaN</td>\n",
       "      <td>NaN</td>\n",
       "      <td>NaN</td>\n",
       "      <td>NaN</td>\n",
       "      <td>NaN</td>\n",
       "    </tr>\n",
       "  </tbody>\n",
       "</table>\n",
       "<p>5 rows × 26 columns</p>\n",
       "</div>"
      ],
      "text/plain": [
       "                   constraint                                          \\\n",
       "                            0    1    2    3    4    5    6    7    8   \n",
       "T_low T_med T_high                                                      \n",
       "220.0 220.0 220.0         NaN  NaN  NaN  NaN  NaN  NaN  NaN  NaN  NaN   \n",
       "            315.0         NaN  NaN  NaN  NaN  NaN  NaN  NaN  NaN  NaN   \n",
       "            410.0         NaN  NaN  NaN  NaN  NaN  NaN  NaN  NaN  NaN   \n",
       "            505.0         NaN  NaN  NaN  NaN  NaN  NaN  NaN  NaN  NaN   \n",
       "            600.0         NaN  NaN  NaN  NaN  NaN  NaN  NaN  NaN  NaN   \n",
       "\n",
       "                           calc   ...                                  \\\n",
       "                   x_refrig_min   ...    x_rich_max x_rich T_abs_max2   \n",
       "T_low T_med T_high                ...                                   \n",
       "220.0 220.0 220.0           NaN   ...           NaN    NaN        NaN   \n",
       "            315.0           NaN   ...           NaN    NaN        NaN   \n",
       "            410.0           NaN   ...           NaN    NaN        NaN   \n",
       "            505.0           NaN   ...           NaN    NaN        NaN   \n",
       "            600.0           NaN   ...           NaN    NaN        NaN   \n",
       "\n",
       "                             mapped                                      \n",
       "                   T_gen_min  T_abs T_cond T_evap T_gen T_rect x_refrig  \n",
       "T_low T_med T_high                                                       \n",
       "220.0 220.0 220.0        NaN    NaN    NaN    NaN   NaN    NaN      NaN  \n",
       "            315.0        NaN    NaN    NaN    NaN   NaN    NaN      NaN  \n",
       "            410.0        NaN    NaN    NaN    NaN   NaN    NaN      NaN  \n",
       "            505.0        NaN    NaN    NaN    NaN   NaN    NaN      NaN  \n",
       "            600.0        NaN    NaN    NaN    NaN   NaN    NaN      NaN  \n",
       "\n",
       "[5 rows x 26 columns]"
      ]
     },
     "execution_count": 21,
     "metadata": {},
     "output_type": "execute_result"
    }
   ],
   "source": [
    "study.head()"
   ]
  },
  {
   "cell_type": "code",
   "execution_count": 77,
   "metadata": {},
   "outputs": [
    {
     "data": {
      "text/plain": [
       "T_low  T_med  T_high\n",
       "220    220    220       0.0\n",
       "              240       0.0\n",
       "              260       0.0\n",
       "              280       0.0\n",
       "              300       0.0\n",
       "Name: 0, dtype: float64"
      ]
     },
     "execution_count": 77,
     "metadata": {},
     "output_type": "execute_result"
    }
   ],
   "source": [
    "constraints['0'].head()"
   ]
  },
  {
   "cell_type": "code",
   "execution_count": 46,
   "metadata": {},
   "outputs": [
    {
     "data": {
      "text/html": [
       "<div>\n",
       "<style>\n",
       "    .dataframe thead tr:only-child th {\n",
       "        text-align: right;\n",
       "    }\n",
       "\n",
       "    .dataframe thead th {\n",
       "        text-align: left;\n",
       "    }\n",
       "\n",
       "    .dataframe tbody tr th {\n",
       "        vertical-align: top;\n",
       "    }\n",
       "</style>\n",
       "<table border=\"1\" class=\"dataframe\">\n",
       "  <thead>\n",
       "    <tr style=\"text-align: right;\">\n",
       "      <th></th>\n",
       "      <th></th>\n",
       "      <th></th>\n",
       "      <th>0</th>\n",
       "      <th>1</th>\n",
       "      <th>2</th>\n",
       "      <th>3</th>\n",
       "      <th>4</th>\n",
       "      <th>5</th>\n",
       "      <th>6</th>\n",
       "      <th>7</th>\n",
       "      <th>8</th>\n",
       "    </tr>\n",
       "    <tr>\n",
       "      <th>T_low</th>\n",
       "      <th>T_med</th>\n",
       "      <th>T_high</th>\n",
       "      <th></th>\n",
       "      <th></th>\n",
       "      <th></th>\n",
       "      <th></th>\n",
       "      <th></th>\n",
       "      <th></th>\n",
       "      <th></th>\n",
       "      <th></th>\n",
       "      <th></th>\n",
       "    </tr>\n",
       "  </thead>\n",
       "  <tbody>\n",
       "    <tr>\n",
       "      <th rowspan=\"5\" valign=\"top\">220</th>\n",
       "      <th rowspan=\"5\" valign=\"top\">220</th>\n",
       "      <th>220</th>\n",
       "      <td>True</td>\n",
       "      <td>True</td>\n",
       "      <td>True</td>\n",
       "      <td>False</td>\n",
       "      <td>True</td>\n",
       "      <td>True</td>\n",
       "      <td>True</td>\n",
       "      <td>True</td>\n",
       "      <td>False</td>\n",
       "    </tr>\n",
       "    <tr>\n",
       "      <th>240</th>\n",
       "      <td>True</td>\n",
       "      <td>True</td>\n",
       "      <td>True</td>\n",
       "      <td>False</td>\n",
       "      <td>True</td>\n",
       "      <td>True</td>\n",
       "      <td>True</td>\n",
       "      <td>True</td>\n",
       "      <td>False</td>\n",
       "    </tr>\n",
       "    <tr>\n",
       "      <th>260</th>\n",
       "      <td>True</td>\n",
       "      <td>True</td>\n",
       "      <td>True</td>\n",
       "      <td>False</td>\n",
       "      <td>True</td>\n",
       "      <td>True</td>\n",
       "      <td>True</td>\n",
       "      <td>True</td>\n",
       "      <td>False</td>\n",
       "    </tr>\n",
       "    <tr>\n",
       "      <th>280</th>\n",
       "      <td>True</td>\n",
       "      <td>True</td>\n",
       "      <td>True</td>\n",
       "      <td>False</td>\n",
       "      <td>True</td>\n",
       "      <td>True</td>\n",
       "      <td>True</td>\n",
       "      <td>True</td>\n",
       "      <td>True</td>\n",
       "    </tr>\n",
       "    <tr>\n",
       "      <th>300</th>\n",
       "      <td>True</td>\n",
       "      <td>True</td>\n",
       "      <td>True</td>\n",
       "      <td>False</td>\n",
       "      <td>True</td>\n",
       "      <td>True</td>\n",
       "      <td>True</td>\n",
       "      <td>True</td>\n",
       "      <td>True</td>\n",
       "    </tr>\n",
       "  </tbody>\n",
       "</table>\n",
       "</div>"
      ],
      "text/plain": [
       "                       0     1     2      3     4     5     6     7      8\n",
       "T_low T_med T_high                                                        \n",
       "220   220   220     True  True  True  False  True  True  True  True  False\n",
       "            240     True  True  True  False  True  True  True  True  False\n",
       "            260     True  True  True  False  True  True  True  True  False\n",
       "            280     True  True  True  False  True  True  True  True   True\n",
       "            300     True  True  True  False  True  True  True  True   True"
      ]
     },
     "execution_count": 46,
     "metadata": {},
     "output_type": "execute_result"
    }
   ],
   "source": [
    "okay = constraints >= 0\n",
    "okay.head()"
   ]
  },
  {
   "cell_type": "code",
   "execution_count": 47,
   "metadata": {},
   "outputs": [
    {
     "data": {
      "text/plain": [
       "T_low  T_med  T_high\n",
       "220    220    220       False\n",
       "              240       False\n",
       "              260       False\n",
       "              280       False\n",
       "              300       False\n",
       "dtype: bool"
      ]
     },
     "execution_count": 47,
     "metadata": {},
     "output_type": "execute_result"
    }
   ],
   "source": [
    "okay.all(axis='columns').head()"
   ]
  },
  {
   "cell_type": "code",
   "execution_count": 54,
   "metadata": {},
   "outputs": [
    {
     "data": {
      "text/plain": [
       "T_low  T_med  T_high\n",
       "220    220    220       55.138300\n",
       "              240       35.138300\n",
       "              260       15.138300\n",
       "              280        9.123608\n",
       "              300        9.123608\n",
       "dtype: float64"
      ]
     },
     "execution_count": 54,
     "metadata": {},
     "output_type": "execute_result"
    }
   ],
   "source": [
    "penalty = -constraints.min(axis='columns')\n",
    "penalty.head()\n",
    "#penalty.values.reshape(shape)[3,:,:]"
   ]
  },
  {
   "cell_type": "code",
   "execution_count": 64,
   "metadata": {},
   "outputs": [
    {
     "data": {
      "text/plain": [
       "T_low  T_med  T_high\n",
       "220    220    220       8.0\n",
       "              240       8.0\n",
       "              260       8.0\n",
       "              280       3.0\n",
       "              300       3.0\n",
       "dtype: float64"
      ]
     },
     "execution_count": 64,
     "metadata": {},
     "output_type": "execute_result"
    }
   ],
   "source": [
    "worst = constraints.idxmin(axis='columns').astype('float')\n",
    "worst.head()"
   ]
  },
  {
   "cell_type": "code",
   "execution_count": 66,
   "metadata": {},
   "outputs": [
    {
     "data": {
      "image/png": "[encoded data removed]",
      "text/plain": [
       "<matplotlib.figure.Figure at 0x969df10>"
      ]
     },
     "metadata": {},
     "output_type": "display_data"
    },
    {
     "data": {
      "image/png": "[encoded data removed]",
      "text/plain": [
       "<matplotlib.figure.Figure at 0x9a607b0>"
      ]
     },
     "metadata": {},
     "output_type": "display_data"
    },
    {
     "data": {
      "image/png": "[encoded data removed]",
      "text/plain": [
       "<matplotlib.figure.Figure at 0x9aab650>"
      ]
     },
     "metadata": {},
     "output_type": "display_data"
    }
   ],
   "source": [
    "plt.figure()\n",
    "#plt.contourf(T_med_range, T_high_range, violations.T, cmap='spring')\n",
    "plt.pcolormesh(T_med_range, T_high_range, penalty.values.reshape(shape)[3,:,:].T) #, cmap='spring')\n",
    "plt.xlabel(\"T_reject\")\n",
    "plt.ylabel(\"T_high\")\n",
    "plt.colorbar()\n",
    "\n",
    "plt.figure()\n",
    "#plt.imshow(worst[:,::-1].T)\n",
    "plt.pcolormesh(T_med_range,T_high_range,worst.values.reshape(shape)[3,:,:].T,vmin=0.,vmax=7.)\n",
    "#plt.contourf(T_med_range, T_high_range, worst.T, cmap='Pastel1', vmin=0, vmax=255 )\n",
    "plt.xlabel(\"T_reject\")\n",
    "plt.ylabel(\"T_high\")\n",
    "plt.colorbar()\n",
    "\n",
    "plt.figure()\n",
    "worst.plot.hist(bins=numpy.arange(-0.5,AquaChillerSpec1.n_cons))\n",
    "\n",
    "plt.show()"
   ]
  },
  {
   "cell_type": "code",
   "execution_count": 76,
   "metadata": {
    "collapsed": true
   },
   "outputs": [],
   "source": [
    "import pyvtk\n",
    "grid = pyvtk.RectilinearGrid(T_high_range,T_med_range,T_low_range)\n",
    "vtk = pyvtk.VtkData(grid)\n",
    "vtk.point_data.append(pyvtk.Scalars(penalty.values,\n",
    "                                    name='Cost penalty'))\n",
    "for i in range(AquaChillerSpec1.n_cons):\n",
    "    vtk.point_data.append(pyvtk.Scalars(constraints[str(i)].values,\n",
    "                                        name='C{}'.format(i)))\n",
    "vtk.point_data.append(pyvtk.Scalars(worst.values,\n",
    "                                    name='Worst constraint'))\n",
    "vtk.tofile('feasibility_ammonia_data.vtk')"
   ]
  },
  {
   "cell_type": "markdown",
   "metadata": {},
   "source": [
    "### Problem cases"
   ]
  },
  {
   "cell_type": "code",
   "execution_count": 311,
   "metadata": {},
   "outputs": [
    {
     "name": "stdout",
     "output_type": "stream",
     "text": [
      "State(T=396.666667, P=102.11911867081996, x=0.9998, h=655.3371030500907, s=1.9179410016989382, u=632.079587356763, v=0.0022774442432729365, Qu=1e-06)\n",
      "State(T=396.666666, P=130.71246947558606, x=0.9998, h=652.5895375913475, s=1.8947393278504907, u=622.8633116836049, v=0.0022748701284714405, Qu=0.0)\n",
      "State(T=396.666668, P=102.05594348386495, x=0.9998, h=655.2895597768476, s=1.918085931480245, u=632.0484545407089, v=0.0022772893899859624, Qu=0.0)\n"
     ]
    },
    {
     "ename": "KeyError",
     "evalue": "\"DLL returned b'Saturation properties cannot be determined for the given input variables'\"",
     "output_type": "error",
     "traceback": [
      "\u001b[1;31m---------------------------------------------------------------------------\u001b[0m",
      "\u001b[1;31mKeyError\u001b[0m                                  Traceback (most recent call last)",
      "\u001b[1;32m<ipython-input-311-2f49da9b80de>\u001b[0m in \u001b[0;36m<module>\u001b[1;34m()\u001b[0m\n\u001b[0;32m      3\u001b[0m     \u001b[0mprint\u001b[0m\u001b[1;33m(\u001b[0m\u001b[0mamm\u001b[0m\u001b[1;33m.\u001b[0m\u001b[0mprops2\u001b[0m\u001b[1;33m(\u001b[0m\u001b[0mT\u001b[0m\u001b[1;33m=\u001b[0m\u001b[0mT_med\u001b[0m\u001b[1;33m,\u001b[0m\u001b[0mx\u001b[0m\u001b[1;33m=\u001b[0m\u001b[1;36m0.9998\u001b[0m\u001b[1;33m,\u001b[0m\u001b[0mQu\u001b[0m\u001b[1;33m=\u001b[0m\u001b[1;36m0.000001\u001b[0m\u001b[1;33m)\u001b[0m\u001b[1;33m)\u001b[0m\u001b[1;33m\u001b[0m\u001b[0m\n\u001b[0;32m      4\u001b[0m \u001b[1;32mfor\u001b[0m \u001b[0mT_med\u001b[0m \u001b[1;32min\u001b[0m \u001b[1;33m[\u001b[0m\u001b[1;36m396.666666\u001b[0m\u001b[1;33m,\u001b[0m\u001b[1;36m396.666668\u001b[0m\u001b[1;33m,\u001b[0m\u001b[1;36m396.666667\u001b[0m\u001b[1;33m]\u001b[0m\u001b[1;33m:\u001b[0m\u001b[1;33m\u001b[0m\u001b[0m\n\u001b[1;32m----> 5\u001b[1;33m     \u001b[0mprint\u001b[0m\u001b[1;33m(\u001b[0m\u001b[0mamm\u001b[0m\u001b[1;33m.\u001b[0m\u001b[0mprops2\u001b[0m\u001b[1;33m(\u001b[0m\u001b[0mT\u001b[0m\u001b[1;33m=\u001b[0m\u001b[0mT_med\u001b[0m\u001b[1;33m,\u001b[0m\u001b[0mx\u001b[0m\u001b[1;33m=\u001b[0m\u001b[1;36m0.9998\u001b[0m\u001b[1;33m,\u001b[0m\u001b[0mQu\u001b[0m\u001b[1;33m=\u001b[0m\u001b[1;36m0.00000\u001b[0m\u001b[1;33m)\u001b[0m\u001b[1;33m)\u001b[0m\u001b[1;33m\u001b[0m\u001b[0m\n\u001b[0m",
      "\u001b[1;32m~\\Documents\\GitHub\\openACHP\\src\\ammonia_props.py\u001b[0m in \u001b[0;36mprops2\u001b[1;34m(self, **kwargs)\u001b[0m\n\u001b[0;32m    221\u001b[0m         \u001b[1;32mif\u001b[0m \u001b[0ms\u001b[0m\u001b[1;33m:\u001b[0m\u001b[1;33m\u001b[0m\u001b[0m\n\u001b[0;32m    222\u001b[0m             \u001b[1;31m#print(vals)\u001b[0m\u001b[1;33m\u001b[0m\u001b[1;33m\u001b[0m\u001b[0m\n\u001b[1;32m--> 223\u001b[1;33m             \u001b[1;32mraise\u001b[0m \u001b[0mKeyError\u001b[0m\u001b[1;33m(\u001b[0m\u001b[1;34m'DLL returned {}'\u001b[0m\u001b[1;33m.\u001b[0m\u001b[0mformat\u001b[0m\u001b[1;33m(\u001b[0m\u001b[0ms\u001b[0m\u001b[1;33m)\u001b[0m\u001b[1;33m)\u001b[0m\u001b[1;33m\u001b[0m\u001b[0m\n\u001b[0m\u001b[0;32m    224\u001b[0m \u001b[1;33m\u001b[0m\u001b[0m\n\u001b[0;32m    225\u001b[0m         \u001b[1;32mif\u001b[0m \u001b[0mout\u001b[0m\u001b[1;33m:\u001b[0m\u001b[1;33m\u001b[0m\u001b[0m\n",
      "\u001b[1;31mKeyError\u001b[0m: \"DLL returned b'Saturation properties cannot be determined for the given input variables'\""
     ]
    }
   ],
   "source": [
    "# Problem cases ... should work but don't. Wow.\n",
    "for T_med in [396.666667]:\n",
    "    print(amm.props2(T=T_med,x=0.9998,Qu=0.000001))\n",
    "for T_med in [396.666666,396.666668,396.666667]:\n",
    "    print(amm.props2(T=T_med,x=0.9998,Qu=0.00000))"
   ]
  },
  {
   "cell_type": "code",
   "execution_count": 56,
   "metadata": {},
   "outputs": [
    {
     "data": {
      "image/png": "[encoded data removed]",
      "text/plain": [
       "<matplotlib.figure.Figure at 0x83fb450>"
      ]
     },
     "metadata": {},
     "output_type": "display_data"
    }
   ],
   "source": [
    "#T=numpy.linspace(350,500,100)\n",
    "T=numpy.linspace(390,410,100)\n",
    "P0=T.copy(); P0.fill(nan)\n",
    "P1=P0.copy()\n",
    "for x in [0.98, 0.998, 0.9998, 0.99998, 0.999998]:\n",
    "    for i,t in enumerate(T):\n",
    "        try:\n",
    "            P0[i]=amm.props2(T=t,x=x,Qu=0,out='P')\n",
    "            P1[i]=amm.props2(T=t,x=x,Qu=1,out='P')\n",
    "        except:\n",
    "            pass\n",
    "    plt.plot(T,P0,'.')\n",
    "    plt.plot(T,P1,'.')\n",
    "plt.ylim(75,175)\n",
    "plt.show()"
   ]
  },
  {
   "cell_type": "markdown",
   "metadata": {},
   "source": [
    "## Appendix"
   ]
  },
  {
   "cell_type": "markdown",
   "metadata": {},
   "source": [
    "### Visualize relations between a few variables of state"
   ]
  },
  {
   "cell_type": "code",
   "execution_count": 1,
   "metadata": {
    "collapsed": true
   },
   "outputs": [],
   "source": [
    "import CoolProp\n",
    "import CoolProp.CoolProp as CP\n",
    "import numpy\n",
    "from numpy import array, inf, nan\n",
    "import matplotlib.pyplot as plt\n",
    "T0, x0, Qu0 = 350., 0.8, 1.0\n",
    "P0 = CP.PropsSI('P','T',T0,'Q',Qu0,\"REFPROP::ammonia[{}]&water[{}]\".format(x0,1.-x0))"
   ]
  },
  {
   "cell_type": "code",
   "execution_count": 2,
   "metadata": {},
   "outputs": [
    {
     "data": {
      "image/png": "[encoded data removed]",
      "text/plain": [
       "<matplotlib.figure.Figure at 0x7ea7390>"
      ]
     },
     "metadata": {},
     "output_type": "display_data"
    }
   ],
   "source": [
    "T = numpy.linspace(300,400)\n",
    "Qu = numpy.linspace(0,1)\n",
    "x = numpy.linspace(0.4,0.99)\n",
    "\n",
    "plt.close('all')\n",
    "fig = plt.figure(figsize=[10,4])\n",
    "\n",
    "#CP.PropsSI('P','T',350, 'Q',1,\"REFPROP::ammonia[0.1]&water[0.9]\")\n",
    "P_vs_T = CP.PropsSI('P','T',T,'Q',Qu0,\"REFPROP::ammonia[{}]&water[{}]\".format(x0,1.-x0))\n",
    "fig.add_subplot(131)\n",
    "plt.plot(T, P_vs_T)\n",
    "plt.plot(T0, P0, 'o')\n",
    "plt.xlabel('T')\n",
    "plt.ylabel('P')\n",
    "\n",
    "P_vs_Qu = CP.PropsSI('P','T',T0,'Q',Qu,\"REFPROP::ammonia[{}]&water[{}]\".format(x0,1.-x0))\n",
    "fig.add_subplot(132)\n",
    "plt.plot(Qu, P_vs_Qu)\n",
    "plt.plot(Qu0, P0, 'o')\n",
    "plt.xlabel('Qu')\n",
    "\n",
    "P_vs_x = array([CP.PropsSI('P','T',T0,'Q',Qu0,\"REFPROP::ammonia[{}]&water[{}]\".format(xi,1.-xi))\n",
    "                for xi in x])\n",
    "fig.add_subplot(133)\n",
    "plt.plot(x, P_vs_x)\n",
    "plt.plot(x0, P0, 'o')\n",
    "plt.xlabel('x')\n",
    "\n",
    "plt.show()"
   ]
  },
  {
   "cell_type": "code",
   "execution_count": 15,
   "metadata": {},
   "outputs": [
    {
     "data": {
      "image/png": "[encoded data removed]",
      "text/plain": [
       "<matplotlib.figure.Figure at 0xa3c6cb0>"
      ]
     },
     "metadata": {},
     "output_type": "display_data"
    }
   ],
   "source": [
    "qt5 = False\n",
    "if qt5:\n",
    "    %matplotlib qt5\n",
    "else:\n",
    "    %matplotlib inline\n",
    "plt.close('all')\n",
    "fig = plt.figure(figsize=[10,4])\n",
    "ax1=fig.add_subplot(131)\n",
    "ax1.set_ylim(0,1)\n",
    "ax1.set_xlim(6e4, 6e5)\n",
    "ax1.set_ylabel('x')\n",
    "ax1.set_xlabel('P')\n",
    "\n",
    "ax2=fig.add_subplot(132)\n",
    "ax2.set_ylim(0,1)\n",
    "ax2.set_xlim(3e2, 4e2)\n",
    "ax2.set_xlabel('T')\n",
    "\n",
    "ax3=fig.add_subplot(133)\n",
    "ax3.set_ylim(0,1)\n",
    "ax3.set_xlim(-1e-2, 1+1e-2)\n",
    "ax3.set_xlabel('Qu')\n",
    "\n",
    "if qt5:\n",
    "    ax1.plot(P0, x0, 'o')\n",
    "    ax2.plot(T0, x0, 'o')\n",
    "    ax3.plot(Qu0, x0, 'o')\n",
    "\n",
    "pointopts = dict(color='grey', alpha=0.5, markersize=5.)\n",
    "\n",
    "CPRP = CoolProp.AbstractState(\"REFPROP\",\"ammonia&water\")\n",
    "PTQ = numpy.empty([3,len(x)])\n",
    "PTQ.fill(nan)\n",
    "try:\n",
    "    for i,xi in enumerate(x):\n",
    "        #print(\"Case\", i, flush=True)\n",
    "        if i > 45:\n",
    "            continue\n",
    "        CPRP.set_mole_fractions([xi,1-xi])\n",
    "        try:\n",
    "            CPRP.update(CoolProp.QT_INPUTS,Qu0,T0)\n",
    "            pi = CPRP.p()\n",
    "        except ValueError:\n",
    "            pi = nan\n",
    "            \n",
    "        try:\n",
    "            CPRP.update(CoolProp.PQ_INPUTS,P0,Qu0)\n",
    "            ti = CPRP.T()\n",
    "        except ValueError:\n",
    "            ti = nan\n",
    "            \n",
    "        try:\n",
    "            CPRP.update(CoolProp.PT_INPUTS,P0,T0)\n",
    "            qi = CPRP.Q()\n",
    "        except ValueError:\n",
    "            qi = nan\n",
    "        if qt5:\n",
    "            ax1.plot(pi, xi, 'o', **pointopts)\n",
    "            ax2.plot(ti, xi, 'o', **pointopts)\n",
    "            ax3.plot(qi, xi, 'o', **pointopts)\n",
    "            fig.canvas.draw()\n",
    "            fig.canvas.flush_events()\n",
    "        else:\n",
    "            PTQ[:,i] = pi, ti, qi\n",
    "except:\n",
    "    pass\n",
    "\n",
    "if not qt5:\n",
    "    ax1.plot(PTQ[0,:], x)\n",
    "    ax2.plot(PTQ[1,:], x)\n",
    "    ax3.plot(PTQ[2,:], x)\n",
    "    ax1.plot(P0, x0, 'o')\n",
    "    ax2.plot(T0, x0, 'o')\n",
    "    ax3.plot(Qu0, x0, 'o')\n",
    "\n",
    "    plt.show()"
   ]
  },
  {
   "cell_type": "code",
   "execution_count": 57,
   "metadata": {},
   "outputs": [
    {
     "data": {
      "text/plain": [
       "0.9675526740934721"
      ]
     },
     "execution_count": 57,
     "metadata": {},
     "output_type": "execute_result"
    }
   ],
   "source": [
    "# Absorber \"Good case\": P_evap is greater than the equilibrium P0; quality is lower than 1.\n",
    "P_evap = P0 * 1.1\n",
    "Qu_imagined = CP.PropsSI('Q','T',T0,'P',P_evap,\"REFPROP::ammonia[{}]&water[{}]\".format(x0,1.-x0))\n",
    "Qu_imagined"
   ]
  },
  {
   "cell_type": "code",
   "execution_count": 58,
   "metadata": {},
   "outputs": [
    {
     "data": {
      "text/plain": [
       "1.0005894260535513"
      ]
     },
     "execution_count": 58,
     "metadata": {},
     "output_type": "execute_result"
    }
   ],
   "source": [
    "# Absorber \"Bad case\": P_evap is less than the equilibrium P0; quality is greater than 1.\n",
    "P_evap = P0 * 0.9\n",
    "Qu_imagined = CP.PropsSI('Q','T',T0,'P',P_evap,\"REFPROP::ammonia[{}]&water[{}]\".format(x0,1.-x0))\n",
    "Qu_imagined"
   ]
  },
  {
   "cell_type": "markdown",
   "metadata": {},
   "source": [
    "### Evaporator vapor quality effect on operating pressure and maximum solution rich mass fraction"
   ]
  },
  {
   "cell_type": "code",
   "execution_count": 215,
   "metadata": {},
   "outputs": [
    {
     "data": {
      "image/png": "[encoded data removed]",
      "text/plain": [
       "<matplotlib.figure.Figure at 0xb6a8a90>"
      ]
     },
     "metadata": {},
     "output_type": "display_data"
    }
   ],
   "source": [
    "# What is the effect of vapor quality at evaporator outlet?\n",
    "Qu_evap = numpy.linspace(0.99,0.9999)\n",
    "T,P_evap,x,h,s,u,v,Qu=amm.props2v(T=278,x=0.9998,Qu=Qu_evap)\n",
    "T,P,x_abs,h,s,u,v,Qu=amm.props2v(T=300,P=P,Qu=0)\n",
    "\n",
    "fig=plt.figure()\n",
    "ax1=fig.add_subplot(211)\n",
    "ax1.set_ylabel('P_evap')\n",
    "ax1.plot(Qu_evap,P_evap)\n",
    "\n",
    "ax2=fig.add_subplot(212)\n",
    "ax2.set_ylabel('x_{rich,max}')\n",
    "ax2.set_xlabel('Qu_evap')\n",
    "ax2.plot(Qu_evap,x_abs)\n",
    "plt.show()"
   ]
  },
  {
   "cell_type": "code",
   "execution_count": 31,
   "metadata": {},
   "outputs": [
    {
     "data": {
      "text/html": [
       "<textarea id=\"TOC-markdown\" style=\"font-family:monospace;width:80%;height:20em;\">TOC will be here</textarea>\n",
       "<script>\n",
       "$(\"#TOC-markdown\").html(\n",
       "    $('h1,h2,h3,h4').filter(\":has(a)\").map(function(){\n",
       "        return \"  \".repeat($(this).prop(\"tagName\")[1]) \n",
       "          + \"- <a href='\" + encodeURI($(this).children().attr(\"href\")) + \"'>\"\n",
       "          + $(this).text() + \"</a>\";}).get().join(\"\\n\")\n",
       "    );\n",
       "</script>"
      ],
      "text/plain": [
       "<IPython.core.display.HTML object>"
      ]
     },
     "metadata": {},
     "output_type": "display_data"
    }
   ],
   "source": [
    "%%html\n",
    "<textarea id=\"TOC-markdown\" style=\"font-family:monospace;width:80%;height:20em;\">TOC will be here</textarea>\n",
    "<script>\n",
    "$(\"#TOC-markdown\").html(\n",
    "    $('h1,h2,h3,h4').filter(\":has(a)\").map(function(){\n",
    "        return \"  \".repeat($(this).prop(\"tagName\")[1]) \n",
    "          + \"- <a href='\" + encodeURI($(this).children().attr(\"href\")) + \"'>\"\n",
    "          + $(this).text() + \"</a>\";}).get().join(\"\\n\")\n",
    "    );\n",
    "</script>"
   ]
  },
  {
   "cell_type": "code",
   "execution_count": null,
   "metadata": {
    "collapsed": true
   },
   "outputs": [],
   "source": []
  }
 ],
 "metadata": {
  "kernelspec": {
   "display_name": "Python 3",
   "language": "python",
   "name": "python3"
  },
  "language_info": {
   "codemirror_mode": {
    "name": "ipython",
    "version": 3
   },
   "file_extension": ".py",
   "mimetype": "text/x-python",
   "name": "python",
   "nbconvert_exporter": "python",
   "pygments_lexer": "ipython3",
   "version": "3.6.2"
  }
 },
 "nbformat": 4,
 "nbformat_minor": 2
}
