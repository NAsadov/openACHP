{
 "cells": [
  {
   "cell_type": "markdown",
   "metadata": {
    "collapsed": true
   },
   "source": [
    "<a href=\"./\">Go to this directory index</a>\n",
    "\n",
    "Contents\n",
    "\n",
    "  - [Ammonia2: iterative solver for aqua-ammonia absorption cycle¶](#Ammonia2:-iterative-solver-for-aqua-ammonia-absorption-cycle)"
   ]
  },
  {
   "cell_type": "code",
   "execution_count": 2,
   "metadata": {},
   "outputs": [
    {
     "data": {
      "text/html": [
       "<img src=\"../img/Diagram_for_ammonia.svg\"><!-- In source distro-->\n",
       "<img src=\"./img/Diagram_for_ammonia.svg\"><!-- In web docs -->"
      ],
      "text/plain": [
       "<IPython.core.display.HTML object>"
      ]
     },
     "metadata": {},
     "output_type": "display_data"
    }
   ],
   "source": [
    "%%html\n",
    "<img src=\"../img/Diagram_for_ammonia.svg\"><!-- In source distro-->\n",
    "<img src=\"./img/Diagram_for_ammonia.svg\"><!-- In web docs -->"
   ]
  },
  {
   "cell_type": "markdown",
   "metadata": {},
   "source": [
    "# Ammonia2: iterative solver for aqua-ammonia absorption cycle"
   ]
  },
  {
   "cell_type": "markdown",
   "metadata": {},
   "source": [
    "The previous ammonia-water cycle model (`import ammonia1`) solved the cycle by inputing internal temperatures at the endpoints of heat exchange processes, then solved for UA by the heat exchanger integral equation. Suppose instead we want to input heat exchanger and pump specifications for the system above, then solve for the internal temperatures. How then do we solve the cycle?\n",
    "\n",
    "First let's compare inputs to recognize where we might need to change assumptions.\n",
    "\n",
    "<table>\n",
    "<tr>\n",
    "<th>Set of inputs for easy update (ammonia1)</th>\n",
    "<th>Set of inputs for build specification</th>\n",
    "<th>Set of inputs for operating spec.</th>\n",
    "<th>Equivalent input for ammonia2</th>\n",
    "</tr>\n",
    "<tr>\n",
    "<td>\n",
    "$T_{cond}$<br>\n",
    "$T_{evap}$<br>\n",
    "$T_{abs}$<br>\n",
    "$T_{gen}$<br>\n",
    "$T_{rect}$<br>\n",
    "$\\dot{m}$<br>\n",
    "Subcooling $\\Delta T_{cond}$<br>\n",
    "Superheat $\\Delta T_{evap}$<br>\n",
    "Assume $P_{evap}$ for absorber properties\n",
    "</td>\n",
    "<td>\n",
    "$UA_{cond}$<br>\n",
    "$UA_{evap}$<br>\n",
    "$UA_{abs}$<br>\n",
    "$UA_{gen}$<br>\n",
    "$UA_{rect}$<br>\n",
    "Pump curve<br>\n",
    "Solution valve minor loss coeffcient<br>\n",
    "Refrigerant valve minor loss coefficient<br>\n",
    "Absorption mass transfer resistance\n",
    "</td>\n",
    "<td>\n",
    "\"<br>\"<br>\"<br>\"<br>\"<br>\n",
    "Pump power input<br>\n",
    "(Adjustable)<br>\n",
    "(Adjustable)<br>\n",
    "\"\n",
    "</td>\n",
    "<td>\n",
    "\"<br>\"<br>\"<br>\"<br>\"<br>\n",
    "$\\dot{m}$<br>\n",
    "Assume $P_{cond}$ calculated from $T_{cond}$<br>\n",
    "Assume $P_{evap}$ calculated from $T_{evap}$<br>\n",
    "Assume $P_{evap}$ for absorber properties\n",
    "</td>\n",
    "</tr>\n",
    "<tr><th>Ammonia1 outputs</th><th></th><th></th><th>Ammonia2 outputs</th></tr>\n",
    "<tr>\n",
    "<td>Pressure drop from evaporator to absorber</td>\n",
    "<td></td>\n",
    "<td></td>\n",
    "<td>Equilibrium pressure in absorber</td>\n",
    "</tr>\n",
    "</table>\n",
    "\n",
    "Presuming that we want the models to behave similarly, the valve settings and pressures will need to be determined by the equilibrium pressure based on temperatures in the condenser (for high pressure) and evaporator (for low pressure). This is a potential pitfall; what do we do when the temperature in the ... . \n",
    "\n",
    "But let's proceed and see what happens. First, we give the program a basic structure:\n",
    "\n",
    "```python\n",
    "def program(initial_condition,time_to_run):\n",
    "    initialize(initial_condition)\n",
    "    while time < time_to_run:\n",
    "        update()\n",
    "```\n",
    "\n",
    "The initial condition is needed to evaluate properties for the first time step, and looks like an input to `ammonia1`, ie. specifies state points throughout the system. During the update, since there are multiple types of variables evolving, we need to propose how to update them. A very simple procedure would be:\n",
    "\n",
    "```python\n",
    "def update():\n",
    "    for component in heat_exchangers:\n",
    "        component.fdm_update() # Using finite difference method for heat exchange,\n",
    "                               # sets enthalpies, mass fractions, and flow rates\n",
    "                               # for each outlet port.\n",
    "    update_pressures()\n",
    "```\n",
    "\n"
   ]
  },
  {
   "cell_type": "code",
   "execution_count": 9,
   "metadata": {},
   "outputs": [
    {
     "data": {
      "text/html": [
       "<h3>State points</h3>\n",
       "        <table>\n",
       "<thead>\n",
       "<tr><th>                         </th><th style=\"text-align: right;\">  T</th><th style=\"text-align: right;\">  P</th><th style=\"text-align: right;\">  x</th><th style=\"text-align: right;\">      h</th><th style=\"text-align: right;\">      s</th><th style=\"text-align: right;\">      u</th><th style=\"text-align: right;\">        v</th><th style=\"text-align: right;\">      Qu</th></tr>\n",
       "</thead>\n",
       "<tbody>\n",
       "<tr><td>rich_abs_outlet          </td><td style=\"text-align: right;\">400</td><td style=\"text-align: right;\"> 10</td><td style=\"text-align: right;\">0.5</td><td style=\"text-align: right;\">1107.51</td><td style=\"text-align: right;\">3.63631</td><td style=\"text-align: right;\">1014.08</td><td style=\"text-align: right;\">0.0934303</td><td style=\"text-align: right;\">0.507665</td></tr>\n",
       "<tr><td>rich_pump_outlet         </td><td style=\"text-align: right;\">400</td><td style=\"text-align: right;\"> 10</td><td style=\"text-align: right;\">0.5</td><td style=\"text-align: right;\">1107.51</td><td style=\"text-align: right;\">3.63631</td><td style=\"text-align: right;\">1014.08</td><td style=\"text-align: right;\">0.0934303</td><td style=\"text-align: right;\">0.507665</td></tr>\n",
       "<tr><td>rich_shx_outlet          </td><td style=\"text-align: right;\">400</td><td style=\"text-align: right;\"> 10</td><td style=\"text-align: right;\">0.5</td><td style=\"text-align: right;\">1107.51</td><td style=\"text-align: right;\">3.63631</td><td style=\"text-align: right;\">1014.08</td><td style=\"text-align: right;\">0.0934303</td><td style=\"text-align: right;\">0.507665</td></tr>\n",
       "<tr><td>rich_gen_sat_liquid      </td><td style=\"text-align: right;\">400</td><td style=\"text-align: right;\"> 10</td><td style=\"text-align: right;\">0.5</td><td style=\"text-align: right;\">1107.51</td><td style=\"text-align: right;\">3.63631</td><td style=\"text-align: right;\">1014.08</td><td style=\"text-align: right;\">0.0934303</td><td style=\"text-align: right;\">0.507665</td></tr>\n",
       "<tr><td>weak_gen_outlet          </td><td style=\"text-align: right;\">400</td><td style=\"text-align: right;\"> 10</td><td style=\"text-align: right;\">0.5</td><td style=\"text-align: right;\">1107.51</td><td style=\"text-align: right;\">3.63631</td><td style=\"text-align: right;\">1014.08</td><td style=\"text-align: right;\">0.0934303</td><td style=\"text-align: right;\">0.507665</td></tr>\n",
       "<tr><td>weak_shx_outlet          </td><td style=\"text-align: right;\">400</td><td style=\"text-align: right;\"> 10</td><td style=\"text-align: right;\">0.5</td><td style=\"text-align: right;\">1107.51</td><td style=\"text-align: right;\">3.63631</td><td style=\"text-align: right;\">1014.08</td><td style=\"text-align: right;\">0.0934303</td><td style=\"text-align: right;\">0.507665</td></tr>\n",
       "<tr><td>weak_exp_outlet          </td><td style=\"text-align: right;\">400</td><td style=\"text-align: right;\"> 10</td><td style=\"text-align: right;\">0.5</td><td style=\"text-align: right;\">1107.51</td><td style=\"text-align: right;\">3.63631</td><td style=\"text-align: right;\">1014.08</td><td style=\"text-align: right;\">0.0934303</td><td style=\"text-align: right;\">0.507665</td></tr>\n",
       "<tr><td>gen_vapor_outlet         </td><td style=\"text-align: right;\">400</td><td style=\"text-align: right;\"> 10</td><td style=\"text-align: right;\">0.5</td><td style=\"text-align: right;\">1107.51</td><td style=\"text-align: right;\">3.63631</td><td style=\"text-align: right;\">1014.08</td><td style=\"text-align: right;\">0.0934303</td><td style=\"text-align: right;\">0.507665</td></tr>\n",
       "<tr><td>gen_reflux_inlet         </td><td style=\"text-align: right;\">400</td><td style=\"text-align: right;\"> 10</td><td style=\"text-align: right;\">0.5</td><td style=\"text-align: right;\">1107.51</td><td style=\"text-align: right;\">3.63631</td><td style=\"text-align: right;\">1014.08</td><td style=\"text-align: right;\">0.0934303</td><td style=\"text-align: right;\">0.507665</td></tr>\n",
       "<tr><td>refrig_rect_outlet       </td><td style=\"text-align: right;\">400</td><td style=\"text-align: right;\"> 10</td><td style=\"text-align: right;\">0.5</td><td style=\"text-align: right;\">1107.51</td><td style=\"text-align: right;\">3.63631</td><td style=\"text-align: right;\">1014.08</td><td style=\"text-align: right;\">0.0934303</td><td style=\"text-align: right;\">0.507665</td></tr>\n",
       "<tr><td>refrig_cond_outlet       </td><td style=\"text-align: right;\">400</td><td style=\"text-align: right;\"> 10</td><td style=\"text-align: right;\">0.5</td><td style=\"text-align: right;\">1107.51</td><td style=\"text-align: right;\">3.63631</td><td style=\"text-align: right;\">1014.08</td><td style=\"text-align: right;\">0.0934303</td><td style=\"text-align: right;\">0.507665</td></tr>\n",
       "<tr><td>refrig_cehx_liquid_outlet</td><td style=\"text-align: right;\">400</td><td style=\"text-align: right;\"> 10</td><td style=\"text-align: right;\">0.5</td><td style=\"text-align: right;\">1107.51</td><td style=\"text-align: right;\">3.63631</td><td style=\"text-align: right;\">1014.08</td><td style=\"text-align: right;\">0.0934303</td><td style=\"text-align: right;\">0.507665</td></tr>\n",
       "<tr><td>refrig_exp_outlet        </td><td style=\"text-align: right;\">400</td><td style=\"text-align: right;\"> 10</td><td style=\"text-align: right;\">0.5</td><td style=\"text-align: right;\">1107.51</td><td style=\"text-align: right;\">3.63631</td><td style=\"text-align: right;\">1014.08</td><td style=\"text-align: right;\">0.0934303</td><td style=\"text-align: right;\">0.507665</td></tr>\n",
       "<tr><td>refrig_evap_outlet       </td><td style=\"text-align: right;\">400</td><td style=\"text-align: right;\"> 10</td><td style=\"text-align: right;\">0.5</td><td style=\"text-align: right;\">1107.51</td><td style=\"text-align: right;\">3.63631</td><td style=\"text-align: right;\">1014.08</td><td style=\"text-align: right;\">0.0934303</td><td style=\"text-align: right;\">0.507665</td></tr>\n",
       "<tr><td>refrig_cehx_sat_vapor    </td><td style=\"text-align: right;\">400</td><td style=\"text-align: right;\"> 10</td><td style=\"text-align: right;\">0.5</td><td style=\"text-align: right;\">1107.51</td><td style=\"text-align: right;\">3.63631</td><td style=\"text-align: right;\">1014.08</td><td style=\"text-align: right;\">0.0934303</td><td style=\"text-align: right;\">0.507665</td></tr>\n",
       "<tr><td>refrig_cehx_vapor_outlet </td><td style=\"text-align: right;\">400</td><td style=\"text-align: right;\"> 10</td><td style=\"text-align: right;\">0.5</td><td style=\"text-align: right;\">1107.51</td><td style=\"text-align: right;\">3.63631</td><td style=\"text-align: right;\">1014.08</td><td style=\"text-align: right;\">0.0934303</td><td style=\"text-align: right;\">0.507665</td></tr>\n",
       "<tr><td>rectifier_liquid         </td><td style=\"text-align: right;\">400</td><td style=\"text-align: right;\"> 10</td><td style=\"text-align: right;\">0.5</td><td style=\"text-align: right;\">1107.51</td><td style=\"text-align: right;\">3.63631</td><td style=\"text-align: right;\">1014.08</td><td style=\"text-align: right;\">0.0934303</td><td style=\"text-align: right;\">0.507665</td></tr>\n",
       "<tr><td>gen_vapor_formation      </td><td style=\"text-align: right;\">400</td><td style=\"text-align: right;\"> 10</td><td style=\"text-align: right;\">0.5</td><td style=\"text-align: right;\">1107.51</td><td style=\"text-align: right;\">3.63631</td><td style=\"text-align: right;\">1014.08</td><td style=\"text-align: right;\">0.0934303</td><td style=\"text-align: right;\">0.507665</td></tr>\n",
       "<tr><td>abs_vapor_final          </td><td style=\"text-align: right;\">400</td><td style=\"text-align: right;\"> 10</td><td style=\"text-align: right;\">0.5</td><td style=\"text-align: right;\">1107.51</td><td style=\"text-align: right;\">3.63631</td><td style=\"text-align: right;\">1014.08</td><td style=\"text-align: right;\">0.0934303</td><td style=\"text-align: right;\">0.507665</td></tr>\n",
       "</tbody>\n",
       "</table>\n",
       "        <br/>\n",
       "        <h3>Performance variables</h3>\n",
       "        <table>\n",
       "<thead>\n",
       "<tr><th>name                   </th><th>unit  </th><th style=\"text-align: right;\">  value</th></tr>\n",
       "</thead>\n",
       "<tbody>\n",
       "<tr><td>Q_abs                  </td><td>kW    </td><td style=\"text-align: right;\">      0</td></tr>\n",
       "<tr><td>Q_gen                  </td><td>kW    </td><td style=\"text-align: right;\">      0</td></tr>\n",
       "<tr><td>Q_cond                 </td><td>kW    </td><td style=\"text-align: right;\">      0</td></tr>\n",
       "<tr><td>Q_evap                 </td><td>kW    </td><td style=\"text-align: right;\">      0</td></tr>\n",
       "<tr><td>Q_reflux               </td><td>kW    </td><td style=\"text-align: right;\">      0</td></tr>\n",
       "<tr><td>Q_shx                  </td><td>kW    </td><td style=\"text-align: right;\">      0</td></tr>\n",
       "<tr><td>Q_cehx                 </td><td>kW    </td><td style=\"text-align: right;\">      0</td></tr>\n",
       "<tr><td>W_pump                 </td><td>kW    </td><td style=\"text-align: right;\">      0</td></tr>\n",
       "<tr><td>COP                    </td><td>kW/kW </td><td style=\"text-align: right;\">      0</td></tr>\n",
       "<tr><td>ZeroCheck              </td><td>kW    </td><td style=\"text-align: right;\">      0</td></tr>\n",
       "<tr><td>ZeroCheckSHX           </td><td>kW    </td><td style=\"text-align: right;\">      0</td></tr>\n",
       "<tr><td>ZeroCheckCEHX          </td><td>kW    </td><td style=\"text-align: right;\">      0</td></tr>\n",
       "<tr><td>Q_gen_rect_combo       </td><td>kW    </td><td style=\"text-align: right;\">      0</td></tr>\n",
       "<tr><td>Q_refrig_side          </td><td>kW    </td><td style=\"text-align: right;\">      0</td></tr>\n",
       "<tr><td>ZeroCheckRect          </td><td>kg/s  </td><td style=\"text-align: right;\">      0</td></tr>\n",
       "<tr><td>m_rich                 </td><td>kg/s  </td><td style=\"text-align: right;\">      1</td></tr>\n",
       "<tr><td>m_weak                 </td><td>kg/s  </td><td style=\"text-align: right;\">      0</td></tr>\n",
       "<tr><td>m_gen_vapor            </td><td>kg/s  </td><td style=\"text-align: right;\">      0</td></tr>\n",
       "<tr><td>m_gen_reflux           </td><td>kg/s  </td><td style=\"text-align: right;\">      0</td></tr>\n",
       "<tr><td>m_refrig               </td><td>kg/s  </td><td style=\"text-align: right;\">      0</td></tr>\n",
       "<tr><td>check_rectifier_delta_T</td><td>K     </td><td style=\"text-align: right;\">      0</td></tr>\n",
       "<tr><td>is_degenerate          </td><td>bool  </td><td style=\"text-align: right;\">      0</td></tr>\n",
       "</tbody>\n",
       "</table>\n",
       "        "
      ],
      "text/plain": [
       "                             T    P    x        h        s        u          v        Qu\n",
       "-------------------------  ---  ---  ---  -------  -------  -------  ---------  --------\n",
       "rich_abs_outlet            400   10  0.5  1107.51  3.63631  1014.08  0.0934303  0.507665\n",
       "rich_pump_outlet           400   10  0.5  1107.51  3.63631  1014.08  0.0934303  0.507665\n",
       "rich_shx_outlet            400   10  0.5  1107.51  3.63631  1014.08  0.0934303  0.507665\n",
       "rich_gen_sat_liquid        400   10  0.5  1107.51  3.63631  1014.08  0.0934303  0.507665\n",
       "weak_gen_outlet            400   10  0.5  1107.51  3.63631  1014.08  0.0934303  0.507665\n",
       "weak_shx_outlet            400   10  0.5  1107.51  3.63631  1014.08  0.0934303  0.507665\n",
       "weak_exp_outlet            400   10  0.5  1107.51  3.63631  1014.08  0.0934303  0.507665\n",
       "gen_vapor_outlet           400   10  0.5  1107.51  3.63631  1014.08  0.0934303  0.507665\n",
       "gen_reflux_inlet           400   10  0.5  1107.51  3.63631  1014.08  0.0934303  0.507665\n",
       "refrig_rect_outlet         400   10  0.5  1107.51  3.63631  1014.08  0.0934303  0.507665\n",
       "refrig_cond_outlet         400   10  0.5  1107.51  3.63631  1014.08  0.0934303  0.507665\n",
       "refrig_cehx_liquid_outlet  400   10  0.5  1107.51  3.63631  1014.08  0.0934303  0.507665\n",
       "refrig_exp_outlet          400   10  0.5  1107.51  3.63631  1014.08  0.0934303  0.507665\n",
       "refrig_evap_outlet         400   10  0.5  1107.51  3.63631  1014.08  0.0934303  0.507665\n",
       "refrig_cehx_sat_vapor      400   10  0.5  1107.51  3.63631  1014.08  0.0934303  0.507665\n",
       "refrig_cehx_vapor_outlet   400   10  0.5  1107.51  3.63631  1014.08  0.0934303  0.507665\n",
       "rectifier_liquid           400   10  0.5  1107.51  3.63631  1014.08  0.0934303  0.507665\n",
       "gen_vapor_formation        400   10  0.5  1107.51  3.63631  1014.08  0.0934303  0.507665\n",
       "abs_vapor_final            400   10  0.5  1107.51  3.63631  1014.08  0.0934303  0.507665\n",
       "name                     unit      value\n",
       "-----------------------  ------  -------\n",
       "Q_abs                    kW            0\n",
       "Q_gen                    kW            0\n",
       "Q_cond                   kW            0\n",
       "Q_evap                   kW            0\n",
       "Q_reflux                 kW            0\n",
       "Q_shx                    kW            0\n",
       "Q_cehx                   kW            0\n",
       "W_pump                   kW            0\n",
       "COP                      kW/kW         0\n",
       "ZeroCheck                kW            0\n",
       "ZeroCheckSHX             kW            0\n",
       "ZeroCheckCEHX            kW            0\n",
       "Q_gen_rect_combo         kW            0\n",
       "Q_refrig_side            kW            0\n",
       "ZeroCheckRect            kg/s          0\n",
       "m_rich                   kg/s          1\n",
       "m_weak                   kg/s          0\n",
       "m_gen_vapor              kg/s          0\n",
       "m_gen_reflux             kg/s          0\n",
       "m_refrig                 kg/s          0\n",
       "check_rectifier_delta_T  K             0\n",
       "is_degenerate            bool          0"
      ]
     },
     "execution_count": 9,
     "metadata": {},
     "output_type": "execute_result"
    }
   ],
   "source": [
    "from ammonia1 import AmmoniaChiller\n",
    "ch = AmmoniaChiller()\n",
    "ch"
   ]
  },
  {
   "cell_type": "code",
   "execution_count": null,
   "metadata": {
    "collapsed": true
   },
   "outputs": [],
   "source": [
    "class amm2_absorber_stream:\n",
    "    def __init__():\n",
    "        pass\n",
    "    def q():\n",
    "        pass\n",
    "    def c():\n",
    "        pass\n",
    "        \n",
    "\n",
    "def amm2_get_absorber_stream(ch):\n",
    "    \n",
    "\n",
    "def amm2_update(ch,UA_abs,UA_gen,UA_cond,UA_evap,UA_rect):\n",
    "    # Absorber\n",
    "    # SHX\n",
    "    # Generator\n",
    "    # Rectifier\n",
    "    # Condenser\n",
    "    # Evaporator\n",
    "    # CEHX\n",
    "    \n",
    "    \n",
    "    "
   ]
  },
  {
   "cell_type": "markdown",
   "metadata": {},
   "source": [
    "As a digression, my previously developed approach to FDM solution of HX problems requires the heat capacities of each stream. If we use a model of the streams based on a discrete number of precomputed points, then we would want to obtain the heat capacity from derivatives of the (Q,T) curve. However, interpolates are not necessarily good for that, as I will show below.\n",
    "\n",
    "The alternative is that we *avoid* precomputing points for the FDM model. Instead, we need to also supply a function to compute heat capacity, and that requires we establish the math beforehand. So, here is an opportunity.\n",
    "\n",
    "The stream heat capacity is\n",
    "$$C_{stream} = \\left(\\frac{dq}{dT} \\right).$$\n",
    "\n",
    "However, since most straightforward functional approach is to compute $T(q)$, we could rewrite as:\n",
    "$$ C_{stream}^{-1} = \\left(\\frac{dT}{dq} \\right).$$\n",
    "\n",
    "Where there is a phase change process at constant temperature, $C_{stream}$ may be infinite but $C_{stream}^{-1}$ could be computed. When both streams have phase change at constant temperature, effectiveness is not required and the UA-LMTD equation alone can be used.\n",
    "\n",
    "Another thought missing from the FDM code development notes is that we could approximate the LMTD using the current temperatures at inlet and outlet. The accuracy of the result then depends on the approximation. With this approach, by returning to the LMTD equation, numerical issues may arise when an initial condition causes inversion (the labels 'cold' and 'hot' might apply to different streams at opposite ends of the HX) or matched capacities. Perhaps we could start off with a more generous approximation, such as a linear average temperature difference (which works even for a case of inversion), and slide toward the LMTD for *nicer* cases."
   ]
  },
  {
   "cell_type": "code",
   "execution_count": 38,
   "metadata": {},
   "outputs": [
    {
     "name": "stderr",
     "output_type": "stream",
     "text": [
      "C:\\Users\\nfette\\Miniconda3\\envs\\openACHP\\lib\\site-packages\\scipy\\interpolate\\_cubic.py:147: RuntimeWarning: divide by zero encountered in true_divide\n",
      "  mk = (y[1:] - y[:-1]) / hk\n",
      "C:\\Users\\nfette\\Miniconda3\\envs\\openACHP\\lib\\site-packages\\scipy\\interpolate\\_cubic.py:165: RuntimeWarning: invalid value encountered in true_divide\n",
      "  whmean = (w1/mk[:-1] + w2/mk[1:]) / (w1 + w2)\n"
     ]
    }
   ],
   "source": [
    "from numpy import inf, linspace\n",
    "from scipy.interpolate import PchipInterpolator, CubicSpline\n",
    "x = [0,1,2,3,4,5,6,7,8,8,8,9,10]\n",
    "y = [0,1,2,2,2,3,4,5,6,7,8,9,10]\n",
    "spliner = PchipInterpolator\n",
    "py = spliner(x,y)\n",
    "px = spliner(y,x)"
   ]
  },
  {
   "cell_type": "markdown",
   "metadata": {},
   "source": [
    "This would look nicer, but doesn't accept the given points!"
   ]
  },
  {
   "cell_type": "code",
   "execution_count": 39,
   "metadata": {},
   "outputs": [
    {
     "ename": "ValueError",
     "evalue": "`x` must be strictly increasing sequence.",
     "output_type": "error",
     "traceback": [
      "\u001b[1;31m---------------------------------------------------------------------------\u001b[0m",
      "\u001b[1;31mValueError\u001b[0m                                Traceback (most recent call last)",
      "\u001b[1;32m<ipython-input-39-e8715a9d913c>\u001b[0m in \u001b[0;36m<module>\u001b[1;34m()\u001b[0m\n\u001b[0;32m      1\u001b[0m \u001b[0mspliner\u001b[0m \u001b[1;33m=\u001b[0m \u001b[0mCubicSpline\u001b[0m\u001b[1;33m\u001b[0m\u001b[0m\n\u001b[1;32m----> 2\u001b[1;33m \u001b[0mpy\u001b[0m \u001b[1;33m=\u001b[0m \u001b[0mspliner\u001b[0m\u001b[1;33m(\u001b[0m\u001b[0mx\u001b[0m\u001b[1;33m,\u001b[0m\u001b[0my\u001b[0m\u001b[1;33m)\u001b[0m\u001b[1;33m\u001b[0m\u001b[0m\n\u001b[0m\u001b[0;32m      3\u001b[0m \u001b[0mpx\u001b[0m \u001b[1;33m=\u001b[0m \u001b[0mspliner\u001b[0m\u001b[1;33m(\u001b[0m\u001b[0my\u001b[0m\u001b[1;33m,\u001b[0m\u001b[0mx\u001b[0m\u001b[1;33m)\u001b[0m\u001b[1;33m\u001b[0m\u001b[0m\n",
      "\u001b[1;32m~\\Miniconda3\\envs\\openACHP\\lib\\site-packages\\scipy\\interpolate\\_cubic.py\u001b[0m in \u001b[0;36m__init__\u001b[1;34m(self, x, y, axis, bc_type, extrapolate)\u001b[0m\n\u001b[0;32m    541\u001b[0m         \u001b[0mdx\u001b[0m \u001b[1;33m=\u001b[0m \u001b[0mnp\u001b[0m\u001b[1;33m.\u001b[0m\u001b[0mdiff\u001b[0m\u001b[1;33m(\u001b[0m\u001b[0mx\u001b[0m\u001b[1;33m)\u001b[0m\u001b[1;33m\u001b[0m\u001b[0m\n\u001b[0;32m    542\u001b[0m         \u001b[1;32mif\u001b[0m \u001b[0mnp\u001b[0m\u001b[1;33m.\u001b[0m\u001b[0many\u001b[0m\u001b[1;33m(\u001b[0m\u001b[0mdx\u001b[0m \u001b[1;33m<=\u001b[0m \u001b[1;36m0\u001b[0m\u001b[1;33m)\u001b[0m\u001b[1;33m:\u001b[0m\u001b[1;33m\u001b[0m\u001b[0m\n\u001b[1;32m--> 543\u001b[1;33m             \u001b[1;32mraise\u001b[0m \u001b[0mValueError\u001b[0m\u001b[1;33m(\u001b[0m\u001b[1;34m\"`x` must be strictly increasing sequence.\"\u001b[0m\u001b[1;33m)\u001b[0m\u001b[1;33m\u001b[0m\u001b[0m\n\u001b[0m\u001b[0;32m    544\u001b[0m \u001b[1;33m\u001b[0m\u001b[0m\n\u001b[0;32m    545\u001b[0m         \u001b[0mn\u001b[0m \u001b[1;33m=\u001b[0m \u001b[0mx\u001b[0m\u001b[1;33m.\u001b[0m\u001b[0mshape\u001b[0m\u001b[1;33m[\u001b[0m\u001b[1;36m0\u001b[0m\u001b[1;33m]\u001b[0m\u001b[1;33m\u001b[0m\u001b[0m\n",
      "\u001b[1;31mValueError\u001b[0m: `x` must be strictly increasing sequence."
     ]
    }
   ],
   "source": [
    "spliner = CubicSpline\n",
    "py = spliner(x,y)\n",
    "px = spliner(y,x)"
   ]
  },
  {
   "cell_type": "code",
   "execution_count": 40,
   "metadata": {},
   "outputs": [
    {
     "data": {
      "image/png": "[encoded data removed]",
      "text/plain": [
       "<matplotlib.figure.Figure at 0x54a1ff0>"
      ]
     },
     "metadata": {},
     "output_type": "display_data"
    }
   ],
   "source": [
    "import matplotlib.pyplot as plt\n",
    "xs = linspace(0,10)\n",
    "ys = linspace(0,10)\n",
    "plt.plot(x,y,'ko',label='data')\n",
    "plt.plot(xs,py(xs),'-',label='y interpolated')\n",
    "plt.plot(px(ys),ys,'-',label='x interpolated')\n",
    "plt.legend()\n",
    "plt.xlabel('x')\n",
    "plt.ylabel('y')\n",
    "plt.show()"
   ]
  },
  {
   "cell_type": "code",
   "execution_count": null,
   "metadata": {
    "collapsed": true
   },
   "outputs": [],
   "source": [
    "?py.derivative"
   ]
  },
  {
   "cell_type": "code",
   "execution_count": 32,
   "metadata": {},
   "outputs": [
    {
     "name": "stderr",
     "output_type": "stream",
     "text": [
      "C:\\Users\\nfette\\Miniconda3\\envs\\openACHP\\lib\\site-packages\\scipy\\interpolate\\interpolate.py:1406: RuntimeWarning: invalid value encountered in true_divide\n",
      "  c2 = k * np.diff(self.c, axis=0) / dx\n",
      "C:\\Users\\nfette\\Miniconda3\\envs\\openACHP\\lib\\site-packages\\ipykernel_launcher.py:4: RuntimeWarning: divide by zero encountered in true_divide\n",
      "  after removing the cwd from sys.path.\n"
     ]
    },
    {
     "data": {
      "image/png": "[encoded data removed]",
      "text/plain": [
       "<matplotlib.figure.Figure at 0x5575a10>"
      ]
     },
     "metadata": {},
     "output_type": "display_data"
    }
   ],
   "source": [
    "py_prime = py.derivative()\n",
    "px_prime = px.derivative()\n",
    "plt.plot(xs,py_prime(xs),'.-')\n",
    "plt.plot(px(ys),1/px_prime(ys),'.-')\n",
    "plt.xlabel('$x$')\n",
    "plt.ylabel(\"Derivative $y'(x)$\")\n",
    "plt.show()"
   ]
  },
  {
   "cell_type": "markdown",
   "metadata": {},
   "source": [
    "Let's get back to the series I developed for LMTD that avoids the problem of matched heat capacities. If we actually implement it, do we need to compute it to hardware precision? How well does it converge, and can convergence be accelerated?\n",
    "\n",
    "The series comes from this equation:\n",
    "\n",
    "$$\\Delta T_{LM} = \\Delta T_{A} \\left(\\sum_{k=0}^{\\infty} \\frac{(-\\delta)^{k}}{k+1} \\right)^{-1} $$\n",
    "\n",
    "where $\\delta := R - 1$ and $R = \\Delta T_B / \\Delta T_A$. So the series function we need to compute is\n",
    "\n",
    "$$f_n(x) = \\sum_{k=0}^{n} \\frac{(-x)^{k}}{k+1}.$$\n",
    "\n",
    "Here are some examples:"
   ]
  },
  {
   "cell_type": "code",
   "execution_count": 68,
   "metadata": {},
   "outputs": [
    {
     "data": {
      "image/png": "[encoded data removed]",
      "text/plain": [
       "<matplotlib.figure.Figure at 0x6435f50>"
      ]
     },
     "metadata": {},
     "output_type": "display_data"
    },
    {
     "data": {
      "image/png": "[encoded data removed]",
      "text/plain": [
       "<matplotlib.figure.Figure at 0x54aca50>"
      ]
     },
     "metadata": {},
     "output_type": "display_data"
    }
   ],
   "source": [
    "from numpy import log, abs, array\n",
    "def seriesTrue(x):\n",
    "    if x == 0:\n",
    "        return 1\n",
    "    else:\n",
    "        return log(1+x)/x\n",
    "def series1(x,n, sequence=False):\n",
    "    f = 0\n",
    "    df = 1\n",
    "    f += df\n",
    "    dfs = []; dfs.append(df)\n",
    "    fs = []; fs.append(f)\n",
    "    for k in range(1,n+1):\n",
    "        df *= (-x) * (k) / (k+1)\n",
    "        f += df\n",
    "        if sequence:\n",
    "            dfs.append(df)\n",
    "            fs.append(f)\n",
    "    if sequence:\n",
    "        return f, fs, dfs\n",
    "    else:\n",
    "        return f\n",
    "\n",
    "fig1=plt.figure()\n",
    "ax1 = plt.subplot(111)\n",
    "ax1.set_yscale('symlog',linthreshy=1e-15)\n",
    "ftrues=[]\n",
    "fseries = []\n",
    "xs=[0, 0.1, 0.5, 0.9, 0.99]\n",
    "for x in xs:\n",
    "    ftrue = seriesTrue(x)\n",
    "    ftrues.append(ftrue)\n",
    "    f, fs, dfs = series1(x, 100, True)\n",
    "    fseries.append(f)\n",
    "    ax1.plot(abs(ftrue - array(fs)), label='{:g}'.format(x),)\n",
    "plt.legend()\n",
    "plt.figure()\n",
    "plt.plot(xs, ftrues,'o', xs, fseries,'-')\n",
    "plt.show()"
   ]
  },
  {
   "cell_type": "code",
   "execution_count": 64,
   "metadata": {},
   "outputs": [],
   "source": [
    "?ax1.set_yscale"
   ]
  },
  {
   "cell_type": "markdown",
   "metadata": {},
   "source": [
    "# Table of contents generator"
   ]
  },
  {
   "cell_type": "code",
   "execution_count": 35,
   "metadata": {},
   "outputs": [
    {
     "data": {
      "text/html": [
       "<pre id=\"TOC-markdown\">TOC will be here</pre>\n",
       "<script>\n",
       "$(\"#TOC-markdown\").html(\n",
       "    $('h1,h2,h3,h4').filter(\":has(a)\").map(function(){return \"  \".repeat($(this).prop(\"tagName\")[1]) + \"- [\"+$(this).text()+\"](\" + $(this).children().attr(\"href\") + \")\";}).get().join(\"\\n\")\n",
       "    );\n",
       "</script>"
      ],
      "text/plain": [
       "<IPython.core.display.HTML object>"
      ]
     },
     "metadata": {},
     "output_type": "display_data"
    }
   ],
   "source": [
    "%%html\n",
    "<pre id=\"TOC-markdown\">TOC will be here</pre>\n",
    "<script>\n",
    "$(\"#TOC-markdown\").html(\n",
    "    $('h1,h2,h3,h4').filter(\":has(a)\").map(function(){return \"  \".repeat($(this).prop(\"tagName\")[1]) + \"- [\"+$(this).text()+\"](\" + $(this).children().attr(\"href\") + \")\";}).get().join(\"\\n\")\n",
    "    );\n",
    "</script>"
   ]
  },
  {
   "cell_type": "code",
   "execution_count": null,
   "metadata": {
    "collapsed": true
   },
   "outputs": [],
   "source": []
  }
 ],
 "metadata": {
  "kernelspec": {
   "display_name": "Python 3",
   "language": "python",
   "name": "python3"
  },
  "language_info": {
   "codemirror_mode": {
    "name": "ipython",
    "version": 3
   },
   "file_extension": ".py",
   "mimetype": "text/x-python",
   "name": "python",
   "nbconvert_exporter": "python",
   "pygments_lexer": "ipython3",
   "version": "3.6.2"
  }
 },
 "nbformat": 4,
 "nbformat_minor": 2
}
