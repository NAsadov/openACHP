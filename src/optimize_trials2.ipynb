{
 "cells": [
  {
   "cell_type": "markdown",
   "metadata": {},
   "source": [
    "[Go to this directory index](./)\n",
    "\n",
    "Contents\n",
    "  - [More optimization trials¶](#More-optimization-trials)\n",
    "      - [Trial 2.1¶](#Trial-2.1)\n",
    "      - [State points](undefined)\n",
    "      - [Performance variables](undefined)\n",
    "      - [Trial 2.2¶](#Trial-2.2)\n",
    "        - [Aside¶](#Aside)\n",
    "      - [Trial 2.3¶](#Trial-2.3)\n",
    "      - [Trial 2.4¶](#Trial-2.4)\n",
    "      - [Trial 2.5¶](#Trial-2.5)\n",
    "  - [Scratch work¶](#Scratch-work)"
   ]
  },
  {
   "cell_type": "code",
   "execution_count": null,
   "metadata": {
    "collapsed": true
   },
   "outputs": [],
   "source": []
  },
  {
   "cell_type": "markdown",
   "metadata": {},
   "source": [
    "# More optimization trials"
   ]
  },
  {
   "cell_type": "markdown",
   "metadata": {},
   "source": [
    "Previously, I tried throwing a bunch of optimizers at my model. I liked the results from the scipy.optimize routines COBYLA and BFGS. Let's try adjusting how we handle the constraints, and see if we get better results."
   ]
  },
  {
   "cell_type": "code",
   "execution_count": 1,
   "metadata": {
    "collapsed": true,
    "scrolled": false
   },
   "outputs": [],
   "source": [
    "%load_ext autoreload\n",
    "%autoreload 2"
   ]
  },
  {
   "cell_type": "code",
   "execution_count": 2,
   "metadata": {
    "collapsed": true,
    "scrolled": false
   },
   "outputs": [],
   "source": [
    "import matplotlib\n",
    "import numpy\n",
    "from IPython.display import HTML, SVG"
   ]
  },
  {
   "cell_type": "code",
   "execution_count": 3,
   "metadata": {
    "collapsed": true,
    "scrolled": false
   },
   "outputs": [],
   "source": [
    "#matplotlib.use('svg')\n",
    "import matplotlib.pyplot as plt\n",
    "plt.rcParams['svg.fonttype'] = 'none'\n",
    "plt.rcParams['font.sans-serif'] = 'Arial'"
   ]
  },
  {
   "cell_type": "code",
   "execution_count": 4,
   "metadata": {
    "collapsed": true
   },
   "outputs": [],
   "source": [
    "from io import BytesIO\n",
    "def pltsvg():\n",
    "    imgdata = BytesIO()\n",
    "    plt.savefig(imgdata)\n",
    "    imgdata.seek(0)\n",
    "    display(SVG(data=imgdata.read()))"
   ]
  },
  {
   "cell_type": "code",
   "execution_count": 214,
   "metadata": {
    "collapsed": true
   },
   "outputs": [],
   "source": [
    "import ammonia1\n",
    "import system_aqua1\n",
    "import scipy.optimize"
   ]
  },
  {
   "cell_type": "markdown",
   "metadata": {},
   "source": [
    "### Trial 2.1\n",
    "\n",
    "In general, here is how we compute the modified objective function. GenOpt manual suggests adding functions to the objective, namely separate barrier (B) and penalty (P) functions. The objective function is, with step number as $k$,\n",
    "\n",
    "$$ Objective = -Q_{cooling}(x) + \\mu_1 B(x) + \\mu_2 P(x) $$\n",
    "\n",
    "$$ \\mu_1 = k^{-2}$$\n",
    "$$ B(x) = \\left(\\sum_{j=1}^{N_B} g_j(x) \\right) ^ {-1} $$\n",
    "\n",
    "$$\\mu_2 = k^{2}$$\n",
    "$$ P(x) = \\sum_{j=N_B+1}^{N_B + N_P} g_j(x)$$\n",
    "\n",
    "GenOpt implements a mechanism to pass in the step number. However, using the scipy.optimize routines, passing in the step number is a challenge, so the `Problem` object should probably use its own counter of function calls. This could be quirky, since then the objective function is changing with each call. Some routines allow for termination after a number of steps, so we could run a while, increment step number, then continue.\n",
    "\n",
    "But we need to make some decisions.\n",
    "\n",
    "- Which constraints should be handled by barriers, and which by penalties?\n",
    "  - Use barriers for hard constraints, eg. required for feasibility of the chiller model\n",
    "  - Use penalties for soft constraints, eg. heat exchange feasibility that can be violated now and satisfied later\n",
    "- With scipy.optimize, we can directly apply constraints on the input variables (such as $T_1 > T_2$)\n",
    "\n"
   ]
  },
  {
   "cell_type": "code",
   "execution_count": 35,
   "metadata": {
    "collapsed": true
   },
   "outputs": [],
   "source": [
    "def saturate(x, bottom=-numpy.inf, top=0):\n",
    "    a_bottom = numpy.empty_like(x)\n",
    "    a_top = numpy.empty_like(x)\n",
    "    a_bottom.fill(bottom)\n",
    "    a_top.fill(top)\n",
    "    return numpy.minimum(a_top,\n",
    "                         numpy.maximum(a_bottom,\n",
    "                                       x))\n",
    "\n",
    "def barrier1(c, length_scale):\n",
    "    \"\"\"The domain for B is the feasible set only.\n",
    "    We want B large near boundary, but small elsewhere.\n",
    "    Feasible means c > 0 and g < 0. Please input c.\n",
    "    \"\"\"\n",
    "    g = numpy.negative(c)\n",
    "    b = numpy.exp(g / length_scale)\n",
    "    return numpy.sum(b)\n",
    "\n",
    "def decay1(step_number, initial_value = 1., rate = 1.):\n",
    "    \"\"\"A decaying function to scale barrier functions.\n",
    "    step_number: as this increases, I decay.\n",
    "    initial_value: value when step_number = 0.\n",
    "    decay_rate: how fast to decay.\n",
    "    \"\"\"\n",
    "    # Magnitude tends to zero, slowly\n",
    "    mu_B = initial_value * numpy.exp(-rate * step_number)\n",
    "    return mu_B        \n",
    "\n",
    "def penalty1(c, length_scale):\n",
    "    \"\"\"We want P = 0 for feasible, P > 0 elsewhere\n",
    "    Feasible means c > 0 and g < 0.\n",
    "    \"\"\"\n",
    "    g = numpy.negative(c)\n",
    "    g = saturate(g,bottom=0,top=numpy.inf)\n",
    "    p = (g / length_scale)**2\n",
    "    return numpy.sum(p)\n",
    "\n",
    "def grow1(step_number, initial_value = 1., rate = 1.):\n",
    "    \"\"\"A growing function to scale penalty functions.\"\"\"\n",
    "    # Magnitude tends to infinite, bit more quickly\n",
    "    mu_P = initial_value * numpy.exp(rate * step_number)\n",
    "    return mu_P\n"
   ]
  },
  {
   "cell_type": "code",
   "execution_count": 41,
   "metadata": {},
   "outputs": [
    {
     "data": {
      "image/png": "[encoded data removed]",
      "text/plain": [
       "<matplotlib.figure.Figure at 0x84c9bb0>"
      ]
     },
     "metadata": {},
     "output_type": "display_data"
    },
    {
     "data": {
      "image/png": "[encoded data removed]",
      "text/plain": [
       "<matplotlib.figure.Figure at 0x8540770>"
      ]
     },
     "metadata": {},
     "output_type": "display_data"
    },
    {
     "data": {
      "image/png": "[encoded data removed]",
      "text/plain": [
       "<matplotlib.figure.Figure at 0x84b1410>"
      ]
     },
     "metadata": {},
     "output_type": "display_data"
    },
    {
     "data": {
      "image/png": "[encoded data removed]",
      "text/plain": [
       "<matplotlib.figure.Figure at 0x7eb8310>"
      ]
     },
     "metadata": {},
     "output_type": "display_data"
    }
   ],
   "source": [
    "# Demo barriers\n",
    "xx = numpy.linspace(0,1)\n",
    "yy = numpy.linspace(0,1)\n",
    "X, Y = numpy.meshgrid(xx,yy)\n",
    "B = numpy.zeros_like(X)\n",
    "mu_B = 10\n",
    "for i, (xi,yi) in enumerate(zip(X.flat,Y.flat)):\n",
    "    # The domain for B is the feasible set only.\n",
    "    # We want B large near boundary, but small elsewhere.\n",
    "    # Feasible means c > 0 and g < 0.\n",
    "    c = numpy.array([xi, yi, (1-xi), (1-yi)])\n",
    "    # The length scale for the barrier\n",
    "    dx = 0.05\n",
    "    B.flat[i] = mu_B * barrier1(c,dx)\n",
    "\n",
    "plt.close('all')\n",
    "fig = plt.figure()\n",
    "plt.plot(X[25],B[25],'r')\n",
    "plt.title(\"barrier1()\")\n",
    "from mpl_toolkits.mplot3d import Axes3D\n",
    "from matplotlib import cm\n",
    "fig = plt.figure()\n",
    "ax = fig.add_subplot(111, projection='3d')\n",
    "ax.plot_surface(X,Y,B,cmap=cm.coolwarm)\n",
    "ax.plot(X[25],Y[25],B[25],'r')\n",
    "#pltsvg()\n",
    "plt.show()\n",
    "\n",
    "xx = numpy.linspace(-1,11)\n",
    "yy = numpy.linspace(-1,11)\n",
    "X, Y = numpy.meshgrid(xx,yy)\n",
    "P = numpy.zeros_like(X)\n",
    "\n",
    "mu_P = 10\n",
    "for i, (xi,yi) in enumerate(zip(X.flat,Y.flat)):\n",
    "    # We want P = 0 for feasible, P > 0 elsewhere\n",
    "    # Feasible means c > 0 and g < 0.\n",
    "    c = numpy.array([xi, yi, (10-xi), (10-yi)])\n",
    "    # The length scale for the penalty\n",
    "    dx = 1\n",
    "    P.flat[i] = mu_P * penalty1(c, dx)\n",
    "\n",
    "plt.close('all')\n",
    "fig = plt.figure()\n",
    "plt.plot(X[25],P[25])\n",
    "plt.title(\"penalty1\")\n",
    "fig = plt.figure()\n",
    "ax = fig.add_subplot(111, projection='3d')\n",
    "ax.plot_surface(X,Y,P,cmap=cm.coolwarm)\n",
    "ax.plot(X[25],Y[25],P[25],'b')\n",
    "#pltsvg()\n",
    "plt.show()"
   ]
  },
  {
   "cell_type": "code",
   "execution_count": 44,
   "metadata": {},
   "outputs": [
    {
     "data": {
      "image/png": "[encoded data removed]",
      "text/plain": [
       "<matplotlib.figure.Figure at 0x8cd2590>"
      ]
     },
     "metadata": {},
     "output_type": "display_data"
    }
   ],
   "source": [
    "step_number = numpy.arange(50)\n",
    "mu_B = decay1(step_number,initial_value=1000,rate=0.2)\n",
    "mu_P = grow1(step_number,initial_value=1,rate=0.2)\n",
    "plt.close('all')\n",
    "plt.figure()\n",
    "plt.semilogy(step_number,mu_B,'r',label='barrier')\n",
    "plt.semilogy(step_number,mu_P,'b',label='penalty')\n",
    "plt.xlabel('Optimization step number')\n",
    "plt.ylabel('Scaling for constraint function')\n",
    "plt.legend()\n",
    "plt.show()"
   ]
  },
  {
   "cell_type": "code",
   "execution_count": 21,
   "metadata": {},
   "outputs": [
    {
     "data": {
      "text/plain": [
       "49.402449105530188"
      ]
     },
     "execution_count": 21,
     "metadata": {},
     "output_type": "execute_result"
    }
   ],
   "source": [
    "step_number = 39\n",
    "mu_B = 1 * numpy.exp(0.1 * step_number)\n",
    "mu_B"
   ]
  },
  {
   "cell_type": "code",
   "execution_count": 181,
   "metadata": {
    "collapsed": true
   },
   "outputs": [],
   "source": [
    "class Problem_2_1:\n",
    "    def __init__(self, bdry, UAgoal, mu=0.1):\n",
    "        self.bdry = bdry\n",
    "        self.UAgoal = UAgoal\n",
    "        self.mu = mu\n",
    "        self.Ncons = 7\n",
    "        self.n_calls = 0\n",
    "        # Soft constraints mode: this is sent to minimizer\n",
    "        self.constraints = [{'type': 'ineq',\n",
    "                             'fun': self.constraint,\n",
    "                             'args': (i,)\n",
    "                            } for i in range(self.Ncons)]\n",
    "            \n",
    "    def objective(self, xC):\n",
    "        step_number = numpy.floor(self.n_calls / 7)\n",
    "        self.n_calls += 1\n",
    "        print(xC,flush=True)\n",
    "        Q,B,P = 0.,0.,0.\n",
    "        try:\n",
    "            ch = system_aqua1.makeChiller(xC)\n",
    "            sys = system_aqua1.System(self.bdry, ch)\n",
    "            \n",
    "            # Barriers\n",
    "            # Magnitude tends to zero, slowly\n",
    "            mu_B = 1000. * numpy.exp(-0.1 * step_number)\n",
    "            length_scale_b = 1\n",
    "            # Or ... magnitude fixed, but shape changes\n",
    "            mu_B = 1000\n",
    "            length_scale_b = 1 * numpy.exp(-0.1 * step_number)\n",
    "            \n",
    "            # These are zero at the boundary ...\n",
    "            barriers = [ch.check_rectifier_delta_T] \\\n",
    "                        + [deltaT\n",
    "                           for name, deltaT, epsilon, UA, Qhx in sys.data]\n",
    "            B = mu_B * barrier1(barriers,length_scale_b)\n",
    "            \n",
    "            # Penalties\n",
    "            # Magnitude tends to infinite\n",
    "            mu_P = 1 * numpy.exp(0.1 * step_number)\n",
    "            penalties = [(1.0 - sys.totalUA/self.UAgoal)]\n",
    "            P = mu_P * penalty1(penalties,1)\n",
    "            \n",
    "            Q = sys.chiller.Q_evap\n",
    "        except:\n",
    "            Q = numpy.inf\n",
    "        \n",
    "        print(self.n_calls, step_number, Q, B, P, \"\\n\", flush=True)\n",
    "        return -Q + B + P\n",
    "    \n",
    "    def constraint(self, x, *args):\n",
    "        cons = [x[0] - 0.1,\n",
    "                1. - x[0],\n",
    "                x[2] - x[1] - 1.0,\n",
    "                x[3] - x[2] - 0.1,\n",
    "                x[4] - x[1] - 10.0,\n",
    "                x[5] - x[3] - 1.0,\n",
    "                x[5] - x[4] - 1.0]\n",
    "        if len(args) > 0:\n",
    "            i, = args\n",
    "            return cons[i]\n",
    "        else:\n",
    "            return cons\n",
    "\n",
    "    def callback(self, x):\n",
    "        print(\"Did an iteration at \", x)"
   ]
  },
  {
   "cell_type": "code",
   "execution_count": 182,
   "metadata": {
    "collapsed": true
   },
   "outputs": [],
   "source": [
    "T_heat_reject = 305.\n",
    "UAgoal = 100\n",
    "xB = [400, 1, T_heat_reject, 3, T_heat_reject, 5, 285, 4, T_heat_reject, 0.15]\n",
    "bdry = system_aqua1.makeBoundary(xB)\n",
    "P = Problem_2_1(bdry, UAgoal)"
   ]
  },
  {
   "cell_type": "code",
   "execution_count": 183,
   "metadata": {
    "collapsed": true
   },
   "outputs": [],
   "source": [
    "rT = T_heat_reject\n",
    "x = numpy.array([0.05, 278.45, rT+7, rT+8, rT+5, 395.15])"
   ]
  },
  {
   "cell_type": "code",
   "execution_count": 125,
   "metadata": {
    "collapsed": true
   },
   "outputs": [],
   "source": [
    "x = numpy.array([0.51284472, 277.97717012, 312.16427764, 313.6952877,\n",
    "               310.24856734, 374.14020482])"
   ]
  },
  {
   "cell_type": "code",
   "execution_count": 205,
   "metadata": {},
   "outputs": [
    {
     "name": "stdout",
     "output_type": "stream",
     "text": [
      "[  3.35723183e-01   2.78159709e+02   3.12221943e+02   3.13043890e+02\n",
      "   3.10475563e+02   3.95211794e+02]\n"
     ]
    },
    {
     "name": "stderr",
     "output_type": "stream",
     "text": [
      "C:\\Users\\user1\\Miniconda3\\envs\\openachp\\lib\\site-packages\\scipy\\optimize\\_minimize.py:403: RuntimeWarning: Method COBYLA does not support callback.\n",
      "  warn('Method %s does not support callback.' % method, RuntimeWarning)\n",
      "C:\\Users\\user1\\Miniconda3\\envs\\openachp\\lib\\site-packages\\scipy\\interpolate\\_cubic.py:147: RuntimeWarning: divide by zero encountered in true_divide\n",
      "  mk = (y[1:] - y[:-1]) / hk\n",
      "C:\\Users\\user1\\Miniconda3\\envs\\openachp\\lib\\site-packages\\scipy\\interpolate\\_cubic.py:165: RuntimeWarning: invalid value encountered in true_divide\n",
      "  whmean = (w1/mk[:-1] + w2/mk[1:]) / (w1 + w2)\n"
     ]
    },
    {
     "name": "stdout",
     "output_type": "stream",
     "text": [
      "Note: Absorber inlet is subcooled\n",
      "267.0 38.0 118.815227129 1.83964553605e-19 5.87765955217 \n",
      "\n",
      "[  3.85723183e-01   2.78159709e+02   3.12221943e+02   3.13043890e+02\n",
      "   3.10475563e+02   3.95211794e+02]\n",
      "Note: Absorber inlet is subcooled\n",
      "268.0 38.0 136.510643025 7.56828855898e+81 inf \n",
      "\n",
      "[  3.35723183e-01   2.78209709e+02   3.12221943e+02   3.13043890e+02\n",
      "   3.10475563e+02   3.95211794e+02]\n",
      "Note: Absorber inlet is subcooled\n",
      "269.0 38.0 119.02522898 2.98340116676e-18 6.27134717824 \n",
      "\n",
      "[  3.35723183e-01   2.78159709e+02   3.12271943e+02   3.13043890e+02\n",
      "   3.10475563e+02   3.95211794e+02]\n",
      "Note: Absorber inlet is subcooled\n",
      "270.0 38.0 118.690582757 1.31818327891e-19 5.63438826919 \n",
      "\n",
      "[  3.35723183e-01   2.78159709e+02   3.12271943e+02   3.13093890e+02\n",
      "   3.10475563e+02   3.95211794e+02]\n",
      "Note: Absorber inlet is subcooled\n",
      "271.0 38.0 118.690582757 1.31818327891e-19 5.63395309103 \n",
      "\n",
      "[  3.35723183e-01   2.78159709e+02   3.12271943e+02   3.13093890e+02\n",
      "   3.10525563e+02   3.95211794e+02]\n",
      "Note: Absorber inlet is subcooled\n",
      "272.0 38.0 118.503217405 7.98684249975e-20 5.32600200197 \n",
      "\n",
      "[  3.35723183e-01   2.78159709e+02   3.12271943e+02   3.13093890e+02\n",
      "   3.10525563e+02   3.95261794e+02]\n",
      "Note: Absorber inlet is subcooled\n",
      "273.0 38.0 118.586824733 9.98790131717e-20 5.48392007157 \n",
      "\n",
      "[ nan  nan  nan  nan  nan  nan]\n",
      "274.0 39.0 inf 0.0 0.0 \n",
      "\n",
      "[ nan  nan  nan  nan  nan  nan]\n",
      "275.0 39.0 inf 0.0 0.0 \n",
      "\n",
      "[  3.48223183e-01   2.78159709e+02   3.12271943e+02   3.13093890e+02\n",
      "   3.10525563e+02   3.95211794e+02]\n",
      "Note: Absorber inlet is subcooled\n",
      "276.0 39.0 122.915454304 1.74958276029e-16 16.3194891161 \n",
      "\n",
      "[  3.10724408e-01   2.78159535e+02   3.12272056e+02   3.13093891e+02\n",
      "   3.10525678e+02   3.95211723e+02]\n",
      "Note: Absorber inlet is subcooled\n",
      "277.0 39.0 109.677731689 9.91744117312e-33 0.364376001282 \n",
      "\n",
      "[  3.35810402e-01   2.78147210e+02   3.12271943e+02   3.13093890e+02\n",
      "   3.10525563e+02   3.95211794e+02]\n",
      "Note: Absorber inlet is subcooled\n",
      "278.0 39.0 118.481524866 1.92129913319e-22 5.83044350722 \n",
      "\n",
      "[  3.59792178e-01   2.78166444e+02   3.12272314e+02   3.13093892e+02\n",
      "   3.10525940e+02   3.95211562e+02]\n",
      "Note: Absorber inlet is subcooled\n",
      "279.0 39.0 127.026445961 1.5142716904e+15 inf \n",
      "\n",
      "[  3.35779508e-01   2.78159710e+02   3.12284443e+02   3.13093890e+02\n",
      "   3.10525563e+02   3.95211794e+02]\n",
      "Note: Absorber inlet is subcooled\n",
      "280.0 39.0 118.491907997 3.66302800781e-22 5.84954527756 \n",
      "\n",
      "[  3.58950380e-01   2.78166217e+02   3.12265388e+02   3.13093891e+02\n",
      "   3.10525927e+02   3.95211570e+02]\n",
      "Note: Absorber inlet is subcooled\n",
      "281.0 40.0 126.74676114 5.65485308044e+13 inf \n",
      "\n",
      "[  3.35723390e-01   2.78159709e+02   3.12271943e+02   3.13106390e+02\n",
      "   3.10525563e+02   3.95211794e+02]\n",
      "Note: Absorber inlet is subcooled\n",
      "282.0 40.0 118.503290347 1.02330129865e-24 6.50517317455 \n",
      "\n",
      "[  3.55912759e-01   2.78165366e+02   3.12266246e+02   3.13081530e+02\n",
      "   3.10525879e+02   3.95211599e+02]\n",
      "Note: Absorber inlet is subcooled\n",
      "283.0 40.0 125.668352643 11321.4202022 inf \n",
      "\n",
      "[  3.45817971e-01   2.78162538e+02   3.12269094e+02   3.13087710e+02\n",
      "   3.10525721e+02   3.95211696e+02]\n",
      "Note: Absorber inlet is subcooled\n",
      "284.0 40.0 122.085237224 1.4379498301e-19 14.5977787917 \n",
      "\n",
      "[  3.35625683e-01   2.78159709e+02   3.12271944e+02   3.13093890e+02\n",
      "   3.10531813e+02   3.95211794e+02]\n",
      "Note: Absorber inlet is subcooled\n",
      "285.0 40.0 118.445397237 8.46965972117e-25 6.41010293802 \n",
      "\n",
      "[  3.23910046e-01   2.78160404e+02   3.12271207e+02   3.13092150e+02\n",
      "   3.10522007e+02   3.95211766e+02]\n",
      "Note: Absorber inlet is subcooled\n",
      "286.0 40.0 114.350820564 1.36805456137e-30 2.35490579413 \n",
      "\n",
      "[  3.35737635e-01   2.78159709e+02   3.12271943e+02   3.13093890e+02\n",
      "   3.10525564e+02   3.95205544e+02]\n",
      "Note: Absorber inlet is subcooled\n",
      "287.0 40.0 118.497862144 1.00532378025e-24 6.48883049536 \n",
      "\n",
      "[  3.42238299e-01   2.78161341e+02   3.12270302e+02   3.13090336e+02\n",
      "   3.10518780e+02   3.95218851e+02]\n",
      "Note: Absorber inlet is subcooled\n",
      "288.0 41.0 120.852006903 7.87121190745e-24 12.1409564608 \n",
      "\n",
      "[  3.34806745e-01   2.78160016e+02   3.12271630e+02   3.13093190e+02\n",
      "   3.10531531e+02   3.95213180e+02]\n",
      "Note: Absorber inlet is subcooled\n",
      "289.0 41.0 118.161815202 4.40656621753e-28 6.64957026203 \n",
      "\n",
      "[  3.32816438e-01   2.78159768e+02   3.12271876e+02   3.13093713e+02\n",
      "   3.10524487e+02   3.95212138e+02]\n",
      "Note: Absorber inlet is subcooled\n",
      "290.0 41.0 117.482175418 3.73406594668e-29 5.70483826856 \n",
      "\n",
      "[  3.35726018e-01   2.78158595e+02   3.12270848e+02   3.13093890e+02\n",
      "   3.10525563e+02   3.95211794e+02]\n",
      "Note: Absorber inlet is subcooled\n",
      "291.0 41.0 118.502275951 1.38292518265e-27 7.18713798309 \n",
      "\n",
      "[  3.36032360e-01   2.78158305e+02   3.12274713e+02   3.13093816e+02\n",
      "   3.10525565e+02   3.95211942e+02]\n",
      "Note: Absorber inlet is subcooled\n",
      "292.0 41.0 118.599775713 1.93229738621e-27 7.33645420399 \n",
      "\n",
      "[  3.35567583e-01   2.78159670e+02   3.12271983e+02   3.13095435e+02\n",
      "   3.10525725e+02   3.95211793e+02]\n",
      "Note: Absorber inlet is subcooled\n",
      "293.0 41.0 118.44742756 1.21018438515e-27 7.09953601834 \n",
      "\n",
      "[  3.36824877e-01   2.78162129e+02   3.12271979e+02   3.13092388e+02\n",
      "   3.10524961e+02   3.95212070e+02]\n",
      "Note: Absorber inlet is subcooled\n",
      "294.0 41.0 118.904922607 7.31440671539e-27 7.87121378385 \n",
      "\n",
      "[  3.35287097e-01   2.78159911e+02   3.12271983e+02   3.13093529e+02\n",
      "   3.10527005e+02   3.95211820e+02]\n",
      "Note: Absorber inlet is subcooled\n",
      "295.0 42.0 118.344687786 5.82600014981e-31 7.66525816026 \n",
      "\n",
      "[  3.35644264e-01   2.78159820e+02   3.12272049e+02   3.13093885e+02\n",
      "   3.10525534e+02   3.95211032e+02]\n",
      "Note: Absorber inlet is subcooled\n",
      "296.0 42.0 118.47440066 9.71605831978e-31 7.89323789849 \n",
      "\n",
      "[  3.36142980e-01   2.78158859e+02   3.12271187e+02   3.13093586e+02\n",
      "   3.10525175e+02   3.95212646e+02]\n",
      "Note: Absorber inlet is subcooled\n",
      "297.0 42.0 118.652593564 1.85566910474e-30 8.21672987782 \n",
      "\n",
      "[  3.35064448e-01   2.78159824e+02   3.12272035e+02   3.13093813e+02\n",
      "   3.10525258e+02   3.95212030e+02]\n",
      "Note: Absorber inlet is subcooled\n",
      "298.0 42.0 118.272485278 4.34283046979e-31 7.54565740409 \n",
      "\n",
      "[  3.35735765e-01   2.78159972e+02   3.12271656e+02   3.13093907e+02\n",
      "   3.10525543e+02   3.95211792e+02]\n",
      "Note: Absorber inlet is subcooled\n",
      "299.0 42.0 118.509553074 1.12919810564e-30 7.95823878303 \n",
      "\n",
      "[  3.36130185e-01   2.78159811e+02   3.12272554e+02   3.13093855e+02\n",
      "   3.10525547e+02   3.95212040e+02]\n",
      "Note: Absorber inlet is subcooled\n",
      "300.0 42.0 118.646255892 1.92739841019e-30 8.20292827332 \n",
      "\n",
      "[  3.35755873e-01   2.78159334e+02   3.12271850e+02   3.13093853e+02\n",
      "   3.10525571e+02   3.95211816e+02]\n",
      "Note: Absorber inlet is subcooled\n",
      "301.0 42.0 118.513423222 1.09921499945e-30 7.96274809059 \n",
      "\n",
      "[  3.35707458e-01   2.78159727e+02   3.12271942e+02   3.13093716e+02\n",
      "   3.10525649e+02   3.95211796e+02]\n",
      "Note: Absorber inlet is subcooled\n",
      "302.0 43.0 118.497425961 3.60294268906e-34 8.76957096135 \n",
      "\n",
      "[  3.35614604e-01   2.78159712e+02   3.12271997e+02   3.13094155e+02\n",
      "   3.10525822e+02   3.95211823e+02]\n",
      "Note: Absorber inlet is subcooled\n",
      "303.0 43.0 118.463850823 3.10376833478e-34 8.70329987449 \n",
      "\n",
      "[  3.35721745e-01   2.78159711e+02   3.12271992e+02   3.13093928e+02\n",
      "   3.10525478e+02   3.95211629e+02]\n",
      "Note: Absorber inlet is subcooled\n",
      "304.0 43.0 118.502638522 3.68220182163e-34 8.77973974858 \n",
      "\n",
      "[  3.35632107e-01   2.78159704e+02   3.12271936e+02   3.13093883e+02\n",
      "   3.10525533e+02   3.95211807e+02]\n",
      "Note: Absorber inlet is subcooled\n",
      "305.0 43.0 118.471201745 3.20409088562e-34 8.71846564125 \n",
      "\n",
      "[  3.35861839e-01   2.78159731e+02   3.12272002e+02   3.13093922e+02\n",
      "   3.10525522e+02   3.95211904e+02]\n",
      "Note: Absorber inlet is subcooled\n",
      "306.0 43.0 118.55244498 4.59340870007e-34 8.878567788 \n",
      "\n",
      "[  3.35720092e-01   2.78159709e+02   3.12271948e+02   3.13093947e+02\n",
      "   3.10525645e+02   3.95211783e+02]\n",
      "Note: Absorber inlet is subcooled\n",
      "307.0 43.0 118.501790098 3.66803421587e-34 8.77805237218 \n",
      "\n",
      "[  3.35721684e-01   2.78159757e+02   3.12271929e+02   3.13093894e+02\n",
      "   3.10525561e+02   3.95211792e+02]\n",
      "Note: Absorber inlet is subcooled\n",
      "308.0 43.0 118.502928941 3.69946784906e-34 8.78072236229 \n",
      "\n",
      "[  3.35754329e-01   2.78159652e+02   3.12271869e+02   3.13093885e+02\n",
      "   3.10525551e+02   3.95211787e+02]\n",
      "Note: Absorber inlet is subcooled\n",
      "309.0 44.0 118.514192111 5.71096258082e-38 9.72849873818 \n",
      "\n"
     ]
    },
    {
     "data": {
      "text/plain": [
       "     fun: -108.78569337262947\n",
       "   maxcv: 0.0\n",
       " message: 'Optimization terminated successfully.'\n",
       "    nfev: 43\n",
       "  status: 1\n",
       " success: True\n",
       "       x: array([  3.35754329e-01,   2.78159652e+02,   3.12271869e+02,\n",
       "         3.13093885e+02,   3.10525551e+02,   3.95211787e+02])"
      ]
     },
     "execution_count": 205,
     "metadata": {},
     "output_type": "execute_result"
    }
   ],
   "source": [
    "P.n_calls = 7 * numpy.floor(P.n_calls / 7)\n",
    "opt = scipy.optimize.minimize(P.objective, x, method=\"COBYLA\",\n",
    "                              constraints=P.constraints, callback=P.callback,\n",
    "                              options={'disp':True,'maxiter':1000,'rhobeg':0.05})\n",
    "opt"
   ]
  },
  {
   "cell_type": "code",
   "execution_count": 206,
   "metadata": {},
   "outputs": [
    {
     "data": {
      "text/plain": [
       "array([  3.35754329e-01,   2.78159652e+02,   3.12271869e+02,\n",
       "         3.13093885e+02,   3.10525551e+02,   3.95211787e+02])"
      ]
     },
     "execution_count": 206,
     "metadata": {},
     "output_type": "execute_result"
    }
   ],
   "source": [
    "x = opt.x\n",
    "x"
   ]
  },
  {
   "cell_type": "code",
   "execution_count": null,
   "metadata": {
    "collapsed": true
   },
   "outputs": [],
   "source": [
    "# Let's bebug bad points encountered during optimization.\n",
    "# For reference, here is a good case.\n",
    "good_X1 = numpy.array([0.51284472,\n",
    "                       277.97717012,\n",
    "                       312.16427764,\n",
    "                       313.6952877,\n",
    "                       310.24856734,\n",
    "                       374.14020482])\n",
    "# Now, let's compare some degenerate cases.\n",
    "# This one requires absorber stream to compute points at high concentrations.\n",
    "bad_X1 = numpy.array([0.2,\n",
    "                      290.95402556,\n",
    "                      306.64229519,\n",
    "                      313.6952877,\n",
    "                      300.86211291,\n",
    "                      384.36256216])\n",
    "# This one is not feasible, insofar as it yields positive rectifier heat flow,\n",
    "# that is, heat *input* to rectifier, which should be rejected as \"bad\" design.\n",
    "# The cause is that T_abs is very low, so the rich stream is very rich,\n",
    "# and in fact the rectifier isn't needed...\n",
    "# So, I'm adding a constraint to keep the absorber warmer than evaporator.\n",
    "bad_X2 = numpy.array([1.,\n",
    "                      293.03582607,\n",
    "                      308.98651075,\n",
    "                      313.6952877,\n",
    "                      293.29251019,\n",
    "                      386.99474])\n",
    "# This one is also degenerate in the rectifier.\n",
    "# Try increasing the padding on the constraints.\n",
    "bad_X3 = numpy.array([1.,\n",
    "                      292.26696584,\n",
    "                      301.95207453,\n",
    "                      314.19203364,\n",
    "                      293.26696584,\n",
    "                      389.23622472])\n",
    "bad_X4 = numpy.array([1.,\n",
    "                      277.22895294,\n",
    "                      278.22895294,\n",
    "                      308.37781922,\n",
    "                      282.22895294,\n",
    "                      417.08853392])\n",
    "x = good_X1"
   ]
  },
  {
   "cell_type": "code",
   "execution_count": 207,
   "metadata": {},
   "outputs": [
    {
     "data": {
      "text/html": [
       "<h3>State points</h3>\n",
       "        <table>\n",
       "<thead>\n",
       "<tr><th>                         </th><th style=\"text-align: right;\">      T</th><th style=\"text-align: right;\">       P</th><th style=\"text-align: right;\">       x</th><th style=\"text-align: right;\">        h</th><th style=\"text-align: right;\">       s</th><th style=\"text-align: right;\">        u</th><th style=\"text-align: right;\">         v</th><th style=\"text-align: right;\">        Qu</th></tr>\n",
       "</thead>\n",
       "<tbody>\n",
       "<tr><td>rich_abs_outlet          </td><td style=\"text-align: right;\">310.526</td><td style=\"text-align: right;\"> 4.90672</td><td style=\"text-align: right;\">0.511574</td><td style=\"text-align: right;\"> -71.9566</td><td style=\"text-align: right;\">0.399293</td><td style=\"text-align: right;\"> -72.5604</td><td style=\"text-align: right;\">0.00123051</td><td style=\"text-align: right;\"> 0        </td></tr>\n",
       "<tr><td>rich_pump_outlet         </td><td style=\"text-align: right;\">310.691</td><td style=\"text-align: right;\">15.1852 </td><td style=\"text-align: right;\">0.511574</td><td style=\"text-align: right;\"> -70.3759</td><td style=\"text-align: right;\">0.400311</td><td style=\"text-align: right;\"> -72.2437</td><td style=\"text-align: right;\">0.00123003</td><td style=\"text-align: right;\">-0.001    </td></tr>\n",
       "<tr><td>rich_shx_outlet          </td><td style=\"text-align: right;\">350.698</td><td style=\"text-align: right;\">15.1852 </td><td style=\"text-align: right;\">0.511574</td><td style=\"text-align: right;\"> 112.588 </td><td style=\"text-align: right;\">0.954023</td><td style=\"text-align: right;\"> 110.612 </td><td style=\"text-align: right;\">0.00130159</td><td style=\"text-align: right;\">-0.001    </td></tr>\n",
       "<tr><td>rich_gen_sat_liquid      </td><td style=\"text-align: right;\">352.14 </td><td style=\"text-align: right;\">15.1852 </td><td style=\"text-align: right;\">0.511574</td><td style=\"text-align: right;\"> 119.782 </td><td style=\"text-align: right;\">0.974617</td><td style=\"text-align: right;\"> 117.801 </td><td style=\"text-align: right;\">0.00130449</td><td style=\"text-align: right;\"> 0        </td></tr>\n",
       "<tr><td>weak_gen_outlet          </td><td style=\"text-align: right;\">395.212</td><td style=\"text-align: right;\">15.1852 </td><td style=\"text-align: right;\">0.30058 </td><td style=\"text-align: right;\"> 347.264 </td><td style=\"text-align: right;\">1.53717 </td><td style=\"text-align: right;\"> 345.364 </td><td style=\"text-align: right;\">0.00125104</td><td style=\"text-align: right;\"> 0        </td></tr>\n",
       "<tr><td>weak_shx_outlet          </td><td style=\"text-align: right;\">336.73 </td><td style=\"text-align: right;\">15.1852 </td><td style=\"text-align: right;\">0.30058 </td><td style=\"text-align: right;\">  85.2403</td><td style=\"text-align: right;\">0.820382</td><td style=\"text-align: right;\">  83.4896</td><td style=\"text-align: right;\">0.00115292</td><td style=\"text-align: right;\">-0.001    </td></tr>\n",
       "<tr><td>weak_exp_outlet          </td><td style=\"text-align: right;\">336.908</td><td style=\"text-align: right;\"> 4.90672</td><td style=\"text-align: right;\">0.30058 </td><td style=\"text-align: right;\">  85.2402</td><td style=\"text-align: right;\">0.823901</td><td style=\"text-align: right;\">  84.6741</td><td style=\"text-align: right;\">0.00115374</td><td style=\"text-align: right;\">-0.001    </td></tr>\n",
       "<tr><td>gen_vapor_outlet         </td><td style=\"text-align: right;\">352.14 </td><td style=\"text-align: right;\">15.1852 </td><td style=\"text-align: right;\">0.988031</td><td style=\"text-align: right;\">1425.08  </td><td style=\"text-align: right;\">4.57477 </td><td style=\"text-align: right;\">1269.12  </td><td style=\"text-align: right;\">0.102702  </td><td style=\"text-align: right;\"> 1        </td></tr>\n",
       "<tr><td>gen_reflux_inlet         </td><td style=\"text-align: right;\">352.14 </td><td style=\"text-align: right;\">15.1852 </td><td style=\"text-align: right;\">0.511424</td><td style=\"text-align: right;\"> 119.346 </td><td style=\"text-align: right;\">0.973276</td><td style=\"text-align: right;\"> 117.365 </td><td style=\"text-align: right;\">0.00130473</td><td style=\"text-align: right;\"> 0        </td></tr>\n",
       "<tr><td>refrig_rect_outlet       </td><td style=\"text-align: right;\">313.094</td><td style=\"text-align: right;\">15.1852 </td><td style=\"text-align: right;\">0.999869</td><td style=\"text-align: right;\">1292.42  </td><td style=\"text-align: right;\">4.17683 </td><td style=\"text-align: right;\">1162.78  </td><td style=\"text-align: right;\">0.0853739 </td><td style=\"text-align: right;\"> 0.996888 </td></tr>\n",
       "<tr><td>refrig_cond_outlet       </td><td style=\"text-align: right;\">312.272</td><td style=\"text-align: right;\">15.1852 </td><td style=\"text-align: right;\">0.999869</td><td style=\"text-align: right;\"> 186.569 </td><td style=\"text-align: right;\">0.643511</td><td style=\"text-align: right;\"> 183.944 </td><td style=\"text-align: right;\">0.00172852</td><td style=\"text-align: right;\"> 0        </td></tr>\n",
       "<tr><td>refrig_cehx_liquid_outlet</td><td style=\"text-align: right;\">295.167</td><td style=\"text-align: right;\">15.1852 </td><td style=\"text-align: right;\">0.999869</td><td style=\"text-align: right;\"> 103.377 </td><td style=\"text-align: right;\">0.369785</td><td style=\"text-align: right;\"> 100.875 </td><td style=\"text-align: right;\">0.00164742</td><td style=\"text-align: right;\">-0.001    </td></tr>\n",
       "<tr><td>refrig_exp_outlet        </td><td style=\"text-align: right;\">276.772</td><td style=\"text-align: right;\"> 4.90672</td><td style=\"text-align: right;\">0.999869</td><td style=\"text-align: right;\"> 103.377 </td><td style=\"text-align: right;\">0.384285</td><td style=\"text-align: right;\">  94.0166</td><td style=\"text-align: right;\">0.0190757 </td><td style=\"text-align: right;\"> 0.0691058</td></tr>\n",
       "<tr><td>refrig_evap_outlet       </td><td style=\"text-align: right;\">278.16 </td><td style=\"text-align: right;\"> 4.90672</td><td style=\"text-align: right;\">0.999869</td><td style=\"text-align: right;\">1273.24  </td><td style=\"text-align: right;\">4.59239 </td><td style=\"text-align: right;\">1147.59  </td><td style=\"text-align: right;\">0.256488  </td><td style=\"text-align: right;\"> 0.998    </td></tr>\n",
       "<tr><td>refrig_cehx_sat_vapor    </td><td style=\"text-align: right;\">283.618</td><td style=\"text-align: right;\"> 4.90672</td><td style=\"text-align: right;\">0.999869</td><td style=\"text-align: right;\">1276.72  </td><td style=\"text-align: right;\">4.6039  </td><td style=\"text-align: right;\">1150.62  </td><td style=\"text-align: right;\">0.257009  </td><td style=\"text-align: right;\"> 1        </td></tr>\n",
       "<tr><td>refrig_cehx_vapor_outlet </td><td style=\"text-align: right;\">310.455</td><td style=\"text-align: right;\"> 4.90672</td><td style=\"text-align: right;\">0.999869</td><td style=\"text-align: right;\">1356.43  </td><td style=\"text-align: right;\">4.87414 </td><td style=\"text-align: right;\">1211.89  </td><td style=\"text-align: right;\">0.294582  </td><td style=\"text-align: right;\"> 1.001    </td></tr>\n",
       "<tr><td>rectifier_liquid         </td><td style=\"text-align: right;\">313.094</td><td style=\"text-align: right;\">15.1852 </td><td style=\"text-align: right;\">0.97787 </td><td style=\"text-align: right;\"> 174.346 </td><td style=\"text-align: right;\">0.664163</td><td style=\"text-align: right;\"> 171.765 </td><td style=\"text-align: right;\">0.00169968</td><td style=\"text-align: right;\"> 0        </td></tr>\n",
       "<tr><td>gen_vapor_formation      </td><td style=\"text-align: right;\">395.212</td><td style=\"text-align: right;\">15.1852 </td><td style=\"text-align: right;\">0.895272</td><td style=\"text-align: right;\">1637.8   </td><td style=\"text-align: right;\">5.11196 </td><td style=\"text-align: right;\">1459.42  </td><td style=\"text-align: right;\">0.11747   </td><td style=\"text-align: right;\"> 1        </td></tr>\n",
       "<tr><td>abs_vapor_final          </td><td style=\"text-align: right;\">336.908</td><td style=\"text-align: right;\"> 4.90672</td><td style=\"text-align: right;\">0.973164</td><td style=\"text-align: right;\">1448.95  </td><td style=\"text-align: right;\">5.15703 </td><td style=\"text-align: right;\">1290.6   </td><td style=\"text-align: right;\">0.322724  </td><td style=\"text-align: right;\"> 1        </td></tr>\n",
       "</tbody>\n",
       "</table>\n",
       "        <br/>\n",
       "        <h3>Performance variables</h3>\n",
       "        <table>\n",
       "<thead>\n",
       "<tr><th>name                   </th><th>unit  </th><th style=\"text-align: right;\">         value</th></tr>\n",
       "</thead>\n",
       "<tbody>\n",
       "<tr><td>Q_abs                  </td><td>kW    </td><td style=\"text-align: right;\">-181.559      </td></tr>\n",
       "<tr><td>Q_gen                  </td><td>kW    </td><td style=\"text-align: right;\"> 191.268      </td></tr>\n",
       "<tr><td>Q_cond                 </td><td>kW    </td><td style=\"text-align: right;\">-112.029      </td></tr>\n",
       "<tr><td>Q_evap                 </td><td>kW    </td><td style=\"text-align: right;\"> 118.514      </td></tr>\n",
       "<tr><td>Q_reflux               </td><td>kW    </td><td style=\"text-align: right;\"> -16.7246     </td></tr>\n",
       "<tr><td>Q_shx                  </td><td>kW    </td><td style=\"text-align: right;\">  61.431      </td></tr>\n",
       "<tr><td>Q_cehx                 </td><td>kW    </td><td style=\"text-align: right;\">   8.42784    </td></tr>\n",
       "<tr><td>W_pump                 </td><td>kW    </td><td style=\"text-align: right;\">   0.53072    </td></tr>\n",
       "<tr><td>COP                    </td><td>kW/kW </td><td style=\"text-align: right;\">   0.619624   </td></tr>\n",
       "<tr><td>ZeroCheck              </td><td>kW    </td><td style=\"text-align: right;\">   3.98942e-05</td></tr>\n",
       "<tr><td>ZeroCheckSHX           </td><td>kW    </td><td style=\"text-align: right;\">   5.60349e-06</td></tr>\n",
       "<tr><td>ZeroCheckCEHX          </td><td>kW    </td><td style=\"text-align: right;\">  -2.1214e-05 </td></tr>\n",
       "<tr><td>Q_gen_rect_combo       </td><td>kW    </td><td style=\"text-align: right;\"> 174.543      </td></tr>\n",
       "<tr><td>Q_refrig_side          </td><td>kW    </td><td style=\"text-align: right;\">  -6.48495    </td></tr>\n",
       "<tr><td>ZeroCheckRect          </td><td>kg/s  </td><td style=\"text-align: right;\">   0          </td></tr>\n",
       "<tr><td>m_rich                 </td><td>kg/s  </td><td style=\"text-align: right;\">   0.335754   </td></tr>\n",
       "<tr><td>m_weak                 </td><td>kg/s  </td><td style=\"text-align: right;\">   0.234448   </td></tr>\n",
       "<tr><td>m_gen_vapor            </td><td>kg/s  </td><td style=\"text-align: right;\">   0.103822   </td></tr>\n",
       "<tr><td>m_gen_reflux           </td><td>kg/s  </td><td style=\"text-align: right;\">   0.00251633 </td></tr>\n",
       "<tr><td>m_refrig               </td><td>kg/s  </td><td style=\"text-align: right;\">   0.101306   </td></tr>\n",
       "<tr><td>check_rectifier_delta_T</td><td>K     </td><td style=\"text-align: right;\">  39.0464     </td></tr>\n",
       "<tr><td>is_degenerate          </td><td>bool  </td><td style=\"text-align: right;\">   0          </td></tr>\n",
       "</tbody>\n",
       "</table>\n",
       "        "
      ],
      "text/plain": [
       "                                 T         P         x          h         s          u           v          Qu\n",
       "-------------------------  -------  --------  --------  ---------  --------  ---------  ----------  ----------\n",
       "rich_abs_outlet            310.526   4.90672  0.511574   -71.9566  0.399293   -72.5604  0.00123051   0\n",
       "rich_pump_outlet           310.691  15.1852   0.511574   -70.3759  0.400311   -72.2437  0.00123003  -0.001\n",
       "rich_shx_outlet            350.698  15.1852   0.511574   112.588   0.954023   110.612   0.00130159  -0.001\n",
       "rich_gen_sat_liquid        352.14   15.1852   0.511574   119.782   0.974617   117.801   0.00130449   0\n",
       "weak_gen_outlet            395.212  15.1852   0.30058    347.264   1.53717    345.364   0.00125104   0\n",
       "weak_shx_outlet            336.73   15.1852   0.30058     85.2403  0.820382    83.4896  0.00115292  -0.001\n",
       "weak_exp_outlet            336.908   4.90672  0.30058     85.2402  0.823901    84.6741  0.00115374  -0.001\n",
       "gen_vapor_outlet           352.14   15.1852   0.988031  1425.08    4.57477   1269.12    0.102702     1\n",
       "gen_reflux_inlet           352.14   15.1852   0.511424   119.346   0.973276   117.365   0.00130473   0\n",
       "refrig_rect_outlet         313.094  15.1852   0.999869  1292.42    4.17683   1162.78    0.0853739    0.996888\n",
       "refrig_cond_outlet         312.272  15.1852   0.999869   186.569   0.643511   183.944   0.00172852   0\n",
       "refrig_cehx_liquid_outlet  295.167  15.1852   0.999869   103.377   0.369785   100.875   0.00164742  -0.001\n",
       "refrig_exp_outlet          276.772   4.90672  0.999869   103.377   0.384285    94.0166  0.0190757    0.0691058\n",
       "refrig_evap_outlet         278.16    4.90672  0.999869  1273.24    4.59239   1147.59    0.256488     0.998\n",
       "refrig_cehx_sat_vapor      283.618   4.90672  0.999869  1276.72    4.6039    1150.62    0.257009     1\n",
       "refrig_cehx_vapor_outlet   310.455   4.90672  0.999869  1356.43    4.87414   1211.89    0.294582     1.001\n",
       "rectifier_liquid           313.094  15.1852   0.97787    174.346   0.664163   171.765   0.00169968   0\n",
       "gen_vapor_formation        395.212  15.1852   0.895272  1637.8     5.11196   1459.42    0.11747      1\n",
       "abs_vapor_final            336.908   4.90672  0.973164  1448.95    5.15703   1290.6     0.322724     1\n",
       "name                     unit             value\n",
       "-----------------------  ------  --------------\n",
       "Q_abs                    kW      -181.559\n",
       "Q_gen                    kW       191.268\n",
       "Q_cond                   kW      -112.029\n",
       "Q_evap                   kW       118.514\n",
       "Q_reflux                 kW       -16.7246\n",
       "Q_shx                    kW        61.431\n",
       "Q_cehx                   kW         8.42784\n",
       "W_pump                   kW         0.53072\n",
       "COP                      kW/kW      0.619624\n",
       "ZeroCheck                kW         3.98942e-05\n",
       "ZeroCheckSHX             kW         5.60349e-06\n",
       "ZeroCheckCEHX            kW        -2.1214e-05\n",
       "Q_gen_rect_combo         kW       174.543\n",
       "Q_refrig_side            kW        -6.48495\n",
       "ZeroCheckRect            kg/s       0\n",
       "m_rich                   kg/s       0.335754\n",
       "m_weak                   kg/s       0.234448\n",
       "m_gen_vapor              kg/s       0.103822\n",
       "m_gen_reflux             kg/s       0.00251633\n",
       "m_refrig                 kg/s       0.101306\n",
       "check_rectifier_delta_T  K         39.0464\n",
       "is_degenerate            bool       0"
      ]
     },
     "metadata": {},
     "output_type": "display_data"
    },
    {
     "data": {
      "text/plain": [
       "[0.23575432887826739,\n",
       " 0.66424567112173261,\n",
       " 33.112217153465394,\n",
       " 0.72201591814776978,\n",
       " 22.365898497033925,\n",
       " 81.117901789055793,\n",
       " 83.686236363635032]"
      ]
     },
     "execution_count": 207,
     "metadata": {},
     "output_type": "execute_result"
    }
   ],
   "source": [
    "ch = system_aqua1.makeChiller(x)\n",
    "display(ch)\n",
    "P.constraint(x)"
   ]
  },
  {
   "cell_type": "code",
   "execution_count": 208,
   "metadata": {},
   "outputs": [
    {
     "name": "stdout",
     "output_type": "stream",
     "text": [
      "Note: Absorber inlet is subcooled\n"
     ]
    },
    {
     "name": "stderr",
     "output_type": "stream",
     "text": [
      "C:\\Users\\user1\\Miniconda3\\envs\\openachp\\lib\\site-packages\\scipy\\interpolate\\_cubic.py:147: RuntimeWarning: divide by zero encountered in true_divide\n",
      "  mk = (y[1:] - y[:-1]) / hk\n",
      "C:\\Users\\user1\\Miniconda3\\envs\\openachp\\lib\\site-packages\\scipy\\interpolate\\_cubic.py:165: RuntimeWarning: invalid value encountered in true_divide\n",
      "  whmean = (w1/mk[:-1] + w2/mk[1:]) / (w1 + w2)\n"
     ]
    },
    {
     "data": {
      "text/html": [
       "<table>\n",
       "<thead>\n",
       "<tr><th>name  </th><th style=\"text-align: right;\">  deltaT</th><th style=\"text-align: right;\">  epsilon</th><th style=\"text-align: right;\">       UA</th><th style=\"text-align: right;\">       Q</th></tr>\n",
       "</thead>\n",
       "<tbody>\n",
       "<tr><td>gen   </td><td style=\"text-align: right;\"> 2.66874</td><td style=\"text-align: right;\"> 0.944904</td><td style=\"text-align: right;\"> 35.1378 </td><td style=\"text-align: right;\">191.268 </td></tr>\n",
       "<tr><td>rect  </td><td style=\"text-align: right;\"> 7.90461</td><td style=\"text-align: right;\"> 0.811331</td><td style=\"text-align: right;\">  1.21624</td><td style=\"text-align: right;\"> 16.7246</td></tr>\n",
       "<tr><td>abs   </td><td style=\"text-align: right;\"> 1.6352 </td><td style=\"text-align: right;\"> 0.920468</td><td style=\"text-align: right;\"> 37.6556 </td><td style=\"text-align: right;\">181.559 </td></tr>\n",
       "<tr><td>cond  </td><td style=\"text-align: right;\"> 2.22017</td><td style=\"text-align: right;\"> 0.966795</td><td style=\"text-align: right;\"> 27.4181 </td><td style=\"text-align: right;\">112.029 </td></tr>\n",
       "<tr><td>evap  </td><td style=\"text-align: right;\"> 1.13766</td><td style=\"text-align: right;\"> 0.982872</td><td style=\"text-align: right;\"> 33.1324 </td><td style=\"text-align: right;\">118.514 </td></tr>\n",
       "<tr><td>total </td><td style=\"text-align: right;\"> 0      </td><td style=\"text-align: right;\"> 0       </td><td style=\"text-align: right;\">134.56   </td><td style=\"text-align: right;\">  0     </td></tr>\n",
       "</tbody>\n",
       "</table>"
      ],
      "text/plain": [
       "name      deltaT    epsilon        UA         Q\n",
       "------  --------  ---------  --------  --------\n",
       "gen      2.66874   0.944904  35.1378   191.268\n",
       "rect     7.90461   0.811331   1.21624   16.7246\n",
       "abs      1.6352    0.920468  37.6556   181.559\n",
       "cond     2.22017   0.966795  27.4181   112.029\n",
       "evap     1.13766   0.982872  33.1324   118.514\n",
       "totalUA = 134.56010499915354"
      ]
     },
     "execution_count": 208,
     "metadata": {},
     "output_type": "execute_result"
    }
   ],
   "source": [
    "sys = system_aqua1.System(bdry, ch)\n",
    "sys"
   ]
  },
  {
   "cell_type": "code",
   "execution_count": 209,
   "metadata": {},
   "outputs": [
    {
     "data": {
      "text/plain": [
       "-0.3456010499915354"
      ]
     },
     "execution_count": 209,
     "metadata": {},
     "output_type": "execute_result"
    }
   ],
   "source": [
    "1-sys.totalUA/P.UAgoal"
   ]
  },
  {
   "cell_type": "code",
   "execution_count": 210,
   "metadata": {},
   "outputs": [
    {
     "data": {
      "text/plain": [
       "0.11944008575525175"
      ]
     },
     "execution_count": 210,
     "metadata": {},
     "output_type": "execute_result"
    }
   ],
   "source": [
    "penalty1([(1 - sys.totalUA/P.UAgoal)], 1)"
   ]
  },
  {
   "cell_type": "code",
   "execution_count": 211,
   "metadata": {},
   "outputs": [
    {
     "name": "stdout",
     "output_type": "stream",
     "text": [
      "[  2.85754329e-01   2.78159652e+02   3.12271869e+02   3.13093885e+02\n",
      "   3.10525551e+02   3.95211787e+02]\n",
      "Note: Absorber inlet is subcooled\n"
     ]
    },
    {
     "name": "stderr",
     "output_type": "stream",
     "text": [
      "C:\\Users\\user1\\Miniconda3\\envs\\openachp\\lib\\site-packages\\scipy\\interpolate\\_cubic.py:147: RuntimeWarning: divide by zero encountered in true_divide\n",
      "  mk = (y[1:] - y[:-1]) / hk\n",
      "C:\\Users\\user1\\Miniconda3\\envs\\openachp\\lib\\site-packages\\scipy\\interpolate\\_cubic.py:165: RuntimeWarning: invalid value encountered in true_divide\n",
      "  whmean = (w1/mk[:-1] + w2/mk[1:]) / (w1 + w2)\n"
     ]
    },
    {
     "name": "stdout",
     "output_type": "stream",
     "text": [
      "310.0 44.0 100.865247344 1.43509581919e-55 0.0 \n",
      "\n",
      "[  3.10754329e-01   2.78159652e+02   3.12271869e+02   3.13093885e+02\n",
      "   3.10525551e+02   3.95211787e+02]\n",
      "Note: Absorber inlet is subcooled\n",
      "311.0 44.0 109.689719727 1.55608826459e-55 0.605129864949 \n",
      "\n",
      "[  3.35754329e-01   2.78159652e+02   3.12271869e+02   3.13093885e+02\n",
      "   3.10525551e+02   3.95211787e+02]\n",
      "Note: Absorber inlet is subcooled\n",
      "312.0 44.0 118.514192111 5.71096258082e-38 9.72849873818 \n",
      "\n",
      "[  3.60754329e-01   2.78159652e+02   3.12271869e+02   3.13093885e+02\n",
      "   3.10525551e+02   3.95211787e+02]\n",
      "Note: Absorber inlet is subcooled\n",
      "313.0 44.0 127.338664494 4.55957213255e+27 inf \n",
      "\n",
      "[  3.85754329e-01   2.78159652e+02   3.12271869e+02   3.13093885e+02\n",
      "   3.10525551e+02   3.95211787e+02]\n",
      "Note: Absorber inlet is subcooled\n",
      "314.0 44.0 136.163136877 5.56939771765e+146 inf \n",
      "\n",
      "[  3.35754329e-01   2.77159652e+02   3.12271869e+02   3.13093885e+02\n",
      "   3.10525551e+02   3.95211787e+02]\n",
      "Note: Absorber inlet is subcooled\n",
      "315.0 44.0 114.338968687 2.40329962213e-65 2.687489943 \n",
      "\n",
      "[  3.35754329e-01   2.77659652e+02   3.12271869e+02   3.13093885e+02\n",
      "   3.10525551e+02   3.95211787e+02]\n",
      "Note: Absorber inlet is subcooled\n",
      "316.0 45.0 116.420963016 2.15818192697e-66 5.69492376052 \n",
      "\n",
      "[  3.35754329e-01   2.78159652e+02   3.12271869e+02   3.13093885e+02\n",
      "   3.10525551e+02   3.95211787e+02]\n",
      "Note: Absorber inlet is subcooled\n",
      "317.0 45.0 118.514192111 3.34414797942e-42 10.751653882 \n",
      "\n",
      "[  3.35754329e-01   2.78659652e+02   3.12271869e+02   3.13093885e+02\n",
      "   3.10525551e+02   3.95211787e+02]\n",
      "Note: Absorber inlet is subcooled\n",
      "318.0 45.0 120.619095315 8.03664712607e-18 22.644273066 \n",
      "\n",
      "[  3.35754329e-01   2.79159652e+02   3.12271869e+02   3.13093885e+02\n",
      "   3.10525551e+02   3.95211787e+02]\n",
      "Note: Absorber inlet is subcooled\n",
      "319.0 45.0 122.736122265 20981707.0661 inf \n",
      "\n",
      "[  3.35754329e-01   2.78159652e+02   3.11271869e+02   3.13093885e+02\n",
      "   3.10525551e+02   3.95211787e+02]\n",
      "Note: Absorber inlet is subcooled\n",
      "320.0 45.0 120.992907214 2.09561310353e-36 27.3760272697 \n",
      "\n",
      "[  3.35754329e-01   2.78159652e+02   3.11771869e+02   3.13093885e+02\n",
      "   3.10525551e+02   3.95211787e+02]\n",
      "Note: Absorber inlet is subcooled\n",
      "321.0 45.0 119.757606487 2.7056771193e-39 16.6787008014 \n",
      "\n",
      "[  3.35754329e-01   2.78159652e+02   3.12271869e+02   3.13093885e+02\n",
      "   3.10525551e+02   3.95211787e+02]\n",
      "Note: Absorber inlet is subcooled\n",
      "322.0 45.0 118.514192111 3.34414797942e-42 10.751653882 \n",
      "\n",
      "[  3.35754329e-01   2.78159652e+02   3.12771869e+02   3.13093885e+02\n",
      "   3.10525551e+02   3.95211787e+02]\n",
      "Note: Absorber inlet is subcooled\n",
      "323.0 46.0 117.262528974 4.08871513048e-50 7.81103304785 \n",
      "\n",
      "[  3.35754329e-01   2.78159652e+02   3.13271869e+02   3.13093885e+02\n",
      "   3.10525551e+02   3.95211787e+02]\n",
      "Note: Absorber inlet is subcooled\n",
      "324.0 46.0 116.002478241 inf inf \n",
      "\n",
      "[  3.35754329e-01   2.78159652e+02   3.12271869e+02   3.12093885e+02\n",
      "   3.10525551e+02   3.95211787e+02]\n"
     ]
    },
    {
     "name": "stderr",
     "output_type": "stream",
     "text": [
      "C:\\Users\\user1\\Miniconda3\\envs\\openachp\\lib\\site-packages\\ipykernel_launcher.py:16: RuntimeWarning: overflow encountered in exp\n",
      "  app.launch_new_instance()\n"
     ]
    },
    {
     "name": "stdout",
     "output_type": "stream",
     "text": [
      "Note: Absorber inlet is subcooled\n",
      "325.0 46.0 118.514192111 inf inf \n",
      "\n",
      "[  3.35754329e-01   2.78159652e+02   3.12271869e+02   3.12593885e+02\n",
      "   3.10525551e+02   3.95211787e+02]\n",
      "Note: Absorber inlet is subcooled\n",
      "326.0 46.0 118.514192111 7.02641439392e-47 11.8866935038 \n",
      "\n",
      "[  3.35754329e-01   2.78159652e+02   3.12271869e+02   3.13093885e+02\n",
      "   3.10525551e+02   3.95211787e+02]\n",
      "Note: Absorber inlet is subcooled\n",
      "327.0 46.0 118.514192111 7.02641439392e-47 11.8824151916 \n",
      "\n",
      "[  3.35754329e-01   2.78159652e+02   3.12271869e+02   3.13593885e+02\n",
      "   3.10525551e+02   3.95211787e+02]\n",
      "Note: Absorber inlet is subcooled\n",
      "328.0 46.0 118.514192111 7.02641439392e-47 11.8748164182 \n",
      "\n",
      "[  3.35754329e-01   2.78159652e+02   3.12271869e+02   3.14093885e+02\n",
      "   3.10525551e+02   3.95211787e+02]\n",
      "Note: Absorber inlet is subcooled\n",
      "329.0 46.0 118.514192111 7.02641439392e-47 11.8695190366 \n",
      "\n",
      "[  3.35754329e-01   2.78159652e+02   3.12271869e+02   3.13093885e+02\n",
      "   3.09525551e+02   3.95211787e+02]\n",
      "Note: Absorber inlet is subcooled\n",
      "330.0 47.0 122.29076179 1.10260036825e-23 50.3356763434 \n",
      "\n",
      "[  3.35754329e-01   2.78159652e+02   3.12271869e+02   3.13093885e+02\n",
      "   3.10025551e+02   3.95211787e+02]\n",
      "Note: Absorber inlet is subcooled\n",
      "331.0 47.0 120.394800265 1.12083178694e-46 23.7284793019 \n",
      "\n",
      "[  3.35754329e-01   2.78159652e+02   3.12271869e+02   3.13093885e+02\n",
      "   3.10525551e+02   3.95211787e+02]\n",
      "Note: Absorber inlet is subcooled\n",
      "332.0 47.0 118.514192111 4.75597565064e-52 13.1320997062 \n",
      "\n",
      "[  3.35754329e-01   2.78159652e+02   3.12271869e+02   3.13093885e+02\n",
      "   3.11025551e+02   3.95211787e+02]\n",
      "Note: Absorber inlet is subcooled\n",
      "333.0 47.0 116.648499244 2.22774921372e-57 7.58586929513 \n",
      "\n",
      "[  3.35754329e-01   2.78159652e+02   3.12271869e+02   3.13093885e+02\n",
      "   3.11525551e+02   3.95211787e+02]\n",
      "Note: Absorber inlet is subcooled\n",
      "334.0 47.0 114.797302064 1.14788946439e-62 4.34377867887 \n",
      "\n",
      "[  3.35754329e-01   2.78159652e+02   3.12271869e+02   3.13093885e+02\n",
      "   3.10525551e+02   3.94211787e+02]\n",
      "Note: Absorber inlet is subcooled\n",
      "335.0 47.0 116.827181785 7.21564317268e-57 7.07326294722 \n",
      "\n",
      "[  3.35754329e-01   2.78159652e+02   3.12271869e+02   3.13093885e+02\n",
      "   3.10525551e+02   3.94711787e+02]\n",
      "Note: Absorber inlet is subcooled\n",
      "336.0 47.0 117.674206991 1.89588670356e-54 9.72978744193 \n",
      "\n",
      "[  3.35754329e-01   2.78159652e+02   3.12271869e+02   3.13093885e+02\n",
      "   3.10525551e+02   3.95211787e+02]\n",
      "Note: Absorber inlet is subcooled\n",
      "337.0 48.0 118.514192111 9.20587431207e-58 14.5132146886 \n",
      "\n",
      "[  3.35754329e-01   2.78159652e+02   3.12271869e+02   3.13093885e+02\n",
      "   3.10525551e+02   3.95711787e+02]\n",
      "Note: Absorber inlet is subcooled\n",
      "338.0 48.0 119.34723381 3.92574721873e-55 19.3489855646 \n",
      "\n",
      "[  3.35754329e-01   2.78159652e+02   3.12271869e+02   3.13093885e+02\n",
      "   3.10525551e+02   3.96211787e+02]\n",
      "Note: Absorber inlet is subcooled\n",
      "339.0 48.0 120.17342605 1.59278198962e-52 25.634194823 \n",
      "\n"
     ]
    }
   ],
   "source": [
    "box = numpy.ones_like(x)\n",
    "box[0] = 0.05\n",
    "ss = numpy.linspace(-1,1,5)\n",
    "yyy = numpy.zeros([len(box),len(ss)])\n",
    "for i,boxi in enumerate(box):\n",
    "    yy = numpy.zeros_like(ss)\n",
    "    for j, s in enumerate(ss):\n",
    "        x_vary = x.copy()\n",
    "        x_vary[i] += boxi * s\n",
    "        yyy[i,j] = P.objective(x_vary)\n",
    "        if (numpy.array(P.constraint(x_vary)) < 0).any():\n",
    "            yyy[i,j] = numpy.nan"
   ]
  },
  {
   "cell_type": "code",
   "execution_count": 213,
   "metadata": {},
   "outputs": [
    {
     "data": {
      "image/png": "[encoded data removed]",
      "text/plain": [
       "<matplotlib.figure.Figure at 0x917b430>"
      ]
     },
     "metadata": {},
     "output_type": "display_data"
    }
   ],
   "source": [
    "plt.close('all')\n",
    "plt.figure(figsize=(10, 4))\n",
    "ax1=plt.subplot(1,len(box), 1)\n",
    "for i,_ in enumerate(box):\n",
    "    ax=plt.subplot(1, len(box), i+1, sharey=ax1)\n",
    "    xxx = x[i] + ss * box[i]\n",
    "    plt.plot(xxx, yyy[i,:], '.-')\n",
    "    plt.setp(ax.get_yticklabels(), visible=bool(i==0))\n",
    "    plt.xlim(min(xxx),max(xxx))\n",
    "plt.ylim(min(yyy.flat),min(yyy.flat)*0.9)\n",
    "plt.show()"
   ]
  },
  {
   "cell_type": "code",
   "execution_count": 173,
   "metadata": {},
   "outputs": [],
   "source": [
    "x = numpy.array([  0.31,   277.8,   313.,\n",
    "         314.2,   311.5,   394.5])"
   ]
  },
  {
   "cell_type": "markdown",
   "metadata": {},
   "source": [
    "### Trial 2.2\n",
    "\n",
    "Just brainstorming ... As a brute-force backup, I would like to have an optimize routine that is a gradient-based method where the gradient calculation and line-search algorithms simply react to passing over the feasible boundary using exceptions instead of constraint functions. (This matters because the total UA constraint function can only be computed when the feasible heat exchange constraints are already satisfied, so in some cases it would have to return infinite values.) In other words, this would be an adaptive step size method. In pseudo-code,"
   ]
  },
  {
   "cell_type": "code",
   "execution_count": null,
   "metadata": {
    "collapsed": true
   },
   "outputs": [],
   "source": [
    "def optimize(fun,x0,max_iter = 100):\n",
    "    x = x0.copy()\n",
    "    for iter in range(max_iter):\n",
    "        if step == 0:\n",
    "            break\n",
    "        G, H = calcGradient(fun, x)\n",
    "        dx = calcLineSearch(fun, x, G, H)\n",
    "        x = x + dx\n",
    "        f = fun(x)\n",
    "    return x, f\n",
    "\n",
    "def calcGradient(fun, x0, max_iter = 100):\n",
    "    max_iter = 100\n",
    "    # Initial step sizes by component\n",
    "    deltax = ones_like(x0)\n",
    "    # Function values to the right\n",
    "    fplus = zeros_like(x0)\n",
    "    # Function values to the left\n",
    "    fminus = zeros_like(x0)\n",
    "    f0 = fun(x0)\n",
    "    for j, _ in enumerate(deltax):\n",
    "        for i in range(max_iter):\n",
    "            dx = numpy.diag(deltax)[j]\n",
    "            try:\n",
    "                xplus = x0 + dx\n",
    "                xminus = x0 - dx\n",
    "                fplus[j] = fun(xplus)\n",
    "                fminus[j] = fun(xminus)\n",
    "                break\n",
    "            except:\n",
    "                deltax[j] *= 0.5\n",
    "    grad, hess = calcGradHelper(f0, deltax, fplus, fminus) # TODO\n",
    "    return grad, hess\n",
    "\n",
    "def calcLineSearch(fun, x0, G, H):\n",
    "    max_iter = 100\n",
    "    step = 0\n",
    "    direction = lshelper1(x0, G, H)\n",
    "    for i in range(max_iter):\n",
    "        try:\n",
    "            lshelper(f\n",
    "        except:\n",
    "            step *= 0.5\n",
    "    return step * direction"
   ]
  },
  {
   "cell_type": "markdown",
   "metadata": {},
   "source": [
    "#### Aside\n",
    "Furthermore, here is another related strategy. I could optimize first without the constraint on total UA. That would give me a feasible system. Then, given the desired total UA, I could have a feasible starting point by then turning down the mass flow rate using a linesearch on that parameter."
   ]
  },
  {
   "cell_type": "markdown",
   "metadata": {},
   "source": [
    "### Trial 2.3\n",
    "\n",
    "Another idea (suggested in documention of early trials) is to do something different with the heat exchange feasibility constraints, utilizing energy imbalance. The final goal would be to allow UA values as inputs, and optimize the cooling capacity, as intended. An intermediate goal may be to simply demonstrate a solver with UA values as inputs (using some optimization routine to determine the temperature points that achieve the specified UA values)."
   ]
  },
  {
   "cell_type": "markdown",
   "metadata": {},
   "source": [
    "### Trial 2.4\n",
    "New idea: use machine learning to build constraint functions, as follows. Let the optimization routine run. For each input evaluated, classify its feasibility (bonus: add dimensions for root cause of failure). Gather the data for classified points and generate a classification function through regression, etc. Restart the optimizer with this function"
   ]
  },
  {
   "cell_type": "markdown",
   "metadata": {},
   "source": [
    "### Trial 2.5\n",
    "An extension of a previous idea, kind of the dual problem -- Perform optimization in two steps: first with no constraint on UA (cost) to determine maximum Q (output). Then for each Q in a set of lesser values, optimize with respect to cost. This will deliver an optimal cost vs output curve."
   ]
  },
  {
   "cell_type": "code",
   "execution_count": 216,
   "metadata": {
    "collapsed": true
   },
   "outputs": [],
   "source": [
    "class Problem_2_5_A:\n",
    "    def __init__(self, bdry, UAgoal, mu=0.1):\n",
    "        self.bdry = bdry\n",
    "        self.UAgoal = UAgoal\n",
    "        self.mu = mu\n",
    "        self.Ncons = 7\n",
    "        self.n_calls = 0\n",
    "        # Soft constraints mode: this is sent to minimizer\n",
    "        self.constraints = [{'type': 'ineq',\n",
    "                             'fun': self.constraint,\n",
    "                             'args': (i,)\n",
    "                            } for i in range(self.Ncons)]\n",
    "            \n",
    "    def objective(self, xC):\n",
    "        step_number = numpy.floor(self.n_calls / 7)\n",
    "        self.n_calls += 1\n",
    "        print(xC,flush=True)\n",
    "        Q,B,P = 0.,0.,0.\n",
    "        try:\n",
    "            ch = system_aqua1.makeChiller(xC)\n",
    "            sys = system_aqua1.System(self.bdry, ch)\n",
    "            \n",
    "            # Barriers\n",
    "            # Magnitude tends to zero, slowly\n",
    "            mu_B = 1000. * numpy.exp(-0.1 * step_number)\n",
    "            length_scale_b = 1\n",
    "            # Or ... magnitude fixed, but shape changes\n",
    "            mu_B = 1000\n",
    "            length_scale_b = 1 * numpy.exp(-0.1 * step_number)\n",
    "            \n",
    "            # These are zero at the boundary ...\n",
    "            barriers = [ch.check_rectifier_delta_T] \\\n",
    "                        + [deltaT\n",
    "                           for name, deltaT, epsilon, UA, Qhx in sys.data]\n",
    "            B = mu_B * barrier1(barriers,length_scale_b)\n",
    "            \n",
    "            # Penalties\n",
    "            # Magnitude tends to infinite\n",
    "            mu_P = 1 * numpy.exp(0.1 * step_number)\n",
    "            penalties = [] # nothing to mention\n",
    "            P = mu_P * penalty1(penalties,1)\n",
    "            \n",
    "            Q = sys.chiller.Q_evap\n",
    "        except:\n",
    "            Q = numpy.inf\n",
    "        \n",
    "        print(self.n_calls, step_number, Q, B, P, \"\\n\", flush=True)\n",
    "        return -Q + B + P\n",
    "    \n",
    "    def constraint(self, x, *args):\n",
    "        cons = [x[0] - 0.1,\n",
    "                1. - x[0],\n",
    "                x[2] - x[1] - 1.0,\n",
    "                x[3] - x[2] - 0.1,\n",
    "                x[4] - x[1] - 10.0,\n",
    "                x[5] - x[3] - 1.0,\n",
    "                x[5] - x[4] - 1.0]\n",
    "        if len(args) > 0:\n",
    "            i, = args\n",
    "            return cons[i]\n",
    "        else:\n",
    "            return cons\n",
    "\n",
    "    def callback(self, x):\n",
    "        print(\"Did an iteration at \", x)"
   ]
  },
  {
   "cell_type": "code",
   "execution_count": 228,
   "metadata": {
    "collapsed": true
   },
   "outputs": [],
   "source": [
    "P = Problem_2_5_A(bdry, UAgoal)\n",
    "rT = T_heat_reject\n",
    "x = numpy.array([0.05, 278.45, rT+7, rT+8, rT+5, 395.15])"
   ]
  },
  {
   "cell_type": "code",
   "execution_count": 264,
   "metadata": {},
   "outputs": [
    {
     "name": "stdout",
     "output_type": "stream",
     "text": [
      "[  3.55072116e-01   2.78420757e+02   3.12162856e+02   3.13010725e+02\n",
      "   3.10417739e+02   3.95273386e+02]\n"
     ]
    },
    {
     "name": "stderr",
     "output_type": "stream",
     "text": [
      "C:\\Users\\user1\\Miniconda3\\envs\\openachp\\lib\\site-packages\\scipy\\optimize\\_minimize.py:403: RuntimeWarning: Method COBYLA does not support callback.\n",
      "  warn('Method %s does not support callback.' % method, RuntimeWarning)\n"
     ]
    },
    {
     "name": "stdout",
     "output_type": "stream",
     "text": [
      "Note: Absorber inlet is subcooled\n"
     ]
    },
    {
     "name": "stderr",
     "output_type": "stream",
     "text": [
      "C:\\Users\\user1\\Miniconda3\\envs\\openachp\\lib\\site-packages\\scipy\\interpolate\\_cubic.py:147: RuntimeWarning: divide by zero encountered in true_divide\n",
      "  mk = (y[1:] - y[:-1]) / hk\n",
      "C:\\Users\\user1\\Miniconda3\\envs\\openachp\\lib\\site-packages\\scipy\\interpolate\\_cubic.py:165: RuntimeWarning: invalid value encountered in true_divide\n",
      "  whmean = (w1/mk[:-1] + w2/mk[1:]) / (w1 + w2)\n",
      "C:\\Users\\user1\\Miniconda3\\envs\\openachp\\lib\\site-packages\\scipy\\integrate\\quadpack.py:364: IntegrationWarning: The maximum number of subdivisions (50) has been achieved.\n",
      "  If increasing the limit yields no improvement it is advised to analyze \n",
      "  the integrand in order to determine the difficulties.  If the position of a \n",
      "  local difficulty can be determined (singularity, discontinuity) one will \n",
      "  probably gain from splitting up the interval and calling the integrator \n",
      "  on the subranges.  Perhaps a special-purpose integrator should be used.\n",
      "  warnings.warn(msg, IntegrationWarning)\n"
     ]
    },
    {
     "name": "stdout",
     "output_type": "stream",
     "text": [
      "519.0 74.0 127.317339047 5.3349045353e-17 0.0 \n",
      "\n",
      "[  3.56072116e-01   2.78420757e+02   3.12162856e+02   3.13010725e+02\n",
      "   3.10417739e+02   3.95273386e+02]\n",
      "Note: Absorber inlet is subcooled\n",
      "520.0 74.0 127.675906597 4.74255995465e+80 0.0 \n",
      "\n",
      "[  3.55072116e-01   2.78421757e+02   3.12162856e+02   3.13010725e+02\n",
      "   3.10417739e+02   3.95273386e+02]\n",
      "Note: Absorber inlet is subcooled\n",
      "521.0 74.0 127.321792771 5.59956626076e-17 0.0 \n",
      "\n",
      "[  3.55072116e-01   2.78421757e+02   3.12163856e+02   3.13010725e+02\n",
      "   3.10417739e+02   3.95273386e+02]\n",
      "Note: Absorber inlet is subcooled\n",
      "522.0 74.0 127.31917001 6.88659609816e-17 0.0 \n",
      "\n",
      "[  3.55072116e-01   2.78421757e+02   3.12162856e+02   3.13011725e+02\n",
      "   3.10417739e+02   3.95273386e+02]\n",
      "Note: Absorber inlet is subcooled\n",
      "523.0 74.0 127.321792771 5.59956626076e-17 0.0 \n",
      "\n",
      "[  3.55072116e-01   2.78421757e+02   3.12162856e+02   3.13010725e+02\n",
      "   3.10418739e+02   3.95273386e+02]\n",
      "Note: Absorber inlet is subcooled\n",
      "524.0 74.0 127.317813373 5.50989357622e-17 0.0 \n",
      "\n",
      "[  3.55072116e-01   2.78421757e+02   3.12162856e+02   3.13010725e+02\n",
      "   3.10417739e+02   3.95274386e+02]\n",
      "Note: Absorber inlet is subcooled\n",
      "525.0 74.0 127.323546699 1.94390854942e-16 0.0 \n",
      "\n",
      "[  3.54072116e-01   2.78421757e+02   3.12162856e+02   3.13010725e+02\n",
      "   3.10417739e+02   3.95274386e+02]\n",
      "Note: Absorber inlet is subcooled\n",
      "526.0 75.0 126.964961666 1.48434917396e-125 0.0 \n",
      "\n",
      "[  3.55572028e-01   2.78421763e+02   3.12162852e+02   3.13010725e+02\n",
      "   3.10417734e+02   3.95274388e+02]\n",
      "Note: Absorber inlet is subcooled\n",
      "527.0 75.0 127.502871112 7.71617195338e+35 0.0 \n",
      "\n",
      "[  3.55069012e-01   2.78422007e+02   3.12162856e+02   3.13010725e+02\n",
      "   3.10417739e+02   3.95274386e+02]\n",
      "Note: Absorber inlet is subcooled\n",
      "528.0 75.0 127.32354669 9.86089248968e-19 0.0 \n",
      "\n",
      "[  3.54572155e-01   2.78421751e+02   3.12162856e+02   3.13010725e+02\n",
      "   3.10417739e+02   3.95274386e+02]\n",
      "Note: Absorber inlet is subcooled\n",
      "529.0 75.0 127.144240393 5.62468439499e-72 0.0 \n",
      "\n",
      "[  3.55072116e-01   2.78421757e+02   3.12162606e+02   3.13010725e+02\n",
      "   3.10417739e+02   3.95274386e+02]\n",
      "Note: Absorber inlet is subcooled\n",
      "530.0 75.0 127.324202376 1.97686096141e-18 0.0 \n",
      "\n",
      "[  3.55572028e-01   2.78421763e+02   3.12162602e+02   3.13010725e+02\n",
      "   3.10417734e+02   3.95274388e+02]\n",
      "Note: Absorber inlet is subcooled\n",
      "531.0 75.0 127.503527713 7.29283913156e+35 0.0 \n",
      "\n",
      "[  3.55072116e-01   2.78421757e+02   3.12162606e+02   3.13010975e+02\n",
      "   3.10417739e+02   3.95274386e+02]\n",
      "Note: Absorber inlet is subcooled\n",
      "532.0 75.0 127.324202376 1.97686096141e-18 0.0 \n",
      "\n",
      "[  3.54572155e-01   2.78421751e+02   3.12162606e+02   3.13010725e+02\n",
      "   3.10417739e+02   3.95274386e+02]\n",
      "Note: Absorber inlet is subcooled\n",
      "533.0 76.0 127.144895147 8.19230469375e-80 0.0 \n",
      "\n",
      "[  3.55072116e-01   2.78421757e+02   3.12162606e+02   3.13010725e+02\n",
      "   3.10417489e+02   3.95274386e+02]\n",
      "Note: Absorber inlet is subcooled\n",
      "534.0 76.0 127.325197229 1.32023312087e-20 0.0 \n",
      "\n",
      "[  3.55572028e-01   2.78421763e+02   3.12162602e+02   3.13010725e+02\n",
      "   3.10417484e+02   3.95274388e+02]\n",
      "Note: Absorber inlet is subcooled\n",
      "535.0 76.0 127.504523966 2.09698804264e+39 0.0 \n",
      "\n",
      "[  3.55070894e-01   2.78421757e+02   3.12162606e+02   3.13010725e+02\n",
      "   3.10417489e+02   3.95274636e+02]\n",
      "Note: Absorber inlet is subcooled\n",
      "536.0 76.0 127.325197216 1.38329561144e-20 0.0 \n",
      "\n",
      "[  3.54572161e-01   2.78421751e+02   3.12162606e+02   3.13010725e+02\n",
      "   3.10417489e+02   3.95274383e+02]\n",
      "Note: Absorber inlet is subcooled\n",
      "537.0 76.0 127.14588646 8.20909239239e-80 0.0 \n",
      "\n",
      "[  3.55322072e-01   2.78421760e+02   3.12162604e+02   3.13010725e+02\n",
      "   3.10417487e+02   3.95274387e+02]\n",
      "Note: Absorber inlet is subcooled\n",
      "538.0 76.0 127.414860575 5261388802.97 0.0 \n",
      "\n",
      "[  3.54972125e-01   2.78421756e+02   3.12162606e+02   3.13010725e+02\n",
      "   3.10417489e+02   3.95274385e+02]\n",
      "Note: Absorber inlet is subcooled\n",
      "539.0 76.0 127.289335068 1.90268466986e-32 0.0 \n",
      "\n",
      "[  3.55072737e-01   2.78421707e+02   3.12162606e+02   3.13010725e+02\n",
      "   3.10417489e+02   3.95274386e+02]\n",
      "Note: Absorber inlet is subcooled\n",
      "540.0 77.0 127.325197231 6.22668921142e-23 0.0 \n",
      "\n",
      "[  3.55172720e-01   2.78421708e+02   3.12162605e+02   3.13010725e+02\n",
      "   3.10417488e+02   3.95274386e+02]\n",
      "Note: Absorber inlet is subcooled\n",
      "541.0 77.0 127.361062501 7.57976385382e-10 0.0 \n",
      "\n",
      "[  3.55272702e-01   2.78421709e+02   3.12162604e+02   3.13010725e+02\n",
      "   3.10417487e+02   3.95274387e+02]\n",
      "Note: Absorber inlet is subcooled\n",
      "542.0 77.0 127.396927779 9227.0372795 0.0 \n",
      "\n",
      "[  3.55172354e-01   2.78421708e+02   3.12162555e+02   3.13010725e+02\n",
      "   3.10417488e+02   3.95274386e+02]\n",
      "Note: Absorber inlet is subcooled\n",
      "543.0 77.0 127.361062538 6.695111066e-10 0.0 \n",
      "\n",
      "[  3.55272336e-01   2.78421709e+02   3.12162554e+02   3.13010725e+02\n",
      "   3.10417487e+02   3.95274387e+02]\n",
      "Note: Absorber inlet is subcooled\n",
      "544.0 77.0 127.396927853 8150.40417511 0.0 \n",
      "\n",
      "[  3.55172354e-01   2.78421708e+02   3.12162555e+02   3.13010775e+02\n",
      "   3.10417488e+02   3.95274386e+02]\n",
      "Note: Absorber inlet is subcooled\n",
      "545.0 77.0 127.361062538 6.695111066e-10 0.0 \n",
      "\n",
      "[  3.55128747e-01   2.78421618e+02   3.12162556e+02   3.13010725e+02\n",
      "   3.10417488e+02   3.95274386e+02]\n",
      "Note: Absorber inlet is subcooled\n",
      "546.0 77.0 127.345023277 1.30609794778e-15 0.0 \n",
      "\n",
      "[  3.55171796e-01   2.78421708e+02   3.12162555e+02   3.13010725e+02\n",
      "   3.10417438e+02   3.95274386e+02]\n",
      "Note: Absorber inlet is subcooled\n",
      "547.0 78.0 127.361062594 2.91871906682e-11 0.0 \n",
      "\n",
      "[  3.55089856e-01   2.78421748e+02   3.12162556e+02   3.13010725e+02\n",
      "   3.10417439e+02   3.95274345e+02]\n",
      "Note: Absorber inlet is subcooled\n",
      "548.0 78.0 127.331778563 3.81611789277e-23 0.0 \n",
      "\n",
      "[  3.55162186e-01   2.78421723e+02   3.12162537e+02   3.13010706e+02\n",
      "   3.10417457e+02   3.95274420e+02]\n",
      "Note: Absorber inlet is subcooled\n",
      "549.0 78.0 127.3577157 1.25928969803e-12 0.0 \n",
      "\n",
      "[  3.55137672e-01   2.78421702e+02   3.12162596e+02   3.13010766e+02\n",
      "   3.10417397e+02   3.95274447e+02]\n",
      "Note: Absorber inlet is subcooled\n",
      "550.0 78.0 127.348959269 3.84223252526e-16 0.0 \n",
      "\n"
     ]
    },
    {
     "data": {
      "text/plain": [
       "     fun: -127.34895926866595\n",
       "   maxcv: 0.0\n",
       " message: 'Optimization terminated successfully.'\n",
       "    nfev: 32\n",
       "  status: 1\n",
       " success: True\n",
       "       x: array([  3.55137672e-01,   2.78421702e+02,   3.12162596e+02,\n",
       "         3.13010766e+02,   3.10417397e+02,   3.95274447e+02])"
      ]
     },
     "execution_count": 264,
     "metadata": {},
     "output_type": "execute_result"
    }
   ],
   "source": [
    "P.n_calls = 7 * numpy.floor(P.n_calls / 7)\n",
    "opt = scipy.optimize.minimize(P.objective, x, method=\"COBYLA\",\n",
    "                              constraints=P.constraints, callback=P.callback,\n",
    "                              options={'disp':True,'maxiter':1000,'rhobeg':0.001})\n",
    "opt"
   ]
  },
  {
   "cell_type": "code",
   "execution_count": 265,
   "metadata": {},
   "outputs": [
    {
     "data": {
      "text/plain": [
       "array([  3.55137672e-01,   2.78421702e+02,   3.12162596e+02,\n",
       "         3.13010766e+02,   3.10417397e+02,   3.95274447e+02])"
      ]
     },
     "execution_count": 265,
     "metadata": {},
     "output_type": "execute_result"
    }
   ],
   "source": [
    "x = opt.x\n",
    "x"
   ]
  },
  {
   "cell_type": "code",
   "execution_count": 266,
   "metadata": {},
   "outputs": [
    {
     "data": {
      "text/html": [
       "<h3>State points</h3>\n",
       "        <table>\n",
       "<thead>\n",
       "<tr><th>                         </th><th style=\"text-align: right;\">      T</th><th style=\"text-align: right;\">       P</th><th style=\"text-align: right;\">       x</th><th style=\"text-align: right;\">        h</th><th style=\"text-align: right;\">       s</th><th style=\"text-align: right;\">        u</th><th style=\"text-align: right;\">         v</th><th style=\"text-align: right;\">        Qu</th></tr>\n",
       "</thead>\n",
       "<tbody>\n",
       "<tr><td>rich_abs_outlet          </td><td style=\"text-align: right;\">310.417</td><td style=\"text-align: right;\"> 4.95336</td><td style=\"text-align: right;\">0.514304</td><td style=\"text-align: right;\"> -72.3015</td><td style=\"text-align: right;\">0.397627</td><td style=\"text-align: right;\"> -72.9118</td><td style=\"text-align: right;\">0.00123198</td><td style=\"text-align: right;\"> 0        </td></tr>\n",
       "<tr><td>rich_pump_outlet         </td><td style=\"text-align: right;\">310.582</td><td style=\"text-align: right;\">15.1389 </td><td style=\"text-align: right;\">0.514304</td><td style=\"text-align: right;\"> -70.7333</td><td style=\"text-align: right;\">0.398637</td><td style=\"text-align: right;\"> -72.5977</td><td style=\"text-align: right;\">0.00123151</td><td style=\"text-align: right;\">-0.001    </td></tr>\n",
       "<tr><td>rich_shx_outlet          </td><td style=\"text-align: right;\">350.366</td><td style=\"text-align: right;\">15.1389 </td><td style=\"text-align: right;\">0.514304</td><td style=\"text-align: right;\"> 111.299 </td><td style=\"text-align: right;\">0.949892</td><td style=\"text-align: right;\"> 109.327 </td><td style=\"text-align: right;\">0.00130295</td><td style=\"text-align: right;\">-0.001    </td></tr>\n",
       "<tr><td>rich_gen_sat_liquid      </td><td style=\"text-align: right;\">351.549</td><td style=\"text-align: right;\">15.1389 </td><td style=\"text-align: right;\">0.514304</td><td style=\"text-align: right;\"> 117.247 </td><td style=\"text-align: right;\">0.966967</td><td style=\"text-align: right;\"> 115.271 </td><td style=\"text-align: right;\">0.00130528</td><td style=\"text-align: right;\"> 0        </td></tr>\n",
       "<tr><td>weak_gen_outlet          </td><td style=\"text-align: right;\">395.274</td><td style=\"text-align: right;\">15.1389 </td><td style=\"text-align: right;\">0.299694</td><td style=\"text-align: right;\"> 347.844 </td><td style=\"text-align: right;\">1.53814 </td><td style=\"text-align: right;\"> 345.951 </td><td style=\"text-align: right;\">0.00125059</td><td style=\"text-align: right;\"> 0        </td></tr>\n",
       "<tr><td>weak_shx_outlet          </td><td style=\"text-align: right;\">336.673</td><td style=\"text-align: right;\">15.1389 </td><td style=\"text-align: right;\">0.299694</td><td style=\"text-align: right;\">  85.357 </td><td style=\"text-align: right;\">0.820092</td><td style=\"text-align: right;\">  83.6123</td><td style=\"text-align: right;\">0.00115244</td><td style=\"text-align: right;\">-0.001    </td></tr>\n",
       "<tr><td>weak_exp_outlet          </td><td style=\"text-align: right;\">336.849</td><td style=\"text-align: right;\"> 4.95336</td><td style=\"text-align: right;\">0.299694</td><td style=\"text-align: right;\">  85.3569</td><td style=\"text-align: right;\">0.823578</td><td style=\"text-align: right;\">  84.7856</td><td style=\"text-align: right;\">0.00115325</td><td style=\"text-align: right;\">-0.001    </td></tr>\n",
       "<tr><td>gen_vapor_outlet         </td><td style=\"text-align: right;\">351.549</td><td style=\"text-align: right;\">15.1389 </td><td style=\"text-align: right;\">0.988422</td><td style=\"text-align: right;\">1423.24  </td><td style=\"text-align: right;\">4.57086 </td><td style=\"text-align: right;\">1267.59  </td><td style=\"text-align: right;\">0.102817  </td><td style=\"text-align: right;\"> 1        </td></tr>\n",
       "<tr><td>gen_reflux_inlet         </td><td style=\"text-align: right;\">351.549</td><td style=\"text-align: right;\">15.1389 </td><td style=\"text-align: right;\">0.514161</td><td style=\"text-align: right;\"> 116.839 </td><td style=\"text-align: right;\">0.965702</td><td style=\"text-align: right;\"> 114.863 </td><td style=\"text-align: right;\">0.00130551</td><td style=\"text-align: right;\"> 0        </td></tr>\n",
       "<tr><td>refrig_rect_outlet       </td><td style=\"text-align: right;\">313.011</td><td style=\"text-align: right;\">15.1389 </td><td style=\"text-align: right;\">0.999869</td><td style=\"text-align: right;\">1292.69  </td><td style=\"text-align: right;\">4.17889 </td><td style=\"text-align: right;\">1163.01  </td><td style=\"text-align: right;\">0.085662  </td><td style=\"text-align: right;\"> 0.997063 </td></tr>\n",
       "<tr><td>refrig_cond_outlet       </td><td style=\"text-align: right;\">312.163</td><td style=\"text-align: right;\">15.1389 </td><td style=\"text-align: right;\">0.999869</td><td style=\"text-align: right;\"> 186.026 </td><td style=\"text-align: right;\">0.641797</td><td style=\"text-align: right;\"> 183.41  </td><td style=\"text-align: right;\">0.00172797</td><td style=\"text-align: right;\"> 0        </td></tr>\n",
       "<tr><td>refrig_cehx_liquid_outlet</td><td style=\"text-align: right;\">295.22 </td><td style=\"text-align: right;\">15.1389 </td><td style=\"text-align: right;\">0.999869</td><td style=\"text-align: right;\"> 103.624 </td><td style=\"text-align: right;\">0.370649</td><td style=\"text-align: right;\"> 101.13  </td><td style=\"text-align: right;\">0.00164766</td><td style=\"text-align: right;\">-0.001    </td></tr>\n",
       "<tr><td>refrig_exp_outlet        </td><td style=\"text-align: right;\">277.033</td><td style=\"text-align: right;\"> 4.95336</td><td style=\"text-align: right;\">0.999869</td><td style=\"text-align: right;\"> 103.624 </td><td style=\"text-align: right;\">0.384876</td><td style=\"text-align: right;\">  94.3417</td><td style=\"text-align: right;\">0.0187398 </td><td style=\"text-align: right;\"> 0.0683924</td></tr>\n",
       "<tr><td>refrig_evap_outlet       </td><td style=\"text-align: right;\">278.422</td><td style=\"text-align: right;\"> 4.95336</td><td style=\"text-align: right;\">0.999869</td><td style=\"text-align: right;\">1273.54  </td><td style=\"text-align: right;\">4.58951 </td><td style=\"text-align: right;\">1147.82  </td><td style=\"text-align: right;\">0.254367  </td><td style=\"text-align: right;\"> 0.998    </td></tr>\n",
       "<tr><td>refrig_cehx_sat_vapor    </td><td style=\"text-align: right;\">283.802</td><td style=\"text-align: right;\"> 4.95336</td><td style=\"text-align: right;\">0.999869</td><td style=\"text-align: right;\">1276.95  </td><td style=\"text-align: right;\">4.60047 </td><td style=\"text-align: right;\">1150.8   </td><td style=\"text-align: right;\">0.254691  </td><td style=\"text-align: right;\"> 1        </td></tr>\n",
       "<tr><td>refrig_cehx_vapor_outlet </td><td style=\"text-align: right;\">310.365</td><td style=\"text-align: right;\"> 4.95336</td><td style=\"text-align: right;\">0.999869</td><td style=\"text-align: right;\">1355.94  </td><td style=\"text-align: right;\">4.86817 </td><td style=\"text-align: right;\">1211.52  </td><td style=\"text-align: right;\">0.29157   </td><td style=\"text-align: right;\"> 1.001    </td></tr>\n",
       "<tr><td>rectifier_liquid         </td><td style=\"text-align: right;\">313.011</td><td style=\"text-align: right;\">15.1389 </td><td style=\"text-align: right;\">0.977121</td><td style=\"text-align: right;\"> 173.378 </td><td style=\"text-align: right;\">0.662792</td><td style=\"text-align: right;\"> 170.807 </td><td style=\"text-align: right;\">0.00169819</td><td style=\"text-align: right;\"> 0        </td></tr>\n",
       "<tr><td>gen_vapor_formation      </td><td style=\"text-align: right;\">395.274</td><td style=\"text-align: right;\">15.1389 </td><td style=\"text-align: right;\">0.894599</td><td style=\"text-align: right;\">1638.84  </td><td style=\"text-align: right;\">5.1156  </td><td style=\"text-align: right;\">1460.4   </td><td style=\"text-align: right;\">0.117866  </td><td style=\"text-align: right;\"> 1        </td></tr>\n",
       "<tr><td>abs_vapor_final          </td><td style=\"text-align: right;\">336.849</td><td style=\"text-align: right;\"> 4.95336</td><td style=\"text-align: right;\">0.973632</td><td style=\"text-align: right;\">1448.06  </td><td style=\"text-align: right;\">5.15016 </td><td style=\"text-align: right;\">1289.79  </td><td style=\"text-align: right;\">0.319529  </td><td style=\"text-align: right;\"> 1        </td></tr>\n",
       "</tbody>\n",
       "</table>\n",
       "        <br/>\n",
       "        <h3>Performance variables</h3>\n",
       "        <table>\n",
       "<thead>\n",
       "<tr><th>name                   </th><th>unit  </th><th style=\"text-align: right;\">         value</th></tr>\n",
       "</thead>\n",
       "<tbody>\n",
       "<tr><td>Q_abs                  </td><td>kW    </td><td style=\"text-align: right;\">-194.298      </td></tr>\n",
       "<tr><td>Q_gen                  </td><td>kW    </td><td style=\"text-align: right;\"> 204.499      </td></tr>\n",
       "<tr><td>Q_cond                 </td><td>kW    </td><td style=\"text-align: right;\">-120.464      </td></tr>\n",
       "<tr><td>Q_evap                 </td><td>kW    </td><td style=\"text-align: right;\"> 127.349      </td></tr>\n",
       "<tr><td>Q_reflux               </td><td>kW    </td><td style=\"text-align: right;\"> -17.6432     </td></tr>\n",
       "<tr><td>Q_shx                  </td><td>kW    </td><td style=\"text-align: right;\">  64.6467     </td></tr>\n",
       "<tr><td>Q_cehx                 </td><td>kW    </td><td style=\"text-align: right;\">   8.96969    </td></tr>\n",
       "<tr><td>W_pump                 </td><td>kW    </td><td style=\"text-align: right;\">   0.556948   </td></tr>\n",
       "<tr><td>COP                    </td><td>kW/kW </td><td style=\"text-align: right;\">   0.622738   </td></tr>\n",
       "<tr><td>ZeroCheck              </td><td>kW    </td><td style=\"text-align: right;\">   3.39326e-05</td></tr>\n",
       "<tr><td>ZeroCheckSHX           </td><td>kW    </td><td style=\"text-align: right;\">   5.85302e-06</td></tr>\n",
       "<tr><td>ZeroCheckCEHX          </td><td>kW    </td><td style=\"text-align: right;\">  -2.04954e-05</td></tr>\n",
       "<tr><td>Q_gen_rect_combo       </td><td>kW    </td><td style=\"text-align: right;\"> 186.855      </td></tr>\n",
       "<tr><td>Q_refrig_side          </td><td>kW    </td><td style=\"text-align: right;\">  -6.88526    </td></tr>\n",
       "<tr><td>ZeroCheckRect          </td><td>kg/s  </td><td style=\"text-align: right;\">   1.38778e-17</td></tr>\n",
       "<tr><td>m_rich                 </td><td>kg/s  </td><td style=\"text-align: right;\">   0.355138   </td></tr>\n",
       "<tr><td>m_weak                 </td><td>kg/s  </td><td style=\"text-align: right;\">   0.246285   </td></tr>\n",
       "<tr><td>m_gen_vapor            </td><td>kg/s  </td><td style=\"text-align: right;\">   0.11148    </td></tr>\n",
       "<tr><td>m_gen_reflux           </td><td>kg/s  </td><td style=\"text-align: right;\">   0.00262729 </td></tr>\n",
       "<tr><td>m_refrig               </td><td>kg/s  </td><td style=\"text-align: right;\">   0.108853   </td></tr>\n",
       "<tr><td>check_rectifier_delta_T</td><td>K     </td><td style=\"text-align: right;\">  38.5385     </td></tr>\n",
       "<tr><td>is_degenerate          </td><td>bool  </td><td style=\"text-align: right;\">   0          </td></tr>\n",
       "</tbody>\n",
       "</table>\n",
       "        "
      ],
      "text/plain": [
       "                                 T         P         x          h         s          u           v          Qu\n",
       "-------------------------  -------  --------  --------  ---------  --------  ---------  ----------  ----------\n",
       "rich_abs_outlet            310.417   4.95336  0.514304   -72.3015  0.397627   -72.9118  0.00123198   0\n",
       "rich_pump_outlet           310.582  15.1389   0.514304   -70.7333  0.398637   -72.5977  0.00123151  -0.001\n",
       "rich_shx_outlet            350.366  15.1389   0.514304   111.299   0.949892   109.327   0.00130295  -0.001\n",
       "rich_gen_sat_liquid        351.549  15.1389   0.514304   117.247   0.966967   115.271   0.00130528   0\n",
       "weak_gen_outlet            395.274  15.1389   0.299694   347.844   1.53814    345.951   0.00125059   0\n",
       "weak_shx_outlet            336.673  15.1389   0.299694    85.357   0.820092    83.6123  0.00115244  -0.001\n",
       "weak_exp_outlet            336.849   4.95336  0.299694    85.3569  0.823578    84.7856  0.00115325  -0.001\n",
       "gen_vapor_outlet           351.549  15.1389   0.988422  1423.24    4.57086   1267.59    0.102817     1\n",
       "gen_reflux_inlet           351.549  15.1389   0.514161   116.839   0.965702   114.863   0.00130551   0\n",
       "refrig_rect_outlet         313.011  15.1389   0.999869  1292.69    4.17889   1163.01    0.085662     0.997063\n",
       "refrig_cond_outlet         312.163  15.1389   0.999869   186.026   0.641797   183.41    0.00172797   0\n",
       "refrig_cehx_liquid_outlet  295.22   15.1389   0.999869   103.624   0.370649   101.13    0.00164766  -0.001\n",
       "refrig_exp_outlet          277.033   4.95336  0.999869   103.624   0.384876    94.3417  0.0187398    0.0683924\n",
       "refrig_evap_outlet         278.422   4.95336  0.999869  1273.54    4.58951   1147.82    0.254367     0.998\n",
       "refrig_cehx_sat_vapor      283.802   4.95336  0.999869  1276.95    4.60047   1150.8     0.254691     1\n",
       "refrig_cehx_vapor_outlet   310.365   4.95336  0.999869  1355.94    4.86817   1211.52    0.29157      1.001\n",
       "rectifier_liquid           313.011  15.1389   0.977121   173.378   0.662792   170.807   0.00169819   0\n",
       "gen_vapor_formation        395.274  15.1389   0.894599  1638.84    5.1156    1460.4     0.117866     1\n",
       "abs_vapor_final            336.849   4.95336  0.973632  1448.06    5.15016   1289.79    0.319529     1\n",
       "name                     unit             value\n",
       "-----------------------  ------  --------------\n",
       "Q_abs                    kW      -194.298\n",
       "Q_gen                    kW       204.499\n",
       "Q_cond                   kW      -120.464\n",
       "Q_evap                   kW       127.349\n",
       "Q_reflux                 kW       -17.6432\n",
       "Q_shx                    kW        64.6467\n",
       "Q_cehx                   kW         8.96969\n",
       "W_pump                   kW         0.556948\n",
       "COP                      kW/kW      0.622738\n",
       "ZeroCheck                kW         3.39326e-05\n",
       "ZeroCheckSHX             kW         5.85302e-06\n",
       "ZeroCheckCEHX            kW        -2.04954e-05\n",
       "Q_gen_rect_combo         kW       186.855\n",
       "Q_refrig_side            kW        -6.88526\n",
       "ZeroCheckRect            kg/s       1.38778e-17\n",
       "m_rich                   kg/s       0.355138\n",
       "m_weak                   kg/s       0.246285\n",
       "m_gen_vapor              kg/s       0.11148\n",
       "m_gen_reflux             kg/s       0.00262729\n",
       "m_refrig                 kg/s       0.108853\n",
       "check_rectifier_delta_T  K         38.5385\n",
       "is_degenerate            bool       0"
      ]
     },
     "metadata": {},
     "output_type": "display_data"
    }
   ],
   "source": [
    "ch = system_aqua1.makeChiller(x)\n",
    "display(ch)"
   ]
  },
  {
   "cell_type": "code",
   "execution_count": 267,
   "metadata": {},
   "outputs": [
    {
     "data": {
      "text/plain": [
       "[0.25513767158997736,\n",
       " 0.64486232841002267,\n",
       " 32.740894434783854,\n",
       " 0.7481694634629662,\n",
       " 21.995695399762837,\n",
       " 81.263681283164658,\n",
       " 83.857049781648641]"
      ]
     },
     "execution_count": 267,
     "metadata": {},
     "output_type": "execute_result"
    }
   ],
   "source": [
    "P.constraint(x)"
   ]
  },
  {
   "cell_type": "code",
   "execution_count": 268,
   "metadata": {},
   "outputs": [
    {
     "name": "stdout",
     "output_type": "stream",
     "text": [
      "Note: Absorber inlet is subcooled\n"
     ]
    },
    {
     "name": "stderr",
     "output_type": "stream",
     "text": [
      "C:\\Users\\user1\\Miniconda3\\envs\\openachp\\lib\\site-packages\\scipy\\interpolate\\_cubic.py:147: RuntimeWarning: divide by zero encountered in true_divide\n",
      "  mk = (y[1:] - y[:-1]) / hk\n",
      "C:\\Users\\user1\\Miniconda3\\envs\\openachp\\lib\\site-packages\\scipy\\interpolate\\_cubic.py:165: RuntimeWarning: invalid value encountered in true_divide\n",
      "  whmean = (w1/mk[:-1] + w2/mk[1:]) / (w1 + w2)\n",
      "C:\\Users\\user1\\Miniconda3\\envs\\openachp\\lib\\site-packages\\scipy\\integrate\\quadpack.py:364: IntegrationWarning: The maximum number of subdivisions (50) has been achieved.\n",
      "  If increasing the limit yields no improvement it is advised to analyze \n",
      "  the integrand in order to determine the difficulties.  If the position of a \n",
      "  local difficulty can be determined (singularity, discontinuity) one will \n",
      "  probably gain from splitting up the interval and calling the integrator \n",
      "  on the subranges.  Perhaps a special-purpose integrator should be used.\n",
      "  warnings.warn(msg, IntegrationWarning)\n"
     ]
    },
    {
     "data": {
      "text/html": [
       "<table>\n",
       "<thead>\n",
       "<tr><th>name  </th><th style=\"text-align: right;\">  deltaT</th><th style=\"text-align: right;\">  epsilon</th><th style=\"text-align: right;\">      UA</th><th style=\"text-align: right;\">       Q</th></tr>\n",
       "</thead>\n",
       "<tbody>\n",
       "<tr><td>gen   </td><td style=\"text-align: right;\">0.017374</td><td style=\"text-align: right;\"> 0.999645</td><td style=\"text-align: right;\">127.218 </td><td style=\"text-align: right;\">204.499 </td></tr>\n",
       "<tr><td>rect  </td><td style=\"text-align: right;\">7.79555 </td><td style=\"text-align: right;\"> 0.808195</td><td style=\"text-align: right;\">  1.3645</td><td style=\"text-align: right;\"> 17.6432</td></tr>\n",
       "<tr><td>abs   </td><td style=\"text-align: right;\">1.40685 </td><td style=\"text-align: right;\"> 0.930853</td><td style=\"text-align: right;\"> 46.2847</td><td style=\"text-align: right;\">194.298 </td></tr>\n",
       "<tr><td>cond  </td><td style=\"text-align: right;\">1.71955 </td><td style=\"text-align: right;\"> 0.967192</td><td style=\"text-align: right;\"> 33.239 </td><td style=\"text-align: right;\">120.464 </td></tr>\n",
       "<tr><td>evap  </td><td style=\"text-align: right;\">0.348308</td><td style=\"text-align: right;\"> 0.983386</td><td style=\"text-align: right;\"> 52.3927</td><td style=\"text-align: right;\">127.349 </td></tr>\n",
       "<tr><td>total </td><td style=\"text-align: right;\">0       </td><td style=\"text-align: right;\"> 0       </td><td style=\"text-align: right;\">260.499 </td><td style=\"text-align: right;\">  0     </td></tr>\n",
       "</tbody>\n",
       "</table>"
      ],
      "text/plain": [
       "name      deltaT    epsilon        UA         Q\n",
       "------  --------  ---------  --------  --------\n",
       "gen     0.017374   0.999645  127.218   204.499\n",
       "rect    7.79555    0.808195    1.3645   17.6432\n",
       "abs     1.40685    0.930853   46.2847  194.298\n",
       "cond    1.71955    0.967192   33.239   120.464\n",
       "evap    0.348308   0.983386   52.3927  127.349\n",
       "totalUA = 260.49853630627683"
      ]
     },
     "execution_count": 268,
     "metadata": {},
     "output_type": "execute_result"
    }
   ],
   "source": [
    "sys = system_aqua1.System(bdry, ch)\n",
    "sys"
   ]
  },
  {
   "cell_type": "code",
   "execution_count": 269,
   "metadata": {},
   "outputs": [
    {
     "name": "stdout",
     "output_type": "stream",
     "text": [
      "[  3.05137672e-01   2.78421702e+02   3.12162596e+02   3.13010766e+02\n",
      "   3.10417397e+02   3.95274447e+02]\n",
      "Note: Absorber inlet is subcooled\n"
     ]
    },
    {
     "name": "stderr",
     "output_type": "stream",
     "text": [
      "C:\\Users\\user1\\Miniconda3\\envs\\openachp\\lib\\site-packages\\scipy\\interpolate\\_cubic.py:147: RuntimeWarning: divide by zero encountered in true_divide\n",
      "  mk = (y[1:] - y[:-1]) / hk\n",
      "C:\\Users\\user1\\Miniconda3\\envs\\openachp\\lib\\site-packages\\scipy\\interpolate\\_cubic.py:165: RuntimeWarning: invalid value encountered in true_divide\n",
      "  whmean = (w1/mk[:-1] + w2/mk[1:]) / (w1 + w2)\n"
     ]
    },
    {
     "name": "stdout",
     "output_type": "stream",
     "text": [
      "551.0 78.0 109.419439331 0.0 0.0 \n",
      "\n",
      "[  3.30137672e-01   2.78421702e+02   3.12162596e+02   3.13010766e+02\n",
      "   3.10417397e+02   3.95274447e+02]\n",
      "Note: Absorber inlet is subcooled\n",
      "552.0 78.0 118.3841993 0.0 0.0 \n",
      "\n",
      "[  3.55137672e-01   2.78421702e+02   3.12162596e+02   3.13010766e+02\n",
      "   3.10417397e+02   3.95274447e+02]\n",
      "Note: Absorber inlet is subcooled\n"
     ]
    },
    {
     "name": "stderr",
     "output_type": "stream",
     "text": [
      "C:\\Users\\user1\\Miniconda3\\envs\\openachp\\lib\\site-packages\\scipy\\integrate\\quadpack.py:364: IntegrationWarning: The maximum number of subdivisions (50) has been achieved.\n",
      "  If increasing the limit yields no improvement it is advised to analyze \n",
      "  the integrand in order to determine the difficulties.  If the position of a \n",
      "  local difficulty can be determined (singularity, discontinuity) one will \n",
      "  probably gain from splitting up the interval and calling the integrator \n",
      "  on the subranges.  Perhaps a special-purpose integrator should be used.\n",
      "  warnings.warn(msg, IntegrationWarning)\n"
     ]
    },
    {
     "name": "stdout",
     "output_type": "stream",
     "text": [
      "553.0 78.0 127.348959269 3.84223252526e-16 0.0 \n",
      "\n",
      "[  3.80137672e-01   2.78421702e+02   3.12162596e+02   3.13010766e+02\n",
      "   3.10417397e+02   3.95274447e+02]\n",
      "Note: Absorber inlet is subcooled\n",
      "554.0 79.0 136.313719238 inf 0.0 \n",
      "\n",
      "[   0.40513767  278.42170204  312.16259647  313.01076594  310.41739744\n",
      "  395.27444722]\n"
     ]
    },
    {
     "name": "stderr",
     "output_type": "stream",
     "text": [
      "C:\\Users\\user1\\Miniconda3\\envs\\openachp\\lib\\site-packages\\ipykernel_launcher.py:16: RuntimeWarning: overflow encountered in exp\n",
      "  app.launch_new_instance()\n"
     ]
    },
    {
     "name": "stdout",
     "output_type": "stream",
     "text": [
      "Note: Absorber inlet is subcooled\n",
      "555.0 79.0 145.278479206 inf 0.0 \n",
      "\n",
      "[  3.55137672e-01   2.77421702e+02   3.12162596e+02   3.13010766e+02\n",
      "   3.10417397e+02   3.95274447e+02]\n",
      "Note: Absorber inlet is subcooled\n",
      "556.0 79.0 122.919133181 3.10637374978e-46 0.0 \n",
      "\n",
      "[  3.55137672e-01   2.77921702e+02   3.12162596e+02   3.13010766e+02\n",
      "   3.10417397e+02   3.95274447e+02]\n",
      "Note: Absorber inlet is subcooled\n",
      "557.0 79.0 125.127943709 2.55433035295e-33 0.0 \n",
      "\n",
      "[  3.55137672e-01   2.78421702e+02   3.12162596e+02   3.13010766e+02\n",
      "   3.10417397e+02   3.95274447e+02]\n",
      "Note: Absorber inlet is subcooled\n",
      "558.0 79.0 127.348959269 4.44444359796e-18 0.0 \n",
      "\n",
      "[  3.55137672e-01   2.78921702e+02   3.12162596e+02   3.13010766e+02\n",
      "   3.10417397e+02   3.95274447e+02]\n",
      "Note: Absorber inlet is subcooled\n",
      "559.0 79.0 129.582653934 inf 0.0 \n",
      "\n",
      "[  3.55137672e-01   2.79421702e+02   3.12162596e+02   3.13010766e+02\n",
      "   3.10417397e+02   3.95274447e+02]\n",
      "Note: Absorber inlet is subcooled\n",
      "560.0 79.0 131.829513357 inf 0.0 \n",
      "\n",
      "[  3.55137672e-01   2.78421702e+02   3.11162596e+02   3.13010766e+02\n",
      "   3.10417397e+02   3.95274447e+02]\n",
      "Note: Absorber inlet is subcooled\n",
      "561.0 80.0 129.955050259 9.47943514551e-205 0.0 \n",
      "\n",
      "[  3.55137672e-01   2.78421702e+02   3.11662596e+02   3.13010766e+02\n",
      "   3.10417397e+02   3.95274447e+02]\n",
      "Note: Absorber inlet is subcooled\n",
      "562.0 80.0 128.656253983 3.20085593954e-103 0.0 \n",
      "\n",
      "[  3.55137672e-01   2.78421702e+02   3.12162596e+02   3.13010766e+02\n",
      "   3.10417397e+02   3.95274447e+02]\n",
      "Note: Absorber inlet is subcooled\n",
      "563.0 80.0 127.348959269 3.21632310226e-20 0.0 \n",
      "\n",
      "[  3.55137672e-01   2.78421702e+02   3.12662596e+02   3.13010766e+02\n",
      "   3.10417397e+02   3.95274447e+02]\n",
      "Note: Absorber inlet is subcooled\n",
      "564.0 80.0 126.033025284 3.37671311815e+71 0.0 \n",
      "\n",
      "[  3.55137672e-01   2.78421702e+02   3.13162596e+02   3.13010766e+02\n",
      "   3.10417397e+02   3.95274447e+02]\n",
      "Note: Absorber inlet is subcooled\n",
      "565.0 80.0 124.708307316 inf 0.0 \n",
      "\n",
      "[  3.55137672e-01   2.78421702e+02   3.12162596e+02   3.12010766e+02\n",
      "   3.10417397e+02   3.95274447e+02]\n",
      "Note: Absorber inlet is subcooled\n",
      "566.0 80.0 127.348959269 inf 0.0 \n",
      "\n",
      "[  3.55137672e-01   2.78421702e+02   3.12162596e+02   3.12510766e+02\n",
      "   3.10417397e+02   3.95274447e+02]\n",
      "Note: Absorber inlet is subcooled\n",
      "567.0 80.0 127.348959269 3.21632310226e-20 0.0 \n",
      "\n",
      "[  3.55137672e-01   2.78421702e+02   3.12162596e+02   3.13010766e+02\n",
      "   3.10417397e+02   3.95274447e+02]\n",
      "Note: Absorber inlet is subcooled\n",
      "568.0 81.0 127.348959269 1.38607916929e-22 0.0 \n",
      "\n",
      "[  3.55137672e-01   2.78421702e+02   3.12162596e+02   3.13510766e+02\n",
      "   3.10417397e+02   3.95274447e+02]\n",
      "Note: Absorber inlet is subcooled\n",
      "569.0 81.0 127.348959269 1.38607916929e-22 0.0 \n",
      "\n",
      "[  3.55137672e-01   2.78421702e+02   3.12162596e+02   3.14010766e+02\n",
      "   3.10417397e+02   3.95274447e+02]\n",
      "Note: Absorber inlet is subcooled\n",
      "570.0 81.0 127.348959269 1.38607916929e-22 0.0 \n",
      "\n",
      "[  3.55137672e-01   2.78421702e+02   3.12162596e+02   3.13010766e+02\n",
      "   3.09417397e+02   3.95274447e+02]\n",
      "Note: Absorber inlet is subcooled\n",
      "571.0 81.0 131.361951082 4.383195076e-05 0.0 \n",
      "\n",
      "[  3.55137672e-01   2.78421702e+02   3.12162596e+02   3.13010766e+02\n",
      "   3.09917397e+02   3.95274447e+02]\n",
      "Note: Absorber inlet is subcooled\n",
      "572.0 81.0 129.347164803 1.18885297816e-14 0.0 \n",
      "\n",
      "[  3.55137672e-01   2.78421702e+02   3.12162596e+02   3.13010766e+02\n",
      "   3.10417397e+02   3.95274447e+02]\n",
      "Note: Absorber inlet is subcooled\n",
      "573.0 81.0 127.348959269 1.38607916929e-22 0.0 \n",
      "\n",
      "[  3.55137672e-01   2.78421702e+02   3.12162596e+02   3.13010766e+02\n",
      "   3.10917397e+02   3.95274447e+02]\n",
      "Note: Absorber inlet is subcooled\n",
      "574.0 81.0 125.366856273 2.59379523315e-29 0.0 \n",
      "\n",
      "[  3.55137672e-01   2.78421702e+02   3.12162596e+02   3.13010766e+02\n",
      "   3.11417397e+02   3.95274447e+02]\n",
      "Note: Absorber inlet is subcooled\n",
      "575.0 82.0 123.400398009 1.45149642982e-39 0.0 \n",
      "\n",
      "[  3.55137672e-01   2.78421702e+02   3.12162596e+02   3.13010766e+02\n",
      "   3.10417397e+02   3.94274447e+02]\n",
      "Note: Absorber inlet is subcooled\n",
      "576.0 82.0 125.580073975 0.0 0.0 \n",
      "\n",
      "[  3.55137672e-01   2.78421702e+02   3.12162596e+02   3.13010766e+02\n",
      "   3.10417397e+02   3.94774447e+02]\n",
      "Note: Absorber inlet is subcooled\n",
      "577.0 82.0 126.46819965 0.0 0.0 \n",
      "\n",
      "[  3.55137672e-01   2.78421702e+02   3.12162596e+02   3.13010766e+02\n",
      "   3.10417397e+02   3.95274447e+02]\n",
      "Note: Absorber inlet is subcooled\n",
      "578.0 82.0 127.348959269 3.36842640315e-25 0.0 \n",
      "\n",
      "[  3.55137672e-01   2.78421702e+02   3.12162596e+02   3.13010766e+02\n",
      "   3.10417397e+02   3.95774447e+02]\n",
      "Note: Absorber inlet is subcooled\n",
      "579.0 82.0 128.22245361 inf 0.0 \n",
      "\n",
      "[  3.55137672e-01   2.78421702e+02   3.12162596e+02   3.13010766e+02\n",
      "   3.10417397e+02   3.96274447e+02]\n",
      "Note: Absorber inlet is subcooled\n",
      "580.0 82.0 129.088780625 inf 0.0 \n",
      "\n"
     ]
    }
   ],
   "source": [
    "box = numpy.ones_like(x)\n",
    "box[0] = 0.05\n",
    "ss = numpy.linspace(-1,1,5)\n",
    "yyy = numpy.zeros([len(box),len(ss)])\n",
    "for i,boxi in enumerate(box):\n",
    "    yy = numpy.zeros_like(ss)\n",
    "    for j, s in enumerate(ss):\n",
    "        x_vary = x.copy()\n",
    "        x_vary[i] += boxi * s\n",
    "        yyy[i,j] = P.objective(x_vary)\n",
    "        if (numpy.array(P.constraint(x_vary)) < 0).any():\n",
    "            yyy[i,j] = numpy.nan"
   ]
  },
  {
   "cell_type": "code",
   "execution_count": 270,
   "metadata": {},
   "outputs": [
    {
     "data": {
      "image/png": "[encoded data removed]",
      "text/plain": [
       "<matplotlib.figure.Figure at 0x9040df0>"
      ]
     },
     "metadata": {},
     "output_type": "display_data"
    }
   ],
   "source": [
    "plt.close('all')\n",
    "plt.figure(figsize=(10, 4))\n",
    "ax1=plt.subplot(1,len(box), 1)\n",
    "for i,_ in enumerate(box):\n",
    "    ax=plt.subplot(1, len(box), i+1, sharey=ax1)\n",
    "    xxx = x[i] + ss * box[i]\n",
    "    plt.plot(xxx, yyy[i,:], '.-')\n",
    "    plt.setp(ax.get_yticklabels(), visible=bool(i==0))\n",
    "    plt.xlim(min(xxx),max(xxx))\n",
    "plt.ylim(min(yyy.flat),min(yyy.flat)*0.9)\n",
    "plt.show()"
   ]
  },
  {
   "cell_type": "markdown",
   "metadata": {},
   "source": [
    "# Scratch work"
   ]
  },
  {
   "cell_type": "code",
   "execution_count": 15,
   "metadata": {
    "scrolled": false
   },
   "outputs": [
    {
     "data": {
      "text/plain": [
       "(1076, 0.0)"
      ]
     },
     "execution_count": 15,
     "metadata": {},
     "output_type": "execute_result"
    }
   ],
   "source": [
    "a=5\n",
    "for i in range(9999):\n",
    "    a*=0.5\n",
    "    if a==0:\n",
    "        break\n",
    "i,a"
   ]
  },
  {
   "cell_type": "code",
   "execution_count": 25,
   "metadata": {},
   "outputs": [
    {
     "data": {
      "text/plain": [
       "array([ 0.25,  0.5 ,  0.75,  1.  ])"
      ]
     },
     "execution_count": 25,
     "metadata": {},
     "output_type": "execute_result"
    }
   ],
   "source": [
    "gradient_step = numpy.array([1.,2.,3.,4.])\n",
    "for j, _ in enumerate(gradient_step):\n",
    "    for i in range(2):\n",
    "        gradient_step[j] *= 0.5\n",
    "gradient_step"
   ]
  },
  {
   "cell_type": "code",
   "execution_count": 30,
   "metadata": {},
   "outputs": [
    {
     "data": {
      "text/plain": [
       "array([ 0.,  0.,  0.,  1.])"
      ]
     },
     "execution_count": 30,
     "metadata": {},
     "output_type": "execute_result"
    }
   ],
   "source": [
    "numpy.diag(gradient_step)[3]"
   ]
  },
  {
   "cell_type": "code",
   "execution_count": 215,
   "metadata": {},
   "outputs": [
    {
     "data": {
      "text/html": [
       "<pre id=\"TOC-markdown\">TOC will be here</pre>\n",
       "<script>\n",
       "$(\"#TOC-markdown\").html(\n",
       "    $('h1,h2,h3,h4').map(function(){return \"  \".repeat($(this).prop(\"tagName\")[1]) + \"- [\"+$(this).text()+\"](\" + $(this).children().attr(\"href\") + \")\";}).get().join(\"\\n\")\n",
       "    );\n",
       "</script>"
      ],
      "text/plain": [
       "<IPython.core.display.HTML object>"
      ]
     },
     "metadata": {},
     "output_type": "display_data"
    }
   ],
   "source": [
    "%%html\n",
    "<pre id=\"TOC-markdown\">TOC will be here</pre>\n",
    "<script>\n",
    "$(\"#TOC-markdown\").html(\n",
    "    $('h1,h2,h3,h4').map(function(){return \"  \".repeat($(this).prop(\"tagName\")[1]) + \"- [\"+$(this).text()+\"](\" + $(this).children().attr(\"href\") + \")\";}).get().join(\"\\n\")\n",
    "    );\n",
    "</script>"
   ]
  },
  {
   "cell_type": "code",
   "execution_count": null,
   "metadata": {
    "collapsed": true
   },
   "outputs": [],
   "source": []
  }
 ],
 "metadata": {
  "celltoolbar": "Raw Cell Format",
  "kernelspec": {
   "display_name": "Python 3",
   "language": "python",
   "name": "python3"
  },
  "language_info": {
   "codemirror_mode": {
    "name": "ipython",
    "version": 3
   },
   "file_extension": ".py",
   "mimetype": "text/x-python",
   "name": "python",
   "nbconvert_exporter": "python",
   "pygments_lexer": "ipython3",
   "version": "3.6.2"
  }
 },
 "nbformat": 4,
 "nbformat_minor": 2
}
