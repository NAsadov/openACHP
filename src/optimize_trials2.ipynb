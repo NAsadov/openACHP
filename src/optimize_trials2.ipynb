{
 "cells": [
  {
   "cell_type": "markdown",
   "metadata": {},
   "source": [
    "[Go to this directory index](./)\n",
    "\n",
    "Contents\n",
    "  - [More optimization trials¶](#More-optimization-trials)\n",
    "      - [Trial 2.1¶](#Trial-2.1)\n",
    "      - [Trial 2.2¶](#Trial-2.2)\n",
    "        - [Aside¶](#Aside)\n",
    "      - [Trial 2.3¶](#Trial-2.3)"
   ]
  },
  {
   "cell_type": "code",
   "execution_count": 41,
   "metadata": {},
   "outputs": [
    {
     "data": {
      "application/javascript": [
       "console.log('started the code block');\n",
       "function doContents(){\n",
       "    console.log('started the function');\n",
       "    $('#mycontents').html($('h1:first').html());\n",
       "    console.log('finished the function');\n",
       "}\n",
       "\n",
       "$(document).ready(doContents);\n",
       "console.log('finished the code block');"
      ],
      "text/plain": [
       "<IPython.core.display.Javascript object>"
      ]
     },
     "metadata": {},
     "output_type": "display_data"
    }
   ],
   "source": []
  },
  {
   "cell_type": "markdown",
   "metadata": {},
   "source": [
    "# More optimization trials"
   ]
  },
  {
   "cell_type": "markdown",
   "metadata": {},
   "source": [
    "Previously, I tried throwing a bunch of optimizers at my model. I liked the results from the scipy.optimize routines COBYLA and BFGS. Let's try adjusting how we handle the constraints, and see if we get better results."
   ]
  },
  {
   "cell_type": "code",
   "execution_count": 1,
   "metadata": {
    "collapsed": true,
    "scrolled": false
   },
   "outputs": [],
   "source": [
    "%load_ext autoreload\n",
    "%autoreload 2"
   ]
  },
  {
   "cell_type": "code",
   "execution_count": 2,
   "metadata": {
    "collapsed": true,
    "scrolled": false
   },
   "outputs": [],
   "source": [
    "import matplotlib\n",
    "import numpy\n",
    "from IPython.display import HTML, SVG"
   ]
  },
  {
   "cell_type": "code",
   "execution_count": 3,
   "metadata": {
    "scrolled": false
   },
   "outputs": [],
   "source": [
    "matplotlib.use('svg')\n",
    "import matplotlib.pyplot as plt\n",
    "plt.rcParams['svg.fonttype'] = 'none'\n",
    "plt.rcParams['font.sans-serif'] = 'Arial'"
   ]
  },
  {
   "cell_type": "code",
   "execution_count": 10,
   "metadata": {
    "collapsed": true
   },
   "outputs": [],
   "source": [
    "from io import BytesIO\n",
    "def pltsvg():\n",
    "    imgdata = BytesIO()\n",
    "    plt.savefig(imgdata)\n",
    "    imgdata.seek(0)\n",
    "    display(SVG(data=imgdata.read()))"
   ]
  },
  {
   "cell_type": "code",
   "execution_count": null,
   "metadata": {
    "raw_mimetype": "text/html",
    "scrolled": false
   },
   "outputs": [],
   "source": []
  },
  {
   "cell_type": "markdown",
   "metadata": {},
   "source": [
    "### Trial 2.1\n",
    "\n",
    "In general, here is how we compute the modified objective function. GenOpt manual suggests adding functions to the objective, namely separate barrier (B) and penalty (P) functions. The objective function is, with step number as $k$,\n",
    "\n",
    "$$ Objective = -Q_{cooling}(x) + \\mu_1 B(x) + \\mu_2 P(x) $$\n",
    "\n",
    "$$ \\mu_1 = k^{-2}$$\n",
    "$$ B(x) = \\left(\\sum_{j=1}^{N_B} g_j(x) \\right) ^ {-1} $$\n",
    "\n",
    "$$\\mu_2 = k^{2}$$\n",
    "$$ P(x) = \\sum_{j=N_B+1}^{N_B + N_P} g_j(x)$$\n",
    "\n",
    "GenOpt implements a mechanism to pass in the step number. However, using the scipy.optimize routines, passing in the step number is a challenge, so the `Problem` object should probably use its own counter of function calls. This could be quirky, since then the objective function is changing with each call. Some routines allow for termination after a number of steps, so we could run a while, increment step number, then continue.\n",
    "\n",
    "But we need to make some decisions.\n",
    "\n",
    "- Which constraints should be handled by barriers, and which by penalties?\n",
    "  - Use barriers for hard constraints, eg. required for feasibility of the chiller model\n",
    "  - Use penalties for soft constraints, eg. heat exchange feasibility that can be violated now and satisfied later\n",
    "- With scipy.optimize, we can directly apply constraints on the input variables (such as $T_1 > T_2$)\n",
    "\n"
   ]
  },
  {
   "cell_type": "code",
   "execution_count": null,
   "metadata": {},
   "outputs": [],
   "source": [
    "import ammonia1\n",
    "import system_aqua1\n",
    "import scipy.optimize\n",
    "\n",
    "class Problem_2_1:\n",
    "    def __init__(self, bdry, UAgoal, mu=0.1):\n",
    "        self.bdry = bdry\n",
    "        self.UAgoal = UAgoal\n",
    "        self.mu = 0.1\n",
    "        self.Ncons = 5\n",
    "        # Soft constraints mode: this is sent to minimizer\n",
    "        self.constraints = [{'type': 'ineq',\n",
    "                             'fun': self.constraint,\n",
    "                             'args': (i,)\n",
    "                            } for i in range(self.Ncons)]\n",
    "            \n",
    "    def objective(self, xC, stepNumber=1):\n",
    "        try:\n",
    "            ch = system_aqua1.makeChiller(xC)\n",
    "            sys = system_aqua1.System(self.bdry, ch)\n",
    "            Q = sys.chiller.Q_evap\n",
    "            B = 0\n",
    "            P = 0\n",
    "            return -Q + B + P\n",
    "        except:\n",
    "            return numpy.inf\n",
    "    \n",
    "    def constraint(self, x, *args):\n",
    "        i, = args\n",
    "        cons = [x[0],\n",
    "                x[2] - x[1],\n",
    "                x[3] - x[2],\n",
    "                x[5] - x[3],\n",
    "                x[5] - x[4]]\n",
    "        return cons[i]\n",
    "\n",
    "    def callback(self, x):\n",
    "        print(\"Did an iteration at \", x)\n",
    "\n",
    "\n",
    "T_heat_reject = 305.\n",
    "UAgoal = 100\n",
    "xB = [400, 1, T_heat_reject, 3, T_heat_reject, 5, 285, 4, T_heat_reject, 0.15]\n",
    "bdry = system_aqua1.makeBoundary(xB)\n",
    "P = Problem_2_1(bdry, UAgoal)\n",
    "xC = numpy.array([0.51284472, 277.97717012, 312.16427764, 313.6952877,\n",
    "               310.24856734, 374.14020482])\n",
    "opt = scipy.optimize.minimize(P.objective, xC, method=\"COBYLA\",\n",
    "                              constraints=P.constraints, callback=P.callback)\n",
    "opt"
   ]
  },
  {
   "cell_type": "markdown",
   "metadata": {},
   "source": [
    "### Trial 2.2\n",
    "\n",
    "Just brainstorming ... As a brute-force backup, I would like to have an optimize routine that is a gradient-based method where the gradient calculation and line-search algorithms simply react to passing over the feasible boundary using exceptions instead of constraint functions. (This matters because the total UA constraint function can only be computed when the feasible heat exchange constraints are already satisfied, so in some cases it would have to return infinite values.) In other words, this would be an adaptive step size method. In pseudo-code,"
   ]
  },
  {
   "cell_type": "code",
   "execution_count": null,
   "metadata": {
    "collapsed": true
   },
   "outputs": [],
   "source": [
    "def optimize(fun,x0,max_iter = 100):\n",
    "    x = x0.copy()\n",
    "    for iter in range(max_iter):\n",
    "        if step == 0:\n",
    "            break\n",
    "        G, H = calcGradient(fun, x)\n",
    "        dx = calcLineSearch(fun, x, G, H)\n",
    "        x = x + dx\n",
    "        f = fun(x)\n",
    "    return x, f\n",
    "\n",
    "def calcGradient(fun, x0, max_iter = 100):\n",
    "    max_iter = 100\n",
    "    # Initial step sizes by component\n",
    "    deltax = ones_like(x0)\n",
    "    # Function values to the right\n",
    "    fplus = zeros_like(x0)\n",
    "    # Function values to the left\n",
    "    fminus = zeros_like(x0)\n",
    "    f0 = fun(x0)\n",
    "    for j, _ in enumerate(deltax):\n",
    "        for i in range(max_iter):\n",
    "            dx = numpy.diag(deltax)[j]\n",
    "            try:\n",
    "                xplus = x0 + dx\n",
    "                xminus = x0 - dx\n",
    "                fplus[j] = fun(xplus)\n",
    "                fminus[j] = fun(xminus)\n",
    "                break\n",
    "            except:\n",
    "                deltax[j] *= 0.5\n",
    "    grad, hess = calcGradHelper(f0, deltax, fplus, fminus) # TODO\n",
    "    return grad, hess\n",
    "\n",
    "def calcLineSearch(fun, x0, G, H):\n",
    "    max_iter = 100\n",
    "    step = 0\n",
    "    direction = lshelper1(x0, G, H)\n",
    "    for i in range(max_iter):\n",
    "        try:\n",
    "            lshelper(f\n",
    "        except:\n",
    "            step *= 0.5\n",
    "    return step * direction"
   ]
  },
  {
   "cell_type": "markdown",
   "metadata": {},
   "source": [
    "#### Aside\n",
    "Furthermore, here is another related strategy. I could optimize first without the constraint on total UA. That would give me a feasible system. Then, given the desired total UA, I could have a feasible starting point by then turning down the mass flow rate using a linesearch on that parameter."
   ]
  },
  {
   "cell_type": "markdown",
   "metadata": {},
   "source": [
    "### Trial 2.3\n",
    "\n",
    "Another idea (suggested in documention of early trials) is to do something different with the heat exchange feasibility constraints, utilizing energy imbalance. The final goal would be to allow UA values as inputs, and optimize the cooling capacity, as intended. An intermediate goal may be to simply demonstrate a solver with UA values as inputs (using some optimization routine to determine the temperature points that achieve the specified UA values)."
   ]
  },
  {
   "cell_type": "markdown",
   "metadata": {},
   "source": [
    "# Scratch work"
   ]
  },
  {
   "cell_type": "code",
   "execution_count": 15,
   "metadata": {
    "scrolled": false
   },
   "outputs": [
    {
     "data": {
      "text/plain": [
       "(1076, 0.0)"
      ]
     },
     "execution_count": 15,
     "metadata": {},
     "output_type": "execute_result"
    }
   ],
   "source": [
    "a=5\n",
    "for i in range(9999):\n",
    "    a*=0.5\n",
    "    if a==0:\n",
    "        break\n",
    "i,a"
   ]
  },
  {
   "cell_type": "code",
   "execution_count": 25,
   "metadata": {},
   "outputs": [
    {
     "data": {
      "text/plain": [
       "array([ 0.25,  0.5 ,  0.75,  1.  ])"
      ]
     },
     "execution_count": 25,
     "metadata": {},
     "output_type": "execute_result"
    }
   ],
   "source": [
    "gradient_step = numpy.array([1.,2.,3.,4.])\n",
    "for j, _ in enumerate(gradient_step):\n",
    "    for i in range(2):\n",
    "        gradient_step[j] *= 0.5\n",
    "gradient_step"
   ]
  },
  {
   "cell_type": "code",
   "execution_count": 30,
   "metadata": {},
   "outputs": [
    {
     "data": {
      "text/plain": [
       "array([ 0.,  0.,  0.,  1.])"
      ]
     },
     "execution_count": 30,
     "metadata": {},
     "output_type": "execute_result"
    }
   ],
   "source": [
    "numpy.diag(gradient_step)[3]"
   ]
  },
  {
   "cell_type": "code",
   "execution_count": 50,
   "metadata": {},
   "outputs": [
    {
     "data": {
      "text/html": [
       "<pre id=\"TOC-markdown\">TOC will be here</pre>\n",
       "<script>\n",
       "$(\"#TOC-markdown\").html(\n",
       "    $('h1,h2,h3,h4').map(function(){return \"  \".repeat($(this).prop(\"tagName\")[1]) + \"- [\"+$(this).text()+\"](\" + $(this).children().attr(\"href\") + \")\";}).get().join(\"\\n\")\n",
       "    );\n",
       "</script>"
      ],
      "text/plain": [
       "<IPython.core.display.HTML object>"
      ]
     },
     "metadata": {},
     "output_type": "display_data"
    }
   ],
   "source": [
    "%%html\n",
    "<pre id=\"TOC-markdown\">TOC will be here</pre>\n",
    "<script>\n",
    "$(\"#TOC-markdown\").html(\n",
    "    $('h1,h2,h3,h4').map(function(){return \"  \".repeat($(this).prop(\"tagName\")[1]) + \"- [\"+$(this).text()+\"](\" + $(this).children().attr(\"href\") + \")\";}).get().join(\"\\n\")\n",
    "    );\n",
    "</script>"
   ]
  },
  {
   "cell_type": "code",
   "execution_count": null,
   "metadata": {
    "collapsed": true
   },
   "outputs": [],
   "source": []
  }
 ],
 "metadata": {
  "celltoolbar": "Raw Cell Format",
  "kernelspec": {
   "display_name": "Python 3",
   "language": "python",
   "name": "python3"
  },
  "language_info": {
   "codemirror_mode": {
    "name": "ipython",
    "version": 3
   },
   "file_extension": ".py",
   "mimetype": "text/x-python",
   "name": "python",
   "nbconvert_exporter": "python",
   "pygments_lexer": "ipython3",
   "version": "3.6.2"
  }
 },
 "nbformat": 4,
 "nbformat_minor": 2
}
