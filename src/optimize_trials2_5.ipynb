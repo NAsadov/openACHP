{
 "cells": [
  {
   "cell_type": "markdown",
   "metadata": {},
   "source": [
    "[Go to this directory index](./)\n",
    "\n",
    "Contents\n",
    "  - [Optimization method 2.5 parametric studies¶](#Optimization-method-2.5-parametric-studies)\n",
    "      - [Trial 2.5¶](#Trial-2.5)\n",
    "  - [Scratch work¶](#Scratch-work)"
   ]
  },
  {
   "cell_type": "markdown",
   "metadata": {},
   "source": [
    "# Optimization method 2.5 parametric studies"
   ]
  },
  {
   "cell_type": "markdown",
   "metadata": {},
   "source": [
    "Previously, I obtained reasonable convergence on optima using a two-step strategy: first, simply enforce feasibility and optimize cooling output without regard to cost; then for any given cooling output goal less than the maximum, enforce that as a constraint and optimize system cost (from size and flow parameters). With some art in selecting constraint functions, I implemented this using the COBYLA optimization routine.\n",
    "\n",
    "Since that method can be made to work, let's do a parametric study in two parameters: temperature for heat rejection (T) and cost (UA). For each heat reject temperature, we will determine the maximum cooling (Q_max), then build a cost vs cooling curve. The data should form a surface of points (T,UA,Q). We can also visualize that surface by projecting and plotting isolines, for example, isolines of UA on a (T,Q) plot."
   ]
  },
  {
   "cell_type": "markdown",
   "metadata": {},
   "source": [
    "## Setup"
   ]
  },
  {
   "cell_type": "code",
   "execution_count": 10,
   "metadata": {
    "scrolled": false
   },
   "outputs": [
    {
     "name": "stdout",
     "output_type": "stream",
     "text": [
      "The autoreload extension is already loaded. To reload it, use:\n",
      "  %reload_ext autoreload\n"
     ]
    }
   ],
   "source": [
    "%load_ext autoreload\n",
    "%autoreload 2"
   ]
  },
  {
   "cell_type": "code",
   "execution_count": 11,
   "metadata": {
    "collapsed": true,
    "scrolled": false
   },
   "outputs": [],
   "source": [
    "import matplotlib\n",
    "import numpy\n",
    "from IPython.display import HTML, SVG, clear_output"
   ]
  },
  {
   "cell_type": "code",
   "execution_count": 12,
   "metadata": {
    "collapsed": true,
    "scrolled": false
   },
   "outputs": [],
   "source": [
    "#matplotlib.use('svg')\n",
    "import matplotlib.pyplot as plt\n",
    "plt.rcParams['svg.fonttype'] = 'none'\n",
    "plt.rcParams['font.sans-serif'] = 'Arial'"
   ]
  },
  {
   "cell_type": "code",
   "execution_count": 13,
   "metadata": {
    "collapsed": true
   },
   "outputs": [],
   "source": [
    "from io import BytesIO\n",
    "def pltsvg():\n",
    "    imgdata = BytesIO()\n",
    "    plt.savefig(imgdata)\n",
    "    imgdata.seek(0)\n",
    "    display(SVG(data=imgdata.read()))"
   ]
  },
  {
   "cell_type": "code",
   "execution_count": 14,
   "metadata": {
    "collapsed": true
   },
   "outputs": [],
   "source": [
    "import ammonia1\n",
    "import system_aqua1\n",
    "import scipy.optimize"
   ]
  },
  {
   "cell_type": "code",
   "execution_count": 15,
   "metadata": {
    "collapsed": true
   },
   "outputs": [],
   "source": [
    "def saturate(x, bottom=-numpy.inf, top=0):\n",
    "    a_bottom = numpy.empty_like(x)\n",
    "    a_top = numpy.empty_like(x)\n",
    "    a_bottom.fill(bottom)\n",
    "    a_top.fill(top)\n",
    "    return numpy.minimum(a_top,\n",
    "                         numpy.maximum(a_bottom,\n",
    "                                       x))\n",
    "\n",
    "def barrier1(c, length_scale):\n",
    "    \"\"\"The domain for B is the feasible set only.\n",
    "    We want B large near boundary, but small elsewhere.\n",
    "    Feasible means c > 0 and g < 0. Please input c.\n",
    "    \"\"\"\n",
    "    g = numpy.negative(c)\n",
    "    b = numpy.exp(g / length_scale)\n",
    "    return numpy.sum(b)\n",
    "\n",
    "def decay1(step_number, initial_value = 1., rate = 1.):\n",
    "    \"\"\"A decaying function to scale barrier functions.\n",
    "    step_number: as this increases, I decay.\n",
    "    initial_value: value when step_number = 0.\n",
    "    decay_rate: how fast to decay.\n",
    "    \"\"\"\n",
    "    # Magnitude tends to zero, slowly\n",
    "    mu_B = initial_value * numpy.exp(-rate * step_number)\n",
    "    return mu_B        \n",
    "\n",
    "def penalty1(c, length_scale):\n",
    "    \"\"\"We want P = 0 for feasible, P > 0 elsewhere\n",
    "    Feasible means c > 0 and g < 0.\n",
    "    \"\"\"\n",
    "    g = numpy.negative(c)\n",
    "    g = saturate(g,bottom=0,top=numpy.inf)\n",
    "    p = (g / length_scale)**2\n",
    "    return numpy.sum(p)\n",
    "\n",
    "def grow1(step_number, initial_value = 1., rate = 1.):\n",
    "    \"\"\"A growing function to scale penalty functions.\"\"\"\n",
    "    # Magnitude tends to infinite, bit more quickly\n",
    "    mu_P = initial_value * numpy.exp(rate * step_number)\n",
    "    return mu_P\n"
   ]
  },
  {
   "cell_type": "code",
   "execution_count": 16,
   "metadata": {},
   "outputs": [
    {
     "data": {
      "image/png": "[encoded data removed]",
      "text/plain": [
       "<matplotlib.figure.Figure at 0x87b24b0>"
      ]
     },
     "metadata": {},
     "output_type": "display_data"
    }
   ],
   "source": [
    "step_number = numpy.arange(50)\n",
    "mu_B = decay1(step_number,initial_value=1000,rate=0.2)\n",
    "mu_P = grow1(step_number,initial_value=1,rate=0.2)\n",
    "plt.close('all')\n",
    "plt.figure()\n",
    "plt.semilogy(step_number,mu_B,'r',label='barrier')\n",
    "plt.semilogy(step_number,mu_P,'b',label='penalty')\n",
    "plt.xlabel('Optimization step number')\n",
    "plt.ylabel('Scaling for constraint function')\n",
    "plt.legend()\n",
    "plt.show()"
   ]
  },
  {
   "cell_type": "markdown",
   "metadata": {},
   "source": [
    "### Trial 2.5\n",
    "An extension of a previous idea, kind of the dual problem -- Perform optimization in two steps: first with no constraint on UA (cost) to determine maximum Q (output). Then for each Q in a set of lesser values, optimize with respect to cost. This will deliver an optimal cost vs output curve.\n",
    "\n",
    "For the first step, since we are not interested in UA, we can be less strict with the constraints on heat exchange feasibility. Specifically, we can impose them via penalty constraints instead of barrier constraints."
   ]
  },
  {
   "cell_type": "code",
   "execution_count": 20,
   "metadata": {
    "collapsed": true
   },
   "outputs": [],
   "source": [
    "class Problem_2_5_A:\n",
    "    def __init__(self, bdry, mu=0.1):\n",
    "        self.bdry = bdry\n",
    "        self.mu = mu\n",
    "        self.Ncons = 7\n",
    "        self.n_calls = 0\n",
    "        # Soft constraints mode: this is sent to minimizer\n",
    "        self.constraints = [{'type': 'ineq',\n",
    "                             'fun': self.constraint,\n",
    "                             'args': (i,)\n",
    "                            } for i in range(self.Ncons)]\n",
    "            \n",
    "    def objective(self, xC):\n",
    "        step_number = numpy.floor(self.n_calls / 7)\n",
    "        self.n_calls += 1\n",
    "        print(xC,flush=True)\n",
    "        Q,B,P = 0.,0.,0.\n",
    "        try:\n",
    "            ch = system_aqua1.makeChiller(xC)\n",
    "            sys = system_aqua1.System(self.bdry, ch)\n",
    "            \n",
    "            # Barriers\n",
    "            # Magnitude tends to zero, slowly\n",
    "            mu_B = 1000. * numpy.exp(-0.1 * step_number)\n",
    "            length_scale_b = 1\n",
    "            # Or ... magnitude fixed, but shape changes\n",
    "            mu_B = 1000\n",
    "            length_scale_b = 1 * numpy.exp(-0.1 * step_number)\n",
    "            \n",
    "            # These are zero at the boundary ...\n",
    "            barriers = [ch.check_rectifier_delta_T]                        \n",
    "            B = mu_B * barrier1(barriers,length_scale_b)\n",
    "            \n",
    "            # Penalties\n",
    "            # Magnitude tends to infinite\n",
    "            mu_P = 1 * numpy.exp(0.3 * step_number)\n",
    "            penalties = [deltaT - 0.01\n",
    "                         for name, deltaT, epsilon, UA, Qhx in sys.data]\n",
    "            P = mu_P * penalty1(penalties,1)\n",
    "            \n",
    "            Q = sys.chiller.Q_evap\n",
    "        except:\n",
    "            Q = numpy.inf\n",
    "        \n",
    "        print(self.n_calls, step_number, Q, B, P, \"\\n\", flush=True)\n",
    "        return -Q + B + P\n",
    "    \n",
    "    def constraint(self, x, *args):\n",
    "        cons = [x[0] - 0.1,\n",
    "                1. - x[0],\n",
    "                x[2] - x[1] - 1.0,\n",
    "                x[3] - x[2] - 0.1,\n",
    "                x[4] - x[1] - 10.0,\n",
    "                x[5] - x[3] - 1.0,\n",
    "                x[5] - x[4] - 1.0]\n",
    "        if len(args) > 0:\n",
    "            i, = args\n",
    "            return cons[i]\n",
    "        else:\n",
    "            return cons\n",
    "\n",
    "    def callback(self, x):\n",
    "        print(\"Did an iteration at \", x)"
   ]
  },
  {
   "cell_type": "code",
   "execution_count": 18,
   "metadata": {
    "collapsed": true
   },
   "outputs": [],
   "source": [
    "class Problem_2_5_B:\n",
    "    def __init__(self, bdry, Q_goal, mu=0.1):\n",
    "        self.bdry = bdry\n",
    "        self.Q_goal = Q_goal\n",
    "        self.mu = mu\n",
    "        self.Ncons = 7\n",
    "        self.n_calls = 0\n",
    "        # Soft constraints mode: this is sent to minimizer\n",
    "        self.constraints = [{'type': 'ineq',\n",
    "                             'fun': self.constraint,\n",
    "                             'args': (i,)\n",
    "                            } for i in range(self.Ncons)]\n",
    "            \n",
    "    def objective_raw(self, xC):\n",
    "        try:\n",
    "            ch = system_aqua1.makeChiller(xC)\n",
    "            sys = system_aqua1.System(self.bdry, ch)\n",
    "            UA = sys.totalUA\n",
    "        except:\n",
    "            UA = numpy.nan\n",
    "        return UA\n",
    "\n",
    "        \n",
    "    def objective(self, xC):\n",
    "        step_number = numpy.floor(self.n_calls / 7)\n",
    "        self.n_calls += 1\n",
    "        print(xC,flush=True)\n",
    "        UA,B,P = 0.,0.,0.\n",
    "        try:\n",
    "            ch = system_aqua1.makeChiller(xC)\n",
    "            sys = system_aqua1.System(self.bdry, ch)\n",
    "            \n",
    "            # Barriers\n",
    "            # Magnitude tends to zero, slowly\n",
    "            mu_B = 1000. * numpy.exp(-0.1 * step_number)\n",
    "            length_scale_b = 1\n",
    "            # Or ... magnitude fixed, but shape changes\n",
    "            mu_B = 1000\n",
    "            length_scale_b = 1 * numpy.exp(-0.1 * step_number)\n",
    "            \n",
    "            # These are zero at the boundary ...\n",
    "            barriers = [ch.check_rectifier_delta_T] \\\n",
    "                       + [deltaT\n",
    "                          for name, deltaT, epsilon, UA, Qhx in sys.data]\n",
    "            B = mu_B * barrier1(barriers,length_scale_b)\n",
    "            \n",
    "            # Penalties\n",
    "            # Magnitude tends to infinite\n",
    "            mu_P = 1 * numpy.exp(0.3 * step_number)\n",
    "            penalties = [ch.Q_evap - self.Q_goal]\n",
    "            P = mu_P * penalty1(penalties,1)\n",
    "            \n",
    "            UA = sys.totalUA\n",
    "        except:\n",
    "            UA = numpy.inf\n",
    "        \n",
    "        print(self.n_calls, step_number, UA, B, P, \"\\n\", flush=True)\n",
    "        return UA + B + P\n",
    "    \n",
    "    def constraint(self, x, *args):\n",
    "        cons = [x[0] - 0.1,\n",
    "                1. - x[0],\n",
    "                x[2] - x[1] - 1.0,\n",
    "                x[3] - x[2] - 0.1,\n",
    "                x[4] - x[1] - 10.0,\n",
    "                x[5] - x[3] - 1.0,\n",
    "                x[5] - x[4] - 1.0]\n",
    "        if len(args) > 0:\n",
    "            i, = args\n",
    "            return cons[i]\n",
    "        else:\n",
    "            return cons\n",
    "\n",
    "    def callback(self, x):\n",
    "        print(\"Did an iteration at \", x)"
   ]
  },
  {
   "cell_type": "markdown",
   "metadata": {},
   "source": [
    "## Parametric study across T_heat_reject"
   ]
  },
  {
   "cell_type": "code",
   "execution_count": null,
   "metadata": {},
   "outputs": [
    {
     "data": {
      "text/plain": [
       "'Now optimizing for T_heat_reject = '"
      ]
     },
     "metadata": {},
     "output_type": "display_data"
    },
    {
     "data": {
      "text/plain": [
       "293.14999999999998"
      ]
     },
     "metadata": {},
     "output_type": "display_data"
    },
    {
     "name": "stdout",
     "output_type": "stream",
     "text": [
      "[  5.00000000e-02   2.78450000e+02   3.00150000e+02   3.01150000e+02\n",
      "   2.98150000e+02   3.95150000e+02]\n"
     ]
    },
    {
     "name": "stderr",
     "output_type": "stream",
     "text": [
      "C:\\Users\\nfette\\Miniconda3\\envs\\openACHP\\lib\\site-packages\\scipy\\optimize\\_minimize.py:403: RuntimeWarning: Method COBYLA does not support callback.\n",
      "  warn('Method %s does not support callback.' % method, RuntimeWarning)\n"
     ]
    },
    {
     "name": "stdout",
     "output_type": "stream",
     "text": [
      "Note: Absorber inlet is subcooled\n"
     ]
    },
    {
     "name": "stderr",
     "output_type": "stream",
     "text": [
      "C:\\Users\\nfette\\Miniconda3\\envs\\openACHP\\lib\\site-packages\\scipy\\interpolate\\_cubic.py:147: RuntimeWarning: divide by zero encountered in true_divide\n",
      "  mk = (y[1:] - y[:-1]) / hk\n",
      "C:\\Users\\nfette\\Miniconda3\\envs\\openACHP\\lib\\site-packages\\scipy\\interpolate\\_cubic.py:165: RuntimeWarning: invalid value encountered in true_divide\n",
      "  whmean = (w1/mk[:-1] + w2/mk[1:]) / (w1 + w2)\n"
     ]
    },
    {
     "name": "stdout",
     "output_type": "stream",
     "text": [
      "1 0.0 29.3426607866 1.2297733705e-07 0.252489920282 \n",
      "\n",
      "[  1.50000000e-01   2.78450000e+02   3.00150000e+02   3.01150000e+02\n",
      "   2.98150000e+02   3.95150000e+02]\n",
      "Note: Absorber inlet is subcooled\n",
      "2 0.0 88.0279823597 1.2297733705e-07 0.252491105531 \n",
      "\n",
      "[  1.50000000e-01   2.78550000e+02   3.00150000e+02   3.01150000e+02\n",
      "   2.98150000e+02   3.95150000e+02]\n",
      "Note: Absorber inlet is subcooled\n",
      "3 0.0 88.2479969814 1.38611675433e-07 0.236281170674 \n",
      "\n",
      "[  1.50000000e-01   2.78550000e+02   3.00250000e+02   3.01150000e+02\n",
      "   2.98150000e+02   3.95150000e+02]\n",
      "Note: Absorber inlet is subcooled\n",
      "4 0.0 88.1631796043 1.23799988712e-07 0.224909214211 \n",
      "\n",
      "[  1.50000000e-01   2.78550000e+02   3.00150000e+02   3.01250000e+02\n",
      "   2.98150000e+02   3.95150000e+02]\n",
      "Note: Absorber inlet is subcooled\n",
      "5 0.0 88.2479969814 1.53189592595e-07 0.236281170674 \n",
      "\n",
      "[  1.50000000e-01   2.78550000e+02   3.00150000e+02   3.01150000e+02\n",
      "   2.98250000e+02   3.95150000e+02]\n",
      "Note: Absorber inlet is subcooled\n",
      "6 0.0 88.0413347742 1.24356340027e-07 0.167592098892 \n",
      "\n",
      "[  1.50000000e-01   2.78550000e+02   3.00150000e+02   3.01150000e+02\n",
      "   2.98150000e+02   3.95250000e+02]\n",
      "Note: Absorber inlet is subcooled\n",
      "7 0.0 88.2973728251 1.38611675433e-07 0.239228798599 \n",
      "\n",
      "[  2.49998804e-01   2.78550403e+02   3.00149875e+02   3.01150000e+02\n",
      "   2.98149765e+02   3.95250079e+02]\n",
      "Note: Absorber inlet is subcooled\n",
      "8 1.0 147.164113308 1.27475097819e-08 1.64455466287 \n",
      "\n",
      "[  3.49997556e-01   2.78550814e+02   3.00149747e+02   3.01150000e+02\n",
      "   2.98149525e+02   3.95250160e+02]\n",
      "Note: Absorber inlet is subcooled\n",
      "9 1.0 206.032922444 1.27601518033e-08 36.8023259347 \n",
      "\n",
      "[   0.4073822   278.55138601  300.14956907  301.15        298.14919046\n",
      "  395.33205333]\n",
      "Note: Absorber inlet is subcooled\n",
      "10 1.0 239.928896037 1.27777744982e-08 124.448010621 \n",
      "\n",
      "[  3.49791404e-01   2.78600811e+02   3.00149536e+02   3.01149789e+02\n",
      "   2.98149314e+02   3.95249954e+02]\n",
      "Note: Absorber inlet is subcooled\n",
      "11 1.0 206.169635857 1.36360237438e-08 37.5577409805 \n",
      "\n",
      "[  3.60641222e-01   2.78549467e+02   3.00096627e+02   3.01096914e+02\n",
      "   2.98096375e+02   3.95212475e+02]\n",
      "Note: Absorber inlet is subcooled\n",
      "12 1.0 212.619392314 1.3680252211e-08 45.1330764858 \n",
      "\n",
      "[  3.50037080e-01   2.78550814e+02   3.00114352e+02   3.01150040e+02\n",
      "   2.98184840e+02   3.95250199e+02]\n",
      "Note: Absorber inlet is subcooled\n",
      "13 1.0 205.955818904 1.27843650171e-08 36.809804503 \n",
      "\n",
      "[  3.62494705e-01   2.78550193e+02   3.00196836e+02   3.01090023e+02\n",
      "   2.98196698e+02   3.95207692e+02]\n",
      "Note: Absorber inlet is subcooled\n",
      "14 1.0 213.003444506 1.06315145804e-08 44.4710603888 \n",
      "\n",
      "[  3.72075130e-01   2.78549701e+02   3.00150407e+02   3.01210634e+02\n",
      "   2.98149956e+02   3.95173778e+02]\n",
      "Note: Absorber inlet is subcooled\n",
      "15 2.0 218.926107148 9.79313628766e-10 71.1583237556 \n",
      "\n",
      "[  3.82064729e-01   2.78549357e+02   3.00150658e+02   3.01134569e+02\n",
      "   2.98150056e+02   3.95285236e+02]\n",
      "Note: Absorber inlet is subcooled\n",
      "16 2.0 224.94102919 8.915520223e-10 82.9047218645 \n",
      "\n",
      "[  3.25277270e-01   2.78550331e+02   3.00149996e+02   3.01146666e+02\n",
      "   2.98149738e+02   3.95248594e+02]\n",
      "Note: Absorber inlet is subcooled\n",
      "17 2.0 191.475451974 9.0732375486e-10 30.4910183781 \n",
      "\n",
      "[  3.48518118e-01   2.78550812e+02   3.00143932e+02   3.01157803e+02\n",
      "   2.98143684e+02   3.95255185e+02]\n",
      "Note: Absorber inlet is subcooled\n",
      "18 2.0 205.207291744 9.35609724564e-10 48.5261090518 \n",
      "\n",
      "[  3.57296612e-01   2.78550615e+02   3.00158290e+02   3.01149589e+02\n",
      "   2.98158061e+02   3.95229528e+02]\n",
      "Note: Absorber inlet is subcooled\n",
      "19 2.0 210.245058954 8.90696189651e-10 56.0961588633 \n",
      "\n",
      "[  3.48927433e-01   2.78550913e+02   3.00156380e+02   3.01156499e+02\n",
      "   2.98156161e+02   3.95255143e+02]\n",
      "Note: Absorber inlet is subcooled\n",
      "20 2.0 205.36420221 9.03280859759e-10 48.5935406467 \n",
      "\n",
      "[  3.55815898e-01   2.78550644e+02   3.00148530e+02   3.01127418e+02\n",
      "   2.98148291e+02   3.95259001e+02]\n",
      "Note: Absorber inlet is subcooled\n",
      "21 2.0 209.475965652 8.90148330864e-10 55.0120674261 \n",
      "\n",
      "[  3.51455882e-01   2.78550686e+02   3.00141791e+02   3.01154996e+02\n",
      "   2.98141529e+02   3.95248776e+02]\n",
      "Note: Absorber inlet is subcooled\n",
      "22 3.0 206.943687617 5.0940072591e-11 69.0634089052 \n",
      "\n",
      "[  3.49791742e-01   2.78544567e+02   3.00149775e+02   3.01149995e+02\n",
      "   2.98149553e+02   3.95250171e+02]\n",
      "Note: Absorber inlet is subcooled\n",
      "23 3.0 205.879515493 4.89148780211e-11 66.6119332271 \n",
      "\n",
      "[  3.39598318e-01   2.78556516e+02   3.00150209e+02   3.01146991e+02\n",
      "   2.98150003e+02   3.95247692e+02]\n",
      "Note: Absorber inlet is subcooled\n",
      "24 3.0 199.933748384 4.96006062125e-11 55.44887504 \n",
      "\n",
      "[  3.49994030e-01   2.78550814e+02   3.00154172e+02   3.01149986e+02\n",
      "   2.98145111e+02   3.95250165e+02]\n",
      "Note: Absorber inlet is subcooled\n",
      "25 3.0 206.043413126 4.94004202222e-11 67.0586726406 \n",
      "\n",
      "[  3.56632225e-01   2.78556290e+02   3.00146428e+02   3.01144248e+02\n",
      "   2.98154324e+02   3.95254045e+02]\n",
      "Note: Absorber inlet is subcooled\n",
      "26 3.0 209.9548527 4.93715161664e-11 75.401042161 \n",
      "\n",
      "[  3.51822131e-01   2.78551553e+02   3.00150549e+02   3.01151316e+02\n",
      "   2.98151455e+02   3.95244767e+02]\n",
      "Note: Absorber inlet is subcooled\n",
      "27 3.0 207.093609967 4.93620139628e-11 69.218884572 \n",
      "\n",
      "[  3.49551168e-01   2.78551333e+02   3.00150152e+02   3.01152344e+02\n",
      "   2.98150635e+02   3.95251711e+02]\n",
      "Note: Absorber inlet is subcooled\n",
      "28 3.0 205.768446398 4.95024327662e-11 66.5230084013 \n",
      "\n",
      "[  3.48524614e-01   2.78550861e+02   3.00149682e+02   3.01150085e+02\n",
      "   2.98149460e+02   3.95249656e+02]\n",
      "Note: Absorber inlet is subcooled\n",
      "29 4.0 205.165947803 1.97073310678e-12 88.1693176937 \n",
      "\n",
      "[  3.52545824e-01   2.78551133e+02   3.00149335e+02   3.01148638e+02\n",
      "   2.98149689e+02   3.95251217e+02]\n",
      "Note: Absorber inlet is subcooled\n",
      "30 4.0 207.535912068 1.96786376657e-12 94.6957134544 \n",
      "\n",
      "[  3.49995775e-01   2.78550823e+02   3.00150777e+02   3.01149552e+02\n",
      "   2.98150558e+02   3.95249825e+02]\n",
      "Note: Absorber inlet is subcooled\n",
      "31 4.0 206.024512099 1.96191289283e-12 90.4708463434 \n",
      "\n",
      "[  3.51407482e-01   2.78550833e+02   3.00149324e+02   3.01151710e+02\n",
      "   2.98149197e+02   3.95248023e+02]\n",
      "Note: Absorber inlet is subcooled\n",
      "32 4.0 206.862956104 1.97745142579e-12 92.8144881434 \n",
      "\n",
      "[  3.50245429e-01   2.78550806e+02   3.00150893e+02   3.01150172e+02\n",
      "   2.98148531e+02   3.95250386e+02]\n",
      "Note: Absorber inlet is subcooled\n",
      "33 4.0 206.181593536 1.96973985482e-12 90.9172075758 \n",
      "\n",
      "[  3.48115565e-01   2.78551108e+02   3.00147388e+02   3.01149446e+02\n",
      "   2.98149042e+02   3.95250333e+02]\n",
      "Note: Absorber inlet is subcooled\n",
      "34 4.0 204.933709541 1.97869950624e-12 87.5908917616 \n",
      "\n",
      "[  3.49591365e-01   2.78550910e+02   3.00150284e+02   3.01149445e+02\n",
      "   2.98150678e+02   3.95249577e+02]\n",
      "Note: Absorber inlet is subcooled\n",
      "35 4.0 205.787015226 1.9631555364e-12 89.8321427529 \n",
      "\n",
      "[  3.50022976e-01   2.78549284e+02   3.00149595e+02   3.01150102e+02\n",
      "   2.98149678e+02   3.95250368e+02]\n",
      "Note: Absorber inlet is subcooled\n",
      "36 5.0 206.039824543 5.57971931124e-14 122.154183912 \n",
      "\n",
      "[  3.50283818e-01   2.78550999e+02   3.00149506e+02   3.01150387e+02\n",
      "   2.98149466e+02   3.95249628e+02]\n",
      "Note: Absorber inlet is subcooled\n",
      "37 5.0 206.202533866 5.60431653563e-14 122.827925857 \n",
      "\n",
      "[  3.49817038e-01   2.78550849e+02   3.00149810e+02   3.01150307e+02\n",
      "   2.98149627e+02   3.95250259e+02]\n",
      "Note: Absorber inlet is subcooled\n",
      "38 5.0 205.926332754 5.59714606868e-14 121.793853413 \n",
      "\n",
      "[  3.50433914e-01   2.78550982e+02   3.00149598e+02   3.01149515e+02\n",
      "   2.98149580e+02   3.95250522e+02]\n",
      "Note: Absorber inlet is subcooled\n",
      "39 5.0 206.291104668 5.59398650995e-14 123.15212887 \n",
      "\n",
      "[  3.49516101e-01   2.78550799e+02   3.00149541e+02   3.01149636e+02\n",
      "   2.98149121e+02   3.95249958e+02]\n",
      "Note: Absorber inlet is subcooled\n",
      "40 5.0 205.751550992 5.59827939901e-14 121.160857074 \n",
      "\n",
      "[  3.50097904e-01   2.78550776e+02   3.00150077e+02   3.01149976e+02\n",
      "   2.98149356e+02   3.95250107e+02]\n",
      "Note: Absorber inlet is subcooled\n",
      "41 5.0 206.091901131 5.59321284171e-14 122.399435563 \n",
      "\n",
      "[  3.49954663e-01   2.78550921e+02   3.00149811e+02   3.01149937e+02\n",
      "   2.98149632e+02   3.95250087e+02]\n",
      "Note: Absorber inlet is subcooled\n",
      "42 5.0 206.007492742 5.59445478957e-14 122.095742835 \n",
      "\n",
      "[  3.50038644e-01   2.78550458e+02   3.00149666e+02   3.01149971e+02\n",
      "   2.98149646e+02   3.95250111e+02]\n",
      "Note: Absorber inlet is subcooled\n",
      "43 6.0 206.05480183 1.09194737643e-15 165.026846494 \n",
      "\n",
      "[  3.49903392e-01   2.78550831e+02   3.00149663e+02   3.01149963e+02\n",
      "   2.98149382e+02   3.95250167e+02]\n"
     ]
    },
    {
     "name": "stdout",
     "output_type": "stream",
     "text": [
      "Note: Absorber inlet is subcooled\n",
      "44 6.0 205.978442639 1.09339638391e-15 164.671004124 \n",
      "\n",
      "[  3.49977359e-01   2.78550804e+02   3.00149769e+02   3.01149954e+02\n",
      "   2.98149540e+02   3.95250239e+02]\n",
      "Note: Absorber inlet is subcooled\n",
      "45 6.0 206.020959724 1.09273591579e-15 164.875632384 \n",
      "\n",
      "[  3.50150066e-01   2.78550873e+02   3.00149685e+02   3.01150082e+02\n",
      "   2.98149523e+02   3.95250131e+02]\n",
      "Note: Absorber inlet is subcooled\n",
      "46 6.0 206.123105873 1.0933795324e-15 165.391149828 \n",
      "\n",
      "[  3.49986967e-01   2.78550735e+02   3.00149738e+02   3.01150007e+02\n",
      "   2.98149548e+02   3.95250105e+02]\n",
      "Note: Absorber inlet is subcooled\n",
      "47 6.0 206.026126911 1.09272773893e-15 164.898396901 \n",
      "\n",
      "[  3.50020899e-01   2.78550808e+02   3.00149769e+02   3.01149972e+02\n",
      "   2.98149502e+02   3.95250147e+02]\n",
      "Note: Absorber inlet is subcooled\n",
      "48 6.0 206.046682914 1.0928606621e-15 165.004560171 \n",
      "\n",
      "[  3.49965228e-01   2.78550826e+02   3.00149800e+02   3.01150075e+02\n",
      "   2.98149508e+02   3.95250167e+02]\n",
      "Note: Absorber inlet is subcooled\n",
      "49 6.0 206.013944976 1.09303058574e-15 164.841550249 \n",
      "\n"
     ]
    },
    {
     "data": {
      "text/plain": [
       "'First pass and we have this ... '"
      ]
     },
     "metadata": {},
     "output_type": "display_data"
    },
    {
     "name": "stdout",
     "output_type": "stream",
     "text": [
      "Note: Absorber inlet is subcooled\n"
     ]
    },
    {
     "data": {
      "text/html": [
       "<table>\n",
       "<thead>\n",
       "<tr><th>name  </th><th style=\"text-align: right;\">  deltaT</th><th style=\"text-align: right;\">  epsilon</th><th style=\"text-align: right;\">       UA</th><th style=\"text-align: right;\">       Q</th></tr>\n",
       "</thead>\n",
       "<tbody>\n",
       "<tr><td>gen   </td><td style=\"text-align: right;\"> 4.75016</td><td style=\"text-align: right;\"> 0.955469</td><td style=\"text-align: right;\"> 25.3018 </td><td style=\"text-align: right;\">288.195 </td></tr>\n",
       "<tr><td>rect  </td><td style=\"text-align: right;\"> 7.41571</td><td style=\"text-align: right;\"> 0.745722</td><td style=\"text-align: right;\">  1.66268</td><td style=\"text-align: right;\"> 13.6327</td></tr>\n",
       "<tr><td>abs   </td><td style=\"text-align: right;\">-1.57657</td><td style=\"text-align: right;\"> 1.07552 </td><td style=\"text-align: right;\">inf      </td><td style=\"text-align: right;\">281.485 </td></tr>\n",
       "<tr><td>cond  </td><td style=\"text-align: right;\">-2.11486</td><td style=\"text-align: right;\"> 1.2847  </td><td style=\"text-align: right;\">inf      </td><td style=\"text-align: right;\">199.409 </td></tr>\n",
       "<tr><td>evap  </td><td style=\"text-align: right;\">-4.48621</td><td style=\"text-align: right;\"> 1.57236 </td><td style=\"text-align: right;\">inf      </td><td style=\"text-align: right;\">206.014 </td></tr>\n",
       "<tr><td>total </td><td style=\"text-align: right;\"> 0      </td><td style=\"text-align: right;\"> 0       </td><td style=\"text-align: right;\">inf      </td><td style=\"text-align: right;\">  0     </td></tr>\n",
       "</tbody>\n",
       "</table>"
      ],
      "text/plain": [
       "name      deltaT    epsilon         UA         Q\n",
       "------  --------  ---------  ---------  --------\n",
       "gen      4.75016   0.955469   25.3018   288.195\n",
       "rect     7.41571   0.745722    1.66268   13.6327\n",
       "abs     -1.57657   1.07552   inf        281.485\n",
       "cond    -2.11486   1.2847    inf        199.409\n",
       "evap    -4.48621   1.57236   inf        206.014\n",
       "totalUA = inf"
      ]
     },
     "metadata": {},
     "output_type": "display_data"
    },
    {
     "name": "stdout",
     "output_type": "stream",
     "text": [
      "[  3.49965228e-01   2.78550826e+02   3.00149800e+02   3.01150075e+02\n",
      "   2.98149508e+02   3.95250167e+02]\n",
      "Note: Absorber inlet is subcooled\n",
      "50 7.0 206.013944976 1.41129819283e-17 222.512818459 \n",
      "\n",
      "[  3.59965228e-01   2.78550826e+02   3.00149800e+02   3.01150075e+02\n",
      "   2.98149508e+02   3.95250167e+02]\n",
      "Note: Absorber inlet is subcooled\n",
      "51 7.0 211.900642529 1.41129819283e-17 264.092428717 \n",
      "\n",
      "[  3.49965228e-01   2.78560826e+02   3.00149800e+02   3.01150075e+02\n",
      "   2.98149508e+02   3.95250167e+02]\n",
      "Note: Absorber inlet is subcooled\n",
      "52 7.0 206.065320972 1.4457143275e-17 223.581500323 \n",
      "\n",
      "[  3.49965228e-01   2.78550826e+02   3.00159800e+02   3.01150075e+02\n",
      "   2.98149508e+02   3.95250167e+02]\n",
      "Note: Absorber inlet is subcooled\n",
      "53 7.0 205.994183147 1.37954536983e-17 221.998872227 \n",
      "\n",
      "[  3.49965228e-01   2.78550826e+02   3.00159800e+02   3.01160075e+02\n",
      "   2.98149508e+02   3.95250167e+02]\n",
      "Note: Absorber inlet is subcooled\n",
      "54 7.0 205.994183147 1.40760760577e-17 221.998872227 \n",
      "\n",
      "[  3.49965228e-01   2.78550826e+02   3.00159800e+02   3.01150075e+02\n",
      "   2.98159508e+02   3.95250167e+02]\n",
      "Note: Absorber inlet is subcooled\n",
      "55 7.0 205.945923038 1.349721378e-17 221.449852821 \n",
      "\n",
      "[  3.49965228e-01   2.78550826e+02   3.00159800e+02   3.01150075e+02\n",
      "   2.98159508e+02   3.95260167e+02]\n",
      "Note: Absorber inlet is subcooled\n",
      "56 7.0 205.957437604 1.349721378e-17 221.529992033 \n",
      "\n",
      "[  3.39971245e-01   2.78550542e+02   3.00159938e+02   3.01150075e+02\n",
      "   2.98159648e+02   3.95250148e+02]\n",
      "Note: Absorber inlet is subcooled\n",
      "57 8.0 200.062344694 1.09621568233e-19 248.321657855 \n",
      "\n",
      "[  3.54961669e-01   2.78550672e+02   3.00159875e+02   3.01150075e+02\n",
      "   2.98159584e+02   3.95250157e+02]\n",
      "Note: Absorber inlet is subcooled\n",
      "58 8.0 208.884863033 1.09693875971e-19 326.16288969 \n",
      "\n",
      "[  3.49887769e-01   2.78548328e+02   3.00159800e+02   3.01150075e+02\n",
      "   2.98159508e+02   3.95250167e+02]\n",
      "Note: Absorber inlet is subcooled\n",
      "59 8.0 205.887510338 1.09052027947e-19 298.154834756 \n",
      "\n",
      "[  3.47332435e-01   2.78555077e+02   3.00159806e+02   3.01150075e+02\n",
      "   2.98159514e+02   3.95250166e+02]\n",
      "Note: Absorber inlet is subcooled\n"
     ]
    }
   ],
   "source": [
    "t_heat_reject_range = 273.15 + numpy.arange(20,61,5)\n",
    "\n",
    "opts = []\n",
    "\n",
    "for T_heat_reject in t_heat_reject_range:\n",
    "    display(\"Now optimizing for T_heat_reject = \", T_heat_reject)\n",
    "    rT = T_heat_reject\n",
    "    xB = [400, 1, T_heat_reject, 3, T_heat_reject, 5, 285, 4, T_heat_reject, 0.15]\n",
    "    bdry = system_aqua1.makeBoundary(xB)\n",
    "    P = Problem_2_5_A(bdry)\n",
    "    x = numpy.array([0.05, 278.45, rT+7, rT+8, rT+5, 395.15])\n",
    "    opt = scipy.optimize.minimize(P.objective, x, method=\"COBYLA\",\n",
    "                              constraints=P.constraints, callback=P.callback,\n",
    "                              options={'disp':True,'maxiter':100,'rhobeg':0.1})\n",
    "    x = opt.x\n",
    "    display(\"First pass and we have this ... \")\n",
    "    ch = system_aqua1.makeChiller(x)\n",
    "    sys = system_aqua1.System(bdry, ch)\n",
    "    display(sys)\n",
    "    \n",
    "    opt = scipy.optimize.minimize(P.objective, x, method=\"COBYLA\",\n",
    "                              constraints=P.constraints, callback=P.callback,\n",
    "                              options={'disp':True,'maxiter':100,'rhobeg':0.01})\n",
    "    x = opt.x\n",
    "    display(\"Second pass and we have this ... \")\n",
    "    ch = system_aqua1.makeChiller(x)\n",
    "    sys = system_aqua1.System(bdry, ch)\n",
    "    display(sys)\n",
    "    \n",
    "    opt = scipy.optimize.minimize(P.objective, x, method=\"COBYLA\",\n",
    "                              constraints=P.constraints, callback=P.callback,\n",
    "                              options={'disp':True,'maxiter':100,'rhobeg':0.001})\n",
    "    display(\"Third pass and we have this ... \")\n",
    "    ch = system_aqua1.makeChiller(x)\n",
    "    sys = system_aqua1.System(bdry, ch)\n",
    "    display(sys)\n",
    "    \n",
    "    opts.append(opt)"
   ]
  },
  {
   "cell_type": "code",
   "execution_count": 120,
   "metadata": {},
   "outputs": [
    {
     "data": {
      "text/plain": [
       "array([  3.54051235e-01,   2.78602285e+02,   3.11987952e+02,\n",
       "         3.13008610e+02,   3.09939387e+02,   3.95252762e+02])"
      ]
     },
     "execution_count": 120,
     "metadata": {},
     "output_type": "execute_result"
    }
   ],
   "source": [
    "x = opt.x\n",
    "x"
   ]
  },
  {
   "cell_type": "code",
   "execution_count": 121,
   "metadata": {},
   "outputs": [
    {
     "data": {
      "text/html": [
       "<h3>State points</h3>\n",
       "        <table>\n",
       "<thead>\n",
       "<tr><th>                         </th><th style=\"text-align: right;\">      T</th><th style=\"text-align: right;\">       P</th><th style=\"text-align: right;\">       x</th><th style=\"text-align: right;\">        h</th><th style=\"text-align: right;\">       s</th><th style=\"text-align: right;\">        u</th><th style=\"text-align: right;\">         v</th><th style=\"text-align: right;\">        Qu</th></tr>\n",
       "</thead>\n",
       "<tbody>\n",
       "<tr><td>rich_abs_outlet          </td><td style=\"text-align: right;\">309.939</td><td style=\"text-align: right;\"> 4.98571</td><td style=\"text-align: right;\">0.518919</td><td style=\"text-align: right;\"> -74.179 </td><td style=\"text-align: right;\">0.390575</td><td style=\"text-align: right;\"> -74.7943</td><td style=\"text-align: right;\">0.0012341 </td><td style=\"text-align: right;\"> 0        </td></tr>\n",
       "<tr><td>rich_pump_outlet         </td><td style=\"text-align: right;\">310.102</td><td style=\"text-align: right;\">15.0651 </td><td style=\"text-align: right;\">0.518919</td><td style=\"text-align: right;\"> -72.6244</td><td style=\"text-align: right;\">0.391578</td><td style=\"text-align: right;\"> -74.4829</td><td style=\"text-align: right;\">0.00123364</td><td style=\"text-align: right;\">-0.001    </td></tr>\n",
       "<tr><td>rich_shx_outlet          </td><td style=\"text-align: right;\">349.632</td><td style=\"text-align: right;\">15.0651 </td><td style=\"text-align: right;\">0.518919</td><td style=\"text-align: right;\"> 108.341 </td><td style=\"text-align: right;\">0.940607</td><td style=\"text-align: right;\"> 106.375 </td><td style=\"text-align: right;\">0.00130486</td><td style=\"text-align: right;\">-0.001    </td></tr>\n",
       "<tr><td>rich_gen_sat_liquid      </td><td style=\"text-align: right;\">350.548</td><td style=\"text-align: right;\">15.0651 </td><td style=\"text-align: right;\">0.518919</td><td style=\"text-align: right;\"> 112.646 </td><td style=\"text-align: right;\">0.952907</td><td style=\"text-align: right;\"> 110.677 </td><td style=\"text-align: right;\">0.00130693</td><td style=\"text-align: right;\"> 0        </td></tr>\n",
       "<tr><td>weak_gen_outlet          </td><td style=\"text-align: right;\">395.253</td><td style=\"text-align: right;\">15.0651 </td><td style=\"text-align: right;\">0.298796</td><td style=\"text-align: right;\"> 348.035 </td><td style=\"text-align: right;\">1.53813 </td><td style=\"text-align: right;\"> 346.152 </td><td style=\"text-align: right;\">0.00124995</td><td style=\"text-align: right;\"> 0        </td></tr>\n",
       "<tr><td>weak_shx_outlet          </td><td style=\"text-align: right;\">336.331</td><td style=\"text-align: right;\">15.0651 </td><td style=\"text-align: right;\">0.298796</td><td style=\"text-align: right;\">  84.2451</td><td style=\"text-align: right;\">0.816148</td><td style=\"text-align: right;\">  82.5102</td><td style=\"text-align: right;\">0.00115162</td><td style=\"text-align: right;\">-0.001    </td></tr>\n",
       "<tr><td>weak_exp_outlet          </td><td style=\"text-align: right;\">336.506</td><td style=\"text-align: right;\"> 4.98571</td><td style=\"text-align: right;\">0.298796</td><td style=\"text-align: right;\">  84.2451</td><td style=\"text-align: right;\">0.819599</td><td style=\"text-align: right;\">  83.6705</td><td style=\"text-align: right;\">0.00115242</td><td style=\"text-align: right;\">-0.001    </td></tr>\n",
       "<tr><td>gen_vapor_outlet         </td><td style=\"text-align: right;\">350.548</td><td style=\"text-align: right;\">15.0651 </td><td style=\"text-align: right;\">0.989069</td><td style=\"text-align: right;\">1420.13  </td><td style=\"text-align: right;\">4.56407 </td><td style=\"text-align: right;\">1265     </td><td style=\"text-align: right;\">0.102976  </td><td style=\"text-align: right;\"> 1        </td></tr>\n",
       "<tr><td>gen_reflux_inlet         </td><td style=\"text-align: right;\">350.548</td><td style=\"text-align: right;\">15.0651 </td><td style=\"text-align: right;\">0.518918</td><td style=\"text-align: right;\"> 112.644 </td><td style=\"text-align: right;\">0.952898</td><td style=\"text-align: right;\"> 110.675 </td><td style=\"text-align: right;\">0.00130694</td><td style=\"text-align: right;\"> 0        </td></tr>\n",
       "<tr><td>refrig_rect_outlet       </td><td style=\"text-align: right;\">313.009</td><td style=\"text-align: right;\">15.0651 </td><td style=\"text-align: right;\">0.999869</td><td style=\"text-align: right;\">1294.32  </td><td style=\"text-align: right;\">4.18595 </td><td style=\"text-align: right;\">1164.39  </td><td style=\"text-align: right;\">0.0862463 </td><td style=\"text-align: right;\"> 0.998019 </td></tr>\n",
       "<tr><td>refrig_cond_outlet       </td><td style=\"text-align: right;\">311.988</td><td style=\"text-align: right;\">15.0651 </td><td style=\"text-align: right;\">0.999869</td><td style=\"text-align: right;\"> 185.16  </td><td style=\"text-align: right;\">0.639058</td><td style=\"text-align: right;\"> 182.558 </td><td style=\"text-align: right;\">0.0017271 </td><td style=\"text-align: right;\"> 0        </td></tr>\n",
       "<tr><td>refrig_cehx_liquid_outlet</td><td style=\"text-align: right;\">295.201</td><td style=\"text-align: right;\">15.0651 </td><td style=\"text-align: right;\">0.999869</td><td style=\"text-align: right;\"> 103.531 </td><td style=\"text-align: right;\">0.370375</td><td style=\"text-align: right;\"> 101.049 </td><td style=\"text-align: right;\">0.00164758</td><td style=\"text-align: right;\">-0.001    </td></tr>\n",
       "<tr><td>refrig_exp_outlet        </td><td style=\"text-align: right;\">277.213</td><td style=\"text-align: right;\"> 4.98571</td><td style=\"text-align: right;\">0.999869</td><td style=\"text-align: right;\"> 103.531 </td><td style=\"text-align: right;\">0.384338</td><td style=\"text-align: right;\">  94.3282</td><td style=\"text-align: right;\">0.0184585 </td><td style=\"text-align: right;\"> 0.0676894</td></tr>\n",
       "<tr><td>refrig_evap_outlet       </td><td style=\"text-align: right;\">278.602</td><td style=\"text-align: right;\"> 4.98571</td><td style=\"text-align: right;\">0.999869</td><td style=\"text-align: right;\">1273.75  </td><td style=\"text-align: right;\">4.58754 </td><td style=\"text-align: right;\">1147.98  </td><td style=\"text-align: right;\">0.252921  </td><td style=\"text-align: right;\"> 0.998    </td></tr>\n",
       "<tr><td>refrig_cehx_sat_vapor    </td><td style=\"text-align: right;\">284.063</td><td style=\"text-align: right;\"> 4.98571</td><td style=\"text-align: right;\">0.999869</td><td style=\"text-align: right;\">1290.14  </td><td style=\"text-align: right;\">4.64428 </td><td style=\"text-align: right;\">1160.96  </td><td style=\"text-align: right;\">0.259104  </td><td style=\"text-align: right;\"> 1        </td></tr>\n",
       "<tr><td>refrig_cehx_vapor_outlet </td><td style=\"text-align: right;\">310.209</td><td style=\"text-align: right;\"> 4.98571</td><td style=\"text-align: right;\">0.999869</td><td style=\"text-align: right;\">1355.38  </td><td style=\"text-align: right;\">4.86333 </td><td style=\"text-align: right;\">1211.09  </td><td style=\"text-align: right;\">0.289409  </td><td style=\"text-align: right;\"> 1.001    </td></tr>\n",
       "<tr><td>rectifier_liquid         </td><td style=\"text-align: right;\">313.009</td><td style=\"text-align: right;\">15.0651 </td><td style=\"text-align: right;\">0.972268</td><td style=\"text-align: right;\"> 169.756 </td><td style=\"text-align: right;\">0.662027</td><td style=\"text-align: right;\"> 167.209 </td><td style=\"text-align: right;\">0.00169108</td><td style=\"text-align: right;\"> 0        </td></tr>\n",
       "<tr><td>gen_vapor_formation      </td><td style=\"text-align: right;\">395.253</td><td style=\"text-align: right;\">15.0651 </td><td style=\"text-align: right;\">0.894028</td><td style=\"text-align: right;\">1639.65  </td><td style=\"text-align: right;\">5.11954 </td><td style=\"text-align: right;\">1461.18  </td><td style=\"text-align: right;\">0.118466  </td><td style=\"text-align: right;\"> 1        </td></tr>\n",
       "<tr><td>abs_vapor_final          </td><td style=\"text-align: right;\">336.506</td><td style=\"text-align: right;\"> 4.98571</td><td style=\"text-align: right;\">0.974441</td><td style=\"text-align: right;\">1446.2   </td><td style=\"text-align: right;\">5.1419  </td><td style=\"text-align: right;\">1288.13  </td><td style=\"text-align: right;\">0.317044  </td><td style=\"text-align: right;\"> 1        </td></tr>\n",
       "</tbody>\n",
       "</table>\n",
       "        <br/>\n",
       "        <h3>Performance variables</h3>\n",
       "        <table>\n",
       "<thead>\n",
       "<tr><th>name                   </th><th>unit  </th><th style=\"text-align: right;\">         value</th></tr>\n",
       "</thead>\n",
       "<tbody>\n",
       "<tr><td>Q_abs                  </td><td>kW    </td><td style=\"text-align: right;\">-197.396      </td></tr>\n",
       "<tr><td>Q_gen                  </td><td>kW    </td><td style=\"text-align: right;\"> 207.383      </td></tr>\n",
       "<tr><td>Q_cond                 </td><td>kW    </td><td style=\"text-align: right;\">-123.3        </td></tr>\n",
       "<tr><td>Q_evap                 </td><td>kW    </td><td style=\"text-align: right;\"> 130.087      </td></tr>\n",
       "<tr><td>Q_reflux               </td><td>kW    </td><td style=\"text-align: right;\"> -17.3245     </td></tr>\n",
       "<tr><td>Q_shx                  </td><td>kW    </td><td style=\"text-align: right;\">  64.0709     </td></tr>\n",
       "<tr><td>Q_cehx                 </td><td>kW    </td><td style=\"text-align: right;\">   9.07422    </td></tr>\n",
       "<tr><td>W_pump                 </td><td>kW    </td><td style=\"text-align: right;\">   0.550401   </td></tr>\n",
       "<tr><td>COP                    </td><td>kW/kW </td><td style=\"text-align: right;\">   0.627282   </td></tr>\n",
       "<tr><td>ZeroCheck              </td><td>kW    </td><td style=\"text-align: right;\">   2.52954e-05</td></tr>\n",
       "<tr><td>ZeroCheckSHX           </td><td>kW    </td><td style=\"text-align: right;\">   5.78258e-06</td></tr>\n",
       "<tr><td>ZeroCheckCEHX          </td><td>kW    </td><td style=\"text-align: right;\">  -1.87975e-05</td></tr>\n",
       "<tr><td>Q_gen_rect_combo       </td><td>kW    </td><td style=\"text-align: right;\"> 190.058      </td></tr>\n",
       "<tr><td>Q_refrig_side          </td><td>kW    </td><td style=\"text-align: right;\">  -6.78717    </td></tr>\n",
       "<tr><td>ZeroCheckRect          </td><td>kg/s  </td><td style=\"text-align: right;\">   1.38778e-17</td></tr>\n",
       "<tr><td>m_rich                 </td><td>kg/s  </td><td style=\"text-align: right;\">   0.354051   </td></tr>\n",
       "<tr><td>m_weak                 </td><td>kg/s  </td><td style=\"text-align: right;\">   0.242886   </td></tr>\n",
       "<tr><td>m_gen_vapor            </td><td>kg/s  </td><td style=\"text-align: right;\">   0.113719   </td></tr>\n",
       "<tr><td>m_gen_reflux           </td><td>kg/s  </td><td style=\"text-align: right;\">   0.00255368 </td></tr>\n",
       "<tr><td>m_refrig               </td><td>kg/s  </td><td style=\"text-align: right;\">   0.111165   </td></tr>\n",
       "<tr><td>check_rectifier_delta_T</td><td>K     </td><td style=\"text-align: right;\">  37.5396     </td></tr>\n",
       "<tr><td>is_degenerate          </td><td>bool  </td><td style=\"text-align: right;\">   0          </td></tr>\n",
       "</tbody>\n",
       "</table>\n",
       "        "
      ],
      "text/plain": [
       "                                 T         P         x          h         s          u           v          Qu\n",
       "-------------------------  -------  --------  --------  ---------  --------  ---------  ----------  ----------\n",
       "rich_abs_outlet            309.939   4.98571  0.518919   -74.179   0.390575   -74.7943  0.0012341    0\n",
       "rich_pump_outlet           310.102  15.0651   0.518919   -72.6244  0.391578   -74.4829  0.00123364  -0.001\n",
       "rich_shx_outlet            349.632  15.0651   0.518919   108.341   0.940607   106.375   0.00130486  -0.001\n",
       "rich_gen_sat_liquid        350.548  15.0651   0.518919   112.646   0.952907   110.677   0.00130693   0\n",
       "weak_gen_outlet            395.253  15.0651   0.298796   348.035   1.53813    346.152   0.00124995   0\n",
       "weak_shx_outlet            336.331  15.0651   0.298796    84.2451  0.816148    82.5102  0.00115162  -0.001\n",
       "weak_exp_outlet            336.506   4.98571  0.298796    84.2451  0.819599    83.6705  0.00115242  -0.001\n",
       "gen_vapor_outlet           350.548  15.0651   0.989069  1420.13    4.56407   1265       0.102976     1\n",
       "gen_reflux_inlet           350.548  15.0651   0.518918   112.644   0.952898   110.675   0.00130694   0\n",
       "refrig_rect_outlet         313.009  15.0651   0.999869  1294.32    4.18595   1164.39    0.0862463    0.998019\n",
       "refrig_cond_outlet         311.988  15.0651   0.999869   185.16    0.639058   182.558   0.0017271    0\n",
       "refrig_cehx_liquid_outlet  295.201  15.0651   0.999869   103.531   0.370375   101.049   0.00164758  -0.001\n",
       "refrig_exp_outlet          277.213   4.98571  0.999869   103.531   0.384338    94.3282  0.0184585    0.0676894\n",
       "refrig_evap_outlet         278.602   4.98571  0.999869  1273.75    4.58754   1147.98    0.252921     0.998\n",
       "refrig_cehx_sat_vapor      284.063   4.98571  0.999869  1290.14    4.64428   1160.96    0.259104     1\n",
       "refrig_cehx_vapor_outlet   310.209   4.98571  0.999869  1355.38    4.86333   1211.09    0.289409     1.001\n",
       "rectifier_liquid           313.009  15.0651   0.972268   169.756   0.662027   167.209   0.00169108   0\n",
       "gen_vapor_formation        395.253  15.0651   0.894028  1639.65    5.11954   1461.18    0.118466     1\n",
       "abs_vapor_final            336.506   4.98571  0.974441  1446.2     5.1419    1288.13    0.317044     1\n",
       "name                     unit             value\n",
       "-----------------------  ------  --------------\n",
       "Q_abs                    kW      -197.396\n",
       "Q_gen                    kW       207.383\n",
       "Q_cond                   kW      -123.3\n",
       "Q_evap                   kW       130.087\n",
       "Q_reflux                 kW       -17.3245\n",
       "Q_shx                    kW        64.0709\n",
       "Q_cehx                   kW         9.07422\n",
       "W_pump                   kW         0.550401\n",
       "COP                      kW/kW      0.627282\n",
       "ZeroCheck                kW         2.52954e-05\n",
       "ZeroCheckSHX             kW         5.78258e-06\n",
       "ZeroCheckCEHX            kW        -1.87975e-05\n",
       "Q_gen_rect_combo         kW       190.058\n",
       "Q_refrig_side            kW        -6.78717\n",
       "ZeroCheckRect            kg/s       1.38778e-17\n",
       "m_rich                   kg/s       0.354051\n",
       "m_weak                   kg/s       0.242886\n",
       "m_gen_vapor              kg/s       0.113719\n",
       "m_gen_reflux             kg/s       0.00255368\n",
       "m_refrig                 kg/s       0.111165\n",
       "check_rectifier_delta_T  K         37.5396\n",
       "is_degenerate            bool       0"
      ]
     },
     "metadata": {},
     "output_type": "display_data"
    }
   ],
   "source": [
    "ch = system_aqua1.makeChiller(x)\n",
    "display(ch)"
   ]
  },
  {
   "cell_type": "code",
   "execution_count": 122,
   "metadata": {},
   "outputs": [
    {
     "data": {
      "text/plain": [
       "[0.25405123492903559,\n",
       " 0.64594876507096444,\n",
       " 32.385666581057876,\n",
       " 0.92065803869669482,\n",
       " 21.337102338183058,\n",
       " 81.244151889835393,\n",
       " 84.313374171406906]"
      ]
     },
     "execution_count": 122,
     "metadata": {},
     "output_type": "execute_result"
    }
   ],
   "source": [
    "P.constraint(x)"
   ]
  },
  {
   "cell_type": "code",
   "execution_count": 123,
   "metadata": {},
   "outputs": [
    {
     "name": "stdout",
     "output_type": "stream",
     "text": [
      "Note: Absorber inlet is subcooled\n"
     ]
    },
    {
     "name": "stderr",
     "output_type": "stream",
     "text": [
      "C:\\Users\\nfette\\Miniconda3\\envs\\openACHP\\lib\\site-packages\\scipy\\interpolate\\_cubic.py:147: RuntimeWarning: divide by zero encountered in true_divide\n",
      "  mk = (y[1:] - y[:-1]) / hk\n",
      "C:\\Users\\nfette\\Miniconda3\\envs\\openACHP\\lib\\site-packages\\scipy\\interpolate\\_cubic.py:165: RuntimeWarning: invalid value encountered in true_divide\n",
      "  whmean = (w1/mk[:-1] + w2/mk[1:]) / (w1 + w2)\n"
     ]
    },
    {
     "data": {
      "text/html": [
       "<table>\n",
       "<thead>\n",
       "<tr><th>name  </th><th style=\"text-align: right;\">    deltaT</th><th style=\"text-align: right;\">  epsilon</th><th style=\"text-align: right;\">       UA</th><th style=\"text-align: right;\">       Q</th></tr>\n",
       "</thead>\n",
       "<tbody>\n",
       "<tr><td>gen   </td><td style=\"text-align: right;\">0.163144  </td><td style=\"text-align: right;\"> 0.996723</td><td style=\"text-align: right;\"> 78.2634 </td><td style=\"text-align: right;\">207.383 </td></tr>\n",
       "<tr><td>rect  </td><td style=\"text-align: right;\">7.88064   </td><td style=\"text-align: right;\"> 0.782762</td><td style=\"text-align: right;\">  1.34955</td><td style=\"text-align: right;\"> 17.3245</td></tr>\n",
       "<tr><td>abs   </td><td style=\"text-align: right;\">0.795894  </td><td style=\"text-align: right;\"> 0.959961</td><td style=\"text-align: right;\"> 63.3603 </td><td style=\"text-align: right;\">197.396 </td></tr>\n",
       "<tr><td>cond  </td><td style=\"text-align: right;\">1.42142   </td><td style=\"text-align: right;\"> 0.967853</td><td style=\"text-align: right;\"> 37.4399 </td><td style=\"text-align: right;\">123.3   </td></tr>\n",
       "<tr><td>evap  </td><td style=\"text-align: right;\">0.00472091</td><td style=\"text-align: right;\"> 0.999394</td><td style=\"text-align: right;\">123.917  </td><td style=\"text-align: right;\">130.087 </td></tr>\n",
       "<tr><td>total </td><td style=\"text-align: right;\">0         </td><td style=\"text-align: right;\"> 0       </td><td style=\"text-align: right;\">304.33   </td><td style=\"text-align: right;\">  0     </td></tr>\n",
       "</tbody>\n",
       "</table>"
      ],
      "text/plain": [
       "name        deltaT    epsilon         UA         Q\n",
       "------  ----------  ---------  ---------  --------\n",
       "gen     0.163144     0.996723   78.2634   207.383\n",
       "rect    7.88064      0.782762    1.34955   17.3245\n",
       "abs     0.795894     0.959961   63.3603   197.396\n",
       "cond    1.42142      0.967853   37.4399   123.3\n",
       "evap    0.00472091   0.999394  123.917    130.087\n",
       "totalUA = 304.33007565731174"
      ]
     },
     "execution_count": 123,
     "metadata": {},
     "output_type": "execute_result"
    }
   ],
   "source": [
    "sys = system_aqua1.System(bdry, ch)\n",
    "sys"
   ]
  },
  {
   "cell_type": "code",
   "execution_count": 124,
   "metadata": {},
   "outputs": [
    {
     "name": "stdout",
     "output_type": "stream",
     "text": [
      "[  3.04051235e-01   2.78602285e+02   3.11987952e+02   3.13008610e+02\n",
      "   3.09939387e+02   3.95252762e+02]\n",
      "Note: Absorber inlet is subcooled\n"
     ]
    },
    {
     "name": "stderr",
     "output_type": "stream",
     "text": [
      "C:\\Users\\nfette\\Miniconda3\\envs\\openACHP\\lib\\site-packages\\scipy\\interpolate\\_cubic.py:147: RuntimeWarning: divide by zero encountered in true_divide\n",
      "  mk = (y[1:] - y[:-1]) / hk\n",
      "C:\\Users\\nfette\\Miniconda3\\envs\\openACHP\\lib\\site-packages\\scipy\\interpolate\\_cubic.py:165: RuntimeWarning: invalid value encountered in true_divide\n",
      "  whmean = (w1/mk[:-1] + w2/mk[1:]) / (w1 + w2)\n"
     ]
    },
    {
     "name": "stdout",
     "output_type": "stream",
     "text": [
      "209.0 29.0 111.715983459 5.04438564639e-294 0.0 \n",
      "\n",
      "[  3.29051235e-01   2.78602285e+02   3.11987952e+02   3.13008610e+02\n",
      "   3.09939387e+02   3.95252762e+02]\n",
      "Note: Absorber inlet is subcooled\n",
      "210.0 29.0 120.901605043 5.04438564639e-294 0.0 \n",
      "\n",
      "[  3.54051235e-01   2.78602285e+02   3.11987952e+02   3.13008610e+02\n",
      "   3.09939387e+02   3.95252762e+02]\n",
      "Note: Absorber inlet is subcooled\n",
      "211.0 30.0 130.087226628 0.0 0.225823506808 \n",
      "\n",
      "[  3.79051235e-01   2.78602285e+02   3.11987952e+02   3.13008610e+02\n",
      "   3.09939387e+02   3.95252762e+02]\n",
      "Note: Absorber inlet is subcooled\n",
      "212.0 30.0 139.272848213 0.0 91312.5800127 \n",
      "\n",
      "[   0.40405123  278.60228502  311.98795161  313.00860964  309.93938736\n",
      "  395.25276153]\n",
      "Note: Absorber inlet is subcooled\n",
      "213.0 30.0 148.458469798 0.0 382344.140072 \n",
      "\n",
      "[  3.54051235e-01   2.77602285e+02   3.11987952e+02   3.13008610e+02\n",
      "   3.09939387e+02   3.95252762e+02]\n",
      "Note: Absorber inlet is subcooled\n",
      "214.0 30.0 125.639385167 0.0 0.0 \n",
      "\n",
      "[  3.54051235e-01   2.78102285e+02   3.11987952e+02   3.13008610e+02\n",
      "   3.09939387e+02   3.95252762e+02]\n",
      "Note: Absorber inlet is subcooled\n",
      "215.0 30.0 127.856921936 0.0 0.0 \n",
      "\n",
      "[  3.54051235e-01   2.78602285e+02   3.11987952e+02   3.13008610e+02\n",
      "   3.09939387e+02   3.95252762e+02]\n",
      "Note: Absorber inlet is subcooled\n",
      "216.0 30.0 130.087226628 0.0 0.225823506808 \n",
      "\n",
      "[  3.54051235e-01   2.79102285e+02   3.11987952e+02   3.13008610e+02\n",
      "   3.09939387e+02   3.95252762e+02]\n",
      "Note: Absorber inlet is subcooled\n",
      "217.0 30.0 132.330795742 1.33397724377e-319 3292.04125993 \n",
      "\n",
      "[  3.54051235e-01   2.79602285e+02   3.11987952e+02   3.13008610e+02\n",
      "   3.09939387e+02   3.95252762e+02]\n",
      "Note: Absorber inlet is subcooled\n",
      "218.0 31.0 134.588138876 0.0 17656.5666321 \n",
      "\n",
      "[  3.54051235e-01   2.78602285e+02   3.10987952e+02   3.13008610e+02\n",
      "   3.09939387e+02   3.95252762e+02]\n",
      "Note: Absorber inlet is subcooled\n",
      "219.0 31.0 132.663846055 0.0 277.986858117 \n",
      "\n",
      "[  3.54051235e-01   2.78602285e+02   3.11487952e+02   3.13008610e+02\n",
      "   3.09939387e+02   3.95252762e+02]\n",
      "Note: Absorber inlet is subcooled\n"
     ]
    },
    {
     "name": "stderr",
     "output_type": "stream",
     "text": [
      "C:\\Users\\nfette\\Miniconda3\\envs\\openACHP\\lib\\site-packages\\scipy\\integrate\\quadpack.py:364: IntegrationWarning: The maximum number of subdivisions (50) has been achieved.\n",
      "  If increasing the limit yields no improvement it is advised to analyze \n",
      "  the integrand in order to determine the difficulties.  If the position of a \n",
      "  local difficulty can be determined (singularity, discontinuity) one will \n",
      "  probably gain from splitting up the interval and calling the integrator \n",
      "  on the subranges.  Perhaps a special-purpose integrator should be used.\n",
      "  warnings.warn(msg, IntegrationWarning)\n"
     ]
    },
    {
     "name": "stdout",
     "output_type": "stream",
     "text": [
      "220.0 31.0 131.379717522 0.0 74.6268927787 \n",
      "\n",
      "[  3.54051235e-01   2.78602285e+02   3.11987952e+02   3.13008610e+02\n",
      "   3.09939387e+02   3.95252762e+02]\n",
      "Note: Absorber inlet is subcooled\n",
      "221.0 31.0 130.087226628 0.0 0.304829849622 \n",
      "\n",
      "[  3.54051235e-01   2.78602285e+02   3.12487952e+02   3.13008610e+02\n",
      "   3.09939387e+02   3.95252762e+02]\n",
      "Note: Absorber inlet is subcooled\n",
      "222.0 31.0 128.78623555 0.0 0.0 \n",
      "\n",
      "[  3.54051235e-01   2.78602285e+02   3.12987952e+02   3.13008610e+02\n",
      "   3.09939387e+02   3.95252762e+02]\n",
      "Note: Absorber inlet is subcooled\n",
      "223.0 31.0 127.476602663 0.0 9454794.92894 \n",
      "\n",
      "[  3.54051235e-01   2.78602285e+02   3.11987952e+02   3.12008610e+02\n",
      "   3.09939387e+02   3.95252762e+02]\n",
      "Note: Absorber inlet is subcooled\n",
      "224.0 31.0 130.087226628 0.0 10517865.4852 \n",
      "\n",
      "[  3.54051235e-01   2.78602285e+02   3.11987952e+02   3.12508610e+02\n",
      "   3.09939387e+02   3.95252762e+02]\n",
      "Note: Absorber inlet is subcooled\n",
      "225.0 32.0 130.087226628 0.0 0.411477257324 \n",
      "\n",
      "[  3.54051235e-01   2.78602285e+02   3.11987952e+02   3.13008610e+02\n",
      "   3.09939387e+02   3.95252762e+02]\n",
      "Note: Absorber inlet is subcooled\n",
      "226.0 32.0 130.087226628 0.0 0.411477257324 \n",
      "\n",
      "[  3.54051235e-01   2.78602285e+02   3.11987952e+02   3.13508610e+02\n",
      "   3.09939387e+02   3.95252762e+02]\n",
      "Note: Absorber inlet is subcooled\n",
      "227.0 32.0 130.087226628 0.0 0.411477257324 \n",
      "\n",
      "[  3.54051235e-01   2.78602285e+02   3.11987952e+02   3.14008610e+02\n",
      "   3.09939387e+02   3.95252762e+02]\n",
      "Note: Absorber inlet is subcooled\n",
      "228.0 32.0 130.087226628 0.0 0.411477257324 \n",
      "\n",
      "[  3.54051235e-01   2.78602285e+02   3.11987952e+02   3.13008610e+02\n",
      "   3.08939387e+02   3.95252762e+02]\n",
      "Note: Absorber inlet is subcooled\n",
      "229.0 32.0 134.127537546 0.0 2022.12107199 \n",
      "\n",
      "[  3.54051235e-01   2.78602285e+02   3.11987952e+02   3.13008610e+02\n",
      "   3.09439387e+02   3.95252762e+02]\n",
      "Note: Absorber inlet is subcooled\n",
      "230.0 32.0 132.098793535 0.0 232.982439684 \n",
      "\n",
      "[  3.54051235e-01   2.78602285e+02   3.11987952e+02   3.13008610e+02\n",
      "   3.09939387e+02   3.95252762e+02]\n",
      "Note: Absorber inlet is subcooled\n",
      "231.0 32.0 130.087226628 0.0 0.411477257324 \n",
      "\n",
      "[  3.54051235e-01   2.78602285e+02   3.11987952e+02   3.13008610e+02\n",
      "   3.10439387e+02   3.95252762e+02]\n",
      "Note: Absorber inlet is subcooled\n",
      "232.0 33.0 128.092331771 0.0 0.0 \n",
      "\n",
      "[  3.54051235e-01   2.78602285e+02   3.11987952e+02   3.13008610e+02\n",
      "   3.10939387e+02   3.95252762e+02]\n",
      "Note: Absorber inlet is subcooled\n",
      "233.0 33.0 126.11362588 0.0 0.0 \n",
      "\n",
      "[  3.54051235e-01   2.78602285e+02   3.11987952e+02   3.13008610e+02\n",
      "   3.09939387e+02   3.94252762e+02]\n",
      "Note: Absorber inlet is subcooled\n",
      "234.0 33.0 128.345359003 0.0 0.0 \n",
      "\n",
      "[  3.54051235e-01   2.78602285e+02   3.11987952e+02   3.13008610e+02\n",
      "   3.09939387e+02   3.94752762e+02]\n",
      "Note: Absorber inlet is subcooled\n",
      "235.0 33.0 129.219912195 0.0 0.0 \n",
      "\n",
      "[  3.54051235e-01   2.78602285e+02   3.11987952e+02   3.13008610e+02\n",
      "   3.09939387e+02   3.95252762e+02]\n",
      "Note: Absorber inlet is subcooled\n",
      "236.0 33.0 130.087226628 0.0 0.555436199917 \n",
      "\n",
      "[  3.54051235e-01   2.78602285e+02   3.11987952e+02   3.13008610e+02\n",
      "   3.09939387e+02   3.95752762e+02]\n",
      "Note: Absorber inlet is subcooled\n",
      "237.0 33.0 130.947401112 0.0 1003.50823437 \n",
      "\n",
      "[  3.54051235e-01   2.78602285e+02   3.11987952e+02   3.13008610e+02\n",
      "   3.09939387e+02   3.96252762e+02]\n",
      "Note: Absorber inlet is subcooled\n",
      "238.0 33.0 131.800531689 0.0 7052.36078554 \n",
      "\n"
     ]
    }
   ],
   "source": [
    "box = numpy.ones_like(x)\n",
    "box[0] = 0.05\n",
    "ss = numpy.linspace(-1,1,5)\n",
    "yyy = numpy.zeros([len(box),len(ss)])\n",
    "for i,boxi in enumerate(box):\n",
    "    yy = numpy.zeros_like(ss)\n",
    "    for j, s in enumerate(ss):\n",
    "        x_vary = x.copy()\n",
    "        x_vary[i] += boxi * s\n",
    "        yyy[i,j] = P.objective(x_vary)\n",
    "        if (numpy.array(P.constraint(x_vary)) < 0).any():\n",
    "            yyy[i,j] = numpy.nan"
   ]
  },
  {
   "cell_type": "code",
   "execution_count": 134,
   "metadata": {},
   "outputs": [
    {
     "data": {
      "text/plain": [
       "130.08722662820685"
      ]
     },
     "execution_count": 134,
     "metadata": {},
     "output_type": "execute_result"
    }
   ],
   "source": [
    "Q_opt = ch.Q_evap\n",
    "Q_opt"
   ]
  },
  {
   "cell_type": "code",
   "execution_count": 140,
   "metadata": {},
   "outputs": [
    {
     "data": {
      "text/plain": [
       "117.07850396538616"
      ]
     },
     "execution_count": 140,
     "metadata": {},
     "output_type": "execute_result"
    }
   ],
   "source": [
    "Q_goal = 0.9 * Q_opt\n",
    "Q_goal"
   ]
  },
  {
   "cell_type": "code",
   "execution_count": 171,
   "metadata": {
    "collapsed": true
   },
   "outputs": [],
   "source": [
    "P = Problem_2_5_B(bdry, Q_goal)\n",
    "rT = T_heat_reject\n",
    "x2 = x.copy()"
   ]
  },
  {
   "cell_type": "code",
   "execution_count": 159,
   "metadata": {},
   "outputs": [
    {
     "name": "stdout",
     "output_type": "stream",
     "text": [
      "[  3.23139528e-01   2.78641275e+02   3.12291755e+02   3.13259021e+02\n",
      "   3.10228713e+02   3.95250062e+02]\n"
     ]
    },
    {
     "name": "stderr",
     "output_type": "stream",
     "text": [
      "C:\\Users\\nfette\\Miniconda3\\envs\\openACHP\\lib\\site-packages\\scipy\\optimize\\_minimize.py:403: RuntimeWarning: Method COBYLA does not support callback.\n",
      "  warn('Method %s does not support callback.' % method, RuntimeWarning)\n"
     ]
    },
    {
     "name": "stdout",
     "output_type": "stream",
     "text": [
      "Note: Absorber inlet is subcooled\n"
     ]
    },
    {
     "name": "stderr",
     "output_type": "stream",
     "text": [
      "C:\\Users\\nfette\\Miniconda3\\envs\\openACHP\\lib\\site-packages\\scipy\\interpolate\\_cubic.py:147: RuntimeWarning: divide by zero encountered in true_divide\n",
      "  mk = (y[1:] - y[:-1]) / hk\n",
      "C:\\Users\\nfette\\Miniconda3\\envs\\openACHP\\lib\\site-packages\\scipy\\interpolate\\_cubic.py:165: RuntimeWarning: invalid value encountered in true_divide\n",
      "  whmean = (w1/mk[:-1] + w2/mk[1:]) / (w1 + w2)\n"
     ]
    },
    {
     "name": "stdout",
     "output_type": "stream",
     "text": [
      "176.0 25.0 138.19835208991435 0.118474468961 0.0 \n",
      "\n",
      "[  3.33139528e-01   2.78641275e+02   3.12291755e+02   3.13259021e+02\n",
      "   3.10228713e+02   3.95250062e+02]\n",
      "Note: Absorber inlet is subcooled\n",
      "177.0 25.0 153.19282242496664 1.65573909183 0.0 \n",
      "\n",
      "[  3.23139528e-01   2.78651275e+02   3.12291755e+02   3.13259021e+02\n",
      "   3.10228713e+02   3.95250062e+02]\n",
      "Note: Absorber inlet is subcooled\n",
      "178.0 25.0 138.537420450732 0.137721707638 0.0 \n",
      "\n",
      "[  3.23139528e-01   2.78641275e+02   3.12301755e+02   3.13259021e+02\n",
      "   3.10228713e+02   3.95250062e+02]\n",
      "Note: Absorber inlet is subcooled\n",
      "179.0 25.0 138.02564423858303 0.11642563615 0.0 \n",
      "\n",
      "[  3.23139528e-01   2.78641275e+02   3.12301755e+02   3.13269021e+02\n",
      "   3.10228713e+02   3.95250062e+02]\n",
      "Note: Absorber inlet is subcooled\n",
      "180.0 25.0 138.02541019578706 0.11642563615 0.0 \n",
      "\n",
      "[  3.23139528e-01   2.78641275e+02   3.12301755e+02   3.13269021e+02\n",
      "   3.10238713e+02   3.95250062e+02]\n",
      "Note: Absorber inlet is subcooled\n",
      "181.0 25.0 137.76089753239407 0.113325785726 1.90304608771 \n",
      "\n",
      "[  3.23139528e-01   2.78641275e+02   3.12301755e+02   3.13269021e+02\n",
      "   3.10228713e+02   3.95260062e+02]\n",
      "Note: Absorber inlet is subcooled\n",
      "182.0 25.0 138.11933928130702 0.117784938847 0.0 \n",
      "\n",
      "[  3.13191132e-01   2.78641059e+02   3.12301860e+02   3.13269021e+02\n",
      "   3.10227729e+02   3.95250004e+02]\n",
      "Note: Absorber inlet is subcooled\n",
      "183.0 26.0 126.25881782715973 0.00255257049659 31599.5423089 \n",
      "\n",
      "[  3.28139528e-01   2.78641275e+02   3.12301755e+02   3.13269021e+02\n",
      "   3.10228713e+02   3.95250062e+02]\n",
      "Note: Absorber inlet is subcooled\n",
      "184.0 26.0 144.99245977792415 0.192442355152 0.0 \n",
      "\n",
      "[  3.23139500e-01   2.78638775e+02   3.12301755e+02   3.13269021e+02\n",
      "   3.10228713e+02   3.95250062e+02]\n",
      "Note: Absorber inlet is subcooled\n",
      "185.0 26.0 137.9415595512446 0.0429795187076 0.0929791504778 \n",
      "\n",
      "[  3.18174167e-01   2.78638684e+02   3.12301816e+02   3.13269021e+02\n",
      "   3.10228137e+02   3.95250028e+02]\n",
      "Note: Absorber inlet is subcooled\n",
      "186.0 26.0 131.79251510559678 0.0101707660583 7939.0867178 \n",
      "\n",
      "[  3.23170513e-01   2.78638775e+02   3.12304255e+02   3.13269021e+02\n",
      "   3.10228713e+02   3.95250062e+02]\n",
      "Note: Absorber inlet is subcooled\n",
      "187.0 26.0 137.93913544693027 0.043161211038 0.00194016500195 \n",
      "\n",
      "[  3.28170130e-01   2.78638775e+02   3.12304193e+02   3.13269021e+02\n",
      "   3.10228713e+02   3.95250062e+02]\n",
      "Note: Absorber inlet is subcooled\n",
      "188.0 26.0 144.89640236352858 0.185329551922 0.0 \n",
      "\n",
      "[  3.23170513e-01   2.78638775e+02   3.12304255e+02   3.13271521e+02\n",
      "   3.10228713e+02   3.95250062e+02]\n",
      "Note: Absorber inlet is subcooled\n",
      "189.0 26.0 137.93907698114046 0.0431612105777 0.00194022274891 \n",
      "\n",
      "[  3.18207977e-01   2.78638685e+02   3.12304447e+02   3.13271521e+02\n",
      "   3.10228141e+02   3.95250028e+02]\n",
      "Note: Absorber inlet is subcooled\n",
      "190.0 27.0 131.78959358571416 0.00303699179993 10644.6754616 \n",
      "\n",
      "[  3.23456625e-01   2.78638775e+02   3.12304251e+02   3.13271521e+02\n",
      "   3.10226229e+02   3.95250062e+02]\n",
      "Note: Absorber inlet is subcooled\n",
      "191.0 27.0 138.38101250640327 0.0165576781242 0.0 \n",
      "\n",
      "[  3.28137230e-01   2.78638775e+02   3.12304193e+02   3.13271521e+02\n",
      "   3.10229286e+02   3.95250062e+02]\n",
      "Note: Absorber inlet is subcooled\n",
      "192.0 27.0 144.83136855962226 0.0741071005773 0.0 \n",
      "\n",
      "[  3.23170502e-01   2.78638775e+02   3.12304255e+02   3.13271521e+02\n",
      "   3.10228713e+02   3.95247562e+02]\n",
      "Note: Absorber inlet is subcooled\n",
      "193.0 27.0 137.91562184924953 0.0149248998166 0.0782271139283 \n",
      "\n",
      "[  3.18175364e-01   2.78638683e+02   3.12304450e+02   3.13271521e+02\n",
      "   3.10228734e+02   3.95250097e+02]\n",
      "Note: Absorber inlet is subcooled\n",
      "194.0 27.0 131.73679051802557 0.0029997222913 10809.3981417 \n",
      "\n",
      "[  3.20672938e-01   2.78638729e+02   3.12304353e+02   3.13271521e+02\n",
      "   3.10228724e+02   3.95250079e+02]\n",
      "Note: Absorber inlet is subcooled\n",
      "195.0 27.0 134.75616756934772 0.00669666290503 2705.03044583 \n",
      "\n",
      "[  3.24412182e-01   2.78638775e+02   3.12304239e+02   3.13271521e+02\n",
      "   3.10228856e+02   3.95250062e+02]\n",
      "Note: Absorber inlet is subcooled\n",
      "196.0 27.0 139.5841318766684 0.0223348953682 0.0 \n",
      "\n",
      "[  3.23170491e-01   2.78638150e+02   3.12304255e+02   3.13271521e+02\n",
      "   3.10228713e+02   3.95250062e+02]\n",
      "Note: Absorber inlet is subcooled\n",
      "197.0 28.0 137.91813679181814 0.00459398472166 0.052880816282 \n",
      "\n",
      "[  3.21921731e-01   2.78638137e+02   3.12304306e+02   3.13271521e+02\n",
      "   3.10228728e+02   3.95250071e+02]\n",
      "Note: Absorber inlet is subcooled\n",
      "198.0 28.0 136.3056217795911 0.00294356690507 924.912261782 \n",
      "\n",
      "[  3.23196083e-01   2.78638150e+02   3.12304879e+02   3.13271521e+02\n",
      "   3.10228715e+02   3.95250062e+02]\n",
      "Note: Absorber inlet is subcooled\n",
      "199.0 28.0 137.94083333831196 0.0046292303216 0.0 \n",
      "\n",
      "[  3.24436786e-01   2.78638150e+02   3.12304828e+02   3.13271521e+02\n",
      "   3.10228858e+02   3.95250062e+02]\n",
      "Note: Absorber inlet is subcooled\n",
      "200.0 28.0 139.58531636409097 0.00719901414724 0.0 \n",
      "\n",
      "[  3.23124417e-01   2.78638150e+02   3.12304880e+02   3.13271521e+02\n",
      "   3.10229336e+02   3.95250062e+02]\n",
      "Note: Absorber inlet is subcooled\n",
      "201.0 28.0 137.830647792373 0.00450248878287 2.54051460496 \n",
      "\n",
      "[  3.22934256e-01   2.78638146e+02   3.12304909e+02   3.13271521e+02\n",
      "   3.10227493e+02   3.95250065e+02]\n",
      "Note: Absorber inlet is subcooled\n",
      "202.0 28.0 137.63086512755058 0.00423500069504 33.0063063046 \n",
      "\n",
      "[  3.23195896e-01   2.78638150e+02   3.12304879e+02   3.13271521e+02\n",
      "   3.10228717e+02   3.95250687e+02]\n",
      "Note: Absorber inlet is subcooled\n",
      "203.0 28.0 137.94640932305342 0.00463342703171 0.0 \n",
      "\n",
      "[  3.22994816e-01   2.78638149e+02   3.12304885e+02   3.13271521e+02\n",
      "   3.10229949e+02   3.95250058e+02]\n",
      "Note: Absorber inlet is subcooled\n",
      "204.0 29.0 137.64522589915805 0.00116881441655 32.0825565008 \n",
      "\n",
      "[  3.23196083e-01   2.78638150e+02   3.12304879e+02   3.13272146e+02\n",
      "   3.10228715e+02   3.95250062e+02]\n",
      "Note: Absorber inlet is subcooled\n",
      "205.0 29.0 137.9408187875418 0.00127146745137 0.0 \n",
      "\n",
      "[  3.23275337e-01   2.78638149e+02   3.12304882e+02   3.13272146e+02\n",
      "   3.10227468e+02   3.95250064e+02]\n",
      "Note: Absorber inlet is subcooled\n",
      "206.0 29.0 138.07772782877868 0.0013182628598 0.0 \n",
      "\n",
      "[  3.22573113e-01   2.78638144e+02   3.12304927e+02   3.13272149e+02\n",
      "   3.10228727e+02   3.95250057e+02]\n",
      "Note: Absorber inlet is subcooled\n",
      "207.0 29.0 137.1297810912522 0.000994572490398 294.635677088 \n",
      "\n",
      "[  3.23819297e-01   2.78638150e+02   3.12304854e+02   3.13272146e+02\n",
      "   3.10228755e+02   3.95250062e+02]\n",
      "Note: Absorber inlet is subcooled\n",
      "208.0 29.0 138.76176955303305 0.00162495783917 0.0 \n",
      "\n",
      "[  3.22884610e-01   2.78638147e+02   3.12304903e+02   3.13272147e+02\n",
      "   3.10228721e+02   3.95250059e+02]\n",
      "Note: Absorber inlet is subcooled\n",
      "209.0 29.0 137.53387916997 0.00112453001743 70.8055021656 \n",
      "\n",
      "[  3.23199180e-01   2.78638150e+02   3.12304878e+02   3.13272146e+02\n",
      "   3.10228871e+02   3.95250061e+02]\n",
      "Note: Absorber inlet is subcooled\n",
      "210.0 29.0 137.94073692913108 0.00127223067623 0.0 \n",
      "\n",
      "[  3.23511359e-01   2.78638150e+02   3.12304866e+02   3.13272146e+02\n",
      "   3.10228865e+02   3.95250061e+02]\n",
      "Note: Absorber inlet is subcooled\n",
      "211.0 30.0 138.35119748488498 0.000349535840483 0.0 \n",
      "\n",
      "[  3.23199165e-01   2.78637994e+02   3.12304878e+02   3.13272146e+02\n",
      "   3.10228871e+02   3.95250061e+02]\n",
      "Note: Absorber inlet is subcooled\n",
      "212.0 30.0 137.9354895196941 0.000303922753886 0.0 \n",
      "\n",
      "[  3.22887826e-01   2.78637984e+02   3.12304903e+02   3.13272147e+02\n",
      "   3.10228878e+02   3.95250059e+02]\n",
      "Note: Absorber inlet is subcooled\n",
      "213.0 30.0 137.52854306959324 0.000265318931774 95.6938079625 \n",
      "\n",
      "[  3.23211300e-01   2.78637994e+02   3.12305034e+02   3.13272146e+02\n",
      "   3.10228872e+02   3.95250061e+02]\n",
      "Note: Absorber inlet is subcooled\n",
      "214.0 30.0 137.94868460909987 0.000305395400112 0.0 \n",
      "\n",
      "[  3.23510653e-01   2.78637994e+02   3.12304854e+02   3.13272146e+02\n",
      "   3.10228865e+02   3.95250061e+02]\n",
      "Note: Absorber inlet is subcooled\n",
      "215.0 30.0 138.34519547164257 0.000348082792236 0.0 \n",
      "\n",
      "[  3.23199207e-01   2.78637994e+02   3.12304878e+02   3.13272146e+02\n",
      "   3.10228871e+02   3.95249905e+02]\n",
      "Note: Absorber inlet is subcooled\n",
      "216.0 30.0 137.93408970605464 0.000303838083875 0.0 \n",
      "\n",
      "[  3.22886952e-01   2.78637984e+02   3.12304883e+02   3.13272147e+02\n",
      "   3.10228877e+02   3.95249903e+02]\n",
      "Note: Absorber inlet is subcooled\n",
      "217.0 30.0 137.52630767117532 0.0002651547836 96.6036498962 \n",
      "\n",
      "[  3.23199848e-01   2.78637994e+02   3.12304878e+02   3.13272302e+02\n",
      "   3.10228871e+02   3.95249905e+02]\n",
      "Note: Absorber inlet is subcooled\n"
     ]
    },
    {
     "name": "stdout",
     "output_type": "stream",
     "text": [
      "218.0 31.0 137.93492603309292 6.27051179198e-05 0.0 \n",
      "\n",
      "[  3.23510692e-01   2.78637994e+02   3.12304854e+02   3.13272145e+02\n",
      "   3.10228865e+02   3.95249905e+02]\n",
      "Note: Absorber inlet is subcooled\n",
      "219.0 31.0 138.3437832789862 7.28263703382e-05 0.0 \n",
      "\n",
      "[  3.23043078e-01   2.78637989e+02   3.12304881e+02   3.13272146e+02\n",
      "   3.10228874e+02   3.95249904e+02]\n",
      "Note: Absorber inlet is subcooled\n",
      "220.0 31.0 137.7298352782445 5.81412976511e-05 30.2527135588 \n",
      "\n",
      "[  3.23298881e-01   2.78637994e+02   3.12304871e+02   3.13272146e+02\n",
      "   3.10228869e+02   3.95249905e+02]\n",
      "Note: Absorber inlet is subcooled\n",
      "221.0 31.0 138.0648716512608 6.57668283439e-05 0.0 \n",
      "\n",
      "[  3.23200198e-01   2.78637994e+02   3.12304878e+02   3.13272146e+02\n",
      "   3.10228921e+02   3.95249905e+02]\n",
      "Note: Absorber inlet is subcooled\n",
      "222.0 31.0 137.93406342834837 6.27004958696e-05 0.0 \n",
      "\n",
      "[  3.23100284e-01   2.78637991e+02   3.12304880e+02   3.13272146e+02\n",
      "   3.10228923e+02   3.95249904e+02]\n",
      "Note: Absorber inlet is subcooled\n",
      "223.0 31.0 137.80325649488984 5.9752197614e-05 11.2269654583 \n",
      "\n",
      "[  3.23201711e-01   2.78637944e+02   3.12304878e+02   3.13272146e+02\n",
      "   3.10228921e+02   3.95249905e+02]\n",
      "Note: Absorber inlet is subcooled\n",
      "224.0 31.0 137.93437475328474 6.26599586024e-05 0.0 \n",
      "\n",
      "[  3.23299823e-01   2.78637997e+02   3.12304870e+02   3.13272146e+02\n",
      "   3.10228919e+02   3.95249905e+02]\n",
      "Note: Absorber inlet is subcooled\n",
      "225.0 32.0 138.0648863875587 1.1555744577e-05 0.0 \n",
      "\n",
      "[  3.23196277e-01   2.78637994e+02   3.12304828e+02   3.13272146e+02\n",
      "   3.10228921e+02   3.95249905e+02]\n",
      "Note: Absorber inlet is subcooled\n",
      "226.0 32.0 137.92979221852897 1.09372746236e-05 0.0 \n",
      "\n",
      "[  3.23096349e-01   2.78637991e+02   3.12304830e+02   3.13272146e+02\n",
      "   3.10228923e+02   3.95249904e+02]\n",
      "Note: Absorber inlet is subcooled\n",
      "227.0 32.0 137.7989944411681 1.03703770245e-05 16.4138635888 \n",
      "\n"
     ]
    },
    {
     "data": {
      "text/plain": [
       "     fun: 154.21286840036998\n",
       "   maxcv: 0.0\n",
       " message: 'Optimization terminated successfully.'\n",
       "    nfev: 52\n",
       "  status: 1\n",
       " success: True\n",
       "       x: array([  3.23096349e-01,   2.78637991e+02,   3.12304830e+02,\n",
       "         3.13272146e+02,   3.10228923e+02,   3.95249904e+02])"
      ]
     },
     "execution_count": 159,
     "metadata": {},
     "output_type": "execute_result"
    }
   ],
   "source": [
    "P.n_calls = 7 * numpy.floor(P.n_calls / 7)\n",
    "opt = scipy.optimize.minimize(P.objective, x2, method=\"COBYLA\",\n",
    "                              constraints=P.constraints, callback=P.callback,\n",
    "                              options={'disp':True,'maxiter':100,'rhobeg':0.01})\n",
    "opt"
   ]
  },
  {
   "cell_type": "code",
   "execution_count": 182,
   "metadata": {},
   "outputs": [
    {
     "data": {
      "text/plain": [
       "array([  3.23096349e-01,   2.78637991e+02,   3.12304830e+02,\n",
       "         3.13272146e+02,   3.10228923e+02,   3.95249904e+02])"
      ]
     },
     "execution_count": 182,
     "metadata": {},
     "output_type": "execute_result"
    }
   ],
   "source": [
    "x2 = opt.x\n",
    "x2"
   ]
  },
  {
   "cell_type": "code",
   "execution_count": 161,
   "metadata": {},
   "outputs": [
    {
     "data": {
      "text/html": [
       "<h3>State points</h3>\n",
       "        <table>\n",
       "<thead>\n",
       "<tr><th>                         </th><th style=\"text-align: right;\">      T</th><th style=\"text-align: right;\">       P</th><th style=\"text-align: right;\">       x</th><th style=\"text-align: right;\">        h</th><th style=\"text-align: right;\">       s</th><th style=\"text-align: right;\">        u</th><th style=\"text-align: right;\">         v</th><th style=\"text-align: right;\">        Qu</th></tr>\n",
       "</thead>\n",
       "<tbody>\n",
       "<tr><td>rich_abs_outlet          </td><td style=\"text-align: right;\">310.229</td><td style=\"text-align: right;\"> 4.99213</td><td style=\"text-align: right;\">0.517237</td><td style=\"text-align: right;\"> -72.9791</td><td style=\"text-align: right;\">0.394813</td><td style=\"text-align: right;\"> -73.5949</td><td style=\"text-align: right;\">0.00123348</td><td style=\"text-align: right;\"> 0        </td></tr>\n",
       "<tr><td>rich_pump_outlet         </td><td style=\"text-align: right;\">310.394</td><td style=\"text-align: right;\">15.1992 </td><td style=\"text-align: right;\">0.517237</td><td style=\"text-align: right;\"> -71.4056</td><td style=\"text-align: right;\">0.395827</td><td style=\"text-align: right;\"> -73.2797</td><td style=\"text-align: right;\">0.00123301</td><td style=\"text-align: right;\">-0.001    </td></tr>\n",
       "<tr><td>rich_shx_outlet          </td><td style=\"text-align: right;\">350.055</td><td style=\"text-align: right;\">15.1992 </td><td style=\"text-align: right;\">0.517237</td><td style=\"text-align: right;\"> 110.147 </td><td style=\"text-align: right;\">0.946042</td><td style=\"text-align: right;\"> 108.164 </td><td style=\"text-align: right;\">0.00130451</td><td style=\"text-align: right;\">-0.001    </td></tr>\n",
       "<tr><td>rich_gen_sat_liquid      </td><td style=\"text-align: right;\">351.206</td><td style=\"text-align: right;\">15.1992 </td><td style=\"text-align: right;\">0.517237</td><td style=\"text-align: right;\"> 115.56  </td><td style=\"text-align: right;\">0.961482</td><td style=\"text-align: right;\"> 113.573 </td><td style=\"text-align: right;\">0.00130711</td><td style=\"text-align: right;\"> 0        </td></tr>\n",
       "<tr><td>weak_gen_outlet          </td><td style=\"text-align: right;\">395.25 </td><td style=\"text-align: right;\">15.1992 </td><td style=\"text-align: right;\">0.300604</td><td style=\"text-align: right;\"> 347.435 </td><td style=\"text-align: right;\">1.53761 </td><td style=\"text-align: right;\"> 345.533 </td><td style=\"text-align: right;\">0.00125114</td><td style=\"text-align: right;\"> 0        </td></tr>\n",
       "<tr><td>weak_shx_outlet          </td><td style=\"text-align: right;\">336.536</td><td style=\"text-align: right;\">15.1992 </td><td style=\"text-align: right;\">0.300604</td><td style=\"text-align: right;\">  84.3913</td><td style=\"text-align: right;\">0.817873</td><td style=\"text-align: right;\">  82.6393</td><td style=\"text-align: right;\">0.0011527 </td><td style=\"text-align: right;\">-0.001    </td></tr>\n",
       "<tr><td>weak_exp_outlet          </td><td style=\"text-align: right;\">336.713</td><td style=\"text-align: right;\"> 4.99213</td><td style=\"text-align: right;\">0.300604</td><td style=\"text-align: right;\">  84.3913</td><td style=\"text-align: right;\">0.821369</td><td style=\"text-align: right;\">  83.8154</td><td style=\"text-align: right;\">0.00115351</td><td style=\"text-align: right;\">-0.001    </td></tr>\n",
       "<tr><td>gen_vapor_outlet         </td><td style=\"text-align: right;\">351.206</td><td style=\"text-align: right;\">15.1992 </td><td style=\"text-align: right;\">0.988756</td><td style=\"text-align: right;\">1421.67  </td><td style=\"text-align: right;\">4.56463 </td><td style=\"text-align: right;\">1266.29  </td><td style=\"text-align: right;\">0.102232  </td><td style=\"text-align: right;\"> 1        </td></tr>\n",
       "<tr><td>gen_reflux_inlet         </td><td style=\"text-align: right;\">351.206</td><td style=\"text-align: right;\">15.1992 </td><td style=\"text-align: right;\">0.517235</td><td style=\"text-align: right;\"> 115.557 </td><td style=\"text-align: right;\">0.961473</td><td style=\"text-align: right;\"> 113.57  </td><td style=\"text-align: right;\">0.00130711</td><td style=\"text-align: right;\"> 0        </td></tr>\n",
       "<tr><td>refrig_rect_outlet       </td><td style=\"text-align: right;\">313.272</td><td style=\"text-align: right;\">15.1992 </td><td style=\"text-align: right;\">0.999869</td><td style=\"text-align: right;\">1293.92  </td><td style=\"text-align: right;\">4.18118 </td><td style=\"text-align: right;\">1164.05  </td><td style=\"text-align: right;\">0.0854417 </td><td style=\"text-align: right;\"> 0.997783 </td></tr>\n",
       "<tr><td>refrig_cond_outlet       </td><td style=\"text-align: right;\">312.305</td><td style=\"text-align: right;\">15.1992 </td><td style=\"text-align: right;\">0.999869</td><td style=\"text-align: right;\"> 186.732 </td><td style=\"text-align: right;\">0.644028</td><td style=\"text-align: right;\"> 184.105 </td><td style=\"text-align: right;\">0.00172869</td><td style=\"text-align: right;\"> 0        </td></tr>\n",
       "<tr><td>refrig_cehx_liquid_outlet</td><td style=\"text-align: right;\">295.393</td><td style=\"text-align: right;\">15.1992 </td><td style=\"text-align: right;\">0.999869</td><td style=\"text-align: right;\"> 104.452 </td><td style=\"text-align: right;\">0.373417</td><td style=\"text-align: right;\"> 101.946 </td><td style=\"text-align: right;\">0.00164842</td><td style=\"text-align: right;\">-0.001    </td></tr>\n",
       "<tr><td>refrig_exp_outlet        </td><td style=\"text-align: right;\">277.249</td><td style=\"text-align: right;\"> 4.99213</td><td style=\"text-align: right;\">0.999869</td><td style=\"text-align: right;\"> 104.452 </td><td style=\"text-align: right;\">0.387603</td><td style=\"text-align: right;\">  95.1713</td><td style=\"text-align: right;\">0.0185898 </td><td style=\"text-align: right;\"> 0.0682992</td></tr>\n",
       "<tr><td>refrig_evap_outlet       </td><td style=\"text-align: right;\">278.638</td><td style=\"text-align: right;\"> 4.99213</td><td style=\"text-align: right;\">0.999869</td><td style=\"text-align: right;\">1273.79  </td><td style=\"text-align: right;\">4.58715 </td><td style=\"text-align: right;\">1148.02  </td><td style=\"text-align: right;\">0.252636  </td><td style=\"text-align: right;\"> 0.998    </td></tr>\n",
       "<tr><td>refrig_cehx_sat_vapor    </td><td style=\"text-align: right;\">284.09 </td><td style=\"text-align: right;\"> 4.99213</td><td style=\"text-align: right;\">0.999869</td><td style=\"text-align: right;\">1290.15  </td><td style=\"text-align: right;\">4.64374 </td><td style=\"text-align: right;\">1160.97  </td><td style=\"text-align: right;\">0.258776  </td><td style=\"text-align: right;\"> 1        </td></tr>\n",
       "<tr><td>refrig_cehx_vapor_outlet </td><td style=\"text-align: right;\">310.512</td><td style=\"text-align: right;\"> 4.99213</td><td style=\"text-align: right;\">0.999869</td><td style=\"text-align: right;\">1356.07  </td><td style=\"text-align: right;\">4.86496 </td><td style=\"text-align: right;\">1211.62  </td><td style=\"text-align: right;\">0.289356  </td><td style=\"text-align: right;\"> 1.001    </td></tr>\n",
       "<tr><td>rectifier_liquid         </td><td style=\"text-align: right;\">313.272</td><td style=\"text-align: right;\">15.1992 </td><td style=\"text-align: right;\">0.973847</td><td style=\"text-align: right;\"> 172.236 </td><td style=\"text-align: right;\">0.666416</td><td style=\"text-align: right;\"> 169.66  </td><td style=\"text-align: right;\">0.00169463</td><td style=\"text-align: right;\"> 0        </td></tr>\n",
       "<tr><td>gen_vapor_formation      </td><td style=\"text-align: right;\">395.25 </td><td style=\"text-align: right;\">15.1992 </td><td style=\"text-align: right;\">0.895238</td><td style=\"text-align: right;\">1637.88  </td><td style=\"text-align: right;\">5.11174 </td><td style=\"text-align: right;\">1459.49  </td><td style=\"text-align: right;\">0.117368  </td><td style=\"text-align: right;\"> 1        </td></tr>\n",
       "<tr><td>abs_vapor_final          </td><td style=\"text-align: right;\">336.713</td><td style=\"text-align: right;\"> 4.99213</td><td style=\"text-align: right;\">0.974155</td><td style=\"text-align: right;\">1446.98  </td><td style=\"text-align: right;\">5.14349 </td><td style=\"text-align: right;\">1288.81  </td><td style=\"text-align: right;\">0.316831  </td><td style=\"text-align: right;\"> 1        </td></tr>\n",
       "</tbody>\n",
       "</table>\n",
       "        <br/>\n",
       "        <h3>Performance variables</h3>\n",
       "        <table>\n",
       "<thead>\n",
       "<tr><th>name                   </th><th>unit  </th><th style=\"text-align: right;\">         value</th></tr>\n",
       "</thead>\n",
       "<tbody>\n",
       "<tr><td>Q_abs                  </td><td>kW    </td><td style=\"text-align: right;\">-178.135      </td></tr>\n",
       "<tr><td>Q_gen                  </td><td>kW    </td><td style=\"text-align: right;\"> 187.274      </td></tr>\n",
       "<tr><td>Q_cond                 </td><td>kW    </td><td style=\"text-align: right;\">-110.824      </td></tr>\n",
       "<tr><td>Q_evap                 </td><td>kW    </td><td style=\"text-align: right;\"> 117.045      </td></tr>\n",
       "<tr><td>Q_reflux               </td><td>kW    </td><td style=\"text-align: right;\"> -15.8689     </td></tr>\n",
       "<tr><td>Q_shx                  </td><td>kW    </td><td style=\"text-align: right;\">  58.659      </td></tr>\n",
       "<tr><td>Q_cehx                 </td><td>kW    </td><td style=\"text-align: right;\">   8.23591    </td></tr>\n",
       "<tr><td>W_pump                 </td><td>kW    </td><td style=\"text-align: right;\">   0.508389   </td></tr>\n",
       "<tr><td>COP                    </td><td>kW/kW </td><td style=\"text-align: right;\">   0.624994   </td></tr>\n",
       "<tr><td>ZeroCheck              </td><td>kW    </td><td style=\"text-align: right;\">   2.9251e-05 </td></tr>\n",
       "<tr><td>ZeroCheckSHX           </td><td>kW    </td><td style=\"text-align: right;\">   5.39052e-06</td></tr>\n",
       "<tr><td>ZeroCheckCEHX          </td><td>kW    </td><td style=\"text-align: right;\">  -1.90222e-05</td></tr>\n",
       "<tr><td>Q_gen_rect_combo       </td><td>kW    </td><td style=\"text-align: right;\"> 171.405      </td></tr>\n",
       "<tr><td>Q_refrig_side          </td><td>kW    </td><td style=\"text-align: right;\">  -6.22118    </td></tr>\n",
       "<tr><td>ZeroCheckRect          </td><td>kg/s  </td><td style=\"text-align: right;\">   1.38778e-17</td></tr>\n",
       "<tr><td>m_rich                 </td><td>kg/s  </td><td style=\"text-align: right;\">   0.323096   </td></tr>\n",
       "<tr><td>m_weak                 </td><td>kg/s  </td><td style=\"text-align: right;\">   0.223001   </td></tr>\n",
       "<tr><td>m_gen_vapor            </td><td>kg/s  </td><td style=\"text-align: right;\">   0.102454   </td></tr>\n",
       "<tr><td>m_gen_reflux           </td><td>kg/s  </td><td style=\"text-align: right;\">   0.00235899 </td></tr>\n",
       "<tr><td>m_refrig               </td><td>kg/s  </td><td style=\"text-align: right;\">   0.100095   </td></tr>\n",
       "<tr><td>check_rectifier_delta_T</td><td>K     </td><td style=\"text-align: right;\">  37.9343     </td></tr>\n",
       "<tr><td>is_degenerate          </td><td>bool  </td><td style=\"text-align: right;\">   0          </td></tr>\n",
       "</tbody>\n",
       "</table>\n",
       "        "
      ],
      "text/plain": [
       "                                 T         P         x          h         s          u           v          Qu\n",
       "-------------------------  -------  --------  --------  ---------  --------  ---------  ----------  ----------\n",
       "rich_abs_outlet            310.229   4.99213  0.517237   -72.9791  0.394813   -73.5949  0.00123348   0\n",
       "rich_pump_outlet           310.394  15.1992   0.517237   -71.4056  0.395827   -73.2797  0.00123301  -0.001\n",
       "rich_shx_outlet            350.055  15.1992   0.517237   110.147   0.946042   108.164   0.00130451  -0.001\n",
       "rich_gen_sat_liquid        351.206  15.1992   0.517237   115.56    0.961482   113.573   0.00130711   0\n",
       "weak_gen_outlet            395.25   15.1992   0.300604   347.435   1.53761    345.533   0.00125114   0\n",
       "weak_shx_outlet            336.536  15.1992   0.300604    84.3913  0.817873    82.6393  0.0011527   -0.001\n",
       "weak_exp_outlet            336.713   4.99213  0.300604    84.3913  0.821369    83.8154  0.00115351  -0.001\n",
       "gen_vapor_outlet           351.206  15.1992   0.988756  1421.67    4.56463   1266.29    0.102232     1\n",
       "gen_reflux_inlet           351.206  15.1992   0.517235   115.557   0.961473   113.57    0.00130711   0\n",
       "refrig_rect_outlet         313.272  15.1992   0.999869  1293.92    4.18118   1164.05    0.0854417    0.997783\n",
       "refrig_cond_outlet         312.305  15.1992   0.999869   186.732   0.644028   184.105   0.00172869   0\n",
       "refrig_cehx_liquid_outlet  295.393  15.1992   0.999869   104.452   0.373417   101.946   0.00164842  -0.001\n",
       "refrig_exp_outlet          277.249   4.99213  0.999869   104.452   0.387603    95.1713  0.0185898    0.0682992\n",
       "refrig_evap_outlet         278.638   4.99213  0.999869  1273.79    4.58715   1148.02    0.252636     0.998\n",
       "refrig_cehx_sat_vapor      284.09    4.99213  0.999869  1290.15    4.64374   1160.97    0.258776     1\n",
       "refrig_cehx_vapor_outlet   310.512   4.99213  0.999869  1356.07    4.86496   1211.62    0.289356     1.001\n",
       "rectifier_liquid           313.272  15.1992   0.973847   172.236   0.666416   169.66    0.00169463   0\n",
       "gen_vapor_formation        395.25   15.1992   0.895238  1637.88    5.11174   1459.49    0.117368     1\n",
       "abs_vapor_final            336.713   4.99213  0.974155  1446.98    5.14349   1288.81    0.316831     1\n",
       "name                     unit             value\n",
       "-----------------------  ------  --------------\n",
       "Q_abs                    kW      -178.135\n",
       "Q_gen                    kW       187.274\n",
       "Q_cond                   kW      -110.824\n",
       "Q_evap                   kW       117.045\n",
       "Q_reflux                 kW       -15.8689\n",
       "Q_shx                    kW        58.659\n",
       "Q_cehx                   kW         8.23591\n",
       "W_pump                   kW         0.508389\n",
       "COP                      kW/kW      0.624994\n",
       "ZeroCheck                kW         2.9251e-05\n",
       "ZeroCheckSHX             kW         5.39052e-06\n",
       "ZeroCheckCEHX            kW        -1.90222e-05\n",
       "Q_gen_rect_combo         kW       171.405\n",
       "Q_refrig_side            kW        -6.22118\n",
       "ZeroCheckRect            kg/s       1.38778e-17\n",
       "m_rich                   kg/s       0.323096\n",
       "m_weak                   kg/s       0.223001\n",
       "m_gen_vapor              kg/s       0.102454\n",
       "m_gen_reflux             kg/s       0.00235899\n",
       "m_refrig                 kg/s       0.100095\n",
       "check_rectifier_delta_T  K         37.9343\n",
       "is_degenerate            bool       0"
      ]
     },
     "metadata": {},
     "output_type": "display_data"
    }
   ],
   "source": [
    "ch2 = system_aqua1.makeChiller(x2)\n",
    "display(ch2)"
   ]
  },
  {
   "cell_type": "code",
   "execution_count": 162,
   "metadata": {},
   "outputs": [
    {
     "data": {
      "text/plain": [
       "[0.22309634851689678,\n",
       " 0.67690365148310327,\n",
       " 32.666838464731313,\n",
       " 0.86731647569055215,\n",
       " 21.590932006864364,\n",
       " 80.97775799049748,\n",
       " 84.020980924054982]"
      ]
     },
     "execution_count": 162,
     "metadata": {},
     "output_type": "execute_result"
    }
   ],
   "source": [
    "P.constraint(x2)"
   ]
  },
  {
   "cell_type": "code",
   "execution_count": 163,
   "metadata": {},
   "outputs": [
    {
     "name": "stdout",
     "output_type": "stream",
     "text": [
      "Note: Absorber inlet is subcooled\n"
     ]
    },
    {
     "name": "stderr",
     "output_type": "stream",
     "text": [
      "C:\\Users\\nfette\\Miniconda3\\envs\\openACHP\\lib\\site-packages\\scipy\\interpolate\\_cubic.py:147: RuntimeWarning: divide by zero encountered in true_divide\n",
      "  mk = (y[1:] - y[:-1]) / hk\n",
      "C:\\Users\\nfette\\Miniconda3\\envs\\openACHP\\lib\\site-packages\\scipy\\interpolate\\_cubic.py:165: RuntimeWarning: invalid value encountered in true_divide\n",
      "  whmean = (w1/mk[:-1] + w2/mk[1:]) / (w1 + w2)\n"
     ]
    },
    {
     "data": {
      "text/html": [
       "<table>\n",
       "<thead>\n",
       "<tr><th>name  </th><th style=\"text-align: right;\">  deltaT</th><th style=\"text-align: right;\">  epsilon</th><th style=\"text-align: right;\">       UA</th><th style=\"text-align: right;\">       Q</th></tr>\n",
       "</thead>\n",
       "<tbody>\n",
       "<tr><td>gen   </td><td style=\"text-align: right;\">4.75025 </td><td style=\"text-align: right;\"> 0.92018 </td><td style=\"text-align: right;\"> 28.5516 </td><td style=\"text-align: right;\">187.274 </td></tr>\n",
       "<tr><td>rect  </td><td style=\"text-align: right;\">8.15244 </td><td style=\"text-align: right;\"> 0.782637</td><td style=\"text-align: right;\">  1.12489</td><td style=\"text-align: right;\"> 15.8689</td></tr>\n",
       "<tr><td>abs   </td><td style=\"text-align: right;\">1.1977  </td><td style=\"text-align: right;\"> 0.940514</td><td style=\"text-align: right;\"> 42.4473 </td><td style=\"text-align: right;\">178.135 </td></tr>\n",
       "<tr><td>cond  </td><td style=\"text-align: right;\">2.31615 </td><td style=\"text-align: right;\"> 0.96672 </td><td style=\"text-align: right;\"> 26.5502 </td><td style=\"text-align: right;\">110.824 </td></tr>\n",
       "<tr><td>evap  </td><td style=\"text-align: right;\">0.749386</td><td style=\"text-align: right;\"> 0.983799</td><td style=\"text-align: right;\"> 39.125  </td><td style=\"text-align: right;\">117.045 </td></tr>\n",
       "<tr><td>total </td><td style=\"text-align: right;\">0       </td><td style=\"text-align: right;\"> 0       </td><td style=\"text-align: right;\">137.799  </td><td style=\"text-align: right;\">  0     </td></tr>\n",
       "</tbody>\n",
       "</table>"
      ],
      "text/plain": [
       "name      deltaT    epsilon        UA         Q\n",
       "------  --------  ---------  --------  --------\n",
       "gen     4.75025    0.92018   28.5516   187.274\n",
       "rect    8.15244    0.782637   1.12489   15.8689\n",
       "abs     1.1977     0.940514  42.4473   178.135\n",
       "cond    2.31615    0.96672   26.5502   110.824\n",
       "evap    0.749386   0.983799  39.125    117.045\n",
       "totalUA = 137.7989944411681"
      ]
     },
     "execution_count": 163,
     "metadata": {},
     "output_type": "execute_result"
    }
   ],
   "source": [
    "sys2 = system_aqua1.System(bdry, ch2)\n",
    "sys2"
   ]
  },
  {
   "cell_type": "code",
   "execution_count": 183,
   "metadata": {},
   "outputs": [
    {
     "name": "stdout",
     "output_type": "stream",
     "text": [
      "Note: Absorber inlet is subcooled\n"
     ]
    },
    {
     "name": "stderr",
     "output_type": "stream",
     "text": [
      "C:\\Users\\nfette\\Miniconda3\\envs\\openACHP\\lib\\site-packages\\scipy\\interpolate\\_cubic.py:147: RuntimeWarning: divide by zero encountered in true_divide\n",
      "  mk = (y[1:] - y[:-1]) / hk\n",
      "C:\\Users\\nfette\\Miniconda3\\envs\\openACHP\\lib\\site-packages\\scipy\\interpolate\\_cubic.py:165: RuntimeWarning: invalid value encountered in true_divide\n",
      "  whmean = (w1/mk[:-1] + w2/mk[1:]) / (w1 + w2)\n"
     ]
    },
    {
     "name": "stdout",
     "output_type": "stream",
     "text": [
      "Note: Absorber inlet is subcooled\n",
      "Note: Absorber inlet is subcooled\n",
      "Note: Absorber inlet is subcooled\n"
     ]
    },
    {
     "name": "stderr",
     "output_type": "stream",
     "text": [
      "C:\\Users\\nfette\\Miniconda3\\envs\\openACHP\\lib\\site-packages\\scipy\\integrate\\quadpack.py:364: IntegrationWarning: The maximum number of subdivisions (50) has been achieved.\n",
      "  If increasing the limit yields no improvement it is advised to analyze \n",
      "  the integrand in order to determine the difficulties.  If the position of a \n",
      "  local difficulty can be determined (singularity, discontinuity) one will \n",
      "  probably gain from splitting up the interval and calling the integrator \n",
      "  on the subranges.  Perhaps a special-purpose integrator should be used.\n",
      "  warnings.warn(msg, IntegrationWarning)\n"
     ]
    },
    {
     "name": "stdout",
     "output_type": "stream",
     "text": [
      "Note: Absorber inlet is subcooled\n",
      "Note: Absorber inlet is subcooled\n",
      "Note: Absorber inlet is subcooled\n",
      "Note: Absorber inlet is subcooled\n",
      "Note: Absorber inlet is subcooled\n",
      "Note: Absorber inlet is subcooled\n",
      "Note: Absorber inlet is subcooled\n",
      "Note: Absorber inlet is subcooled\n",
      "Note: Absorber inlet is subcooled\n",
      "Note: Absorber inlet is subcooled\n",
      "Note: Absorber inlet is subcooled\n",
      "Note: Absorber inlet is subcooled\n",
      "Note: Absorber inlet is subcooled\n",
      "Note: Absorber inlet is subcooled\n",
      "Note: Absorber inlet is subcooled\n",
      "Note: Absorber inlet is subcooled\n",
      "Note: Absorber inlet is subcooled\n",
      "Note: Absorber inlet is subcooled\n",
      "Note: Absorber inlet is subcooled\n",
      "Note: Absorber inlet is subcooled\n"
     ]
    },
    {
     "name": "stderr",
     "output_type": "stream",
     "text": [
      "C:\\Users\\nfette\\Miniconda3\\envs\\openACHP\\lib\\site-packages\\scipy\\integrate\\quadpack.py:364: IntegrationWarning: The occurrence of roundoff error is detected, which prevents \n",
      "  the requested tolerance from being achieved.  The error may be \n",
      "  underestimated.\n",
      "  warnings.warn(msg, IntegrationWarning)\n"
     ]
    },
    {
     "name": "stdout",
     "output_type": "stream",
     "text": [
      "Note: Absorber inlet is subcooled\n",
      "Note: Absorber inlet is subcooled\n",
      "Note: Absorber inlet is subcooled\n",
      "Note: Absorber inlet is subcooled\n",
      "Note: Absorber inlet is subcooled\n",
      "Note: Absorber inlet is subcooled\n"
     ]
    }
   ],
   "source": [
    "box = numpy.ones_like(x2)\n",
    "box[0] = 0.05\n",
    "ss = numpy.linspace(-1,1,5)\n",
    "yyy = numpy.zeros([len(box),len(ss)])\n",
    "for i,boxi in enumerate(box):\n",
    "    yy = numpy.zeros_like(ss)\n",
    "    for j, s in enumerate(ss):\n",
    "        x_vary = x2.copy()\n",
    "        x_vary[i] += boxi * s\n",
    "        yyy[i,j] = P.objective_raw(x_vary)\n",
    "        if (numpy.array(P.constraint(x_vary)) < 0).any():\n",
    "            yyy[i,j] = numpy.nan"
   ]
  },
  {
   "cell_type": "code",
   "execution_count": 184,
   "metadata": {},
   "outputs": [
    {
     "data": {
      "text/plain": [
       "array([[  92.85015493,  111.63476306,  137.79899444,  191.02442712,\n",
       "                  inf],\n",
       "       [ 116.37203437,  125.02773452,  137.79899444,  170.21816617,\n",
       "                  inf],\n",
       "       [ 160.89854932,  147.57478175,  137.79899444,  130.09642707,\n",
       "                  nan],\n",
       "       [          nan,  137.81416839,  137.79899444,  137.78949491,\n",
       "         137.78336925],\n",
       "       [ 209.06261669,  155.59632572,  137.79899444,  126.91870377,\n",
       "         119.04386542],\n",
       "       [ 129.11684491,  133.29755777,  137.79899444,  142.67851534,\n",
       "         148.01130393]])"
      ]
     },
     "execution_count": 184,
     "metadata": {},
     "output_type": "execute_result"
    }
   ],
   "source": [
    "yyy"
   ]
  },
  {
   "cell_type": "code",
   "execution_count": 187,
   "metadata": {},
   "outputs": [
    {
     "data": {
      "image/png": "[encoded data removed]",
      "text/plain": [
       "<matplotlib.figure.Figure at 0x616b430>"
      ]
     },
     "metadata": {},
     "output_type": "display_data"
    }
   ],
   "source": [
    "plt.close('all')\n",
    "plt.figure(figsize=(10, 4))\n",
    "ax1=plt.subplot(1,len(box), 1)\n",
    "for i,_ in enumerate(box):\n",
    "    ax=plt.subplot(1, len(box), i+1, sharey=ax1)\n",
    "    xxx = x2[i] + ss * box[i]\n",
    "    plt.plot(xxx, yyy[i,:], 'o-')\n",
    "    plt.setp(ax.get_yticklabels(), visible=bool(i==0))\n",
    "    plt.xlim(min(xxx),max(xxx))\n",
    "#plt.ylim(min(yyy.flat)*0.9,min(yyy.flat))\n",
    "plt.show()"
   ]
  },
  {
   "cell_type": "markdown",
   "metadata": {},
   "source": [
    "The sensitivity plot could go further by overlaying the constraint functions. Additionally, it would be nice to find the eigenvectors of the objective function and trace in those directions, indicating how far it is to the next constraint. But that is icing on the cake, so meanwhile I will continue with this approach in a new notebook and generate some parametric study data."
   ]
  },
  {
   "cell_type": "markdown",
   "metadata": {},
   "source": [
    "# Scratch work"
   ]
  },
  {
   "cell_type": "code",
   "execution_count": 15,
   "metadata": {
    "scrolled": false
   },
   "outputs": [
    {
     "data": {
      "text/plain": [
       "(1076, 0.0)"
      ]
     },
     "execution_count": 15,
     "metadata": {},
     "output_type": "execute_result"
    }
   ],
   "source": [
    "a=5\n",
    "for i in range(9999):\n",
    "    a*=0.5\n",
    "    if a==0:\n",
    "        break\n",
    "i,a"
   ]
  },
  {
   "cell_type": "code",
   "execution_count": 25,
   "metadata": {},
   "outputs": [
    {
     "data": {
      "text/plain": [
       "array([ 0.25,  0.5 ,  0.75,  1.  ])"
      ]
     },
     "execution_count": 25,
     "metadata": {},
     "output_type": "execute_result"
    }
   ],
   "source": [
    "gradient_step = numpy.array([1.,2.,3.,4.])\n",
    "for j, _ in enumerate(gradient_step):\n",
    "    for i in range(2):\n",
    "        gradient_step[j] *= 0.5\n",
    "gradient_step"
   ]
  },
  {
   "cell_type": "code",
   "execution_count": 30,
   "metadata": {},
   "outputs": [
    {
     "data": {
      "text/plain": [
       "array([ 0.,  0.,  0.,  1.])"
      ]
     },
     "execution_count": 30,
     "metadata": {},
     "output_type": "execute_result"
    }
   ],
   "source": [
    "numpy.diag(gradient_step)[3]"
   ]
  },
  {
   "cell_type": "code",
   "execution_count": 3,
   "metadata": {},
   "outputs": [
    {
     "data": {
      "text/html": [
       "<pre id=\"TOC-markdown\">TOC will be here</pre>\n",
       "<script>\n",
       "$(\"#TOC-markdown\").html(\n",
       "    $('h1,h2,h3,h4').filter(\":has(a)\").map(function(){return \"  \".repeat($(this).prop(\"tagName\")[1]) + \"- [\"+$(this).text()+\"](\" + $(this).children().attr(\"href\") + \")\";}).get().join(\"\\n\")\n",
       "    );\n",
       "</script>"
      ],
      "text/plain": [
       "<IPython.core.display.HTML object>"
      ]
     },
     "metadata": {},
     "output_type": "display_data"
    }
   ],
   "source": [
    "%%html\n",
    "<pre id=\"TOC-markdown\">TOC will be here</pre>\n",
    "<script>\n",
    "$(\"#TOC-markdown\").html(\n",
    "    $('h1,h2,h3,h4').filter(\":has(a)\").map(function(){return \"  \".repeat($(this).prop(\"tagName\")[1]) + \"- [\"+$(this).text()+\"](\" + $(this).children().attr(\"href\") + \")\";}).get().join(\"\\n\")\n",
    "    );\n",
    "</script>"
   ]
  },
  {
   "cell_type": "code",
   "execution_count": null,
   "metadata": {
    "collapsed": true
   },
   "outputs": [],
   "source": []
  }
 ],
 "metadata": {
  "celltoolbar": "Raw Cell Format",
  "kernelspec": {
   "display_name": "Python 3",
   "language": "python",
   "name": "python3"
  },
  "language_info": {
   "codemirror_mode": {
    "name": "ipython",
    "version": 3
   },
   "file_extension": ".py",
   "mimetype": "text/x-python",
   "name": "python",
   "nbconvert_exporter": "python",
   "pygments_lexer": "ipython3",
   "version": "3.6.2"
  }
 },
 "nbformat": 4,
 "nbformat_minor": 2
}
