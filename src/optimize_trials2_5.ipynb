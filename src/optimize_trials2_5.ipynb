{
 "cells": [
  {
   "cell_type": "markdown",
   "metadata": {},
   "source": [
    "[Go to this directory index](./)\n",
    "\n",
    "Contents\n",
    "  - [Optimization method 2.5 parametric studies¶](#Optimization-method-2.5-parametric-studies)\n",
    "      - [Trial 2.5¶](#Trial-2.5)\n",
    "  - [Scratch work¶](#Scratch-work)"
   ]
  },
  {
   "cell_type": "markdown",
   "metadata": {},
   "source": [
    "# Optimization method 2.5 parametric studies"
   ]
  },
  {
   "cell_type": "markdown",
   "metadata": {},
   "source": [
    "Previously, I obtained reasonable convergence on optima using a two-step strategy: first, simply enforce feasibility and optimize cooling output without regard to cost; then for any given cooling output goal less than the maximum, enforce that as a constraint and optimize system cost (from size and flow parameters). With some art in selecting constraint functions, I implemented this using the COBYLA optimization routine.\n",
    "\n",
    "Since that method can be made to work, let's do a parametric study in two parameters: temperature for heat rejection (T) and cost (UA). For each heat reject temperature, we will determine the maximum cooling (Q_max), then build a cost vs cooling curve. The data should form a surface of points (T,UA,Q). We can also visualize that surface by projecting and plotting isolines, for example, isolines of UA on a (T,Q) plot."
   ]
  },
  {
   "cell_type": "markdown",
   "metadata": {},
   "source": [
    "## Setup"
   ]
  },
  {
   "cell_type": "code",
   "execution_count": 1,
   "metadata": {
    "scrolled": false
   },
   "outputs": [],
   "source": [
    "%load_ext autoreload\n",
    "%autoreload 2"
   ]
  },
  {
   "cell_type": "code",
   "execution_count": 2,
   "metadata": {
    "collapsed": true,
    "scrolled": false
   },
   "outputs": [],
   "source": [
    "import matplotlib\n",
    "import numpy\n",
    "from IPython.display import HTML, SVG, clear_output"
   ]
  },
  {
   "cell_type": "code",
   "execution_count": 3,
   "metadata": {
    "collapsed": true,
    "scrolled": false
   },
   "outputs": [],
   "source": [
    "#matplotlib.use('svg')\n",
    "import matplotlib.pyplot as plt\n",
    "plt.rcParams['svg.fonttype'] = 'none'\n",
    "plt.rcParams['font.sans-serif'] = 'Arial'"
   ]
  },
  {
   "cell_type": "code",
   "execution_count": 4,
   "metadata": {
    "collapsed": true
   },
   "outputs": [],
   "source": [
    "from io import BytesIO\n",
    "def pltsvg():\n",
    "    imgdata = BytesIO()\n",
    "    plt.savefig(imgdata)\n",
    "    imgdata.seek(0)\n",
    "    display(SVG(data=imgdata.read()))"
   ]
  },
  {
   "cell_type": "code",
   "execution_count": 5,
   "metadata": {
    "collapsed": true
   },
   "outputs": [],
   "source": [
    "import ammonia1\n",
    "import system_aqua1\n",
    "import scipy.optimize"
   ]
  },
  {
   "cell_type": "code",
   "execution_count": 6,
   "metadata": {
    "collapsed": true
   },
   "outputs": [],
   "source": [
    "def saturate(x, bottom=-numpy.inf, top=0):\n",
    "    a_bottom = numpy.empty_like(x)\n",
    "    a_top = numpy.empty_like(x)\n",
    "    a_bottom.fill(bottom)\n",
    "    a_top.fill(top)\n",
    "    return numpy.minimum(a_top,\n",
    "                         numpy.maximum(a_bottom,\n",
    "                                       x))\n",
    "\n",
    "def barrier1(c, length_scale):\n",
    "    \"\"\"The domain for B is the feasible set only.\n",
    "    We want B large near boundary, but small elsewhere.\n",
    "    Feasible means c > 0 and g < 0. Please input c.\n",
    "    \"\"\"\n",
    "    g = numpy.negative(c)\n",
    "    b = numpy.exp(g / length_scale)\n",
    "    return numpy.sum(b)\n",
    "\n",
    "def decay1(step_number, initial_value = 1., rate = 1.):\n",
    "    \"\"\"A decaying function to scale barrier functions.\n",
    "    step_number: as this increases, I decay.\n",
    "    initial_value: value when step_number = 0.\n",
    "    decay_rate: how fast to decay.\n",
    "    \"\"\"\n",
    "    # Magnitude tends to zero, slowly\n",
    "    mu_B = initial_value * numpy.exp(-rate * step_number)\n",
    "    return mu_B        \n",
    "\n",
    "def penalty1(c, length_scale):\n",
    "    \"\"\"We want P = 0 for feasible, P > 0 elsewhere\n",
    "    Feasible means c > 0 and g < 0.\n",
    "    \"\"\"\n",
    "    g = numpy.negative(c)\n",
    "    g = saturate(g,bottom=0,top=numpy.inf)\n",
    "    p = (g / length_scale)**2\n",
    "    return numpy.sum(p)\n",
    "\n",
    "def grow1(step_number, initial_value = 1., rate = 1.):\n",
    "    \"\"\"A growing function to scale penalty functions.\"\"\"\n",
    "    # Magnitude tends to infinite, bit more quickly\n",
    "    mu_P = initial_value * numpy.exp(rate * step_number)\n",
    "    return mu_P\n"
   ]
  },
  {
   "cell_type": "code",
   "execution_count": 16,
   "metadata": {},
   "outputs": [
    {
     "data": {
      "image/png": "[encoded data removed]",
      "text/plain": [
       "<matplotlib.figure.Figure at 0x87b24b0>"
      ]
     },
     "metadata": {},
     "output_type": "display_data"
    }
   ],
   "source": [
    "step_number = numpy.arange(50)\n",
    "mu_B = decay1(step_number,initial_value=1000,rate=0.2)\n",
    "mu_P = grow1(step_number,initial_value=1,rate=0.2)\n",
    "plt.close('all')\n",
    "plt.figure()\n",
    "plt.semilogy(step_number,mu_B,'r',label='barrier')\n",
    "plt.semilogy(step_number,mu_P,'b',label='penalty')\n",
    "plt.xlabel('Optimization step number')\n",
    "plt.ylabel('Scaling for constraint function')\n",
    "plt.legend()\n",
    "plt.show()"
   ]
  },
  {
   "cell_type": "markdown",
   "metadata": {},
   "source": [
    "### Trial 2.5\n",
    "An extension of a previous idea, kind of the dual problem -- Perform optimization in two steps: first with no constraint on UA (cost) to determine maximum Q (output). Then for each Q in a set of lesser values, optimize with respect to cost. This will deliver an optimal cost vs output curve.\n",
    "\n",
    "For the first step, since we are not interested in UA, we can be less strict with the constraints on heat exchange feasibility. Specifically, we can impose them via penalty constraints instead of barrier constraints."
   ]
  },
  {
   "cell_type": "code",
   "execution_count": 21,
   "metadata": {},
   "outputs": [],
   "source": [
    "class Problem_2_5_A:\n",
    "    def __init__(self, bdry, mu=0.1):\n",
    "        self.bdry = bdry\n",
    "        self.mu = mu\n",
    "        self.Ncons = 7\n",
    "        self.n_calls = 0\n",
    "        # Soft constraints mode: this is sent to minimizer\n",
    "        self.constraints = [{'type': 'ineq',\n",
    "                             'fun': self.constraint,\n",
    "                             'args': (i,)\n",
    "                            } for i in range(self.Ncons)]\n",
    "            \n",
    "    def objective(self, xC):\n",
    "        step_number = numpy.floor(self.n_calls / 7)\n",
    "        self.n_calls += 1\n",
    "        # print(xC,flush=True)\n",
    "        Q,B,P = 0.,0.,0.\n",
    "        try:\n",
    "            ch = system_aqua1.makeChiller(xC)\n",
    "            sys = system_aqua1.System(self.bdry, ch)\n",
    "            \n",
    "            # Barriers\n",
    "            # Magnitude tends to zero, slowly\n",
    "            mu_B = 1000. * numpy.exp(-0.1 * step_number)\n",
    "            length_scale_b = 1\n",
    "            # Or ... magnitude fixed, but shape changes\n",
    "            mu_B = 1000\n",
    "            length_scale_b = 1 * numpy.exp(-0.1 * step_number)\n",
    "            \n",
    "            # These are zero at the boundary ...\n",
    "            barriers = [ch.check_rectifier_delta_T]                        \n",
    "            B = mu_B * barrier1(barriers,length_scale_b)\n",
    "            \n",
    "            # Penalties\n",
    "            # Magnitude tends to infinite\n",
    "            mu_P = 1 * numpy.exp(0.3 * step_number)\n",
    "            penalties = [deltaT - 0.01\n",
    "                         for name, deltaT, epsilon, UA, Qhx in sys.data]\n",
    "            P = mu_P * penalty1(penalties,1)\n",
    "            \n",
    "            Q = sys.chiller.Q_evap\n",
    "        except KeyboardInterrupt as e:\n",
    "            raise e\n",
    "        except:\n",
    "            Q = numpy.inf\n",
    "        \n",
    "        print(self.n_calls, step_number, Q, B, P, \"\\n\", flush=True)\n",
    "        return -Q + B + P\n",
    "    \n",
    "    def constraint(self, x, *args):\n",
    "        cons = [x[0] - 0.1,\n",
    "                1. - x[0],\n",
    "                x[2] - x[1] - 1.0,\n",
    "                x[3] - x[2] - 0.1,\n",
    "                x[4] - x[1] - 10.0,\n",
    "                x[5] - x[3] - 1.0,\n",
    "                x[5] - x[4] - 1.0]\n",
    "        if len(args) > 0:\n",
    "            i, = args\n",
    "            return cons[i]\n",
    "        else:\n",
    "            return cons\n",
    "\n",
    "    def callback(self, x):\n",
    "        print(\"Did an iteration at \", x)"
   ]
  },
  {
   "cell_type": "code",
   "execution_count": 41,
   "metadata": {
    "collapsed": true
   },
   "outputs": [],
   "source": [
    "class Problem_2_5_B:\n",
    "    def __init__(self, bdry, Q_goal, mu=0.1):\n",
    "        self.bdry = bdry\n",
    "        self.Q_goal = Q_goal\n",
    "        self.mu = mu\n",
    "        self.Ncons = 7\n",
    "        self.n_calls = 0\n",
    "        # Soft constraints mode: this is sent to minimizer\n",
    "        self.constraints = [{'type': 'ineq',\n",
    "                             'fun': self.constraint,\n",
    "                             'args': (i,)\n",
    "                            } for i in range(self.Ncons)]\n",
    "            \n",
    "    def objective_raw(self, xC):\n",
    "        try:\n",
    "            ch = system_aqua1.makeChiller(xC)\n",
    "            sys = system_aqua1.System(self.bdry, ch)\n",
    "            UA = sys.totalUA\n",
    "        except:\n",
    "            UA = numpy.nan\n",
    "        return UA\n",
    "\n",
    "        \n",
    "    def objective(self, xC):\n",
    "        step_number = numpy.floor(self.n_calls / 7)\n",
    "        self.n_calls += 1\n",
    "        #print(xC,flush=True)\n",
    "        UA,B,P = 0.,0.,0.\n",
    "        try:\n",
    "            ch = system_aqua1.makeChiller(xC)\n",
    "            sys = system_aqua1.System(self.bdry, ch)\n",
    "            \n",
    "            # Barriers\n",
    "            # Magnitude tends to zero, slowly\n",
    "            mu_B = 1000. * numpy.exp(-0.1 * step_number)\n",
    "            length_scale_b = 1\n",
    "            # Or ... magnitude fixed, but shape changes\n",
    "            mu_B = 1000\n",
    "            length_scale_b = 1 * numpy.exp(-0.1 * step_number)\n",
    "            \n",
    "            # These are zero at the boundary ...\n",
    "            barriers = [ch.check_rectifier_delta_T] \\\n",
    "                       + [deltaT\n",
    "                          for name, deltaT, epsilon, UA, Qhx in sys.data]\n",
    "            B = mu_B * barrier1(barriers,length_scale_b)\n",
    "            \n",
    "            # Penalties\n",
    "            # Magnitude tends to infinite\n",
    "            mu_P = 1 * numpy.exp(0.3 * step_number)\n",
    "            penalties = [ch.Q_evap - self.Q_goal]\n",
    "            P = mu_P * penalty1(penalties,1)\n",
    "            \n",
    "            UA = sys.totalUA\n",
    "        except KeyboardInterrupt as e:\n",
    "            raise e\n",
    "        except:\n",
    "            UA = numpy.inf\n",
    "        \n",
    "        # print(self.n_calls, step_number, UA, B, P, \"\\n\", flush=True)\n",
    "        return UA + B + P\n",
    "    \n",
    "    def constraint(self, x, *args):\n",
    "        cons = [x[0] - 0.1,\n",
    "                1. - x[0],\n",
    "                x[2] - x[1] - 1.0,\n",
    "                x[3] - x[2] - 0.1,\n",
    "                x[4] - x[1] - 10.0,\n",
    "                x[5] - x[3] - 1.0,\n",
    "                x[5] - x[4] - 1.0]\n",
    "        if len(args) > 0:\n",
    "            i, = args\n",
    "            return cons[i]\n",
    "        else:\n",
    "            return cons\n",
    "\n",
    "    def callback(self, x):\n",
    "        print(\"Did an iteration at \", x)"
   ]
  },
  {
   "cell_type": "markdown",
   "metadata": {},
   "source": [
    "## Parametric study across T_heat_reject"
   ]
  },
  {
   "cell_type": "code",
   "execution_count": 9,
   "metadata": {
    "collapsed": true
   },
   "outputs": [],
   "source": [
    "def display_result(x):\n",
    "    try:\n",
    "        ch = system_aqua1.makeChiller(x)\n",
    "        sys = system_aqua1.System(bdry, ch)\n",
    "        display(sys)\n",
    "    except KeyboardInterrupt as e:\n",
    "        raise e\n",
    "    except Exception as e:\n",
    "        display(e)"
   ]
  },
  {
   "cell_type": "code",
   "execution_count": 23,
   "metadata": {
    "collapsed": true
   },
   "outputs": [],
   "source": [
    "t_heat_reject_range = 273.15 + numpy.arange(20,61,5)\n",
    "opts = [None] * len(t_heat_reject_range)"
   ]
  },
  {
   "cell_type": "code",
   "execution_count": 24,
   "metadata": {},
   "outputs": [
    {
     "name": "stdout",
     "output_type": "stream",
     "text": [
      "Case 0, T_heat_reject = 293.15 K\n"
     ]
    },
    {
     "name": "stderr",
     "output_type": "stream",
     "text": [
      "C:\\Users\\nfette\\Miniconda3\\envs\\openACHP\\lib\\site-packages\\scipy\\optimize\\_minimize.py:403: RuntimeWarning: Method COBYLA does not support callback.\n",
      "  warn('Method %s does not support callback.' % method, RuntimeWarning)\n"
     ]
    },
    {
     "name": "stdout",
     "output_type": "stream",
     "text": [
      "Note: Absorber inlet is subcooled\n"
     ]
    },
    {
     "name": "stderr",
     "output_type": "stream",
     "text": [
      "C:\\Users\\nfette\\Miniconda3\\envs\\openACHP\\lib\\site-packages\\scipy\\interpolate\\_cubic.py:147: RuntimeWarning: divide by zero encountered in true_divide\n",
      "  mk = (y[1:] - y[:-1]) / hk\n",
      "C:\\Users\\nfette\\Miniconda3\\envs\\openACHP\\lib\\site-packages\\scipy\\interpolate\\_cubic.py:165: RuntimeWarning: invalid value encountered in true_divide\n",
      "  whmean = (w1/mk[:-1] + w2/mk[1:]) / (w1 + w2)\n"
     ]
    },
    {
     "name": "stdout",
     "output_type": "stream",
     "text": [
      "211 30.0 29.3426607866 8.88824099481e-197 2045.94701491 \n",
      "\n",
      "Note: Absorber inlet is subcooled\n",
      "212 30.0 88.0279823597 8.88824099481e-197 2045.95661909 \n",
      "\n",
      "Note: Absorber inlet is subcooled\n",
      "213 30.0 88.2479969814 9.83458747162e-196 1914.60615648 \n",
      "\n",
      "Note: Absorber inlet is subcooled\n",
      "214 30.0 88.1631796043 1.01618763273e-196 1822.45823884 \n",
      "\n",
      "Note: Absorber inlet is subcooled\n",
      "215 30.0 88.1631796043 7.57316972933e-196 1822.45823884 \n",
      "\n",
      "Note: Absorber inlet is subcooled\n",
      "216 30.0 87.9564109646 1.14805121731e-197 1280.0294175 \n",
      "\n",
      "Note: Absorber inlet is subcooled\n",
      "217 30.0 88.005971887 1.14805121731e-197 1299.88010459 \n",
      "\n",
      "Note: Absorber inlet is subcooled\n",
      "218 31.0 93.8320709629 1.33399233081e-219 1108.62680934 \n",
      "\n",
      "Note: Absorber inlet is subcooled\n",
      "219 31.0 98.1737330263 6.74568544905e-221 997.074130878 \n",
      "\n",
      "Note: Absorber inlet is subcooled\n",
      "220 31.0 100.308567159 9.12443222761e-220 958.766363235 \n",
      "\n",
      "Note: Absorber inlet is subcooled\n",
      "221 31.0 71.4845744468 9.15266871564e-220 933.779022092 \n",
      "\n",
      "Note: Absorber inlet is subcooled\n",
      "222 31.0 97.0616889387 4.12655677271e-221 741.465219588 \n",
      "\n",
      "Note: Absorber inlet is subcooled\n",
      "223 31.0 99.4711228517 1.43570110793e-222 441.739880582 \n",
      "\n",
      "Note: Absorber inlet is subcooled\n",
      "224 31.0 66.585058418 4.49320268438e-224 281.583250937 \n",
      "\n",
      "Note: Absorber inlet is subcooled\n",
      "225 32.0 81.6062965234 9.4942395904e-249 129.743899363 \n",
      "\n",
      "Note: Absorber inlet is subcooled\n",
      "226 32.0 94.6431130724 1.99276117038e-249 21.9105390141 \n",
      "\n",
      "Note: Absorber inlet is subcooled\n",
      "227 32.0 105.339610846 9.61061104994e-251 11.0634922466 \n",
      "\n",
      "Note: Absorber inlet is subcooled\n",
      "228 32.0 92.0667055501 4.2829654725e-250 9.77152431589 \n",
      "\n",
      "Note: Absorber inlet is subcooled\n",
      "229 32.0 128.423482186 3.55672394157e-251 1.53445158618 \n",
      "\n",
      "Note: Absorber inlet is subcooled\n",
      "230 32.0 105.769661652 7.78975686634e-252 0.0 \n",
      "\n",
      "Note: Absorber inlet is subcooled\n",
      "231 32.0 152.771277626 9.18897359164e-252 31343.0158531 \n",
      "\n",
      "Note: Absorber inlet is subcooled\n",
      "232 33.0 124.339725183 2.15963650837e-277 80.5342662624 \n",
      "\n",
      "Note: Absorber inlet is subcooled\n",
      "233 33.0 125.424369898 1.2745637334e-277 25.8237491724 \n",
      "\n",
      "Note: Absorber inlet is subcooled\n",
      "234 33.0 130.682292756 3.58755998935e-278 254.485401303 \n",
      "\n",
      "Note: Absorber inlet is subcooled\n",
      "235 33.0 125.615484595 1.6970950665e-277 27.8505226913 \n",
      "\n",
      "Note: Absorber inlet is subcooled\n",
      "236 33.0 134.749503619 3.4861267739e-278 2191.2754173 \n",
      "\n",
      "Note: Absorber inlet is subcooled\n",
      "237 33.0 115.511676125 4.71363310181e-277 1.25258699248 \n",
      "\n",
      "Note: Absorber inlet is subcooled\n",
      "238 33.0 127.928933738 1.49480437598e-277 1.73293581123 \n",
      "\n",
      "Note: Absorber inlet is subcooled\n",
      "239 34.0 131.343312133 2.31594553815e-307 584.793758061 \n",
      "\n",
      "Note: Absorber inlet is subcooled\n",
      "240 34.0 122.762848321 3.78050176837e-307 5.45981091741 \n",
      "\n",
      "Note: Absorber inlet is subcooled\n",
      "241 34.0 133.591165659 2.16633076863e-307 2189.58295224 \n",
      "\n",
      "Note: Absorber inlet is subcooled\n",
      "242 34.0 127.115934167 3.32023123659e-307 1.98040075811 \n",
      "\n",
      "Note: Absorber inlet is subcooled\n",
      "243 34.0 126.276557667 3.90732974061e-307 6.73908402049 \n",
      "\n",
      "Note: Absorber inlet is subcooled\n",
      "244 34.0 126.336049018 2.12909765101e-307 1.37203870994 \n",
      "\n",
      "Note: Absorber inlet is subcooled\n",
      "245 34.0 124.465048986 2.54127361666e-307 5.41017534551 \n",
      "\n",
      "Note: Absorber inlet is subcooled\n",
      "246 35.0 127.010024833 0.0 4.56410520399 \n",
      "\n",
      "Note: Absorber inlet is subcooled\n",
      "247 35.0 128.485512259 0.0 3.8548891031 \n",
      "\n",
      "Note: Absorber inlet is subcooled\n",
      "248 35.0 131.157019529 0.0 677.049011501 \n",
      "\n",
      "Note: Absorber inlet is subcooled\n",
      "249 35.0 127.434873599 0.0 4.54720957714 \n",
      "\n",
      "Note: Absorber inlet is subcooled\n",
      "250 35.0 127.891633468 0.0 4.8875416279 \n",
      "\n",
      "Note: Absorber inlet is subcooled\n",
      "251 35.0 128.073029809 0.0 3.96231695646 \n",
      "\n",
      "Note: Absorber inlet is subcooled\n",
      "252 35.0 128.259381171 0.0 3.62680791814 \n",
      "\n",
      "Note: Absorber inlet is subcooled\n",
      "253 36.0 129.110673771 0.0 14.3483762411 \n",
      "\n",
      "Note: Absorber inlet is subcooled\n",
      "254 36.0 128.619476748 0.0 5.53241839224 \n",
      "\n",
      "Note: Absorber inlet is subcooled\n",
      "255 36.0 127.826373349 0.0 5.27012565341 \n",
      "\n",
      "Note: Absorber inlet is subcooled\n",
      "256 36.0 128.477899682 0.0 5.17186202632 \n",
      "\n",
      "Note: Absorber inlet is subcooled\n",
      "257 36.0 128.159266193 0.0 4.33245166851 \n",
      "\n",
      "Note: Absorber inlet is subcooled\n",
      "258 36.0 128.30126289 0.0 5.37536082782 \n",
      "\n",
      "Note: Absorber inlet is subcooled\n",
      "259 36.0 128.27361915 0.0 5.1037031302 \n",
      "\n",
      "Note: Absorber inlet is subcooled\n",
      "260 37.0 128.366926102 0.0 6.92020705122 \n",
      "\n"
     ]
    },
    {
     "data": {
      "text/plain": [
       "'First pass and we have this ... '"
      ]
     },
     "metadata": {},
     "output_type": "display_data"
    },
    {
     "name": "stdout",
     "output_type": "stream",
     "text": [
      "Note: Absorber inlet is subcooled\n"
     ]
    },
    {
     "data": {
      "text/html": [
       "<table>\n",
       "<thead>\n",
       "<tr><th>name  </th><th style=\"text-align: right;\">      deltaT</th><th style=\"text-align: right;\">  epsilon</th><th style=\"text-align: right;\">       UA</th><th style=\"text-align: right;\">        Q</th></tr>\n",
       "</thead>\n",
       "<tbody>\n",
       "<tr><td>gen   </td><td style=\"text-align: right;\"> 4.89591    </td><td style=\"text-align: right;\"> 0.953251</td><td style=\"text-align: right;\">  8.95054</td><td style=\"text-align: right;\">180.194  </td></tr>\n",
       "<tr><td>rect  </td><td style=\"text-align: right;\"> 6.16349    </td><td style=\"text-align: right;\"> 0.77556 </td><td style=\"text-align: right;\">  1.02236</td><td style=\"text-align: right;\">  9.72029</td></tr>\n",
       "<tr><td>abs   </td><td style=\"text-align: right;\">-0.000194433</td><td style=\"text-align: right;\"> 1.00002 </td><td style=\"text-align: right;\">inf      </td><td style=\"text-align: right;\">175.826  </td></tr>\n",
       "<tr><td>cond  </td><td style=\"text-align: right;\"> 1.54541    </td><td style=\"text-align: right;\"> 0.970924</td><td style=\"text-align: right;\"> 35.4646 </td><td style=\"text-align: right;\">123.273  </td></tr>\n",
       "<tr><td>evap  </td><td style=\"text-align: right;\"> 0.0363772  </td><td style=\"text-align: right;\"> 0.995287</td><td style=\"text-align: right;\"> 89.6341 </td><td style=\"text-align: right;\">128.423  </td></tr>\n",
       "<tr><td>total </td><td style=\"text-align: right;\"> 0          </td><td style=\"text-align: right;\"> 0       </td><td style=\"text-align: right;\">inf      </td><td style=\"text-align: right;\">  0      </td></tr>\n",
       "</tbody>\n",
       "</table>"
      ],
      "text/plain": [
       "name          deltaT    epsilon         UA          Q\n",
       "------  ------------  ---------  ---------  ---------\n",
       "gen      4.89591       0.953251    8.95054  180.194\n",
       "rect     6.16349       0.77556     1.02236    9.72029\n",
       "abs     -0.000194433   1.00002   inf        175.826\n",
       "cond     1.54541       0.970924   35.4646   123.273\n",
       "evap     0.0363772     0.995287   89.6341   128.423\n",
       "totalUA = inf"
      ]
     },
     "metadata": {},
     "output_type": "display_data"
    },
    {
     "name": "stdout",
     "output_type": "stream",
     "text": [
      "Note: Absorber inlet is subcooled\n",
      "281 40.0 128.423482186 0.0 16.914530482 \n",
      "\n",
      "Note: Absorber inlet is subcooled\n",
      "282 40.0 186.545908554 0.0 2178629.81334 \n",
      "\n",
      "Note: Absorber inlet is subcooled\n",
      "283 40.0 128.744907878 0.0 1390.18056358 \n",
      "\n",
      "Note: Absorber inlet is subcooled\n",
      "284 40.0 128.297627118 0.0 0.0 \n",
      "\n",
      "Note: Absorber inlet is subcooled\n",
      "285 40.0 128.297627118 0.0 0.0 \n",
      "\n",
      "Note: Absorber inlet is subcooled\n",
      "286 40.0 127.996758765 0.0 0.0 \n",
      "\n",
      "Note: Absorber inlet is subcooled\n",
      "287 40.0 128.37139887 0.0 0.208133304003 \n",
      "\n",
      "Note: Absorber inlet is subcooled\n",
      "288 41.0 70.232060958 0.0 0.0 \n",
      "\n",
      "Note: Absorber inlet is subcooled\n",
      "289 41.0 129.379905687 0.0 6.87637500976 \n",
      "\n",
      "Note: Absorber inlet is subcooled\n",
      "290 41.0 155.463107725 0.0 565360.303557 \n",
      "\n",
      "Note: Absorber inlet is subcooled\n",
      "291 41.0 113.791554212 0.0 0.0 \n",
      "\n",
      "Note: Absorber inlet is subcooled\n",
      "292 41.0 128.297627118 0.0 0.0 \n",
      "\n",
      "Note: Absorber inlet is subcooled\n",
      "293 41.0 128.335723806 0.0 0.241722009911 \n",
      "\n",
      "Note: Absorber inlet is subcooled\n",
      "294 41.0 128.335240285 0.0 12.7062266858 \n",
      "\n",
      "Note: Absorber inlet is subcooled\n",
      "295 42.0 135.348003883 0.0 45303.0244111 \n",
      "\n",
      "Note: Absorber inlet is subcooled\n",
      "296 42.0 128.288422716 0.0 0.0 \n",
      "\n",
      "Note: Absorber inlet is subcooled\n",
      "297 42.0 128.376875459 0.0 88.4994022095 \n",
      "\n",
      "Note: Absorber inlet is subcooled\n",
      "298 42.0 129.424998948 0.0 343.270538865 \n",
      "\n",
      "Note: Absorber inlet is subcooled\n",
      "299 42.0 128.162859373 0.0 0.0 \n",
      "\n",
      "Note: Absorber inlet is subcooled\n",
      "300 42.0 128.495523066 0.0 17.4020241784 \n",
      "\n",
      "Note: Absorber inlet is subcooled\n",
      "301 42.0 129.675861523 0.0 704.634087156 \n",
      "\n",
      "Note: Absorber inlet is subcooled\n",
      "302 43.0 128.26741462 0.0 0.0 \n",
      "\n",
      "Note: Absorber inlet is subcooled\n",
      "303 43.0 124.672360182 0.0 0.0 \n",
      "\n",
      "Note: Absorber inlet is subcooled\n",
      "304 43.0 128.346724996 0.0 0.05349012604 \n",
      "\n",
      "Note: Absorber inlet is subcooled\n",
      "305 43.0 128.297627118 0.0 0.0 \n",
      "\n",
      "Note: Absorber inlet is subcooled\n",
      "306 43.0 126.4852008 0.0 0.0 \n",
      "\n",
      "Note: Absorber inlet is subcooled\n",
      "307 43.0 128.298779803 0.0 0.0 \n",
      "\n",
      "Note: Absorber inlet is subcooled\n",
      "308 43.0 130.112609166 0.0 2233.25547048 \n",
      "\n",
      "Note: Absorber inlet is subcooled\n",
      "309 44.0 127.392556034 0.0 0.0 \n",
      "\n",
      "Note: Absorber inlet is subcooled\n",
      "310 44.0 128.315634184 0.0 0.0 \n",
      "\n",
      "Note: Absorber inlet is subcooled\n",
      "311 44.0 129.222531052 0.0 230.591083961 \n",
      "\n",
      "Note: Absorber inlet is subcooled\n",
      "312 44.0 128.302262585 0.0 0.0 \n",
      "\n",
      "Note: Absorber inlet is subcooled\n",
      "313 44.0 127.409499746 0.0 0.0 \n",
      "\n",
      "Note: Absorber inlet is subcooled\n",
      "314 44.0 128.323217378 0.0 0.0 \n",
      "\n",
      "Note: Absorber inlet is subcooled\n",
      "315 44.0 129.230516184 0.0 241.139624683 \n",
      "\n",
      "Note: Absorber inlet is subcooled\n",
      "316 45.0 127.870146938 0.0 0.0 \n",
      "\n",
      "Note: Absorber inlet is subcooled\n",
      "317 45.0 128.323217378 0.0 0.0 \n",
      "\n",
      "Note: Absorber inlet is subcooled\n",
      "318 45.0 128.776866679 0.0 0.0 \n",
      "\n",
      "Note: Absorber inlet is subcooled\n",
      "319 45.0 129.230516184 0.0 325.504461015 \n",
      "\n",
      "Note: Absorber inlet is subcooled\n",
      "320 45.0 128.776867748 0.0 0.0 \n",
      "\n",
      "Note: Absorber inlet is subcooled\n",
      "321 45.0 128.592439546 0.0 0.0 \n",
      "\n",
      "Note: Absorber inlet is subcooled\n",
      "322 45.0 128.51826651 0.0 0.0 \n",
      "\n",
      "Note: Absorber inlet is subcooled\n",
      "323 46.0 128.710831206 0.0 0.0 \n",
      "\n",
      "Note: Absorber inlet is subcooled\n",
      "324 46.0 128.776870919 0.0 0.0 \n",
      "\n",
      "Note: Absorber inlet is subcooled\n",
      "325 46.0 128.629160422 0.0 0.0 \n",
      "\n",
      "Note: Absorber inlet is subcooled\n",
      "326 46.0 129.003697676 0.0 58.1650096562 \n",
      "\n",
      "Note: Absorber inlet is subcooled\n",
      "327 46.0 128.730860301 0.0 0.0 \n",
      "\n",
      "Note: Absorber inlet is subcooled\n",
      "328 46.0 128.776871008 0.0 0.0 \n",
      "\n",
      "Note: Absorber inlet is subcooled\n",
      "329 46.0 128.704347488 0.0 0.0 \n",
      "\n",
      "Note: Absorber inlet is subcooled\n",
      "330 47.0 128.776871006 0.0 0.0 \n",
      "\n"
     ]
    },
    {
     "data": {
      "text/plain": [
       "'Second pass and we have this ... '"
      ]
     },
     "metadata": {},
     "output_type": "display_data"
    },
    {
     "name": "stdout",
     "output_type": "stream",
     "text": [
      "Note: Absorber inlet is subcooled\n"
     ]
    },
    {
     "data": {
      "text/html": [
       "<table>\n",
       "<thead>\n",
       "<tr><th>name  </th><th style=\"text-align: right;\">   deltaT</th><th style=\"text-align: right;\">  epsilon</th><th style=\"text-align: right;\">       UA</th><th style=\"text-align: right;\">       Q</th></tr>\n",
       "</thead>\n",
       "<tbody>\n",
       "<tr><td>gen   </td><td style=\"text-align: right;\">4.89387  </td><td style=\"text-align: right;\"> 0.953227</td><td style=\"text-align: right;\">  9.0128 </td><td style=\"text-align: right;\">180.745 </td></tr>\n",
       "<tr><td>rect  </td><td style=\"text-align: right;\">5.50136  </td><td style=\"text-align: right;\"> 0.809975</td><td style=\"text-align: right;\">  1.19735</td><td style=\"text-align: right;\"> 10.2417</td></tr>\n",
       "<tr><td>abs   </td><td style=\"text-align: right;\">0.0117575</td><td style=\"text-align: right;\"> 0.999228</td><td style=\"text-align: right;\">396.56   </td><td style=\"text-align: right;\">176.371 </td></tr>\n",
       "<tr><td>cond  </td><td style=\"text-align: right;\">1.62968  </td><td style=\"text-align: right;\"> 0.970423</td><td style=\"text-align: right;\"> 34.215  </td><td style=\"text-align: right;\">123.112 </td></tr>\n",
       "<tr><td>evap  </td><td style=\"text-align: right;\">0.0158304</td><td style=\"text-align: right;\"> 0.997949</td><td style=\"text-align: right;\">103.544  </td><td style=\"text-align: right;\">128.777 </td></tr>\n",
       "<tr><td>total </td><td style=\"text-align: right;\">0        </td><td style=\"text-align: right;\"> 0       </td><td style=\"text-align: right;\">544.529  </td><td style=\"text-align: right;\">  0     </td></tr>\n",
       "</tbody>\n",
       "</table>"
      ],
      "text/plain": [
       "name       deltaT    epsilon         UA         Q\n",
       "------  ---------  ---------  ---------  --------\n",
       "gen     4.89387     0.953227    9.0128   180.745\n",
       "rect    5.50136     0.809975    1.19735   10.2417\n",
       "abs     0.0117575   0.999228  396.56     176.371\n",
       "cond    1.62968     0.970423   34.215    123.112\n",
       "evap    0.0158304   0.997949  103.544    128.777\n",
       "totalUA = 544.5293340844103"
      ]
     },
     "metadata": {},
     "output_type": "display_data"
    },
    {
     "name": "stdout",
     "output_type": "stream",
     "text": [
      "Note: Absorber inlet is subcooled\n",
      "351 50.0 128.776871008 0.0 0.0 \n",
      "\n",
      "Note: Absorber inlet is subcooled\n",
      "352 50.0 134.583452607 0.0 381321.209955 \n",
      "\n",
      "Note: Absorber inlet is subcooled\n",
      "353 50.0 128.809115981 0.0 119.858891256 \n",
      "\n",
      "Note: Absorber inlet is subcooled\n",
      "354 50.0 128.764231518 0.0 0.0 \n",
      "\n",
      "Note: Absorber inlet is subcooled\n",
      "355 50.0 128.776871008 0.0 0.0 \n",
      "\n",
      "Note: Absorber inlet is subcooled\n",
      "356 50.0 128.746632988 0.0 0.0 \n",
      "\n",
      "Note: Absorber inlet is subcooled\n",
      "357 50.0 128.784280347 0.0 0.0 \n",
      "\n",
      "Note: Absorber inlet is subcooled\n",
      "358 51.0 122.977355274 0.0 0.0 \n",
      "\n",
      "Note: Absorber inlet is subcooled\n",
      "359 51.0 128.909616822 0.0 0.0 \n",
      "\n",
      "Note: Absorber inlet is subcooled\n",
      "360 51.0 128.917186587 0.0 7.15431674744 \n",
      "\n",
      "Note: Absorber inlet is subcooled\n",
      "361 51.0 129.472643992 0.0 4192.80069994 \n",
      "\n",
      "Note: Absorber inlet is subcooled\n",
      "362 51.0 128.912784123 0.0 0.0 \n",
      "\n",
      "Note: Absorber inlet is subcooled\n",
      "363 51.0 128.929891676 0.0 54.5211387278 \n",
      "\n",
      "Note: Absorber inlet is subcooled\n",
      "364 51.0 128.912784123 0.0 0.0 \n",
      "\n",
      "Note: Absorber inlet is subcooled\n",
      "365 52.0 129.052086914 0.0 190.955125086 \n",
      "\n",
      "Note: Absorber inlet is subcooled\n",
      "366 52.0 130.363035492 0.0 42237.5388066 \n",
      "\n",
      "Note: Absorber inlet is subcooled\n",
      "367 52.0 126.012297533 0.0 0.0 \n",
      "\n",
      "Note: Absorber inlet is subcooled\n",
      "368 52.0 128.914634674 0.0 0.0 \n",
      "\n",
      "Note: Absorber inlet is subcooled\n",
      "369 52.0 129.053828839 0.0 198.058654369 \n",
      "\n",
      "Note: Absorber inlet is subcooled\n",
      "370 52.0 128.943495213 0.0 16.4260038361 \n",
      "\n",
      "Note: Absorber inlet is subcooled\n",
      "371 52.0 128.945963741 0.0 0.0 \n",
      "\n",
      "Note: Absorber inlet is subcooled\n",
      "372 53.0 129.06615673 0.0 222.68863347 \n",
      "\n",
      "Note: Absorber inlet is subcooled\n",
      "373 53.0 129.668605662 0.0 13755.2173577 \n",
      "\n",
      "Note: Absorber inlet is subcooled\n",
      "374 53.0 127.499773873 0.0 0.0 \n",
      "\n",
      "Note: Absorber inlet is subcooled\n",
      "375 53.0 128.89653771 0.0 6.30405207826 \n",
      "\n",
      "Note: Absorber inlet is subcooled\n",
      "376 53.0 128.945963741 0.0 0.0 \n",
      "\n",
      "Note: Absorber inlet is subcooled\n",
      "377 53.0 129.081605297 0.0 308.153166242 \n",
      "\n",
      "Note: Absorber inlet is subcooled\n",
      "378 53.0 128.946756195 0.0 0.0 \n",
      "\n",
      "Note: Absorber inlet is subcooled\n",
      "379 54.0 129.082398597 0.0 422.374077559 \n",
      "\n",
      "Note: Absorber inlet is subcooled\n",
      "380 54.0 128.947215045 0.0 0.00315412180597 \n",
      "\n",
      "Note: Absorber inlet is subcooled\n",
      "381 54.0 128.89385415 0.0 10.0449865712 \n",
      "\n",
      "Note: Absorber inlet is subcooled\n",
      "382 54.0 128.999621842 0.0 17.87074073 \n",
      "\n",
      "Note: Absorber inlet is subcooled\n",
      "383 54.0 129.126104613 0.0 852.35898753 \n",
      "\n",
      "Note: Absorber inlet is subcooled\n",
      "384 54.0 128.587528493 0.0 0.0 \n",
      "\n",
      "Note: Absorber inlet is subcooled\n",
      "385 54.0 128.954513891 0.0 0.0230365101464 \n",
      "\n",
      "Note: Absorber inlet is subcooled\n",
      "386 55.0 128.904864074 0.0 3.33600476932 \n",
      "\n",
      "Note: Absorber inlet is subcooled\n",
      "387 55.0 128.925810289 0.0 0.823460119875 \n",
      "\n",
      "Note: Absorber inlet is subcooled\n",
      "388 55.0 128.946756195 0.0 0.0 \n",
      "\n",
      "Note: Absorber inlet is subcooled\n",
      "389 55.0 129.007842342 0.0 46.5187119807 \n",
      "\n",
      "Note: Absorber inlet is subcooled\n",
      "390 55.0 128.97729937 0.0 0.0 \n",
      "\n",
      "Note: Absorber inlet is subcooled\n",
      "391 55.0 129.01995699 0.0 91.9570765635 \n",
      "\n",
      "Note: Absorber inlet is subcooled\n",
      "392 55.0 128.89198922 0.0 0.0 \n",
      "\n",
      "Note: Absorber inlet is subcooled\n",
      "393 56.0 128.977218352 0.0 0.0 \n",
      "\n",
      "Note: Absorber inlet is subcooled\n",
      "394 56.0 129.067295175 0.0 566.93413285 \n",
      "\n",
      "Note: Absorber inlet is subcooled\n",
      "395 56.0 128.977391498 0.0 0.0 \n",
      "\n",
      "Note: Absorber inlet is subcooled\n",
      "396 56.0 129.067387372 0.0 568.104397203 \n",
      "\n",
      "Note: Absorber inlet is subcooled\n",
      "397 56.0 128.971651381 0.0 0.0 \n",
      "\n",
      "Note: Absorber inlet is subcooled\n",
      "398 56.0 128.892738757 0.0 0.0 \n",
      "\n",
      "Note: Absorber inlet is subcooled\n",
      "399 56.0 129.035455927 0.0 232.595731393 \n",
      "\n",
      "Note: Absorber inlet is subcooled\n",
      "400 57.0 128.977391498 0.0 0.0 \n",
      "\n"
     ]
    },
    {
     "data": {
      "text/plain": [
       "'Third pass and we have this ... '"
      ]
     },
     "metadata": {},
     "output_type": "display_data"
    },
    {
     "name": "stdout",
     "output_type": "stream",
     "text": [
      "Note: Absorber inlet is subcooled\n"
     ]
    },
    {
     "data": {
      "text/html": [
       "<table>\n",
       "<thead>\n",
       "<tr><th>name  </th><th style=\"text-align: right;\">   deltaT</th><th style=\"text-align: right;\">  epsilon</th><th style=\"text-align: right;\">       UA</th><th style=\"text-align: right;\">       Q</th></tr>\n",
       "</thead>\n",
       "<tbody>\n",
       "<tr><td>gen   </td><td style=\"text-align: right;\">4.89387  </td><td style=\"text-align: right;\"> 0.953227</td><td style=\"text-align: right;\">  9.0128 </td><td style=\"text-align: right;\">180.745 </td></tr>\n",
       "<tr><td>rect  </td><td style=\"text-align: right;\">5.50136  </td><td style=\"text-align: right;\"> 0.809975</td><td style=\"text-align: right;\">  1.19735</td><td style=\"text-align: right;\"> 10.2417</td></tr>\n",
       "<tr><td>abs   </td><td style=\"text-align: right;\">0.0117575</td><td style=\"text-align: right;\"> 0.999228</td><td style=\"text-align: right;\">396.56   </td><td style=\"text-align: right;\">176.371 </td></tr>\n",
       "<tr><td>cond  </td><td style=\"text-align: right;\">1.62968  </td><td style=\"text-align: right;\"> 0.970423</td><td style=\"text-align: right;\"> 34.215  </td><td style=\"text-align: right;\">123.112 </td></tr>\n",
       "<tr><td>evap  </td><td style=\"text-align: right;\">0.0158304</td><td style=\"text-align: right;\"> 0.997949</td><td style=\"text-align: right;\">103.544  </td><td style=\"text-align: right;\">128.777 </td></tr>\n",
       "<tr><td>total </td><td style=\"text-align: right;\">0        </td><td style=\"text-align: right;\"> 0       </td><td style=\"text-align: right;\">544.529  </td><td style=\"text-align: right;\">  0     </td></tr>\n",
       "</tbody>\n",
       "</table>"
      ],
      "text/plain": [
       "name       deltaT    epsilon         UA         Q\n",
       "------  ---------  ---------  ---------  --------\n",
       "gen     4.89387     0.953227    9.0128   180.745\n",
       "rect    5.50136     0.809975    1.19735   10.2417\n",
       "abs     0.0117575   0.999228  396.56     176.371\n",
       "cond    1.62968     0.970423   34.215    123.112\n",
       "evap    0.0158304   0.997949  103.544    128.777\n",
       "totalUA = 544.5293340844103"
      ]
     },
     "metadata": {},
     "output_type": "display_data"
    },
    {
     "name": "stdout",
     "output_type": "stream",
     "text": [
      "Case 1, T_heat_reject = 298.15 K\n",
      "Note: Absorber inlet is subcooled\n",
      "211 30.0 24.5883547239 1.01305231855e-250 3156.278929 \n",
      "\n",
      "Note: Absorber inlet is subcooled\n",
      "212 30.0 73.7650641718 1.01305231855e-250 3156.2910157 \n",
      "\n",
      "Note: Absorber inlet is subcooled\n",
      "213 30.0 73.9673270767 1.20595045745e-249 3144.35934709 \n",
      "\n",
      "Note: Absorber inlet is subcooled\n",
      "214 30.0 73.8724667435 1.18138325969e-250 2961.13902246 \n",
      "\n",
      "Note: Absorber inlet is subcooled\n",
      "215 30.0 73.8724667435 8.80429524319e-250 2961.13902246 \n",
      "\n",
      "Note: Absorber inlet is subcooled\n",
      "216 30.0 73.6861850466 1.29308121156e-251 2157.21304698 \n",
      "\n",
      "Note: Absorber inlet is subcooled\n",
      "217 30.0 73.7452878644 1.29308121156e-251 2208.13157745 \n",
      "\n",
      "Note: Absorber inlet is subcooled\n",
      "218 31.0 76.3946869366 1.40969493378e-279 1978.41316719 \n",
      "\n",
      "Note: Absorber inlet is subcooled\n",
      "219 31.0 78.0998625965 5.41819018621e-281 1878.72104919 \n",
      "\n",
      "Note: Absorber inlet is subcooled\n",
      "220 31.0 102.263696544 7.24475114495e-281 1902.88874034 \n",
      "\n",
      "Note: Absorber inlet is subcooled\n",
      "221 31.0 71.395951716 2.37482768485e-280 1756.96383355 \n",
      "\n",
      "Note: Absorber inlet is subcooled\n",
      "222 31.0 71.3570672707 9.39034852405e-281 1752.15532249 \n",
      "\n",
      "Note: Absorber inlet is subcooled\n",
      "223 31.0 71.2370791481 6.46816748169e-282 1153.59740799 \n",
      "\n",
      "Note: Absorber inlet is subcooled\n",
      "224 31.0 73.4109496301 5.91233639367e-283 705.02347745 \n",
      "\n",
      "Note: Absorber inlet is subcooled\n",
      "225 32.0 75.8725853737 2.6224475831e-314 399.331117403 \n",
      "\n",
      "Note: Absorber inlet is subcooled\n",
      "226 32.0 77.9545611509 4.70088640049e-316 271.184173835 \n",
      "\n",
      "Note: Absorber inlet is subcooled\n",
      "227 32.0 116.168510781 1.52927645292e-315 230.505400645 \n",
      "\n",
      "Note: Absorber inlet is subcooled\n",
      "228 32.0 114.965989233 4.48185721837e-315 230.394628393 \n",
      "\n",
      "Note: Absorber inlet is subcooled\n",
      "229 32.0 89.0574595119 2.82154467487e-315 136.642609121 \n",
      "\n",
      "Note: Absorber inlet is subcooled\n",
      "230 32.0 90.3616489872 2.21600793801e-315 114.565047804 \n",
      "\n",
      "Note: Absorber inlet is subcooled\n",
      "231 32.0 98.6297999153 6.9915229543e-317 0.0 \n",
      "\n",
      "Note: Absorber inlet is subcooled\n",
      "232 33.0 109.271102898 0.0 0.0 \n",
      "\n",
      "Note: Absorber inlet is subcooled\n",
      "233 33.0 125.52198372 0.0 0.0 \n",
      "\n",
      "Note: Absorber inlet is subcooled\n",
      "234 33.0 115.356939728 0.0 0.0 \n",
      "\n",
      "Note: Absorber inlet is subcooled\n",
      "235 33.0 126.686334878 0.0 0.0 \n",
      "\n",
      "Note: Absorber inlet is subcooled\n",
      "236 33.0 135.810050663 0.0 6135.65411474 \n",
      "\n",
      "Note: Absorber inlet is subcooled\n",
      "237 33.0 135.482393205 0.0 4215.72398309 \n",
      "\n",
      "Note: Absorber inlet is subcooled\n",
      "238 33.0 131.774579394 0.0 1489.38243964 \n",
      "\n",
      "Note: Absorber inlet is subcooled\n",
      "239 34.0 111.727998695 0.0 0.0 \n",
      "\n",
      "Note: Absorber inlet is subcooled\n",
      "240 34.0 130.940770274 0.0 1255.95126728 \n",
      "\n",
      "Note: Absorber inlet is subcooled\n",
      "241 34.0 124.109780439 0.0 0.0 \n",
      "\n",
      "Note: Absorber inlet is subcooled\n",
      "242 34.0 122.918582878 0.0 0.0 \n",
      "\n",
      "Note: Absorber inlet is subcooled\n",
      "243 34.0 130.724136268 0.0 1158.57006364 \n",
      "\n",
      "Note: Absorber inlet is subcooled\n",
      "244 34.0 116.519584216 0.0 0.0 \n",
      "\n",
      "Note: Absorber inlet is subcooled\n",
      "245 34.0 124.752159954 0.0 0.0 \n",
      "\n",
      "Note: Absorber inlet is subcooled\n",
      "246 35.0 126.832086852 0.0 0.0 \n",
      "\n",
      "Note: Absorber inlet is subcooled\n",
      "247 35.0 125.025431833 0.0 0.0 \n",
      "\n",
      "Note: Absorber inlet is subcooled\n",
      "248 35.0 126.560647221 0.0 0.0 \n",
      "\n",
      "Note: Absorber inlet is subcooled\n",
      "249 35.0 127.298111704 0.0 0.0 \n",
      "\n",
      "Note: Absorber inlet is subcooled\n",
      "250 35.0 124.748804848 0.0 0.0 \n",
      "\n",
      "Note: Absorber inlet is subcooled\n",
      "251 35.0 127.78311661 0.0 16.4707754057 \n",
      "\n",
      "Note: Absorber inlet is subcooled\n",
      "252 35.0 126.590252443 0.0 0.0 \n",
      "\n",
      "Note: Absorber inlet is subcooled\n",
      "253 36.0 128.816685583 0.0 334.024067599 \n",
      "\n",
      "Note: Absorber inlet is subcooled\n",
      "254 36.0 127.298077744 0.0 0.0 \n",
      "\n",
      "Note: Absorber inlet is subcooled\n",
      "255 36.0 126.813474484 0.0 0.0 \n",
      "\n",
      "Note: Absorber inlet is subcooled\n",
      "256 36.0 127.298102647 0.0 0.0 \n",
      "\n",
      "Note: Absorber inlet is subcooled\n",
      "257 36.0 125.988681861 0.0 0.0 \n",
      "\n",
      "Note: Absorber inlet is subcooled\n",
      "258 36.0 127.114362089 0.0 0.0 \n",
      "\n",
      "Note: Absorber inlet is subcooled\n",
      "259 36.0 127.176946769 0.0 0.0 \n",
      "\n",
      "Note: Absorber inlet is subcooled\n",
      "260 37.0 127.461974329 0.0 0.143227486455 \n",
      "\n"
     ]
    },
    {
     "data": {
      "text/plain": [
       "'First pass and we have this ... '"
      ]
     },
     "metadata": {},
     "output_type": "display_data"
    },
    {
     "name": "stdout",
     "output_type": "stream",
     "text": [
      "Note: Absorber inlet is subcooled\n"
     ]
    },
    {
     "data": {
      "text/html": [
       "<table>\n",
       "<thead>\n",
       "<tr><th>name  </th><th style=\"text-align: right;\">    deltaT</th><th style=\"text-align: right;\">  epsilon</th><th style=\"text-align: right;\">       UA</th><th style=\"text-align: right;\">       Q</th></tr>\n",
       "</thead>\n",
       "<tbody>\n",
       "<tr><td>gen   </td><td style=\"text-align: right;\">4.72568   </td><td style=\"text-align: right;\"> 0.942974</td><td style=\"text-align: right;\"> 13.5578 </td><td style=\"text-align: right;\">188.286 </td></tr>\n",
       "<tr><td>rect  </td><td style=\"text-align: right;\">6.32268   </td><td style=\"text-align: right;\"> 0.798931</td><td style=\"text-align: right;\">  1.25848</td><td style=\"text-align: right;\"> 12.9269</td></tr>\n",
       "<tr><td>abs   </td><td style=\"text-align: right;\">0.0658155 </td><td style=\"text-align: right;\"> 0.996278</td><td style=\"text-align: right;\">151.077  </td><td style=\"text-align: right;\">181.903 </td></tr>\n",
       "<tr><td>cond  </td><td style=\"text-align: right;\">1.72475   </td><td style=\"text-align: right;\"> 0.968174</td><td style=\"text-align: right;\"> 33.1259 </td><td style=\"text-align: right;\">121.225 </td></tr>\n",
       "<tr><td>evap  </td><td style=\"text-align: right;\">0.00852878</td><td style=\"text-align: right;\"> 0.998883</td><td style=\"text-align: right;\">113.698  </td><td style=\"text-align: right;\">127.462 </td></tr>\n",
       "<tr><td>total </td><td style=\"text-align: right;\">0         </td><td style=\"text-align: right;\"> 0       </td><td style=\"text-align: right;\">312.717  </td><td style=\"text-align: right;\">  0     </td></tr>\n",
       "</tbody>\n",
       "</table>"
      ],
      "text/plain": [
       "name        deltaT    epsilon         UA         Q\n",
       "------  ----------  ---------  ---------  --------\n",
       "gen     4.72568      0.942974   13.5578   188.286\n",
       "rect    6.32268      0.798931    1.25848   12.9269\n",
       "abs     0.0658155    0.996278  151.077    181.903\n",
       "cond    1.72475      0.968174   33.1259   121.225\n",
       "evap    0.00852878   0.998883  113.698    127.462\n",
       "totalUA = 312.71726356000175"
      ]
     },
     "metadata": {},
     "output_type": "display_data"
    },
    {
     "name": "stdout",
     "output_type": "stream",
     "text": [
      "Note: Absorber inlet is subcooled\n",
      "281 40.0 127.461974329 0.0 0.352282771288 \n",
      "\n",
      "Note: Absorber inlet is subcooled\n",
      "282 40.0 176.053323473 0.0 1411320.49389 \n",
      "\n",
      "Note: Absorber inlet is subcooled\n",
      "283 40.0 127.812999795 0.0 2424.28720848 \n",
      "\n",
      "Note: Absorber inlet is subcooled\n",
      "284 40.0 127.295013964 0.0 0.0 \n",
      "\n",
      "Note: Absorber inlet is subcooled\n",
      "285 40.0 127.295013964 0.0 0.0 \n",
      "\n",
      "Note: Absorber inlet is subcooled\n",
      "286 40.0 126.972873178 0.0 0.0 \n",
      "\n",
      "Note: Absorber inlet is subcooled\n",
      "287 40.0 127.399272088 0.0 0.0 \n",
      "\n",
      "Note: Absorber inlet is subcooled\n",
      "288 41.0 78.8315253996 0.0 0.0 \n",
      "\n",
      "Note: Absorber inlet is subcooled\n",
      "289 41.0 127.751533304 0.0 0.0 \n",
      "\n",
      "Note: Absorber inlet is subcooled\n",
      "290 41.0 127.832396933 0.0 0.0 \n",
      "\n",
      "Note: Absorber inlet is subcooled\n",
      "291 41.0 152.099213946 0.0 446705.172014 \n",
      "\n",
      "Note: Absorber inlet is subcooled\n",
      "292 41.0 127.744197618 0.0 0.0 \n",
      "\n",
      "Note: Absorber inlet is subcooled\n",
      "293 41.0 103.56980027 0.0 0.0 \n",
      "\n",
      "Note: Absorber inlet is subcooled\n",
      "294 41.0 127.832396933 0.0 0.0 \n",
      "\n",
      "Note: Absorber inlet is subcooled\n",
      "295 42.0 152.099970653 0.0 603026.705998 \n",
      "\n",
      "Note: Absorber inlet is subcooled\n",
      "296 42.0 127.858553707 0.0 0.0 \n",
      "\n",
      "Note: Absorber inlet is subcooled\n",
      "297 42.0 152.131093752 0.0 604603.362721 \n",
      "\n",
      "Note: Absorber inlet is subcooled\n",
      "298 42.0 127.858536621 0.0 0.0 \n",
      "\n",
      "Note: Absorber inlet is subcooled\n",
      "299 42.0 103.590678545 0.0 0.0 \n",
      "\n",
      "Note: Absorber inlet is subcooled\n",
      "300 42.0 139.994693068 0.0 145989.83199 \n",
      "\n",
      "Note: Absorber inlet is subcooled\n",
      "301 42.0 127.858474439 0.0 0.0 \n",
      "\n",
      "Note: Absorber inlet is subcooled\n",
      "302 43.0 115.723025159 0.0 0.0 \n",
      "\n",
      "Note: Absorber inlet is subcooled\n",
      "303 43.0 133.926590746 0.0 45875.4172544 \n",
      "\n",
      "Note: Absorber inlet is subcooled\n",
      "304 43.0 127.858553958 0.0 0.0 \n",
      "\n",
      "Note: Absorber inlet is subcooled\n",
      "305 43.0 121.790455371 0.0 0.0 \n",
      "\n",
      "Note: Absorber inlet is subcooled\n",
      "306 43.0 127.877732405 0.0 0.0 \n",
      "\n",
      "Note: Absorber inlet is subcooled\n",
      "307 43.0 133.946922532 0.0 46205.7845989 \n",
      "\n",
      "Note: Absorber inlet is subcooled\n",
      "308 43.0 127.877729336 0.0 0.0 \n",
      "\n",
      "Note: Absorber inlet is subcooled\n",
      "309 44.0 121.808717384 0.0 0.0 \n",
      "\n",
      "Note: Absorber inlet is subcooled\n",
      "310 44.0 127.877735338 0.0 0.0 \n",
      "\n",
      "Note: Absorber inlet is subcooled\n",
      "311 44.0 133.946352544 0.0 62358.9485577 \n",
      "\n",
      "Note: Absorber inlet is subcooled\n",
      "312 44.0 124.843509003 0.0 0.0 \n",
      "\n",
      "Note: Absorber inlet is subcooled\n",
      "313 44.0 127.877750857 0.0 0.0 \n",
      "\n",
      "Note: Absorber inlet is subcooled\n",
      "314 44.0 130.91231222 0.0 14053.6695695 \n",
      "\n",
      "Note: Absorber inlet is subcooled\n",
      "315 44.0 126.360505902 0.0 0.0 \n",
      "\n",
      "Note: Absorber inlet is subcooled\n",
      "316 45.0 127.877750263 0.0 0.0 \n",
      "\n",
      "Note: Absorber inlet is subcooled\n",
      "317 45.0 129.395029496 0.0 3623.15070792 \n",
      "\n",
      "Note: Absorber inlet is subcooled\n",
      "318 45.0 127.877751514 0.0 0.0 \n",
      "\n",
      "Note: Absorber inlet is subcooled\n",
      "319 45.0 129.395016442 0.0 3623.06732101 \n",
      "\n",
      "Note: Absorber inlet is subcooled\n",
      "320 45.0 127.877751667 0.0 0.0 \n",
      "\n",
      "Note: Absorber inlet is subcooled\n",
      "321 45.0 126.360433952 0.0 0.0 \n",
      "\n",
      "Note: Absorber inlet is subcooled\n",
      "322 45.0 127.877752603 0.0 0.0 \n",
      "\n",
      "Note: Absorber inlet is subcooled\n",
      "323 46.0 129.395038594 0.0 4890.84784711 \n",
      "\n",
      "Note: Absorber inlet is subcooled\n",
      "324 46.0 127.11911114 0.0 0.0 \n",
      "\n",
      "Note: Absorber inlet is subcooled\n",
      "325 46.0 127.87775629 0.0 0.0 \n",
      "\n",
      "Note: Absorber inlet is subcooled\n",
      "326 46.0 128.636415084 0.0 658.578023018 \n",
      "\n",
      "Note: Absorber inlet is subcooled\n",
      "327 46.0 127.498427276 0.0 0.0 \n",
      "\n",
      "Note: Absorber inlet is subcooled\n",
      "328 46.0 127.877756468 0.0 0.0 \n",
      "\n",
      "Note: Absorber inlet is subcooled\n",
      "329 46.0 128.257084788 0.0 9.85873408362 \n",
      "\n",
      "Note: Absorber inlet is subcooled\n",
      "330 47.0 127.877756489 0.0 0.0 \n",
      "\n"
     ]
    },
    {
     "data": {
      "text/plain": [
       "'Second pass and we have this ... '"
      ]
     },
     "metadata": {},
     "output_type": "display_data"
    },
    {
     "name": "stdout",
     "output_type": "stream",
     "text": [
      "Note: Absorber inlet is subcooled\n"
     ]
    },
    {
     "data": {
      "text/html": [
       "<table>\n",
       "<thead>\n",
       "<tr><th>name  </th><th style=\"text-align: right;\">   deltaT</th><th style=\"text-align: right;\">  epsilon</th><th style=\"text-align: right;\">       UA</th><th style=\"text-align: right;\">       Q</th></tr>\n",
       "</thead>\n",
       "<tbody>\n",
       "<tr><td>gen   </td><td style=\"text-align: right;\">4.59327  </td><td style=\"text-align: right;\"> 0.944479</td><td style=\"text-align: right;\"> 13.8375 </td><td style=\"text-align: right;\">189.054 </td></tr>\n",
       "<tr><td>rect  </td><td style=\"text-align: right;\">5.69765  </td><td style=\"text-align: right;\"> 0.824097</td><td style=\"text-align: right;\">  1.42883</td><td style=\"text-align: right;\"> 13.4535</td></tr>\n",
       "<tr><td>abs   </td><td style=\"text-align: right;\">0.0532557</td><td style=\"text-align: right;\"> 0.996993</td><td style=\"text-align: right;\">162.557  </td><td style=\"text-align: right;\">182.646 </td></tr>\n",
       "<tr><td>cond  </td><td style=\"text-align: right;\">1.80619  </td><td style=\"text-align: right;\"> 0.967714</td><td style=\"text-align: right;\"> 32.0739 </td><td style=\"text-align: right;\">121.142 </td></tr>\n",
       "<tr><td>evap  </td><td style=\"text-align: right;\">0.0295339</td><td style=\"text-align: right;\"> 0.996154</td><td style=\"text-align: right;\"> 93.0342 </td><td style=\"text-align: right;\">127.878 </td></tr>\n",
       "<tr><td>total </td><td style=\"text-align: right;\">0        </td><td style=\"text-align: right;\"> 0       </td><td style=\"text-align: right;\">302.931  </td><td style=\"text-align: right;\">  0     </td></tr>\n",
       "</tbody>\n",
       "</table>"
      ],
      "text/plain": [
       "name       deltaT    epsilon         UA         Q\n",
       "------  ---------  ---------  ---------  --------\n",
       "gen     4.59327     0.944479   13.8375   189.054\n",
       "rect    5.69765     0.824097    1.42883   13.4535\n",
       "abs     0.0532557   0.996993  162.557    182.646\n",
       "cond    1.80619     0.967714   32.0739   121.142\n",
       "evap    0.0295339   0.996154   93.0342   127.878\n",
       "totalUA = 302.9313759501793"
      ]
     },
     "metadata": {},
     "output_type": "display_data"
    },
    {
     "name": "stdout",
     "output_type": "stream",
     "text": [
      "Note: Absorber inlet is subcooled\n",
      "351 50.0 127.877756489 0.0 0.0 \n",
      "\n",
      "Note: Absorber inlet is subcooled\n",
      "352 50.0 132.73287088 0.0 239926.242178 \n",
      "\n",
      "Note: Absorber inlet is subcooled\n",
      "353 50.0 127.912957378 0.0 0.0 \n",
      "\n",
      "Note: Absorber inlet is subcooled\n",
      "354 50.0 127.896200962 0.0 0.0 \n",
      "\n",
      "Note: Absorber inlet is subcooled\n",
      "355 50.0 127.912957378 0.0 0.0 \n",
      "\n",
      "Note: Absorber inlet is subcooled\n",
      "356 50.0 127.880609233 0.0 0.0 \n",
      "\n",
      "Note: Absorber inlet is subcooled\n",
      "357 50.0 127.923414695 0.0 0.0 \n",
      "\n",
      "Note: Absorber inlet is subcooled\n",
      "358 51.0 123.066566817 0.0 0.0 \n",
      "\n",
      "Note: Absorber inlet is subcooled\n",
      "359 51.0 130.351981593 0.0 84614.5291692 \n",
      "\n",
      "Note: Absorber inlet is subcooled\n",
      "360 51.0 127.923414514 0.0 0.0 \n",
      "\n",
      "Note: Absorber inlet is subcooled\n",
      "361 51.0 125.494929393 0.0 0.0 \n",
      "\n",
      "Note: Absorber inlet is subcooled\n",
      "362 51.0 127.927603211 0.0 0.0 \n",
      "\n",
      "Note: Absorber inlet is subcooled\n",
      "363 51.0 130.356249609 0.0 84926.8477442 \n",
      "\n",
      "Note: Absorber inlet is subcooled\n",
      "364 51.0 127.927603211 0.0 0.0 \n",
      "\n",
      "Note: Absorber inlet is subcooled\n",
      "365 52.0 125.499038403 0.0 0.0 \n",
      "\n",
      "Note: Absorber inlet is subcooled\n",
      "366 52.0 127.935691033 0.0 0.0 \n",
      "\n",
      "Note: Absorber inlet is subcooled\n",
      "367 52.0 130.364490964 0.0 115455.517926 \n",
      "\n",
      "Note: Absorber inlet is subcooled\n",
      "368 52.0 127.935690345 0.0 0.0 \n",
      "\n",
      "Note: Absorber inlet is subcooled\n",
      "369 52.0 125.506967283 0.0 0.0 \n",
      "\n",
      "Note: Absorber inlet is subcooled\n",
      "370 52.0 129.150089692 0.0 26385.4741298 \n",
      "\n",
      "Note: Absorber inlet is subcooled\n",
      "371 52.0 127.328509602 0.0 0.0 \n",
      "\n",
      "Note: Absorber inlet is subcooled\n",
      "372 53.0 127.935691091 0.0 0.0 \n",
      "\n",
      "Note: Absorber inlet is subcooled\n",
      "373 53.0 128.542879653 0.0 7044.44101985 \n",
      "\n",
      "Note: Absorber inlet is subcooled\n",
      "374 53.0 127.935691091 0.0 0.0 \n",
      "\n",
      "Note: Absorber inlet is subcooled\n",
      "375 53.0 127.328520102 0.0 0.0 \n",
      "\n",
      "Note: Absorber inlet is subcooled\n",
      "376 53.0 127.936738291 0.0 0.0 \n",
      "\n",
      "Note: Absorber inlet is subcooled\n",
      "377 53.0 128.543931821 0.0 7074.43325116 \n",
      "\n",
      "Note: Absorber inlet is subcooled\n",
      "378 53.0 127.936738314 0.0 0.0 \n",
      "\n",
      "Note: Absorber inlet is subcooled\n",
      "379 54.0 127.32953942 0.0 0.0 \n",
      "\n",
      "Note: Absorber inlet is subcooled\n",
      "380 54.0 127.936738462 0.0 0.0 \n",
      "\n",
      "Note: Absorber inlet is subcooled\n",
      "381 54.0 128.543938486 0.0 9549.7296797 \n",
      "\n",
      "Note: Absorber inlet is subcooled\n",
      "382 54.0 127.633140492 0.0 0.0 \n",
      "\n",
      "Note: Absorber inlet is subcooled\n",
      "383 54.0 128.088538407 0.0 63.1713670265 \n",
      "\n",
      "Note: Absorber inlet is subcooled\n",
      "384 54.0 127.936738464 0.0 0.0 \n",
      "\n",
      "Note: Absorber inlet is subcooled\n",
      "385 54.0 127.784940117 0.0 0.0 \n",
      "\n",
      "Note: Absorber inlet is subcooled\n",
      "386 55.0 127.936738464 0.0 0.0 \n",
      "\n",
      "Note: Absorber inlet is subcooled\n",
      "387 55.0 128.088537756 0.0 74.6268666407 \n",
      "\n",
      "Note: Absorber inlet is subcooled\n",
      "388 55.0 127.937000892 0.0 0.0 \n",
      "\n",
      "Note: Absorber inlet is subcooled\n",
      "389 55.0 128.088800495 0.0 75.6699250784 \n",
      "\n",
      "Note: Absorber inlet is subcooled\n",
      "390 55.0 127.937000894 0.0 0.0 \n",
      "\n",
      "Note: Absorber inlet is subcooled\n",
      "391 55.0 127.785201642 0.0 0.0 \n",
      "\n",
      "Note: Absorber inlet is subcooled\n",
      "392 55.0 127.93700093 0.0 0.0 \n",
      "\n",
      "Note: Absorber inlet is subcooled\n",
      "393 56.0 128.088800939 0.0 102.145646506 \n",
      "\n",
      "Note: Absorber inlet is subcooled\n",
      "394 56.0 127.861101396 0.0 0.0 \n",
      "\n",
      "Note: Absorber inlet is subcooled\n",
      "395 56.0 127.985576928 0.0 0.0 \n",
      "\n",
      "Note: Absorber inlet is subcooled\n",
      "396 56.0 128.034152931 0.0 0.0 \n",
      "\n",
      "Note: Absorber inlet is subcooled\n",
      "397 56.0 128.082728938 0.0 72.0960239362 \n",
      "\n",
      "Note: Absorber inlet is subcooled\n",
      "398 56.0 128.034152797 0.0 0.0 \n",
      "\n",
      "Note: Absorber inlet is subcooled\n",
      "399 56.0 128.004259952 0.0 0.0 \n",
      "\n",
      "Note: Absorber inlet is subcooled\n",
      "400 57.0 128.034152931 0.0 0.0 \n",
      "\n"
     ]
    },
    {
     "data": {
      "text/plain": [
       "'Third pass and we have this ... '"
      ]
     },
     "metadata": {},
     "output_type": "display_data"
    },
    {
     "name": "stdout",
     "output_type": "stream",
     "text": [
      "Note: Absorber inlet is subcooled\n"
     ]
    },
    {
     "data": {
      "text/html": [
       "<table>\n",
       "<thead>\n",
       "<tr><th>name  </th><th style=\"text-align: right;\">   deltaT</th><th style=\"text-align: right;\">  epsilon</th><th style=\"text-align: right;\">       UA</th><th style=\"text-align: right;\">       Q</th></tr>\n",
       "</thead>\n",
       "<tbody>\n",
       "<tr><td>gen   </td><td style=\"text-align: right;\">4.59327  </td><td style=\"text-align: right;\"> 0.944479</td><td style=\"text-align: right;\"> 13.8375 </td><td style=\"text-align: right;\">189.054 </td></tr>\n",
       "<tr><td>rect  </td><td style=\"text-align: right;\">5.69765  </td><td style=\"text-align: right;\"> 0.824097</td><td style=\"text-align: right;\">  1.42883</td><td style=\"text-align: right;\"> 13.4535</td></tr>\n",
       "<tr><td>abs   </td><td style=\"text-align: right;\">0.0532557</td><td style=\"text-align: right;\"> 0.996993</td><td style=\"text-align: right;\">162.557  </td><td style=\"text-align: right;\">182.646 </td></tr>\n",
       "<tr><td>cond  </td><td style=\"text-align: right;\">1.80619  </td><td style=\"text-align: right;\"> 0.967714</td><td style=\"text-align: right;\"> 32.0739 </td><td style=\"text-align: right;\">121.142 </td></tr>\n",
       "<tr><td>evap  </td><td style=\"text-align: right;\">0.0295339</td><td style=\"text-align: right;\"> 0.996154</td><td style=\"text-align: right;\"> 93.0342 </td><td style=\"text-align: right;\">127.878 </td></tr>\n",
       "<tr><td>total </td><td style=\"text-align: right;\">0        </td><td style=\"text-align: right;\"> 0       </td><td style=\"text-align: right;\">302.931  </td><td style=\"text-align: right;\">  0     </td></tr>\n",
       "</tbody>\n",
       "</table>"
      ],
      "text/plain": [
       "name       deltaT    epsilon         UA         Q\n",
       "------  ---------  ---------  ---------  --------\n",
       "gen     4.59327     0.944479   13.8375   189.054\n",
       "rect    5.69765     0.824097    1.42883   13.4535\n",
       "abs     0.0532557   0.996993  162.557    182.646\n",
       "cond    1.80619     0.967714   32.0739   121.142\n",
       "evap    0.0295339   0.996154   93.0342   127.878\n",
       "totalUA = 302.9313759501793"
      ]
     },
     "metadata": {},
     "output_type": "display_data"
    },
    {
     "name": "stdout",
     "output_type": "stream",
     "text": [
      "Case 2, T_heat_reject = 303.15 K\n",
      "Note: Absorber inlet is subcooled\n",
      "211 30.0 19.9331400856 1.55372380346e-306 0.0 \n",
      "\n",
      "Note: Absorber inlet is subcooled\n",
      "212 30.0 59.7994202567 1.55372380346e-306 0.0 \n",
      "\n",
      "Note: Absorber inlet is subcooled\n",
      "213 30.0 59.99131292 1.98845108119e-305 0.0 \n",
      "\n",
      "Note: Absorber inlet is subcooled\n",
      "214 30.0 59.8837069901 1.82759732759e-306 0.0 \n",
      "\n",
      "Note: Absorber inlet is subcooled\n",
      "215 30.0 59.99131292 1.48189931183e-304 0.0 \n",
      "\n",
      "Note: Absorber inlet is subcooled\n",
      "216 30.0 59.8182702399 2.1117748481e-306 0.0 \n",
      "\n",
      "Note: Absorber inlet is subcooled\n",
      "217 30.0 60.0605796362 1.98845108119e-305 0.0 \n",
      "\n",
      "Note: Absorber inlet is subcooled\n",
      "218 31.0 100.103386032 0.0 0.0 \n",
      "\n",
      "Note: Absorber inlet is subcooled\n",
      "219 31.0 140.148954111 0.0 3382.59617044 \n",
      "\n",
      "Note: Absorber inlet is subcooled\n",
      "220 31.0 86.0536995635 0.0 0.0 \n",
      "\n",
      "Note: Absorber inlet is subcooled\n",
      "221 31.0 100.13550747 0.0 0.0 \n",
      "\n",
      "Note: Absorber inlet is subcooled\n",
      "222 31.0 94.8860201301 0.0 0.0 \n",
      "\n",
      "Note: Absorber inlet is subcooled\n",
      "223 31.0 100.127266056 0.0 0.0 \n",
      "\n",
      "Note: Absorber inlet is subcooled\n",
      "224 31.0 93.895029525 0.0 0.0 \n",
      "\n",
      "Note: Absorber inlet is subcooled\n",
      "225 32.0 88.5438489987 0.0 0.0 \n",
      "\n",
      "Note: Absorber inlet is subcooled\n",
      "226 32.0 110.154844435 0.0 0.0 \n",
      "\n",
      "Note: Absorber inlet is subcooled\n",
      "227 32.0 120.174458081 0.0 0.0 \n",
      "\n",
      "Note: Absorber inlet is subcooled\n",
      "228 32.0 130.194347414 0.0 0.0 \n",
      "\n",
      "Note: Absorber inlet is subcooled\n",
      "229 32.0 140.214509452 0.0 5056.81922558 \n",
      "\n",
      "Note: Absorber inlet is subcooled\n",
      "230 32.0 130.200427035 0.0 0.0 \n",
      "\n",
      "Note: Absorber inlet is subcooled\n",
      "231 32.0 128.283123348 0.0 0.0 \n",
      "\n",
      "Note: Absorber inlet is subcooled\n",
      "232 33.0 130.185739116 0.0 0.0 \n",
      "\n",
      "Note: Absorber inlet is subcooled\n",
      "233 33.0 128.978319341 0.0 0.0 \n",
      "\n",
      "Note: Absorber inlet is subcooled\n",
      "234 33.0 130.194012256 0.0 0.0 \n",
      "\n",
      "Note: Absorber inlet is subcooled\n",
      "235 33.0 120.442840676 0.0 0.0 \n",
      "\n",
      "Note: Absorber inlet is subcooled\n",
      "236 33.0 135.211180654 0.0 1628.6740463 \n",
      "\n",
      "Note: Absorber inlet is subcooled\n",
      "237 33.0 127.760848376 0.0 0.0 \n",
      "\n",
      "Note: Absorber inlet is subcooled\n",
      "238 33.0 130.440625304 0.0 0.0 \n",
      "\n",
      "Note: Absorber inlet is subcooled\n",
      "239 34.0 132.94579568 0.0 592.993256447 \n",
      "\n",
      "Note: Absorber inlet is subcooled\n",
      "240 34.0 130.440564903 0.0 0.0 \n",
      "\n",
      "Note: Absorber inlet is subcooled\n",
      "241 34.0 127.982436089 0.0 0.0 \n",
      "\n",
      "Note: Absorber inlet is subcooled\n",
      "242 34.0 131.693207584 0.0 145.333616037 \n",
      "\n",
      "Note: Absorber inlet is subcooled\n",
      "243 34.0 130.440629119 0.0 0.0 \n",
      "\n",
      "Note: Absorber inlet is subcooled\n",
      "244 34.0 129.211694924 0.0 0.0 \n",
      "\n",
      "Note: Absorber inlet is subcooled\n",
      "245 34.0 130.441443623 0.0 0.0 \n",
      "\n",
      "Note: Absorber inlet is subcooled\n",
      "246 35.0 131.694079758 0.0 202.387363697 \n",
      "\n",
      "Note: Absorber inlet is subcooled\n",
      "247 35.0 130.441453655 0.0 0.0 \n",
      "\n",
      "Note: Absorber inlet is subcooled\n",
      "248 35.0 129.212306466 0.0 0.0 \n",
      "\n",
      "Note: Absorber inlet is subcooled\n",
      "249 35.0 131.067803054 0.0 50.1473820396 \n",
      "\n",
      "Note: Absorber inlet is subcooled\n",
      "250 35.0 130.441453484 0.0 0.0 \n",
      "\n",
      "Note: Absorber inlet is subcooled\n",
      "251 35.0 129.827020985 0.0 0.0 \n",
      "\n",
      "Note: Absorber inlet is subcooled\n",
      "252 35.0 130.502234357 0.0 0.296373393887 \n",
      "\n",
      "Note: Absorber inlet is subcooled\n",
      "253 36.0 130.855067716 0.0 30.9444370245 \n",
      "\n",
      "Note: Absorber inlet is subcooled\n",
      "254 36.0 130.505932873 0.0 0.464797857381 \n",
      "\n",
      "Note: Absorber inlet is subcooled\n",
      "255 36.0 130.441454491 0.0 0.0 \n",
      "\n",
      "Note: Absorber inlet is subcooled\n",
      "256 36.0 130.579019378 0.0 3.39678139021 \n",
      "\n",
      "Note: Absorber inlet is subcooled\n",
      "257 36.0 130.441454361 0.0 0.0 \n",
      "\n",
      "Note: Absorber inlet is subcooled\n",
      "258 36.0 130.131284865 0.0 0.0 \n",
      "\n",
      "Note: Absorber inlet is subcooled\n",
      "259 36.0 130.474618615 0.0 0.100636825862 \n",
      "\n",
      "Note: Absorber inlet is subcooled\n",
      "260 37.0 130.44145433 0.0 0.0 \n",
      "\n"
     ]
    },
    {
     "data": {
      "text/plain": [
       "'First pass and we have this ... '"
      ]
     },
     "metadata": {},
     "output_type": "display_data"
    },
    {
     "name": "stdout",
     "output_type": "stream",
     "text": [
      "Note: Absorber inlet is subcooled\n"
     ]
    },
    {
     "data": {
      "text/html": [
       "<table>\n",
       "<thead>\n",
       "<tr><th>name  </th><th style=\"text-align: right;\">   deltaT</th><th style=\"text-align: right;\">  epsilon</th><th style=\"text-align: right;\">       UA</th><th style=\"text-align: right;\">       Q</th></tr>\n",
       "</thead>\n",
       "<tbody>\n",
       "<tr><td>gen   </td><td style=\"text-align: right;\">4.7376   </td><td style=\"text-align: right;\"> 0.928577</td><td style=\"text-align: right;\"> 27.6219 </td><td style=\"text-align: right;\">203.176 </td></tr>\n",
       "<tr><td>rect  </td><td style=\"text-align: right;\">7.8445   </td><td style=\"text-align: right;\"> 0.770793</td><td style=\"text-align: right;\">  1.24269</td><td style=\"text-align: right;\"> 15.7568</td></tr>\n",
       "<tr><td>abs   </td><td style=\"text-align: right;\">0.249032 </td><td style=\"text-align: right;\"> 0.987074</td><td style=\"text-align: right;\"> 99.8262 </td><td style=\"text-align: right;\">194.275 </td></tr>\n",
       "<tr><td>cond  </td><td style=\"text-align: right;\">1.393    </td><td style=\"text-align: right;\"> 0.968503</td><td style=\"text-align: right;\"> 38.0245 </td><td style=\"text-align: right;\">124.056 </td></tr>\n",
       "<tr><td>evap  </td><td style=\"text-align: right;\">0.0103254</td><td style=\"text-align: right;\"> 0.998679</td><td style=\"text-align: right;\">110.891  </td><td style=\"text-align: right;\">130.441 </td></tr>\n",
       "<tr><td>total </td><td style=\"text-align: right;\">0        </td><td style=\"text-align: right;\"> 0       </td><td style=\"text-align: right;\">277.606  </td><td style=\"text-align: right;\">  0     </td></tr>\n",
       "</tbody>\n",
       "</table>"
      ],
      "text/plain": [
       "name       deltaT    epsilon         UA         Q\n",
       "------  ---------  ---------  ---------  --------\n",
       "gen     4.7376      0.928577   27.6219   203.176\n",
       "rect    7.8445      0.770793    1.24269   15.7568\n",
       "abs     0.249032    0.987074   99.8262   194.275\n",
       "cond    1.393       0.968503   38.0245   124.056\n",
       "evap    0.0103254   0.998679  110.891    130.441\n",
       "totalUA = 277.60584130334587"
      ]
     },
     "metadata": {},
     "output_type": "display_data"
    },
    {
     "name": "stdout",
     "output_type": "stream",
     "text": [
      "Note: Absorber inlet is subcooled\n",
      "281 40.0 130.441454491 0.0 0.0 \n",
      "\n",
      "Note: Absorber inlet is subcooled\n",
      "282 40.0 170.52307329 0.0 17485258.3814 \n",
      "\n",
      "Note: Absorber inlet is subcooled\n",
      "283 40.0 130.858162717 0.0 2509.1821583 \n",
      "\n",
      "Note: Absorber inlet is subcooled\n",
      "284 40.0 130.208348306 0.0 0.0 \n",
      "\n",
      "Note: Absorber inlet is subcooled\n",
      "285 40.0 130.441454491 0.0 0.0 \n",
      "\n",
      "Note: Absorber inlet is subcooled\n",
      "286 40.0 130.066125676 0.0 0.0 \n",
      "\n",
      "Note: Absorber inlet is subcooled\n",
      "287 40.0 130.591384769 0.0 12.1603681215 \n",
      "\n",
      "Note: Absorber inlet is subcooled\n",
      "288 41.0 90.3597946504 0.0 0.0 \n",
      "\n",
      "Note: Absorber inlet is subcooled\n",
      "289 41.0 110.400619974 0.0 0.0 \n",
      "\n",
      "Note: Absorber inlet is subcooled\n",
      "290 41.0 130.498596166 0.0 0.0 \n",
      "\n",
      "Note: Absorber inlet is subcooled\n",
      "291 41.0 130.480055926 0.0 0.0 \n",
      "\n",
      "Note: Absorber inlet is subcooled\n",
      "292 41.0 140.512398717 0.0 73275.3669528 \n",
      "\n",
      "Note: Absorber inlet is subcooled\n",
      "293 41.0 130.498703194 0.0 0.0 \n",
      "\n",
      "Note: Absorber inlet is subcooled\n",
      "294 41.0 120.482074698 0.0 0.0 \n",
      "\n",
      "Note: Absorber inlet is subcooled\n",
      "295 42.0 130.527371441 0.0 0.0 \n",
      "\n",
      "Note: Absorber inlet is subcooled\n",
      "296 42.0 140.54697897 0.0 99621.6427709 \n",
      "\n",
      "Note: Absorber inlet is subcooled\n",
      "297 42.0 130.527371441 0.0 0.0 \n",
      "\n",
      "Note: Absorber inlet is subcooled\n",
      "298 42.0 120.508542915 0.0 0.0 \n",
      "\n",
      "Note: Absorber inlet is subcooled\n",
      "299 42.0 135.537128507 0.0 23209.9390488 \n",
      "\n",
      "Note: Absorber inlet is subcooled\n",
      "300 42.0 130.527369144 0.0 0.0 \n",
      "\n",
      "Note: Absorber inlet is subcooled\n",
      "301 42.0 125.517815124 0.0 0.0 \n",
      "\n",
      "Note: Absorber inlet is subcooled\n",
      "302 43.0 133.0322383 0.0 6748.94233342 \n",
      "\n",
      "Note: Absorber inlet is subcooled\n",
      "303 43.0 130.527367135 0.0 0.0 \n",
      "\n",
      "Note: Absorber inlet is subcooled\n",
      "304 43.0 128.022567387 0.0 0.0 \n",
      "\n",
      "Note: Absorber inlet is subcooled\n",
      "305 43.0 130.52739117 0.0 0.0 \n",
      "\n",
      "Note: Absorber inlet is subcooled\n",
      "306 43.0 133.03248336 0.0 6750.46600718 \n",
      "\n",
      "Note: Absorber inlet is subcooled\n",
      "307 43.0 129.274873947 0.0 0.0 \n",
      "\n",
      "Note: Absorber inlet is subcooled\n",
      "308 43.0 130.52739117 0.0 0.0 \n",
      "\n",
      "Note: Absorber inlet is subcooled\n",
      "309 44.0 131.779934347 0.0 1628.31737479 \n",
      "\n",
      "Note: Absorber inlet is subcooled\n",
      "310 44.0 130.530975288 0.0 0.0 \n",
      "\n",
      "Note: Absorber inlet is subcooled\n",
      "311 44.0 131.783552837 0.0 1641.19346631 \n",
      "\n",
      "Note: Absorber inlet is subcooled\n",
      "312 44.0 130.530972872 0.0 0.0 \n",
      "\n",
      "Note: Absorber inlet is subcooled\n",
      "313 44.0 129.278423722 0.0 0.0 \n",
      "\n",
      "Note: Absorber inlet is subcooled\n",
      "314 44.0 131.157263333 0.0 167.918324152 \n",
      "\n",
      "Note: Absorber inlet is subcooled\n",
      "315 44.0 130.530975526 0.0 0.0 \n",
      "\n",
      "Note: Absorber inlet is subcooled\n",
      "316 45.0 129.904704723 0.0 0.0 \n",
      "\n",
      "Note: Absorber inlet is subcooled\n",
      "317 45.0 130.530980209 0.0 0.0 \n",
      "\n",
      "Note: Absorber inlet is subcooled\n",
      "318 45.0 131.157276789 0.0 226.783242527 \n",
      "\n",
      "Note: Absorber inlet is subcooled\n",
      "319 45.0 130.217837598 0.0 0.0 \n",
      "\n",
      "Note: Absorber inlet is subcooled\n",
      "320 45.0 130.530980209 0.0 0.0 \n",
      "\n",
      "Note: Absorber inlet is subcooled\n",
      "321 45.0 130.844128317 0.0 0.0 \n",
      "\n",
      "Note: Absorber inlet is subcooled\n",
      "322 45.0 131.157276789 0.0 226.783242524 \n",
      "\n",
      "Note: Absorber inlet is subcooled\n",
      "323 46.0 130.844130436 0.0 0.0 \n",
      "\n",
      "Note: Absorber inlet is subcooled\n",
      "324 46.0 130.71643647 0.0 0.0 \n",
      "\n",
      "Note: Absorber inlet is subcooled\n",
      "325 46.0 130.84412649 0.0 0.0 \n",
      "\n",
      "Note: Absorber inlet is subcooled\n",
      "326 46.0 130.805621903 0.0 0.0 \n",
      "\n",
      "Note: Absorber inlet is subcooled\n",
      "327 46.0 130.832552668 0.0 0.0 \n",
      "\n",
      "Note: Absorber inlet is subcooled\n",
      "328 46.0 130.724734037 0.0 0.0 \n",
      "\n",
      "Note: Absorber inlet is subcooled\n",
      "329 46.0 130.716242704 0.0 0.0 \n",
      "\n",
      "Note: Absorber inlet is subcooled\n",
      "330 47.0 131.0007057 0.0 90.7261889894 \n",
      "\n"
     ]
    },
    {
     "data": {
      "text/plain": [
       "'Second pass and we have this ... '"
      ]
     },
     "metadata": {},
     "output_type": "display_data"
    },
    {
     "name": "stdout",
     "output_type": "stream",
     "text": [
      "Note: Absorber inlet is subcooled\n"
     ]
    },
    {
     "data": {
      "text/html": [
       "<table>\n",
       "<thead>\n",
       "<tr><th>name  </th><th style=\"text-align: right;\">   deltaT</th><th style=\"text-align: right;\">  epsilon</th><th style=\"text-align: right;\">       UA</th><th style=\"text-align: right;\">       Q</th></tr>\n",
       "</thead>\n",
       "<tbody>\n",
       "<tr><td>gen   </td><td style=\"text-align: right;\">4.73849  </td><td style=\"text-align: right;\"> 0.92856 </td><td style=\"text-align: right;\"> 28.0021 </td><td style=\"text-align: right;\">203.826 </td></tr>\n",
       "<tr><td>rect  </td><td style=\"text-align: right;\">7.85109  </td><td style=\"text-align: right;\"> 0.770432</td><td style=\"text-align: right;\">  1.24671</td><td style=\"text-align: right;\"> 15.7945</td></tr>\n",
       "<tr><td>abs   </td><td style=\"text-align: right;\">0.232539 </td><td style=\"text-align: right;\"> 0.987928</td><td style=\"text-align: right;\">103.252  </td><td style=\"text-align: right;\">194.893 </td></tr>\n",
       "<tr><td>cond  </td><td style=\"text-align: right;\">1.36067  </td><td style=\"text-align: right;\"> 0.968558</td><td style=\"text-align: right;\"> 38.5732 </td><td style=\"text-align: right;\">124.453 </td></tr>\n",
       "<tr><td>evap  </td><td style=\"text-align: right;\">0.0111087</td><td style=\"text-align: right;\"> 0.998583</td><td style=\"text-align: right;\">109.721  </td><td style=\"text-align: right;\">130.844 </td></tr>\n",
       "<tr><td>total </td><td style=\"text-align: right;\">0        </td><td style=\"text-align: right;\"> 0       </td><td style=\"text-align: right;\">280.795  </td><td style=\"text-align: right;\">  0     </td></tr>\n",
       "</tbody>\n",
       "</table>"
      ],
      "text/plain": [
       "name       deltaT    epsilon         UA         Q\n",
       "------  ---------  ---------  ---------  --------\n",
       "gen     4.73849     0.92856    28.0021   203.826\n",
       "rect    7.85109     0.770432    1.24671   15.7945\n",
       "abs     0.232539    0.987928  103.252    194.893\n",
       "cond    1.36067     0.968558   38.5732   124.453\n",
       "evap    0.0111087   0.998583  109.721    130.844\n",
       "totalUA = 280.79534840817104"
      ]
     },
     "metadata": {},
     "output_type": "display_data"
    },
    {
     "name": "stdout",
     "output_type": "stream",
     "text": [
      "Note: Absorber inlet is subcooled\n",
      "351 50.0 130.844130436 0.0 0.0 \n",
      "\n",
      "Note: Absorber inlet is subcooled\n",
      "352 50.0 134.851967143 0.0 186185.771331 \n",
      "\n",
      "Note: Absorber inlet is subcooled\n",
      "353 50.0 130.885901065 0.0 420.805617671 \n",
      "\n",
      "Note: Absorber inlet is subcooled\n",
      "354 50.0 130.821146007 0.0 0.0 \n",
      "\n",
      "Note: Absorber inlet is subcooled\n",
      "355 50.0 130.844130436 0.0 0.0 \n",
      "\n",
      "Note: Absorber inlet is subcooled\n",
      "356 50.0 130.80645533 0.0 0.0 \n",
      "\n",
      "Note: Absorber inlet is subcooled\n",
      "357 50.0 130.859181492 0.0 0.0 \n",
      "\n",
      "Note: Absorber inlet is subcooled\n",
      "358 51.0 126.850802513 0.0 0.0 \n",
      "\n",
      "Note: Absorber inlet is subcooled\n",
      "359 51.0 130.861919943 0.0 0.0 \n",
      "\n",
      "Note: Absorber inlet is subcooled\n",
      "360 51.0 130.871341085 0.0 0.0 \n",
      "\n",
      "Note: Absorber inlet is subcooled\n",
      "361 51.0 132.875566427 0.0 58858.8734849 \n",
      "\n",
      "Note: Absorber inlet is subcooled\n",
      "362 51.0 130.871341498 0.0 0.0 \n",
      "\n",
      "Note: Absorber inlet is subcooled\n",
      "363 51.0 128.867145045 0.0 0.0 \n",
      "\n",
      "Note: Absorber inlet is subcooled\n",
      "364 51.0 130.871341498 0.0 0.0 \n",
      "\n",
      "Note: Absorber inlet is subcooled\n",
      "365 52.0 132.875654785 0.0 79458.3967608 \n",
      "\n",
      "Note: Absorber inlet is subcooled\n",
      "366 52.0 130.875104513 0.0 0.0 \n",
      "\n",
      "Note: Absorber inlet is subcooled\n",
      "367 52.0 132.879475412 0.0 79773.3150494 \n",
      "\n",
      "Note: Absorber inlet is subcooled\n",
      "368 52.0 129.872976283 0.0 0.0 \n",
      "\n",
      "Note: Absorber inlet is subcooled\n",
      "369 52.0 130.87578924 0.0 0.0 \n",
      "\n",
      "Note: Absorber inlet is subcooled\n",
      "370 52.0 131.877932864 0.0 17718.8762672 \n",
      "\n",
      "Note: Absorber inlet is subcooled\n",
      "371 52.0 130.374744807 0.0 0.0 \n",
      "\n",
      "Note: Absorber inlet is subcooled\n",
      "372 53.0 130.878144611 0.0 0.0 \n",
      "\n",
      "Note: Absorber inlet is subcooled\n",
      "373 53.0 131.379224971 0.0 4902.90922389 \n",
      "\n",
      "Note: Absorber inlet is subcooled\n",
      "374 53.0 130.878144533 0.0 0.0 \n",
      "\n",
      "Note: Absorber inlet is subcooled\n",
      "375 53.0 130.377091168 0.0 0.0 \n",
      "\n",
      "Note: Absorber inlet is subcooled\n",
      "376 53.0 130.878144611 0.0 0.0 \n",
      "\n",
      "Note: Absorber inlet is subcooled\n",
      "377 53.0 131.379224971 0.0 4902.90923662 \n",
      "\n",
      "Note: Absorber inlet is subcooled\n",
      "378 53.0 130.879085492 0.0 0.0 \n",
      "\n",
      "Note: Absorber inlet is subcooled\n",
      "379 54.0 131.380169453 0.0 6648.56820531 \n",
      "\n",
      "Note: Absorber inlet is subcooled\n",
      "380 54.0 130.879085493 0.0 0.0 \n",
      "\n",
      "Note: Absorber inlet is subcooled\n",
      "381 54.0 130.378026492 0.0 0.0 \n",
      "\n",
      "Note: Absorber inlet is subcooled\n",
      "382 54.0 131.129627335 0.0 1032.93940751 \n",
      "\n",
      "Note: Absorber inlet is subcooled\n",
      "383 54.0 130.879085453 0.0 0.0 \n",
      "\n",
      "Note: Absorber inlet is subcooled\n",
      "384 54.0 130.628555681 0.0 0.0 \n",
      "\n",
      "Note: Absorber inlet is subcooled\n",
      "385 54.0 131.004356385 0.0 55.3492428758 \n",
      "\n",
      "Note: Absorber inlet is subcooled\n",
      "386 55.0 130.879085494 0.0 0.0 \n",
      "\n",
      "Note: Absorber inlet is subcooled\n",
      "387 55.0 130.75382043 0.0 0.0 \n",
      "\n",
      "Note: Absorber inlet is subcooled\n",
      "388 55.0 130.879663617 0.0 0.0 \n",
      "\n",
      "Note: Absorber inlet is subcooled\n",
      "389 55.0 131.0049352 0.0 77.0233371802 \n",
      "\n",
      "Note: Absorber inlet is subcooled\n",
      "390 55.0 130.879663616 0.0 0.0 \n",
      "\n",
      "Note: Absorber inlet is subcooled\n",
      "391 55.0 130.754397434 0.0 0.0 \n",
      "\n",
      "Note: Absorber inlet is subcooled\n",
      "392 55.0 130.87966362 0.0 0.0 \n",
      "\n",
      "Note: Absorber inlet is subcooled\n",
      "393 56.0 131.0049352 0.0 103.970631711 \n",
      "\n",
      "Note: Absorber inlet is subcooled\n",
      "394 56.0 130.817030523 0.0 0.0 \n",
      "\n",
      "Note: Absorber inlet is subcooled\n",
      "395 56.0 130.879663626 0.0 0.0 \n",
      "\n",
      "Note: Absorber inlet is subcooled\n",
      "396 56.0 130.942299565 0.0 0.0 \n",
      "\n",
      "Note: Absorber inlet is subcooled\n",
      "397 56.0 131.004935518 0.0 111.145300361 \n",
      "\n",
      "Note: Absorber inlet is subcooled\n",
      "398 56.0 130.924380476 0.0 0.0 \n",
      "\n",
      "Note: Absorber inlet is subcooled\n",
      "399 56.0 130.942299565 0.0 0.0 \n",
      "\n",
      "Note: Absorber inlet is subcooled\n",
      "400 57.0 130.918403018 0.0 0.0 \n",
      "\n"
     ]
    },
    {
     "data": {
      "text/plain": [
       "'Third pass and we have this ... '"
      ]
     },
     "metadata": {},
     "output_type": "display_data"
    },
    {
     "name": "stdout",
     "output_type": "stream",
     "text": [
      "Note: Absorber inlet is subcooled\n"
     ]
    },
    {
     "data": {
      "text/html": [
       "<table>\n",
       "<thead>\n",
       "<tr><th>name  </th><th style=\"text-align: right;\">   deltaT</th><th style=\"text-align: right;\">  epsilon</th><th style=\"text-align: right;\">       UA</th><th style=\"text-align: right;\">       Q</th></tr>\n",
       "</thead>\n",
       "<tbody>\n",
       "<tr><td>gen   </td><td style=\"text-align: right;\">4.73849  </td><td style=\"text-align: right;\"> 0.92856 </td><td style=\"text-align: right;\"> 28.0021 </td><td style=\"text-align: right;\">203.826 </td></tr>\n",
       "<tr><td>rect  </td><td style=\"text-align: right;\">7.85109  </td><td style=\"text-align: right;\"> 0.770432</td><td style=\"text-align: right;\">  1.24671</td><td style=\"text-align: right;\"> 15.7945</td></tr>\n",
       "<tr><td>abs   </td><td style=\"text-align: right;\">0.232539 </td><td style=\"text-align: right;\"> 0.987928</td><td style=\"text-align: right;\">103.252  </td><td style=\"text-align: right;\">194.893 </td></tr>\n",
       "<tr><td>cond  </td><td style=\"text-align: right;\">1.36067  </td><td style=\"text-align: right;\"> 0.968558</td><td style=\"text-align: right;\"> 38.5732 </td><td style=\"text-align: right;\">124.453 </td></tr>\n",
       "<tr><td>evap  </td><td style=\"text-align: right;\">0.0111087</td><td style=\"text-align: right;\"> 0.998583</td><td style=\"text-align: right;\">109.721  </td><td style=\"text-align: right;\">130.844 </td></tr>\n",
       "<tr><td>total </td><td style=\"text-align: right;\">0        </td><td style=\"text-align: right;\"> 0       </td><td style=\"text-align: right;\">280.795  </td><td style=\"text-align: right;\">  0     </td></tr>\n",
       "</tbody>\n",
       "</table>"
      ],
      "text/plain": [
       "name       deltaT    epsilon         UA         Q\n",
       "------  ---------  ---------  ---------  --------\n",
       "gen     4.73849     0.92856    28.0021   203.826\n",
       "rect    7.85109     0.770432    1.24671   15.7945\n",
       "abs     0.232539    0.987928  103.252    194.893\n",
       "cond    1.36067     0.968558   38.5732   124.453\n",
       "evap    0.0111087   0.998583  109.721    130.844\n",
       "totalUA = 280.79534840817104"
      ]
     },
     "metadata": {},
     "output_type": "display_data"
    },
    {
     "name": "stdout",
     "output_type": "stream",
     "text": [
      "Case 3, T_heat_reject = 308.15 K\n",
      "Note: Absorber inlet is subcooled\n",
      "211 30.0 15.2618651202 0.0 0.0 \n",
      "\n",
      "Note: Absorber inlet is subcooled\n",
      "212 30.0 45.7855953606 0.0 0.0 \n",
      "\n",
      "Note: Absorber inlet is subcooled\n",
      "213 30.0 45.9716522196 0.0 0.0 \n",
      "\n",
      "Note: Absorber inlet is subcooled\n",
      "214 30.0 45.8534097791 0.0 0.0 \n",
      "\n",
      "Note: Absorber inlet is subcooled\n",
      "215 30.0 45.9716522196 0.0 0.0 \n",
      "\n",
      "Note: Absorber inlet is subcooled\n",
      "216 30.0 45.8072772852 0.0 0.0 \n",
      "\n",
      "Note: Absorber inlet is subcooled\n",
      "217 30.0 46.0525326126 0.0 0.0 \n",
      "\n",
      "Note: Absorber inlet is subcooled\n",
      "218 31.0 76.7573512575 0.0 0.0 \n",
      "\n",
      "Note: Absorber inlet is subcooled\n",
      "219 31.0 107.465735928 0.0 0.0 \n",
      "\n",
      "Note: Absorber inlet is subcooled\n",
      "220 31.0 138.177666994 0.0 1463186.64115 \n",
      "\n",
      "Note: Absorber inlet is subcooled\n",
      "221 31.0 107.58959751 0.0 0.0 \n",
      "\n",
      "Note: Absorber inlet is subcooled\n",
      "222 31.0 93.9176322107 0.0 0.0 \n",
      "\n",
      "Note: Absorber inlet is subcooled\n",
      "223 31.0 107.698969248 0.0 0.0 \n",
      "\n",
      "Note: Absorber inlet is subcooled\n",
      "224 31.0 99.4908168 0.0 0.0 \n",
      "\n",
      "Note: Absorber inlet is subcooled\n",
      "225 32.0 107.643902876 0.0 0.0 \n",
      "\n",
      "Note: Absorber inlet is subcooled\n",
      "226 32.0 81.3496076949 0.0 0.0 \n",
      "\n",
      "Note: Absorber inlet is subcooled\n",
      "227 32.0 123.114687398 0.0 458591.329309 \n",
      "\n",
      "Note: Absorber inlet is subcooled\n",
      "228 32.0 100.856005728 0.0 0.0 \n",
      "\n",
      "Note: Absorber inlet is subcooled\n",
      "229 32.0 101.105067347 0.0 0.0 \n",
      "\n",
      "Note: Absorber inlet is subcooled\n",
      "230 32.0 107.698904553 0.0 0.0 \n",
      "\n",
      "Note: Absorber inlet is subcooled\n",
      "231 32.0 105.648353613 0.0 0.0 \n",
      "\n",
      "Note: Absorber inlet is subcooled\n",
      "232 33.0 105.989238685 0.0 0.0 \n",
      "\n",
      "Note: Absorber inlet is subcooled\n",
      "233 33.0 107.705844088 0.0 0.0 \n",
      "\n",
      "Note: Absorber inlet is subcooled\n",
      "234 33.0 111.560016536 0.0 24930.5370462 \n",
      "\n",
      "Note: Absorber inlet is subcooled\n",
      "235 33.0 107.705830209 0.0 0.0 \n",
      "\n",
      "Note: Absorber inlet is subcooled\n",
      "236 33.0 106.680355522 0.0 0.0 \n",
      "\n",
      "Note: Absorber inlet is subcooled\n",
      "237 33.0 104.408057961 0.0 0.0 \n",
      "\n",
      "Note: Absorber inlet is subcooled\n",
      "238 33.0 106.850964472 0.0 0.0 \n",
      "\n",
      "Note: Absorber inlet is subcooled\n",
      "239 34.0 107.705855189 0.0 0.0 \n",
      "\n",
      "Note: Absorber inlet is subcooled\n",
      "240 34.0 109.632680571 0.0 3937.71521507 \n",
      "\n",
      "Note: Absorber inlet is subcooled\n",
      "241 34.0 107.449627 0.0 0.0 \n",
      "\n",
      "Note: Absorber inlet is subcooled\n",
      "242 34.0 107.705855426 0.0 0.0 \n",
      "\n",
      "Note: Absorber inlet is subcooled\n",
      "243 34.0 106.881434462 0.0 0.0 \n",
      "\n",
      "Note: Absorber inlet is subcooled\n",
      "244 34.0 107.705853138 0.0 0.0 \n",
      "\n",
      "Note: Absorber inlet is subcooled\n",
      "245 34.0 107.278480239 0.0 0.0 \n",
      "\n",
      "Note: Absorber inlet is subcooled\n",
      "246 35.0 108.187572235 0.0 0.0 \n",
      "\n",
      "Note: Absorber inlet is subcooled\n",
      "247 35.0 108.669291065 0.0 4.3809184181 \n",
      "\n",
      "Note: Absorber inlet is subcooled\n",
      "248 35.0 108.187564949 0.0 0.0 \n",
      "\n",
      "Note: Absorber inlet is subcooled\n",
      "249 35.0 107.970485556 0.0 0.0 \n",
      "\n",
      "Note: Absorber inlet is subcooled\n",
      "250 35.0 108.187556671 0.0 0.0 \n",
      "\n",
      "Note: Absorber inlet is subcooled\n",
      "251 35.0 108.054183089 0.0 0.0 \n",
      "\n",
      "Note: Absorber inlet is subcooled\n",
      "252 35.0 108.095007915 0.0 0.0 \n",
      "\n",
      "Note: Absorber inlet is subcooled\n",
      "253 36.0 108.017256175 0.0 0.0 \n",
      "\n",
      "Note: Absorber inlet is subcooled\n",
      "254 36.0 108.308001754 0.0 0.0 \n",
      "\n",
      "Note: Absorber inlet is subcooled\n",
      "255 36.0 108.4284314 0.0 0.0 \n",
      "\n",
      "Note: Absorber inlet is subcooled\n",
      "256 36.0 108.548861172 0.0 0.0 \n",
      "\n",
      "Note: Absorber inlet is subcooled\n",
      "257 36.0 108.669291071 0.0 5.91329509459 \n",
      "\n",
      "Note: Absorber inlet is subcooled\n",
      "258 36.0 108.54885976 0.0 0.0 \n",
      "\n",
      "Note: Absorber inlet is subcooled\n",
      "259 36.0 108.527644521 0.0 0.0 \n",
      "\n",
      "Note: Absorber inlet is subcooled\n",
      "260 37.0 108.548861742 0.0 0.0 \n",
      "\n"
     ]
    },
    {
     "data": {
      "text/plain": [
       "'First pass and we have this ... '"
      ]
     },
     "metadata": {},
     "output_type": "display_data"
    },
    {
     "name": "stdout",
     "output_type": "stream",
     "text": [
      "Note: Absorber inlet is subcooled\n"
     ]
    },
    {
     "data": {
      "text/html": [
       "<table>\n",
       "<thead>\n",
       "<tr><th>name  </th><th style=\"text-align: right;\">   deltaT</th><th style=\"text-align: right;\">  epsilon</th><th style=\"text-align: right;\">       UA</th><th style=\"text-align: right;\">       Q</th></tr>\n",
       "</thead>\n",
       "<tbody>\n",
       "<tr><td>gen   </td><td style=\"text-align: right;\">0.0453529</td><td style=\"text-align: right;\"> 0.998956</td><td style=\"text-align: right;\">124.808  </td><td style=\"text-align: right;\">181.433 </td></tr>\n",
       "<tr><td>rect  </td><td style=\"text-align: right;\">7.93188  </td><td style=\"text-align: right;\"> 0.8057  </td><td style=\"text-align: right;\">  1.15552</td><td style=\"text-align: right;\"> 17.1645</td></tr>\n",
       "<tr><td>abs   </td><td style=\"text-align: right;\">2.26958  </td><td style=\"text-align: right;\"> 0.891645</td><td style=\"text-align: right;\"> 29.7156 </td><td style=\"text-align: right;\">171.221 </td></tr>\n",
       "<tr><td>cond  </td><td style=\"text-align: right;\">2.40825  </td><td style=\"text-align: right;\"> 0.969135</td><td style=\"text-align: right;\"> 24.6252 </td><td style=\"text-align: right;\">102.215 </td></tr>\n",
       "<tr><td>evap  </td><td style=\"text-align: right;\">1.29735  </td><td style=\"text-align: right;\"> 0.983616</td><td style=\"text-align: right;\"> 30.0293 </td><td style=\"text-align: right;\">108.549 </td></tr>\n",
       "<tr><td>total </td><td style=\"text-align: right;\">0        </td><td style=\"text-align: right;\"> 0       </td><td style=\"text-align: right;\">210.333  </td><td style=\"text-align: right;\">  0     </td></tr>\n",
       "</tbody>\n",
       "</table>"
      ],
      "text/plain": [
       "name       deltaT    epsilon         UA         Q\n",
       "------  ---------  ---------  ---------  --------\n",
       "gen     0.0453529   0.998956  124.808    181.433\n",
       "rect    7.93188     0.8057      1.15552   17.1645\n",
       "abs     2.26958     0.891645   29.7156   171.221\n",
       "cond    2.40825     0.969135   24.6252   102.215\n",
       "evap    1.29735     0.983616   30.0293   108.549\n",
       "totalUA = 210.3331319725586"
      ]
     },
     "metadata": {},
     "output_type": "display_data"
    },
    {
     "name": "stdout",
     "output_type": "stream",
     "text": [
      "Note: Absorber inlet is subcooled\n",
      "281 40.0 108.548861742 0.0 0.0 \n",
      "\n",
      "Note: Absorber inlet is subcooled\n",
      "282 40.0 139.371601696 0.0 22928228.5407 \n",
      "\n",
      "Note: Absorber inlet is subcooled\n",
      "283 40.0 108.986261483 0.0 0.0 \n",
      "\n",
      "Note: Absorber inlet is subcooled\n",
      "284 40.0 108.709576827 0.0 0.0 \n",
      "\n",
      "Note: Absorber inlet is subcooled\n",
      "285 40.0 108.986261483 0.0 0.0 \n",
      "\n",
      "Note: Absorber inlet is subcooled\n",
      "286 40.0 108.599580147 0.0 0.0 \n",
      "\n",
      "Note: Absorber inlet is subcooled\n",
      "287 40.0 109.175241593 0.0 403.759633968 \n",
      "\n",
      "Note: Absorber inlet is subcooled\n",
      "288 41.0 78.0393183353 0.0 0.0 \n",
      "\n",
      "Note: Absorber inlet is subcooled\n",
      "289 41.0 110.074768591 0.0 32146.4013095 \n",
      "\n",
      "Note: Absorber inlet is subcooled\n",
      "290 41.0 109.037117157 0.0 0.0 \n",
      "\n",
      "Note: Absorber inlet is subcooled\n",
      "291 41.0 112.907151088 0.0 479888.156385 \n",
      "\n",
      "Note: Absorber inlet is subcooled\n",
      "292 41.0 101.297046998 0.0 0.0 \n",
      "\n",
      "Note: Absorber inlet is subcooled\n",
      "293 41.0 109.091815409 0.0 0.0 \n",
      "\n",
      "Note: Absorber inlet is subcooled\n",
      "294 41.0 116.837878554 0.0 1935380.98419 \n",
      "\n",
      "Note: Absorber inlet is subcooled\n",
      "295 42.0 109.091811357 0.0 0.0 \n",
      "\n",
      "Note: Absorber inlet is subcooled\n",
      "296 42.0 101.347343944 0.0 0.0 \n",
      "\n",
      "Note: Absorber inlet is subcooled\n",
      "297 42.0 109.126359505 0.0 0.0 \n",
      "\n",
      "Note: Absorber inlet is subcooled\n",
      "298 42.0 116.874873635 0.0 2611877.00735 \n",
      "\n",
      "Note: Absorber inlet is subcooled\n",
      "299 42.0 109.126359505 0.0 0.0 \n",
      "\n",
      "Note: Absorber inlet is subcooled\n",
      "300 42.0 101.379436179 0.0 0.0 \n",
      "\n",
      "Note: Absorber inlet is subcooled\n",
      "301 42.0 113.000551665 0.0 647783.035551 \n",
      "\n",
      "Note: Absorber inlet is subcooled\n",
      "302 43.0 109.126351085 0.0 0.0 \n",
      "\n",
      "Note: Absorber inlet is subcooled\n",
      "303 43.0 105.252798919 0.0 0.0 \n",
      "\n",
      "Note: Absorber inlet is subcooled\n",
      "304 43.0 111.063439365 0.0 215423.955391 \n",
      "\n",
      "Note: Absorber inlet is subcooled\n",
      "305 43.0 109.126357595 0.0 0.0 \n",
      "\n",
      "Note: Absorber inlet is subcooled\n",
      "306 43.0 107.189386345 0.0 0.0 \n",
      "\n",
      "Note: Absorber inlet is subcooled\n",
      "307 43.0 109.126359944 0.0 0.0 \n",
      "\n",
      "Note: Absorber inlet is subcooled\n",
      "308 43.0 111.063225363 0.0 218061.214384 \n",
      "\n",
      "Note: Absorber inlet is subcooled\n",
      "309 44.0 108.157977227 0.0 0.0 \n",
      "\n",
      "Note: Absorber inlet is subcooled\n",
      "310 44.0 109.130678158 0.0 0.0 \n",
      "\n",
      "Note: Absorber inlet is subcooled\n",
      "311 44.0 110.09914511 0.0 72338.8336125 \n",
      "\n",
      "Note: Absorber inlet is subcooled\n",
      "312 44.0 109.130678158 0.0 0.0 \n",
      "\n",
      "Note: Absorber inlet is subcooled\n",
      "313 44.0 108.162257142 0.0 0.0 \n",
      "\n",
      "Note: Absorber inlet is subcooled\n",
      "314 44.0 109.13067909 0.0 0.0 \n",
      "\n",
      "Note: Absorber inlet is subcooled\n",
      "315 44.0 110.099119868 0.0 72282.2673087 \n",
      "\n",
      "Note: Absorber inlet is subcooled\n",
      "316 45.0 108.646480829 0.0 0.0 \n",
      "\n",
      "Note: Absorber inlet is subcooled\n",
      "317 45.0 109.130678414 0.0 0.0 \n",
      "\n",
      "Note: Absorber inlet is subcooled\n",
      "318 45.0 109.614898466 0.0 23569.7981384 \n",
      "\n",
      "Note: Absorber inlet is subcooled\n",
      "319 45.0 109.130678823 0.0 0.0 \n",
      "\n",
      "Note: Absorber inlet is subcooled\n",
      "320 45.0 109.614898466 0.0 23569.797214 \n",
      "\n",
      "Note: Absorber inlet is subcooled\n",
      "321 45.0 109.372788525 0.0 5492.62462891 \n",
      "\n",
      "Note: Absorber inlet is subcooled\n",
      "322 45.0 109.130679113 0.0 0.0 \n",
      "\n",
      "Note: Absorber inlet is subcooled\n",
      "323 46.0 108.888567794 0.0 0.0 \n",
      "\n",
      "Note: Absorber inlet is subcooled\n",
      "324 46.0 109.130679113 0.0 0.0 \n",
      "\n",
      "Note: Absorber inlet is subcooled\n",
      "325 46.0 109.372790938 0.0 7336.69813723 \n",
      "\n",
      "Note: Absorber inlet is subcooled\n",
      "326 46.0 109.251734962 0.0 1562.15639184 \n",
      "\n",
      "Note: Absorber inlet is subcooled\n",
      "327 46.0 109.130679106 0.0 0.0 \n",
      "\n",
      "Note: Absorber inlet is subcooled\n",
      "328 46.0 109.00962339 0.0 0.0 \n",
      "\n",
      "Note: Absorber inlet is subcooled\n",
      "329 46.0 109.130679142 0.0 0.0 \n",
      "\n",
      "Note: Absorber inlet is subcooled\n",
      "330 47.0 109.251735829 0.0 2078.78467379 \n",
      "\n"
     ]
    },
    {
     "data": {
      "text/plain": [
       "'Second pass and we have this ... '"
      ]
     },
     "metadata": {},
     "output_type": "display_data"
    },
    {
     "name": "stdout",
     "output_type": "stream",
     "text": [
      "Note: Absorber inlet is subcooled\n"
     ]
    },
    {
     "data": {
      "text/html": [
       "<table>\n",
       "<thead>\n",
       "<tr><th>name  </th><th style=\"text-align: right;\">  deltaT</th><th style=\"text-align: right;\">  epsilon</th><th style=\"text-align: right;\">       UA</th><th style=\"text-align: right;\">       Q</th></tr>\n",
       "</thead>\n",
       "<tbody>\n",
       "<tr><td>gen   </td><td style=\"text-align: right;\"> 0.01694</td><td style=\"text-align: right;\"> 0.999611</td><td style=\"text-align: right;\">181.239  </td><td style=\"text-align: right;\">182.083 </td></tr>\n",
       "<tr><td>rect  </td><td style=\"text-align: right;\"> 7.9359 </td><td style=\"text-align: right;\"> 0.804712</td><td style=\"text-align: right;\">  1.16013</td><td style=\"text-align: right;\"> 17.1639</td></tr>\n",
       "<tr><td>abs   </td><td style=\"text-align: right;\"> 2.22358</td><td style=\"text-align: right;\"> 0.89363 </td><td style=\"text-align: right;\"> 30.2169 </td><td style=\"text-align: right;\">171.88  </td></tr>\n",
       "<tr><td>cond  </td><td style=\"text-align: right;\"> 2.3679 </td><td style=\"text-align: right;\"> 0.969199</td><td style=\"text-align: right;\"> 24.9814 </td><td style=\"text-align: right;\">102.787 </td></tr>\n",
       "<tr><td>evap  </td><td style=\"text-align: right;\"> 1.15053</td><td style=\"text-align: right;\"> 0.983837</td><td style=\"text-align: right;\"> 31.798  </td><td style=\"text-align: right;\">109.131 </td></tr>\n",
       "<tr><td>total </td><td style=\"text-align: right;\"> 0      </td><td style=\"text-align: right;\"> 0       </td><td style=\"text-align: right;\">269.395  </td><td style=\"text-align: right;\">  0     </td></tr>\n",
       "</tbody>\n",
       "</table>"
      ],
      "text/plain": [
       "name      deltaT    epsilon         UA         Q\n",
       "------  --------  ---------  ---------  --------\n",
       "gen      0.01694   0.999611  181.239    182.083\n",
       "rect     7.9359    0.804712    1.16013   17.1639\n",
       "abs      2.22358   0.89363    30.2169   171.88\n",
       "cond     2.3679    0.969199   24.9814   102.787\n",
       "evap     1.15053   0.983837   31.798    109.131\n",
       "totalUA = 269.39508649151946"
      ]
     },
     "metadata": {},
     "output_type": "display_data"
    },
    {
     "name": "stdout",
     "output_type": "stream",
     "text": [
      "Note: Absorber inlet is subcooled\n",
      "351 50.0 109.130679142 0.0 0.0 \n",
      "\n",
      "Note: Absorber inlet is subcooled\n",
      "352 50.0 112.22899717 0.0 4581228.20733 \n",
      "\n",
      "Note: Absorber inlet is subcooled\n",
      "353 50.0 109.174442408 0.0 0.0 \n",
      "\n",
      "Note: Absorber inlet is subcooled\n",
      "354 50.0 109.14680683 0.0 0.0 \n",
      "\n",
      "Note: Absorber inlet is subcooled\n",
      "355 50.0 109.174442408 0.0 0.0 \n",
      "\n",
      "Note: Absorber inlet is subcooled\n",
      "356 50.0 109.135742354 0.0 0.0 \n",
      "\n",
      "Note: Absorber inlet is subcooled\n",
      "357 50.0 109.193339548 0.0 8.05277994397 \n",
      "\n",
      "Note: Absorber inlet is subcooled\n",
      "358 51.0 106.074881871 0.0 0.0 \n",
      "\n",
      "Note: Absorber inlet is subcooled\n",
      "359 51.0 109.723655898 0.0 183581.247215 \n",
      "\n",
      "Note: Absorber inlet is subcooled\n"
     ]
    },
    {
     "name": "stderr",
     "output_type": "stream",
     "text": [
      "C:\\Users\\nfette\\Miniconda3\\envs\\openACHP\\lib\\site-packages\\scipy\\integrate\\quadpack.py:364: IntegrationWarning: The maximum number of subdivisions (50) has been achieved.\n",
      "  If increasing the limit yields no improvement it is advised to analyze \n",
      "  the integrand in order to determine the difficulties.  If the position of a \n",
      "  local difficulty can be determined (singularity, discontinuity) one will \n",
      "  probably gain from splitting up the interval and calling the integrator \n",
      "  on the subranges.  Perhaps a special-purpose integrator should be used.\n",
      "  warnings.warn(msg, IntegrationWarning)\n"
     ]
    },
    {
     "name": "stdout",
     "output_type": "stream",
     "text": [
      "360 51.0 108.399552246 0.0 0.0 \n",
      "\n",
      "Note: Absorber inlet is subcooled\n",
      "361 51.0 109.179925909 0.0 0.0 \n",
      "\n",
      "Note: Absorber inlet is subcooled\n",
      "362 51.0 109.184590739 0.0 0.0 \n",
      "\n",
      "Note: Absorber inlet is subcooled\n",
      "363 51.0 109.18942866 0.0 0.0 \n",
      "\n",
      "Note: Absorber inlet is subcooled\n",
      "364 51.0 109.964610554 0.0 379523.649691 \n",
      "\n",
      "Note: Absorber inlet is subcooled\n",
      "365 52.0 109.189427615 0.0 0.0 \n",
      "\n",
      "Note: Absorber inlet is subcooled\n",
      "366 52.0 108.414401817 0.0 0.0 \n",
      "\n",
      "Note: Absorber inlet is subcooled\n",
      "367 52.0 109.18942866 0.0 0.0 \n",
      "\n",
      "Note: Absorber inlet is subcooled\n",
      "368 52.0 109.964610553 0.0 512303.416904 \n",
      "\n",
      "Note: Absorber inlet is subcooled\n",
      "369 52.0 109.577018958 0.0 124238.362963 \n",
      "\n",
      "Note: Absorber inlet is subcooled\n",
      "370 52.0 109.189428607 0.0 0.0 \n",
      "\n",
      "Note: Absorber inlet is subcooled\n",
      "371 52.0 108.801876609 0.0 0.0 \n",
      "\n",
      "Note: Absorber inlet is subcooled\n",
      "372 53.0 109.190594821 0.0 0.0 \n",
      "\n",
      "Note: Absorber inlet is subcooled\n",
      "373 53.0 109.578189255 0.0 168886.818647 \n",
      "\n",
      "Note: Absorber inlet is subcooled\n",
      "374 53.0 108.99681663 0.0 0.0 \n",
      "\n",
      "Note: Absorber inlet is subcooled\n",
      "375 53.0 109.190595054 0.0 0.0 \n",
      "\n",
      "Note: Absorber inlet is subcooled\n",
      "376 53.0 109.384390579 0.0 40388.6032548 \n",
      "\n",
      "Note: Absorber inlet is subcooled\n",
      "377 53.0 109.190595054 0.0 0.0 \n",
      "\n",
      "Note: Absorber inlet is subcooled\n",
      "378 53.0 108.996818395 0.0 0.0 \n",
      "\n",
      "Note: Absorber inlet is subcooled\n",
      "379 54.0 109.191804561 0.0 0.0 \n",
      "\n",
      "Note: Absorber inlet is subcooled\n",
      "380 54.0 109.385602232 0.0 54536.2130852 \n",
      "\n",
      "Note: Absorber inlet is subcooled\n",
      "381 54.0 109.094915135 0.0 0.0 \n",
      "\n",
      "Note: Absorber inlet is subcooled\n",
      "382 54.0 109.191804559 0.0 0.0 \n",
      "\n",
      "Note: Absorber inlet is subcooled\n",
      "383 54.0 109.288703356 0.0 12309.3472997 \n",
      "\n",
      "Note: Absorber inlet is subcooled\n",
      "384 54.0 109.192096103 0.0 0.0 \n",
      "\n",
      "Note: Absorber inlet is subcooled\n",
      "385 54.0 109.288995156 0.0 12402.1739279 \n",
      "\n",
      "Note: Absorber inlet is subcooled\n",
      "386 55.0 109.143651255 0.0 0.0 \n",
      "\n",
      "Note: Absorber inlet is subcooled\n",
      "387 55.0 109.192096163 0.0 0.0 \n",
      "\n",
      "Note: Absorber inlet is subcooled\n",
      "388 55.0 109.240545584 0.0 3425.49411365 \n",
      "\n",
      "Note: Absorber inlet is subcooled\n",
      "389 55.0 109.192096163 0.0 0.0 \n",
      "\n",
      "Note: Absorber inlet is subcooled\n",
      "390 55.0 109.14365141 0.0 0.0 \n",
      "\n",
      "Note: Absorber inlet is subcooled\n",
      "391 55.0 109.192398545 0.0 0.0 \n",
      "\n",
      "Note: Absorber inlet is subcooled\n",
      "392 55.0 109.2408481 0.0 3426.69980168 \n",
      "\n",
      "Note: Absorber inlet is subcooled\n",
      "393 56.0 109.161393816 0.0 0.0 \n",
      "\n",
      "Note: Absorber inlet is subcooled\n",
      "394 56.0 109.192398544 0.0 0.0 \n",
      "\n",
      "Note: Absorber inlet is subcooled\n",
      "395 56.0 109.223406258 0.0 1461.36035294 \n",
      "\n"
     ]
    },
    {
     "data": {
      "text/plain": [
       "'Third pass and we have this ... '"
      ]
     },
     "metadata": {},
     "output_type": "display_data"
    },
    {
     "name": "stdout",
     "output_type": "stream",
     "text": [
      "Note: Absorber inlet is subcooled\n"
     ]
    },
    {
     "data": {
      "text/html": [
       "<table>\n",
       "<thead>\n",
       "<tr><th>name  </th><th style=\"text-align: right;\">  deltaT</th><th style=\"text-align: right;\">  epsilon</th><th style=\"text-align: right;\">       UA</th><th style=\"text-align: right;\">       Q</th></tr>\n",
       "</thead>\n",
       "<tbody>\n",
       "<tr><td>gen   </td><td style=\"text-align: right;\"> 0.01694</td><td style=\"text-align: right;\"> 0.999611</td><td style=\"text-align: right;\">181.239  </td><td style=\"text-align: right;\">182.083 </td></tr>\n",
       "<tr><td>rect  </td><td style=\"text-align: right;\"> 7.9359 </td><td style=\"text-align: right;\"> 0.804712</td><td style=\"text-align: right;\">  1.16013</td><td style=\"text-align: right;\"> 17.1639</td></tr>\n",
       "<tr><td>abs   </td><td style=\"text-align: right;\"> 2.22358</td><td style=\"text-align: right;\"> 0.89363 </td><td style=\"text-align: right;\"> 30.2169 </td><td style=\"text-align: right;\">171.88  </td></tr>\n",
       "<tr><td>cond  </td><td style=\"text-align: right;\"> 2.3679 </td><td style=\"text-align: right;\"> 0.969199</td><td style=\"text-align: right;\"> 24.9814 </td><td style=\"text-align: right;\">102.787 </td></tr>\n",
       "<tr><td>evap  </td><td style=\"text-align: right;\"> 1.15053</td><td style=\"text-align: right;\"> 0.983837</td><td style=\"text-align: right;\"> 31.798  </td><td style=\"text-align: right;\">109.131 </td></tr>\n",
       "<tr><td>total </td><td style=\"text-align: right;\"> 0      </td><td style=\"text-align: right;\"> 0       </td><td style=\"text-align: right;\">269.395  </td><td style=\"text-align: right;\">  0     </td></tr>\n",
       "</tbody>\n",
       "</table>"
      ],
      "text/plain": [
       "name      deltaT    epsilon         UA         Q\n",
       "------  --------  ---------  ---------  --------\n",
       "gen      0.01694   0.999611  181.239    182.083\n",
       "rect     7.9359    0.804712    1.16013   17.1639\n",
       "abs      2.22358   0.89363    30.2169   171.88\n",
       "cond     2.3679    0.969199   24.9814   102.787\n",
       "evap     1.15053   0.983837   31.798    109.131\n",
       "totalUA = 269.39508649151946"
      ]
     },
     "metadata": {},
     "output_type": "display_data"
    },
    {
     "name": "stdout",
     "output_type": "stream",
     "text": [
      "Case 4, T_heat_reject = 313.15 K\n",
      "Note: Absorber inlet contains some vapor.\n",
      "211 30.0 10.4857914382 0.0 0.0 \n",
      "\n",
      "Note: Absorber inlet contains some vapor.\n",
      "212 30.0 31.4573743146 0.0 0.0 \n",
      "\n",
      "Note: Absorber inlet contains some vapor.\n",
      "213 30.0 31.6407202325 0.0 0.0 \n",
      "\n",
      "Note: Absorber inlet contains some vapor.\n",
      "214 30.0 31.508103866 0.0 0.0 \n",
      "\n",
      "Note: Absorber inlet contains some vapor.\n",
      "215 30.0 31.6407202325 0.0 0.0 \n",
      "\n",
      "Note: Absorber inlet contains some vapor.\n",
      "216 30.0 31.4819859795 0.0 0.0 \n",
      "\n",
      "Note: Absorber inlet contains some vapor.\n",
      "217 30.0 31.7349644758 0.0 0.0 \n",
      "\n",
      "Note: Absorber inlet contains some vapor.\n",
      "218 31.0 52.8963283921 0.0 0.0 \n",
      "\n",
      "Note: Absorber inlet contains some vapor.\n",
      "219 31.0 74.063061542 0.0 0.0 \n",
      "\n",
      "Note: Absorber inlet contains some vapor.\n",
      "220 31.0 95.2351132483 0.0 717020.165803 \n",
      "\n",
      "Note: Absorber inlet contains some vapor.\n",
      "221 31.0 74.1849849635 0.0 0.0 \n",
      "\n",
      "Note: Absorber inlet contains some vapor.\n",
      "222 31.0 64.7950391871 0.0 0.0 \n",
      "\n",
      "Note: Absorber inlet contains some vapor.\n",
      "223 31.0 74.2903582274 0.0 0.0 \n",
      "\n",
      "Note: Absorber inlet contains some vapor.\n",
      "224 31.0 68.6679702337 0.0 0.0 \n",
      "\n",
      "Note: Absorber inlet contains some vapor.\n",
      "225 32.0 74.2288402105 0.0 0.0 \n",
      "\n",
      "Note: Absorber inlet contains some vapor.\n",
      "226 32.0 56.0716788055 0.0 0.0 \n",
      "\n",
      "Note: Absorber inlet contains some vapor.\n",
      "227 32.0 84.9353618611 0.0 215912.411401 \n",
      "\n",
      "Note: Absorber inlet contains some vapor.\n",
      "228 32.0 69.5896554714 0.0 0.0 \n",
      "\n",
      "Note: Absorber inlet contains some vapor.\n",
      "229 32.0 72.8873255823 0.0 0.0 \n",
      "\n",
      "Note: Absorber inlet contains some vapor.\n",
      "230 32.0 74.29010737 0.0 0.0 \n",
      "\n",
      "Note: Absorber inlet contains some vapor.\n",
      "231 32.0 69.7277656952 0.0 0.0 \n",
      "\n",
      "Note: Absorber inlet contains some vapor.\n",
      "232 33.0 73.1163612019 0.0 0.0 \n",
      "\n",
      "Note: Absorber inlet contains some vapor.\n",
      "233 33.0 74.2980344467 0.0 0.0 \n",
      "\n",
      "Note: Absorber inlet contains some vapor.\n",
      "234 33.0 76.9594871107 0.0 8329.83883672 \n",
      "\n",
      "Note: Absorber inlet contains some vapor.\n",
      "235 33.0 74.2980111208 0.0 0.0 \n",
      "\n",
      "Note: Absorber inlet contains some vapor.\n",
      "236 33.0 73.5962962375 0.0 0.0 \n",
      "\n",
      "Note: Absorber inlet contains some vapor.\n",
      "237 33.0 72.0157942681 0.0 0.0 \n",
      "\n",
      "Note: Absorber inlet contains some vapor.\n",
      "238 33.0 73.7110230709 0.0 0.0 \n",
      "\n",
      "Note: Absorber inlet contains some vapor.\n",
      "239 34.0 74.2980899617 0.0 0.0 \n",
      "\n",
      "Note: Absorber inlet contains some vapor.\n",
      "240 34.0 75.6285551618 0.0 408.538360078 \n",
      "\n",
      "Note: Absorber inlet contains some vapor.\n",
      "241 34.0 74.1232049639 0.0 0.0 \n",
      "\n",
      "Note: Absorber inlet contains some vapor.\n",
      "242 34.0 74.2980288551 0.0 0.0 \n",
      "\n",
      "Note: Absorber inlet contains some vapor.\n",
      "243 34.0 73.6564402195 0.0 0.0 \n",
      "\n",
      "Note: Absorber inlet contains some vapor.\n",
      "244 34.0 74.3000157776 0.0 0.0 \n",
      "\n",
      "Note: Absorber inlet contains some vapor.\n",
      "245 34.0 74.9652726396 0.0 0.0 \n",
      "\n",
      "Note: Absorber inlet contains some vapor.\n",
      "246 35.0 75.6305416255 0.0 546.543205755 \n",
      "\n",
      "Note: Absorber inlet contains some vapor.\n",
      "247 35.0 74.9652165227 0.0 0.0 \n",
      "\n",
      "Note: Absorber inlet contains some vapor.\n",
      "248 35.0 74.6709829322 0.0 0.0 \n",
      "\n",
      "Note: Absorber inlet contains some vapor.\n",
      "249 35.0 74.8756471999 0.0 0.0 \n",
      "\n",
      "Note: Absorber inlet contains some vapor.\n",
      "250 35.0 74.9652538718 0.0 0.0 \n",
      "\n",
      "Note: Absorber inlet contains some vapor.\n",
      "251 35.0 74.8817769665 0.0 0.0 \n",
      "\n",
      "Note: Absorber inlet contains some vapor.\n",
      "252 35.0 74.6933952331 0.0 0.0 \n",
      "\n",
      "Note: Absorber inlet contains some vapor.\n",
      "253 36.0 75.1315887594 0.0 0.0 \n",
      "\n",
      "Note: Absorber inlet contains some vapor.\n",
      "254 36.0 75.2979056427 0.0 0.0 \n",
      "\n",
      "Note: Absorber inlet contains some vapor.\n",
      "255 36.0 75.4642232892 0.0 157.563090124 \n",
      "\n",
      "Note: Absorber inlet contains some vapor.\n",
      "256 36.0 75.2979170048 0.0 0.0 \n",
      "\n",
      "Note: Absorber inlet contains some vapor.\n",
      "257 36.0 75.2445027241 0.0 0.0 \n",
      "\n",
      "Note: Absorber inlet contains some vapor.\n",
      "258 36.0 75.2979090017 0.0 0.0 \n",
      "\n",
      "Note: Absorber inlet contains some vapor.\n",
      "259 36.0 75.2561236705 0.0 0.0 \n",
      "\n",
      "Note: Absorber inlet contains some vapor.\n",
      "260 37.0 75.2979133237 0.0 0.0 \n",
      "\n"
     ]
    },
    {
     "data": {
      "text/plain": [
       "'First pass and we have this ... '"
      ]
     },
     "metadata": {},
     "output_type": "display_data"
    },
    {
     "name": "stdout",
     "output_type": "stream",
     "text": [
      "Note: Absorber inlet contains some vapor.\n"
     ]
    },
    {
     "data": {
      "text/html": [
       "<table>\n",
       "<thead>\n",
       "<tr><th>name  </th><th style=\"text-align: right;\">   deltaT</th><th style=\"text-align: right;\">  epsilon</th><th style=\"text-align: right;\">        UA</th><th style=\"text-align: right;\">       Q</th></tr>\n",
       "</thead>\n",
       "<tbody>\n",
       "<tr><td>gen   </td><td style=\"text-align: right;\">0.0195754</td><td style=\"text-align: right;\"> 0.999461</td><td style=\"text-align: right;\">173.938   </td><td style=\"text-align: right;\">139.747 </td></tr>\n",
       "<tr><td>rect  </td><td style=\"text-align: right;\">7.96979  </td><td style=\"text-align: right;\"> 0.838605</td><td style=\"text-align: right;\">  0.821906</td><td style=\"text-align: right;\"> 15.4784</td></tr>\n",
       "<tr><td>abs   </td><td style=\"text-align: right;\">4.9484   </td><td style=\"text-align: right;\"> 0.768336</td><td style=\"text-align: right;\"> 14.4515  </td><td style=\"text-align: right;\">130.186 </td></tr>\n",
       "<tr><td>cond  </td><td style=\"text-align: right;\">3.89507  </td><td style=\"text-align: right;\"> 0.966713</td><td style=\"text-align: right;\"> 13.5225  </td><td style=\"text-align: right;\"> 70.1235</td></tr>\n",
       "<tr><td>evap  </td><td style=\"text-align: right;\">3.28594  </td><td style=\"text-align: right;\"> 0.983425</td><td style=\"text-align: right;\"> 14.4718  </td><td style=\"text-align: right;\"> 75.2979</td></tr>\n",
       "<tr><td>total </td><td style=\"text-align: right;\">0        </td><td style=\"text-align: right;\"> 0       </td><td style=\"text-align: right;\">217.206   </td><td style=\"text-align: right;\">  0     </td></tr>\n",
       "</tbody>\n",
       "</table>"
      ],
      "text/plain": [
       "name       deltaT    epsilon          UA         Q\n",
       "------  ---------  ---------  ----------  --------\n",
       "gen     0.0195754   0.999461  173.938     139.747\n",
       "rect    7.96979     0.838605    0.821906   15.4784\n",
       "abs     4.9484      0.768336   14.4515    130.186\n",
       "cond    3.89507     0.966713   13.5225     70.1235\n",
       "evap    3.28594     0.983425   14.4718     75.2979\n",
       "totalUA = 217.20590670177364"
      ]
     },
     "metadata": {},
     "output_type": "display_data"
    },
    {
     "name": "stdout",
     "output_type": "stream",
     "text": [
      "Note: Absorber inlet contains some vapor.\n",
      "281 40.0 75.2979170048 0.0 0.0 \n",
      "\n",
      "Note: Absorber inlet contains some vapor.\n",
      "282 40.0 96.5756559021 0.0 11700695.3672 \n",
      "\n",
      "Note: Absorber inlet contains some vapor.\n",
      "283 40.0 75.7308063918 0.0 2.74953196909 \n",
      "\n",
      "Note: Absorber inlet contains some vapor.\n",
      "284 40.0 74.985795528 0.0 0.0 \n",
      "\n",
      "Note: Absorber inlet contains some vapor.\n",
      "285 40.0 75.2979170048 0.0 0.0 \n",
      "\n",
      "Note: Absorber inlet contains some vapor.\n",
      "286 40.0 74.9232824764 0.0 0.0 \n",
      "\n",
      "Note: Absorber inlet contains some vapor.\n",
      "287 40.0 75.519531446 0.0 1188.39059772 \n",
      "\n",
      "Note: Absorber inlet contains some vapor.\n",
      "288 41.0 54.0201620102 0.0 0.0 \n",
      "\n",
      "Note: Absorber inlet contains some vapor.\n",
      "289 41.0 64.6590379116 0.0 0.0 \n",
      "\n",
      "Note: Absorber inlet contains some vapor.\n",
      "290 41.0 75.3380115668 0.0 4.73844041144 \n",
      "\n",
      "Note: Absorber inlet contains some vapor.\n",
      "291 41.0 75.24388268 0.0 0.0 \n",
      "\n",
      "Note: Absorber inlet contains some vapor.\n",
      "292 41.0 79.2909936285 0.0 546400.765493 \n",
      "\n",
      "Note: Absorber inlet contains some vapor.\n",
      "293 41.0 75.297861803 0.0 0.0 \n",
      "\n",
      "Note: Absorber inlet contains some vapor.\n",
      "294 41.0 69.9779224619 0.0 0.0 \n",
      "\n",
      "Note: Absorber inlet contains some vapor.\n",
      "295 42.0 75.2979170048 0.0 0.0 \n",
      "\n",
      "Note: Absorber inlet contains some vapor.\n",
      "296 42.0 79.2632341473 0.0 727274.52465 \n",
      "\n",
      "Note: Absorber inlet contains some vapor.\n",
      "297 42.0 75.3447722233 0.0 0.0 \n",
      "\n",
      "Note: Absorber inlet contains some vapor.\n",
      "298 42.0 79.3125160777 0.0 729396.139165 \n",
      "\n",
      "Note: Absorber inlet contains some vapor.\n",
      "299 42.0 75.975596025 0.0 18230.8174961 \n",
      "\n",
      "Note: Absorber inlet contains some vapor.\n",
      "300 42.0 74.9951053887 0.0 0.0 \n",
      "\n",
      "Note: Absorber inlet contains some vapor.\n",
      "301 42.0 72.7425430872 0.0 0.0 \n",
      "\n",
      "Note: Absorber inlet contains some vapor.\n",
      "302 43.0 75.2573295991 0.0 0.0 \n",
      "\n",
      "Note: Absorber inlet contains some vapor.\n",
      "303 43.0 75.3598498293 0.0 0.0 \n",
      "\n",
      "Note: Absorber inlet contains some vapor.\n",
      "304 43.0 75.0942718749 0.0 0.0 \n",
      "\n",
      "Note: Absorber inlet contains some vapor.\n",
      "305 43.0 75.364646755 0.0 0.0 \n",
      "\n",
      "Note: Absorber inlet contains some vapor.\n",
      "306 43.0 76.6963137919 0.0 109432.241187 \n",
      "\n",
      "Note: Absorber inlet contains some vapor.\n",
      "307 43.0 75.3646456221 0.0 0.0 \n",
      "\n",
      "Note: Absorber inlet contains some vapor.\n",
      "308 43.0 74.0631036618 0.0 0.0 \n",
      "\n",
      "Note: Absorber inlet contains some vapor.\n",
      "309 44.0 76.03047414 0.0 36144.8643221 \n",
      "\n",
      "Note: Absorber inlet contains some vapor.\n",
      "310 44.0 75.3646524445 0.0 0.0 \n",
      "\n",
      "Note: Absorber inlet contains some vapor.\n",
      "311 44.0 74.7123833215 0.0 0.0 \n",
      "\n",
      "Note: Absorber inlet contains some vapor.\n",
      "312 44.0 75.431034151 0.0 259.100085462 \n",
      "\n",
      "Note: Absorber inlet contains some vapor.\n",
      "313 44.0 75.2326949552 0.0 0.0 \n",
      "\n",
      "Note: Absorber inlet contains some vapor.\n",
      "314 44.0 75.6975765238 0.0 8702.4861722 \n",
      "\n",
      "Note: Absorber inlet contains some vapor.\n",
      "315 44.0 75.3646523802 0.0 0.0 \n",
      "\n",
      "Note: Absorber inlet contains some vapor.\n",
      "316 45.0 75.038345561 0.0 0.0 \n",
      "\n",
      "Note: Absorber inlet contains some vapor.\n",
      "317 45.0 75.3658520298 0.0 0.0 \n",
      "\n",
      "Note: Absorber inlet contains some vapor.\n",
      "318 45.0 75.6987726222 0.0 11897.8481028 \n",
      "\n",
      "Note: Absorber inlet contains some vapor.\n",
      "319 45.0 75.3658518544 0.0 0.0 \n",
      "\n",
      "Note: Absorber inlet contains some vapor.\n",
      "320 45.0 75.0395484054 0.0 0.0 \n",
      "\n",
      "Note: Absorber inlet contains some vapor.\n",
      "321 45.0 75.5323119423 0.0 2775.59412423 \n",
      "\n",
      "Note: Absorber inlet contains some vapor.\n",
      "322 45.0 75.3658503185 0.0 0.0 \n",
      "\n",
      "Note: Absorber inlet contains some vapor.\n",
      "323 46.0 75.1993972201 0.0 0.0 \n",
      "\n",
      "Note: Absorber inlet contains some vapor.\n",
      "324 46.0 75.3658534424 0.0 0.0 \n",
      "\n",
      "Note: Absorber inlet contains some vapor.\n",
      "325 46.0 75.532314845 0.0 3757.15211822 \n",
      "\n",
      "Note: Absorber inlet contains some vapor.\n",
      "326 46.0 75.2826251935 0.0 0.0 \n",
      "\n",
      "Note: Absorber inlet contains some vapor.\n",
      "327 46.0 75.3658533514 0.0 0.0 \n",
      "\n",
      "Note: Absorber inlet contains some vapor.\n",
      "328 46.0 75.4490840478 0.0 814.392778039 \n",
      "\n",
      "Note: Absorber inlet contains some vapor.\n",
      "329 46.0 75.3661533523 0.0 0.0 \n",
      "\n",
      "Note: Absorber inlet contains some vapor.\n",
      "330 47.0 75.4493837398 0.0 1114.90403684 \n",
      "\n"
     ]
    },
    {
     "data": {
      "text/plain": [
       "'Second pass and we have this ... '"
      ]
     },
     "metadata": {},
     "output_type": "display_data"
    },
    {
     "name": "stdout",
     "output_type": "stream",
     "text": [
      "Note: Absorber inlet contains some vapor.\n"
     ]
    },
    {
     "data": {
      "text/html": [
       "<table>\n",
       "<thead>\n",
       "<tr><th>name  </th><th style=\"text-align: right;\">   deltaT</th><th style=\"text-align: right;\">  epsilon</th><th style=\"text-align: right;\">        UA</th><th style=\"text-align: right;\">       Q</th></tr>\n",
       "</thead>\n",
       "<tbody>\n",
       "<tr><td>gen   </td><td style=\"text-align: right;\">0.0140486</td><td style=\"text-align: right;\"> 0.999627</td><td style=\"text-align: right;\">199.122   </td><td style=\"text-align: right;\">139.839 </td></tr>\n",
       "<tr><td>rect  </td><td style=\"text-align: right;\">7.97204  </td><td style=\"text-align: right;\"> 0.83858 </td><td style=\"text-align: right;\">  0.822627</td><td style=\"text-align: right;\"> 15.484 </td></tr>\n",
       "<tr><td>abs   </td><td style=\"text-align: right;\">4.93363  </td><td style=\"text-align: right;\"> 0.768966</td><td style=\"text-align: right;\"> 14.4874  </td><td style=\"text-align: right;\">130.278 </td></tr>\n",
       "<tr><td>cond  </td><td style=\"text-align: right;\">3.8949   </td><td style=\"text-align: right;\"> 0.966702</td><td style=\"text-align: right;\"> 13.5321  </td><td style=\"text-align: right;\"> 70.1865</td></tr>\n",
       "<tr><td>evap  </td><td style=\"text-align: right;\">3.27887  </td><td style=\"text-align: right;\"> 0.983431</td><td style=\"text-align: right;\"> 14.5015  </td><td style=\"text-align: right;\"> 75.3662</td></tr>\n",
       "<tr><td>total </td><td style=\"text-align: right;\">0        </td><td style=\"text-align: right;\"> 0       </td><td style=\"text-align: right;\">242.465   </td><td style=\"text-align: right;\">  0     </td></tr>\n",
       "</tbody>\n",
       "</table>"
      ],
      "text/plain": [
       "name       deltaT    epsilon          UA         Q\n",
       "------  ---------  ---------  ----------  --------\n",
       "gen     0.0140486   0.999627  199.122     139.839\n",
       "rect    7.97204     0.83858     0.822627   15.484\n",
       "abs     4.93363     0.768966   14.4874    130.278\n",
       "cond    3.8949      0.966702   13.5321     70.1865\n",
       "evap    3.27887     0.983431   14.5015     75.3662\n",
       "totalUA = 242.4653750822909"
      ]
     },
     "metadata": {},
     "output_type": "display_data"
    },
    {
     "name": "stdout",
     "output_type": "stream",
     "text": [
      "Note: Absorber inlet contains some vapor.\n",
      "351 50.0 75.3661533523 0.0 0.0 \n",
      "\n",
      "Note: Absorber inlet contains some vapor.\n",
      "352 50.0 77.4957353342 0.0 2316302.14598 \n",
      "\n",
      "Note: Absorber inlet contains some vapor.\n",
      "353 50.0 75.4094371112 0.0 0.0 \n",
      "\n",
      "Note: Absorber inlet contains some vapor.\n",
      "354 50.0 75.3782526937 0.0 0.0 \n",
      "\n",
      "Note: Absorber inlet contains some vapor.\n",
      "355 50.0 75.4094371112 0.0 0.0 \n",
      "\n",
      "Note: Absorber inlet contains some vapor.\n",
      "356 50.0 75.3719392518 0.0 0.0 \n",
      "\n",
      "Note: Absorber inlet contains some vapor.\n",
      "357 50.0 75.4316109817 0.0 152.415547728 \n",
      "\n",
      "Note: Absorber inlet contains some vapor.\n",
      "358 51.0 73.2786306714 0.0 0.0 \n",
      "\n",
      "Note: Absorber inlet contains some vapor.\n",
      "359 51.0 75.4133268502 0.0 0.0 \n",
      "\n",
      "Note: Absorber inlet contains some vapor.\n",
      "360 51.0 75.946232213 0.0 194381.547406 \n",
      "\n",
      "Note: Absorber inlet contains some vapor.\n",
      "361 51.0 75.4133287505 0.0 0.0 \n",
      "\n",
      "Note: Absorber inlet contains some vapor.\n",
      "362 51.0 74.8805343356 0.0 0.0 \n",
      "\n",
      "Note: Absorber inlet contains some vapor.\n",
      "363 51.0 75.4180168876 0.0 0.0 \n",
      "\n",
      "Note: Absorber inlet contains some vapor.\n",
      "364 51.0 75.950993514 0.0 191051.578685 \n",
      "\n",
      "Note: Absorber inlet contains some vapor.\n",
      "365 52.0 75.418016754 0.0 0.0 \n",
      "\n",
      "Note: Absorber inlet contains some vapor.\n",
      "366 52.0 74.8851331306 0.0 0.0 \n",
      "\n",
      "Note: Absorber inlet contains some vapor.\n",
      "367 52.0 75.4180168876 0.0 0.0 \n",
      "\n",
      "Note: Absorber inlet contains some vapor.\n",
      "368 52.0 75.9509935139 0.0 257892.669048 \n",
      "\n",
      "Note: Absorber inlet contains some vapor.\n",
      "369 52.0 75.4189892651 0.0 0.0 \n",
      "\n",
      "Note: Absorber inlet contains some vapor.\n",
      "370 52.0 75.9519463794 0.0 258609.056666 \n",
      "\n",
      "Note: Absorber inlet contains some vapor.\n",
      "371 52.0 75.4189892053 0.0 0.0 \n",
      "\n",
      "Note: Absorber inlet contains some vapor.\n",
      "372 53.0 74.8861122506 0.0 0.0 \n",
      "\n",
      "Note: Absorber inlet contains some vapor.\n",
      "373 53.0 75.68546684 0.0 84746.2166581 \n",
      "\n",
      "Note: Absorber inlet contains some vapor.\n",
      "374 53.0 75.2857694336 0.0 0.0 \n",
      "\n",
      "Note: Absorber inlet contains some vapor.\n",
      "375 53.0 75.4189896865 0.0 0.0 \n",
      "\n",
      "Note: Absorber inlet contains some vapor.\n",
      "376 53.0 75.5522306133 0.0 19563.1106881 \n",
      "\n",
      "Note: Absorber inlet contains some vapor.\n",
      "377 53.0 75.4189897788 0.0 0.0 \n",
      "\n",
      "Note: Absorber inlet contains some vapor.\n",
      "378 53.0 75.2857640656 0.0 0.0 \n",
      "\n",
      "Note: Absorber inlet contains some vapor.\n",
      "379 54.0 75.41936902 0.0 0.0 \n",
      "\n",
      "Note: Absorber inlet contains some vapor.\n",
      "380 54.0 75.5526137248 0.0 25917.5709065 \n",
      "\n",
      "Note: Absorber inlet contains some vapor.\n",
      "381 54.0 75.4193690592 0.0 0.0 \n",
      "\n",
      "Note: Absorber inlet contains some vapor.\n",
      "382 54.0 75.2861263917 0.0 0.0 \n",
      "\n",
      "Note: Absorber inlet contains some vapor.\n",
      "383 54.0 75.4193691022 0.0 0.0 \n",
      "\n",
      "Note: Absorber inlet contains some vapor.\n",
      "384 54.0 75.5526136199 0.0 25594.7853496 \n",
      "\n",
      "Note: Absorber inlet contains some vapor.\n",
      "385 54.0 75.3527481031 0.0 0.0 \n",
      "\n",
      "Note: Absorber inlet contains some vapor.\n",
      "386 55.0 75.4193692631 0.0 0.0 \n",
      "\n",
      "Note: Absorber inlet contains some vapor.\n",
      "387 55.0 75.4859920568 0.0 7021.78899865 \n",
      "\n",
      "Note: Absorber inlet contains some vapor.\n",
      "388 55.0 75.386058451 0.0 0.0 \n",
      "\n",
      "Note: Absorber inlet contains some vapor.\n",
      "389 55.0 75.4193692665 0.0 0.0 \n",
      "\n",
      "Note: Absorber inlet contains some vapor.\n",
      "390 55.0 75.4526808002 0.0 1076.08613597 \n",
      "\n",
      "Note: Absorber inlet contains some vapor.\n",
      "391 55.0 75.4193692614 0.0 0.0 \n",
      "\n",
      "Note: Absorber inlet contains some vapor.\n",
      "392 55.0 75.3860577635 0.0 0.0 \n",
      "\n",
      "Note: Absorber inlet contains some vapor.\n",
      "393 56.0 75.4193692751 0.0 0.0 \n",
      "\n",
      "Note: Absorber inlet contains some vapor.\n",
      "394 56.0 75.4526808462 0.0 1425.69109839 \n",
      "\n",
      "Note: Absorber inlet contains some vapor.\n",
      "395 56.0 75.4193692774 0.0 0.0 \n",
      "\n",
      "Note: Absorber inlet contains some vapor.\n",
      "396 56.0 75.3860577861 0.0 0.0 \n",
      "\n",
      "Note: Absorber inlet contains some vapor.\n",
      "397 56.0 75.4406886479 0.0 276.344878471 \n",
      "\n"
     ]
    },
    {
     "data": {
      "text/plain": [
       "'Third pass and we have this ... '"
      ]
     },
     "metadata": {},
     "output_type": "display_data"
    },
    {
     "name": "stdout",
     "output_type": "stream",
     "text": [
      "Note: Absorber inlet contains some vapor.\n"
     ]
    },
    {
     "data": {
      "text/html": [
       "<table>\n",
       "<thead>\n",
       "<tr><th>name  </th><th style=\"text-align: right;\">   deltaT</th><th style=\"text-align: right;\">  epsilon</th><th style=\"text-align: right;\">        UA</th><th style=\"text-align: right;\">       Q</th></tr>\n",
       "</thead>\n",
       "<tbody>\n",
       "<tr><td>gen   </td><td style=\"text-align: right;\">0.0140486</td><td style=\"text-align: right;\"> 0.999627</td><td style=\"text-align: right;\">199.122   </td><td style=\"text-align: right;\">139.839 </td></tr>\n",
       "<tr><td>rect  </td><td style=\"text-align: right;\">7.97204  </td><td style=\"text-align: right;\"> 0.83858 </td><td style=\"text-align: right;\">  0.822627</td><td style=\"text-align: right;\"> 15.484 </td></tr>\n",
       "<tr><td>abs   </td><td style=\"text-align: right;\">4.93363  </td><td style=\"text-align: right;\"> 0.768966</td><td style=\"text-align: right;\"> 14.4874  </td><td style=\"text-align: right;\">130.278 </td></tr>\n",
       "<tr><td>cond  </td><td style=\"text-align: right;\">3.8949   </td><td style=\"text-align: right;\"> 0.966702</td><td style=\"text-align: right;\"> 13.5321  </td><td style=\"text-align: right;\"> 70.1865</td></tr>\n",
       "<tr><td>evap  </td><td style=\"text-align: right;\">3.27887  </td><td style=\"text-align: right;\"> 0.983431</td><td style=\"text-align: right;\"> 14.5015  </td><td style=\"text-align: right;\"> 75.3662</td></tr>\n",
       "<tr><td>total </td><td style=\"text-align: right;\">0        </td><td style=\"text-align: right;\"> 0       </td><td style=\"text-align: right;\">242.465   </td><td style=\"text-align: right;\">  0     </td></tr>\n",
       "</tbody>\n",
       "</table>"
      ],
      "text/plain": [
       "name       deltaT    epsilon          UA         Q\n",
       "------  ---------  ---------  ----------  --------\n",
       "gen     0.0140486   0.999627  199.122     139.839\n",
       "rect    7.97204     0.83858     0.822627   15.484\n",
       "abs     4.93363     0.768966   14.4874    130.278\n",
       "cond    3.8949      0.966702   13.5321     70.1865\n",
       "evap    3.27887     0.983431   14.5015     75.3662\n",
       "totalUA = 242.4653750822909"
      ]
     },
     "metadata": {},
     "output_type": "display_data"
    },
    {
     "name": "stdout",
     "output_type": "stream",
     "text": [
      "Case 5, T_heat_reject = 318.15 K\n",
      "Note: Absorber inlet contains some vapor.\n",
      "211 30.0 5.51897762569 0.0 0.0 \n",
      "\n",
      "Note: Absorber inlet contains some vapor.\n",
      "212 30.0 16.5569328771 0.0 0.0 \n",
      "\n",
      "Note: Absorber inlet contains some vapor.\n",
      "213 30.0 16.7399188614 0.0 0.0 \n",
      "\n",
      "Note: Absorber inlet contains some vapor.\n",
      "214 30.0 16.5897806846 0.0 0.0 \n",
      "\n",
      "Note: Absorber inlet contains some vapor.\n",
      "215 30.0 16.7399188614 0.0 0.0 \n",
      "\n",
      "Note: Absorber inlet contains some vapor.\n",
      "216 30.0 16.5846106716 0.0 0.0 \n",
      "\n",
      "Note: Absorber inlet contains some vapor.\n",
      "217 30.0 16.8499097874 0.0 0.0 \n",
      "\n",
      "Note: Absorber inlet contains some vapor.\n",
      "218 31.0 28.0928402944 0.0 0.0 \n",
      "\n",
      "Note: Absorber inlet contains some vapor.\n",
      "219 31.0 39.3466966037 0.0 0.0 \n",
      "\n",
      "Note: Absorber inlet contains some vapor.\n",
      "220 31.0 50.6112426796 0.0 103330.977087 \n",
      "\n",
      "Note: Absorber inlet contains some vapor.\n",
      "221 31.0 39.4680768878 0.0 0.0 \n",
      "\n",
      "Note: Absorber inlet contains some vapor.\n",
      "222 31.0 34.5281457496 0.0 0.0 \n",
      "\n",
      "Note: Absorber inlet contains some vapor.\n",
      "223 31.0 39.5705774892 0.0 0.0 \n",
      "\n",
      "Note: Absorber inlet contains some vapor.\n",
      "224 31.0 36.6349727902 0.0 0.0 \n",
      "\n",
      "Note: Absorber inlet contains some vapor.\n",
      "225 32.0 39.5017269011 0.0 0.0 \n",
      "\n",
      "Note: Absorber inlet contains some vapor.\n",
      "226 32.0 29.7965536092 0.0 0.0 \n",
      "\n",
      "Note: Absorber inlet contains some vapor.\n",
      "227 32.0 45.2630862796 0.0 7500.86260898 \n",
      "\n",
      "Note: Absorber inlet contains some vapor.\n",
      "228 32.0 37.0972089639 0.0 0.0 \n",
      "\n",
      "Note: Absorber inlet contains some vapor.\n",
      "229 32.0 37.1181344104 0.0 0.0 \n",
      "\n",
      "Note: Absorber inlet contains some vapor.\n",
      "230 32.0 39.5703509281 0.0 0.0 \n",
      "\n",
      "Note: Absorber inlet contains some vapor.\n",
      "231 32.0 38.8372298303 0.0 0.0 \n",
      "\n",
      "Note: Absorber inlet contains some vapor.\n",
      "232 33.0 40.9931384512 0.0 0.0 \n",
      "\n",
      "Note: Absorber inlet contains some vapor.\n",
      "233 33.0 42.4160810148 0.0 0.0 \n",
      "\n",
      "Note: Absorber inlet contains some vapor.\n",
      "234 33.0 43.8394017089 0.0 325.423539369 \n",
      "\n",
      "Note: Absorber inlet contains some vapor.\n",
      "235 33.0 42.4178212198 0.0 0.0 \n",
      "\n",
      "Note: Absorber inlet contains some vapor.\n",
      "236 33.0 42.16211948 0.0 0.0 \n",
      "\n",
      "Note: Absorber inlet contains some vapor.\n",
      "237 33.0 42.4185094915 0.0 0.0 \n",
      "\n",
      "Note: Absorber inlet contains some vapor.\n",
      "238 33.0 41.9295982566 0.0 0.0 \n",
      "\n",
      "Note: Absorber inlet contains some vapor.\n",
      "239 34.0 42.4181963267 0.0 0.0 \n",
      "\n",
      "Note: Absorber inlet contains some vapor.\n",
      "240 34.0 41.1058326104 0.0 0.0 \n",
      "\n",
      "Note: Absorber inlet contains some vapor.\n",
      "241 34.0 43.1307891215 0.0 0.0 \n",
      "\n",
      "Note: Absorber inlet contains some vapor.\n",
      "242 34.0 43.8431725574 0.0 359.791760882 \n",
      "\n",
      "Note: Absorber inlet contains some vapor.\n",
      "243 34.0 43.1308120862 0.0 0.0 \n",
      "\n",
      "Note: Absorber inlet contains some vapor.\n",
      "244 34.0 43.8431798081 0.0 345.159581907 \n",
      "\n",
      "Note: Absorber inlet contains some vapor.\n",
      "245 34.0 43.131306746 0.0 0.0 \n",
      "\n",
      "Note: Absorber inlet contains some vapor.\n",
      "246 35.0 42.7207189281 0.0 0.0 \n",
      "\n",
      "Note: Absorber inlet contains some vapor.\n",
      "247 35.0 43.0397627486 0.0 0.0 \n",
      "\n",
      "Note: Absorber inlet contains some vapor.\n",
      "248 35.0 43.1312368231 0.0 0.0 \n",
      "\n",
      "Note: Absorber inlet contains some vapor.\n",
      "249 35.0 42.8551000139 0.0 0.0 \n",
      "\n",
      "Note: Absorber inlet contains some vapor.\n",
      "250 35.0 43.487631528 0.0 0.0 \n",
      "\n",
      "Note: Absorber inlet contains some vapor.\n",
      "251 35.0 43.8439827808 0.0 428.829568798 \n",
      "\n",
      "Note: Absorber inlet contains some vapor.\n",
      "252 35.0 43.4472905668 0.0 0.0 \n",
      "\n",
      "Note: Absorber inlet contains some vapor.\n",
      "253 36.0 43.8439828769 0.0 578.83878969 \n",
      "\n",
      "Note: Absorber inlet contains some vapor.\n",
      "254 36.0 43.4377332332 0.0 0.0 \n",
      "\n",
      "Note: Absorber inlet contains some vapor.\n",
      "255 36.0 43.4876298902 0.0 0.0 \n",
      "\n",
      "Note: Absorber inlet contains some vapor.\n",
      "256 36.0 43.4536052139 0.0 0.0 \n",
      "\n",
      "Note: Absorber inlet contains some vapor.\n",
      "257 36.0 43.4876075136 0.0 0.0 \n",
      "\n",
      "Note: Absorber inlet contains some vapor.\n",
      "258 36.0 43.3249676458 0.0 0.0 \n",
      "\n",
      "Note: Absorber inlet contains some vapor.\n",
      "259 36.0 43.5767168869 0.0 0.0 \n",
      "\n",
      "Note: Absorber inlet contains some vapor.\n",
      "260 37.0 43.6658039154 0.0 83.7707672426 \n",
      "\n"
     ]
    },
    {
     "data": {
      "text/plain": [
       "'First pass and we have this ... '"
      ]
     },
     "metadata": {},
     "output_type": "display_data"
    },
    {
     "name": "stdout",
     "output_type": "stream",
     "text": [
      "Note: Absorber inlet contains some vapor.\n"
     ]
    },
    {
     "data": {
      "text/html": [
       "<table>\n",
       "<thead>\n",
       "<tr><th>name  </th><th style=\"text-align: right;\">   deltaT</th><th style=\"text-align: right;\">  epsilon</th><th style=\"text-align: right;\">        UA</th><th style=\"text-align: right;\">      Q</th></tr>\n",
       "</thead>\n",
       "<tbody>\n",
       "<tr><td>gen   </td><td style=\"text-align: right;\">0.0109519</td><td style=\"text-align: right;\"> 0.999918</td><td style=\"text-align: right;\">211.237   </td><td style=\"text-align: right;\">99.8247</td></tr>\n",
       "<tr><td>rect  </td><td style=\"text-align: right;\">7.99233  </td><td style=\"text-align: right;\"> 0.865834</td><td style=\"text-align: right;\">  0.483795</td><td style=\"text-align: right;\">11.5475</td></tr>\n",
       "<tr><td>abs   </td><td style=\"text-align: right;\">4.93982  </td><td style=\"text-align: right;\"> 0.70365 </td><td style=\"text-align: right;\"> 12.1247  </td><td style=\"text-align: right;\">92.7155</td></tr>\n",
       "<tr><td>cond  </td><td style=\"text-align: right;\">5.27092  </td><td style=\"text-align: right;\"> 0.965175</td><td style=\"text-align: right;\">  6.66969 </td><td style=\"text-align: right;\">40.0875</td></tr>\n",
       "<tr><td>evap  </td><td style=\"text-align: right;\">5.17436  </td><td style=\"text-align: right;\"> 0.98324 </td><td style=\"text-align: right;\">  6.84364 </td><td style=\"text-align: right;\">43.5767</td></tr>\n",
       "<tr><td>total </td><td style=\"text-align: right;\">0        </td><td style=\"text-align: right;\"> 0       </td><td style=\"text-align: right;\">237.359   </td><td style=\"text-align: right;\"> 0     </td></tr>\n",
       "</tbody>\n",
       "</table>"
      ],
      "text/plain": [
       "name       deltaT    epsilon          UA        Q\n",
       "------  ---------  ---------  ----------  -------\n",
       "gen     0.0109519   0.999918  211.237     99.8247\n",
       "rect    7.99233     0.865834    0.483795  11.5475\n",
       "abs     4.93982     0.70365    12.1247    92.7155\n",
       "cond    5.27092     0.965175    6.66969   40.0875\n",
       "evap    5.17436     0.98324     6.84364   43.5767\n",
       "totalUA = 237.35861865220772"
      ]
     },
     "metadata": {},
     "output_type": "display_data"
    },
    {
     "name": "stdout",
     "output_type": "stream",
     "text": [
      "Note: Absorber inlet contains some vapor.\n",
      "281 40.0 43.5767168869 0.0 0.0 \n",
      "\n",
      "Note: Absorber inlet contains some vapor.\n",
      "282 40.0 54.9533948323 0.0 3616892.60374 \n",
      "\n",
      "Note: Absorber inlet contains some vapor.\n",
      "283 40.0 44.0442017249 0.0 252.383863267 \n",
      "\n",
      "Note: Absorber inlet contains some vapor.\n",
      "284 40.0 43.1943707512 0.0 0.0 \n",
      "\n",
      "Note: Absorber inlet contains some vapor.\n",
      "285 40.0 43.5767168869 0.0 0.0 \n",
      "\n",
      "Note: Absorber inlet contains some vapor.\n",
      "286 40.0 43.1800087709 0.0 0.0 \n",
      "\n",
      "Note: Absorber inlet contains some vapor.\n",
      "287 40.0 43.8565812937 0.0 2323.0374273 \n",
      "\n",
      "Note: Absorber inlet contains some vapor.\n",
      "288 41.0 32.1998843839 0.0 0.0 \n",
      "\n",
      "Note: Absorber inlet contains some vapor.\n",
      "289 41.0 37.888286774 0.0 0.0 \n",
      "\n",
      "Note: Absorber inlet contains some vapor.\n",
      "290 41.0 43.5101616394 0.0 0.0 \n",
      "\n",
      "Note: Absorber inlet contains some vapor.\n",
      "291 41.0 43.5224168078 0.0 0.0 \n",
      "\n",
      "Note: Absorber inlet contains some vapor.\n",
      "292 41.0 46.4283322815 0.0 301199.722426 \n",
      "\n",
      "Note: Absorber inlet contains some vapor.\n",
      "293 41.0 43.5766154972 0.0 0.0 \n",
      "\n",
      "Note: Absorber inlet contains some vapor.\n",
      "294 41.0 40.7307730498 0.0 0.0 \n",
      "\n",
      "Note: Absorber inlet contains some vapor.\n",
      "295 42.0 43.5767168869 0.0 0.0 \n",
      "\n",
      "Note: Absorber inlet contains some vapor.\n",
      "296 42.0 46.4283318914 0.0 406578.395666 \n",
      "\n",
      "Note: Absorber inlet contains some vapor.\n",
      "297 42.0 43.6263400269 0.0 3.24300375278 \n",
      "\n",
      "Note: Absorber inlet contains some vapor.\n",
      "298 42.0 44.6443752655 0.0 64724.4214749 \n",
      "\n",
      "Note: Absorber inlet contains some vapor.\n",
      "299 42.0 43.6263973527 0.0 3.28931213456 \n",
      "\n",
      "Note: Absorber inlet contains some vapor.\n",
      "300 42.0 42.8651861514 0.0 0.0 \n",
      "\n",
      "Note: Absorber inlet contains some vapor.\n",
      "301 42.0 43.5850294941 0.0 1.33435524842 \n",
      "\n",
      "Note: Absorber inlet contains some vapor.\n",
      "302 43.0 43.7092035119 0.0 1350.98214458 \n",
      "\n",
      "Note: Absorber inlet contains some vapor.\n",
      "303 43.0 43.5892088048 0.0 0.00886889343184 \n",
      "\n",
      "Note: Absorber inlet contains some vapor.\n",
      "304 43.0 43.5959969252 0.0 0.1316547651 \n",
      "\n",
      "Note: Absorber inlet contains some vapor.\n",
      "305 43.0 43.6699518557 0.0 474.868346468 \n",
      "\n",
      "Note: Absorber inlet contains some vapor.\n",
      "306 43.0 43.5892025037 0.0 1.78614925127 \n",
      "\n",
      "Note: Absorber inlet contains some vapor.\n",
      "307 43.0 43.2333349964 0.0 0.0 \n",
      "\n",
      "Note: Absorber inlet contains some vapor.\n",
      "308 43.0 43.5892088048 0.0 0.00886889343184 \n",
      "\n",
      "Note: Absorber inlet contains some vapor.\n",
      "309 44.0 43.5975259706 0.0 5.51229809768 \n",
      "\n",
      "Note: Absorber inlet contains some vapor.\n",
      "310 44.0 43.5951573571 0.0 1.67245732303 \n",
      "\n",
      "Note: Absorber inlet contains some vapor.\n",
      "311 44.0 43.595214294 0.0 2.37196649181 \n",
      "\n",
      "Note: Absorber inlet contains some vapor.\n",
      "312 44.0 43.5907698296 0.0 0.0442797584693 \n",
      "\n",
      "Note: Absorber inlet contains some vapor.\n",
      "313 44.0 43.5894927418 0.0 0.00907575804471 \n",
      "\n",
      "Note: Absorber inlet contains some vapor.\n",
      "314 44.0 43.6337564718 0.0 182.341112729 \n",
      "\n",
      "Note: Absorber inlet contains some vapor.\n",
      "315 44.0 43.5008848151 0.0 0.0 \n",
      "\n",
      "Note: Absorber inlet contains some vapor.\n",
      "316 45.0 43.5875458674 0.0 0.0 \n",
      "\n",
      "Note: Absorber inlet contains some vapor.\n",
      "317 45.0 43.5815927464 0.0 0.0 \n",
      "\n",
      "Note: Absorber inlet contains some vapor.\n",
      "318 45.0 43.5875458674 0.0 0.0 \n",
      "\n",
      "Note: Absorber inlet contains some vapor.\n",
      "319 45.0 43.6523098923 0.0 546.448217895 \n",
      "\n",
      "Note: Absorber inlet contains some vapor.\n",
      "320 45.0 43.5890242503 0.0 0.00284076955899 \n",
      "\n",
      "Note: Absorber inlet contains some vapor.\n",
      "321 45.0 43.5875953345 0.0 0.0 \n",
      "\n",
      "Note: Absorber inlet contains some vapor.\n",
      "322 45.0 43.5432100491 0.0 0.0 \n",
      "\n",
      "Note: Absorber inlet contains some vapor.\n",
      "323 46.0 43.6093709828 0.0 78.7703857556 \n",
      "\n",
      "Note: Absorber inlet contains some vapor.\n",
      "324 46.0 43.5875856429 0.0 0.0 \n",
      "\n",
      "Note: Absorber inlet contains some vapor.\n",
      "325 46.0 43.5653531258 0.0 0.0 \n",
      "\n",
      "Note: Absorber inlet contains some vapor.\n",
      "326 46.0 43.5871091042 0.0 0.0 \n",
      "\n",
      "Note: Absorber inlet contains some vapor.\n",
      "327 46.0 43.6098258772 0.0 80.9783953549 \n",
      "\n",
      "Note: Absorber inlet contains some vapor.\n",
      "328 46.0 43.5875953345 0.0 0.0 \n",
      "\n",
      "Note: Absorber inlet contains some vapor.\n",
      "329 46.0 43.6098258772 0.0 80.9783953549 \n",
      "\n",
      "Note: Absorber inlet contains some vapor.\n",
      "330 47.0 43.58722583 0.0 0.0 \n",
      "\n"
     ]
    },
    {
     "data": {
      "text/plain": [
       "'Second pass and we have this ... '"
      ]
     },
     "metadata": {},
     "output_type": "display_data"
    },
    {
     "name": "stdout",
     "output_type": "stream",
     "text": [
      "Note: Absorber inlet contains some vapor.\n"
     ]
    },
    {
     "data": {
      "text/html": [
       "<table>\n",
       "<thead>\n",
       "<tr><th>name  </th><th style=\"text-align: right;\">   deltaT</th><th style=\"text-align: right;\">  epsilon</th><th style=\"text-align: right;\">        UA</th><th style=\"text-align: right;\">      Q</th></tr>\n",
       "</thead>\n",
       "<tbody>\n",
       "<tr><td>gen   </td><td style=\"text-align: right;\">0.0100624</td><td style=\"text-align: right;\"> 0.999955</td><td style=\"text-align: right;\">219.633   </td><td style=\"text-align: right;\">99.8425</td></tr>\n",
       "<tr><td>rect  </td><td style=\"text-align: right;\">7.99236  </td><td style=\"text-align: right;\"> 0.865823</td><td style=\"text-align: right;\">  0.483912</td><td style=\"text-align: right;\">11.5493</td></tr>\n",
       "<tr><td>abs   </td><td style=\"text-align: right;\">4.93671  </td><td style=\"text-align: right;\"> 0.703807</td><td style=\"text-align: right;\"> 12.1321  </td><td style=\"text-align: right;\">92.7323</td></tr>\n",
       "<tr><td>cond  </td><td style=\"text-align: right;\">5.27023  </td><td style=\"text-align: right;\"> 0.965176</td><td style=\"text-align: right;\">  6.67192 </td><td style=\"text-align: right;\">40.0976</td></tr>\n",
       "<tr><td>evap  </td><td style=\"text-align: right;\">5.17422  </td><td style=\"text-align: right;\"> 0.983239</td><td style=\"text-align: right;\">  6.8452  </td><td style=\"text-align: right;\">43.5876</td></tr>\n",
       "<tr><td>total </td><td style=\"text-align: right;\">0        </td><td style=\"text-align: right;\"> 0       </td><td style=\"text-align: right;\">245.766   </td><td style=\"text-align: right;\"> 0     </td></tr>\n",
       "</tbody>\n",
       "</table>"
      ],
      "text/plain": [
       "name       deltaT    epsilon          UA        Q\n",
       "------  ---------  ---------  ----------  -------\n",
       "gen     0.0100624   0.999955  219.633     99.8425\n",
       "rect    7.99236     0.865823    0.483912  11.5493\n",
       "abs     4.93671     0.703807   12.1321    92.7323\n",
       "cond    5.27023     0.965176    6.67192   40.0976\n",
       "evap    5.17422     0.983239    6.8452    43.5876\n",
       "totalUA = 245.76641963233038"
      ]
     },
     "metadata": {},
     "output_type": "display_data"
    },
    {
     "name": "stdout",
     "output_type": "stream",
     "text": [
      "Note: Absorber inlet contains some vapor.\n",
      "351 50.0 43.5875953345 0.0 0.0 \n",
      "\n",
      "Note: Absorber inlet contains some vapor.\n",
      "352 50.0 44.7254810828 0.0 717244.155127 \n",
      "\n",
      "Note: Absorber inlet contains some vapor.\n",
      "353 50.0 43.6343357153 0.0 51.7416267246 \n",
      "\n",
      "Note: Absorber inlet contains some vapor.\n",
      "354 50.0 43.5493901862 0.0 0.0 \n",
      "\n",
      "Note: Absorber inlet contains some vapor.\n",
      "355 50.0 43.5875953345 0.0 0.0 \n",
      "\n",
      "Note: Absorber inlet contains some vapor.\n",
      "356 50.0 43.5479026924 0.0 0.0 \n",
      "\n",
      "Note: Absorber inlet contains some vapor.\n",
      "357 50.0 43.6156084386 0.0 469.849207665 \n",
      "\n",
      "Note: Absorber inlet contains some vapor.\n",
      "358 51.0 42.4496886843 0.0 0.0 \n",
      "\n",
      "Note: Absorber inlet contains some vapor.\n",
      "359 51.0 43.0186418677 0.0 0.0 \n",
      "\n",
      "Note: Absorber inlet contains some vapor.\n",
      "360 51.0 43.5802289948 0.0 0.0 \n",
      "\n",
      "Note: Absorber inlet contains some vapor.\n",
      "361 51.0 43.5821710425 0.0 0.0 \n",
      "\n",
      "Note: Absorber inlet contains some vapor.\n",
      "362 51.0 43.8727341856 0.0 60282.9551888 \n",
      "\n",
      "Note: Absorber inlet contains some vapor.\n",
      "363 51.0 43.5875943216 0.0 0.0 \n",
      "\n",
      "Note: Absorber inlet contains some vapor.\n",
      "364 51.0 43.3029419499 0.0 0.0 \n",
      "\n",
      "Note: Absorber inlet contains some vapor.\n",
      "365 52.0 43.5875953345 0.0 0.0 \n",
      "\n",
      "Note: Absorber inlet contains some vapor.\n",
      "366 52.0 43.8727341852 0.0 81373.5060726 \n",
      "\n",
      "Note: Absorber inlet contains some vapor.\n",
      "367 52.0 43.592557533 0.0 0.78708824866 \n",
      "\n",
      "Note: Absorber inlet contains some vapor.\n",
      "368 52.0 43.6288900415 0.0 2396.09363326 \n",
      "\n",
      "Note: Absorber inlet contains some vapor.\n",
      "369 52.0 43.5925742047 0.0 0.816998775796 \n",
      "\n",
      "Note: Absorber inlet contains some vapor.\n",
      "370 52.0 43.5974623047 0.0 136.129192372 \n",
      "\n",
      "Note: Absorber inlet contains some vapor.\n",
      "371 52.0 43.6228574018 0.0 1228.23965445 \n",
      "\n",
      "Note: Absorber inlet contains some vapor.\n",
      "372 53.0 43.5166357072 0.0 0.0 \n",
      "\n",
      "Note: Absorber inlet contains some vapor.\n",
      "373 53.0 43.588502838 0.0 0.602079007758 \n",
      "\n",
      "Note: Absorber inlet contains some vapor.\n",
      "374 53.0 43.5816832431 0.0 0.0 \n",
      "\n",
      "Note: Absorber inlet contains some vapor.\n",
      "375 53.0 43.5888233683 0.0 1.85782491857 \n",
      "\n",
      "Note: Absorber inlet contains some vapor.\n",
      "376 53.0 43.5882734237 0.0 0.0 \n",
      "\n",
      "Note: Absorber inlet contains some vapor.\n",
      "377 53.0 43.5895014937 0.0 2.19846218625 \n",
      "\n",
      "Note: Absorber inlet contains some vapor.\n",
      "378 53.0 43.5882734237 0.0 0.0 \n",
      "\n",
      "Note: Absorber inlet contains some vapor.\n",
      "379 54.0 43.5897307733 0.0 3.13877492658 \n",
      "\n",
      "Note: Absorber inlet contains some vapor.\n",
      "380 54.0 43.5882734792 0.0 0.337715581685 \n",
      "\n",
      "Note: Absorber inlet contains some vapor.\n",
      "381 54.0 43.5878073089 0.0 0.0 \n",
      "\n",
      "Note: Absorber inlet contains some vapor.\n",
      "382 54.0 43.5880403681 0.0 0.0 \n",
      "\n",
      "Note: Absorber inlet contains some vapor.\n",
      "383 54.0 43.5971459109 0.0 141.76482976 \n",
      "\n",
      "Note: Absorber inlet contains some vapor.\n",
      "384 54.0 43.570528594 0.0 0.0 \n",
      "\n",
      "Note: Absorber inlet contains some vapor.\n",
      "385 54.0 43.5890125479 0.0 1.59643568742 \n",
      "\n",
      "Note: Absorber inlet contains some vapor.\n",
      "386 55.0 43.5869097169 0.0 0.0 \n",
      "\n",
      "Note: Absorber inlet contains some vapor.\n",
      "387 55.0 43.5890044449 0.0 0.41664956317 \n",
      "\n"
     ]
    },
    {
     "data": {
      "text/plain": [
       "'Third pass and we have this ... '"
      ]
     },
     "metadata": {},
     "output_type": "display_data"
    },
    {
     "name": "stdout",
     "output_type": "stream",
     "text": [
      "Note: Absorber inlet contains some vapor.\n"
     ]
    },
    {
     "data": {
      "text/html": [
       "<table>\n",
       "<thead>\n",
       "<tr><th>name  </th><th style=\"text-align: right;\">   deltaT</th><th style=\"text-align: right;\">  epsilon</th><th style=\"text-align: right;\">        UA</th><th style=\"text-align: right;\">      Q</th></tr>\n",
       "</thead>\n",
       "<tbody>\n",
       "<tr><td>gen   </td><td style=\"text-align: right;\">0.0100624</td><td style=\"text-align: right;\"> 0.999955</td><td style=\"text-align: right;\">219.633   </td><td style=\"text-align: right;\">99.8425</td></tr>\n",
       "<tr><td>rect  </td><td style=\"text-align: right;\">7.99236  </td><td style=\"text-align: right;\"> 0.865823</td><td style=\"text-align: right;\">  0.483912</td><td style=\"text-align: right;\">11.5493</td></tr>\n",
       "<tr><td>abs   </td><td style=\"text-align: right;\">4.93671  </td><td style=\"text-align: right;\"> 0.703807</td><td style=\"text-align: right;\"> 12.1321  </td><td style=\"text-align: right;\">92.7323</td></tr>\n",
       "<tr><td>cond  </td><td style=\"text-align: right;\">5.27023  </td><td style=\"text-align: right;\"> 0.965176</td><td style=\"text-align: right;\">  6.67192 </td><td style=\"text-align: right;\">40.0976</td></tr>\n",
       "<tr><td>evap  </td><td style=\"text-align: right;\">5.17422  </td><td style=\"text-align: right;\"> 0.983239</td><td style=\"text-align: right;\">  6.8452  </td><td style=\"text-align: right;\">43.5876</td></tr>\n",
       "<tr><td>total </td><td style=\"text-align: right;\">0        </td><td style=\"text-align: right;\"> 0       </td><td style=\"text-align: right;\">245.766   </td><td style=\"text-align: right;\"> 0     </td></tr>\n",
       "</tbody>\n",
       "</table>"
      ],
      "text/plain": [
       "name       deltaT    epsilon          UA        Q\n",
       "------  ---------  ---------  ----------  -------\n",
       "gen     0.0100624   0.999955  219.633     99.8425\n",
       "rect    7.99236     0.865823    0.483912  11.5493\n",
       "abs     4.93671     0.703807   12.1321    92.7323\n",
       "cond    5.27023     0.965176    6.67192   40.0976\n",
       "evap    5.17422     0.983239    6.8452    43.5876\n",
       "totalUA = 245.76641963233038"
      ]
     },
     "metadata": {},
     "output_type": "display_data"
    },
    {
     "name": "stdout",
     "output_type": "stream",
     "text": [
      "Case 6, T_heat_reject = 323.15 K\n",
      "Note: Absorber inlet contains some vapor.\n",
      "211 30.0 0.273371382858 0.0 0.0 \n",
      "\n",
      "Note: Absorber inlet contains some vapor.\n",
      "212 30.0 0.820114148573 0.0 0.0 \n",
      "\n",
      "Note: Absorber inlet contains some vapor.\n",
      "213 30.0 1.00471851873 0.0 0.0 \n",
      "\n",
      "Note: Absorber inlet contains some vapor.\n",
      "214 30.0 0.833200632778 0.0 0.0 \n",
      "\n",
      "Note: Absorber inlet contains some vapor.\n",
      "215 30.0 1.00471851873 0.0 0.0 \n",
      "\n",
      "Note: Absorber inlet contains some vapor.\n",
      "216 30.0 0.851048928386 0.0 0.0 \n",
      "\n",
      "Note: Absorber inlet contains some vapor.\n",
      "217 30.0 1.13373199236 0.0 0.0 \n",
      "\n",
      "Note: Absorber inlet contains some vapor.\n",
      "218 31.0 2.04195303948 0.0 0.0 \n",
      "\n",
      "Note: Absorber inlet contains some vapor.\n",
      "219 31.0 3.098997103 0.0 0.0 \n",
      "\n",
      "Note: Absorber inlet contains some vapor.\n",
      "220 31.0 4.23780158012 0.0 0.0 \n",
      "\n",
      "Note: Absorber inlet contains some vapor.\n",
      "221 31.0 5.42606614489 0.0 0.0 \n",
      "\n",
      "Note: Absorber inlet contains some vapor.\n",
      "222 31.0 6.64729341507 0.0 0.0 \n",
      "\n",
      "Note: Absorber inlet contains some vapor.\n",
      "223 31.0 7.89191220862 0.0 0.0 \n",
      "\n",
      "Note: Absorber inlet contains some vapor.\n",
      "224 31.0 9.15400020191 0.0 0.0 \n",
      "\n",
      "Note: Absorber inlet contains some vapor.\n",
      "225 32.0 10.4293855253 0.0 0.0 \n",
      "\n",
      "Note: Absorber inlet contains some vapor.\n",
      "226 32.0 11.7156600112 0.0 33954.4233197 \n",
      "\n",
      "Note: Absorber inlet contains some vapor.\n",
      "227 32.0 10.0207480206 0.0 0.0 \n",
      "\n",
      "Note: Absorber inlet contains some vapor.\n",
      "228 32.0 11.1878282394 0.0 0.0 \n",
      "\n",
      "Note: Absorber inlet contains some vapor.\n",
      "229 32.0 11.5084521682 0.0 0.0 \n",
      "\n",
      "Note: Absorber inlet contains some vapor.\n",
      "230 32.0 11.9639093757 0.0 0.0 \n",
      "\n",
      "Note: Absorber inlet contains some vapor.\n",
      "231 32.0 11.7335898733 0.0 0.0 \n",
      "\n",
      "Note: Absorber inlet contains some vapor.\n",
      "232 33.0 10.1470766758 0.0 0.0 \n",
      "\n",
      "Note: Absorber inlet contains some vapor.\n",
      "233 33.0 13.1413436443 0.0 0.0 \n",
      "\n",
      "Note: Absorber inlet contains some vapor.\n",
      "234 33.0 14.3639826115 0.0 12483.4114307 \n",
      "\n",
      "Note: Absorber inlet contains some vapor.\n",
      "235 33.0 13.1625983169 0.0 0.0 \n",
      "\n",
      "Note: Absorber inlet contains some vapor.\n",
      "236 33.0 12.8934033341 0.0 10.0057988207 \n",
      "\n",
      "Note: Absorber inlet contains some vapor.\n",
      "237 33.0 13.1448633096 0.0 0.0 \n",
      "\n",
      "Note: Absorber inlet contains some vapor.\n",
      "238 33.0 12.5171443364 0.0 0.0 \n",
      "\n",
      "Note: Absorber inlet contains some vapor.\n",
      "239 34.0 13.0578158321 0.0 0.0 \n",
      "\n",
      "Note: Absorber inlet contains some vapor.\n",
      "240 34.0 12.8213650776 0.0 0.0 \n",
      "\n",
      "Note: Absorber inlet contains some vapor.\n",
      "241 34.0 12.717175904 0.0 0.0 \n",
      "\n",
      "Note: Absorber inlet contains some vapor.\n",
      "242 34.0 13.3589228673 0.0 0.0 \n",
      "\n",
      "Note: Absorber inlet contains some vapor.\n",
      "243 34.0 13.6632215413 0.0 172.659709369 \n",
      "\n",
      "Note: Absorber inlet contains some vapor.\n",
      "244 34.0 13.3579455634 0.0 0.0 \n",
      "\n",
      "Note: Absorber inlet contains some vapor.\n",
      "245 34.0 13.1791151069 0.0 0.0 \n",
      "\n",
      "Note: Absorber inlet contains some vapor.\n",
      "246 35.0 13.3582383062 0.0 0.0 \n",
      "\n",
      "Note: Absorber inlet contains some vapor.\n",
      "247 35.0 13.1372000933 0.0 0.0 \n",
      "\n",
      "Note: Absorber inlet contains some vapor.\n",
      "248 35.0 13.3593711542 0.0 0.0 \n",
      "\n",
      "Note: Absorber inlet contains some vapor.\n",
      "249 35.0 13.2607103679 0.0 0.0 \n",
      "\n",
      "Note: Absorber inlet contains some vapor.\n",
      "250 35.0 13.323945039 0.0 0.0 \n",
      "\n",
      "Note: Absorber inlet contains some vapor.\n",
      "251 35.0 13.1429410931 0.0 0.0 \n",
      "\n",
      "Note: Absorber inlet contains some vapor.\n",
      "252 35.0 13.2731612473 0.0 0.0 \n",
      "\n",
      "Note: Absorber inlet contains some vapor.\n",
      "253 36.0 13.5112397691 0.0 0.80359076254 \n",
      "\n",
      "Note: Absorber inlet contains some vapor.\n",
      "254 36.0 13.310821259 0.0 0.0 \n",
      "\n",
      "Note: Absorber inlet contains some vapor.\n",
      "255 36.0 13.3593080657 0.0 0.0 \n",
      "\n",
      "Note: Absorber inlet contains some vapor.\n",
      "256 36.0 13.3367666141 0.0 0.0 \n",
      "\n",
      "Note: Absorber inlet contains some vapor.\n",
      "257 36.0 13.3593255425 0.0 0.0 \n",
      "\n",
      "Note: Absorber inlet contains some vapor.\n",
      "258 36.0 13.342908806 0.0 0.0 \n",
      "\n",
      "Note: Absorber inlet contains some vapor.\n",
      "259 36.0 13.3378048507 0.0 0.0 \n",
      "\n",
      "Note: Absorber inlet contains some vapor.\n",
      "260 37.0 13.3972630108 0.0 0.0 \n",
      "\n"
     ]
    },
    {
     "data": {
      "text/plain": [
       "'First pass and we have this ... '"
      ]
     },
     "metadata": {},
     "output_type": "display_data"
    },
    {
     "name": "stdout",
     "output_type": "stream",
     "text": [
      "Note: Absorber inlet contains some vapor.\n"
     ]
    },
    {
     "data": {
      "text/html": [
       "<table>\n",
       "<thead>\n",
       "<tr><th>name  </th><th style=\"text-align: right;\">  deltaT</th><th style=\"text-align: right;\">  epsilon</th><th style=\"text-align: right;\">        UA</th><th style=\"text-align: right;\">        Q</th></tr>\n",
       "</thead>\n",
       "<tbody>\n",
       "<tr><td>gen   </td><td style=\"text-align: right;\">0.108392</td><td style=\"text-align: right;\"> 0.995621</td><td style=\"text-align: right;\">357.304   </td><td style=\"text-align: right;\">102.998  </td></tr>\n",
       "<tr><td>rect  </td><td style=\"text-align: right;\">7.81123 </td><td style=\"text-align: right;\"> 0.884091</td><td style=\"text-align: right;\">  0.150965</td><td style=\"text-align: right;\">  4.49446</td></tr>\n",
       "<tr><td>abs   </td><td style=\"text-align: right;\">3.12599 </td><td style=\"text-align: right;\"> 0.723022</td><td style=\"text-align: right;\"> 26.424   </td><td style=\"text-align: right;\">102.303  </td></tr>\n",
       "<tr><td>cond  </td><td style=\"text-align: right;\">6.31036 </td><td style=\"text-align: right;\"> 0.966527</td><td style=\"text-align: right;\">  1.86727 </td><td style=\"text-align: right;\"> 12.1662 </td></tr>\n",
       "<tr><td>evap  </td><td style=\"text-align: right;\">6.86082 </td><td style=\"text-align: right;\"> 0.983277</td><td style=\"text-align: right;\">  1.85422 </td><td style=\"text-align: right;\"> 13.3973 </td></tr>\n",
       "<tr><td>total </td><td style=\"text-align: right;\">0       </td><td style=\"text-align: right;\"> 0       </td><td style=\"text-align: right;\">387.601   </td><td style=\"text-align: right;\">  0      </td></tr>\n",
       "</tbody>\n",
       "</table>"
      ],
      "text/plain": [
       "name      deltaT    epsilon          UA          Q\n",
       "------  --------  ---------  ----------  ---------\n",
       "gen     0.108392   0.995621  357.304     102.998\n",
       "rect    7.81123    0.884091    0.150965    4.49446\n",
       "abs     3.12599    0.723022   26.424     102.303\n",
       "cond    6.31036    0.966527    1.86727    12.1662\n",
       "evap    6.86082    0.983277    1.85422    13.3973\n",
       "totalUA = 387.6005875423901"
      ]
     },
     "metadata": {},
     "output_type": "display_data"
    },
    {
     "name": "stdout",
     "output_type": "stream",
     "text": [
      "Note: Absorber inlet contains some vapor.\n",
      "281 40.0 13.3972630108 0.0 0.0 \n",
      "\n",
      "Note: Absorber inlet contains some vapor.\n",
      "282 40.0 14.8962177138 0.0 1150879.43464 \n",
      "\n",
      "Note: Absorber inlet contains some vapor.\n",
      "283 40.0 14.4959934327 0.0 8511.12416542 \n",
      "\n",
      "Note: Absorber inlet contains some vapor.\n",
      "284 40.0 12.3863311141 0.0 0.0 \n",
      "\n",
      "Note: Absorber inlet contains some vapor.\n",
      "285 40.0 13.3972630108 0.0 0.0 \n",
      "\n",
      "Note: Absorber inlet contains some vapor.\n",
      "286 40.0 12.4818947392 0.0 0.0 \n",
      "\n",
      "Note: Absorber inlet contains some vapor.\n",
      "287 40.0 14.1558820509 0.0 8663.30146853 \n",
      "\n",
      "Note: Absorber inlet contains some vapor.\n",
      "288 41.0 11.8861031108 0.0 0.0 \n",
      "\n",
      "Note: Absorber inlet contains some vapor.\n",
      "289 41.0 12.6412960729 0.0 0.0 \n",
      "\n",
      "Note: Absorber inlet contains some vapor.\n",
      "290 41.0 13.0732798581 0.0 0.0 \n",
      "\n",
      "Note: Absorber inlet contains some vapor.\n",
      "291 41.0 13.5234983082 0.0 0.0 \n",
      "\n",
      "Note: Absorber inlet contains some vapor.\n",
      "292 41.0 13.5864725241 0.0 0.0 \n",
      "\n",
      "Note: Absorber inlet contains some vapor.\n",
      "293 41.0 13.7009791088 0.0 0.0 \n",
      "\n",
      "Note: Absorber inlet contains some vapor.\n",
      "294 41.0 14.3193414524 0.0 60173.0176255 \n",
      "\n",
      "Note: Absorber inlet contains some vapor.\n",
      "295 42.0 13.7009791088 0.0 0.0 \n",
      "\n",
      "Note: Absorber inlet contains some vapor.\n",
      "296 42.0 13.3143758527 0.0 0.0 \n",
      "\n",
      "Note: Absorber inlet contains some vapor.\n",
      "297 42.0 13.5390700222 0.0 0.0 \n",
      "\n",
      "Note: Absorber inlet contains some vapor.\n",
      "298 42.0 13.7009895977 0.0 0.0 \n",
      "\n",
      "Note: Absorber inlet contains some vapor.\n",
      "299 42.0 13.5708707953 0.0 0.0 \n",
      "\n",
      "Note: Absorber inlet contains some vapor.\n",
      "300 42.0 14.0086039294 0.0 17971.69356 \n",
      "\n",
      "Note: Absorber inlet contains some vapor.\n",
      "301 42.0 13.6043208187 0.0 0.0 \n",
      "\n",
      "Note: Absorber inlet contains some vapor.\n",
      "302 43.0 13.7009895977 0.0 0.0 \n",
      "\n",
      "Note: Absorber inlet contains some vapor.\n",
      "303 43.0 13.62003843 0.0 0.0 \n",
      "\n",
      "Note: Absorber inlet contains some vapor.\n",
      "304 43.0 13.6437305497 0.0 0.0 \n",
      "\n",
      "Note: Absorber inlet contains some vapor.\n",
      "305 43.0 13.668462341 0.0 0.0 \n",
      "\n",
      "Note: Absorber inlet contains some vapor.\n",
      "306 43.0 13.7775900082 0.0 596.684621758 \n",
      "\n",
      "Note: Absorber inlet contains some vapor.\n",
      "307 43.0 13.6866759073 0.0 0.0 \n",
      "\n",
      "Note: Absorber inlet contains some vapor.\n",
      "308 43.0 13.7009837885 0.0 0.0 \n",
      "\n",
      "Note: Absorber inlet contains some vapor.\n",
      "309 44.0 13.6694862846 0.0 0.0 \n",
      "\n",
      "Note: Absorber inlet contains some vapor.\n",
      "310 44.0 13.7009908825 0.0 0.0 \n",
      "\n",
      "Note: Absorber inlet contains some vapor.\n",
      "311 44.0 13.7392660246 0.0 6.74951211578 \n",
      "\n",
      "Note: Absorber inlet contains some vapor.\n",
      "312 44.0 13.6928960985 0.0 0.0 \n",
      "\n",
      "Note: Absorber inlet contains some vapor.\n",
      "313 44.0 13.7009908825 0.0 0.0 \n",
      "\n",
      "Note: Absorber inlet contains some vapor.\n",
      "314 44.0 13.6852470619 0.0 0.0 \n",
      "\n",
      "Note: Absorber inlet contains some vapor.\n",
      "315 44.0 13.6938339542 0.0 0.0 \n",
      "\n",
      "Note: Absorber inlet contains some vapor.\n",
      "316 45.0 13.7105549304 0.0 0.0 \n",
      "\n",
      "Note: Absorber inlet contains some vapor.\n",
      "317 45.0 13.7201221372 0.0 0.0 \n",
      "\n",
      "Note: Absorber inlet contains some vapor.\n",
      "318 45.0 13.7296925011 0.0 0.0 \n",
      "\n",
      "Note: Absorber inlet contains some vapor.\n",
      "319 45.0 13.7392660128 0.0 9.17562701064 \n",
      "\n",
      "Note: Absorber inlet contains some vapor.\n",
      "320 45.0 13.7296972177 0.0 0.0 \n",
      "\n",
      "Note: Absorber inlet contains some vapor.\n",
      "321 45.0 13.7273323583 0.0 0.0 \n",
      "\n",
      "Note: Absorber inlet contains some vapor.\n",
      "322 45.0 13.729697012 0.0 0.0 \n",
      "\n",
      "Note: Absorber inlet contains some vapor.\n",
      "323 46.0 13.7283312653 0.0 0.0 \n",
      "\n",
      "Note: Absorber inlet contains some vapor.\n",
      "324 46.0 13.7296971821 0.0 0.0 \n",
      "\n",
      "Note: Absorber inlet contains some vapor.\n",
      "325 46.0 13.720525562 0.0 0.0 \n",
      "\n",
      "Note: Absorber inlet contains some vapor.\n",
      "326 46.0 13.7344835037 0.0 0.0 \n",
      "\n",
      "Note: Absorber inlet contains some vapor.\n",
      "327 46.0 13.7392705794 0.0 3.54979562644 \n",
      "\n",
      "Note: Absorber inlet contains some vapor.\n",
      "328 46.0 13.7344835846 0.0 0.0 \n",
      "\n",
      "Note: Absorber inlet contains some vapor.\n",
      "329 46.0 13.7322098352 0.0 0.0 \n",
      "\n",
      "Note: Absorber inlet contains some vapor.\n",
      "330 47.0 13.7342762176 0.0 0.0 \n",
      "\n"
     ]
    },
    {
     "data": {
      "text/plain": [
       "'Second pass and we have this ... '"
      ]
     },
     "metadata": {},
     "output_type": "display_data"
    },
    {
     "name": "stdout",
     "output_type": "stream",
     "text": [
      "Note: Absorber inlet contains some vapor.\n"
     ]
    },
    {
     "data": {
      "text/html": [
       "<table>\n",
       "<thead>\n",
       "<tr><th>name  </th><th style=\"text-align: right;\">   deltaT</th><th style=\"text-align: right;\">  epsilon</th><th style=\"text-align: right;\">        UA</th><th style=\"text-align: right;\">        Q</th></tr>\n",
       "</thead>\n",
       "<tbody>\n",
       "<tr><td>gen   </td><td style=\"text-align: right;\">0.0121056</td><td style=\"text-align: right;\"> 0.999512</td><td style=\"text-align: right;\">940.511   </td><td style=\"text-align: right;\">103.555  </td></tr>\n",
       "<tr><td>rect  </td><td style=\"text-align: right;\">7.80529  </td><td style=\"text-align: right;\"> 0.883858</td><td style=\"text-align: right;\">  0.154906</td><td style=\"text-align: right;\">  4.60028</td></tr>\n",
       "<tr><td>abs   </td><td style=\"text-align: right;\">3.1001   </td><td style=\"text-align: right;\"> 0.725623</td><td style=\"text-align: right;\"> 26.6929  </td><td style=\"text-align: right;\">102.785  </td></tr>\n",
       "<tr><td>cond  </td><td style=\"text-align: right;\">6.28557  </td><td style=\"text-align: right;\"> 0.966585</td><td style=\"text-align: right;\">  1.92003 </td><td style=\"text-align: right;\"> 12.4737 </td></tr>\n",
       "<tr><td>evap  </td><td style=\"text-align: right;\">6.81746  </td><td style=\"text-align: right;\"> 0.983325</td><td style=\"text-align: right;\">  1.9098  </td><td style=\"text-align: right;\"> 13.7345 </td></tr>\n",
       "<tr><td>total </td><td style=\"text-align: right;\">0        </td><td style=\"text-align: right;\"> 0       </td><td style=\"text-align: right;\">971.189   </td><td style=\"text-align: right;\">  0      </td></tr>\n",
       "</tbody>\n",
       "</table>"
      ],
      "text/plain": [
       "name       deltaT    epsilon          UA          Q\n",
       "------  ---------  ---------  ----------  ---------\n",
       "gen     0.0121056   0.999512  940.511     103.555\n",
       "rect    7.80529     0.883858    0.154906    4.60028\n",
       "abs     3.1001      0.725623   26.6929    102.785\n",
       "cond    6.28557     0.966585    1.92003    12.4737\n",
       "evap    6.81746     0.983325    1.9098     13.7345\n",
       "totalUA = 971.1890787560759"
      ]
     },
     "metadata": {},
     "output_type": "display_data"
    },
    {
     "name": "stdout",
     "output_type": "stream",
     "text": [
      "Note: Absorber inlet contains some vapor.\n",
      "351 50.0 13.7344835846 0.0 0.0 \n",
      "\n",
      "Note: Absorber inlet contains some vapor.\n",
      "352 50.0 13.8880138438 0.0 247032.108243 \n",
      "\n",
      "Note: Absorber inlet contains some vapor.\n",
      "353 50.0 13.8444623204 0.0 3070.68006384 \n",
      "\n",
      "Note: Absorber inlet contains some vapor.\n",
      "354 50.0 13.6334094392 0.0 0.0 \n",
      "\n",
      "Note: Absorber inlet contains some vapor.\n",
      "355 50.0 13.7344835846 0.0 0.0 \n",
      "\n",
      "Note: Absorber inlet contains some vapor.\n",
      "356 50.0 13.6427956716 0.0 0.0 \n",
      "\n",
      "Note: Absorber inlet contains some vapor.\n",
      "357 50.0 13.8104748838 0.0 3109.62638227 \n",
      "\n",
      "Note: Absorber inlet contains some vapor.\n",
      "358 51.0 13.5786801001 0.0 0.0 \n",
      "\n",
      "Note: Absorber inlet contains some vapor.\n",
      "359 51.0 13.6565753515 0.0 0.0 \n",
      "\n",
      "Note: Absorber inlet contains some vapor.\n",
      "360 51.0 13.7023302962 0.0 0.0 \n",
      "\n",
      "Note: Absorber inlet contains some vapor.\n",
      "361 51.0 13.7471168309 0.0 11.8069568617 \n",
      "\n",
      "Note: Absorber inlet contains some vapor.\n",
      "362 51.0 13.7401594194 0.0 0.0 \n",
      "\n",
      "Note: Absorber inlet contains some vapor.\n",
      "363 51.0 13.7516215565 0.0 6.2611228215 \n",
      "\n",
      "Note: Absorber inlet contains some vapor.\n",
      "364 51.0 13.707084398 0.0 0.0 \n",
      "\n",
      "Note: Absorber inlet contains some vapor.\n",
      "365 52.0 13.7401594194 0.0 0.0 \n",
      "\n",
      "Note: Absorber inlet contains some vapor.\n",
      "366 52.0 13.7320505109 0.0 0.0 \n",
      "\n",
      "Note: Absorber inlet contains some vapor.\n",
      "367 52.0 13.7596825914 0.0 6296.22518788 \n",
      "\n",
      "Note: Absorber inlet contains some vapor.\n",
      "368 52.0 13.7011159896 0.0 0.0 \n",
      "\n",
      "Note: Absorber inlet contains some vapor.\n",
      "369 52.0 13.7708157875 0.0 3846.89322653 \n",
      "\n",
      "Note: Absorber inlet contains some vapor.\n",
      "370 52.0 13.7240539424 0.0 0.0 \n",
      "\n",
      "Note: Absorber inlet contains some vapor.\n",
      "371 52.0 13.7303982208 0.0 0.0 \n",
      "\n",
      "Note: Absorber inlet contains some vapor.\n",
      "372 53.0 13.7401594629 0.0 0.0 \n",
      "\n",
      "Note: Absorber inlet contains some vapor.\n",
      "373 53.0 13.7316408926 0.0 0.0 \n",
      "\n",
      "Note: Absorber inlet contains some vapor.\n",
      "374 53.0 13.7408689628 0.0 0.0 \n",
      "\n",
      "Note: Absorber inlet contains some vapor.\n",
      "375 53.0 13.7561934634 0.0 1076.15826488 \n",
      "\n",
      "Note: Absorber inlet contains some vapor.\n",
      "376 53.0 13.7408689628 0.0 0.0 \n",
      "\n",
      "Note: Absorber inlet contains some vapor.\n",
      "377 53.0 13.732816363 0.0 0.0 \n",
      "\n",
      "Note: Absorber inlet contains some vapor.\n",
      "378 53.0 13.7359880931 0.0 0.0 \n",
      "\n",
      "Note: Absorber inlet contains some vapor.\n",
      "379 54.0 13.736609678 0.0 0.0 \n",
      "\n",
      "Note: Absorber inlet contains some vapor.\n",
      "380 54.0 13.7446993297 0.0 15.7849029767 \n",
      "\n",
      "Note: Absorber inlet contains some vapor.\n",
      "381 54.0 13.7408689637 0.0 0.0 \n",
      "\n",
      "Note: Absorber inlet contains some vapor.\n",
      "382 54.0 13.7388561701 0.0 0.0 \n",
      "\n",
      "Note: Absorber inlet contains some vapor.\n",
      "383 54.0 13.739506123 0.0 0.0 \n",
      "\n",
      "Note: Absorber inlet contains some vapor.\n",
      "384 54.0 13.7408689637 0.0 0.0 \n",
      "\n",
      "Note: Absorber inlet contains some vapor.\n",
      "385 54.0 13.7393070819 0.0 0.0 \n",
      "\n",
      "Note: Absorber inlet contains some vapor.\n",
      "386 55.0 13.7409825113 0.0 0.0 \n",
      "\n",
      "Note: Absorber inlet contains some vapor.\n",
      "387 55.0 13.7434338975 0.0 0.0 \n",
      "\n",
      "Note: Absorber inlet contains some vapor.\n",
      "388 55.0 13.7458854907 0.0 68.8781821165 \n",
      "\n"
     ]
    },
    {
     "data": {
      "text/plain": [
       "'Third pass and we have this ... '"
      ]
     },
     "metadata": {},
     "output_type": "display_data"
    },
    {
     "name": "stdout",
     "output_type": "stream",
     "text": [
      "Note: Absorber inlet contains some vapor.\n"
     ]
    },
    {
     "data": {
      "text/html": [
       "<table>\n",
       "<thead>\n",
       "<tr><th>name  </th><th style=\"text-align: right;\">   deltaT</th><th style=\"text-align: right;\">  epsilon</th><th style=\"text-align: right;\">        UA</th><th style=\"text-align: right;\">        Q</th></tr>\n",
       "</thead>\n",
       "<tbody>\n",
       "<tr><td>gen   </td><td style=\"text-align: right;\">0.0121056</td><td style=\"text-align: right;\"> 0.999512</td><td style=\"text-align: right;\">940.511   </td><td style=\"text-align: right;\">103.555  </td></tr>\n",
       "<tr><td>rect  </td><td style=\"text-align: right;\">7.80529  </td><td style=\"text-align: right;\"> 0.883858</td><td style=\"text-align: right;\">  0.154906</td><td style=\"text-align: right;\">  4.60028</td></tr>\n",
       "<tr><td>abs   </td><td style=\"text-align: right;\">3.1001   </td><td style=\"text-align: right;\"> 0.725623</td><td style=\"text-align: right;\"> 26.6929  </td><td style=\"text-align: right;\">102.785  </td></tr>\n",
       "<tr><td>cond  </td><td style=\"text-align: right;\">6.28557  </td><td style=\"text-align: right;\"> 0.966585</td><td style=\"text-align: right;\">  1.92003 </td><td style=\"text-align: right;\"> 12.4737 </td></tr>\n",
       "<tr><td>evap  </td><td style=\"text-align: right;\">6.81746  </td><td style=\"text-align: right;\"> 0.983325</td><td style=\"text-align: right;\">  1.9098  </td><td style=\"text-align: right;\"> 13.7345 </td></tr>\n",
       "<tr><td>total </td><td style=\"text-align: right;\">0        </td><td style=\"text-align: right;\"> 0       </td><td style=\"text-align: right;\">971.189   </td><td style=\"text-align: right;\">  0      </td></tr>\n",
       "</tbody>\n",
       "</table>"
      ],
      "text/plain": [
       "name       deltaT    epsilon          UA          Q\n",
       "------  ---------  ---------  ----------  ---------\n",
       "gen     0.0121056   0.999512  940.511     103.555\n",
       "rect    7.80529     0.883858    0.154906    4.60028\n",
       "abs     3.1001      0.725623   26.6929    102.785\n",
       "cond    6.28557     0.966585    1.92003    12.4737\n",
       "evap    6.81746     0.983325    1.9098     13.7345\n",
       "totalUA = 971.1890787560759"
      ]
     },
     "metadata": {},
     "output_type": "display_data"
    },
    {
     "name": "stdout",
     "output_type": "stream",
     "text": [
      "Case 7, T_heat_reject = 328.15 K\n",
      "211 30.0 inf 0.0 0.0 \n",
      "\n",
      "212 30.0 inf 0.0 0.0 \n",
      "\n",
      "213 30.0 inf 0.0 0.0 \n",
      "\n",
      "214 30.0 inf 0.0 0.0 \n",
      "\n",
      "215 30.0 inf 0.0 0.0 \n",
      "\n",
      "216 30.0 inf 0.0 0.0 \n",
      "\n",
      "217 30.0 inf 0.0 0.0 \n",
      "\n",
      "218 31.0 inf 0.0 0.0 \n",
      "\n",
      "219 31.0 inf 0.0 0.0 \n",
      "\n",
      "220 31.0 inf 0.0 0.0 \n",
      "\n",
      "221 31.0 inf 0.0 0.0 \n",
      "\n",
      "222 31.0 inf 0.0 0.0 \n",
      "\n",
      "223 31.0 inf 0.0 0.0 \n",
      "\n",
      "224 31.0 inf 0.0 0.0 \n",
      "\n",
      "225 32.0 inf 0.0 0.0 \n",
      "\n",
      "226 32.0 inf 0.0 0.0 \n",
      "\n",
      "227 32.0 inf 0.0 0.0 \n",
      "\n",
      "228 32.0 inf 0.0 0.0 \n",
      "\n",
      "229 32.0 inf 0.0 0.0 \n",
      "\n",
      "230 32.0 inf 0.0 0.0 \n",
      "\n",
      "231 32.0 inf 0.0 0.0 \n",
      "\n",
      "232 33.0 inf 0.0 0.0 \n",
      "\n",
      "233 33.0 inf 0.0 0.0 \n",
      "\n",
      "234 33.0 inf 0.0 0.0 \n",
      "\n",
      "235 33.0 inf 0.0 0.0 \n",
      "\n",
      "236 33.0 inf 0.0 0.0 \n",
      "\n",
      "237 33.0 inf 0.0 0.0 \n",
      "\n",
      "238 33.0 inf 0.0 0.0 \n",
      "\n",
      "239 34.0 inf 0.0 0.0 \n",
      "\n",
      "240 34.0 inf 0.0 0.0 \n",
      "\n",
      "241 34.0 inf 0.0 0.0 \n",
      "\n",
      "242 34.0 inf 0.0 0.0 \n",
      "\n",
      "243 34.0 inf 0.0 0.0 \n",
      "\n",
      "244 34.0 inf 0.0 0.0 \n",
      "\n",
      "245 34.0 inf 0.0 0.0 \n",
      "\n",
      "246 35.0 inf 0.0 0.0 \n",
      "\n",
      "247 35.0 inf 0.0 0.0 \n",
      "\n",
      "248 35.0 inf 0.0 0.0 \n",
      "\n",
      "249 35.0 inf 0.0 0.0 \n",
      "\n",
      "250 35.0 inf 0.0 0.0 \n",
      "\n",
      "251 35.0 inf 0.0 0.0 \n",
      "\n",
      "252 35.0 inf 0.0 0.0 \n",
      "\n",
      "253 36.0 inf 0.0 0.0 \n",
      "\n",
      "254 36.0 inf 0.0 0.0 \n",
      "\n",
      "255 36.0 inf 0.0 0.0 \n",
      "\n",
      "256 36.0 inf 0.0 0.0 \n",
      "\n",
      "257 36.0 inf 0.0 0.0 \n",
      "\n",
      "258 36.0 inf 0.0 0.0 \n",
      "\n",
      "259 36.0 inf 0.0 0.0 \n",
      "\n",
      "260 37.0 inf 0.0 0.0 \n",
      "\n"
     ]
    },
    {
     "data": {
      "text/plain": [
       "'First pass and we have this ... '"
      ]
     },
     "metadata": {},
     "output_type": "display_data"
    },
    {
     "data": {
      "text/plain": [
       "ValueError('In rectifier, net mass or ammonia flow is negative.')"
      ]
     },
     "metadata": {},
     "output_type": "display_data"
    },
    {
     "name": "stdout",
     "output_type": "stream",
     "text": [
      "281 40.0 inf 0.0 0.0 \n",
      "\n",
      "282 40.0 inf 0.0 0.0 \n",
      "\n",
      "283 40.0 inf 0.0 0.0 \n",
      "\n",
      "284 40.0 inf 0.0 0.0 \n",
      "\n",
      "285 40.0 inf 0.0 0.0 \n",
      "\n",
      "286 40.0 inf 0.0 0.0 \n",
      "\n",
      "287 40.0 inf 0.0 0.0 \n",
      "\n",
      "288 41.0 inf 0.0 0.0 \n",
      "\n",
      "289 41.0 inf 0.0 0.0 \n",
      "\n",
      "290 41.0 inf 0.0 0.0 \n",
      "\n",
      "291 41.0 inf 0.0 0.0 \n",
      "\n",
      "292 41.0 inf 0.0 0.0 \n",
      "\n",
      "293 41.0 inf 0.0 0.0 \n",
      "\n",
      "294 41.0 inf 0.0 0.0 \n",
      "\n",
      "295 42.0 inf 0.0 0.0 \n",
      "\n",
      "296 42.0 inf 0.0 0.0 \n",
      "\n",
      "297 42.0 inf 0.0 0.0 \n",
      "\n",
      "298 42.0 inf 0.0 0.0 \n",
      "\n",
      "299 42.0 inf 0.0 0.0 \n",
      "\n",
      "300 42.0 inf 0.0 0.0 \n",
      "\n",
      "301 42.0 inf 0.0 0.0 \n",
      "\n",
      "302 43.0 inf 0.0 0.0 \n",
      "\n",
      "303 43.0 inf 0.0 0.0 \n",
      "\n",
      "304 43.0 inf 0.0 0.0 \n",
      "\n",
      "305 43.0 inf 0.0 0.0 \n",
      "\n",
      "306 43.0 inf 0.0 0.0 \n",
      "\n",
      "307 43.0 inf 0.0 0.0 \n",
      "\n",
      "308 43.0 inf 0.0 0.0 \n",
      "\n",
      "309 44.0 inf 0.0 0.0 \n",
      "\n",
      "310 44.0 inf 0.0 0.0 \n",
      "\n",
      "311 44.0 inf 0.0 0.0 \n",
      "\n",
      "312 44.0 inf 0.0 0.0 \n",
      "\n",
      "313 44.0 inf 0.0 0.0 \n",
      "\n",
      "314 44.0 inf 0.0 0.0 \n",
      "\n",
      "315 44.0 inf 0.0 0.0 \n",
      "\n",
      "316 45.0 inf 0.0 0.0 \n",
      "\n",
      "317 45.0 inf 0.0 0.0 \n",
      "\n",
      "318 45.0 inf 0.0 0.0 \n",
      "\n",
      "319 45.0 inf 0.0 0.0 \n",
      "\n",
      "320 45.0 inf 0.0 0.0 \n",
      "\n",
      "321 45.0 inf 0.0 0.0 \n",
      "\n",
      "322 45.0 inf 0.0 0.0 \n",
      "\n",
      "323 46.0 inf 0.0 0.0 \n",
      "\n",
      "324 46.0 inf 0.0 0.0 \n",
      "\n",
      "325 46.0 inf 0.0 0.0 \n",
      "\n",
      "326 46.0 inf 0.0 0.0 \n",
      "\n",
      "327 46.0 inf 0.0 0.0 \n",
      "\n",
      "328 46.0 inf 0.0 0.0 \n",
      "\n",
      "329 46.0 inf 0.0 0.0 \n",
      "\n",
      "330 47.0 inf 0.0 0.0 \n",
      "\n"
     ]
    },
    {
     "data": {
      "text/plain": [
       "'Second pass and we have this ... '"
      ]
     },
     "metadata": {},
     "output_type": "display_data"
    },
    {
     "data": {
      "text/plain": [
       "ValueError('In rectifier, net mass or ammonia flow is negative.')"
      ]
     },
     "metadata": {},
     "output_type": "display_data"
    },
    {
     "name": "stdout",
     "output_type": "stream",
     "text": [
      "351 50.0 inf 0.0 0.0 \n",
      "\n",
      "352 50.0 inf 0.0 0.0 \n",
      "\n",
      "353 50.0 inf 0.0 0.0 \n",
      "\n",
      "354 50.0 inf 0.0 0.0 \n",
      "\n",
      "355 50.0 inf 0.0 0.0 \n",
      "\n",
      "356 50.0 inf 0.0 0.0 \n",
      "\n",
      "357 50.0 inf 0.0 0.0 \n",
      "\n",
      "358 51.0 inf 0.0 0.0 \n",
      "\n",
      "359 51.0 inf 0.0 0.0 \n",
      "\n",
      "360 51.0 inf 0.0 0.0 \n",
      "\n",
      "361 51.0 inf 0.0 0.0 \n",
      "\n",
      "362 51.0 inf 0.0 0.0 \n",
      "\n",
      "363 51.0 inf 0.0 0.0 \n",
      "\n",
      "364 51.0 inf 0.0 0.0 \n",
      "\n",
      "365 52.0 inf 0.0 0.0 \n",
      "\n",
      "366 52.0 inf 0.0 0.0 \n",
      "\n",
      "367 52.0 inf 0.0 0.0 \n",
      "\n",
      "368 52.0 inf 0.0 0.0 \n",
      "\n",
      "369 52.0 inf 0.0 0.0 \n",
      "\n",
      "370 52.0 inf 0.0 0.0 \n",
      "\n",
      "371 52.0 inf 0.0 0.0 \n",
      "\n",
      "372 53.0 inf 0.0 0.0 \n",
      "\n",
      "373 53.0 inf 0.0 0.0 \n",
      "\n",
      "374 53.0 inf 0.0 0.0 \n",
      "\n",
      "375 53.0 inf 0.0 0.0 \n",
      "\n",
      "376 53.0 inf 0.0 0.0 \n",
      "\n",
      "377 53.0 inf 0.0 0.0 \n",
      "\n",
      "378 53.0 inf 0.0 0.0 \n",
      "\n",
      "379 54.0 inf 0.0 0.0 \n",
      "\n",
      "380 54.0 inf 0.0 0.0 \n",
      "\n",
      "381 54.0 inf 0.0 0.0 \n",
      "\n",
      "382 54.0 inf 0.0 0.0 \n",
      "\n",
      "383 54.0 inf 0.0 0.0 \n",
      "\n",
      "384 54.0 inf 0.0 0.0 \n",
      "\n",
      "385 54.0 inf 0.0 0.0 \n",
      "\n",
      "386 55.0 inf 0.0 0.0 \n",
      "\n",
      "387 55.0 inf 0.0 0.0 \n",
      "\n",
      "388 55.0 inf 0.0 0.0 \n",
      "\n",
      "389 55.0 inf 0.0 0.0 \n",
      "\n"
     ]
    },
    {
     "data": {
      "text/plain": [
       "'Third pass and we have this ... '"
      ]
     },
     "metadata": {},
     "output_type": "display_data"
    },
    {
     "data": {
      "text/plain": [
       "ValueError('In rectifier, net mass or ammonia flow is negative.')"
      ]
     },
     "metadata": {},
     "output_type": "display_data"
    },
    {
     "name": "stdout",
     "output_type": "stream",
     "text": [
      "Case 8, T_heat_reject = 333.15 K\n",
      "211 30.0 inf 0.0 0.0 \n",
      "\n",
      "212 30.0 inf 0.0 0.0 \n",
      "\n",
      "213 30.0 inf 0.0 0.0 \n",
      "\n",
      "214 30.0 inf 0.0 0.0 \n",
      "\n",
      "215 30.0 inf 0.0 0.0 \n",
      "\n",
      "216 30.0 inf 0.0 0.0 \n",
      "\n",
      "217 30.0 inf 0.0 0.0 \n",
      "\n",
      "218 31.0 inf 0.0 0.0 \n",
      "\n",
      "219 31.0 inf 0.0 0.0 \n",
      "\n",
      "220 31.0 inf 0.0 0.0 \n",
      "\n",
      "221 31.0 inf 0.0 0.0 \n",
      "\n",
      "222 31.0 inf 0.0 0.0 \n",
      "\n",
      "223 31.0 inf 0.0 0.0 \n",
      "\n",
      "224 31.0 inf 0.0 0.0 \n",
      "\n",
      "225 32.0 inf 0.0 0.0 \n",
      "\n",
      "226 32.0 inf 0.0 0.0 \n",
      "\n",
      "227 32.0 inf 0.0 0.0 \n",
      "\n",
      "228 32.0 inf 0.0 0.0 \n",
      "\n",
      "229 32.0 inf 0.0 0.0 \n",
      "\n",
      "230 32.0 inf 0.0 0.0 \n",
      "\n",
      "231 32.0 inf 0.0 0.0 \n",
      "\n",
      "232 33.0 inf 0.0 0.0 \n",
      "\n",
      "233 33.0 inf 0.0 0.0 \n",
      "\n",
      "234 33.0 inf 0.0 0.0 \n",
      "\n",
      "235 33.0 inf 0.0 0.0 \n",
      "\n",
      "236 33.0 inf 0.0 0.0 \n",
      "\n",
      "237 33.0 inf 0.0 0.0 \n",
      "\n",
      "238 33.0 inf 0.0 0.0 \n",
      "\n",
      "239 34.0 inf 0.0 0.0 \n",
      "\n",
      "240 34.0 inf 0.0 0.0 \n",
      "\n",
      "241 34.0 inf 0.0 0.0 \n",
      "\n",
      "242 34.0 inf 0.0 0.0 \n",
      "\n",
      "243 34.0 inf 0.0 0.0 \n",
      "\n",
      "244 34.0 inf 0.0 0.0 \n",
      "\n",
      "245 34.0 inf 0.0 0.0 \n",
      "\n",
      "246 35.0 inf 0.0 0.0 \n",
      "\n",
      "247 35.0 inf 0.0 0.0 \n",
      "\n",
      "248 35.0 inf 0.0 0.0 \n",
      "\n",
      "249 35.0 inf 0.0 0.0 \n",
      "\n",
      "250 35.0 inf 0.0 0.0 \n",
      "\n",
      "251 35.0 inf 0.0 0.0 \n",
      "\n",
      "252 35.0 inf 0.0 0.0 \n",
      "\n",
      "253 36.0 inf 0.0 0.0 \n",
      "\n",
      "254 36.0 inf 0.0 0.0 \n",
      "\n",
      "255 36.0 inf 0.0 0.0 \n",
      "\n",
      "256 36.0 inf 0.0 0.0 \n",
      "\n",
      "257 36.0 inf 0.0 0.0 \n",
      "\n",
      "258 36.0 inf 0.0 0.0 \n",
      "\n",
      "259 36.0 inf 0.0 0.0 \n",
      "\n",
      "260 37.0 inf 0.0 0.0 \n",
      "\n"
     ]
    },
    {
     "data": {
      "text/plain": [
       "'First pass and we have this ... '"
      ]
     },
     "metadata": {},
     "output_type": "display_data"
    },
    {
     "data": {
      "text/plain": [
       "ValueError('In rectifier, net mass or ammonia flow is negative.')"
      ]
     },
     "metadata": {},
     "output_type": "display_data"
    },
    {
     "name": "stdout",
     "output_type": "stream",
     "text": [
      "281 40.0 inf 0.0 0.0 \n",
      "\n",
      "282 40.0 inf 0.0 0.0 \n",
      "\n",
      "283 40.0 inf 0.0 0.0 \n",
      "\n",
      "284 40.0 inf 0.0 0.0 \n",
      "\n",
      "285 40.0 inf 0.0 0.0 \n",
      "\n",
      "286 40.0 inf 0.0 0.0 \n",
      "\n",
      "287 40.0 inf 0.0 0.0 \n",
      "\n",
      "288 41.0 inf 0.0 0.0 \n",
      "\n",
      "289 41.0 inf 0.0 0.0 \n",
      "\n",
      "290 41.0 inf 0.0 0.0 \n",
      "\n",
      "291 41.0 inf 0.0 0.0 \n",
      "\n",
      "292 41.0 inf 0.0 0.0 \n",
      "\n",
      "293 41.0 inf 0.0 0.0 \n",
      "\n",
      "294 41.0 inf 0.0 0.0 \n",
      "\n",
      "295 42.0 inf 0.0 0.0 \n",
      "\n",
      "296 42.0 inf 0.0 0.0 \n",
      "\n",
      "297 42.0 inf 0.0 0.0 \n",
      "\n",
      "298 42.0 inf 0.0 0.0 \n",
      "\n",
      "299 42.0 inf 0.0 0.0 \n",
      "\n",
      "300 42.0 inf 0.0 0.0 \n",
      "\n",
      "301 42.0 inf 0.0 0.0 \n",
      "\n",
      "302 43.0 inf 0.0 0.0 \n",
      "\n",
      "303 43.0 inf 0.0 0.0 \n",
      "\n",
      "304 43.0 inf 0.0 0.0 \n",
      "\n",
      "305 43.0 inf 0.0 0.0 \n",
      "\n",
      "306 43.0 inf 0.0 0.0 \n",
      "\n",
      "307 43.0 inf 0.0 0.0 \n",
      "\n",
      "308 43.0 inf 0.0 0.0 \n",
      "\n",
      "309 44.0 inf 0.0 0.0 \n",
      "\n",
      "310 44.0 inf 0.0 0.0 \n",
      "\n",
      "311 44.0 inf 0.0 0.0 \n",
      "\n",
      "312 44.0 inf 0.0 0.0 \n",
      "\n",
      "313 44.0 inf 0.0 0.0 \n",
      "\n",
      "314 44.0 inf 0.0 0.0 \n",
      "\n",
      "315 44.0 inf 0.0 0.0 \n",
      "\n",
      "316 45.0 inf 0.0 0.0 \n",
      "\n",
      "317 45.0 inf 0.0 0.0 \n",
      "\n",
      "318 45.0 inf 0.0 0.0 \n",
      "\n",
      "319 45.0 inf 0.0 0.0 \n",
      "\n",
      "320 45.0 inf 0.0 0.0 \n",
      "\n",
      "321 45.0 inf 0.0 0.0 \n",
      "\n",
      "322 45.0 inf 0.0 0.0 \n",
      "\n",
      "323 46.0 inf 0.0 0.0 \n",
      "\n",
      "324 46.0 inf 0.0 0.0 \n",
      "\n",
      "325 46.0 inf 0.0 0.0 \n",
      "\n",
      "326 46.0 inf 0.0 0.0 \n",
      "\n",
      "327 46.0 inf 0.0 0.0 \n",
      "\n",
      "328 46.0 inf 0.0 0.0 \n",
      "\n",
      "329 46.0 inf 0.0 0.0 \n",
      "\n",
      "330 47.0 inf 0.0 0.0 \n",
      "\n"
     ]
    },
    {
     "data": {
      "text/plain": [
       "'Second pass and we have this ... '"
      ]
     },
     "metadata": {},
     "output_type": "display_data"
    },
    {
     "data": {
      "text/plain": [
       "ValueError('In rectifier, net mass or ammonia flow is negative.')"
      ]
     },
     "metadata": {},
     "output_type": "display_data"
    },
    {
     "name": "stdout",
     "output_type": "stream",
     "text": [
      "351 50.0 inf 0.0 0.0 \n",
      "\n",
      "352 50.0 inf 0.0 0.0 \n",
      "\n",
      "353 50.0 inf 0.0 0.0 \n",
      "\n",
      "354 50.0 inf 0.0 0.0 \n",
      "\n",
      "355 50.0 inf 0.0 0.0 \n",
      "\n",
      "356 50.0 inf 0.0 0.0 \n",
      "\n",
      "357 50.0 inf 0.0 0.0 \n",
      "\n",
      "358 51.0 inf 0.0 0.0 \n",
      "\n",
      "359 51.0 inf 0.0 0.0 \n",
      "\n",
      "360 51.0 inf 0.0 0.0 \n",
      "\n",
      "361 51.0 inf 0.0 0.0 \n",
      "\n",
      "362 51.0 inf 0.0 0.0 \n",
      "\n",
      "363 51.0 inf 0.0 0.0 \n",
      "\n",
      "364 51.0 inf 0.0 0.0 \n",
      "\n",
      "365 52.0 inf 0.0 0.0 \n",
      "\n",
      "366 52.0 inf 0.0 0.0 \n",
      "\n",
      "367 52.0 inf 0.0 0.0 \n",
      "\n",
      "368 52.0 inf 0.0 0.0 \n",
      "\n",
      "369 52.0 inf 0.0 0.0 \n",
      "\n",
      "370 52.0 inf 0.0 0.0 \n",
      "\n",
      "371 52.0 inf 0.0 0.0 \n",
      "\n",
      "372 53.0 inf 0.0 0.0 \n",
      "\n",
      "373 53.0 inf 0.0 0.0 \n",
      "\n",
      "374 53.0 inf 0.0 0.0 \n",
      "\n",
      "375 53.0 inf 0.0 0.0 \n",
      "\n",
      "376 53.0 inf 0.0 0.0 \n",
      "\n",
      "377 53.0 inf 0.0 0.0 \n",
      "\n",
      "378 53.0 inf 0.0 0.0 \n",
      "\n",
      "379 54.0 inf 0.0 0.0 \n",
      "\n",
      "380 54.0 inf 0.0 0.0 \n",
      "\n",
      "381 54.0 inf 0.0 0.0 \n",
      "\n",
      "382 54.0 inf 0.0 0.0 \n",
      "\n",
      "383 54.0 inf 0.0 0.0 \n",
      "\n",
      "384 54.0 inf 0.0 0.0 \n",
      "\n",
      "385 54.0 inf 0.0 0.0 \n",
      "\n",
      "386 55.0 inf 0.0 0.0 \n",
      "\n",
      "387 55.0 inf 0.0 0.0 \n",
      "\n",
      "388 55.0 inf 0.0 0.0 \n",
      "\n",
      "389 55.0 inf 0.0 0.0 \n",
      "\n"
     ]
    },
    {
     "data": {
      "text/plain": [
       "'Third pass and we have this ... '"
      ]
     },
     "metadata": {},
     "output_type": "display_data"
    },
    {
     "data": {
      "text/plain": [
       "ValueError('In rectifier, net mass or ammonia flow is negative.')"
      ]
     },
     "metadata": {},
     "output_type": "display_data"
    }
   ],
   "source": [
    "for i,T_heat_reject in enumerate(t_heat_reject_range):\n",
    "    if opts[i] is None:\n",
    "        print(\"Case {}, T_heat_reject = {} K\".format(i, T_heat_reject))\n",
    "        rT = T_heat_reject\n",
    "        xB = [400, 1, T_heat_reject, 3, T_heat_reject, 5, 285, 4, T_heat_reject, 0.15]\n",
    "        bdry = system_aqua1.makeBoundary(xB)\n",
    "        P = Problem_2_5_A(bdry)\n",
    "        x = numpy.array([0.05, 278.45, rT+7, rT+8, rT+5, 395.15])\n",
    "        \n",
    "        P.n_calls = 7*30\n",
    "        opt = scipy.optimize.minimize(P.objective, x, method=\"COBYLA\",\n",
    "                                  constraints=P.constraints, callback=P.callback,\n",
    "                                  options={'disp':True,'maxiter':50,'rhobeg':0.1})\n",
    "        x = opt.x\n",
    "        display(\"First pass and we have this ... \")\n",
    "        display_result(x)\n",
    "\n",
    "        P.n_calls = 7*40\n",
    "        opt = scipy.optimize.minimize(P.objective, x, method=\"COBYLA\",\n",
    "                                  constraints=P.constraints, callback=P.callback,\n",
    "                                  options={'disp':True,'maxiter':50,'rhobeg':0.1})\n",
    "        x = opt.x\n",
    "        display(\"Second pass and we have this ... \")\n",
    "        display_result(x)\n",
    "\n",
    "        P.n_calls = 7*50\n",
    "        opt = scipy.optimize.minimize(P.objective, x, method=\"COBYLA\",\n",
    "                                  constraints=P.constraints, callback=P.callback,\n",
    "                                  options={'disp':True,'maxiter':50,'rhobeg':0.01})\n",
    "        display(\"Third pass and we have this ... \")\n",
    "        display_result(x)\n",
    "\n",
    "        opts[i] = opt"
   ]
  },
  {
   "cell_type": "code",
   "execution_count": 22,
   "metadata": {},
   "outputs": [
    {
     "data": {
      "text/plain": [
       "array([  1.50000000e-01,   2.78450000e+02,   3.35150000e+02,\n",
       "         3.36150000e+02,   3.33150000e+02,   3.95150000e+02])"
      ]
     },
     "execution_count": 22,
     "metadata": {},
     "output_type": "execute_result"
    }
   ],
   "source": [
    "x = opt.x\n",
    "x"
   ]
  },
  {
   "cell_type": "code",
   "execution_count": 23,
   "metadata": {},
   "outputs": [
    {
     "data": {
      "text/html": [
       "<h3>State points</h3>\n",
       "        <table>\n",
       "<thead>\n",
       "<tr><th>                         </th><th style=\"text-align: right;\">      T</th><th style=\"text-align: right;\">       P</th><th style=\"text-align: right;\">       x</th><th style=\"text-align: right;\">        h</th><th style=\"text-align: right;\">       s</th><th style=\"text-align: right;\">        u</th><th style=\"text-align: right;\">         v</th><th style=\"text-align: right;\">        Qu</th></tr>\n",
       "</thead>\n",
       "<tbody>\n",
       "<tr><td>rich_abs_outlet          </td><td style=\"text-align: right;\">333.15 </td><td style=\"text-align: right;\"> 4.95842</td><td style=\"text-align: right;\">0.381724</td><td style=\"text-align: right;\">  41.9391</td><td style=\"text-align: right;\">0.739733</td><td style=\"text-align: right;\">  41.3497</td><td style=\"text-align: right;\">0.00118884</td><td style=\"text-align: right;\"> 0        </td></tr>\n",
       "<tr><td>rich_pump_outlet         </td><td style=\"text-align: right;\">333.535</td><td style=\"text-align: right;\">27.5385 </td><td style=\"text-align: right;\">0.381724</td><td style=\"text-align: right;\">  45.2931</td><td style=\"text-align: right;\">0.741745</td><td style=\"text-align: right;\">  42.0216</td><td style=\"text-align: right;\">0.00118796</td><td style=\"text-align: right;\">-0.001    </td></tr>\n",
       "<tr><td>rich_shx_outlet          </td><td style=\"text-align: right;\">377.292</td><td style=\"text-align: right;\">27.5385 </td><td style=\"text-align: right;\">0.381724</td><td style=\"text-align: right;\"> 243.383 </td><td style=\"text-align: right;\">1.29947 </td><td style=\"text-align: right;\"> 239.896 </td><td style=\"text-align: right;\">0.00126596</td><td style=\"text-align: right;\">-0.001    </td></tr>\n",
       "<tr><td>rich_gen_sat_liquid      </td><td style=\"text-align: right;\">407.257</td><td style=\"text-align: right;\">27.5385 </td><td style=\"text-align: right;\">0.381724</td><td style=\"text-align: right;\"> 387.594 </td><td style=\"text-align: right;\">1.66713 </td><td style=\"text-align: right;\"> 383.903 </td><td style=\"text-align: right;\">0.0013401 </td><td style=\"text-align: right;\"> 0        </td></tr>\n",
       "<tr><td>weak_gen_outlet          </td><td style=\"text-align: right;\">395.15 </td><td style=\"text-align: right;\">27.5385 </td><td style=\"text-align: right;\">0.436395</td><td style=\"text-align: right;\"> 324.129 </td><td style=\"text-align: right;\">1.51908 </td><td style=\"text-align: right;\"> 320.404 </td><td style=\"text-align: right;\">0.00135248</td><td style=\"text-align: right;\"> 0        </td></tr>\n",
       "<tr><td>weak_shx_outlet          </td><td style=\"text-align: right;\">357.331</td><td style=\"text-align: right;\">27.5385 </td><td style=\"text-align: right;\">0.436395</td><td style=\"text-align: right;\"> 143.559 </td><td style=\"text-align: right;\">1.03904 </td><td style=\"text-align: right;\"> 140.086 </td><td style=\"text-align: right;\">0.00126083</td><td style=\"text-align: right;\">-0.001    </td></tr>\n",
       "<tr><td>weak_exp_outlet          </td><td style=\"text-align: right;\">331.642</td><td style=\"text-align: right;\"> 4.95842</td><td style=\"text-align: right;\">0.436395</td><td style=\"text-align: right;\"> 143.559 </td><td style=\"text-align: right;\">1.06253 </td><td style=\"text-align: right;\"> 130.716 </td><td style=\"text-align: right;\">0.0259001 </td><td style=\"text-align: right;\"> 0.0790246</td></tr>\n",
       "<tr><td>gen_vapor_outlet         </td><td style=\"text-align: right;\">407.257</td><td style=\"text-align: right;\">27.5385 </td><td style=\"text-align: right;\">0.922951</td><td style=\"text-align: right;\">1601     </td><td style=\"text-align: right;\">4.76961 </td><td style=\"text-align: right;\">1424.6   </td><td style=\"text-align: right;\">0.0640569 </td><td style=\"text-align: right;\"> 1        </td></tr>\n",
       "<tr><td>gen_reflux_inlet         </td><td style=\"text-align: right;\">407.257</td><td style=\"text-align: right;\">27.5385 </td><td style=\"text-align: right;\">0.381723</td><td style=\"text-align: right;\"> 387.589 </td><td style=\"text-align: right;\">1.66712 </td><td style=\"text-align: right;\"> 383.899 </td><td style=\"text-align: right;\">0.0013401 </td><td style=\"text-align: right;\"> 0        </td></tr>\n",
       "<tr><td>refrig_rect_outlet       </td><td style=\"text-align: right;\">336.15 </td><td style=\"text-align: right;\">27.5385 </td><td style=\"text-align: right;\">0.999869</td><td style=\"text-align: right;\">1288.65  </td><td style=\"text-align: right;\">3.94763 </td><td style=\"text-align: right;\">1160.46  </td><td style=\"text-align: right;\">0.0465499 </td><td style=\"text-align: right;\"> 1.001    </td></tr>\n",
       "<tr><td>refrig_cond_outlet       </td><td style=\"text-align: right;\">335.15 </td><td style=\"text-align: right;\">27.5385 </td><td style=\"text-align: right;\">0.999869</td><td style=\"text-align: right;\"> 303.414 </td><td style=\"text-align: right;\">0.997924</td><td style=\"text-align: right;\"> 298.312 </td><td style=\"text-align: right;\">0.0018525 </td><td style=\"text-align: right;\"> 0        </td></tr>\n",
       "<tr><td>refrig_cehx_liquid_outlet</td><td style=\"text-align: right;\">308.68 </td><td style=\"text-align: right;\">27.5385 </td><td style=\"text-align: right;\">0.999869</td><td style=\"text-align: right;\"> 169.033 </td><td style=\"text-align: right;\">0.580396</td><td style=\"text-align: right;\"> 164.325 </td><td style=\"text-align: right;\">0.00170947</td><td style=\"text-align: right;\">-0.001    </td></tr>\n",
       "<tr><td>refrig_exp_outlet        </td><td style=\"text-align: right;\">277.061</td><td style=\"text-align: right;\"> 4.95842</td><td style=\"text-align: right;\">0.999869</td><td style=\"text-align: right;\"> 169.033 </td><td style=\"text-align: right;\">0.619825</td><td style=\"text-align: right;\"> 153.279 </td><td style=\"text-align: right;\">0.0317727 </td><td style=\"text-align: right;\"> 0.120436 </td></tr>\n",
       "<tr><td>refrig_evap_outlet       </td><td style=\"text-align: right;\">278.45 </td><td style=\"text-align: right;\"> 4.95842</td><td style=\"text-align: right;\">0.999869</td><td style=\"text-align: right;\">1273.57  </td><td style=\"text-align: right;\">4.5892  </td><td style=\"text-align: right;\">1147.85  </td><td style=\"text-align: right;\">0.25414   </td><td style=\"text-align: right;\"> 0.998    </td></tr>\n",
       "<tr><td>refrig_cehx_sat_vapor    </td><td style=\"text-align: right;\">283.949</td><td style=\"text-align: right;\"> 4.95842</td><td style=\"text-align: right;\">0.999869</td><td style=\"text-align: right;\">1290.09  </td><td style=\"text-align: right;\">4.64658 </td><td style=\"text-align: right;\">1160.92  </td><td style=\"text-align: right;\">0.260509  </td><td style=\"text-align: right;\"> 1        </td></tr>\n",
       "<tr><td>refrig_cehx_vapor_outlet </td><td style=\"text-align: right;\">332.159</td><td style=\"text-align: right;\"> 4.95842</td><td style=\"text-align: right;\">0.999869</td><td style=\"text-align: right;\">1407.96  </td><td style=\"text-align: right;\">5.02944 </td><td style=\"text-align: right;\">1251.59  </td><td style=\"text-align: right;\">0.315351  </td><td style=\"text-align: right;\"> 1.001    </td></tr>\n",
       "<tr><td>rectifier_liquid         </td><td style=\"text-align: right;\">336.15 </td><td style=\"text-align: right;\">27.5385 </td><td style=\"text-align: right;\">0.978692</td><td style=\"text-align: right;\"> 292.35  </td><td style=\"text-align: right;\">1.01921 </td><td style=\"text-align: right;\"> 287.336 </td><td style=\"text-align: right;\">0.0018207 </td><td style=\"text-align: right;\"> 0        </td></tr>\n",
       "<tr><td>gen_vapor_formation      </td><td style=\"text-align: right;\">395.15 </td><td style=\"text-align: right;\">27.5385 </td><td style=\"text-align: right;\">0.953004</td><td style=\"text-align: right;\">1535.59  </td><td style=\"text-align: right;\">4.61266 </td><td style=\"text-align: right;\">1365.58  </td><td style=\"text-align: right;\">0.0617364 </td><td style=\"text-align: right;\"> 1        </td></tr>\n",
       "<tr><td>abs_vapor_final          </td><td style=\"text-align: right;\">331.642</td><td style=\"text-align: right;\"> 4.95842</td><td style=\"text-align: right;\">0.981211</td><td style=\"text-align: right;\">1427.26  </td><td style=\"text-align: right;\">5.09028 </td><td style=\"text-align: right;\">1271.64  </td><td style=\"text-align: right;\">0.313868  </td><td style=\"text-align: right;\"> 1        </td></tr>\n",
       "</tbody>\n",
       "</table>\n",
       "        <br/>\n",
       "        <h3>Performance variables</h3>\n",
       "        <table>\n",
       "<thead>\n",
       "<tr><th>name                   </th><th>unit  </th><th style=\"text-align: right;\">        value</th></tr>\n",
       "</thead>\n",
       "<tbody>\n",
       "<tr><td>Q_abs                  </td><td>kW    </td><td style=\"text-align: right;\">  3.15863    </td></tr>\n",
       "<tr><td>Q_gen                  </td><td>kW    </td><td style=\"text-align: right;\"> -8.981      </td></tr>\n",
       "<tr><td>Q_cond                 </td><td>kW    </td><td style=\"text-align: right;\"> 14.3387     </td></tr>\n",
       "<tr><td>Q_evap                 </td><td>kW    </td><td style=\"text-align: right;\">-16.0751     </td></tr>\n",
       "<tr><td>Q_reflux               </td><td>kW    </td><td style=\"text-align: right;\">  7.05561    </td></tr>\n",
       "<tr><td>Q_shx                  </td><td>kW    </td><td style=\"text-align: right;\"> 29.7134     </td></tr>\n",
       "<tr><td>Q_cehx                 </td><td>kW    </td><td style=\"text-align: right;\"> -1.95573    </td></tr>\n",
       "<tr><td>W_pump                 </td><td>kW    </td><td style=\"text-align: right;\">  0.503095   </td></tr>\n",
       "<tr><td>COP                    </td><td>kW/kW </td><td style=\"text-align: right;\">  1.7899     </td></tr>\n",
       "<tr><td>ZeroCheck              </td><td>kW    </td><td style=\"text-align: right;\"> -1.0749e-06 </td></tr>\n",
       "<tr><td>ZeroCheckSHX           </td><td>kW    </td><td style=\"text-align: right;\">  1.05509e-06</td></tr>\n",
       "<tr><td>ZeroCheckCEHX          </td><td>kW    </td><td style=\"text-align: right;\">  1.98098e-08</td></tr>\n",
       "<tr><td>Q_gen_rect_combo       </td><td>kW    </td><td style=\"text-align: right;\"> -1.92539    </td></tr>\n",
       "<tr><td>Q_refrig_side          </td><td>kW    </td><td style=\"text-align: right;\">  1.73634    </td></tr>\n",
       "<tr><td>ZeroCheckRect          </td><td>kg/s  </td><td style=\"text-align: right;\">  1.73472e-18</td></tr>\n",
       "<tr><td>m_rich                 </td><td>kg/s  </td><td style=\"text-align: right;\">  0.15       </td></tr>\n",
       "<tr><td>m_weak                 </td><td>kg/s  </td><td style=\"text-align: right;\">  0.164554   </td></tr>\n",
       "<tr><td>m_gen_vapor            </td><td>kg/s  </td><td style=\"text-align: right;\"> -0.016622   </td></tr>\n",
       "<tr><td>m_gen_reflux           </td><td>kg/s  </td><td style=\"text-align: right;\"> -0.00206833 </td></tr>\n",
       "<tr><td>m_refrig               </td><td>kg/s  </td><td style=\"text-align: right;\"> -0.0145536  </td></tr>\n",
       "<tr><td>check_rectifier_delta_T</td><td>K     </td><td style=\"text-align: right;\"> 71.1069     </td></tr>\n",
       "<tr><td>is_degenerate          </td><td>bool  </td><td style=\"text-align: right;\">  0          </td></tr>\n",
       "</tbody>\n",
       "</table>\n",
       "        "
      ],
      "text/plain": [
       "                                 T         P         x          h         s          u           v          Qu\n",
       "-------------------------  -------  --------  --------  ---------  --------  ---------  ----------  ----------\n",
       "rich_abs_outlet            333.15    4.95842  0.381724    41.9391  0.739733    41.3497  0.00118884   0\n",
       "rich_pump_outlet           333.535  27.5385   0.381724    45.2931  0.741745    42.0216  0.00118796  -0.001\n",
       "rich_shx_outlet            377.292  27.5385   0.381724   243.383   1.29947    239.896   0.00126596  -0.001\n",
       "rich_gen_sat_liquid        407.257  27.5385   0.381724   387.594   1.66713    383.903   0.0013401    0\n",
       "weak_gen_outlet            395.15   27.5385   0.436395   324.129   1.51908    320.404   0.00135248   0\n",
       "weak_shx_outlet            357.331  27.5385   0.436395   143.559   1.03904    140.086   0.00126083  -0.001\n",
       "weak_exp_outlet            331.642   4.95842  0.436395   143.559   1.06253    130.716   0.0259001    0.0790246\n",
       "gen_vapor_outlet           407.257  27.5385   0.922951  1601       4.76961   1424.6     0.0640569    1\n",
       "gen_reflux_inlet           407.257  27.5385   0.381723   387.589   1.66712    383.899   0.0013401    0\n",
       "refrig_rect_outlet         336.15   27.5385   0.999869  1288.65    3.94763   1160.46    0.0465499    1.001\n",
       "refrig_cond_outlet         335.15   27.5385   0.999869   303.414   0.997924   298.312   0.0018525    0\n",
       "refrig_cehx_liquid_outlet  308.68   27.5385   0.999869   169.033   0.580396   164.325   0.00170947  -0.001\n",
       "refrig_exp_outlet          277.061   4.95842  0.999869   169.033   0.619825   153.279   0.0317727    0.120436\n",
       "refrig_evap_outlet         278.45    4.95842  0.999869  1273.57    4.5892    1147.85    0.25414      0.998\n",
       "refrig_cehx_sat_vapor      283.949   4.95842  0.999869  1290.09    4.64658   1160.92    0.260509     1\n",
       "refrig_cehx_vapor_outlet   332.159   4.95842  0.999869  1407.96    5.02944   1251.59    0.315351     1.001\n",
       "rectifier_liquid           336.15   27.5385   0.978692   292.35    1.01921    287.336   0.0018207    0\n",
       "gen_vapor_formation        395.15   27.5385   0.953004  1535.59    4.61266   1365.58    0.0617364    1\n",
       "abs_vapor_final            331.642   4.95842  0.981211  1427.26    5.09028   1271.64    0.313868     1\n",
       "name                     unit            value\n",
       "-----------------------  ------  -------------\n",
       "Q_abs                    kW        3.15863\n",
       "Q_gen                    kW       -8.981\n",
       "Q_cond                   kW       14.3387\n",
       "Q_evap                   kW      -16.0751\n",
       "Q_reflux                 kW        7.05561\n",
       "Q_shx                    kW       29.7134\n",
       "Q_cehx                   kW       -1.95573\n",
       "W_pump                   kW        0.503095\n",
       "COP                      kW/kW     1.7899\n",
       "ZeroCheck                kW       -1.0749e-06\n",
       "ZeroCheckSHX             kW        1.05509e-06\n",
       "ZeroCheckCEHX            kW        1.98098e-08\n",
       "Q_gen_rect_combo         kW       -1.92539\n",
       "Q_refrig_side            kW        1.73634\n",
       "ZeroCheckRect            kg/s      1.73472e-18\n",
       "m_rich                   kg/s      0.15\n",
       "m_weak                   kg/s      0.164554\n",
       "m_gen_vapor              kg/s     -0.016622\n",
       "m_gen_reflux             kg/s     -0.00206833\n",
       "m_refrig                 kg/s     -0.0145536\n",
       "check_rectifier_delta_T  K        71.1069\n",
       "is_degenerate            bool      0"
      ]
     },
     "metadata": {},
     "output_type": "display_data"
    }
   ],
   "source": [
    "ch = system_aqua1.makeChiller(x)\n",
    "display(ch)"
   ]
  },
  {
   "cell_type": "code",
   "execution_count": 24,
   "metadata": {},
   "outputs": [
    {
     "data": {
      "text/plain": [
       "[0.050000000000000017,\n",
       " 0.84999999999999998,\n",
       " 55.699999999999989,\n",
       " 0.90000000000000002,\n",
       " 44.699999999999989,\n",
       " 58.0,\n",
       " 61.0]"
      ]
     },
     "execution_count": 24,
     "metadata": {},
     "output_type": "execute_result"
    }
   ],
   "source": [
    "P.constraint(x)"
   ]
  },
  {
   "cell_type": "code",
   "execution_count": 76,
   "metadata": {},
   "outputs": [
    {
     "name": "stdout",
     "output_type": "stream",
     "text": [
      "Note: Absorber inlet contains some vapor.\n"
     ]
    },
    {
     "name": "stderr",
     "output_type": "stream",
     "text": [
      "C:\\Users\\nfette\\Miniconda3\\envs\\openACHP\\lib\\site-packages\\scipy\\interpolate\\_cubic.py:147: RuntimeWarning: divide by zero encountered in true_divide\n",
      "  mk = (y[1:] - y[:-1]) / hk\n",
      "C:\\Users\\nfette\\Miniconda3\\envs\\openACHP\\lib\\site-packages\\scipy\\interpolate\\_cubic.py:165: RuntimeWarning: invalid value encountered in true_divide\n",
      "  whmean = (w1/mk[:-1] + w2/mk[1:]) / (w1 + w2)\n"
     ]
    },
    {
     "data": {
      "text/html": [
       "<table>\n",
       "<thead>\n",
       "<tr><th>name  </th><th style=\"text-align: right;\">     deltaT</th><th style=\"text-align: right;\">  epsilon</th><th style=\"text-align: right;\">       UA</th><th style=\"text-align: right;\">        Q</th></tr>\n",
       "</thead>\n",
       "<tbody>\n",
       "<tr><td>gen   </td><td style=\"text-align: right;\">-0.00239162</td><td style=\"text-align: right;\"> 1.00691 </td><td style=\"text-align: right;\">inf      </td><td style=\"text-align: right;\">103.12   </td></tr>\n",
       "<tr><td>rect  </td><td style=\"text-align: right;\">-2.24192   </td><td style=\"text-align: right;\"> 1.03585 </td><td style=\"text-align: right;\">inf      </td><td style=\"text-align: right;\">  5.19132</td></tr>\n",
       "<tr><td>abs   </td><td style=\"text-align: right;\">-6.69132   </td><td style=\"text-align: right;\"> 5.68111 </td><td style=\"text-align: right;\">inf      </td><td style=\"text-align: right;\">101.81   </td></tr>\n",
       "<tr><td>cond  </td><td style=\"text-align: right;\">-3.88773   </td><td style=\"text-align: right;\">-0.29287 </td><td style=\"text-align: right;\">inf      </td><td style=\"text-align: right;\"> 14.1882 </td></tr>\n",
       "<tr><td>evap  </td><td style=\"text-align: right;\"> 6.66872   </td><td style=\"text-align: right;\"> 0.983403</td><td style=\"text-align: right;\">  2.19965</td><td style=\"text-align: right;\"> 15.6107 </td></tr>\n",
       "<tr><td>total </td><td style=\"text-align: right;\"> 0         </td><td style=\"text-align: right;\"> 0       </td><td style=\"text-align: right;\">inf      </td><td style=\"text-align: right;\">  0      </td></tr>\n",
       "</tbody>\n",
       "</table>"
      ],
      "text/plain": [
       "name         deltaT    epsilon         UA          Q\n",
       "------  -----------  ---------  ---------  ---------\n",
       "gen     -0.00239162   1.00691   inf        103.12\n",
       "rect    -2.24192      1.03585   inf          5.19132\n",
       "abs     -6.69132      5.68111   inf        101.81\n",
       "cond    -3.88773     -0.29287   inf         14.1882\n",
       "evap     6.66872      0.983403    2.19965   15.6107\n",
       "totalUA = inf"
      ]
     },
     "metadata": {},
     "output_type": "display_data"
    },
    {
     "data": {
      "text/html": [
       "<div>\n",
       "<style>\n",
       "    .dataframe thead tr:only-child th {\n",
       "        text-align: right;\n",
       "    }\n",
       "\n",
       "    .dataframe thead th {\n",
       "        text-align: left;\n",
       "    }\n",
       "\n",
       "    .dataframe tbody tr th {\n",
       "        vertical-align: top;\n",
       "    }\n",
       "</style>\n",
       "<table border=\"1\" class=\"dataframe\">\n",
       "  <thead>\n",
       "    <tr style=\"text-align: right;\">\n",
       "      <th></th>\n",
       "      <th>deltaT</th>\n",
       "      <th>epsilon</th>\n",
       "      <th>UA</th>\n",
       "      <th>Q</th>\n",
       "    </tr>\n",
       "  </thead>\n",
       "  <tbody>\n",
       "    <tr>\n",
       "      <th>gen</th>\n",
       "      <td>-0.00239162</td>\n",
       "      <td>1.00691</td>\n",
       "      <td>inf</td>\n",
       "      <td>103.12</td>\n",
       "    </tr>\n",
       "    <tr>\n",
       "      <th>rect</th>\n",
       "      <td>-2.24192</td>\n",
       "      <td>1.03585</td>\n",
       "      <td>inf</td>\n",
       "      <td>5.19132</td>\n",
       "    </tr>\n",
       "    <tr>\n",
       "      <th>abs</th>\n",
       "      <td>-6.69132</td>\n",
       "      <td>5.68111</td>\n",
       "      <td>inf</td>\n",
       "      <td>101.81</td>\n",
       "    </tr>\n",
       "    <tr>\n",
       "      <th>cond</th>\n",
       "      <td>-3.88773</td>\n",
       "      <td>-0.29287</td>\n",
       "      <td>inf</td>\n",
       "      <td>14.1882</td>\n",
       "    </tr>\n",
       "    <tr>\n",
       "      <th>evap</th>\n",
       "      <td>6.66872</td>\n",
       "      <td>0.983403</td>\n",
       "      <td>2.19965</td>\n",
       "      <td>15.6107</td>\n",
       "    </tr>\n",
       "  </tbody>\n",
       "</table>\n",
       "</div>"
      ],
      "text/plain": [
       "          deltaT   epsilon       UA        Q\n",
       "gen  -0.00239162   1.00691      inf   103.12\n",
       "rect    -2.24192   1.03585      inf  5.19132\n",
       "abs     -6.69132   5.68111      inf   101.81\n",
       "cond    -3.88773  -0.29287      inf  14.1882\n",
       "evap     6.66872  0.983403  2.19965  15.6107"
      ]
     },
     "metadata": {},
     "output_type": "display_data"
    },
    {
     "data": {
      "text/plain": [
       "inf"
      ]
     },
     "execution_count": 76,
     "metadata": {},
     "output_type": "execute_result"
    }
   ],
   "source": [
    "sys = system_aqua1.System(bdry, ch)\n",
    "display(sys)\n",
    "display(sys.df)\n",
    "sys.df.UA.sum()"
   ]
  },
  {
   "cell_type": "code",
   "execution_count": 25,
   "metadata": {},
   "outputs": [
    {
     "data": {
      "text/html": [
       "<div>\n",
       "<style>\n",
       "    .dataframe thead tr:only-child th {\n",
       "        text-align: right;\n",
       "    }\n",
       "\n",
       "    .dataframe thead th {\n",
       "        text-align: left;\n",
       "    }\n",
       "\n",
       "    .dataframe tbody tr th {\n",
       "        vertical-align: top;\n",
       "    }\n",
       "</style>\n",
       "<table border=\"1\" class=\"dataframe\">\n",
       "  <thead>\n",
       "    <tr style=\"text-align: right;\">\n",
       "      <th></th>\n",
       "      <th>Q_evap</th>\n",
       "      <th>Q_gen</th>\n",
       "      <th>m_rich</th>\n",
       "      <th>m_refrig</th>\n",
       "      <th>UA_gen</th>\n",
       "      <th>UA_evap</th>\n",
       "    </tr>\n",
       "  </thead>\n",
       "  <tbody>\n",
       "    <tr>\n",
       "      <th>0</th>\n",
       "      <td>NaN</td>\n",
       "      <td>NaN</td>\n",
       "      <td>NaN</td>\n",
       "      <td>NaN</td>\n",
       "      <td>NaN</td>\n",
       "      <td>NaN</td>\n",
       "    </tr>\n",
       "    <tr>\n",
       "      <th>1</th>\n",
       "      <td>NaN</td>\n",
       "      <td>NaN</td>\n",
       "      <td>NaN</td>\n",
       "      <td>NaN</td>\n",
       "      <td>NaN</td>\n",
       "      <td>NaN</td>\n",
       "    </tr>\n",
       "    <tr>\n",
       "      <th>2</th>\n",
       "      <td>NaN</td>\n",
       "      <td>NaN</td>\n",
       "      <td>NaN</td>\n",
       "      <td>NaN</td>\n",
       "      <td>NaN</td>\n",
       "      <td>NaN</td>\n",
       "    </tr>\n",
       "    <tr>\n",
       "      <th>3</th>\n",
       "      <td>NaN</td>\n",
       "      <td>NaN</td>\n",
       "      <td>NaN</td>\n",
       "      <td>NaN</td>\n",
       "      <td>NaN</td>\n",
       "      <td>NaN</td>\n",
       "    </tr>\n",
       "    <tr>\n",
       "      <th>4</th>\n",
       "      <td>NaN</td>\n",
       "      <td>NaN</td>\n",
       "      <td>NaN</td>\n",
       "      <td>NaN</td>\n",
       "      <td>NaN</td>\n",
       "      <td>NaN</td>\n",
       "    </tr>\n",
       "    <tr>\n",
       "      <th>5</th>\n",
       "      <td>NaN</td>\n",
       "      <td>NaN</td>\n",
       "      <td>NaN</td>\n",
       "      <td>NaN</td>\n",
       "      <td>NaN</td>\n",
       "      <td>NaN</td>\n",
       "    </tr>\n",
       "    <tr>\n",
       "      <th>6</th>\n",
       "      <td>NaN</td>\n",
       "      <td>NaN</td>\n",
       "      <td>NaN</td>\n",
       "      <td>NaN</td>\n",
       "      <td>NaN</td>\n",
       "      <td>NaN</td>\n",
       "    </tr>\n",
       "    <tr>\n",
       "      <th>7</th>\n",
       "      <td>NaN</td>\n",
       "      <td>NaN</td>\n",
       "      <td>NaN</td>\n",
       "      <td>NaN</td>\n",
       "      <td>NaN</td>\n",
       "      <td>NaN</td>\n",
       "    </tr>\n",
       "    <tr>\n",
       "      <th>8</th>\n",
       "      <td>NaN</td>\n",
       "      <td>NaN</td>\n",
       "      <td>NaN</td>\n",
       "      <td>NaN</td>\n",
       "      <td>NaN</td>\n",
       "      <td>NaN</td>\n",
       "    </tr>\n",
       "  </tbody>\n",
       "</table>\n",
       "</div>"
      ],
      "text/plain": [
       "  Q_evap Q_gen m_rich m_refrig UA_gen UA_evap\n",
       "0    NaN   NaN    NaN      NaN    NaN     NaN\n",
       "1    NaN   NaN    NaN      NaN    NaN     NaN\n",
       "2    NaN   NaN    NaN      NaN    NaN     NaN\n",
       "3    NaN   NaN    NaN      NaN    NaN     NaN\n",
       "4    NaN   NaN    NaN      NaN    NaN     NaN\n",
       "5    NaN   NaN    NaN      NaN    NaN     NaN\n",
       "6    NaN   NaN    NaN      NaN    NaN     NaN\n",
       "7    NaN   NaN    NaN      NaN    NaN     NaN\n",
       "8    NaN   NaN    NaN      NaN    NaN     NaN"
      ]
     },
     "execution_count": 25,
     "metadata": {},
     "output_type": "execute_result"
    }
   ],
   "source": [
    "trendnames = \"Q_evap Q_gen m_rich m_refrig UA_gen UA_evap\".split()\n",
    "#trendtype = numpy.dtype([(name,'f') for name in trendnames])\n",
    "#trends = numpy.empty_like(t_heat_reject_range,dtype=trendtype)\n",
    "#trends.fill((None,)*len(trendnames))\n",
    "import pandas\n",
    "trends = pandas.DataFrame(columns=trendnames, index=numpy.arange(len(t_heat_reject_range)))\n",
    "trends"
   ]
  },
  {
   "cell_type": "code",
   "execution_count": 26,
   "metadata": {},
   "outputs": [
    {
     "name": "stdout",
     "output_type": "stream",
     "text": [
      "Case 0, T_heat_reject = 293.15 K\n",
      "Note: Absorber inlet is subcooled\n"
     ]
    },
    {
     "name": "stderr",
     "output_type": "stream",
     "text": [
      "C:\\Users\\nfette\\Miniconda3\\envs\\openACHP\\lib\\site-packages\\scipy\\interpolate\\_cubic.py:147: RuntimeWarning: divide by zero encountered in true_divide\n",
      "  mk = (y[1:] - y[:-1]) / hk\n",
      "C:\\Users\\nfette\\Miniconda3\\envs\\openACHP\\lib\\site-packages\\scipy\\interpolate\\_cubic.py:165: RuntimeWarning: invalid value encountered in true_divide\n",
      "  whmean = (w1/mk[:-1] + w2/mk[1:]) / (w1 + w2)\n"
     ]
    },
    {
     "name": "stdout",
     "output_type": "stream",
     "text": [
      "Case 1, T_heat_reject = 298.15 K\n",
      "Note: Absorber inlet is subcooled\n",
      "Case 2, T_heat_reject = 303.15 K\n",
      "Note: Absorber inlet is subcooled\n",
      "Case 3, T_heat_reject = 308.15 K\n",
      "Note: Absorber inlet is subcooled\n",
      "Case 4, T_heat_reject = 313.15 K\n",
      "Note: Absorber inlet contains some vapor.\n",
      "Case 5, T_heat_reject = 318.15 K\n",
      "Note: Absorber inlet contains some vapor.\n",
      "Case 6, T_heat_reject = 323.15 K\n",
      "Note: Absorber inlet contains some vapor.\n",
      "Case 7, T_heat_reject = 328.15 K\n",
      "Case 8, T_heat_reject = 333.15 K\n"
     ]
    }
   ],
   "source": [
    "for i,(opt, T_heat_reject) in enumerate(zip(opts, t_heat_reject_range)):\n",
    "    print(\"Case {}, T_heat_reject = {} K\".format(i, T_heat_reject))\n",
    "    try:\n",
    "        ch = system_aqua1.makeChiller(opt.x)\n",
    "        trends.Q_evap[i] = ch.Q_evap\n",
    "        trends.Q_gen[i] = ch.Q_gen\n",
    "        trends.m_rich[i] = ch.m_rich\n",
    "        trends.m_refrig[i] = ch.m_refrig\n",
    "        \n",
    "        sys = system_aqua1.System(bdry, ch)\n",
    "        trends.UA_gen[i] = sys.df.UA['gen']\n",
    "        trends.UA_evap[i] = sys.df.UA['evap']\n",
    "    except:\n",
    "        pass"
   ]
  },
  {
   "cell_type": "code",
   "execution_count": 27,
   "metadata": {},
   "outputs": [
    {
     "data": {
      "text/html": [
       "<div>\n",
       "<style>\n",
       "    .dataframe thead tr:only-child th {\n",
       "        text-align: right;\n",
       "    }\n",
       "\n",
       "    .dataframe thead th {\n",
       "        text-align: left;\n",
       "    }\n",
       "\n",
       "    .dataframe tbody tr th {\n",
       "        vertical-align: top;\n",
       "    }\n",
       "</style>\n",
       "<table border=\"1\" class=\"dataframe\">\n",
       "  <thead>\n",
       "    <tr style=\"text-align: right;\">\n",
       "      <th></th>\n",
       "      <th>Q_evap</th>\n",
       "      <th>Q_gen</th>\n",
       "      <th>m_rich</th>\n",
       "      <th>m_refrig</th>\n",
       "      <th>UA_gen</th>\n",
       "      <th>UA_evap</th>\n",
       "    </tr>\n",
       "  </thead>\n",
       "  <tbody>\n",
       "    <tr>\n",
       "      <th>0</th>\n",
       "      <td>128.977</td>\n",
       "      <td>181.039</td>\n",
       "      <td>0.222135</td>\n",
       "      <td>0.10747</td>\n",
       "      <td>9.04425</td>\n",
       "      <td>111.161</td>\n",
       "    </tr>\n",
       "    <tr>\n",
       "      <th>1</th>\n",
       "      <td>128.034</td>\n",
       "      <td>189.261</td>\n",
       "      <td>0.26359</td>\n",
       "      <td>0.107848</td>\n",
       "      <td>13.8674</td>\n",
       "      <td>109.528</td>\n",
       "    </tr>\n",
       "    <tr>\n",
       "      <th>2</th>\n",
       "      <td>130.942</td>\n",
       "      <td>203.988</td>\n",
       "      <td>0.326685</td>\n",
       "      <td>0.111418</td>\n",
       "      <td>28.1274</td>\n",
       "      <td>109.334</td>\n",
       "    </tr>\n",
       "    <tr>\n",
       "      <th>3</th>\n",
       "      <td>109.223</td>\n",
       "      <td>182.204</td>\n",
       "      <td>0.352329</td>\n",
       "      <td>0.0940241</td>\n",
       "      <td>547.96</td>\n",
       "      <td>32.0188</td>\n",
       "    </tr>\n",
       "    <tr>\n",
       "      <th>4</th>\n",
       "      <td>75.4407</td>\n",
       "      <td>139.942</td>\n",
       "      <td>0.354045</td>\n",
       "      <td>0.0657155</td>\n",
       "      <td>281.331</td>\n",
       "      <td>14.5591</td>\n",
       "    </tr>\n",
       "    <tr>\n",
       "      <th>5</th>\n",
       "      <td>43.589</td>\n",
       "      <td>99.8447</td>\n",
       "      <td>0.383061</td>\n",
       "      <td>0.0384434</td>\n",
       "      <td>222.001</td>\n",
       "      <td>6.84564</td>\n",
       "    </tr>\n",
       "    <tr>\n",
       "      <th>6</th>\n",
       "      <td>13.7459</td>\n",
       "      <td>103.582</td>\n",
       "      <td>0.894703</td>\n",
       "      <td>0.0122743</td>\n",
       "      <td>1084.84</td>\n",
       "      <td>1.91204</td>\n",
       "    </tr>\n",
       "    <tr>\n",
       "      <th>7</th>\n",
       "      <td>-16.0751</td>\n",
       "      <td>-8.981</td>\n",
       "      <td>0.15</td>\n",
       "      <td>-0.0145536</td>\n",
       "      <td>NaN</td>\n",
       "      <td>NaN</td>\n",
       "    </tr>\n",
       "    <tr>\n",
       "      <th>8</th>\n",
       "      <td>-34.541</td>\n",
       "      <td>-39.2298</td>\n",
       "      <td>0.15</td>\n",
       "      <td>-0.0317097</td>\n",
       "      <td>NaN</td>\n",
       "      <td>NaN</td>\n",
       "    </tr>\n",
       "  </tbody>\n",
       "</table>\n",
       "</div>"
      ],
      "text/plain": [
       "    Q_evap    Q_gen    m_rich   m_refrig   UA_gen  UA_evap\n",
       "0  128.977  181.039  0.222135    0.10747  9.04425  111.161\n",
       "1  128.034  189.261   0.26359   0.107848  13.8674  109.528\n",
       "2  130.942  203.988  0.326685   0.111418  28.1274  109.334\n",
       "3  109.223  182.204  0.352329  0.0940241   547.96  32.0188\n",
       "4  75.4407  139.942  0.354045  0.0657155  281.331  14.5591\n",
       "5   43.589  99.8447  0.383061  0.0384434  222.001  6.84564\n",
       "6  13.7459  103.582  0.894703  0.0122743  1084.84  1.91204\n",
       "7 -16.0751   -8.981      0.15 -0.0145536      NaN      NaN\n",
       "8  -34.541 -39.2298      0.15 -0.0317097      NaN      NaN"
      ]
     },
     "execution_count": 27,
     "metadata": {},
     "output_type": "execute_result"
    }
   ],
   "source": [
    "trends"
   ]
  },
  {
   "cell_type": "code",
   "execution_count": 28,
   "metadata": {},
   "outputs": [
    {
     "data": {
      "image/png": "[encoded data removed]",
      "text/plain": [
       "<matplotlib.figure.Figure at 0xa2b1b0>"
      ]
     },
     "metadata": {},
     "output_type": "display_data"
    },
    {
     "data": {
      "image/png": "[encoded data removed]",
      "text/plain": [
       "<matplotlib.figure.Figure at 0xda4110>"
      ]
     },
     "metadata": {},
     "output_type": "display_data"
    },
    {
     "data": {
      "image/png": "[encoded data removed]",
      "text/plain": [
       "<matplotlib.figure.Figure at 0xda4350>"
      ]
     },
     "metadata": {},
     "output_type": "display_data"
    },
    {
     "data": {
      "image/png": "[encoded data removed]",
      "text/plain": [
       "<matplotlib.figure.Figure at 0xdb0810>"
      ]
     },
     "metadata": {},
     "output_type": "display_data"
    },
    {
     "data": {
      "image/png": "[encoded data removed]",
      "text/plain": [
       "<matplotlib.figure.Figure at 0x5c1ce90>"
      ]
     },
     "metadata": {},
     "output_type": "display_data"
    },
    {
     "data": {
      "image/png": "[encoded data removed]",
      "text/plain": [
       "<matplotlib.figure.Figure at 0x5c6d890>"
      ]
     },
     "metadata": {},
     "output_type": "display_data"
    }
   ],
   "source": [
    "for name in trends:\n",
    "    plt.figure()\n",
    "    trends[name].plot(style='.-')\n",
    "plt.show()"
   ]
  },
  {
   "cell_type": "code",
   "execution_count": 29,
   "metadata": {},
   "outputs": [],
   "source": [
    "q_fraction_range = [1, 0.95, 0.9, 0.8, 0.5, 0.2, 0.1]\n",
    "opts2 = pandas.DataFrame(index=pandas.MultiIndex.from_product([t_heat_reject_range,\n",
    "                                                               q_fraction_range]),\n",
    "                        columns=['Q','opt'])"
   ]
  },
  {
   "cell_type": "code",
   "execution_count": null,
   "metadata": {
    "collapsed": true
   },
   "outputs": [],
   "source": [
    "for tr,opt in zip(t_heat_reject_range, opts):\n",
    "    opts2.opt[(tr,1)] = opt\n",
    "    ch = system_aqua1.makeChiller(opt.x)\n",
    "    opts2.loc[(tr,1),'Q'] = ch.Q_evap\n",
    "    # TODO: Would like to add constraints, eventually"
   ]
  },
  {
   "cell_type": "code",
   "execution_count": 48,
   "metadata": {},
   "outputs": [
    {
     "data": {
      "text/html": [
       "<div>\n",
       "<style>\n",
       "    .dataframe thead tr:only-child th {\n",
       "        text-align: right;\n",
       "    }\n",
       "\n",
       "    .dataframe thead th {\n",
       "        text-align: left;\n",
       "    }\n",
       "\n",
       "    .dataframe tbody tr th {\n",
       "        vertical-align: top;\n",
       "    }\n",
       "</style>\n",
       "<table border=\"1\" class=\"dataframe\">\n",
       "  <thead>\n",
       "    <tr style=\"text-align: right;\">\n",
       "      <th></th>\n",
       "      <th></th>\n",
       "      <th>Q</th>\n",
       "      <th>opt</th>\n",
       "    </tr>\n",
       "  </thead>\n",
       "  <tbody>\n",
       "    <tr>\n",
       "      <th rowspan=\"7\" valign=\"top\">293.15</th>\n",
       "      <th>1.00</th>\n",
       "      <td>128.977</td>\n",
       "      <td>{'x': [0.222135232758, 278.663623308, 300.4146...</td>\n",
       "    </tr>\n",
       "    <tr>\n",
       "      <th>0.95</th>\n",
       "      <td>88.028</td>\n",
       "      <td>{'x': [0.15, 278.45, 300.15, 301.15, 298.15, 3...</td>\n",
       "    </tr>\n",
       "    <tr>\n",
       "      <th>0.90</th>\n",
       "      <td>88.028</td>\n",
       "      <td>{'x': [0.15, 278.45, 300.15, 301.15, 298.15, 3...</td>\n",
       "    </tr>\n",
       "    <tr>\n",
       "      <th>0.80</th>\n",
       "      <td>88.028</td>\n",
       "      <td>{'x': [0.15, 278.45, 300.15, 301.15, 298.15, 3...</td>\n",
       "    </tr>\n",
       "    <tr>\n",
       "      <th>0.50</th>\n",
       "      <td>88.028</td>\n",
       "      <td>{'x': [0.15, 278.45, 300.15, 301.15, 298.15, 3...</td>\n",
       "    </tr>\n",
       "    <tr>\n",
       "      <th>0.20</th>\n",
       "      <td>88.028</td>\n",
       "      <td>{'x': [0.15, 278.45, 300.15, 301.15, 298.15, 3...</td>\n",
       "    </tr>\n",
       "    <tr>\n",
       "      <th>0.10</th>\n",
       "      <td>88.028</td>\n",
       "      <td>{'x': [0.15, 278.45, 300.15, 301.15, 298.15, 3...</td>\n",
       "    </tr>\n",
       "    <tr>\n",
       "      <th rowspan=\"7\" valign=\"top\">298.15</th>\n",
       "      <th>1.00</th>\n",
       "      <td>128.034</td>\n",
       "      <td>{'x': [0.263589863473, 278.719339224, 305.4950...</td>\n",
       "    </tr>\n",
       "    <tr>\n",
       "      <th>0.95</th>\n",
       "      <td>73.7651</td>\n",
       "      <td>{'x': [0.15, 278.45, 305.15, 306.15, 303.15, 3...</td>\n",
       "    </tr>\n",
       "    <tr>\n",
       "      <th>0.90</th>\n",
       "      <td>73.7651</td>\n",
       "      <td>{'x': [0.15, 278.45, 305.15, 306.15, 303.15, 3...</td>\n",
       "    </tr>\n",
       "    <tr>\n",
       "      <th>0.80</th>\n",
       "      <td>73.7651</td>\n",
       "      <td>{'x': [0.15, 278.45, 305.15, 306.15, 303.15, 3...</td>\n",
       "    </tr>\n",
       "    <tr>\n",
       "      <th>0.50</th>\n",
       "      <td>73.7651</td>\n",
       "      <td>{'x': [0.15, 278.45, 305.15, 306.15, 303.15, 3...</td>\n",
       "    </tr>\n",
       "    <tr>\n",
       "      <th>0.20</th>\n",
       "      <td>73.7651</td>\n",
       "      <td>{'x': [0.15, 278.45, 305.15, 306.15, 303.15, 3...</td>\n",
       "    </tr>\n",
       "    <tr>\n",
       "      <th>0.10</th>\n",
       "      <td>73.7651</td>\n",
       "      <td>{'x': [0.15, 278.45, 305.15, 306.15, 303.15, 3...</td>\n",
       "    </tr>\n",
       "    <tr>\n",
       "      <th rowspan=\"7\" valign=\"top\">303.15</th>\n",
       "      <th>1.00</th>\n",
       "      <td>130.942</td>\n",
       "      <td>{'x': [0.326685131532, 278.544218108, 310.1294...</td>\n",
       "    </tr>\n",
       "    <tr>\n",
       "      <th>0.95</th>\n",
       "      <td>124.452</td>\n",
       "      <td>{'x': [0.310981796873, 278.541469689, 310.1461...</td>\n",
       "    </tr>\n",
       "    <tr>\n",
       "      <th>0.90</th>\n",
       "      <td>117.855</td>\n",
       "      <td>{'x': [0.294423225345, 278.545558955, 310.1476...</td>\n",
       "    </tr>\n",
       "    <tr>\n",
       "      <th>0.80</th>\n",
       "      <td>104.781</td>\n",
       "      <td>{'x': [0.262326002362, 278.515551799, 310.1719...</td>\n",
       "    </tr>\n",
       "    <tr>\n",
       "      <th>0.50</th>\n",
       "      <td>65.513</td>\n",
       "      <td>{'x': [0.163553490912, 278.572779872, 310.1671...</td>\n",
       "    </tr>\n",
       "    <tr>\n",
       "      <th>0.20</th>\n",
       "      <td>30.4123</td>\n",
       "      <td>{'x': [0.1, 275.74014977, 312.005038803, 312.1...</td>\n",
       "    </tr>\n",
       "    <tr>\n",
       "      <th>0.10</th>\n",
       "      <td>29.7424</td>\n",
       "      <td>{'x': [0.1, 275.397214471, 312.24900227, 312.3...</td>\n",
       "    </tr>\n",
       "    <tr>\n",
       "      <th rowspan=\"7\" valign=\"top\">308.15</th>\n",
       "      <th>1.00</th>\n",
       "      <td>109.223</td>\n",
       "      <td>{'x': [0.352329015691, 278.721861477, 315.1296...</td>\n",
       "    </tr>\n",
       "    <tr>\n",
       "      <th>0.95</th>\n",
       "      <td>103.763</td>\n",
       "      <td>{'x': [0.338289362176, 278.538577792, 315.1956...</td>\n",
       "    </tr>\n",
       "    <tr>\n",
       "      <th>0.90</th>\n",
       "      <td>98.3329</td>\n",
       "      <td>{'x': [0.321014130277, 278.541955061, 315.2650...</td>\n",
       "    </tr>\n",
       "    <tr>\n",
       "      <th>0.80</th>\n",
       "      <td>87.3793</td>\n",
       "      <td>{'x': [0.285374409377, 278.536331396, 315.1675...</td>\n",
       "    </tr>\n",
       "    <tr>\n",
       "      <th>0.50</th>\n",
       "      <td>54.6065</td>\n",
       "      <td>{'x': [0.178913168805, 278.575026802, 315.2739...</td>\n",
       "    </tr>\n",
       "    <tr>\n",
       "      <th>0.20</th>\n",
       "      <td>23.1359</td>\n",
       "      <td>{'x': [0.1, 276.053929325, 316.756029183, 316....</td>\n",
       "    </tr>\n",
       "    <tr>\n",
       "      <th>0.10</th>\n",
       "      <td>21.2603</td>\n",
       "      <td>{'x': [0.099924333649, 275.676045056, 317.1160...</td>\n",
       "    </tr>\n",
       "    <tr>\n",
       "      <th rowspan=\"5\" valign=\"top\">313.15</th>\n",
       "      <th>1.00</th>\n",
       "      <td>75.4407</td>\n",
       "      <td>{'x': [0.354044715611, 278.613433727, 320.1449...</td>\n",
       "    </tr>\n",
       "    <tr>\n",
       "      <th>0.95</th>\n",
       "      <td>71.6481</td>\n",
       "      <td>{'x': [0.338977522311, 278.541520124, 320.1910...</td>\n",
       "    </tr>\n",
       "    <tr>\n",
       "      <th>...</th>\n",
       "      <td>...</td>\n",
       "      <td>...</td>\n",
       "    </tr>\n",
       "    <tr>\n",
       "      <th>0.20</th>\n",
       "      <td>15.0882</td>\n",
       "      <td>{'x': [0.1, 276.883088607, 321.543780968, 321....</td>\n",
       "    </tr>\n",
       "    <tr>\n",
       "      <th>0.10</th>\n",
       "      <td>10.1275</td>\n",
       "      <td>{'x': [0.1, 275.284713524, 322.249759659, 322....</td>\n",
       "    </tr>\n",
       "    <tr>\n",
       "      <th rowspan=\"7\" valign=\"top\">318.15</th>\n",
       "      <th>1.00</th>\n",
       "      <td>43.589</td>\n",
       "      <td>{'x': [0.383060647509, 278.607631244, 325.1395...</td>\n",
       "    </tr>\n",
       "    <tr>\n",
       "      <th>0.95</th>\n",
       "      <td>41.4118</td>\n",
       "      <td>{'x': [0.367573837228, 278.552183255, 325.1498...</td>\n",
       "    </tr>\n",
       "    <tr>\n",
       "      <th>0.90</th>\n",
       "      <td>39.2202</td>\n",
       "      <td>{'x': [0.348019629601, 278.52989465, 325.18350...</td>\n",
       "    </tr>\n",
       "    <tr>\n",
       "      <th>0.80</th>\n",
       "      <td>34.873</td>\n",
       "      <td>{'x': [0.307459383903, 278.58927791, 325.14128...</td>\n",
       "    </tr>\n",
       "    <tr>\n",
       "      <th>0.50</th>\n",
       "      <td>21.7948</td>\n",
       "      <td>{'x': [0.190922431637, 278.595744064, 325.1694...</td>\n",
       "    </tr>\n",
       "    <tr>\n",
       "      <th>0.20</th>\n",
       "      <td>8.71762</td>\n",
       "      <td>{'x': [0.1, 277.945051484, 325.728478513, 326....</td>\n",
       "    </tr>\n",
       "    <tr>\n",
       "      <th>0.10</th>\n",
       "      <td>4.3588</td>\n",
       "      <td>{'x': [0.1, 276.913247564, 326.715232213, 326....</td>\n",
       "    </tr>\n",
       "    <tr>\n",
       "      <th rowspan=\"7\" valign=\"top\">323.15</th>\n",
       "      <th>1.00</th>\n",
       "      <td>13.7459</td>\n",
       "      <td>{'x': [0.894702811389, 278.752871909, 329.9202...</td>\n",
       "    </tr>\n",
       "    <tr>\n",
       "      <th>0.95</th>\n",
       "      <td>2.56201</td>\n",
       "      <td>{'x': [0.260071742919, 278.659958804, 330.1500...</td>\n",
       "    </tr>\n",
       "    <tr>\n",
       "      <th>0.90</th>\n",
       "      <td>2.56208</td>\n",
       "      <td>{'x': [0.259967861163, 278.660047208, 330.1499...</td>\n",
       "    </tr>\n",
       "    <tr>\n",
       "      <th>0.80</th>\n",
       "      <td>4.13477</td>\n",
       "      <td>{'x': [0.373396160078, 278.669798752, 330.1413...</td>\n",
       "    </tr>\n",
       "    <tr>\n",
       "      <th>0.50</th>\n",
       "      <td>6.87423</td>\n",
       "      <td>{'x': [0.429199220787, 278.720029999, 329.8297...</td>\n",
       "    </tr>\n",
       "    <tr>\n",
       "      <th>0.20</th>\n",
       "      <td>2.74849</td>\n",
       "      <td>{'x': [0.227432762532, 278.624589908, 330.0015...</td>\n",
       "    </tr>\n",
       "    <tr>\n",
       "      <th>0.10</th>\n",
       "      <td>1.3747</td>\n",
       "      <td>{'x': [0.16461487935, 278.554317891, 330.12327...</td>\n",
       "    </tr>\n",
       "    <tr>\n",
       "      <th rowspan=\"7\" valign=\"top\">328.15</th>\n",
       "      <th>1.00</th>\n",
       "      <td>-16.0751</td>\n",
       "      <td>{'x': [0.15, 278.45, 335.15, 336.15, 333.15, 3...</td>\n",
       "    </tr>\n",
       "    <tr>\n",
       "      <th>0.95</th>\n",
       "      <td>NaN</td>\n",
       "      <td>{'x': [0.15, 278.45, 335.15, 336.15, 333.15, 3...</td>\n",
       "    </tr>\n",
       "    <tr>\n",
       "      <th>0.90</th>\n",
       "      <td>NaN</td>\n",
       "      <td>{'x': [0.15, 278.45, 335.15, 336.15, 333.15, 3...</td>\n",
       "    </tr>\n",
       "    <tr>\n",
       "      <th>0.80</th>\n",
       "      <td>NaN</td>\n",
       "      <td>{'x': [0.15, 278.45, 335.15, 336.15, 333.15, 3...</td>\n",
       "    </tr>\n",
       "    <tr>\n",
       "      <th>0.50</th>\n",
       "      <td>NaN</td>\n",
       "      <td>{'x': [0.15, 278.45, 335.15, 336.15, 333.15, 3...</td>\n",
       "    </tr>\n",
       "    <tr>\n",
       "      <th>0.20</th>\n",
       "      <td>NaN</td>\n",
       "      <td>{'x': [0.15, 278.45, 335.15, 336.15, 333.15, 3...</td>\n",
       "    </tr>\n",
       "    <tr>\n",
       "      <th>0.10</th>\n",
       "      <td>NaN</td>\n",
       "      <td>{'x': [0.15, 278.45, 335.15, 336.15, 333.15, 3...</td>\n",
       "    </tr>\n",
       "    <tr>\n",
       "      <th rowspan=\"7\" valign=\"top\">333.15</th>\n",
       "      <th>1.00</th>\n",
       "      <td>-34.541</td>\n",
       "      <td>{'x': [0.15, 278.45, 340.15, 341.15, 338.15, 3...</td>\n",
       "    </tr>\n",
       "    <tr>\n",
       "      <th>0.95</th>\n",
       "      <td>NaN</td>\n",
       "      <td>{'x': [0.15, 278.45, 340.15, 341.15, 338.15, 3...</td>\n",
       "    </tr>\n",
       "    <tr>\n",
       "      <th>0.90</th>\n",
       "      <td>NaN</td>\n",
       "      <td>{'x': [0.15, 278.45, 340.15, 341.15, 338.15, 3...</td>\n",
       "    </tr>\n",
       "    <tr>\n",
       "      <th>0.80</th>\n",
       "      <td>NaN</td>\n",
       "      <td>{'x': [0.15, 278.45, 340.15, 341.15, 338.15, 3...</td>\n",
       "    </tr>\n",
       "    <tr>\n",
       "      <th>0.50</th>\n",
       "      <td>NaN</td>\n",
       "      <td>{'x': [0.15, 278.45, 340.15, 341.15, 338.15, 3...</td>\n",
       "    </tr>\n",
       "    <tr>\n",
       "      <th>0.20</th>\n",
       "      <td>NaN</td>\n",
       "      <td>{'x': [0.15, 278.45, 340.15, 341.15, 338.15, 3...</td>\n",
       "    </tr>\n",
       "    <tr>\n",
       "      <th>0.10</th>\n",
       "      <td>NaN</td>\n",
       "      <td>{'x': [0.15, 278.45, 340.15, 341.15, 338.15, 3...</td>\n",
       "    </tr>\n",
       "  </tbody>\n",
       "</table>\n",
       "<p>63 rows × 2 columns</p>\n",
       "</div>"
      ],
      "text/plain": [
       "                   Q                                                opt\n",
       "293.15 1.00  128.977  {'x': [0.222135232758, 278.663623308, 300.4146...\n",
       "       0.95   88.028  {'x': [0.15, 278.45, 300.15, 301.15, 298.15, 3...\n",
       "       0.90   88.028  {'x': [0.15, 278.45, 300.15, 301.15, 298.15, 3...\n",
       "       0.80   88.028  {'x': [0.15, 278.45, 300.15, 301.15, 298.15, 3...\n",
       "       0.50   88.028  {'x': [0.15, 278.45, 300.15, 301.15, 298.15, 3...\n",
       "       0.20   88.028  {'x': [0.15, 278.45, 300.15, 301.15, 298.15, 3...\n",
       "       0.10   88.028  {'x': [0.15, 278.45, 300.15, 301.15, 298.15, 3...\n",
       "298.15 1.00  128.034  {'x': [0.263589863473, 278.719339224, 305.4950...\n",
       "       0.95  73.7651  {'x': [0.15, 278.45, 305.15, 306.15, 303.15, 3...\n",
       "       0.90  73.7651  {'x': [0.15, 278.45, 305.15, 306.15, 303.15, 3...\n",
       "       0.80  73.7651  {'x': [0.15, 278.45, 305.15, 306.15, 303.15, 3...\n",
       "       0.50  73.7651  {'x': [0.15, 278.45, 305.15, 306.15, 303.15, 3...\n",
       "       0.20  73.7651  {'x': [0.15, 278.45, 305.15, 306.15, 303.15, 3...\n",
       "       0.10  73.7651  {'x': [0.15, 278.45, 305.15, 306.15, 303.15, 3...\n",
       "303.15 1.00  130.942  {'x': [0.326685131532, 278.544218108, 310.1294...\n",
       "       0.95  124.452  {'x': [0.310981796873, 278.541469689, 310.1461...\n",
       "       0.90  117.855  {'x': [0.294423225345, 278.545558955, 310.1476...\n",
       "       0.80  104.781  {'x': [0.262326002362, 278.515551799, 310.1719...\n",
       "       0.50   65.513  {'x': [0.163553490912, 278.572779872, 310.1671...\n",
       "       0.20  30.4123  {'x': [0.1, 275.74014977, 312.005038803, 312.1...\n",
       "       0.10  29.7424  {'x': [0.1, 275.397214471, 312.24900227, 312.3...\n",
       "308.15 1.00  109.223  {'x': [0.352329015691, 278.721861477, 315.1296...\n",
       "       0.95  103.763  {'x': [0.338289362176, 278.538577792, 315.1956...\n",
       "       0.90  98.3329  {'x': [0.321014130277, 278.541955061, 315.2650...\n",
       "       0.80  87.3793  {'x': [0.285374409377, 278.536331396, 315.1675...\n",
       "       0.50  54.6065  {'x': [0.178913168805, 278.575026802, 315.2739...\n",
       "       0.20  23.1359  {'x': [0.1, 276.053929325, 316.756029183, 316....\n",
       "       0.10  21.2603  {'x': [0.099924333649, 275.676045056, 317.1160...\n",
       "313.15 1.00  75.4407  {'x': [0.354044715611, 278.613433727, 320.1449...\n",
       "       0.95  71.6481  {'x': [0.338977522311, 278.541520124, 320.1910...\n",
       "...              ...                                                ...\n",
       "       0.20  15.0882  {'x': [0.1, 276.883088607, 321.543780968, 321....\n",
       "       0.10  10.1275  {'x': [0.1, 275.284713524, 322.249759659, 322....\n",
       "318.15 1.00   43.589  {'x': [0.383060647509, 278.607631244, 325.1395...\n",
       "       0.95  41.4118  {'x': [0.367573837228, 278.552183255, 325.1498...\n",
       "       0.90  39.2202  {'x': [0.348019629601, 278.52989465, 325.18350...\n",
       "       0.80   34.873  {'x': [0.307459383903, 278.58927791, 325.14128...\n",
       "       0.50  21.7948  {'x': [0.190922431637, 278.595744064, 325.1694...\n",
       "       0.20  8.71762  {'x': [0.1, 277.945051484, 325.728478513, 326....\n",
       "       0.10   4.3588  {'x': [0.1, 276.913247564, 326.715232213, 326....\n",
       "323.15 1.00  13.7459  {'x': [0.894702811389, 278.752871909, 329.9202...\n",
       "       0.95  2.56201  {'x': [0.260071742919, 278.659958804, 330.1500...\n",
       "       0.90  2.56208  {'x': [0.259967861163, 278.660047208, 330.1499...\n",
       "       0.80  4.13477  {'x': [0.373396160078, 278.669798752, 330.1413...\n",
       "       0.50  6.87423  {'x': [0.429199220787, 278.720029999, 329.8297...\n",
       "       0.20  2.74849  {'x': [0.227432762532, 278.624589908, 330.0015...\n",
       "       0.10   1.3747  {'x': [0.16461487935, 278.554317891, 330.12327...\n",
       "328.15 1.00 -16.0751  {'x': [0.15, 278.45, 335.15, 336.15, 333.15, 3...\n",
       "       0.95      NaN  {'x': [0.15, 278.45, 335.15, 336.15, 333.15, 3...\n",
       "       0.90      NaN  {'x': [0.15, 278.45, 335.15, 336.15, 333.15, 3...\n",
       "       0.80      NaN  {'x': [0.15, 278.45, 335.15, 336.15, 333.15, 3...\n",
       "       0.50      NaN  {'x': [0.15, 278.45, 335.15, 336.15, 333.15, 3...\n",
       "       0.20      NaN  {'x': [0.15, 278.45, 335.15, 336.15, 333.15, 3...\n",
       "       0.10      NaN  {'x': [0.15, 278.45, 335.15, 336.15, 333.15, 3...\n",
       "333.15 1.00  -34.541  {'x': [0.15, 278.45, 340.15, 341.15, 338.15, 3...\n",
       "       0.95      NaN  {'x': [0.15, 278.45, 340.15, 341.15, 338.15, 3...\n",
       "       0.90      NaN  {'x': [0.15, 278.45, 340.15, 341.15, 338.15, 3...\n",
       "       0.80      NaN  {'x': [0.15, 278.45, 340.15, 341.15, 338.15, 3...\n",
       "       0.50      NaN  {'x': [0.15, 278.45, 340.15, 341.15, 338.15, 3...\n",
       "       0.20      NaN  {'x': [0.15, 278.45, 340.15, 341.15, 338.15, 3...\n",
       "       0.10      NaN  {'x': [0.15, 278.45, 340.15, 341.15, 338.15, 3...\n",
       "\n",
       "[63 rows x 2 columns]"
      ]
     },
     "execution_count": 48,
     "metadata": {},
     "output_type": "execute_result"
    }
   ],
   "source": [
    "opts2"
   ]
  },
  {
   "cell_type": "code",
   "execution_count": 49,
   "metadata": {},
   "outputs": [
    {
     "data": {
      "image/png": "[encoded data removed]",
      "text/plain": [
       "<matplotlib.figure.Figure at 0x8cab750>"
      ]
     },
     "metadata": {},
     "output_type": "display_data"
    }
   ],
   "source": [
    "opts2.Q.plot.bar()\n",
    "plt.show()"
   ]
  },
  {
   "cell_type": "code",
   "execution_count": 47,
   "metadata": {
    "collapsed": true
   },
   "outputs": [],
   "source": [
    "fname = 'optimize_trials2_5_data.csv'\n",
    "if False:\n",
    "    opts2.to_csv(fname)\n",
    "if False:\n",
    "    opts2 = pandas.read_csv(fname, header=0, index_col=[0,1])"
   ]
  },
  {
   "cell_type": "code",
   "execution_count": 43,
   "metadata": {},
   "outputs": [
    {
     "name": "stdout",
     "output_type": "stream",
     "text": [
      "Case 0, T_heat_reject = 293.15 K, Q_fraction = 1.0, Q_goal = 128.97739149780878\n",
      "Case 1, T_heat_reject = 293.15 K, Q_fraction = 0.95, Q_goal = 122.52852192291833\n",
      "Case 2, T_heat_reject = 293.15 K, Q_fraction = 0.9, Q_goal = 116.0796523480279\n",
      "Case 3, T_heat_reject = 293.15 K, Q_fraction = 0.8, Q_goal = 103.18191319824703\n",
      "Case 4, T_heat_reject = 293.15 K, Q_fraction = 0.5, Q_goal = 64.48869574890439\n",
      "Case 5, T_heat_reject = 293.15 K, Q_fraction = 0.2, Q_goal = 25.795478299561758\n",
      "Case 6, T_heat_reject = 293.15 K, Q_fraction = 0.1, Q_goal = 12.897739149780879\n",
      "Case 7, T_heat_reject = 298.15 K, Q_fraction = 1.0, Q_goal = 128.0341529310197\n",
      "Case 8, T_heat_reject = 298.15 K, Q_fraction = 0.95, Q_goal = 121.6324452844687\n",
      "Case 9, T_heat_reject = 298.15 K, Q_fraction = 0.9, Q_goal = 115.23073763791773\n",
      "Case 10, T_heat_reject = 298.15 K, Q_fraction = 0.8, Q_goal = 102.42732234481576\n",
      "Case 11, T_heat_reject = 298.15 K, Q_fraction = 0.5, Q_goal = 64.01707646550985\n",
      "Case 12, T_heat_reject = 298.15 K, Q_fraction = 0.2, Q_goal = 25.60683058620394\n",
      "Case 13, T_heat_reject = 298.15 K, Q_fraction = 0.1, Q_goal = 12.80341529310197\n",
      "Case 14, T_heat_reject = 303.15 K, Q_fraction = 1.0, Q_goal = 130.9422995649034\n",
      "Case 15, T_heat_reject = 303.15 K, Q_fraction = 0.95, Q_goal = 124.39518458665823\n",
      "Case 16, T_heat_reject = 303.15 K, Q_fraction = 0.9, Q_goal = 117.84806960841307\n",
      "Case 17, T_heat_reject = 303.15 K, Q_fraction = 0.8, Q_goal = 104.75383965192273\n",
      "Case 18, T_heat_reject = 303.15 K, Q_fraction = 0.5, Q_goal = 65.4711497824517\n",
      "Case 19, T_heat_reject = 303.15 K, Q_fraction = 0.2, Q_goal = 26.188459912980683\n",
      "Case 20, T_heat_reject = 303.15 K, Q_fraction = 0.1, Q_goal = 13.094229956490341\n",
      "Case 21, T_heat_reject = 308.15 K, Q_fraction = 1.0, Q_goal = 109.22340625797965\n",
      "Case 22, T_heat_reject = 308.15 K, Q_fraction = 0.95, Q_goal = 103.76223594508066\n",
      "Case 23, T_heat_reject = 308.15 K, Q_fraction = 0.9, Q_goal = 98.30106563218169\n",
      "Case 24, T_heat_reject = 308.15 K, Q_fraction = 0.8, Q_goal = 87.37872500638372\n",
      "Case 25, T_heat_reject = 308.15 K, Q_fraction = 0.5, Q_goal = 54.611703128989824\n",
      "Case 26, T_heat_reject = 308.15 K, Q_fraction = 0.2, Q_goal = 21.84468125159593\n",
      "Case 27, T_heat_reject = 308.15 K, Q_fraction = 0.1, Q_goal = 10.922340625797965\n",
      "Case 28, T_heat_reject = 313.15 K, Q_fraction = 1.0, Q_goal = 75.44068864793124\n",
      "Case 29, T_heat_reject = 313.15 K, Q_fraction = 0.95, Q_goal = 71.66865421553467\n",
      "Case 30, T_heat_reject = 313.15 K, Q_fraction = 0.9, Q_goal = 67.89661978313812\n",
      "Case 31, T_heat_reject = 313.15 K, Q_fraction = 0.8, Q_goal = 60.352550918344996\n",
      "Case 32, T_heat_reject = 313.15 K, Q_fraction = 0.5, Q_goal = 37.72034432396562\n",
      "Case 33, T_heat_reject = 313.15 K, Q_fraction = 0.2, Q_goal = 15.088137729586249\n"
     ]
    },
    {
     "name": "stderr",
     "output_type": "stream",
     "text": [
      "C:\\Users\\nfette\\Miniconda3\\envs\\openACHP\\lib\\site-packages\\scipy\\optimize\\_minimize.py:403: RuntimeWarning: Method COBYLA does not support callback.\n",
      "  warn('Method %s does not support callback.' % method, RuntimeWarning)\n",
      "C:\\Users\\nfette\\Miniconda3\\envs\\openACHP\\lib\\site-packages\\scipy\\interpolate\\_cubic.py:147: RuntimeWarning: divide by zero encountered in true_divide\n",
      "  mk = (y[1:] - y[:-1]) / hk\n",
      "C:\\Users\\nfette\\Miniconda3\\envs\\openACHP\\lib\\site-packages\\scipy\\interpolate\\_cubic.py:165: RuntimeWarning: invalid value encountered in true_divide\n",
      "  whmean = (w1/mk[:-1] + w2/mk[1:]) / (w1 + w2)\n"
     ]
    },
    {
     "name": "stdout",
     "output_type": "stream",
     "text": [
      "First pass and we have this ... \n"
     ]
    },
    {
     "data": {
      "text/html": [
       "<table>\n",
       "<thead>\n",
       "<tr><th>name  </th><th style=\"text-align: right;\">  deltaT</th><th style=\"text-align: right;\">  epsilon</th><th style=\"text-align: right;\">      UA</th><th style=\"text-align: right;\">       Q</th></tr>\n",
       "</thead>\n",
       "<tbody>\n",
       "<tr><td>gen   </td><td style=\"text-align: right;\"> 5.72709</td><td style=\"text-align: right;\"> 0.819287</td><td style=\"text-align: right;\">2.75066 </td><td style=\"text-align: right;\">33.8603 </td></tr>\n",
       "<tr><td>rect  </td><td style=\"text-align: right;\"> 7.87295</td><td style=\"text-align: right;\"> 0.960658</td><td style=\"text-align: right;\">0.200841</td><td style=\"text-align: right;\"> 4.38611</td></tr>\n",
       "<tr><td>abs   </td><td style=\"text-align: right;\"> 6.05614</td><td style=\"text-align: right;\"> 0.702789</td><td style=\"text-align: right;\">2.61655 </td><td style=\"text-align: right;\">31.4272 </td></tr>\n",
       "<tr><td>cond  </td><td style=\"text-align: right;\"> 7.44004</td><td style=\"text-align: right;\"> 0.961227</td><td style=\"text-align: right;\">1.9818  </td><td style=\"text-align: right;\">15.2884 </td></tr>\n",
       "<tr><td>evap  </td><td style=\"text-align: right;\"> 7.97508</td><td style=\"text-align: right;\"> 0.980974</td><td style=\"text-align: right;\">2.01451 </td><td style=\"text-align: right;\">17.0213 </td></tr>\n",
       "<tr><td>total </td><td style=\"text-align: right;\"> 0      </td><td style=\"text-align: right;\"> 0       </td><td style=\"text-align: right;\">9.56436 </td><td style=\"text-align: right;\"> 0      </td></tr>\n",
       "</tbody>\n",
       "</table>"
      ],
      "text/plain": [
       "name      deltaT    epsilon        UA         Q\n",
       "------  --------  ---------  --------  --------\n",
       "gen      5.72709   0.819287  2.75066   33.8603\n",
       "rect     7.87295   0.960658  0.200841   4.38611\n",
       "abs      6.05614   0.702789  2.61655   31.4272\n",
       "cond     7.44004   0.961227  1.9818    15.2884\n",
       "evap     7.97508   0.980974  2.01451   17.0213\n",
       "totalUA = 9.564362888222318"
      ]
     },
     "metadata": {},
     "output_type": "display_data"
    },
    {
     "name": "stdout",
     "output_type": "stream",
     "text": [
      "Second pass and we have this ... \n"
     ]
    },
    {
     "data": {
      "text/html": [
       "<table>\n",
       "<thead>\n",
       "<tr><th>name  </th><th style=\"text-align: right;\">  deltaT</th><th style=\"text-align: right;\">  epsilon</th><th style=\"text-align: right;\">     UA</th><th style=\"text-align: right;\">       Q</th></tr>\n",
       "</thead>\n",
       "<tbody>\n",
       "<tr><td>gen   </td><td style=\"text-align: right;\"> 6.26499</td><td style=\"text-align: right;\"> 0.789173</td><td style=\"text-align: right;\">2.51655</td><td style=\"text-align: right;\">31.2051 </td></tr>\n",
       "<tr><td>rect  </td><td style=\"text-align: right;\"> 7.85603</td><td style=\"text-align: right;\"> 1.02046 </td><td style=\"text-align: right;\">0.19027</td><td style=\"text-align: right;\"> 4.29907</td></tr>\n",
       "<tr><td>abs   </td><td style=\"text-align: right;\"> 6.67732</td><td style=\"text-align: right;\"> 0.665798</td><td style=\"text-align: right;\">2.34574</td><td style=\"text-align: right;\">28.9327 </td></tr>\n",
       "<tr><td>cond  </td><td style=\"text-align: right;\"> 7.83928</td><td style=\"text-align: right;\"> 0.959161</td><td style=\"text-align: right;\">1.64406</td><td style=\"text-align: right;\">13.2872 </td></tr>\n",
       "<tr><td>evap  </td><td style=\"text-align: right;\"> 8.59272</td><td style=\"text-align: right;\"> 0.979936</td><td style=\"text-align: right;\">1.67436</td><td style=\"text-align: right;\">15.0903 </td></tr>\n",
       "<tr><td>total </td><td style=\"text-align: right;\"> 0      </td><td style=\"text-align: right;\"> 0       </td><td style=\"text-align: right;\">8.37098</td><td style=\"text-align: right;\"> 0      </td></tr>\n",
       "</tbody>\n",
       "</table>"
      ],
      "text/plain": [
       "name      deltaT    epsilon       UA         Q\n",
       "------  --------  ---------  -------  --------\n",
       "gen      6.26499   0.789173  2.51655  31.2051\n",
       "rect     7.85603   1.02046   0.19027   4.29907\n",
       "abs      6.67732   0.665798  2.34574  28.9327\n",
       "cond     7.83928   0.959161  1.64406  13.2872\n",
       "evap     8.59272   0.979936  1.67436  15.0903\n",
       "totalUA = 8.37098369620578"
      ]
     },
     "metadata": {},
     "output_type": "display_data"
    },
    {
     "name": "stdout",
     "output_type": "stream",
     "text": [
      "Third pass and we have this ... \n"
     ]
    },
    {
     "data": {
      "text/html": [
       "<table>\n",
       "<thead>\n",
       "<tr><th>name  </th><th style=\"text-align: right;\">  deltaT</th><th style=\"text-align: right;\">  epsilon</th><th style=\"text-align: right;\">      UA</th><th style=\"text-align: right;\">       Q</th></tr>\n",
       "</thead>\n",
       "<tbody>\n",
       "<tr><td>gen   </td><td style=\"text-align: right;\"> 6.26363</td><td style=\"text-align: right;\"> 0.789193</td><td style=\"text-align: right;\">2.51675 </td><td style=\"text-align: right;\">31.2027 </td></tr>\n",
       "<tr><td>rect  </td><td style=\"text-align: right;\"> 7.85637</td><td style=\"text-align: right;\"> 1.02045 </td><td style=\"text-align: right;\">0.190245</td><td style=\"text-align: right;\"> 4.29879</td></tr>\n",
       "<tr><td>abs   </td><td style=\"text-align: right;\"> 6.67779</td><td style=\"text-align: right;\"> 0.665771</td><td style=\"text-align: right;\">2.34551 </td><td style=\"text-align: right;\">28.9303 </td></tr>\n",
       "<tr><td>cond  </td><td style=\"text-align: right;\"> 7.8396 </td><td style=\"text-align: right;\"> 0.95916 </td><td style=\"text-align: right;\">1.64377 </td><td style=\"text-align: right;\">13.2853 </td></tr>\n",
       "<tr><td>evap  </td><td style=\"text-align: right;\"> 8.5948 </td><td style=\"text-align: right;\"> 0.979932</td><td style=\"text-align: right;\">1.67374 </td><td style=\"text-align: right;\">15.0882 </td></tr>\n",
       "<tr><td>total </td><td style=\"text-align: right;\"> 0      </td><td style=\"text-align: right;\"> 0       </td><td style=\"text-align: right;\">8.37002 </td><td style=\"text-align: right;\"> 0      </td></tr>\n",
       "</tbody>\n",
       "</table>"
      ],
      "text/plain": [
       "name      deltaT    epsilon        UA         Q\n",
       "------  --------  ---------  --------  --------\n",
       "gen      6.26363   0.789193  2.51675   31.2027\n",
       "rect     7.85637   1.02045   0.190245   4.29879\n",
       "abs      6.67779   0.665771  2.34551   28.9303\n",
       "cond     7.8396    0.95916   1.64377   13.2853\n",
       "evap     8.5948    0.979932  1.67374   15.0882\n",
       "totalUA = 8.370016094162064"
      ]
     },
     "metadata": {},
     "output_type": "display_data"
    },
    {
     "name": "stdout",
     "output_type": "stream",
     "text": [
      "Case 34, T_heat_reject = 313.15 K, Q_fraction = 0.1, Q_goal = 7.544068864793124\n",
      "First pass and we have this ... \n"
     ]
    },
    {
     "data": {
      "text/html": [
       "<table>\n",
       "<thead>\n",
       "<tr><th>name  </th><th style=\"text-align: right;\">  deltaT</th><th style=\"text-align: right;\">  epsilon</th><th style=\"text-align: right;\">      UA</th><th style=\"text-align: right;\">       Q</th></tr>\n",
       "</thead>\n",
       "<tbody>\n",
       "<tr><td>gen   </td><td style=\"text-align: right;\"> 6.08967</td><td style=\"text-align: right;\"> 0.786755</td><td style=\"text-align: right;\">2.50998 </td><td style=\"text-align: right;\">30.1429 </td></tr>\n",
       "<tr><td>rect  </td><td style=\"text-align: right;\"> 8.00176</td><td style=\"text-align: right;\"> 1.01782 </td><td style=\"text-align: right;\">0.179845</td><td style=\"text-align: right;\"> 4.16229</td></tr>\n",
       "<tr><td>abs   </td><td style=\"text-align: right;\"> 7.07007</td><td style=\"text-align: right;\"> 0.64625 </td><td style=\"text-align: right;\">2.21055 </td><td style=\"text-align: right;\">27.9168 </td></tr>\n",
       "<tr><td>cond  </td><td style=\"text-align: right;\"> 7.97499</td><td style=\"text-align: right;\"> 0.958721</td><td style=\"text-align: right;\">1.53063 </td><td style=\"text-align: right;\">12.5547 </td></tr>\n",
       "<tr><td>evap  </td><td style=\"text-align: right;\"> 9.00294</td><td style=\"text-align: right;\"> 0.979189</td><td style=\"text-align: right;\">1.51772 </td><td style=\"text-align: right;\">14.2662 </td></tr>\n",
       "<tr><td>total </td><td style=\"text-align: right;\"> 0      </td><td style=\"text-align: right;\"> 0       </td><td style=\"text-align: right;\">7.94873 </td><td style=\"text-align: right;\"> 0      </td></tr>\n",
       "</tbody>\n",
       "</table>"
      ],
      "text/plain": [
       "name      deltaT    epsilon        UA         Q\n",
       "------  --------  ---------  --------  --------\n",
       "gen      6.08967   0.786755  2.50998   30.1429\n",
       "rect     8.00176   1.01782   0.179845   4.16229\n",
       "abs      7.07007   0.64625   2.21055   27.9168\n",
       "cond     7.97499   0.958721  1.53063   12.5547\n",
       "evap     9.00294   0.979189  1.51772   14.2662\n",
       "totalUA = 7.948726741998296"
      ]
     },
     "metadata": {},
     "output_type": "display_data"
    },
    {
     "name": "stdout",
     "output_type": "stream",
     "text": [
      "Second pass and we have this ... \n"
     ]
    },
    {
     "data": {
      "text/html": [
       "<table>\n",
       "<thead>\n",
       "<tr><th>name  </th><th style=\"text-align: right;\">  deltaT</th><th style=\"text-align: right;\">  epsilon</th><th style=\"text-align: right;\">      UA</th><th style=\"text-align: right;\">       Q</th></tr>\n",
       "</thead>\n",
       "<tbody>\n",
       "<tr><td>gen   </td><td style=\"text-align: right;\"> 6.9135 </td><td style=\"text-align: right;\"> 0.72621 </td><td style=\"text-align: right;\">2.10067 </td><td style=\"text-align: right;\">25.445  </td></tr>\n",
       "<tr><td>rect  </td><td style=\"text-align: right;\"> 8.69924</td><td style=\"text-align: right;\"> 1.01423 </td><td style=\"text-align: right;\">0.135235</td><td style=\"text-align: right;\"> 3.41181</td></tr>\n",
       "<tr><td>abs   </td><td style=\"text-align: right;\"> 8.08626</td><td style=\"text-align: right;\"> 0.578394</td><td style=\"text-align: right;\">1.81474 </td><td style=\"text-align: right;\">23.5947 </td></tr>\n",
       "<tr><td>cond  </td><td style=\"text-align: right;\"> 8.615  </td><td style=\"text-align: right;\"> 0.956522</td><td style=\"text-align: right;\">1.09293 </td><td style=\"text-align: right;\"> 9.59766</td></tr>\n",
       "<tr><td>evap  </td><td style=\"text-align: right;\">10.197  </td><td style=\"text-align: right;\"> 0.977092</td><td style=\"text-align: right;\">1.04106 </td><td style=\"text-align: right;\">10.929  </td></tr>\n",
       "<tr><td>total </td><td style=\"text-align: right;\"> 0      </td><td style=\"text-align: right;\"> 0       </td><td style=\"text-align: right;\">6.18463 </td><td style=\"text-align: right;\"> 0      </td></tr>\n",
       "</tbody>\n",
       "</table>"
      ],
      "text/plain": [
       "name      deltaT    epsilon        UA         Q\n",
       "------  --------  ---------  --------  --------\n",
       "gen      6.9135    0.72621   2.10067   25.445\n",
       "rect     8.69924   1.01423   0.135235   3.41181\n",
       "abs      8.08626   0.578394  1.81474   23.5947\n",
       "cond     8.615     0.956522  1.09293    9.59766\n",
       "evap    10.197     0.977092  1.04106   10.929\n",
       "totalUA = 6.184631217212026"
      ]
     },
     "metadata": {},
     "output_type": "display_data"
    },
    {
     "name": "stdout",
     "output_type": "stream",
     "text": [
      "Third pass and we have this ... \n"
     ]
    },
    {
     "data": {
      "text/html": [
       "<table>\n",
       "<thead>\n",
       "<tr><th>name  </th><th style=\"text-align: right;\">  deltaT</th><th style=\"text-align: right;\">  epsilon</th><th style=\"text-align: right;\">      UA</th><th style=\"text-align: right;\">       Q</th></tr>\n",
       "</thead>\n",
       "<tbody>\n",
       "<tr><td>gen   </td><td style=\"text-align: right;\"> 7.12759</td><td style=\"text-align: right;\"> 0.709015</td><td style=\"text-align: right;\">1.99605 </td><td style=\"text-align: right;\">24.2908 </td></tr>\n",
       "<tr><td>rect  </td><td style=\"text-align: right;\"> 8.84209</td><td style=\"text-align: right;\"> 1.0131  </td><td style=\"text-align: right;\">0.124978</td><td style=\"text-align: right;\"> 3.21281</td></tr>\n",
       "<tr><td>abs   </td><td style=\"text-align: right;\"> 8.34093</td><td style=\"text-align: right;\"> 0.560576</td><td style=\"text-align: right;\">1.72294 </td><td style=\"text-align: right;\">22.5468 </td></tr>\n",
       "<tr><td>cond  </td><td style=\"text-align: right;\"> 8.74473</td><td style=\"text-align: right;\"> 0.956092</td><td style=\"text-align: right;\">0.999226</td><td style=\"text-align: right;\"> 8.88994</td></tr>\n",
       "<tr><td>evap  </td><td style=\"text-align: right;\">10.48   </td><td style=\"text-align: right;\"> 0.976592</td><td style=\"text-align: right;\">0.941418</td><td style=\"text-align: right;\">10.1275 </td></tr>\n",
       "<tr><td>total </td><td style=\"text-align: right;\"> 0      </td><td style=\"text-align: right;\"> 0       </td><td style=\"text-align: right;\">5.78462 </td><td style=\"text-align: right;\"> 0      </td></tr>\n",
       "</tbody>\n",
       "</table>"
      ],
      "text/plain": [
       "name      deltaT    epsilon        UA         Q\n",
       "------  --------  ---------  --------  --------\n",
       "gen      7.12759   0.709015  1.99605   24.2908\n",
       "rect     8.84209   1.0131    0.124978   3.21281\n",
       "abs      8.34093   0.560576  1.72294   22.5468\n",
       "cond     8.74473   0.956092  0.999226   8.88994\n",
       "evap    10.48      0.976592  0.941418  10.1275\n",
       "totalUA = 5.784615179985783"
      ]
     },
     "metadata": {},
     "output_type": "display_data"
    },
    {
     "name": "stdout",
     "output_type": "stream",
     "text": [
      "Case 35, T_heat_reject = 318.15 K, Q_fraction = 1.0, Q_goal = 43.58900444494315\n",
      "Case 36, T_heat_reject = 318.15 K, Q_fraction = 0.95, Q_goal = 41.40955422269599\n",
      "First pass and we have this ... \n"
     ]
    },
    {
     "data": {
      "text/html": [
       "<table>\n",
       "<thead>\n",
       "<tr><th>name  </th><th style=\"text-align: right;\">  deltaT</th><th style=\"text-align: right;\">  epsilon</th><th style=\"text-align: right;\">       UA</th><th style=\"text-align: right;\">      Q</th></tr>\n",
       "</thead>\n",
       "<tbody>\n",
       "<tr><td>gen   </td><td style=\"text-align: right;\">0.750784</td><td style=\"text-align: right;\"> 0.96837 </td><td style=\"text-align: right;\">39.2066  </td><td style=\"text-align: right;\">95.2716</td></tr>\n",
       "<tr><td>rect  </td><td style=\"text-align: right;\">8.10293 </td><td style=\"text-align: right;\"> 0.863643</td><td style=\"text-align: right;\"> 0.450447</td><td style=\"text-align: right;\">10.9836</td></tr>\n",
       "<tr><td>abs   </td><td style=\"text-align: right;\">4.9843  </td><td style=\"text-align: right;\"> 0.700659</td><td style=\"text-align: right;\">11.3544  </td><td style=\"text-align: right;\">88.4882</td></tr>\n",
       "<tr><td>cond  </td><td style=\"text-align: right;\">5.36868 </td><td style=\"text-align: right;\"> 0.965172</td><td style=\"text-align: right;\"> 6.28032 </td><td style=\"text-align: right;\">38.1249</td></tr>\n",
       "<tr><td>evap  </td><td style=\"text-align: right;\">5.35809 </td><td style=\"text-align: right;\"> 0.983131</td><td style=\"text-align: right;\"> 6.37499 </td><td style=\"text-align: right;\">41.4131</td></tr>\n",
       "<tr><td>total </td><td style=\"text-align: right;\">0       </td><td style=\"text-align: right;\"> 0       </td><td style=\"text-align: right;\">63.6668  </td><td style=\"text-align: right;\"> 0     </td></tr>\n",
       "</tbody>\n",
       "</table>"
      ],
      "text/plain": [
       "name      deltaT    epsilon         UA        Q\n",
       "------  --------  ---------  ---------  -------\n",
       "gen     0.750784   0.96837   39.2066    95.2716\n",
       "rect    8.10293    0.863643   0.450447  10.9836\n",
       "abs     4.9843     0.700659  11.3544    88.4882\n",
       "cond    5.36868    0.965172   6.28032   38.1249\n",
       "evap    5.35809    0.983131   6.37499   41.4131\n",
       "totalUA = 63.666820278987046"
      ]
     },
     "metadata": {},
     "output_type": "display_data"
    },
    {
     "name": "stdout",
     "output_type": "stream",
     "text": [
      "Second pass and we have this ... \n"
     ]
    },
    {
     "data": {
      "text/html": [
       "<table>\n",
       "<thead>\n",
       "<tr><th>name  </th><th style=\"text-align: right;\">  deltaT</th><th style=\"text-align: right;\">  epsilon</th><th style=\"text-align: right;\">       UA</th><th style=\"text-align: right;\">      Q</th></tr>\n",
       "</thead>\n",
       "<tbody>\n",
       "<tr><td>gen   </td><td style=\"text-align: right;\">0.763847</td><td style=\"text-align: right;\"> 0.967823</td><td style=\"text-align: right;\">38.9276  </td><td style=\"text-align: right;\">95.2483</td></tr>\n",
       "<tr><td>rect  </td><td style=\"text-align: right;\">8.15366 </td><td style=\"text-align: right;\"> 0.862466</td><td style=\"text-align: right;\"> 0.448042</td><td style=\"text-align: right;\">10.9657</td></tr>\n",
       "<tr><td>abs   </td><td style=\"text-align: right;\">4.97156 </td><td style=\"text-align: right;\"> 0.701287</td><td style=\"text-align: right;\">11.3683  </td><td style=\"text-align: right;\">88.4673</td></tr>\n",
       "<tr><td>cond  </td><td style=\"text-align: right;\">5.36633 </td><td style=\"text-align: right;\"> 0.965194</td><td style=\"text-align: right;\"> 6.28489 </td><td style=\"text-align: right;\">38.1388</td></tr>\n",
       "<tr><td>evap  </td><td style=\"text-align: right;\">5.36267 </td><td style=\"text-align: right;\"> 0.983122</td><td style=\"text-align: right;\"> 6.37033 </td><td style=\"text-align: right;\">41.4122</td></tr>\n",
       "<tr><td>total </td><td style=\"text-align: right;\">0       </td><td style=\"text-align: right;\"> 0       </td><td style=\"text-align: right;\">63.3992  </td><td style=\"text-align: right;\"> 0     </td></tr>\n",
       "</tbody>\n",
       "</table>"
      ],
      "text/plain": [
       "name      deltaT    epsilon         UA        Q\n",
       "------  --------  ---------  ---------  -------\n",
       "gen     0.763847   0.967823  38.9276    95.2483\n",
       "rect    8.15366    0.862466   0.448042  10.9657\n",
       "abs     4.97156    0.701287  11.3683    88.4673\n",
       "cond    5.36633    0.965194   6.28489   38.1388\n",
       "evap    5.36267    0.983122   6.37033   41.4122\n",
       "totalUA = 63.399185287165906"
      ]
     },
     "metadata": {},
     "output_type": "display_data"
    },
    {
     "name": "stdout",
     "output_type": "stream",
     "text": [
      "Third pass and we have this ... \n"
     ]
    },
    {
     "data": {
      "text/html": [
       "<table>\n",
       "<thead>\n",
       "<tr><th>name  </th><th style=\"text-align: right;\">  deltaT</th><th style=\"text-align: right;\">  epsilon</th><th style=\"text-align: right;\">       UA</th><th style=\"text-align: right;\">      Q</th></tr>\n",
       "</thead>\n",
       "<tbody>\n",
       "<tr><td>gen   </td><td style=\"text-align: right;\">0.765949</td><td style=\"text-align: right;\"> 0.967736</td><td style=\"text-align: right;\">38.8796  </td><td style=\"text-align: right;\">95.2448</td></tr>\n",
       "<tr><td>rect  </td><td style=\"text-align: right;\">8.16271 </td><td style=\"text-align: right;\"> 0.862404</td><td style=\"text-align: right;\"> 0.447729</td><td style=\"text-align: right;\">10.9632</td></tr>\n",
       "<tr><td>abs   </td><td style=\"text-align: right;\">4.96921 </td><td style=\"text-align: right;\"> 0.70138 </td><td style=\"text-align: right;\">11.372   </td><td style=\"text-align: right;\">88.4656</td></tr>\n",
       "<tr><td>cond  </td><td style=\"text-align: right;\">5.3712  </td><td style=\"text-align: right;\"> 0.965176</td><td style=\"text-align: right;\"> 6.27989 </td><td style=\"text-align: right;\">38.1392</td></tr>\n",
       "<tr><td>evap  </td><td style=\"text-align: right;\">5.35942 </td><td style=\"text-align: right;\"> 0.983129</td><td style=\"text-align: right;\"> 6.37351 </td><td style=\"text-align: right;\">41.4118</td></tr>\n",
       "<tr><td>total </td><td style=\"text-align: right;\">0       </td><td style=\"text-align: right;\"> 0       </td><td style=\"text-align: right;\">63.3527  </td><td style=\"text-align: right;\"> 0     </td></tr>\n",
       "</tbody>\n",
       "</table>"
      ],
      "text/plain": [
       "name      deltaT    epsilon         UA        Q\n",
       "------  --------  ---------  ---------  -------\n",
       "gen     0.765949   0.967736  38.8796    95.2448\n",
       "rect    8.16271    0.862404   0.447729  10.9632\n",
       "abs     4.96921    0.70138   11.372     88.4656\n",
       "cond    5.3712     0.965176   6.27989   38.1392\n",
       "evap    5.35942    0.983129   6.37351   41.4118\n",
       "totalUA = 63.35268801928951"
      ]
     },
     "metadata": {},
     "output_type": "display_data"
    },
    {
     "name": "stdout",
     "output_type": "stream",
     "text": [
      "Case 37, T_heat_reject = 318.15 K, Q_fraction = 0.9, Q_goal = 39.23010400044883\n",
      "First pass and we have this ... \n"
     ]
    },
    {
     "data": {
      "text/html": [
       "<table>\n",
       "<thead>\n",
       "<tr><th>name  </th><th style=\"text-align: right;\">  deltaT</th><th style=\"text-align: right;\">  epsilon</th><th style=\"text-align: right;\">       UA</th><th style=\"text-align: right;\">      Q</th></tr>\n",
       "</thead>\n",
       "<tbody>\n",
       "<tr><td>gen   </td><td style=\"text-align: right;\"> 1.62295</td><td style=\"text-align: right;\"> 0.930369</td><td style=\"text-align: right;\">27.4006  </td><td style=\"text-align: right;\">90.5576</td></tr>\n",
       "<tr><td>rect  </td><td style=\"text-align: right;\"> 8.04606</td><td style=\"text-align: right;\"> 0.864843</td><td style=\"text-align: right;\"> 0.426644</td><td style=\"text-align: right;\">10.4559</td></tr>\n",
       "<tr><td>abs   </td><td style=\"text-align: right;\"> 4.94323</td><td style=\"text-align: right;\"> 0.702878</td><td style=\"text-align: right;\">10.6585  </td><td style=\"text-align: right;\">84.1115</td></tr>\n",
       "<tr><td>cond  </td><td style=\"text-align: right;\"> 5.45055</td><td style=\"text-align: right;\"> 0.965162</td><td style=\"text-align: right;\"> 5.93025 </td><td style=\"text-align: right;\">36.2758</td></tr>\n",
       "<tr><td>evap  </td><td style=\"text-align: right;\"> 5.47583</td><td style=\"text-align: right;\"> 0.983134</td><td style=\"text-align: right;\"> 6.00748 </td><td style=\"text-align: right;\">39.4209</td></tr>\n",
       "<tr><td>total </td><td style=\"text-align: right;\"> 0      </td><td style=\"text-align: right;\"> 0       </td><td style=\"text-align: right;\">50.4235  </td><td style=\"text-align: right;\"> 0     </td></tr>\n",
       "</tbody>\n",
       "</table>"
      ],
      "text/plain": [
       "name      deltaT    epsilon         UA        Q\n",
       "------  --------  ---------  ---------  -------\n",
       "gen      1.62295   0.930369  27.4006    90.5576\n",
       "rect     8.04606   0.864843   0.426644  10.4559\n",
       "abs      4.94323   0.702878  10.6585    84.1115\n",
       "cond     5.45055   0.965162   5.93025   36.2758\n",
       "evap     5.47583   0.983134   6.00748   39.4209\n",
       "totalUA = 50.42352107164624"
      ]
     },
     "metadata": {},
     "output_type": "display_data"
    },
    {
     "name": "stdout",
     "output_type": "stream",
     "text": [
      "Second pass and we have this ... \n"
     ]
    },
    {
     "data": {
      "text/html": [
       "<table>\n",
       "<thead>\n",
       "<tr><th>name  </th><th style=\"text-align: right;\">  deltaT</th><th style=\"text-align: right;\">  epsilon</th><th style=\"text-align: right;\">       UA</th><th style=\"text-align: right;\">      Q</th></tr>\n",
       "</thead>\n",
       "<tbody>\n",
       "<tr><td>gen   </td><td style=\"text-align: right;\"> 1.65965</td><td style=\"text-align: right;\"> 0.928671</td><td style=\"text-align: right;\">27.0359  </td><td style=\"text-align: right;\">90.2459</td></tr>\n",
       "<tr><td>rect  </td><td style=\"text-align: right;\"> 8.1435 </td><td style=\"text-align: right;\"> 0.863781</td><td style=\"text-align: right;\"> 0.420963</td><td style=\"text-align: right;\">10.3948</td></tr>\n",
       "<tr><td>abs   </td><td style=\"text-align: right;\"> 4.9096 </td><td style=\"text-align: right;\"> 0.704047</td><td style=\"text-align: right;\">10.6734  </td><td style=\"text-align: right;\">83.8333</td></tr>\n",
       "<tr><td>cond  </td><td style=\"text-align: right;\"> 5.49597</td><td style=\"text-align: right;\"> 0.965028</td><td style=\"text-align: right;\"> 5.863   </td><td style=\"text-align: right;\">36.1129</td></tr>\n",
       "<tr><td>evap  </td><td style=\"text-align: right;\"> 5.51188</td><td style=\"text-align: right;\"> 0.983083</td><td style=\"text-align: right;\"> 5.95008 </td><td style=\"text-align: right;\">39.2307</td></tr>\n",
       "<tr><td>total </td><td style=\"text-align: right;\"> 0      </td><td style=\"text-align: right;\"> 0       </td><td style=\"text-align: right;\">49.9434  </td><td style=\"text-align: right;\"> 0     </td></tr>\n",
       "</tbody>\n",
       "</table>"
      ],
      "text/plain": [
       "name      deltaT    epsilon         UA        Q\n",
       "------  --------  ---------  ---------  -------\n",
       "gen      1.65965   0.928671  27.0359    90.2459\n",
       "rect     8.1435    0.863781   0.420963  10.3948\n",
       "abs      4.9096    0.704047  10.6734    83.8333\n",
       "cond     5.49597   0.965028   5.863     36.1129\n",
       "evap     5.51188   0.983083   5.95008   39.2307\n",
       "totalUA = 49.94335930131228"
      ]
     },
     "metadata": {},
     "output_type": "display_data"
    },
    {
     "name": "stdout",
     "output_type": "stream",
     "text": [
      "Third pass and we have this ... \n"
     ]
    },
    {
     "data": {
      "text/html": [
       "<table>\n",
       "<thead>\n",
       "<tr><th>name  </th><th style=\"text-align: right;\">  deltaT</th><th style=\"text-align: right;\">  epsilon</th><th style=\"text-align: right;\">       UA</th><th style=\"text-align: right;\">      Q</th></tr>\n",
       "</thead>\n",
       "<tbody>\n",
       "<tr><td>gen   </td><td style=\"text-align: right;\"> 1.66448</td><td style=\"text-align: right;\"> 0.928458</td><td style=\"text-align: right;\">26.9941  </td><td style=\"text-align: right;\">90.221 </td></tr>\n",
       "<tr><td>rect  </td><td style=\"text-align: right;\"> 8.14912</td><td style=\"text-align: right;\"> 0.863653</td><td style=\"text-align: right;\"> 0.420586</td><td style=\"text-align: right;\">10.3903</td></tr>\n",
       "<tr><td>abs   </td><td style=\"text-align: right;\"> 4.90909</td><td style=\"text-align: right;\"> 0.704071</td><td style=\"text-align: right;\">10.6702  </td><td style=\"text-align: right;\">83.8103</td></tr>\n",
       "<tr><td>cond  </td><td style=\"text-align: right;\"> 5.49626</td><td style=\"text-align: right;\"> 0.965031</td><td style=\"text-align: right;\"> 5.86156 </td><td style=\"text-align: right;\">36.1048</td></tr>\n",
       "<tr><td>evap  </td><td style=\"text-align: right;\"> 5.51272</td><td style=\"text-align: right;\"> 0.983083</td><td style=\"text-align: right;\"> 5.94797 </td><td style=\"text-align: right;\">39.2202</td></tr>\n",
       "<tr><td>total </td><td style=\"text-align: right;\"> 0      </td><td style=\"text-align: right;\"> 0       </td><td style=\"text-align: right;\">49.8944  </td><td style=\"text-align: right;\"> 0     </td></tr>\n",
       "</tbody>\n",
       "</table>"
      ],
      "text/plain": [
       "name      deltaT    epsilon         UA        Q\n",
       "------  --------  ---------  ---------  -------\n",
       "gen      1.66448   0.928458  26.9941    90.221\n",
       "rect     8.14912   0.863653   0.420586  10.3903\n",
       "abs      4.90909   0.704071  10.6702    83.8103\n",
       "cond     5.49626   0.965031   5.86156   36.1048\n",
       "evap     5.51272   0.983083   5.94797   39.2202\n",
       "totalUA = 49.89444016616152"
      ]
     },
     "metadata": {},
     "output_type": "display_data"
    },
    {
     "name": "stdout",
     "output_type": "stream",
     "text": [
      "Case 38, T_heat_reject = 318.15 K, Q_fraction = 0.8, Q_goal = 34.87120355595452\n",
      "First pass and we have this ... \n"
     ]
    },
    {
     "data": {
      "text/html": [
       "<table>\n",
       "<thead>\n",
       "<tr><th>name  </th><th style=\"text-align: right;\">  deltaT</th><th style=\"text-align: right;\">  epsilon</th><th style=\"text-align: right;\">       UA</th><th style=\"text-align: right;\">       Q</th></tr>\n",
       "</thead>\n",
       "<tbody>\n",
       "<tr><td>gen   </td><td style=\"text-align: right;\"> 3.4915 </td><td style=\"text-align: right;\"> 0.845982</td><td style=\"text-align: right;\">17.0655  </td><td style=\"text-align: right;\">80.1449 </td></tr>\n",
       "<tr><td>rect  </td><td style=\"text-align: right;\"> 8.07557</td><td style=\"text-align: right;\"> 0.862855</td><td style=\"text-align: right;\"> 0.367854</td><td style=\"text-align: right;\"> 9.24654</td></tr>\n",
       "<tr><td>abs   </td><td style=\"text-align: right;\"> 5.00255</td><td style=\"text-align: right;\"> 0.700642</td><td style=\"text-align: right;\"> 9.01722 </td><td style=\"text-align: right;\">74.4264 </td></tr>\n",
       "<tr><td>cond  </td><td style=\"text-align: right;\"> 5.59056</td><td style=\"text-align: right;\"> 1.10069 </td><td style=\"text-align: right;\"> 5.20966 </td><td style=\"text-align: right;\">32.185  </td></tr>\n",
       "<tr><td>evap  </td><td style=\"text-align: right;\"> 5.69834</td><td style=\"text-align: right;\"> 0.983225</td><td style=\"text-align: right;\"> 5.24338 </td><td style=\"text-align: right;\">34.9506 </td></tr>\n",
       "<tr><td>total </td><td style=\"text-align: right;\"> 0      </td><td style=\"text-align: right;\"> 0       </td><td style=\"text-align: right;\">36.9036  </td><td style=\"text-align: right;\"> 0      </td></tr>\n",
       "</tbody>\n",
       "</table>"
      ],
      "text/plain": [
       "name      deltaT    epsilon         UA         Q\n",
       "------  --------  ---------  ---------  --------\n",
       "gen      3.4915    0.845982  17.0655    80.1449\n",
       "rect     8.07557   0.862855   0.367854   9.24654\n",
       "abs      5.00255   0.700642   9.01722   74.4264\n",
       "cond     5.59056   1.10069    5.20966   32.185\n",
       "evap     5.69834   0.983225   5.24338   34.9506\n",
       "totalUA = 36.90357433033905"
      ]
     },
     "metadata": {},
     "output_type": "display_data"
    },
    {
     "name": "stdout",
     "output_type": "stream",
     "text": [
      "Second pass and we have this ... \n"
     ]
    },
    {
     "data": {
      "text/html": [
       "<table>\n",
       "<thead>\n",
       "<tr><th>name  </th><th style=\"text-align: right;\">  deltaT</th><th style=\"text-align: right;\">  epsilon</th><th style=\"text-align: right;\">       UA</th><th style=\"text-align: right;\">       Q</th></tr>\n",
       "</thead>\n",
       "<tbody>\n",
       "<tr><td>gen   </td><td style=\"text-align: right;\"> 3.54588</td><td style=\"text-align: right;\"> 0.843767</td><td style=\"text-align: right;\">16.8792  </td><td style=\"text-align: right;\">80.0289 </td></tr>\n",
       "<tr><td>rect  </td><td style=\"text-align: right;\"> 8.14935</td><td style=\"text-align: right;\"> 0.861969</td><td style=\"text-align: right;\"> 0.365107</td><td style=\"text-align: right;\"> 9.21474</td></tr>\n",
       "<tr><td>abs   </td><td style=\"text-align: right;\"> 4.93357</td><td style=\"text-align: right;\"> 0.703806</td><td style=\"text-align: right;\"> 9.08162 </td><td style=\"text-align: right;\">74.3304 </td></tr>\n",
       "<tr><td>cond  </td><td style=\"text-align: right;\"> 5.61906</td><td style=\"text-align: right;\"> 1.0976  </td><td style=\"text-align: right;\"> 5.18296 </td><td style=\"text-align: right;\">32.1662 </td></tr>\n",
       "<tr><td>evap  </td><td style=\"text-align: right;\"> 5.70746</td><td style=\"text-align: right;\"> 0.983209</td><td style=\"text-align: right;\"> 5.23237 </td><td style=\"text-align: right;\">34.9212 </td></tr>\n",
       "<tr><td>total </td><td style=\"text-align: right;\"> 0      </td><td style=\"text-align: right;\"> 0       </td><td style=\"text-align: right;\">36.7412  </td><td style=\"text-align: right;\"> 0      </td></tr>\n",
       "</tbody>\n",
       "</table>"
      ],
      "text/plain": [
       "name      deltaT    epsilon         UA         Q\n",
       "------  --------  ---------  ---------  --------\n",
       "gen      3.54588   0.843767  16.8792    80.0289\n",
       "rect     8.14935   0.861969   0.365107   9.21474\n",
       "abs      4.93357   0.703806   9.08162   74.3304\n",
       "cond     5.61906   1.0976     5.18296   32.1662\n",
       "evap     5.70746   0.983209   5.23237   34.9212\n",
       "totalUA = 36.7412216954468"
      ]
     },
     "metadata": {},
     "output_type": "display_data"
    },
    {
     "name": "stdout",
     "output_type": "stream",
     "text": [
      "Third pass and we have this ... \n"
     ]
    },
    {
     "data": {
      "text/html": [
       "<table>\n",
       "<thead>\n",
       "<tr><th>name  </th><th style=\"text-align: right;\">  deltaT</th><th style=\"text-align: right;\">  epsilon</th><th style=\"text-align: right;\">       UA</th><th style=\"text-align: right;\">       Q</th></tr>\n",
       "</thead>\n",
       "<tbody>\n",
       "<tr><td>gen   </td><td style=\"text-align: right;\"> 3.5421 </td><td style=\"text-align: right;\"> 0.843824</td><td style=\"text-align: right;\">16.8697  </td><td style=\"text-align: right;\">79.978  </td></tr>\n",
       "<tr><td>rect  </td><td style=\"text-align: right;\"> 8.16238</td><td style=\"text-align: right;\"> 0.862079</td><td style=\"text-align: right;\"> 0.364387</td><td style=\"text-align: right;\"> 9.20597</td></tr>\n",
       "<tr><td>abs   </td><td style=\"text-align: right;\"> 4.93521</td><td style=\"text-align: right;\"> 0.703513</td><td style=\"text-align: right;\"> 9.0793  </td><td style=\"text-align: right;\">74.2864 </td></tr>\n",
       "<tr><td>cond  </td><td style=\"text-align: right;\"> 5.63444</td><td style=\"text-align: right;\"> 1.09628 </td><td style=\"text-align: right;\"> 5.16348 </td><td style=\"text-align: right;\">32.1205 </td></tr>\n",
       "<tr><td>evap  </td><td style=\"text-align: right;\"> 5.71367</td><td style=\"text-align: right;\"> 0.983202</td><td style=\"text-align: right;\"> 5.22128 </td><td style=\"text-align: right;\">34.873  </td></tr>\n",
       "<tr><td>total </td><td style=\"text-align: right;\"> 0      </td><td style=\"text-align: right;\"> 0       </td><td style=\"text-align: right;\">36.6981  </td><td style=\"text-align: right;\"> 0      </td></tr>\n",
       "</tbody>\n",
       "</table>"
      ],
      "text/plain": [
       "name      deltaT    epsilon         UA         Q\n",
       "------  --------  ---------  ---------  --------\n",
       "gen      3.5421    0.843824  16.8697    79.978\n",
       "rect     8.16238   0.862079   0.364387   9.20597\n",
       "abs      4.93521   0.703513   9.0793    74.2864\n",
       "cond     5.63444   1.09628    5.16348   32.1205\n",
       "evap     5.71367   0.983202   5.22128   34.873\n",
       "totalUA = 36.698127532304255"
      ]
     },
     "metadata": {},
     "output_type": "display_data"
    },
    {
     "name": "stdout",
     "output_type": "stream",
     "text": [
      "Case 39, T_heat_reject = 318.15 K, Q_fraction = 0.5, Q_goal = 21.794502222471575\n",
      "First pass and we have this ... \n"
     ]
    },
    {
     "data": {
      "text/html": [
       "<table>\n",
       "<thead>\n",
       "<tr><th>name  </th><th style=\"text-align: right;\">  deltaT</th><th style=\"text-align: right;\">  epsilon</th><th style=\"text-align: right;\">       UA</th><th style=\"text-align: right;\">       Q</th></tr>\n",
       "</thead>\n",
       "<tbody>\n",
       "<tr><td>gen   </td><td style=\"text-align: right;\"> 4.68903</td><td style=\"text-align: right;\"> 0.800629</td><td style=\"text-align: right;\"> 6.52436 </td><td style=\"text-align: right;\">50.0261 </td></tr>\n",
       "<tr><td>rect  </td><td style=\"text-align: right;\"> 8.10656</td><td style=\"text-align: right;\"> 0.863116</td><td style=\"text-align: right;\"> 0.215739</td><td style=\"text-align: right;\"> 5.77336</td></tr>\n",
       "<tr><td>abs   </td><td style=\"text-align: right;\"> 4.95842</td><td style=\"text-align: right;\"> 0.702848</td><td style=\"text-align: right;\"> 5.15285 </td><td style=\"text-align: right;\">46.457  </td></tr>\n",
       "<tr><td>cond  </td><td style=\"text-align: right;\"> 6.1643 </td><td style=\"text-align: right;\"> 1.19506 </td><td style=\"text-align: right;\"> 3.08185 </td><td style=\"text-align: right;\">20.0828 </td></tr>\n",
       "<tr><td>evap  </td><td style=\"text-align: right;\"> 6.5188 </td><td style=\"text-align: right;\"> 0.983156</td><td style=\"text-align: right;\"> 3.06124 </td><td style=\"text-align: right;\">21.8111 </td></tr>\n",
       "<tr><td>total </td><td style=\"text-align: right;\"> 0      </td><td style=\"text-align: right;\"> 0       </td><td style=\"text-align: right;\">18.036   </td><td style=\"text-align: right;\"> 0      </td></tr>\n",
       "</tbody>\n",
       "</table>"
      ],
      "text/plain": [
       "name      deltaT    epsilon        UA         Q\n",
       "------  --------  ---------  --------  --------\n",
       "gen      4.68903   0.800629  6.52436   50.0261\n",
       "rect     8.10656   0.863116  0.215739   5.77336\n",
       "abs      4.95842   0.702848  5.15285   46.457\n",
       "cond     6.1643    1.19506   3.08185   20.0828\n",
       "evap     6.5188    0.983156  3.06124   21.8111\n",
       "totalUA = 18.036043951616545"
      ]
     },
     "metadata": {},
     "output_type": "display_data"
    },
    {
     "name": "stdout",
     "output_type": "stream",
     "text": [
      "Second pass and we have this ... \n"
     ]
    },
    {
     "data": {
      "text/html": [
       "<table>\n",
       "<thead>\n",
       "<tr><th>name  </th><th style=\"text-align: right;\">  deltaT</th><th style=\"text-align: right;\">  epsilon</th><th style=\"text-align: right;\">       UA</th><th style=\"text-align: right;\">      Q</th></tr>\n",
       "</thead>\n",
       "<tbody>\n",
       "<tr><td>gen   </td><td style=\"text-align: right;\"> 4.70545</td><td style=\"text-align: right;\"> 0.800795</td><td style=\"text-align: right;\"> 6.46548 </td><td style=\"text-align: right;\">49.9173</td></tr>\n",
       "<tr><td>rect  </td><td style=\"text-align: right;\"> 8.18611</td><td style=\"text-align: right;\"> 0.862044</td><td style=\"text-align: right;\"> 0.214191</td><td style=\"text-align: right;\"> 5.7509</td></tr>\n",
       "<tr><td>abs   </td><td style=\"text-align: right;\"> 4.8898 </td><td style=\"text-align: right;\"> 0.706448</td><td style=\"text-align: right;\"> 5.17632 </td><td style=\"text-align: right;\">46.3621</td></tr>\n",
       "<tr><td>cond  </td><td style=\"text-align: right;\"> 6.18991</td><td style=\"text-align: right;\"> 1.18936 </td><td style=\"text-align: right;\"> 3.0718  </td><td style=\"text-align: right;\">20.0975</td></tr>\n",
       "<tr><td>evap  </td><td style=\"text-align: right;\"> 6.48562</td><td style=\"text-align: right;\"> 0.983219</td><td style=\"text-align: right;\"> 3.07672 </td><td style=\"text-align: right;\">21.8197</td></tr>\n",
       "<tr><td>total </td><td style=\"text-align: right;\"> 0      </td><td style=\"text-align: right;\"> 0       </td><td style=\"text-align: right;\">18.0045  </td><td style=\"text-align: right;\"> 0     </td></tr>\n",
       "</tbody>\n",
       "</table>"
      ],
      "text/plain": [
       "name      deltaT    epsilon        UA        Q\n",
       "------  --------  ---------  --------  -------\n",
       "gen      4.70545   0.800795  6.46548   49.9173\n",
       "rect     8.18611   0.862044  0.214191   5.7509\n",
       "abs      4.8898    0.706448  5.17632   46.3621\n",
       "cond     6.18991   1.18936   3.0718    20.0975\n",
       "evap     6.48562   0.983219  3.07672   21.8197\n",
       "totalUA = 18.004515230036887"
      ]
     },
     "metadata": {},
     "output_type": "display_data"
    },
    {
     "name": "stdout",
     "output_type": "stream",
     "text": [
      "Third pass and we have this ... \n"
     ]
    },
    {
     "data": {
      "text/html": [
       "<table>\n",
       "<thead>\n",
       "<tr><th>name  </th><th style=\"text-align: right;\">  deltaT</th><th style=\"text-align: right;\">  epsilon</th><th style=\"text-align: right;\">       UA</th><th style=\"text-align: right;\">       Q</th></tr>\n",
       "</thead>\n",
       "<tbody>\n",
       "<tr><td>gen   </td><td style=\"text-align: right;\"> 4.70625</td><td style=\"text-align: right;\"> 0.800627</td><td style=\"text-align: right;\"> 6.46232 </td><td style=\"text-align: right;\">49.8851 </td></tr>\n",
       "<tr><td>rect  </td><td style=\"text-align: right;\"> 8.19674</td><td style=\"text-align: right;\"> 0.862112</td><td style=\"text-align: right;\"> 0.213846</td><td style=\"text-align: right;\"> 5.74591</td></tr>\n",
       "<tr><td>abs   </td><td style=\"text-align: right;\"> 4.8902 </td><td style=\"text-align: right;\"> 0.70629 </td><td style=\"text-align: right;\"> 5.17448 </td><td style=\"text-align: right;\">46.3335 </td></tr>\n",
       "<tr><td>cond  </td><td style=\"text-align: right;\"> 6.20094</td><td style=\"text-align: right;\"> 1.18759 </td><td style=\"text-align: right;\"> 3.06327 </td><td style=\"text-align: right;\">20.0741 </td></tr>\n",
       "<tr><td>evap  </td><td style=\"text-align: right;\"> 6.4896 </td><td style=\"text-align: right;\"> 0.983214</td><td style=\"text-align: right;\"> 3.07178 </td><td style=\"text-align: right;\">21.7948 </td></tr>\n",
       "<tr><td>total </td><td style=\"text-align: right;\"> 0      </td><td style=\"text-align: right;\"> 0       </td><td style=\"text-align: right;\">17.9857  </td><td style=\"text-align: right;\"> 0      </td></tr>\n",
       "</tbody>\n",
       "</table>"
      ],
      "text/plain": [
       "name      deltaT    epsilon        UA         Q\n",
       "------  --------  ---------  --------  --------\n",
       "gen      4.70625   0.800627  6.46232   49.8851\n",
       "rect     8.19674   0.862112  0.213846   5.74591\n",
       "abs      4.8902    0.70629   5.17448   46.3335\n",
       "cond     6.20094   1.18759   3.06327   20.0741\n",
       "evap     6.4896    0.983214  3.07178   21.7948\n",
       "totalUA = 17.985698562879783"
      ]
     },
     "metadata": {},
     "output_type": "display_data"
    },
    {
     "name": "stdout",
     "output_type": "stream",
     "text": [
      "Case 40, T_heat_reject = 318.15 K, Q_fraction = 0.2, Q_goal = 8.71780088898863\n",
      "First pass and we have this ... \n"
     ]
    },
    {
     "data": {
      "text/html": [
       "<table>\n",
       "<thead>\n",
       "<tr><th>name  </th><th style=\"text-align: right;\">  deltaT</th><th style=\"text-align: right;\">  epsilon</th><th style=\"text-align: right;\">       UA</th><th style=\"text-align: right;\">       Q</th></tr>\n",
       "</thead>\n",
       "<tbody>\n",
       "<tr><td>gen   </td><td style=\"text-align: right;\"> 5.42935</td><td style=\"text-align: right;\"> 0.742617</td><td style=\"text-align: right;\">2.22971  </td><td style=\"text-align: right;\">22.2586 </td></tr>\n",
       "<tr><td>rect  </td><td style=\"text-align: right;\"> 8.04966</td><td style=\"text-align: right;\"> 0.894059</td><td style=\"text-align: right;\">0.0903903</td><td style=\"text-align: right;\"> 2.51127</td></tr>\n",
       "<tr><td>abs   </td><td style=\"text-align: right;\"> 5.64901</td><td style=\"text-align: right;\"> 0.642752</td><td style=\"text-align: right;\">2.1133   </td><td style=\"text-align: right;\">20.7765 </td></tr>\n",
       "<tr><td>cond  </td><td style=\"text-align: right;\"> 7.28601</td><td style=\"text-align: right;\"> 1.39621 </td><td style=\"text-align: right;\">1.07412  </td><td style=\"text-align: right;\"> 7.95212</td></tr>\n",
       "<tr><td>evap  </td><td style=\"text-align: right;\"> 7.91761</td><td style=\"text-align: right;\"> 0.981888</td><td style=\"text-align: right;\">1.07108  </td><td style=\"text-align: right;\"> 8.72753</td></tr>\n",
       "<tr><td>total </td><td style=\"text-align: right;\"> 0      </td><td style=\"text-align: right;\"> 0       </td><td style=\"text-align: right;\">6.57861  </td><td style=\"text-align: right;\"> 0      </td></tr>\n",
       "</tbody>\n",
       "</table>"
      ],
      "text/plain": [
       "name      deltaT    epsilon         UA         Q\n",
       "------  --------  ---------  ---------  --------\n",
       "gen      5.42935   0.742617  2.22971    22.2586\n",
       "rect     8.04966   0.894059  0.0903903   2.51127\n",
       "abs      5.64901   0.642752  2.1133     20.7765\n",
       "cond     7.28601   1.39621   1.07412     7.95212\n",
       "evap     7.91761   0.981888  1.07108     8.72753\n",
       "totalUA = 6.57860511290218"
      ]
     },
     "metadata": {},
     "output_type": "display_data"
    },
    {
     "name": "stdout",
     "output_type": "stream",
     "text": [
      "Second pass and we have this ... \n"
     ]
    },
    {
     "data": {
      "text/html": [
       "<table>\n",
       "<thead>\n",
       "<tr><th>name  </th><th style=\"text-align: right;\">  deltaT</th><th style=\"text-align: right;\">  epsilon</th><th style=\"text-align: right;\">      UA</th><th style=\"text-align: right;\">       Q</th></tr>\n",
       "</thead>\n",
       "<tbody>\n",
       "<tr><td>gen   </td><td style=\"text-align: right;\"> 5.43119</td><td style=\"text-align: right;\"> 0.742428</td><td style=\"text-align: right;\">2.22835 </td><td style=\"text-align: right;\">22.2457 </td></tr>\n",
       "<tr><td>rect  </td><td style=\"text-align: right;\"> 8.12801</td><td style=\"text-align: right;\"> 0.886635</td><td style=\"text-align: right;\">0.087601</td><td style=\"text-align: right;\"> 2.48877</td></tr>\n",
       "<tr><td>abs   </td><td style=\"text-align: right;\"> 5.6577 </td><td style=\"text-align: right;\"> 0.642276</td><td style=\"text-align: right;\">2.11042 </td><td style=\"text-align: right;\">20.7646 </td></tr>\n",
       "<tr><td>cond  </td><td style=\"text-align: right;\"> 7.28332</td><td style=\"text-align: right;\"> 1.39687 </td><td style=\"text-align: right;\">1.07608 </td><td style=\"text-align: right;\"> 7.96527</td></tr>\n",
       "<tr><td>evap  </td><td style=\"text-align: right;\"> 7.91905</td><td style=\"text-align: right;\"> 0.981886</td><td style=\"text-align: right;\">1.06989 </td><td style=\"text-align: right;\"> 8.71916</td></tr>\n",
       "<tr><td>total </td><td style=\"text-align: right;\"> 0      </td><td style=\"text-align: right;\"> 0       </td><td style=\"text-align: right;\">6.57234 </td><td style=\"text-align: right;\"> 0      </td></tr>\n",
       "</tbody>\n",
       "</table>"
      ],
      "text/plain": [
       "name      deltaT    epsilon        UA         Q\n",
       "------  --------  ---------  --------  --------\n",
       "gen      5.43119   0.742428  2.22835   22.2457\n",
       "rect     8.12801   0.886635  0.087601   2.48877\n",
       "abs      5.6577    0.642276  2.11042   20.7646\n",
       "cond     7.28332   1.39687   1.07608    7.96527\n",
       "evap     7.91905   0.981886  1.06989    8.71916\n",
       "totalUA = 6.5723405279765075"
      ]
     },
     "metadata": {},
     "output_type": "display_data"
    },
    {
     "name": "stdout",
     "output_type": "stream",
     "text": [
      "Third pass and we have this ... \n"
     ]
    },
    {
     "data": {
      "text/html": [
       "<table>\n",
       "<thead>\n",
       "<tr><th>name  </th><th style=\"text-align: right;\">  deltaT</th><th style=\"text-align: right;\">  epsilon</th><th style=\"text-align: right;\">       UA</th><th style=\"text-align: right;\">       Q</th></tr>\n",
       "</thead>\n",
       "<tbody>\n",
       "<tr><td>gen   </td><td style=\"text-align: right;\"> 5.43174</td><td style=\"text-align: right;\"> 0.742385</td><td style=\"text-align: right;\">2.22806  </td><td style=\"text-align: right;\">22.2435 </td></tr>\n",
       "<tr><td>rect  </td><td style=\"text-align: right;\"> 8.13962</td><td style=\"text-align: right;\"> 0.886022</td><td style=\"text-align: right;\">0.0873649</td><td style=\"text-align: right;\"> 2.48672</td></tr>\n",
       "<tr><td>abs   </td><td style=\"text-align: right;\"> 5.65862</td><td style=\"text-align: right;\"> 0.642216</td><td style=\"text-align: right;\">2.11007  </td><td style=\"text-align: right;\">20.7625 </td></tr>\n",
       "<tr><td>cond  </td><td style=\"text-align: right;\"> 7.28311</td><td style=\"text-align: right;\"> 1.39699 </td><td style=\"text-align: right;\">1.07613  </td><td style=\"text-align: right;\"> 7.96557</td></tr>\n",
       "<tr><td>evap  </td><td style=\"text-align: right;\"> 7.91958</td><td style=\"text-align: right;\"> 0.981885</td><td style=\"text-align: right;\">1.06964  </td><td style=\"text-align: right;\"> 8.71762</td></tr>\n",
       "<tr><td>total </td><td style=\"text-align: right;\"> 0      </td><td style=\"text-align: right;\"> 0       </td><td style=\"text-align: right;\">6.57127  </td><td style=\"text-align: right;\"> 0      </td></tr>\n",
       "</tbody>\n",
       "</table>"
      ],
      "text/plain": [
       "name      deltaT    epsilon         UA         Q\n",
       "------  --------  ---------  ---------  --------\n",
       "gen      5.43174   0.742385  2.22806    22.2435\n",
       "rect     8.13962   0.886022  0.0873649   2.48672\n",
       "abs      5.65862   0.642216  2.11007    20.7625\n",
       "cond     7.28311   1.39699   1.07613     7.96557\n",
       "evap     7.91958   0.981885  1.06964     8.71762\n",
       "totalUA = 6.571274192417988"
      ]
     },
     "metadata": {},
     "output_type": "display_data"
    },
    {
     "name": "stdout",
     "output_type": "stream",
     "text": [
      "Case 41, T_heat_reject = 318.15 K, Q_fraction = 0.1, Q_goal = 4.358900444494315\n",
      "First pass and we have this ... \n"
     ]
    },
    {
     "data": {
      "text/html": [
       "<table>\n",
       "<thead>\n",
       "<tr><th>name  </th><th style=\"text-align: right;\">  deltaT</th><th style=\"text-align: right;\">  epsilon</th><th style=\"text-align: right;\">       UA</th><th style=\"text-align: right;\">       Q</th></tr>\n",
       "</thead>\n",
       "<tbody>\n",
       "<tr><td>gen   </td><td style=\"text-align: right;\"> 6.53143</td><td style=\"text-align: right;\"> 0.619818</td><td style=\"text-align: right;\">1.47247  </td><td style=\"text-align: right;\">15.8029 </td></tr>\n",
       "<tr><td>rect  </td><td style=\"text-align: right;\"> 8.7315 </td><td style=\"text-align: right;\"> 1.02684 </td><td style=\"text-align: right;\">0.0574368</td><td style=\"text-align: right;\"> 1.55455</td></tr>\n",
       "<tr><td>abs   </td><td style=\"text-align: right;\"> 6.80222</td><td style=\"text-align: right;\"> 0.523999</td><td style=\"text-align: right;\">1.50735  </td><td style=\"text-align: right;\">15.0934 </td></tr>\n",
       "<tr><td>cond  </td><td style=\"text-align: right;\"> 8.43627</td><td style=\"text-align: right;\"> 1.36371 </td><td style=\"text-align: right;\">0.445883 </td><td style=\"text-align: right;\"> 3.78106</td></tr>\n",
       "<tr><td>evap  </td><td style=\"text-align: right;\"> 9.2045 </td><td style=\"text-align: right;\"> 0.97974 </td><td style=\"text-align: right;\">0.468666 </td><td style=\"text-align: right;\"> 4.36257</td></tr>\n",
       "<tr><td>total </td><td style=\"text-align: right;\"> 0      </td><td style=\"text-align: right;\"> 0       </td><td style=\"text-align: right;\">3.95181  </td><td style=\"text-align: right;\"> 0      </td></tr>\n",
       "</tbody>\n",
       "</table>"
      ],
      "text/plain": [
       "name      deltaT    epsilon         UA         Q\n",
       "------  --------  ---------  ---------  --------\n",
       "gen      6.53143   0.619818  1.47247    15.8029\n",
       "rect     8.7315    1.02684   0.0574368   1.55455\n",
       "abs      6.80222   0.523999  1.50735    15.0934\n",
       "cond     8.43627   1.36371   0.445883    3.78106\n",
       "evap     9.2045    0.97974   0.468666    4.36257\n",
       "totalUA = 3.9518057371812763"
      ]
     },
     "metadata": {},
     "output_type": "display_data"
    },
    {
     "name": "stdout",
     "output_type": "stream",
     "text": [
      "Second pass and we have this ... \n"
     ]
    },
    {
     "data": {
      "text/html": [
       "<table>\n",
       "<thead>\n",
       "<tr><th>name  </th><th style=\"text-align: right;\">  deltaT</th><th style=\"text-align: right;\">  epsilon</th><th style=\"text-align: right;\">      UA</th><th style=\"text-align: right;\">       Q</th></tr>\n",
       "</thead>\n",
       "<tbody>\n",
       "<tr><td>gen   </td><td style=\"text-align: right;\"> 6.53001</td><td style=\"text-align: right;\"> 0.619788</td><td style=\"text-align: right;\">1.47223 </td><td style=\"text-align: right;\">15.7978 </td></tr>\n",
       "<tr><td>rect  </td><td style=\"text-align: right;\"> 8.72948</td><td style=\"text-align: right;\"> 1.02675 </td><td style=\"text-align: right;\">0.057402</td><td style=\"text-align: right;\"> 1.55359</td></tr>\n",
       "<tr><td>abs   </td><td style=\"text-align: right;\"> 6.80664</td><td style=\"text-align: right;\"> 0.52377 </td><td style=\"text-align: right;\">1.5063  </td><td style=\"text-align: right;\">15.0888 </td></tr>\n",
       "<tr><td>cond  </td><td style=\"text-align: right;\"> 8.43427</td><td style=\"text-align: right;\"> 1.36521 </td><td style=\"text-align: right;\">0.445653</td><td style=\"text-align: right;\"> 3.77819</td></tr>\n",
       "<tr><td>evap  </td><td style=\"text-align: right;\"> 9.20653</td><td style=\"text-align: right;\"> 0.979737</td><td style=\"text-align: right;\">0.468211</td><td style=\"text-align: right;\"> 4.35923</td></tr>\n",
       "<tr><td>total </td><td style=\"text-align: right;\"> 0      </td><td style=\"text-align: right;\"> 0       </td><td style=\"text-align: right;\">3.94979 </td><td style=\"text-align: right;\"> 0      </td></tr>\n",
       "</tbody>\n",
       "</table>"
      ],
      "text/plain": [
       "name      deltaT    epsilon        UA         Q\n",
       "------  --------  ---------  --------  --------\n",
       "gen      6.53001   0.619788  1.47223   15.7978\n",
       "rect     8.72948   1.02675   0.057402   1.55359\n",
       "abs      6.80664   0.52377   1.5063    15.0888\n",
       "cond     8.43427   1.36521   0.445653   3.77819\n",
       "evap     9.20653   0.979737  0.468211   4.35923\n",
       "totalUA = 3.9497946087186273"
      ]
     },
     "metadata": {},
     "output_type": "display_data"
    },
    {
     "name": "stdout",
     "output_type": "stream",
     "text": [
      "Third pass and we have this ... \n"
     ]
    },
    {
     "data": {
      "text/html": [
       "<table>\n",
       "<thead>\n",
       "<tr><th>name  </th><th style=\"text-align: right;\">  deltaT</th><th style=\"text-align: right;\">  epsilon</th><th style=\"text-align: right;\">       UA</th><th style=\"text-align: right;\">       Q</th></tr>\n",
       "</thead>\n",
       "<tbody>\n",
       "<tr><td>gen   </td><td style=\"text-align: right;\"> 6.53011</td><td style=\"text-align: right;\"> 0.619774</td><td style=\"text-align: right;\">1.47215  </td><td style=\"text-align: right;\">15.7972 </td></tr>\n",
       "<tr><td>rect  </td><td style=\"text-align: right;\"> 8.72974</td><td style=\"text-align: right;\"> 1.02676 </td><td style=\"text-align: right;\">0.0573956</td><td style=\"text-align: right;\"> 1.55345</td></tr>\n",
       "<tr><td>abs   </td><td style=\"text-align: right;\"> 6.80659</td><td style=\"text-align: right;\"> 0.523763</td><td style=\"text-align: right;\">1.50627  </td><td style=\"text-align: right;\">15.0883 </td></tr>\n",
       "<tr><td>cond  </td><td style=\"text-align: right;\"> 8.43452</td><td style=\"text-align: right;\"> 1.36515 </td><td style=\"text-align: right;\">0.445596 </td><td style=\"text-align: right;\"> 3.77781</td></tr>\n",
       "<tr><td>evap  </td><td style=\"text-align: right;\"> 9.20667</td><td style=\"text-align: right;\"> 0.979736</td><td style=\"text-align: right;\">0.468158 </td><td style=\"text-align: right;\"> 4.3588 </td></tr>\n",
       "<tr><td>total </td><td style=\"text-align: right;\"> 0      </td><td style=\"text-align: right;\"> 0       </td><td style=\"text-align: right;\">3.94957  </td><td style=\"text-align: right;\"> 0      </td></tr>\n",
       "</tbody>\n",
       "</table>"
      ],
      "text/plain": [
       "name      deltaT    epsilon         UA         Q\n",
       "------  --------  ---------  ---------  --------\n",
       "gen      6.53011   0.619774  1.47215    15.7972\n",
       "rect     8.72974   1.02676   0.0573956   1.55345\n",
       "abs      6.80659   0.523763  1.50627    15.0883\n",
       "cond     8.43452   1.36515   0.445596    3.77781\n",
       "evap     9.20667   0.979736  0.468158    4.3588\n",
       "totalUA = 3.949574300817196"
      ]
     },
     "metadata": {},
     "output_type": "display_data"
    },
    {
     "name": "stdout",
     "output_type": "stream",
     "text": [
      "Case 42, T_heat_reject = 323.15 K, Q_fraction = 1.0, Q_goal = 13.745885490702227\n",
      "Case 43, T_heat_reject = 323.15 K, Q_fraction = 0.95, Q_goal = 13.058591216167114\n",
      "First pass and we have this ... \n"
     ]
    },
    {
     "data": {
      "text/html": [
       "<table>\n",
       "<thead>\n",
       "<tr><th>name  </th><th style=\"text-align: right;\">  deltaT</th><th style=\"text-align: right;\">  epsilon</th><th style=\"text-align: right;\">       UA</th><th style=\"text-align: right;\">        Q</th></tr>\n",
       "</thead>\n",
       "<tbody>\n",
       "<tr><td>gen   </td><td style=\"text-align: right;\"> 4.67713</td><td style=\"text-align: right;\"> 0.586279</td><td style=\"text-align: right;\">1.64757  </td><td style=\"text-align: right;\">15.581   </td></tr>\n",
       "<tr><td>rect  </td><td style=\"text-align: right;\"> 7.95587</td><td style=\"text-align: right;\"> 0.887797</td><td style=\"text-align: right;\">0.0121348</td><td style=\"text-align: right;\"> 0.387385</td></tr>\n",
       "<tr><td>abs   </td><td style=\"text-align: right;\"> 5.00378</td><td style=\"text-align: right;\"> 0.521512</td><td style=\"text-align: right;\">2.23504  </td><td style=\"text-align: right;\">15.7338  </td></tr>\n",
       "<tr><td>cond  </td><td style=\"text-align: right;\"> 6.97843</td><td style=\"text-align: right;\"> 0.965448</td><td style=\"text-align: right;\">0.146919 </td><td style=\"text-align: right;\"> 1.02837 </td></tr>\n",
       "<tr><td>evap  </td><td style=\"text-align: right;\"> 7.77113</td><td style=\"text-align: right;\"> 0.98291 </td><td style=\"text-align: right;\">0.145876 </td><td style=\"text-align: right;\"> 1.13402 </td></tr>\n",
       "<tr><td>total </td><td style=\"text-align: right;\"> 0      </td><td style=\"text-align: right;\"> 0       </td><td style=\"text-align: right;\">4.18753  </td><td style=\"text-align: right;\"> 0       </td></tr>\n",
       "</tbody>\n",
       "</table>"
      ],
      "text/plain": [
       "name      deltaT    epsilon         UA          Q\n",
       "------  --------  ---------  ---------  ---------\n",
       "gen      4.67713   0.586279  1.64757    15.581\n",
       "rect     7.95587   0.887797  0.0121348   0.387385\n",
       "abs      5.00378   0.521512  2.23504    15.7338\n",
       "cond     6.97843   0.965448  0.146919    1.02837\n",
       "evap     7.77113   0.98291   0.145876    1.13402\n",
       "totalUA = 4.1875349712882"
      ]
     },
     "metadata": {},
     "output_type": "display_data"
    },
    {
     "name": "stdout",
     "output_type": "stream",
     "text": [
      "Second pass and we have this ... \n"
     ]
    },
    {
     "data": {
      "text/html": [
       "<table>\n",
       "<thead>\n",
       "<tr><th>name  </th><th style=\"text-align: right;\">  deltaT</th><th style=\"text-align: right;\">  epsilon</th><th style=\"text-align: right;\">       UA</th><th style=\"text-align: right;\">        Q</th></tr>\n",
       "</thead>\n",
       "<tbody>\n",
       "<tr><td>gen   </td><td style=\"text-align: right;\"> 4.56006</td><td style=\"text-align: right;\"> 0.59931 </td><td style=\"text-align: right;\">3.22766  </td><td style=\"text-align: right;\">26.7767  </td></tr>\n",
       "<tr><td>rect  </td><td style=\"text-align: right;\"> 7.95546</td><td style=\"text-align: right;\"> 0.887771</td><td style=\"text-align: right;\">0.0259106</td><td style=\"text-align: right;\"> 0.820751</td></tr>\n",
       "<tr><td>abs   </td><td style=\"text-align: right;\"> 5.00258</td><td style=\"text-align: right;\"> 0.527661</td><td style=\"text-align: right;\">3.99122  </td><td style=\"text-align: right;\">26.9042  </td></tr>\n",
       "<tr><td>cond  </td><td style=\"text-align: right;\"> 6.93922</td><td style=\"text-align: right;\"> 0.965448</td><td style=\"text-align: right;\">0.313664 </td><td style=\"text-align: right;\"> 2.18686 </td></tr>\n",
       "<tr><td>evap  </td><td style=\"text-align: right;\"> 7.59516</td><td style=\"text-align: right;\"> 0.983112</td><td style=\"text-align: right;\">0.315792 </td><td style=\"text-align: right;\"> 2.41137 </td></tr>\n",
       "<tr><td>total </td><td style=\"text-align: right;\"> 0      </td><td style=\"text-align: right;\"> 0       </td><td style=\"text-align: right;\">7.87424  </td><td style=\"text-align: right;\"> 0       </td></tr>\n",
       "</tbody>\n",
       "</table>"
      ],
      "text/plain": [
       "name      deltaT    epsilon         UA          Q\n",
       "------  --------  ---------  ---------  ---------\n",
       "gen      4.56006   0.59931   3.22766    26.7767\n",
       "rect     7.95546   0.887771  0.0259106   0.820751\n",
       "abs      5.00258   0.527661  3.99122    26.9042\n",
       "cond     6.93922   0.965448  0.313664    2.18686\n",
       "evap     7.59516   0.983112  0.315792    2.41137\n",
       "totalUA = 7.874240601764288"
      ]
     },
     "metadata": {},
     "output_type": "display_data"
    },
    {
     "name": "stdout",
     "output_type": "stream",
     "text": [
      "Third pass and we have this ... \n"
     ]
    },
    {
     "data": {
      "text/html": [
       "<table>\n",
       "<thead>\n",
       "<tr><th>name  </th><th style=\"text-align: right;\">  deltaT</th><th style=\"text-align: right;\">  epsilon</th><th style=\"text-align: right;\">       UA</th><th style=\"text-align: right;\">        Q</th></tr>\n",
       "</thead>\n",
       "<tbody>\n",
       "<tr><td>gen   </td><td style=\"text-align: right;\"> 4.52781</td><td style=\"text-align: right;\"> 0.600593</td><td style=\"text-align: right;\">3.41612  </td><td style=\"text-align: right;\">27.9353  </td></tr>\n",
       "<tr><td>rect  </td><td style=\"text-align: right;\"> 7.95546</td><td style=\"text-align: right;\"> 0.887769</td><td style=\"text-align: right;\">0.0275438</td><td style=\"text-align: right;\"> 0.871712</td></tr>\n",
       "<tr><td>abs   </td><td style=\"text-align: right;\"> 5.00252</td><td style=\"text-align: right;\"> 0.528258</td><td style=\"text-align: right;\">4.18138  </td><td style=\"text-align: right;\">28.0548  </td></tr>\n",
       "<tr><td>cond  </td><td style=\"text-align: right;\"> 6.9342 </td><td style=\"text-align: right;\"> 0.965448</td><td style=\"text-align: right;\">0.333417 </td><td style=\"text-align: right;\"> 2.32349 </td></tr>\n",
       "<tr><td>evap  </td><td style=\"text-align: right;\"> 7.57623</td><td style=\"text-align: right;\"> 0.983132</td><td style=\"text-align: right;\">0.336156 </td><td style=\"text-align: right;\"> 2.56201 </td></tr>\n",
       "<tr><td>total </td><td style=\"text-align: right;\"> 0      </td><td style=\"text-align: right;\"> 0       </td><td style=\"text-align: right;\">8.29462  </td><td style=\"text-align: right;\"> 0       </td></tr>\n",
       "</tbody>\n",
       "</table>"
      ],
      "text/plain": [
       "name      deltaT    epsilon         UA          Q\n",
       "------  --------  ---------  ---------  ---------\n",
       "gen      4.52781   0.600593  3.41612    27.9353\n",
       "rect     7.95546   0.887769  0.0275438   0.871712\n",
       "abs      5.00252   0.528258  4.18138    28.0548\n",
       "cond     6.9342    0.965448  0.333417    2.32349\n",
       "evap     7.57623   0.983132  0.336156    2.56201\n",
       "totalUA = 8.2946219172169"
      ]
     },
     "metadata": {},
     "output_type": "display_data"
    },
    {
     "name": "stdout",
     "output_type": "stream",
     "text": [
      "Case 44, T_heat_reject = 323.15 K, Q_fraction = 0.9, Q_goal = 12.371296941632004\n",
      "First pass and we have this ... \n"
     ]
    },
    {
     "data": {
      "text/html": [
       "<table>\n",
       "<thead>\n",
       "<tr><th>name  </th><th style=\"text-align: right;\">  deltaT</th><th style=\"text-align: right;\">  epsilon</th><th style=\"text-align: right;\">       UA</th><th style=\"text-align: right;\">        Q</th></tr>\n",
       "</thead>\n",
       "<tbody>\n",
       "<tr><td>gen   </td><td style=\"text-align: right;\"> 4.67708</td><td style=\"text-align: right;\"> 0.586287</td><td style=\"text-align: right;\">1.64698  </td><td style=\"text-align: right;\">15.5758  </td></tr>\n",
       "<tr><td>rect  </td><td style=\"text-align: right;\"> 7.95585</td><td style=\"text-align: right;\"> 0.887797</td><td style=\"text-align: right;\">0.0121321</td><td style=\"text-align: right;\"> 0.387301</td></tr>\n",
       "<tr><td>abs   </td><td style=\"text-align: right;\"> 5.00373</td><td style=\"text-align: right;\"> 0.521518</td><td style=\"text-align: right;\">2.23423  </td><td style=\"text-align: right;\">15.7285  </td></tr>\n",
       "<tr><td>cond  </td><td style=\"text-align: right;\"> 6.97844</td><td style=\"text-align: right;\"> 0.965448</td><td style=\"text-align: right;\">0.146888 </td><td style=\"text-align: right;\"> 1.02815 </td></tr>\n",
       "<tr><td>evap  </td><td style=\"text-align: right;\"> 7.77115</td><td style=\"text-align: right;\"> 0.98291 </td><td style=\"text-align: right;\">0.145844 </td><td style=\"text-align: right;\"> 1.13378 </td></tr>\n",
       "<tr><td>total </td><td style=\"text-align: right;\"> 0      </td><td style=\"text-align: right;\"> 0       </td><td style=\"text-align: right;\">4.18608  </td><td style=\"text-align: right;\"> 0       </td></tr>\n",
       "</tbody>\n",
       "</table>"
      ],
      "text/plain": [
       "name      deltaT    epsilon         UA          Q\n",
       "------  --------  ---------  ---------  ---------\n",
       "gen      4.67708   0.586287  1.64698    15.5758\n",
       "rect     7.95585   0.887797  0.0121321   0.387301\n",
       "abs      5.00373   0.521518  2.23423    15.7285\n",
       "cond     6.97844   0.965448  0.146888    1.02815\n",
       "evap     7.77115   0.98291   0.145844    1.13378\n",
       "totalUA = 4.186076299487625"
      ]
     },
     "metadata": {},
     "output_type": "display_data"
    },
    {
     "name": "stdout",
     "output_type": "stream",
     "text": [
      "Second pass and we have this ... \n"
     ]
    },
    {
     "data": {
      "text/html": [
       "<table>\n",
       "<thead>\n",
       "<tr><th>name  </th><th style=\"text-align: right;\">  deltaT</th><th style=\"text-align: right;\">  epsilon</th><th style=\"text-align: right;\">       UA</th><th style=\"text-align: right;\">        Q</th></tr>\n",
       "</thead>\n",
       "<tbody>\n",
       "<tr><td>gen   </td><td style=\"text-align: right;\"> 4.56012</td><td style=\"text-align: right;\"> 0.599324</td><td style=\"text-align: right;\">3.22678  </td><td style=\"text-align: right;\">26.7701  </td></tr>\n",
       "<tr><td>rect  </td><td style=\"text-align: right;\"> 7.9554 </td><td style=\"text-align: right;\"> 0.887771</td><td style=\"text-align: right;\">0.0259093</td><td style=\"text-align: right;\"> 0.820706</td></tr>\n",
       "<tr><td>abs   </td><td style=\"text-align: right;\"> 5.00257</td><td style=\"text-align: right;\"> 0.527668</td><td style=\"text-align: right;\">3.99004  </td><td style=\"text-align: right;\">26.8974  </td></tr>\n",
       "<tr><td>cond  </td><td style=\"text-align: right;\"> 6.93918</td><td style=\"text-align: right;\"> 0.965448</td><td style=\"text-align: right;\">0.31365  </td><td style=\"text-align: right;\"> 2.18675 </td></tr>\n",
       "<tr><td>evap  </td><td style=\"text-align: right;\"> 7.59512</td><td style=\"text-align: right;\"> 0.983112</td><td style=\"text-align: right;\">0.315777 </td><td style=\"text-align: right;\"> 2.41124 </td></tr>\n",
       "<tr><td>total </td><td style=\"text-align: right;\"> 0      </td><td style=\"text-align: right;\"> 0       </td><td style=\"text-align: right;\">7.87216  </td><td style=\"text-align: right;\"> 0       </td></tr>\n",
       "</tbody>\n",
       "</table>"
      ],
      "text/plain": [
       "name      deltaT    epsilon         UA          Q\n",
       "------  --------  ---------  ---------  ---------\n",
       "gen      4.56012   0.599324  3.22678    26.7701\n",
       "rect     7.9554    0.887771  0.0259093   0.820706\n",
       "abs      5.00257   0.527668  3.99004    26.8974\n",
       "cond     6.93918   0.965448  0.31365     2.18675\n",
       "evap     7.59512   0.983112  0.315777    2.41124\n",
       "totalUA = 7.872163237588139"
      ]
     },
     "metadata": {},
     "output_type": "display_data"
    },
    {
     "name": "stdout",
     "output_type": "stream",
     "text": [
      "Third pass and we have this ... \n"
     ]
    },
    {
     "data": {
      "text/html": [
       "<table>\n",
       "<thead>\n",
       "<tr><th>name  </th><th style=\"text-align: right;\">  deltaT</th><th style=\"text-align: right;\">  epsilon</th><th style=\"text-align: right;\">       UA</th><th style=\"text-align: right;\">        Q</th></tr>\n",
       "</thead>\n",
       "<tbody>\n",
       "<tr><td>gen   </td><td style=\"text-align: right;\"> 4.52792</td><td style=\"text-align: right;\"> 0.600616</td><td style=\"text-align: right;\">3.41488  </td><td style=\"text-align: right;\">27.9259  </td></tr>\n",
       "<tr><td>rect  </td><td style=\"text-align: right;\"> 7.95545</td><td style=\"text-align: right;\"> 0.887768</td><td style=\"text-align: right;\">0.0275444</td><td style=\"text-align: right;\"> 0.871729</td></tr>\n",
       "<tr><td>abs   </td><td style=\"text-align: right;\"> 5.00239</td><td style=\"text-align: right;\"> 0.528277</td><td style=\"text-align: right;\">4.17972  </td><td style=\"text-align: right;\">28.045   </td></tr>\n",
       "<tr><td>cond  </td><td style=\"text-align: right;\"> 6.93415</td><td style=\"text-align: right;\"> 0.965448</td><td style=\"text-align: right;\">0.333429 </td><td style=\"text-align: right;\"> 2.32356 </td></tr>\n",
       "<tr><td>evap  </td><td style=\"text-align: right;\"> 7.57614</td><td style=\"text-align: right;\"> 0.983132</td><td style=\"text-align: right;\">0.336169 </td><td style=\"text-align: right;\"> 2.56208 </td></tr>\n",
       "<tr><td>total </td><td style=\"text-align: right;\"> 0      </td><td style=\"text-align: right;\"> 0       </td><td style=\"text-align: right;\">8.29175  </td><td style=\"text-align: right;\"> 0       </td></tr>\n",
       "</tbody>\n",
       "</table>"
      ],
      "text/plain": [
       "name      deltaT    epsilon         UA          Q\n",
       "------  --------  ---------  ---------  ---------\n",
       "gen      4.52792   0.600616  3.41488    27.9259\n",
       "rect     7.95545   0.887768  0.0275444   0.871729\n",
       "abs      5.00239   0.528277  4.17972    28.045\n",
       "cond     6.93415   0.965448  0.333429    2.32356\n",
       "evap     7.57614   0.983132  0.336169    2.56208\n",
       "totalUA = 8.291748080554273"
      ]
     },
     "metadata": {},
     "output_type": "display_data"
    },
    {
     "name": "stdout",
     "output_type": "stream",
     "text": [
      "Case 45, T_heat_reject = 323.15 K, Q_fraction = 0.8, Q_goal = 10.996708392561782\n",
      "First pass and we have this ... \n"
     ]
    },
    {
     "data": {
      "text/html": [
       "<table>\n",
       "<thead>\n",
       "<tr><th>name  </th><th style=\"text-align: right;\">  deltaT</th><th style=\"text-align: right;\">  epsilon</th><th style=\"text-align: right;\">       UA</th><th style=\"text-align: right;\">        Q</th></tr>\n",
       "</thead>\n",
       "<tbody>\n",
       "<tr><td>gen   </td><td style=\"text-align: right;\"> 4.6771 </td><td style=\"text-align: right;\"> 0.586277</td><td style=\"text-align: right;\">1.64692  </td><td style=\"text-align: right;\">15.5756  </td></tr>\n",
       "<tr><td>rect  </td><td style=\"text-align: right;\"> 7.95587</td><td style=\"text-align: right;\"> 0.887799</td><td style=\"text-align: right;\">0.0121294</td><td style=\"text-align: right;\"> 0.387216</td></tr>\n",
       "<tr><td>abs   </td><td style=\"text-align: right;\"> 5.00383</td><td style=\"text-align: right;\"> 0.521507</td><td style=\"text-align: right;\">2.23421  </td><td style=\"text-align: right;\">15.7284  </td></tr>\n",
       "<tr><td>cond  </td><td style=\"text-align: right;\"> 6.97851</td><td style=\"text-align: right;\"> 0.965448</td><td style=\"text-align: right;\">0.146853 </td><td style=\"text-align: right;\"> 1.02792 </td></tr>\n",
       "<tr><td>evap  </td><td style=\"text-align: right;\"> 7.77113</td><td style=\"text-align: right;\"> 0.98291 </td><td style=\"text-align: right;\">0.145811 </td><td style=\"text-align: right;\"> 1.13352 </td></tr>\n",
       "<tr><td>total </td><td style=\"text-align: right;\"> 0      </td><td style=\"text-align: right;\"> 0       </td><td style=\"text-align: right;\">4.18592  </td><td style=\"text-align: right;\"> 0       </td></tr>\n",
       "</tbody>\n",
       "</table>"
      ],
      "text/plain": [
       "name      deltaT    epsilon         UA          Q\n",
       "------  --------  ---------  ---------  ---------\n",
       "gen      4.6771    0.586277  1.64692    15.5756\n",
       "rect     7.95587   0.887799  0.0121294   0.387216\n",
       "abs      5.00383   0.521507  2.23421    15.7284\n",
       "cond     6.97851   0.965448  0.146853    1.02792\n",
       "evap     7.77113   0.98291   0.145811    1.13352\n",
       "totalUA = 4.185924485697784"
      ]
     },
     "metadata": {},
     "output_type": "display_data"
    },
    {
     "name": "stdout",
     "output_type": "stream",
     "text": [
      "Second pass and we have this ... \n"
     ]
    },
    {
     "data": {
      "text/html": [
       "<table>\n",
       "<thead>\n",
       "<tr><th>name  </th><th style=\"text-align: right;\">  deltaT</th><th style=\"text-align: right;\">  epsilon</th><th style=\"text-align: right;\">        UA</th><th style=\"text-align: right;\">       Q</th></tr>\n",
       "</thead>\n",
       "<tbody>\n",
       "<tr><td>gen   </td><td style=\"text-align: right;\"> 4.08825</td><td style=\"text-align: right;\"> 0.699236</td><td style=\"text-align: right;\"> 5.59226  </td><td style=\"text-align: right;\">39.6406 </td></tr>\n",
       "<tr><td>rect  </td><td style=\"text-align: right;\"> 7.93967</td><td style=\"text-align: right;\"> 0.887822</td><td style=\"text-align: right;\"> 0.0427524</td><td style=\"text-align: right;\"> 1.34263</td></tr>\n",
       "<tr><td>abs   </td><td style=\"text-align: right;\"> 4.97488</td><td style=\"text-align: right;\"> 0.53281 </td><td style=\"text-align: right;\"> 6.28086  </td><td style=\"text-align: right;\">39.7174 </td></tr>\n",
       "<tr><td>cond  </td><td style=\"text-align: right;\"> 6.87785</td><td style=\"text-align: right;\"> 0.965488</td><td style=\"text-align: right;\"> 0.516812 </td><td style=\"text-align: right;\"> 3.58148</td></tr>\n",
       "<tr><td>evap  </td><td style=\"text-align: right;\"> 7.49343</td><td style=\"text-align: right;\"> 0.983132</td><td style=\"text-align: right;\"> 0.521005 </td><td style=\"text-align: right;\"> 3.94929</td></tr>\n",
       "<tr><td>total </td><td style=\"text-align: right;\"> 0      </td><td style=\"text-align: right;\"> 0       </td><td style=\"text-align: right;\">12.9537   </td><td style=\"text-align: right;\"> 0      </td></tr>\n",
       "</tbody>\n",
       "</table>"
      ],
      "text/plain": [
       "name      deltaT    epsilon         UA         Q\n",
       "------  --------  ---------  ---------  --------\n",
       "gen      4.08825   0.699236  5.59226    39.6406\n",
       "rect     7.93967   0.887822  0.0427524   1.34263\n",
       "abs      4.97488   0.53281   6.28086    39.7174\n",
       "cond     6.87785   0.965488  0.516812    3.58148\n",
       "evap     7.49343   0.983132  0.521005    3.94929\n",
       "totalUA = 12.953681324948544"
      ]
     },
     "metadata": {},
     "output_type": "display_data"
    },
    {
     "name": "stdout",
     "output_type": "stream",
     "text": [
      "Third pass and we have this ... \n"
     ]
    },
    {
     "data": {
      "text/html": [
       "<table>\n",
       "<thead>\n",
       "<tr><th>name  </th><th style=\"text-align: right;\">  deltaT</th><th style=\"text-align: right;\">  epsilon</th><th style=\"text-align: right;\">        UA</th><th style=\"text-align: right;\">       Q</th></tr>\n",
       "</thead>\n",
       "<tbody>\n",
       "<tr><td>gen   </td><td style=\"text-align: right;\"> 4.02754</td><td style=\"text-align: right;\"> 0.708673</td><td style=\"text-align: right;\"> 5.86536  </td><td style=\"text-align: right;\">40.8443 </td></tr>\n",
       "<tr><td>rect  </td><td style=\"text-align: right;\"> 7.93967</td><td style=\"text-align: right;\"> 0.887821</td><td style=\"text-align: right;\"> 0.0447912</td><td style=\"text-align: right;\"> 1.40519</td></tr>\n",
       "<tr><td>abs   </td><td style=\"text-align: right;\"> 4.97478</td><td style=\"text-align: right;\"> 0.533401</td><td style=\"text-align: right;\"> 6.50326  </td><td style=\"text-align: right;\">40.9045 </td></tr>\n",
       "<tr><td>cond  </td><td style=\"text-align: right;\"> 6.87125</td><td style=\"text-align: right;\"> 0.965488</td><td style=\"text-align: right;\"> 0.5414   </td><td style=\"text-align: right;\"> 3.74972</td></tr>\n",
       "<tr><td>evap  </td><td style=\"text-align: right;\"> 7.47235</td><td style=\"text-align: right;\"> 0.983152</td><td style=\"text-align: right;\"> 0.546599 </td><td style=\"text-align: right;\"> 4.13477</td></tr>\n",
       "<tr><td>total </td><td style=\"text-align: right;\"> 0      </td><td style=\"text-align: right;\"> 0       </td><td style=\"text-align: right;\">13.5014   </td><td style=\"text-align: right;\"> 0      </td></tr>\n",
       "</tbody>\n",
       "</table>"
      ],
      "text/plain": [
       "name      deltaT    epsilon         UA         Q\n",
       "------  --------  ---------  ---------  --------\n",
       "gen      4.02754   0.708673  5.86536    40.8443\n",
       "rect     7.93967   0.887821  0.0447912   1.40519\n",
       "abs      4.97478   0.533401  6.50326    40.9045\n",
       "cond     6.87125   0.965488  0.5414      3.74972\n",
       "evap     7.47235   0.983152  0.546599    4.13477\n",
       "totalUA = 13.501410567700184"
      ]
     },
     "metadata": {},
     "output_type": "display_data"
    },
    {
     "name": "stdout",
     "output_type": "stream",
     "text": [
      "Case 46, T_heat_reject = 323.15 K, Q_fraction = 0.5, Q_goal = 6.872942745351113\n"
     ]
    },
    {
     "name": "stderr",
     "output_type": "stream",
     "text": [
      "C:\\Users\\nfette\\Miniconda3\\envs\\openACHP\\lib\\site-packages\\scipy\\integrate\\quadpack.py:364: IntegrationWarning: The occurrence of roundoff error is detected, which prevents \n",
      "  the requested tolerance from being achieved.  The error may be \n",
      "  underestimated.\n",
      "  warnings.warn(msg, IntegrationWarning)\n"
     ]
    },
    {
     "name": "stdout",
     "output_type": "stream",
     "text": [
      "First pass and we have this ... \n"
     ]
    },
    {
     "data": {
      "text/html": [
       "<table>\n",
       "<thead>\n",
       "<tr><th>name  </th><th style=\"text-align: right;\">  deltaT</th><th style=\"text-align: right;\">  epsilon</th><th style=\"text-align: right;\">        UA</th><th style=\"text-align: right;\">       Q</th></tr>\n",
       "</thead>\n",
       "<tbody>\n",
       "<tr><td>gen   </td><td style=\"text-align: right;\"> 3.45985</td><td style=\"text-align: right;\"> 0.777543</td><td style=\"text-align: right;\"> 8.57041  </td><td style=\"text-align: right;\">50.4052 </td></tr>\n",
       "<tr><td>rect  </td><td style=\"text-align: right;\"> 7.77566</td><td style=\"text-align: right;\"> 0.882172</td><td style=\"text-align: right;\"> 0.0753906</td><td style=\"text-align: right;\"> 2.31491</td></tr>\n",
       "<tr><td>abs   </td><td style=\"text-align: right;\"> 4.83852</td><td style=\"text-align: right;\"> 0.553803</td><td style=\"text-align: right;\"> 8.3232   </td><td style=\"text-align: right;\">49.9569 </td></tr>\n",
       "<tr><td>cond  </td><td style=\"text-align: right;\"> 6.46135</td><td style=\"text-align: right;\"> 0.967047</td><td style=\"text-align: right;\"> 0.957223 </td><td style=\"text-align: right;\"> 6.28043</td></tr>\n",
       "<tr><td>evap  </td><td style=\"text-align: right;\"> 7.27101</td><td style=\"text-align: right;\"> 0.983237</td><td style=\"text-align: right;\"> 0.92814  </td><td style=\"text-align: right;\"> 6.91047</td></tr>\n",
       "<tr><td>total </td><td style=\"text-align: right;\"> 0      </td><td style=\"text-align: right;\"> 0       </td><td style=\"text-align: right;\">18.8544   </td><td style=\"text-align: right;\"> 0      </td></tr>\n",
       "</tbody>\n",
       "</table>"
      ],
      "text/plain": [
       "name      deltaT    epsilon         UA         Q\n",
       "------  --------  ---------  ---------  --------\n",
       "gen      3.45985   0.777543  8.57041    50.4052\n",
       "rect     7.77566   0.882172  0.0753906   2.31491\n",
       "abs      4.83852   0.553803  8.3232     49.9569\n",
       "cond     6.46135   0.967047  0.957223    6.28043\n",
       "evap     7.27101   0.983237  0.92814     6.91047\n",
       "totalUA = 18.854361893427335"
      ]
     },
     "metadata": {},
     "output_type": "display_data"
    },
    {
     "name": "stdout",
     "output_type": "stream",
     "text": [
      "Second pass and we have this ... \n"
     ]
    },
    {
     "data": {
      "text/html": [
       "<table>\n",
       "<thead>\n",
       "<tr><th>name  </th><th style=\"text-align: right;\">  deltaT</th><th style=\"text-align: right;\">  epsilon</th><th style=\"text-align: right;\">        UA</th><th style=\"text-align: right;\">       Q</th></tr>\n",
       "</thead>\n",
       "<tbody>\n",
       "<tr><td>gen   </td><td style=\"text-align: right;\"> 3.48721</td><td style=\"text-align: right;\"> 0.775215</td><td style=\"text-align: right;\"> 8.47117  </td><td style=\"text-align: right;\">50.1227 </td></tr>\n",
       "<tr><td>rect  </td><td style=\"text-align: right;\"> 7.76641</td><td style=\"text-align: right;\"> 0.882274</td><td style=\"text-align: right;\"> 0.0750782</td><td style=\"text-align: right;\"> 2.30396</td></tr>\n",
       "<tr><td>abs   </td><td style=\"text-align: right;\"> 4.84848</td><td style=\"text-align: right;\"> 0.553232</td><td style=\"text-align: right;\"> 8.24943  </td><td style=\"text-align: right;\">49.6757 </td></tr>\n",
       "<tr><td>cond  </td><td style=\"text-align: right;\"> 6.45986</td><td style=\"text-align: right;\"> 0.967059</td><td style=\"text-align: right;\"> 0.953104 </td><td style=\"text-align: right;\"> 6.25148</td></tr>\n",
       "<tr><td>evap  </td><td style=\"text-align: right;\"> 7.25759</td><td style=\"text-align: right;\"> 0.983267</td><td style=\"text-align: right;\"> 0.925679 </td><td style=\"text-align: right;\"> 6.87886</td></tr>\n",
       "<tr><td>total </td><td style=\"text-align: right;\"> 0      </td><td style=\"text-align: right;\"> 0       </td><td style=\"text-align: right;\">18.6745   </td><td style=\"text-align: right;\"> 0      </td></tr>\n",
       "</tbody>\n",
       "</table>"
      ],
      "text/plain": [
       "name      deltaT    epsilon         UA         Q\n",
       "------  --------  ---------  ---------  --------\n",
       "gen      3.48721   0.775215  8.47117    50.1227\n",
       "rect     7.76641   0.882274  0.0750782   2.30396\n",
       "abs      4.84848   0.553232  8.24943    49.6757\n",
       "cond     6.45986   0.967059  0.953104    6.25148\n",
       "evap     7.25759   0.983267  0.925679    6.87886\n",
       "totalUA = 18.674460635984286"
      ]
     },
     "metadata": {},
     "output_type": "display_data"
    },
    {
     "name": "stdout",
     "output_type": "stream",
     "text": [
      "Third pass and we have this ... \n"
     ]
    },
    {
     "data": {
      "text/html": [
       "<table>\n",
       "<thead>\n",
       "<tr><th>name  </th><th style=\"text-align: right;\">  deltaT</th><th style=\"text-align: right;\">  epsilon</th><th style=\"text-align: right;\">        UA</th><th style=\"text-align: right;\">       Q</th></tr>\n",
       "</thead>\n",
       "<tbody>\n",
       "<tr><td>gen   </td><td style=\"text-align: right;\"> 3.48955</td><td style=\"text-align: right;\"> 0.775067</td><td style=\"text-align: right;\"> 8.46531  </td><td style=\"text-align: right;\">50.114  </td></tr>\n",
       "<tr><td>rect  </td><td style=\"text-align: right;\"> 7.76512</td><td style=\"text-align: right;\"> 0.882273</td><td style=\"text-align: right;\"> 0.0750314</td><td style=\"text-align: right;\"> 2.30244</td></tr>\n",
       "<tr><td>abs   </td><td style=\"text-align: right;\"> 4.84861</td><td style=\"text-align: right;\"> 0.553195</td><td style=\"text-align: right;\"> 8.24814  </td><td style=\"text-align: right;\">49.668  </td></tr>\n",
       "<tr><td>cond  </td><td style=\"text-align: right;\"> 6.45902</td><td style=\"text-align: right;\"> 0.967064</td><td style=\"text-align: right;\"> 0.952594 </td><td style=\"text-align: right;\"> 6.24727</td></tr>\n",
       "<tr><td>evap  </td><td style=\"text-align: right;\"> 7.25845</td><td style=\"text-align: right;\"> 0.983266</td><td style=\"text-align: right;\"> 0.924965 </td><td style=\"text-align: right;\"> 6.87423</td></tr>\n",
       "<tr><td>total </td><td style=\"text-align: right;\"> 0      </td><td style=\"text-align: right;\"> 0       </td><td style=\"text-align: right;\">18.666    </td><td style=\"text-align: right;\"> 0      </td></tr>\n",
       "</tbody>\n",
       "</table>"
      ],
      "text/plain": [
       "name      deltaT    epsilon         UA         Q\n",
       "------  --------  ---------  ---------  --------\n",
       "gen      3.48955   0.775067  8.46531    50.114\n",
       "rect     7.76512   0.882273  0.0750314   2.30244\n",
       "abs      4.84861   0.553195  8.24814    49.668\n",
       "cond     6.45902   0.967064  0.952594    6.24727\n",
       "evap     7.25845   0.983266  0.924965    6.87423\n",
       "totalUA = 18.66604755727115"
      ]
     },
     "metadata": {},
     "output_type": "display_data"
    },
    {
     "name": "stdout",
     "output_type": "stream",
     "text": [
      "Case 47, T_heat_reject = 323.15 K, Q_fraction = 0.2, Q_goal = 2.7491770981404455\n",
      "First pass and we have this ... \n"
     ]
    },
    {
     "data": {
      "text/html": [
       "<table>\n",
       "<thead>\n",
       "<tr><th>name  </th><th style=\"text-align: right;\">  deltaT</th><th style=\"text-align: right;\">  epsilon</th><th style=\"text-align: right;\">      UA</th><th style=\"text-align: right;\">        Q</th></tr>\n",
       "</thead>\n",
       "<tbody>\n",
       "<tr><td>gen   </td><td style=\"text-align: right;\"> 4.60751</td><td style=\"text-align: right;\"> 0.609855</td><td style=\"text-align: right;\">3.09915 </td><td style=\"text-align: right;\">25.3702  </td></tr>\n",
       "<tr><td>rect  </td><td style=\"text-align: right;\"> 7.85823</td><td style=\"text-align: right;\"> 0.885542</td><td style=\"text-align: right;\">0.029676</td><td style=\"text-align: right;\"> 0.933913</td></tr>\n",
       "<tr><td>abs   </td><td style=\"text-align: right;\"> 4.92263</td><td style=\"text-align: right;\"> 0.538758</td><td style=\"text-align: right;\">3.73381 </td><td style=\"text-align: right;\">25.3512  </td></tr>\n",
       "<tr><td>cond  </td><td style=\"text-align: right;\"> 6.78818</td><td style=\"text-align: right;\"> 0.966136</td><td style=\"text-align: right;\">0.366645</td><td style=\"text-align: right;\"> 2.50311 </td></tr>\n",
       "<tr><td>evap  </td><td style=\"text-align: right;\"> 7.59733</td><td style=\"text-align: right;\"> 0.983071</td><td style=\"text-align: right;\">0.360586</td><td style=\"text-align: right;\"> 2.75797 </td></tr>\n",
       "<tr><td>total </td><td style=\"text-align: right;\"> 0      </td><td style=\"text-align: right;\"> 0       </td><td style=\"text-align: right;\">7.58986 </td><td style=\"text-align: right;\"> 0       </td></tr>\n",
       "</tbody>\n",
       "</table>"
      ],
      "text/plain": [
       "name      deltaT    epsilon        UA          Q\n",
       "------  --------  ---------  --------  ---------\n",
       "gen      4.60751   0.609855  3.09915   25.3702\n",
       "rect     7.85823   0.885542  0.029676   0.933913\n",
       "abs      4.92263   0.538758  3.73381   25.3512\n",
       "cond     6.78818   0.966136  0.366645   2.50311\n",
       "evap     7.59733   0.983071  0.360586   2.75797\n",
       "totalUA = 7.5898603655322745"
      ]
     },
     "metadata": {},
     "output_type": "display_data"
    },
    {
     "name": "stdout",
     "output_type": "stream",
     "text": [
      "Second pass and we have this ... \n"
     ]
    },
    {
     "data": {
      "text/html": [
       "<table>\n",
       "<thead>\n",
       "<tr><th>name  </th><th style=\"text-align: right;\">  deltaT</th><th style=\"text-align: right;\">  epsilon</th><th style=\"text-align: right;\">       UA</th><th style=\"text-align: right;\">        Q</th></tr>\n",
       "</thead>\n",
       "<tbody>\n",
       "<tr><td>gen   </td><td style=\"text-align: right;\"> 4.61567</td><td style=\"text-align: right;\"> 0.609778</td><td style=\"text-align: right;\">3.07881  </td><td style=\"text-align: right;\">25.2408  </td></tr>\n",
       "<tr><td>rect  </td><td style=\"text-align: right;\"> 7.85325</td><td style=\"text-align: right;\"> 0.88539 </td><td style=\"text-align: right;\">0.0296041</td><td style=\"text-align: right;\"> 0.931501</td></tr>\n",
       "<tr><td>abs   </td><td style=\"text-align: right;\"> 4.92055</td><td style=\"text-align: right;\"> 0.538971</td><td style=\"text-align: right;\">3.7126   </td><td style=\"text-align: right;\">25.2196  </td></tr>\n",
       "<tr><td>cond  </td><td style=\"text-align: right;\"> 6.77963</td><td style=\"text-align: right;\"> 0.96618 </td><td style=\"text-align: right;\">0.366236 </td><td style=\"text-align: right;\"> 2.4972  </td></tr>\n",
       "<tr><td>evap  </td><td style=\"text-align: right;\"> 7.60166</td><td style=\"text-align: right;\"> 0.983063</td><td style=\"text-align: right;\">0.35952  </td><td style=\"text-align: right;\"> 2.75131 </td></tr>\n",
       "<tr><td>total </td><td style=\"text-align: right;\"> 0      </td><td style=\"text-align: right;\"> 0       </td><td style=\"text-align: right;\">7.54677  </td><td style=\"text-align: right;\"> 0       </td></tr>\n",
       "</tbody>\n",
       "</table>"
      ],
      "text/plain": [
       "name      deltaT    epsilon         UA          Q\n",
       "------  --------  ---------  ---------  ---------\n",
       "gen      4.61567   0.609778  3.07881    25.2408\n",
       "rect     7.85325   0.88539   0.0296041   0.931501\n",
       "abs      4.92055   0.538971  3.7126     25.2196\n",
       "cond     6.77963   0.96618   0.366236    2.4972\n",
       "evap     7.60166   0.983063  0.35952     2.75131\n",
       "totalUA = 7.5467661590957125"
      ]
     },
     "metadata": {},
     "output_type": "display_data"
    },
    {
     "name": "stdout",
     "output_type": "stream",
     "text": [
      "Third pass and we have this ... \n"
     ]
    },
    {
     "data": {
      "text/html": [
       "<table>\n",
       "<thead>\n",
       "<tr><th>name  </th><th style=\"text-align: right;\">  deltaT</th><th style=\"text-align: right;\">  epsilon</th><th style=\"text-align: right;\">       UA</th><th style=\"text-align: right;\">        Q</th></tr>\n",
       "</thead>\n",
       "<tbody>\n",
       "<tr><td>gen   </td><td style=\"text-align: right;\"> 4.61762</td><td style=\"text-align: right;\"> 0.609716</td><td style=\"text-align: right;\">3.07389  </td><td style=\"text-align: right;\">25.2112  </td></tr>\n",
       "<tr><td>rect  </td><td style=\"text-align: right;\"> 7.85237</td><td style=\"text-align: right;\"> 0.8854  </td><td style=\"text-align: right;\">0.0295751</td><td style=\"text-align: right;\"> 0.930531</td></tr>\n",
       "<tr><td>abs   </td><td style=\"text-align: right;\"> 4.92155</td><td style=\"text-align: right;\"> 0.538915</td><td style=\"text-align: right;\">3.70715  </td><td style=\"text-align: right;\">25.1899  </td></tr>\n",
       "<tr><td>cond  </td><td style=\"text-align: right;\"> 6.77945</td><td style=\"text-align: right;\"> 0.966181</td><td style=\"text-align: right;\">0.365871 </td><td style=\"text-align: right;\"> 2.49463 </td></tr>\n",
       "<tr><td>evap  </td><td style=\"text-align: right;\"> 7.60029</td><td style=\"text-align: right;\"> 0.983066</td><td style=\"text-align: right;\">0.35922  </td><td style=\"text-align: right;\"> 2.74849 </td></tr>\n",
       "<tr><td>total </td><td style=\"text-align: right;\"> 0      </td><td style=\"text-align: right;\"> 0       </td><td style=\"text-align: right;\">7.5357   </td><td style=\"text-align: right;\"> 0       </td></tr>\n",
       "</tbody>\n",
       "</table>"
      ],
      "text/plain": [
       "name      deltaT    epsilon         UA          Q\n",
       "------  --------  ---------  ---------  ---------\n",
       "gen      4.61762   0.609716  3.07389    25.2112\n",
       "rect     7.85237   0.8854    0.0295751   0.930531\n",
       "abs      4.92155   0.538915  3.70715    25.1899\n",
       "cond     6.77945   0.966181  0.365871    2.49463\n",
       "evap     7.60029   0.983066  0.35922     2.74849\n",
       "totalUA = 7.535700570592898"
      ]
     },
     "metadata": {},
     "output_type": "display_data"
    },
    {
     "name": "stdout",
     "output_type": "stream",
     "text": [
      "Case 48, T_heat_reject = 323.15 K, Q_fraction = 0.1, Q_goal = 1.3745885490702228\n",
      "First pass and we have this ... \n"
     ]
    },
    {
     "data": {
      "text/html": [
       "<table>\n",
       "<thead>\n",
       "<tr><th>name  </th><th style=\"text-align: right;\">  deltaT</th><th style=\"text-align: right;\">  epsilon</th><th style=\"text-align: right;\">       UA</th><th style=\"text-align: right;\">        Q</th></tr>\n",
       "</thead>\n",
       "<tbody>\n",
       "<tr><td>gen   </td><td style=\"text-align: right;\"> 4.6794 </td><td style=\"text-align: right;\"> 0.589842</td><td style=\"text-align: right;\">1.8928   </td><td style=\"text-align: right;\">17.4656  </td></tr>\n",
       "<tr><td>rect  </td><td style=\"text-align: right;\"> 7.9273 </td><td style=\"text-align: right;\"> 0.887797</td><td style=\"text-align: right;\">0.0147774</td><td style=\"text-align: right;\"> 0.470158</td></tr>\n",
       "<tr><td>abs   </td><td style=\"text-align: right;\"> 4.98267</td><td style=\"text-align: right;\"> 0.52475 </td><td style=\"text-align: right;\">2.52205  </td><td style=\"text-align: right;\">17.6054  </td></tr>\n",
       "<tr><td>cond  </td><td style=\"text-align: right;\"> 6.95227</td><td style=\"text-align: right;\"> 0.965537</td><td style=\"text-align: right;\">0.179146 </td><td style=\"text-align: right;\"> 1.24964 </td></tr>\n",
       "<tr><td>evap  </td><td style=\"text-align: right;\"> 7.74316</td><td style=\"text-align: right;\"> 0.982938</td><td style=\"text-align: right;\">0.177739 </td><td style=\"text-align: right;\"> 1.37805 </td></tr>\n",
       "<tr><td>total </td><td style=\"text-align: right;\"> 0      </td><td style=\"text-align: right;\"> 0       </td><td style=\"text-align: right;\">4.78651  </td><td style=\"text-align: right;\"> 0       </td></tr>\n",
       "</tbody>\n",
       "</table>"
      ],
      "text/plain": [
       "name      deltaT    epsilon         UA          Q\n",
       "------  --------  ---------  ---------  ---------\n",
       "gen      4.6794    0.589842  1.8928     17.4656\n",
       "rect     7.9273    0.887797  0.0147774   0.470158\n",
       "abs      4.98267   0.52475   2.52205    17.6054\n",
       "cond     6.95227   0.965537  0.179146    1.24964\n",
       "evap     7.74316   0.982938  0.177739    1.37805\n",
       "totalUA = 4.786511636452628"
      ]
     },
     "metadata": {},
     "output_type": "display_data"
    },
    {
     "name": "stdout",
     "output_type": "stream",
     "text": [
      "Second pass and we have this ... \n"
     ]
    },
    {
     "data": {
      "text/html": [
       "<table>\n",
       "<thead>\n",
       "<tr><th>name  </th><th style=\"text-align: right;\">  deltaT</th><th style=\"text-align: right;\">  epsilon</th><th style=\"text-align: right;\">       UA</th><th style=\"text-align: right;\">        Q</th></tr>\n",
       "</thead>\n",
       "<tbody>\n",
       "<tr><td>gen   </td><td style=\"text-align: right;\"> 4.6651 </td><td style=\"text-align: right;\"> 0.591043</td><td style=\"text-align: right;\">1.87982  </td><td style=\"text-align: right;\">17.3149  </td></tr>\n",
       "<tr><td>rect  </td><td style=\"text-align: right;\"> 7.91574</td><td style=\"text-align: right;\"> 0.887804</td><td style=\"text-align: right;\">0.0147922</td><td style=\"text-align: right;\"> 0.470421</td></tr>\n",
       "<tr><td>abs   </td><td style=\"text-align: right;\"> 4.98641</td><td style=\"text-align: right;\"> 0.524873</td><td style=\"text-align: right;\">2.49535  </td><td style=\"text-align: right;\">17.4496  </td></tr>\n",
       "<tr><td>cond  </td><td style=\"text-align: right;\"> 6.94447</td><td style=\"text-align: right;\"> 0.965574</td><td style=\"text-align: right;\">0.179374 </td><td style=\"text-align: right;\"> 1.24984 </td></tr>\n",
       "<tr><td>evap  </td><td style=\"text-align: right;\"> 7.75175</td><td style=\"text-align: right;\"> 0.98292 </td><td style=\"text-align: right;\">0.177573 </td><td style=\"text-align: right;\"> 1.3783  </td></tr>\n",
       "<tr><td>total </td><td style=\"text-align: right;\"> 0      </td><td style=\"text-align: right;\"> 0       </td><td style=\"text-align: right;\">4.74691  </td><td style=\"text-align: right;\"> 0       </td></tr>\n",
       "</tbody>\n",
       "</table>"
      ],
      "text/plain": [
       "name      deltaT    epsilon         UA          Q\n",
       "------  --------  ---------  ---------  ---------\n",
       "gen      4.6651    0.591043  1.87982    17.3149\n",
       "rect     7.91574   0.887804  0.0147922   0.470421\n",
       "abs      4.98641   0.524873  2.49535    17.4496\n",
       "cond     6.94447   0.965574  0.179374    1.24984\n",
       "evap     7.75175   0.98292   0.177573    1.3783\n",
       "totalUA = 4.746906887698243"
      ]
     },
     "metadata": {},
     "output_type": "display_data"
    },
    {
     "name": "stdout",
     "output_type": "stream",
     "text": [
      "Third pass and we have this ... \n"
     ]
    },
    {
     "data": {
      "text/html": [
       "<table>\n",
       "<thead>\n",
       "<tr><th>name  </th><th style=\"text-align: right;\">  deltaT</th><th style=\"text-align: right;\">  epsilon</th><th style=\"text-align: right;\">       UA</th><th style=\"text-align: right;\">        Q</th></tr>\n",
       "</thead>\n",
       "<tbody>\n",
       "<tr><td>gen   </td><td style=\"text-align: right;\"> 4.66502</td><td style=\"text-align: right;\"> 0.590963</td><td style=\"text-align: right;\">1.87755  </td><td style=\"text-align: right;\">17.2997  </td></tr>\n",
       "<tr><td>rect  </td><td style=\"text-align: right;\"> 7.91501</td><td style=\"text-align: right;\"> 0.887821</td><td style=\"text-align: right;\">0.0147548</td><td style=\"text-align: right;\"> 0.469222</td></tr>\n",
       "<tr><td>abs   </td><td style=\"text-align: right;\"> 4.98716</td><td style=\"text-align: right;\"> 0.524786</td><td style=\"text-align: right;\">2.493    </td><td style=\"text-align: right;\">17.4349  </td></tr>\n",
       "<tr><td>cond  </td><td style=\"text-align: right;\"> 6.94461</td><td style=\"text-align: right;\"> 0.965574</td><td style=\"text-align: right;\">0.178902 </td><td style=\"text-align: right;\"> 1.24657 </td></tr>\n",
       "<tr><td>evap  </td><td style=\"text-align: right;\"> 7.75244</td><td style=\"text-align: right;\"> 0.98292 </td><td style=\"text-align: right;\">0.177097 </td><td style=\"text-align: right;\"> 1.3747  </td></tr>\n",
       "<tr><td>total </td><td style=\"text-align: right;\"> 0      </td><td style=\"text-align: right;\"> 0       </td><td style=\"text-align: right;\">4.7413   </td><td style=\"text-align: right;\"> 0       </td></tr>\n",
       "</tbody>\n",
       "</table>"
      ],
      "text/plain": [
       "name      deltaT    epsilon         UA          Q\n",
       "------  --------  ---------  ---------  ---------\n",
       "gen      4.66502   0.590963  1.87755    17.2997\n",
       "rect     7.91501   0.887821  0.0147548   0.469222\n",
       "abs      4.98716   0.524786  2.493      17.4349\n",
       "cond     6.94461   0.965574  0.178902    1.24657\n",
       "evap     7.75244   0.98292   0.177097    1.3747\n",
       "totalUA = 4.741299016737931"
      ]
     },
     "metadata": {},
     "output_type": "display_data"
    },
    {
     "name": "stdout",
     "output_type": "stream",
     "text": [
      "Case 49, T_heat_reject = 328.15 K, Q_fraction = 1.0, Q_goal = -16.075082206722065\n",
      "Case 50, T_heat_reject = 328.15 K, Q_fraction = 0.95, Q_goal = -15.271328096385961\n",
      "First pass and we have this ... \n"
     ]
    },
    {
     "data": {
      "text/plain": [
       "ValueError('In rectifier, net mass or ammonia flow is negative.')"
      ]
     },
     "metadata": {},
     "output_type": "display_data"
    },
    {
     "name": "stdout",
     "output_type": "stream",
     "text": [
      "Second pass and we have this ... \n"
     ]
    },
    {
     "data": {
      "text/plain": [
       "ValueError('In rectifier, net mass or ammonia flow is negative.')"
      ]
     },
     "metadata": {},
     "output_type": "display_data"
    },
    {
     "name": "stdout",
     "output_type": "stream",
     "text": [
      "Third pass and we have this ... \n"
     ]
    },
    {
     "data": {
      "text/plain": [
       "ValueError('In rectifier, net mass or ammonia flow is negative.')"
      ]
     },
     "metadata": {},
     "output_type": "display_data"
    },
    {
     "name": "stdout",
     "output_type": "stream",
     "text": [
      "Case 51, T_heat_reject = 328.15 K, Q_fraction = 0.9, Q_goal = -14.467573986049858\n",
      "First pass and we have this ... \n"
     ]
    },
    {
     "data": {
      "text/plain": [
       "ValueError('In rectifier, net mass or ammonia flow is negative.')"
      ]
     },
     "metadata": {},
     "output_type": "display_data"
    },
    {
     "name": "stdout",
     "output_type": "stream",
     "text": [
      "Second pass and we have this ... \n"
     ]
    },
    {
     "data": {
      "text/plain": [
       "ValueError('In rectifier, net mass or ammonia flow is negative.')"
      ]
     },
     "metadata": {},
     "output_type": "display_data"
    },
    {
     "name": "stdout",
     "output_type": "stream",
     "text": [
      "Third pass and we have this ... \n"
     ]
    },
    {
     "data": {
      "text/plain": [
       "ValueError('In rectifier, net mass or ammonia flow is negative.')"
      ]
     },
     "metadata": {},
     "output_type": "display_data"
    },
    {
     "name": "stdout",
     "output_type": "stream",
     "text": [
      "Case 52, T_heat_reject = 328.15 K, Q_fraction = 0.8, Q_goal = -12.860065765377653\n",
      "First pass and we have this ... \n"
     ]
    },
    {
     "data": {
      "text/plain": [
       "ValueError('In rectifier, net mass or ammonia flow is negative.')"
      ]
     },
     "metadata": {},
     "output_type": "display_data"
    },
    {
     "name": "stdout",
     "output_type": "stream",
     "text": [
      "Second pass and we have this ... \n"
     ]
    },
    {
     "data": {
      "text/plain": [
       "ValueError('In rectifier, net mass or ammonia flow is negative.')"
      ]
     },
     "metadata": {},
     "output_type": "display_data"
    },
    {
     "name": "stdout",
     "output_type": "stream",
     "text": [
      "Third pass and we have this ... \n"
     ]
    },
    {
     "data": {
      "text/plain": [
       "ValueError('In rectifier, net mass or ammonia flow is negative.')"
      ]
     },
     "metadata": {},
     "output_type": "display_data"
    },
    {
     "name": "stdout",
     "output_type": "stream",
     "text": [
      "Case 53, T_heat_reject = 328.15 K, Q_fraction = 0.5, Q_goal = -8.037541103361033\n",
      "First pass and we have this ... \n"
     ]
    },
    {
     "data": {
      "text/plain": [
       "ValueError('In rectifier, net mass or ammonia flow is negative.')"
      ]
     },
     "metadata": {},
     "output_type": "display_data"
    },
    {
     "name": "stdout",
     "output_type": "stream",
     "text": [
      "Second pass and we have this ... \n"
     ]
    },
    {
     "data": {
      "text/plain": [
       "ValueError('In rectifier, net mass or ammonia flow is negative.')"
      ]
     },
     "metadata": {},
     "output_type": "display_data"
    },
    {
     "name": "stdout",
     "output_type": "stream",
     "text": [
      "Third pass and we have this ... \n"
     ]
    },
    {
     "data": {
      "text/plain": [
       "ValueError('In rectifier, net mass or ammonia flow is negative.')"
      ]
     },
     "metadata": {},
     "output_type": "display_data"
    },
    {
     "name": "stdout",
     "output_type": "stream",
     "text": [
      "Case 54, T_heat_reject = 328.15 K, Q_fraction = 0.2, Q_goal = -3.2150164413444133\n",
      "First pass and we have this ... \n"
     ]
    },
    {
     "data": {
      "text/plain": [
       "ValueError('In rectifier, net mass or ammonia flow is negative.')"
      ]
     },
     "metadata": {},
     "output_type": "display_data"
    },
    {
     "name": "stdout",
     "output_type": "stream",
     "text": [
      "Second pass and we have this ... \n"
     ]
    },
    {
     "data": {
      "text/plain": [
       "ValueError('In rectifier, net mass or ammonia flow is negative.')"
      ]
     },
     "metadata": {},
     "output_type": "display_data"
    },
    {
     "name": "stdout",
     "output_type": "stream",
     "text": [
      "Third pass and we have this ... \n"
     ]
    },
    {
     "data": {
      "text/plain": [
       "ValueError('In rectifier, net mass or ammonia flow is negative.')"
      ]
     },
     "metadata": {},
     "output_type": "display_data"
    },
    {
     "name": "stdout",
     "output_type": "stream",
     "text": [
      "Case 55, T_heat_reject = 328.15 K, Q_fraction = 0.1, Q_goal = -1.6075082206722067\n",
      "First pass and we have this ... \n"
     ]
    },
    {
     "data": {
      "text/plain": [
       "ValueError('In rectifier, net mass or ammonia flow is negative.')"
      ]
     },
     "metadata": {},
     "output_type": "display_data"
    },
    {
     "name": "stdout",
     "output_type": "stream",
     "text": [
      "Second pass and we have this ... \n"
     ]
    },
    {
     "data": {
      "text/plain": [
       "ValueError('In rectifier, net mass or ammonia flow is negative.')"
      ]
     },
     "metadata": {},
     "output_type": "display_data"
    },
    {
     "name": "stdout",
     "output_type": "stream",
     "text": [
      "Third pass and we have this ... \n"
     ]
    },
    {
     "data": {
      "text/plain": [
       "ValueError('In rectifier, net mass or ammonia flow is negative.')"
      ]
     },
     "metadata": {},
     "output_type": "display_data"
    },
    {
     "name": "stdout",
     "output_type": "stream",
     "text": [
      "Case 56, T_heat_reject = 333.15 K, Q_fraction = 1.0, Q_goal = -34.54102430776841\n",
      "Case 57, T_heat_reject = 333.15 K, Q_fraction = 0.95, Q_goal = -32.81397309237999\n",
      "First pass and we have this ... \n"
     ]
    },
    {
     "data": {
      "text/plain": [
       "ValueError('In rectifier, net mass or ammonia flow is negative.')"
      ]
     },
     "metadata": {},
     "output_type": "display_data"
    },
    {
     "name": "stdout",
     "output_type": "stream",
     "text": [
      "Second pass and we have this ... \n"
     ]
    },
    {
     "data": {
      "text/plain": [
       "ValueError('In rectifier, net mass or ammonia flow is negative.')"
      ]
     },
     "metadata": {},
     "output_type": "display_data"
    },
    {
     "name": "stdout",
     "output_type": "stream",
     "text": [
      "Third pass and we have this ... \n"
     ]
    },
    {
     "data": {
      "text/plain": [
       "ValueError('In rectifier, net mass or ammonia flow is negative.')"
      ]
     },
     "metadata": {},
     "output_type": "display_data"
    },
    {
     "name": "stdout",
     "output_type": "stream",
     "text": [
      "Case 58, T_heat_reject = 333.15 K, Q_fraction = 0.9, Q_goal = -31.08692187699157\n",
      "First pass and we have this ... \n"
     ]
    },
    {
     "data": {
      "text/plain": [
       "ValueError('In rectifier, net mass or ammonia flow is negative.')"
      ]
     },
     "metadata": {},
     "output_type": "display_data"
    },
    {
     "name": "stdout",
     "output_type": "stream",
     "text": [
      "Second pass and we have this ... \n"
     ]
    },
    {
     "data": {
      "text/plain": [
       "ValueError('In rectifier, net mass or ammonia flow is negative.')"
      ]
     },
     "metadata": {},
     "output_type": "display_data"
    },
    {
     "name": "stdout",
     "output_type": "stream",
     "text": [
      "Third pass and we have this ... \n"
     ]
    },
    {
     "data": {
      "text/plain": [
       "ValueError('In rectifier, net mass or ammonia flow is negative.')"
      ]
     },
     "metadata": {},
     "output_type": "display_data"
    },
    {
     "name": "stdout",
     "output_type": "stream",
     "text": [
      "Case 59, T_heat_reject = 333.15 K, Q_fraction = 0.8, Q_goal = -27.63281944621473\n",
      "First pass and we have this ... \n"
     ]
    },
    {
     "data": {
      "text/plain": [
       "ValueError('In rectifier, net mass or ammonia flow is negative.')"
      ]
     },
     "metadata": {},
     "output_type": "display_data"
    },
    {
     "name": "stdout",
     "output_type": "stream",
     "text": [
      "Second pass and we have this ... \n"
     ]
    },
    {
     "data": {
      "text/plain": [
       "ValueError('In rectifier, net mass or ammonia flow is negative.')"
      ]
     },
     "metadata": {},
     "output_type": "display_data"
    },
    {
     "name": "stdout",
     "output_type": "stream",
     "text": [
      "Third pass and we have this ... \n"
     ]
    },
    {
     "data": {
      "text/plain": [
       "ValueError('In rectifier, net mass or ammonia flow is negative.')"
      ]
     },
     "metadata": {},
     "output_type": "display_data"
    },
    {
     "name": "stdout",
     "output_type": "stream",
     "text": [
      "Case 60, T_heat_reject = 333.15 K, Q_fraction = 0.5, Q_goal = -17.270512153884205\n",
      "First pass and we have this ... \n"
     ]
    },
    {
     "data": {
      "text/plain": [
       "ValueError('In rectifier, net mass or ammonia flow is negative.')"
      ]
     },
     "metadata": {},
     "output_type": "display_data"
    },
    {
     "name": "stdout",
     "output_type": "stream",
     "text": [
      "Second pass and we have this ... \n"
     ]
    },
    {
     "data": {
      "text/plain": [
       "ValueError('In rectifier, net mass or ammonia flow is negative.')"
      ]
     },
     "metadata": {},
     "output_type": "display_data"
    },
    {
     "name": "stdout",
     "output_type": "stream",
     "text": [
      "Third pass and we have this ... \n"
     ]
    },
    {
     "data": {
      "text/plain": [
       "ValueError('In rectifier, net mass or ammonia flow is negative.')"
      ]
     },
     "metadata": {},
     "output_type": "display_data"
    },
    {
     "name": "stdout",
     "output_type": "stream",
     "text": [
      "Case 61, T_heat_reject = 333.15 K, Q_fraction = 0.2, Q_goal = -6.908204861553682\n",
      "First pass and we have this ... \n"
     ]
    },
    {
     "data": {
      "text/plain": [
       "ValueError('In rectifier, net mass or ammonia flow is negative.')"
      ]
     },
     "metadata": {},
     "output_type": "display_data"
    },
    {
     "name": "stdout",
     "output_type": "stream",
     "text": [
      "Second pass and we have this ... \n"
     ]
    },
    {
     "data": {
      "text/plain": [
       "ValueError('In rectifier, net mass or ammonia flow is negative.')"
      ]
     },
     "metadata": {},
     "output_type": "display_data"
    },
    {
     "name": "stdout",
     "output_type": "stream",
     "text": [
      "Third pass and we have this ... \n"
     ]
    },
    {
     "data": {
      "text/plain": [
       "ValueError('In rectifier, net mass or ammonia flow is negative.')"
      ]
     },
     "metadata": {},
     "output_type": "display_data"
    },
    {
     "name": "stdout",
     "output_type": "stream",
     "text": [
      "Case 62, T_heat_reject = 333.15 K, Q_fraction = 0.1, Q_goal = -3.454102430776841\n",
      "First pass and we have this ... \n"
     ]
    },
    {
     "data": {
      "text/plain": [
       "ValueError('In rectifier, net mass or ammonia flow is negative.')"
      ]
     },
     "metadata": {},
     "output_type": "display_data"
    },
    {
     "name": "stdout",
     "output_type": "stream",
     "text": [
      "Second pass and we have this ... \n"
     ]
    },
    {
     "data": {
      "text/plain": [
       "ValueError('In rectifier, net mass or ammonia flow is negative.')"
      ]
     },
     "metadata": {},
     "output_type": "display_data"
    },
    {
     "name": "stdout",
     "output_type": "stream",
     "text": [
      "Third pass and we have this ... \n"
     ]
    },
    {
     "data": {
      "text/plain": [
       "ValueError('In rectifier, net mass or ammonia flow is negative.')"
      ]
     },
     "metadata": {},
     "output_type": "display_data"
    }
   ],
   "source": [
    "dry_run = False\n",
    "for i,index in enumerate(opts2.index):\n",
    "    tr,qf = index\n",
    "    q_max = opts2.Q[(tr,1)]\n",
    "    q_goal = q_max * qf\n",
    "    print(\"Case {}, T_heat_reject = {} K, Q_fraction = {}, Q_goal = {}\".format(i, tr, qf, q_goal))\n",
    "\n",
    "    if opts2.opt[index] is numpy.nan:\n",
    "        xB = [400, 1, tr, 3, tr, 5, 285, 4, tr, 0.15]\n",
    "        bdry = system_aqua1.makeBoundary(xB)\n",
    "        P = Problem_2_5_B(bdry,q_goal)\n",
    "        x = numpy.array([0.05, 278.45, tr+7, tr+8, tr+5, 395.15])\n",
    "        \n",
    "        if not dry_run:\n",
    "            P.n_calls = 7*30\n",
    "            opt = scipy.optimize.minimize(P.objective, x, method=\"COBYLA\",\n",
    "                                          constraints=P.constraints,\n",
    "                                          options={'disp':True,'maxiter':50,'rhobeg':0.1})\n",
    "            x = opt.x\n",
    "            print(\"First pass and we have this ... \")\n",
    "            display_result(x)\n",
    "\n",
    "            P.n_calls = 7*40\n",
    "            opt = scipy.optimize.minimize(P.objective, x, method=\"COBYLA\",\n",
    "                                          constraints=P.constraints,\n",
    "                                          options={'disp':True,'maxiter':50,'rhobeg':0.1})\n",
    "            x = opt.x\n",
    "            print(\"Second pass and we have this ... \")\n",
    "            display_result(x)\n",
    "\n",
    "            P.n_calls = 7*50\n",
    "            opt = scipy.optimize.minimize(P.objective, x, method=\"COBYLA\",\n",
    "                                          constraints=P.constraints,\n",
    "                                          options={'disp':True,'maxiter':50,'rhobeg':0.01})\n",
    "            x = opt.x\n",
    "            print(\"Third pass and we have this ... \")\n",
    "            display_result(x)\n",
    "\n",
    "            opts2.opt[index] = opt\n",
    "        "
   ]
  },
  {
   "cell_type": "code",
   "execution_count": 46,
   "metadata": {},
   "outputs": [
    {
     "name": "stdout",
     "output_type": "stream",
     "text": [
      "Case 0, T_heat_reject = 293.15 K, Q_fraction = 1.0, Q_goal = 128.97739149780878\n",
      "Case 1, T_heat_reject = 293.15 K, Q_fraction = 0.95, Q_goal = 122.52852192291833\n"
     ]
    },
    {
     "name": "stderr",
     "output_type": "stream",
     "text": [
      "C:\\Users\\nfette\\Miniconda3\\envs\\openACHP\\lib\\site-packages\\scipy\\interpolate\\_cubic.py:147: RuntimeWarning: divide by zero encountered in true_divide\n",
      "  mk = (y[1:] - y[:-1]) / hk\n",
      "C:\\Users\\nfette\\Miniconda3\\envs\\openACHP\\lib\\site-packages\\scipy\\interpolate\\_cubic.py:165: RuntimeWarning: invalid value encountered in true_divide\n",
      "  whmean = (w1/mk[:-1] + w2/mk[1:]) / (w1 + w2)\n"
     ]
    },
    {
     "name": "stdout",
     "output_type": "stream",
     "text": [
      "Case 2, T_heat_reject = 293.15 K, Q_fraction = 0.9, Q_goal = 116.0796523480279\n",
      "Case 3, T_heat_reject = 293.15 K, Q_fraction = 0.8, Q_goal = 103.18191319824703\n",
      "Case 4, T_heat_reject = 293.15 K, Q_fraction = 0.5, Q_goal = 64.48869574890439\n",
      "Case 5, T_heat_reject = 293.15 K, Q_fraction = 0.2, Q_goal = 25.795478299561758\n",
      "Case 6, T_heat_reject = 293.15 K, Q_fraction = 0.1, Q_goal = 12.897739149780879\n",
      "Case 7, T_heat_reject = 298.15 K, Q_fraction = 1.0, Q_goal = 128.0341529310197\n",
      "Case 8, T_heat_reject = 298.15 K, Q_fraction = 0.95, Q_goal = 121.6324452844687\n",
      "Case 9, T_heat_reject = 298.15 K, Q_fraction = 0.9, Q_goal = 115.23073763791773\n",
      "Case 10, T_heat_reject = 298.15 K, Q_fraction = 0.8, Q_goal = 102.42732234481576\n",
      "Case 11, T_heat_reject = 298.15 K, Q_fraction = 0.5, Q_goal = 64.01707646550985\n",
      "Case 12, T_heat_reject = 298.15 K, Q_fraction = 0.2, Q_goal = 25.60683058620394\n",
      "Case 13, T_heat_reject = 298.15 K, Q_fraction = 0.1, Q_goal = 12.80341529310197\n",
      "Case 14, T_heat_reject = 303.15 K, Q_fraction = 1.0, Q_goal = 130.9422995649034\n",
      "Case 15, T_heat_reject = 303.15 K, Q_fraction = 0.95, Q_goal = 124.39518458665823\n",
      "Case 16, T_heat_reject = 303.15 K, Q_fraction = 0.9, Q_goal = 117.84806960841307\n",
      "Case 17, T_heat_reject = 303.15 K, Q_fraction = 0.8, Q_goal = 104.75383965192273\n",
      "Case 18, T_heat_reject = 303.15 K, Q_fraction = 0.5, Q_goal = 65.4711497824517\n",
      "Case 19, T_heat_reject = 303.15 K, Q_fraction = 0.2, Q_goal = 26.188459912980683\n",
      "Case 20, T_heat_reject = 303.15 K, Q_fraction = 0.1, Q_goal = 13.094229956490341\n",
      "Case 21, T_heat_reject = 308.15 K, Q_fraction = 1.0, Q_goal = 109.22340625797965\n",
      "Case 22, T_heat_reject = 308.15 K, Q_fraction = 0.95, Q_goal = 103.76223594508066\n",
      "Case 23, T_heat_reject = 308.15 K, Q_fraction = 0.9, Q_goal = 98.30106563218169\n",
      "Case 24, T_heat_reject = 308.15 K, Q_fraction = 0.8, Q_goal = 87.37872500638372\n",
      "Case 25, T_heat_reject = 308.15 K, Q_fraction = 0.5, Q_goal = 54.611703128989824\n",
      "Case 26, T_heat_reject = 308.15 K, Q_fraction = 0.2, Q_goal = 21.84468125159593\n",
      "Case 27, T_heat_reject = 308.15 K, Q_fraction = 0.1, Q_goal = 10.922340625797965\n",
      "Case 28, T_heat_reject = 313.15 K, Q_fraction = 1.0, Q_goal = 75.44068864793124\n",
      "Case 29, T_heat_reject = 313.15 K, Q_fraction = 0.95, Q_goal = 71.66865421553467\n",
      "Case 30, T_heat_reject = 313.15 K, Q_fraction = 0.9, Q_goal = 67.89661978313812\n",
      "Case 31, T_heat_reject = 313.15 K, Q_fraction = 0.8, Q_goal = 60.352550918344996\n",
      "Case 32, T_heat_reject = 313.15 K, Q_fraction = 0.5, Q_goal = 37.72034432396562\n",
      "Case 33, T_heat_reject = 313.15 K, Q_fraction = 0.2, Q_goal = 15.088137729586249\n",
      "Case 34, T_heat_reject = 313.15 K, Q_fraction = 0.1, Q_goal = 7.544068864793124\n",
      "Case 35, T_heat_reject = 318.15 K, Q_fraction = 1.0, Q_goal = 43.58900444494315\n",
      "Case 36, T_heat_reject = 318.15 K, Q_fraction = 0.95, Q_goal = 41.40955422269599\n",
      "Case 37, T_heat_reject = 318.15 K, Q_fraction = 0.9, Q_goal = 39.23010400044883\n",
      "Case 38, T_heat_reject = 318.15 K, Q_fraction = 0.8, Q_goal = 34.87120355595452\n",
      "Case 39, T_heat_reject = 318.15 K, Q_fraction = 0.5, Q_goal = 21.794502222471575\n",
      "Case 40, T_heat_reject = 318.15 K, Q_fraction = 0.2, Q_goal = 8.71780088898863\n",
      "Case 41, T_heat_reject = 318.15 K, Q_fraction = 0.1, Q_goal = 4.358900444494315\n",
      "Case 42, T_heat_reject = 323.15 K, Q_fraction = 1.0, Q_goal = 13.745885490702227\n",
      "Case 43, T_heat_reject = 323.15 K, Q_fraction = 0.95, Q_goal = 13.058591216167114\n",
      "Case 44, T_heat_reject = 323.15 K, Q_fraction = 0.9, Q_goal = 12.371296941632004\n",
      "Case 45, T_heat_reject = 323.15 K, Q_fraction = 0.8, Q_goal = 10.996708392561782\n",
      "Case 46, T_heat_reject = 323.15 K, Q_fraction = 0.5, Q_goal = 6.872942745351113\n",
      "Case 47, T_heat_reject = 323.15 K, Q_fraction = 0.2, Q_goal = 2.7491770981404455\n",
      "Case 48, T_heat_reject = 323.15 K, Q_fraction = 0.1, Q_goal = 1.3745885490702228\n",
      "Case 49, T_heat_reject = 328.15 K, Q_fraction = 1.0, Q_goal = -16.075082206722065\n",
      "Case 50, T_heat_reject = 328.15 K, Q_fraction = 0.95, Q_goal = -15.271328096385961\n",
      "Case 51, T_heat_reject = 328.15 K, Q_fraction = 0.9, Q_goal = -14.467573986049858\n",
      "Case 52, T_heat_reject = 328.15 K, Q_fraction = 0.8, Q_goal = -12.860065765377653\n",
      "Case 53, T_heat_reject = 328.15 K, Q_fraction = 0.5, Q_goal = -8.037541103361033\n",
      "Case 54, T_heat_reject = 328.15 K, Q_fraction = 0.2, Q_goal = -3.2150164413444133\n",
      "Case 55, T_heat_reject = 328.15 K, Q_fraction = 0.1, Q_goal = -1.6075082206722067\n",
      "Case 56, T_heat_reject = 333.15 K, Q_fraction = 1.0, Q_goal = -34.54102430776841\n",
      "Case 57, T_heat_reject = 333.15 K, Q_fraction = 0.95, Q_goal = -32.81397309237999\n",
      "Case 58, T_heat_reject = 333.15 K, Q_fraction = 0.9, Q_goal = -31.08692187699157\n",
      "Case 59, T_heat_reject = 333.15 K, Q_fraction = 0.8, Q_goal = -27.63281944621473\n",
      "Case 60, T_heat_reject = 333.15 K, Q_fraction = 0.5, Q_goal = -17.270512153884205\n",
      "Case 61, T_heat_reject = 333.15 K, Q_fraction = 0.2, Q_goal = -6.908204861553682\n",
      "Case 62, T_heat_reject = 333.15 K, Q_fraction = 0.1, Q_goal = -3.454102430776841\n"
     ]
    }
   ],
   "source": [
    "dry_run = False\n",
    "for i,index in enumerate(opts2.index):\n",
    "    tr,qf = index\n",
    "    q_max = opts2.Q[(tr,1)]\n",
    "    q_goal = q_max * qf\n",
    "    print(\"Case {}, T_heat_reject = {} K, Q_fraction = {}, Q_goal = {}\".format(i, tr, qf, q_goal))\n",
    "\n",
    "    if opts2.opt[index] is not numpy.nan and opts2.Q[index] is numpy.nan:\n",
    "        try:\n",
    "            xB = [400, 1, tr, 3, tr, 5, 285, 4, tr, 0.15]\n",
    "            bdry = system_aqua1.makeBoundary(xB)\n",
    "            x = opts2.opt[index].x\n",
    "            ch = system_aqua1.makeChiller(x)\n",
    "            sys = system_aqua1.System(bdry, ch)\n",
    "            opts2.Q[index] = ch.Q_evap\n",
    "        except KeyboardInterrupt:\n",
    "            raise\n",
    "        except:\n",
    "            pass"
   ]
  },
  {
   "cell_type": "code",
   "execution_count": 159,
   "metadata": {},
   "outputs": [
    {
     "name": "stdout",
     "output_type": "stream",
     "text": [
      "[  3.23139528e-01   2.78641275e+02   3.12291755e+02   3.13259021e+02\n",
      "   3.10228713e+02   3.95250062e+02]\n"
     ]
    },
    {
     "name": "stderr",
     "output_type": "stream",
     "text": [
      "C:\\Users\\nfette\\Miniconda3\\envs\\openACHP\\lib\\site-packages\\scipy\\optimize\\_minimize.py:403: RuntimeWarning: Method COBYLA does not support callback.\n",
      "  warn('Method %s does not support callback.' % method, RuntimeWarning)\n"
     ]
    },
    {
     "name": "stdout",
     "output_type": "stream",
     "text": [
      "Note: Absorber inlet is subcooled\n"
     ]
    },
    {
     "name": "stderr",
     "output_type": "stream",
     "text": [
      "C:\\Users\\nfette\\Miniconda3\\envs\\openACHP\\lib\\site-packages\\scipy\\interpolate\\_cubic.py:147: RuntimeWarning: divide by zero encountered in true_divide\n",
      "  mk = (y[1:] - y[:-1]) / hk\n",
      "C:\\Users\\nfette\\Miniconda3\\envs\\openACHP\\lib\\site-packages\\scipy\\interpolate\\_cubic.py:165: RuntimeWarning: invalid value encountered in true_divide\n",
      "  whmean = (w1/mk[:-1] + w2/mk[1:]) / (w1 + w2)\n"
     ]
    },
    {
     "name": "stdout",
     "output_type": "stream",
     "text": [
      "176.0 25.0 138.19835208991435 0.118474468961 0.0 \n",
      "\n",
      "[  3.33139528e-01   2.78641275e+02   3.12291755e+02   3.13259021e+02\n",
      "   3.10228713e+02   3.95250062e+02]\n",
      "Note: Absorber inlet is subcooled\n",
      "177.0 25.0 153.19282242496664 1.65573909183 0.0 \n",
      "\n",
      "[  3.23139528e-01   2.78651275e+02   3.12291755e+02   3.13259021e+02\n",
      "   3.10228713e+02   3.95250062e+02]\n",
      "Note: Absorber inlet is subcooled\n",
      "178.0 25.0 138.537420450732 0.137721707638 0.0 \n",
      "\n",
      "[  3.23139528e-01   2.78641275e+02   3.12301755e+02   3.13259021e+02\n",
      "   3.10228713e+02   3.95250062e+02]\n",
      "Note: Absorber inlet is subcooled\n",
      "179.0 25.0 138.02564423858303 0.11642563615 0.0 \n",
      "\n",
      "[  3.23139528e-01   2.78641275e+02   3.12301755e+02   3.13269021e+02\n",
      "   3.10228713e+02   3.95250062e+02]\n",
      "Note: Absorber inlet is subcooled\n",
      "180.0 25.0 138.02541019578706 0.11642563615 0.0 \n",
      "\n",
      "[  3.23139528e-01   2.78641275e+02   3.12301755e+02   3.13269021e+02\n",
      "   3.10238713e+02   3.95250062e+02]\n",
      "Note: Absorber inlet is subcooled\n",
      "181.0 25.0 137.76089753239407 0.113325785726 1.90304608771 \n",
      "\n",
      "[  3.23139528e-01   2.78641275e+02   3.12301755e+02   3.13269021e+02\n",
      "   3.10228713e+02   3.95260062e+02]\n",
      "Note: Absorber inlet is subcooled\n",
      "182.0 25.0 138.11933928130702 0.117784938847 0.0 \n",
      "\n",
      "[  3.13191132e-01   2.78641059e+02   3.12301860e+02   3.13269021e+02\n",
      "   3.10227729e+02   3.95250004e+02]\n",
      "Note: Absorber inlet is subcooled\n",
      "183.0 26.0 126.25881782715973 0.00255257049659 31599.5423089 \n",
      "\n",
      "[  3.28139528e-01   2.78641275e+02   3.12301755e+02   3.13269021e+02\n",
      "   3.10228713e+02   3.95250062e+02]\n",
      "Note: Absorber inlet is subcooled\n",
      "184.0 26.0 144.99245977792415 0.192442355152 0.0 \n",
      "\n",
      "[  3.23139500e-01   2.78638775e+02   3.12301755e+02   3.13269021e+02\n",
      "   3.10228713e+02   3.95250062e+02]\n",
      "Note: Absorber inlet is subcooled\n",
      "185.0 26.0 137.9415595512446 0.0429795187076 0.0929791504778 \n",
      "\n",
      "[  3.18174167e-01   2.78638684e+02   3.12301816e+02   3.13269021e+02\n",
      "   3.10228137e+02   3.95250028e+02]\n",
      "Note: Absorber inlet is subcooled\n",
      "186.0 26.0 131.79251510559678 0.0101707660583 7939.0867178 \n",
      "\n",
      "[  3.23170513e-01   2.78638775e+02   3.12304255e+02   3.13269021e+02\n",
      "   3.10228713e+02   3.95250062e+02]\n",
      "Note: Absorber inlet is subcooled\n",
      "187.0 26.0 137.93913544693027 0.043161211038 0.00194016500195 \n",
      "\n",
      "[  3.28170130e-01   2.78638775e+02   3.12304193e+02   3.13269021e+02\n",
      "   3.10228713e+02   3.95250062e+02]\n",
      "Note: Absorber inlet is subcooled\n",
      "188.0 26.0 144.89640236352858 0.185329551922 0.0 \n",
      "\n",
      "[  3.23170513e-01   2.78638775e+02   3.12304255e+02   3.13271521e+02\n",
      "   3.10228713e+02   3.95250062e+02]\n",
      "Note: Absorber inlet is subcooled\n",
      "189.0 26.0 137.93907698114046 0.0431612105777 0.00194022274891 \n",
      "\n",
      "[  3.18207977e-01   2.78638685e+02   3.12304447e+02   3.13271521e+02\n",
      "   3.10228141e+02   3.95250028e+02]\n",
      "Note: Absorber inlet is subcooled\n",
      "190.0 27.0 131.78959358571416 0.00303699179993 10644.6754616 \n",
      "\n",
      "[  3.23456625e-01   2.78638775e+02   3.12304251e+02   3.13271521e+02\n",
      "   3.10226229e+02   3.95250062e+02]\n",
      "Note: Absorber inlet is subcooled\n",
      "191.0 27.0 138.38101250640327 0.0165576781242 0.0 \n",
      "\n",
      "[  3.28137230e-01   2.78638775e+02   3.12304193e+02   3.13271521e+02\n",
      "   3.10229286e+02   3.95250062e+02]\n",
      "Note: Absorber inlet is subcooled\n",
      "192.0 27.0 144.83136855962226 0.0741071005773 0.0 \n",
      "\n",
      "[  3.23170502e-01   2.78638775e+02   3.12304255e+02   3.13271521e+02\n",
      "   3.10228713e+02   3.95247562e+02]\n",
      "Note: Absorber inlet is subcooled\n",
      "193.0 27.0 137.91562184924953 0.0149248998166 0.0782271139283 \n",
      "\n",
      "[  3.18175364e-01   2.78638683e+02   3.12304450e+02   3.13271521e+02\n",
      "   3.10228734e+02   3.95250097e+02]\n",
      "Note: Absorber inlet is subcooled\n",
      "194.0 27.0 131.73679051802557 0.0029997222913 10809.3981417 \n",
      "\n",
      "[  3.20672938e-01   2.78638729e+02   3.12304353e+02   3.13271521e+02\n",
      "   3.10228724e+02   3.95250079e+02]\n",
      "Note: Absorber inlet is subcooled\n",
      "195.0 27.0 134.75616756934772 0.00669666290503 2705.03044583 \n",
      "\n",
      "[  3.24412182e-01   2.78638775e+02   3.12304239e+02   3.13271521e+02\n",
      "   3.10228856e+02   3.95250062e+02]\n",
      "Note: Absorber inlet is subcooled\n",
      "196.0 27.0 139.5841318766684 0.0223348953682 0.0 \n",
      "\n",
      "[  3.23170491e-01   2.78638150e+02   3.12304255e+02   3.13271521e+02\n",
      "   3.10228713e+02   3.95250062e+02]\n",
      "Note: Absorber inlet is subcooled\n",
      "197.0 28.0 137.91813679181814 0.00459398472166 0.052880816282 \n",
      "\n",
      "[  3.21921731e-01   2.78638137e+02   3.12304306e+02   3.13271521e+02\n",
      "   3.10228728e+02   3.95250071e+02]\n",
      "Note: Absorber inlet is subcooled\n",
      "198.0 28.0 136.3056217795911 0.00294356690507 924.912261782 \n",
      "\n",
      "[  3.23196083e-01   2.78638150e+02   3.12304879e+02   3.13271521e+02\n",
      "   3.10228715e+02   3.95250062e+02]\n",
      "Note: Absorber inlet is subcooled\n",
      "199.0 28.0 137.94083333831196 0.0046292303216 0.0 \n",
      "\n",
      "[  3.24436786e-01   2.78638150e+02   3.12304828e+02   3.13271521e+02\n",
      "   3.10228858e+02   3.95250062e+02]\n",
      "Note: Absorber inlet is subcooled\n",
      "200.0 28.0 139.58531636409097 0.00719901414724 0.0 \n",
      "\n",
      "[  3.23124417e-01   2.78638150e+02   3.12304880e+02   3.13271521e+02\n",
      "   3.10229336e+02   3.95250062e+02]\n",
      "Note: Absorber inlet is subcooled\n",
      "201.0 28.0 137.830647792373 0.00450248878287 2.54051460496 \n",
      "\n",
      "[  3.22934256e-01   2.78638146e+02   3.12304909e+02   3.13271521e+02\n",
      "   3.10227493e+02   3.95250065e+02]\n",
      "Note: Absorber inlet is subcooled\n",
      "202.0 28.0 137.63086512755058 0.00423500069504 33.0063063046 \n",
      "\n",
      "[  3.23195896e-01   2.78638150e+02   3.12304879e+02   3.13271521e+02\n",
      "   3.10228717e+02   3.95250687e+02]\n",
      "Note: Absorber inlet is subcooled\n",
      "203.0 28.0 137.94640932305342 0.00463342703171 0.0 \n",
      "\n",
      "[  3.22994816e-01   2.78638149e+02   3.12304885e+02   3.13271521e+02\n",
      "   3.10229949e+02   3.95250058e+02]\n",
      "Note: Absorber inlet is subcooled\n",
      "204.0 29.0 137.64522589915805 0.00116881441655 32.0825565008 \n",
      "\n",
      "[  3.23196083e-01   2.78638150e+02   3.12304879e+02   3.13272146e+02\n",
      "   3.10228715e+02   3.95250062e+02]\n",
      "Note: Absorber inlet is subcooled\n",
      "205.0 29.0 137.9408187875418 0.00127146745137 0.0 \n",
      "\n",
      "[  3.23275337e-01   2.78638149e+02   3.12304882e+02   3.13272146e+02\n",
      "   3.10227468e+02   3.95250064e+02]\n",
      "Note: Absorber inlet is subcooled\n",
      "206.0 29.0 138.07772782877868 0.0013182628598 0.0 \n",
      "\n",
      "[  3.22573113e-01   2.78638144e+02   3.12304927e+02   3.13272149e+02\n",
      "   3.10228727e+02   3.95250057e+02]\n",
      "Note: Absorber inlet is subcooled\n",
      "207.0 29.0 137.1297810912522 0.000994572490398 294.635677088 \n",
      "\n",
      "[  3.23819297e-01   2.78638150e+02   3.12304854e+02   3.13272146e+02\n",
      "   3.10228755e+02   3.95250062e+02]\n",
      "Note: Absorber inlet is subcooled\n",
      "208.0 29.0 138.76176955303305 0.00162495783917 0.0 \n",
      "\n",
      "[  3.22884610e-01   2.78638147e+02   3.12304903e+02   3.13272147e+02\n",
      "   3.10228721e+02   3.95250059e+02]\n",
      "Note: Absorber inlet is subcooled\n",
      "209.0 29.0 137.53387916997 0.00112453001743 70.8055021656 \n",
      "\n",
      "[  3.23199180e-01   2.78638150e+02   3.12304878e+02   3.13272146e+02\n",
      "   3.10228871e+02   3.95250061e+02]\n",
      "Note: Absorber inlet is subcooled\n",
      "210.0 29.0 137.94073692913108 0.00127223067623 0.0 \n",
      "\n",
      "[  3.23511359e-01   2.78638150e+02   3.12304866e+02   3.13272146e+02\n",
      "   3.10228865e+02   3.95250061e+02]\n",
      "Note: Absorber inlet is subcooled\n",
      "211.0 30.0 138.35119748488498 0.000349535840483 0.0 \n",
      "\n",
      "[  3.23199165e-01   2.78637994e+02   3.12304878e+02   3.13272146e+02\n",
      "   3.10228871e+02   3.95250061e+02]\n",
      "Note: Absorber inlet is subcooled\n",
      "212.0 30.0 137.9354895196941 0.000303922753886 0.0 \n",
      "\n",
      "[  3.22887826e-01   2.78637984e+02   3.12304903e+02   3.13272147e+02\n",
      "   3.10228878e+02   3.95250059e+02]\n",
      "Note: Absorber inlet is subcooled\n",
      "213.0 30.0 137.52854306959324 0.000265318931774 95.6938079625 \n",
      "\n",
      "[  3.23211300e-01   2.78637994e+02   3.12305034e+02   3.13272146e+02\n",
      "   3.10228872e+02   3.95250061e+02]\n",
      "Note: Absorber inlet is subcooled\n",
      "214.0 30.0 137.94868460909987 0.000305395400112 0.0 \n",
      "\n",
      "[  3.23510653e-01   2.78637994e+02   3.12304854e+02   3.13272146e+02\n",
      "   3.10228865e+02   3.95250061e+02]\n",
      "Note: Absorber inlet is subcooled\n",
      "215.0 30.0 138.34519547164257 0.000348082792236 0.0 \n",
      "\n",
      "[  3.23199207e-01   2.78637994e+02   3.12304878e+02   3.13272146e+02\n",
      "   3.10228871e+02   3.95249905e+02]\n",
      "Note: Absorber inlet is subcooled\n",
      "216.0 30.0 137.93408970605464 0.000303838083875 0.0 \n",
      "\n",
      "[  3.22886952e-01   2.78637984e+02   3.12304883e+02   3.13272147e+02\n",
      "   3.10228877e+02   3.95249903e+02]\n",
      "Note: Absorber inlet is subcooled\n",
      "217.0 30.0 137.52630767117532 0.0002651547836 96.6036498962 \n",
      "\n",
      "[  3.23199848e-01   2.78637994e+02   3.12304878e+02   3.13272302e+02\n",
      "   3.10228871e+02   3.95249905e+02]\n",
      "Note: Absorber inlet is subcooled\n"
     ]
    },
    {
     "name": "stdout",
     "output_type": "stream",
     "text": [
      "218.0 31.0 137.93492603309292 6.27051179198e-05 0.0 \n",
      "\n",
      "[  3.23510692e-01   2.78637994e+02   3.12304854e+02   3.13272145e+02\n",
      "   3.10228865e+02   3.95249905e+02]\n",
      "Note: Absorber inlet is subcooled\n",
      "219.0 31.0 138.3437832789862 7.28263703382e-05 0.0 \n",
      "\n",
      "[  3.23043078e-01   2.78637989e+02   3.12304881e+02   3.13272146e+02\n",
      "   3.10228874e+02   3.95249904e+02]\n",
      "Note: Absorber inlet is subcooled\n",
      "220.0 31.0 137.7298352782445 5.81412976511e-05 30.2527135588 \n",
      "\n",
      "[  3.23298881e-01   2.78637994e+02   3.12304871e+02   3.13272146e+02\n",
      "   3.10228869e+02   3.95249905e+02]\n",
      "Note: Absorber inlet is subcooled\n",
      "221.0 31.0 138.0648716512608 6.57668283439e-05 0.0 \n",
      "\n",
      "[  3.23200198e-01   2.78637994e+02   3.12304878e+02   3.13272146e+02\n",
      "   3.10228921e+02   3.95249905e+02]\n",
      "Note: Absorber inlet is subcooled\n",
      "222.0 31.0 137.93406342834837 6.27004958696e-05 0.0 \n",
      "\n",
      "[  3.23100284e-01   2.78637991e+02   3.12304880e+02   3.13272146e+02\n",
      "   3.10228923e+02   3.95249904e+02]\n",
      "Note: Absorber inlet is subcooled\n",
      "223.0 31.0 137.80325649488984 5.9752197614e-05 11.2269654583 \n",
      "\n",
      "[  3.23201711e-01   2.78637944e+02   3.12304878e+02   3.13272146e+02\n",
      "   3.10228921e+02   3.95249905e+02]\n",
      "Note: Absorber inlet is subcooled\n",
      "224.0 31.0 137.93437475328474 6.26599586024e-05 0.0 \n",
      "\n",
      "[  3.23299823e-01   2.78637997e+02   3.12304870e+02   3.13272146e+02\n",
      "   3.10228919e+02   3.95249905e+02]\n",
      "Note: Absorber inlet is subcooled\n",
      "225.0 32.0 138.0648863875587 1.1555744577e-05 0.0 \n",
      "\n",
      "[  3.23196277e-01   2.78637994e+02   3.12304828e+02   3.13272146e+02\n",
      "   3.10228921e+02   3.95249905e+02]\n",
      "Note: Absorber inlet is subcooled\n",
      "226.0 32.0 137.92979221852897 1.09372746236e-05 0.0 \n",
      "\n",
      "[  3.23096349e-01   2.78637991e+02   3.12304830e+02   3.13272146e+02\n",
      "   3.10228923e+02   3.95249904e+02]\n",
      "Note: Absorber inlet is subcooled\n",
      "227.0 32.0 137.7989944411681 1.03703770245e-05 16.4138635888 \n",
      "\n"
     ]
    },
    {
     "data": {
      "text/plain": [
       "     fun: 154.21286840036998\n",
       "   maxcv: 0.0\n",
       " message: 'Optimization terminated successfully.'\n",
       "    nfev: 52\n",
       "  status: 1\n",
       " success: True\n",
       "       x: array([  3.23096349e-01,   2.78637991e+02,   3.12304830e+02,\n",
       "         3.13272146e+02,   3.10228923e+02,   3.95249904e+02])"
      ]
     },
     "execution_count": 159,
     "metadata": {},
     "output_type": "execute_result"
    }
   ],
   "source": [
    "P.n_calls = 7 * numpy.floor(P.n_calls / 7)\n",
    "opt = scipy.optimize.minimize(P.objective, x2, method=\"COBYLA\",\n",
    "                              constraints=P.constraints, callback=P.callback,\n",
    "                              options={'disp':True,'maxiter':100,'rhobeg':0.01})\n",
    "opt"
   ]
  },
  {
   "cell_type": "code",
   "execution_count": 182,
   "metadata": {},
   "outputs": [
    {
     "data": {
      "text/plain": [
       "array([  3.23096349e-01,   2.78637991e+02,   3.12304830e+02,\n",
       "         3.13272146e+02,   3.10228923e+02,   3.95249904e+02])"
      ]
     },
     "execution_count": 182,
     "metadata": {},
     "output_type": "execute_result"
    }
   ],
   "source": [
    "x2 = opt.x\n",
    "x2"
   ]
  },
  {
   "cell_type": "code",
   "execution_count": 161,
   "metadata": {},
   "outputs": [
    {
     "data": {
      "text/html": [
       "<h3>State points</h3>\n",
       "        <table>\n",
       "<thead>\n",
       "<tr><th>                         </th><th style=\"text-align: right;\">      T</th><th style=\"text-align: right;\">       P</th><th style=\"text-align: right;\">       x</th><th style=\"text-align: right;\">        h</th><th style=\"text-align: right;\">       s</th><th style=\"text-align: right;\">        u</th><th style=\"text-align: right;\">         v</th><th style=\"text-align: right;\">        Qu</th></tr>\n",
       "</thead>\n",
       "<tbody>\n",
       "<tr><td>rich_abs_outlet          </td><td style=\"text-align: right;\">310.229</td><td style=\"text-align: right;\"> 4.99213</td><td style=\"text-align: right;\">0.517237</td><td style=\"text-align: right;\"> -72.9791</td><td style=\"text-align: right;\">0.394813</td><td style=\"text-align: right;\"> -73.5949</td><td style=\"text-align: right;\">0.00123348</td><td style=\"text-align: right;\"> 0        </td></tr>\n",
       "<tr><td>rich_pump_outlet         </td><td style=\"text-align: right;\">310.394</td><td style=\"text-align: right;\">15.1992 </td><td style=\"text-align: right;\">0.517237</td><td style=\"text-align: right;\"> -71.4056</td><td style=\"text-align: right;\">0.395827</td><td style=\"text-align: right;\"> -73.2797</td><td style=\"text-align: right;\">0.00123301</td><td style=\"text-align: right;\">-0.001    </td></tr>\n",
       "<tr><td>rich_shx_outlet          </td><td style=\"text-align: right;\">350.055</td><td style=\"text-align: right;\">15.1992 </td><td style=\"text-align: right;\">0.517237</td><td style=\"text-align: right;\"> 110.147 </td><td style=\"text-align: right;\">0.946042</td><td style=\"text-align: right;\"> 108.164 </td><td style=\"text-align: right;\">0.00130451</td><td style=\"text-align: right;\">-0.001    </td></tr>\n",
       "<tr><td>rich_gen_sat_liquid      </td><td style=\"text-align: right;\">351.206</td><td style=\"text-align: right;\">15.1992 </td><td style=\"text-align: right;\">0.517237</td><td style=\"text-align: right;\"> 115.56  </td><td style=\"text-align: right;\">0.961482</td><td style=\"text-align: right;\"> 113.573 </td><td style=\"text-align: right;\">0.00130711</td><td style=\"text-align: right;\"> 0        </td></tr>\n",
       "<tr><td>weak_gen_outlet          </td><td style=\"text-align: right;\">395.25 </td><td style=\"text-align: right;\">15.1992 </td><td style=\"text-align: right;\">0.300604</td><td style=\"text-align: right;\"> 347.435 </td><td style=\"text-align: right;\">1.53761 </td><td style=\"text-align: right;\"> 345.533 </td><td style=\"text-align: right;\">0.00125114</td><td style=\"text-align: right;\"> 0        </td></tr>\n",
       "<tr><td>weak_shx_outlet          </td><td style=\"text-align: right;\">336.536</td><td style=\"text-align: right;\">15.1992 </td><td style=\"text-align: right;\">0.300604</td><td style=\"text-align: right;\">  84.3913</td><td style=\"text-align: right;\">0.817873</td><td style=\"text-align: right;\">  82.6393</td><td style=\"text-align: right;\">0.0011527 </td><td style=\"text-align: right;\">-0.001    </td></tr>\n",
       "<tr><td>weak_exp_outlet          </td><td style=\"text-align: right;\">336.713</td><td style=\"text-align: right;\"> 4.99213</td><td style=\"text-align: right;\">0.300604</td><td style=\"text-align: right;\">  84.3913</td><td style=\"text-align: right;\">0.821369</td><td style=\"text-align: right;\">  83.8154</td><td style=\"text-align: right;\">0.00115351</td><td style=\"text-align: right;\">-0.001    </td></tr>\n",
       "<tr><td>gen_vapor_outlet         </td><td style=\"text-align: right;\">351.206</td><td style=\"text-align: right;\">15.1992 </td><td style=\"text-align: right;\">0.988756</td><td style=\"text-align: right;\">1421.67  </td><td style=\"text-align: right;\">4.56463 </td><td style=\"text-align: right;\">1266.29  </td><td style=\"text-align: right;\">0.102232  </td><td style=\"text-align: right;\"> 1        </td></tr>\n",
       "<tr><td>gen_reflux_inlet         </td><td style=\"text-align: right;\">351.206</td><td style=\"text-align: right;\">15.1992 </td><td style=\"text-align: right;\">0.517235</td><td style=\"text-align: right;\"> 115.557 </td><td style=\"text-align: right;\">0.961473</td><td style=\"text-align: right;\"> 113.57  </td><td style=\"text-align: right;\">0.00130711</td><td style=\"text-align: right;\"> 0        </td></tr>\n",
       "<tr><td>refrig_rect_outlet       </td><td style=\"text-align: right;\">313.272</td><td style=\"text-align: right;\">15.1992 </td><td style=\"text-align: right;\">0.999869</td><td style=\"text-align: right;\">1293.92  </td><td style=\"text-align: right;\">4.18118 </td><td style=\"text-align: right;\">1164.05  </td><td style=\"text-align: right;\">0.0854417 </td><td style=\"text-align: right;\"> 0.997783 </td></tr>\n",
       "<tr><td>refrig_cond_outlet       </td><td style=\"text-align: right;\">312.305</td><td style=\"text-align: right;\">15.1992 </td><td style=\"text-align: right;\">0.999869</td><td style=\"text-align: right;\"> 186.732 </td><td style=\"text-align: right;\">0.644028</td><td style=\"text-align: right;\"> 184.105 </td><td style=\"text-align: right;\">0.00172869</td><td style=\"text-align: right;\"> 0        </td></tr>\n",
       "<tr><td>refrig_cehx_liquid_outlet</td><td style=\"text-align: right;\">295.393</td><td style=\"text-align: right;\">15.1992 </td><td style=\"text-align: right;\">0.999869</td><td style=\"text-align: right;\"> 104.452 </td><td style=\"text-align: right;\">0.373417</td><td style=\"text-align: right;\"> 101.946 </td><td style=\"text-align: right;\">0.00164842</td><td style=\"text-align: right;\">-0.001    </td></tr>\n",
       "<tr><td>refrig_exp_outlet        </td><td style=\"text-align: right;\">277.249</td><td style=\"text-align: right;\"> 4.99213</td><td style=\"text-align: right;\">0.999869</td><td style=\"text-align: right;\"> 104.452 </td><td style=\"text-align: right;\">0.387603</td><td style=\"text-align: right;\">  95.1713</td><td style=\"text-align: right;\">0.0185898 </td><td style=\"text-align: right;\"> 0.0682992</td></tr>\n",
       "<tr><td>refrig_evap_outlet       </td><td style=\"text-align: right;\">278.638</td><td style=\"text-align: right;\"> 4.99213</td><td style=\"text-align: right;\">0.999869</td><td style=\"text-align: right;\">1273.79  </td><td style=\"text-align: right;\">4.58715 </td><td style=\"text-align: right;\">1148.02  </td><td style=\"text-align: right;\">0.252636  </td><td style=\"text-align: right;\"> 0.998    </td></tr>\n",
       "<tr><td>refrig_cehx_sat_vapor    </td><td style=\"text-align: right;\">284.09 </td><td style=\"text-align: right;\"> 4.99213</td><td style=\"text-align: right;\">0.999869</td><td style=\"text-align: right;\">1290.15  </td><td style=\"text-align: right;\">4.64374 </td><td style=\"text-align: right;\">1160.97  </td><td style=\"text-align: right;\">0.258776  </td><td style=\"text-align: right;\"> 1        </td></tr>\n",
       "<tr><td>refrig_cehx_vapor_outlet </td><td style=\"text-align: right;\">310.512</td><td style=\"text-align: right;\"> 4.99213</td><td style=\"text-align: right;\">0.999869</td><td style=\"text-align: right;\">1356.07  </td><td style=\"text-align: right;\">4.86496 </td><td style=\"text-align: right;\">1211.62  </td><td style=\"text-align: right;\">0.289356  </td><td style=\"text-align: right;\"> 1.001    </td></tr>\n",
       "<tr><td>rectifier_liquid         </td><td style=\"text-align: right;\">313.272</td><td style=\"text-align: right;\">15.1992 </td><td style=\"text-align: right;\">0.973847</td><td style=\"text-align: right;\"> 172.236 </td><td style=\"text-align: right;\">0.666416</td><td style=\"text-align: right;\"> 169.66  </td><td style=\"text-align: right;\">0.00169463</td><td style=\"text-align: right;\"> 0        </td></tr>\n",
       "<tr><td>gen_vapor_formation      </td><td style=\"text-align: right;\">395.25 </td><td style=\"text-align: right;\">15.1992 </td><td style=\"text-align: right;\">0.895238</td><td style=\"text-align: right;\">1637.88  </td><td style=\"text-align: right;\">5.11174 </td><td style=\"text-align: right;\">1459.49  </td><td style=\"text-align: right;\">0.117368  </td><td style=\"text-align: right;\"> 1        </td></tr>\n",
       "<tr><td>abs_vapor_final          </td><td style=\"text-align: right;\">336.713</td><td style=\"text-align: right;\"> 4.99213</td><td style=\"text-align: right;\">0.974155</td><td style=\"text-align: right;\">1446.98  </td><td style=\"text-align: right;\">5.14349 </td><td style=\"text-align: right;\">1288.81  </td><td style=\"text-align: right;\">0.316831  </td><td style=\"text-align: right;\"> 1        </td></tr>\n",
       "</tbody>\n",
       "</table>\n",
       "        <br/>\n",
       "        <h3>Performance variables</h3>\n",
       "        <table>\n",
       "<thead>\n",
       "<tr><th>name                   </th><th>unit  </th><th style=\"text-align: right;\">         value</th></tr>\n",
       "</thead>\n",
       "<tbody>\n",
       "<tr><td>Q_abs                  </td><td>kW    </td><td style=\"text-align: right;\">-178.135      </td></tr>\n",
       "<tr><td>Q_gen                  </td><td>kW    </td><td style=\"text-align: right;\"> 187.274      </td></tr>\n",
       "<tr><td>Q_cond                 </td><td>kW    </td><td style=\"text-align: right;\">-110.824      </td></tr>\n",
       "<tr><td>Q_evap                 </td><td>kW    </td><td style=\"text-align: right;\"> 117.045      </td></tr>\n",
       "<tr><td>Q_reflux               </td><td>kW    </td><td style=\"text-align: right;\"> -15.8689     </td></tr>\n",
       "<tr><td>Q_shx                  </td><td>kW    </td><td style=\"text-align: right;\">  58.659      </td></tr>\n",
       "<tr><td>Q_cehx                 </td><td>kW    </td><td style=\"text-align: right;\">   8.23591    </td></tr>\n",
       "<tr><td>W_pump                 </td><td>kW    </td><td style=\"text-align: right;\">   0.508389   </td></tr>\n",
       "<tr><td>COP                    </td><td>kW/kW </td><td style=\"text-align: right;\">   0.624994   </td></tr>\n",
       "<tr><td>ZeroCheck              </td><td>kW    </td><td style=\"text-align: right;\">   2.9251e-05 </td></tr>\n",
       "<tr><td>ZeroCheckSHX           </td><td>kW    </td><td style=\"text-align: right;\">   5.39052e-06</td></tr>\n",
       "<tr><td>ZeroCheckCEHX          </td><td>kW    </td><td style=\"text-align: right;\">  -1.90222e-05</td></tr>\n",
       "<tr><td>Q_gen_rect_combo       </td><td>kW    </td><td style=\"text-align: right;\"> 171.405      </td></tr>\n",
       "<tr><td>Q_refrig_side          </td><td>kW    </td><td style=\"text-align: right;\">  -6.22118    </td></tr>\n",
       "<tr><td>ZeroCheckRect          </td><td>kg/s  </td><td style=\"text-align: right;\">   1.38778e-17</td></tr>\n",
       "<tr><td>m_rich                 </td><td>kg/s  </td><td style=\"text-align: right;\">   0.323096   </td></tr>\n",
       "<tr><td>m_weak                 </td><td>kg/s  </td><td style=\"text-align: right;\">   0.223001   </td></tr>\n",
       "<tr><td>m_gen_vapor            </td><td>kg/s  </td><td style=\"text-align: right;\">   0.102454   </td></tr>\n",
       "<tr><td>m_gen_reflux           </td><td>kg/s  </td><td style=\"text-align: right;\">   0.00235899 </td></tr>\n",
       "<tr><td>m_refrig               </td><td>kg/s  </td><td style=\"text-align: right;\">   0.100095   </td></tr>\n",
       "<tr><td>check_rectifier_delta_T</td><td>K     </td><td style=\"text-align: right;\">  37.9343     </td></tr>\n",
       "<tr><td>is_degenerate          </td><td>bool  </td><td style=\"text-align: right;\">   0          </td></tr>\n",
       "</tbody>\n",
       "</table>\n",
       "        "
      ],
      "text/plain": [
       "                                 T         P         x          h         s          u           v          Qu\n",
       "-------------------------  -------  --------  --------  ---------  --------  ---------  ----------  ----------\n",
       "rich_abs_outlet            310.229   4.99213  0.517237   -72.9791  0.394813   -73.5949  0.00123348   0\n",
       "rich_pump_outlet           310.394  15.1992   0.517237   -71.4056  0.395827   -73.2797  0.00123301  -0.001\n",
       "rich_shx_outlet            350.055  15.1992   0.517237   110.147   0.946042   108.164   0.00130451  -0.001\n",
       "rich_gen_sat_liquid        351.206  15.1992   0.517237   115.56    0.961482   113.573   0.00130711   0\n",
       "weak_gen_outlet            395.25   15.1992   0.300604   347.435   1.53761    345.533   0.00125114   0\n",
       "weak_shx_outlet            336.536  15.1992   0.300604    84.3913  0.817873    82.6393  0.0011527   -0.001\n",
       "weak_exp_outlet            336.713   4.99213  0.300604    84.3913  0.821369    83.8154  0.00115351  -0.001\n",
       "gen_vapor_outlet           351.206  15.1992   0.988756  1421.67    4.56463   1266.29    0.102232     1\n",
       "gen_reflux_inlet           351.206  15.1992   0.517235   115.557   0.961473   113.57    0.00130711   0\n",
       "refrig_rect_outlet         313.272  15.1992   0.999869  1293.92    4.18118   1164.05    0.0854417    0.997783\n",
       "refrig_cond_outlet         312.305  15.1992   0.999869   186.732   0.644028   184.105   0.00172869   0\n",
       "refrig_cehx_liquid_outlet  295.393  15.1992   0.999869   104.452   0.373417   101.946   0.00164842  -0.001\n",
       "refrig_exp_outlet          277.249   4.99213  0.999869   104.452   0.387603    95.1713  0.0185898    0.0682992\n",
       "refrig_evap_outlet         278.638   4.99213  0.999869  1273.79    4.58715   1148.02    0.252636     0.998\n",
       "refrig_cehx_sat_vapor      284.09    4.99213  0.999869  1290.15    4.64374   1160.97    0.258776     1\n",
       "refrig_cehx_vapor_outlet   310.512   4.99213  0.999869  1356.07    4.86496   1211.62    0.289356     1.001\n",
       "rectifier_liquid           313.272  15.1992   0.973847   172.236   0.666416   169.66    0.00169463   0\n",
       "gen_vapor_formation        395.25   15.1992   0.895238  1637.88    5.11174   1459.49    0.117368     1\n",
       "abs_vapor_final            336.713   4.99213  0.974155  1446.98    5.14349   1288.81    0.316831     1\n",
       "name                     unit             value\n",
       "-----------------------  ------  --------------\n",
       "Q_abs                    kW      -178.135\n",
       "Q_gen                    kW       187.274\n",
       "Q_cond                   kW      -110.824\n",
       "Q_evap                   kW       117.045\n",
       "Q_reflux                 kW       -15.8689\n",
       "Q_shx                    kW        58.659\n",
       "Q_cehx                   kW         8.23591\n",
       "W_pump                   kW         0.508389\n",
       "COP                      kW/kW      0.624994\n",
       "ZeroCheck                kW         2.9251e-05\n",
       "ZeroCheckSHX             kW         5.39052e-06\n",
       "ZeroCheckCEHX            kW        -1.90222e-05\n",
       "Q_gen_rect_combo         kW       171.405\n",
       "Q_refrig_side            kW        -6.22118\n",
       "ZeroCheckRect            kg/s       1.38778e-17\n",
       "m_rich                   kg/s       0.323096\n",
       "m_weak                   kg/s       0.223001\n",
       "m_gen_vapor              kg/s       0.102454\n",
       "m_gen_reflux             kg/s       0.00235899\n",
       "m_refrig                 kg/s       0.100095\n",
       "check_rectifier_delta_T  K         37.9343\n",
       "is_degenerate            bool       0"
      ]
     },
     "metadata": {},
     "output_type": "display_data"
    }
   ],
   "source": [
    "ch2 = system_aqua1.makeChiller(x2)\n",
    "display(ch2)"
   ]
  },
  {
   "cell_type": "code",
   "execution_count": 162,
   "metadata": {},
   "outputs": [
    {
     "data": {
      "text/plain": [
       "[0.22309634851689678,\n",
       " 0.67690365148310327,\n",
       " 32.666838464731313,\n",
       " 0.86731647569055215,\n",
       " 21.590932006864364,\n",
       " 80.97775799049748,\n",
       " 84.020980924054982]"
      ]
     },
     "execution_count": 162,
     "metadata": {},
     "output_type": "execute_result"
    }
   ],
   "source": [
    "P.constraint(x2)"
   ]
  },
  {
   "cell_type": "code",
   "execution_count": 163,
   "metadata": {},
   "outputs": [
    {
     "name": "stdout",
     "output_type": "stream",
     "text": [
      "Note: Absorber inlet is subcooled\n"
     ]
    },
    {
     "name": "stderr",
     "output_type": "stream",
     "text": [
      "C:\\Users\\nfette\\Miniconda3\\envs\\openACHP\\lib\\site-packages\\scipy\\interpolate\\_cubic.py:147: RuntimeWarning: divide by zero encountered in true_divide\n",
      "  mk = (y[1:] - y[:-1]) / hk\n",
      "C:\\Users\\nfette\\Miniconda3\\envs\\openACHP\\lib\\site-packages\\scipy\\interpolate\\_cubic.py:165: RuntimeWarning: invalid value encountered in true_divide\n",
      "  whmean = (w1/mk[:-1] + w2/mk[1:]) / (w1 + w2)\n"
     ]
    },
    {
     "data": {
      "text/html": [
       "<table>\n",
       "<thead>\n",
       "<tr><th>name  </th><th style=\"text-align: right;\">  deltaT</th><th style=\"text-align: right;\">  epsilon</th><th style=\"text-align: right;\">       UA</th><th style=\"text-align: right;\">       Q</th></tr>\n",
       "</thead>\n",
       "<tbody>\n",
       "<tr><td>gen   </td><td style=\"text-align: right;\">4.75025 </td><td style=\"text-align: right;\"> 0.92018 </td><td style=\"text-align: right;\"> 28.5516 </td><td style=\"text-align: right;\">187.274 </td></tr>\n",
       "<tr><td>rect  </td><td style=\"text-align: right;\">8.15244 </td><td style=\"text-align: right;\"> 0.782637</td><td style=\"text-align: right;\">  1.12489</td><td style=\"text-align: right;\"> 15.8689</td></tr>\n",
       "<tr><td>abs   </td><td style=\"text-align: right;\">1.1977  </td><td style=\"text-align: right;\"> 0.940514</td><td style=\"text-align: right;\"> 42.4473 </td><td style=\"text-align: right;\">178.135 </td></tr>\n",
       "<tr><td>cond  </td><td style=\"text-align: right;\">2.31615 </td><td style=\"text-align: right;\"> 0.96672 </td><td style=\"text-align: right;\"> 26.5502 </td><td style=\"text-align: right;\">110.824 </td></tr>\n",
       "<tr><td>evap  </td><td style=\"text-align: right;\">0.749386</td><td style=\"text-align: right;\"> 0.983799</td><td style=\"text-align: right;\"> 39.125  </td><td style=\"text-align: right;\">117.045 </td></tr>\n",
       "<tr><td>total </td><td style=\"text-align: right;\">0       </td><td style=\"text-align: right;\"> 0       </td><td style=\"text-align: right;\">137.799  </td><td style=\"text-align: right;\">  0     </td></tr>\n",
       "</tbody>\n",
       "</table>"
      ],
      "text/plain": [
       "name      deltaT    epsilon        UA         Q\n",
       "------  --------  ---------  --------  --------\n",
       "gen     4.75025    0.92018   28.5516   187.274\n",
       "rect    8.15244    0.782637   1.12489   15.8689\n",
       "abs     1.1977     0.940514  42.4473   178.135\n",
       "cond    2.31615    0.96672   26.5502   110.824\n",
       "evap    0.749386   0.983799  39.125    117.045\n",
       "totalUA = 137.7989944411681"
      ]
     },
     "execution_count": 163,
     "metadata": {},
     "output_type": "execute_result"
    }
   ],
   "source": [
    "sys2 = system_aqua1.System(bdry, ch2)\n",
    "sys2"
   ]
  },
  {
   "cell_type": "code",
   "execution_count": 183,
   "metadata": {},
   "outputs": [
    {
     "name": "stdout",
     "output_type": "stream",
     "text": [
      "Note: Absorber inlet is subcooled\n"
     ]
    },
    {
     "name": "stderr",
     "output_type": "stream",
     "text": [
      "C:\\Users\\nfette\\Miniconda3\\envs\\openACHP\\lib\\site-packages\\scipy\\interpolate\\_cubic.py:147: RuntimeWarning: divide by zero encountered in true_divide\n",
      "  mk = (y[1:] - y[:-1]) / hk\n",
      "C:\\Users\\nfette\\Miniconda3\\envs\\openACHP\\lib\\site-packages\\scipy\\interpolate\\_cubic.py:165: RuntimeWarning: invalid value encountered in true_divide\n",
      "  whmean = (w1/mk[:-1] + w2/mk[1:]) / (w1 + w2)\n"
     ]
    },
    {
     "name": "stdout",
     "output_type": "stream",
     "text": [
      "Note: Absorber inlet is subcooled\n",
      "Note: Absorber inlet is subcooled\n",
      "Note: Absorber inlet is subcooled\n"
     ]
    },
    {
     "name": "stderr",
     "output_type": "stream",
     "text": [
      "C:\\Users\\nfette\\Miniconda3\\envs\\openACHP\\lib\\site-packages\\scipy\\integrate\\quadpack.py:364: IntegrationWarning: The maximum number of subdivisions (50) has been achieved.\n",
      "  If increasing the limit yields no improvement it is advised to analyze \n",
      "  the integrand in order to determine the difficulties.  If the position of a \n",
      "  local difficulty can be determined (singularity, discontinuity) one will \n",
      "  probably gain from splitting up the interval and calling the integrator \n",
      "  on the subranges.  Perhaps a special-purpose integrator should be used.\n",
      "  warnings.warn(msg, IntegrationWarning)\n"
     ]
    },
    {
     "name": "stdout",
     "output_type": "stream",
     "text": [
      "Note: Absorber inlet is subcooled\n",
      "Note: Absorber inlet is subcooled\n",
      "Note: Absorber inlet is subcooled\n",
      "Note: Absorber inlet is subcooled\n",
      "Note: Absorber inlet is subcooled\n",
      "Note: Absorber inlet is subcooled\n",
      "Note: Absorber inlet is subcooled\n",
      "Note: Absorber inlet is subcooled\n",
      "Note: Absorber inlet is subcooled\n",
      "Note: Absorber inlet is subcooled\n",
      "Note: Absorber inlet is subcooled\n",
      "Note: Absorber inlet is subcooled\n",
      "Note: Absorber inlet is subcooled\n",
      "Note: Absorber inlet is subcooled\n",
      "Note: Absorber inlet is subcooled\n",
      "Note: Absorber inlet is subcooled\n",
      "Note: Absorber inlet is subcooled\n",
      "Note: Absorber inlet is subcooled\n",
      "Note: Absorber inlet is subcooled\n",
      "Note: Absorber inlet is subcooled\n"
     ]
    },
    {
     "name": "stderr",
     "output_type": "stream",
     "text": [
      "C:\\Users\\nfette\\Miniconda3\\envs\\openACHP\\lib\\site-packages\\scipy\\integrate\\quadpack.py:364: IntegrationWarning: The occurrence of roundoff error is detected, which prevents \n",
      "  the requested tolerance from being achieved.  The error may be \n",
      "  underestimated.\n",
      "  warnings.warn(msg, IntegrationWarning)\n"
     ]
    },
    {
     "name": "stdout",
     "output_type": "stream",
     "text": [
      "Note: Absorber inlet is subcooled\n",
      "Note: Absorber inlet is subcooled\n",
      "Note: Absorber inlet is subcooled\n",
      "Note: Absorber inlet is subcooled\n",
      "Note: Absorber inlet is subcooled\n",
      "Note: Absorber inlet is subcooled\n"
     ]
    }
   ],
   "source": [
    "box = numpy.ones_like(x2)\n",
    "box[0] = 0.05\n",
    "ss = numpy.linspace(-1,1,5)\n",
    "yyy = numpy.zeros([len(box),len(ss)])\n",
    "for i,boxi in enumerate(box):\n",
    "    yy = numpy.zeros_like(ss)\n",
    "    for j, s in enumerate(ss):\n",
    "        x_vary = x2.copy()\n",
    "        x_vary[i] += boxi * s\n",
    "        yyy[i,j] = P.objective_raw(x_vary)\n",
    "        if (numpy.array(P.constraint(x_vary)) < 0).any():\n",
    "            yyy[i,j] = numpy.nan"
   ]
  },
  {
   "cell_type": "code",
   "execution_count": 184,
   "metadata": {},
   "outputs": [
    {
     "data": {
      "text/plain": [
       "array([[  92.85015493,  111.63476306,  137.79899444,  191.02442712,\n",
       "                  inf],\n",
       "       [ 116.37203437,  125.02773452,  137.79899444,  170.21816617,\n",
       "                  inf],\n",
       "       [ 160.89854932,  147.57478175,  137.79899444,  130.09642707,\n",
       "                  nan],\n",
       "       [          nan,  137.81416839,  137.79899444,  137.78949491,\n",
       "         137.78336925],\n",
       "       [ 209.06261669,  155.59632572,  137.79899444,  126.91870377,\n",
       "         119.04386542],\n",
       "       [ 129.11684491,  133.29755777,  137.79899444,  142.67851534,\n",
       "         148.01130393]])"
      ]
     },
     "execution_count": 184,
     "metadata": {},
     "output_type": "execute_result"
    }
   ],
   "source": [
    "yyy"
   ]
  },
  {
   "cell_type": "code",
   "execution_count": 187,
   "metadata": {},
   "outputs": [
    {
     "data": {
      "image/png": "[encoded data removed]",
      "text/plain": [
       "<matplotlib.figure.Figure at 0x616b430>"
      ]
     },
     "metadata": {},
     "output_type": "display_data"
    }
   ],
   "source": [
    "plt.close('all')\n",
    "plt.figure(figsize=(10, 4))\n",
    "ax1=plt.subplot(1,len(box), 1)\n",
    "for i,_ in enumerate(box):\n",
    "    ax=plt.subplot(1, len(box), i+1, sharey=ax1)\n",
    "    xxx = x2[i] + ss * box[i]\n",
    "    plt.plot(xxx, yyy[i,:], 'o-')\n",
    "    plt.setp(ax.get_yticklabels(), visible=bool(i==0))\n",
    "    plt.xlim(min(xxx),max(xxx))\n",
    "#plt.ylim(min(yyy.flat)*0.9,min(yyy.flat))\n",
    "plt.show()"
   ]
  },
  {
   "cell_type": "markdown",
   "metadata": {},
   "source": [
    "The sensitivity plot could go further by overlaying the constraint functions. Additionally, it would be nice to find the eigenvectors of the objective function and trace in those directions, indicating how far it is to the next constraint. But that is icing on the cake, so meanwhile I will continue with this approach in a new notebook and generate some parametric study data."
   ]
  },
  {
   "cell_type": "markdown",
   "metadata": {},
   "source": [
    "# Scratch work"
   ]
  },
  {
   "cell_type": "code",
   "execution_count": 15,
   "metadata": {
    "scrolled": false
   },
   "outputs": [
    {
     "data": {
      "text/plain": [
       "(1076, 0.0)"
      ]
     },
     "execution_count": 15,
     "metadata": {},
     "output_type": "execute_result"
    }
   ],
   "source": [
    "a=5\n",
    "for i in range(9999):\n",
    "    a*=0.5\n",
    "    if a==0:\n",
    "        break\n",
    "i,a"
   ]
  },
  {
   "cell_type": "code",
   "execution_count": 25,
   "metadata": {},
   "outputs": [
    {
     "data": {
      "text/plain": [
       "array([ 0.25,  0.5 ,  0.75,  1.  ])"
      ]
     },
     "execution_count": 25,
     "metadata": {},
     "output_type": "execute_result"
    }
   ],
   "source": [
    "gradient_step = numpy.array([1.,2.,3.,4.])\n",
    "for j, _ in enumerate(gradient_step):\n",
    "    for i in range(2):\n",
    "        gradient_step[j] *= 0.5\n",
    "gradient_step"
   ]
  },
  {
   "cell_type": "code",
   "execution_count": 30,
   "metadata": {},
   "outputs": [
    {
     "data": {
      "text/plain": [
       "array([ 0.,  0.,  0.,  1.])"
      ]
     },
     "execution_count": 30,
     "metadata": {},
     "output_type": "execute_result"
    }
   ],
   "source": [
    "numpy.diag(gradient_step)[3]"
   ]
  },
  {
   "cell_type": "code",
   "execution_count": 3,
   "metadata": {},
   "outputs": [
    {
     "data": {
      "text/html": [
       "<pre id=\"TOC-markdown\">TOC will be here</pre>\n",
       "<script>\n",
       "$(\"#TOC-markdown\").html(\n",
       "    $('h1,h2,h3,h4').filter(\":has(a)\").map(function(){return \"  \".repeat($(this).prop(\"tagName\")[1]) + \"- [\"+$(this).text()+\"](\" + $(this).children().attr(\"href\") + \")\";}).get().join(\"\\n\")\n",
       "    );\n",
       "</script>"
      ],
      "text/plain": [
       "<IPython.core.display.HTML object>"
      ]
     },
     "metadata": {},
     "output_type": "display_data"
    }
   ],
   "source": [
    "%%html\n",
    "<pre id=\"TOC-markdown\">TOC will be here</pre>\n",
    "<script>\n",
    "$(\"#TOC-markdown\").html(\n",
    "    $('h1,h2,h3,h4').filter(\":has(a)\").map(function(){return \"  \".repeat($(this).prop(\"tagName\")[1]) + \"- [\"+$(this).text()+\"](\" + $(this).children().attr(\"href\") + \")\";}).get().join(\"\\n\")\n",
    "    );\n",
    "</script>"
   ]
  },
  {
   "cell_type": "code",
   "execution_count": null,
   "metadata": {
    "collapsed": true
   },
   "outputs": [],
   "source": []
  }
 ],
 "metadata": {
  "celltoolbar": "Raw Cell Format",
  "kernelspec": {
   "display_name": "Python 3",
   "language": "python",
   "name": "python3"
  },
  "language_info": {
   "codemirror_mode": {
    "name": "ipython",
    "version": 3
   },
   "file_extension": ".py",
   "mimetype": "text/x-python",
   "name": "python",
   "nbconvert_exporter": "python",
   "pygments_lexer": "ipython3",
   "version": "3.6.2"
  }
 },
 "nbformat": 4,
 "nbformat_minor": 2
}
