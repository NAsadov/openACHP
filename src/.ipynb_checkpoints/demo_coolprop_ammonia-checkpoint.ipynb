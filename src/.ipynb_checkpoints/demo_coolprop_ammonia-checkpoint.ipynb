{
 "cells": [
  {
   "cell_type": "markdown",
   "metadata": {
    "collapsed": true
   },
   "source": [
    "Ammonia - aqua properties\n",
    "=========================\n",
    "\n",
    "CoolProp: Melinder and Skovrup\n",
    "------------------------------\n",
    "The [CoolProp][1] library implements two models for Ammonia (NH3) - aq; note that both are incompressible models only. The correlations come from Melinder and Skovrup.\n",
    "See details on [the available models](http://www.coolprop.org/fluid_properties/Incompressibles.html#the-different-fluids).\n",
    "\n",
    "Here, let's see what is available from these models.\n",
    "\n",
    "[1]: http://www.coolprop.org/index.html \"CoolProp\"\n"
   ]
  },
  {
   "cell_type": "code",
   "execution_count": 4,
   "metadata": {},
   "outputs": [],
   "source": [
    "import CoolProp\n"
   ]
  },
  {
   "cell_type": "code",
   "execution_count": null,
   "metadata": {
    "collapsed": true
   },
   "outputs": [],
   "source": []
  }
 ],
 "metadata": {
  "kernelspec": {
   "display_name": "Python 3",
   "language": "python",
   "name": "python3"
  },
  "language_info": {
   "codemirror_mode": {
    "name": "ipython",
    "version": 3
   },
   "file_extension": ".py",
   "mimetype": "text/x-python",
   "name": "python",
   "nbconvert_exporter": "python",
   "pygments_lexer": "ipython3",
   "version": "3.6.2"
  }
 },
 "nbformat": 4,
 "nbformat_minor": 1
}
