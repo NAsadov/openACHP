{
 "metadata": {
  "name": "",
  "signature": "sha256:ceaef84215b42d3177b4d8f46cfdc840f7b56a27f5215beace733e42a809e28a"
 },
 "nbformat": 3,
 "nbformat_minor": 0,
 "worksheets": [
  {
   "cells": [
    {
     "cell_type": "code",
     "collapsed": false,
     "input": [
      "#%matplotlib inline\n",
      "from __future__ import unicode_literals\n",
      "import numpy as np\n",
      "import matplotlib.pyplot as plt\n",
      "plt.rc('font',family='serif')\n",
      "#import matplotlib as mpl\n",
      "from mpl_toolkits.mplot3d import Axes3D\n",
      "import CoolProp\n",
      "from ammonia_props import AmmoniaProps, massFractionToMolar\n",
      "import tabulate"
     ],
     "language": "python",
     "metadata": {},
     "outputs": [],
     "prompt_number": 16
    },
    {
     "cell_type": "code",
     "collapsed": false,
     "input": [
      "# Patek and Klomfar, my implementation\n",
      "# TODO\n",
      "\n",
      "# Ibrahim and Klein, 1995\n",
      "myammonia = AmmoniaProps()\n",
      "def wraph(**kwargs):\n",
      "    try:\n",
      "        return 1000*myammonia.h(**kwargs)\n",
      "    except:\n",
      "        return np.nan\n",
      "hfun1 = np.vectorize(wraph)\n",
      "\n",
      "# Tillner-Roth, 1998 \n",
      "#amm = lambda(x):'REFPROP::water[{}]&ammonia[{}]'.format(1-x,x)\n",
      "CPRP = CoolProp.AbstractState(\"REFPROP\",\"water&ammonia\")\n",
      "\n",
      "def hsat(T,Q,w,update=True):\n",
      "    #h = CP.PropsSI('H','T',T,'Q',Q,amm(x))\n",
      "    if update:\n",
      "        x = massFractionToMolar(w)\n",
      "        CPRP.set_mole_fractions([1-x,x])\n",
      "    try:\n",
      "        CPRP.update(CoolProp.QT_INPUTS,Q,T)\n",
      "        return CPRP.hmass()\n",
      "    except:\n",
      "        return np.nan\n",
      "hsatv = np.vectorize(hsat)\n"
     ],
     "language": "python",
     "metadata": {},
     "outputs": [
      {
       "output_type": "stream",
       "stream": "stdout",
       "text": [
        "NH3H2O\n"
       ]
      }
     ],
     "prompt_number": 3
    },
    {
     "cell_type": "code",
     "collapsed": false,
     "input": [
      "T_ref = 273.15\n",
      "h_amm_ref_rp = CoolProp.CoolProp.PropsSI(\"H\",\"T\",T_ref,\"Q\",0,\"REFPROP::ammonia\")\n",
      "h_amm_ref_ees = wraph(T=T_ref,x=1,Qu=0)\n",
      "h_offset_amm = h_amm_ref_rp - h_amm_ref_ees\n",
      "print \"{}\\n-  {}\\n=======\\n{}\".format(h_amm_ref_rp, h_amm_ref_ees, h_offset_amm)"
     ],
     "language": "python",
     "metadata": {},
     "outputs": [
      {
       "output_type": "stream",
       "stream": "stdout",
       "text": [
        "343154.634974\n",
        "-  9.74961674564\n",
        "=======\n",
        "343144.885357\n"
       ]
      }
     ],
     "prompt_number": 4
    },
    {
     "cell_type": "code",
     "collapsed": false,
     "input": [],
     "language": "python",
     "metadata": {},
     "outputs": [
      {
       "metadata": {},
       "output_type": "pyout",
       "prompt_number": 82,
       "text": [
        "array(676.8455777353788)"
       ]
      }
     ],
     "prompt_number": 82
    },
    {
     "cell_type": "code",
     "collapsed": false,
     "input": [
      "help(AmmoniaProps)"
     ],
     "language": "python",
     "metadata": {},
     "outputs": [
      {
       "output_type": "stream",
       "stream": "stdout",
       "text": [
        "Help on class AmmoniaProps in module ammonia_props:\n",
        "\n",
        "class AmmoniaProps\n",
        " |  Imports the EES NH3H2O library, if installed.\n",
        " |  \n",
        " |  Methods defined here:\n",
        " |  \n",
        " |  P(self, **kwargs)\n",
        " |  \n",
        " |  Qu(self, **kwargs)\n",
        " |  \n",
        " |  T(self, **kwargs)\n",
        " |  \n",
        " |  __init__(self, path=r'C:\\EES32\\Userlib\\EES_System\\nh3h2o.dlp')\n",
        " |      Args\n",
        " |      ----\n",
        " |          path : (string)\n",
        " |              The full path to the DLL file to load.\n",
        " |  \n",
        " |  h(self, **kwargs)\n",
        " |  \n",
        " |  props(self, code)\n",
        " |      Returns an instance of ammoniaWaterFunc instance for the given set\n",
        " |      of input parameters. The resulting object can be called as a functor.\n",
        " |      \n",
        " |      Args\n",
        " |      ----\n",
        " |          code : (string or number)\n",
        " |              Defines the three input parameters.\n",
        " |              Can be one of the numbers in availableCodes, or a string\n",
        " |              concatenation of the corresponding names.\n",
        " |  \n",
        " |  props2(self, **kwargs)\n",
        " |      Returns the state corresponding to the given set of inputs and\n",
        " |      values. To determine the units, you will have to use props().\n",
        " |      \n",
        " |      kwargs\n",
        " |      ------\n",
        " |      Choose three in a combination matching the availableCodes.\n",
        " |          T : (float)\n",
        " |              Temperature (K)\n",
        " |          P : (float)\n",
        " |              Pressure (bar)\n",
        " |          x : (float)\n",
        " |              Ammonia mass fraction (kg/kg)\n",
        " |          h : (float)\n",
        " |              Mass specific enthalpy (kJ/kg)\n",
        " |          s : (float)\n",
        " |              Mass specific entropy (kJ/kg-K)\n",
        " |          u : (float)\n",
        " |              Mass specific internal energy (kJ/kg)\n",
        " |          v : (float)\n",
        " |              Mass specific volume (m^3/kg)\n",
        " |          Qu : (float)\n",
        " |              Vapor quality (kg/kg)\n",
        " |          out : (string)\n",
        " |              Just return the named variable instead of a State.\n",
        " |  \n",
        " |  s(self, **kwargs)\n",
        " |  \n",
        " |  u(self, **kwargs)\n",
        " |  \n",
        " |  x(self, **kwargs)\n",
        "\n"
       ]
      }
     ],
     "prompt_number": 3
    },
    {
     "cell_type": "code",
     "collapsed": false,
     "input": [
      "x_w = np.logspace(-4,0)\n",
      "x = 1-x_w\n",
      "h_offset = x * h_offset_amm\n",
      "\n",
      "fig1 = plt.figure(1)\n",
      "plt.gca().ticklabel_format(axis='y', style = 'sci', scilimits=(-2,2), useOffset=False)\n",
      "plt.xlabel('Ammonia composition $x$ [kg/kg]')\n",
      "plt.ylabel('Enthalpy $h$ [J/kg]')\n",
      "plt.annotate('Saturated vapor',[0.02,2e6])\n",
      "plt.annotate('Saturated liquid',[0.02,1e6])\n",
      "fig2 = plt.figure(2)\n",
      "plt.gca().ticklabel_format(axis='y', style = 'sci', scilimits=(-2,2), useOffset=False)\n",
      "plt.xlabel('Water composition $x$ [kg/kg]')\n",
      "plt.ylabel('Enthalpy $h$ [J/kg]')\n",
      "first = True\n",
      "cc = 'b g r c m y'.split()\n",
      "TT = np.linspace(273.15,573.15,6)\n",
      "ees_hl_by_x = {}\n",
      "ees_hv_by_x = {}\n",
      "rp_hl_by_x = {}\n",
      "rp_hv_by_x = {}\n",
      "for T,c in zip(TT,cc):\n",
      "#for T in [373]:\n",
      "    print T\n",
      "    ees_hl_by_x[T] = hfun1(T=T,Qu=0,x=x) + h_offset\n",
      "    ees_hv_by_x[T] = hfun1(T=T,Qu=1,x=x) + h_offset\n",
      "    rp_hl_by_x[T] = hsatv(T,0,x)\n",
      "    rp_hv_by_x[T] = hsatv(T,1,x)"
     ],
     "language": "python",
     "metadata": {},
     "outputs": [
      {
       "output_type": "stream",
       "stream": "stdout",
       "text": [
        "273.15\n",
        "333.15"
       ]
      },
      {
       "output_type": "stream",
       "stream": "stdout",
       "text": [
        "\n",
        "393.15"
       ]
      },
      {
       "output_type": "stream",
       "stream": "stdout",
       "text": [
        "\n",
        "453.15"
       ]
      },
      {
       "output_type": "stream",
       "stream": "stdout",
       "text": [
        "\n",
        "513.15"
       ]
      },
      {
       "output_type": "stream",
       "stream": "stdout",
       "text": [
        "\n",
        "573.15"
       ]
      },
      {
       "output_type": "stream",
       "stream": "stdout",
       "text": [
        "\n"
       ]
      },
      {
       "output_type": "stream",
       "stream": "stderr",
       "text": [
        "C:\\Python27\\lib\\site-packages\\numpy\\lib\\function_base.py:1880: RuntimeWarning: overflow encountered in func (vectorized)\n",
        "  outputs = ufunc(*inputs)\n",
        "C:\\Python27\\lib\\site-packages\\numpy\\lib\\function_base.py:1880: RuntimeWarning: invalid value encountered in func (vectorized)\n",
        "  outputs = ufunc(*inputs)\n"
       ]
      }
     ],
     "prompt_number": 5
    },
    {
     "cell_type": "code",
     "collapsed": false,
     "input": [
      "for T,c in zip(TT,cc):\n",
      "#for T in [373]:\n",
      "    plt.figure(1)\n",
      "    plt.plot(x,ees_hl_by_x[T],'--',color=c,label=\"EES+offset\" if first else None)\n",
      "    plt.plot(x,ees_hv_by_x[T],'--',color=c)\n",
      "    plt.plot(x,rp_hl_by_x[T],'-' ,color=c,label=\"REFPROP\" if first else None)\n",
      "    plt.plot(x,rp_hv_by_x[T],'-' ,color=c)\n",
      "    xtext = 0.4 + (T-273.15) * 0.001\n",
      "    htext = hfun1(T=T+5,Qu=0,x=xtext)\n",
      "    plt.annotate('{} $^\\circ$C'.format(T-273.15),[xtext,htext])\n",
      "    plt.figure(2)\n",
      "    plt.semilogx(x_w,ees_hl_by_x[T],'--',color=c)\n",
      "    plt.semilogx(x_w,ees_hv_by_x[T],'--',color=c)\n",
      "    plt.semilogx(x_w,rp_hl_by_x[T],'-' ,color=c)\n",
      "    plt.semilogx(x_w,rp_hv_by_x[T],'-' ,color=c)\n",
      "    plt.annotate('{} $^\\circ$C'.format(T-273.15),[1-xtext,htext])\n",
      "    first = False\n",
      "plt.figure(1)\n",
      "plt.legend(loc='best')\n",
      "plt.show()"
     ],
     "language": "python",
     "metadata": {},
     "outputs": [],
     "prompt_number": 6
    },
    {
     "cell_type": "code",
     "collapsed": false,
     "input": [
      "# Saturation curve of pure ammonia, because REFPROP is not good near there\n",
      "rp_amm = CoolProp.AbstractState(\"HEOS\",\"ammonia\")\n",
      "rp_amm.build_phase_envelope(\"\")\n",
      "def h_amm_rp(T,Q):\n",
      "    try:\n",
      "        rp_amm.update(CoolProp.QT_INPUTS,Q,T)\n",
      "        return rp_amm.hmass()\n",
      "    except:\n",
      "        return np.nan\n",
      "hamham = np.vectorize(h_amm_rp)\n",
      "# Pure water, same\n",
      "rp_water = CoolProp.AbstractState(\"HEOS\",\"water\")\n",
      "rp_water.build_phase_envelope(\"\")\n",
      "def h_water_rp(T,Q):\n",
      "    try:\n",
      "        rp_water.update(CoolProp.QT_INPUTS,Q,T)\n",
      "        return rp_water.hmass()\n",
      "    except:\n",
      "        return np.nan\n",
      "humhum = np.vectorize(h_water_rp)\n",
      "\n",
      "T_c = {}\n",
      "P_c = {}\n",
      "h_c = {}\n",
      "T_c[1] = rp_amm.T_critical()\n",
      "P_c[1] = rp_amm.p_critical()\n",
      "rp_amm.specify_phase(CoolProp.iphase_critical_point)\n",
      "rp_amm.update(CoolProp.PT_INPUTS,P_c[1],T_c[1])\n",
      "h_c[1] = rp_amm.hmass()\n",
      "rp_amm.specify_phase(CoolProp.iphase_unknown)\n",
      "T_c[0] = rp_water.T_critical()\n",
      "P_c[0] = rp_water.p_critical()\n",
      "rp_water.specify_phase(CoolProp.iphase_critical_point)\n",
      "rp_water.update(CoolProp.PT_INPUTS,P_c[0],T_c[0])\n",
      "h_c[0] = rp_water.hmass()\n",
      "rp_water.specify_phase(CoolProp.iphase_unknown)\n",
      "\n",
      "ees_hl_by_T = {}\n",
      "ees_hv_by_T = {}\n",
      "rp_hl_by_T = {}\n",
      "rp_hv_by_T = {}\n",
      "\n",
      "x = 1\n",
      "Tee = np.linspace(273,T_c[1],100)\n",
      "xx=x*np.ones_like(Tee)\n",
      "rp_hl_by_T[x] = hamham(Tee,0)\n",
      "rp_hv_by_T[x] = hamham(Tee,1)\n",
      "\n",
      "for x in [0.2,0.4,0.6,0.8,0.9,0.99,0.999]:\n",
      "    xx = x*np.ones_like(Tee)\n",
      "    hsatv(300,0,x)\n",
      "    Tc_linear = (1 - x) * Tc_w + x * Tc_a\n",
      "    T_c[x] = CPRP.T_critical()\n",
      "    P_c[x] = CPRP.p_critical()\n",
      "    #CPRP.specify_phase(CoolProp.constants.iphase_critical_point)\n",
      "    CPRP.update(CoolProp.PT_INPUTS,P_c[x],T_c[x])\n",
      "    h_c[x] = CPRP.hmass()\n",
      "    #CPRP.specify_phase(CoolProp.constants.iphase_twophase)\n",
      "    print \"Tc_linear = {}, Tc_computed = {}\".format(Tc_linear,T_c[x])\n",
      "    \n",
      "    Tee = np.linspace(273,T_c[x],100)\n",
      "    rp_hl_by_T[x] = hsatv(Tee,0,x,False)\n",
      "    rp_hv_by_T[x] = hsatv(Tee,1,x,False)\n",
      "    \n",
      "x = 0\n",
      "Tee = np.linspace(273, T_c[0],100)\n",
      "xx=x*np.ones_like(Tee)\n",
      "rp_hl_by_T[x] = humhum(Tee,0)\n",
      "rp_hv_by_T[x] = humhum(Tee,1)"
     ],
     "language": "python",
     "metadata": {},
     "outputs": [
      {
       "output_type": "stream",
       "stream": "stdout",
       "text": [
        "Tc_linear = 598.7568, Tc_computed = 609.562697839\n",
        "Tc_linear = 550.4176, Tc_computed = 570.270575717"
       ]
      },
      {
       "output_type": "stream",
       "stream": "stdout",
       "text": [
        "\n",
        "Tc_linear = 502.0784, Tc_computed = 528.292109976"
       ]
      },
      {
       "output_type": "stream",
       "stream": "stdout",
       "text": [
        "\n",
        "Tc_linear = 453.7392, Tc_computed = 480.355074113"
       ]
      },
      {
       "output_type": "stream",
       "stream": "stdout",
       "text": [
        "\n",
        "Tc_linear = 429.5696, Tc_computed = 448.580796769"
       ]
      },
      {
       "output_type": "stream",
       "stream": "stdout",
       "text": [
        "\n",
        "Tc_linear = 407.81696, Tc_computed = 410.417698997"
       ]
      },
      {
       "output_type": "stream",
       "stream": "stdout",
       "text": [
        "\n",
        "Tc_linear = 405.641696, Tc_computed = 405.909892271"
       ]
      },
      {
       "output_type": "stream",
       "stream": "stdout",
       "text": [
        "\n"
       ]
      }
     ],
     "prompt_number": 22
    },
    {
     "cell_type": "code",
     "collapsed": false,
     "input": [
      "keys = P_c.keys()\n",
      "keys.sort()\n",
      "critical_data = np.array([(k,P_c[k],T_c[k],h_c[k]) for k in keys])\n",
      "print tabulate.tabulate(critical_data,\"x P T h\".split())\n",
      "critical_data[:,0]"
     ],
     "language": "python",
     "metadata": {},
     "outputs": [
      {
       "output_type": "stream",
       "stream": "stdout",
       "text": [
        "    x            P        T            h\n",
        "-----  -----------  -------  -----------\n",
        "0      2.2064e+07   647.096  2.08812e+06\n",
        "0.2    2.10731e+07  609.563  1.99408e+06\n",
        "0.4    1.94653e+07  570.271  1.84762e+06\n",
        "0.6    1.80713e+07  528.292  1.68339e+06\n",
        "0.8    1.67177e+07  480.355  1.5212e+06\n",
        "0.9    1.49619e+07  448.581  1.41137e+06\n",
        "0.99   1.18128e+07  410.418  1.28287e+06\n",
        "0.999  1.13879e+07  405.91   1.26565e+06\n",
        "1      1.1333e+07   405.4    1.31622e+06\n"
       ]
      },
      {
       "metadata": {},
       "output_type": "pyout",
       "prompt_number": 48,
       "text": [
        "array([ 0.   ,  0.2  ,  0.4  ,  0.6  ,  0.8  ,  0.9  ,  0.99 ,  0.999,  1.   ])"
       ]
      }
     ],
     "prompt_number": 48
    },
    {
     "cell_type": "code",
     "collapsed": false,
     "input": [
      "fig = plt.figure()\n",
      "ax = fig.gca(projection='3d')\n",
      "ax.ticklabel_format(axis='x', style = 'sci', scilimits=(-2,2), useOffset=False)\n",
      "plt.xlabel('Mass specific enthalpy [J/kg]')\n",
      "plt.ylabel('Ammonia mass fraction')\n",
      "ax.set_zlabel('Temperature [$^\\circ C$]')\n",
      "\n",
      "x = 1\n",
      "Tee = np.linspace(273,T_c[x],100)\n",
      "xx=x*np.ones_like(Tee)\n",
      "plt.plot(rp_hl_by_T[x],xx,Tee-273.15,'b')\n",
      "plt.plot(rp_hv_by_T[x],xx,Tee-273.15,'r')\n",
      "\n",
      "for x in [0.2,0.4,0.6,0.8,0.9,0.99,0.999]:\n",
      "    Tee = np.linspace(273,T_c[x],100)\n",
      "    xx = x*np.ones_like(Tee)\n",
      "    plt.plot(rp_hl_by_T[x],xx,Tee-273.15,'b')\n",
      "    plt.plot(rp_hv_by_T[x],xx,Tee-273.15,'r')\n",
      "\n",
      "x = 0\n",
      "Tee = np.linspace(273, T_c[x],100)\n",
      "xx=x*np.ones_like(Tee)\n",
      "plt.plot(rp_hl_by_T[x],xx,Tee-273.15,'b')\n",
      "plt.plot(rp_hv_by_T[x],xx,Tee-273.15,'r')\n",
      "\n",
      "x_w = np.logspace(-4,0)\n",
      "x = 1-x_w\n",
      "for T,c in zip(TT,cc):\n",
      "#for T in [373]:\n",
      "    plt.plot(ees_hl_by_x[T],x,T-273.15,'b--')\n",
      "    plt.plot(ees_hv_by_x[T],x,T-273.15,'r--')\n",
      "    plt.plot(rp_hl_by_x[T],x,T-273.15,'b-' )\n",
      "    plt.plot(rp_hv_by_x[T],x,T-273.15,'r-' )\n",
      "\n",
      "plt.plot(critical_data[:,3],critical_data[:,0],critical_data[:,2]-273.15,\n",
      "         'k')\n",
      "\n",
      "ax.margins(0)\n",
      "ax.autoscale_view('tight')\n",
      "ax.view_init(10,-36)\n",
      "fig.tight_layout()\n",
      "plt.savefig('../img/view1.svg',bbox_inches='tight')\n",
      "ax.view_init(10,-73)\n",
      "fig.tight_layout()\n",
      "plt.savefig('../img/view2.svg',bbox_inches='tight')\n",
      "ax.view_init(10,-109)\n",
      "fig.tight_layout()\n",
      "plt.savefig('../img/view3.svg',bbox_inches='tight')\n",
      "plt.show()"
     ],
     "language": "python",
     "metadata": {},
     "outputs": [],
     "prompt_number": 56
    },
    {
     "cell_type": "code",
     "collapsed": false,
     "input": [
      "<a href=\"../img/views.html\">views</a>\n"
     ],
     "language": "python",
     "metadata": {},
     "outputs": []
    },
    {
     "cell_type": "code",
     "collapsed": false,
     "input": [
      "print CoolProp.CoolProp.PropsSI(\"H\",\"T\",373,\"Q\",0,\"REFPROP::ammonia\")\n",
      "print CoolProp.CoolProp.PropsSI(\"H\",\"T\",195.495,\"Q\",0,\"REFPROP::ammonia[1]&water[0]\")\n",
      "print CoolProp.CoolProp.PropsSI(\"H\",\"T\",195.495,\"Q\",0,\"REFPROP::ammonia\")\n",
      "print CoolProp.CoolProp.PropsSI(\"H\",\"T\",273.16,\"Q\",0,\"REFPROP::ammonia[0]&water[1]\")\n",
      "print CoolProp.CoolProp.PropsSI(\"H\",\"T\",273.16,\"Q\",0,\"REFPROP::water\")"
     ],
     "language": "python",
     "metadata": {},
     "outputs": [
      {
       "output_type": "stream",
       "stream": "stdout",
       "text": [
        "863182.17178\n",
        "8.31109023148\n",
        "8.31109023148\n",
        "-29.9654775138"
       ]
      },
      {
       "output_type": "stream",
       "stream": "stdout",
       "text": [
        "\n",
        "0.61178165961\n"
       ]
      }
     ],
     "prompt_number": 79
    },
    {
     "cell_type": "code",
     "collapsed": false,
     "input": [
      "CoolProp.CoolProp.set_reference_state('ammonia','DEF')\n",
      "CoolProp.CoolProp.PropsSI(\"H\",\"T\",373,\"Q\",0,\"HEOS::ammonia\")"
     ],
     "language": "python",
     "metadata": {},
     "outputs": [
      {
       "metadata": {},
       "output_type": "pyout",
       "prompt_number": 78,
       "text": [
        "863182.2542360559"
       ]
      }
     ],
     "prompt_number": 78
    },
    {
     "cell_type": "code",
     "collapsed": false,
     "input": [
      "CPRP.set_mole_fractions([0.001,0.999])\n",
      "CPRP.update(CoolProp.QT_INPUTS,0,373)\n",
      "CPRP.mole_fractions_liquid()"
     ],
     "language": "python",
     "metadata": {},
     "outputs": [
      {
       "metadata": {},
       "output_type": "pyout",
       "prompt_number": 38,
       "text": [
        "[0.001, 0.999]"
       ]
      }
     ],
     "prompt_number": 38
    },
    {
     "cell_type": "code",
     "collapsed": false,
     "input": [
      "myammonia.h(T=273.15,x=1,Qu=0)"
     ],
     "language": "python",
     "metadata": {},
     "outputs": [
      {
       "metadata": {},
       "output_type": "pyout",
       "prompt_number": 58,
       "text": [
        "0.009749616745638465"
       ]
      }
     ],
     "prompt_number": 58
    },
    {
     "cell_type": "code",
     "collapsed": false,
     "input": [
      "print CoolProp.CoolProp.PropsSI(\"H\",\"T\",273.16,\"Q\",0,\"REFPROP::ammonia[0]&water[1]\")\n",
      "print CoolProp.CoolProp.PropsSI(\"H\",\"T\",273.16,\"Q\",0,\"REFPROP::water\")"
     ],
     "language": "python",
     "metadata": {},
     "outputs": [
      {
       "output_type": "stream",
       "stream": "stdout",
       "text": [
        "-29.9654775138\n",
        "0.61178165961\n"
       ]
      }
     ],
     "prompt_number": 73
    },
    {
     "cell_type": "code",
     "collapsed": false,
     "input": [
      "CoolProp.CoolProp.PropsSI(\"T\",\"H\",2e6,\"Q\",0,\"REFPROP::ammonia[1]&water[0]\")"
     ],
     "language": "python",
     "metadata": {},
     "outputs": [
      {
       "ename": "ValueError",
       "evalue": "Input pair variable is invalid and output(s) are non-trivial; cannot do state update : PropsSI(\"T\",\"H\",2000000,\"Q\",0,\"REFPROP::ammonia[1]&water[0]\")",
       "output_type": "pyerr",
       "traceback": [
        "\u001b[1;31m---------------------------------------------------------------------------\u001b[0m\n\u001b[1;31mValueError\u001b[0m                                Traceback (most recent call last)",
        "\u001b[1;32m<ipython-input-7-33f5c8df7ab9>\u001b[0m in \u001b[0;36m<module>\u001b[1;34m()\u001b[0m\n\u001b[1;32m----> 1\u001b[1;33m \u001b[0mCoolProp\u001b[0m\u001b[1;33m.\u001b[0m\u001b[0mCoolProp\u001b[0m\u001b[1;33m.\u001b[0m\u001b[0mPropsSI\u001b[0m\u001b[1;33m(\u001b[0m\u001b[1;34m\"T\"\u001b[0m\u001b[1;33m,\u001b[0m\u001b[1;34m\"H\"\u001b[0m\u001b[1;33m,\u001b[0m\u001b[1;36m2e6\u001b[0m\u001b[1;33m,\u001b[0m\u001b[1;34m\"Q\"\u001b[0m\u001b[1;33m,\u001b[0m\u001b[1;36m0\u001b[0m\u001b[1;33m,\u001b[0m\u001b[1;34m\"REFPROP::ammonia[1]&water[0]\"\u001b[0m\u001b[1;33m)\u001b[0m\u001b[1;33m\u001b[0m\u001b[0m\n\u001b[0m",
        "\u001b[1;32mC:\\Python27\\lib\\site-packages\\CoolProp\\CoolProp.pyd\u001b[0m in \u001b[0;36mCoolProp.CoolProp.PropsSI (CoolProp\\CoolProp.cpp:30386)\u001b[1;34m()\u001b[0m\n",
        "\u001b[1;32mC:\\Python27\\lib\\site-packages\\CoolProp\\CoolProp.pyd\u001b[0m in \u001b[0;36mCoolProp.CoolProp.PropsSI (CoolProp\\CoolProp.cpp:30187)\u001b[1;34m()\u001b[0m\n",
        "\u001b[1;32mC:\\Python27\\lib\\site-packages\\CoolProp\\CoolProp.pyd\u001b[0m in \u001b[0;36mCoolProp.CoolProp.__Props_err2 (CoolProp\\CoolProp.cpp:28512)\u001b[1;34m()\u001b[0m\n",
        "\u001b[1;31mValueError\u001b[0m: Input pair variable is invalid and output(s) are non-trivial; cannot do state update : PropsSI(\"T\",\"H\",2000000,\"Q\",0,\"REFPROP::ammonia[1]&water[0]\")"
       ]
      }
     ],
     "prompt_number": 7
    },
    {
     "cell_type": "code",
     "collapsed": false,
     "input": [],
     "language": "python",
     "metadata": {},
     "outputs": []
    }
   ],
   "metadata": {}
  }
 ]
}