{
 "cells": [
  {
   "cell_type": "markdown",
   "metadata": {
    "collapsed": true
   },
   "source": [
    "Ammonia - aqua properties\n",
    "=========================\n",
    "\n",
    "CoolProp: Melinder and Skovrup\n",
    "------------------------------\n",
    "The [CoolProp][1] library implements two models for Ammonia (NH3) - aq; note that both are incompressible models only. The correlations come from Melinder and Skovrup.\n",
    "See details on [the available models](http://www.coolprop.org/fluid_properties/Incompressibles.html#the-different-fluids).\n",
    "\n",
    "Here, let's see what is available from these models.\n",
    "\n",
    "[1]: http://www.coolprop.org/index.html \"CoolProp\"\n"
   ]
  },
  {
   "cell_type": "code",
   "execution_count": 42,
   "metadata": {},
   "outputs": [
    {
     "name": "stdout",
     "output_type": "stream",
     "text": [
      "Enthalpy is  84007.30085106673\nEnthalpy is  -632.7357481541694\nEnthalpy is  -632.7281451207818\n"
     ]
    }
   ],
   "source": [
    "import CoolProp.CoolProp as CP\n",
    "h=CP.PropsSI(\"H\", \"P\", 101325, \"T\", 293.15, \"Water\")\n",
    "print(\"Enthalpy is \", h)\n",
    "\n",
    "fluidname = \"INCOMP::MAM[0.23]\"\n",
    "h = CP.PropsSI(\"H\", \"T\", 293., \"P\", 101325, fluidname)\n",
    "print(\"Enthalpy is \", h)\n",
    "\n",
    "fluidname = \"INCOMP::MAM2[0.23]\"\n",
    "h = CP.PropsSI(\"H\", \"T\", 293., \"P\", 101325, fluidname)\n",
    "print(\"Enthalpy is \", h)"
   ]
  },
  {
   "cell_type": "code",
   "execution_count": null,
   "metadata": {
    "collapsed": true
   },
   "outputs": [],
   "source": []
  }
 ],
 "metadata": {
  "kernelspec": {
   "display_name": "Python 3",
   "language": "python",
   "name": "python3"
  },
  "language_info": {
   "codemirror_mode": {
    "name": "ipython",
    "version": 3
   },
   "file_extension": ".py",
   "mimetype": "text/x-python",
   "name": "python",
   "nbconvert_exporter": "python",
   "pygments_lexer": "ipython3",
   "version": "3.6.2"
  }
 },
 "nbformat": 4,
 "nbformat_minor": 1
}
