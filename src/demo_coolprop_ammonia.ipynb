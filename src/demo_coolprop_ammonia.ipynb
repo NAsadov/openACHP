{
 "cells": [
  {
   "cell_type": "markdown",
   "metadata": {
    "collapsed": true
   },
   "source": [
    "Ammonia - aqua properties\n",
    "=========================\n",
    "\n",
    "CoolProp: Melinder and Skovrup\n",
    "------------------------------\n",
    "The [CoolProp][1] library implements two models for Ammonia (NH3) - aq; note that both are incompressible models only. The correlations come from Melinder and Skovrup.\n",
    "See details on [the available models](http://www.coolprop.org/fluid_properties/Incompressibles.html#the-different-fluids).\n",
    "\n",
    "Here, let's see what is available from these models.\n",
    "\n",
    "[1]: http://www.coolprop.org/index.html \"CoolProp\"\n"
   ]
  },
  {
   "cell_type": "code",
   "execution_count": null,
   "metadata": {},
   "outputs": [],
   "source": [
    "import coolprop\n",
    "\n"
   ]
  }
 ],
 "metadata": {
  "kernelspec": {
   "display_name": "Python 2",
   "language": "python",
   "name": "python2"
  },
  "language_info": {
   "codemirror_mode": {
    "name": "ipython",
    "version": 2
   },
   "file_extension": ".py",
   "mimetype": "text/x-python",
   "name": "python",
   "nbconvert_exporter": "python",
   "pygments_lexer": "ipython2",
   "version": "2.7.6"
  }
 },
 "nbformat": 4,
 "nbformat_minor": 0
}
