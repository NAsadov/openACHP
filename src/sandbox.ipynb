{
 "cells": [
  {
   "cell_type": "code",
   "execution_count": 3,
   "metadata": {},
   "outputs": [
    {
     "data": {
      "text/html": [
       "<link rel=\"stylesheet\" type=\"text/css\" href=\"http://cdn.datatables.net/1.9.3/css/jquery.dataTables.css\">\n",
       "<script type=\"text/javascript\" charset=\"utf8\" src=\"http://cdn.datatables.net/1.9.3/js/jquery.dataTables.js\"></script>\n",
       "\n",
       "<div id=\"mydiv\">\n",
       "<table>\n",
       "<thead>\n",
       "<tr>\n",
       "<th>A</th>\n",
       "<th>B</th>\n",
       "</tr>\n",
       "</thead>\n",
       "<tbody>\n",
       "<tr>\n",
       "<td>1</td>\n",
       "<td>2</td>\n",
       "</tr>\n",
       "<tr>\n",
       "<td>3</td>\n",
       "<td>4</td>\n",
       "</tr>\n",
       "</tbody>\n",
       "</table>\n",
       "</div>\n",
       "\n",
       "<script>\n",
       "//$.getScript(\"http://cdn.datatables.net/1.9.3/js/jquery.dataTables.js\");\n",
       "$('#mydiv table').dataTable();\n",
       "//$(document).ready(function(){\n",
       "//    $('#mydiv table').dataTable();\n",
       "//});\n",
       "</script>"
      ],
      "text/plain": [
       "<IPython.core.display.HTML object>"
      ]
     },
     "metadata": {},
     "output_type": "display_data"
    }
   ],
   "source": [
    "%%html\n",
    "<link rel=\"stylesheet\" type=\"text/css\" href=\"http://cdn.datatables.net/1.9.3/css/jquery.dataTables.css\">\n",
    "<script type=\"text/javascript\" charset=\"utf8\" src=\"http://cdn.datatables.net/1.9.3/js/jquery.dataTables.js\"></script>\n",
    "\n",
    "<div id=\"mydiv\">\n",
    "<table>\n",
    "<thead>\n",
    "<tr>\n",
    "<th>A</th>\n",
    "<th>B</th>\n",
    "</tr>\n",
    "</thead>\n",
    "<tbody>\n",
    "<tr>\n",
    "<td>1</td>\n",
    "<td>2</td>\n",
    "</tr>\n",
    "<tr>\n",
    "<td>3</td>\n",
    "<td>4</td>\n",
    "</tr>\n",
    "</tbody>\n",
    "</table>\n",
    "</div>\n",
    "\n",
    "<script>\n",
    "//$.getScript(\"http://cdn.datatables.net/1.9.3/js/jquery.dataTables.js\");\n",
    "$('#mydiv table').dataTable();\n",
    "//$(document).ready(function(){\n",
    "//    $('#mydiv table').dataTable();\n",
    "//});\n",
    "</script>\n"
   ]
  },
  {
   "cell_type": "code",
   "execution_count": 1,
   "metadata": {},
   "outputs": [
    {
     "data": {
      "text/plain": [
       "'7.0.0'"
      ]
     },
     "execution_count": 1,
     "metadata": {},
     "output_type": "execute_result"
    }
   ],
   "source": [
    "import ipywidgets; ipywidgets.__version__"
   ]
  },
  {
   "cell_type": "code",
   "execution_count": 2,
   "metadata": {},
   "outputs": [
    {
     "data": {
      "text/plain": [
       "'3.0.2'"
      ]
     },
     "execution_count": 2,
     "metadata": {},
     "output_type": "execute_result"
    }
   ],
   "source": [
    "import widgetsnbextension; widgetsnbextension.__version__"
   ]
  },
  {
   "cell_type": "code",
   "execution_count": 6,
   "metadata": {},
   "outputs": [
    {
     "data": {
      "application/vnd.jupyter.widget-view+json": {
       "model_id": "c8429d3b5f9e410185dab263125845f9",
       "version_major": 2,
       "version_minor": 0
      },
      "text/plain": [
       "A Jupyter Widget"
      ]
     },
     "metadata": {},
     "output_type": "display_data"
    }
   ],
   "source": [
    "from ipywidgets import IntSlider, interact\n",
    "from IPython.display import display\n",
    "slider = IntSlider(min=1, max=10)\n",
    "display(slider)"
   ]
  },
  {
   "cell_type": "code",
   "execution_count": 8,
   "metadata": {},
   "outputs": [
    {
     "data": {
      "application/vnd.jupyter.widget-view+json": {
       "model_id": "899a6482845c4893846b5febdaecff6e",
       "version_major": 2,
       "version_minor": 0
      },
      "text/plain": [
       "A Jupyter Widget"
      ]
     },
     "metadata": {},
     "output_type": "display_data"
    }
   ],
   "source": [
    "def square(num=1):\n",
    "        print(\"{} squared is {}\".format(num, num*num))\n",
    "interact(square, num=5);\n"
   ]
  },
  {
   "cell_type": "code",
   "execution_count": 9,
   "metadata": {
    "collapsed": true
   },
   "outputs": [],
   "source": [
    "?ipywidgets"
   ]
  },
  {
   "cell_type": "code",
   "execution_count": null,
   "metadata": {
    "collapsed": true
   },
   "outputs": [],
   "source": []
  }
 ],
 "metadata": {
  "kernelspec": {
   "display_name": "Python 3",
   "language": "python",
   "name": "python3"
  },
  "language_info": {
   "codemirror_mode": {
    "name": "ipython",
    "version": 3
   },
   "file_extension": ".py",
   "mimetype": "text/x-python",
   "name": "python",
   "nbconvert_exporter": "python",
   "pygments_lexer": "ipython3",
   "version": "3.6.2"
  }
 },
 "nbformat": 4,
 "nbformat_minor": 2
}
