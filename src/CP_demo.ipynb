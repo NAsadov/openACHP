{
 "metadata": {
  "name": "",
  "signature": "sha256:b61dbb22e40b9fd3a138c4675a470c36ca49f9aeb9fe412941870d2d18002f88"
 },
 "nbformat": 3,
 "nbformat_minor": 0,
 "worksheets": [
  {
   "cells": [
    {
     "cell_type": "code",
     "collapsed": false,
     "input": [
      "import CoolProp.CoolProp as CP\n",
      "CP.PropsSI('P','T',373,'Q',0,\"INCOMP::LiBr[0.6]\")\n",
      "amm = lambda(x):'REFPROP::water[{}]&ammonia[{}]'.format(1-x,x)\n",
      "f1 = amm(0.302385)\n",
      "print f1"
     ],
     "language": "python",
     "metadata": {},
     "outputs": [
      {
       "output_type": "stream",
       "stream": "stdout",
       "text": [
        "REFPROP::water[0.697615]&ammonia[0.302385]\n"
       ]
      }
     ],
     "prompt_number": 2
    },
    {
     "cell_type": "code",
     "collapsed": false,
     "input": [
      "print CP.PropsSI('D','T',300,'P',101325,f1)"
     ],
     "language": "python",
     "metadata": {},
     "outputs": [
      {
       "output_type": "stream",
       "stream": "stdout",
       "text": [
        "892.694193402\n"
       ]
      }
     ],
     "prompt_number": 4
    },
    {
     "cell_type": "code",
     "collapsed": false,
     "input": [
      "print CP.PropsSI('C','T',300,'P',101325,'INCOMP::LiBr[0.23]')"
     ],
     "language": "python",
     "metadata": {},
     "outputs": [
      {
       "output_type": "stream",
       "stream": "stdout",
       "text": [
        "3101.4363823\n"
       ]
      }
     ],
     "prompt_number": 5
    },
    {
     "cell_type": "code",
     "collapsed": false,
     "input": [
      "Psat = CP.PropsSI('P','T',300,'Q',0,'INCOMP::LiBr[0.23]')\n",
      "print Psat"
     ],
     "language": "python",
     "metadata": {},
     "outputs": [
      {
       "output_type": "stream",
       "stream": "stdout",
       "text": [
        "2951.14613672\n"
       ]
      }
     ],
     "prompt_number": 6
    },
    {
     "cell_type": "code",
     "collapsed": false,
     "input": [],
     "language": "python",
     "metadata": {},
     "outputs": []
    }
   ],
   "metadata": {}
  }
 ]
}