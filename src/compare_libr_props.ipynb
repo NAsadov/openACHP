{
 "metadata": {
  "name": "",
  "signature": "sha256:3d2cc42a4fbb43401829a9b1ed99d0cff6f635088f24ccffd67ba3d1f7d9a8ac"
 },
 "nbformat": 3,
 "nbformat_minor": 0,
 "worksheets": [
  {
   "cells": [
    {
     "cell_type": "code",
     "collapsed": false,
     "input": [
      "%matplotlib inline\n",
      "import numpy as np\n",
      "import matplotlib.pyplot as plt"
     ],
     "language": "python",
     "metadata": {},
     "outputs": [],
     "prompt_number": 1
    },
    {
     "cell_type": "code",
     "collapsed": false,
     "input": [
      "import libr_props\n",
      "\n",
      "import CoolProp.CoolProp as CP\n",
      "librname = lambda(x): 'INCOMP::LiBr[{}]'.format(x)\n",
      "def Hsat1(T,x):\n",
      "    return CP.PropsSI('H','T',T,'Q',0,librname(x))\n",
      "Hsat2 = np.vectorize(Hsat1)\n",
      "\n",
      "from ees_interface2 import EES_DLL\n",
      "LiBr_path = r'C:\\EES32\\Userlib\\Libr\\LIBR.dll'\n",
      "myDLL = EES_DLL(LiBr_path)\n",
      "h_libr=myDLL.func['H_LIBR']\n",
      "def hfun(T,x):\n",
      "    inarglist=[T-273.15,x*100.,2]\n",
      "    s0,outarglist=h_libr.call(\"\",inarglist)\n",
      "    return outarglist * 1e3\n",
      "hfun2=np.vectorize(hfun)"
     ],
     "language": "python",
     "metadata": {},
     "outputs": [
      {
       "output_type": "stream",
       "stream": "stdout",
       "text": [
        "LIBR\n",
        "['Q_LIBR', 'H_LIBR', 'T_LIBR', 'P_LIBR', 'V_LIBR', 'X_LIBR', 'VISC_LIBR', 'COND_LIBR']\n"
       ]
      }
     ],
     "prompt_number": 21
    },
    {
     "cell_type": "code",
     "collapsed": false,
     "input": [
      "help(libr_props)"
     ],
     "language": "python",
     "metadata": {},
     "outputs": [
      {
       "output_type": "stream",
       "stream": "stdout",
       "text": [
        "Help on module libr_props:\n",
        "\n",
        "NAME\n",
        "    libr_props - Created on Thu Feb 19 22:25:20 2015\n",
        "\n",
        "FILE\n",
        "    c:\\users\\nfette\\documents\\github\\openachp\\src\\libr_props.py\n",
        "\n",
        "DESCRIPTION\n",
        "    The purpose of this file is to check the compatibility of the relations from\n",
        "    Patel and Klomfar, Int J Refrig, Vol 20, pp 566-578 (2006) with the CoolProp\n",
        "    functions for water, and compare to a known set of code using these relations.\n",
        "    \n",
        "    Units used:\n",
        "    P [bar]\n",
        "    T [K]\n",
        "    h [J/kg]\n",
        "    s [J/kg-K]\n",
        "    rho [kg/m3]\n",
        "    MW [kg/mol]\n",
        "    \n",
        "    @author: nfette\n",
        "\n",
        "FUNCTIONS\n",
        "    PropsSI(...)\n",
        "        PropsSI(in1, in2, in3=None, in4=None, in5=None, in6=None, in7=None)\n",
        "        \n",
        "        A Python wrapper of C++ function :cpapi:`CoolProp::PropsSI` .\n",
        "    \n",
        "    massDensity(T, x)\n",
        "        This function returns the density of a liquid lithium bromide water\n",
        "        solution given the temperature and composition, based on equation 2 and table\n",
        "        5 in Patek and Klomfar, Int. J. of Refrigeration, Vol 29, pp. 566-578, (2006).\n",
        "        \n",
        "        Inputs:\n",
        "            T = temperature / K\n",
        "            x  = mass fraction of lithium bromide in the liquid\n",
        "        Outputs:\n",
        "            density in units of kg/m3\n",
        "    \n",
        "    massFraction(T, P, guess=(0.4,))\n",
        "        Returns the composition of a lithium bromide-water mixture at\n",
        "        the given the temprature and pressure using the formulation presented by\n",
        "        Patek and Klomfar, Int. J. of Refrigeration, Vol 29, pp. 566-578, (2006)\n",
        "        \n",
        "        Notes: \"above\" the mixture: is completely water vapor. So there are only\n",
        "        two relevant properties to find equilibrium vapor pressure (?).\n",
        "        \n",
        "        Units: T [K]\n",
        "               x = mass fraction LiBr\n",
        "               P [bar]\n",
        "    \n",
        "    massSpecificEnthalpy(T, x)\n",
        "        Inputs:  T = Temperature / [Kelvin]\n",
        "                 x = mass fraction LiBr\n",
        "        Outputs: h = mass specific enthalpy / [J/kg]\n",
        "        \n",
        "        Based on table 7 and equation (4) in reference.\n",
        "    \n",
        "    massSpecificEntropy(T, x)\n",
        "        Inputs:  T = Temperature / [Kelvin]\n",
        "                 x = mass fraction LiBr\n",
        "        Outputs: s = mass specific entropy / [J/kg-K]\n",
        "        \n",
        "        Based on table 8 and equation (5) in reference.\n",
        "    \n",
        "    massSpecificGibbs(T, x)\n",
        "    \n",
        "    massSpecificHeat(T, x)\n",
        "        Inputs:  T = Temperature / [Kelvin]\n",
        "                 x = mass fraction LiBr\n",
        "        Outputs: cp = mass specific heat / [J/kg-K]\n",
        "        \n",
        "        Based on Table 6 and equation (3) of reference.\n",
        "    \n",
        "    mole2massFraction(x)\n",
        "        input: mole fraction, x, of LiBr\n",
        "    \n",
        "    molefraction(w)\n",
        "        input: mass fraction, w, of LiBr\n",
        "    \n",
        "    objective_T(T, *ThetaX)\n",
        "    \n",
        "    objective_x(x, *TTheta)\n",
        "    \n",
        "    pressure(T, x)\n",
        "        Return pressure above a lithium bromide-water mixture\n",
        "        at the given temperature and composition using the formulation\n",
        "        presented by\n",
        "        Patek and Klomfar, Int. J. Refrig., Vol 29, pp 566-578 (2006)\n",
        "        \n",
        "        Notes: \"above\" the mixture: is completely water vapor. So there are only\n",
        "        two relevant properties to find equilibrium vapor pressure (?).\n",
        "        \n",
        "        Units: T [K]\n",
        "               x = mass fraction LiBr\n",
        "               P [bar]\n",
        "               \n",
        "        Based on Table 4 and Equation (1) in reference.\n",
        "    \n",
        "    temperature(P, x)\n",
        "    \n",
        "    thetaFun(T, x, Tderiv=False, Xderiv=False)\n",
        "    \n",
        "    twoPhaseProps(h, P, z)\n",
        "        Some notes.\n",
        "        This function returns the quality, temperature and liquid composition of a\n",
        "        2-phase mixture of liquid lithium bromide-water and water vapor at specific\n",
        "        enthalpy h, pressure P, and overall composition, z.\n",
        "        \n",
        "        Inputs:\n",
        "        \n",
        "        h is enthalpy / [J/kg]\n",
        "        P is pressure / [bar].\n",
        "        z is the overall lithium bromide mass fraction [kg/kg].\n",
        "        \n",
        "        Outputs:\n",
        "        \n",
        "        T is temperature / [K].\n",
        "        Q is the quality (or vapor fraction) on a mass basis [kg/kg].\n",
        "        x is the lithium bromide mass fraction of the liquid phase [kg/kg].\n",
        "        \n",
        "        We observe that all the lithium bromide mass is in the liquid phase.\n",
        "        Therefore, a mass balance requires (1 - Q) x = z.\n",
        "        An enthalpy balance gives simply h = (1-Q) h_liquid + Q h_vapor.\n",
        "        Rearranging, (h - h_liquid) = Q (h_vapor - h_liquid).\n",
        "        Therefore we have two equations to solve for Q and x.\n",
        "        Equilibrium requires T_liquid = T_vapor, so we can use exisiting functions.\n",
        "\n",
        "DATA\n",
        "    MW_H2O = 0.018015268\n",
        "    MW_LiBr = 0.08685\n",
        "\n",
        "\n"
       ]
      }
     ],
     "prompt_number": 3
    },
    {
     "cell_type": "code",
     "collapsed": false,
     "input": [
      "x = np.linspace(0,.74)\n",
      "T_ref = 293.15\n",
      "h_offset = libr_props.massSpecificEnthalpy(T_ref,x)\n",
      "for T in [273.15,293.15,313.15,333.5,353.15,373.15]:\n",
      "    h = libr_props.massSpecificEnthalpy(T,x)\n",
      "    h2 = Hsat2(T,x)+h_offset\n",
      "    h3 = hfun2(T,x)\n",
      "    plt.plot(x,h,label=\"{} K\".format(T))\n",
      "    plt.plot(x,h2,'--')\n",
      "    plt.plot(x,h3,'.-')\n",
      "plt.ylim([-2e5,4e5])\n",
      "plt.legend(loc='best')"
     ],
     "language": "python",
     "metadata": {},
     "outputs": [
      {
       "metadata": {},
       "output_type": "pyout",
       "prompt_number": 22,
       "text": [
        "<matplotlib.legend.Legend at 0x6a9fa50>"
       ]
      },
      {
       "metadata": {},
       "output_type": "display_data",
       "png": "[encoded data removed]",
       "text": [
        "<matplotlib.figure.Figure at 0x6d424f0>"
       ]
      }
     ],
     "prompt_number": 22
    },
    {
     "cell_type": "code",
     "collapsed": false,
     "input": [
      "from ees_interface2 import EES_DLL"
     ],
     "language": "python",
     "metadata": {},
     "outputs": [],
     "prompt_number": 5
    },
    {
     "cell_type": "code",
     "collapsed": false,
     "input": [
      "LiBr_path = r'C:\\EES32\\Userlib\\Libr\\LIBR.dll'\n",
      "myDLL = EES_DLL(LiBr_path)"
     ],
     "language": "python",
     "metadata": {},
     "outputs": [
      {
       "output_type": "stream",
       "stream": "stdout",
       "text": [
        "LIBR\n",
        "['Q_LIBR', 'H_LIBR', 'T_LIBR', 'P_LIBR', 'V_LIBR', 'X_LIBR', 'VISC_LIBR', 'COND_LIBR']\n"
       ]
      }
     ],
     "prompt_number": 6
    },
    {
     "cell_type": "code",
     "collapsed": false,
     "input": [
      "myDLL.getDLFnames()"
     ],
     "language": "python",
     "metadata": {},
     "outputs": [
      {
       "metadata": {},
       "output_type": "pyout",
       "prompt_number": 7,
       "text": [
        "['H_LIBR', 'T_LIBR', 'P_LIBR', 'V_LIBR', 'X_LIBR', 'VISC_LIBR', 'COND_LIBR']"
       ]
      }
     ],
     "prompt_number": 7
    },
    {
     "cell_type": "code",
     "collapsed": false,
     "input": [
      "myDLL.getDLPnames()"
     ],
     "language": "python",
     "metadata": {},
     "outputs": [
      {
       "metadata": {},
       "output_type": "pyout",
       "prompt_number": 8,
       "text": [
        "['Q_LIBR']"
       ]
      }
     ],
     "prompt_number": 8
    },
    {
     "cell_type": "code",
     "collapsed": false,
     "input": [
      "myDLL.getFDLnames()"
     ],
     "language": "python",
     "metadata": {},
     "outputs": [
      {
       "metadata": {},
       "output_type": "pyout",
       "prompt_number": 9,
       "text": [
        "[]"
       ]
      }
     ],
     "prompt_number": 9
    },
    {
     "cell_type": "code",
     "collapsed": false,
     "input": [
      "h_libr=myDLL.func['H_LIBR']\n",
      "h_libr"
     ],
     "language": "python",
     "metadata": {},
     "outputs": [
      {
       "metadata": {},
       "output_type": "pyout",
       "prompt_number": 10,
       "text": [
        "<ees_interface2.wrappedFunction instance at 0x06B05468>"
       ]
      }
     ],
     "prompt_number": 10
    },
    {
     "cell_type": "code",
     "collapsed": false,
     "input": [
      "h_libr.getCallFormat()"
     ],
     "language": "python",
     "metadata": {},
     "outputs": [
      {
       "metadata": {},
       "output_type": "pyout",
       "prompt_number": 11,
       "text": [
        "(\"h=h_LIBR('SI' or 'ENG',T,X)\", [\"'SI' or 'ENG'\", 'T', 'X'])"
       ]
      }
     ],
     "prompt_number": 11
    },
    {
     "cell_type": "code",
     "collapsed": false,
     "input": [
      "inarglist = [20,50,2]\n",
      "inunits = h_libr.getInputUnits(inarglist=inarglist)"
     ],
     "language": "python",
     "metadata": {},
     "outputs": [],
     "prompt_number": 12
    },
    {
     "cell_type": "code",
     "collapsed": false,
     "input": [
      "inunits"
     ],
     "language": "python",
     "metadata": {},
     "outputs": [
      {
       "metadata": {},
       "output_type": "pyout",
       "prompt_number": 13,
       "text": [
        "['']"
       ]
      }
     ],
     "prompt_number": 13
    },
    {
     "cell_type": "code",
     "collapsed": false,
     "input": [
      "s0,outarglist=h_libr.call(\"\",inarglist)"
     ],
     "language": "python",
     "metadata": {},
     "outputs": [],
     "prompt_number": 14
    },
    {
     "cell_type": "code",
     "collapsed": false,
     "input": [
      "s0"
     ],
     "language": "python",
     "metadata": {},
     "outputs": [
      {
       "metadata": {},
       "output_type": "pyout",
       "prompt_number": 15,
       "text": [
        "''"
       ]
      }
     ],
     "prompt_number": 15
    },
    {
     "cell_type": "code",
     "collapsed": false,
     "input": [
      "type(outarglist)"
     ],
     "language": "python",
     "metadata": {},
     "outputs": [
      {
       "metadata": {},
       "output_type": "pyout",
       "prompt_number": 16,
       "text": [
        "float"
       ]
      }
     ],
     "prompt_number": 16
    },
    {
     "cell_type": "code",
     "collapsed": false,
     "input": [
      "def hfun(T,x):\n",
      "    inarglist=[T,x,2]\n",
      "    s0,outarglist=h_libr.call(\"\",inarglist)\n",
      "    return outarglist\n",
      "hfun2=np.vectorize(hfun)    "
     ],
     "language": "python",
     "metadata": {},
     "outputs": [],
     "prompt_number": 17
    },
    {
     "cell_type": "code",
     "collapsed": false,
     "input": [
      "hfun2(T,50)"
     ],
     "language": "python",
     "metadata": {},
     "outputs": [
      {
       "metadata": {},
       "output_type": "pyout",
       "prompt_number": 18,
       "text": [
        "array(835.942417778167)"
       ]
      }
     ],
     "prompt_number": 18
    },
    {
     "cell_type": "code",
     "collapsed": false,
     "input": [],
     "language": "python",
     "metadata": {},
     "outputs": [],
     "prompt_number": 18
    }
   ],
   "metadata": {}
  }
 ]
}