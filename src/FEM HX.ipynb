{
 "cells": [
  {
   "cell_type": "markdown",
   "metadata": {},
   "source": [
    "\n",
    "# Finite Element Method for Heat Exchangers"
   ]
  },
  {
   "cell_type": "markdown",
   "metadata": {},
   "source": [
    "Suppose we have a couple of fluid streams exchanging heat (or mass) and want to compute the amount of heat (or mass) exchanged under given conditions of flow configuration and overall heat transfer coefficient U and area through the process. Furthermore, the streams are real -- defined numerically by points (Q,T) or an interpolate, instead of constant stream heat capacity. We want a method that converges with spatial resolution and converges with time for steady-state boundary conditions, and that hopefully gives a reasonable guess for transient conditions. Let's start with some assumptions:\n",
    "\n",
    "- We want a method that is first order in time, and preferably explicit.\n",
    "- The method may be spatially implicit.\n",
    "- The inlets (fluid state and rate of change) are specified as a boundary condition.\n",
    "- We have all the information we need about U, A, cross-section area, mass flow rate, and density\n",
    "- It is okay to violate transient conservation of energy insofar as we choose to treat flow as incompressible.\n",
    "- Assume the fluid state in a given cross-section is uniform, so we are not concerned with spatial resolution of the boundary layer, mixing, etc. \n",
    "- Assume that only advection acts to carry information downstream, ie. flow is fast enough to neglect heat transfer between points in the same stream.\n",
    "- Interacting streams are coupled only through local heat transfer, eg. the forcing term.\n",
    "\n",
    "As a result of some of the assumptions, it is possible for the method to overshoot, so let's keep the time step smallish."
   ]
  },
  {
   "cell_type": "markdown",
   "metadata": {},
   "source": [
    "## Finite difference schemes"
   ]
  },
  {
   "cell_type": "markdown",
   "metadata": {},
   "source": [
    "### Explicit method\n",
    "\n",
    "The obvious starting point is to draw a cell with some $U \\Delta A$, write out the transient first law, and extract the relevant equations for the rate of change of state. I'm going to define states at the inlet and outlet to the cell. So we have for one cell\n",
    "\n",
    "$$ \\Delta Q = \\dot{m} (h_{out} - h_{in}) + \\frac{d}{dt} \\int_{cell} u dm $$\n",
    "\n",
    "Now we need to provide an finite element approximation of the mass integral / time rate of change term and estimate $\\Delta Q$ resulting from interaction with the other stream. First, let's use a first order central method for the integral term:\n",
    "\n",
    "\\begin{align}\n",
    "    \\int_{cell} u dm &\\approx (\\rho A_c \\Delta x)\n",
    "    \\left(\\frac{1}{2}\\right)\\left(u_{in}+u_{out}\\right) \\\\\n",
    "    &= \\left(\\frac{1}{2}\\right) (\\alpha \\dot{m}) \\left(u_{in}+u_{out}\\right)\n",
    "\\end{align}\n",
    "\n",
    "where for purpose of scaling analysis, we define $\\alpha := \\rho A_c \\Delta x / \\dot{m}$, which indicates the thermal inertia of the cell relative to the flow heat capacity, with units of time. We need the whole scheme in terms of one energy variable, so let's substitute in for $u=h-pv$: assuming constant pressure,\n",
    "\n",
    "\\begin{align}\n",
    "    \\int_{cell} u dm &\\approx (\\rho A_c \\Delta x)\n",
    "    \\left(\\frac{1}{2}\\right)\\left(h_{in}+h_{out} + p(v_{in} + v_{out}) \\right) \\\\\n",
    "\\end{align}\n",
    "\n",
    "Assume that the cell geometry is constant, although the density may not be. In the time derivative, the specific volume terms cancel, and we have\n",
    "\n",
    "\\begin{align}\n",
    "    \\frac{d}{dt} \\int_{cell} u dm &\\approx \n",
    "    (\\dot{\\rho} A_c \\Delta x) \\left(\\frac{1}{2}\\right)\\left(h_{in}+h_{out} \\right)\n",
    "    + (\\rho A_c \\Delta x) \\left(\\frac{1}{2}\\right)\\left(\\dot{h}_{in}+\\dot{h}_{out} \\right) \\\\\n",
    "\\end{align}\n",
    "\n",
    "For this work, let's pretend that the volume change is negligible, ie. we call the fluid incompressible and drop the first term. Let's use an explicit, first order forward difference for the time rate of change:\n",
    "\n",
    "$$\\dot{h} \\approx \\frac{1}{\\Delta t} \\left( h(t + \\Delta t) - h(t)\\right)$$"
   ]
  },
  {
   "cell_type": "markdown",
   "metadata": {},
   "source": [
    "Now we need to write the governing equation with cell and time indices. Let's indicate them like this:\n",
    "\n",
    "$$ h_{j}^{n} $$\n",
    "\n",
    "where subscript $j$ indexes the node (0 through J) and superscript $n$ indexes the time. Assume the flow and direction of $\\Delta x$ is directed from node $j$ to $j+1$. So, associated with each cell from (0) to (J-1) we have\n",
    "\n",
    "$$ \\Delta Q_{(j)}^{n} = \\dot{m} (h_{j+1}^{n} - h_{j}^{n})\n",
    "    + \\left(\\frac{\\alpha \\dot{m}}{2 \\Delta t}\\right)\n",
    "      (h_{j}^{n+1} - h_{j}^{n} + h_{j+1}^{n+1} - h_{j+1}^{n}) $$\n",
    "      "
   ]
  },
  {
   "cell_type": "markdown",
   "metadata": {},
   "source": [
    "The block associated with this cell looks like:\n",
    "\n",
    "$$\n",
    "\\left[ \\Delta Q_{(j)}^n - \\dot{m}(h_{j+1}^{n} - h_{j}^{n})\n",
    "    + \\left(\\frac{\\alpha \\dot{m}}{2\\Delta t}\\right) \\left(h_{j}^{n} + h_{j+1}^{n}\\right) \\right]\n",
    "= \\left(\\frac{\\alpha \\dot{m}}{2\\Delta t}\\right)\n",
    "\\begin{pmatrix}\n",
    "1 & 1 \\end{pmatrix}\n",
    "\\begin{pmatrix}\n",
    "h_{j}^{n+1} \\\\\n",
    "h_{j+1}^{n+1} \\end{pmatrix}\n",
    "$$\n",
    "\n",
    "Now, we are almost ready to solve. For an inlet boundary condition at $j=0$, we have one more equation that simply specifies $h_0^n$. Now, we start solving with cell j=0, then move to j=1 and solve explicitly, and so on."
   ]
  },
  {
   "cell_type": "markdown",
   "metadata": {},
   "source": [
    "### Implicit method\n",
    "\n",
    "Following a similar process, we start with the derivative form of the governing equation, and apply the incompressible assumption:\n",
    "\n",
    "$$ \\frac{Q'}{A_c \\rho} = \\left(\\frac{\\dot{m}}{A_c \\rho}\\right)\n",
    "    \\frac{\\partial h}{\\partial x} + \\frac{\\partial h}{\\partial t} $$\n",
    "\n",
    "This time, we are write the discrete equations for nodes; thus the cell forcing must be distributed over the nodes in that cell. Also, we use a backwards time approximation for the rate of change term. Anyway,\n",
    "\n",
    "$$ \\frac{Q_{(j)}^{n-1}}{A_c \\rho} = \\left(\\frac{\\dot{m}}{A_c \\rho}\\right)\n",
    "    \\frac{\\left(h_{j}^{n} - h_{j-1}^{n} \\right)}{\\Delta x}\n",
    "    + \\frac{\\left( h_{j}^{n} - h_{j}^{n-1} \\right)}{\\Delta t} $$\n",
    "            \n",
    "So the block looks like this:\n",
    "\n",
    "$$\n",
    "\\left[ \\frac{\\Delta t}{A_c \\rho} Q^n_{j} + h_{j}^{n-1} \\right]\n",
    "= \\begin{pmatrix}\n",
    "    -\\left(\\frac{\\dot{m}}{A_c \\rho} \\frac{\\Delta t}{\\Delta x} \\right)\n",
    "    & \\left(1 + \\frac{\\dot{m}}{A_c \\rho} \\frac{\\Delta t}{\\Delta x} \\right) \\end{pmatrix}\n",
    "  \\begin{pmatrix}\n",
    "    h_{j-1}^{n} \\\\\n",
    "    h_{j}^{n} \\end{pmatrix}\n",
    "$$"
   ]
  },
  {
   "cell_type": "markdown",
   "metadata": {},
   "source": [
    "## Coupling/Forcing"
   ]
  },
  {
   "cell_type": "markdown",
   "metadata": {},
   "source": [
    "Meanwhile, the local heat transfer rate is\n",
    "\n",
    "$$ Q = \\epsilon Q_{max}, $$\n",
    "\n",
    "where $Q_{max}$ is found for counter-flow by trying to take each stream to equilibrium with the other stream's inlet, and seeing which side is limiting. If we have local estimates of stream heat capacity, so much the better, as we can use the textbook definition. For counter-flow, effectiveness can be computed as\n",
    "\n",
    "$$ \\epsilon(NTU, C_r) = \\begin{cases} \n",
    "     \\frac {1 - \\exp[-NTU(1 - C_{r})]}{1 - C_{r}\\exp[-NTU(1 - C_{r})]} & C_r < 1 \\\\[0.5ex]\n",
    "     \\frac{NTU}{1+NTU} & C_r = 1 \n",
    "     \\end{cases} $$\n",
    "     \n",
    "The pole-zero combination at $C_r = 1$ makes the function less than ideal for numerical work. I will consider this further in another [notebook](fitting effectiveness.ipynb) and continue despite the potential issue."
   ]
  },
  {
   "cell_type": "code",
   "execution_count": 1,
   "metadata": {
    "collapsed": true
   },
   "outputs": [],
   "source": [
    "import numpy\n",
    "from numpy import exp, log, sqrt, power, inf\n",
    "def counterflow_effectiveness(ntu, c_r):\n",
    "    a = exp(-(ntu * (1.-c_r)))\n",
    "    return numpy.where(c_r == 1,\n",
    "                       ntu / (1. + ntu),\n",
    "                       (1. - a) / (1. - c_r * a))\n",
    "\n",
    "def counterflow_effectiveness_bivariate(ntu,c_r):\n",
    "    # As an alternative ...\n",
    "    # This works well for small NTU, and is exact for C_r = 0 or 1.\n",
    "    # However, for large NTU (>= 2), it misses increasingly.\n",
    "    e_c_r_0 = 1 - exp(-ntu)\n",
    "    e_c_r_1 = ntu / (1 + ntu)\n",
    "    alpha = c_r\n",
    "    beta = 1-alpha\n",
    "    return beta * e_c_r_0 + alpha * e_c_r_1"
   ]
  },
  {
   "cell_type": "markdown",
   "metadata": {
    "collapsed": true
   },
   "source": [
    "Now let's try some examples. Here are some good cases to test:\n",
    "\n",
    "1. One stream runs against a constant temperature source.\n",
    "2. Two streams start off at uniform (different) temperatures, then come into contact. The inlets are held at the original temperatures.\n",
    "3. Two streams start off at uniform (same) temperatures, then the inlet of one is raised to a different temperature.\n",
    "4. One hot stream runs with fixed inlet, while a cold stream recycles through a mixing tank."
   ]
  },
  {
   "cell_type": "markdown",
   "metadata": {},
   "source": [
    "### Implementation"
   ]
  },
  {
   "cell_type": "code",
   "execution_count": 3,
   "metadata": {},
   "outputs": [
    {
     "name": "stdout",
     "output_type": "stream",
     "text": [
      "2.1.0\n"
     ]
    },
    {
     "data": {
      "text/plain": [
       "{'html': matplotlib.animation.HTMLWriter}"
      ]
     },
     "execution_count": 3,
     "metadata": {},
     "output_type": "execute_result"
    }
   ],
   "source": [
    "import CoolProp.CoolProp as CP\n",
    "import numpy.linalg\n",
    "import matplotlib\n",
    "matplotlib.rc_params\n",
    "import matplotlib.pyplot as plt\n",
    "from matplotlib import animation\n",
    "from IPython.display import HTML, Latex\n",
    "print(matplotlib.__version__)\n",
    "animation.writers.avail"
   ]
  },
  {
   "cell_type": "code",
   "execution_count": 4,
   "metadata": {
    "collapsed": true
   },
   "outputs": [],
   "source": [
    "matplotlib.rc_params()\n",
    "?animation.FFMpegWriter"
   ]
  },
  {
   "cell_type": "code",
   "execution_count": 5,
   "metadata": {
    "collapsed": true
   },
   "outputs": [],
   "source": [
    "%matplotlib qt5"
   ]
  },
  {
   "cell_type": "code",
   "execution_count": 3,
   "metadata": {
    "collapsed": true
   },
   "outputs": [],
   "source": [
    "%matplotlib notebook"
   ]
  },
  {
   "cell_type": "code",
   "execution_count": 12,
   "metadata": {},
   "outputs": [
    {
     "name": "stdout",
     "output_type": "stream",
     "text": [
      "html\n",
      "['png', 'jpeg', 'tiff', 'svg']\n"
     ]
    }
   ],
   "source": [
    "for wr in writers.list():\n",
    "    print(wr)\n",
    "    print(writers[wr].supported_formats)"
   ]
  },
  {
   "cell_type": "markdown",
   "metadata": {},
   "source": [
    "### Example 1"
   ]
  },
  {
   "cell_type": "code",
   "execution_count": 6,
   "metadata": {},
   "outputs": [
    {
     "data": {
      "text/plain": [
       "1.0"
      ]
     },
     "execution_count": 6,
     "metadata": {},
     "output_type": "execute_result"
    }
   ],
   "source": [
    "ac, rho, ua = 1, 1, 10000\n",
    "dt, dx = 1, 1\n",
    "m_hot = 1e5\n",
    "m_cold = 1\n",
    "cfl_cold = m_cold / (ac * rho) * (dt / dx)\n",
    "cfl_cold"
   ]
  },
  {
   "cell_type": "code",
   "execution_count": 7,
   "metadata": {},
   "outputs": [
    {
     "data": {
      "text/plain": [
       "1000.0"
      ]
     },
     "execution_count": 7,
     "metadata": {},
     "output_type": "execute_result"
    }
   ],
   "source": [
    "p = 1e5\n",
    "temp_hot_inlet = 350\n",
    "temp_cold_inlet = 280\n",
    "h_hot_inlet = CP.PropsSI('H','T',temp_hot_inlet,'P',p,'water')\n",
    "h_cold_inlet = CP.PropsSI('H','T',temp_cold_inlet,'P',p,'water')\n",
    "J = 10\n",
    "ua_cell = ua / J\n",
    "ua_cell"
   ]
  },
  {
   "cell_type": "code",
   "execution_count": 10,
   "metadata": {
    "collapsed": true
   },
   "outputs": [],
   "source": [
    "# Stiffness matrices\n",
    "a_cold = numpy.zeros((J+1,J+1))\n",
    "# Assigning to diagonal doesn't work in numpy v1.9\n",
    "# a_cold.diagonal(0) = m_cold / dx\n",
    "# a_cold.diagonal(-1) = ac * rho / dt - m_cold / dx\n",
    "a_cold[0,0] = 1\n",
    "for j in range(J):\n",
    "    a_cold[j+1,j+1] += 1 + cfl_cold\n",
    "    a_cold[j+1,j] += -cfl_cold\n",
    "\n",
    "a_hot = numpy.eye(J+1,J+1)\n",
    "\n",
    "a_cold_inv = numpy.linalg.inv(a_cold)\n",
    "a_hot_inv = numpy.linalg.inv(a_hot)"
   ]
  },
  {
   "cell_type": "code",
   "execution_count": 11,
   "metadata": {
    "collapsed": true
   },
   "outputs": [],
   "source": [
    "h_hot = numpy.ones(J+1) * h_hot_inlet\n",
    "h_cold = numpy.ones(J+1) * h_cold_inlet\n",
    "temp_hot = CP.PropsSI('T','H', h_hot, 'P', p, 'water')\n",
    "temp_cold = CP.PropsSI('T','H', h_cold, 'P', p, 'water')"
   ]
  },
  {
   "cell_type": "code",
   "execution_count": 13,
   "metadata": {},
   "outputs": [],
   "source": [
    "fig=plt.figure()\n",
    "\n",
    "def init_func():\n",
    "    global fig, line_hot, line_cold    \n",
    "    plt.ylim(270,360)\n",
    "    line_hot = plt.plot(temp_hot,'r.-')[0]\n",
    "    line_cold = plt.plot(temp_cold,'b.-')[0]\n",
    "\n",
    "#for n in range(50):\n",
    "def update(n):\n",
    "    global h_hot, p, h_cold, temp_hot, temp_cold, ua_cell, ac, rho, dt, line_hot, line_cold\n",
    "    \n",
    "    if n < 1:\n",
    "        plt.title(\"n = 0\")\n",
    "    else:\n",
    "        # Compute the forcing terms\n",
    "\n",
    "        c_hot = CP.PropsSI('C','H', h_hot, 'P', p, 'water')\n",
    "        c_cold = CP.PropsSI('C','H', h_cold, 'P', p, 'water')\n",
    "        C_min_cells = m_cold * c_cold[:-1]\n",
    "        C_r_cells = (m_cold * c_cold[:-1]) / (m_hot * c_hot[1:])\n",
    "        Q_max = C_min_cells * (temp_hot[1:] - temp_cold[:-1])\n",
    "        NTU = ua_cell / C_min_cells\n",
    "        effect = counterflow_effectiveness(NTU, C_r_cells)\n",
    "        Q_cells = effect * Q_max\n",
    "        Q_prime_cells = Q_cells / dx\n",
    "\n",
    "        b_cold = numpy.zeros(J+1)\n",
    "        b_cold[0] = h_cold_inlet\n",
    "        b_cold[1:] = Q_prime_cells * dt / (ac * rho) + h_cold[1:]\n",
    "        #b_cold[1:] = Q_prime_cells / (ac * rho) + h_cold[:-1]\n",
    "\n",
    "        b_hot = h_hot\n",
    "        b_hot[-1] = h_hot_inlet\n",
    "\n",
    "        #h_hot = numpy.linalg.solve(a_hot, b_hot)\n",
    "        #h_cold = numpy.linalg.solve(a_cold, b_cold)\n",
    "        h_hot = a_hot_inv.dot(b_hot)\n",
    "        h_cold = a_cold_inv.dot(b_cold)\n",
    "        temp_hot = CP.PropsSI('T','H', h_hot, 'P', p, 'water')\n",
    "        temp_cold = CP.PropsSI('T','H', h_cold, 'P', p, 'water')\n",
    "\n",
    "        line_cold.set_ydata(temp_cold)\n",
    "        plt.title(\"n = {}, effectiveness = {:f}\"\n",
    "                  .format(n, (temp_cold[-1]-temp_cold[0])/(temp_hot_inlet-temp_cold[0])))\n",
    "        #fig.canvas.draw()\n",
    "        plt.draw()\n",
    "\n",
    "\n",
    "ani = animation.FuncAnimation(fig, update, range(0,21), init_func, repeat=False)\n",
    "plt.show()\n",
    "#Writer = animation.FFMpegFileWriter()\n",
    "#ani.save('fem_hx_example1.mp4',Writer)\n",
    "#ani.save('fem_hx_example1.gif')\n",
    "#ani_html5_video = ani.to_html5_video()\n",
    "ani_js = ani.to_jshtml()"
   ]
  },
  {
   "cell_type": "code",
   "execution_count": null,
   "metadata": {},
   "outputs": [],
   "source": [
    "HTML(ani_js)"
   ]
  },
  {
   "cell_type": "code",
   "execution_count": null,
   "metadata": {},
   "outputs": [],
   "source": [
    "#print('html: ',len(ani_html5_video))\n",
    "print('js: ',len(ani_js))\n",
    "import os\n",
    "print('mp4: ',os.path.getsize('fem_hx_example1.mp4'))\n",
    "print('gif: ',os.path.getsize('fem_hx_example1.gif'))"
   ]
  },
  {
   "cell_type": "code",
   "execution_count": 698,
   "metadata": {},
   "outputs": [
    {
     "data": {
      "text/plain": [
       "array(0.9082661070729722)"
      ]
     },
     "execution_count": 698,
     "metadata": {},
     "output_type": "execute_result"
    }
   ],
   "source": [
    "total_ntu = ua / c_cold.mean()\n",
    "total_effect = counterflow_effectiveness(total_ntu, 0)\n",
    "total_effect"
   ]
  },
  {
   "cell_type": "code",
   "execution_count": 699,
   "metadata": {},
   "outputs": [
    {
     "data": {
      "text/plain": [
       "0.90828848548653629"
      ]
     },
     "execution_count": 699,
     "metadata": {},
     "output_type": "execute_result"
    }
   ],
   "source": [
    "1-(1-effect).prod()"
   ]
  },
  {
   "cell_type": "code",
   "execution_count": 700,
   "metadata": {},
   "outputs": [
    {
     "data": {
      "text/plain": [
       "array([[ 1.,  0.,  0.,  0.,  0.,  0.,  0.,  0.,  0.,  0.,  0.],\n",
       "       [-1.,  2.,  0.,  0.,  0.,  0.,  0.,  0.,  0.,  0.,  0.],\n",
       "       [ 0., -1.,  2.,  0.,  0.,  0.,  0.,  0.,  0.,  0.,  0.],\n",
       "       [ 0.,  0., -1.,  2.,  0.,  0.,  0.,  0.,  0.,  0.,  0.],\n",
       "       [ 0.,  0.,  0., -1.,  2.,  0.,  0.,  0.,  0.,  0.,  0.],\n",
       "       [ 0.,  0.,  0.,  0., -1.,  2.,  0.,  0.,  0.,  0.,  0.],\n",
       "       [ 0.,  0.,  0.,  0.,  0., -1.,  2.,  0.,  0.,  0.,  0.],\n",
       "       [ 0.,  0.,  0.,  0.,  0.,  0., -1.,  2.,  0.,  0.,  0.],\n",
       "       [ 0.,  0.,  0.,  0.,  0.,  0.,  0., -1.,  2.,  0.,  0.],\n",
       "       [ 0.,  0.,  0.,  0.,  0.,  0.,  0.,  0., -1.,  2.,  0.],\n",
       "       [ 0.,  0.,  0.,  0.,  0.,  0.,  0.,  0.,  0., -1.,  2.]])"
      ]
     },
     "execution_count": 700,
     "metadata": {},
     "output_type": "execute_result"
    }
   ],
   "source": [
    "a_cold"
   ]
  },
  {
   "cell_type": "markdown",
   "metadata": {},
   "source": [
    "### Example 2"
   ]
  },
  {
   "cell_type": "code",
   "execution_count": 53,
   "metadata": {},
   "outputs": [
    {
     "data": {
      "text/plain": [
       "(0.5, 5.0)"
      ]
     },
     "execution_count": 53,
     "metadata": {},
     "output_type": "execute_result"
    }
   ],
   "source": [
    "ac, rho, ua = 1, 1, 10000\n",
    "dt, dx = 5, 10\n",
    "m_hot = 10\n",
    "m_cold = 1\n",
    "cfl_cold = m_cold / (ac * rho) * (dt / dx)\n",
    "cfl_hot = m_hot / (ac * rho) * (dt / dx)\n",
    "cfl_cold, cfl_hot"
   ]
  },
  {
   "cell_type": "code",
   "execution_count": 54,
   "metadata": {
    "collapsed": true
   },
   "outputs": [],
   "source": [
    "p = 1e5\n",
    "temp_hot_inlet = 350\n",
    "temp_cold_inlet = 280\n",
    "h_hot_inlet = CP.PropsSI('H','T',temp_hot_inlet,'P',p,'water')\n",
    "h_cold_inlet = CP.PropsSI('H','T',temp_cold_inlet,'P',p,'water')\n",
    "J = 5\n",
    "ua_cell = ua / J"
   ]
  },
  {
   "cell_type": "code",
   "execution_count": 55,
   "metadata": {
    "collapsed": true
   },
   "outputs": [],
   "source": [
    "# Stiffness matrices\n",
    "a_cold = numpy.zeros((J+1, J+1))\n",
    "# Assigning to diagonal doesn't work in numpy v1.9\n",
    "# a_cold.diagonal(0) = m_cold / dx\n",
    "# a_cold.diagonal(-1) = ac * rho / dt - m_cold / dx\n",
    "a_cold[0,0] = 1\n",
    "for j in range(J):\n",
    "    a_cold[j+1,j+1] += 1 + cfl_cold\n",
    "    a_cold[j+1,j] += -cfl_cold\n",
    "\n",
    "a_hot = numpy.zeros((J+1, J+1))\n",
    "a_hot[-1,-1] = 1\n",
    "for j in range(J):\n",
    "    a_hot[j,j] += 1 + cfl_hot\n",
    "    a_hot[j,j+1] += -cfl_hot\n",
    "\n",
    "a_cold_inv = numpy.linalg.inv(a_cold)\n",
    "a_hot_inv = numpy.linalg.inv(a_hot)\n",
    "# Do more time steps\n",
    "#a_cold_inv = numpy.linalg.matrix_power(a_cold_inv, 10)\n",
    "#a_hot_inv = numpy.linalg.matrix_power(a_hot_inv, 10)"
   ]
  },
  {
   "cell_type": "code",
   "execution_count": 62,
   "metadata": {
    "collapsed": true
   },
   "outputs": [],
   "source": [
    "n=0\n",
    "h_hot = numpy.ones(J+1) * h_hot_inlet\n",
    "h_cold = numpy.ones(J+1) * h_cold_inlet\n",
    "#h_hot = numpy.ones(J+1) * h_hot_inlet\n",
    "#h_cold = numpy.ones(J+1) * h_cold_inlet\n",
    "\n",
    "temp_hot = CP.PropsSI('T','H', h_hot, 'P', p, 'water')\n",
    "temp_cold = CP.PropsSI('T','H', h_cold, 'P', p, 'water')"
   ]
  },
  {
   "cell_type": "code",
   "execution_count": 63,
   "metadata": {
    "collapsed": true
   },
   "outputs": [],
   "source": [
    "fig=plt.figure()\n",
    "plt.ylim(270,360)\n",
    "line_hot = plt.plot(temp_hot,'r.-')[0]\n",
    "line_cold = plt.plot(temp_cold,'b.-')[0]\n",
    "\n",
    "b_cold = numpy.zeros(J+1)\n",
    "b_hot = numpy.zeros(J+1)\n",
    "\n",
    "for dn in range(50):\n",
    "    n += 1\n",
    "    # Compute the forcing terms\n",
    "    \n",
    "    c_hot = CP.PropsSI('C','H', h_hot, 'P', p, 'water')\n",
    "    c_cold = CP.PropsSI('C','H', h_cold, 'P', p, 'water')\n",
    "    C_cold_cells = m_cold * c_cold[:-1]\n",
    "    C_hot_cells = m_hot * c_hot[1:]\n",
    "    C_min_cells = C_cold_cells\n",
    "    C_r_cells = (m_cold * c_cold[:-1]) / (m_hot * c_hot[1:])\n",
    "    DeltaT_cells = (temp_hot[1:] - temp_cold[:-1])\n",
    "    Q_max = C_min_cells * DeltaT_cells\n",
    "    #NTU = ua_cell / C_min_cells * (1+ 1000*numpy.exp(-1.5*n))\n",
    "    NTU = ua_cell / C_min_cells\n",
    "    effect = counterflow_effectiveness(NTU, C_r_cells)\n",
    "    Q_cells = effect * Q_max\n",
    "    Q_prime_cells = Q_cells / dx\n",
    "    \n",
    "    b_cold[0] = h_cold_inlet\n",
    "    b_cold[1:] = Q_prime_cells * dt / (ac * rho) + h_cold[1:]\n",
    "    #b_cold[1:] = Q_prime_cells / (ac * rho) + h_cold[:-1]\n",
    "    \n",
    "    b_hot[-1] = h_hot_inlet\n",
    "    b_hot[:-1] = -Q_prime_cells * dt / (ac * rho) + h_hot[:-1]\n",
    "    #b_hot[:-1] = -Q_prime_cells / (ac * rho) + h_hot[1:]\n",
    "    \n",
    "    # Update\n",
    "    \n",
    "    #h_hot = numpy.linalg.solve(a_hot, b_hot)\n",
    "    #h_cold = numpy.linalg.solve(a_cold, b_cold)\n",
    "    h_hot = a_hot_inv.dot(b_hot)\n",
    "    h_cold = a_cold_inv.dot(b_cold)\n",
    "    temp_hot = CP.PropsSI('T','H', h_hot, 'P', p, 'water')\n",
    "    temp_cold = CP.PropsSI('T','H', h_cold, 'P', p, 'water')\n",
    "\n",
    "    #plt.plot(temp_cold,'.-')\n",
    "    line_hot.set_ydata(temp_hot)\n",
    "    line_cold.set_ydata(temp_cold)\n",
    "    plt.title(\"n = {}, effectiveness = {:f}\"\n",
    "              .format(n, (temp_cold[-1]-temp_cold[0])/(temp_hot_inlet-temp_cold[0])))\n",
    "    fig.canvas.draw()\n",
    "    fig.canvas.flush_events()\n",
    "plt.show()"
   ]
  },
  {
   "cell_type": "code",
   "execution_count": 712,
   "metadata": {},
   "outputs": [
    {
     "data": {
      "text/plain": [
       "array(0.8939690847694297)"
      ]
     },
     "execution_count": 712,
     "metadata": {},
     "output_type": "execute_result"
    }
   ],
   "source": [
    "total_ntu = ua / C_cold_cells.mean()\n",
    "total_cr = C_r_cells.mean()\n",
    "total_effect = counterflow_effectiveness(total_ntu, total_cr)\n",
    "total_effect"
   ]
  },
  {
   "cell_type": "code",
   "execution_count": 713,
   "metadata": {},
   "outputs": [
    {
     "name": "stdout",
     "output_type": "stream",
     "text": [
      "-  --------  -------  --------  --------\n",
      "0  24.2209   65.779   0.368217  0.372772\n",
      "1  15.123    43.2384  0.349758  0.374267\n",
      "2   9.07238  29.3053  0.309582  0.374217\n",
      "3   5.25488  21.1316  0.248674  0.374034\n",
      "4   3.02213  16.5935  0.182128  0.373888\n",
      "-  --------  -------  --------  --------\n"
     ]
    }
   ],
   "source": [
    "DeltaT_cold = numpy.diff(temp_cold)\n",
    "print(tabulate.tabulate(zip(\n",
    "    range(J),DeltaT_cold,DeltaT_cells,DeltaT_cold/DeltaT_cells,effect)))\n",
    "#DeltaT_cells"
   ]
  },
  {
   "cell_type": "code",
   "execution_count": 255,
   "metadata": {},
   "outputs": [
    {
     "name": "stdout",
     "output_type": "stream",
     "text": [
      "-  -------  ------  -------  -------\n",
      "0  64.4705  270837  61687    30227.2\n",
      "1  57.9125  242626  53023.5  27148.2\n",
      "2  52.0097  217592  45573.7  24379.1\n",
      "3  46.7032  195257  39170.1  21890.9\n",
      "4  41.936   175274  33666.9  19656.1\n",
      "5  37.6551  157370  28937.9  17649.5\n",
      "6  33.8116  141314  24874.1  15848\n",
      "7  30.3612  126910  21381.9  14230.9\n",
      "8  27.2641  113984  18380.7  12779.3\n",
      "9  24.4841  102382  15801.4  11476.4\n",
      "-  -------  ------  -------  -------\n"
     ]
    }
   ],
   "source": [
    "import tabulate\n",
    "print(tabulate.tabulate(zip(range(J),DeltaT_cells,Q_max, Q_load_cells, Q_prime_cells)))"
   ]
  },
  {
   "cell_type": "code",
   "execution_count": 457,
   "metadata": {},
   "outputs": [
    {
     "data": {
      "text/plain": [
       "1.0"
      ]
     },
     "execution_count": 457,
     "metadata": {},
     "output_type": "execute_result"
    }
   ],
   "source": [
    "numpy.linalg.eigvals(a_hot_inv).max()"
   ]
  },
  {
   "cell_type": "markdown",
   "metadata": {},
   "source": [
    "### Example 3"
   ]
  },
  {
   "cell_type": "code",
   "execution_count": 64,
   "metadata": {},
   "outputs": [
    {
     "data": {
      "text/plain": [
       "(0.01, 0.1)"
      ]
     },
     "execution_count": 64,
     "metadata": {},
     "output_type": "execute_result"
    }
   ],
   "source": [
    "ac, rho, ua = 1, 1, 10000\n",
    "dt, dx = 0.01, 1\n",
    "m_hot = 10\n",
    "m_cold = 1\n",
    "cfl_cold = m_cold / (ac * rho) * (dt / dx)\n",
    "cfl_hot = m_hot / (ac * rho) * (dt / dx)\n",
    "cfl_cold, cfl_hot"
   ]
  },
  {
   "cell_type": "code",
   "execution_count": 65,
   "metadata": {
    "collapsed": true
   },
   "outputs": [],
   "source": [
    "p = 1e5\n",
    "temp_hot_inlet1 = 280\n",
    "temp_hot_inlet2 = 350\n",
    "temp_cold_inlet = 280\n",
    "h_hot_inlet1 = CP.PropsSI('H','T',temp_hot_inlet1,'P',p,'water')\n",
    "h_hot_inlet2 = CP.PropsSI('H','T',temp_hot_inlet2,'P',p,'water')\n",
    "h_cold_inlet = CP.PropsSI('H','T',temp_cold_inlet,'P',p,'water')\n",
    "J = 20\n",
    "ua_cell = ua / J"
   ]
  },
  {
   "cell_type": "code",
   "execution_count": 66,
   "metadata": {
    "collapsed": true
   },
   "outputs": [],
   "source": [
    "# Stiffness matrices\n",
    "a_cold = numpy.zeros((J+1, J+1))\n",
    "# Assigning to diagonal doesn't work in numpy v1.9\n",
    "# a_cold.diagonal(0) = m_cold / dx\n",
    "# a_cold.diagonal(-1) = ac * rho / dt - m_cold / dx\n",
    "a_cold[0,0] = 1\n",
    "for j in range(J):\n",
    "    a_cold[j+1,j+1] += 1 + cfl_cold\n",
    "    a_cold[j+1,j] += -cfl_cold\n",
    "\n",
    "a_hot = numpy.zeros((J+1, J+1))\n",
    "a_hot[-1,-1] = 1\n",
    "for j in range(J):\n",
    "    a_hot[j,j] += 1 + cfl_hot\n",
    "    a_hot[j,j+1] += -cfl_hot\n",
    "\n",
    "a_cold_inv = numpy.linalg.inv(a_cold)\n",
    "a_hot_inv = numpy.linalg.inv(a_hot)\n",
    "\n",
    "# Do more time steps\n",
    "a_cold = numpy.zeros((J+1, J+1))\n",
    "a_cold[0,0] = 1\n",
    "for j in range(J):\n",
    "    a_cold[j+1,j+1] += 1 + cfl_cold * 10\n",
    "    a_cold[j+1,j] += -cfl_cold * 10\n",
    "\n",
    "a_hot = numpy.zeros((J+1, J+1))\n",
    "a_hot[-1,-1] = 1\n",
    "for j in range(J):\n",
    "    a_hot[j,j] += 1 + cfl_hot * 10\n",
    "    a_hot[j,j+1] += -cfl_hot * 10\n",
    "\n",
    "a_cold_inv_fast = numpy.linalg.inv(a_cold)\n",
    "a_hot_inv_fast = numpy.linalg.inv(a_hot)"
   ]
  },
  {
   "cell_type": "code",
   "execution_count": 71,
   "metadata": {
    "collapsed": true
   },
   "outputs": [],
   "source": [
    "n=0\n",
    "h_hot = numpy.ones(J+1) * h_hot_inlet1\n",
    "h_cold = numpy.ones(J+1) * h_cold_inlet\n",
    "#h_hot = numpy.ones(J+1) * h_hot_inlet\n",
    "#h_cold = numpy.ones(J+1) * h_cold_inlet\n",
    "\n",
    "temp_hot = CP.PropsSI('T','H', h_hot, 'P', p, 'water')\n",
    "temp_cold = CP.PropsSI('T','H', h_cold, 'P', p, 'water')"
   ]
  },
  {
   "cell_type": "code",
   "execution_count": 73,
   "metadata": {
    "collapsed": true
   },
   "outputs": [],
   "source": [
    "fig=plt.figure()\n",
    "plt.ylim(270,360)\n",
    "line_hot = plt.plot(temp_hot,'r.-')[0]\n",
    "line_cold = plt.plot(temp_cold,'b.-')[0]\n",
    "\n",
    "b_cold = numpy.zeros(J+1)\n",
    "b_hot = numpy.zeros(J+1)\n",
    "\n",
    "for dn in range(50):\n",
    "    n += 1\n",
    "    speed_up = n > 20\n",
    "    h_hot_inlet = h_hot_inlet2 if (n >10) else h_hot_inlet1\n",
    "    # Compute the forcing terms\n",
    "    \n",
    "    c_hot = CP.PropsSI('C','H', h_hot, 'P', p, 'water')\n",
    "    c_cold = CP.PropsSI('C','H', h_cold, 'P', p, 'water')\n",
    "    C_cold_cells = m_cold * c_cold[:-1]\n",
    "    C_hot_cells = m_hot * c_hot[1:]\n",
    "    C_min_cells = C_cold_cells\n",
    "    C_r_cells = (m_cold * c_cold[:-1]) / (m_hot * c_hot[1:])\n",
    "    DeltaT_cells = (temp_hot[1:] - temp_cold[:-1])\n",
    "    Q_max = C_min_cells * DeltaT_cells\n",
    "    #NTU = ua_cell / C_min_cells * (1+ 1000*numpy.exp(-1.5*n))\n",
    "    NTU = ua_cell / C_min_cells\n",
    "    effect = counterflow_effectiveness(NTU, C_r_cells)\n",
    "    Q_cells = effect * Q_max * (10 if speed_up else 1)\n",
    "    Q_prime_cells = Q_cells / dx\n",
    "    \n",
    "    b_cold[0] = h_cold_inlet\n",
    "    b_cold[1:] = Q_prime_cells * dt / (ac * rho) + h_cold[1:]\n",
    "    #b_cold[1:] = Q_prime_cells / (ac * rho) + h_cold[:-1]\n",
    "    \n",
    "    b_hot[-1] = h_hot_inlet\n",
    "    b_hot[:-1] = -Q_prime_cells * dt / (ac * rho) + h_hot[:-1]\n",
    "    #b_hot[:-1] = -Q_prime_cells / (ac * rho) + h_hot[1:]\n",
    "    \n",
    "    # Update\n",
    "    \n",
    "    h_hot = a_hot_inv.dot(b_hot)\n",
    "    h_cold = a_cold_inv.dot(b_cold)\n",
    "    # Use this to speed things up\n",
    "    if speed_up:\n",
    "        h_hot = a_hot_inv_fast.dot(b_hot)\n",
    "        h_cold = a_cold_inv_fast.dot(b_cold)\n",
    "        \n",
    "    temp_hot = CP.PropsSI('T','H', h_hot, 'P', p, 'water')\n",
    "    temp_cold = CP.PropsSI('T','H', h_cold, 'P', p, 'water')\n",
    "\n",
    "    #plt.plot(temp_cold,'.-')\n",
    "    line_hot.set_ydata(temp_hot)\n",
    "    line_cold.set_ydata(temp_cold)\n",
    "    plt.title(\"n = {}, effectiveness = {:f}\"\n",
    "              .format(n, (temp_cold[-1]-temp_cold[0])/(temp_hot_inlet-temp_cold[0])))\n",
    "    fig.canvas.draw()\n",
    "    fig.canvas.flush_events()\n",
    "plt.show()"
   ]
  },
  {
   "cell_type": "markdown",
   "metadata": {},
   "source": [
    "Observe that the solution exhibits numerical diffusion; however, with stationary boundary conditions, it still converges to the same steady-state."
   ]
  },
  {
   "cell_type": "code",
   "execution_count": null,
   "metadata": {
    "collapsed": true
   },
   "outputs": [],
   "source": []
  },
  {
   "cell_type": "markdown",
   "metadata": {},
   "source": [
    "### Example 4"
   ]
  },
  {
   "cell_type": "code",
   "execution_count": 74,
   "metadata": {},
   "outputs": [
    {
     "data": {
      "text/plain": [
       "(1.0, 1.0)"
      ]
     },
     "execution_count": 74,
     "metadata": {},
     "output_type": "execute_result"
    }
   ],
   "source": [
    "rho, ua = 1, 10000\n",
    "dt, dx = 1, 1\n",
    "ac_hot, m_hot = 10, 10\n",
    "ac_cold, m_cold = 1, 1\n",
    "cfl_cold = m_cold / (ac_cold * rho) * (dt / dx)\n",
    "cfl_hot = m_hot / (ac_hot * rho) * (dt / dx)\n",
    "cfl_cold, cfl_hot"
   ]
  },
  {
   "cell_type": "code",
   "execution_count": 75,
   "metadata": {
    "collapsed": true
   },
   "outputs": [],
   "source": [
    "p = 10e5\n",
    "temp_hot_inlet1 = 350\n",
    "temp_hot_inlet2 = 450\n",
    "temp_cold_inlet = 280\n",
    "h_hot_inlet1 = CP.PropsSI('H','T',temp_hot_inlet1,'P',p,'water')\n",
    "h_hot_inlet2 = CP.PropsSI('H','T',temp_hot_inlet2,'P',p,'water')\n",
    "h_cold_inlet = CP.PropsSI('H','T',temp_cold_inlet,'P',p,'water')\n",
    "J = 20\n",
    "ua_cell = ua / J"
   ]
  },
  {
   "cell_type": "code",
   "execution_count": 76,
   "metadata": {
    "collapsed": true
   },
   "outputs": [],
   "source": [
    "# Stiffness matrices\n",
    "a_cold = numpy.zeros((J+1, J+1))\n",
    "# Assigning to diagonal doesn't work in numpy v1.9\n",
    "# a_cold.diagonal(0) = m_cold / dx\n",
    "# a_cold.diagonal(-1) = ac * rho / dt - m_cold / dx\n",
    "a_cold[0,0] = 1\n",
    "for j in range(J):\n",
    "    a_cold[j+1,j+1] += 1 + cfl_cold\n",
    "    a_cold[j+1,j] += -cfl_cold\n",
    "\n",
    "a_hot = numpy.zeros((J+1, J+1))\n",
    "a_hot[-1,-1] = 1\n",
    "for j in range(J):\n",
    "    a_hot[j,j] += 1 + cfl_hot\n",
    "    a_hot[j,j+1] += -cfl_hot\n",
    "\n",
    "a_cold_inv = numpy.linalg.inv(a_cold)\n",
    "a_hot_inv = numpy.linalg.inv(a_hot)\n"
   ]
  },
  {
   "cell_type": "code",
   "execution_count": 77,
   "metadata": {
    "collapsed": true
   },
   "outputs": [],
   "source": [
    "n=0\n",
    "h_hot = numpy.ones(J+1) * h_hot_inlet1\n",
    "h_cold = numpy.ones(J+1) * h_cold_inlet\n",
    "#h_hot = numpy.ones(J+1) * h_hot_inlet\n",
    "#h_cold = numpy.ones(J+1) * h_cold_inlet\n",
    "\n",
    "temp_hot = CP.PropsSI('T','H', h_hot, 'P', p, 'water')\n",
    "temp_cold = CP.PropsSI('T','H', h_cold, 'P', p, 'water')\n",
    "m_tank = 50\n",
    "H_tank = m_tank * h_cold_inlet\n",
    "load_on = False\n",
    "live_plotting = False"
   ]
  },
  {
   "cell_type": "code",
   "execution_count": 78,
   "metadata": {
    "collapsed": true
   },
   "outputs": [],
   "source": [
    "%matplotlib qt5\n",
    "live_plotting = True"
   ]
  },
  {
   "cell_type": "code",
   "execution_count": 79,
   "metadata": {
    "collapsed": true
   },
   "outputs": [],
   "source": [
    "steps = 1000\n",
    "\n",
    "fig=plt.figure()\n",
    "ax1 = fig.add_subplot(211)\n",
    "plt.ylim(270,450)\n",
    "line_hot = plt.plot(temp_hot,'r.-')[0]\n",
    "line_cold = plt.plot(temp_cold,'b.-')[0]\n",
    "ax2 = fig.add_subplot(212)\n",
    "plt.ylim(270,370)\n",
    "plt.xlim(n,n+steps)\n",
    "T_tank_history = numpy.empty(steps)\n",
    "T_tank_history.fill(numpy.nan)\n",
    "line_tank = plt.plot(range(n,n+steps),T_tank_history,'b.-')[0]\n",
    "plt.show()\n",
    "fig.canvas.draw()\n",
    "flushing = True\n",
    "try:\n",
    "    fig.canvas.flush_events()\n",
    "except:\n",
    "    flushing = False\n",
    "\n",
    "\n",
    "b_cold = numpy.zeros(J+1)\n",
    "b_hot = numpy.zeros(J+1)\n",
    "\n",
    "try:\n",
    "    for dn in range(steps):\n",
    "        n += 1\n",
    "        h_hot_inlet = h_hot_inlet2 if ((n-1) // 20) % 2 else h_hot_inlet1\n",
    "        # Compute the forcing terms\n",
    "\n",
    "        c_hot = CP.PropsSI('C','H', h_hot, 'P', p, 'water')\n",
    "        c_cold = CP.PropsSI('C','H', h_cold, 'P', p, 'water')\n",
    "        C_cold_cells = m_cold * c_cold[:-1]\n",
    "        C_hot_cells = m_hot * c_hot[1:]\n",
    "        C_min_cells = C_cold_cells\n",
    "        C_r_cells = (m_cold * c_cold[:-1]) / (m_hot * c_hot[1:])\n",
    "        DeltaT_cells = (temp_hot[1:] - temp_cold[:-1])\n",
    "        Q_max = C_min_cells * DeltaT_cells\n",
    "        #NTU = ua_cell / C_min_cells * (1+ 1000*numpy.exp(-1.5*n))\n",
    "        NTU = ua_cell / C_min_cells\n",
    "        effect = counterflow_effectiveness(NTU, C_r_cells)\n",
    "        Q_cells = effect * Q_max\n",
    "        Q_prime_cells = Q_cells / dx\n",
    "\n",
    "        # Tank dynamics\n",
    "        H_tank += dt * m_cold * (h_cold[-1] - h_cold[0])\n",
    "        if load_on:\n",
    "            H_tank -= 500e3 * dt\n",
    "        h_tank = H_tank / m_tank\n",
    "        T_tank = CP.PropsSI('T','H',h_tank,'P',p,'water')\n",
    "        T_tank_history[dn] = T_tank\n",
    "        if load_on:\n",
    "            if T_tank < 320:\n",
    "                load_on = False\n",
    "        else:\n",
    "            if T_tank > 350:\n",
    "                load_on = True\n",
    "        b_cold[0] = h_tank\n",
    "        b_cold[1:] = Q_prime_cells * dt / (ac_cold * rho) + h_cold[1:]\n",
    "        #b_cold[1:] = Q_prime_cells / (ac * rho) + h_cold[:-1]\n",
    "\n",
    "        b_hot[-1] = h_hot_inlet\n",
    "        b_hot[:-1] = -Q_prime_cells * dt / (ac_hot * rho) + h_hot[:-1]\n",
    "        #b_hot[:-1] = -Q_prime_cells / (ac * rho) + h_hot[1:]\n",
    "\n",
    "        # Update\n",
    "\n",
    "        h_hot = a_hot_inv.dot(b_hot)\n",
    "        h_cold = a_cold_inv.dot(b_cold)\n",
    "\n",
    "        temp_hot = CP.PropsSI('T','H', h_hot, 'P', p, 'water')\n",
    "        temp_cold = CP.PropsSI('T','H', h_cold, 'P', p, 'water')\n",
    "\n",
    "        if live_plotting or divmod(dn,100)[1] == 0:\n",
    "            line_hot.set_ydata(temp_hot)\n",
    "            line_cold.set_ydata(temp_cold)\n",
    "            ax1.set_title(\"n = {}, eff = {:0.3f}, T_tank = {:0.1f}, Load = {}\"\n",
    "                      .format(n,\n",
    "                              (temp_cold[-1]-temp_cold[0])/(temp_hot[-1]-temp_cold[0]),\n",
    "                              T_tank,\n",
    "                              \"on\" if load_on else \"off\"))\n",
    "            line_tank.set_ydata(T_tank_history)\n",
    "            fig.canvas.draw()\n",
    "            if flushing:\n",
    "                fig.canvas.flush_events()\n",
    "            \n",
    "except KeyboardInterrupt:\n",
    "    pass\n",
    "\n",
    "line_hot.set_ydata(temp_hot)\n",
    "line_cold.set_ydata(temp_cold)\n",
    "ax1.set_title(\"n = {}, eff = {:0.3f}, T_tank = {:0.1f}, Load = {}\"\n",
    "          .format(n,\n",
    "                  (temp_cold[-1]-temp_cold[0])/(temp_hot[-1]-temp_cold[0]),\n",
    "                  T_tank,\n",
    "                  \"on\" if load_on else \"off\"))\n",
    "line_tank.set_ydata(T_tank_history)\n",
    "plt.show()"
   ]
  },
  {
   "cell_type": "markdown",
   "metadata": {},
   "source": [
    "Interesting! There is a load that draws a fixed amount of heat from the tank, and is cycling on and off based on temperature in the tank. The time it takes to recharge and discharge the tank does not match the frequency of the intermittent heat source, so we get charge/discharge periods of different lengths:"
   ]
  },
  {
   "cell_type": "code",
   "execution_count": 124,
   "metadata": {
    "collapsed": true
   },
   "outputs": [],
   "source": [
    "#charging = numpy.where(numpy.diff(T_tank_history) > 0, 1, 0)\n",
    "charging = numpy.diff(T_tank_history) > 0\n",
    "switch_times = numpy.concatenate(([0], numpy.diff(charging).nonzero()[0]))\n",
    "periods = numpy.diff(switch_times)\n",
    "charge_periods = periods[::2]\n",
    "drain_periods = periods[1::2]"
   ]
  },
  {
   "cell_type": "code",
   "execution_count": 125,
   "metadata": {},
   "outputs": [
    {
     "data": {
      "application/javascript": [
       "/* Put everything inside the global mpl namespace */\n",
       "window.mpl = {};\n",
       "\n",
       "\n",
       "mpl.get_websocket_type = function() {\n",
       "    if (typeof(WebSocket) !== 'undefined') {\n",
       "        return WebSocket;\n",
       "    } else if (typeof(MozWebSocket) !== 'undefined') {\n",
       "        return MozWebSocket;\n",
       "    } else {\n",
       "        alert('Your browser does not have WebSocket support.' +\n",
       "              'Please try Chrome, Safari or Firefox ≥ 6. ' +\n",
       "              'Firefox 4 and 5 are also supported but you ' +\n",
       "              'have to enable WebSockets in about:config.');\n",
       "    };\n",
       "}\n",
       "\n",
       "mpl.figure = function(figure_id, websocket, ondownload, parent_element) {\n",
       "    this.id = figure_id;\n",
       "\n",
       "    this.ws = websocket;\n",
       "\n",
       "    this.supports_binary = (this.ws.binaryType != undefined);\n",
       "\n",
       "    if (!this.supports_binary) {\n",
       "        var warnings = document.getElementById(\"mpl-warnings\");\n",
       "        if (warnings) {\n",
       "            warnings.style.display = 'block';\n",
       "            warnings.textContent = (\n",
       "                \"This browser does not support binary websocket messages. \" +\n",
       "                    \"Performance may be slow.\");\n",
       "        }\n",
       "    }\n",
       "\n",
       "    this.imageObj = new Image();\n",
       "\n",
       "    this.context = undefined;\n",
       "    this.message = undefined;\n",
       "    this.canvas = undefined;\n",
       "    this.rubberband_canvas = undefined;\n",
       "    this.rubberband_context = undefined;\n",
       "    this.format_dropdown = undefined;\n",
       "\n",
       "    this.image_mode = 'full';\n",
       "\n",
       "    this.root = $('<div/>');\n",
       "    this._root_extra_style(this.root)\n",
       "    this.root.attr('style', 'display: inline-block');\n",
       "\n",
       "    $(parent_element).append(this.root);\n",
       "\n",
       "    this._init_header(this);\n",
       "    this._init_canvas(this);\n",
       "    this._init_toolbar(this);\n",
       "\n",
       "    var fig = this;\n",
       "\n",
       "    this.waiting = false;\n",
       "\n",
       "    this.ws.onopen =  function () {\n",
       "            fig.send_message(\"supports_binary\", {value: fig.supports_binary});\n",
       "            fig.send_message(\"send_image_mode\", {});\n",
       "            if (mpl.ratio != 1) {\n",
       "                fig.send_message(\"set_dpi_ratio\", {'dpi_ratio': mpl.ratio});\n",
       "            }\n",
       "            fig.send_message(\"refresh\", {});\n",
       "        }\n",
       "\n",
       "    this.imageObj.onload = function() {\n",
       "            if (fig.image_mode == 'full') {\n",
       "                // Full images could contain transparency (where diff images\n",
       "                // almost always do), so we need to clear the canvas so that\n",
       "                // there is no ghosting.\n",
       "                fig.context.clearRect(0, 0, fig.canvas.width, fig.canvas.height);\n",
       "            }\n",
       "            fig.context.drawImage(fig.imageObj, 0, 0);\n",
       "        };\n",
       "\n",
       "    this.imageObj.onunload = function() {\n",
       "        this.ws.close();\n",
       "    }\n",
       "\n",
       "    this.ws.onmessage = this._make_on_message_function(this);\n",
       "\n",
       "    this.ondownload = ondownload;\n",
       "}\n",
       "\n",
       "mpl.figure.prototype._init_header = function() {\n",
       "    var titlebar = $(\n",
       "        '<div class=\"ui-dialog-titlebar ui-widget-header ui-corner-all ' +\n",
       "        'ui-helper-clearfix\"/>');\n",
       "    var titletext = $(\n",
       "        '<div class=\"ui-dialog-title\" style=\"width: 100%; ' +\n",
       "        'text-align: center; padding: 3px;\"/>');\n",
       "    titlebar.append(titletext)\n",
       "    this.root.append(titlebar);\n",
       "    this.header = titletext[0];\n",
       "}\n",
       "\n",
       "\n",
       "\n",
       "mpl.figure.prototype._canvas_extra_style = function(canvas_div) {\n",
       "\n",
       "}\n",
       "\n",
       "\n",
       "mpl.figure.prototype._root_extra_style = function(canvas_div) {\n",
       "\n",
       "}\n",
       "\n",
       "mpl.figure.prototype._init_canvas = function() {\n",
       "    var fig = this;\n",
       "\n",
       "    var canvas_div = $('<div/>');\n",
       "\n",
       "    canvas_div.attr('style', 'position: relative; clear: both; outline: 0');\n",
       "\n",
       "    function canvas_keyboard_event(event) {\n",
       "        return fig.key_event(event, event['data']);\n",
       "    }\n",
       "\n",
       "    canvas_div.keydown('key_press', canvas_keyboard_event);\n",
       "    canvas_div.keyup('key_release', canvas_keyboard_event);\n",
       "    this.canvas_div = canvas_div\n",
       "    this._canvas_extra_style(canvas_div)\n",
       "    this.root.append(canvas_div);\n",
       "\n",
       "    var canvas = $('<canvas/>');\n",
       "    canvas.addClass('mpl-canvas');\n",
       "    canvas.attr('style', \"left: 0; top: 0; z-index: 0; outline: 0\")\n",
       "\n",
       "    this.canvas = canvas[0];\n",
       "    this.context = canvas[0].getContext(\"2d\");\n",
       "\n",
       "    var backingStore = this.context.backingStorePixelRatio ||\n",
       "\tthis.context.webkitBackingStorePixelRatio ||\n",
       "\tthis.context.mozBackingStorePixelRatio ||\n",
       "\tthis.context.msBackingStorePixelRatio ||\n",
       "\tthis.context.oBackingStorePixelRatio ||\n",
       "\tthis.context.backingStorePixelRatio || 1;\n",
       "\n",
       "    mpl.ratio = (window.devicePixelRatio || 1) / backingStore;\n",
       "\n",
       "    var rubberband = $('<canvas/>');\n",
       "    rubberband.attr('style', \"position: absolute; left: 0; top: 0; z-index: 1;\")\n",
       "\n",
       "    var pass_mouse_events = true;\n",
       "\n",
       "    canvas_div.resizable({\n",
       "        start: function(event, ui) {\n",
       "            pass_mouse_events = false;\n",
       "        },\n",
       "        resize: function(event, ui) {\n",
       "            fig.request_resize(ui.size.width, ui.size.height);\n",
       "        },\n",
       "        stop: function(event, ui) {\n",
       "            pass_mouse_events = true;\n",
       "            fig.request_resize(ui.size.width, ui.size.height);\n",
       "        },\n",
       "    });\n",
       "\n",
       "    function mouse_event_fn(event) {\n",
       "        if (pass_mouse_events)\n",
       "            return fig.mouse_event(event, event['data']);\n",
       "    }\n",
       "\n",
       "    rubberband.mousedown('button_press', mouse_event_fn);\n",
       "    rubberband.mouseup('button_release', mouse_event_fn);\n",
       "    // Throttle sequential mouse events to 1 every 20ms.\n",
       "    rubberband.mousemove('motion_notify', mouse_event_fn);\n",
       "\n",
       "    rubberband.mouseenter('figure_enter', mouse_event_fn);\n",
       "    rubberband.mouseleave('figure_leave', mouse_event_fn);\n",
       "\n",
       "    canvas_div.on(\"wheel\", function (event) {\n",
       "        event = event.originalEvent;\n",
       "        event['data'] = 'scroll'\n",
       "        if (event.deltaY < 0) {\n",
       "            event.step = 1;\n",
       "        } else {\n",
       "            event.step = -1;\n",
       "        }\n",
       "        mouse_event_fn(event);\n",
       "    });\n",
       "\n",
       "    canvas_div.append(canvas);\n",
       "    canvas_div.append(rubberband);\n",
       "\n",
       "    this.rubberband = rubberband;\n",
       "    this.rubberband_canvas = rubberband[0];\n",
       "    this.rubberband_context = rubberband[0].getContext(\"2d\");\n",
       "    this.rubberband_context.strokeStyle = \"#000000\";\n",
       "\n",
       "    this._resize_canvas = function(width, height) {\n",
       "        // Keep the size of the canvas, canvas container, and rubber band\n",
       "        // canvas in synch.\n",
       "        canvas_div.css('width', width)\n",
       "        canvas_div.css('height', height)\n",
       "\n",
       "        canvas.attr('width', width * mpl.ratio);\n",
       "        canvas.attr('height', height * mpl.ratio);\n",
       "        canvas.attr('style', 'width: ' + width + 'px; height: ' + height + 'px;');\n",
       "\n",
       "        rubberband.attr('width', width);\n",
       "        rubberband.attr('height', height);\n",
       "    }\n",
       "\n",
       "    // Set the figure to an initial 600x600px, this will subsequently be updated\n",
       "    // upon first draw.\n",
       "    this._resize_canvas(600, 600);\n",
       "\n",
       "    // Disable right mouse context menu.\n",
       "    $(this.rubberband_canvas).bind(\"contextmenu\",function(e){\n",
       "        return false;\n",
       "    });\n",
       "\n",
       "    function set_focus () {\n",
       "        canvas.focus();\n",
       "        canvas_div.focus();\n",
       "    }\n",
       "\n",
       "    window.setTimeout(set_focus, 100);\n",
       "}\n",
       "\n",
       "mpl.figure.prototype._init_toolbar = function() {\n",
       "    var fig = this;\n",
       "\n",
       "    var nav_element = $('<div/>')\n",
       "    nav_element.attr('style', 'width: 100%');\n",
       "    this.root.append(nav_element);\n",
       "\n",
       "    // Define a callback function for later on.\n",
       "    function toolbar_event(event) {\n",
       "        return fig.toolbar_button_onclick(event['data']);\n",
       "    }\n",
       "    function toolbar_mouse_event(event) {\n",
       "        return fig.toolbar_button_onmouseover(event['data']);\n",
       "    }\n",
       "\n",
       "    for(var toolbar_ind in mpl.toolbar_items) {\n",
       "        var name = mpl.toolbar_items[toolbar_ind][0];\n",
       "        var tooltip = mpl.toolbar_items[toolbar_ind][1];\n",
       "        var image = mpl.toolbar_items[toolbar_ind][2];\n",
       "        var method_name = mpl.toolbar_items[toolbar_ind][3];\n",
       "\n",
       "        if (!name) {\n",
       "            // put a spacer in here.\n",
       "            continue;\n",
       "        }\n",
       "        var button = $('<button/>');\n",
       "        button.addClass('ui-button ui-widget ui-state-default ui-corner-all ' +\n",
       "                        'ui-button-icon-only');\n",
       "        button.attr('role', 'button');\n",
       "        button.attr('aria-disabled', 'false');\n",
       "        button.click(method_name, toolbar_event);\n",
       "        button.mouseover(tooltip, toolbar_mouse_event);\n",
       "\n",
       "        var icon_img = $('<span/>');\n",
       "        icon_img.addClass('ui-button-icon-primary ui-icon');\n",
       "        icon_img.addClass(image);\n",
       "        icon_img.addClass('ui-corner-all');\n",
       "\n",
       "        var tooltip_span = $('<span/>');\n",
       "        tooltip_span.addClass('ui-button-text');\n",
       "        tooltip_span.html(tooltip);\n",
       "\n",
       "        button.append(icon_img);\n",
       "        button.append(tooltip_span);\n",
       "\n",
       "        nav_element.append(button);\n",
       "    }\n",
       "\n",
       "    var fmt_picker_span = $('<span/>');\n",
       "\n",
       "    var fmt_picker = $('<select/>');\n",
       "    fmt_picker.addClass('mpl-toolbar-option ui-widget ui-widget-content');\n",
       "    fmt_picker_span.append(fmt_picker);\n",
       "    nav_element.append(fmt_picker_span);\n",
       "    this.format_dropdown = fmt_picker[0];\n",
       "\n",
       "    for (var ind in mpl.extensions) {\n",
       "        var fmt = mpl.extensions[ind];\n",
       "        var option = $(\n",
       "            '<option/>', {selected: fmt === mpl.default_extension}).html(fmt);\n",
       "        fmt_picker.append(option)\n",
       "    }\n",
       "\n",
       "    // Add hover states to the ui-buttons\n",
       "    $( \".ui-button\" ).hover(\n",
       "        function() { $(this).addClass(\"ui-state-hover\");},\n",
       "        function() { $(this).removeClass(\"ui-state-hover\");}\n",
       "    );\n",
       "\n",
       "    var status_bar = $('<span class=\"mpl-message\"/>');\n",
       "    nav_element.append(status_bar);\n",
       "    this.message = status_bar[0];\n",
       "}\n",
       "\n",
       "mpl.figure.prototype.request_resize = function(x_pixels, y_pixels) {\n",
       "    // Request matplotlib to resize the figure. Matplotlib will then trigger a resize in the client,\n",
       "    // which will in turn request a refresh of the image.\n",
       "    this.send_message('resize', {'width': x_pixels, 'height': y_pixels});\n",
       "}\n",
       "\n",
       "mpl.figure.prototype.send_message = function(type, properties) {\n",
       "    properties['type'] = type;\n",
       "    properties['figure_id'] = this.id;\n",
       "    this.ws.send(JSON.stringify(properties));\n",
       "}\n",
       "\n",
       "mpl.figure.prototype.send_draw_message = function() {\n",
       "    if (!this.waiting) {\n",
       "        this.waiting = true;\n",
       "        this.ws.send(JSON.stringify({type: \"draw\", figure_id: this.id}));\n",
       "    }\n",
       "}\n",
       "\n",
       "\n",
       "mpl.figure.prototype.handle_save = function(fig, msg) {\n",
       "    var format_dropdown = fig.format_dropdown;\n",
       "    var format = format_dropdown.options[format_dropdown.selectedIndex].value;\n",
       "    fig.ondownload(fig, format);\n",
       "}\n",
       "\n",
       "\n",
       "mpl.figure.prototype.handle_resize = function(fig, msg) {\n",
       "    var size = msg['size'];\n",
       "    if (size[0] != fig.canvas.width || size[1] != fig.canvas.height) {\n",
       "        fig._resize_canvas(size[0], size[1]);\n",
       "        fig.send_message(\"refresh\", {});\n",
       "    };\n",
       "}\n",
       "\n",
       "mpl.figure.prototype.handle_rubberband = function(fig, msg) {\n",
       "    var x0 = msg['x0'] / mpl.ratio;\n",
       "    var y0 = (fig.canvas.height - msg['y0']) / mpl.ratio;\n",
       "    var x1 = msg['x1'] / mpl.ratio;\n",
       "    var y1 = (fig.canvas.height - msg['y1']) / mpl.ratio;\n",
       "    x0 = Math.floor(x0) + 0.5;\n",
       "    y0 = Math.floor(y0) + 0.5;\n",
       "    x1 = Math.floor(x1) + 0.5;\n",
       "    y1 = Math.floor(y1) + 0.5;\n",
       "    var min_x = Math.min(x0, x1);\n",
       "    var min_y = Math.min(y0, y1);\n",
       "    var width = Math.abs(x1 - x0);\n",
       "    var height = Math.abs(y1 - y0);\n",
       "\n",
       "    fig.rubberband_context.clearRect(\n",
       "        0, 0, fig.canvas.width, fig.canvas.height);\n",
       "\n",
       "    fig.rubberband_context.strokeRect(min_x, min_y, width, height);\n",
       "}\n",
       "\n",
       "mpl.figure.prototype.handle_figure_label = function(fig, msg) {\n",
       "    // Updates the figure title.\n",
       "    fig.header.textContent = msg['label'];\n",
       "}\n",
       "\n",
       "mpl.figure.prototype.handle_cursor = function(fig, msg) {\n",
       "    var cursor = msg['cursor'];\n",
       "    switch(cursor)\n",
       "    {\n",
       "    case 0:\n",
       "        cursor = 'pointer';\n",
       "        break;\n",
       "    case 1:\n",
       "        cursor = 'default';\n",
       "        break;\n",
       "    case 2:\n",
       "        cursor = 'crosshair';\n",
       "        break;\n",
       "    case 3:\n",
       "        cursor = 'move';\n",
       "        break;\n",
       "    }\n",
       "    fig.rubberband_canvas.style.cursor = cursor;\n",
       "}\n",
       "\n",
       "mpl.figure.prototype.handle_message = function(fig, msg) {\n",
       "    fig.message.textContent = msg['message'];\n",
       "}\n",
       "\n",
       "mpl.figure.prototype.handle_draw = function(fig, msg) {\n",
       "    // Request the server to send over a new figure.\n",
       "    fig.send_draw_message();\n",
       "}\n",
       "\n",
       "mpl.figure.prototype.handle_image_mode = function(fig, msg) {\n",
       "    fig.image_mode = msg['mode'];\n",
       "}\n",
       "\n",
       "mpl.figure.prototype.updated_canvas_event = function() {\n",
       "    // Called whenever the canvas gets updated.\n",
       "    this.send_message(\"ack\", {});\n",
       "}\n",
       "\n",
       "// A function to construct a web socket function for onmessage handling.\n",
       "// Called in the figure constructor.\n",
       "mpl.figure.prototype._make_on_message_function = function(fig) {\n",
       "    return function socket_on_message(evt) {\n",
       "        if (evt.data instanceof Blob) {\n",
       "            /* FIXME: We get \"Resource interpreted as Image but\n",
       "             * transferred with MIME type text/plain:\" errors on\n",
       "             * Chrome.  But how to set the MIME type?  It doesn't seem\n",
       "             * to be part of the websocket stream */\n",
       "            evt.data.type = \"image/png\";\n",
       "\n",
       "            /* Free the memory for the previous frames */\n",
       "            if (fig.imageObj.src) {\n",
       "                (window.URL || window.webkitURL).revokeObjectURL(\n",
       "                    fig.imageObj.src);\n",
       "            }\n",
       "\n",
       "            fig.imageObj.src = (window.URL || window.webkitURL).createObjectURL(\n",
       "                evt.data);\n",
       "            fig.updated_canvas_event();\n",
       "            fig.waiting = false;\n",
       "            return;\n",
       "        }\n",
       "        else if (typeof evt.data === 'string' && evt.data.slice(0, 21) == \"data:image/png;base64\") {\n",
       "            fig.imageObj.src = evt.data;\n",
       "            fig.updated_canvas_event();\n",
       "            fig.waiting = false;\n",
       "            return;\n",
       "        }\n",
       "\n",
       "        var msg = JSON.parse(evt.data);\n",
       "        var msg_type = msg['type'];\n",
       "\n",
       "        // Call the  \"handle_{type}\" callback, which takes\n",
       "        // the figure and JSON message as its only arguments.\n",
       "        try {\n",
       "            var callback = fig[\"handle_\" + msg_type];\n",
       "        } catch (e) {\n",
       "            console.log(\"No handler for the '\" + msg_type + \"' message type: \", msg);\n",
       "            return;\n",
       "        }\n",
       "\n",
       "        if (callback) {\n",
       "            try {\n",
       "                // console.log(\"Handling '\" + msg_type + \"' message: \", msg);\n",
       "                callback(fig, msg);\n",
       "            } catch (e) {\n",
       "                console.log(\"Exception inside the 'handler_\" + msg_type + \"' callback:\", e, e.stack, msg);\n",
       "            }\n",
       "        }\n",
       "    };\n",
       "}\n",
       "\n",
       "// from http://stackoverflow.com/questions/1114465/getting-mouse-location-in-canvas\n",
       "mpl.findpos = function(e) {\n",
       "    //this section is from http://www.quirksmode.org/js/events_properties.html\n",
       "    var targ;\n",
       "    if (!e)\n",
       "        e = window.event;\n",
       "    if (e.target)\n",
       "        targ = e.target;\n",
       "    else if (e.srcElement)\n",
       "        targ = e.srcElement;\n",
       "    if (targ.nodeType == 3) // defeat Safari bug\n",
       "        targ = targ.parentNode;\n",
       "\n",
       "    // jQuery normalizes the pageX and pageY\n",
       "    // pageX,Y are the mouse positions relative to the document\n",
       "    // offset() returns the position of the element relative to the document\n",
       "    var x = e.pageX - $(targ).offset().left;\n",
       "    var y = e.pageY - $(targ).offset().top;\n",
       "\n",
       "    return {\"x\": x, \"y\": y};\n",
       "};\n",
       "\n",
       "/*\n",
       " * return a copy of an object with only non-object keys\n",
       " * we need this to avoid circular references\n",
       " * http://stackoverflow.com/a/24161582/3208463\n",
       " */\n",
       "function simpleKeys (original) {\n",
       "  return Object.keys(original).reduce(function (obj, key) {\n",
       "    if (typeof original[key] !== 'object')\n",
       "        obj[key] = original[key]\n",
       "    return obj;\n",
       "  }, {});\n",
       "}\n",
       "\n",
       "mpl.figure.prototype.mouse_event = function(event, name) {\n",
       "    var canvas_pos = mpl.findpos(event)\n",
       "\n",
       "    if (name === 'button_press')\n",
       "    {\n",
       "        this.canvas.focus();\n",
       "        this.canvas_div.focus();\n",
       "    }\n",
       "\n",
       "    var x = canvas_pos.x * mpl.ratio;\n",
       "    var y = canvas_pos.y * mpl.ratio;\n",
       "\n",
       "    this.send_message(name, {x: x, y: y, button: event.button,\n",
       "                             step: event.step,\n",
       "                             guiEvent: simpleKeys(event)});\n",
       "\n",
       "    /* This prevents the web browser from automatically changing to\n",
       "     * the text insertion cursor when the button is pressed.  We want\n",
       "     * to control all of the cursor setting manually through the\n",
       "     * 'cursor' event from matplotlib */\n",
       "    event.preventDefault();\n",
       "    return false;\n",
       "}\n",
       "\n",
       "mpl.figure.prototype._key_event_extra = function(event, name) {\n",
       "    // Handle any extra behaviour associated with a key event\n",
       "}\n",
       "\n",
       "mpl.figure.prototype.key_event = function(event, name) {\n",
       "\n",
       "    // Prevent repeat events\n",
       "    if (name == 'key_press')\n",
       "    {\n",
       "        if (event.which === this._key)\n",
       "            return;\n",
       "        else\n",
       "            this._key = event.which;\n",
       "    }\n",
       "    if (name == 'key_release')\n",
       "        this._key = null;\n",
       "\n",
       "    var value = '';\n",
       "    if (event.ctrlKey && event.which != 17)\n",
       "        value += \"ctrl+\";\n",
       "    if (event.altKey && event.which != 18)\n",
       "        value += \"alt+\";\n",
       "    if (event.shiftKey && event.which != 16)\n",
       "        value += \"shift+\";\n",
       "\n",
       "    value += 'k';\n",
       "    value += event.which.toString();\n",
       "\n",
       "    this._key_event_extra(event, name);\n",
       "\n",
       "    this.send_message(name, {key: value,\n",
       "                             guiEvent: simpleKeys(event)});\n",
       "    return false;\n",
       "}\n",
       "\n",
       "mpl.figure.prototype.toolbar_button_onclick = function(name) {\n",
       "    if (name == 'download') {\n",
       "        this.handle_save(this, null);\n",
       "    } else {\n",
       "        this.send_message(\"toolbar_button\", {name: name});\n",
       "    }\n",
       "};\n",
       "\n",
       "mpl.figure.prototype.toolbar_button_onmouseover = function(tooltip) {\n",
       "    this.message.textContent = tooltip;\n",
       "};\n",
       "mpl.toolbar_items = [[\"Home\", \"Reset original view\", \"fa fa-home icon-home\", \"home\"], [\"Back\", \"Back to  previous view\", \"fa fa-arrow-left icon-arrow-left\", \"back\"], [\"Forward\", \"Forward to next view\", \"fa fa-arrow-right icon-arrow-right\", \"forward\"], [\"\", \"\", \"\", \"\"], [\"Pan\", \"Pan axes with left mouse, zoom with right\", \"fa fa-arrows icon-move\", \"pan\"], [\"Zoom\", \"Zoom to rectangle\", \"fa fa-square-o icon-check-empty\", \"zoom\"], [\"\", \"\", \"\", \"\"], [\"Download\", \"Download plot\", \"fa fa-floppy-o icon-save\", \"download\"]];\n",
       "\n",
       "mpl.extensions = [\"eps\", \"pdf\", \"png\", \"ps\", \"raw\", \"svg\"];\n",
       "\n",
       "mpl.default_extension = \"png\";var comm_websocket_adapter = function(comm) {\n",
       "    // Create a \"websocket\"-like object which calls the given IPython comm\n",
       "    // object with the appropriate methods. Currently this is a non binary\n",
       "    // socket, so there is still some room for performance tuning.\n",
       "    var ws = {};\n",
       "\n",
       "    ws.close = function() {\n",
       "        comm.close()\n",
       "    };\n",
       "    ws.send = function(m) {\n",
       "        //console.log('sending', m);\n",
       "        comm.send(m);\n",
       "    };\n",
       "    // Register the callback with on_msg.\n",
       "    comm.on_msg(function(msg) {\n",
       "        //console.log('receiving', msg['content']['data'], msg);\n",
       "        // Pass the mpl event to the overriden (by mpl) onmessage function.\n",
       "        ws.onmessage(msg['content']['data'])\n",
       "    });\n",
       "    return ws;\n",
       "}\n",
       "\n",
       "mpl.mpl_figure_comm = function(comm, msg) {\n",
       "    // This is the function which gets called when the mpl process\n",
       "    // starts-up an IPython Comm through the \"matplotlib\" channel.\n",
       "\n",
       "    var id = msg.content.data.id;\n",
       "    // Get hold of the div created by the display call when the Comm\n",
       "    // socket was opened in Python.\n",
       "    var element = $(\"#\" + id);\n",
       "    var ws_proxy = comm_websocket_adapter(comm)\n",
       "\n",
       "    function ondownload(figure, format) {\n",
       "        window.open(figure.imageObj.src);\n",
       "    }\n",
       "\n",
       "    var fig = new mpl.figure(id, ws_proxy,\n",
       "                           ondownload,\n",
       "                           element.get(0));\n",
       "\n",
       "    // Call onopen now - mpl needs it, as it is assuming we've passed it a real\n",
       "    // web socket which is closed, not our websocket->open comm proxy.\n",
       "    ws_proxy.onopen();\n",
       "\n",
       "    fig.parent_element = element.get(0);\n",
       "    fig.cell_info = mpl.find_output_cell(\"<div id='\" + id + \"'></div>\");\n",
       "    if (!fig.cell_info) {\n",
       "        console.error(\"Failed to find cell for figure\", id, fig);\n",
       "        return;\n",
       "    }\n",
       "\n",
       "    var output_index = fig.cell_info[2]\n",
       "    var cell = fig.cell_info[0];\n",
       "\n",
       "};\n",
       "\n",
       "mpl.figure.prototype.handle_close = function(fig, msg) {\n",
       "    var width = fig.canvas.width/mpl.ratio\n",
       "    fig.root.unbind('remove')\n",
       "\n",
       "    // Update the output cell to use the data from the current canvas.\n",
       "    fig.push_to_output();\n",
       "    var dataURL = fig.canvas.toDataURL();\n",
       "    // Re-enable the keyboard manager in IPython - without this line, in FF,\n",
       "    // the notebook keyboard shortcuts fail.\n",
       "    IPython.keyboard_manager.enable()\n",
       "    $(fig.parent_element).html('<img src=\"' + dataURL + '\" width=\"' + width + '\">');\n",
       "    fig.close_ws(fig, msg);\n",
       "}\n",
       "\n",
       "mpl.figure.prototype.close_ws = function(fig, msg){\n",
       "    fig.send_message('closing', msg);\n",
       "    // fig.ws.close()\n",
       "}\n",
       "\n",
       "mpl.figure.prototype.push_to_output = function(remove_interactive) {\n",
       "    // Turn the data on the canvas into data in the output cell.\n",
       "    var width = this.canvas.width/mpl.ratio\n",
       "    var dataURL = this.canvas.toDataURL();\n",
       "    this.cell_info[1]['text/html'] = '<img src=\"' + dataURL + '\" width=\"' + width + '\">';\n",
       "}\n",
       "\n",
       "mpl.figure.prototype.updated_canvas_event = function() {\n",
       "    // Tell IPython that the notebook contents must change.\n",
       "    IPython.notebook.set_dirty(true);\n",
       "    this.send_message(\"ack\", {});\n",
       "    var fig = this;\n",
       "    // Wait a second, then push the new image to the DOM so\n",
       "    // that it is saved nicely (might be nice to debounce this).\n",
       "    setTimeout(function () { fig.push_to_output() }, 1000);\n",
       "}\n",
       "\n",
       "mpl.figure.prototype._init_toolbar = function() {\n",
       "    var fig = this;\n",
       "\n",
       "    var nav_element = $('<div/>')\n",
       "    nav_element.attr('style', 'width: 100%');\n",
       "    this.root.append(nav_element);\n",
       "\n",
       "    // Define a callback function for later on.\n",
       "    function toolbar_event(event) {\n",
       "        return fig.toolbar_button_onclick(event['data']);\n",
       "    }\n",
       "    function toolbar_mouse_event(event) {\n",
       "        return fig.toolbar_button_onmouseover(event['data']);\n",
       "    }\n",
       "\n",
       "    for(var toolbar_ind in mpl.toolbar_items){\n",
       "        var name = mpl.toolbar_items[toolbar_ind][0];\n",
       "        var tooltip = mpl.toolbar_items[toolbar_ind][1];\n",
       "        var image = mpl.toolbar_items[toolbar_ind][2];\n",
       "        var method_name = mpl.toolbar_items[toolbar_ind][3];\n",
       "\n",
       "        if (!name) { continue; };\n",
       "\n",
       "        var button = $('<button class=\"btn btn-default\" href=\"#\" title=\"' + name + '\"><i class=\"fa ' + image + ' fa-lg\"></i></button>');\n",
       "        button.click(method_name, toolbar_event);\n",
       "        button.mouseover(tooltip, toolbar_mouse_event);\n",
       "        nav_element.append(button);\n",
       "    }\n",
       "\n",
       "    // Add the status bar.\n",
       "    var status_bar = $('<span class=\"mpl-message\" style=\"text-align:right; float: right;\"/>');\n",
       "    nav_element.append(status_bar);\n",
       "    this.message = status_bar[0];\n",
       "\n",
       "    // Add the close button to the window.\n",
       "    var buttongrp = $('<div class=\"btn-group inline pull-right\"></div>');\n",
       "    var button = $('<button class=\"btn btn-mini btn-primary\" href=\"#\" title=\"Stop Interaction\"><i class=\"fa fa-power-off icon-remove icon-large\"></i></button>');\n",
       "    button.click(function (evt) { fig.handle_close(fig, {}); } );\n",
       "    button.mouseover('Stop Interaction', toolbar_mouse_event);\n",
       "    buttongrp.append(button);\n",
       "    var titlebar = this.root.find($('.ui-dialog-titlebar'));\n",
       "    titlebar.prepend(buttongrp);\n",
       "}\n",
       "\n",
       "mpl.figure.prototype._root_extra_style = function(el){\n",
       "    var fig = this\n",
       "    el.on(\"remove\", function(){\n",
       "\tfig.close_ws(fig, {});\n",
       "    });\n",
       "}\n",
       "\n",
       "mpl.figure.prototype._canvas_extra_style = function(el){\n",
       "    // this is important to make the div 'focusable\n",
       "    el.attr('tabindex', 0)\n",
       "    // reach out to IPython and tell the keyboard manager to turn it's self\n",
       "    // off when our div gets focus\n",
       "\n",
       "    // location in version 3\n",
       "    if (IPython.notebook.keyboard_manager) {\n",
       "        IPython.notebook.keyboard_manager.register_events(el);\n",
       "    }\n",
       "    else {\n",
       "        // location in version 2\n",
       "        IPython.keyboard_manager.register_events(el);\n",
       "    }\n",
       "\n",
       "}\n",
       "\n",
       "mpl.figure.prototype._key_event_extra = function(event, name) {\n",
       "    var manager = IPython.notebook.keyboard_manager;\n",
       "    if (!manager)\n",
       "        manager = IPython.keyboard_manager;\n",
       "\n",
       "    // Check for shift+enter\n",
       "    if (event.shiftKey && event.which == 13) {\n",
       "        this.canvas_div.blur();\n",
       "        // select the cell after this one\n",
       "        var index = IPython.notebook.find_cell_index(this.cell_info[0]);\n",
       "        IPython.notebook.select(index + 1);\n",
       "    }\n",
       "}\n",
       "\n",
       "mpl.figure.prototype.handle_save = function(fig, msg) {\n",
       "    fig.ondownload(fig, null);\n",
       "}\n",
       "\n",
       "\n",
       "mpl.find_output_cell = function(html_output) {\n",
       "    // Return the cell and output element which can be found *uniquely* in the notebook.\n",
       "    // Note - this is a bit hacky, but it is done because the \"notebook_saving.Notebook\"\n",
       "    // IPython event is triggered only after the cells have been serialised, which for\n",
       "    // our purposes (turning an active figure into a static one), is too late.\n",
       "    var cells = IPython.notebook.get_cells();\n",
       "    var ncells = cells.length;\n",
       "    for (var i=0; i<ncells; i++) {\n",
       "        var cell = cells[i];\n",
       "        if (cell.cell_type === 'code'){\n",
       "            for (var j=0; j<cell.output_area.outputs.length; j++) {\n",
       "                var data = cell.output_area.outputs[j];\n",
       "                if (data.data) {\n",
       "                    // IPython >= 3 moved mimebundle to data attribute of output\n",
       "                    data = data.data;\n",
       "                }\n",
       "                if (data['text/html'] == html_output) {\n",
       "                    return [cell, data, j];\n",
       "                }\n",
       "            }\n",
       "        }\n",
       "    }\n",
       "}\n",
       "\n",
       "// Register the function which deals with the matplotlib target/channel.\n",
       "// The kernel may be null if the page has been refreshed.\n",
       "if (IPython.notebook.kernel != null) {\n",
       "    IPython.notebook.kernel.comm_manager.register_target('matplotlib', mpl.mpl_figure_comm);\n",
       "}\n"
      ],
      "text/plain": [
       "<IPython.core.display.Javascript object>"
      ]
     },
     "metadata": {},
     "output_type": "display_data"
    },
    {
     "data": {
      "text/html": [
       "<img src=\"data:image/png;base64,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\" width=\"640\">"
      ],
      "text/plain": [
       "<IPython.core.display.HTML object>"
      ]
     },
     "metadata": {},
     "output_type": "display_data"
    }
   ],
   "source": [
    "plt.figure()\n",
    "plt.hist([charge_periods,drain_periods])\n",
    "plt.show()"
   ]
  },
  {
   "cell_type": "code",
   "execution_count": 10,
   "metadata": {},
   "outputs": [
    {
     "name": "stdout",
     "output_type": "stream",
     "text": [
      "Available matplotlib backends: ['tk', 'gtk', 'gtk3', 'wx', 'qt', 'qt4', 'qt5', 'osx', 'nbagg', 'notebook', 'agg', 'inline', 'ipympl']\n"
     ]
    }
   ],
   "source": [
    "%matplotlib --list"
   ]
  },
  {
   "cell_type": "code",
   "execution_count": 1,
   "metadata": {},
   "outputs": [
    {
     "data": {
      "text/plain": [
       "<matplotlib.backends.backend_agg.FigureCanvasAgg at 0x71e8d90>"
      ]
     },
     "execution_count": 1,
     "metadata": {},
     "output_type": "execute_result"
    }
   ],
   "source": [
    "import matplotlib.pyplot as plt\n",
    "fig=plt.figure()\n",
    "fig.canvas"
   ]
  },
  {
   "cell_type": "code",
   "execution_count": null,
   "metadata": {
    "collapsed": true
   },
   "outputs": [],
   "source": []
  }
 ],
 "metadata": {
  "kernelspec": {
   "display_name": "Python 3",
   "language": "python",
   "name": "python3"
  },
  "language_info": {
   "codemirror_mode": {
    "name": "ipython",
    "version": 3
   },
   "file_extension": ".py",
   "mimetype": "text/x-python",
   "name": "python",
   "nbconvert_exporter": "python",
   "pygments_lexer": "ipython3",
   "version": "3.6.2"
  }
 },
 "nbformat": 4,
 "nbformat_minor": 2
}
