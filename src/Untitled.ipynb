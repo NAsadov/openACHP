{
 "cells": [
  {
   "cell_type": "code",
   "execution_count": 19,
   "metadata": {},
   "outputs": [
    {
     "data": {
      "text/html": [
       "<link rel=\"stylesheet\" type=\"text/css\" href=\"http://cdn.datatables.net/1.9.3/css/jquery.dataTables.css\">\n",
       "<script type=\"text/javascript\" charset=\"utf8\" src=\"http://cdn.datatables.net/1.9.3/js/jquery.dataTables.js\"></script>\n",
       "\n",
       "<div id=\"mydiv\">\n",
       "<table>\n",
       "<thead>\n",
       "<tr>\n",
       "<th>A</th>\n",
       "<th>B</th>\n",
       "</tr>\n",
       "</thead>\n",
       "<tbody>\n",
       "<tr>\n",
       "<td>1</td>\n",
       "<td>2</td>\n",
       "</tr>\n",
       "<tr>\n",
       "<td>3</td>\n",
       "<td>4</td>\n",
       "</tr>\n",
       "</tbody>\n",
       "</table>\n",
       "</div>\n",
       "\n",
       "<script>\n",
       "//$.getScript(\"http://cdn.datatables.net/1.9.0/js/jquery.dataTables.js\");\n",
       "$('#mydiv table').dataTable();\n",
       "//$(document).ready(function(){\n",
       "//    $('#mydiv table').dataTable();\n",
       "//});\n",
       "</script>"
      ],
      "text/plain": [
       "<IPython.core.display.HTML object>"
      ]
     },
     "metadata": {},
     "output_type": "display_data"
    }
   ],
   "source": [
    "%%html\n",
    "<link rel=\"stylesheet\" type=\"text/css\" href=\"http://cdn.datatables.net/1.9.3/css/jquery.dataTables.css\">\n",
    "<script type=\"text/javascript\" charset=\"utf8\" src=\"http://cdn.datatables.net/1.9.3/js/jquery.dataTables.js\"></script>\n",
    "\n",
    "<div id=\"mydiv\">\n",
    "<table>\n",
    "<thead>\n",
    "<tr>\n",
    "<th>A</th>\n",
    "<th>B</th>\n",
    "</tr>\n",
    "</thead>\n",
    "<tbody>\n",
    "<tr>\n",
    "<td>1</td>\n",
    "<td>2</td>\n",
    "</tr>\n",
    "<tr>\n",
    "<td>3</td>\n",
    "<td>4</td>\n",
    "</tr>\n",
    "</tbody>\n",
    "</table>\n",
    "</div>\n",
    "\n",
    "<script>\n",
    "//$.getScript(\"http://cdn.datatables.net/1.9.0/js/jquery.dataTables.js\");\n",
    "$('#mydiv table').dataTable();\n",
    "//$(document).ready(function(){\n",
    "//    $('#mydiv table').dataTable();\n",
    "//});\n",
    "</script>\n"
   ]
  },
  {
   "cell_type": "code",
   "execution_count": null,
   "metadata": {
    "collapsed": true
   },
   "outputs": [],
   "source": []
  }
 ],
 "metadata": {
  "kernelspec": {
   "display_name": "Python 3",
   "language": "python",
   "name": "python3"
  },
  "language_info": {
   "codemirror_mode": {
    "name": "ipython",
    "version": 3
   },
   "file_extension": ".py",
   "mimetype": "text/x-python",
   "name": "python",
   "nbconvert_exporter": "python",
   "pygments_lexer": "ipython3",
   "version": "3.6.2"
  }
 },
 "nbformat": 4,
 "nbformat_minor": 2
}
