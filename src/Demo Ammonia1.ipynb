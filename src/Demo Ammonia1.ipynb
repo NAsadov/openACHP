{
 "cells": [
  {
   "cell_type": "code",
   "execution_count": 1,
   "metadata": {
    "collapsed": true,
    "slideshow": {
     "slide_type": "skip"
    }
   },
   "outputs": [],
   "source": [
    "%load_ext autoreload\n",
    "%autoreload 2"
   ]
  },
  {
   "cell_type": "markdown",
   "metadata": {
    "slideshow": {
     "slide_type": "slide"
    }
   },
   "source": [
    "# How to use ammonia-aqua system model from openACHP"
   ]
  },
  {
   "cell_type": "markdown",
   "metadata": {
    "slideshow": {
     "slide_type": "subslide"
    }
   },
   "source": [
    "To start, I'll import the modules I need ..."
   ]
  },
  {
   "cell_type": "code",
   "execution_count": 21,
   "metadata": {
    "collapsed": true,
    "slideshow": {
     "slide_type": "fragment"
    }
   },
   "outputs": [],
   "source": [
    "import ammonia1\n",
    "import system_aqua1\n",
    "import numpy as np\n",
    "import matplotlib.pyplot as plt"
   ]
  },
  {
   "cell_type": "markdown",
   "metadata": {
    "slideshow": {
     "slide_type": "slide"
    }
   },
   "source": [
    "## Boundary\n",
    "Now I can create what I call a boundary for the chiller, in other words the specification of available resources, such as flow streams for bringing in or rejecting heat. I'll need that to evaluate heat exchangers later."
   ]
  },
  {
   "cell_type": "code",
   "execution_count": 22,
   "metadata": {
    "slideshow": {
     "slide_type": "subslide"
    }
   },
   "outputs": [
    {
     "data": {
      "text/html": [
       "<table>\n",
       "<thead>\n",
       "<tr><th>stream         </th><th style=\"text-align: right;\">  T_inlet</th><th style=\"text-align: right;\">  mdot</th><th style=\"text-align: right;\">   cp</th></tr>\n",
       "</thead>\n",
       "<tbody>\n",
       "<tr><td>heat           </td><td style=\"text-align: right;\">      400</td><td style=\"text-align: right;\">  1   </td><td style=\"text-align: right;\">4.179</td></tr>\n",
       "<tr><td>absorberReject </td><td style=\"text-align: right;\">      305</td><td style=\"text-align: right;\">  3   </td><td style=\"text-align: right;\">4.179</td></tr>\n",
       "<tr><td>condReject     </td><td style=\"text-align: right;\">      305</td><td style=\"text-align: right;\">  5   </td><td style=\"text-align: right;\">4.179</td></tr>\n",
       "<tr><td>cold           </td><td style=\"text-align: right;\">      285</td><td style=\"text-align: right;\">  4   </td><td style=\"text-align: right;\">4.179</td></tr>\n",
       "<tr><td>rectifierReject</td><td style=\"text-align: right;\">      305</td><td style=\"text-align: right;\">  0.15</td><td style=\"text-align: right;\">4.179</td></tr>\n",
       "</tbody>\n",
       "</table>"
      ],
      "text/plain": [
       "stream             T_inlet    mdot     cp\n",
       "---------------  ---------  ------  -----\n",
       "heat                   400    1     4.179\n",
       "absorberReject         305    3     4.179\n",
       "condReject             305    5     4.179\n",
       "cold                   285    4     4.179\n",
       "rectifierReject        305    0.15  4.179"
      ]
     },
     "execution_count": 22,
     "metadata": {},
     "output_type": "execute_result"
    }
   ],
   "source": [
    "T_heat_reject = 305.\n",
    "U = 100\n",
    "xB = [400, 1, T_heat_reject, 3, T_heat_reject, 5, 285, 4, T_heat_reject, 0.15]\n",
    "bdry = system_aqua1.makeBoundary(xB)\n",
    "bdry"
   ]
  },
  {
   "cell_type": "markdown",
   "metadata": {
    "slideshow": {
     "slide_type": "fragment"
    }
   },
   "source": [
    "In the output, we can see each of the flow streams defined where it goes into the chiller."
   ]
  },
  {
   "cell_type": "markdown",
   "metadata": {
    "slideshow": {
     "slide_type": "slide"
    }
   },
   "source": [
    "## Chiller\n",
    "Now I'll specify and create a chiller. This is an output from one of my optimization runs, so it is supposed to be the \"best\" chiller with a total heat exchange inventory of 100 kW/K. The specification I've chosen is based on temperatures at a few key points, which allows me to solve the model procedurally, without an iterative solver."
   ]
  },
  {
   "cell_type": "code",
   "execution_count": 39,
   "metadata": {
    "collapsed": true,
    "slideshow": {
     "slide_type": "subslide"
    }
   },
   "outputs": [],
   "source": [
    "xC = np.array([0.51284472, 277.97717012, 312.16427764, 313.6952877,\n",
    "               310.24856734, 374.14020482])\n",
    "ch = system_aqua1.makeChiller(xC)"
   ]
  },
  {
   "cell_type": "markdown",
   "metadata": {
    "slideshow": {
     "slide_type": "subslide"
    }
   },
   "source": [
    "I'll have to label the drawing to explain this in greater detail ..."
   ]
  },
  {
   "cell_type": "code",
   "execution_count": 40,
   "metadata": {},
   "outputs": [
    {
     "data": {
      "image/svg+xml": [
       "<svg viewBox=\"118 24 684 348\" xmlns=\"http://www.w3.org/2000/svg\" xmlns:xlink=\"http://www.w3.org/1999/xlink\">\n",
       "  <g>\n",
       "    <rect height=\"80\" style=\"fill: #1e90ff\" width=\"120\" x=\"640\" y=\"100\"/>\n",
       "    <rect height=\"80\" style=\"fill: none; fill-opacity:0; stroke-width: 2.35099e-037; stroke: #000000\" width=\"120\" x=\"640\" y=\"100\"/>\n",
       "  </g>\n",
       "  <rect height=\"120\" style=\"fill: none; fill-opacity:0; stroke-width: 2; stroke: #000000\" width=\"120\" x=\"640\" y=\"60\"/>\n",
       "  <g>\n",
       "    <rect height=\"30\" style=\"fill: #ffffff\" width=\"100\" x=\"200\" y=\"310\"/>\n",
       "    <rect height=\"30\" style=\"fill: none; fill-opacity:0; stroke-width: 2; stroke: #000000\" width=\"100\" x=\"200\" y=\"310\"/>\n",
       "  </g>\n",
       "  <polyline points=\"210,325 234,325 236.667,320 242,330 247.333,320 252.667,330 258,320 263.333,330 266,325 290,325 \" style=\"fill: none; fill-opacity:0; stroke-width: 2; stroke: #000000\"/>\n",
       "  <g>\n",
       "    <line style=\"fill: none; fill-opacity:0; stroke-width: 2; stroke: #000000\" x1=\"210\" x2=\"210\" y1=\"325\" y2=\"360.264\"/>\n",
       "    <polygon points=\"210,367.764 205,357.764 210,360.264 215,357.764 \" style=\"fill: #000000\"/>\n",
       "    <polygon points=\"210,367.764 205,357.764 210,360.264 215,357.764 \" style=\"fill: none; fill-opacity:0; stroke-width: 2; stroke: #000000\"/>\n",
       "  </g>\n",
       "  <g>\n",
       "    <line style=\"fill: none; fill-opacity:0; stroke-width: 2; stroke: #000000\" x1=\"290\" x2=\"290\" y1=\"370\" y2=\"334.736\"/>\n",
       "    <polygon points=\"290,327.236 295,337.236 290,334.736 285,337.236 \" style=\"fill: #000000\"/>\n",
       "    <polygon points=\"290,327.236 295,337.236 290,334.736 285,337.236 \" style=\"fill: none; fill-opacity:0; stroke-width: 2; stroke: #000000\"/>\n",
       "  </g>\n",
       "  <g>\n",
       "    <rect height=\"30\" style=\"fill: #ffffff\" width=\"100\" x=\"200\" y=\"60\"/>\n",
       "    <rect height=\"30\" style=\"fill: none; fill-opacity:0; stroke-width: 2; stroke: #000000\" width=\"100\" x=\"200\" y=\"60\"/>\n",
       "  </g>\n",
       "  <polyline points=\"210,75 234,75 236.667,70 242,80 247.333,70 252.667,80 258,70 263.333,80 266,75 290,75 \" style=\"fill: none; fill-opacity:0; stroke-width: 2; stroke: #000000\"/>\n",
       "  <g>\n",
       "    <line style=\"fill: none; fill-opacity:0; stroke-width: 2; stroke: #000000\" x1=\"210\" x2=\"210\" y1=\"30\" y2=\"65.2639\"/>\n",
       "    <polygon points=\"210,72.7639 205,62.7639 210,65.2639 215,62.7639 \" style=\"fill: #000000\"/>\n",
       "    <polygon points=\"210,72.7639 205,62.7639 210,65.2639 215,62.7639 \" style=\"fill: none; fill-opacity:0; stroke-width: 2; stroke: #000000\"/>\n",
       "  </g>\n",
       "  <g>\n",
       "    <line style=\"fill: none; fill-opacity:0; stroke-width: 2; stroke: #000000\" x1=\"290\" x2=\"290\" y1=\"75\" y2=\"39.7361\"/>\n",
       "    <polygon points=\"290,32.2361 295,42.2361 290,39.7361 285,42.2361 \" style=\"fill: #000000\"/>\n",
       "    <polygon points=\"290,32.2361 295,42.2361 290,39.7361 285,42.2361 \" style=\"fill: none; fill-opacity:0; stroke-width: 2; stroke: #000000\"/>\n",
       "  </g>\n",
       "  <g>\n",
       "    <rect height=\"30\" style=\"fill: #ffffff\" width=\"100\" x=\"360\" y=\"60\"/>\n",
       "    <rect height=\"30\" style=\"fill: none; fill-opacity:0; stroke-width: 2; stroke: #000000\" width=\"100\" x=\"360\" y=\"60\"/>\n",
       "  </g>\n",
       "  <polyline points=\"370,75 394,75 396.667,70 402,80 407.333,70 412.667,80 418,70 423.333,80 426,75 450,75 \" style=\"fill: none; fill-opacity:0; stroke-width: 2; stroke: #000000\"/>\n",
       "  <g>\n",
       "    <line style=\"fill: none; fill-opacity:0; stroke-width: 2; stroke: #000000\" x1=\"370\" x2=\"370\" y1=\"75\" y2=\"39.7361\"/>\n",
       "    <polygon points=\"370,32.2361 375,42.2361 370,39.7361 365,42.2361 \" style=\"fill: #000000\"/>\n",
       "    <polygon points=\"370,32.2361 375,42.2361 370,39.7361 365,42.2361 \" style=\"fill: none; fill-opacity:0; stroke-width: 2; stroke: #000000\"/>\n",
       "  </g>\n",
       "  <g>\n",
       "    <line style=\"fill: none; fill-opacity:0; stroke-width: 2; stroke: #000000\" x1=\"450\" x2=\"450\" y1=\"30\" y2=\"65.2639\"/>\n",
       "    <polygon points=\"450,72.7639 445,62.7639 450,65.2639 455,62.7639 \" style=\"fill: #000000\"/>\n",
       "    <polygon points=\"450,72.7639 445,62.7639 450,65.2639 455,62.7639 \" style=\"fill: none; fill-opacity:0; stroke-width: 2; stroke: #000000\"/>\n",
       "  </g>\n",
       "  <g>\n",
       "    <rect height=\"60\" style=\"fill: #ffffff\" width=\"100\" x=\"360\" y=\"130\"/>\n",
       "    <rect height=\"60\" style=\"fill: none; fill-opacity:0; stroke-width: 2; stroke: #000000\" width=\"100\" x=\"360\" y=\"130\"/>\n",
       "  </g>\n",
       "  <polyline points=\"380,130 380,148 374,150 386,154 374,158 386,162 374,166 386,170 380,172 380,190 \" style=\"fill: none; fill-opacity:0; stroke-width: 2; stroke: #000000\"/>\n",
       "  <g>\n",
       "    <rect height=\"30\" style=\"fill: #ffffff\" width=\"100\" x=\"360\" y=\"310\"/>\n",
       "    <rect height=\"30\" style=\"fill: none; fill-opacity:0; stroke-width: 2; stroke: #000000\" width=\"100\" x=\"360\" y=\"310\"/>\n",
       "  </g>\n",
       "  <polyline points=\"370,325 394,325 396.667,320 402,330 407.333,320 412.667,330 418,320 423.333,330 426,325 450,325 \" style=\"fill: none; fill-opacity:0; stroke-width: 2; stroke: #000000\"/>\n",
       "  <g>\n",
       "    <line style=\"fill: none; fill-opacity:0; stroke-width: 2; stroke: #000000\" x1=\"370\" x2=\"370\" y1=\"370\" y2=\"334.736\"/>\n",
       "    <polygon points=\"370,327.236 375,337.236 370,334.736 365,337.236 \" style=\"fill: #000000\"/>\n",
       "    <polygon points=\"370,327.236 375,337.236 370,334.736 365,337.236 \" style=\"fill: none; fill-opacity:0; stroke-width: 2; stroke: #000000\"/>\n",
       "  </g>\n",
       "  <g>\n",
       "    <line style=\"fill: none; fill-opacity:0; stroke-width: 2; stroke: #000000\" x1=\"450\" x2=\"450\" y1=\"325\" y2=\"360.264\"/>\n",
       "    <polygon points=\"450,367.764 445,357.764 450,360.264 455,357.764 \" style=\"fill: #000000\"/>\n",
       "    <polygon points=\"450,367.764 445,357.764 450,360.264 455,357.764 \" style=\"fill: none; fill-opacity:0; stroke-width: 2; stroke: #000000\"/>\n",
       "  </g>\n",
       "  <g>\n",
       "    <line style=\"fill: none; fill-opacity:0; stroke-width: 2; stroke: #000000\" x1=\"360\" x2=\"309.736\" y1=\"75\" y2=\"75\"/>\n",
       "    <polygon points=\"302.236,75 312.236,70 309.736,75 312.236,80 \" style=\"fill: #000000\"/>\n",
       "    <polygon points=\"302.236,75 312.236,70 309.736,75 312.236,80 \" style=\"fill: none; fill-opacity:0; stroke-width: 2; stroke: #000000\"/>\n",
       "  </g>\n",
       "  <g>\n",
       "    <line style=\"fill: none; fill-opacity:0; stroke-width: 2; stroke: #000000\" x1=\"250\" x2=\"250\" y1=\"90\" y2=\"170.264\"/>\n",
       "    <polygon points=\"250,177.764 245,167.764 250,170.264 255,167.764 \" style=\"fill: #000000\"/>\n",
       "    <polygon points=\"250,177.764 245,167.764 250,170.264 255,167.764 \" style=\"fill: none; fill-opacity:0; stroke-width: 2; stroke: #000000\"/>\n",
       "  </g>\n",
       "  <g>\n",
       "    <polygon points=\"230,180 270,220 230,220 270,180 \" style=\"fill: #ffffff\"/>\n",
       "    <polygon points=\"230,180 270,220 230,220 270,180 \" style=\"fill: none; fill-opacity:0; stroke-width: 2; stroke: #000000\"/>\n",
       "  </g>\n",
       "  <g>\n",
       "    <line style=\"fill: none; fill-opacity:0; stroke-width: 2; stroke: #000000\" x1=\"250\" x2=\"250\" y1=\"220\" y2=\"300.264\"/>\n",
       "    <polygon points=\"250,307.764 245,297.764 250,300.264 255,297.764 \" style=\"fill: #000000\"/>\n",
       "    <polygon points=\"250,307.764 245,297.764 250,300.264 255,297.764 \" style=\"fill: none; fill-opacity:0; stroke-width: 2; stroke: #000000\"/>\n",
       "  </g>\n",
       "  <g>\n",
       "    <line style=\"fill: none; fill-opacity:0; stroke-width: 2; stroke: #000000\" x1=\"300\" x2=\"350.264\" y1=\"325\" y2=\"325\"/>\n",
       "    <polygon points=\"357.764,325 347.764,330 350.264,325 347.764,320 \" style=\"fill: #000000\"/>\n",
       "    <polygon points=\"357.764,325 347.764,330 350.264,325 347.764,320 \" style=\"fill: none; fill-opacity:0; stroke-width: 2; stroke: #000000\"/>\n",
       "  </g>\n",
       "  <g>\n",
       "    <ellipse cx=\"380\" cy=\"250\" rx=\"20\" ry=\"20\" style=\"fill: #ffffff\"/>\n",
       "    <ellipse cx=\"380\" cy=\"250\" rx=\"20\" ry=\"20\" style=\"fill: none; fill-opacity:0; stroke-width: 2; stroke: #000000\"/>\n",
       "    <ellipse cx=\"380\" cy=\"250\" rx=\"20\" ry=\"20\" style=\"fill: none; fill-opacity:0; stroke-width: 2; stroke: #000000\"/>\n",
       "  </g>\n",
       "  <g>\n",
       "    <polygon points=\"380,230 400,250 360,250 \" style=\"fill: #000000\"/>\n",
       "    <polygon points=\"380,230 400,250 360,250 \" style=\"fill: none; fill-opacity:0; stroke-width: 2; stroke: #000000\"/>\n",
       "  </g>\n",
       "  <g>\n",
       "    <polygon points=\"420,230 460,270 420,270 460,230 \" style=\"fill: #ffffff\"/>\n",
       "    <polygon points=\"420,230 460,270 420,270 460,230 \" style=\"fill: none; fill-opacity:0; stroke-width: 2; stroke: #000000\"/>\n",
       "  </g>\n",
       "  <g>\n",
       "    <line style=\"fill: none; fill-opacity:0; stroke-width: 2; stroke: #000000\" x1=\"380\" x2=\"380\" y1=\"310\" y2=\"279.736\"/>\n",
       "    <polygon points=\"380,272.236 385,282.236 380,279.736 375,282.236 \" style=\"fill: #000000\"/>\n",
       "    <polygon points=\"380,272.236 385,282.236 380,279.736 375,282.236 \" style=\"fill: none; fill-opacity:0; stroke-width: 2; stroke: #000000\"/>\n",
       "  </g>\n",
       "  <g>\n",
       "    <line style=\"fill: none; fill-opacity:0; stroke-width: 2; stroke: #000000\" x1=\"380\" x2=\"380\" y1=\"230\" y2=\"199.736\"/>\n",
       "    <polygon points=\"380,192.236 385,202.236 380,199.736 375,202.236 \" style=\"fill: #000000\"/>\n",
       "    <polygon points=\"380,192.236 385,202.236 380,199.736 375,202.236 \" style=\"fill: none; fill-opacity:0; stroke-width: 2; stroke: #000000\"/>\n",
       "  </g>\n",
       "  <g>\n",
       "    <line style=\"fill: none; fill-opacity:0; stroke-width: 2; stroke: #000000\" x1=\"440\" x2=\"440\" y1=\"270\" y2=\"300.264\"/>\n",
       "    <polygon points=\"440,307.764 435,297.764 440,300.264 445,297.764 \" style=\"fill: #000000\"/>\n",
       "    <polygon points=\"440,307.764 435,297.764 440,300.264 445,297.764 \" style=\"fill: none; fill-opacity:0; stroke-width: 2; stroke: #000000\"/>\n",
       "  </g>\n",
       "  <g>\n",
       "    <line style=\"fill: none; fill-opacity:0; stroke-width: 2; stroke: #000000\" x1=\"380\" x2=\"380\" y1=\"130\" y2=\"99.7361\"/>\n",
       "    <polygon points=\"380,92.2361 385,102.236 380,99.7361 375,102.236 \" style=\"fill: #000000\"/>\n",
       "    <polygon points=\"380,92.2361 385,102.236 380,99.7361 375,102.236 \" style=\"fill: none; fill-opacity:0; stroke-width: 2; stroke: #000000\"/>\n",
       "  </g>\n",
       "  <g>\n",
       "    <line style=\"fill: none; fill-opacity:0; stroke-width: 2; stroke: #000000\" x1=\"440\" x2=\"440\" y1=\"190\" y2=\"220.264\"/>\n",
       "    <polygon points=\"440,227.764 435,217.764 440,220.264 445,217.764 \" style=\"fill: #000000\"/>\n",
       "    <polygon points=\"440,227.764 435,217.764 440,220.264 445,217.764 \" style=\"fill: none; fill-opacity:0; stroke-width: 2; stroke: #000000\"/>\n",
       "  </g>\n",
       "  <polyline points=\"440,130 440,148 434,150 446,154 434,158 446,162 434,166 446,170 440,172 440,190 \" style=\"fill: none; fill-opacity:0; stroke-width: 2; stroke: #000000\"/>\n",
       "  <g>\n",
       "    <line style=\"fill: none; fill-opacity:0; stroke-width: 2; stroke: #000000\" x1=\"440\" x2=\"440\" y1=\"90\" y2=\"120.264\"/>\n",
       "    <polygon points=\"440,127.764 435,117.764 440,120.264 445,117.764 \" style=\"fill: #000000\"/>\n",
       "    <polygon points=\"440,127.764 435,117.764 440,120.264 445,117.764 \" style=\"fill: none; fill-opacity:0; stroke-width: 2; stroke: #000000\"/>\n",
       "  </g>\n",
       "  <line style=\"fill: none; fill-opacity:0; stroke-width: 2; stroke: #000000\" x1=\"200\" x2=\"220\" y1=\"50\" y2=\"50\"/>\n",
       "  <line style=\"fill: none; fill-opacity:0; stroke-width: 2; stroke: #000000\" x1=\"280\" x2=\"300\" y1=\"50\" y2=\"50\"/>\n",
       "  <line style=\"fill: none; fill-opacity:0; stroke-width: 2; stroke: #000000\" x1=\"360\" x2=\"380\" y1=\"50\" y2=\"50\"/>\n",
       "  <line style=\"fill: none; fill-opacity:0; stroke-width: 2; stroke: #000000\" x1=\"440\" x2=\"460\" y1=\"50\" y2=\"50\"/>\n",
       "  <line style=\"fill: none; fill-opacity:0; stroke-width: 2; stroke: #000000\" x1=\"240\" x2=\"260\" y1=\"130\" y2=\"130\"/>\n",
       "  <line style=\"fill: none; fill-opacity:0; stroke-width: 2; stroke: #000000\" x1=\"240\" x2=\"260\" y1=\"260\" y2=\"260\"/>\n",
       "  <line style=\"fill: none; fill-opacity:0; stroke-width: 2; stroke: #000000\" x1=\"370\" x2=\"390\" y1=\"210\" y2=\"210\"/>\n",
       "  <line style=\"fill: none; fill-opacity:0; stroke-width: 2; stroke: #000000\" x1=\"430\" x2=\"450\" y1=\"210\" y2=\"210\"/>\n",
       "  <line style=\"fill: none; fill-opacity:0; stroke-width: 2; stroke: #000000\" x1=\"370\" x2=\"390\" y1=\"290\" y2=\"290\"/>\n",
       "  <line style=\"fill: none; fill-opacity:0; stroke-width: 2; stroke: #000000\" x1=\"430\" x2=\"450\" y1=\"290\" y2=\"290\"/>\n",
       "  <line style=\"fill: none; fill-opacity:0; stroke-width: 2; stroke: #000000\" x1=\"440\" x2=\"460\" y1=\"350\" y2=\"350\"/>\n",
       "  <line style=\"fill: none; fill-opacity:0; stroke-width: 2; stroke: #000000\" x1=\"360\" x2=\"380\" y1=\"350\" y2=\"350\"/>\n",
       "  <line style=\"fill: none; fill-opacity:0; stroke-width: 2; stroke: #000000\" x1=\"430\" x2=\"450\" y1=\"110\" y2=\"110\"/>\n",
       "  <line style=\"fill: none; fill-opacity:0; stroke-width: 2; stroke: #000000\" x1=\"370\" x2=\"390\" y1=\"110\" y2=\"110\"/>\n",
       "  <line style=\"fill: none; fill-opacity:0; stroke-width: 2; stroke: #000000\" x1=\"330\" x2=\"330\" y1=\"314\" y2=\"336\"/>\n",
       "  <line style=\"fill: none; fill-opacity:0; stroke-width: 2; stroke: #000000\" x1=\"330\" x2=\"330\" y1=\"64\" y2=\"86\"/>\n",
       "  <line style=\"fill: none; fill-opacity:0; stroke-width: 2; stroke: #000000\" x1=\"200\" x2=\"220\" y1=\"350\" y2=\"350\"/>\n",
       "  <line style=\"fill: none; fill-opacity:0; stroke-width: 2; stroke: #000000\" x1=\"280\" x2=\"300\" y1=\"350\" y2=\"350\"/>\n",
       "  <text font-size=\"12.7998\" style=\"fill: #000000;text-anchor:middle;font-family:sans-serif;font-style:normal;font-weight:normal\" x=\"330\" y=\"102.8\">\n",
       "    <tspan x=\"330\" y=\"102.8\">8</tspan>\n",
       "  </text>\n",
       "  <text font-size=\"12.7998\" style=\"fill: #000000;text-anchor:end;font-family:sans-serif;font-style:normal;font-weight:normal\" x=\"360\" y=\"295.075\">\n",
       "    <tspan x=\"360\" y=\"295.075\">1</tspan>\n",
       "  </text>\n",
       "  <text font-size=\"12.7998\" style=\"fill: #000000;text-anchor:end;font-family:sans-serif;font-style:normal;font-weight:normal\" x=\"360\" y=\"215.075\">\n",
       "    <tspan x=\"360\" y=\"215.075\">2</tspan>\n",
       "  </text>\n",
       "  <text font-size=\"12.7998\" style=\"fill: #000000;text-anchor:end;font-family:sans-serif;font-style:normal;font-weight:normal\" x=\"360\" y=\"115.075\">\n",
       "    <tspan x=\"360\" y=\"115.075\">3</tspan>\n",
       "  </text>\n",
       "  <text font-size=\"12.7998\" style=\"fill: #000000;text-anchor:start;font-family:sans-serif;font-style:normal;font-weight:normal\" x=\"460\" y=\"115.075\">\n",
       "    <tspan x=\"460\" y=\"115.075\">5</tspan>\n",
       "  </text>\n",
       "  <text font-size=\"12.7998\" style=\"fill: #000000;text-anchor:start;font-family:sans-serif;font-style:normal;font-weight:normal\" x=\"460\" y=\"215.075\">\n",
       "    <tspan x=\"460\" y=\"215.075\">6</tspan>\n",
       "  </text>\n",
       "  <text font-size=\"12.7998\" style=\"fill: #000000;text-anchor:end;font-family:sans-serif;font-style:normal;font-weight:normal\" x=\"440\" y=\"47.35\">\n",
       "    <tspan x=\"440\" y=\"47.35\">22</tspan>\n",
       "  </text>\n",
       "  <text font-size=\"12.7998\" style=\"fill: #000000;text-anchor:start;font-family:sans-serif;font-style:normal;font-weight:normal\" x=\"380\" y=\"47.35\">\n",
       "    <tspan x=\"380\" y=\"47.35\">25</tspan>\n",
       "  </text>\n",
       "  <text font-size=\"12.7998\" style=\"fill: #000000;text-anchor:end;font-family:sans-serif;font-style:normal;font-weight:normal\" x=\"440\" y=\"362.8\">\n",
       "    <tspan x=\"440\" y=\"362.8\">44</tspan>\n",
       "  </text>\n",
       "  <text font-size=\"12.7998\" style=\"fill: #000000;text-anchor:start;font-family:sans-serif;font-style:normal;font-weight:normal\" x=\"480\" y=\"157.075\">\n",
       "    <tspan x=\"480\" y=\"157.075\">Solution heat</tspan>\n",
       "    <tspan x=\"480\" y=\"173.075\">exchanger</tspan>\n",
       "  </text>\n",
       "  <text font-size=\"12.7998\" style=\"fill: #000000;text-anchor:start;font-family:sans-serif;font-style:normal;font-weight:normal\" x=\"270\" y=\"135.075\">\n",
       "    <tspan x=\"270\" y=\"135.075\">10</tspan>\n",
       "  </text>\n",
       "  <text font-size=\"12.7998\" style=\"fill: #000000;text-anchor:end;font-family:sans-serif;font-style:normal;font-weight:normal\" x=\"280\" y=\"47.35\">\n",
       "    <tspan x=\"280\" y=\"47.35\">42</tspan>\n",
       "  </text>\n",
       "  <text font-size=\"12.7998\" style=\"fill: #000000;text-anchor:start;font-family:sans-serif;font-style:normal;font-weight:normal\" x=\"460\" y=\"295.075\">\n",
       "    <tspan x=\"460\" y=\"295.075\">7</tspan>\n",
       "  </text>\n",
       "  <text font-size=\"12.7998\" style=\"fill: #000000;text-anchor:end;font-family:sans-serif;font-style:normal;font-weight:normal\" x=\"280\" y=\"362.8\">\n",
       "    <tspan x=\"280\" y=\"362.8\">51</tspan>\n",
       "  </text>\n",
       "  <text font-size=\"12.7998\" style=\"fill: #000000;text-anchor:start;font-family:sans-serif;font-style:normal;font-weight:normal\" x=\"220\" y=\"362.8\">\n",
       "    <tspan x=\"220\" y=\"362.8\">52</tspan>\n",
       "  </text>\n",
       "  <text font-size=\"12.7998\" style=\"fill: #000000;text-anchor:start;font-family:sans-serif;font-style:normal;font-weight:normal\" x=\"380\" y=\"362.8\">\n",
       "    <tspan x=\"380\" y=\"362.8\">43</tspan>\n",
       "  </text>\n",
       "  <text font-size=\"12.7998\" style=\"fill: #000000;text-anchor:start;font-family:sans-serif;font-style:normal;font-weight:normal\" x=\"220\" y=\"47.35\">\n",
       "    <tspan x=\"220\" y=\"47.35\">41</tspan>\n",
       "  </text>\n",
       "  <text font-size=\"12.7998\" style=\"fill: #000000;text-anchor:start;font-family:sans-serif;font-style:normal;font-weight:normal\" x=\"480\" y=\"247.075\">\n",
       "    <tspan x=\"480\" y=\"247.075\">Expansion</tspan>\n",
       "    <tspan x=\"480\" y=\"263.075\">valve</tspan>\n",
       "  </text>\n",
       "  <text font-size=\"12.7998\" style=\"fill: #000000;text-anchor:end;font-family:sans-serif;font-style:normal;font-weight:normal\" x=\"344\" y=\"253.075\">\n",
       "    <tspan x=\"344\" y=\"253.075\">Pump</tspan>\n",
       "  </text>\n",
       "  <text font-size=\"12.7998\" style=\"fill: #000000;text-anchor:start;font-family:sans-serif;font-style:normal;font-weight:normal\" x=\"480\" y=\"73.075\">\n",
       "    <tspan x=\"480\" y=\"73.075\">Vapor</tspan>\n",
       "    <tspan x=\"480\" y=\"89.075\">generator</tspan>\n",
       "  </text>\n",
       "  <text font-size=\"12.7998\" style=\"fill: #000000;text-anchor:end;font-family:sans-serif;font-style:normal;font-weight:normal\" x=\"220\" y=\"197.075\">\n",
       "    <tspan x=\"220\" y=\"197.075\">Refrigerant</tspan>\n",
       "    <tspan x=\"220\" y=\"213.075\">expansion valve</tspan>\n",
       "  </text>\n",
       "  <text font-size=\"12.7998\" style=\"fill: #000000;text-anchor:end;font-family:sans-serif;font-style:normal;font-weight:normal\" x=\"180\" y=\"329.075\">\n",
       "    <tspan x=\"180\" y=\"329.075\">Evaporator</tspan>\n",
       "  </text>\n",
       "  <text font-size=\"12.7998\" style=\"fill: #000000;text-anchor:start;font-family:sans-serif;font-style:normal;font-weight:normal\" x=\"270\" y=\"265.075\">\n",
       "    <tspan x=\"270\" y=\"265.075\">11</tspan>\n",
       "  </text>\n",
       "  <text font-size=\"12.7998\" style=\"fill: #000000;text-anchor:middle;font-family:sans-serif;font-style:normal;font-weight:normal\" x=\"330\" y=\"307.35\">\n",
       "    <tspan x=\"330\" y=\"307.35\">12</tspan>\n",
       "  </text>\n",
       "  <text font-size=\"12.7998\" style=\"fill: #000000;text-anchor:start;font-family:sans-serif;font-style:normal;font-weight:normal\" x=\"480\" y=\"321.075\">\n",
       "    <tspan x=\"480\" y=\"321.075\">Vapor</tspan>\n",
       "    <tspan x=\"480\" y=\"337.075\">absorber</tspan>\n",
       "  </text>\n",
       "  <text font-size=\"12.7998\" style=\"fill: #000000;text-anchor:end;font-family:sans-serif;font-style:normal;font-weight:normal\" x=\"180\" y=\"81.075\">\n",
       "    <tspan x=\"180\" y=\"81.075\">Condenser</tspan>\n",
       "  </text>\n",
       "  <line style=\"fill: none; fill-opacity:0; stroke-width: 2; stroke: #000000\" x1=\"660\" x2=\"660\" y1=\"150\" y2=\"170\"/>\n",
       "  <line style=\"fill: none; fill-opacity:0; stroke-width: 2; stroke: #000000\" x1=\"620\" x2=\"620\" y1=\"150\" y2=\"170\"/>\n",
       "  <line style=\"fill: none; fill-opacity:0; stroke-width: 2; stroke: #000000\" x1=\"780\" x2=\"780\" y1=\"150\" y2=\"170\"/>\n",
       "  <g>\n",
       "    <line style=\"fill: none; fill-opacity:0; stroke-width: 2; stroke: #000000\" x1=\"600\" x2=\"630.264\" y1=\"120\" y2=\"120\"/>\n",
       "    <polygon points=\"637.764,120 627.764,125 630.264,120 627.764,115 \" style=\"fill: #000000\"/>\n",
       "    <polygon points=\"637.764,120 627.764,125 630.264,120 627.764,115 \" style=\"fill: none; fill-opacity:0; stroke-width: 2; stroke: #000000\"/>\n",
       "  </g>\n",
       "  <g>\n",
       "    <line style=\"fill: none; fill-opacity:0; stroke-width: 2; stroke: #000000\" x1=\"640\" x2=\"609.736\" y1=\"80\" y2=\"80\"/>\n",
       "    <polygon points=\"602.236,80 612.236,75 609.736,80 612.236,85 \" style=\"fill: #000000\"/>\n",
       "    <polygon points=\"602.236,80 612.236,75 609.736,80 612.236,85 \" style=\"fill: none; fill-opacity:0; stroke-width: 2; stroke: #000000\"/>\n",
       "  </g>\n",
       "  <g>\n",
       "    <line style=\"fill: none; fill-opacity:0; stroke-width: 2; stroke: #000000\" x1=\"760\" x2=\"790.264\" y1=\"120\" y2=\"120\"/>\n",
       "    <polygon points=\"797.764,120 787.764,125 790.264,120 787.764,115 \" style=\"fill: #000000\"/>\n",
       "    <polygon points=\"797.764,120 787.764,125 790.264,120 787.764,115 \" style=\"fill: none; fill-opacity:0; stroke-width: 2; stroke: #000000\"/>\n",
       "  </g>\n",
       "  <line style=\"fill: none; fill-opacity:0; stroke-width: 2; stroke: #000000\" x1=\"620\" x2=\"620\" y1=\"110\" y2=\"130\"/>\n",
       "  <line style=\"fill: none; fill-opacity:0; stroke-width: 2; stroke: #000000\" x1=\"660\" x2=\"660\" y1=\"100\" y2=\"120\"/>\n",
       "  <text font-size=\"12.7998\" style=\"fill: #000000;text-anchor:middle;font-family:sans-serif;font-style:normal;font-weight:normal\" x=\"620\" y=\"107.35\">\n",
       "    <tspan x=\"620\" y=\"107.35\">3</tspan>\n",
       "  </text>\n",
       "  <text font-size=\"12.7998\" style=\"fill: #000000;text-anchor:middle;font-family:sans-serif;font-style:normal;font-weight:normal\" x=\"780\" y=\"107.35\">\n",
       "    <tspan x=\"780\" y=\"107.35\">5</tspan>\n",
       "  </text>\n",
       "  <text font-size=\"12.7998\" style=\"fill: #000000;text-anchor:middle;font-family:sans-serif;font-style:normal;font-weight:normal\" x=\"620\" y=\"67.35\">\n",
       "    <tspan x=\"620\" y=\"67.35\">8</tspan>\n",
       "  </text>\n",
       "  <line style=\"fill: none; fill-opacity:0; stroke-width: 2; stroke: #000000\" x1=\"620\" x2=\"620\" y1=\"70\" y2=\"90\"/>\n",
       "  <text font-size=\"12.7998\" style=\"fill: #000000;text-anchor:middle;font-family:sans-serif;font-style:normal;font-weight:normal\" x=\"780\" y=\"182.8\">\n",
       "    <tspan x=\"780\" y=\"182.8\">22</tspan>\n",
       "  </text>\n",
       "  <text font-size=\"12.7998\" style=\"fill: #000000;text-anchor:middle;font-family:sans-serif;font-style:normal;font-weight:normal\" x=\"620\" y=\"183.186\">\n",
       "    <tspan x=\"620\" y=\"183.186\">25</tspan>\n",
       "  </text>\n",
       "  <text font-size=\"12.7998\" style=\"fill: #000000;text-anchor:middle;font-family:sans-serif;font-style:normal;font-weight:normal\" x=\"660\" y=\"193.186\">\n",
       "    <tspan x=\"660\" y=\"193.186\">24</tspan>\n",
       "  </text>\n",
       "  <text font-size=\"12.7998\" style=\"fill: #000000;text-anchor:start;font-family:sans-serif;font-style:normal;font-weight:normal\" x=\"670\" y=\"115.075\">\n",
       "    <tspan x=\"670\" y=\"115.075\">4</tspan>\n",
       "  </text>\n",
       "  <line style=\"fill: none; fill-opacity:0; stroke-width: 4; stroke: #000000\" x1=\"640\" x2=\"660\" y1=\"100\" y2=\"100\"/>\n",
       "  <polyline points=\"600,160 660,160 666.667,150 680,170 693.333,150 706.667,170 720,150 733.333,170 740,160 800,160 \" style=\"fill: none; fill-opacity:0; stroke-width: 2; stroke: #000000\"/>\n",
       "  <g>\n",
       "    <line style=\"fill: none; fill-opacity:0; stroke-width: 2; stroke: #000000\" x1=\"800\" x2=\"769.736\" y1=\"160\" y2=\"160\"/>\n",
       "    <polygon points=\"762.236,160 772.236,155 769.736,160 772.236,165 \" style=\"fill: #000000\"/>\n",
       "    <polygon points=\"762.236,160 772.236,155 769.736,160 772.236,165 \" style=\"fill: none; fill-opacity:0; stroke-width: 2; stroke: #000000\"/>\n",
       "  </g>\n",
       "  <g>\n",
       "    <path d=\"M 680,90 A 25.6915,25.6915 0 0 0 664.712,71.4505\" style=\"fill: none; fill-opacity:0; stroke-width: 2; stroke: #1e90ff\"/>\n",
       "    <polygon points=\"665.3,69.0464 660.98,70.2011 664.496,72.9647 \" style=\"fill: #1e90ff\"/>\n",
       "    <polygon points=\"665.3,69.0464 660.98,70.2011 664.496,72.9647 \" style=\"fill: none; fill-opacity:0; stroke-width: 2; stroke: #1e90ff\"/>\n",
       "  </g>\n",
       "  <g>\n",
       "    <path d=\"M 710,90 A 25.6915,25.6915 0 0 0 694.712,71.4505\" style=\"fill: none; fill-opacity:0; stroke-width: 2; stroke: #1e90ff\"/>\n",
       "    <polygon points=\"695.3,69.0464 690.98,70.2011 694.496,72.9647 \" style=\"fill: #1e90ff\"/>\n",
       "    <polygon points=\"695.3,69.0464 690.98,70.2011 694.496,72.9647 \" style=\"fill: none; fill-opacity:0; stroke-width: 2; stroke: #1e90ff\"/>\n",
       "  </g>\n",
       "  <g>\n",
       "    <path d=\"M 740,90 A 25.6915,25.6915 0 0 0 724.712,71.4505\" style=\"fill: none; fill-opacity:0; stroke-width: 2; stroke: #1e90ff\"/>\n",
       "    <polygon points=\"725.3,69.0464 720.98,70.2011 724.496,72.9647 \" style=\"fill: #1e90ff\"/>\n",
       "    <polygon points=\"725.3,69.0464 720.98,70.2011 724.496,72.9647 \" style=\"fill: none; fill-opacity:0; stroke-width: 2; stroke: #1e90ff\"/>\n",
       "  </g>\n",
       "  <g>\n",
       "    <line style=\"fill: none; fill-opacity:0; stroke-width: 2; stroke: #000000\" x1=\"640\" x2=\"609.736\" y1=\"160\" y2=\"160\"/>\n",
       "    <polygon points=\"602.236,160 612.236,155 609.736,160 612.236,165 \" style=\"fill: #000000\"/>\n",
       "    <polygon points=\"602.236,160 612.236,155 609.736,160 612.236,165 \" style=\"fill: none; fill-opacity:0; stroke-width: 2; stroke: #000000\"/>\n",
       "  </g>\n",
       "  <line style=\"fill: none; fill-opacity:0; stroke-width: 2; stroke: #000000\" x1=\"780\" x2=\"780\" y1=\"110\" y2=\"130\"/>\n",
       "  <text font-size=\"12.7998\" style=\"fill: #000000;text-anchor:middle;font-family:sans-serif;font-style:normal;font-weight:normal\" x=\"700\" y=\"37.075\">\n",
       "    <tspan x=\"700\" y=\"37.075\">Vapor</tspan>\n",
       "    <tspan x=\"700\" y=\"53.075\">generator</tspan>\n",
       "  </text>\n",
       "  <g>\n",
       "    <rect height=\"80\" style=\"fill: #1e90ff\" width=\"120\" x=\"640\" y=\"280\"/>\n",
       "    <rect height=\"80\" style=\"fill: none; fill-opacity:0; stroke-width: 2.35099e-037; stroke: #000000\" width=\"120\" x=\"640\" y=\"280\"/>\n",
       "  </g>\n",
       "  <rect height=\"120\" style=\"fill: none; fill-opacity:0; stroke-width: 2; stroke: #000000\" width=\"120\" x=\"640\" y=\"240\"/>\n",
       "  <line style=\"fill: none; fill-opacity:0; stroke-width: 2; stroke: #000000\" x1=\"620\" x2=\"620\" y1=\"330\" y2=\"350\"/>\n",
       "  <line style=\"fill: none; fill-opacity:0; stroke-width: 2; stroke: #000000\" x1=\"780\" x2=\"780\" y1=\"330\" y2=\"350\"/>\n",
       "  <g>\n",
       "    <line style=\"fill: none; fill-opacity:0; stroke-width: 2; stroke: #000000\" x1=\"640\" x2=\"609.736\" y1=\"300\" y2=\"300\"/>\n",
       "    <polygon points=\"602.236,300 612.236,295 609.736,300 612.236,305 \" style=\"fill: #000000\"/>\n",
       "    <polygon points=\"602.236,300 612.236,295 609.736,300 612.236,305 \" style=\"fill: none; fill-opacity:0; stroke-width: 2; stroke: #000000\"/>\n",
       "  </g>\n",
       "  <g>\n",
       "    <line style=\"fill: none; fill-opacity:0; stroke-width: 2; stroke: #000000\" x1=\"600\" x2=\"630.264\" y1=\"260\" y2=\"260\"/>\n",
       "    <polygon points=\"637.764,260 627.764,265 630.264,260 627.764,255 \" style=\"fill: #000000\"/>\n",
       "    <polygon points=\"637.764,260 627.764,265 630.264,260 627.764,255 \" style=\"fill: none; fill-opacity:0; stroke-width: 2; stroke: #000000\"/>\n",
       "  </g>\n",
       "  <g>\n",
       "    <line style=\"fill: none; fill-opacity:0; stroke-width: 2; stroke: #000000\" x1=\"800\" x2=\"769.736\" y1=\"300\" y2=\"300\"/>\n",
       "    <polygon points=\"762.236,300 772.236,295 769.736,300 772.236,305 \" style=\"fill: #000000\"/>\n",
       "    <polygon points=\"762.236,300 772.236,295 769.736,300 772.236,305 \" style=\"fill: none; fill-opacity:0; stroke-width: 2; stroke: #000000\"/>\n",
       "  </g>\n",
       "  <line style=\"fill: none; fill-opacity:0; stroke-width: 2; stroke: #000000\" x1=\"620\" x2=\"620\" y1=\"290\" y2=\"310\"/>\n",
       "  <text font-size=\"12.7998\" style=\"fill: #000000;text-anchor:middle;font-family:sans-serif;font-style:normal;font-weight:normal\" x=\"620\" y=\"286.577\">\n",
       "    <tspan x=\"620\" y=\"286.577\">1</tspan>\n",
       "  </text>\n",
       "  <text font-size=\"12.7998\" style=\"fill: #000000;text-anchor:middle;font-family:sans-serif;font-style:normal;font-weight:normal\" x=\"780\" y=\"286.577\">\n",
       "    <tspan x=\"780\" y=\"286.577\">7</tspan>\n",
       "  </text>\n",
       "  <text font-size=\"12.7998\" style=\"fill: #000000;text-anchor:middle;font-family:sans-serif;font-style:normal;font-weight:normal\" x=\"620\" y=\"246.577\">\n",
       "    <tspan x=\"620\" y=\"246.577\">12</tspan>\n",
       "  </text>\n",
       "  <line style=\"fill: none; fill-opacity:0; stroke-width: 2; stroke: #000000\" x1=\"620\" x2=\"620\" y1=\"250\" y2=\"270\"/>\n",
       "  <text font-size=\"12.7998\" style=\"fill: #000000;text-anchor:middle;font-family:sans-serif;font-style:normal;font-weight:normal\" x=\"780\" y=\"363.186\">\n",
       "    <tspan x=\"780\" y=\"363.186\">44</tspan>\n",
       "  </text>\n",
       "  <text font-size=\"12.7998\" style=\"fill: #000000;text-anchor:middle;font-family:sans-serif;font-style:normal;font-weight:normal\" x=\"620\" y=\"363.186\">\n",
       "    <tspan x=\"620\" y=\"363.186\">43</tspan>\n",
       "  </text>\n",
       "  <polyline points=\"600,340 660,340 666.667,330 680,350 693.333,330 706.667,350 720,330 733.333,350 740,340 800,340 \" style=\"fill: none; fill-opacity:0; stroke-width: 2; stroke: #000000\"/>\n",
       "  <g>\n",
       "    <line style=\"fill: none; fill-opacity:0; stroke-width: 2; stroke: #000000\" x1=\"760\" x2=\"790.264\" y1=\"340\" y2=\"340\"/>\n",
       "    <polygon points=\"797.764,340 787.764,345 790.264,340 787.764,335 \" style=\"fill: #000000\"/>\n",
       "    <polygon points=\"797.764,340 787.764,345 790.264,340 787.764,335 \" style=\"fill: none; fill-opacity:0; stroke-width: 2; stroke: #000000\"/>\n",
       "  </g>\n",
       "  <g>\n",
       "    <path d=\"M 679.298,265.158 A 20.5061,20.5061 0 0 0 660,250\" style=\"fill: none; fill-opacity:0; stroke-width: 2; stroke: #1e90ff\"/>\n",
       "    <polygon points=\"677.879,265.05 679.976,269 681.877,264.953 \" style=\"fill: #1e90ff\"/>\n",
       "    <polygon points=\"677.879,265.05 679.976,269 681.877,264.953 \" style=\"fill: none; fill-opacity:0; stroke-width: 2; stroke: #1e90ff\"/>\n",
       "  </g>\n",
       "  <g>\n",
       "    <path d=\"M 709.298,265.158 A 20.5061,20.5061 0 0 0 690,250\" style=\"fill: none; fill-opacity:0; stroke-width: 2; stroke: #1e90ff\"/>\n",
       "    <polygon points=\"707.879,265.05 709.976,269 711.877,264.953 \" style=\"fill: #1e90ff\"/>\n",
       "    <polygon points=\"707.879,265.05 709.976,269 711.877,264.953 \" style=\"fill: none; fill-opacity:0; stroke-width: 2; stroke: #1e90ff\"/>\n",
       "  </g>\n",
       "  <g>\n",
       "    <path d=\"M 739.298,265.158 A 20.5061,20.5061 0 0 0 720,250\" style=\"fill: none; fill-opacity:0; stroke-width: 2; stroke: #1e90ff\"/>\n",
       "    <polygon points=\"737.879,265.05 739.976,269 741.877,264.953 \" style=\"fill: #1e90ff\"/>\n",
       "    <polygon points=\"737.879,265.05 739.976,269 741.877,264.953 \" style=\"fill: none; fill-opacity:0; stroke-width: 2; stroke: #1e90ff\"/>\n",
       "  </g>\n",
       "  <g>\n",
       "    <line style=\"fill: none; fill-opacity:0; stroke-width: 2; stroke: #000000\" x1=\"600\" x2=\"630.264\" y1=\"340\" y2=\"340\"/>\n",
       "    <polygon points=\"637.764,340 627.764,345 630.264,340 627.764,335 \" style=\"fill: #000000\"/>\n",
       "    <polygon points=\"637.764,340 627.764,345 630.264,340 627.764,335 \" style=\"fill: none; fill-opacity:0; stroke-width: 2; stroke: #000000\"/>\n",
       "  </g>\n",
       "  <line style=\"fill: none; fill-opacity:0; stroke-width: 2; stroke: #000000\" x1=\"780\" x2=\"780\" y1=\"290\" y2=\"310\"/>\n",
       "  <text font-size=\"12.7998\" style=\"fill: #000000;text-anchor:middle;font-family:sans-serif;font-style:normal;font-weight:normal\" x=\"700\" y=\"216.882\">\n",
       "    <tspan x=\"700\" y=\"216.882\">Vapor</tspan>\n",
       "    <tspan x=\"700\" y=\"232.882\">absorber</tspan>\n",
       "  </text>\n",
       "</svg>"
      ],
      "text/plain": [
       "<IPython.core.display.SVG object>"
      ]
     },
     "metadata": {},
     "output_type": "display_data"
    }
   ],
   "source": [
    "from IPython.display import HTML, SVG\n",
    "filename='../img/Diagram_for_LIBR_update7.svg'\n",
    "img = SVG(filename=filename)\n",
    "display(img)"
   ]
  },
  {
   "cell_type": "code",
   "execution_count": 41,
   "metadata": {
    "collapsed": true
   },
   "outputs": [],
   "source": [
    "import xml.etree.ElementTree as ET\n",
    "et = ET.parse(filename)"
   ]
  },
  {
   "cell_type": "code",
   "execution_count": 42,
   "metadata": {
    "collapsed": true
   },
   "outputs": [],
   "source": [
    "root = et.getroot()\n",
    "for e in root.iterfind('{http://www.w3.org/2000/svg}:text'):\n",
    "    for c in e.getchildren():\n",
    "        display(c)\n",
    "        if c.text == '1':\n",
    "            c.text = 'new text'\n",
    "# In progress ... this doesn't work well here\n",
    "#display(ET.tostring(root))\n",
    "#display(SVG(data=ET.tostring(root)))\n"
   ]
  },
  {
   "cell_type": "markdown",
   "metadata": {
    "slideshow": {
     "slide_type": "subslide"
    }
   },
   "source": [
    "We can see first a table of all the state points."
   ]
  },
  {
   "cell_type": "code",
   "execution_count": 52,
   "metadata": {
    "slideshow": {
     "slide_type": "subslide"
    }
   },
   "outputs": [
    {
     "data": {
      "text/html": [
       "<table>\n",
       "<thead>\n",
       "<tr><th>                         </th><th style=\"text-align: right;\">      T</th><th style=\"text-align: right;\">       P</th><th style=\"text-align: right;\">       x</th><th style=\"text-align: right;\">        h</th><th style=\"text-align: right;\">       s</th><th style=\"text-align: right;\">        u</th><th style=\"text-align: right;\">         v</th><th style=\"text-align: right;\">          Qu</th></tr>\n",
       "</thead>\n",
       "<tbody>\n",
       "<tr><td>rich_abs_outlet          </td><td style=\"text-align: right;\">310.249</td><td style=\"text-align: right;\"> 4.87444</td><td style=\"text-align: right;\">0.512028</td><td style=\"text-align: right;\"> -73.1846</td><td style=\"text-align: right;\">0.395262</td><td style=\"text-align: right;\"> -73.7844</td><td style=\"text-align: right;\">0.00123041</td><td style=\"text-align: right;\"> 0          </td></tr>\n",
       "<tr><td>rich_pump_outlet         </td><td style=\"text-align: right;\">310.413</td><td style=\"text-align: right;\">15.1396 </td><td style=\"text-align: right;\">0.512028</td><td style=\"text-align: right;\"> -71.6061</td><td style=\"text-align: right;\">0.396279</td><td style=\"text-align: right;\"> -73.4682</td><td style=\"text-align: right;\">0.00122993</td><td style=\"text-align: right;\">-0.001      </td></tr>\n",
       "<tr><td>rich_shx_outlet          </td><td style=\"text-align: right;\">345.852</td><td style=\"text-align: right;\">15.1396 </td><td style=\"text-align: right;\">0.512028</td><td style=\"text-align: right;\">  89.9885</td><td style=\"text-align: right;\">0.889071</td><td style=\"text-align: right;\">  88.0334</td><td style=\"text-align: right;\">0.00129135</td><td style=\"text-align: right;\">-0.001      </td></tr>\n",
       "<tr><td>rich_gen_sat_liquid      </td><td style=\"text-align: right;\">351.934</td><td style=\"text-align: right;\">15.1396 </td><td style=\"text-align: right;\">0.512028</td><td style=\"text-align: right;\"> 118.851 </td><td style=\"text-align: right;\">0.971915</td><td style=\"text-align: right;\"> 116.876 </td><td style=\"text-align: right;\">0.00130438</td><td style=\"text-align: right;\"> 0          </td></tr>\n",
       "<tr><td>weak_gen_outlet          </td><td style=\"text-align: right;\">374.14 </td><td style=\"text-align: right;\">15.1396 </td><td style=\"text-align: right;\">0.39475 </td><td style=\"text-align: right;\"> 225.935 </td><td style=\"text-align: right;\">1.26082 </td><td style=\"text-align: right;\"> 224.014 </td><td style=\"text-align: right;\">0.00126878</td><td style=\"text-align: right;\"> 0          </td></tr>\n",
       "<tr><td>weak_shx_outlet          </td><td style=\"text-align: right;\">329.938</td><td style=\"text-align: right;\">15.1396 </td><td style=\"text-align: right;\">0.39475 </td><td style=\"text-align: right;\">  25.493 </td><td style=\"text-align: right;\">0.691038</td><td style=\"text-align: right;\">  23.6904</td><td style=\"text-align: right;\">0.00119066</td><td style=\"text-align: right;\">-0.001      </td></tr>\n",
       "<tr><td>weak_exp_outlet          </td><td style=\"text-align: right;\">330.108</td><td style=\"text-align: right;\"> 4.87444</td><td style=\"text-align: right;\">0.39475 </td><td style=\"text-align: right;\">  25.493 </td><td style=\"text-align: right;\">0.694743</td><td style=\"text-align: right;\">  24.911 </td><td style=\"text-align: right;\">0.00119402</td><td style=\"text-align: right;\"> 7.84229e-06</td></tr>\n",
       "<tr><td>gen_vapor_outlet         </td><td style=\"text-align: right;\">351.934</td><td style=\"text-align: right;\">15.1396 </td><td style=\"text-align: right;\">0.988129</td><td style=\"text-align: right;\">1424.61  </td><td style=\"text-align: right;\">4.57475 </td><td style=\"text-align: right;\">1268.73  </td><td style=\"text-align: right;\">0.102962  </td><td style=\"text-align: right;\"> 1          </td></tr>\n",
       "<tr><td>gen_reflux_inlet         </td><td style=\"text-align: right;\">351.934</td><td style=\"text-align: right;\">15.1396 </td><td style=\"text-align: right;\">0.51188 </td><td style=\"text-align: right;\"> 118.42  </td><td style=\"text-align: right;\">0.970589</td><td style=\"text-align: right;\"> 116.445 </td><td style=\"text-align: right;\">0.00130462</td><td style=\"text-align: right;\"> 0          </td></tr>\n",
       "<tr><td>refrig_rect_outlet       </td><td style=\"text-align: right;\">313.695</td><td style=\"text-align: right;\">15.1396 </td><td style=\"text-align: right;\">0.999869</td><td style=\"text-align: right;\">1297.85  </td><td style=\"text-align: right;\">4.19504 </td><td style=\"text-align: right;\">1167.34  </td><td style=\"text-align: right;\">0.0862066 </td><td style=\"text-align: right;\"> 0.999598   </td></tr>\n",
       "<tr><td>refrig_cond_outlet       </td><td style=\"text-align: right;\">312.164</td><td style=\"text-align: right;\">15.1396 </td><td style=\"text-align: right;\">0.999869</td><td style=\"text-align: right;\"> 186.035 </td><td style=\"text-align: right;\">0.641824</td><td style=\"text-align: right;\"> 183.419 </td><td style=\"text-align: right;\">0.00172798</td><td style=\"text-align: right;\"> 0          </td></tr>\n",
       "<tr><td>refrig_cehx_liquid_outlet</td><td style=\"text-align: right;\">295.029</td><td style=\"text-align: right;\">15.1396 </td><td style=\"text-align: right;\">0.999869</td><td style=\"text-align: right;\"> 102.713 </td><td style=\"text-align: right;\">0.367562</td><td style=\"text-align: right;\"> 100.22  </td><td style=\"text-align: right;\">0.00164681</td><td style=\"text-align: right;\">-0.001      </td></tr>\n",
       "<tr><td>refrig_exp_outlet        </td><td style=\"text-align: right;\">276.591</td><td style=\"text-align: right;\"> 4.87444</td><td style=\"text-align: right;\">0.999869</td><td style=\"text-align: right;\"> 102.713 </td><td style=\"text-align: right;\">0.382108</td><td style=\"text-align: right;\">  93.3482</td><td style=\"text-align: right;\">0.0192126 </td><td style=\"text-align: right;\"> 0.069211   </td></tr>\n",
       "<tr><td>refrig_evap_outlet       </td><td style=\"text-align: right;\">277.977</td><td style=\"text-align: right;\"> 4.87444</td><td style=\"text-align: right;\">0.999869</td><td style=\"text-align: right;\">1273.03  </td><td style=\"text-align: right;\">4.59441 </td><td style=\"text-align: right;\">1147.43  </td><td style=\"text-align: right;\">0.257979  </td><td style=\"text-align: right;\"> 0.998      </td></tr>\n",
       "<tr><td>refrig_cehx_sat_vapor    </td><td style=\"text-align: right;\">283.49 </td><td style=\"text-align: right;\"> 4.87444</td><td style=\"text-align: right;\">0.999869</td><td style=\"text-align: right;\">1276.56  </td><td style=\"text-align: right;\">4.60629 </td><td style=\"text-align: right;\">1150.49  </td><td style=\"text-align: right;\">0.258638  </td><td style=\"text-align: right;\"> 1          </td></tr>\n",
       "<tr><td>refrig_cehx_vapor_outlet </td><td style=\"text-align: right;\">310.343</td><td style=\"text-align: right;\"> 4.87444</td><td style=\"text-align: right;\">0.999869</td><td style=\"text-align: right;\">1356.35  </td><td style=\"text-align: right;\">4.87695 </td><td style=\"text-align: right;\">1211.83  </td><td style=\"text-align: right;\">0.296502  </td><td style=\"text-align: right;\"> 1.001      </td></tr>\n",
       "<tr><td>rectifier_liquid         </td><td style=\"text-align: right;\">313.695</td><td style=\"text-align: right;\">15.1396 </td><td style=\"text-align: right;\">0.957859</td><td style=\"text-align: right;\"> 162.404 </td><td style=\"text-align: right;\">0.668534</td><td style=\"text-align: right;\"> 159.871 </td><td style=\"text-align: right;\">0.00167345</td><td style=\"text-align: right;\"> 0          </td></tr>\n",
       "<tr><td>gen_vapor_formation      </td><td style=\"text-align: right;\">374.14 </td><td style=\"text-align: right;\">15.1396 </td><td style=\"text-align: right;\">0.958501</td><td style=\"text-align: right;\">1515.65  </td><td style=\"text-align: right;\">4.8222  </td><td style=\"text-align: right;\">1347.4   </td><td style=\"text-align: right;\">0.111135  </td><td style=\"text-align: right;\"> 1          </td></tr>\n",
       "<tr><td>abs_vapor_final          </td><td style=\"text-align: right;\">330.108</td><td style=\"text-align: right;\"> 4.87444</td><td style=\"text-align: right;\">0.982609</td><td style=\"text-align: right;\">1422.49  </td><td style=\"text-align: right;\">5.08428 </td><td style=\"text-align: right;\">1267.55  </td><td style=\"text-align: right;\">0.317852  </td><td style=\"text-align: right;\"> 1          </td></tr>\n",
       "</tbody>\n",
       "</table>"
      ],
      "text/plain": [
       "                                 T         P         x          h         s          u           v            Qu\n",
       "-------------------------  -------  --------  --------  ---------  --------  ---------  ----------  ------------\n",
       "rich_abs_outlet            310.249   4.87444  0.512028   -73.1846  0.395262   -73.7844  0.00123041   0\n",
       "rich_pump_outlet           310.413  15.1396   0.512028   -71.6061  0.396279   -73.4682  0.00122993  -0.001\n",
       "rich_shx_outlet            345.852  15.1396   0.512028    89.9885  0.889071    88.0334  0.00129135  -0.001\n",
       "rich_gen_sat_liquid        351.934  15.1396   0.512028   118.851   0.971915   116.876   0.00130438   0\n",
       "weak_gen_outlet            374.14   15.1396   0.39475    225.935   1.26082    224.014   0.00126878   0\n",
       "weak_shx_outlet            329.938  15.1396   0.39475     25.493   0.691038    23.6904  0.00119066  -0.001\n",
       "weak_exp_outlet            330.108   4.87444  0.39475     25.493   0.694743    24.911   0.00119402   7.84229e-06\n",
       "gen_vapor_outlet           351.934  15.1396   0.988129  1424.61    4.57475   1268.73    0.102962     1\n",
       "gen_reflux_inlet           351.934  15.1396   0.51188    118.42    0.970589   116.445   0.00130462   0\n",
       "refrig_rect_outlet         313.695  15.1396   0.999869  1297.85    4.19504   1167.34    0.0862066    0.999598\n",
       "refrig_cond_outlet         312.164  15.1396   0.999869   186.035   0.641824   183.419   0.00172798   0\n",
       "refrig_cehx_liquid_outlet  295.029  15.1396   0.999869   102.713   0.367562   100.22    0.00164681  -0.001\n",
       "refrig_exp_outlet          276.591   4.87444  0.999869   102.713   0.382108    93.3482  0.0192126    0.069211\n",
       "refrig_evap_outlet         277.977   4.87444  0.999869  1273.03    4.59441   1147.43    0.257979     0.998\n",
       "refrig_cehx_sat_vapor      283.49    4.87444  0.999869  1276.56    4.60629   1150.49    0.258638     1\n",
       "refrig_cehx_vapor_outlet   310.343   4.87444  0.999869  1356.35    4.87695   1211.83    0.296502     1.001\n",
       "rectifier_liquid           313.695  15.1396   0.957859   162.404   0.668534   159.871   0.00167345   0\n",
       "gen_vapor_formation        374.14   15.1396   0.958501  1515.65    4.8222    1347.4     0.111135     1\n",
       "abs_vapor_final            330.108   4.87444  0.982609  1422.49    5.08428   1267.55    0.317852     1"
      ]
     },
     "metadata": {},
     "output_type": "display_data"
    }
   ],
   "source": [
    "display(ch.getStateTable())"
   ]
  },
  {
   "cell_type": "markdown",
   "metadata": {
    "slideshow": {
     "slide_type": "subslide"
    }
   },
   "source": [
    "We also get a table of the performance variables, such as heat flows (with a convention that positive indicates heat flowing into the chiller)."
   ]
  },
  {
   "cell_type": "markdown",
   "metadata": {
    "slideshow": {
     "slide_type": "subslide"
    }
   },
   "source": [
    "I'll also ask for some plots ..."
   ]
  },
  {
   "cell_type": "code",
   "execution_count": 54,
   "metadata": {
    "slideshow": {
     "slide_type": "fragment"
    }
   },
   "outputs": [
    {
     "name": "stderr",
     "output_type": "stream",
     "text": [
      "C:\\Users\\user1\\Miniconda3\\envs\\openachp\\lib\\site-packages\\scipy\\interpolate\\_cubic.py:147: RuntimeWarning: divide by zero encountered in true_divide\n",
      "  mk = (y[1:] - y[:-1]) / hk\n",
      "C:\\Users\\user1\\Miniconda3\\envs\\openachp\\lib\\site-packages\\scipy\\interpolate\\_cubic.py:165: RuntimeWarning: invalid value encountered in true_divide\n",
      "  whmean = (w1/mk[:-1] + w2/mk[1:]) / (w1 + w2)\n"
     ]
    },
    {
     "name": "stdout",
     "output_type": "stream",
     "text": [
      "====================Rectifier debug info====================\n",
      "vapor_inlet =  State(T=351.9344380231556, P=15.139624377424653, x=0.9881288434190637, h=1424.61045386996, s=4.574749842640767, u=1268.729121159115, v=0.10296248362891122, Qu=1.0)\n",
      "liquid_outliet =  State(T=351.9344380231556, P=15.139624377424653, x=0.5118797468777768, h=118.42029741010825, s=0.9705886173277942, u=116.44515361513855, v=0.0013046187578569727, Qu=0.0)\n",
      "m_net, x_net =  0.0993943080368 0.999869\n",
      "  x vapor    x liquid    T vapor    T liquid    h vapor    h liquid       q (kW)\n",
      "---------  ----------  ---------  ----------  ---------  ----------  -----------\n",
      " 0.999869    0.959099    313.652     313.652    1294.6     163.116   -16.1228\n",
      " 0.999629    0.880904    316.455     316.455    1297.34    119.032   -15.614\n",
      " 0.99939     0.819957    319.163     319.163    1299.67     89.6041  -15.2974\n",
      " 0.99915     0.775868    321.679     321.679    1301.61     73.4354  -15.0334\n",
      " 0.998911    0.742319    324.001     324.001    1303.25     64.8554  -14.8034\n",
      " 0.998671    0.732601    324.747     324.747    1326.41     63.043   -12.3955\n",
      " 0.998431    0.713404    326.324     326.324    1330.93     60.4086  -11.8746\n",
      " 0.998192    0.697338    327.752     327.752    1335.14     59.2061  -11.3862\n",
      " 0.997952    0.683572    329.057     329.057    1339.09     58.9284  -10.9251\n",
      " 0.997713    0.671559    330.258     330.258    1342.81     59.2682  -10.4873\n",
      " 0.997473    0.660922    331.371     331.371    1346.34     60.0305  -10.0694\n",
      " 0.997233    0.651391    332.409     332.409    1349.71     61.0871   -9.66897\n",
      " 0.996994    0.64277     333.38      333.38     1352.93     62.3504   -9.28379\n",
      " 0.996754    0.634902    334.293     334.293    1356.02     63.7605   -8.91217\n",
      " 0.996515    0.627673    335.155     335.155    1359        65.2739   -8.55261\n",
      " 0.996275    0.62099     335.971     335.971    1361.87     66.8595   -8.2039\n",
      " 0.996035    0.61478     336.747     336.747    1364.65     68.4943   -7.86498\n",
      " 0.995796    0.608982    337.486     337.486    1367.34     70.1615   -7.53496\n",
      " 0.995556    0.603547    338.191     338.191    1369.96     71.8484   -7.21304\n",
      " 0.995317    0.598432    338.867     338.867    1372.5      73.5454   -6.89855\n",
      " 0.995077    0.593603    339.514     339.514    1374.99     75.2452   -6.5909\n",
      " 0.994838    0.589031    340.137     340.137    1377.41     76.9423   -6.28954\n",
      " 0.994598    0.58469     340.735     340.735    1379.77     78.6326   -5.99404\n",
      " 0.994358    0.580558    341.313     341.313    1382.09     80.3129   -5.70394\n",
      " 0.994119    0.576617    341.87      341.87     1384.35     81.9809   -5.41889\n",
      " 0.993879    0.572849    342.409     342.409    1386.57     83.6347   -5.13854\n",
      " 0.99364     0.56924     342.931     342.931    1388.75     85.273    -4.86259\n",
      " 0.9934      0.565777    343.436     343.436    1390.9      86.8949   -4.59077\n",
      " 0.99316     0.56245     343.927     343.927    1393        88.4997   -4.32282\n",
      " 0.992921    0.559247    344.403     344.403    1395.07     90.0869   -4.05857\n",
      " 0.992681    0.55616     344.867     344.867    1397.11     91.6564   -3.7977\n",
      " 0.992442    0.55318     345.317     345.317    1399.11     93.2081   -3.54008\n",
      " 0.992202    0.550301    345.757     345.757    1401.09     94.7418   -3.28552\n",
      " 0.991962    0.547515    346.185     346.185    1403.04     96.2578   -3.03386\n",
      " 0.991723    0.544818    346.602     346.602    1404.96     97.7561   -2.78495\n",
      " 0.991483    0.542202    347.01      347.01     1406.86     99.237    -2.53866\n",
      " 0.991244    0.539663    347.408     347.408    1408.74    100.701    -2.29484\n",
      " 0.991004    0.537864    347.692     347.692    1405.16    101.754    -2.5992\n",
      " 0.990764    0.535469    348.072     348.072    1406.46    103.176    -2.41372\n",
      " 0.990525    0.533136    348.444     348.444    1407.74    104.584    -2.23069\n",
      " 0.990285    0.530861    348.809     348.809    1409       105.978    -2.04999\n",
      " 0.990046    0.528642    349.167     349.167    1410.24    107.358    -1.87152\n",
      " 0.989806    0.526475    349.518     349.518    1411.46    108.725    -1.69519\n",
      " 0.989566    0.524359    349.864     349.864    1412.66    110.078    -1.5209\n",
      " 0.989327    0.52229     350.203     350.203    1413.84    111.417    -1.34858\n",
      " 0.989087    0.519687    350.632     350.632    1419.65    113.128    -0.710317\n",
      " 0.988848    0.517705    350.96      350.96     1420.81    114.448    -0.540851\n",
      " 0.988608    0.515764    351.283     351.283    1421.95    115.757    -0.373105\n",
      " 0.988368    0.513863    351.601     351.601    1423.07    117.052    -0.207016\n",
      " 0.988129    0.512001    351.914     351.914    1424.18    118.336    -0.0425232\n"
     ]
    },
    {
     "ename": "ValueError",
     "evalue": "`x` must be strictly increasing or decreasing.",
     "output_type": "error",
     "traceback": [
      "\u001b[1;31m---------------------------------------------------------------------------\u001b[0m",
      "\u001b[1;31mValueError\u001b[0m                                Traceback (most recent call last)",
      "\u001b[1;32m~\\Documents\\GitHub\\openACHP\\src\\ammonia1.py\u001b[0m in \u001b[0;36mgetRectifierStream\u001b[1;34m(self)\u001b[0m\n\u001b[0;32m    859\u001b[0m             return AmmoniaRefluxStream(self.gen_vapor_outlet, self.m_gen_vapor,\n\u001b[1;32m--> 860\u001b[1;33m                                        self.gen_reflux_inlet, self.m_gen_reflux)\n\u001b[0m\u001b[0;32m    861\u001b[0m         \u001b[1;32mexcept\u001b[0m\u001b[1;33m:\u001b[0m\u001b[1;33m\u001b[0m\u001b[0m\n",
      "\u001b[1;32m~\\Documents\\GitHub\\openACHP\\src\\ammonia1.py\u001b[0m in \u001b[0;36m__init__\u001b[1;34m(self, vapor_inlet, m_inlet, liquid_outlet, m_reflux, debug)\u001b[0m\n\u001b[0;32m    331\u001b[0m         \u001b[0mself\u001b[0m\u001b[1;33m.\u001b[0m\u001b[0mq\u001b[0m \u001b[1;33m=\u001b[0m \u001b[0mscipy\u001b[0m\u001b[1;33m.\u001b[0m\u001b[0minterpolate\u001b[0m\u001b[1;33m.\u001b[0m\u001b[0mPchipInterpolator\u001b[0m\u001b[1;33m(\u001b[0m\u001b[0mT_points\u001b[0m\u001b[1;33m,\u001b[0m \u001b[0mq_points\u001b[0m\u001b[1;33m)\u001b[0m\u001b[1;33m\u001b[0m\u001b[0m\n\u001b[1;32m--> 332\u001b[1;33m         \u001b[0mself\u001b[0m\u001b[1;33m.\u001b[0m\u001b[0mT\u001b[0m \u001b[1;33m=\u001b[0m \u001b[0mscipy\u001b[0m\u001b[1;33m.\u001b[0m\u001b[0minterpolate\u001b[0m\u001b[1;33m.\u001b[0m\u001b[0mPchipInterpolator\u001b[0m\u001b[1;33m(\u001b[0m\u001b[0mq_points\u001b[0m\u001b[1;33m,\u001b[0m \u001b[0mT_points\u001b[0m\u001b[1;33m)\u001b[0m\u001b[1;33m\u001b[0m\u001b[0m\n\u001b[0m\u001b[0;32m    333\u001b[0m \u001b[1;33m\u001b[0m\u001b[0m\n",
      "\u001b[1;32m~\\Miniconda3\\envs\\openachp\\lib\\site-packages\\scipy\\interpolate\\_cubic.py\u001b[0m in \u001b[0;36m__init__\u001b[1;34m(self, x, y, axis, extrapolate)\u001b[0m\n\u001b[0;32m    102\u001b[0m \u001b[1;33m\u001b[0m\u001b[0m\n\u001b[1;32m--> 103\u001b[1;33m         \u001b[0m_b\u001b[0m \u001b[1;33m=\u001b[0m \u001b[0mBPoly\u001b[0m\u001b[1;33m.\u001b[0m\u001b[0mfrom_derivatives\u001b[0m\u001b[1;33m(\u001b[0m\u001b[0mx\u001b[0m\u001b[1;33m,\u001b[0m \u001b[0mdata\u001b[0m\u001b[1;33m,\u001b[0m \u001b[0morders\u001b[0m\u001b[1;33m=\u001b[0m\u001b[1;32mNone\u001b[0m\u001b[1;33m)\u001b[0m\u001b[1;33m\u001b[0m\u001b[0m\n\u001b[0m\u001b[0;32m    104\u001b[0m         super(PchipInterpolator, self).__init__(_b.c, _b.x,\n",
      "\u001b[1;32m~\\Miniconda3\\envs\\openachp\\lib\\site-packages\\scipy\\interpolate\\interpolate.py\u001b[0m in \u001b[0;36mfrom_derivatives\u001b[1;34m(cls, xi, yi, orders, extrapolate)\u001b[0m\n\u001b[0;32m   1688\u001b[0m         \u001b[0mc\u001b[0m \u001b[1;33m=\u001b[0m \u001b[0mnp\u001b[0m\u001b[1;33m.\u001b[0m\u001b[0masarray\u001b[0m\u001b[1;33m(\u001b[0m\u001b[0mc\u001b[0m\u001b[1;33m)\u001b[0m\u001b[1;33m\u001b[0m\u001b[0m\n\u001b[1;32m-> 1689\u001b[1;33m         \u001b[1;32mreturn\u001b[0m \u001b[0mcls\u001b[0m\u001b[1;33m(\u001b[0m\u001b[0mc\u001b[0m\u001b[1;33m.\u001b[0m\u001b[0mswapaxes\u001b[0m\u001b[1;33m(\u001b[0m\u001b[1;36m0\u001b[0m\u001b[1;33m,\u001b[0m \u001b[1;36m1\u001b[0m\u001b[1;33m)\u001b[0m\u001b[1;33m,\u001b[0m \u001b[0mxi\u001b[0m\u001b[1;33m,\u001b[0m \u001b[0mextrapolate\u001b[0m\u001b[1;33m)\u001b[0m\u001b[1;33m\u001b[0m\u001b[0m\n\u001b[0m\u001b[0;32m   1690\u001b[0m \u001b[1;33m\u001b[0m\u001b[0m\n",
      "\u001b[1;32m~\\Miniconda3\\envs\\openachp\\lib\\site-packages\\scipy\\interpolate\\interpolate.py\u001b[0m in \u001b[0;36m__init__\u001b[1;34m(self, c, x, extrapolate, axis)\u001b[0m\n\u001b[0;32m    689\u001b[0m         \u001b[1;32mif\u001b[0m \u001b[1;32mnot\u001b[0m \u001b[1;33m(\u001b[0m\u001b[0mnp\u001b[0m\u001b[1;33m.\u001b[0m\u001b[0mall\u001b[0m\u001b[1;33m(\u001b[0m\u001b[0mdx\u001b[0m \u001b[1;33m>=\u001b[0m \u001b[1;36m0\u001b[0m\u001b[1;33m)\u001b[0m \u001b[1;32mor\u001b[0m \u001b[0mnp\u001b[0m\u001b[1;33m.\u001b[0m\u001b[0mall\u001b[0m\u001b[1;33m(\u001b[0m\u001b[0mdx\u001b[0m \u001b[1;33m<=\u001b[0m \u001b[1;36m0\u001b[0m\u001b[1;33m)\u001b[0m\u001b[1;33m)\u001b[0m\u001b[1;33m:\u001b[0m\u001b[1;33m\u001b[0m\u001b[0m\n\u001b[1;32m--> 690\u001b[1;33m             \u001b[1;32mraise\u001b[0m \u001b[0mValueError\u001b[0m\u001b[1;33m(\u001b[0m\u001b[1;34m\"`x` must be strictly increasing or decreasing.\"\u001b[0m\u001b[1;33m)\u001b[0m\u001b[1;33m\u001b[0m\u001b[0m\n\u001b[0m\u001b[0;32m    691\u001b[0m \u001b[1;33m\u001b[0m\u001b[0m\n",
      "\u001b[1;31mValueError\u001b[0m: `x` must be strictly increasing or decreasing.",
      "\nDuring handling of the above exception, another exception occurred:\n",
      "\u001b[1;31mValueError\u001b[0m                                Traceback (most recent call last)",
      "\u001b[1;32m<ipython-input-54-e31c9cd19295>\u001b[0m in \u001b[0;36m<module>\u001b[1;34m()\u001b[0m\n\u001b[0;32m      1\u001b[0m \u001b[1;32mtry\u001b[0m\u001b[1;33m:\u001b[0m\u001b[1;33m\u001b[0m\u001b[0m\n\u001b[1;32m----> 2\u001b[1;33m     \u001b[0mch\u001b[0m\u001b[1;33m.\u001b[0m\u001b[0mdisplay\u001b[0m\u001b[1;33m(\u001b[0m\u001b[1;33m)\u001b[0m\u001b[1;33m\u001b[0m\u001b[0m\n\u001b[0m\u001b[0;32m      3\u001b[0m \u001b[1;32mexcept\u001b[0m \u001b[0mRuntimeWarning\u001b[0m \u001b[1;32mas\u001b[0m \u001b[0me\u001b[0m\u001b[1;33m:\u001b[0m\u001b[1;33m\u001b[0m\u001b[0m\n\u001b[0;32m      4\u001b[0m     \u001b[0mprint\u001b[0m\u001b[1;33m(\u001b[0m\u001b[0me\u001b[0m\u001b[1;33m)\u001b[0m\u001b[1;33m\u001b[0m\u001b[0m\n\u001b[0;32m      5\u001b[0m \u001b[0mplt\u001b[0m\u001b[1;33m.\u001b[0m\u001b[0mshow\u001b[0m\u001b[1;33m(\u001b[0m\u001b[1;33m)\u001b[0m\u001b[1;33m\u001b[0m\u001b[0m\n",
      "\u001b[1;32m~\\Documents\\GitHub\\openACHP\\src\\ammonia1.py\u001b[0m in \u001b[0;36mdisplay\u001b[1;34m(a)\u001b[0m\n\u001b[0;32m    904\u001b[0m                    \u001b[1;33m(\u001b[0m\u001b[0ma\u001b[0m\u001b[1;33m.\u001b[0m\u001b[0mrefrig_rect_outlet\u001b[0m\u001b[1;33m.\u001b[0m\u001b[0mT\u001b[0m\u001b[1;33m,\u001b[0m \u001b[0ma\u001b[0m\u001b[1;33m.\u001b[0m\u001b[0mrefrig_cond_outlet\u001b[0m\u001b[1;33m.\u001b[0m\u001b[0mT\u001b[0m\u001b[1;33m)\u001b[0m\u001b[1;33m,\u001b[0m\u001b[1;33m\u001b[0m\u001b[0m\n\u001b[0;32m    905\u001b[0m                    {\"label\":\"condenser\"})\n\u001b[1;32m--> 906\u001b[1;33m         \u001b[0mrect\u001b[0m \u001b[1;33m=\u001b[0m \u001b[0ma\u001b[0m\u001b[1;33m.\u001b[0m\u001b[0mgetRectifierStream\u001b[0m\u001b[1;33m(\u001b[0m\u001b[1;33m)\u001b[0m\u001b[1;33m\u001b[0m\u001b[0m\n\u001b[0m\u001b[0;32m    907\u001b[0m         plotStream(rect,\n\u001b[0;32m    908\u001b[0m                    \u001b[1;33m(\u001b[0m\u001b[1;36m1.05\u001b[0m \u001b[1;33m*\u001b[0m \u001b[0ma\u001b[0m\u001b[1;33m.\u001b[0m\u001b[0mQ_reflux\u001b[0m\u001b[1;33m,\u001b[0m \u001b[1;36m0\u001b[0m\u001b[1;33m)\u001b[0m\u001b[1;33m,\u001b[0m\u001b[1;33m\u001b[0m\u001b[0m\n",
      "\u001b[1;32m~\\Documents\\GitHub\\openACHP\\src\\ammonia1.py\u001b[0m in \u001b[0;36mgetRectifierStream\u001b[1;34m(self)\u001b[0m\n\u001b[0;32m    862\u001b[0m             return AmmoniaRefluxStream(self.gen_vapor_outlet, self.m_gen_vapor,\n\u001b[0;32m    863\u001b[0m                                        \u001b[0mself\u001b[0m\u001b[1;33m.\u001b[0m\u001b[0mgen_reflux_inlet\u001b[0m\u001b[1;33m,\u001b[0m \u001b[0mself\u001b[0m\u001b[1;33m.\u001b[0m\u001b[0mm_gen_reflux\u001b[0m\u001b[1;33m,\u001b[0m\u001b[1;33m\u001b[0m\u001b[0m\n\u001b[1;32m--> 864\u001b[1;33m                                        debug=True)\n\u001b[0m\u001b[0;32m    865\u001b[0m \u001b[1;33m\u001b[0m\u001b[0m\n\u001b[0;32m    866\u001b[0m     \u001b[1;32mdef\u001b[0m \u001b[0mgetSHX\u001b[0m\u001b[1;33m(\u001b[0m\u001b[0mself\u001b[0m\u001b[1;33m,\u001b[0m \u001b[1;33m**\u001b[0m\u001b[0mkwargs\u001b[0m\u001b[1;33m)\u001b[0m\u001b[1;33m:\u001b[0m\u001b[1;33m\u001b[0m\u001b[0m\n",
      "\u001b[1;32m~\\Documents\\GitHub\\openACHP\\src\\ammonia1.py\u001b[0m in \u001b[0;36m__init__\u001b[1;34m(self, vapor_inlet, m_inlet, liquid_outlet, m_reflux, debug)\u001b[0m\n\u001b[0;32m    330\u001b[0m \u001b[1;33m\u001b[0m\u001b[0m\n\u001b[0;32m    331\u001b[0m         \u001b[0mself\u001b[0m\u001b[1;33m.\u001b[0m\u001b[0mq\u001b[0m \u001b[1;33m=\u001b[0m \u001b[0mscipy\u001b[0m\u001b[1;33m.\u001b[0m\u001b[0minterpolate\u001b[0m\u001b[1;33m.\u001b[0m\u001b[0mPchipInterpolator\u001b[0m\u001b[1;33m(\u001b[0m\u001b[0mT_points\u001b[0m\u001b[1;33m,\u001b[0m \u001b[0mq_points\u001b[0m\u001b[1;33m)\u001b[0m\u001b[1;33m\u001b[0m\u001b[0m\n\u001b[1;32m--> 332\u001b[1;33m         \u001b[0mself\u001b[0m\u001b[1;33m.\u001b[0m\u001b[0mT\u001b[0m \u001b[1;33m=\u001b[0m \u001b[0mscipy\u001b[0m\u001b[1;33m.\u001b[0m\u001b[0minterpolate\u001b[0m\u001b[1;33m.\u001b[0m\u001b[0mPchipInterpolator\u001b[0m\u001b[1;33m(\u001b[0m\u001b[0mq_points\u001b[0m\u001b[1;33m,\u001b[0m \u001b[0mT_points\u001b[0m\u001b[1;33m)\u001b[0m\u001b[1;33m\u001b[0m\u001b[0m\n\u001b[0m\u001b[0;32m    333\u001b[0m \u001b[1;33m\u001b[0m\u001b[0m\n\u001b[0;32m    334\u001b[0m \u001b[1;33m\u001b[0m\u001b[0m\n",
      "\u001b[1;32m~\\Miniconda3\\envs\\openachp\\lib\\site-packages\\scipy\\interpolate\\_cubic.py\u001b[0m in \u001b[0;36m__init__\u001b[1;34m(self, x, y, axis, extrapolate)\u001b[0m\n\u001b[0;32m    101\u001b[0m         \u001b[0mdata\u001b[0m \u001b[1;33m=\u001b[0m \u001b[0mnp\u001b[0m\u001b[1;33m.\u001b[0m\u001b[0mhstack\u001b[0m\u001b[1;33m(\u001b[0m\u001b[1;33m(\u001b[0m\u001b[0myp\u001b[0m\u001b[1;33m[\u001b[0m\u001b[1;33m:\u001b[0m\u001b[1;33m,\u001b[0m \u001b[1;32mNone\u001b[0m\u001b[1;33m,\u001b[0m \u001b[1;33m...\u001b[0m\u001b[1;33m]\u001b[0m\u001b[1;33m,\u001b[0m \u001b[0mdk\u001b[0m\u001b[1;33m[\u001b[0m\u001b[1;33m:\u001b[0m\u001b[1;33m,\u001b[0m \u001b[1;32mNone\u001b[0m\u001b[1;33m,\u001b[0m \u001b[1;33m...\u001b[0m\u001b[1;33m]\u001b[0m\u001b[1;33m)\u001b[0m\u001b[1;33m)\u001b[0m\u001b[1;33m\u001b[0m\u001b[0m\n\u001b[0;32m    102\u001b[0m \u001b[1;33m\u001b[0m\u001b[0m\n\u001b[1;32m--> 103\u001b[1;33m         \u001b[0m_b\u001b[0m \u001b[1;33m=\u001b[0m \u001b[0mBPoly\u001b[0m\u001b[1;33m.\u001b[0m\u001b[0mfrom_derivatives\u001b[0m\u001b[1;33m(\u001b[0m\u001b[0mx\u001b[0m\u001b[1;33m,\u001b[0m \u001b[0mdata\u001b[0m\u001b[1;33m,\u001b[0m \u001b[0morders\u001b[0m\u001b[1;33m=\u001b[0m\u001b[1;32mNone\u001b[0m\u001b[1;33m)\u001b[0m\u001b[1;33m\u001b[0m\u001b[0m\n\u001b[0m\u001b[0;32m    104\u001b[0m         super(PchipInterpolator, self).__init__(_b.c, _b.x,\n\u001b[0;32m    105\u001b[0m                                                 extrapolate=extrapolate)\n",
      "\u001b[1;32m~\\Miniconda3\\envs\\openachp\\lib\\site-packages\\scipy\\interpolate\\interpolate.py\u001b[0m in \u001b[0;36mfrom_derivatives\u001b[1;34m(cls, xi, yi, orders, extrapolate)\u001b[0m\n\u001b[0;32m   1687\u001b[0m \u001b[1;33m\u001b[0m\u001b[0m\n\u001b[0;32m   1688\u001b[0m         \u001b[0mc\u001b[0m \u001b[1;33m=\u001b[0m \u001b[0mnp\u001b[0m\u001b[1;33m.\u001b[0m\u001b[0masarray\u001b[0m\u001b[1;33m(\u001b[0m\u001b[0mc\u001b[0m\u001b[1;33m)\u001b[0m\u001b[1;33m\u001b[0m\u001b[0m\n\u001b[1;32m-> 1689\u001b[1;33m         \u001b[1;32mreturn\u001b[0m \u001b[0mcls\u001b[0m\u001b[1;33m(\u001b[0m\u001b[0mc\u001b[0m\u001b[1;33m.\u001b[0m\u001b[0mswapaxes\u001b[0m\u001b[1;33m(\u001b[0m\u001b[1;36m0\u001b[0m\u001b[1;33m,\u001b[0m \u001b[1;36m1\u001b[0m\u001b[1;33m)\u001b[0m\u001b[1;33m,\u001b[0m \u001b[0mxi\u001b[0m\u001b[1;33m,\u001b[0m \u001b[0mextrapolate\u001b[0m\u001b[1;33m)\u001b[0m\u001b[1;33m\u001b[0m\u001b[0m\n\u001b[0m\u001b[0;32m   1690\u001b[0m \u001b[1;33m\u001b[0m\u001b[0m\n\u001b[0;32m   1691\u001b[0m     \u001b[1;33m@\u001b[0m\u001b[0mstaticmethod\u001b[0m\u001b[1;33m\u001b[0m\u001b[0m\n",
      "\u001b[1;32m~\\Miniconda3\\envs\\openachp\\lib\\site-packages\\scipy\\interpolate\\interpolate.py\u001b[0m in \u001b[0;36m__init__\u001b[1;34m(self, c, x, extrapolate, axis)\u001b[0m\n\u001b[0;32m    688\u001b[0m         \u001b[0mdx\u001b[0m \u001b[1;33m=\u001b[0m \u001b[0mnp\u001b[0m\u001b[1;33m.\u001b[0m\u001b[0mdiff\u001b[0m\u001b[1;33m(\u001b[0m\u001b[0mself\u001b[0m\u001b[1;33m.\u001b[0m\u001b[0mx\u001b[0m\u001b[1;33m)\u001b[0m\u001b[1;33m\u001b[0m\u001b[0m\n\u001b[0;32m    689\u001b[0m         \u001b[1;32mif\u001b[0m \u001b[1;32mnot\u001b[0m \u001b[1;33m(\u001b[0m\u001b[0mnp\u001b[0m\u001b[1;33m.\u001b[0m\u001b[0mall\u001b[0m\u001b[1;33m(\u001b[0m\u001b[0mdx\u001b[0m \u001b[1;33m>=\u001b[0m \u001b[1;36m0\u001b[0m\u001b[1;33m)\u001b[0m \u001b[1;32mor\u001b[0m \u001b[0mnp\u001b[0m\u001b[1;33m.\u001b[0m\u001b[0mall\u001b[0m\u001b[1;33m(\u001b[0m\u001b[0mdx\u001b[0m \u001b[1;33m<=\u001b[0m \u001b[1;36m0\u001b[0m\u001b[1;33m)\u001b[0m\u001b[1;33m)\u001b[0m\u001b[1;33m:\u001b[0m\u001b[1;33m\u001b[0m\u001b[0m\n\u001b[1;32m--> 690\u001b[1;33m             \u001b[1;32mraise\u001b[0m \u001b[0mValueError\u001b[0m\u001b[1;33m(\u001b[0m\u001b[1;34m\"`x` must be strictly increasing or decreasing.\"\u001b[0m\u001b[1;33m)\u001b[0m\u001b[1;33m\u001b[0m\u001b[0m\n\u001b[0m\u001b[0;32m    691\u001b[0m \u001b[1;33m\u001b[0m\u001b[0m\n\u001b[0;32m    692\u001b[0m         \u001b[0mdtype\u001b[0m \u001b[1;33m=\u001b[0m \u001b[0mself\u001b[0m\u001b[1;33m.\u001b[0m\u001b[0m_get_dtype\u001b[0m\u001b[1;33m(\u001b[0m\u001b[0mself\u001b[0m\u001b[1;33m.\u001b[0m\u001b[0mc\u001b[0m\u001b[1;33m.\u001b[0m\u001b[0mdtype\u001b[0m\u001b[1;33m)\u001b[0m\u001b[1;33m\u001b[0m\u001b[0m\n",
      "\u001b[1;31mValueError\u001b[0m: `x` must be strictly increasing or decreasing."
     ]
    }
   ],
   "source": [
    "try:\n",
    "    ch.display()\n",
    "except RuntimeWarning as e:\n",
    "    print(e)\n",
    "plt.show()"
   ]
  },
  {
   "cell_type": "markdown",
   "metadata": {
    "slideshow": {
     "slide_type": "subslide"
    }
   },
   "source": [
    "The first one shows heat vs temperature curves for each of the heat exchangers facing the external streams. Temperature is measured on the internal side of the heat exchanger. These curves are used to calculate heat exchanger size vs. total heat rate."
   ]
  },
  {
   "cell_type": "markdown",
   "metadata": {
    "slideshow": {
     "slide_type": "subslide"
    }
   },
   "source": [
    "The other two show some heat exchangers that are entirely internal, ie not facing the external streams. These were specified with effectiveness, so I don't need to calculate anything. But we can see that the curves are not linear because specific heats are changing or phase change is occuring through the process."
   ]
  },
  {
   "cell_type": "markdown",
   "metadata": {
    "slideshow": {
     "slide_type": "slide"
    }
   },
   "source": [
    "## System\n",
    "Next I'll couple the boundary and chiller into a system object. I'll use it to evaluate the heat exchange parameters:"
   ]
  },
  {
   "cell_type": "code",
   "execution_count": 70,
   "metadata": {
    "slideshow": {
     "slide_type": "subslide"
    }
   },
   "outputs": [
    {
     "name": "stderr",
     "output_type": "stream",
     "text": [
      "C:\\Users\\nfette\\Miniconda3\\envs\\openACHP\\lib\\site-packages\\scipy\\interpolate\\_cubic.py:147: RuntimeWarning: divide by zero encountered in true_divide\n",
      "  mk = (y[1:] - y[:-1]) / hk\n",
      "C:\\Users\\nfette\\Miniconda3\\envs\\openACHP\\lib\\site-packages\\scipy\\interpolate\\_cubic.py:165: RuntimeWarning: invalid value encountered in true_divide\n",
      "  whmean = (w1/mk[:-1] + w2/mk[1:]) / (w1 + w2)\n"
     ]
    },
    {
     "data": {
      "text/html": [
       "<table>\n",
       "<thead>\n",
       "<tr><th>name  </th><th style=\"text-align: right;\">  deltaT</th><th style=\"text-align: right;\">  epsilon</th><th style=\"text-align: right;\">       UA</th><th style=\"text-align: right;\">       Q</th></tr>\n",
       "</thead>\n",
       "<tbody>\n",
       "<tr><td>gen   </td><td style=\"text-align: right;\"> 5.60995</td><td style=\"text-align: right;\"> 0.891216</td><td style=\"text-align: right;\"> 14.9063 </td><td style=\"text-align: right;\">192.048 </td></tr>\n",
       "<tr><td>rect  </td><td style=\"text-align: right;\"> 8.66502</td><td style=\"text-align: right;\"> 0.799757</td><td style=\"text-align: right;\">  1.04183</td><td style=\"text-align: right;\"> 15.7864</td></tr>\n",
       "<tr><td>abs   </td><td style=\"text-align: right;\"> 5.25365</td><td style=\"text-align: right;\"> 0.735388</td><td style=\"text-align: right;\"> 27.2915 </td><td style=\"text-align: right;\">182.886 </td></tr>\n",
       "<tr><td>cond  </td><td style=\"text-align: right;\"> 2.20854</td><td style=\"text-align: right;\"> 0.967334</td><td style=\"text-align: right;\"> 27.3363 </td><td style=\"text-align: right;\">110.508 </td></tr>\n",
       "<tr><td>evap  </td><td style=\"text-align: right;\"> 1.45034</td><td style=\"text-align: right;\"> 0.982521</td><td style=\"text-align: right;\"> 29.4333 </td><td style=\"text-align: right;\">116.323 </td></tr>\n",
       "<tr><td>total </td><td style=\"text-align: right;\"> 0      </td><td style=\"text-align: right;\"> 0       </td><td style=\"text-align: right;\">100.009  </td><td style=\"text-align: right;\">  0     </td></tr>\n",
       "</tbody>\n",
       "</table>"
      ],
      "text/plain": [
       "name      deltaT    epsilon        UA         Q\n",
       "------  --------  ---------  --------  --------\n",
       "gen      5.60995   0.891216  14.9063   192.048\n",
       "rect     8.66502   0.799757   1.04183   15.7864\n",
       "abs      5.25365   0.735388  27.2915   182.886\n",
       "cond     2.20854   0.967334  27.3363   110.508\n",
       "evap     1.45034   0.982521  29.4333   116.323\n",
       "totalUA = 100.00919302098899"
      ]
     },
     "metadata": {},
     "output_type": "display_data"
    }
   ],
   "source": [
    "sys = system_aqua1.System(boundary=bdry, chiller=ch)\n",
    "display(sys)"
   ]
  },
  {
   "cell_type": "markdown",
   "metadata": {
    "slideshow": {
     "slide_type": "fragment"
    }
   },
   "source": [
    "- deltaT is the temperature difference at the pinch point.\n",
    "- epsilon is the effectiveness\n",
    "- UA is the heat exchanger overall heat transfer coefficient\n",
    "- Q is the heat flow through the exchanger. In this setup, it is determined by the chiller specification."
   ]
  },
  {
   "cell_type": "markdown",
   "metadata": {
    "slideshow": {
     "slide_type": "slide"
    }
   },
   "source": [
    "## Interact\n",
    "Okay, the next thing I want to do is show how we can interact with the model and manually adjust the specification. Jupyter has some useful widgets, but I had to get the ipywidgets package from different conda channel (conda-forge) to get a version compatible with the notebook extensions module (then enable it on command line)."
   ]
  },
  {
   "cell_type": "code",
   "execution_count": 56,
   "metadata": {
    "slideshow": {
     "slide_type": "subslide"
    }
   },
   "outputs": [
    {
     "name": "stdout",
     "output_type": "stream",
     "text": [
      "widgets.__version__ =  7.0.0\n",
      "widgetsnbextension.__version__ =  3.0.2\n",
      "Please check that you have compatible versions before proceeding.\n"
     ]
    }
   ],
   "source": [
    "import ipywidgets as widgets\n",
    "print(\"widgets.__version__ = \",widgets.__version__)\n",
    "import widgetsnbextension\n",
    "print(\"widgetsnbextension.__version__ = \",widgetsnbextension.__version__)\n",
    "print(\"Please check that you have compatible versions before proceeding.\")"
   ]
  },
  {
   "cell_type": "markdown",
   "metadata": {
    "slideshow": {
     "slide_type": "subslide"
    }
   },
   "source": [
    "This cell sets up the widgets ..."
   ]
  },
  {
   "cell_type": "code",
   "execution_count": 107,
   "metadata": {
    "collapsed": true,
    "slideshow": {
     "slide_type": "fragment"
    }
   },
   "outputs": [],
   "source": [
    "%matplotlib inline\n",
    "import ipywidgets as widgets\n",
    "from ipywidgets import interact, interactive, fixed, interact_manual\n",
    "\n",
    "\n",
    "common_opts = dict(\n",
    "    disabled=False,\n",
    "    continuous_update=False,\n",
    "    orientation='horizontal',\n",
    "    readout=True\n",
    ")\n",
    "w_m_rich = widgets.FloatSlider(\n",
    "    value=0.5,\n",
    "    min=0.1,\n",
    "    max=2.0,\n",
    "    step=0.05,\n",
    "    description='m_rich',\n",
    "    readout_format='.2f',\n",
    "    **common_opts\n",
    ")\n",
    "w_T_evap = widgets.FloatSlider(\n",
    "    value=278.0,\n",
    "    min=275.0,\n",
    "    max=285.0,\n",
    "    step=0.1,\n",
    "    description='T_evap',\n",
    "    readout_format='.1f',\n",
    "    **common_opts\n",
    ")\n",
    "w_T_cond = widgets.FloatSlider(\n",
    "    value= 312.2,\n",
    "    min=290,\n",
    "    max=330,\n",
    "    step=0.1,\n",
    "    description='T_cond',\n",
    "    readout_format='.1f',\n",
    "    **common_opts\n",
    ")\n",
    "w_T_rect = widgets.FloatSlider(\n",
    "    value=313.7,\n",
    "    min=290.0,\n",
    "    max=330.0,\n",
    "    step=0.1,\n",
    "    description='T_rect',\n",
    "    readout_format='.1f',\n",
    "    **common_opts\n",
    ")\n",
    "w_T_abs_outlet = widgets.FloatSlider(\n",
    "    value=310.2,\n",
    "    min=290.0,\n",
    "    max=330.0,\n",
    "    step=0.1,\n",
    "    description='T_abs_outlet',\n",
    "    readout_format='.1f',\n",
    "    **common_opts\n",
    ")\n",
    "w_T_gen_outlet = widgets.FloatSlider(\n",
    "    value=374.1,\n",
    "    min=360.0,\n",
    "    max=400.0,\n",
    "    step=0.1,\n",
    "    description='T_gen_outlet',\n",
    "    readout_format='.1f',\n",
    "    **common_opts\n",
    ")"
   ]
  },
  {
   "cell_type": "markdown",
   "metadata": {
    "slideshow": {
     "slide_type": "subslide"
    }
   },
   "source": [
    "And this cell launches the interaction handler..."
   ]
  },
  {
   "cell_type": "code",
   "execution_count": 108,
   "metadata": {
    "slideshow": {
     "slide_type": "fragment"
    }
   },
   "outputs": [
    {
     "data": {
      "application/vnd.jupyter.widget-view+json": {
       "model_id": "a2096d81df66435983934f72a891f79c",
       "version_major": 2,
       "version_minor": 0
      },
      "text/plain": [
       "A Jupyter Widget"
      ]
     },
     "metadata": {},
     "output_type": "display_data"
    }
   ],
   "source": [
    "modes = ['chiller glob','chiller state points','chiller performance','chiller plots','system text']\n",
    "def f(m_rich, T_evap, T_cond, T_rect, T_abs_outlet, T_gen_outlet, mode='system text'):\n",
    "    xC = (m_rich, T_evap, T_cond, T_rect, T_abs_outlet, T_gen_outlet)\n",
    "    ch = system_aqua1.makeChiller(xC)\n",
    "    if mode == modes[0]:\n",
    "        display(ch)\n",
    "    elif mode == modes[1]:\n",
    "        display(ch.getStateTable())\n",
    "    elif mode == modes[2]:\n",
    "        display(ch.getVariablesTable())\n",
    "    elif mode == modes[3]:\n",
    "        ch.display()\n",
    "        plt.plot()\n",
    "    elif mode == modes[4]:\n",
    "        sys = system_aqua1.System(boundary=bdry, chiller=ch)\n",
    "        display(sys)\n",
    "        \n",
    "#widgets.VBox(w_m_rich,w_T_evap,w_T_cond,w_T_rect,w_T_abs_outlet,w_T_gen_outlet)\n",
    "interactive(f,\n",
    "            m_rich=w_m_rich,\n",
    "            T_evap=w_T_evap,\n",
    "            T_cond=w_T_cond,\n",
    "            T_rect=w_T_rect,\n",
    "            T_abs_outlet=w_T_abs_outlet,\n",
    "            T_gen_outlet=w_T_gen_outlet,\n",
    "            mode=modes)"
   ]
  },
  {
   "cell_type": "markdown",
   "metadata": {
    "slideshow": {
     "slide_type": "subslide"
    }
   },
   "source": [
    "Now I can play with the inputs and see how the system responds ..."
   ]
  },
  {
   "cell_type": "markdown",
   "metadata": {},
   "source": [
    "We could implement this as a web app not requiring the Jupyter Notebook, but at the moment the code is designed to run on server-side Python, so there would be some hosting cost for a reasonable amount of CPU time, or we would need our own server."
   ]
  },
  {
   "cell_type": "markdown",
   "metadata": {
    "slideshow": {
     "slide_type": "slide"
    }
   },
   "source": [
    "## That's it!"
   ]
  },
  {
   "cell_type": "code",
   "execution_count": 31,
   "metadata": {},
   "outputs": [],
   "source": [
    "%autoreload"
   ]
  },
  {
   "cell_type": "code",
   "execution_count": 51,
   "metadata": {},
   "outputs": [
    {
     "data": {
      "text/plain": [
       "False"
      ]
     },
     "execution_count": 51,
     "metadata": {},
     "output_type": "execute_result"
    }
   ],
   "source": [
    "a = []\n",
    "bool(a)"
   ]
  },
  {
   "cell_type": "code",
   "execution_count": null,
   "metadata": {
    "collapsed": true
   },
   "outputs": [],
   "source": []
  }
 ],
 "metadata": {
  "celltoolbar": "Slideshow",
  "kernelspec": {
   "display_name": "Python 3",
   "language": "python",
   "name": "python3"
  },
  "language_info": {
   "codemirror_mode": {
    "name": "ipython",
    "version": 3
   },
   "file_extension": ".py",
   "mimetype": "text/x-python",
   "name": "python",
   "nbconvert_exporter": "python",
   "pygments_lexer": "ipython3",
   "version": "3.6.2"
  }
 },
 "nbformat": 4,
 "nbformat_minor": 2
}
