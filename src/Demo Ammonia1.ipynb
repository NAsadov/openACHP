{
 "cells": [
  {
   "cell_type": "code",
   "execution_count": 4,
   "metadata": {
    "slideshow": {
     "slide_type": "skip"
    }
   },
   "outputs": [],
   "source": [
    "%load_ext autoreload\n",
    "%autoreload 2"
   ]
  },
  {
   "cell_type": "markdown",
   "metadata": {
    "slideshow": {
     "slide_type": "slide"
    }
   },
   "source": [
    "# How to use ammonia-aqua system model from openACHP"
   ]
  },
  {
   "cell_type": "markdown",
   "metadata": {
    "slideshow": {
     "slide_type": "subslide"
    }
   },
   "source": [
    "To start, I'll import the modules I need ..."
   ]
  },
  {
   "cell_type": "code",
   "execution_count": 5,
   "metadata": {
    "collapsed": true,
    "slideshow": {
     "slide_type": "fragment"
    }
   },
   "outputs": [],
   "source": [
    "import ammonia1\n",
    "import system_aqua1\n",
    "import numpy as np\n",
    "import matplotlib.pyplot as plt"
   ]
  },
  {
   "cell_type": "markdown",
   "metadata": {
    "slideshow": {
     "slide_type": "slide"
    }
   },
   "source": [
    "## Boundary\n",
    "Now I can create what I call a boundary for the chiller, in other words the specification of available resources, such as flow streams for bringing in or rejecting heat. I'll need that to evaluate heat exchangers later."
   ]
  },
  {
   "cell_type": "code",
   "execution_count": 6,
   "metadata": {
    "slideshow": {
     "slide_type": "subslide"
    }
   },
   "outputs": [
    {
     "data": {
      "text/html": [
       "<table>\n",
       "<thead>\n",
       "<tr><th>stream         </th><th style=\"text-align: right;\">  T_inlet</th><th style=\"text-align: right;\">  mdot</th><th style=\"text-align: right;\">   cp</th></tr>\n",
       "</thead>\n",
       "<tbody>\n",
       "<tr><td>heat           </td><td style=\"text-align: right;\">      400</td><td style=\"text-align: right;\">  1   </td><td style=\"text-align: right;\">4.179</td></tr>\n",
       "<tr><td>absorberReject </td><td style=\"text-align: right;\">      305</td><td style=\"text-align: right;\">  3   </td><td style=\"text-align: right;\">4.179</td></tr>\n",
       "<tr><td>condReject     </td><td style=\"text-align: right;\">      305</td><td style=\"text-align: right;\">  5   </td><td style=\"text-align: right;\">4.179</td></tr>\n",
       "<tr><td>cold           </td><td style=\"text-align: right;\">      285</td><td style=\"text-align: right;\">  4   </td><td style=\"text-align: right;\">4.179</td></tr>\n",
       "<tr><td>rectifierReject</td><td style=\"text-align: right;\">      305</td><td style=\"text-align: right;\">  0.15</td><td style=\"text-align: right;\">4.179</td></tr>\n",
       "</tbody>\n",
       "</table>"
      ],
      "text/plain": [
       "stream             T_inlet    mdot     cp\n",
       "---------------  ---------  ------  -----\n",
       "heat                   400    1     4.179\n",
       "absorberReject         305    3     4.179\n",
       "condReject             305    5     4.179\n",
       "cold                   285    4     4.179\n",
       "rectifierReject        305    0.15  4.179"
      ]
     },
     "execution_count": 6,
     "metadata": {},
     "output_type": "execute_result"
    }
   ],
   "source": [
    "T_heat_reject = 305.\n",
    "U = 100\n",
    "xB = [400, 1, T_heat_reject, 3, T_heat_reject, 5, 285, 4, T_heat_reject, 0.15]\n",
    "bdry = system_aqua1.makeBoundary(xB)\n",
    "bdry"
   ]
  },
  {
   "cell_type": "markdown",
   "metadata": {
    "slideshow": {
     "slide_type": "fragment"
    }
   },
   "source": [
    "In the output, we can see each of the flow streams defined where it goes into the chiller."
   ]
  },
  {
   "cell_type": "markdown",
   "metadata": {
    "slideshow": {
     "slide_type": "slide"
    }
   },
   "source": [
    "## Chiller\n",
    "Now I'll specify and create a chiller. This is an output from one of my optimization runs, so it is supposed to be the \"best\" chiller with a total heat exchange inventory of 100 kW/K. The specification I've chosen is based on temperatures at a few key points, which allows me to solve the model procedurally, without an iterative solver."
   ]
  },
  {
   "cell_type": "code",
   "execution_count": 7,
   "metadata": {
    "slideshow": {
     "slide_type": "subslide"
    }
   },
   "outputs": [
    {
     "data": {
      "text/html": [
       "<h3>State points</h3>\n",
       "        <table>\n",
       "<thead>\n",
       "<tr><th>                         </th><th style=\"text-align: right;\">      T</th><th style=\"text-align: right;\">       P</th><th style=\"text-align: right;\">       x</th><th style=\"text-align: right;\">        h</th><th style=\"text-align: right;\">       s</th><th style=\"text-align: right;\">        u</th><th style=\"text-align: right;\">         v</th><th style=\"text-align: right;\">          Qu</th></tr>\n",
       "</thead>\n",
       "<tbody>\n",
       "<tr><td>rich_abs_outlet          </td><td style=\"text-align: right;\">310.249</td><td style=\"text-align: right;\"> 4.87444</td><td style=\"text-align: right;\">0.512028</td><td style=\"text-align: right;\"> -73.1846</td><td style=\"text-align: right;\">0.395262</td><td style=\"text-align: right;\"> -73.7844</td><td style=\"text-align: right;\">0.00123041</td><td style=\"text-align: right;\"> 0          </td></tr>\n",
       "<tr><td>rich_pump_outlet         </td><td style=\"text-align: right;\">310.413</td><td style=\"text-align: right;\">15.1396 </td><td style=\"text-align: right;\">0.512028</td><td style=\"text-align: right;\"> -71.6061</td><td style=\"text-align: right;\">0.396279</td><td style=\"text-align: right;\"> -73.4682</td><td style=\"text-align: right;\">0.00122993</td><td style=\"text-align: right;\">-0.001      </td></tr>\n",
       "<tr><td>rich_shx_outlet          </td><td style=\"text-align: right;\">345.852</td><td style=\"text-align: right;\">15.1396 </td><td style=\"text-align: right;\">0.512028</td><td style=\"text-align: right;\">  89.9885</td><td style=\"text-align: right;\">0.889071</td><td style=\"text-align: right;\">  88.0334</td><td style=\"text-align: right;\">0.00129135</td><td style=\"text-align: right;\">-0.001      </td></tr>\n",
       "<tr><td>rich_gen_sat_liquid      </td><td style=\"text-align: right;\">351.934</td><td style=\"text-align: right;\">15.1396 </td><td style=\"text-align: right;\">0.512028</td><td style=\"text-align: right;\"> 118.851 </td><td style=\"text-align: right;\">0.971915</td><td style=\"text-align: right;\"> 116.876 </td><td style=\"text-align: right;\">0.00130438</td><td style=\"text-align: right;\"> 0          </td></tr>\n",
       "<tr><td>weak_gen_outlet          </td><td style=\"text-align: right;\">374.14 </td><td style=\"text-align: right;\">15.1396 </td><td style=\"text-align: right;\">0.39475 </td><td style=\"text-align: right;\"> 225.935 </td><td style=\"text-align: right;\">1.26082 </td><td style=\"text-align: right;\"> 224.014 </td><td style=\"text-align: right;\">0.00126878</td><td style=\"text-align: right;\"> 0          </td></tr>\n",
       "<tr><td>weak_shx_outlet          </td><td style=\"text-align: right;\">329.938</td><td style=\"text-align: right;\">15.1396 </td><td style=\"text-align: right;\">0.39475 </td><td style=\"text-align: right;\">  25.493 </td><td style=\"text-align: right;\">0.691038</td><td style=\"text-align: right;\">  23.6904</td><td style=\"text-align: right;\">0.00119066</td><td style=\"text-align: right;\">-0.001      </td></tr>\n",
       "<tr><td>weak_exp_outlet          </td><td style=\"text-align: right;\">330.108</td><td style=\"text-align: right;\"> 4.87444</td><td style=\"text-align: right;\">0.39475 </td><td style=\"text-align: right;\">  25.493 </td><td style=\"text-align: right;\">0.694743</td><td style=\"text-align: right;\">  24.911 </td><td style=\"text-align: right;\">0.00119402</td><td style=\"text-align: right;\"> 7.84229e-06</td></tr>\n",
       "<tr><td>gen_vapor_outlet         </td><td style=\"text-align: right;\">351.934</td><td style=\"text-align: right;\">15.1396 </td><td style=\"text-align: right;\">0.988129</td><td style=\"text-align: right;\">1424.61  </td><td style=\"text-align: right;\">4.57475 </td><td style=\"text-align: right;\">1268.73  </td><td style=\"text-align: right;\">0.102962  </td><td style=\"text-align: right;\"> 1          </td></tr>\n",
       "<tr><td>gen_reflux_inlet         </td><td style=\"text-align: right;\">351.934</td><td style=\"text-align: right;\">15.1396 </td><td style=\"text-align: right;\">0.51188 </td><td style=\"text-align: right;\"> 118.42  </td><td style=\"text-align: right;\">0.970589</td><td style=\"text-align: right;\"> 116.445 </td><td style=\"text-align: right;\">0.00130462</td><td style=\"text-align: right;\"> 0          </td></tr>\n",
       "<tr><td>refrig_rect_outlet       </td><td style=\"text-align: right;\">313.695</td><td style=\"text-align: right;\">15.1396 </td><td style=\"text-align: right;\">0.999869</td><td style=\"text-align: right;\">1297.85  </td><td style=\"text-align: right;\">4.19504 </td><td style=\"text-align: right;\">1167.34  </td><td style=\"text-align: right;\">0.0862066 </td><td style=\"text-align: right;\"> 0.999598   </td></tr>\n",
       "<tr><td>refrig_cond_outlet       </td><td style=\"text-align: right;\">312.164</td><td style=\"text-align: right;\">15.1396 </td><td style=\"text-align: right;\">0.999869</td><td style=\"text-align: right;\"> 186.035 </td><td style=\"text-align: right;\">0.641824</td><td style=\"text-align: right;\"> 183.419 </td><td style=\"text-align: right;\">0.00172798</td><td style=\"text-align: right;\"> 0          </td></tr>\n",
       "<tr><td>refrig_cehx_liquid_outlet</td><td style=\"text-align: right;\">295.029</td><td style=\"text-align: right;\">15.1396 </td><td style=\"text-align: right;\">0.999869</td><td style=\"text-align: right;\"> 102.713 </td><td style=\"text-align: right;\">0.367562</td><td style=\"text-align: right;\"> 100.22  </td><td style=\"text-align: right;\">0.00164681</td><td style=\"text-align: right;\">-0.001      </td></tr>\n",
       "<tr><td>refrig_exp_outlet        </td><td style=\"text-align: right;\">276.591</td><td style=\"text-align: right;\"> 4.87444</td><td style=\"text-align: right;\">0.999869</td><td style=\"text-align: right;\"> 102.713 </td><td style=\"text-align: right;\">0.382108</td><td style=\"text-align: right;\">  93.3482</td><td style=\"text-align: right;\">0.0192126 </td><td style=\"text-align: right;\"> 0.069211   </td></tr>\n",
       "<tr><td>refrig_evap_outlet       </td><td style=\"text-align: right;\">277.977</td><td style=\"text-align: right;\"> 4.87444</td><td style=\"text-align: right;\">0.999869</td><td style=\"text-align: right;\">1273.03  </td><td style=\"text-align: right;\">4.59441 </td><td style=\"text-align: right;\">1147.43  </td><td style=\"text-align: right;\">0.257979  </td><td style=\"text-align: right;\"> 0.998      </td></tr>\n",
       "<tr><td>refrig_cehx_sat_vapor    </td><td style=\"text-align: right;\">283.49 </td><td style=\"text-align: right;\"> 4.87444</td><td style=\"text-align: right;\">0.999869</td><td style=\"text-align: right;\">1276.56  </td><td style=\"text-align: right;\">4.60629 </td><td style=\"text-align: right;\">1150.49  </td><td style=\"text-align: right;\">0.258638  </td><td style=\"text-align: right;\"> 1          </td></tr>\n",
       "<tr><td>refrig_cehx_vapor_outlet </td><td style=\"text-align: right;\">310.343</td><td style=\"text-align: right;\"> 4.87444</td><td style=\"text-align: right;\">0.999869</td><td style=\"text-align: right;\">1356.35  </td><td style=\"text-align: right;\">4.87695 </td><td style=\"text-align: right;\">1211.83  </td><td style=\"text-align: right;\">0.296502  </td><td style=\"text-align: right;\"> 1.001      </td></tr>\n",
       "<tr><td>rectifier_liquid         </td><td style=\"text-align: right;\">313.695</td><td style=\"text-align: right;\">15.1396 </td><td style=\"text-align: right;\">0.957859</td><td style=\"text-align: right;\"> 162.404 </td><td style=\"text-align: right;\">0.668534</td><td style=\"text-align: right;\"> 159.871 </td><td style=\"text-align: right;\">0.00167345</td><td style=\"text-align: right;\"> 0          </td></tr>\n",
       "<tr><td>gen_vapor_formation      </td><td style=\"text-align: right;\">374.14 </td><td style=\"text-align: right;\">15.1396 </td><td style=\"text-align: right;\">0.958501</td><td style=\"text-align: right;\">1515.65  </td><td style=\"text-align: right;\">4.8222  </td><td style=\"text-align: right;\">1347.4   </td><td style=\"text-align: right;\">0.111135  </td><td style=\"text-align: right;\"> 1          </td></tr>\n",
       "<tr><td>abs_vapor_final          </td><td style=\"text-align: right;\">330.108</td><td style=\"text-align: right;\"> 4.87444</td><td style=\"text-align: right;\">0.982609</td><td style=\"text-align: right;\">1422.49  </td><td style=\"text-align: right;\">5.08428 </td><td style=\"text-align: right;\">1267.55  </td><td style=\"text-align: right;\">0.317852  </td><td style=\"text-align: right;\"> 1          </td></tr>\n",
       "</tbody>\n",
       "</table>\n",
       "        <br/>\n",
       "        <h3>Performance variables</h3>\n",
       "        <table>\n",
       "<thead>\n",
       "<tr><th>name            </th><th>unit  </th><th style=\"text-align: right;\">         value</th></tr>\n",
       "</thead>\n",
       "<tbody>\n",
       "<tr><td>Q_abs           </td><td>kW    </td><td style=\"text-align: right;\">-182.886      </td></tr>\n",
       "<tr><td>Q_gen           </td><td>kW    </td><td style=\"text-align: right;\"> 192.062      </td></tr>\n",
       "<tr><td>Q_cond          </td><td>kW    </td><td style=\"text-align: right;\">-110.508      </td></tr>\n",
       "<tr><td>Q_evap          </td><td>kW    </td><td style=\"text-align: right;\"> 116.323      </td></tr>\n",
       "<tr><td>Q_reflux        </td><td>kW    </td><td style=\"text-align: right;\"> -15.7995     </td></tr>\n",
       "<tr><td>Q_shx           </td><td>kW    </td><td style=\"text-align: right;\">  82.873      </td></tr>\n",
       "<tr><td>Q_cehx          </td><td>kW    </td><td style=\"text-align: right;\">   8.28166    </td></tr>\n",
       "<tr><td>W_pump          </td><td>kW    </td><td style=\"text-align: right;\">   0.809528   </td></tr>\n",
       "<tr><td>COP             </td><td>kW/kW </td><td style=\"text-align: right;\">   0.605655   </td></tr>\n",
       "<tr><td>ZeroCheck       </td><td>kW    </td><td style=\"text-align: right;\">   1.97555e-05</td></tr>\n",
       "<tr><td>ZeroCheckSHX    </td><td>kW    </td><td style=\"text-align: right;\">   1.02529e-06</td></tr>\n",
       "<tr><td>ZeroCheckCEHX   </td><td>kW    </td><td style=\"text-align: right;\">  -2.07808e-05</td></tr>\n",
       "<tr><td>Q_gen_rect_combo</td><td>kW    </td><td style=\"text-align: right;\"> 176.262      </td></tr>\n",
       "<tr><td>Q_refrig_side   </td><td>kW    </td><td style=\"text-align: right;\">  -5.81476    </td></tr>\n",
       "<tr><td>ZeroCheckRect   </td><td>kg/s  </td><td style=\"text-align: right;\">   1.38778e-17</td></tr>\n",
       "<tr><td>m_rich          </td><td>kg/s  </td><td style=\"text-align: right;\">   0.512845   </td></tr>\n",
       "<tr><td>m_weak          </td><td>kg/s  </td><td style=\"text-align: right;\">   0.41345    </td></tr>\n",
       "<tr><td>m_gen_vapor     </td><td>kg/s  </td><td style=\"text-align: right;\">   0.101845   </td></tr>\n",
       "<tr><td>m_gen_reflux    </td><td>kg/s  </td><td style=\"text-align: right;\">   0.0024502  </td></tr>\n",
       "<tr><td>m_refrig        </td><td>kg/s  </td><td style=\"text-align: right;\">   0.0993943  </td></tr>\n",
       "</tbody>\n",
       "</table>\n",
       "        "
      ],
      "text/plain": [
       "                                 T         P         x          h         s          u           v            Qu\n",
       "-------------------------  -------  --------  --------  ---------  --------  ---------  ----------  ------------\n",
       "rich_abs_outlet            310.249   4.87444  0.512028   -73.1846  0.395262   -73.7844  0.00123041   0\n",
       "rich_pump_outlet           310.413  15.1396   0.512028   -71.6061  0.396279   -73.4682  0.00122993  -0.001\n",
       "rich_shx_outlet            345.852  15.1396   0.512028    89.9885  0.889071    88.0334  0.00129135  -0.001\n",
       "rich_gen_sat_liquid        351.934  15.1396   0.512028   118.851   0.971915   116.876   0.00130438   0\n",
       "weak_gen_outlet            374.14   15.1396   0.39475    225.935   1.26082    224.014   0.00126878   0\n",
       "weak_shx_outlet            329.938  15.1396   0.39475     25.493   0.691038    23.6904  0.00119066  -0.001\n",
       "weak_exp_outlet            330.108   4.87444  0.39475     25.493   0.694743    24.911   0.00119402   7.84229e-06\n",
       "gen_vapor_outlet           351.934  15.1396   0.988129  1424.61    4.57475   1268.73    0.102962     1\n",
       "gen_reflux_inlet           351.934  15.1396   0.51188    118.42    0.970589   116.445   0.00130462   0\n",
       "refrig_rect_outlet         313.695  15.1396   0.999869  1297.85    4.19504   1167.34    0.0862066    0.999598\n",
       "refrig_cond_outlet         312.164  15.1396   0.999869   186.035   0.641824   183.419   0.00172798   0\n",
       "refrig_cehx_liquid_outlet  295.029  15.1396   0.999869   102.713   0.367562   100.22    0.00164681  -0.001\n",
       "refrig_exp_outlet          276.591   4.87444  0.999869   102.713   0.382108    93.3482  0.0192126    0.069211\n",
       "refrig_evap_outlet         277.977   4.87444  0.999869  1273.03    4.59441   1147.43    0.257979     0.998\n",
       "refrig_cehx_sat_vapor      283.49    4.87444  0.999869  1276.56    4.60629   1150.49    0.258638     1\n",
       "refrig_cehx_vapor_outlet   310.343   4.87444  0.999869  1356.35    4.87695   1211.83    0.296502     1.001\n",
       "rectifier_liquid           313.695  15.1396   0.957859   162.404   0.668534   159.871   0.00167345   0\n",
       "gen_vapor_formation        374.14   15.1396   0.958501  1515.65    4.8222    1347.4     0.111135     1\n",
       "abs_vapor_final            330.108   4.87444  0.982609  1422.49    5.08428   1267.55    0.317852     1\n",
       "\n",
       "name              unit             value\n",
       "----------------  ------  --------------\n",
       "Q_abs             kW      -182.886\n",
       "Q_gen             kW       192.062\n",
       "Q_cond            kW      -110.508\n",
       "Q_evap            kW       116.323\n",
       "Q_reflux          kW       -15.7995\n",
       "Q_shx             kW        82.873\n",
       "Q_cehx            kW         8.28166\n",
       "W_pump            kW         0.809528\n",
       "COP               kW/kW      0.605655\n",
       "ZeroCheck         kW         1.97555e-05\n",
       "ZeroCheckSHX      kW         1.02529e-06\n",
       "ZeroCheckCEHX     kW        -2.07808e-05\n",
       "Q_gen_rect_combo  kW       176.262\n",
       "Q_refrig_side     kW        -5.81476\n",
       "ZeroCheckRect     kg/s       1.38778e-17\n",
       "m_rich            kg/s       0.512845\n",
       "m_weak            kg/s       0.41345\n",
       "m_gen_vapor       kg/s       0.101845\n",
       "m_gen_reflux      kg/s       0.0024502\n",
       "m_refrig          kg/s       0.0993943"
      ]
     },
     "metadata": {},
     "output_type": "display_data"
    }
   ],
   "source": [
    "xC = np.array([0.51284472, 277.97717012, 312.16427764, 313.6952877,\n",
    "               310.24856734, 374.14020482])\n",
    "ch = system_aqua1.makeChiller(xC)\n",
    "display(ch)"
   ]
  },
  {
   "cell_type": "markdown",
   "metadata": {
    "slideshow": {
     "slide_type": "subslide"
    }
   },
   "source": [
    "We can see first a table of all the state points. I'll have to create a drawing to explain this later ..."
   ]
  },
  {
   "cell_type": "markdown",
   "metadata": {
    "slideshow": {
     "slide_type": "subslide"
    }
   },
   "source": [
    "We also get a table of the performance variables, such as heat flows (with a convention that positive indicates heat flowing into the chiller)."
   ]
  },
  {
   "cell_type": "markdown",
   "metadata": {
    "slideshow": {
     "slide_type": "subslide"
    }
   },
   "source": [
    "I'll also ask for some plots ..."
   ]
  },
  {
   "cell_type": "code",
   "execution_count": 8,
   "metadata": {
    "slideshow": {
     "slide_type": "fragment"
    }
   },
   "outputs": [
    {
     "name": "stderr",
     "output_type": "stream",
     "text": [
      "C:\\Users\\user1\\Miniconda3\\envs\\openachp\\lib\\site-packages\\scipy\\interpolate\\_cubic.py:147: RuntimeWarning: divide by zero encountered in true_divide\n",
      "  mk = (y[1:] - y[:-1]) / hk\n",
      "C:\\Users\\user1\\Miniconda3\\envs\\openachp\\lib\\site-packages\\scipy\\interpolate\\_cubic.py:165: RuntimeWarning: invalid value encountered in true_divide\n",
      "  whmean = (w1/mk[:-1] + w2/mk[1:]) / (w1 + w2)\n"
     ]
    },
    {
     "name": "stdout",
     "output_type": "stream",
     "text": [
      "Rectifier\n",
      "vapor_inlet =  State(T=351.9344380231556, P=15.139624377424653, x=0.9881288434190637, h=1424.61045386996, s=4.574749842640767, u=1268.729121159115, v=0.10296248362891122, Qu=1.0)\n",
      "liquid_outliet =  State(T=351.9344380231556, P=15.139624377424653, x=0.5118797468777768, h=118.42029741010825, s=0.9705886173277942, u=116.44515361513855, v=0.0013046187578569727, Qu=0.0)\n",
      "m_net, x_net =  0.0993943080368 0.999869\n",
      "     q / kW     T / K\n",
      "-----------  --------\n",
      "-16.1228      313.652\n",
      "-15.614       316.455\n",
      "-15.2974      319.163\n",
      "-15.0334      321.679\n",
      "-14.8034      324.001\n",
      "-12.3955      324.747\n",
      "-11.8746      326.324\n",
      "-11.3862      327.752\n",
      "-10.9251      329.057\n",
      "-10.4873      330.258\n",
      "-10.0694      331.371\n",
      " -9.66897     332.409\n",
      " -9.28379     333.38\n",
      " -8.91217     334.293\n",
      " -8.55261     335.155\n",
      " -8.2039      335.971\n",
      " -7.86498     336.747\n",
      " -7.53496     337.486\n",
      " -7.21304     338.191\n",
      " -6.89855     338.867\n",
      " -6.5909      339.514\n",
      " -6.28954     340.137\n",
      " -5.99404     340.735\n",
      " -5.70394     341.313\n",
      " -5.41889     341.87\n",
      " -5.13854     342.409\n",
      " -4.86259     342.931\n",
      " -4.59077     343.436\n",
      " -4.32282     343.927\n",
      " -4.05857     344.403\n",
      " -3.7977      344.867\n",
      " -3.54008     345.317\n",
      " -3.28552     345.757\n",
      " -3.03386     346.185\n",
      " -2.78495     346.602\n",
      " -2.53866     347.01\n",
      " -2.29484     347.408\n",
      " -2.5992      347.692\n",
      " -2.41372     348.072\n",
      " -2.23069     348.444\n",
      " -2.04999     348.809\n",
      " -1.87152     349.167\n",
      " -1.69519     349.518\n",
      " -1.5209      349.864\n",
      " -1.34858     350.203\n",
      " -0.710317    350.632\n",
      " -0.540851    350.96\n",
      " -0.373105    351.283\n",
      " -0.207016    351.601\n",
      " -0.0425232   351.914\n"
     ]
    },
    {
     "ename": "ValueError",
     "evalue": "`x` must be strictly increasing or decreasing.",
     "output_type": "error",
     "traceback": [
      "\u001b[1;31m---------------------------------------------------------------------------\u001b[0m",
      "\u001b[1;31mValueError\u001b[0m                                Traceback (most recent call last)",
      "\u001b[1;32m~\\Documents\\GitHub\\openACHP\\src\\ammonia1.py\u001b[0m in \u001b[0;36mgetRectifierStream\u001b[1;34m(self)\u001b[0m\n\u001b[0;32m    833\u001b[0m             return AmmoniaRefluxStream(self.gen_vapor_outlet, self.m_gen_vapor,\n\u001b[1;32m--> 834\u001b[1;33m                                        self.gen_reflux_inlet, self.m_gen_reflux)\n\u001b[0m\u001b[0;32m    835\u001b[0m         \u001b[1;32mexcept\u001b[0m\u001b[1;33m:\u001b[0m\u001b[1;33m\u001b[0m\u001b[0m\n",
      "\u001b[1;32m~\\Documents\\GitHub\\openACHP\\src\\ammonia1.py\u001b[0m in \u001b[0;36m__init__\u001b[1;34m(self, vapor_inlet, m_inlet, liquid_outlet, m_reflux, debug)\u001b[0m\n\u001b[0;32m    321\u001b[0m         \u001b[0mself\u001b[0m\u001b[1;33m.\u001b[0m\u001b[0mq\u001b[0m \u001b[1;33m=\u001b[0m \u001b[0mscipy\u001b[0m\u001b[1;33m.\u001b[0m\u001b[0minterpolate\u001b[0m\u001b[1;33m.\u001b[0m\u001b[0mPchipInterpolator\u001b[0m\u001b[1;33m(\u001b[0m\u001b[0mT_points\u001b[0m\u001b[1;33m,\u001b[0m \u001b[0mq_points\u001b[0m\u001b[1;33m)\u001b[0m\u001b[1;33m\u001b[0m\u001b[0m\n\u001b[1;32m--> 322\u001b[1;33m         \u001b[0mself\u001b[0m\u001b[1;33m.\u001b[0m\u001b[0mT\u001b[0m \u001b[1;33m=\u001b[0m \u001b[0mscipy\u001b[0m\u001b[1;33m.\u001b[0m\u001b[0minterpolate\u001b[0m\u001b[1;33m.\u001b[0m\u001b[0mPchipInterpolator\u001b[0m\u001b[1;33m(\u001b[0m\u001b[0mq_points\u001b[0m\u001b[1;33m,\u001b[0m \u001b[0mT_points\u001b[0m\u001b[1;33m)\u001b[0m\u001b[1;33m\u001b[0m\u001b[0m\n\u001b[0m\u001b[0;32m    323\u001b[0m \u001b[1;33m\u001b[0m\u001b[0m\n",
      "\u001b[1;32m~\\Miniconda3\\envs\\openachp\\lib\\site-packages\\scipy\\interpolate\\_cubic.py\u001b[0m in \u001b[0;36m__init__\u001b[1;34m(self, x, y, axis, extrapolate)\u001b[0m\n\u001b[0;32m    102\u001b[0m \u001b[1;33m\u001b[0m\u001b[0m\n\u001b[1;32m--> 103\u001b[1;33m         \u001b[0m_b\u001b[0m \u001b[1;33m=\u001b[0m \u001b[0mBPoly\u001b[0m\u001b[1;33m.\u001b[0m\u001b[0mfrom_derivatives\u001b[0m\u001b[1;33m(\u001b[0m\u001b[0mx\u001b[0m\u001b[1;33m,\u001b[0m \u001b[0mdata\u001b[0m\u001b[1;33m,\u001b[0m \u001b[0morders\u001b[0m\u001b[1;33m=\u001b[0m\u001b[1;32mNone\u001b[0m\u001b[1;33m)\u001b[0m\u001b[1;33m\u001b[0m\u001b[0m\n\u001b[0m\u001b[0;32m    104\u001b[0m         super(PchipInterpolator, self).__init__(_b.c, _b.x,\n",
      "\u001b[1;32m~\\Miniconda3\\envs\\openachp\\lib\\site-packages\\scipy\\interpolate\\interpolate.py\u001b[0m in \u001b[0;36mfrom_derivatives\u001b[1;34m(cls, xi, yi, orders, extrapolate)\u001b[0m\n\u001b[0;32m   1688\u001b[0m         \u001b[0mc\u001b[0m \u001b[1;33m=\u001b[0m \u001b[0mnp\u001b[0m\u001b[1;33m.\u001b[0m\u001b[0masarray\u001b[0m\u001b[1;33m(\u001b[0m\u001b[0mc\u001b[0m\u001b[1;33m)\u001b[0m\u001b[1;33m\u001b[0m\u001b[0m\n\u001b[1;32m-> 1689\u001b[1;33m         \u001b[1;32mreturn\u001b[0m \u001b[0mcls\u001b[0m\u001b[1;33m(\u001b[0m\u001b[0mc\u001b[0m\u001b[1;33m.\u001b[0m\u001b[0mswapaxes\u001b[0m\u001b[1;33m(\u001b[0m\u001b[1;36m0\u001b[0m\u001b[1;33m,\u001b[0m \u001b[1;36m1\u001b[0m\u001b[1;33m)\u001b[0m\u001b[1;33m,\u001b[0m \u001b[0mxi\u001b[0m\u001b[1;33m,\u001b[0m \u001b[0mextrapolate\u001b[0m\u001b[1;33m)\u001b[0m\u001b[1;33m\u001b[0m\u001b[0m\n\u001b[0m\u001b[0;32m   1690\u001b[0m \u001b[1;33m\u001b[0m\u001b[0m\n",
      "\u001b[1;32m~\\Miniconda3\\envs\\openachp\\lib\\site-packages\\scipy\\interpolate\\interpolate.py\u001b[0m in \u001b[0;36m__init__\u001b[1;34m(self, c, x, extrapolate, axis)\u001b[0m\n\u001b[0;32m    689\u001b[0m         \u001b[1;32mif\u001b[0m \u001b[1;32mnot\u001b[0m \u001b[1;33m(\u001b[0m\u001b[0mnp\u001b[0m\u001b[1;33m.\u001b[0m\u001b[0mall\u001b[0m\u001b[1;33m(\u001b[0m\u001b[0mdx\u001b[0m \u001b[1;33m>=\u001b[0m \u001b[1;36m0\u001b[0m\u001b[1;33m)\u001b[0m \u001b[1;32mor\u001b[0m \u001b[0mnp\u001b[0m\u001b[1;33m.\u001b[0m\u001b[0mall\u001b[0m\u001b[1;33m(\u001b[0m\u001b[0mdx\u001b[0m \u001b[1;33m<=\u001b[0m \u001b[1;36m0\u001b[0m\u001b[1;33m)\u001b[0m\u001b[1;33m)\u001b[0m\u001b[1;33m:\u001b[0m\u001b[1;33m\u001b[0m\u001b[0m\n\u001b[1;32m--> 690\u001b[1;33m             \u001b[1;32mraise\u001b[0m \u001b[0mValueError\u001b[0m\u001b[1;33m(\u001b[0m\u001b[1;34m\"`x` must be strictly increasing or decreasing.\"\u001b[0m\u001b[1;33m)\u001b[0m\u001b[1;33m\u001b[0m\u001b[0m\n\u001b[0m\u001b[0;32m    691\u001b[0m \u001b[1;33m\u001b[0m\u001b[0m\n",
      "\u001b[1;31mValueError\u001b[0m: `x` must be strictly increasing or decreasing.",
      "\nDuring handling of the above exception, another exception occurred:\n",
      "\u001b[1;31mValueError\u001b[0m                                Traceback (most recent call last)",
      "\u001b[1;32m<ipython-input-8-e31c9cd19295>\u001b[0m in \u001b[0;36m<module>\u001b[1;34m()\u001b[0m\n\u001b[0;32m      1\u001b[0m \u001b[1;32mtry\u001b[0m\u001b[1;33m:\u001b[0m\u001b[1;33m\u001b[0m\u001b[0m\n\u001b[1;32m----> 2\u001b[1;33m     \u001b[0mch\u001b[0m\u001b[1;33m.\u001b[0m\u001b[0mdisplay\u001b[0m\u001b[1;33m(\u001b[0m\u001b[1;33m)\u001b[0m\u001b[1;33m\u001b[0m\u001b[0m\n\u001b[0m\u001b[0;32m      3\u001b[0m \u001b[1;32mexcept\u001b[0m \u001b[0mRuntimeWarning\u001b[0m \u001b[1;32mas\u001b[0m \u001b[0me\u001b[0m\u001b[1;33m:\u001b[0m\u001b[1;33m\u001b[0m\u001b[0m\n\u001b[0;32m      4\u001b[0m     \u001b[0mprint\u001b[0m\u001b[1;33m(\u001b[0m\u001b[0me\u001b[0m\u001b[1;33m)\u001b[0m\u001b[1;33m\u001b[0m\u001b[0m\n\u001b[0;32m      5\u001b[0m \u001b[0mplt\u001b[0m\u001b[1;33m.\u001b[0m\u001b[0mshow\u001b[0m\u001b[1;33m(\u001b[0m\u001b[1;33m)\u001b[0m\u001b[1;33m\u001b[0m\u001b[0m\n",
      "\u001b[1;32m~\\Documents\\GitHub\\openACHP\\src\\ammonia1.py\u001b[0m in \u001b[0;36mdisplay\u001b[1;34m(a)\u001b[0m\n\u001b[0;32m    878\u001b[0m                    \u001b[1;33m(\u001b[0m\u001b[0ma\u001b[0m\u001b[1;33m.\u001b[0m\u001b[0mrefrig_rect_outlet\u001b[0m\u001b[1;33m.\u001b[0m\u001b[0mT\u001b[0m\u001b[1;33m,\u001b[0m \u001b[0ma\u001b[0m\u001b[1;33m.\u001b[0m\u001b[0mrefrig_cond_outlet\u001b[0m\u001b[1;33m.\u001b[0m\u001b[0mT\u001b[0m\u001b[1;33m)\u001b[0m\u001b[1;33m,\u001b[0m\u001b[1;33m\u001b[0m\u001b[0m\n\u001b[0;32m    879\u001b[0m                    {\"label\":\"condenser\"})\n\u001b[1;32m--> 880\u001b[1;33m         \u001b[0mrect\u001b[0m \u001b[1;33m=\u001b[0m \u001b[0ma\u001b[0m\u001b[1;33m.\u001b[0m\u001b[0mgetRectifierStream\u001b[0m\u001b[1;33m(\u001b[0m\u001b[1;33m)\u001b[0m\u001b[1;33m\u001b[0m\u001b[0m\n\u001b[0m\u001b[0;32m    881\u001b[0m         plotStream(rect,\n\u001b[0;32m    882\u001b[0m                    \u001b[1;33m(\u001b[0m\u001b[1;36m1.05\u001b[0m \u001b[1;33m*\u001b[0m \u001b[0ma\u001b[0m\u001b[1;33m.\u001b[0m\u001b[0mQ_reflux\u001b[0m\u001b[1;33m,\u001b[0m \u001b[1;36m0\u001b[0m\u001b[1;33m)\u001b[0m\u001b[1;33m,\u001b[0m\u001b[1;33m\u001b[0m\u001b[0m\n",
      "\u001b[1;32m~\\Documents\\GitHub\\openACHP\\src\\ammonia1.py\u001b[0m in \u001b[0;36mgetRectifierStream\u001b[1;34m(self)\u001b[0m\n\u001b[0;32m    836\u001b[0m             return AmmoniaRefluxStream(self.gen_vapor_outlet, self.m_gen_vapor,\n\u001b[0;32m    837\u001b[0m                                        \u001b[0mself\u001b[0m\u001b[1;33m.\u001b[0m\u001b[0mgen_reflux_inlet\u001b[0m\u001b[1;33m,\u001b[0m \u001b[0mself\u001b[0m\u001b[1;33m.\u001b[0m\u001b[0mm_gen_reflux\u001b[0m\u001b[1;33m,\u001b[0m\u001b[1;33m\u001b[0m\u001b[0m\n\u001b[1;32m--> 838\u001b[1;33m                                        debug=True)\n\u001b[0m\u001b[0;32m    839\u001b[0m \u001b[1;33m\u001b[0m\u001b[0m\n\u001b[0;32m    840\u001b[0m     \u001b[1;32mdef\u001b[0m \u001b[0mgetSHX\u001b[0m\u001b[1;33m(\u001b[0m\u001b[0mself\u001b[0m\u001b[1;33m,\u001b[0m \u001b[1;33m**\u001b[0m\u001b[0mkwargs\u001b[0m\u001b[1;33m)\u001b[0m\u001b[1;33m:\u001b[0m\u001b[1;33m\u001b[0m\u001b[0m\n",
      "\u001b[1;32m~\\Documents\\GitHub\\openACHP\\src\\ammonia1.py\u001b[0m in \u001b[0;36m__init__\u001b[1;34m(self, vapor_inlet, m_inlet, liquid_outlet, m_reflux, debug)\u001b[0m\n\u001b[0;32m    320\u001b[0m \u001b[1;33m\u001b[0m\u001b[0m\n\u001b[0;32m    321\u001b[0m         \u001b[0mself\u001b[0m\u001b[1;33m.\u001b[0m\u001b[0mq\u001b[0m \u001b[1;33m=\u001b[0m \u001b[0mscipy\u001b[0m\u001b[1;33m.\u001b[0m\u001b[0minterpolate\u001b[0m\u001b[1;33m.\u001b[0m\u001b[0mPchipInterpolator\u001b[0m\u001b[1;33m(\u001b[0m\u001b[0mT_points\u001b[0m\u001b[1;33m,\u001b[0m \u001b[0mq_points\u001b[0m\u001b[1;33m)\u001b[0m\u001b[1;33m\u001b[0m\u001b[0m\n\u001b[1;32m--> 322\u001b[1;33m         \u001b[0mself\u001b[0m\u001b[1;33m.\u001b[0m\u001b[0mT\u001b[0m \u001b[1;33m=\u001b[0m \u001b[0mscipy\u001b[0m\u001b[1;33m.\u001b[0m\u001b[0minterpolate\u001b[0m\u001b[1;33m.\u001b[0m\u001b[0mPchipInterpolator\u001b[0m\u001b[1;33m(\u001b[0m\u001b[0mq_points\u001b[0m\u001b[1;33m,\u001b[0m \u001b[0mT_points\u001b[0m\u001b[1;33m)\u001b[0m\u001b[1;33m\u001b[0m\u001b[0m\n\u001b[0m\u001b[0;32m    323\u001b[0m \u001b[1;33m\u001b[0m\u001b[0m\n\u001b[0;32m    324\u001b[0m \u001b[1;33m\u001b[0m\u001b[0m\n",
      "\u001b[1;32m~\\Miniconda3\\envs\\openachp\\lib\\site-packages\\scipy\\interpolate\\_cubic.py\u001b[0m in \u001b[0;36m__init__\u001b[1;34m(self, x, y, axis, extrapolate)\u001b[0m\n\u001b[0;32m    101\u001b[0m         \u001b[0mdata\u001b[0m \u001b[1;33m=\u001b[0m \u001b[0mnp\u001b[0m\u001b[1;33m.\u001b[0m\u001b[0mhstack\u001b[0m\u001b[1;33m(\u001b[0m\u001b[1;33m(\u001b[0m\u001b[0myp\u001b[0m\u001b[1;33m[\u001b[0m\u001b[1;33m:\u001b[0m\u001b[1;33m,\u001b[0m \u001b[1;32mNone\u001b[0m\u001b[1;33m,\u001b[0m \u001b[1;33m...\u001b[0m\u001b[1;33m]\u001b[0m\u001b[1;33m,\u001b[0m \u001b[0mdk\u001b[0m\u001b[1;33m[\u001b[0m\u001b[1;33m:\u001b[0m\u001b[1;33m,\u001b[0m \u001b[1;32mNone\u001b[0m\u001b[1;33m,\u001b[0m \u001b[1;33m...\u001b[0m\u001b[1;33m]\u001b[0m\u001b[1;33m)\u001b[0m\u001b[1;33m)\u001b[0m\u001b[1;33m\u001b[0m\u001b[0m\n\u001b[0;32m    102\u001b[0m \u001b[1;33m\u001b[0m\u001b[0m\n\u001b[1;32m--> 103\u001b[1;33m         \u001b[0m_b\u001b[0m \u001b[1;33m=\u001b[0m \u001b[0mBPoly\u001b[0m\u001b[1;33m.\u001b[0m\u001b[0mfrom_derivatives\u001b[0m\u001b[1;33m(\u001b[0m\u001b[0mx\u001b[0m\u001b[1;33m,\u001b[0m \u001b[0mdata\u001b[0m\u001b[1;33m,\u001b[0m \u001b[0morders\u001b[0m\u001b[1;33m=\u001b[0m\u001b[1;32mNone\u001b[0m\u001b[1;33m)\u001b[0m\u001b[1;33m\u001b[0m\u001b[0m\n\u001b[0m\u001b[0;32m    104\u001b[0m         super(PchipInterpolator, self).__init__(_b.c, _b.x,\n\u001b[0;32m    105\u001b[0m                                                 extrapolate=extrapolate)\n",
      "\u001b[1;32m~\\Miniconda3\\envs\\openachp\\lib\\site-packages\\scipy\\interpolate\\interpolate.py\u001b[0m in \u001b[0;36mfrom_derivatives\u001b[1;34m(cls, xi, yi, orders, extrapolate)\u001b[0m\n\u001b[0;32m   1687\u001b[0m \u001b[1;33m\u001b[0m\u001b[0m\n\u001b[0;32m   1688\u001b[0m         \u001b[0mc\u001b[0m \u001b[1;33m=\u001b[0m \u001b[0mnp\u001b[0m\u001b[1;33m.\u001b[0m\u001b[0masarray\u001b[0m\u001b[1;33m(\u001b[0m\u001b[0mc\u001b[0m\u001b[1;33m)\u001b[0m\u001b[1;33m\u001b[0m\u001b[0m\n\u001b[1;32m-> 1689\u001b[1;33m         \u001b[1;32mreturn\u001b[0m \u001b[0mcls\u001b[0m\u001b[1;33m(\u001b[0m\u001b[0mc\u001b[0m\u001b[1;33m.\u001b[0m\u001b[0mswapaxes\u001b[0m\u001b[1;33m(\u001b[0m\u001b[1;36m0\u001b[0m\u001b[1;33m,\u001b[0m \u001b[1;36m1\u001b[0m\u001b[1;33m)\u001b[0m\u001b[1;33m,\u001b[0m \u001b[0mxi\u001b[0m\u001b[1;33m,\u001b[0m \u001b[0mextrapolate\u001b[0m\u001b[1;33m)\u001b[0m\u001b[1;33m\u001b[0m\u001b[0m\n\u001b[0m\u001b[0;32m   1690\u001b[0m \u001b[1;33m\u001b[0m\u001b[0m\n\u001b[0;32m   1691\u001b[0m     \u001b[1;33m@\u001b[0m\u001b[0mstaticmethod\u001b[0m\u001b[1;33m\u001b[0m\u001b[0m\n",
      "\u001b[1;32m~\\Miniconda3\\envs\\openachp\\lib\\site-packages\\scipy\\interpolate\\interpolate.py\u001b[0m in \u001b[0;36m__init__\u001b[1;34m(self, c, x, extrapolate, axis)\u001b[0m\n\u001b[0;32m    688\u001b[0m         \u001b[0mdx\u001b[0m \u001b[1;33m=\u001b[0m \u001b[0mnp\u001b[0m\u001b[1;33m.\u001b[0m\u001b[0mdiff\u001b[0m\u001b[1;33m(\u001b[0m\u001b[0mself\u001b[0m\u001b[1;33m.\u001b[0m\u001b[0mx\u001b[0m\u001b[1;33m)\u001b[0m\u001b[1;33m\u001b[0m\u001b[0m\n\u001b[0;32m    689\u001b[0m         \u001b[1;32mif\u001b[0m \u001b[1;32mnot\u001b[0m \u001b[1;33m(\u001b[0m\u001b[0mnp\u001b[0m\u001b[1;33m.\u001b[0m\u001b[0mall\u001b[0m\u001b[1;33m(\u001b[0m\u001b[0mdx\u001b[0m \u001b[1;33m>=\u001b[0m \u001b[1;36m0\u001b[0m\u001b[1;33m)\u001b[0m \u001b[1;32mor\u001b[0m \u001b[0mnp\u001b[0m\u001b[1;33m.\u001b[0m\u001b[0mall\u001b[0m\u001b[1;33m(\u001b[0m\u001b[0mdx\u001b[0m \u001b[1;33m<=\u001b[0m \u001b[1;36m0\u001b[0m\u001b[1;33m)\u001b[0m\u001b[1;33m)\u001b[0m\u001b[1;33m:\u001b[0m\u001b[1;33m\u001b[0m\u001b[0m\n\u001b[1;32m--> 690\u001b[1;33m             \u001b[1;32mraise\u001b[0m \u001b[0mValueError\u001b[0m\u001b[1;33m(\u001b[0m\u001b[1;34m\"`x` must be strictly increasing or decreasing.\"\u001b[0m\u001b[1;33m)\u001b[0m\u001b[1;33m\u001b[0m\u001b[0m\n\u001b[0m\u001b[0;32m    691\u001b[0m \u001b[1;33m\u001b[0m\u001b[0m\n\u001b[0;32m    692\u001b[0m         \u001b[0mdtype\u001b[0m \u001b[1;33m=\u001b[0m \u001b[0mself\u001b[0m\u001b[1;33m.\u001b[0m\u001b[0m_get_dtype\u001b[0m\u001b[1;33m(\u001b[0m\u001b[0mself\u001b[0m\u001b[1;33m.\u001b[0m\u001b[0mc\u001b[0m\u001b[1;33m.\u001b[0m\u001b[0mdtype\u001b[0m\u001b[1;33m)\u001b[0m\u001b[1;33m\u001b[0m\u001b[0m\n",
      "\u001b[1;31mValueError\u001b[0m: `x` must be strictly increasing or decreasing."
     ]
    }
   ],
   "source": [
    "try:\n",
    "    ch.display()\n",
    "except RuntimeWarning as e:\n",
    "    print(e)\n",
    "plt.show()"
   ]
  },
  {
   "cell_type": "markdown",
   "metadata": {
    "slideshow": {
     "slide_type": "subslide"
    }
   },
   "source": [
    "The first one shows heat vs temperature curves for each of the heat exchangers facing the external streams. Temperature is measured on the internal side of the heat exchanger. These curves are used to calculate heat exchanger size vs. total heat rate."
   ]
  },
  {
   "cell_type": "markdown",
   "metadata": {
    "slideshow": {
     "slide_type": "subslide"
    }
   },
   "source": [
    "The other two show some heat exchangers that are entirely internal, ie not facing the external streams. These were specified with effectiveness, so I don't need to calculate anything. But we can see that the curves are not linear because specific heats are changing or phase change is occuring through the process."
   ]
  },
  {
   "cell_type": "markdown",
   "metadata": {
    "slideshow": {
     "slide_type": "slide"
    }
   },
   "source": [
    "## System\n",
    "Next I'll couple the boundary and chiller into a system object. I'll use it to evaluate the heat exchange parameters:"
   ]
  },
  {
   "cell_type": "code",
   "execution_count": 70,
   "metadata": {
    "slideshow": {
     "slide_type": "subslide"
    }
   },
   "outputs": [
    {
     "name": "stderr",
     "output_type": "stream",
     "text": [
      "C:\\Users\\nfette\\Miniconda3\\envs\\openACHP\\lib\\site-packages\\scipy\\interpolate\\_cubic.py:147: RuntimeWarning: divide by zero encountered in true_divide\n",
      "  mk = (y[1:] - y[:-1]) / hk\n",
      "C:\\Users\\nfette\\Miniconda3\\envs\\openACHP\\lib\\site-packages\\scipy\\interpolate\\_cubic.py:165: RuntimeWarning: invalid value encountered in true_divide\n",
      "  whmean = (w1/mk[:-1] + w2/mk[1:]) / (w1 + w2)\n"
     ]
    },
    {
     "data": {
      "text/html": [
       "<table>\n",
       "<thead>\n",
       "<tr><th>name  </th><th style=\"text-align: right;\">  deltaT</th><th style=\"text-align: right;\">  epsilon</th><th style=\"text-align: right;\">       UA</th><th style=\"text-align: right;\">       Q</th></tr>\n",
       "</thead>\n",
       "<tbody>\n",
       "<tr><td>gen   </td><td style=\"text-align: right;\"> 5.60995</td><td style=\"text-align: right;\"> 0.891216</td><td style=\"text-align: right;\"> 14.9063 </td><td style=\"text-align: right;\">192.048 </td></tr>\n",
       "<tr><td>rect  </td><td style=\"text-align: right;\"> 8.66502</td><td style=\"text-align: right;\"> 0.799757</td><td style=\"text-align: right;\">  1.04183</td><td style=\"text-align: right;\"> 15.7864</td></tr>\n",
       "<tr><td>abs   </td><td style=\"text-align: right;\"> 5.25365</td><td style=\"text-align: right;\"> 0.735388</td><td style=\"text-align: right;\"> 27.2915 </td><td style=\"text-align: right;\">182.886 </td></tr>\n",
       "<tr><td>cond  </td><td style=\"text-align: right;\"> 2.20854</td><td style=\"text-align: right;\"> 0.967334</td><td style=\"text-align: right;\"> 27.3363 </td><td style=\"text-align: right;\">110.508 </td></tr>\n",
       "<tr><td>evap  </td><td style=\"text-align: right;\"> 1.45034</td><td style=\"text-align: right;\"> 0.982521</td><td style=\"text-align: right;\"> 29.4333 </td><td style=\"text-align: right;\">116.323 </td></tr>\n",
       "<tr><td>total </td><td style=\"text-align: right;\"> 0      </td><td style=\"text-align: right;\"> 0       </td><td style=\"text-align: right;\">100.009  </td><td style=\"text-align: right;\">  0     </td></tr>\n",
       "</tbody>\n",
       "</table>"
      ],
      "text/plain": [
       "name      deltaT    epsilon        UA         Q\n",
       "------  --------  ---------  --------  --------\n",
       "gen      5.60995   0.891216  14.9063   192.048\n",
       "rect     8.66502   0.799757   1.04183   15.7864\n",
       "abs      5.25365   0.735388  27.2915   182.886\n",
       "cond     2.20854   0.967334  27.3363   110.508\n",
       "evap     1.45034   0.982521  29.4333   116.323\n",
       "totalUA = 100.00919302098899"
      ]
     },
     "metadata": {},
     "output_type": "display_data"
    }
   ],
   "source": [
    "sys = system_aqua1.System(boundary=bdry, chiller=ch)\n",
    "display(sys)"
   ]
  },
  {
   "cell_type": "markdown",
   "metadata": {
    "slideshow": {
     "slide_type": "fragment"
    }
   },
   "source": [
    "- deltaT is the temperature difference at the pinch point.\n",
    "- epsilon is the effectiveness\n",
    "- UA is the heat exchanger overall heat transfer coefficient\n",
    "- Q is the heat flow through the exchanger. In this setup, it is determined by the chiller specification."
   ]
  },
  {
   "cell_type": "markdown",
   "metadata": {
    "slideshow": {
     "slide_type": "slide"
    }
   },
   "source": [
    "## Interact\n",
    "Okay, the next thing I want to do is show how we can interact with the model and manually adjust the specification. Jupyter has some useful widgets, but I had to get the ipywidgets package from different conda channel (conda-forge) to get a version compatible with the notebook extensions module (then enable it on command line)."
   ]
  },
  {
   "cell_type": "code",
   "execution_count": 56,
   "metadata": {
    "slideshow": {
     "slide_type": "subslide"
    }
   },
   "outputs": [
    {
     "name": "stdout",
     "output_type": "stream",
     "text": [
      "widgets.__version__ =  7.0.0\n",
      "widgetsnbextension.__version__ =  3.0.2\n",
      "Please check that you have compatible versions before proceeding.\n"
     ]
    }
   ],
   "source": [
    "import ipywidgets as widgets\n",
    "print(\"widgets.__version__ = \",widgets.__version__)\n",
    "import widgetsnbextension\n",
    "print(\"widgetsnbextension.__version__ = \",widgetsnbextension.__version__)\n",
    "print(\"Please check that you have compatible versions before proceeding.\")"
   ]
  },
  {
   "cell_type": "markdown",
   "metadata": {
    "slideshow": {
     "slide_type": "subslide"
    }
   },
   "source": [
    "This cell sets up the widgets ..."
   ]
  },
  {
   "cell_type": "code",
   "execution_count": 107,
   "metadata": {
    "collapsed": true,
    "slideshow": {
     "slide_type": "fragment"
    }
   },
   "outputs": [],
   "source": [
    "%matplotlib inline\n",
    "import ipywidgets as widgets\n",
    "from ipywidgets import interact, interactive, fixed, interact_manual\n",
    "\n",
    "\n",
    "common_opts = dict(\n",
    "    disabled=False,\n",
    "    continuous_update=False,\n",
    "    orientation='horizontal',\n",
    "    readout=True\n",
    ")\n",
    "w_m_rich = widgets.FloatSlider(\n",
    "    value=0.5,\n",
    "    min=0.1,\n",
    "    max=2.0,\n",
    "    step=0.05,\n",
    "    description='m_rich',\n",
    "    readout_format='.2f',\n",
    "    **common_opts\n",
    ")\n",
    "w_T_evap = widgets.FloatSlider(\n",
    "    value=278.0,\n",
    "    min=275.0,\n",
    "    max=285.0,\n",
    "    step=0.1,\n",
    "    description='T_evap',\n",
    "    readout_format='.1f',\n",
    "    **common_opts\n",
    ")\n",
    "w_T_cond = widgets.FloatSlider(\n",
    "    value= 312.2,\n",
    "    min=290,\n",
    "    max=330,\n",
    "    step=0.1,\n",
    "    description='T_cond',\n",
    "    readout_format='.1f',\n",
    "    **common_opts\n",
    ")\n",
    "w_T_rect = widgets.FloatSlider(\n",
    "    value=313.7,\n",
    "    min=290.0,\n",
    "    max=330.0,\n",
    "    step=0.1,\n",
    "    description='T_rect',\n",
    "    readout_format='.1f',\n",
    "    **common_opts\n",
    ")\n",
    "w_T_abs_outlet = widgets.FloatSlider(\n",
    "    value=310.2,\n",
    "    min=290.0,\n",
    "    max=330.0,\n",
    "    step=0.1,\n",
    "    description='T_abs_outlet',\n",
    "    readout_format='.1f',\n",
    "    **common_opts\n",
    ")\n",
    "w_T_gen_outlet = widgets.FloatSlider(\n",
    "    value=374.1,\n",
    "    min=360.0,\n",
    "    max=400.0,\n",
    "    step=0.1,\n",
    "    description='T_gen_outlet',\n",
    "    readout_format='.1f',\n",
    "    **common_opts\n",
    ")"
   ]
  },
  {
   "cell_type": "markdown",
   "metadata": {
    "slideshow": {
     "slide_type": "subslide"
    }
   },
   "source": [
    "And this cell launches the interaction handler..."
   ]
  },
  {
   "cell_type": "code",
   "execution_count": 108,
   "metadata": {
    "slideshow": {
     "slide_type": "fragment"
    }
   },
   "outputs": [
    {
     "data": {
      "application/vnd.jupyter.widget-view+json": {
       "model_id": "a2096d81df66435983934f72a891f79c",
       "version_major": 2,
       "version_minor": 0
      },
      "text/plain": [
       "A Jupyter Widget"
      ]
     },
     "metadata": {},
     "output_type": "display_data"
    }
   ],
   "source": [
    "modes = ['chiller glob','chiller state points','chiller performance','chiller plots','system text']\n",
    "def f(m_rich, T_evap, T_cond, T_rect, T_abs_outlet, T_gen_outlet, mode='system text'):\n",
    "    xC = (m_rich, T_evap, T_cond, T_rect, T_abs_outlet, T_gen_outlet)\n",
    "    ch = system_aqua1.makeChiller(xC)\n",
    "    if mode == modes[0]:\n",
    "        display(ch)\n",
    "    elif mode == modes[1]:\n",
    "        display(ch.getStateTable())\n",
    "    elif mode == modes[2]:\n",
    "        display(ch.getVariablesTable())\n",
    "    elif mode == modes[3]:\n",
    "        ch.display()\n",
    "        plt.plot()\n",
    "    elif mode == modes[4]:\n",
    "        sys = system_aqua1.System(boundary=bdry, chiller=ch)\n",
    "        display(sys)\n",
    "        \n",
    "#widgets.VBox(w_m_rich,w_T_evap,w_T_cond,w_T_rect,w_T_abs_outlet,w_T_gen_outlet)\n",
    "interactive(f,\n",
    "            m_rich=w_m_rich,\n",
    "            T_evap=w_T_evap,\n",
    "            T_cond=w_T_cond,\n",
    "            T_rect=w_T_rect,\n",
    "            T_abs_outlet=w_T_abs_outlet,\n",
    "            T_gen_outlet=w_T_gen_outlet,\n",
    "            mode=modes)"
   ]
  },
  {
   "cell_type": "markdown",
   "metadata": {
    "slideshow": {
     "slide_type": "subslide"
    }
   },
   "source": [
    "Now I can play with the inputs and see how the system responds ..."
   ]
  },
  {
   "cell_type": "markdown",
   "metadata": {},
   "source": [
    "We could implement this as a web app not requiring the Jupyter Notebook, but at the moment the code is designed to run on server-side Python, so there would be some hosting cost for a reasonable amount of CPU time, or we would need our own server."
   ]
  },
  {
   "cell_type": "markdown",
   "metadata": {
    "slideshow": {
     "slide_type": "slide"
    }
   },
   "source": [
    "## That's it!"
   ]
  },
  {
   "cell_type": "code",
   "execution_count": null,
   "metadata": {
    "collapsed": true
   },
   "outputs": [],
   "source": []
  }
 ],
 "metadata": {
  "celltoolbar": "Slideshow",
  "kernelspec": {
   "display_name": "Python 3",
   "language": "python",
   "name": "python3"
  },
  "language_info": {
   "codemirror_mode": {
    "name": "ipython",
    "version": 3
   },
   "file_extension": ".py",
   "mimetype": "text/x-python",
   "name": "python",
   "nbconvert_exporter": "python",
   "pygments_lexer": "ipython3",
   "version": "3.6.2"
  }
 },
 "nbformat": 4,
 "nbformat_minor": 2
}
