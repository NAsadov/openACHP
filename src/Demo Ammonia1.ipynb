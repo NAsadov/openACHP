{
 "cells": [
  {
   "cell_type": "code",
   "execution_count": 1,
   "metadata": {
    "collapsed": true
   },
   "outputs": [],
   "source": [
    "%load_ext autoreload\n",
    "%autoreload 2"
   ]
  },
  {
   "cell_type": "code",
   "execution_count": 2,
   "metadata": {
    "collapsed": true
   },
   "outputs": [],
   "source": [
    "import ammonia1\n",
    "import system_aqua1\n",
    "import numpy as np\n",
    "import matplotlib.pyplot as plt"
   ]
  },
  {
   "cell_type": "code",
   "execution_count": 3,
   "metadata": {},
   "outputs": [
    {
     "data": {
      "text/plain": [
       "stream             T_inlet    mdot     cp\n",
       "---------------  ---------  ------  -----\n",
       "heat                   400    1     4.179\n",
       "absorberReject         305    3     4.179\n",
       "condReject             305    5     4.179\n",
       "cold                   285    4     4.179\n",
       "rectifierReject        305    0.15  4.179"
      ]
     },
     "execution_count": 3,
     "metadata": {},
     "output_type": "execute_result"
    }
   ],
   "source": [
    "T_heat_reject = 305.\n",
    "U = 100\n",
    "xB = [400, 1, T_heat_reject, 3, T_heat_reject, 5, 285, 4, T_heat_reject, 0.15]\n",
    "bdry = system_aqua1.makeBoundary(xB)\n",
    "bdry"
   ]
  },
  {
   "cell_type": "code",
   "execution_count": 4,
   "metadata": {},
   "outputs": [
    {
     "data": {
      "text/plain": [
       "                                 T         P         x          h         s          u           v            Qu\n",
       "-------------------------  -------  --------  --------  ---------  --------  ---------  ----------  ------------\n",
       "rich_abs_outlet            310.249   4.87444  0.512028   -73.1846  0.395262   -73.7844  0.00123041   0\n",
       "rich_pump_outlet           310.413  15.1396   0.512028   -71.6061  0.396279   -73.4682  0.00122993  -0.001\n",
       "rich_shx_outlet            345.852  15.1396   0.512028    89.9885  0.889071    88.0334  0.00129135  -0.001\n",
       "rich_gen_sat_liquid        351.91   15.1396   0.512028   118.322   0.970284   116.346   0.00130467   0\n",
       "weak_gen_outlet            374.14   15.1396   0.39475    225.935   1.26082    224.014   0.00126878   0\n",
       "weak_shx_outlet            329.938  15.1396   0.39475     25.493   0.691038    23.6904  0.00119066  -0.001\n",
       "weak_exp_outlet            330.108   4.87444  0.39475     25.493   0.694743    24.911   0.00119402   7.84229e-06\n",
       "gen_vapor_outlet           351.91   15.1396   0.988148  1424.52    4.5745    1268.66    0.102953     1\n",
       "gen_reflux_inlet           351.91   15.1396   0.512027   118.318   0.970274   116.343   0.00130468   0\n",
       "refrig_rect_outlet         313.695  15.1396   0.999869  1297.85    4.19504   1167.34    0.0862066    0.999598\n",
       "refrig_cond_outlet         312.164  15.1396   0.999869   186.035   0.641824   183.419   0.00172798   0\n",
       "refrig_cehx_liquid_outlet  295.029  15.1396   0.999869   102.713   0.367562   100.22    0.00164681  -0.001\n",
       "refrig_exp_outlet          276.591   4.87444  0.999869   102.713   0.382108    93.3482  0.0192126    0.069211\n",
       "refrig_evap_outlet         277.977   4.87444  0.999869  1273.03    4.59441   1147.43    0.257979     0.998\n",
       "refrig_cehx_sat_vapor      283.596   4.87444  0.999869  1289.93    4.65374   1160.79    0.264932     1\n",
       "refrig_cehx_vapor_outlet   310.343   4.87444  0.999869  1356.35    4.87695   1211.83    0.296502     1.001\n",
       "rectifier_liquid           313.695  15.1396   0.957859   162.404   0.668534   159.871   0.00167345   0\n",
       "gen_vapor_formation        374.14   15.1396   0.958501  1515.65    4.8222    1347.4     0.111135     1\n",
       "abs_vapor_final            330.108   4.87444  0.982609  1422.49    5.08428   1267.55    0.317852     1\n",
       "\n",
       "name              unit             value\n",
       "----------------  ------  --------------\n",
       "Q_abs             kW      -182.886\n",
       "Q_gen             kW       192.048\n",
       "Q_cond            kW      -110.508\n",
       "Q_evap            kW       116.323\n",
       "Q_reflux          kW       -15.7864\n",
       "Q_shx             kW        82.873\n",
       "Q_cehx            kW         8.28166\n",
       "W_pump            kW         0.809528\n",
       "COP               kW/kW      0.605697\n",
       "ZeroCheck         kW         1.97555e-05\n",
       "ZeroCheckSHX      kW         1.02529e-06\n",
       "ZeroCheckCEHX     kW        -2.07808e-05\n",
       "Q_gen_rect_combo  kW       176.262\n",
       "Q_refrig_side     kW        -5.81476\n",
       "ZeroCheckRect     kg/s       0\n",
       "m_rich            kg/s       0.512845\n",
       "m_weak            kg/s       0.41345\n",
       "m_gen_vapor       kg/s       0.101841\n",
       "m_gen_reflux      kg/s       0.00244687\n",
       "m_refrig          kg/s       0.0993943"
      ]
     },
     "execution_count": 4,
     "metadata": {},
     "output_type": "execute_result"
    }
   ],
   "source": [
    "xC = np.array([0.51284472, 277.97717012, 312.16427764, 313.6952877,\n",
    "               310.24856734, 374.14020482])\n",
    "ch = system_aqua1.makeChiller(xC)\n",
    "ch"
   ]
  },
  {
   "cell_type": "code",
   "execution_count": 5,
   "metadata": {},
   "outputs": [
    {
     "name": "stderr",
     "output_type": "stream",
     "text": [
      "C:\\Users\\nfette\\Miniconda3\\envs\\openACHP\\lib\\site-packages\\scipy\\interpolate\\_cubic.py:147: RuntimeWarning: divide by zero encountered in true_divide\n",
      "  mk = (y[1:] - y[:-1]) / hk\n",
      "C:\\Users\\nfette\\Miniconda3\\envs\\openACHP\\lib\\site-packages\\scipy\\interpolate\\_cubic.py:165: RuntimeWarning: invalid value encountered in true_divide\n",
      "  whmean = (w1/mk[:-1] + w2/mk[1:]) / (w1 + w2)\n"
     ]
    },
    {
     "data": {
      "image/png": "[encoded data removed]",
      "text/plain": [
       "<matplotlib.figure.Figure at 0x8cc6bb0>"
      ]
     },
     "metadata": {},
     "output_type": "display_data"
    },
    {
     "data": {
      "image/png": "[encoded data removed]",
      "text/plain": [
       "<matplotlib.figure.Figure at 0x9087370>"
      ]
     },
     "metadata": {},
     "output_type": "display_data"
    },
    {
     "data": {
      "image/png": "[encoded data removed]",
      "text/plain": [
       "<matplotlib.figure.Figure at 0x90c6ff0>"
      ]
     },
     "metadata": {},
     "output_type": "display_data"
    }
   ],
   "source": [
    "ch.display()\n",
    "plt.show()"
   ]
  },
  {
   "cell_type": "code",
   "execution_count": 6,
   "metadata": {},
   "outputs": [
    {
     "name": "stderr",
     "output_type": "stream",
     "text": [
      "C:\\Users\\nfette\\Miniconda3\\envs\\openACHP\\lib\\site-packages\\scipy\\interpolate\\_cubic.py:147: RuntimeWarning: divide by zero encountered in true_divide\n",
      "  mk = (y[1:] - y[:-1]) / hk\n",
      "C:\\Users\\nfette\\Miniconda3\\envs\\openACHP\\lib\\site-packages\\scipy\\interpolate\\_cubic.py:165: RuntimeWarning: invalid value encountered in true_divide\n",
      "  whmean = (w1/mk[:-1] + w2/mk[1:]) / (w1 + w2)\n"
     ]
    },
    {
     "data": {
      "text/plain": [
       "name      deltaT    epsilon        UA         Q\n",
       "------  --------  ---------  --------  --------\n",
       "gen      5.60995   0.891216  14.9063   192.048\n",
       "rect     8.66502   0.799757   1.04183   15.7864\n",
       "abs      5.25365   0.735388  27.2915   182.886\n",
       "cond     2.20854   0.967334  27.3363   110.508\n",
       "evap     1.45034   0.982521  29.4333   116.323\n",
       "totalUA = 100.00919302098899"
      ]
     },
     "execution_count": 6,
     "metadata": {},
     "output_type": "execute_result"
    }
   ],
   "source": [
    "sys = system_aqua1.System(boundary=bdry, chiller=ch)\n",
    "sys"
   ]
  },
  {
   "cell_type": "code",
   "execution_count": 3,
   "metadata": {},
   "outputs": [
    {
     "data": {
      "text/plain": [
       "'6.0.0'"
      ]
     },
     "execution_count": 3,
     "metadata": {},
     "output_type": "execute_result"
    }
   ],
   "source": [
    "from ipywidgets import interact, interactive, fixed, interact_manual\n",
    "import ipywidgets as widgets\n",
    "widgets.__version__"
   ]
  },
  {
   "cell_type": "code",
   "execution_count": 4,
   "metadata": {},
   "outputs": [
    {
     "name": "stdout",
     "output_type": "stream",
     "text": [
      "5 squared is 25\n"
     ]
    },
    {
     "data": {
      "text/plain": [
       "<function __main__.square>"
      ]
     },
     "execution_count": 4,
     "metadata": {},
     "output_type": "execute_result"
    }
   ],
   "source": [
    "def square(num=1):\n",
    "        print(\"{} squared is {}\".format(num, num*num))\n",
    "interact(square, num=5)"
   ]
  },
  {
   "cell_type": "code",
   "execution_count": 5,
   "metadata": {},
   "outputs": [
    {
     "name": "stderr",
     "output_type": "stream",
     "text": [
      "Widget Javascript not detected.  It may not be installed or enabled properly.\n"
     ]
    },
    {
     "data": {
      "application/vnd.jupyter.widget-view+json": {
       "model_id": "01553f39ebdf48feab8e99d055705182"
      }
     },
     "metadata": {},
     "output_type": "display_data"
    }
   ],
   "source": [
    "from ipywidgets import IntSlider\n",
    "from IPython.display import display\n",
    "slider = IntSlider(min=1, max=10)\n",
    "display(slider)"
   ]
  },
  {
   "cell_type": "code",
   "execution_count": 6,
   "metadata": {},
   "outputs": [
    {
     "name": "stderr",
     "output_type": "stream",
     "text": [
      "Widget Javascript not detected.  It may not be installed or enabled properly.\n"
     ]
    },
    {
     "data": {
      "application/vnd.jupyter.widget-view+json": {
       "model_id": "008cbedd0b554c1eb1618388b45e1345"
      }
     },
     "metadata": {},
     "output_type": "display_data"
    }
   ],
   "source": [
    "IntSlider(5)"
   ]
  },
  {
   "cell_type": "code",
   "execution_count": null,
   "metadata": {
    "collapsed": true
   },
   "outputs": [],
   "source": []
  }
 ],
 "metadata": {
  "kernelspec": {
   "display_name": "Python 3",
   "language": "python",
   "name": "python3"
  },
  "language_info": {
   "codemirror_mode": {
    "name": "ipython",
    "version": 3
   },
   "file_extension": ".py",
   "mimetype": "text/x-python",
   "name": "python",
   "nbconvert_exporter": "python",
   "pygments_lexer": "ipython3",
   "version": "3.6.2"
  }
 },
 "nbformat": 4,
 "nbformat_minor": 2
}
