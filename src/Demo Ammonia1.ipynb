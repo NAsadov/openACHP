{
 "cells": [
  {
   "cell_type": "code",
   "execution_count": 1,
   "metadata": {
    "collapsed": true,
    "slideshow": {
     "slide_type": "skip"
    }
   },
   "outputs": [],
   "source": [
    "%load_ext autoreload\n",
    "%autoreload 2"
   ]
  },
  {
   "cell_type": "markdown",
   "metadata": {
    "slideshow": {
     "slide_type": "slide"
    }
   },
   "source": [
    "# How to use ammonia-aqua system model from openACHP\n",
    "This Jupyter Notebook is part of the documentation for [openACHP](https://nfette.github.io/openACHP/). It has been exported to [HTML](https://nfette.github.io/openACHP/Demo%20Ammonia1.html) and [reveal.js slides](https://nfette.github.io/openACHP/Demo%20Ammonia1.slides.html#/).\n",
    "\n",
    "If you are viewing the slides, just type `space` to advance each slide. Type `?` to view keyboard shortcuts."
   ]
  },
  {
   "cell_type": "markdown",
   "metadata": {
    "slideshow": {
     "slide_type": "subslide"
    }
   },
   "source": [
    "To start, I'll import the modules I need ..."
   ]
  },
  {
   "cell_type": "code",
   "execution_count": 2,
   "metadata": {
    "collapsed": true,
    "slideshow": {
     "slide_type": "fragment"
    }
   },
   "outputs": [],
   "source": [
    "import ammonia1\n",
    "import system_aqua1\n",
    "import numpy as np\n",
    "import matplotlib.pyplot as plt"
   ]
  },
  {
   "cell_type": "markdown",
   "metadata": {
    "slideshow": {
     "slide_type": "slide"
    }
   },
   "source": [
    "## Boundary\n",
    "Now I can create what I call a boundary for the chiller, in other words the specification of available resources, such as flow streams for bringing in or rejecting heat. I'll need that to evaluate heat exchangers later. In the output, we can see each of the flow streams defined where it goes into the chiller."
   ]
  },
  {
   "cell_type": "code",
   "execution_count": 16,
   "metadata": {
    "slideshow": {
     "slide_type": "subslide"
    }
   },
   "outputs": [
    {
     "data": {
      "text/html": [
       "<table>\n",
       "<thead>\n",
       "<tr><th>stream         </th><th style=\"text-align: right;\">  T_inlet</th><th style=\"text-align: right;\">  mdot</th><th style=\"text-align: right;\">   cp</th></tr>\n",
       "</thead>\n",
       "<tbody>\n",
       "<tr><td>heat           </td><td style=\"text-align: right;\">      400</td><td style=\"text-align: right;\">  1   </td><td style=\"text-align: right;\">4.179</td></tr>\n",
       "<tr><td>absorberReject </td><td style=\"text-align: right;\">      293</td><td style=\"text-align: right;\">  3   </td><td style=\"text-align: right;\">4.179</td></tr>\n",
       "<tr><td>condReject     </td><td style=\"text-align: right;\">      293</td><td style=\"text-align: right;\">  5   </td><td style=\"text-align: right;\">4.179</td></tr>\n",
       "<tr><td>cold           </td><td style=\"text-align: right;\">      285</td><td style=\"text-align: right;\">  4   </td><td style=\"text-align: right;\">4.179</td></tr>\n",
       "<tr><td>rectifierReject</td><td style=\"text-align: right;\">      293</td><td style=\"text-align: right;\">  0.15</td><td style=\"text-align: right;\">4.179</td></tr>\n",
       "</tbody>\n",
       "</table>"
      ],
      "text/plain": [
       "stream             T_inlet    mdot     cp\n",
       "---------------  ---------  ------  -----\n",
       "heat                   400    1     4.179\n",
       "absorberReject         293    3     4.179\n",
       "condReject             293    5     4.179\n",
       "cold                   285    4     4.179\n",
       "rectifierReject        293    0.15  4.179"
      ]
     },
     "execution_count": 16,
     "metadata": {},
     "output_type": "execute_result"
    }
   ],
   "source": [
    "T_heat_reject = 293.\n",
    "U = 100\n",
    "xB = [400, 1, T_heat_reject, 3, T_heat_reject, 5, 285, 4, T_heat_reject, 0.15]\n",
    "bdry = system_aqua1.makeBoundary(xB)\n",
    "bdry"
   ]
  },
  {
   "cell_type": "markdown",
   "metadata": {
    "slideshow": {
     "slide_type": "slide"
    }
   },
   "source": [
    "## Chiller\n",
    "We select a chiller model. I'm showing ammonia-aqua, single-effect system. Just for reference, here is a drawing explaining the chiller model..."
   ]
  },
  {
   "cell_type": "code",
   "execution_count": 4,
   "metadata": {
    "collapsed": true,
    "slideshow": {
     "slide_type": "skip"
    }
   },
   "outputs": [],
   "source": [
    "secret_sauce=\"\"\"\n",
    "<script class=\"comment\">\n",
    "/*\n",
    "These are all the state points:\n",
    "rich_abs_outlet\n",
    "rich_pump_outlet\n",
    "rich_shx_outlet\n",
    "rich_gen_sat_liquid\n",
    "weak_gen_outlet\n",
    "weak_shx_outlet\n",
    "weak_exp_outlet\n",
    "gen_vapor_outlet\n",
    "gen_reflux_inlet\n",
    "refrig_rect_outlet\n",
    "refrig_cond_outlet\n",
    "refrig_cehx_liquid_outlet\n",
    "refrig_exp_outlet\n",
    "refrig_evap_outlet\n",
    "refrig_cehx_sat_vapor\n",
    "refrig_cehx_vapor_outlet\n",
    "rectifier_liquid\n",
    "gen_vapor_formation\n",
    "abs_vapor_final\n",
    "*/\n",
    ";\n",
    "</script>\n",
    "\n",
    "<script type=\"application/json\" id=\"stuff\">\n",
    "{\n",
    "    \"1\": \"rich_abs_outlet\",\n",
    "    \"2\": \"rich_pump_outlet\",\n",
    "    \"3\": \"rich_shx_outlet\",\n",
    "    \"3'\": \"rich_gen_sat_liquid\",\n",
    "    \"4\": \"weak_gen_outlet\",\n",
    "    \"5\": \"weak_shx_outlet\",\n",
    "    \"6\": \"weak_exp_outlet\",\n",
    "    \"7(f)\": \"gen_reflux_inlet\",\n",
    "    \"8(g)\": \"gen_vapor_outlet\",\n",
    "    \"9\": \"refrig_rect_outlet\",\n",
    "    \"10\": \"refrig_cond_outlet\",\n",
    "    \"11\": \"refrig_cehx_liquid_outlet\",\n",
    "    \"12\": \"refrig_exp_outlet\",\n",
    "    \"13\": \"refrig_evap_outlet\",\n",
    "    \"14\": \"refrig_cehx_vapor_outlet\"\n",
    "}\n",
    "</script>\n",
    "\n",
    "<script type=\"application/json\" id=\"mydiagramdata\">\n",
    "{}\n",
    "</script>\n",
    "\n",
    "<script>\n",
    "// TODO: security problem\n",
    "map = JSON.parse($(\"#stuff\").text());\n",
    "$(\"svg:first\").children(\"text\").children().each(function(){\n",
    "  key = $(this).text();\n",
    "  if (key in map) {\n",
    "    // If we got here, then the element is a point label\n",
    "    \n",
    "    // Note that this line won't work due to a bug with jQuery and svg\n",
    "    //$(this).addClass(map[key]);\n",
    "    \n",
    "    this.classList.add('point_label');\n",
    "    $(this).data('point_label',map[key]);\n",
    "    $(this).hover(tooltipHoverIn, tooltipHoverOut);\n",
    "  }\n",
    "});\n",
    "\n",
    "function tooltipHoverIn(event){\n",
    "    var key = $(this).data('point_label');\n",
    "    console.log('Creating a tooltip at ' + event.pageX + ',' + event.pageY + ' for \"' + key +'\"');\n",
    "    // $('<div class=\"tooltip\">test</div>').appendTo('body');\n",
    "    var diagram_data = JSON.parse($(\"#mydiagramdata\").text());\n",
    "    var point = diagram_data[key];\n",
    "    var divtext = '<b>' +key + '</b><br/>';\n",
    "    for (point_key in point) {\n",
    "       divtext += point_key + ': ' + point[point_key].toPrecision(6) + '<br/>';\n",
    "    }\n",
    "    $('<div class=\"tooltip\">' + divtext + '</div>').appendTo('body');\n",
    "    var tPosX = event.pageX + 10;\n",
    "    var tPosY = event.pageY - 50;\n",
    "    $('div.tooltip').css({'position': 'absolute', 'top': tPosY+'px', 'left': tPosX+'px',\n",
    "      'opacity':1, 'background-color':'white', 'border':'1px solid black'});\n",
    "}\n",
    "\n",
    "function tooltipHoverOut(event){\n",
    "  $('div.tooltip').remove();\n",
    "  console.log(\"and you're out\");\n",
    "}\n",
    "\n",
    "$(\"svg:first\").click(function(){\n",
    "  for (var key in map) {\n",
    "    cls = \".\" + map[key]\n",
    "    $(cls).html(map[key]);\n",
    "    \n",
    "  }\n",
    "});\n",
    "</script>\n",
    "\n",
    "<p>Single-effect ammonia-water absorption cycle model. Mouse over state points to view fluid state data.</p>\n",
    "\"\"\""
   ]
  },
  {
   "cell_type": "code",
   "execution_count": 5,
   "metadata": {
    "slideshow": {
     "slide_type": "fragment"
    }
   },
   "outputs": [
    {
     "data": {
      "image/svg+xml": [
       "<svg viewBox=\"54 27 989 345\" xmlns=\"http://www.w3.org/2000/svg\" xmlns:xlink=\"http://www.w3.org/1999/xlink\">\n",
       "  <g>\n",
       "    <rect height=\"20\" style=\"fill: #1e90ff\" width=\"60\" x=\"700\" y=\"200\"/>\n",
       "    <rect height=\"20\" style=\"fill: none; fill-opacity:0; stroke-width: 2.35099e-037; stroke: #000000\" width=\"60\" x=\"700\" y=\"200\"/>\n",
       "  </g>\n",
       "  <g>\n",
       "    <rect height=\"20\" style=\"fill: #1e90ff\" width=\"80\" x=\"640\" y=\"160\"/>\n",
       "    <rect height=\"20\" style=\"fill: none; fill-opacity:0; stroke-width: 2.35099e-037; stroke: #000000\" width=\"80\" x=\"640\" y=\"160\"/>\n",
       "  </g>\n",
       "  <g>\n",
       "    <rect height=\"80\" style=\"fill: #1e90ff\" width=\"120\" x=\"640\" y=\"260\"/>\n",
       "    <rect height=\"80\" style=\"fill: none; fill-opacity:0; stroke-width: 2.35099e-037; stroke: #000000\" width=\"120\" x=\"640\" y=\"260\"/>\n",
       "  </g>\n",
       "  <rect height=\"280\" style=\"fill: none; fill-opacity:0; stroke-width: 2; stroke: #000000\" width=\"120\" x=\"640\" y=\"60\"/>\n",
       "  <g>\n",
       "    <rect height=\"30\" style=\"fill: #ffffff\" width=\"100\" x=\"200\" y=\"310\"/>\n",
       "    <rect height=\"30\" style=\"fill: none; fill-opacity:0; stroke-width: 2; stroke: #000000\" width=\"100\" x=\"200\" y=\"310\"/>\n",
       "  </g>\n",
       "  <polyline points=\"210,325 234,325 236.667,320 242,330 247.333,320 252.667,330 258,320 263.333,330 266,325 290,325 \" style=\"fill: none; fill-opacity:0; stroke-width: 2; stroke: #000000\"/>\n",
       "  <g>\n",
       "    <line style=\"fill: none; fill-opacity:0; stroke-width: 2; stroke: #000000\" x1=\"210\" x2=\"210\" y1=\"325\" y2=\"360.264\"/>\n",
       "    <polygon points=\"210,367.764 205,357.764 210,360.264 215,357.764 \" style=\"fill: #000000\"/>\n",
       "    <polygon points=\"210,367.764 205,357.764 210,360.264 215,357.764 \" style=\"fill: none; fill-opacity:0; stroke-width: 2; stroke: #000000\"/>\n",
       "  </g>\n",
       "  <g>\n",
       "    <line style=\"fill: none; fill-opacity:0; stroke-width: 2; stroke: #000000\" x1=\"290\" x2=\"290\" y1=\"370\" y2=\"334.736\"/>\n",
       "    <polygon points=\"290,327.236 295,337.236 290,334.736 285,337.236 \" style=\"fill: #000000\"/>\n",
       "    <polygon points=\"290,327.236 295,337.236 290,334.736 285,337.236 \" style=\"fill: none; fill-opacity:0; stroke-width: 2; stroke: #000000\"/>\n",
       "  </g>\n",
       "  <g>\n",
       "    <rect height=\"30\" style=\"fill: #ffffff\" width=\"100\" x=\"200\" y=\"60\"/>\n",
       "    <rect height=\"30\" style=\"fill: none; fill-opacity:0; stroke-width: 2; stroke: #000000\" width=\"100\" x=\"200\" y=\"60\"/>\n",
       "  </g>\n",
       "  <polyline points=\"210,75 234,75 236.667,70 242,80 247.333,70 252.667,80 258,70 263.333,80 266,75 290,75 \" style=\"fill: none; fill-opacity:0; stroke-width: 2; stroke: #000000\"/>\n",
       "  <g>\n",
       "    <line style=\"fill: none; fill-opacity:0; stroke-width: 2; stroke: #000000\" x1=\"210\" x2=\"210\" y1=\"30\" y2=\"65.2639\"/>\n",
       "    <polygon points=\"210,72.7639 205,62.7639 210,65.2639 215,62.7639 \" style=\"fill: #000000\"/>\n",
       "    <polygon points=\"210,72.7639 205,62.7639 210,65.2639 215,62.7639 \" style=\"fill: none; fill-opacity:0; stroke-width: 2; stroke: #000000\"/>\n",
       "  </g>\n",
       "  <g>\n",
       "    <line style=\"fill: none; fill-opacity:0; stroke-width: 2; stroke: #000000\" x1=\"290\" x2=\"290\" y1=\"75\" y2=\"39.7361\"/>\n",
       "    <polygon points=\"290,32.2361 295,42.2361 290,39.7361 285,42.2361 \" style=\"fill: #000000\"/>\n",
       "    <polygon points=\"290,32.2361 295,42.2361 290,39.7361 285,42.2361 \" style=\"fill: none; fill-opacity:0; stroke-width: 2; stroke: #000000\"/>\n",
       "  </g>\n",
       "  <g>\n",
       "    <rect height=\"30\" style=\"fill: #ffffff\" width=\"100\" x=\"360\" y=\"60\"/>\n",
       "    <rect height=\"30\" style=\"fill: none; fill-opacity:0; stroke-width: 2; stroke: #000000\" width=\"100\" x=\"360\" y=\"60\"/>\n",
       "  </g>\n",
       "  <g>\n",
       "    <rect height=\"60\" style=\"fill: #ffffff\" width=\"100\" x=\"360\" y=\"130\"/>\n",
       "    <rect height=\"60\" style=\"fill: none; fill-opacity:0; stroke-width: 2; stroke: #000000\" width=\"100\" x=\"360\" y=\"130\"/>\n",
       "  </g>\n",
       "  <polyline points=\"380,130 380,148 374,150 386,154 374,158 386,162 374,166 386,170 380,172 380,190 \" style=\"fill: none; fill-opacity:0; stroke-width: 2; stroke: #000000\"/>\n",
       "  <g>\n",
       "    <rect height=\"30\" style=\"fill: #ffffff\" width=\"100\" x=\"360\" y=\"310\"/>\n",
       "    <rect height=\"30\" style=\"fill: none; fill-opacity:0; stroke-width: 2; stroke: #000000\" width=\"100\" x=\"360\" y=\"310\"/>\n",
       "  </g>\n",
       "  <polyline points=\"370,325 394,325 396.667,320 402,330 407.333,320 412.667,330 418,320 423.333,330 426,325 450,325 \" style=\"fill: none; fill-opacity:0; stroke-width: 2; stroke: #000000\"/>\n",
       "  <g>\n",
       "    <line style=\"fill: none; fill-opacity:0; stroke-width: 2; stroke: #000000\" x1=\"370\" x2=\"370\" y1=\"370\" y2=\"334.736\"/>\n",
       "    <polygon points=\"370,327.236 375,337.236 370,334.736 365,337.236 \" style=\"fill: #000000\"/>\n",
       "    <polygon points=\"370,327.236 375,337.236 370,334.736 365,337.236 \" style=\"fill: none; fill-opacity:0; stroke-width: 2; stroke: #000000\"/>\n",
       "  </g>\n",
       "  <g>\n",
       "    <line style=\"fill: none; fill-opacity:0; stroke-width: 2; stroke: #000000\" x1=\"450\" x2=\"450\" y1=\"325\" y2=\"360.264\"/>\n",
       "    <polygon points=\"450,367.764 445,357.764 450,360.264 455,357.764 \" style=\"fill: #000000\"/>\n",
       "    <polygon points=\"450,367.764 445,357.764 450,360.264 455,357.764 \" style=\"fill: none; fill-opacity:0; stroke-width: 2; stroke: #000000\"/>\n",
       "  </g>\n",
       "  <g>\n",
       "    <line style=\"fill: none; fill-opacity:0; stroke-width: 2; stroke: #000000\" x1=\"360\" x2=\"309.736\" y1=\"75\" y2=\"75\"/>\n",
       "    <polygon points=\"302.236,75 312.236,70 309.736,75 312.236,80 \" style=\"fill: #000000\"/>\n",
       "    <polygon points=\"302.236,75 312.236,70 309.736,75 312.236,80 \" style=\"fill: none; fill-opacity:0; stroke-width: 2; stroke: #000000\"/>\n",
       "  </g>\n",
       "  <g>\n",
       "    <line style=\"fill: none; fill-opacity:0; stroke-width: 2; stroke: #000000\" x1=\"220\" x2=\"220\" y1=\"90\" y2=\"120.264\"/>\n",
       "    <polygon points=\"220,127.764 215,117.764 220,120.264 225,117.764 \" style=\"fill: #000000\"/>\n",
       "    <polygon points=\"220,127.764 215,117.764 220,120.264 225,117.764 \" style=\"fill: none; fill-opacity:0; stroke-width: 2; stroke: #000000\"/>\n",
       "  </g>\n",
       "  <g>\n",
       "    <polygon points=\"200,230 240,270 200,270 240,230 \" style=\"fill: #ffffff\"/>\n",
       "    <polygon points=\"200,230 240,270 200,270 240,230 \" style=\"fill: none; fill-opacity:0; stroke-width: 2; stroke: #000000\"/>\n",
       "  </g>\n",
       "  <g>\n",
       "    <line style=\"fill: none; fill-opacity:0; stroke-width: 2; stroke: #000000\" x1=\"220\" x2=\"220\" y1=\"270\" y2=\"300.264\"/>\n",
       "    <polygon points=\"220,307.764 215,297.764 220,300.264 225,297.764 \" style=\"fill: #000000\"/>\n",
       "    <polygon points=\"220,307.764 215,297.764 220,300.264 225,297.764 \" style=\"fill: none; fill-opacity:0; stroke-width: 2; stroke: #000000\"/>\n",
       "  </g>\n",
       "  <g>\n",
       "    <ellipse cx=\"380\" cy=\"250\" rx=\"20\" ry=\"20\" style=\"fill: #ffffff\"/>\n",
       "    <ellipse cx=\"380\" cy=\"250\" rx=\"20\" ry=\"20\" style=\"fill: none; fill-opacity:0; stroke-width: 2; stroke: #000000\"/>\n",
       "    <ellipse cx=\"380\" cy=\"250\" rx=\"20\" ry=\"20\" style=\"fill: none; fill-opacity:0; stroke-width: 2; stroke: #000000\"/>\n",
       "  </g>\n",
       "  <g>\n",
       "    <polygon points=\"380,230 400,250 360,250 \" style=\"fill: #000000\"/>\n",
       "    <polygon points=\"380,230 400,250 360,250 \" style=\"fill: none; fill-opacity:0; stroke-width: 2; stroke: #000000\"/>\n",
       "  </g>\n",
       "  <g>\n",
       "    <polygon points=\"420,230 460,270 420,270 460,230 \" style=\"fill: #ffffff\"/>\n",
       "    <polygon points=\"420,230 460,270 420,270 460,230 \" style=\"fill: none; fill-opacity:0; stroke-width: 2; stroke: #000000\"/>\n",
       "  </g>\n",
       "  <g>\n",
       "    <line style=\"fill: none; fill-opacity:0; stroke-width: 2; stroke: #000000\" x1=\"380\" x2=\"380\" y1=\"310\" y2=\"279.736\"/>\n",
       "    <polygon points=\"380,272.236 385,282.236 380,279.736 375,282.236 \" style=\"fill: #000000\"/>\n",
       "    <polygon points=\"380,272.236 385,282.236 380,279.736 375,282.236 \" style=\"fill: none; fill-opacity:0; stroke-width: 2; stroke: #000000\"/>\n",
       "  </g>\n",
       "  <g>\n",
       "    <line style=\"fill: none; fill-opacity:0; stroke-width: 2; stroke: #000000\" x1=\"380\" x2=\"380\" y1=\"230\" y2=\"199.736\"/>\n",
       "    <polygon points=\"380,192.236 385,202.236 380,199.736 375,202.236 \" style=\"fill: #000000\"/>\n",
       "    <polygon points=\"380,192.236 385,202.236 380,199.736 375,202.236 \" style=\"fill: none; fill-opacity:0; stroke-width: 2; stroke: #000000\"/>\n",
       "  </g>\n",
       "  <g>\n",
       "    <line style=\"fill: none; fill-opacity:0; stroke-width: 2; stroke: #000000\" x1=\"440\" x2=\"440\" y1=\"270\" y2=\"300.264\"/>\n",
       "    <polygon points=\"440,307.764 435,297.764 440,300.264 445,297.764 \" style=\"fill: #000000\"/>\n",
       "    <polygon points=\"440,307.764 435,297.764 440,300.264 445,297.764 \" style=\"fill: none; fill-opacity:0; stroke-width: 2; stroke: #000000\"/>\n",
       "  </g>\n",
       "  <g>\n",
       "    <line style=\"fill: none; fill-opacity:0; stroke-width: 2; stroke: #000000\" x1=\"380\" x2=\"380\" y1=\"130\" y2=\"99.7361\"/>\n",
       "    <polygon points=\"380,92.2361 385,102.236 380,99.7361 375,102.236 \" style=\"fill: #000000\"/>\n",
       "    <polygon points=\"380,92.2361 385,102.236 380,99.7361 375,102.236 \" style=\"fill: none; fill-opacity:0; stroke-width: 2; stroke: #000000\"/>\n",
       "  </g>\n",
       "  <g>\n",
       "    <line style=\"fill: none; fill-opacity:0; stroke-width: 2; stroke: #000000\" x1=\"440\" x2=\"440\" y1=\"190\" y2=\"220.264\"/>\n",
       "    <polygon points=\"440,227.764 435,217.764 440,220.264 445,217.764 \" style=\"fill: #000000\"/>\n",
       "    <polygon points=\"440,227.764 435,217.764 440,220.264 445,217.764 \" style=\"fill: none; fill-opacity:0; stroke-width: 2; stroke: #000000\"/>\n",
       "  </g>\n",
       "  <polyline points=\"440,130 440,148 434,150 446,154 434,158 446,162 434,166 446,170 440,172 440,190 \" style=\"fill: none; fill-opacity:0; stroke-width: 2; stroke: #000000\"/>\n",
       "  <g>\n",
       "    <line style=\"fill: none; fill-opacity:0; stroke-width: 2; stroke: #000000\" x1=\"440\" x2=\"440\" y1=\"90\" y2=\"120.264\"/>\n",
       "    <polygon points=\"440,127.764 435,117.764 440,120.264 445,117.764 \" style=\"fill: #000000\"/>\n",
       "    <polygon points=\"440,127.764 435,117.764 440,120.264 445,117.764 \" style=\"fill: none; fill-opacity:0; stroke-width: 2; stroke: #000000\"/>\n",
       "  </g>\n",
       "  <line style=\"fill: none; fill-opacity:0; stroke-width: 2; stroke: #000000\" x1=\"200\" x2=\"220\" y1=\"50\" y2=\"50\"/>\n",
       "  <line style=\"fill: none; fill-opacity:0; stroke-width: 2; stroke: #000000\" x1=\"280\" x2=\"300\" y1=\"50\" y2=\"50\"/>\n",
       "  <line style=\"fill: none; fill-opacity:0; stroke-width: 2; stroke: #000000\" x1=\"210\" x2=\"230\" y1=\"110\" y2=\"110\"/>\n",
       "  <line style=\"fill: none; fill-opacity:0; stroke-width: 2; stroke: #000000\" x1=\"210\" x2=\"230\" y1=\"290\" y2=\"290\"/>\n",
       "  <line style=\"fill: none; fill-opacity:0; stroke-width: 2; stroke: #000000\" x1=\"370\" x2=\"390\" y1=\"210\" y2=\"210\"/>\n",
       "  <line style=\"fill: none; fill-opacity:0; stroke-width: 2; stroke: #000000\" x1=\"430\" x2=\"450\" y1=\"210\" y2=\"210\"/>\n",
       "  <line style=\"fill: none; fill-opacity:0; stroke-width: 2; stroke: #000000\" x1=\"370\" x2=\"390\" y1=\"290\" y2=\"290\"/>\n",
       "  <line style=\"fill: none; fill-opacity:0; stroke-width: 2; stroke: #000000\" x1=\"430\" x2=\"450\" y1=\"290\" y2=\"290\"/>\n",
       "  <line style=\"fill: none; fill-opacity:0; stroke-width: 2; stroke: #000000\" x1=\"440\" x2=\"460\" y1=\"350\" y2=\"350\"/>\n",
       "  <line style=\"fill: none; fill-opacity:0; stroke-width: 2; stroke: #000000\" x1=\"360\" x2=\"380\" y1=\"350\" y2=\"350\"/>\n",
       "  <line style=\"fill: none; fill-opacity:0; stroke-width: 2; stroke: #000000\" x1=\"430\" x2=\"450\" y1=\"110\" y2=\"110\"/>\n",
       "  <line style=\"fill: none; fill-opacity:0; stroke-width: 2; stroke: #000000\" x1=\"370\" x2=\"390\" y1=\"110\" y2=\"110\"/>\n",
       "  <line style=\"fill: none; fill-opacity:0; stroke-width: 2; stroke: #000000\" x1=\"340\" x2=\"340\" y1=\"314\" y2=\"336\"/>\n",
       "  <line style=\"fill: none; fill-opacity:0; stroke-width: 2; stroke: #000000\" x1=\"330\" x2=\"330\" y1=\"64\" y2=\"86\"/>\n",
       "  <line style=\"fill: none; fill-opacity:0; stroke-width: 2; stroke: #000000\" x1=\"200\" x2=\"220\" y1=\"350\" y2=\"350\"/>\n",
       "  <line style=\"fill: none; fill-opacity:0; stroke-width: 2; stroke: #000000\" x1=\"280\" x2=\"300\" y1=\"350\" y2=\"350\"/>\n",
       "  <text font-size=\"12.8\" style=\"fill: #000000;text-anchor:middle;font-family:sans-serif;font-style:normal;font-weight:normal\" x=\"330\" y=\"98.8\">\n",
       "    <tspan x=\"330\" y=\"98.8\">9</tspan>\n",
       "  </text>\n",
       "  <text font-size=\"12.8\" style=\"fill: #000000;text-anchor:end;font-family:sans-serif;font-style:normal;font-weight:normal\" x=\"360\" y=\"295.075\">\n",
       "    <tspan x=\"360\" y=\"295.075\">1</tspan>\n",
       "  </text>\n",
       "  <text font-size=\"12.8\" style=\"fill: #000000;text-anchor:end;font-family:sans-serif;font-style:normal;font-weight:normal\" x=\"360\" y=\"215.075\">\n",
       "    <tspan x=\"360\" y=\"215.075\">2</tspan>\n",
       "  </text>\n",
       "  <text font-size=\"12.8\" style=\"fill: #000000;text-anchor:end;font-family:sans-serif;font-style:normal;font-weight:normal\" x=\"360\" y=\"115.075\">\n",
       "    <tspan x=\"360\" y=\"115.075\">3</tspan>\n",
       "  </text>\n",
       "  <text font-size=\"12.8\" style=\"fill: #000000;text-anchor:start;font-family:sans-serif;font-style:normal;font-weight:normal\" x=\"460\" y=\"115.075\">\n",
       "    <tspan x=\"460\" y=\"115.075\">4</tspan>\n",
       "  </text>\n",
       "  <text font-size=\"12.8\" style=\"fill: #000000;text-anchor:start;font-family:sans-serif;font-style:normal;font-weight:normal\" x=\"460\" y=\"215.075\">\n",
       "    <tspan x=\"460\" y=\"215.075\">5</tspan>\n",
       "  </text>\n",
       "  <text font-size=\"12.8\" style=\"fill: #000000;text-anchor:end;font-family:sans-serif;font-style:normal;font-weight:normal\" x=\"440\" y=\"362.8\">\n",
       "    <tspan x=\"440\" y=\"362.8\">44</tspan>\n",
       "  </text>\n",
       "  <text font-size=\"12.8\" style=\"fill: #000000;text-anchor:start;font-family:sans-serif;font-style:normal;font-weight:normal\" x=\"480\" y=\"157.075\">\n",
       "    <tspan x=\"480\" y=\"157.075\">Solution heat</tspan>\n",
       "    <tspan x=\"480\" y=\"173.075\">exchanger (SHX)</tspan>\n",
       "  </text>\n",
       "  <text font-size=\"12.8\" style=\"fill: #000000;text-anchor:end;font-family:sans-serif;font-style:normal;font-weight:normal\" x=\"280\" y=\"47.35\">\n",
       "    <tspan x=\"280\" y=\"47.35\">42</tspan>\n",
       "  </text>\n",
       "  <text font-size=\"12.8\" style=\"fill: #000000;text-anchor:start;font-family:sans-serif;font-style:normal;font-weight:normal\" x=\"460\" y=\"295.075\">\n",
       "    <tspan x=\"460\" y=\"295.075\">6</tspan>\n",
       "  </text>\n",
       "  <text font-size=\"12.8\" style=\"fill: #000000;text-anchor:end;font-family:sans-serif;font-style:normal;font-weight:normal\" x=\"280\" y=\"362.8\">\n",
       "    <tspan x=\"280\" y=\"362.8\">51</tspan>\n",
       "  </text>\n",
       "  <text font-size=\"12.8\" style=\"fill: #000000;text-anchor:start;font-family:sans-serif;font-style:normal;font-weight:normal\" x=\"220\" y=\"362.8\">\n",
       "    <tspan x=\"220\" y=\"362.8\">52</tspan>\n",
       "  </text>\n",
       "  <text font-size=\"12.8\" style=\"fill: #000000;text-anchor:start;font-family:sans-serif;font-style:normal;font-weight:normal\" x=\"380\" y=\"362.8\">\n",
       "    <tspan x=\"380\" y=\"362.8\">43</tspan>\n",
       "  </text>\n",
       "  <text font-size=\"12.8\" style=\"fill: #000000;text-anchor:start;font-family:sans-serif;font-style:normal;font-weight:normal\" x=\"220\" y=\"47.35\">\n",
       "    <tspan x=\"220\" y=\"47.35\">41</tspan>\n",
       "  </text>\n",
       "  <text font-size=\"12.8\" style=\"fill: #000000;text-anchor:start;font-family:sans-serif;font-style:normal;font-weight:normal\" x=\"480\" y=\"247.075\">\n",
       "    <tspan x=\"480\" y=\"247.075\">Expansion</tspan>\n",
       "    <tspan x=\"480\" y=\"263.075\">valve</tspan>\n",
       "  </text>\n",
       "  <text font-size=\"12.8\" style=\"fill: #000000;text-anchor:end;font-family:sans-serif;font-style:normal;font-weight:normal\" x=\"360\" y=\"245.075\">\n",
       "    <tspan x=\"360\" y=\"245.075\">Pump</tspan>\n",
       "  </text>\n",
       "  <text font-size=\"12.8\" style=\"fill: #000000;text-anchor:start;font-family:sans-serif;font-style:normal;font-weight:normal\" x=\"480\" y=\"73.075\">\n",
       "    <tspan x=\"480\" y=\"73.075\">Rectifier</tspan>\n",
       "    <tspan x=\"480\" y=\"89.075\">&amp; Desorber</tspan>\n",
       "  </text>\n",
       "  <text font-size=\"12.8\" style=\"fill: #000000;text-anchor:end;font-family:sans-serif;font-style:normal;font-weight:normal\" x=\"170\" y=\"247.075\">\n",
       "    <tspan x=\"170\" y=\"247.075\">Refrigerant</tspan>\n",
       "    <tspan x=\"170\" y=\"263.075\">expansion valve</tspan>\n",
       "  </text>\n",
       "  <text font-size=\"12.8\" style=\"fill: #000000;text-anchor:end;font-family:sans-serif;font-style:normal;font-weight:normal\" x=\"180\" y=\"329.075\">\n",
       "    <tspan x=\"180\" y=\"329.075\">Evaporator</tspan>\n",
       "  </text>\n",
       "  <text font-size=\"12.8\" style=\"fill: #000000;text-anchor:start;font-family:sans-serif;font-style:normal;font-weight:normal\" x=\"230\" y=\"215.075\">\n",
       "    <tspan x=\"230\" y=\"215.075\">11</tspan>\n",
       "  </text>\n",
       "  <text font-size=\"12.8\" style=\"fill: #000000;text-anchor:middle;font-family:sans-serif;font-style:normal;font-weight:normal\" x=\"340\" y=\"307.35\">\n",
       "    <tspan x=\"340\" y=\"307.35\">14</tspan>\n",
       "  </text>\n",
       "  <text font-size=\"12.8\" style=\"fill: #000000;text-anchor:start;font-family:sans-serif;font-style:normal;font-weight:normal\" x=\"480\" y=\"321.075\">\n",
       "    <tspan x=\"480\" y=\"321.075\">Vapor</tspan>\n",
       "    <tspan x=\"480\" y=\"337.075\">absorber</tspan>\n",
       "  </text>\n",
       "  <text font-size=\"12.8\" style=\"fill: #000000;text-anchor:end;font-family:sans-serif;font-style:normal;font-weight:normal\" x=\"180\" y=\"81.075\">\n",
       "    <tspan x=\"180\" y=\"81.075\">Condenser</tspan>\n",
       "  </text>\n",
       "  <line style=\"fill: none; fill-opacity:0; stroke-width: 2; stroke: #000000\" x1=\"660\" x2=\"660\" y1=\"310\" y2=\"330\"/>\n",
       "  <line style=\"fill: none; fill-opacity:0; stroke-width: 2; stroke: #000000\" x1=\"620\" x2=\"620\" y1=\"310\" y2=\"330\"/>\n",
       "  <line style=\"fill: none; fill-opacity:0; stroke-width: 2; stroke: #000000\" x1=\"780\" x2=\"780\" y1=\"310\" y2=\"330\"/>\n",
       "  <g>\n",
       "    <line style=\"fill: none; fill-opacity:0; stroke-width: 2; stroke: #000000\" x1=\"600\" x2=\"630.264\" y1=\"280\" y2=\"280\"/>\n",
       "    <polygon points=\"637.764,280 627.764,285 630.264,280 627.764,275 \" style=\"fill: #000000\"/>\n",
       "    <polygon points=\"637.764,280 627.764,285 630.264,280 627.764,275 \" style=\"fill: none; fill-opacity:0; stroke-width: 2; stroke: #000000\"/>\n",
       "  </g>\n",
       "  <g>\n",
       "    <line style=\"fill: none; fill-opacity:0; stroke-width: 2; stroke: #000000\" x1=\"760\" x2=\"790.264\" y1=\"280\" y2=\"280\"/>\n",
       "    <polygon points=\"797.764,280 787.764,285 790.264,280 787.764,275 \" style=\"fill: #000000\"/>\n",
       "    <polygon points=\"797.764,280 787.764,285 790.264,280 787.764,275 \" style=\"fill: none; fill-opacity:0; stroke-width: 2; stroke: #000000\"/>\n",
       "  </g>\n",
       "  <line style=\"fill: none; fill-opacity:0; stroke-width: 2; stroke: #000000\" x1=\"620\" x2=\"620\" y1=\"270\" y2=\"290\"/>\n",
       "  <line style=\"fill: none; fill-opacity:0; stroke-width: 2; stroke: #000000\" x1=\"660\" x2=\"660\" y1=\"260\" y2=\"280\"/>\n",
       "  <text font-size=\"12.8\" style=\"fill: #000000;text-anchor:middle;font-family:sans-serif;font-style:normal;font-weight:normal\" x=\"620\" y=\"267.35\">\n",
       "    <tspan x=\"620\" y=\"267.35\">3</tspan>\n",
       "  </text>\n",
       "  <text font-size=\"12.8\" style=\"fill: #000000;text-anchor:middle;font-family:sans-serif;font-style:normal;font-weight:normal\" x=\"780\" y=\"267.35\">\n",
       "    <tspan x=\"780\" y=\"267.35\">4</tspan>\n",
       "  </text>\n",
       "  <text font-size=\"12.8\" style=\"fill: #000000;text-anchor:middle;font-family:sans-serif;font-style:normal;font-weight:normal\" x=\"780\" y=\"342.8\">\n",
       "    <tspan x=\"780\" y=\"342.8\">22</tspan>\n",
       "  </text>\n",
       "  <text font-size=\"12.8\" style=\"fill: #000000;text-anchor:middle;font-family:sans-serif;font-style:normal;font-weight:normal\" x=\"620\" y=\"342.8\">\n",
       "    <tspan x=\"620\" y=\"342.8\">25</tspan>\n",
       "  </text>\n",
       "  <text font-size=\"12.8\" style=\"fill: #000000;text-anchor:middle;font-family:sans-serif;font-style:normal;font-weight:normal\" x=\"660\" y=\"352.8\">\n",
       "    <tspan x=\"660\" y=\"352.8\">24</tspan>\n",
       "  </text>\n",
       "  <text font-size=\"12.8\" style=\"fill: #000000;text-anchor:start;font-family:sans-serif;font-style:normal;font-weight:normal\" x=\"670\" y=\"275.075\">\n",
       "    <tspan x=\"670\" y=\"275.075\">3'</tspan>\n",
       "  </text>\n",
       "  <line style=\"fill: none; fill-opacity:0; stroke-width: 4; stroke: #000000\" x1=\"640\" x2=\"660\" y1=\"260\" y2=\"260\"/>\n",
       "  <polyline points=\"600,320 660,320 666.667,310 680,330 693.333,310 706.667,330 720,310 733.333,330 740,320 800,320 \" style=\"fill: none; fill-opacity:0; stroke-width: 2; stroke: #000000\"/>\n",
       "  <g>\n",
       "    <line style=\"fill: none; fill-opacity:0; stroke-width: 2; stroke: #000000\" x1=\"800\" x2=\"769.736\" y1=\"320\" y2=\"320\"/>\n",
       "    <polygon points=\"762.236,320 772.236,315 769.736,320 772.236,325 \" style=\"fill: #000000\"/>\n",
       "    <polygon points=\"762.236,320 772.236,315 769.736,320 772.236,325 \" style=\"fill: none; fill-opacity:0; stroke-width: 2; stroke: #000000\"/>\n",
       "  </g>\n",
       "  <g>\n",
       "    <path d=\"M 750,250 A 25.6915,25.6915 0 0 0 734.712,231.45\" style=\"fill: none; fill-opacity:0; stroke-width: 2; stroke: #1e90ff\"/>\n",
       "    <polygon points=\"735.3,229.046 730.98,230.201 734.496,232.965 \" style=\"fill: #1e90ff\"/>\n",
       "    <polygon points=\"735.3,229.046 730.98,230.201 734.496,232.965 \" style=\"fill: none; fill-opacity:0; stroke-width: 2; stroke: #1e90ff\"/>\n",
       "  </g>\n",
       "  <g>\n",
       "    <line style=\"fill: none; fill-opacity:0; stroke-width: 2; stroke: #000000\" x1=\"640\" x2=\"609.736\" y1=\"320\" y2=\"320\"/>\n",
       "    <polygon points=\"602.236,320 612.236,315 609.736,320 612.236,325 \" style=\"fill: #000000\"/>\n",
       "    <polygon points=\"602.236,320 612.236,315 609.736,320 612.236,325 \" style=\"fill: none; fill-opacity:0; stroke-width: 2; stroke: #000000\"/>\n",
       "  </g>\n",
       "  <line style=\"fill: none; fill-opacity:0; stroke-width: 2; stroke: #000000\" x1=\"780\" x2=\"780\" y1=\"270\" y2=\"290\"/>\n",
       "  <text font-size=\"12.8\" style=\"fill: #000000;text-anchor:middle;font-family:sans-serif;font-style:normal;font-weight:normal\" x=\"720\" y=\"277.075\">\n",
       "    <tspan x=\"720\" y=\"277.075\">Vapor</tspan>\n",
       "    <tspan x=\"720\" y=\"293.075\">desorber</tspan>\n",
       "  </text>\n",
       "  <g>\n",
       "    <rect height=\"80\" style=\"fill: #1e90ff\" width=\"120\" x=\"880\" y=\"260\"/>\n",
       "    <rect height=\"80\" style=\"fill: none; fill-opacity:0; stroke-width: 2.35099e-037; stroke: #000000\" width=\"120\" x=\"880\" y=\"260\"/>\n",
       "  </g>\n",
       "  <rect height=\"120\" style=\"fill: none; fill-opacity:0; stroke-width: 2; stroke: #000000\" width=\"120\" x=\"880\" y=\"220\"/>\n",
       "  <line style=\"fill: none; fill-opacity:0; stroke-width: 2; stroke: #000000\" x1=\"860\" x2=\"860\" y1=\"310\" y2=\"330\"/>\n",
       "  <line style=\"fill: none; fill-opacity:0; stroke-width: 2; stroke: #000000\" x1=\"1020\" x2=\"1020\" y1=\"310\" y2=\"330\"/>\n",
       "  <g>\n",
       "    <line style=\"fill: none; fill-opacity:0; stroke-width: 2; stroke: #000000\" x1=\"880\" x2=\"849.736\" y1=\"280\" y2=\"280\"/>\n",
       "    <polygon points=\"842.236,280 852.236,275 849.736,280 852.236,285 \" style=\"fill: #000000\"/>\n",
       "    <polygon points=\"842.236,280 852.236,275 849.736,280 852.236,285 \" style=\"fill: none; fill-opacity:0; stroke-width: 2; stroke: #000000\"/>\n",
       "  </g>\n",
       "  <g>\n",
       "    <line style=\"fill: none; fill-opacity:0; stroke-width: 2; stroke: #000000\" x1=\"840\" x2=\"870.264\" y1=\"240\" y2=\"240\"/>\n",
       "    <polygon points=\"877.764,240 867.764,245 870.264,240 867.764,235 \" style=\"fill: #000000\"/>\n",
       "    <polygon points=\"877.764,240 867.764,245 870.264,240 867.764,235 \" style=\"fill: none; fill-opacity:0; stroke-width: 2; stroke: #000000\"/>\n",
       "  </g>\n",
       "  <g>\n",
       "    <line style=\"fill: none; fill-opacity:0; stroke-width: 2; stroke: #000000\" x1=\"1040\" x2=\"1009.74\" y1=\"260\" y2=\"260\"/>\n",
       "    <polygon points=\"1002.24,260 1012.24,255 1009.74,260 1012.24,265 \" style=\"fill: #000000\"/>\n",
       "    <polygon points=\"1002.24,260 1012.24,255 1009.74,260 1012.24,265 \" style=\"fill: none; fill-opacity:0; stroke-width: 2; stroke: #000000\"/>\n",
       "  </g>\n",
       "  <line style=\"fill: none; fill-opacity:0; stroke-width: 2; stroke: #000000\" x1=\"860\" x2=\"860\" y1=\"270\" y2=\"290\"/>\n",
       "  <text font-size=\"12.8\" style=\"fill: #000000;text-anchor:middle;font-family:sans-serif;font-style:normal;font-weight:normal\" x=\"860\" y=\"267.35\">\n",
       "    <tspan x=\"860\" y=\"267.35\">1</tspan>\n",
       "  </text>\n",
       "  <text font-size=\"12.8\" style=\"fill: #000000;text-anchor:middle;font-family:sans-serif;font-style:normal;font-weight:normal\" x=\"1020\" y=\"247.35\">\n",
       "    <tspan x=\"1020\" y=\"247.35\">6</tspan>\n",
       "  </text>\n",
       "  <text font-size=\"12.8\" style=\"fill: #000000;text-anchor:middle;font-family:sans-serif;font-style:normal;font-weight:normal\" x=\"860\" y=\"227.35\">\n",
       "    <tspan x=\"860\" y=\"227.35\">14</tspan>\n",
       "  </text>\n",
       "  <line style=\"fill: none; fill-opacity:0; stroke-width: 2; stroke: #000000\" x1=\"860\" x2=\"860\" y1=\"230\" y2=\"250\"/>\n",
       "  <text font-size=\"12.8\" style=\"fill: #000000;text-anchor:middle;font-family:sans-serif;font-style:normal;font-weight:normal\" x=\"1020\" y=\"342.8\">\n",
       "    <tspan x=\"1020\" y=\"342.8\">44</tspan>\n",
       "  </text>\n",
       "  <text font-size=\"12.8\" style=\"fill: #000000;text-anchor:middle;font-family:sans-serif;font-style:normal;font-weight:normal\" x=\"860\" y=\"342.8\">\n",
       "    <tspan x=\"860\" y=\"342.8\">43</tspan>\n",
       "  </text>\n",
       "  <polyline points=\"840,320 900,320 906.667,310 920,330 933.333,310 946.667,330 960,310 973.333,330 980,320 1040,320 \" style=\"fill: none; fill-opacity:0; stroke-width: 2; stroke: #000000\"/>\n",
       "  <g>\n",
       "    <line style=\"fill: none; fill-opacity:0; stroke-width: 2; stroke: #000000\" x1=\"1000\" x2=\"1030.26\" y1=\"320\" y2=\"320\"/>\n",
       "    <polygon points=\"1037.76,320 1027.76,325 1030.26,320 1027.76,315 \" style=\"fill: #000000\"/>\n",
       "    <polygon points=\"1037.76,320 1027.76,325 1030.26,320 1027.76,315 \" style=\"fill: none; fill-opacity:0; stroke-width: 2; stroke: #000000\"/>\n",
       "  </g>\n",
       "  <g>\n",
       "    <path d=\"M 919.298,245.158 A 20.5061,20.5061 0 0 0 900,230\" style=\"fill: none; fill-opacity:0; stroke-width: 2; stroke: #1e90ff\"/>\n",
       "    <polygon points=\"917.879,245.05 919.976,249 921.877,244.953 \" style=\"fill: #1e90ff\"/>\n",
       "    <polygon points=\"917.879,245.05 919.976,249 921.877,244.953 \" style=\"fill: none; fill-opacity:0; stroke-width: 2; stroke: #1e90ff\"/>\n",
       "  </g>\n",
       "  <g>\n",
       "    <path d=\"M 949.298,245.158 A 20.5061,20.5061 0 0 0 930,230\" style=\"fill: none; fill-opacity:0; stroke-width: 2; stroke: #1e90ff\"/>\n",
       "    <polygon points=\"947.879,245.05 949.976,249 951.877,244.953 \" style=\"fill: #1e90ff\"/>\n",
       "    <polygon points=\"947.879,245.05 949.976,249 951.877,244.953 \" style=\"fill: none; fill-opacity:0; stroke-width: 2; stroke: #1e90ff\"/>\n",
       "  </g>\n",
       "  <g>\n",
       "    <path d=\"M 979.298,245.158 A 20.5061,20.5061 0 0 0 960,230\" style=\"fill: none; fill-opacity:0; stroke-width: 2; stroke: #1e90ff\"/>\n",
       "    <polygon points=\"977.879,245.05 979.976,249 981.877,244.953 \" style=\"fill: #1e90ff\"/>\n",
       "    <polygon points=\"977.879,245.05 979.976,249 981.877,244.953 \" style=\"fill: none; fill-opacity:0; stroke-width: 2; stroke: #1e90ff\"/>\n",
       "  </g>\n",
       "  <g>\n",
       "    <line style=\"fill: none; fill-opacity:0; stroke-width: 2; stroke: #000000\" x1=\"840\" x2=\"870.264\" y1=\"320\" y2=\"320\"/>\n",
       "    <polygon points=\"877.764,320 867.764,325 870.264,320 867.764,315 \" style=\"fill: #000000\"/>\n",
       "    <polygon points=\"877.764,320 867.764,325 870.264,320 867.764,315 \" style=\"fill: none; fill-opacity:0; stroke-width: 2; stroke: #000000\"/>\n",
       "  </g>\n",
       "  <line style=\"fill: none; fill-opacity:0; stroke-width: 2; stroke: #000000\" x1=\"1020\" x2=\"1020\" y1=\"250\" y2=\"270\"/>\n",
       "  <text font-size=\"12.8\" style=\"fill: #000000;text-anchor:middle;font-family:sans-serif;font-style:normal;font-weight:normal\" x=\"940\" y=\"277.075\">\n",
       "    <tspan x=\"940\" y=\"277.075\">Vapor</tspan>\n",
       "    <tspan x=\"940\" y=\"293.075\">absorber</tspan>\n",
       "  </text>\n",
       "  <g>\n",
       "    <rect height=\"60\" style=\"fill: #ffffff\" width=\"100\" x=\"200\" y=\"130\"/>\n",
       "    <rect height=\"60\" style=\"fill: none; fill-opacity:0; stroke-width: 2; stroke: #000000\" width=\"100\" x=\"200\" y=\"130\"/>\n",
       "  </g>\n",
       "  <polyline points=\"220,130 220,148 214,150 226,154 214,158 226,162 214,166 226,170 220,172 220,190 \" style=\"fill: none; fill-opacity:0; stroke-width: 2; stroke: #000000\"/>\n",
       "  <polyline points=\"280,130 280,148 274,150 286,154 274,158 286,162 274,166 286,170 280,172 280,190 \" style=\"fill: none; fill-opacity:0; stroke-width: 2; stroke: #000000\"/>\n",
       "  <g>\n",
       "    <line style=\"fill: none; fill-opacity:0; stroke-width: 2; stroke: #000000\" x1=\"220\" x2=\"220\" y1=\"190\" y2=\"220.264\"/>\n",
       "    <polygon points=\"220,227.764 215,217.764 220,220.264 225,217.764 \" style=\"fill: #000000\"/>\n",
       "    <polygon points=\"220,227.764 215,217.764 220,220.264 225,217.764 \" style=\"fill: none; fill-opacity:0; stroke-width: 2; stroke: #000000\"/>\n",
       "  </g>\n",
       "  <g>\n",
       "    <line style=\"fill: none; fill-opacity:0; stroke-width: 2; stroke: #000000\" x1=\"280\" x2=\"280\" y1=\"310\" y2=\"199.736\"/>\n",
       "    <polygon points=\"280,192.236 285,202.236 280,199.736 275,202.236 \" style=\"fill: #000000\"/>\n",
       "    <polygon points=\"280,192.236 285,202.236 280,199.736 275,202.236 \" style=\"fill: none; fill-opacity:0; stroke-width: 2; stroke: #000000\"/>\n",
       "  </g>\n",
       "  <g>\n",
       "    <polyline points=\"280,130 280,109 319.5,109 319.5,325 350.264,325 \" style=\"fill: none; fill-opacity:0; stroke-width: 2; stroke: #000000\"/>\n",
       "    <polygon points=\"357.764,325 347.764,330 350.264,325 347.764,320 \" style=\"fill: #000000\"/>\n",
       "    <polygon points=\"357.764,325 347.764,330 350.264,325 347.764,320 \" style=\"fill: none; fill-opacity:0; stroke-width: 2; stroke: #000000\"/>\n",
       "  </g>\n",
       "  <line style=\"fill: none; fill-opacity:0; stroke-width: 2; stroke: #000000\" x1=\"210\" x2=\"230\" y1=\"210\" y2=\"210\"/>\n",
       "  <line style=\"fill: none; fill-opacity:0; stroke-width: 2; stroke: #000000\" x1=\"270\" x2=\"290\" y1=\"250\" y2=\"250\"/>\n",
       "  <text font-size=\"12.8\" style=\"fill: #000000;text-anchor:end;font-family:sans-serif;font-style:normal;font-weight:normal\" x=\"180\" y=\"149.075\">\n",
       "    <tspan x=\"180\" y=\"149.075\">Condenser-Evaporator</tspan>\n",
       "    <tspan x=\"180\" y=\"165.075\">Heat Exchanger</tspan>\n",
       "    <tspan x=\"180\" y=\"181.075\">(CEHX)</tspan>\n",
       "  </text>\n",
       "  <text font-size=\"12.8\" style=\"fill: #000000;text-anchor:start;font-family:sans-serif;font-style:normal;font-weight:normal\" x=\"230\" y=\"295.075\">\n",
       "    <tspan x=\"230\" y=\"295.075\">12</tspan>\n",
       "  </text>\n",
       "  <text font-size=\"12.8\" style=\"fill: #000000;text-anchor:start;font-family:sans-serif;font-style:normal;font-weight:normal\" x=\"230\" y=\"115.075\">\n",
       "    <tspan x=\"230\" y=\"115.075\">10</tspan>\n",
       "  </text>\n",
       "  <text font-size=\"12.8\" style=\"fill: #000000;text-anchor:end;font-family:sans-serif;font-style:normal;font-weight:normal\" x=\"270\" y=\"255.075\">\n",
       "    <tspan x=\"270\" y=\"255.075\">13</tspan>\n",
       "  </text>\n",
       "  <line style=\"fill: none; fill-opacity:0; stroke-width: 2; stroke: #000000\" x1=\"700\" x2=\"760\" y1=\"220\" y2=\"220\"/>\n",
       "  <line style=\"fill: none; fill-opacity:0; stroke-width: 2; stroke: #000000\" x1=\"700\" x2=\"700\" y1=\"200\" y2=\"220\"/>\n",
       "  <line style=\"fill: none; fill-opacity:0; stroke-width: 2; stroke: #000000\" x1=\"640\" x2=\"720\" y1=\"180\" y2=\"180\"/>\n",
       "  <line style=\"fill: none; fill-opacity:0; stroke-width: 2; stroke: #000000\" x1=\"720\" x2=\"720\" y1=\"160\" y2=\"180\"/>\n",
       "  <path d=\"M 700 80 L 700,92 C 690,90.5 680,89 680,96.5 C 680,104 700,105.5 700,101 C 700,96.5 680,98 680,105.5 C 680,113 700,114.5 700,110 C 700,105.5 680,107 680,114.5 C 680,122 700,123.5 700,119 C 700,114.5 680,116 680,123.5 C 680,131 695,129.5 700,128 L 700,140\" style=\"fill: none; fill-opacity:0; stroke-width: 2; stroke: #000000\"/>\n",
       "  <g>\n",
       "    <line style=\"fill: none; fill-opacity:0; stroke-width: 2; stroke: #000000\" x1=\"700\" x2=\"790.264\" y1=\"80\" y2=\"80\"/>\n",
       "    <polygon points=\"797.764,80 787.764,85 790.264,80 787.764,75 \" style=\"fill: #000000\"/>\n",
       "    <polygon points=\"797.764,80 787.764,85 790.264,80 787.764,75 \" style=\"fill: none; fill-opacity:0; stroke-width: 2; stroke: #000000\"/>\n",
       "  </g>\n",
       "  <g>\n",
       "    <line style=\"fill: none; fill-opacity:0; stroke-width: 2; stroke: #000000\" x1=\"800\" x2=\"709.736\" y1=\"140\" y2=\"140\"/>\n",
       "    <polygon points=\"702.236,140 712.236,135 709.736,140 712.236,145 \" style=\"fill: #000000\"/>\n",
       "    <polygon points=\"702.236,140 712.236,135 709.736,140 712.236,145 \" style=\"fill: none; fill-opacity:0; stroke-width: 2; stroke: #000000\"/>\n",
       "  </g>\n",
       "  <line style=\"fill: none; fill-opacity:0; stroke-width: 2; stroke: #000000\" x1=\"780\" x2=\"780\" y1=\"70\" y2=\"90\"/>\n",
       "  <line style=\"fill: none; fill-opacity:0; stroke-width: 2; stroke: #000000\" x1=\"780\" x2=\"780\" y1=\"130\" y2=\"150\"/>\n",
       "  <g>\n",
       "    <line style=\"fill: none; fill-opacity:0; stroke-width: 2; stroke: #000000\" x1=\"680\" x2=\"680\" y1=\"200\" y2=\"230.264\"/>\n",
       "    <polygon points=\"680,237.764 675,227.764 680,230.264 685,227.764 \" style=\"fill: #000000\"/>\n",
       "    <polygon points=\"680,237.764 675,227.764 680,230.264 685,227.764 \" style=\"fill: none; fill-opacity:0; stroke-width: 2; stroke: #000000\"/>\n",
       "  </g>\n",
       "  <g>\n",
       "    <line style=\"fill: none; fill-opacity:0; stroke-width: 2; stroke: #1e90ff\" x1=\"660\" x2=\"660\" y1=\"240\" y2=\"209.736\"/>\n",
       "    <polygon points=\"660,202.236 665,212.236 660,209.736 655,212.236 \" style=\"fill: #1e90ff\"/>\n",
       "    <polygon points=\"660,202.236 665,212.236 660,209.736 655,212.236 \" style=\"fill: none; fill-opacity:0; stroke-width: 2; stroke: #1e90ff\"/>\n",
       "  </g>\n",
       "  <text font-size=\"12.8\" style=\"fill: #000000;text-anchor:start;font-family:sans-serif;font-style:normal;font-weight:normal\" x=\"711\" y=\"110.001\">\n",
       "    <tspan x=\"711\" y=\"110.001\">Reflux</tspan>\n",
       "    <tspan x=\"711\" y=\"126.001\">coil</tspan>\n",
       "  </text>\n",
       "  <text font-size=\"12.8\" style=\"fill: #1e90ff;text-anchor:middle;font-family:sans-serif;font-style:normal;font-weight:normal\" x=\"660\" y=\"197.35\">\n",
       "    <tspan x=\"660\" y=\"197.35\">8(g)</tspan>\n",
       "  </text>\n",
       "  <text font-size=\"12.8\" style=\"fill: #000000;text-anchor:middle;font-family:sans-serif;font-style:normal;font-weight:normal\" x=\"680\" y=\"252.8\">\n",
       "    <tspan x=\"680\" y=\"252.8\">7(f)</tspan>\n",
       "  </text>\n",
       "  <g>\n",
       "    <ellipse cx=\"680\" cy=\"108\" rx=\"4\" ry=\"4\" style=\"fill: #1e90ff\"/>\n",
       "    <ellipse cx=\"680\" cy=\"108\" rx=\"4\" ry=\"4\" style=\"fill: none; fill-opacity:0; stroke-width: 2.35099e-037; stroke: #000000\"/>\n",
       "    <ellipse cx=\"680\" cy=\"108\" rx=\"4\" ry=\"4\" style=\"fill: none; fill-opacity:0; stroke-width: 2.35099e-037; stroke: #000000\"/>\n",
       "  </g>\n",
       "  <g>\n",
       "    <ellipse cx=\"676\" cy=\"128\" rx=\"4\" ry=\"4\" style=\"fill: #1e90ff\"/>\n",
       "    <ellipse cx=\"676\" cy=\"128\" rx=\"4\" ry=\"4\" style=\"fill: none; fill-opacity:0; stroke-width: 2.35099e-037; stroke: #000000\"/>\n",
       "    <ellipse cx=\"676\" cy=\"128\" rx=\"4\" ry=\"4\" style=\"fill: none; fill-opacity:0; stroke-width: 2.35099e-037; stroke: #000000\"/>\n",
       "  </g>\n",
       "  <g>\n",
       "    <ellipse cx=\"676\" cy=\"148\" rx=\"4\" ry=\"4\" style=\"fill: #1e90ff\"/>\n",
       "    <ellipse cx=\"676\" cy=\"148\" rx=\"4\" ry=\"4\" style=\"fill: none; fill-opacity:0; stroke-width: 2.35099e-037; stroke: #000000\"/>\n",
       "    <ellipse cx=\"676\" cy=\"148\" rx=\"4\" ry=\"4\" style=\"fill: none; fill-opacity:0; stroke-width: 2.35099e-037; stroke: #000000\"/>\n",
       "  </g>\n",
       "  <g>\n",
       "    <ellipse cx=\"732\" cy=\"172\" rx=\"4\" ry=\"4\" style=\"fill: #1e90ff\"/>\n",
       "    <ellipse cx=\"732\" cy=\"172\" rx=\"4\" ry=\"4\" style=\"fill: none; fill-opacity:0; stroke-width: 2.35099e-037; stroke: #000000\"/>\n",
       "    <ellipse cx=\"732\" cy=\"172\" rx=\"4\" ry=\"4\" style=\"fill: none; fill-opacity:0; stroke-width: 2.35099e-037; stroke: #000000\"/>\n",
       "  </g>\n",
       "  <g>\n",
       "    <ellipse cx=\"728\" cy=\"188\" rx=\"4\" ry=\"4\" style=\"fill: #1e90ff\"/>\n",
       "    <ellipse cx=\"728\" cy=\"188\" rx=\"4\" ry=\"4\" style=\"fill: none; fill-opacity:0; stroke-width: 2.35099e-037; stroke: #000000\"/>\n",
       "    <ellipse cx=\"728\" cy=\"188\" rx=\"4\" ry=\"4\" style=\"fill: none; fill-opacity:0; stroke-width: 2.35099e-037; stroke: #000000\"/>\n",
       "  </g>\n",
       "  <text font-size=\"12.8\" style=\"fill: #000000;text-anchor:start;font-family:sans-serif;font-style:normal;font-weight:normal\" x=\"770\" y=\"205.075\">\n",
       "    <tspan x=\"770\" y=\"205.075\">Rectifier</tspan>\n",
       "  </text>\n",
       "  <g>\n",
       "    <ellipse cx=\"694\" cy=\"204\" rx=\"4\" ry=\"4\" style=\"fill: #1e90ff\"/>\n",
       "    <ellipse cx=\"694\" cy=\"204\" rx=\"4\" ry=\"4\" style=\"fill: none; fill-opacity:0; stroke-width: 2.35099e-037; stroke: #000000\"/>\n",
       "    <ellipse cx=\"694\" cy=\"204\" rx=\"4\" ry=\"4\" style=\"fill: none; fill-opacity:0; stroke-width: 2.35099e-037; stroke: #000000\"/>\n",
       "  </g>\n",
       "  <g>\n",
       "    <ellipse cx=\"690\" cy=\"220\" rx=\"4\" ry=\"4\" style=\"fill: #1e90ff\"/>\n",
       "    <ellipse cx=\"690\" cy=\"220\" rx=\"4\" ry=\"4\" style=\"fill: none; fill-opacity:0; stroke-width: 2.35099e-037; stroke: #000000\"/>\n",
       "    <ellipse cx=\"690\" cy=\"220\" rx=\"4\" ry=\"4\" style=\"fill: none; fill-opacity:0; stroke-width: 2.35099e-037; stroke: #000000\"/>\n",
       "  </g>\n",
       "  <g>\n",
       "    <ellipse cx=\"700\" cy=\"240\" rx=\"4\" ry=\"4\" style=\"fill: #1e90ff\"/>\n",
       "    <ellipse cx=\"700\" cy=\"240\" rx=\"4\" ry=\"4\" style=\"fill: none; fill-opacity:0; stroke-width: 2.35099e-037; stroke: #000000\"/>\n",
       "    <ellipse cx=\"700\" cy=\"240\" rx=\"4\" ry=\"4\" style=\"fill: none; fill-opacity:0; stroke-width: 2.35099e-037; stroke: #000000\"/>\n",
       "  </g>\n",
       "  <text font-size=\"12.8\" style=\"fill: #000000;text-anchor:middle;font-family:sans-serif;font-style:normal;font-weight:normal\" x=\"780\" y=\"162.8\">\n",
       "    <tspan x=\"780\" y=\"162.8\">45</tspan>\n",
       "  </text>\n",
       "  <text font-size=\"12.8\" style=\"fill: #000000;text-anchor:middle;font-family:sans-serif;font-style:normal;font-weight:normal\" x=\"780\" y=\"102.8\">\n",
       "    <tspan x=\"780\" y=\"102.8\">46</tspan>\n",
       "  </text>\n",
       "  <g>\n",
       "    <line style=\"fill: none; fill-opacity:0; stroke-width: 2; stroke: #000000\" x1=\"640\" x2=\"609.736\" y1=\"80\" y2=\"80\"/>\n",
       "    <polygon points=\"602.236,80 612.236,75 609.736,80 612.236,85 \" style=\"fill: #000000\"/>\n",
       "    <polygon points=\"602.236,80 612.236,75 609.736,80 612.236,85 \" style=\"fill: none; fill-opacity:0; stroke-width: 2; stroke: #000000\"/>\n",
       "  </g>\n",
       "  <line style=\"fill: none; fill-opacity:0; stroke-width: 2; stroke: #000000\" x1=\"620\" x2=\"620\" y1=\"70\" y2=\"90\"/>\n",
       "  <text font-size=\"12.8\" style=\"fill: #000000;text-anchor:middle;font-family:sans-serif;font-style:normal;font-weight:normal\" x=\"620\" y=\"102.8\">\n",
       "    <tspan x=\"620\" y=\"102.8\">9</tspan>\n",
       "  </text>\n",
       "  <g>\n",
       "    <ellipse cx=\"870\" cy=\"130\" rx=\"20\" ry=\"20\" style=\"fill: #ffffff\"/>\n",
       "    <ellipse cx=\"870\" cy=\"130\" rx=\"20\" ry=\"20\" style=\"fill: none; fill-opacity:0; stroke-width: 2; stroke: #000000\"/>\n",
       "    <ellipse cx=\"870\" cy=\"130\" rx=\"20\" ry=\"20\" style=\"fill: none; fill-opacity:0; stroke-width: 2; stroke: #000000\"/>\n",
       "  </g>\n",
       "  <g>\n",
       "    <line style=\"fill: none; fill-opacity:0; stroke-width: 2; stroke: #000000\" x1=\"886.016\" x2=\"912.397\" y1=\"117.188\" y2=\"96.0821\"/>\n",
       "    <polygon points=\"918.254,91.3969 913.569,101.548 912.397,96.0821 907.322,93.7395 \" style=\"fill: #000000\"/>\n",
       "    <polygon points=\"918.254,91.3969 913.569,101.548 912.397,96.0821 907.322,93.7395 \" style=\"fill: none; fill-opacity:0; stroke-width: 2; stroke: #000000\"/>\n",
       "  </g>\n",
       "  <g>\n",
       "    <line style=\"fill: none; fill-opacity:0; stroke-width: 2; stroke: #000000\" x1=\"891.002\" x2=\"910.264\" y1=\"130\" y2=\"130\"/>\n",
       "    <polygon points=\"917.764,130 907.764,135 910.264,130 907.764,125 \" style=\"fill: #000000\"/>\n",
       "    <polygon points=\"917.764,130 907.764,135 910.264,130 907.764,125 \" style=\"fill: none; fill-opacity:0; stroke-width: 2; stroke: #000000\"/>\n",
       "  </g>\n",
       "  <g>\n",
       "    <line style=\"fill: none; fill-opacity:0; stroke-width: 2; stroke: #000000\" x1=\"886.016\" x2=\"912.397\" y1=\"142.813\" y2=\"163.918\"/>\n",
       "    <polygon points=\"918.254,168.603 907.322,166.261 912.397,163.918 913.569,158.452 \" style=\"fill: #000000\"/>\n",
       "    <polygon points=\"918.254,168.603 907.322,166.261 912.397,163.918 913.569,158.452 \" style=\"fill: none; fill-opacity:0; stroke-width: 2; stroke: #000000\"/>\n",
       "  </g>\n",
       "  <g>\n",
       "    <rect height=\"20\" style=\"fill: #ffffff\" width=\"40\" x=\"920\" y=\"80\"/>\n",
       "    <rect height=\"20\" style=\"fill: none; fill-opacity:0; stroke-width: 2; stroke: #000000\" width=\"40\" x=\"920\" y=\"80\"/>\n",
       "  </g>\n",
       "  <g>\n",
       "    <rect height=\"20\" style=\"fill: #ffffff\" width=\"40\" x=\"920\" y=\"120\"/>\n",
       "    <rect height=\"20\" style=\"fill: none; fill-opacity:0; stroke-width: 2; stroke: #000000\" width=\"40\" x=\"920\" y=\"120\"/>\n",
       "  </g>\n",
       "  <g>\n",
       "    <rect height=\"20\" style=\"fill: #ffffff\" width=\"40\" x=\"920\" y=\"160\"/>\n",
       "    <rect height=\"20\" style=\"fill: none; fill-opacity:0; stroke-width: 2; stroke: #000000\" width=\"40\" x=\"920\" y=\"160\"/>\n",
       "  </g>\n",
       "  <g>\n",
       "    <ellipse cx=\"1010\" cy=\"130\" rx=\"20\" ry=\"20\" style=\"fill: #ffffff\"/>\n",
       "    <ellipse cx=\"1010\" cy=\"130\" rx=\"20\" ry=\"20\" style=\"fill: none; fill-opacity:0; stroke-width: 2; stroke: #000000\"/>\n",
       "    <ellipse cx=\"1010\" cy=\"130\" rx=\"20\" ry=\"20\" style=\"fill: none; fill-opacity:0; stroke-width: 2; stroke: #000000\"/>\n",
       "  </g>\n",
       "  <g>\n",
       "    <line style=\"fill: none; fill-opacity:0; stroke-width: 2; stroke: #000000\" x1=\"960\" x2=\"986.382\" y1=\"90\" y2=\"111.105\"/>\n",
       "    <polygon points=\"992.238,115.791 981.306,113.448 986.382,111.105 987.553,105.639 \" style=\"fill: #000000\"/>\n",
       "    <polygon points=\"992.238,115.791 981.306,113.448 986.382,111.105 987.553,105.639 \" style=\"fill: none; fill-opacity:0; stroke-width: 2; stroke: #000000\"/>\n",
       "  </g>\n",
       "  <g>\n",
       "    <line style=\"fill: none; fill-opacity:0; stroke-width: 2; stroke: #000000\" x1=\"960\" x2=\"979.262\" y1=\"130\" y2=\"130\"/>\n",
       "    <polygon points=\"986.762,130 976.762,135 979.262,130 976.762,125 \" style=\"fill: #000000\"/>\n",
       "    <polygon points=\"986.762,130 976.762,135 979.262,130 976.762,125 \" style=\"fill: none; fill-opacity:0; stroke-width: 2; stroke: #000000\"/>\n",
       "  </g>\n",
       "  <g>\n",
       "    <line style=\"fill: none; fill-opacity:0; stroke-width: 2; stroke: #000000\" x1=\"960\" x2=\"986.382\" y1=\"170\" y2=\"148.895\"/>\n",
       "    <polygon points=\"992.238,144.209 987.553,154.361 986.382,148.895 981.306,146.552 \" style=\"fill: #000000\"/>\n",
       "    <polygon points=\"992.238,144.209 987.553,154.361 986.382,148.895 981.306,146.552 \" style=\"fill: none; fill-opacity:0; stroke-width: 2; stroke: #000000\"/>\n",
       "  </g>\n",
       "  <text font-size=\"12.8\" style=\"fill: #000000;text-anchor:end;font-family:sans-serif;font-style:normal;font-weight:normal\" x=\"910\" y=\"90\">\n",
       "    <tspan x=\"910\" y=\"90\">41</tspan>\n",
       "  </text>\n",
       "  <text font-size=\"12.8\" style=\"fill: #000000;text-anchor:end;font-family:sans-serif;font-style:normal;font-weight:normal\" x=\"920\" y=\"120\">\n",
       "    <tspan x=\"920\" y=\"120\">43</tspan>\n",
       "  </text>\n",
       "  <text font-size=\"12.8\" style=\"fill: #000000;text-anchor:end;font-family:sans-serif;font-style:normal;font-weight:normal\" x=\"910\" y=\"182.8\">\n",
       "    <tspan x=\"910\" y=\"182.8\">45</tspan>\n",
       "  </text>\n",
       "  <text font-size=\"12.8\" style=\"fill: #000000;text-anchor:start;font-family:sans-serif;font-style:normal;font-weight:normal\" x=\"970\" y=\"182.8\">\n",
       "    <tspan x=\"970\" y=\"182.8\">46</tspan>\n",
       "  </text>\n",
       "  <text font-size=\"12.8\" style=\"fill: #000000;text-anchor:start;font-family:sans-serif;font-style:normal;font-weight:normal\" x=\"960\" y=\"120\">\n",
       "    <tspan x=\"960\" y=\"120\">44</tspan>\n",
       "  </text>\n",
       "  <text font-size=\"12.8\" style=\"fill: #000000;text-anchor:start;font-family:sans-serif;font-style:normal;font-weight:normal\" x=\"970\" y=\"90\">\n",
       "    <tspan x=\"970\" y=\"90\">42</tspan>\n",
       "  </text>\n",
       "  <text font-size=\"12.8\" style=\"fill: #000000;text-anchor:middle;font-family:sans-serif;font-style:normal;font-weight:normal\" x=\"940\" y=\"95.075\">\n",
       "    <tspan x=\"940\" y=\"95.075\">Cond</tspan>\n",
       "  </text>\n",
       "  <text font-size=\"12.8\" style=\"fill: #000000;text-anchor:middle;font-family:sans-serif;font-style:normal;font-weight:normal\" x=\"940\" y=\"135.075\">\n",
       "    <tspan x=\"940\" y=\"135.075\">Abs</tspan>\n",
       "  </text>\n",
       "  <text font-size=\"12.8\" style=\"fill: #000000;text-anchor:middle;font-family:sans-serif;font-style:normal;font-weight:normal\" x=\"940\" y=\"175.075\">\n",
       "    <tspan x=\"940\" y=\"175.075\">Rect</tspan>\n",
       "  </text>\n",
       "  <text font-size=\"12.8\" style=\"fill: #000000;text-anchor:middle;font-family:sans-serif;font-style:normal;font-weight:normal\" x=\"870\" y=\"135.075\">\n",
       "    <tspan x=\"870\" y=\"135.075\">Amb</tspan>\n",
       "  </text>\n",
       "  <text font-size=\"12.8\" style=\"fill: #000000;text-anchor:middle;font-family:sans-serif;font-style:normal;font-weight:normal\" x=\"1010\" y=\"135.075\">\n",
       "    <tspan x=\"1010\" y=\"135.075\">Rej</tspan>\n",
       "  </text>\n",
       "  <text font-size=\"12.8\" style=\"fill: #000000;text-anchor:middle;font-family:sans-serif;font-style:normal;font-weight:normal\" x=\"940\" y=\"57.35\">\n",
       "    <tspan x=\"940\" y=\"57.35\">Heat rejection configuration</tspan>\n",
       "  </text>\n",
       "</svg>"
      ],
      "text/plain": [
       "<IPython.core.display.SVG object>"
      ]
     },
     "metadata": {},
     "output_type": "display_data"
    },
    {
     "data": {
      "text/html": [
       "\n",
       "<script class=\"comment\">\n",
       "/*\n",
       "These are all the state points:\n",
       "rich_abs_outlet\n",
       "rich_pump_outlet\n",
       "rich_shx_outlet\n",
       "rich_gen_sat_liquid\n",
       "weak_gen_outlet\n",
       "weak_shx_outlet\n",
       "weak_exp_outlet\n",
       "gen_vapor_outlet\n",
       "gen_reflux_inlet\n",
       "refrig_rect_outlet\n",
       "refrig_cond_outlet\n",
       "refrig_cehx_liquid_outlet\n",
       "refrig_exp_outlet\n",
       "refrig_evap_outlet\n",
       "refrig_cehx_sat_vapor\n",
       "refrig_cehx_vapor_outlet\n",
       "rectifier_liquid\n",
       "gen_vapor_formation\n",
       "abs_vapor_final\n",
       "*/\n",
       ";\n",
       "</script>\n",
       "\n",
       "<script type=\"application/json\" id=\"stuff\">\n",
       "{\n",
       "    \"1\": \"rich_abs_outlet\",\n",
       "    \"2\": \"rich_pump_outlet\",\n",
       "    \"3\": \"rich_shx_outlet\",\n",
       "    \"3'\": \"rich_gen_sat_liquid\",\n",
       "    \"4\": \"weak_gen_outlet\",\n",
       "    \"5\": \"weak_shx_outlet\",\n",
       "    \"6\": \"weak_exp_outlet\",\n",
       "    \"7(f)\": \"gen_reflux_inlet\",\n",
       "    \"8(g)\": \"gen_vapor_outlet\",\n",
       "    \"9\": \"refrig_rect_outlet\",\n",
       "    \"10\": \"refrig_cond_outlet\",\n",
       "    \"11\": \"refrig_cehx_liquid_outlet\",\n",
       "    \"12\": \"refrig_exp_outlet\",\n",
       "    \"13\": \"refrig_evap_outlet\",\n",
       "    \"14\": \"refrig_cehx_vapor_outlet\"\n",
       "}\n",
       "</script>\n",
       "\n",
       "<script type=\"application/json\" id=\"mydiagramdata\">\n",
       "{}\n",
       "</script>\n",
       "\n",
       "<script>\n",
       "// TODO: security problem\n",
       "map = JSON.parse($(\"#stuff\").text());\n",
       "$(\"svg:first\").children(\"text\").children().each(function(){\n",
       "  key = $(this).text();\n",
       "  if (key in map) {\n",
       "    // If we got here, then the element is a point label\n",
       "    \n",
       "    // Note that this line won't work due to a bug with jQuery and svg\n",
       "    //$(this).addClass(map[key]);\n",
       "    \n",
       "    this.classList.add('point_label');\n",
       "    $(this).data('point_label',map[key]);\n",
       "    $(this).hover(tooltipHoverIn, tooltipHoverOut);\n",
       "  }\n",
       "});\n",
       "\n",
       "function tooltipHoverIn(event){\n",
       "    var key = $(this).data('point_label');\n",
       "    console.log('Creating a tooltip at ' + event.pageX + ',' + event.pageY + ' for \"' + key +'\"');\n",
       "    // $('<div class=\"tooltip\">test</div>').appendTo('body');\n",
       "    var diagram_data = JSON.parse($(\"#mydiagramdata\").text());\n",
       "    var point = diagram_data[key];\n",
       "    var divtext = '<b>' +key + '</b><br/>';\n",
       "    for (point_key in point) {\n",
       "       divtext += point_key + ': ' + point[point_key].toPrecision(6) + '<br/>';\n",
       "    }\n",
       "    $('<div class=\"tooltip\">' + divtext + '</div>').appendTo('body');\n",
       "    var tPosX = event.pageX + 10;\n",
       "    var tPosY = event.pageY - 50;\n",
       "    $('div.tooltip').css({'position': 'absolute', 'top': tPosY+'px', 'left': tPosX+'px',\n",
       "      'opacity':1, 'background-color':'white', 'border':'1px solid black'});\n",
       "}\n",
       "\n",
       "function tooltipHoverOut(event){\n",
       "  $('div.tooltip').remove();\n",
       "  console.log(\"and you're out\");\n",
       "}\n",
       "\n",
       "$(\"svg:first\").click(function(){\n",
       "  for (var key in map) {\n",
       "    cls = \".\" + map[key]\n",
       "    $(cls).html(map[key]);\n",
       "    \n",
       "  }\n",
       "});\n",
       "</script>\n",
       "\n",
       "<p>Single-effect ammonia-water absorption cycle model. Mouse over state points to view fluid state data.</p>\n"
      ],
      "text/plain": [
       "<IPython.core.display.HTML object>"
      ]
     },
     "metadata": {},
     "output_type": "display_data"
    }
   ],
   "source": [
    "from IPython.display import HTML, SVG\n",
    "filename='../img/Diagram_for_ammonia.svg'\n",
    "img = SVG(filename=filename)\n",
    "display(img)\n",
    "display(HTML(secret_sauce))"
   ]
  },
  {
   "cell_type": "markdown",
   "metadata": {
    "slideshow": {
     "slide_type": "subslide"
    }
   },
   "source": [
    "If you are viewing this as slides you may want to see that as a video..."
   ]
  },
  {
   "cell_type": "markdown",
   "metadata": {
    "slideshow": {
     "slide_type": "fragment"
    }
   },
   "source": [
    "<iframe width=\"560\" height=\"315\" src=\"https://www.youtube.com/embed/KO1pO4zR578\" frameborder=\"0\" allowfullscreen></iframe>"
   ]
  },
  {
   "cell_type": "markdown",
   "metadata": {
    "slideshow": {
     "slide_type": "slide"
    }
   },
   "source": [
    "Now I'll specify and create a chiller. This specification is an output from one of my optimization runs, so it is supposed to be the \"best\" chiller with a total heat exchange inventory of 100 kW/K. The specification I've chosen is based on temperatures at a few key points, which allows me to solve the model procedurally, without an iterative solver."
   ]
  },
  {
   "cell_type": "code",
   "execution_count": 6,
   "metadata": {
    "collapsed": true,
    "slideshow": {
     "slide_type": "fragment"
    }
   },
   "outputs": [],
   "source": [
    "xC = np.array([0.51284472, 277.97717012, 312.16427764, 313.6952877,\n",
    "               310.24856734, 374.14020482])\n",
    "ch = system_aqua1.makeChiller(xC)"
   ]
  },
  {
   "cell_type": "markdown",
   "metadata": {
    "slideshow": {
     "slide_type": "subslide"
    }
   },
   "source": [
    "We can display a table of all the state points."
   ]
  },
  {
   "cell_type": "code",
   "execution_count": 7,
   "metadata": {
    "slideshow": {
     "slide_type": "fragment"
    }
   },
   "outputs": [
    {
     "data": {
      "text/html": [
       "<table>\n",
       "<thead>\n",
       "<tr><th>                         </th><th style=\"text-align: right;\">      T</th><th style=\"text-align: right;\">       P</th><th style=\"text-align: right;\">       x</th><th style=\"text-align: right;\">        h</th><th style=\"text-align: right;\">       s</th><th style=\"text-align: right;\">        u</th><th style=\"text-align: right;\">         v</th><th style=\"text-align: right;\">          Qu</th></tr>\n",
       "</thead>\n",
       "<tbody>\n",
       "<tr><td>rich_abs_outlet          </td><td style=\"text-align: right;\">310.249</td><td style=\"text-align: right;\"> 4.87444</td><td style=\"text-align: right;\">0.512028</td><td style=\"text-align: right;\"> -73.1846</td><td style=\"text-align: right;\">0.395262</td><td style=\"text-align: right;\"> -73.7844</td><td style=\"text-align: right;\">0.00123041</td><td style=\"text-align: right;\"> 0          </td></tr>\n",
       "<tr><td>rich_pump_outlet         </td><td style=\"text-align: right;\">310.413</td><td style=\"text-align: right;\">15.1396 </td><td style=\"text-align: right;\">0.512028</td><td style=\"text-align: right;\"> -71.6061</td><td style=\"text-align: right;\">0.396279</td><td style=\"text-align: right;\"> -73.4682</td><td style=\"text-align: right;\">0.00122993</td><td style=\"text-align: right;\">-0.001      </td></tr>\n",
       "<tr><td>rich_shx_outlet          </td><td style=\"text-align: right;\">345.852</td><td style=\"text-align: right;\">15.1396 </td><td style=\"text-align: right;\">0.512028</td><td style=\"text-align: right;\">  89.9885</td><td style=\"text-align: right;\">0.889071</td><td style=\"text-align: right;\">  88.0334</td><td style=\"text-align: right;\">0.00129135</td><td style=\"text-align: right;\">-0.001      </td></tr>\n",
       "<tr><td>rich_gen_sat_liquid      </td><td style=\"text-align: right;\">351.91 </td><td style=\"text-align: right;\">15.1396 </td><td style=\"text-align: right;\">0.512028</td><td style=\"text-align: right;\"> 118.322 </td><td style=\"text-align: right;\">0.970284</td><td style=\"text-align: right;\"> 116.346 </td><td style=\"text-align: right;\">0.00130467</td><td style=\"text-align: right;\"> 0          </td></tr>\n",
       "<tr><td>weak_gen_outlet          </td><td style=\"text-align: right;\">374.14 </td><td style=\"text-align: right;\">15.1396 </td><td style=\"text-align: right;\">0.39475 </td><td style=\"text-align: right;\"> 225.935 </td><td style=\"text-align: right;\">1.26082 </td><td style=\"text-align: right;\"> 224.014 </td><td style=\"text-align: right;\">0.00126878</td><td style=\"text-align: right;\"> 0          </td></tr>\n",
       "<tr><td>weak_shx_outlet          </td><td style=\"text-align: right;\">329.938</td><td style=\"text-align: right;\">15.1396 </td><td style=\"text-align: right;\">0.39475 </td><td style=\"text-align: right;\">  25.493 </td><td style=\"text-align: right;\">0.691038</td><td style=\"text-align: right;\">  23.6904</td><td style=\"text-align: right;\">0.00119066</td><td style=\"text-align: right;\">-0.001      </td></tr>\n",
       "<tr><td>weak_exp_outlet          </td><td style=\"text-align: right;\">330.108</td><td style=\"text-align: right;\"> 4.87444</td><td style=\"text-align: right;\">0.39475 </td><td style=\"text-align: right;\">  25.493 </td><td style=\"text-align: right;\">0.694743</td><td style=\"text-align: right;\">  24.911 </td><td style=\"text-align: right;\">0.00119402</td><td style=\"text-align: right;\"> 7.84229e-06</td></tr>\n",
       "<tr><td>gen_vapor_outlet         </td><td style=\"text-align: right;\">351.91 </td><td style=\"text-align: right;\">15.1396 </td><td style=\"text-align: right;\">0.988148</td><td style=\"text-align: right;\">1424.52  </td><td style=\"text-align: right;\">4.5745  </td><td style=\"text-align: right;\">1268.66  </td><td style=\"text-align: right;\">0.102953  </td><td style=\"text-align: right;\"> 1          </td></tr>\n",
       "<tr><td>gen_reflux_inlet         </td><td style=\"text-align: right;\">351.91 </td><td style=\"text-align: right;\">15.1396 </td><td style=\"text-align: right;\">0.512027</td><td style=\"text-align: right;\"> 118.318 </td><td style=\"text-align: right;\">0.970274</td><td style=\"text-align: right;\"> 116.343 </td><td style=\"text-align: right;\">0.00130468</td><td style=\"text-align: right;\"> 0          </td></tr>\n",
       "<tr><td>refrig_rect_outlet       </td><td style=\"text-align: right;\">313.695</td><td style=\"text-align: right;\">15.1396 </td><td style=\"text-align: right;\">0.999869</td><td style=\"text-align: right;\">1297.85  </td><td style=\"text-align: right;\">4.19504 </td><td style=\"text-align: right;\">1167.34  </td><td style=\"text-align: right;\">0.0862066 </td><td style=\"text-align: right;\"> 0.999598   </td></tr>\n",
       "<tr><td>refrig_cond_outlet       </td><td style=\"text-align: right;\">312.164</td><td style=\"text-align: right;\">15.1396 </td><td style=\"text-align: right;\">0.999869</td><td style=\"text-align: right;\"> 186.035 </td><td style=\"text-align: right;\">0.641824</td><td style=\"text-align: right;\"> 183.419 </td><td style=\"text-align: right;\">0.00172798</td><td style=\"text-align: right;\"> 0          </td></tr>\n",
       "<tr><td>refrig_cehx_liquid_outlet</td><td style=\"text-align: right;\">295.029</td><td style=\"text-align: right;\">15.1396 </td><td style=\"text-align: right;\">0.999869</td><td style=\"text-align: right;\"> 102.713 </td><td style=\"text-align: right;\">0.367562</td><td style=\"text-align: right;\"> 100.22  </td><td style=\"text-align: right;\">0.00164681</td><td style=\"text-align: right;\">-0.001      </td></tr>\n",
       "<tr><td>refrig_exp_outlet        </td><td style=\"text-align: right;\">276.591</td><td style=\"text-align: right;\"> 4.87444</td><td style=\"text-align: right;\">0.999869</td><td style=\"text-align: right;\"> 102.713 </td><td style=\"text-align: right;\">0.382108</td><td style=\"text-align: right;\">  93.3482</td><td style=\"text-align: right;\">0.0192126 </td><td style=\"text-align: right;\"> 0.069211   </td></tr>\n",
       "<tr><td>refrig_evap_outlet       </td><td style=\"text-align: right;\">277.977</td><td style=\"text-align: right;\"> 4.87444</td><td style=\"text-align: right;\">0.999869</td><td style=\"text-align: right;\">1273.03  </td><td style=\"text-align: right;\">4.59441 </td><td style=\"text-align: right;\">1147.43  </td><td style=\"text-align: right;\">0.257979  </td><td style=\"text-align: right;\"> 0.998      </td></tr>\n",
       "<tr><td>refrig_cehx_sat_vapor    </td><td style=\"text-align: right;\">283.596</td><td style=\"text-align: right;\"> 4.87444</td><td style=\"text-align: right;\">0.999869</td><td style=\"text-align: right;\">1289.93  </td><td style=\"text-align: right;\">4.65374 </td><td style=\"text-align: right;\">1160.79  </td><td style=\"text-align: right;\">0.264932  </td><td style=\"text-align: right;\"> 1          </td></tr>\n",
       "<tr><td>refrig_cehx_vapor_outlet </td><td style=\"text-align: right;\">310.343</td><td style=\"text-align: right;\"> 4.87444</td><td style=\"text-align: right;\">0.999869</td><td style=\"text-align: right;\">1356.35  </td><td style=\"text-align: right;\">4.87695 </td><td style=\"text-align: right;\">1211.83  </td><td style=\"text-align: right;\">0.296502  </td><td style=\"text-align: right;\"> 1.001      </td></tr>\n",
       "<tr><td>rectifier_liquid         </td><td style=\"text-align: right;\">313.695</td><td style=\"text-align: right;\">15.1396 </td><td style=\"text-align: right;\">0.957859</td><td style=\"text-align: right;\"> 162.404 </td><td style=\"text-align: right;\">0.668534</td><td style=\"text-align: right;\"> 159.871 </td><td style=\"text-align: right;\">0.00167345</td><td style=\"text-align: right;\"> 0          </td></tr>\n",
       "<tr><td>gen_vapor_formation      </td><td style=\"text-align: right;\">374.14 </td><td style=\"text-align: right;\">15.1396 </td><td style=\"text-align: right;\">0.958501</td><td style=\"text-align: right;\">1515.65  </td><td style=\"text-align: right;\">4.8222  </td><td style=\"text-align: right;\">1347.4   </td><td style=\"text-align: right;\">0.111135  </td><td style=\"text-align: right;\"> 1          </td></tr>\n",
       "<tr><td>abs_vapor_final          </td><td style=\"text-align: right;\">330.108</td><td style=\"text-align: right;\"> 4.87444</td><td style=\"text-align: right;\">0.982609</td><td style=\"text-align: right;\">1422.49  </td><td style=\"text-align: right;\">5.08428 </td><td style=\"text-align: right;\">1267.55  </td><td style=\"text-align: right;\">0.317852  </td><td style=\"text-align: right;\"> 1          </td></tr>\n",
       "</tbody>\n",
       "</table>"
      ],
      "text/plain": [
       "                                 T         P         x          h         s          u           v            Qu\n",
       "-------------------------  -------  --------  --------  ---------  --------  ---------  ----------  ------------\n",
       "rich_abs_outlet            310.249   4.87444  0.512028   -73.1846  0.395262   -73.7844  0.00123041   0\n",
       "rich_pump_outlet           310.413  15.1396   0.512028   -71.6061  0.396279   -73.4682  0.00122993  -0.001\n",
       "rich_shx_outlet            345.852  15.1396   0.512028    89.9885  0.889071    88.0334  0.00129135  -0.001\n",
       "rich_gen_sat_liquid        351.91   15.1396   0.512028   118.322   0.970284   116.346   0.00130467   0\n",
       "weak_gen_outlet            374.14   15.1396   0.39475    225.935   1.26082    224.014   0.00126878   0\n",
       "weak_shx_outlet            329.938  15.1396   0.39475     25.493   0.691038    23.6904  0.00119066  -0.001\n",
       "weak_exp_outlet            330.108   4.87444  0.39475     25.493   0.694743    24.911   0.00119402   7.84229e-06\n",
       "gen_vapor_outlet           351.91   15.1396   0.988148  1424.52    4.5745    1268.66    0.102953     1\n",
       "gen_reflux_inlet           351.91   15.1396   0.512027   118.318   0.970274   116.343   0.00130468   0\n",
       "refrig_rect_outlet         313.695  15.1396   0.999869  1297.85    4.19504   1167.34    0.0862066    0.999598\n",
       "refrig_cond_outlet         312.164  15.1396   0.999869   186.035   0.641824   183.419   0.00172798   0\n",
       "refrig_cehx_liquid_outlet  295.029  15.1396   0.999869   102.713   0.367562   100.22    0.00164681  -0.001\n",
       "refrig_exp_outlet          276.591   4.87444  0.999869   102.713   0.382108    93.3482  0.0192126    0.069211\n",
       "refrig_evap_outlet         277.977   4.87444  0.999869  1273.03    4.59441   1147.43    0.257979     0.998\n",
       "refrig_cehx_sat_vapor      283.596   4.87444  0.999869  1289.93    4.65374   1160.79    0.264932     1\n",
       "refrig_cehx_vapor_outlet   310.343   4.87444  0.999869  1356.35    4.87695   1211.83    0.296502     1.001\n",
       "rectifier_liquid           313.695  15.1396   0.957859   162.404   0.668534   159.871   0.00167345   0\n",
       "gen_vapor_formation        374.14   15.1396   0.958501  1515.65    4.8222    1347.4     0.111135     1\n",
       "abs_vapor_final            330.108   4.87444  0.982609  1422.49    5.08428   1267.55    0.317852     1"
      ]
     },
     "metadata": {},
     "output_type": "display_data"
    }
   ],
   "source": [
    "table = ch.getStateTable()\n",
    "display(table)"
   ]
  },
  {
   "cell_type": "code",
   "execution_count": 8,
   "metadata": {
    "slideshow": {
     "slide_type": "skip"
    }
   },
   "outputs": [
    {
     "data": {
      "text/html": [
       "<script>$('#mydiagramdata').text('{\"rich_abs_outlet\": {\"T\": 310.2485656738281, \"P\": 4.874439239501953, \"x\": 0.5120280385017395, \"h\": -73.18464660644531, \"s\": 0.3952621519565582, \"u\": -73.78440856933594, \"v\": 0.0012304085539653897, \"Qu\": 0.0}, \"rich_pump_outlet\": {\"T\": 310.41302490234375, \"P\": 15.13962459564209, \"x\": 0.5120280385017395, \"h\": -71.60614776611328, \"s\": 0.3962794840335846, \"u\": -73.46821594238281, \"v\": 0.0012299331137910485, \"Qu\": -0.0010000000474974513}, \"rich_shx_outlet\": {\"T\": 345.85235595703125, \"P\": 15.13962459564209, \"x\": 0.5120280385017395, \"h\": 89.9885025024414, \"s\": 0.8890711069107056, \"u\": 88.033447265625, \"v\": 0.0012913474347442389, \"Qu\": -0.0010000000474974513}, \"rich_gen_sat_liquid\": {\"T\": 351.90966796875, \"P\": 15.13962459564209, \"x\": 0.5120280385017395, \"h\": 118.32158660888672, \"s\": 0.9702842831611633, \"u\": 116.34635925292969, \"v\": 0.0013046744279563427, \"Qu\": 0.0}, \"weak_gen_outlet\": {\"T\": 374.14019775390625, \"P\": 15.13962459564209, \"x\": 0.39475011825561523, \"h\": 225.93531799316406, \"s\": 1.260822057723999, \"u\": 224.01443481445312, \"v\": 0.00126877729780972, \"Qu\": 0.0}, \"weak_shx_outlet\": {\"T\": 329.9377136230469, \"P\": 15.13962459564209, \"x\": 0.39475011825561523, \"h\": 25.492998123168945, \"s\": 0.6910381317138672, \"u\": 23.690378189086914, \"v\": 0.0011906634317710996, \"Qu\": -0.0010000000474974513}, \"weak_exp_outlet\": {\"T\": 330.1083068847656, \"P\": 4.874439239501953, \"x\": 0.39475011825561523, \"h\": 25.492998123168945, \"s\": 0.6947431564331055, \"u\": 24.910980224609375, \"v\": 0.0011940202675759792, \"Qu\": 7.842289051041007e-06}, \"gen_vapor_outlet\": {\"T\": 351.90966796875, \"P\": 15.13962459564209, \"x\": 0.9881479144096375, \"h\": 1424.5220947265625, \"s\": 4.574497222900391, \"u\": 1268.655517578125, \"v\": 0.10295277088880539, \"Qu\": 1.0}, \"gen_reflux_inlet\": {\"T\": 351.90966796875, \"P\": 15.13962459564209, \"x\": 0.512026846408844, \"h\": 118.31831359863281, \"s\": 0.9702741503715515, \"u\": 116.34307861328125, \"v\": 0.001304676290601492, \"Qu\": 0.0}, \"refrig_rect_outlet\": {\"T\": 313.6952819824219, \"P\": 15.13962459564209, \"x\": 0.9998689889907837, \"h\": 1297.851806640625, \"s\": 4.195043563842773, \"u\": 1167.33837890625, \"v\": 0.08620655536651611, \"Qu\": 0.9995977282524109}, \"refrig_cond_outlet\": {\"T\": 312.1642761230469, \"P\": 15.13962459564209, \"x\": 0.9998689889907837, \"h\": 186.0347137451172, \"s\": 0.6418237090110779, \"u\": 183.4185028076172, \"v\": 0.001727982540614903, \"Qu\": 0.0}, \"refrig_cehx_liquid_outlet\": {\"T\": 295.02850341796875, \"P\": 15.13962459564209, \"x\": 0.9998689889907837, \"h\": 102.7132339477539, \"s\": 0.36756229400634766, \"u\": 100.22002410888672, \"v\": 0.0016468141693621874, \"Qu\": -0.0010000000474974513}, \"refrig_exp_outlet\": {\"T\": 276.59088134765625, \"P\": 4.874439239501953, \"x\": 0.9998689889907837, \"h\": 102.7132339477539, \"s\": 0.38210806250572205, \"u\": 93.34815216064453, \"v\": 0.019212644547224045, \"Qu\": 0.0692109614610672}, \"refrig_evap_outlet\": {\"T\": 277.9771728515625, \"P\": 4.874439239501953, \"x\": 0.9998689889907837, \"h\": 1273.0325927734375, \"s\": 4.594407081604004, \"u\": 1147.4276123046875, \"v\": 0.25797945261001587, \"Qu\": 0.9980000257492065}, \"refrig_cehx_sat_vapor\": {\"T\": 283.5963134765625, \"P\": 4.874439239501953, \"x\": 0.9998689889907837, \"h\": 1289.9268798828125, \"s\": 4.653742790222168, \"u\": 1160.787353515625, \"v\": 0.2649320363998413, \"Qu\": 1.0}, \"refrig_cehx_vapor_outlet\": {\"T\": 310.3429870605469, \"P\": 4.874439239501953, \"x\": 0.9998689889907837, \"h\": 1356.3538818359375, \"s\": 4.876949787139893, \"u\": 1211.825927734375, \"v\": 0.2965017259120941, \"Qu\": 1.0010000467300415}, \"rectifier_liquid\": {\"T\": 313.6952819824219, \"P\": 15.13962459564209, \"x\": 0.9578588008880615, \"h\": 162.40431213378906, \"s\": 0.6685341000556946, \"u\": 159.8707733154297, \"v\": 0.001673446735367179, \"Qu\": 0.0}, \"gen_vapor_formation\": {\"T\": 374.14019775390625, \"P\": 15.13962459564209, \"x\": 0.958500862121582, \"h\": 1515.6514892578125, \"s\": 4.822197914123535, \"u\": 1347.39697265625, \"v\": 0.11113522946834564, \"Qu\": 1.0}, \"abs_vapor_final\": {\"T\": 330.1083068847656, \"P\": 4.874439239501953, \"x\": 0.9826090931892395, \"h\": 1422.488525390625, \"s\": 5.084283828735352, \"u\": 1267.553466796875, \"v\": 0.3178521394729614, \"Qu\": 1.0}}');</script>"
      ],
      "text/plain": [
       "<IPython.core.display.HTML object>"
      ]
     },
     "metadata": {},
     "output_type": "display_data"
    }
   ],
   "source": [
    "# This stores the table into the webpage ... now go mouse over the diagram.\n",
    "display(HTML(\"<script>$('#mydiagramdata').text('{}');</script>\".format(table.toJSON())))"
   ]
  },
  {
   "cell_type": "markdown",
   "metadata": {
    "slideshow": {
     "slide_type": "subslide"
    }
   },
   "source": [
    "We also get a table of the performance variables, such as heat flows (with a convention that positive indicates heat flowing into the chiller)."
   ]
  },
  {
   "cell_type": "code",
   "execution_count": 9,
   "metadata": {
    "slideshow": {
     "slide_type": "fragment"
    }
   },
   "outputs": [
    {
     "data": {
      "text/html": [
       "<table>\n",
       "<thead>\n",
       "<tr><th>name                   </th><th>unit  </th><th style=\"text-align: right;\">         value</th></tr>\n",
       "</thead>\n",
       "<tbody>\n",
       "<tr><td>Q_abs                  </td><td>kW    </td><td style=\"text-align: right;\">-182.886      </td></tr>\n",
       "<tr><td>Q_gen                  </td><td>kW    </td><td style=\"text-align: right;\"> 192.048      </td></tr>\n",
       "<tr><td>Q_cond                 </td><td>kW    </td><td style=\"text-align: right;\">-110.508      </td></tr>\n",
       "<tr><td>Q_evap                 </td><td>kW    </td><td style=\"text-align: right;\"> 116.323      </td></tr>\n",
       "<tr><td>Q_reflux               </td><td>kW    </td><td style=\"text-align: right;\"> -15.7864     </td></tr>\n",
       "<tr><td>Q_shx                  </td><td>kW    </td><td style=\"text-align: right;\">  82.873      </td></tr>\n",
       "<tr><td>Q_cehx                 </td><td>kW    </td><td style=\"text-align: right;\">   8.28166    </td></tr>\n",
       "<tr><td>W_pump                 </td><td>kW    </td><td style=\"text-align: right;\">   0.809528   </td></tr>\n",
       "<tr><td>COP                    </td><td>kW/kW </td><td style=\"text-align: right;\">   0.605697   </td></tr>\n",
       "<tr><td>ZeroCheck              </td><td>kW    </td><td style=\"text-align: right;\">   1.97555e-05</td></tr>\n",
       "<tr><td>ZeroCheckSHX           </td><td>kW    </td><td style=\"text-align: right;\">   1.02529e-06</td></tr>\n",
       "<tr><td>ZeroCheckCEHX          </td><td>kW    </td><td style=\"text-align: right;\">  -2.07808e-05</td></tr>\n",
       "<tr><td>Q_gen_rect_combo       </td><td>kW    </td><td style=\"text-align: right;\"> 176.262      </td></tr>\n",
       "<tr><td>Q_refrig_side          </td><td>kW    </td><td style=\"text-align: right;\">  -5.81476    </td></tr>\n",
       "<tr><td>ZeroCheckRect          </td><td>kg/s  </td><td style=\"text-align: right;\">   0          </td></tr>\n",
       "<tr><td>m_rich                 </td><td>kg/s  </td><td style=\"text-align: right;\">   0.512845   </td></tr>\n",
       "<tr><td>m_weak                 </td><td>kg/s  </td><td style=\"text-align: right;\">   0.41345    </td></tr>\n",
       "<tr><td>m_gen_vapor            </td><td>kg/s  </td><td style=\"text-align: right;\">   0.101841   </td></tr>\n",
       "<tr><td>m_gen_reflux           </td><td>kg/s  </td><td style=\"text-align: right;\">   0.00244687 </td></tr>\n",
       "<tr><td>m_refrig               </td><td>kg/s  </td><td style=\"text-align: right;\">   0.0993943  </td></tr>\n",
       "<tr><td>check_rectifier_delta_T</td><td>K     </td><td style=\"text-align: right;\">  38.2144     </td></tr>\n",
       "<tr><td>is_degenerate          </td><td>bool  </td><td style=\"text-align: right;\">   0          </td></tr>\n",
       "</tbody>\n",
       "</table>"
      ],
      "text/plain": [
       "name                     unit             value\n",
       "-----------------------  ------  --------------\n",
       "Q_abs                    kW      -182.886\n",
       "Q_gen                    kW       192.048\n",
       "Q_cond                   kW      -110.508\n",
       "Q_evap                   kW       116.323\n",
       "Q_reflux                 kW       -15.7864\n",
       "Q_shx                    kW        82.873\n",
       "Q_cehx                   kW         8.28166\n",
       "W_pump                   kW         0.809528\n",
       "COP                      kW/kW      0.605697\n",
       "ZeroCheck                kW         1.97555e-05\n",
       "ZeroCheckSHX             kW         1.02529e-06\n",
       "ZeroCheckCEHX            kW        -2.07808e-05\n",
       "Q_gen_rect_combo         kW       176.262\n",
       "Q_refrig_side            kW        -5.81476\n",
       "ZeroCheckRect            kg/s       0\n",
       "m_rich                   kg/s       0.512845\n",
       "m_weak                   kg/s       0.41345\n",
       "m_gen_vapor              kg/s       0.101841\n",
       "m_gen_reflux             kg/s       0.00244687\n",
       "m_refrig                 kg/s       0.0993943\n",
       "check_rectifier_delta_T  K         38.2144\n",
       "is_degenerate            bool       0"
      ]
     },
     "execution_count": 9,
     "metadata": {},
     "output_type": "execute_result"
    }
   ],
   "source": [
    "ch.getVariablesTable()"
   ]
  },
  {
   "cell_type": "markdown",
   "metadata": {
    "slideshow": {
     "slide_type": "subslide"
    }
   },
   "source": [
    "I'll also ask for some plots ..."
   ]
  },
  {
   "cell_type": "code",
   "execution_count": 12,
   "metadata": {
    "slideshow": {
     "slide_type": "fragment"
    }
   },
   "outputs": [
    {
     "name": "stderr",
     "output_type": "stream",
     "text": [
      "C:\\Users\\user1\\Miniconda3\\envs\\openachp\\lib\\site-packages\\scipy\\interpolate\\_cubic.py:147: RuntimeWarning: divide by zero encountered in true_divide\n",
      "  mk = (y[1:] - y[:-1]) / hk\n",
      "C:\\Users\\user1\\Miniconda3\\envs\\openachp\\lib\\site-packages\\scipy\\interpolate\\_cubic.py:165: RuntimeWarning: invalid value encountered in true_divide\n",
      "  whmean = (w1/mk[:-1] + w2/mk[1:]) / (w1 + w2)\n"
     ]
    },
    {
     "data": {
      "image/png": "[encoded data removed]",
      "text/plain": [
       "<matplotlib.figure.Figure at 0x798a1f0>"
      ]
     },
     "metadata": {},
     "output_type": "display_data"
    },
    {
     "data": {
      "image/png": "[encoded data removed]",
      "text/plain": [
       "<matplotlib.figure.Figure at 0x7de6a90>"
      ]
     },
     "metadata": {},
     "output_type": "display_data"
    },
    {
     "data": {
      "image/png": "[encoded data removed]",
      "text/plain": [
       "<matplotlib.figure.Figure at 0x7e3da70>"
      ]
     },
     "metadata": {},
     "output_type": "display_data"
    }
   ],
   "source": [
    "ch.display()\n",
    "plt.show()"
   ]
  },
  {
   "cell_type": "markdown",
   "metadata": {
    "slideshow": {
     "slide_type": "subslide"
    }
   },
   "source": [
    "The first one shows heat vs temperature curves for each of the heat exchangers facing the external streams. Temperature is measured on the internal side of the heat exchanger. These curves are used to calculate heat exchanger size vs. total heat rate."
   ]
  },
  {
   "cell_type": "markdown",
   "metadata": {
    "slideshow": {
     "slide_type": "subslide"
    }
   },
   "source": [
    "The other two show some heat exchangers that are entirely internal, ie not facing the external streams. These were specified with effectiveness, so I don't need to calculate anything. But we can see that the curves are not linear because specific heats are changing or phase change is occuring through the process."
   ]
  },
  {
   "cell_type": "markdown",
   "metadata": {
    "slideshow": {
     "slide_type": "slide"
    }
   },
   "source": [
    "## System\n",
    "Next I'll couple the boundary and chiller into a system object. I'll use it to evaluate the heat exchange parameters:"
   ]
  },
  {
   "cell_type": "code",
   "execution_count": 13,
   "metadata": {
    "slideshow": {
     "slide_type": "fragment"
    }
   },
   "outputs": [
    {
     "name": "stderr",
     "output_type": "stream",
     "text": [
      "C:\\Users\\user1\\Miniconda3\\envs\\openachp\\lib\\site-packages\\scipy\\interpolate\\_cubic.py:147: RuntimeWarning: divide by zero encountered in true_divide\n",
      "  mk = (y[1:] - y[:-1]) / hk\n",
      "C:\\Users\\user1\\Miniconda3\\envs\\openachp\\lib\\site-packages\\scipy\\interpolate\\_cubic.py:165: RuntimeWarning: invalid value encountered in true_divide\n",
      "  whmean = (w1/mk[:-1] + w2/mk[1:]) / (w1 + w2)\n"
     ]
    },
    {
     "data": {
      "text/html": [
       "<table>\n",
       "<thead>\n",
       "<tr><th>name  </th><th style=\"text-align: right;\">  deltaT</th><th style=\"text-align: right;\">  epsilon</th><th style=\"text-align: right;\">       UA</th><th style=\"text-align: right;\">       Q</th></tr>\n",
       "</thead>\n",
       "<tbody>\n",
       "<tr><td>gen   </td><td style=\"text-align: right;\"> 5.64522</td><td style=\"text-align: right;\"> 0.890605</td><td style=\"text-align: right;\"> 14.9004 </td><td style=\"text-align: right;\">192.062 </td></tr>\n",
       "<tr><td>rect  </td><td style=\"text-align: right;\"> 8.69718</td><td style=\"text-align: right;\"> 0.783613</td><td style=\"text-align: right;\">  1.04478</td><td style=\"text-align: right;\"> 15.7995</td></tr>\n",
       "<tr><td>abs   </td><td style=\"text-align: right;\"> 5.25513</td><td style=\"text-align: right;\"> 0.735319</td><td style=\"text-align: right;\"> 27.2995 </td><td style=\"text-align: right;\">182.886 </td></tr>\n",
       "<tr><td>cond  </td><td style=\"text-align: right;\"> 2.20854</td><td style=\"text-align: right;\"> 0.967334</td><td style=\"text-align: right;\"> 27.3363 </td><td style=\"text-align: right;\">110.508 </td></tr>\n",
       "<tr><td>evap  </td><td style=\"text-align: right;\"> 1.45034</td><td style=\"text-align: right;\"> 0.982521</td><td style=\"text-align: right;\"> 29.4333 </td><td style=\"text-align: right;\">116.323 </td></tr>\n",
       "<tr><td>total </td><td style=\"text-align: right;\"> 0      </td><td style=\"text-align: right;\"> 0       </td><td style=\"text-align: right;\">100.014  </td><td style=\"text-align: right;\">  0     </td></tr>\n",
       "</tbody>\n",
       "</table>"
      ],
      "text/plain": [
       "name      deltaT    epsilon        UA         Q\n",
       "------  --------  ---------  --------  --------\n",
       "gen      5.64522   0.890605  14.9004   192.062\n",
       "rect     8.69718   0.783613   1.04478   15.7995\n",
       "abs      5.25513   0.735319  27.2995   182.886\n",
       "cond     2.20854   0.967334  27.3363   110.508\n",
       "evap     1.45034   0.982521  29.4333   116.323\n",
       "totalUA = 100.01432883886233"
      ]
     },
     "metadata": {},
     "output_type": "display_data"
    }
   ],
   "source": [
    "sys = system_aqua1.System(boundary=bdry, chiller=ch)\n",
    "display(sys)"
   ]
  },
  {
   "cell_type": "markdown",
   "metadata": {
    "slideshow": {
     "slide_type": "subslide"
    }
   },
   "source": [
    "- deltaT is the temperature difference at the pinch point.\n",
    "- epsilon is the effectiveness\n",
    "- UA is the heat exchanger overall heat transfer coefficient\n",
    "- Q is the heat flow through the exchanger. In this setup, it is determined by the chiller specification."
   ]
  },
  {
   "cell_type": "markdown",
   "metadata": {
    "slideshow": {
     "slide_type": "slide"
    }
   },
   "source": [
    "## Interact\n",
    "Okay, the next thing I want to do is show how we can interact with the model and manually adjust the specification. Jupyter has some useful widgets, but I had to get the ipywidgets package from different conda channel (conda-forge) to get a version compatible with the notebook extensions module (then enable it on command line)."
   ]
  },
  {
   "cell_type": "code",
   "execution_count": 10,
   "metadata": {
    "slideshow": {
     "slide_type": "fragment"
    }
   },
   "outputs": [
    {
     "name": "stdout",
     "output_type": "stream",
     "text": [
      "widgets.__version__ =  7.0.0\n",
      "widgetsnbextension.__version__ =  3.0.2\n",
      "Note: this won't work if the versions are incompatible.\n"
     ]
    }
   ],
   "source": [
    "import ipywidgets as widgets\n",
    "print(\"widgets.__version__ = \",widgets.__version__)\n",
    "import widgetsnbextension\n",
    "print(\"widgetsnbextension.__version__ = \",widgetsnbextension.__version__)\n",
    "print(\"Note: this won't work if the versions are incompatible.\")"
   ]
  },
  {
   "cell_type": "markdown",
   "metadata": {
    "slideshow": {
     "slide_type": "subslide"
    }
   },
   "source": [
    "This cell sets up the widgets ..."
   ]
  },
  {
   "cell_type": "code",
   "execution_count": 11,
   "metadata": {
    "collapsed": true,
    "slideshow": {
     "slide_type": "fragment"
    }
   },
   "outputs": [],
   "source": [
    "%matplotlib inline\n",
    "import ipywidgets as widgets\n",
    "from ipywidgets import interact, interactive, fixed, interact_manual\n",
    "\n",
    "\n",
    "common_opts = dict(\n",
    "    disabled=False,\n",
    "    continuous_update=False,\n",
    "    orientation='horizontal',\n",
    "    readout=True\n",
    ")\n",
    "w_m_rich = widgets.FloatSlider(\n",
    "    value=0.5,\n",
    "    min=0.1,\n",
    "    max=2.0,\n",
    "    step=0.05,\n",
    "    description='m_rich',\n",
    "    readout_format='.2f',\n",
    "    **common_opts\n",
    ")\n",
    "w_T_evap = widgets.FloatSlider(\n",
    "    value=278.0,\n",
    "    min=275.0,\n",
    "    max=285.0,\n",
    "    step=0.1,\n",
    "    description='T_evap',\n",
    "    readout_format='.1f',\n",
    "    **common_opts\n",
    ")\n",
    "w_T_cond = widgets.FloatSlider(\n",
    "    value= 312.2,\n",
    "    min=290,\n",
    "    max=330,\n",
    "    step=0.1,\n",
    "    description='T_cond',\n",
    "    readout_format='.1f',\n",
    "    **common_opts\n",
    ")\n",
    "w_T_rect = widgets.FloatSlider(\n",
    "    value=313.7,\n",
    "    min=290.0,\n",
    "    max=330.0,\n",
    "    step=0.1,\n",
    "    description='T_rect',\n",
    "    readout_format='.1f',\n",
    "    **common_opts\n",
    ")\n",
    "w_T_abs_outlet = widgets.FloatSlider(\n",
    "    value=310.2,\n",
    "    min=290.0,\n",
    "    max=330.0,\n",
    "    step=0.1,\n",
    "    description='T_abs_outlet',\n",
    "    readout_format='.1f',\n",
    "    **common_opts\n",
    ")\n",
    "w_T_gen_outlet = widgets.FloatSlider(\n",
    "    value=374.1,\n",
    "    min=360.0,\n",
    "    max=400.0,\n",
    "    step=0.1,\n",
    "    description='T_gen_outlet',\n",
    "    readout_format='.1f',\n",
    "    **common_opts\n",
    ")"
   ]
  },
  {
   "cell_type": "markdown",
   "metadata": {
    "slideshow": {
     "slide_type": "subslide"
    }
   },
   "source": [
    "And this cell launches the interaction handler..."
   ]
  },
  {
   "cell_type": "code",
   "execution_count": 17,
   "metadata": {
    "slideshow": {
     "slide_type": "fragment"
    }
   },
   "outputs": [
    {
     "data": {
      "application/vnd.jupyter.widget-view+json": {
       "model_id": "e393b1eb37994ee7b5b94ae924643192",
       "version_major": 2,
       "version_minor": 0
      },
      "text/plain": [
       "A Jupyter Widget"
      ]
     },
     "metadata": {},
     "output_type": "display_data"
    }
   ],
   "source": [
    "modes = ['chiller glob','chiller state points','chiller performance','chiller plots','system text']\n",
    "def f(m_rich, T_evap, T_cond, T_rect, T_abs_outlet, T_gen_outlet, mode='system text'):\n",
    "    xC = (m_rich, T_evap, T_cond, T_rect, T_abs_outlet, T_gen_outlet)\n",
    "    ch = system_aqua1.makeChiller(xC)\n",
    "    if mode == modes[0]:\n",
    "        display(ch)\n",
    "    elif mode == modes[1]:\n",
    "        display(ch.getStateTable())\n",
    "    elif mode == modes[2]:\n",
    "        display(ch.getVariablesTable())\n",
    "    elif mode == modes[3]:\n",
    "        ch.display()\n",
    "        plt.plot()\n",
    "    elif mode == modes[4]:\n",
    "        sys = system_aqua1.System(boundary=bdry, chiller=ch)\n",
    "        display(sys)\n",
    "        \n",
    "#widgets.VBox(w_m_rich,w_T_evap,w_T_cond,w_T_rect,w_T_abs_outlet,w_T_gen_outlet)\n",
    "interactive(f,\n",
    "            m_rich=w_m_rich,\n",
    "            T_evap=w_T_evap,\n",
    "            T_cond=w_T_cond,\n",
    "            T_rect=w_T_rect,\n",
    "            T_abs_outlet=w_T_abs_outlet,\n",
    "            T_gen_outlet=w_T_gen_outlet,\n",
    "            mode=modes)"
   ]
  },
  {
   "cell_type": "markdown",
   "metadata": {
    "slideshow": {
     "slide_type": "subslide"
    }
   },
   "source": [
    "Now I can play with the inputs and see how the system responds ..."
   ]
  },
  {
   "cell_type": "markdown",
   "metadata": {
    "slideshow": {
     "slide_type": "fragment"
    }
   },
   "source": [
    "<iframe width=\"560\" height=\"315\" src=\"https://www.youtube.com/embed/LRm-7PI_vmM\" frameborder=\"0\" allowfullscreen></iframe>\n"
   ]
  },
  {
   "cell_type": "markdown",
   "metadata": {
    "slideshow": {
     "slide_type": "slide"
    }
   },
   "source": [
    "## What next?\n",
    "Where do we go with this? For the purpose of fiddling with the inputs, we could implement a web app not requiring the Jupyter Notebook. However, at the moment the code is designed to run on server-side Python, so there would be some hosting cost for a reasonable amount of CPU time, or we would need our own server. Implementing a client-side model in javascript would be subject to the considerable challenge of getting fluid properties and convenience libraries. So, most likely I will publish it as a Python package."
   ]
  },
  {
   "cell_type": "markdown",
   "metadata": {
    "slideshow": {
     "slide_type": "fragment"
    }
   },
   "source": [
    "## That's it!\n",
    "Please contact me for questions."
   ]
  },
  {
   "cell_type": "code",
   "execution_count": null,
   "metadata": {
    "collapsed": true,
    "slideshow": {
     "slide_type": "skip"
    }
   },
   "outputs": [],
   "source": []
  }
 ],
 "metadata": {
  "celltoolbar": "Slideshow",
  "kernelspec": {
   "display_name": "Python 3",
   "language": "python",
   "name": "python3"
  },
  "language_info": {
   "codemirror_mode": {
    "name": "ipython",
    "version": 3
   },
   "file_extension": ".py",
   "mimetype": "text/x-python",
   "name": "python",
   "nbconvert_exporter": "python",
   "pygments_lexer": "ipython3",
   "version": "3.6.2"
  }
 },
 "nbformat": 4,
 "nbformat_minor": 2
}
