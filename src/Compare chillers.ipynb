{
 "cells": [
  {
   "cell_type": "code",
   "execution_count": 1,
   "metadata": {
    "collapsed": false
   },
   "outputs": [],
   "source": [
    "import pint\n",
    "import HRHX_integral_model\n",
    "import ammonia1\n",
    "import libr3\n",
    "# Needs update for python 3\n",
    "#import ejector\n",
    "import adsorption\n",
    "from IPython import display"
   ]
  },
  {
   "cell_type": "code",
   "execution_count": 2,
   "metadata": {
    "collapsed": false
   },
   "outputs": [],
   "source": [
    "import CoolProp\n",
    "import pint\n",
    "ur = pint.UnitRegistry()\n",
    "c = CoolProp.CoolProp.PropsSI('C','T',353,'P',101325,'Air') * ur.joule / (ur.kilogram * ur.delta_degC)\n",
    "rho = CoolProp.CoolProp.PropsSI('D','T',353,'P',101325,'Air') * ur.kilogram / ur.m**3\n",
    "# Given data\n",
    "volume = 77. * ur.cu_ft / ur.min\n",
    "DeltaT = 80 * ur.delta_degF\n",
    "mass = volume * rho\n",
    "Q = mass * c * DeltaT"
   ]
  },
  {
   "cell_type": "code",
   "execution_count": 3,
   "metadata": {
    "collapsed": false
   },
   "outputs": [
    {
     "data": {
      "text/html": [
       "1009.4471135308875 joule/(delta_degC kilogram)"
      ],
      "text/latex": [
       "$1009.4471135308875 \\frac{joule}{\\left(delta_degC \\cdot kilogram\\right)}$"
      ],
      "text/plain": [
       "<Quantity(1009.4471135308875, 'joule / delta_degC / kilogram')>"
      ]
     },
     "execution_count": 3,
     "metadata": {},
     "output_type": "execute_result"
    }
   ],
   "source": [
    "c"
   ]
  },
  {
   "cell_type": "code",
   "execution_count": 4,
   "metadata": {
    "collapsed": false
   },
   "outputs": [
    {
     "data": {
      "text/html": [
       "0.9999408230322755 kilogram/meter<sup>3</sup>"
      ],
      "text/latex": [
       "$0.9999408230322755 \\frac{kilogram}{meter^{3}}$"
      ],
      "text/plain": [
       "<Quantity(0.9999408230322755, 'kilogram / meter ** 3')>"
      ]
     },
     "execution_count": 4,
     "metadata": {},
     "output_type": "execute_result"
    }
   ],
   "source": [
    "rho"
   ]
  },
  {
   "cell_type": "code",
   "execution_count": 5,
   "metadata": {
    "collapsed": false
   },
   "outputs": [
    {
     "data": {
      "text/html": [
       "0.03633780263816672 kilogram/second"
      ],
      "text/latex": [
       "$0.03633780263816672 \\frac{kilogram}{second}$"
      ],
      "text/plain": [
       "<Quantity(0.03633780263816672, 'kilogram / second')>"
      ]
     },
     "execution_count": 5,
     "metadata": {},
     "output_type": "execute_result"
    }
   ],
   "source": [
    "mass.to_base_units()"
   ]
  },
  {
   "cell_type": "code",
   "execution_count": 6,
   "metadata": {
    "collapsed": false
   },
   "outputs": [
    {
     "data": {
      "text/html": [
       "1630.2706660067763 watt"
      ],
      "text/latex": [
       "$1630.2706660067763 watt$"
      ],
      "text/plain": [
       "<Quantity(1630.2706660067763, 'watt')>"
      ]
     },
     "execution_count": 6,
     "metadata": {},
     "output_type": "execute_result"
    }
   ],
   "source": [
    "Q.to(ur.watt)"
   ]
  },
  {
   "cell_type": "code",
   "execution_count": 7,
   "metadata": {
    "collapsed": true
   },
   "outputs": [],
   "source": [
    "spec = adsorption.AdsorptionChillerSpec()\n",
    "ctrl = adsorption.AdsorptionChillerControl()"
   ]
  },
  {
   "cell_type": "code",
   "execution_count": 8,
   "metadata": {
    "collapsed": false
   },
   "outputs": [
    {
     "data": {
      "text/plain": [
       "<adsorption.AdsorptionChillerSpec at 0x8893090>"
      ]
     },
     "execution_count": 8,
     "metadata": {},
     "output_type": "execute_result"
    }
   ],
   "source": [
    "spec"
   ]
  },
  {
   "cell_type": "code",
   "execution_count": null,
   "metadata": {
    "collapsed": true
   },
   "outputs": [],
   "source": [
    "adsorption.AdsorptionChiller(spec=)"
   ]
  }
 ],
 "metadata": {
  "kernelspec": {
   "display_name": "Python 3",
   "language": "python",
   "name": "python3"
  },
  "language_info": {
   "codemirror_mode": {
    "name": "ipython",
    "version": 3
   },
   "file_extension": ".py",
   "mimetype": "text/x-python",
   "name": "python",
   "nbconvert_exporter": "python",
   "pygments_lexer": "ipython3",
   "version": "3.5.2"
  }
 },
 "nbformat": 4,
 "nbformat_minor": 1
}
